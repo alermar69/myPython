{
 "cells": [
  {
   "cell_type": "code",
   "execution_count": 11,
   "outputs": [
    {
     "ename": "ModuleNotFoundError",
     "evalue": "No module named 'telegram'",
     "output_type": "error",
     "traceback": [
      "\u001B[1;31m---------------------------------------------------------------------------\u001B[0m",
      "\u001B[1;31mModuleNotFoundError\u001B[0m                       Traceback (most recent call last)",
      "\u001B[1;32m~\\AppData\\Local\\Temp/ipykernel_19424/2611523970.py\u001B[0m in \u001B[0;36m<module>\u001B[1;34m\u001B[0m\n\u001B[0;32m      3\u001B[0m \u001B[1;32mfrom\u001B[0m \u001B[0myaml\u001B[0m \u001B[1;32mimport\u001B[0m \u001B[0mload\u001B[0m\u001B[1;33m,\u001B[0m \u001B[0mFullLoader\u001B[0m\u001B[1;33m\u001B[0m\u001B[1;33m\u001B[0m\u001B[0m\n\u001B[0;32m      4\u001B[0m \u001B[1;31m# import config\u001B[0m\u001B[1;33m\u001B[0m\u001B[1;33m\u001B[0m\u001B[1;33m\u001B[0m\u001B[0m\n\u001B[1;32m----> 5\u001B[1;33m \u001B[1;32mimport\u001B[0m \u001B[0mtelegram\u001B[0m\u001B[1;33m\u001B[0m\u001B[1;33m\u001B[0m\u001B[0m\n\u001B[0m",
      "\u001B[1;31mModuleNotFoundError\u001B[0m: No module named 'telegram'"
     ]
    }
   ],
   "source": [
    "# Телеграм бот\n",
    "import telebot\n",
    "from yaml import load, FullLoader\n",
    "# import config\n"
   ],
   "metadata": {
    "collapsed": false,
    "pycharm": {
     "name": "#%%\n"
    }
   }
  },
  {
   "cell_type": "code",
   "execution_count": 4,
   "outputs": [
    {
     "data": {
      "text/plain": "'738374759:AAErZCewiO_3Pv3TgtQTc0xDn8UfKqAhfSk'"
     },
     "execution_count": 4,
     "metadata": {},
     "output_type": "execute_result"
    }
   ],
   "source": [
    "#Импортируем токен бота в переменную token из файла configT.yaml\n",
    "with open('configT.yaml', 'r') as f:\n",
    "    config = load(f, Loader=FullLoader)\n",
    "token = config['bot_token']\n",
    "token"
   ],
   "metadata": {
    "collapsed": false,
    "pycharm": {
     "name": "#%%\n"
    }
   }
  },
  {
   "cell_type": "code",
   "execution_count": 12,
   "outputs": [
    {
     "ename": "NameError",
     "evalue": "name 'telegram' is not defined",
     "output_type": "error",
     "traceback": [
      "\u001B[1;31m---------------------------------------------------------------------------\u001B[0m",
      "\u001B[1;31mNameError\u001B[0m                                 Traceback (most recent call last)",
      "\u001B[1;32m~\\AppData\\Local\\Temp/ipykernel_19424/2006781102.py\u001B[0m in \u001B[0;36m<module>\u001B[1;34m\u001B[0m\n\u001B[0;32m      1\u001B[0m \u001B[1;31m# bot = telebot.TeleBot(token)\u001B[0m\u001B[1;33m\u001B[0m\u001B[1;33m\u001B[0m\u001B[1;33m\u001B[0m\u001B[0m\n\u001B[1;32m----> 2\u001B[1;33m \u001B[0mbot\u001B[0m \u001B[1;33m=\u001B[0m \u001B[0mtelegram\u001B[0m\u001B[1;33m.\u001B[0m\u001B[0mBot\u001B[0m\u001B[1;33m(\u001B[0m\u001B[0mtoken\u001B[0m\u001B[1;33m)\u001B[0m\u001B[1;33m\u001B[0m\u001B[1;33m\u001B[0m\u001B[0m\n\u001B[0m",
      "\u001B[1;31mNameError\u001B[0m: name 'telegram' is not defined"
     ]
    }
   ],
   "source": [
    "\n",
    "# bot = telebot.TeleBot(token)\n",
    "bot = telegram.Bot(token)"
   ],
   "metadata": {
    "collapsed": false,
    "pycharm": {
     "name": "#%%\n"
    }
   }
  },
  {
   "cell_type": "code",
   "execution_count": 9,
   "outputs": [
    {
     "name": "stdout",
     "output_type": "stream",
     "text": [
      "ok\n",
      "error\n"
     ]
    }
   ],
   "source": [
    "#Посмотрим список последних сообщений бота:\n",
    "for last_update in bot.getUpdates():\n",
    "    print(last_update)"
   ],
   "metadata": {
    "collapsed": false,
    "pycharm": {
     "name": "#%%\n"
    }
   }
  },
  {
   "cell_type": "code",
   "execution_count": 6,
   "outputs": [
    {
     "ename": "AttributeError",
     "evalue": "'TeleBot' object has no attribute 'message_handler'",
     "output_type": "error",
     "traceback": [
      "\u001B[1;31m---------------------------------------------------------------------------\u001B[0m",
      "\u001B[1;31mAttributeError\u001B[0m                            Traceback (most recent call last)",
      "\u001B[1;32m~\\AppData\\Local\\Temp/ipykernel_19424/3485327536.py\u001B[0m in \u001B[0;36m<module>\u001B[1;34m\u001B[0m\n\u001B[0;32m      1\u001B[0m \u001B[1;31m# Обработка команды старт\u001B[0m\u001B[1;33m\u001B[0m\u001B[1;33m\u001B[0m\u001B[1;33m\u001B[0m\u001B[0m\n\u001B[1;32m----> 2\u001B[1;33m \u001B[1;33m@\u001B[0m\u001B[0mbot\u001B[0m\u001B[1;33m.\u001B[0m\u001B[0mmessage_handler\u001B[0m\u001B[1;33m(\u001B[0m\u001B[0mcommands\u001B[0m\u001B[1;33m=\u001B[0m\u001B[1;33m[\u001B[0m\u001B[1;34m'start'\u001B[0m\u001B[1;33m]\u001B[0m\u001B[1;33m)\u001B[0m\u001B[1;33m\u001B[0m\u001B[1;33m\u001B[0m\u001B[0m\n\u001B[0m\u001B[0;32m      3\u001B[0m \u001B[1;32mdef\u001B[0m \u001B[0mstart_message\u001B[0m\u001B[1;33m(\u001B[0m\u001B[0mmessage\u001B[0m\u001B[1;33m)\u001B[0m\u001B[1;33m:\u001B[0m\u001B[1;33m\u001B[0m\u001B[1;33m\u001B[0m\u001B[0m\n\u001B[0;32m      4\u001B[0m     \u001B[0mbot\u001B[0m\u001B[1;33m.\u001B[0m\u001B[0msend_message\u001B[0m\u001B[1;33m(\u001B[0m\u001B[0mmessage\u001B[0m\u001B[1;33m.\u001B[0m\u001B[0mchat\u001B[0m\u001B[1;33m.\u001B[0m\u001B[0mid\u001B[0m\u001B[1;33m,\u001B[0m \u001B[1;34m'Привет, я бот-помощник, чем я могу тебе помочь?'\u001B[0m\u001B[1;33m)\u001B[0m\u001B[1;33m\u001B[0m\u001B[1;33m\u001B[0m\u001B[0m\n",
      "\u001B[1;31mAttributeError\u001B[0m: 'TeleBot' object has no attribute 'message_handler'"
     ]
    }
   ],
   "source": [
    "bot.send_message(message.chat.id, 'Привет, я бот-помощник, чем я могу тебе помочь?')"
   ],
   "metadata": {
    "collapsed": false,
    "pycharm": {
     "name": "#%%\n"
    }
   }
  },
  {
   "cell_type": "code",
   "execution_count": null,
   "outputs": [],
   "source": [
    "\n",
    "# Обработка команды старт\n",
    "@bot.message_handler(commands=['start'])\n",
    "def start_message(message):\n",
    "    bot.send_message(message.chat.id, 'Привет, я бот-помощник, чем я могу тебе помочь?')\n",
    "\n",
    "# Обработка текстовых сообщений\n",
    "@bot.message_handler(content_types=['text'])\n",
    "def send_text(message):\n",
    "    if message.text.lower() == 'привет':\n",
    "        bot.send_message(message.chat.id, 'Привет, чем я могу тебе помочь?')\n",
    "    elif message.text.lower() == 'пока':\n",
    "        bot.send_message(message.chat.id, 'Пока, до свидания!')\n",
    "    else:\n",
    "        bot.send_message(message.chat.id, 'Я тебя не понимаю. Напиши \"Привет\".')\n",
    "\n",
    "# Обработка команды хелп\n",
    "@bot.message_handler(commands=['help'])\n",
    "def help_message(message):\n",
    "    bot.send_message(message.chat.id, 'Напиши мне \"Привет\"')\n",
    "\n",
    "# Обработка команды стоп\n",
    "@bot.message_handler(commands=['stop'])\n",
    "def stop_message(message):\n",
    "    markup = types.ReplyKeyboardRemove(selective=False)\n",
    "    bot.send_message(message.chat.id, 'Хорошо, до свидания!', reply_markup=markup)\n",
    "\n",
    "# Обработка команды старт\n",
    "@bot.message_handler(commands=['start'])\n",
    "def start_message(message):\n",
    "    markup = types.ReplyKeyboardMarkup(resize_keyboard=True)\n",
    "    item1 = types.KeyboardButton(\"Привет\")\n",
    "    item2 = types.KeyboardButton(\"Пока\")\n",
    "\n",
    "    markup.add(item1, item2)\n",
    "\n",
    "    bot.send_message(message.chat.id, 'Привет, я бот-помощник, чем я могу тебе помочь?', reply_markup=markup)\n",
    "\n",
    "bot.polling()\n"
   ],
   "metadata": {
    "collapsed": false,
    "pycharm": {
     "name": "#%%\n"
    }
   }
  },
  {
   "cell_type": "code",
   "execution_count": null,
   "outputs": [],
   "source": [
    "# Телеграм бот\n",
    "import telebot\n",
    "import config\n",
    "from telebot import types\n",
    "\n",
    "bot = telebot.TeleBot(config.token)\n",
    "\n",
    "# Обработка команды старт\n",
    "@bot.message_handler(commands=['start'])\n",
    "def start_message(message):\n",
    "    bot.send_message(message.chat.id, 'Привет, я бот-помощ\n",
    "import telebot\n"
   ],
   "metadata": {
    "collapsed": false,
    "pycharm": {
     "name": "#%%\n"
    }
   }
  },
  {
   "cell_type": "code",
   "execution_count": null,
   "outputs": [],
   "source": [],
   "metadata": {
    "collapsed": false,
    "pycharm": {
     "name": "#%%\n"
    }
   }
  }
 ],
 "metadata": {
  "kernelspec": {
   "display_name": "Python 3",
   "language": "python",
   "name": "python3"
  },
  "language_info": {
   "codemirror_mode": {
    "name": "ipython",
    "version": 2
   },
   "file_extension": ".py",
   "mimetype": "text/x-python",
   "name": "python",
   "nbconvert_exporter": "python",
   "pygments_lexer": "ipython2",
   "version": "2.7.6"
  }
 },
 "nbformat": 4,
 "nbformat_minor": 0
}