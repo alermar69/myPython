{
 "cells": [
  {
   "cell_type": "code",
   "execution_count": 14,
   "metadata": {
    "collapsed": true,
    "ExecuteTime": {
     "start_time": "2024-02-20T15:26:40.385885Z",
     "end_time": "2024-02-20T15:26:40.392884Z"
    }
   },
   "outputs": [],
   "source": [
    "import urllib\n",
    "from sqlalchemy import create_engine\n",
    "\n",
    "import pyodbc\n",
    "import sqlalchemy\n",
    "import pandas as pd\n",
    "import numpy as np\n",
    "import time\n",
    "from urllib.parse import quote_plus\n",
    "import sys\n",
    "import math"
   ]
  },
  {
   "cell_type": "code",
   "execution_count": null,
   "outputs": [],
   "source": [
    "# params = urllib.parse.quote_plus(\"DRIVER={SQL Server Native Client 11.0};SERVER=dagger;DATABASE=fabr\")\n",
    "#\n",
    "# engine = create_engine(\"mssql+pyodbc:///?odbc_connect=%s\" % params)"
   ],
   "metadata": {
    "collapsed": false
   }
  },
  {
   "cell_type": "code",
   "execution_count": 20,
   "outputs": [],
   "source": [
    "server = 'localhost'\n",
    "database = 'fabr'\n",
    "\n",
    "# engine = sqlalchemy.create_engine('mssql+pyodbc://' + server + '/' + database + '?trusted_connection=yes&driver=ODBC+Driver+13+for+SQL+Server')\n",
    "engine = sqlalchemy.create_engine('mssql+pyodbc://' + server + '/' + database + '?trusted_connection=yes&driver=SQL+Server+Native+Client+11.0')"
   ],
   "metadata": {
    "collapsed": false,
    "ExecuteTime": {
     "start_time": "2024-02-20T15:32:15.644116Z",
     "end_time": "2024-02-20T15:32:15.668118Z"
    }
   }
  },
  {
   "cell_type": "code",
   "execution_count": 15,
   "outputs": [],
   "source": [
    "servername = 'localhost'\n",
    "databasename = 'fabr'\n",
    "connection_url = sqlalchemy.engine.URL.create(\"mssql+pyodbc\",database=databasename, host=servername, query = {'driver':'SQL Server'})\n",
    "\n",
    "engine = sqlalchemy.create_engine(connection_url)"
   ],
   "metadata": {
    "collapsed": false,
    "ExecuteTime": {
     "start_time": "2024-02-20T15:27:15.865848Z",
     "end_time": "2024-02-20T15:27:15.881850Z"
    }
   }
  },
  {
   "cell_type": "code",
   "execution_count": 30,
   "outputs": [],
   "source": [
    "engine = sqlalchemy.create_engine('mssql+pyodbc://DESKTOP-SFHJLGK/fabr?driver=SQL+Server',echo = True)"
   ],
   "metadata": {
    "collapsed": false,
    "ExecuteTime": {
     "start_time": "2024-02-20T15:46:39.323432Z",
     "end_time": "2024-02-20T15:46:39.346432Z"
    }
   }
  },
  {
   "cell_type": "code",
   "execution_count": null,
   "outputs": [],
   "source": [],
   "metadata": {
    "collapsed": false
   }
  },
  {
   "cell_type": "code",
   "execution_count": 36,
   "outputs": [
    {
     "name": "stdout",
     "output_type": "stream",
     "text": [
      "2024-02-20 15:50:36,705 INFO sqlalchemy.engine.Engine BEGIN (implicit)\n",
      "2024-02-20 15:50:36,706 INFO sqlalchemy.engine.Engine SELECT [INFORMATION_SCHEMA].[TABLES].[TABLE_NAME] \n",
      "FROM [INFORMATION_SCHEMA].[TABLES] \n",
      "WHERE ([INFORMATION_SCHEMA].[TABLES].[TABLE_TYPE] = CAST(? AS NVARCHAR(max)) OR [INFORMATION_SCHEMA].[TABLES].[TABLE_TYPE] = CAST(? AS NVARCHAR(max))) AND [INFORMATION_SCHEMA].[TABLES].[TABLE_NAME] = CAST(? AS NVARCHAR(max)) AND [INFORMATION_SCHEMA].[TABLES].[TABLE_SCHEMA] = CAST(? AS NVARCHAR(max))\n",
      "2024-02-20 15:50:36,707 INFO sqlalchemy.engine.Engine [cached since 236.2s ago] ('BASE TABLE', 'VIEW', 'SELECT * FROM [marshrut]', 'dbo')\n",
      "2024-02-20 15:50:36,708 INFO sqlalchemy.engine.Engine SELECT * FROM [marshrut]\n",
      "2024-02-20 15:50:36,709 INFO sqlalchemy.engine.Engine [raw sql] ()\n",
      "2024-02-20 15:50:36,713 INFO sqlalchemy.engine.Engine ROLLBACK\n"
     ]
    },
    {
     "data": {
      "text/plain": "Empty DataFrame\nColumns: [id, bm, em, tm]\nIndex: []",
      "text/html": "<div>\n<style scoped>\n    .dataframe tbody tr th:only-of-type {\n        vertical-align: middle;\n    }\n\n    .dataframe tbody tr th {\n        vertical-align: top;\n    }\n\n    .dataframe thead th {\n        text-align: right;\n    }\n</style>\n<table border=\"1\" class=\"dataframe\">\n  <thead>\n    <tr style=\"text-align: right;\">\n      <th></th>\n      <th>id</th>\n      <th>bm</th>\n      <th>em</th>\n      <th>tm</th>\n    </tr>\n  </thead>\n  <tbody>\n  </tbody>\n</table>\n</div>"
     },
     "execution_count": 36,
     "metadata": {},
     "output_type": "execute_result"
    }
   ],
   "source": [
    "query = 'SELECT * FROM [marshrut]'\n",
    "df1 = pd.read_sql(query, engine)\n",
    "df1"
   ],
   "metadata": {
    "collapsed": false,
    "ExecuteTime": {
     "start_time": "2024-02-20T15:50:36.706203Z",
     "end_time": "2024-02-20T15:50:36.733208Z"
    }
   }
  },
  {
   "cell_type": "code",
   "execution_count": 37,
   "outputs": [
    {
     "name": "stderr",
     "output_type": "stream",
     "text": [
      "C:\\Users\\Alex\\AppData\\Local\\Temp\\ipykernel_11576\\4178439100.py:8: UserWarning: pandas only supports SQLAlchemy connectable (engine/connection) or database string URI or sqlite3 DBAPI2 connection. Other DBAPI2 objects are not tested. Please consider using SQLAlchemy.\n",
      "  result_port_map = pd.read_sql(query, cnxn)\n"
     ]
    },
    {
     "data": {
      "text/plain": "['id', 'bm', 'em', 'tm']"
     },
     "execution_count": 37,
     "metadata": {},
     "output_type": "execute_result"
    }
   ],
   "source": [
    "import pandas as pd, pyodbc\n",
    "con_string = 'DRIVER={SQL Server};SERVER='+ 'DESKTOP-SFHJLGK' +';DATABASE=' + 'fabr'\n",
    "cnxn = pyodbc.connect(con_string)\n",
    "query = \"\"\"\n",
    "  SELECT *\n",
    "  FROM marshrut\n",
    "\"\"\"\n",
    "result_port_map = pd.read_sql(query, cnxn)\n",
    "result_port_map.columns.tolist()"
   ],
   "metadata": {
    "collapsed": false,
    "ExecuteTime": {
     "start_time": "2024-02-20T16:03:09.831707Z",
     "end_time": "2024-02-20T16:03:09.882717Z"
    }
   }
  },
  {
   "cell_type": "code",
   "execution_count": 38,
   "outputs": [
    {
     "data": {
      "text/plain": "   id   bm   em  tm\n0   1   M7  M11   1\n1   2  M11  M23   1\n2   3   M5  M17   1\n3   4  M23  M35   1",
      "text/html": "<div>\n<style scoped>\n    .dataframe tbody tr th:only-of-type {\n        vertical-align: middle;\n    }\n\n    .dataframe tbody tr th {\n        vertical-align: top;\n    }\n\n    .dataframe thead th {\n        text-align: right;\n    }\n</style>\n<table border=\"1\" class=\"dataframe\">\n  <thead>\n    <tr style=\"text-align: right;\">\n      <th></th>\n      <th>id</th>\n      <th>bm</th>\n      <th>em</th>\n      <th>tm</th>\n    </tr>\n  </thead>\n  <tbody>\n    <tr>\n      <th>0</th>\n      <td>1</td>\n      <td>M7</td>\n      <td>M11</td>\n      <td>1</td>\n    </tr>\n    <tr>\n      <th>1</th>\n      <td>2</td>\n      <td>M11</td>\n      <td>M23</td>\n      <td>1</td>\n    </tr>\n    <tr>\n      <th>2</th>\n      <td>3</td>\n      <td>M5</td>\n      <td>M17</td>\n      <td>1</td>\n    </tr>\n    <tr>\n      <th>3</th>\n      <td>4</td>\n      <td>M23</td>\n      <td>M35</td>\n      <td>1</td>\n    </tr>\n  </tbody>\n</table>\n</div>"
     },
     "execution_count": 38,
     "metadata": {},
     "output_type": "execute_result"
    }
   ],
   "source": [
    "ls = [\n",
    "        [1,'M7', 'M11', 1],\n",
    "        [2,'M11', 'M23', 1],\n",
    "        [3,'M5', 'M17', 1],\n",
    "        [4,'M23', 'M35', 1],\n",
    "\n",
    "     ]\n",
    "cols = ['id','bm', 'em', 'tm']\n",
    "df = pd.DataFrame(ls, columns=cols)\n",
    "df"
   ],
   "metadata": {
    "collapsed": false,
    "ExecuteTime": {
     "start_time": "2024-02-20T16:05:14.982792Z",
     "end_time": "2024-02-20T16:05:15.014796Z"
    }
   }
  },
  {
   "cell_type": "code",
   "execution_count": 39,
   "outputs": [
    {
     "name": "stderr",
     "output_type": "stream",
     "text": [
      "C:\\Users\\Alex\\AppData\\Local\\Temp\\ipykernel_11576\\3012104943.py:1: UserWarning: pandas only supports SQLAlchemy connectable (engine/connection) or database string URI or sqlite3 DBAPI2 connection. Other DBAPI2 objects are not tested. Please consider using SQLAlchemy.\n",
      "  df.to_sql('marshrut', cnxn, if_exists=\"append\", index=False)\n"
     ]
    },
    {
     "ename": "DatabaseError",
     "evalue": "Execution failed on sql '\n        SELECT\n            name\n        FROM\n            sqlite_master\n        WHERE\n            type IN ('table', 'view')\n            AND name=?;\n        ': ('42S02', '[42S02] [Microsoft][ODBC SQL Server Driver][SQL Server]Недопустимое имя объекта \"sqlite_master\". (208) (SQLExecDirectW); [42S02] [Microsoft][ODBC SQL Server Driver][SQL Server]Не удалось выполнить подготовку инструкций. (8180)')",
     "output_type": "error",
     "traceback": [
      "\u001B[1;31m---------------------------------------------------------------------------\u001B[0m",
      "\u001B[1;31mProgrammingError\u001B[0m                          Traceback (most recent call last)",
      "File \u001B[1;32mF:\\IT\\IT\\PR\\myPython\\venv\\lib\\site-packages\\pandas\\io\\sql.py:2262\u001B[0m, in \u001B[0;36mSQLiteDatabase.execute\u001B[1;34m(self, sql, params)\u001B[0m\n\u001B[0;32m   2261\u001B[0m \u001B[38;5;28;01mtry\u001B[39;00m:\n\u001B[1;32m-> 2262\u001B[0m     \u001B[43mcur\u001B[49m\u001B[38;5;241;43m.\u001B[39;49m\u001B[43mexecute\u001B[49m\u001B[43m(\u001B[49m\u001B[43msql\u001B[49m\u001B[43m,\u001B[49m\u001B[43m \u001B[49m\u001B[38;5;241;43m*\u001B[39;49m\u001B[43margs\u001B[49m\u001B[43m)\u001B[49m\n\u001B[0;32m   2263\u001B[0m     \u001B[38;5;28;01mreturn\u001B[39;00m cur\n",
      "\u001B[1;31mProgrammingError\u001B[0m: ('42S02', '[42S02] [Microsoft][ODBC SQL Server Driver][SQL Server]Недопустимое имя объекта \"sqlite_master\". (208) (SQLExecDirectW); [42S02] [Microsoft][ODBC SQL Server Driver][SQL Server]Не удалось выполнить подготовку инструкций. (8180)')",
      "\nThe above exception was the direct cause of the following exception:\n",
      "\u001B[1;31mDatabaseError\u001B[0m                             Traceback (most recent call last)",
      "Cell \u001B[1;32mIn[39], line 1\u001B[0m\n\u001B[1;32m----> 1\u001B[0m \u001B[43mdf\u001B[49m\u001B[38;5;241;43m.\u001B[39;49m\u001B[43mto_sql\u001B[49m\u001B[43m(\u001B[49m\u001B[38;5;124;43m'\u001B[39;49m\u001B[38;5;124;43mmarshrut\u001B[39;49m\u001B[38;5;124;43m'\u001B[39;49m\u001B[43m,\u001B[49m\u001B[43m \u001B[49m\u001B[43mcnxn\u001B[49m\u001B[43m,\u001B[49m\u001B[43m \u001B[49m\u001B[43mif_exists\u001B[49m\u001B[38;5;241;43m=\u001B[39;49m\u001B[38;5;124;43m\"\u001B[39;49m\u001B[38;5;124;43mappend\u001B[39;49m\u001B[38;5;124;43m\"\u001B[39;49m\u001B[43m,\u001B[49m\u001B[43m \u001B[49m\u001B[43mindex\u001B[49m\u001B[38;5;241;43m=\u001B[39;49m\u001B[38;5;28;43;01mFalse\u001B[39;49;00m\u001B[43m)\u001B[49m\n",
      "File \u001B[1;32mF:\\IT\\IT\\PR\\myPython\\venv\\lib\\site-packages\\pandas\\util\\_decorators.py:333\u001B[0m, in \u001B[0;36mdeprecate_nonkeyword_arguments.<locals>.decorate.<locals>.wrapper\u001B[1;34m(*args, **kwargs)\u001B[0m\n\u001B[0;32m    327\u001B[0m \u001B[38;5;28;01mif\u001B[39;00m \u001B[38;5;28mlen\u001B[39m(args) \u001B[38;5;241m>\u001B[39m num_allow_args:\n\u001B[0;32m    328\u001B[0m     warnings\u001B[38;5;241m.\u001B[39mwarn(\n\u001B[0;32m    329\u001B[0m         msg\u001B[38;5;241m.\u001B[39mformat(arguments\u001B[38;5;241m=\u001B[39m_format_argument_list(allow_args)),\n\u001B[0;32m    330\u001B[0m         \u001B[38;5;167;01mFutureWarning\u001B[39;00m,\n\u001B[0;32m    331\u001B[0m         stacklevel\u001B[38;5;241m=\u001B[39mfind_stack_level(),\n\u001B[0;32m    332\u001B[0m     )\n\u001B[1;32m--> 333\u001B[0m \u001B[38;5;28;01mreturn\u001B[39;00m func(\u001B[38;5;241m*\u001B[39margs, \u001B[38;5;241m*\u001B[39m\u001B[38;5;241m*\u001B[39mkwargs)\n",
      "File \u001B[1;32mF:\\IT\\IT\\PR\\myPython\\venv\\lib\\site-packages\\pandas\\core\\generic.py:3008\u001B[0m, in \u001B[0;36mNDFrame.to_sql\u001B[1;34m(self, name, con, schema, if_exists, index, index_label, chunksize, dtype, method)\u001B[0m\n\u001B[0;32m   2813\u001B[0m \u001B[38;5;250m\u001B[39m\u001B[38;5;124;03m\"\"\"\u001B[39;00m\n\u001B[0;32m   2814\u001B[0m \u001B[38;5;124;03mWrite records stored in a DataFrame to a SQL database.\u001B[39;00m\n\u001B[0;32m   2815\u001B[0m \n\u001B[1;32m   (...)\u001B[0m\n\u001B[0;32m   3004\u001B[0m \u001B[38;5;124;03m[(1,), (None,), (2,)]\u001B[39;00m\n\u001B[0;32m   3005\u001B[0m \u001B[38;5;124;03m\"\"\"\u001B[39;00m  \u001B[38;5;66;03m# noqa: E501\u001B[39;00m\n\u001B[0;32m   3006\u001B[0m \u001B[38;5;28;01mfrom\u001B[39;00m \u001B[38;5;21;01mpandas\u001B[39;00m\u001B[38;5;21;01m.\u001B[39;00m\u001B[38;5;21;01mio\u001B[39;00m \u001B[38;5;28;01mimport\u001B[39;00m sql\n\u001B[1;32m-> 3008\u001B[0m \u001B[38;5;28;01mreturn\u001B[39;00m \u001B[43msql\u001B[49m\u001B[38;5;241;43m.\u001B[39;49m\u001B[43mto_sql\u001B[49m\u001B[43m(\u001B[49m\n\u001B[0;32m   3009\u001B[0m \u001B[43m    \u001B[49m\u001B[38;5;28;43mself\u001B[39;49m\u001B[43m,\u001B[49m\n\u001B[0;32m   3010\u001B[0m \u001B[43m    \u001B[49m\u001B[43mname\u001B[49m\u001B[43m,\u001B[49m\n\u001B[0;32m   3011\u001B[0m \u001B[43m    \u001B[49m\u001B[43mcon\u001B[49m\u001B[43m,\u001B[49m\n\u001B[0;32m   3012\u001B[0m \u001B[43m    \u001B[49m\u001B[43mschema\u001B[49m\u001B[38;5;241;43m=\u001B[39;49m\u001B[43mschema\u001B[49m\u001B[43m,\u001B[49m\n\u001B[0;32m   3013\u001B[0m \u001B[43m    \u001B[49m\u001B[43mif_exists\u001B[49m\u001B[38;5;241;43m=\u001B[39;49m\u001B[43mif_exists\u001B[49m\u001B[43m,\u001B[49m\n\u001B[0;32m   3014\u001B[0m \u001B[43m    \u001B[49m\u001B[43mindex\u001B[49m\u001B[38;5;241;43m=\u001B[39;49m\u001B[43mindex\u001B[49m\u001B[43m,\u001B[49m\n\u001B[0;32m   3015\u001B[0m \u001B[43m    \u001B[49m\u001B[43mindex_label\u001B[49m\u001B[38;5;241;43m=\u001B[39;49m\u001B[43mindex_label\u001B[49m\u001B[43m,\u001B[49m\n\u001B[0;32m   3016\u001B[0m \u001B[43m    \u001B[49m\u001B[43mchunksize\u001B[49m\u001B[38;5;241;43m=\u001B[39;49m\u001B[43mchunksize\u001B[49m\u001B[43m,\u001B[49m\n\u001B[0;32m   3017\u001B[0m \u001B[43m    \u001B[49m\u001B[43mdtype\u001B[49m\u001B[38;5;241;43m=\u001B[39;49m\u001B[43mdtype\u001B[49m\u001B[43m,\u001B[49m\n\u001B[0;32m   3018\u001B[0m \u001B[43m    \u001B[49m\u001B[43mmethod\u001B[49m\u001B[38;5;241;43m=\u001B[39;49m\u001B[43mmethod\u001B[49m\u001B[43m,\u001B[49m\n\u001B[0;32m   3019\u001B[0m \u001B[43m\u001B[49m\u001B[43m)\u001B[49m\n",
      "File \u001B[1;32mF:\\IT\\IT\\PR\\myPython\\venv\\lib\\site-packages\\pandas\\io\\sql.py:788\u001B[0m, in \u001B[0;36mto_sql\u001B[1;34m(frame, name, con, schema, if_exists, index, index_label, chunksize, dtype, method, engine, **engine_kwargs)\u001B[0m\n\u001B[0;32m    783\u001B[0m     \u001B[38;5;28;01mraise\u001B[39;00m \u001B[38;5;167;01mNotImplementedError\u001B[39;00m(\n\u001B[0;32m    784\u001B[0m         \u001B[38;5;124m\"\u001B[39m\u001B[38;5;124m'\u001B[39m\u001B[38;5;124mframe\u001B[39m\u001B[38;5;124m'\u001B[39m\u001B[38;5;124m argument should be either a Series or a DataFrame\u001B[39m\u001B[38;5;124m\"\u001B[39m\n\u001B[0;32m    785\u001B[0m     )\n\u001B[0;32m    787\u001B[0m \u001B[38;5;28;01mwith\u001B[39;00m pandasSQL_builder(con, schema\u001B[38;5;241m=\u001B[39mschema, need_transaction\u001B[38;5;241m=\u001B[39m\u001B[38;5;28;01mTrue\u001B[39;00m) \u001B[38;5;28;01mas\u001B[39;00m pandas_sql:\n\u001B[1;32m--> 788\u001B[0m     \u001B[38;5;28;01mreturn\u001B[39;00m pandas_sql\u001B[38;5;241m.\u001B[39mto_sql(\n\u001B[0;32m    789\u001B[0m         frame,\n\u001B[0;32m    790\u001B[0m         name,\n\u001B[0;32m    791\u001B[0m         if_exists\u001B[38;5;241m=\u001B[39mif_exists,\n\u001B[0;32m    792\u001B[0m         index\u001B[38;5;241m=\u001B[39mindex,\n\u001B[0;32m    793\u001B[0m         index_label\u001B[38;5;241m=\u001B[39mindex_label,\n\u001B[0;32m    794\u001B[0m         schema\u001B[38;5;241m=\u001B[39mschema,\n\u001B[0;32m    795\u001B[0m         chunksize\u001B[38;5;241m=\u001B[39mchunksize,\n\u001B[0;32m    796\u001B[0m         dtype\u001B[38;5;241m=\u001B[39mdtype,\n\u001B[0;32m    797\u001B[0m         method\u001B[38;5;241m=\u001B[39mmethod,\n\u001B[0;32m    798\u001B[0m         engine\u001B[38;5;241m=\u001B[39mengine,\n\u001B[0;32m    799\u001B[0m         \u001B[38;5;241m*\u001B[39m\u001B[38;5;241m*\u001B[39mengine_kwargs,\n\u001B[0;32m    800\u001B[0m     )\n",
      "File \u001B[1;32mF:\\IT\\IT\\PR\\myPython\\venv\\lib\\site-packages\\pandas\\io\\sql.py:2438\u001B[0m, in \u001B[0;36mSQLiteDatabase.to_sql\u001B[1;34m(self, frame, name, if_exists, index, index_label, schema, chunksize, dtype, method, engine, **engine_kwargs)\u001B[0m\n\u001B[0;32m   2427\u001B[0m             \u001B[38;5;28;01mraise\u001B[39;00m \u001B[38;5;167;01mValueError\u001B[39;00m(\u001B[38;5;124mf\u001B[39m\u001B[38;5;124m\"\u001B[39m\u001B[38;5;132;01m{\u001B[39;00mcol\u001B[38;5;132;01m}\u001B[39;00m\u001B[38;5;124m (\u001B[39m\u001B[38;5;132;01m{\u001B[39;00mmy_type\u001B[38;5;132;01m}\u001B[39;00m\u001B[38;5;124m) not a string\u001B[39m\u001B[38;5;124m\"\u001B[39m)\n\u001B[0;32m   2429\u001B[0m table \u001B[38;5;241m=\u001B[39m SQLiteTable(\n\u001B[0;32m   2430\u001B[0m     name,\n\u001B[0;32m   2431\u001B[0m     \u001B[38;5;28mself\u001B[39m,\n\u001B[1;32m   (...)\u001B[0m\n\u001B[0;32m   2436\u001B[0m     dtype\u001B[38;5;241m=\u001B[39mdtype,\n\u001B[0;32m   2437\u001B[0m )\n\u001B[1;32m-> 2438\u001B[0m \u001B[43mtable\u001B[49m\u001B[38;5;241;43m.\u001B[39;49m\u001B[43mcreate\u001B[49m\u001B[43m(\u001B[49m\u001B[43m)\u001B[49m\n\u001B[0;32m   2439\u001B[0m \u001B[38;5;28;01mreturn\u001B[39;00m table\u001B[38;5;241m.\u001B[39minsert(chunksize, method)\n",
      "File \u001B[1;32mF:\\IT\\IT\\PR\\myPython\\venv\\lib\\site-packages\\pandas\\io\\sql.py:925\u001B[0m, in \u001B[0;36mSQLTable.create\u001B[1;34m(self)\u001B[0m\n\u001B[0;32m    924\u001B[0m \u001B[38;5;28;01mdef\u001B[39;00m \u001B[38;5;21mcreate\u001B[39m(\u001B[38;5;28mself\u001B[39m) \u001B[38;5;241m-\u001B[39m\u001B[38;5;241m>\u001B[39m \u001B[38;5;28;01mNone\u001B[39;00m:\n\u001B[1;32m--> 925\u001B[0m     \u001B[38;5;28;01mif\u001B[39;00m \u001B[38;5;28;43mself\u001B[39;49m\u001B[38;5;241;43m.\u001B[39;49m\u001B[43mexists\u001B[49m\u001B[43m(\u001B[49m\u001B[43m)\u001B[49m:\n\u001B[0;32m    926\u001B[0m         \u001B[38;5;28;01mif\u001B[39;00m \u001B[38;5;28mself\u001B[39m\u001B[38;5;241m.\u001B[39mif_exists \u001B[38;5;241m==\u001B[39m \u001B[38;5;124m\"\u001B[39m\u001B[38;5;124mfail\u001B[39m\u001B[38;5;124m\"\u001B[39m:\n\u001B[0;32m    927\u001B[0m             \u001B[38;5;28;01mraise\u001B[39;00m \u001B[38;5;167;01mValueError\u001B[39;00m(\u001B[38;5;124mf\u001B[39m\u001B[38;5;124m\"\u001B[39m\u001B[38;5;124mTable \u001B[39m\u001B[38;5;124m'\u001B[39m\u001B[38;5;132;01m{\u001B[39;00m\u001B[38;5;28mself\u001B[39m\u001B[38;5;241m.\u001B[39mname\u001B[38;5;132;01m}\u001B[39;00m\u001B[38;5;124m'\u001B[39m\u001B[38;5;124m already exists.\u001B[39m\u001B[38;5;124m\"\u001B[39m)\n",
      "File \u001B[1;32mF:\\IT\\IT\\PR\\myPython\\venv\\lib\\site-packages\\pandas\\io\\sql.py:911\u001B[0m, in \u001B[0;36mSQLTable.exists\u001B[1;34m(self)\u001B[0m\n\u001B[0;32m    910\u001B[0m \u001B[38;5;28;01mdef\u001B[39;00m \u001B[38;5;21mexists\u001B[39m(\u001B[38;5;28mself\u001B[39m):\n\u001B[1;32m--> 911\u001B[0m     \u001B[38;5;28;01mreturn\u001B[39;00m \u001B[38;5;28;43mself\u001B[39;49m\u001B[38;5;241;43m.\u001B[39;49m\u001B[43mpd_sql\u001B[49m\u001B[38;5;241;43m.\u001B[39;49m\u001B[43mhas_table\u001B[49m\u001B[43m(\u001B[49m\u001B[38;5;28;43mself\u001B[39;49m\u001B[38;5;241;43m.\u001B[39;49m\u001B[43mname\u001B[49m\u001B[43m,\u001B[49m\u001B[43m \u001B[49m\u001B[38;5;28;43mself\u001B[39;49m\u001B[38;5;241;43m.\u001B[39;49m\u001B[43mschema\u001B[49m\u001B[43m)\u001B[49m\n",
      "File \u001B[1;32mF:\\IT\\IT\\PR\\myPython\\venv\\lib\\site-packages\\pandas\\io\\sql.py:2453\u001B[0m, in \u001B[0;36mSQLiteDatabase.has_table\u001B[1;34m(self, name, schema)\u001B[0m\n\u001B[0;32m   2442\u001B[0m wld \u001B[38;5;241m=\u001B[39m \u001B[38;5;124m\"\u001B[39m\u001B[38;5;124m?\u001B[39m\u001B[38;5;124m\"\u001B[39m\n\u001B[0;32m   2443\u001B[0m query \u001B[38;5;241m=\u001B[39m \u001B[38;5;124mf\u001B[39m\u001B[38;5;124m\"\"\"\u001B[39m\n\u001B[0;32m   2444\u001B[0m \u001B[38;5;124mSELECT\u001B[39m\n\u001B[0;32m   2445\u001B[0m \u001B[38;5;124m    name\u001B[39m\n\u001B[1;32m   (...)\u001B[0m\n\u001B[0;32m   2450\u001B[0m \u001B[38;5;124m    AND name=\u001B[39m\u001B[38;5;132;01m{\u001B[39;00mwld\u001B[38;5;132;01m}\u001B[39;00m\u001B[38;5;124m;\u001B[39m\n\u001B[0;32m   2451\u001B[0m \u001B[38;5;124m\u001B[39m\u001B[38;5;124m\"\"\"\u001B[39m\n\u001B[1;32m-> 2453\u001B[0m \u001B[38;5;28;01mreturn\u001B[39;00m \u001B[38;5;28mlen\u001B[39m(\u001B[38;5;28;43mself\u001B[39;49m\u001B[38;5;241;43m.\u001B[39;49m\u001B[43mexecute\u001B[49m\u001B[43m(\u001B[49m\u001B[43mquery\u001B[49m\u001B[43m,\u001B[49m\u001B[43m \u001B[49m\u001B[43m[\u001B[49m\u001B[43mname\u001B[49m\u001B[43m]\u001B[49m\u001B[43m)\u001B[49m\u001B[38;5;241m.\u001B[39mfetchall()) \u001B[38;5;241m>\u001B[39m \u001B[38;5;241m0\u001B[39m\n",
      "File \u001B[1;32mF:\\IT\\IT\\PR\\myPython\\venv\\lib\\site-packages\\pandas\\io\\sql.py:2274\u001B[0m, in \u001B[0;36mSQLiteDatabase.execute\u001B[1;34m(self, sql, params)\u001B[0m\n\u001B[0;32m   2271\u001B[0m     \u001B[38;5;28;01mraise\u001B[39;00m ex \u001B[38;5;28;01mfrom\u001B[39;00m \u001B[38;5;21;01minner_exc\u001B[39;00m\n\u001B[0;32m   2273\u001B[0m ex \u001B[38;5;241m=\u001B[39m DatabaseError(\u001B[38;5;124mf\u001B[39m\u001B[38;5;124m\"\u001B[39m\u001B[38;5;124mExecution failed on sql \u001B[39m\u001B[38;5;124m'\u001B[39m\u001B[38;5;132;01m{\u001B[39;00msql\u001B[38;5;132;01m}\u001B[39;00m\u001B[38;5;124m'\u001B[39m\u001B[38;5;124m: \u001B[39m\u001B[38;5;132;01m{\u001B[39;00mexc\u001B[38;5;132;01m}\u001B[39;00m\u001B[38;5;124m\"\u001B[39m)\n\u001B[1;32m-> 2274\u001B[0m \u001B[38;5;28;01mraise\u001B[39;00m ex \u001B[38;5;28;01mfrom\u001B[39;00m \u001B[38;5;21;01mexc\u001B[39;00m\n",
      "\u001B[1;31mDatabaseError\u001B[0m: Execution failed on sql '\n        SELECT\n            name\n        FROM\n            sqlite_master\n        WHERE\n            type IN ('table', 'view')\n            AND name=?;\n        ': ('42S02', '[42S02] [Microsoft][ODBC SQL Server Driver][SQL Server]Недопустимое имя объекта \"sqlite_master\". (208) (SQLExecDirectW); [42S02] [Microsoft][ODBC SQL Server Driver][SQL Server]Не удалось выполнить подготовку инструкций. (8180)')"
     ]
    }
   ],
   "source": [
    "df.to_sql('marshrut', cnxn, if_exists=\"append\", index=False)"
   ],
   "metadata": {
    "collapsed": false
   }
  },
  {
   "cell_type": "code",
   "execution_count": 40,
   "outputs": [
    {
     "data": {
      "text/plain": "    bm   em  tm\n0   M7  M11   1\n1  M11  M23   1\n2   M5  M17   1\n3  M23  M35   1",
      "text/html": "<div>\n<style scoped>\n    .dataframe tbody tr th:only-of-type {\n        vertical-align: middle;\n    }\n\n    .dataframe tbody tr th {\n        vertical-align: top;\n    }\n\n    .dataframe thead th {\n        text-align: right;\n    }\n</style>\n<table border=\"1\" class=\"dataframe\">\n  <thead>\n    <tr style=\"text-align: right;\">\n      <th></th>\n      <th>bm</th>\n      <th>em</th>\n      <th>tm</th>\n    </tr>\n  </thead>\n  <tbody>\n    <tr>\n      <th>0</th>\n      <td>M7</td>\n      <td>M11</td>\n      <td>1</td>\n    </tr>\n    <tr>\n      <th>1</th>\n      <td>M11</td>\n      <td>M23</td>\n      <td>1</td>\n    </tr>\n    <tr>\n      <th>2</th>\n      <td>M5</td>\n      <td>M17</td>\n      <td>1</td>\n    </tr>\n    <tr>\n      <th>3</th>\n      <td>M23</td>\n      <td>M35</td>\n      <td>1</td>\n    </tr>\n  </tbody>\n</table>\n</div>"
     },
     "execution_count": 40,
     "metadata": {},
     "output_type": "execute_result"
    }
   ],
   "source": [
    "ls = [\n",
    "        ['M7', 'M11', 1],\n",
    "        ['M11', 'M23', 1],\n",
    "        ['M5', 'M17', 1],\n",
    "        ['M23', 'M35', 1],\n",
    "\n",
    "     ]\n",
    "cols = ['bm', 'em', 'tm']\n",
    "df = pd.DataFrame(ls, columns=cols)\n",
    "df"
   ],
   "metadata": {
    "collapsed": false,
    "ExecuteTime": {
     "start_time": "2024-02-20T16:15:44.325013Z",
     "end_time": "2024-02-20T16:15:44.363020Z"
    }
   }
  },
  {
   "cell_type": "code",
   "execution_count": 41,
   "outputs": [],
   "source": [
    "import pandas as pd\n",
    "import pyodbc as pc\n",
    "connection_string = \"Driver=SQL Server;Server=localhost;Database={0};Trusted_Connection=Yes;\"\n",
    "cnxn = pc.connect(connection_string.format(\"fabr\"), autocommit=True)\n",
    "cur=cnxn.cursor()\n",
    "# df= pd.read_csv(\"your_filepath_and_filename_here.csv\").fillna('')\n",
    "query = 'insert into marshrut({0}) values ({1})'\n",
    "query = query.format(','.join(df.columns), ','.join('?' * len(df.columns)))\n",
    "cur.fast_executemany = True\n",
    "cur.executemany(query, df.values.tolist())\n",
    "cnxn.close()"
   ],
   "metadata": {
    "collapsed": false,
    "ExecuteTime": {
     "start_time": "2024-02-20T16:15:52.708893Z",
     "end_time": "2024-02-20T16:15:52.748902Z"
    }
   }
  },
  {
   "cell_type": "code",
   "execution_count": null,
   "outputs": [],
   "source": [
    "import pandas as pd\n",
    "import pyodbc as pc"
   ],
   "metadata": {
    "collapsed": false
   }
  },
  {
   "cell_type": "code",
   "execution_count": 63,
   "outputs": [],
   "source": [
    "def connect():\n",
    "    connection_string = \"Driver=SQL Server;Server=localhost;Database=fabr;Trusted_Connection=Yes;\"\n",
    "    cnxn = pc.connect(connection_string, autocommit=True)\n",
    "    return cnxn\n",
    "\n",
    "def read_sql(cnxn, query):\n",
    "    df1 = pd.read_sql(query, cnxn)\n",
    "    return df1\n",
    "\n",
    "def to_sql(cnxn, table, df):\n",
    "    cur=cnxn.cursor()\n",
    "    cols = ','.join(df.columns)\n",
    "    vals = ','.join('?' * len(df.columns))\n",
    "    query = f'''insert into {table}({cols}) values ({vals})'''\n",
    "    cur.fast_executemany = True\n",
    "    cur.executemany(query, df.values.tolist())\n",
    "\n",
    "def delete_sql(cnxn, table):\n",
    "    cnxn.execute(f'''delete {table}''')\n",
    "\n",
    "def close_conn(cnxn):\n",
    "    cnxn.close()"
   ],
   "metadata": {
    "collapsed": false,
    "ExecuteTime": {
     "start_time": "2024-02-20T17:33:11.730997Z",
     "end_time": "2024-02-20T17:33:11.740996Z"
    }
   }
  },
  {
   "cell_type": "code",
   "execution_count": 57,
   "outputs": [],
   "source": [
    "table = 'marshrut'\n",
    "query = f'''select * from {table}'''"
   ],
   "metadata": {
    "collapsed": false,
    "ExecuteTime": {
     "start_time": "2024-02-20T17:30:30.393795Z",
     "end_time": "2024-02-20T17:30:30.420796Z"
    }
   }
  },
  {
   "cell_type": "code",
   "execution_count": 60,
   "outputs": [],
   "source": [
    "cnxn = connect()"
   ],
   "metadata": {
    "collapsed": false,
    "ExecuteTime": {
     "start_time": "2024-02-20T17:31:57.559352Z",
     "end_time": "2024-02-20T17:31:57.566351Z"
    }
   }
  },
  {
   "cell_type": "code",
   "execution_count": 62,
   "outputs": [],
   "source": [
    "to_sql(cnxn,table,df)"
   ],
   "metadata": {
    "collapsed": false,
    "ExecuteTime": {
     "start_time": "2024-02-20T17:32:43.241604Z",
     "end_time": "2024-02-20T17:32:43.276610Z"
    }
   }
  },
  {
   "cell_type": "code",
   "execution_count": 64,
   "outputs": [
    {
     "name": "stderr",
     "output_type": "stream",
     "text": [
      "C:\\Users\\Alex\\AppData\\Local\\Temp\\ipykernel_11576\\2466642199.py:7: UserWarning: pandas only supports SQLAlchemy connectable (engine/connection) or database string URI or sqlite3 DBAPI2 connection. Other DBAPI2 objects are not tested. Please consider using SQLAlchemy.\n",
      "  df1 = pd.read_sql(query, cnxn)\n"
     ]
    },
    {
     "data": {
      "text/plain": "   id   bm   em  tm\n0   9   M7  M11   1\n1  10  M11  M23   1\n2  11   M5  M17   1\n3  12  M23  M35   1",
      "text/html": "<div>\n<style scoped>\n    .dataframe tbody tr th:only-of-type {\n        vertical-align: middle;\n    }\n\n    .dataframe tbody tr th {\n        vertical-align: top;\n    }\n\n    .dataframe thead th {\n        text-align: right;\n    }\n</style>\n<table border=\"1\" class=\"dataframe\">\n  <thead>\n    <tr style=\"text-align: right;\">\n      <th></th>\n      <th>id</th>\n      <th>bm</th>\n      <th>em</th>\n      <th>tm</th>\n    </tr>\n  </thead>\n  <tbody>\n    <tr>\n      <th>0</th>\n      <td>9</td>\n      <td>M7</td>\n      <td>M11</td>\n      <td>1</td>\n    </tr>\n    <tr>\n      <th>1</th>\n      <td>10</td>\n      <td>M11</td>\n      <td>M23</td>\n      <td>1</td>\n    </tr>\n    <tr>\n      <th>2</th>\n      <td>11</td>\n      <td>M5</td>\n      <td>M17</td>\n      <td>1</td>\n    </tr>\n    <tr>\n      <th>3</th>\n      <td>12</td>\n      <td>M23</td>\n      <td>M35</td>\n      <td>1</td>\n    </tr>\n  </tbody>\n</table>\n</div>"
     },
     "execution_count": 64,
     "metadata": {},
     "output_type": "execute_result"
    }
   ],
   "source": [
    "df1 = read_sql(cnxn, query)\n",
    "df1"
   ],
   "metadata": {
    "collapsed": false,
    "ExecuteTime": {
     "start_time": "2024-02-20T17:33:35.523336Z",
     "end_time": "2024-02-20T17:33:35.559341Z"
    }
   }
  },
  {
   "cell_type": "code",
   "execution_count": null,
   "outputs": [],
   "source": [],
   "metadata": {
    "collapsed": false
   }
  },
  {
   "cell_type": "code",
   "execution_count": 51,
   "outputs": [],
   "source": [
    "connection_string = \"Driver=SQL Server;Server=localhost;Database=fabr;Trusted_Connection=Yes;\"\n",
    "cnxn = pc.connect(connection_string, autocommit=True)\n",
    "cur=cnxn.cursor()"
   ],
   "metadata": {
    "collapsed": false,
    "ExecuteTime": {
     "start_time": "2024-02-20T17:12:26.356539Z",
     "end_time": "2024-02-20T17:12:26.381541Z"
    }
   }
  },
  {
   "cell_type": "code",
   "execution_count": 54,
   "outputs": [
    {
     "data": {
      "text/plain": "<pyodbc.Cursor at 0x20f6f62acb0>"
     },
     "execution_count": 54,
     "metadata": {},
     "output_type": "execute_result"
    }
   ],
   "source": [
    "table = 'marshrut'\n",
    "cnxn.execute(f'''delete {table}''')"
   ],
   "metadata": {
    "collapsed": false,
    "ExecuteTime": {
     "start_time": "2024-02-20T17:28:13.115987Z",
     "end_time": "2024-02-20T17:28:13.152994Z"
    }
   }
  },
  {
   "cell_type": "code",
   "execution_count": 48,
   "outputs": [],
   "source": [
    "table = 'marshrut'\n",
    "\n",
    "cols = ','.join(df.columns)\n",
    "vals = ','.join('?' * len(df.columns))\n",
    "query = f'''insert into {table}({cols}) values ({vals})'''\n",
    "cur.fast_executemany = True\n",
    "cur.executemany(query, df.values.tolist())\n"
   ],
   "metadata": {
    "collapsed": false,
    "ExecuteTime": {
     "start_time": "2024-02-20T17:10:21.472516Z",
     "end_time": "2024-02-20T17:10:21.501519Z"
    }
   }
  },
  {
   "cell_type": "code",
   "execution_count": null,
   "outputs": [],
   "source": [
    "cnxn.close()"
   ],
   "metadata": {
    "collapsed": false
   }
  },
  {
   "cell_type": "code",
   "execution_count": 55,
   "outputs": [
    {
     "name": "stderr",
     "output_type": "stream",
     "text": [
      "C:\\Users\\Alex\\AppData\\Local\\Temp\\ipykernel_11576\\2315844916.py:3: UserWarning: pandas only supports SQLAlchemy connectable (engine/connection) or database string URI or sqlite3 DBAPI2 connection. Other DBAPI2 objects are not tested. Please consider using SQLAlchemy.\n",
      "  df1 = pd.read_sql(query, cnxn)\n"
     ]
    },
    {
     "data": {
      "text/plain": "Empty DataFrame\nColumns: [id, bm, em, tm]\nIndex: []",
      "text/html": "<div>\n<style scoped>\n    .dataframe tbody tr th:only-of-type {\n        vertical-align: middle;\n    }\n\n    .dataframe tbody tr th {\n        vertical-align: top;\n    }\n\n    .dataframe thead th {\n        text-align: right;\n    }\n</style>\n<table border=\"1\" class=\"dataframe\">\n  <thead>\n    <tr style=\"text-align: right;\">\n      <th></th>\n      <th>id</th>\n      <th>bm</th>\n      <th>em</th>\n      <th>tm</th>\n    </tr>\n  </thead>\n  <tbody>\n  </tbody>\n</table>\n</div>"
     },
     "execution_count": 55,
     "metadata": {},
     "output_type": "execute_result"
    }
   ],
   "source": [
    "query = 'SELECT * FROM marshrut'\n",
    "s1 = '''select * from marshrut'''\n",
    "df1 = pd.read_sql(query, cnxn)\n",
    "df1"
   ],
   "metadata": {
    "collapsed": false,
    "ExecuteTime": {
     "start_time": "2024-02-20T17:28:40.353100Z",
     "end_time": "2024-02-20T17:28:40.383105Z"
    }
   }
  },
  {
   "cell_type": "code",
   "execution_count": null,
   "outputs": [],
   "source": [],
   "metadata": {
    "collapsed": false
   }
  },
  {
   "cell_type": "code",
   "execution_count": null,
   "outputs": [],
   "source": [],
   "metadata": {
    "collapsed": false
   }
  },
  {
   "cell_type": "code",
   "execution_count": null,
   "outputs": [],
   "source": [],
   "metadata": {
    "collapsed": false
   }
  },
  {
   "cell_type": "code",
   "execution_count": null,
   "outputs": [],
   "source": [],
   "metadata": {
    "collapsed": false
   }
  },
  {
   "cell_type": "code",
   "execution_count": null,
   "outputs": [],
   "source": [],
   "metadata": {
    "collapsed": false
   }
  },
  {
   "cell_type": "code",
   "execution_count": 6,
   "outputs": [],
   "source": [
    "\n",
    "\n",
    "\n",
    "def chunker(seq, size):\n",
    "    return (seq[pos : pos + size] for pos in range(0, len(seq), size))\n",
    "\n",
    "\n",
    "def insert_with_progress(df, engine, table=\"\", schema=\"\"):\n",
    "    con = engine.connect()\n",
    "\n",
    "    # Replace table\n",
    "    engine.execute(f\"DROP TABLE IF EXISTS {schema}.{table};\")\n",
    "\n",
    "    # Insert with progress\n",
    "    SQL_SERVER_CHUNK_LIMIT = 100000\n",
    "    chunksize = math.floor(SQL_SERVER_CHUNK_LIMIT / len(df.columns))\n",
    "\n",
    "    for chunk in chunker(df, chunksize):\n",
    "        chunk.to_sql(\n",
    "            name=table,\n",
    "            con=con,\n",
    "            if_exists=\"append\",\n",
    "            index=False\n",
    "        )"
   ],
   "metadata": {
    "collapsed": false,
    "ExecuteTime": {
     "start_time": "2024-02-20T15:08:07.513138Z",
     "end_time": "2024-02-20T15:08:07.528142Z"
    }
   }
  },
  {
   "cell_type": "code",
   "execution_count": 34,
   "outputs": [
    {
     "data": {
      "text/plain": "   id   bm   em  tm\n0   1   M7  M11   1\n1   2  M11  M23   1\n2   3   M5  M17   1\n3   4  M23  M35   1",
      "text/html": "<div>\n<style scoped>\n    .dataframe tbody tr th:only-of-type {\n        vertical-align: middle;\n    }\n\n    .dataframe tbody tr th {\n        vertical-align: top;\n    }\n\n    .dataframe thead th {\n        text-align: right;\n    }\n</style>\n<table border=\"1\" class=\"dataframe\">\n  <thead>\n    <tr style=\"text-align: right;\">\n      <th></th>\n      <th>id</th>\n      <th>bm</th>\n      <th>em</th>\n      <th>tm</th>\n    </tr>\n  </thead>\n  <tbody>\n    <tr>\n      <th>0</th>\n      <td>1</td>\n      <td>M7</td>\n      <td>M11</td>\n      <td>1</td>\n    </tr>\n    <tr>\n      <th>1</th>\n      <td>2</td>\n      <td>M11</td>\n      <td>M23</td>\n      <td>1</td>\n    </tr>\n    <tr>\n      <th>2</th>\n      <td>3</td>\n      <td>M5</td>\n      <td>M17</td>\n      <td>1</td>\n    </tr>\n    <tr>\n      <th>3</th>\n      <td>4</td>\n      <td>M23</td>\n      <td>M35</td>\n      <td>1</td>\n    </tr>\n  </tbody>\n</table>\n</div>"
     },
     "execution_count": 34,
     "metadata": {},
     "output_type": "execute_result"
    }
   ],
   "source": [
    "ls = [\n",
    "        [1,'M7', 'M11', 1],\n",
    "        [2,'M11', 'M23', 1],\n",
    "        [3,'M5', 'M17', 1],\n",
    "        [4,'M23', 'M35', 1],\n",
    "\n",
    "     ]\n",
    "cols = ['id','bm', 'em', 'tm']\n",
    "df = pd.DataFrame(ls, columns=cols)\n",
    "df"
   ],
   "metadata": {
    "collapsed": false,
    "ExecuteTime": {
     "start_time": "2024-02-20T15:48:51.827161Z",
     "end_time": "2024-02-20T15:48:51.892176Z"
    }
   }
  },
  {
   "cell_type": "code",
   "execution_count": 18,
   "outputs": [
    {
     "ename": "InterfaceError",
     "evalue": "(pyodbc.InterfaceError) ('IM002', '[IM002] [Microsoft][Диспетчер драйверов ODBC] Источник данных не найден и не указан драйвер, используемый по умолчанию (0) (SQLDriverConnect)')\n(Background on this error at: https://sqlalche.me/e/20/rvf5)",
     "output_type": "error",
     "traceback": [
      "\u001B[1;31m---------------------------------------------------------------------------\u001B[0m",
      "\u001B[1;31mInterfaceError\u001B[0m                            Traceback (most recent call last)",
      "File \u001B[1;32mF:\\IT\\IT\\PR\\myPython\\venv\\lib\\site-packages\\sqlalchemy\\engine\\base.py:145\u001B[0m, in \u001B[0;36mConnection.__init__\u001B[1;34m(self, engine, connection, _has_events, _allow_revalidate, _allow_autobegin)\u001B[0m\n\u001B[0;32m    144\u001B[0m \u001B[38;5;28;01mtry\u001B[39;00m:\n\u001B[1;32m--> 145\u001B[0m     \u001B[38;5;28mself\u001B[39m\u001B[38;5;241m.\u001B[39m_dbapi_connection \u001B[38;5;241m=\u001B[39m \u001B[43mengine\u001B[49m\u001B[38;5;241;43m.\u001B[39;49m\u001B[43mraw_connection\u001B[49m\u001B[43m(\u001B[49m\u001B[43m)\u001B[49m\n\u001B[0;32m    146\u001B[0m \u001B[38;5;28;01mexcept\u001B[39;00m dialect\u001B[38;5;241m.\u001B[39mloaded_dbapi\u001B[38;5;241m.\u001B[39mError \u001B[38;5;28;01mas\u001B[39;00m err:\n",
      "File \u001B[1;32mF:\\IT\\IT\\PR\\myPython\\venv\\lib\\site-packages\\sqlalchemy\\engine\\base.py:3282\u001B[0m, in \u001B[0;36mEngine.raw_connection\u001B[1;34m(self)\u001B[0m\n\u001B[0;32m   3261\u001B[0m \u001B[38;5;250m\u001B[39m\u001B[38;5;124;03m\"\"\"Return a \"raw\" DBAPI connection from the connection pool.\u001B[39;00m\n\u001B[0;32m   3262\u001B[0m \n\u001B[0;32m   3263\u001B[0m \u001B[38;5;124;03mThe returned object is a proxied version of the DBAPI\u001B[39;00m\n\u001B[1;32m   (...)\u001B[0m\n\u001B[0;32m   3280\u001B[0m \n\u001B[0;32m   3281\u001B[0m \u001B[38;5;124;03m\"\"\"\u001B[39;00m\n\u001B[1;32m-> 3282\u001B[0m \u001B[38;5;28;01mreturn\u001B[39;00m \u001B[38;5;28;43mself\u001B[39;49m\u001B[38;5;241;43m.\u001B[39;49m\u001B[43mpool\u001B[49m\u001B[38;5;241;43m.\u001B[39;49m\u001B[43mconnect\u001B[49m\u001B[43m(\u001B[49m\u001B[43m)\u001B[49m\n",
      "File \u001B[1;32mF:\\IT\\IT\\PR\\myPython\\venv\\lib\\site-packages\\sqlalchemy\\pool\\base.py:449\u001B[0m, in \u001B[0;36mPool.connect\u001B[1;34m(self)\u001B[0m\n\u001B[0;32m    442\u001B[0m \u001B[38;5;250m\u001B[39m\u001B[38;5;124;03m\"\"\"Return a DBAPI connection from the pool.\u001B[39;00m\n\u001B[0;32m    443\u001B[0m \n\u001B[0;32m    444\u001B[0m \u001B[38;5;124;03mThe connection is instrumented such that when its\u001B[39;00m\n\u001B[1;32m   (...)\u001B[0m\n\u001B[0;32m    447\u001B[0m \n\u001B[0;32m    448\u001B[0m \u001B[38;5;124;03m\"\"\"\u001B[39;00m\n\u001B[1;32m--> 449\u001B[0m \u001B[38;5;28;01mreturn\u001B[39;00m \u001B[43m_ConnectionFairy\u001B[49m\u001B[38;5;241;43m.\u001B[39;49m\u001B[43m_checkout\u001B[49m\u001B[43m(\u001B[49m\u001B[38;5;28;43mself\u001B[39;49m\u001B[43m)\u001B[49m\n",
      "File \u001B[1;32mF:\\IT\\IT\\PR\\myPython\\venv\\lib\\site-packages\\sqlalchemy\\pool\\base.py:1263\u001B[0m, in \u001B[0;36m_ConnectionFairy._checkout\u001B[1;34m(cls, pool, threadconns, fairy)\u001B[0m\n\u001B[0;32m   1262\u001B[0m \u001B[38;5;28;01mif\u001B[39;00m \u001B[38;5;129;01mnot\u001B[39;00m fairy:\n\u001B[1;32m-> 1263\u001B[0m     fairy \u001B[38;5;241m=\u001B[39m \u001B[43m_ConnectionRecord\u001B[49m\u001B[38;5;241;43m.\u001B[39;49m\u001B[43mcheckout\u001B[49m\u001B[43m(\u001B[49m\u001B[43mpool\u001B[49m\u001B[43m)\u001B[49m\n\u001B[0;32m   1265\u001B[0m     \u001B[38;5;28;01mif\u001B[39;00m threadconns \u001B[38;5;129;01mis\u001B[39;00m \u001B[38;5;129;01mnot\u001B[39;00m \u001B[38;5;28;01mNone\u001B[39;00m:\n",
      "File \u001B[1;32mF:\\IT\\IT\\PR\\myPython\\venv\\lib\\site-packages\\sqlalchemy\\pool\\base.py:712\u001B[0m, in \u001B[0;36m_ConnectionRecord.checkout\u001B[1;34m(cls, pool)\u001B[0m\n\u001B[0;32m    711\u001B[0m \u001B[38;5;28;01melse\u001B[39;00m:\n\u001B[1;32m--> 712\u001B[0m     rec \u001B[38;5;241m=\u001B[39m \u001B[43mpool\u001B[49m\u001B[38;5;241;43m.\u001B[39;49m\u001B[43m_do_get\u001B[49m\u001B[43m(\u001B[49m\u001B[43m)\u001B[49m\n\u001B[0;32m    714\u001B[0m \u001B[38;5;28;01mtry\u001B[39;00m:\n",
      "File \u001B[1;32mF:\\IT\\IT\\PR\\myPython\\venv\\lib\\site-packages\\sqlalchemy\\pool\\impl.py:168\u001B[0m, in \u001B[0;36mQueuePool._do_get\u001B[1;34m(self)\u001B[0m\n\u001B[0;32m    167\u001B[0m \u001B[38;5;28;01mexcept\u001B[39;00m:\n\u001B[1;32m--> 168\u001B[0m     \u001B[38;5;28;01mwith\u001B[39;00m util\u001B[38;5;241m.\u001B[39msafe_reraise():\n\u001B[0;32m    169\u001B[0m         \u001B[38;5;28mself\u001B[39m\u001B[38;5;241m.\u001B[39m_dec_overflow()\n",
      "File \u001B[1;32mF:\\IT\\IT\\PR\\myPython\\venv\\lib\\site-packages\\sqlalchemy\\util\\langhelpers.py:146\u001B[0m, in \u001B[0;36msafe_reraise.__exit__\u001B[1;34m(self, type_, value, traceback)\u001B[0m\n\u001B[0;32m    145\u001B[0m     \u001B[38;5;28mself\u001B[39m\u001B[38;5;241m.\u001B[39m_exc_info \u001B[38;5;241m=\u001B[39m \u001B[38;5;28;01mNone\u001B[39;00m  \u001B[38;5;66;03m# remove potential circular references\u001B[39;00m\n\u001B[1;32m--> 146\u001B[0m     \u001B[38;5;28;01mraise\u001B[39;00m exc_value\u001B[38;5;241m.\u001B[39mwith_traceback(exc_tb)\n\u001B[0;32m    147\u001B[0m \u001B[38;5;28;01melse\u001B[39;00m:\n",
      "File \u001B[1;32mF:\\IT\\IT\\PR\\myPython\\venv\\lib\\site-packages\\sqlalchemy\\pool\\impl.py:166\u001B[0m, in \u001B[0;36mQueuePool._do_get\u001B[1;34m(self)\u001B[0m\n\u001B[0;32m    165\u001B[0m \u001B[38;5;28;01mtry\u001B[39;00m:\n\u001B[1;32m--> 166\u001B[0m     \u001B[38;5;28;01mreturn\u001B[39;00m \u001B[38;5;28;43mself\u001B[39;49m\u001B[38;5;241;43m.\u001B[39;49m\u001B[43m_create_connection\u001B[49m\u001B[43m(\u001B[49m\u001B[43m)\u001B[49m\n\u001B[0;32m    167\u001B[0m \u001B[38;5;28;01mexcept\u001B[39;00m:\n",
      "File \u001B[1;32mF:\\IT\\IT\\PR\\myPython\\venv\\lib\\site-packages\\sqlalchemy\\pool\\base.py:390\u001B[0m, in \u001B[0;36mPool._create_connection\u001B[1;34m(self)\u001B[0m\n\u001B[0;32m    388\u001B[0m \u001B[38;5;250m\u001B[39m\u001B[38;5;124;03m\"\"\"Called by subclasses to create a new ConnectionRecord.\"\"\"\u001B[39;00m\n\u001B[1;32m--> 390\u001B[0m \u001B[38;5;28;01mreturn\u001B[39;00m \u001B[43m_ConnectionRecord\u001B[49m\u001B[43m(\u001B[49m\u001B[38;5;28;43mself\u001B[39;49m\u001B[43m)\u001B[49m\n",
      "File \u001B[1;32mF:\\IT\\IT\\PR\\myPython\\venv\\lib\\site-packages\\sqlalchemy\\pool\\base.py:674\u001B[0m, in \u001B[0;36m_ConnectionRecord.__init__\u001B[1;34m(self, pool, connect)\u001B[0m\n\u001B[0;32m    673\u001B[0m \u001B[38;5;28;01mif\u001B[39;00m connect:\n\u001B[1;32m--> 674\u001B[0m     \u001B[38;5;28;43mself\u001B[39;49m\u001B[38;5;241;43m.\u001B[39;49m\u001B[43m__connect\u001B[49m\u001B[43m(\u001B[49m\u001B[43m)\u001B[49m\n\u001B[0;32m    675\u001B[0m \u001B[38;5;28mself\u001B[39m\u001B[38;5;241m.\u001B[39mfinalize_callback \u001B[38;5;241m=\u001B[39m deque()\n",
      "File \u001B[1;32mF:\\IT\\IT\\PR\\myPython\\venv\\lib\\site-packages\\sqlalchemy\\pool\\base.py:900\u001B[0m, in \u001B[0;36m_ConnectionRecord.__connect\u001B[1;34m(self)\u001B[0m\n\u001B[0;32m    899\u001B[0m \u001B[38;5;28;01mexcept\u001B[39;00m \u001B[38;5;167;01mBaseException\u001B[39;00m \u001B[38;5;28;01mas\u001B[39;00m e:\n\u001B[1;32m--> 900\u001B[0m     \u001B[38;5;28;01mwith\u001B[39;00m util\u001B[38;5;241m.\u001B[39msafe_reraise():\n\u001B[0;32m    901\u001B[0m         pool\u001B[38;5;241m.\u001B[39mlogger\u001B[38;5;241m.\u001B[39mdebug(\u001B[38;5;124m\"\u001B[39m\u001B[38;5;124mError on connect(): \u001B[39m\u001B[38;5;132;01m%s\u001B[39;00m\u001B[38;5;124m\"\u001B[39m, e)\n",
      "File \u001B[1;32mF:\\IT\\IT\\PR\\myPython\\venv\\lib\\site-packages\\sqlalchemy\\util\\langhelpers.py:146\u001B[0m, in \u001B[0;36msafe_reraise.__exit__\u001B[1;34m(self, type_, value, traceback)\u001B[0m\n\u001B[0;32m    145\u001B[0m     \u001B[38;5;28mself\u001B[39m\u001B[38;5;241m.\u001B[39m_exc_info \u001B[38;5;241m=\u001B[39m \u001B[38;5;28;01mNone\u001B[39;00m  \u001B[38;5;66;03m# remove potential circular references\u001B[39;00m\n\u001B[1;32m--> 146\u001B[0m     \u001B[38;5;28;01mraise\u001B[39;00m exc_value\u001B[38;5;241m.\u001B[39mwith_traceback(exc_tb)\n\u001B[0;32m    147\u001B[0m \u001B[38;5;28;01melse\u001B[39;00m:\n",
      "File \u001B[1;32mF:\\IT\\IT\\PR\\myPython\\venv\\lib\\site-packages\\sqlalchemy\\pool\\base.py:896\u001B[0m, in \u001B[0;36m_ConnectionRecord.__connect\u001B[1;34m(self)\u001B[0m\n\u001B[0;32m    895\u001B[0m \u001B[38;5;28mself\u001B[39m\u001B[38;5;241m.\u001B[39mstarttime \u001B[38;5;241m=\u001B[39m time\u001B[38;5;241m.\u001B[39mtime()\n\u001B[1;32m--> 896\u001B[0m \u001B[38;5;28mself\u001B[39m\u001B[38;5;241m.\u001B[39mdbapi_connection \u001B[38;5;241m=\u001B[39m connection \u001B[38;5;241m=\u001B[39m \u001B[43mpool\u001B[49m\u001B[38;5;241;43m.\u001B[39;49m\u001B[43m_invoke_creator\u001B[49m\u001B[43m(\u001B[49m\u001B[38;5;28;43mself\u001B[39;49m\u001B[43m)\u001B[49m\n\u001B[0;32m    897\u001B[0m pool\u001B[38;5;241m.\u001B[39mlogger\u001B[38;5;241m.\u001B[39mdebug(\u001B[38;5;124m\"\u001B[39m\u001B[38;5;124mCreated new connection \u001B[39m\u001B[38;5;132;01m%r\u001B[39;00m\u001B[38;5;124m\"\u001B[39m, connection)\n",
      "File \u001B[1;32mF:\\IT\\IT\\PR\\myPython\\venv\\lib\\site-packages\\sqlalchemy\\engine\\create.py:643\u001B[0m, in \u001B[0;36mcreate_engine.<locals>.connect\u001B[1;34m(connection_record)\u001B[0m\n\u001B[0;32m    641\u001B[0m             \u001B[38;5;28;01mreturn\u001B[39;00m connection\n\u001B[1;32m--> 643\u001B[0m \u001B[38;5;28;01mreturn\u001B[39;00m dialect\u001B[38;5;241m.\u001B[39mconnect(\u001B[38;5;241m*\u001B[39mcargs, \u001B[38;5;241m*\u001B[39m\u001B[38;5;241m*\u001B[39mcparams)\n",
      "File \u001B[1;32mF:\\IT\\IT\\PR\\myPython\\venv\\lib\\site-packages\\sqlalchemy\\engine\\default.py:616\u001B[0m, in \u001B[0;36mDefaultDialect.connect\u001B[1;34m(self, *cargs, **cparams)\u001B[0m\n\u001B[0;32m    614\u001B[0m \u001B[38;5;28;01mdef\u001B[39;00m \u001B[38;5;21mconnect\u001B[39m(\u001B[38;5;28mself\u001B[39m, \u001B[38;5;241m*\u001B[39mcargs, \u001B[38;5;241m*\u001B[39m\u001B[38;5;241m*\u001B[39mcparams):\n\u001B[0;32m    615\u001B[0m     \u001B[38;5;66;03m# inherits the docstring from interfaces.Dialect.connect\u001B[39;00m\n\u001B[1;32m--> 616\u001B[0m     \u001B[38;5;28;01mreturn\u001B[39;00m \u001B[38;5;28mself\u001B[39m\u001B[38;5;241m.\u001B[39mloaded_dbapi\u001B[38;5;241m.\u001B[39mconnect(\u001B[38;5;241m*\u001B[39mcargs, \u001B[38;5;241m*\u001B[39m\u001B[38;5;241m*\u001B[39mcparams)\n",
      "\u001B[1;31mInterfaceError\u001B[0m: ('IM002', '[IM002] [Microsoft][Диспетчер драйверов ODBC] Источник данных не найден и не указан драйвер, используемый по умолчанию (0) (SQLDriverConnect)')",
      "\nThe above exception was the direct cause of the following exception:\n",
      "\u001B[1;31mInterfaceError\u001B[0m                            Traceback (most recent call last)",
      "Cell \u001B[1;32mIn[18], line 2\u001B[0m\n\u001B[0;32m      1\u001B[0m TABLE \u001B[38;5;241m=\u001B[39m \u001B[38;5;124m\"\u001B[39m\u001B[38;5;124mmarshrut\u001B[39m\u001B[38;5;124m\"\u001B[39m\n\u001B[1;32m----> 2\u001B[0m \u001B[43minsert_with_progress\u001B[49m\u001B[43m(\u001B[49m\u001B[43mdf\u001B[49m\u001B[43m,\u001B[49m\u001B[43m \u001B[49m\u001B[43mengine\u001B[49m\u001B[43m,\u001B[49m\u001B[43m \u001B[49m\u001B[43mtable\u001B[49m\u001B[38;5;241;43m=\u001B[39;49m\u001B[43mTABLE\u001B[49m\u001B[43m)\u001B[49m\n",
      "Cell \u001B[1;32mIn[6], line 6\u001B[0m, in \u001B[0;36minsert_with_progress\u001B[1;34m(df, engine, table, schema)\u001B[0m\n\u001B[0;32m      5\u001B[0m \u001B[38;5;28;01mdef\u001B[39;00m \u001B[38;5;21minsert_with_progress\u001B[39m(df, engine, table\u001B[38;5;241m=\u001B[39m\u001B[38;5;124m\"\u001B[39m\u001B[38;5;124m\"\u001B[39m, schema\u001B[38;5;241m=\u001B[39m\u001B[38;5;124m\"\u001B[39m\u001B[38;5;124m\"\u001B[39m):\n\u001B[1;32m----> 6\u001B[0m     con \u001B[38;5;241m=\u001B[39m \u001B[43mengine\u001B[49m\u001B[38;5;241;43m.\u001B[39;49m\u001B[43mconnect\u001B[49m\u001B[43m(\u001B[49m\u001B[43m)\u001B[49m\n\u001B[0;32m      8\u001B[0m     \u001B[38;5;66;03m# Replace table\u001B[39;00m\n\u001B[0;32m      9\u001B[0m     engine\u001B[38;5;241m.\u001B[39mexecute(\u001B[38;5;124mf\u001B[39m\u001B[38;5;124m\"\u001B[39m\u001B[38;5;124mDROP TABLE IF EXISTS \u001B[39m\u001B[38;5;132;01m{\u001B[39;00mschema\u001B[38;5;132;01m}\u001B[39;00m\u001B[38;5;124m.\u001B[39m\u001B[38;5;132;01m{\u001B[39;00mtable\u001B[38;5;132;01m}\u001B[39;00m\u001B[38;5;124m;\u001B[39m\u001B[38;5;124m\"\u001B[39m)\n",
      "File \u001B[1;32mF:\\IT\\IT\\PR\\myPython\\venv\\lib\\site-packages\\sqlalchemy\\engine\\base.py:3258\u001B[0m, in \u001B[0;36mEngine.connect\u001B[1;34m(self)\u001B[0m\n\u001B[0;32m   3235\u001B[0m \u001B[38;5;28;01mdef\u001B[39;00m \u001B[38;5;21mconnect\u001B[39m(\u001B[38;5;28mself\u001B[39m) \u001B[38;5;241m-\u001B[39m\u001B[38;5;241m>\u001B[39m Connection:\n\u001B[0;32m   3236\u001B[0m \u001B[38;5;250m    \u001B[39m\u001B[38;5;124;03m\"\"\"Return a new :class:`_engine.Connection` object.\u001B[39;00m\n\u001B[0;32m   3237\u001B[0m \n\u001B[0;32m   3238\u001B[0m \u001B[38;5;124;03m    The :class:`_engine.Connection` acts as a Python context manager, so\u001B[39;00m\n\u001B[1;32m   (...)\u001B[0m\n\u001B[0;32m   3255\u001B[0m \n\u001B[0;32m   3256\u001B[0m \u001B[38;5;124;03m    \"\"\"\u001B[39;00m\n\u001B[1;32m-> 3258\u001B[0m     \u001B[38;5;28;01mreturn\u001B[39;00m \u001B[38;5;28;43mself\u001B[39;49m\u001B[38;5;241;43m.\u001B[39;49m\u001B[43m_connection_cls\u001B[49m\u001B[43m(\u001B[49m\u001B[38;5;28;43mself\u001B[39;49m\u001B[43m)\u001B[49m\n",
      "File \u001B[1;32mF:\\IT\\IT\\PR\\myPython\\venv\\lib\\site-packages\\sqlalchemy\\engine\\base.py:147\u001B[0m, in \u001B[0;36mConnection.__init__\u001B[1;34m(self, engine, connection, _has_events, _allow_revalidate, _allow_autobegin)\u001B[0m\n\u001B[0;32m    145\u001B[0m         \u001B[38;5;28mself\u001B[39m\u001B[38;5;241m.\u001B[39m_dbapi_connection \u001B[38;5;241m=\u001B[39m engine\u001B[38;5;241m.\u001B[39mraw_connection()\n\u001B[0;32m    146\u001B[0m     \u001B[38;5;28;01mexcept\u001B[39;00m dialect\u001B[38;5;241m.\u001B[39mloaded_dbapi\u001B[38;5;241m.\u001B[39mError \u001B[38;5;28;01mas\u001B[39;00m err:\n\u001B[1;32m--> 147\u001B[0m         \u001B[43mConnection\u001B[49m\u001B[38;5;241;43m.\u001B[39;49m\u001B[43m_handle_dbapi_exception_noconnection\u001B[49m\u001B[43m(\u001B[49m\n\u001B[0;32m    148\u001B[0m \u001B[43m            \u001B[49m\u001B[43merr\u001B[49m\u001B[43m,\u001B[49m\u001B[43m \u001B[49m\u001B[43mdialect\u001B[49m\u001B[43m,\u001B[49m\u001B[43m \u001B[49m\u001B[43mengine\u001B[49m\n\u001B[0;32m    149\u001B[0m \u001B[43m        \u001B[49m\u001B[43m)\u001B[49m\n\u001B[0;32m    150\u001B[0m         \u001B[38;5;28;01mraise\u001B[39;00m\n\u001B[0;32m    151\u001B[0m \u001B[38;5;28;01melse\u001B[39;00m:\n",
      "File \u001B[1;32mF:\\IT\\IT\\PR\\myPython\\venv\\lib\\site-packages\\sqlalchemy\\engine\\base.py:2422\u001B[0m, in \u001B[0;36mConnection._handle_dbapi_exception_noconnection\u001B[1;34m(cls, e, dialect, engine, is_disconnect, invalidate_pool_on_disconnect, is_pre_ping)\u001B[0m\n\u001B[0;32m   2420\u001B[0m \u001B[38;5;28;01melif\u001B[39;00m should_wrap:\n\u001B[0;32m   2421\u001B[0m     \u001B[38;5;28;01massert\u001B[39;00m sqlalchemy_exception \u001B[38;5;129;01mis\u001B[39;00m \u001B[38;5;129;01mnot\u001B[39;00m \u001B[38;5;28;01mNone\u001B[39;00m\n\u001B[1;32m-> 2422\u001B[0m     \u001B[38;5;28;01mraise\u001B[39;00m sqlalchemy_exception\u001B[38;5;241m.\u001B[39mwith_traceback(exc_info[\u001B[38;5;241m2\u001B[39m]) \u001B[38;5;28;01mfrom\u001B[39;00m \u001B[38;5;21;01me\u001B[39;00m\n\u001B[0;32m   2423\u001B[0m \u001B[38;5;28;01melse\u001B[39;00m:\n\u001B[0;32m   2424\u001B[0m     \u001B[38;5;28;01massert\u001B[39;00m exc_info[\u001B[38;5;241m1\u001B[39m] \u001B[38;5;129;01mis\u001B[39;00m \u001B[38;5;129;01mnot\u001B[39;00m \u001B[38;5;28;01mNone\u001B[39;00m\n",
      "File \u001B[1;32mF:\\IT\\IT\\PR\\myPython\\venv\\lib\\site-packages\\sqlalchemy\\engine\\base.py:145\u001B[0m, in \u001B[0;36mConnection.__init__\u001B[1;34m(self, engine, connection, _has_events, _allow_revalidate, _allow_autobegin)\u001B[0m\n\u001B[0;32m    143\u001B[0m \u001B[38;5;28;01mif\u001B[39;00m connection \u001B[38;5;129;01mis\u001B[39;00m \u001B[38;5;28;01mNone\u001B[39;00m:\n\u001B[0;32m    144\u001B[0m     \u001B[38;5;28;01mtry\u001B[39;00m:\n\u001B[1;32m--> 145\u001B[0m         \u001B[38;5;28mself\u001B[39m\u001B[38;5;241m.\u001B[39m_dbapi_connection \u001B[38;5;241m=\u001B[39m \u001B[43mengine\u001B[49m\u001B[38;5;241;43m.\u001B[39;49m\u001B[43mraw_connection\u001B[49m\u001B[43m(\u001B[49m\u001B[43m)\u001B[49m\n\u001B[0;32m    146\u001B[0m     \u001B[38;5;28;01mexcept\u001B[39;00m dialect\u001B[38;5;241m.\u001B[39mloaded_dbapi\u001B[38;5;241m.\u001B[39mError \u001B[38;5;28;01mas\u001B[39;00m err:\n\u001B[0;32m    147\u001B[0m         Connection\u001B[38;5;241m.\u001B[39m_handle_dbapi_exception_noconnection(\n\u001B[0;32m    148\u001B[0m             err, dialect, engine\n\u001B[0;32m    149\u001B[0m         )\n",
      "File \u001B[1;32mF:\\IT\\IT\\PR\\myPython\\venv\\lib\\site-packages\\sqlalchemy\\engine\\base.py:3282\u001B[0m, in \u001B[0;36mEngine.raw_connection\u001B[1;34m(self)\u001B[0m\n\u001B[0;32m   3260\u001B[0m \u001B[38;5;28;01mdef\u001B[39;00m \u001B[38;5;21mraw_connection\u001B[39m(\u001B[38;5;28mself\u001B[39m) \u001B[38;5;241m-\u001B[39m\u001B[38;5;241m>\u001B[39m PoolProxiedConnection:\n\u001B[0;32m   3261\u001B[0m \u001B[38;5;250m    \u001B[39m\u001B[38;5;124;03m\"\"\"Return a \"raw\" DBAPI connection from the connection pool.\u001B[39;00m\n\u001B[0;32m   3262\u001B[0m \n\u001B[0;32m   3263\u001B[0m \u001B[38;5;124;03m    The returned object is a proxied version of the DBAPI\u001B[39;00m\n\u001B[1;32m   (...)\u001B[0m\n\u001B[0;32m   3280\u001B[0m \n\u001B[0;32m   3281\u001B[0m \u001B[38;5;124;03m    \"\"\"\u001B[39;00m\n\u001B[1;32m-> 3282\u001B[0m     \u001B[38;5;28;01mreturn\u001B[39;00m \u001B[38;5;28;43mself\u001B[39;49m\u001B[38;5;241;43m.\u001B[39;49m\u001B[43mpool\u001B[49m\u001B[38;5;241;43m.\u001B[39;49m\u001B[43mconnect\u001B[49m\u001B[43m(\u001B[49m\u001B[43m)\u001B[49m\n",
      "File \u001B[1;32mF:\\IT\\IT\\PR\\myPython\\venv\\lib\\site-packages\\sqlalchemy\\pool\\base.py:449\u001B[0m, in \u001B[0;36mPool.connect\u001B[1;34m(self)\u001B[0m\n\u001B[0;32m    441\u001B[0m \u001B[38;5;28;01mdef\u001B[39;00m \u001B[38;5;21mconnect\u001B[39m(\u001B[38;5;28mself\u001B[39m) \u001B[38;5;241m-\u001B[39m\u001B[38;5;241m>\u001B[39m PoolProxiedConnection:\n\u001B[0;32m    442\u001B[0m \u001B[38;5;250m    \u001B[39m\u001B[38;5;124;03m\"\"\"Return a DBAPI connection from the pool.\u001B[39;00m\n\u001B[0;32m    443\u001B[0m \n\u001B[0;32m    444\u001B[0m \u001B[38;5;124;03m    The connection is instrumented such that when its\u001B[39;00m\n\u001B[1;32m   (...)\u001B[0m\n\u001B[0;32m    447\u001B[0m \n\u001B[0;32m    448\u001B[0m \u001B[38;5;124;03m    \"\"\"\u001B[39;00m\n\u001B[1;32m--> 449\u001B[0m     \u001B[38;5;28;01mreturn\u001B[39;00m \u001B[43m_ConnectionFairy\u001B[49m\u001B[38;5;241;43m.\u001B[39;49m\u001B[43m_checkout\u001B[49m\u001B[43m(\u001B[49m\u001B[38;5;28;43mself\u001B[39;49m\u001B[43m)\u001B[49m\n",
      "File \u001B[1;32mF:\\IT\\IT\\PR\\myPython\\venv\\lib\\site-packages\\sqlalchemy\\pool\\base.py:1263\u001B[0m, in \u001B[0;36m_ConnectionFairy._checkout\u001B[1;34m(cls, pool, threadconns, fairy)\u001B[0m\n\u001B[0;32m   1255\u001B[0m \u001B[38;5;129m@classmethod\u001B[39m\n\u001B[0;32m   1256\u001B[0m \u001B[38;5;28;01mdef\u001B[39;00m \u001B[38;5;21m_checkout\u001B[39m(\n\u001B[0;32m   1257\u001B[0m     \u001B[38;5;28mcls\u001B[39m,\n\u001B[1;32m   (...)\u001B[0m\n\u001B[0;32m   1260\u001B[0m     fairy: Optional[_ConnectionFairy] \u001B[38;5;241m=\u001B[39m \u001B[38;5;28;01mNone\u001B[39;00m,\n\u001B[0;32m   1261\u001B[0m ) \u001B[38;5;241m-\u001B[39m\u001B[38;5;241m>\u001B[39m _ConnectionFairy:\n\u001B[0;32m   1262\u001B[0m     \u001B[38;5;28;01mif\u001B[39;00m \u001B[38;5;129;01mnot\u001B[39;00m fairy:\n\u001B[1;32m-> 1263\u001B[0m         fairy \u001B[38;5;241m=\u001B[39m \u001B[43m_ConnectionRecord\u001B[49m\u001B[38;5;241;43m.\u001B[39;49m\u001B[43mcheckout\u001B[49m\u001B[43m(\u001B[49m\u001B[43mpool\u001B[49m\u001B[43m)\u001B[49m\n\u001B[0;32m   1265\u001B[0m         \u001B[38;5;28;01mif\u001B[39;00m threadconns \u001B[38;5;129;01mis\u001B[39;00m \u001B[38;5;129;01mnot\u001B[39;00m \u001B[38;5;28;01mNone\u001B[39;00m:\n\u001B[0;32m   1266\u001B[0m             threadconns\u001B[38;5;241m.\u001B[39mcurrent \u001B[38;5;241m=\u001B[39m weakref\u001B[38;5;241m.\u001B[39mref(fairy)\n",
      "File \u001B[1;32mF:\\IT\\IT\\PR\\myPython\\venv\\lib\\site-packages\\sqlalchemy\\pool\\base.py:712\u001B[0m, in \u001B[0;36m_ConnectionRecord.checkout\u001B[1;34m(cls, pool)\u001B[0m\n\u001B[0;32m    710\u001B[0m     rec \u001B[38;5;241m=\u001B[39m cast(_ConnectionRecord, pool\u001B[38;5;241m.\u001B[39m_do_get())\n\u001B[0;32m    711\u001B[0m \u001B[38;5;28;01melse\u001B[39;00m:\n\u001B[1;32m--> 712\u001B[0m     rec \u001B[38;5;241m=\u001B[39m \u001B[43mpool\u001B[49m\u001B[38;5;241;43m.\u001B[39;49m\u001B[43m_do_get\u001B[49m\u001B[43m(\u001B[49m\u001B[43m)\u001B[49m\n\u001B[0;32m    714\u001B[0m \u001B[38;5;28;01mtry\u001B[39;00m:\n\u001B[0;32m    715\u001B[0m     dbapi_connection \u001B[38;5;241m=\u001B[39m rec\u001B[38;5;241m.\u001B[39mget_connection()\n",
      "File \u001B[1;32mF:\\IT\\IT\\PR\\myPython\\venv\\lib\\site-packages\\sqlalchemy\\pool\\impl.py:168\u001B[0m, in \u001B[0;36mQueuePool._do_get\u001B[1;34m(self)\u001B[0m\n\u001B[0;32m    166\u001B[0m     \u001B[38;5;28;01mreturn\u001B[39;00m \u001B[38;5;28mself\u001B[39m\u001B[38;5;241m.\u001B[39m_create_connection()\n\u001B[0;32m    167\u001B[0m \u001B[38;5;28;01mexcept\u001B[39;00m:\n\u001B[1;32m--> 168\u001B[0m     \u001B[38;5;28;01mwith\u001B[39;00m util\u001B[38;5;241m.\u001B[39msafe_reraise():\n\u001B[0;32m    169\u001B[0m         \u001B[38;5;28mself\u001B[39m\u001B[38;5;241m.\u001B[39m_dec_overflow()\n\u001B[0;32m    170\u001B[0m     \u001B[38;5;28;01mraise\u001B[39;00m\n",
      "File \u001B[1;32mF:\\IT\\IT\\PR\\myPython\\venv\\lib\\site-packages\\sqlalchemy\\util\\langhelpers.py:146\u001B[0m, in \u001B[0;36msafe_reraise.__exit__\u001B[1;34m(self, type_, value, traceback)\u001B[0m\n\u001B[0;32m    144\u001B[0m     \u001B[38;5;28;01massert\u001B[39;00m exc_value \u001B[38;5;129;01mis\u001B[39;00m \u001B[38;5;129;01mnot\u001B[39;00m \u001B[38;5;28;01mNone\u001B[39;00m\n\u001B[0;32m    145\u001B[0m     \u001B[38;5;28mself\u001B[39m\u001B[38;5;241m.\u001B[39m_exc_info \u001B[38;5;241m=\u001B[39m \u001B[38;5;28;01mNone\u001B[39;00m  \u001B[38;5;66;03m# remove potential circular references\u001B[39;00m\n\u001B[1;32m--> 146\u001B[0m     \u001B[38;5;28;01mraise\u001B[39;00m exc_value\u001B[38;5;241m.\u001B[39mwith_traceback(exc_tb)\n\u001B[0;32m    147\u001B[0m \u001B[38;5;28;01melse\u001B[39;00m:\n\u001B[0;32m    148\u001B[0m     \u001B[38;5;28mself\u001B[39m\u001B[38;5;241m.\u001B[39m_exc_info \u001B[38;5;241m=\u001B[39m \u001B[38;5;28;01mNone\u001B[39;00m  \u001B[38;5;66;03m# remove potential circular references\u001B[39;00m\n",
      "File \u001B[1;32mF:\\IT\\IT\\PR\\myPython\\venv\\lib\\site-packages\\sqlalchemy\\pool\\impl.py:166\u001B[0m, in \u001B[0;36mQueuePool._do_get\u001B[1;34m(self)\u001B[0m\n\u001B[0;32m    164\u001B[0m \u001B[38;5;28;01mif\u001B[39;00m \u001B[38;5;28mself\u001B[39m\u001B[38;5;241m.\u001B[39m_inc_overflow():\n\u001B[0;32m    165\u001B[0m     \u001B[38;5;28;01mtry\u001B[39;00m:\n\u001B[1;32m--> 166\u001B[0m         \u001B[38;5;28;01mreturn\u001B[39;00m \u001B[38;5;28;43mself\u001B[39;49m\u001B[38;5;241;43m.\u001B[39;49m\u001B[43m_create_connection\u001B[49m\u001B[43m(\u001B[49m\u001B[43m)\u001B[49m\n\u001B[0;32m    167\u001B[0m     \u001B[38;5;28;01mexcept\u001B[39;00m:\n\u001B[0;32m    168\u001B[0m         \u001B[38;5;28;01mwith\u001B[39;00m util\u001B[38;5;241m.\u001B[39msafe_reraise():\n",
      "File \u001B[1;32mF:\\IT\\IT\\PR\\myPython\\venv\\lib\\site-packages\\sqlalchemy\\pool\\base.py:390\u001B[0m, in \u001B[0;36mPool._create_connection\u001B[1;34m(self)\u001B[0m\n\u001B[0;32m    387\u001B[0m \u001B[38;5;28;01mdef\u001B[39;00m \u001B[38;5;21m_create_connection\u001B[39m(\u001B[38;5;28mself\u001B[39m) \u001B[38;5;241m-\u001B[39m\u001B[38;5;241m>\u001B[39m ConnectionPoolEntry:\n\u001B[0;32m    388\u001B[0m \u001B[38;5;250m    \u001B[39m\u001B[38;5;124;03m\"\"\"Called by subclasses to create a new ConnectionRecord.\"\"\"\u001B[39;00m\n\u001B[1;32m--> 390\u001B[0m     \u001B[38;5;28;01mreturn\u001B[39;00m \u001B[43m_ConnectionRecord\u001B[49m\u001B[43m(\u001B[49m\u001B[38;5;28;43mself\u001B[39;49m\u001B[43m)\u001B[49m\n",
      "File \u001B[1;32mF:\\IT\\IT\\PR\\myPython\\venv\\lib\\site-packages\\sqlalchemy\\pool\\base.py:674\u001B[0m, in \u001B[0;36m_ConnectionRecord.__init__\u001B[1;34m(self, pool, connect)\u001B[0m\n\u001B[0;32m    672\u001B[0m \u001B[38;5;28mself\u001B[39m\u001B[38;5;241m.\u001B[39m__pool \u001B[38;5;241m=\u001B[39m pool\n\u001B[0;32m    673\u001B[0m \u001B[38;5;28;01mif\u001B[39;00m connect:\n\u001B[1;32m--> 674\u001B[0m     \u001B[38;5;28;43mself\u001B[39;49m\u001B[38;5;241;43m.\u001B[39;49m\u001B[43m__connect\u001B[49m\u001B[43m(\u001B[49m\u001B[43m)\u001B[49m\n\u001B[0;32m    675\u001B[0m \u001B[38;5;28mself\u001B[39m\u001B[38;5;241m.\u001B[39mfinalize_callback \u001B[38;5;241m=\u001B[39m deque()\n",
      "File \u001B[1;32mF:\\IT\\IT\\PR\\myPython\\venv\\lib\\site-packages\\sqlalchemy\\pool\\base.py:900\u001B[0m, in \u001B[0;36m_ConnectionRecord.__connect\u001B[1;34m(self)\u001B[0m\n\u001B[0;32m    898\u001B[0m     \u001B[38;5;28mself\u001B[39m\u001B[38;5;241m.\u001B[39mfresh \u001B[38;5;241m=\u001B[39m \u001B[38;5;28;01mTrue\u001B[39;00m\n\u001B[0;32m    899\u001B[0m \u001B[38;5;28;01mexcept\u001B[39;00m \u001B[38;5;167;01mBaseException\u001B[39;00m \u001B[38;5;28;01mas\u001B[39;00m e:\n\u001B[1;32m--> 900\u001B[0m     \u001B[38;5;28;01mwith\u001B[39;00m util\u001B[38;5;241m.\u001B[39msafe_reraise():\n\u001B[0;32m    901\u001B[0m         pool\u001B[38;5;241m.\u001B[39mlogger\u001B[38;5;241m.\u001B[39mdebug(\u001B[38;5;124m\"\u001B[39m\u001B[38;5;124mError on connect(): \u001B[39m\u001B[38;5;132;01m%s\u001B[39;00m\u001B[38;5;124m\"\u001B[39m, e)\n\u001B[0;32m    902\u001B[0m \u001B[38;5;28;01melse\u001B[39;00m:\n\u001B[0;32m    903\u001B[0m     \u001B[38;5;66;03m# in SQLAlchemy 1.4 the first_connect event is not used by\u001B[39;00m\n\u001B[0;32m    904\u001B[0m     \u001B[38;5;66;03m# the engine, so this will usually not be set\u001B[39;00m\n",
      "File \u001B[1;32mF:\\IT\\IT\\PR\\myPython\\venv\\lib\\site-packages\\sqlalchemy\\util\\langhelpers.py:146\u001B[0m, in \u001B[0;36msafe_reraise.__exit__\u001B[1;34m(self, type_, value, traceback)\u001B[0m\n\u001B[0;32m    144\u001B[0m     \u001B[38;5;28;01massert\u001B[39;00m exc_value \u001B[38;5;129;01mis\u001B[39;00m \u001B[38;5;129;01mnot\u001B[39;00m \u001B[38;5;28;01mNone\u001B[39;00m\n\u001B[0;32m    145\u001B[0m     \u001B[38;5;28mself\u001B[39m\u001B[38;5;241m.\u001B[39m_exc_info \u001B[38;5;241m=\u001B[39m \u001B[38;5;28;01mNone\u001B[39;00m  \u001B[38;5;66;03m# remove potential circular references\u001B[39;00m\n\u001B[1;32m--> 146\u001B[0m     \u001B[38;5;28;01mraise\u001B[39;00m exc_value\u001B[38;5;241m.\u001B[39mwith_traceback(exc_tb)\n\u001B[0;32m    147\u001B[0m \u001B[38;5;28;01melse\u001B[39;00m:\n\u001B[0;32m    148\u001B[0m     \u001B[38;5;28mself\u001B[39m\u001B[38;5;241m.\u001B[39m_exc_info \u001B[38;5;241m=\u001B[39m \u001B[38;5;28;01mNone\u001B[39;00m  \u001B[38;5;66;03m# remove potential circular references\u001B[39;00m\n",
      "File \u001B[1;32mF:\\IT\\IT\\PR\\myPython\\venv\\lib\\site-packages\\sqlalchemy\\pool\\base.py:896\u001B[0m, in \u001B[0;36m_ConnectionRecord.__connect\u001B[1;34m(self)\u001B[0m\n\u001B[0;32m    894\u001B[0m \u001B[38;5;28;01mtry\u001B[39;00m:\n\u001B[0;32m    895\u001B[0m     \u001B[38;5;28mself\u001B[39m\u001B[38;5;241m.\u001B[39mstarttime \u001B[38;5;241m=\u001B[39m time\u001B[38;5;241m.\u001B[39mtime()\n\u001B[1;32m--> 896\u001B[0m     \u001B[38;5;28mself\u001B[39m\u001B[38;5;241m.\u001B[39mdbapi_connection \u001B[38;5;241m=\u001B[39m connection \u001B[38;5;241m=\u001B[39m \u001B[43mpool\u001B[49m\u001B[38;5;241;43m.\u001B[39;49m\u001B[43m_invoke_creator\u001B[49m\u001B[43m(\u001B[49m\u001B[38;5;28;43mself\u001B[39;49m\u001B[43m)\u001B[49m\n\u001B[0;32m    897\u001B[0m     pool\u001B[38;5;241m.\u001B[39mlogger\u001B[38;5;241m.\u001B[39mdebug(\u001B[38;5;124m\"\u001B[39m\u001B[38;5;124mCreated new connection \u001B[39m\u001B[38;5;132;01m%r\u001B[39;00m\u001B[38;5;124m\"\u001B[39m, connection)\n\u001B[0;32m    898\u001B[0m     \u001B[38;5;28mself\u001B[39m\u001B[38;5;241m.\u001B[39mfresh \u001B[38;5;241m=\u001B[39m \u001B[38;5;28;01mTrue\u001B[39;00m\n",
      "File \u001B[1;32mF:\\IT\\IT\\PR\\myPython\\venv\\lib\\site-packages\\sqlalchemy\\engine\\create.py:643\u001B[0m, in \u001B[0;36mcreate_engine.<locals>.connect\u001B[1;34m(connection_record)\u001B[0m\n\u001B[0;32m    640\u001B[0m         \u001B[38;5;28;01mif\u001B[39;00m connection \u001B[38;5;129;01mis\u001B[39;00m \u001B[38;5;129;01mnot\u001B[39;00m \u001B[38;5;28;01mNone\u001B[39;00m:\n\u001B[0;32m    641\u001B[0m             \u001B[38;5;28;01mreturn\u001B[39;00m connection\n\u001B[1;32m--> 643\u001B[0m \u001B[38;5;28;01mreturn\u001B[39;00m dialect\u001B[38;5;241m.\u001B[39mconnect(\u001B[38;5;241m*\u001B[39mcargs, \u001B[38;5;241m*\u001B[39m\u001B[38;5;241m*\u001B[39mcparams)\n",
      "File \u001B[1;32mF:\\IT\\IT\\PR\\myPython\\venv\\lib\\site-packages\\sqlalchemy\\engine\\default.py:616\u001B[0m, in \u001B[0;36mDefaultDialect.connect\u001B[1;34m(self, *cargs, **cparams)\u001B[0m\n\u001B[0;32m    614\u001B[0m \u001B[38;5;28;01mdef\u001B[39;00m \u001B[38;5;21mconnect\u001B[39m(\u001B[38;5;28mself\u001B[39m, \u001B[38;5;241m*\u001B[39mcargs, \u001B[38;5;241m*\u001B[39m\u001B[38;5;241m*\u001B[39mcparams):\n\u001B[0;32m    615\u001B[0m     \u001B[38;5;66;03m# inherits the docstring from interfaces.Dialect.connect\u001B[39;00m\n\u001B[1;32m--> 616\u001B[0m     \u001B[38;5;28;01mreturn\u001B[39;00m \u001B[38;5;28mself\u001B[39m\u001B[38;5;241m.\u001B[39mloaded_dbapi\u001B[38;5;241m.\u001B[39mconnect(\u001B[38;5;241m*\u001B[39mcargs, \u001B[38;5;241m*\u001B[39m\u001B[38;5;241m*\u001B[39mcparams)\n",
      "\u001B[1;31mInterfaceError\u001B[0m: (pyodbc.InterfaceError) ('IM002', '[IM002] [Microsoft][Диспетчер драйверов ODBC] Источник данных не найден и не указан драйвер, используемый по умолчанию (0) (SQLDriverConnect)')\n(Background on this error at: https://sqlalche.me/e/20/rvf5)"
     ]
    }
   ],
   "source": [
    "TABLE = \"marshrut\"\n",
    "insert_with_progress(df, engine, table=TABLE)"
   ],
   "metadata": {
    "collapsed": false
   }
  },
  {
   "cell_type": "code",
   "execution_count": 35,
   "outputs": [
    {
     "name": "stdout",
     "output_type": "stream",
     "text": [
      "2024-02-20 15:49:07,333 INFO sqlalchemy.engine.Engine BEGIN (implicit)\n",
      "2024-02-20 15:49:07,336 INFO sqlalchemy.engine.Engine SELECT [INFORMATION_SCHEMA].[TABLES].[TABLE_NAME] \n",
      "FROM [INFORMATION_SCHEMA].[TABLES] \n",
      "WHERE ([INFORMATION_SCHEMA].[TABLES].[TABLE_TYPE] = CAST(? AS NVARCHAR(max)) OR [INFORMATION_SCHEMA].[TABLES].[TABLE_TYPE] = CAST(? AS NVARCHAR(max))) AND [INFORMATION_SCHEMA].[TABLES].[TABLE_NAME] = CAST(? AS NVARCHAR(max)) AND [INFORMATION_SCHEMA].[TABLES].[TABLE_SCHEMA] = CAST(? AS NVARCHAR(max))\n",
      "2024-02-20 15:49:07,337 INFO sqlalchemy.engine.Engine [cached since 146.8s ago] ('BASE TABLE', 'VIEW', 'marshrut', 'dbo')\n",
      "2024-02-20 15:49:07,338 INFO sqlalchemy.engine.Engine COMMIT\n"
     ]
    },
    {
     "ename": "DBAPIError",
     "evalue": "(pyodbc.Error) ('HY104', '[HY104] [Microsoft][ODBC SQL Server Driver]Недопустимое значение точности (0) (SQLBindParameter)')\n[SQL: SELECT [INFORMATION_SCHEMA].[TABLES].[TABLE_NAME] \nFROM [INFORMATION_SCHEMA].[TABLES] \nWHERE ([INFORMATION_SCHEMA].[TABLES].[TABLE_TYPE] = CAST(? AS NVARCHAR(max)) OR [INFORMATION_SCHEMA].[TABLES].[TABLE_TYPE] = CAST(? AS NVARCHAR(max))) AND [INFORMATION_SCHEMA].[TABLES].[TABLE_NAME] = CAST(? AS NVARCHAR(max)) AND [INFORMATION_SCHEMA].[TABLES].[TABLE_SCHEMA] = CAST(? AS NVARCHAR(max))]\n[parameters: ('BASE TABLE', 'VIEW', 'marshrut', 'dbo')]\n(Background on this error at: https://sqlalche.me/e/20/dbapi)",
     "output_type": "error",
     "traceback": [
      "\u001B[1;31m---------------------------------------------------------------------------\u001B[0m",
      "\u001B[1;31mError\u001B[0m                                     Traceback (most recent call last)",
      "File \u001B[1;32mF:\\IT\\IT\\PR\\myPython\\venv\\lib\\site-packages\\sqlalchemy\\engine\\base.py:1960\u001B[0m, in \u001B[0;36mConnection._exec_single_context\u001B[1;34m(self, dialect, context, statement, parameters)\u001B[0m\n\u001B[0;32m   1959\u001B[0m     \u001B[38;5;28;01mif\u001B[39;00m \u001B[38;5;129;01mnot\u001B[39;00m evt_handled:\n\u001B[1;32m-> 1960\u001B[0m         \u001B[38;5;28;43mself\u001B[39;49m\u001B[38;5;241;43m.\u001B[39;49m\u001B[43mdialect\u001B[49m\u001B[38;5;241;43m.\u001B[39;49m\u001B[43mdo_execute\u001B[49m\u001B[43m(\u001B[49m\n\u001B[0;32m   1961\u001B[0m \u001B[43m            \u001B[49m\u001B[43mcursor\u001B[49m\u001B[43m,\u001B[49m\u001B[43m \u001B[49m\u001B[43mstr_statement\u001B[49m\u001B[43m,\u001B[49m\u001B[43m \u001B[49m\u001B[43meffective_parameters\u001B[49m\u001B[43m,\u001B[49m\u001B[43m \u001B[49m\u001B[43mcontext\u001B[49m\n\u001B[0;32m   1962\u001B[0m \u001B[43m        \u001B[49m\u001B[43m)\u001B[49m\n\u001B[0;32m   1964\u001B[0m \u001B[38;5;28;01mif\u001B[39;00m \u001B[38;5;28mself\u001B[39m\u001B[38;5;241m.\u001B[39m_has_events \u001B[38;5;129;01mor\u001B[39;00m \u001B[38;5;28mself\u001B[39m\u001B[38;5;241m.\u001B[39mengine\u001B[38;5;241m.\u001B[39m_has_events:\n",
      "File \u001B[1;32mF:\\IT\\IT\\PR\\myPython\\venv\\lib\\site-packages\\sqlalchemy\\engine\\default.py:924\u001B[0m, in \u001B[0;36mDefaultDialect.do_execute\u001B[1;34m(self, cursor, statement, parameters, context)\u001B[0m\n\u001B[0;32m    923\u001B[0m \u001B[38;5;28;01mdef\u001B[39;00m \u001B[38;5;21mdo_execute\u001B[39m(\u001B[38;5;28mself\u001B[39m, cursor, statement, parameters, context\u001B[38;5;241m=\u001B[39m\u001B[38;5;28;01mNone\u001B[39;00m):\n\u001B[1;32m--> 924\u001B[0m     \u001B[43mcursor\u001B[49m\u001B[38;5;241;43m.\u001B[39;49m\u001B[43mexecute\u001B[49m\u001B[43m(\u001B[49m\u001B[43mstatement\u001B[49m\u001B[43m,\u001B[49m\u001B[43m \u001B[49m\u001B[43mparameters\u001B[49m\u001B[43m)\u001B[49m\n",
      "\u001B[1;31mError\u001B[0m: ('HY104', '[HY104] [Microsoft][ODBC SQL Server Driver]Недопустимое значение точности (0) (SQLBindParameter)')",
      "\nThe above exception was the direct cause of the following exception:\n",
      "\u001B[1;31mDBAPIError\u001B[0m                                Traceback (most recent call last)",
      "Cell \u001B[1;32mIn[35], line 1\u001B[0m\n\u001B[1;32m----> 1\u001B[0m \u001B[43mdf\u001B[49m\u001B[38;5;241;43m.\u001B[39;49m\u001B[43mto_sql\u001B[49m\u001B[43m(\u001B[49m\u001B[38;5;124;43m'\u001B[39;49m\u001B[38;5;124;43mmarshrut\u001B[39;49m\u001B[38;5;124;43m'\u001B[39;49m\u001B[43m,\u001B[49m\u001B[43m \u001B[49m\u001B[43mengine\u001B[49m\u001B[43m,\u001B[49m\u001B[43m \u001B[49m\u001B[43mif_exists\u001B[49m\u001B[38;5;241;43m=\u001B[39;49m\u001B[38;5;124;43m\"\u001B[39;49m\u001B[38;5;124;43mappend\u001B[39;49m\u001B[38;5;124;43m\"\u001B[39;49m\u001B[43m,\u001B[49m\u001B[43m \u001B[49m\u001B[43mindex\u001B[49m\u001B[38;5;241;43m=\u001B[39;49m\u001B[38;5;28;43;01mFalse\u001B[39;49;00m\u001B[43m)\u001B[49m\n",
      "File \u001B[1;32mF:\\IT\\IT\\PR\\myPython\\venv\\lib\\site-packages\\pandas\\util\\_decorators.py:333\u001B[0m, in \u001B[0;36mdeprecate_nonkeyword_arguments.<locals>.decorate.<locals>.wrapper\u001B[1;34m(*args, **kwargs)\u001B[0m\n\u001B[0;32m    327\u001B[0m \u001B[38;5;28;01mif\u001B[39;00m \u001B[38;5;28mlen\u001B[39m(args) \u001B[38;5;241m>\u001B[39m num_allow_args:\n\u001B[0;32m    328\u001B[0m     warnings\u001B[38;5;241m.\u001B[39mwarn(\n\u001B[0;32m    329\u001B[0m         msg\u001B[38;5;241m.\u001B[39mformat(arguments\u001B[38;5;241m=\u001B[39m_format_argument_list(allow_args)),\n\u001B[0;32m    330\u001B[0m         \u001B[38;5;167;01mFutureWarning\u001B[39;00m,\n\u001B[0;32m    331\u001B[0m         stacklevel\u001B[38;5;241m=\u001B[39mfind_stack_level(),\n\u001B[0;32m    332\u001B[0m     )\n\u001B[1;32m--> 333\u001B[0m \u001B[38;5;28;01mreturn\u001B[39;00m func(\u001B[38;5;241m*\u001B[39margs, \u001B[38;5;241m*\u001B[39m\u001B[38;5;241m*\u001B[39mkwargs)\n",
      "File \u001B[1;32mF:\\IT\\IT\\PR\\myPython\\venv\\lib\\site-packages\\pandas\\core\\generic.py:3008\u001B[0m, in \u001B[0;36mNDFrame.to_sql\u001B[1;34m(self, name, con, schema, if_exists, index, index_label, chunksize, dtype, method)\u001B[0m\n\u001B[0;32m   2813\u001B[0m \u001B[38;5;250m\u001B[39m\u001B[38;5;124;03m\"\"\"\u001B[39;00m\n\u001B[0;32m   2814\u001B[0m \u001B[38;5;124;03mWrite records stored in a DataFrame to a SQL database.\u001B[39;00m\n\u001B[0;32m   2815\u001B[0m \n\u001B[1;32m   (...)\u001B[0m\n\u001B[0;32m   3004\u001B[0m \u001B[38;5;124;03m[(1,), (None,), (2,)]\u001B[39;00m\n\u001B[0;32m   3005\u001B[0m \u001B[38;5;124;03m\"\"\"\u001B[39;00m  \u001B[38;5;66;03m# noqa: E501\u001B[39;00m\n\u001B[0;32m   3006\u001B[0m \u001B[38;5;28;01mfrom\u001B[39;00m \u001B[38;5;21;01mpandas\u001B[39;00m\u001B[38;5;21;01m.\u001B[39;00m\u001B[38;5;21;01mio\u001B[39;00m \u001B[38;5;28;01mimport\u001B[39;00m sql\n\u001B[1;32m-> 3008\u001B[0m \u001B[38;5;28;01mreturn\u001B[39;00m \u001B[43msql\u001B[49m\u001B[38;5;241;43m.\u001B[39;49m\u001B[43mto_sql\u001B[49m\u001B[43m(\u001B[49m\n\u001B[0;32m   3009\u001B[0m \u001B[43m    \u001B[49m\u001B[38;5;28;43mself\u001B[39;49m\u001B[43m,\u001B[49m\n\u001B[0;32m   3010\u001B[0m \u001B[43m    \u001B[49m\u001B[43mname\u001B[49m\u001B[43m,\u001B[49m\n\u001B[0;32m   3011\u001B[0m \u001B[43m    \u001B[49m\u001B[43mcon\u001B[49m\u001B[43m,\u001B[49m\n\u001B[0;32m   3012\u001B[0m \u001B[43m    \u001B[49m\u001B[43mschema\u001B[49m\u001B[38;5;241;43m=\u001B[39;49m\u001B[43mschema\u001B[49m\u001B[43m,\u001B[49m\n\u001B[0;32m   3013\u001B[0m \u001B[43m    \u001B[49m\u001B[43mif_exists\u001B[49m\u001B[38;5;241;43m=\u001B[39;49m\u001B[43mif_exists\u001B[49m\u001B[43m,\u001B[49m\n\u001B[0;32m   3014\u001B[0m \u001B[43m    \u001B[49m\u001B[43mindex\u001B[49m\u001B[38;5;241;43m=\u001B[39;49m\u001B[43mindex\u001B[49m\u001B[43m,\u001B[49m\n\u001B[0;32m   3015\u001B[0m \u001B[43m    \u001B[49m\u001B[43mindex_label\u001B[49m\u001B[38;5;241;43m=\u001B[39;49m\u001B[43mindex_label\u001B[49m\u001B[43m,\u001B[49m\n\u001B[0;32m   3016\u001B[0m \u001B[43m    \u001B[49m\u001B[43mchunksize\u001B[49m\u001B[38;5;241;43m=\u001B[39;49m\u001B[43mchunksize\u001B[49m\u001B[43m,\u001B[49m\n\u001B[0;32m   3017\u001B[0m \u001B[43m    \u001B[49m\u001B[43mdtype\u001B[49m\u001B[38;5;241;43m=\u001B[39;49m\u001B[43mdtype\u001B[49m\u001B[43m,\u001B[49m\n\u001B[0;32m   3018\u001B[0m \u001B[43m    \u001B[49m\u001B[43mmethod\u001B[49m\u001B[38;5;241;43m=\u001B[39;49m\u001B[43mmethod\u001B[49m\u001B[43m,\u001B[49m\n\u001B[0;32m   3019\u001B[0m \u001B[43m\u001B[49m\u001B[43m)\u001B[49m\n",
      "File \u001B[1;32mF:\\IT\\IT\\PR\\myPython\\venv\\lib\\site-packages\\pandas\\io\\sql.py:788\u001B[0m, in \u001B[0;36mto_sql\u001B[1;34m(frame, name, con, schema, if_exists, index, index_label, chunksize, dtype, method, engine, **engine_kwargs)\u001B[0m\n\u001B[0;32m    783\u001B[0m     \u001B[38;5;28;01mraise\u001B[39;00m \u001B[38;5;167;01mNotImplementedError\u001B[39;00m(\n\u001B[0;32m    784\u001B[0m         \u001B[38;5;124m\"\u001B[39m\u001B[38;5;124m'\u001B[39m\u001B[38;5;124mframe\u001B[39m\u001B[38;5;124m'\u001B[39m\u001B[38;5;124m argument should be either a Series or a DataFrame\u001B[39m\u001B[38;5;124m\"\u001B[39m\n\u001B[0;32m    785\u001B[0m     )\n\u001B[0;32m    787\u001B[0m \u001B[38;5;28;01mwith\u001B[39;00m pandasSQL_builder(con, schema\u001B[38;5;241m=\u001B[39mschema, need_transaction\u001B[38;5;241m=\u001B[39m\u001B[38;5;28;01mTrue\u001B[39;00m) \u001B[38;5;28;01mas\u001B[39;00m pandas_sql:\n\u001B[1;32m--> 788\u001B[0m     \u001B[38;5;28;01mreturn\u001B[39;00m pandas_sql\u001B[38;5;241m.\u001B[39mto_sql(\n\u001B[0;32m    789\u001B[0m         frame,\n\u001B[0;32m    790\u001B[0m         name,\n\u001B[0;32m    791\u001B[0m         if_exists\u001B[38;5;241m=\u001B[39mif_exists,\n\u001B[0;32m    792\u001B[0m         index\u001B[38;5;241m=\u001B[39mindex,\n\u001B[0;32m    793\u001B[0m         index_label\u001B[38;5;241m=\u001B[39mindex_label,\n\u001B[0;32m    794\u001B[0m         schema\u001B[38;5;241m=\u001B[39mschema,\n\u001B[0;32m    795\u001B[0m         chunksize\u001B[38;5;241m=\u001B[39mchunksize,\n\u001B[0;32m    796\u001B[0m         dtype\u001B[38;5;241m=\u001B[39mdtype,\n\u001B[0;32m    797\u001B[0m         method\u001B[38;5;241m=\u001B[39mmethod,\n\u001B[0;32m    798\u001B[0m         engine\u001B[38;5;241m=\u001B[39mengine,\n\u001B[0;32m    799\u001B[0m         \u001B[38;5;241m*\u001B[39m\u001B[38;5;241m*\u001B[39mengine_kwargs,\n\u001B[0;32m    800\u001B[0m     )\n",
      "File \u001B[1;32mF:\\IT\\IT\\PR\\myPython\\venv\\lib\\site-packages\\pandas\\io\\sql.py:1948\u001B[0m, in \u001B[0;36mSQLDatabase.to_sql\u001B[1;34m(self, frame, name, if_exists, index, index_label, schema, chunksize, dtype, method, engine, **engine_kwargs)\u001B[0m\n\u001B[0;32m   1898\u001B[0m \u001B[38;5;250m\u001B[39m\u001B[38;5;124;03m\"\"\"\u001B[39;00m\n\u001B[0;32m   1899\u001B[0m \u001B[38;5;124;03mWrite records stored in a DataFrame to a SQL database.\u001B[39;00m\n\u001B[0;32m   1900\u001B[0m \n\u001B[1;32m   (...)\u001B[0m\n\u001B[0;32m   1944\u001B[0m \u001B[38;5;124;03m    Any additional kwargs are passed to the engine.\u001B[39;00m\n\u001B[0;32m   1945\u001B[0m \u001B[38;5;124;03m\"\"\"\u001B[39;00m\n\u001B[0;32m   1946\u001B[0m sql_engine \u001B[38;5;241m=\u001B[39m get_engine(engine)\n\u001B[1;32m-> 1948\u001B[0m table \u001B[38;5;241m=\u001B[39m \u001B[38;5;28;43mself\u001B[39;49m\u001B[38;5;241;43m.\u001B[39;49m\u001B[43mprep_table\u001B[49m\u001B[43m(\u001B[49m\n\u001B[0;32m   1949\u001B[0m \u001B[43m    \u001B[49m\u001B[43mframe\u001B[49m\u001B[38;5;241;43m=\u001B[39;49m\u001B[43mframe\u001B[49m\u001B[43m,\u001B[49m\n\u001B[0;32m   1950\u001B[0m \u001B[43m    \u001B[49m\u001B[43mname\u001B[49m\u001B[38;5;241;43m=\u001B[39;49m\u001B[43mname\u001B[49m\u001B[43m,\u001B[49m\n\u001B[0;32m   1951\u001B[0m \u001B[43m    \u001B[49m\u001B[43mif_exists\u001B[49m\u001B[38;5;241;43m=\u001B[39;49m\u001B[43mif_exists\u001B[49m\u001B[43m,\u001B[49m\n\u001B[0;32m   1952\u001B[0m \u001B[43m    \u001B[49m\u001B[43mindex\u001B[49m\u001B[38;5;241;43m=\u001B[39;49m\u001B[43mindex\u001B[49m\u001B[43m,\u001B[49m\n\u001B[0;32m   1953\u001B[0m \u001B[43m    \u001B[49m\u001B[43mindex_label\u001B[49m\u001B[38;5;241;43m=\u001B[39;49m\u001B[43mindex_label\u001B[49m\u001B[43m,\u001B[49m\n\u001B[0;32m   1954\u001B[0m \u001B[43m    \u001B[49m\u001B[43mschema\u001B[49m\u001B[38;5;241;43m=\u001B[39;49m\u001B[43mschema\u001B[49m\u001B[43m,\u001B[49m\n\u001B[0;32m   1955\u001B[0m \u001B[43m    \u001B[49m\u001B[43mdtype\u001B[49m\u001B[38;5;241;43m=\u001B[39;49m\u001B[43mdtype\u001B[49m\u001B[43m,\u001B[49m\n\u001B[0;32m   1956\u001B[0m \u001B[43m\u001B[49m\u001B[43m)\u001B[49m\n\u001B[0;32m   1958\u001B[0m total_inserted \u001B[38;5;241m=\u001B[39m sql_engine\u001B[38;5;241m.\u001B[39minsert_records(\n\u001B[0;32m   1959\u001B[0m     table\u001B[38;5;241m=\u001B[39mtable,\n\u001B[0;32m   1960\u001B[0m     con\u001B[38;5;241m=\u001B[39m\u001B[38;5;28mself\u001B[39m\u001B[38;5;241m.\u001B[39mcon,\n\u001B[1;32m   (...)\u001B[0m\n\u001B[0;32m   1967\u001B[0m     \u001B[38;5;241m*\u001B[39m\u001B[38;5;241m*\u001B[39mengine_kwargs,\n\u001B[0;32m   1968\u001B[0m )\n\u001B[0;32m   1970\u001B[0m \u001B[38;5;28mself\u001B[39m\u001B[38;5;241m.\u001B[39mcheck_case_sensitive(name\u001B[38;5;241m=\u001B[39mname, schema\u001B[38;5;241m=\u001B[39mschema)\n",
      "File \u001B[1;32mF:\\IT\\IT\\PR\\myPython\\venv\\lib\\site-packages\\pandas\\io\\sql.py:1852\u001B[0m, in \u001B[0;36mSQLDatabase.prep_table\u001B[1;34m(self, frame, name, if_exists, index, index_label, schema, dtype)\u001B[0m\n\u001B[0;32m   1840\u001B[0m             \u001B[38;5;28;01mraise\u001B[39;00m \u001B[38;5;167;01mValueError\u001B[39;00m(\u001B[38;5;124mf\u001B[39m\u001B[38;5;124m\"\u001B[39m\u001B[38;5;124mThe type of \u001B[39m\u001B[38;5;132;01m{\u001B[39;00mcol\u001B[38;5;132;01m}\u001B[39;00m\u001B[38;5;124m is not a SQLAlchemy type\u001B[39m\u001B[38;5;124m\"\u001B[39m)\n\u001B[0;32m   1842\u001B[0m table \u001B[38;5;241m=\u001B[39m SQLTable(\n\u001B[0;32m   1843\u001B[0m     name,\n\u001B[0;32m   1844\u001B[0m     \u001B[38;5;28mself\u001B[39m,\n\u001B[1;32m   (...)\u001B[0m\n\u001B[0;32m   1850\u001B[0m     dtype\u001B[38;5;241m=\u001B[39mdtype,\n\u001B[0;32m   1851\u001B[0m )\n\u001B[1;32m-> 1852\u001B[0m \u001B[43mtable\u001B[49m\u001B[38;5;241;43m.\u001B[39;49m\u001B[43mcreate\u001B[49m\u001B[43m(\u001B[49m\u001B[43m)\u001B[49m\n\u001B[0;32m   1853\u001B[0m \u001B[38;5;28;01mreturn\u001B[39;00m table\n",
      "File \u001B[1;32mF:\\IT\\IT\\PR\\myPython\\venv\\lib\\site-packages\\pandas\\io\\sql.py:925\u001B[0m, in \u001B[0;36mSQLTable.create\u001B[1;34m(self)\u001B[0m\n\u001B[0;32m    924\u001B[0m \u001B[38;5;28;01mdef\u001B[39;00m \u001B[38;5;21mcreate\u001B[39m(\u001B[38;5;28mself\u001B[39m) \u001B[38;5;241m-\u001B[39m\u001B[38;5;241m>\u001B[39m \u001B[38;5;28;01mNone\u001B[39;00m:\n\u001B[1;32m--> 925\u001B[0m     \u001B[38;5;28;01mif\u001B[39;00m \u001B[38;5;28;43mself\u001B[39;49m\u001B[38;5;241;43m.\u001B[39;49m\u001B[43mexists\u001B[49m\u001B[43m(\u001B[49m\u001B[43m)\u001B[49m:\n\u001B[0;32m    926\u001B[0m         \u001B[38;5;28;01mif\u001B[39;00m \u001B[38;5;28mself\u001B[39m\u001B[38;5;241m.\u001B[39mif_exists \u001B[38;5;241m==\u001B[39m \u001B[38;5;124m\"\u001B[39m\u001B[38;5;124mfail\u001B[39m\u001B[38;5;124m\"\u001B[39m:\n\u001B[0;32m    927\u001B[0m             \u001B[38;5;28;01mraise\u001B[39;00m \u001B[38;5;167;01mValueError\u001B[39;00m(\u001B[38;5;124mf\u001B[39m\u001B[38;5;124m\"\u001B[39m\u001B[38;5;124mTable \u001B[39m\u001B[38;5;124m'\u001B[39m\u001B[38;5;132;01m{\u001B[39;00m\u001B[38;5;28mself\u001B[39m\u001B[38;5;241m.\u001B[39mname\u001B[38;5;132;01m}\u001B[39;00m\u001B[38;5;124m'\u001B[39m\u001B[38;5;124m already exists.\u001B[39m\u001B[38;5;124m\"\u001B[39m)\n",
      "File \u001B[1;32mF:\\IT\\IT\\PR\\myPython\\venv\\lib\\site-packages\\pandas\\io\\sql.py:911\u001B[0m, in \u001B[0;36mSQLTable.exists\u001B[1;34m(self)\u001B[0m\n\u001B[0;32m    910\u001B[0m \u001B[38;5;28;01mdef\u001B[39;00m \u001B[38;5;21mexists\u001B[39m(\u001B[38;5;28mself\u001B[39m):\n\u001B[1;32m--> 911\u001B[0m     \u001B[38;5;28;01mreturn\u001B[39;00m \u001B[38;5;28;43mself\u001B[39;49m\u001B[38;5;241;43m.\u001B[39;49m\u001B[43mpd_sql\u001B[49m\u001B[38;5;241;43m.\u001B[39;49m\u001B[43mhas_table\u001B[49m\u001B[43m(\u001B[49m\u001B[38;5;28;43mself\u001B[39;49m\u001B[38;5;241;43m.\u001B[39;49m\u001B[43mname\u001B[49m\u001B[43m,\u001B[49m\u001B[43m \u001B[49m\u001B[38;5;28;43mself\u001B[39;49m\u001B[38;5;241;43m.\u001B[39;49m\u001B[43mschema\u001B[49m\u001B[43m)\u001B[49m\n",
      "File \u001B[1;32mF:\\IT\\IT\\PR\\myPython\\venv\\lib\\site-packages\\pandas\\io\\sql.py:1981\u001B[0m, in \u001B[0;36mSQLDatabase.has_table\u001B[1;34m(self, name, schema)\u001B[0m\n\u001B[0;32m   1978\u001B[0m \u001B[38;5;28;01mfrom\u001B[39;00m \u001B[38;5;21;01msqlalchemy\u001B[39;00m \u001B[38;5;28;01mimport\u001B[39;00m inspect \u001B[38;5;28;01mas\u001B[39;00m sqlalchemy_inspect\n\u001B[0;32m   1980\u001B[0m insp \u001B[38;5;241m=\u001B[39m sqlalchemy_inspect(\u001B[38;5;28mself\u001B[39m\u001B[38;5;241m.\u001B[39mcon)\n\u001B[1;32m-> 1981\u001B[0m \u001B[38;5;28;01mreturn\u001B[39;00m \u001B[43minsp\u001B[49m\u001B[38;5;241;43m.\u001B[39;49m\u001B[43mhas_table\u001B[49m\u001B[43m(\u001B[49m\u001B[43mname\u001B[49m\u001B[43m,\u001B[49m\u001B[43m \u001B[49m\u001B[43mschema\u001B[49m\u001B[43m \u001B[49m\u001B[38;5;129;43;01mor\u001B[39;49;00m\u001B[43m \u001B[49m\u001B[38;5;28;43mself\u001B[39;49m\u001B[38;5;241;43m.\u001B[39;49m\u001B[43mmeta\u001B[49m\u001B[38;5;241;43m.\u001B[39;49m\u001B[43mschema\u001B[49m\u001B[43m)\u001B[49m\n",
      "File \u001B[1;32mF:\\IT\\IT\\PR\\myPython\\venv\\lib\\site-packages\\sqlalchemy\\engine\\reflection.py:429\u001B[0m, in \u001B[0;36mInspector.has_table\u001B[1;34m(self, table_name, schema, **kw)\u001B[0m\n\u001B[0;32m    403\u001B[0m \u001B[38;5;250m\u001B[39m\u001B[38;5;124mr\u001B[39m\u001B[38;5;124;03m\"\"\"Return True if the backend has a table, view, or temporary\u001B[39;00m\n\u001B[0;32m    404\u001B[0m \u001B[38;5;124;03mtable of the given name.\u001B[39;00m\n\u001B[0;32m    405\u001B[0m \n\u001B[1;32m   (...)\u001B[0m\n\u001B[0;32m    426\u001B[0m \n\u001B[0;32m    427\u001B[0m \u001B[38;5;124;03m\"\"\"\u001B[39;00m\n\u001B[0;32m    428\u001B[0m \u001B[38;5;28;01mwith\u001B[39;00m \u001B[38;5;28mself\u001B[39m\u001B[38;5;241m.\u001B[39m_operation_context() \u001B[38;5;28;01mas\u001B[39;00m conn:\n\u001B[1;32m--> 429\u001B[0m     \u001B[38;5;28;01mreturn\u001B[39;00m \u001B[38;5;28mself\u001B[39m\u001B[38;5;241m.\u001B[39mdialect\u001B[38;5;241m.\u001B[39mhas_table(\n\u001B[0;32m    430\u001B[0m         conn, table_name, schema, info_cache\u001B[38;5;241m=\u001B[39m\u001B[38;5;28mself\u001B[39m\u001B[38;5;241m.\u001B[39minfo_cache, \u001B[38;5;241m*\u001B[39m\u001B[38;5;241m*\u001B[39mkw\n\u001B[0;32m    431\u001B[0m     )\n",
      "File \u001B[1;32mF:\\IT\\IT\\PR\\myPython\\venv\\lib\\site-packages\\sqlalchemy\\dialects\\mssql\\base.py:2882\u001B[0m, in \u001B[0;36m_db_plus_owner.<locals>.wrap\u001B[1;34m(dialect, connection, tablename, schema, **kw)\u001B[0m\n\u001B[0;32m   2880\u001B[0m \u001B[38;5;28;01mdef\u001B[39;00m \u001B[38;5;21mwrap\u001B[39m(dialect, connection, tablename, schema\u001B[38;5;241m=\u001B[39m\u001B[38;5;28;01mNone\u001B[39;00m, \u001B[38;5;241m*\u001B[39m\u001B[38;5;241m*\u001B[39mkw):\n\u001B[0;32m   2881\u001B[0m     dbname, owner \u001B[38;5;241m=\u001B[39m _owner_plus_db(dialect, schema)\n\u001B[1;32m-> 2882\u001B[0m     \u001B[38;5;28;01mreturn\u001B[39;00m _switch_db(\n\u001B[0;32m   2883\u001B[0m         dbname,\n\u001B[0;32m   2884\u001B[0m         connection,\n\u001B[0;32m   2885\u001B[0m         fn,\n\u001B[0;32m   2886\u001B[0m         dialect,\n\u001B[0;32m   2887\u001B[0m         connection,\n\u001B[0;32m   2888\u001B[0m         tablename,\n\u001B[0;32m   2889\u001B[0m         dbname,\n\u001B[0;32m   2890\u001B[0m         owner,\n\u001B[0;32m   2891\u001B[0m         schema,\n\u001B[0;32m   2892\u001B[0m         \u001B[38;5;241m*\u001B[39m\u001B[38;5;241m*\u001B[39mkw,\n\u001B[0;32m   2893\u001B[0m     )\n",
      "File \u001B[1;32mF:\\IT\\IT\\PR\\myPython\\venv\\lib\\site-packages\\sqlalchemy\\dialects\\mssql\\base.py:2906\u001B[0m, in \u001B[0;36m_switch_db\u001B[1;34m(dbname, connection, fn, *arg, **kw)\u001B[0m\n\u001B[0;32m   2902\u001B[0m         connection\u001B[38;5;241m.\u001B[39mexec_driver_sql(\n\u001B[0;32m   2903\u001B[0m             \u001B[38;5;124m\"\u001B[39m\u001B[38;5;124muse \u001B[39m\u001B[38;5;132;01m%s\u001B[39;00m\u001B[38;5;124m\"\u001B[39m \u001B[38;5;241m%\u001B[39m connection\u001B[38;5;241m.\u001B[39mdialect\u001B[38;5;241m.\u001B[39midentifier_preparer\u001B[38;5;241m.\u001B[39mquote(dbname)\n\u001B[0;32m   2904\u001B[0m         )\n\u001B[0;32m   2905\u001B[0m \u001B[38;5;28;01mtry\u001B[39;00m:\n\u001B[1;32m-> 2906\u001B[0m     \u001B[38;5;28;01mreturn\u001B[39;00m fn(\u001B[38;5;241m*\u001B[39marg, \u001B[38;5;241m*\u001B[39m\u001B[38;5;241m*\u001B[39mkw)\n\u001B[0;32m   2907\u001B[0m \u001B[38;5;28;01mfinally\u001B[39;00m:\n\u001B[0;32m   2908\u001B[0m     \u001B[38;5;28;01mif\u001B[39;00m dbname \u001B[38;5;129;01mand\u001B[39;00m current_db \u001B[38;5;241m!=\u001B[39m dbname:\n",
      "File \u001B[1;32mF:\\IT\\IT\\PR\\myPython\\venv\\lib\\site-packages\\sqlalchemy\\dialects\\mssql\\base.py:3295\u001B[0m, in \u001B[0;36mMSDialect.has_table\u001B[1;34m(self, connection, tablename, dbname, owner, schema, **kw)\u001B[0m\n\u001B[0;32m   3291\u001B[0m \u001B[38;5;129m@_db_plus_owner\u001B[39m\n\u001B[0;32m   3292\u001B[0m \u001B[38;5;28;01mdef\u001B[39;00m \u001B[38;5;21mhas_table\u001B[39m(\u001B[38;5;28mself\u001B[39m, connection, tablename, dbname, owner, schema, \u001B[38;5;241m*\u001B[39m\u001B[38;5;241m*\u001B[39mkw):\n\u001B[0;32m   3293\u001B[0m     \u001B[38;5;28mself\u001B[39m\u001B[38;5;241m.\u001B[39m_ensure_has_table_connection(connection)\n\u001B[1;32m-> 3295\u001B[0m     \u001B[38;5;28;01mreturn\u001B[39;00m \u001B[38;5;28mself\u001B[39m\u001B[38;5;241m.\u001B[39m_internal_has_table(connection, tablename, owner, \u001B[38;5;241m*\u001B[39m\u001B[38;5;241m*\u001B[39mkw)\n",
      "File \u001B[1;32m<string>:2\u001B[0m, in \u001B[0;36m_internal_has_table\u001B[1;34m(self, connection, tablename, owner, **kw)\u001B[0m\n",
      "File \u001B[1;32mF:\\IT\\IT\\PR\\myPython\\venv\\lib\\site-packages\\sqlalchemy\\engine\\reflection.py:97\u001B[0m, in \u001B[0;36mcache\u001B[1;34m(fn, self, con, *args, **kw)\u001B[0m\n\u001B[0;32m     95\u001B[0m ret: _R \u001B[38;5;241m=\u001B[39m info_cache\u001B[38;5;241m.\u001B[39mget(key)\n\u001B[0;32m     96\u001B[0m \u001B[38;5;28;01mif\u001B[39;00m ret \u001B[38;5;129;01mis\u001B[39;00m \u001B[38;5;28;01mNone\u001B[39;00m:\n\u001B[1;32m---> 97\u001B[0m     ret \u001B[38;5;241m=\u001B[39m fn(\u001B[38;5;28mself\u001B[39m, con, \u001B[38;5;241m*\u001B[39margs, \u001B[38;5;241m*\u001B[39m\u001B[38;5;241m*\u001B[39mkw)\n\u001B[0;32m     98\u001B[0m     info_cache[key] \u001B[38;5;241m=\u001B[39m ret\n\u001B[0;32m     99\u001B[0m \u001B[38;5;28;01mreturn\u001B[39;00m ret\n",
      "File \u001B[1;32mF:\\IT\\IT\\PR\\myPython\\venv\\lib\\site-packages\\sqlalchemy\\dialects\\mssql\\base.py:3398\u001B[0m, in \u001B[0;36mMSDialect._internal_has_table\u001B[1;34m(self, connection, tablename, owner, **kw)\u001B[0m\n\u001B[0;32m   3395\u001B[0m \u001B[38;5;28;01mif\u001B[39;00m owner:\n\u001B[0;32m   3396\u001B[0m     s \u001B[38;5;241m=\u001B[39m s\u001B[38;5;241m.\u001B[39mwhere(tables\u001B[38;5;241m.\u001B[39mc\u001B[38;5;241m.\u001B[39mtable_schema \u001B[38;5;241m==\u001B[39m owner)\n\u001B[1;32m-> 3398\u001B[0m c \u001B[38;5;241m=\u001B[39m \u001B[43mconnection\u001B[49m\u001B[38;5;241;43m.\u001B[39;49m\u001B[43mexecute\u001B[49m\u001B[43m(\u001B[49m\u001B[43ms\u001B[49m\u001B[43m)\u001B[49m\n\u001B[0;32m   3400\u001B[0m \u001B[38;5;28;01mreturn\u001B[39;00m c\u001B[38;5;241m.\u001B[39mfirst() \u001B[38;5;129;01mis\u001B[39;00m \u001B[38;5;129;01mnot\u001B[39;00m \u001B[38;5;28;01mNone\u001B[39;00m\n",
      "File \u001B[1;32mF:\\IT\\IT\\PR\\myPython\\venv\\lib\\site-packages\\sqlalchemy\\engine\\base.py:1408\u001B[0m, in \u001B[0;36mConnection.execute\u001B[1;34m(self, statement, parameters, execution_options)\u001B[0m\n\u001B[0;32m   1406\u001B[0m     \u001B[38;5;28;01mraise\u001B[39;00m exc\u001B[38;5;241m.\u001B[39mObjectNotExecutableError(statement) \u001B[38;5;28;01mfrom\u001B[39;00m \u001B[38;5;21;01merr\u001B[39;00m\n\u001B[0;32m   1407\u001B[0m \u001B[38;5;28;01melse\u001B[39;00m:\n\u001B[1;32m-> 1408\u001B[0m     \u001B[38;5;28;01mreturn\u001B[39;00m \u001B[43mmeth\u001B[49m\u001B[43m(\u001B[49m\n\u001B[0;32m   1409\u001B[0m \u001B[43m        \u001B[49m\u001B[38;5;28;43mself\u001B[39;49m\u001B[43m,\u001B[49m\n\u001B[0;32m   1410\u001B[0m \u001B[43m        \u001B[49m\u001B[43mdistilled_parameters\u001B[49m\u001B[43m,\u001B[49m\n\u001B[0;32m   1411\u001B[0m \u001B[43m        \u001B[49m\u001B[43mexecution_options\u001B[49m\u001B[43m \u001B[49m\u001B[38;5;129;43;01mor\u001B[39;49;00m\u001B[43m \u001B[49m\u001B[43mNO_OPTIONS\u001B[49m\u001B[43m,\u001B[49m\n\u001B[0;32m   1412\u001B[0m \u001B[43m    \u001B[49m\u001B[43m)\u001B[49m\n",
      "File \u001B[1;32mF:\\IT\\IT\\PR\\myPython\\venv\\lib\\site-packages\\sqlalchemy\\sql\\elements.py:513\u001B[0m, in \u001B[0;36mClauseElement._execute_on_connection\u001B[1;34m(self, connection, distilled_params, execution_options)\u001B[0m\n\u001B[0;32m    511\u001B[0m     \u001B[38;5;28;01mif\u001B[39;00m TYPE_CHECKING:\n\u001B[0;32m    512\u001B[0m         \u001B[38;5;28;01massert\u001B[39;00m \u001B[38;5;28misinstance\u001B[39m(\u001B[38;5;28mself\u001B[39m, Executable)\n\u001B[1;32m--> 513\u001B[0m     \u001B[38;5;28;01mreturn\u001B[39;00m \u001B[43mconnection\u001B[49m\u001B[38;5;241;43m.\u001B[39;49m\u001B[43m_execute_clauseelement\u001B[49m\u001B[43m(\u001B[49m\n\u001B[0;32m    514\u001B[0m \u001B[43m        \u001B[49m\u001B[38;5;28;43mself\u001B[39;49m\u001B[43m,\u001B[49m\u001B[43m \u001B[49m\u001B[43mdistilled_params\u001B[49m\u001B[43m,\u001B[49m\u001B[43m \u001B[49m\u001B[43mexecution_options\u001B[49m\n\u001B[0;32m    515\u001B[0m \u001B[43m    \u001B[49m\u001B[43m)\u001B[49m\n\u001B[0;32m    516\u001B[0m \u001B[38;5;28;01melse\u001B[39;00m:\n\u001B[0;32m    517\u001B[0m     \u001B[38;5;28;01mraise\u001B[39;00m exc\u001B[38;5;241m.\u001B[39mObjectNotExecutableError(\u001B[38;5;28mself\u001B[39m)\n",
      "File \u001B[1;32mF:\\IT\\IT\\PR\\myPython\\venv\\lib\\site-packages\\sqlalchemy\\engine\\base.py:1630\u001B[0m, in \u001B[0;36mConnection._execute_clauseelement\u001B[1;34m(self, elem, distilled_parameters, execution_options)\u001B[0m\n\u001B[0;32m   1618\u001B[0m compiled_cache: Optional[CompiledCacheType] \u001B[38;5;241m=\u001B[39m execution_options\u001B[38;5;241m.\u001B[39mget(\n\u001B[0;32m   1619\u001B[0m     \u001B[38;5;124m\"\u001B[39m\u001B[38;5;124mcompiled_cache\u001B[39m\u001B[38;5;124m\"\u001B[39m, \u001B[38;5;28mself\u001B[39m\u001B[38;5;241m.\u001B[39mengine\u001B[38;5;241m.\u001B[39m_compiled_cache\n\u001B[0;32m   1620\u001B[0m )\n\u001B[0;32m   1622\u001B[0m compiled_sql, extracted_params, cache_hit \u001B[38;5;241m=\u001B[39m elem\u001B[38;5;241m.\u001B[39m_compile_w_cache(\n\u001B[0;32m   1623\u001B[0m     dialect\u001B[38;5;241m=\u001B[39mdialect,\n\u001B[0;32m   1624\u001B[0m     compiled_cache\u001B[38;5;241m=\u001B[39mcompiled_cache,\n\u001B[1;32m   (...)\u001B[0m\n\u001B[0;32m   1628\u001B[0m     linting\u001B[38;5;241m=\u001B[39m\u001B[38;5;28mself\u001B[39m\u001B[38;5;241m.\u001B[39mdialect\u001B[38;5;241m.\u001B[39mcompiler_linting \u001B[38;5;241m|\u001B[39m compiler\u001B[38;5;241m.\u001B[39mWARN_LINTING,\n\u001B[0;32m   1629\u001B[0m )\n\u001B[1;32m-> 1630\u001B[0m ret \u001B[38;5;241m=\u001B[39m \u001B[38;5;28;43mself\u001B[39;49m\u001B[38;5;241;43m.\u001B[39;49m\u001B[43m_execute_context\u001B[49m\u001B[43m(\u001B[49m\n\u001B[0;32m   1631\u001B[0m \u001B[43m    \u001B[49m\u001B[43mdialect\u001B[49m\u001B[43m,\u001B[49m\n\u001B[0;32m   1632\u001B[0m \u001B[43m    \u001B[49m\u001B[43mdialect\u001B[49m\u001B[38;5;241;43m.\u001B[39;49m\u001B[43mexecution_ctx_cls\u001B[49m\u001B[38;5;241;43m.\u001B[39;49m\u001B[43m_init_compiled\u001B[49m\u001B[43m,\u001B[49m\n\u001B[0;32m   1633\u001B[0m \u001B[43m    \u001B[49m\u001B[43mcompiled_sql\u001B[49m\u001B[43m,\u001B[49m\n\u001B[0;32m   1634\u001B[0m \u001B[43m    \u001B[49m\u001B[43mdistilled_parameters\u001B[49m\u001B[43m,\u001B[49m\n\u001B[0;32m   1635\u001B[0m \u001B[43m    \u001B[49m\u001B[43mexecution_options\u001B[49m\u001B[43m,\u001B[49m\n\u001B[0;32m   1636\u001B[0m \u001B[43m    \u001B[49m\u001B[43mcompiled_sql\u001B[49m\u001B[43m,\u001B[49m\n\u001B[0;32m   1637\u001B[0m \u001B[43m    \u001B[49m\u001B[43mdistilled_parameters\u001B[49m\u001B[43m,\u001B[49m\n\u001B[0;32m   1638\u001B[0m \u001B[43m    \u001B[49m\u001B[43melem\u001B[49m\u001B[43m,\u001B[49m\n\u001B[0;32m   1639\u001B[0m \u001B[43m    \u001B[49m\u001B[43mextracted_params\u001B[49m\u001B[43m,\u001B[49m\n\u001B[0;32m   1640\u001B[0m \u001B[43m    \u001B[49m\u001B[43mcache_hit\u001B[49m\u001B[38;5;241;43m=\u001B[39;49m\u001B[43mcache_hit\u001B[49m\u001B[43m,\u001B[49m\n\u001B[0;32m   1641\u001B[0m \u001B[43m\u001B[49m\u001B[43m)\u001B[49m\n\u001B[0;32m   1642\u001B[0m \u001B[38;5;28;01mif\u001B[39;00m has_events:\n\u001B[0;32m   1643\u001B[0m     \u001B[38;5;28mself\u001B[39m\u001B[38;5;241m.\u001B[39mdispatch\u001B[38;5;241m.\u001B[39mafter_execute(\n\u001B[0;32m   1644\u001B[0m         \u001B[38;5;28mself\u001B[39m,\n\u001B[0;32m   1645\u001B[0m         elem,\n\u001B[1;32m   (...)\u001B[0m\n\u001B[0;32m   1649\u001B[0m         ret,\n\u001B[0;32m   1650\u001B[0m     )\n",
      "File \u001B[1;32mF:\\IT\\IT\\PR\\myPython\\venv\\lib\\site-packages\\sqlalchemy\\engine\\base.py:1839\u001B[0m, in \u001B[0;36mConnection._execute_context\u001B[1;34m(self, dialect, constructor, statement, parameters, execution_options, *args, **kw)\u001B[0m\n\u001B[0;32m   1834\u001B[0m     \u001B[38;5;28;01mreturn\u001B[39;00m \u001B[38;5;28mself\u001B[39m\u001B[38;5;241m.\u001B[39m_exec_insertmany_context(\n\u001B[0;32m   1835\u001B[0m         dialect,\n\u001B[0;32m   1836\u001B[0m         context,\n\u001B[0;32m   1837\u001B[0m     )\n\u001B[0;32m   1838\u001B[0m \u001B[38;5;28;01melse\u001B[39;00m:\n\u001B[1;32m-> 1839\u001B[0m     \u001B[38;5;28;01mreturn\u001B[39;00m \u001B[38;5;28;43mself\u001B[39;49m\u001B[38;5;241;43m.\u001B[39;49m\u001B[43m_exec_single_context\u001B[49m\u001B[43m(\u001B[49m\n\u001B[0;32m   1840\u001B[0m \u001B[43m        \u001B[49m\u001B[43mdialect\u001B[49m\u001B[43m,\u001B[49m\u001B[43m \u001B[49m\u001B[43mcontext\u001B[49m\u001B[43m,\u001B[49m\u001B[43m \u001B[49m\u001B[43mstatement\u001B[49m\u001B[43m,\u001B[49m\u001B[43m \u001B[49m\u001B[43mparameters\u001B[49m\n\u001B[0;32m   1841\u001B[0m \u001B[43m    \u001B[49m\u001B[43m)\u001B[49m\n",
      "File \u001B[1;32mF:\\IT\\IT\\PR\\myPython\\venv\\lib\\site-packages\\sqlalchemy\\engine\\base.py:1979\u001B[0m, in \u001B[0;36mConnection._exec_single_context\u001B[1;34m(self, dialect, context, statement, parameters)\u001B[0m\n\u001B[0;32m   1976\u001B[0m     result \u001B[38;5;241m=\u001B[39m context\u001B[38;5;241m.\u001B[39m_setup_result_proxy()\n\u001B[0;32m   1978\u001B[0m \u001B[38;5;28;01mexcept\u001B[39;00m \u001B[38;5;167;01mBaseException\u001B[39;00m \u001B[38;5;28;01mas\u001B[39;00m e:\n\u001B[1;32m-> 1979\u001B[0m     \u001B[38;5;28;43mself\u001B[39;49m\u001B[38;5;241;43m.\u001B[39;49m\u001B[43m_handle_dbapi_exception\u001B[49m\u001B[43m(\u001B[49m\n\u001B[0;32m   1980\u001B[0m \u001B[43m        \u001B[49m\u001B[43me\u001B[49m\u001B[43m,\u001B[49m\u001B[43m \u001B[49m\u001B[43mstr_statement\u001B[49m\u001B[43m,\u001B[49m\u001B[43m \u001B[49m\u001B[43meffective_parameters\u001B[49m\u001B[43m,\u001B[49m\u001B[43m \u001B[49m\u001B[43mcursor\u001B[49m\u001B[43m,\u001B[49m\u001B[43m \u001B[49m\u001B[43mcontext\u001B[49m\n\u001B[0;32m   1981\u001B[0m \u001B[43m    \u001B[49m\u001B[43m)\u001B[49m\n\u001B[0;32m   1983\u001B[0m \u001B[38;5;28;01mreturn\u001B[39;00m result\n",
      "File \u001B[1;32mF:\\IT\\IT\\PR\\myPython\\venv\\lib\\site-packages\\sqlalchemy\\engine\\base.py:2335\u001B[0m, in \u001B[0;36mConnection._handle_dbapi_exception\u001B[1;34m(self, e, statement, parameters, cursor, context, is_sub_exec)\u001B[0m\n\u001B[0;32m   2333\u001B[0m \u001B[38;5;28;01melif\u001B[39;00m should_wrap:\n\u001B[0;32m   2334\u001B[0m     \u001B[38;5;28;01massert\u001B[39;00m sqlalchemy_exception \u001B[38;5;129;01mis\u001B[39;00m \u001B[38;5;129;01mnot\u001B[39;00m \u001B[38;5;28;01mNone\u001B[39;00m\n\u001B[1;32m-> 2335\u001B[0m     \u001B[38;5;28;01mraise\u001B[39;00m sqlalchemy_exception\u001B[38;5;241m.\u001B[39mwith_traceback(exc_info[\u001B[38;5;241m2\u001B[39m]) \u001B[38;5;28;01mfrom\u001B[39;00m \u001B[38;5;21;01me\u001B[39;00m\n\u001B[0;32m   2336\u001B[0m \u001B[38;5;28;01melse\u001B[39;00m:\n\u001B[0;32m   2337\u001B[0m     \u001B[38;5;28;01massert\u001B[39;00m exc_info[\u001B[38;5;241m1\u001B[39m] \u001B[38;5;129;01mis\u001B[39;00m \u001B[38;5;129;01mnot\u001B[39;00m \u001B[38;5;28;01mNone\u001B[39;00m\n",
      "File \u001B[1;32mF:\\IT\\IT\\PR\\myPython\\venv\\lib\\site-packages\\sqlalchemy\\engine\\base.py:1960\u001B[0m, in \u001B[0;36mConnection._exec_single_context\u001B[1;34m(self, dialect, context, statement, parameters)\u001B[0m\n\u001B[0;32m   1958\u001B[0m                 \u001B[38;5;28;01mbreak\u001B[39;00m\n\u001B[0;32m   1959\u001B[0m     \u001B[38;5;28;01mif\u001B[39;00m \u001B[38;5;129;01mnot\u001B[39;00m evt_handled:\n\u001B[1;32m-> 1960\u001B[0m         \u001B[38;5;28;43mself\u001B[39;49m\u001B[38;5;241;43m.\u001B[39;49m\u001B[43mdialect\u001B[49m\u001B[38;5;241;43m.\u001B[39;49m\u001B[43mdo_execute\u001B[49m\u001B[43m(\u001B[49m\n\u001B[0;32m   1961\u001B[0m \u001B[43m            \u001B[49m\u001B[43mcursor\u001B[49m\u001B[43m,\u001B[49m\u001B[43m \u001B[49m\u001B[43mstr_statement\u001B[49m\u001B[43m,\u001B[49m\u001B[43m \u001B[49m\u001B[43meffective_parameters\u001B[49m\u001B[43m,\u001B[49m\u001B[43m \u001B[49m\u001B[43mcontext\u001B[49m\n\u001B[0;32m   1962\u001B[0m \u001B[43m        \u001B[49m\u001B[43m)\u001B[49m\n\u001B[0;32m   1964\u001B[0m \u001B[38;5;28;01mif\u001B[39;00m \u001B[38;5;28mself\u001B[39m\u001B[38;5;241m.\u001B[39m_has_events \u001B[38;5;129;01mor\u001B[39;00m \u001B[38;5;28mself\u001B[39m\u001B[38;5;241m.\u001B[39mengine\u001B[38;5;241m.\u001B[39m_has_events:\n\u001B[0;32m   1965\u001B[0m     \u001B[38;5;28mself\u001B[39m\u001B[38;5;241m.\u001B[39mdispatch\u001B[38;5;241m.\u001B[39mafter_cursor_execute(\n\u001B[0;32m   1966\u001B[0m         \u001B[38;5;28mself\u001B[39m,\n\u001B[0;32m   1967\u001B[0m         cursor,\n\u001B[1;32m   (...)\u001B[0m\n\u001B[0;32m   1971\u001B[0m         context\u001B[38;5;241m.\u001B[39mexecutemany,\n\u001B[0;32m   1972\u001B[0m     )\n",
      "File \u001B[1;32mF:\\IT\\IT\\PR\\myPython\\venv\\lib\\site-packages\\sqlalchemy\\engine\\default.py:924\u001B[0m, in \u001B[0;36mDefaultDialect.do_execute\u001B[1;34m(self, cursor, statement, parameters, context)\u001B[0m\n\u001B[0;32m    923\u001B[0m \u001B[38;5;28;01mdef\u001B[39;00m \u001B[38;5;21mdo_execute\u001B[39m(\u001B[38;5;28mself\u001B[39m, cursor, statement, parameters, context\u001B[38;5;241m=\u001B[39m\u001B[38;5;28;01mNone\u001B[39;00m):\n\u001B[1;32m--> 924\u001B[0m     \u001B[43mcursor\u001B[49m\u001B[38;5;241;43m.\u001B[39;49m\u001B[43mexecute\u001B[49m\u001B[43m(\u001B[49m\u001B[43mstatement\u001B[49m\u001B[43m,\u001B[49m\u001B[43m \u001B[49m\u001B[43mparameters\u001B[49m\u001B[43m)\u001B[49m\n",
      "\u001B[1;31mDBAPIError\u001B[0m: (pyodbc.Error) ('HY104', '[HY104] [Microsoft][ODBC SQL Server Driver]Недопустимое значение точности (0) (SQLBindParameter)')\n[SQL: SELECT [INFORMATION_SCHEMA].[TABLES].[TABLE_NAME] \nFROM [INFORMATION_SCHEMA].[TABLES] \nWHERE ([INFORMATION_SCHEMA].[TABLES].[TABLE_TYPE] = CAST(? AS NVARCHAR(max)) OR [INFORMATION_SCHEMA].[TABLES].[TABLE_TYPE] = CAST(? AS NVARCHAR(max))) AND [INFORMATION_SCHEMA].[TABLES].[TABLE_NAME] = CAST(? AS NVARCHAR(max)) AND [INFORMATION_SCHEMA].[TABLES].[TABLE_SCHEMA] = CAST(? AS NVARCHAR(max))]\n[parameters: ('BASE TABLE', 'VIEW', 'marshrut', 'dbo')]\n(Background on this error at: https://sqlalche.me/e/20/dbapi)"
     ]
    }
   ],
   "source": [
    "df.to_sql('marshrut', engine, if_exists=\"append\", index=False)"
   ],
   "metadata": {
    "collapsed": false
   }
  },
  {
   "cell_type": "code",
   "execution_count": 26,
   "outputs": [],
   "source": [
    "query = 'SELECT * FROM [marshrut]'"
   ],
   "metadata": {
    "collapsed": false,
    "ExecuteTime": {
     "start_time": "2024-02-20T15:44:37.380067Z",
     "end_time": "2024-02-20T15:44:37.395067Z"
    }
   }
  },
  {
   "cell_type": "code",
   "execution_count": 27,
   "outputs": [
    {
     "ename": "InterfaceError",
     "evalue": "(pyodbc.InterfaceError) ('IM002', '[IM002] [Microsoft][Диспетчер драйверов ODBC] Источник данных не найден и не указан драйвер, используемый по умолчанию (0) (SQLDriverConnect)')\n(Background on this error at: https://sqlalche.me/e/20/rvf5)",
     "output_type": "error",
     "traceback": [
      "\u001B[1;31m---------------------------------------------------------------------------\u001B[0m",
      "\u001B[1;31mInterfaceError\u001B[0m                            Traceback (most recent call last)",
      "File \u001B[1;32mF:\\IT\\IT\\PR\\myPython\\venv\\lib\\site-packages\\sqlalchemy\\engine\\base.py:145\u001B[0m, in \u001B[0;36mConnection.__init__\u001B[1;34m(self, engine, connection, _has_events, _allow_revalidate, _allow_autobegin)\u001B[0m\n\u001B[0;32m    144\u001B[0m \u001B[38;5;28;01mtry\u001B[39;00m:\n\u001B[1;32m--> 145\u001B[0m     \u001B[38;5;28mself\u001B[39m\u001B[38;5;241m.\u001B[39m_dbapi_connection \u001B[38;5;241m=\u001B[39m \u001B[43mengine\u001B[49m\u001B[38;5;241;43m.\u001B[39;49m\u001B[43mraw_connection\u001B[49m\u001B[43m(\u001B[49m\u001B[43m)\u001B[49m\n\u001B[0;32m    146\u001B[0m \u001B[38;5;28;01mexcept\u001B[39;00m dialect\u001B[38;5;241m.\u001B[39mloaded_dbapi\u001B[38;5;241m.\u001B[39mError \u001B[38;5;28;01mas\u001B[39;00m err:\n",
      "File \u001B[1;32mF:\\IT\\IT\\PR\\myPython\\venv\\lib\\site-packages\\sqlalchemy\\engine\\base.py:3282\u001B[0m, in \u001B[0;36mEngine.raw_connection\u001B[1;34m(self)\u001B[0m\n\u001B[0;32m   3261\u001B[0m \u001B[38;5;250m\u001B[39m\u001B[38;5;124;03m\"\"\"Return a \"raw\" DBAPI connection from the connection pool.\u001B[39;00m\n\u001B[0;32m   3262\u001B[0m \n\u001B[0;32m   3263\u001B[0m \u001B[38;5;124;03mThe returned object is a proxied version of the DBAPI\u001B[39;00m\n\u001B[1;32m   (...)\u001B[0m\n\u001B[0;32m   3280\u001B[0m \n\u001B[0;32m   3281\u001B[0m \u001B[38;5;124;03m\"\"\"\u001B[39;00m\n\u001B[1;32m-> 3282\u001B[0m \u001B[38;5;28;01mreturn\u001B[39;00m \u001B[38;5;28;43mself\u001B[39;49m\u001B[38;5;241;43m.\u001B[39;49m\u001B[43mpool\u001B[49m\u001B[38;5;241;43m.\u001B[39;49m\u001B[43mconnect\u001B[49m\u001B[43m(\u001B[49m\u001B[43m)\u001B[49m\n",
      "File \u001B[1;32mF:\\IT\\IT\\PR\\myPython\\venv\\lib\\site-packages\\sqlalchemy\\pool\\base.py:449\u001B[0m, in \u001B[0;36mPool.connect\u001B[1;34m(self)\u001B[0m\n\u001B[0;32m    442\u001B[0m \u001B[38;5;250m\u001B[39m\u001B[38;5;124;03m\"\"\"Return a DBAPI connection from the pool.\u001B[39;00m\n\u001B[0;32m    443\u001B[0m \n\u001B[0;32m    444\u001B[0m \u001B[38;5;124;03mThe connection is instrumented such that when its\u001B[39;00m\n\u001B[1;32m   (...)\u001B[0m\n\u001B[0;32m    447\u001B[0m \n\u001B[0;32m    448\u001B[0m \u001B[38;5;124;03m\"\"\"\u001B[39;00m\n\u001B[1;32m--> 449\u001B[0m \u001B[38;5;28;01mreturn\u001B[39;00m \u001B[43m_ConnectionFairy\u001B[49m\u001B[38;5;241;43m.\u001B[39;49m\u001B[43m_checkout\u001B[49m\u001B[43m(\u001B[49m\u001B[38;5;28;43mself\u001B[39;49m\u001B[43m)\u001B[49m\n",
      "File \u001B[1;32mF:\\IT\\IT\\PR\\myPython\\venv\\lib\\site-packages\\sqlalchemy\\pool\\base.py:1263\u001B[0m, in \u001B[0;36m_ConnectionFairy._checkout\u001B[1;34m(cls, pool, threadconns, fairy)\u001B[0m\n\u001B[0;32m   1262\u001B[0m \u001B[38;5;28;01mif\u001B[39;00m \u001B[38;5;129;01mnot\u001B[39;00m fairy:\n\u001B[1;32m-> 1263\u001B[0m     fairy \u001B[38;5;241m=\u001B[39m \u001B[43m_ConnectionRecord\u001B[49m\u001B[38;5;241;43m.\u001B[39;49m\u001B[43mcheckout\u001B[49m\u001B[43m(\u001B[49m\u001B[43mpool\u001B[49m\u001B[43m)\u001B[49m\n\u001B[0;32m   1265\u001B[0m     \u001B[38;5;28;01mif\u001B[39;00m threadconns \u001B[38;5;129;01mis\u001B[39;00m \u001B[38;5;129;01mnot\u001B[39;00m \u001B[38;5;28;01mNone\u001B[39;00m:\n",
      "File \u001B[1;32mF:\\IT\\IT\\PR\\myPython\\venv\\lib\\site-packages\\sqlalchemy\\pool\\base.py:712\u001B[0m, in \u001B[0;36m_ConnectionRecord.checkout\u001B[1;34m(cls, pool)\u001B[0m\n\u001B[0;32m    711\u001B[0m \u001B[38;5;28;01melse\u001B[39;00m:\n\u001B[1;32m--> 712\u001B[0m     rec \u001B[38;5;241m=\u001B[39m \u001B[43mpool\u001B[49m\u001B[38;5;241;43m.\u001B[39;49m\u001B[43m_do_get\u001B[49m\u001B[43m(\u001B[49m\u001B[43m)\u001B[49m\n\u001B[0;32m    714\u001B[0m \u001B[38;5;28;01mtry\u001B[39;00m:\n",
      "File \u001B[1;32mF:\\IT\\IT\\PR\\myPython\\venv\\lib\\site-packages\\sqlalchemy\\pool\\impl.py:168\u001B[0m, in \u001B[0;36mQueuePool._do_get\u001B[1;34m(self)\u001B[0m\n\u001B[0;32m    167\u001B[0m \u001B[38;5;28;01mexcept\u001B[39;00m:\n\u001B[1;32m--> 168\u001B[0m     \u001B[38;5;28;01mwith\u001B[39;00m util\u001B[38;5;241m.\u001B[39msafe_reraise():\n\u001B[0;32m    169\u001B[0m         \u001B[38;5;28mself\u001B[39m\u001B[38;5;241m.\u001B[39m_dec_overflow()\n",
      "File \u001B[1;32mF:\\IT\\IT\\PR\\myPython\\venv\\lib\\site-packages\\sqlalchemy\\util\\langhelpers.py:146\u001B[0m, in \u001B[0;36msafe_reraise.__exit__\u001B[1;34m(self, type_, value, traceback)\u001B[0m\n\u001B[0;32m    145\u001B[0m     \u001B[38;5;28mself\u001B[39m\u001B[38;5;241m.\u001B[39m_exc_info \u001B[38;5;241m=\u001B[39m \u001B[38;5;28;01mNone\u001B[39;00m  \u001B[38;5;66;03m# remove potential circular references\u001B[39;00m\n\u001B[1;32m--> 146\u001B[0m     \u001B[38;5;28;01mraise\u001B[39;00m exc_value\u001B[38;5;241m.\u001B[39mwith_traceback(exc_tb)\n\u001B[0;32m    147\u001B[0m \u001B[38;5;28;01melse\u001B[39;00m:\n",
      "File \u001B[1;32mF:\\IT\\IT\\PR\\myPython\\venv\\lib\\site-packages\\sqlalchemy\\pool\\impl.py:166\u001B[0m, in \u001B[0;36mQueuePool._do_get\u001B[1;34m(self)\u001B[0m\n\u001B[0;32m    165\u001B[0m \u001B[38;5;28;01mtry\u001B[39;00m:\n\u001B[1;32m--> 166\u001B[0m     \u001B[38;5;28;01mreturn\u001B[39;00m \u001B[38;5;28;43mself\u001B[39;49m\u001B[38;5;241;43m.\u001B[39;49m\u001B[43m_create_connection\u001B[49m\u001B[43m(\u001B[49m\u001B[43m)\u001B[49m\n\u001B[0;32m    167\u001B[0m \u001B[38;5;28;01mexcept\u001B[39;00m:\n",
      "File \u001B[1;32mF:\\IT\\IT\\PR\\myPython\\venv\\lib\\site-packages\\sqlalchemy\\pool\\base.py:390\u001B[0m, in \u001B[0;36mPool._create_connection\u001B[1;34m(self)\u001B[0m\n\u001B[0;32m    388\u001B[0m \u001B[38;5;250m\u001B[39m\u001B[38;5;124;03m\"\"\"Called by subclasses to create a new ConnectionRecord.\"\"\"\u001B[39;00m\n\u001B[1;32m--> 390\u001B[0m \u001B[38;5;28;01mreturn\u001B[39;00m \u001B[43m_ConnectionRecord\u001B[49m\u001B[43m(\u001B[49m\u001B[38;5;28;43mself\u001B[39;49m\u001B[43m)\u001B[49m\n",
      "File \u001B[1;32mF:\\IT\\IT\\PR\\myPython\\venv\\lib\\site-packages\\sqlalchemy\\pool\\base.py:674\u001B[0m, in \u001B[0;36m_ConnectionRecord.__init__\u001B[1;34m(self, pool, connect)\u001B[0m\n\u001B[0;32m    673\u001B[0m \u001B[38;5;28;01mif\u001B[39;00m connect:\n\u001B[1;32m--> 674\u001B[0m     \u001B[38;5;28;43mself\u001B[39;49m\u001B[38;5;241;43m.\u001B[39;49m\u001B[43m__connect\u001B[49m\u001B[43m(\u001B[49m\u001B[43m)\u001B[49m\n\u001B[0;32m    675\u001B[0m \u001B[38;5;28mself\u001B[39m\u001B[38;5;241m.\u001B[39mfinalize_callback \u001B[38;5;241m=\u001B[39m deque()\n",
      "File \u001B[1;32mF:\\IT\\IT\\PR\\myPython\\venv\\lib\\site-packages\\sqlalchemy\\pool\\base.py:900\u001B[0m, in \u001B[0;36m_ConnectionRecord.__connect\u001B[1;34m(self)\u001B[0m\n\u001B[0;32m    899\u001B[0m \u001B[38;5;28;01mexcept\u001B[39;00m \u001B[38;5;167;01mBaseException\u001B[39;00m \u001B[38;5;28;01mas\u001B[39;00m e:\n\u001B[1;32m--> 900\u001B[0m     \u001B[38;5;28;01mwith\u001B[39;00m util\u001B[38;5;241m.\u001B[39msafe_reraise():\n\u001B[0;32m    901\u001B[0m         pool\u001B[38;5;241m.\u001B[39mlogger\u001B[38;5;241m.\u001B[39mdebug(\u001B[38;5;124m\"\u001B[39m\u001B[38;5;124mError on connect(): \u001B[39m\u001B[38;5;132;01m%s\u001B[39;00m\u001B[38;5;124m\"\u001B[39m, e)\n",
      "File \u001B[1;32mF:\\IT\\IT\\PR\\myPython\\venv\\lib\\site-packages\\sqlalchemy\\util\\langhelpers.py:146\u001B[0m, in \u001B[0;36msafe_reraise.__exit__\u001B[1;34m(self, type_, value, traceback)\u001B[0m\n\u001B[0;32m    145\u001B[0m     \u001B[38;5;28mself\u001B[39m\u001B[38;5;241m.\u001B[39m_exc_info \u001B[38;5;241m=\u001B[39m \u001B[38;5;28;01mNone\u001B[39;00m  \u001B[38;5;66;03m# remove potential circular references\u001B[39;00m\n\u001B[1;32m--> 146\u001B[0m     \u001B[38;5;28;01mraise\u001B[39;00m exc_value\u001B[38;5;241m.\u001B[39mwith_traceback(exc_tb)\n\u001B[0;32m    147\u001B[0m \u001B[38;5;28;01melse\u001B[39;00m:\n",
      "File \u001B[1;32mF:\\IT\\IT\\PR\\myPython\\venv\\lib\\site-packages\\sqlalchemy\\pool\\base.py:896\u001B[0m, in \u001B[0;36m_ConnectionRecord.__connect\u001B[1;34m(self)\u001B[0m\n\u001B[0;32m    895\u001B[0m \u001B[38;5;28mself\u001B[39m\u001B[38;5;241m.\u001B[39mstarttime \u001B[38;5;241m=\u001B[39m time\u001B[38;5;241m.\u001B[39mtime()\n\u001B[1;32m--> 896\u001B[0m \u001B[38;5;28mself\u001B[39m\u001B[38;5;241m.\u001B[39mdbapi_connection \u001B[38;5;241m=\u001B[39m connection \u001B[38;5;241m=\u001B[39m \u001B[43mpool\u001B[49m\u001B[38;5;241;43m.\u001B[39;49m\u001B[43m_invoke_creator\u001B[49m\u001B[43m(\u001B[49m\u001B[38;5;28;43mself\u001B[39;49m\u001B[43m)\u001B[49m\n\u001B[0;32m    897\u001B[0m pool\u001B[38;5;241m.\u001B[39mlogger\u001B[38;5;241m.\u001B[39mdebug(\u001B[38;5;124m\"\u001B[39m\u001B[38;5;124mCreated new connection \u001B[39m\u001B[38;5;132;01m%r\u001B[39;00m\u001B[38;5;124m\"\u001B[39m, connection)\n",
      "File \u001B[1;32mF:\\IT\\IT\\PR\\myPython\\venv\\lib\\site-packages\\sqlalchemy\\engine\\create.py:643\u001B[0m, in \u001B[0;36mcreate_engine.<locals>.connect\u001B[1;34m(connection_record)\u001B[0m\n\u001B[0;32m    641\u001B[0m             \u001B[38;5;28;01mreturn\u001B[39;00m connection\n\u001B[1;32m--> 643\u001B[0m \u001B[38;5;28;01mreturn\u001B[39;00m dialect\u001B[38;5;241m.\u001B[39mconnect(\u001B[38;5;241m*\u001B[39mcargs, \u001B[38;5;241m*\u001B[39m\u001B[38;5;241m*\u001B[39mcparams)\n",
      "File \u001B[1;32mF:\\IT\\IT\\PR\\myPython\\venv\\lib\\site-packages\\sqlalchemy\\engine\\default.py:616\u001B[0m, in \u001B[0;36mDefaultDialect.connect\u001B[1;34m(self, *cargs, **cparams)\u001B[0m\n\u001B[0;32m    614\u001B[0m \u001B[38;5;28;01mdef\u001B[39;00m \u001B[38;5;21mconnect\u001B[39m(\u001B[38;5;28mself\u001B[39m, \u001B[38;5;241m*\u001B[39mcargs, \u001B[38;5;241m*\u001B[39m\u001B[38;5;241m*\u001B[39mcparams):\n\u001B[0;32m    615\u001B[0m     \u001B[38;5;66;03m# inherits the docstring from interfaces.Dialect.connect\u001B[39;00m\n\u001B[1;32m--> 616\u001B[0m     \u001B[38;5;28;01mreturn\u001B[39;00m \u001B[38;5;28mself\u001B[39m\u001B[38;5;241m.\u001B[39mloaded_dbapi\u001B[38;5;241m.\u001B[39mconnect(\u001B[38;5;241m*\u001B[39mcargs, \u001B[38;5;241m*\u001B[39m\u001B[38;5;241m*\u001B[39mcparams)\n",
      "\u001B[1;31mInterfaceError\u001B[0m: ('IM002', '[IM002] [Microsoft][Диспетчер драйверов ODBC] Источник данных не найден и не указан драйвер, используемый по умолчанию (0) (SQLDriverConnect)')",
      "\nThe above exception was the direct cause of the following exception:\n",
      "\u001B[1;31mInterfaceError\u001B[0m                            Traceback (most recent call last)",
      "Cell \u001B[1;32mIn[27], line 1\u001B[0m\n\u001B[1;32m----> 1\u001B[0m df1 \u001B[38;5;241m=\u001B[39m \u001B[43mpd\u001B[49m\u001B[38;5;241;43m.\u001B[39;49m\u001B[43mread_sql\u001B[49m\u001B[43m(\u001B[49m\u001B[43mquery\u001B[49m\u001B[43m,\u001B[49m\u001B[43m \u001B[49m\u001B[43mengine\u001B[49m\u001B[43m)\u001B[49m\n\u001B[0;32m      2\u001B[0m df1\n",
      "File \u001B[1;32mF:\\IT\\IT\\PR\\myPython\\venv\\lib\\site-packages\\pandas\\io\\sql.py:652\u001B[0m, in \u001B[0;36mread_sql\u001B[1;34m(sql, con, index_col, coerce_float, params, parse_dates, columns, chunksize, dtype_backend, dtype)\u001B[0m\n\u001B[0;32m    649\u001B[0m     dtype_backend \u001B[38;5;241m=\u001B[39m \u001B[38;5;124m\"\u001B[39m\u001B[38;5;124mnumpy\u001B[39m\u001B[38;5;124m\"\u001B[39m  \u001B[38;5;66;03m# type: ignore[assignment]\u001B[39;00m\n\u001B[0;32m    650\u001B[0m \u001B[38;5;28;01massert\u001B[39;00m dtype_backend \u001B[38;5;129;01mis\u001B[39;00m \u001B[38;5;129;01mnot\u001B[39;00m lib\u001B[38;5;241m.\u001B[39mno_default\n\u001B[1;32m--> 652\u001B[0m \u001B[38;5;28;01mwith\u001B[39;00m \u001B[43mpandasSQL_builder\u001B[49m\u001B[43m(\u001B[49m\u001B[43mcon\u001B[49m\u001B[43m)\u001B[49m \u001B[38;5;28;01mas\u001B[39;00m pandas_sql:\n\u001B[0;32m    653\u001B[0m     \u001B[38;5;28;01mif\u001B[39;00m \u001B[38;5;28misinstance\u001B[39m(pandas_sql, SQLiteDatabase):\n\u001B[0;32m    654\u001B[0m         \u001B[38;5;28;01mreturn\u001B[39;00m pandas_sql\u001B[38;5;241m.\u001B[39mread_query(\n\u001B[0;32m    655\u001B[0m             sql,\n\u001B[0;32m    656\u001B[0m             index_col\u001B[38;5;241m=\u001B[39mindex_col,\n\u001B[1;32m   (...)\u001B[0m\n\u001B[0;32m    662\u001B[0m             dtype\u001B[38;5;241m=\u001B[39mdtype,\n\u001B[0;32m    663\u001B[0m         )\n",
      "File \u001B[1;32mF:\\IT\\IT\\PR\\myPython\\venv\\lib\\site-packages\\pandas\\io\\sql.py:851\u001B[0m, in \u001B[0;36mpandasSQL_builder\u001B[1;34m(con, schema, need_transaction)\u001B[0m\n\u001B[0;32m    848\u001B[0m     \u001B[38;5;28;01mraise\u001B[39;00m \u001B[38;5;167;01mImportError\u001B[39;00m(\u001B[38;5;124m\"\u001B[39m\u001B[38;5;124mUsing URI string without sqlalchemy installed.\u001B[39m\u001B[38;5;124m\"\u001B[39m)\n\u001B[0;32m    850\u001B[0m \u001B[38;5;28;01mif\u001B[39;00m sqlalchemy \u001B[38;5;129;01mis\u001B[39;00m \u001B[38;5;129;01mnot\u001B[39;00m \u001B[38;5;28;01mNone\u001B[39;00m \u001B[38;5;129;01mand\u001B[39;00m \u001B[38;5;28misinstance\u001B[39m(con, (\u001B[38;5;28mstr\u001B[39m, sqlalchemy\u001B[38;5;241m.\u001B[39mengine\u001B[38;5;241m.\u001B[39mConnectable)):\n\u001B[1;32m--> 851\u001B[0m     \u001B[38;5;28;01mreturn\u001B[39;00m \u001B[43mSQLDatabase\u001B[49m\u001B[43m(\u001B[49m\u001B[43mcon\u001B[49m\u001B[43m,\u001B[49m\u001B[43m \u001B[49m\u001B[43mschema\u001B[49m\u001B[43m,\u001B[49m\u001B[43m \u001B[49m\u001B[43mneed_transaction\u001B[49m\u001B[43m)\u001B[49m\n\u001B[0;32m    853\u001B[0m warnings\u001B[38;5;241m.\u001B[39mwarn(\n\u001B[0;32m    854\u001B[0m     \u001B[38;5;124m\"\u001B[39m\u001B[38;5;124mpandas only supports SQLAlchemy connectable (engine/connection) or \u001B[39m\u001B[38;5;124m\"\u001B[39m\n\u001B[0;32m    855\u001B[0m     \u001B[38;5;124m\"\u001B[39m\u001B[38;5;124mdatabase string URI or sqlite3 DBAPI2 connection. Other DBAPI2 \u001B[39m\u001B[38;5;124m\"\u001B[39m\n\u001B[1;32m   (...)\u001B[0m\n\u001B[0;32m    858\u001B[0m     stacklevel\u001B[38;5;241m=\u001B[39mfind_stack_level(),\n\u001B[0;32m    859\u001B[0m )\n\u001B[0;32m    860\u001B[0m \u001B[38;5;28;01mreturn\u001B[39;00m SQLiteDatabase(con)\n",
      "File \u001B[1;32mF:\\IT\\IT\\PR\\myPython\\venv\\lib\\site-packages\\pandas\\io\\sql.py:1576\u001B[0m, in \u001B[0;36mSQLDatabase.__init__\u001B[1;34m(self, con, schema, need_transaction)\u001B[0m\n\u001B[0;32m   1574\u001B[0m     \u001B[38;5;28mself\u001B[39m\u001B[38;5;241m.\u001B[39mexit_stack\u001B[38;5;241m.\u001B[39mcallback(con\u001B[38;5;241m.\u001B[39mdispose)\n\u001B[0;32m   1575\u001B[0m \u001B[38;5;28;01mif\u001B[39;00m \u001B[38;5;28misinstance\u001B[39m(con, Engine):\n\u001B[1;32m-> 1576\u001B[0m     con \u001B[38;5;241m=\u001B[39m \u001B[38;5;28mself\u001B[39m\u001B[38;5;241m.\u001B[39mexit_stack\u001B[38;5;241m.\u001B[39menter_context(\u001B[43mcon\u001B[49m\u001B[38;5;241;43m.\u001B[39;49m\u001B[43mconnect\u001B[49m\u001B[43m(\u001B[49m\u001B[43m)\u001B[49m)\n\u001B[0;32m   1577\u001B[0m \u001B[38;5;28;01mif\u001B[39;00m need_transaction \u001B[38;5;129;01mand\u001B[39;00m \u001B[38;5;129;01mnot\u001B[39;00m con\u001B[38;5;241m.\u001B[39min_transaction():\n\u001B[0;32m   1578\u001B[0m     \u001B[38;5;28mself\u001B[39m\u001B[38;5;241m.\u001B[39mexit_stack\u001B[38;5;241m.\u001B[39menter_context(con\u001B[38;5;241m.\u001B[39mbegin())\n",
      "File \u001B[1;32mF:\\IT\\IT\\PR\\myPython\\venv\\lib\\site-packages\\sqlalchemy\\engine\\base.py:3258\u001B[0m, in \u001B[0;36mEngine.connect\u001B[1;34m(self)\u001B[0m\n\u001B[0;32m   3235\u001B[0m \u001B[38;5;28;01mdef\u001B[39;00m \u001B[38;5;21mconnect\u001B[39m(\u001B[38;5;28mself\u001B[39m) \u001B[38;5;241m-\u001B[39m\u001B[38;5;241m>\u001B[39m Connection:\n\u001B[0;32m   3236\u001B[0m \u001B[38;5;250m    \u001B[39m\u001B[38;5;124;03m\"\"\"Return a new :class:`_engine.Connection` object.\u001B[39;00m\n\u001B[0;32m   3237\u001B[0m \n\u001B[0;32m   3238\u001B[0m \u001B[38;5;124;03m    The :class:`_engine.Connection` acts as a Python context manager, so\u001B[39;00m\n\u001B[1;32m   (...)\u001B[0m\n\u001B[0;32m   3255\u001B[0m \n\u001B[0;32m   3256\u001B[0m \u001B[38;5;124;03m    \"\"\"\u001B[39;00m\n\u001B[1;32m-> 3258\u001B[0m     \u001B[38;5;28;01mreturn\u001B[39;00m \u001B[38;5;28;43mself\u001B[39;49m\u001B[38;5;241;43m.\u001B[39;49m\u001B[43m_connection_cls\u001B[49m\u001B[43m(\u001B[49m\u001B[38;5;28;43mself\u001B[39;49m\u001B[43m)\u001B[49m\n",
      "File \u001B[1;32mF:\\IT\\IT\\PR\\myPython\\venv\\lib\\site-packages\\sqlalchemy\\engine\\base.py:147\u001B[0m, in \u001B[0;36mConnection.__init__\u001B[1;34m(self, engine, connection, _has_events, _allow_revalidate, _allow_autobegin)\u001B[0m\n\u001B[0;32m    145\u001B[0m         \u001B[38;5;28mself\u001B[39m\u001B[38;5;241m.\u001B[39m_dbapi_connection \u001B[38;5;241m=\u001B[39m engine\u001B[38;5;241m.\u001B[39mraw_connection()\n\u001B[0;32m    146\u001B[0m     \u001B[38;5;28;01mexcept\u001B[39;00m dialect\u001B[38;5;241m.\u001B[39mloaded_dbapi\u001B[38;5;241m.\u001B[39mError \u001B[38;5;28;01mas\u001B[39;00m err:\n\u001B[1;32m--> 147\u001B[0m         \u001B[43mConnection\u001B[49m\u001B[38;5;241;43m.\u001B[39;49m\u001B[43m_handle_dbapi_exception_noconnection\u001B[49m\u001B[43m(\u001B[49m\n\u001B[0;32m    148\u001B[0m \u001B[43m            \u001B[49m\u001B[43merr\u001B[49m\u001B[43m,\u001B[49m\u001B[43m \u001B[49m\u001B[43mdialect\u001B[49m\u001B[43m,\u001B[49m\u001B[43m \u001B[49m\u001B[43mengine\u001B[49m\n\u001B[0;32m    149\u001B[0m \u001B[43m        \u001B[49m\u001B[43m)\u001B[49m\n\u001B[0;32m    150\u001B[0m         \u001B[38;5;28;01mraise\u001B[39;00m\n\u001B[0;32m    151\u001B[0m \u001B[38;5;28;01melse\u001B[39;00m:\n",
      "File \u001B[1;32mF:\\IT\\IT\\PR\\myPython\\venv\\lib\\site-packages\\sqlalchemy\\engine\\base.py:2422\u001B[0m, in \u001B[0;36mConnection._handle_dbapi_exception_noconnection\u001B[1;34m(cls, e, dialect, engine, is_disconnect, invalidate_pool_on_disconnect, is_pre_ping)\u001B[0m\n\u001B[0;32m   2420\u001B[0m \u001B[38;5;28;01melif\u001B[39;00m should_wrap:\n\u001B[0;32m   2421\u001B[0m     \u001B[38;5;28;01massert\u001B[39;00m sqlalchemy_exception \u001B[38;5;129;01mis\u001B[39;00m \u001B[38;5;129;01mnot\u001B[39;00m \u001B[38;5;28;01mNone\u001B[39;00m\n\u001B[1;32m-> 2422\u001B[0m     \u001B[38;5;28;01mraise\u001B[39;00m sqlalchemy_exception\u001B[38;5;241m.\u001B[39mwith_traceback(exc_info[\u001B[38;5;241m2\u001B[39m]) \u001B[38;5;28;01mfrom\u001B[39;00m \u001B[38;5;21;01me\u001B[39;00m\n\u001B[0;32m   2423\u001B[0m \u001B[38;5;28;01melse\u001B[39;00m:\n\u001B[0;32m   2424\u001B[0m     \u001B[38;5;28;01massert\u001B[39;00m exc_info[\u001B[38;5;241m1\u001B[39m] \u001B[38;5;129;01mis\u001B[39;00m \u001B[38;5;129;01mnot\u001B[39;00m \u001B[38;5;28;01mNone\u001B[39;00m\n",
      "File \u001B[1;32mF:\\IT\\IT\\PR\\myPython\\venv\\lib\\site-packages\\sqlalchemy\\engine\\base.py:145\u001B[0m, in \u001B[0;36mConnection.__init__\u001B[1;34m(self, engine, connection, _has_events, _allow_revalidate, _allow_autobegin)\u001B[0m\n\u001B[0;32m    143\u001B[0m \u001B[38;5;28;01mif\u001B[39;00m connection \u001B[38;5;129;01mis\u001B[39;00m \u001B[38;5;28;01mNone\u001B[39;00m:\n\u001B[0;32m    144\u001B[0m     \u001B[38;5;28;01mtry\u001B[39;00m:\n\u001B[1;32m--> 145\u001B[0m         \u001B[38;5;28mself\u001B[39m\u001B[38;5;241m.\u001B[39m_dbapi_connection \u001B[38;5;241m=\u001B[39m \u001B[43mengine\u001B[49m\u001B[38;5;241;43m.\u001B[39;49m\u001B[43mraw_connection\u001B[49m\u001B[43m(\u001B[49m\u001B[43m)\u001B[49m\n\u001B[0;32m    146\u001B[0m     \u001B[38;5;28;01mexcept\u001B[39;00m dialect\u001B[38;5;241m.\u001B[39mloaded_dbapi\u001B[38;5;241m.\u001B[39mError \u001B[38;5;28;01mas\u001B[39;00m err:\n\u001B[0;32m    147\u001B[0m         Connection\u001B[38;5;241m.\u001B[39m_handle_dbapi_exception_noconnection(\n\u001B[0;32m    148\u001B[0m             err, dialect, engine\n\u001B[0;32m    149\u001B[0m         )\n",
      "File \u001B[1;32mF:\\IT\\IT\\PR\\myPython\\venv\\lib\\site-packages\\sqlalchemy\\engine\\base.py:3282\u001B[0m, in \u001B[0;36mEngine.raw_connection\u001B[1;34m(self)\u001B[0m\n\u001B[0;32m   3260\u001B[0m \u001B[38;5;28;01mdef\u001B[39;00m \u001B[38;5;21mraw_connection\u001B[39m(\u001B[38;5;28mself\u001B[39m) \u001B[38;5;241m-\u001B[39m\u001B[38;5;241m>\u001B[39m PoolProxiedConnection:\n\u001B[0;32m   3261\u001B[0m \u001B[38;5;250m    \u001B[39m\u001B[38;5;124;03m\"\"\"Return a \"raw\" DBAPI connection from the connection pool.\u001B[39;00m\n\u001B[0;32m   3262\u001B[0m \n\u001B[0;32m   3263\u001B[0m \u001B[38;5;124;03m    The returned object is a proxied version of the DBAPI\u001B[39;00m\n\u001B[1;32m   (...)\u001B[0m\n\u001B[0;32m   3280\u001B[0m \n\u001B[0;32m   3281\u001B[0m \u001B[38;5;124;03m    \"\"\"\u001B[39;00m\n\u001B[1;32m-> 3282\u001B[0m     \u001B[38;5;28;01mreturn\u001B[39;00m \u001B[38;5;28;43mself\u001B[39;49m\u001B[38;5;241;43m.\u001B[39;49m\u001B[43mpool\u001B[49m\u001B[38;5;241;43m.\u001B[39;49m\u001B[43mconnect\u001B[49m\u001B[43m(\u001B[49m\u001B[43m)\u001B[49m\n",
      "File \u001B[1;32mF:\\IT\\IT\\PR\\myPython\\venv\\lib\\site-packages\\sqlalchemy\\pool\\base.py:449\u001B[0m, in \u001B[0;36mPool.connect\u001B[1;34m(self)\u001B[0m\n\u001B[0;32m    441\u001B[0m \u001B[38;5;28;01mdef\u001B[39;00m \u001B[38;5;21mconnect\u001B[39m(\u001B[38;5;28mself\u001B[39m) \u001B[38;5;241m-\u001B[39m\u001B[38;5;241m>\u001B[39m PoolProxiedConnection:\n\u001B[0;32m    442\u001B[0m \u001B[38;5;250m    \u001B[39m\u001B[38;5;124;03m\"\"\"Return a DBAPI connection from the pool.\u001B[39;00m\n\u001B[0;32m    443\u001B[0m \n\u001B[0;32m    444\u001B[0m \u001B[38;5;124;03m    The connection is instrumented such that when its\u001B[39;00m\n\u001B[1;32m   (...)\u001B[0m\n\u001B[0;32m    447\u001B[0m \n\u001B[0;32m    448\u001B[0m \u001B[38;5;124;03m    \"\"\"\u001B[39;00m\n\u001B[1;32m--> 449\u001B[0m     \u001B[38;5;28;01mreturn\u001B[39;00m \u001B[43m_ConnectionFairy\u001B[49m\u001B[38;5;241;43m.\u001B[39;49m\u001B[43m_checkout\u001B[49m\u001B[43m(\u001B[49m\u001B[38;5;28;43mself\u001B[39;49m\u001B[43m)\u001B[49m\n",
      "File \u001B[1;32mF:\\IT\\IT\\PR\\myPython\\venv\\lib\\site-packages\\sqlalchemy\\pool\\base.py:1263\u001B[0m, in \u001B[0;36m_ConnectionFairy._checkout\u001B[1;34m(cls, pool, threadconns, fairy)\u001B[0m\n\u001B[0;32m   1255\u001B[0m \u001B[38;5;129m@classmethod\u001B[39m\n\u001B[0;32m   1256\u001B[0m \u001B[38;5;28;01mdef\u001B[39;00m \u001B[38;5;21m_checkout\u001B[39m(\n\u001B[0;32m   1257\u001B[0m     \u001B[38;5;28mcls\u001B[39m,\n\u001B[1;32m   (...)\u001B[0m\n\u001B[0;32m   1260\u001B[0m     fairy: Optional[_ConnectionFairy] \u001B[38;5;241m=\u001B[39m \u001B[38;5;28;01mNone\u001B[39;00m,\n\u001B[0;32m   1261\u001B[0m ) \u001B[38;5;241m-\u001B[39m\u001B[38;5;241m>\u001B[39m _ConnectionFairy:\n\u001B[0;32m   1262\u001B[0m     \u001B[38;5;28;01mif\u001B[39;00m \u001B[38;5;129;01mnot\u001B[39;00m fairy:\n\u001B[1;32m-> 1263\u001B[0m         fairy \u001B[38;5;241m=\u001B[39m \u001B[43m_ConnectionRecord\u001B[49m\u001B[38;5;241;43m.\u001B[39;49m\u001B[43mcheckout\u001B[49m\u001B[43m(\u001B[49m\u001B[43mpool\u001B[49m\u001B[43m)\u001B[49m\n\u001B[0;32m   1265\u001B[0m         \u001B[38;5;28;01mif\u001B[39;00m threadconns \u001B[38;5;129;01mis\u001B[39;00m \u001B[38;5;129;01mnot\u001B[39;00m \u001B[38;5;28;01mNone\u001B[39;00m:\n\u001B[0;32m   1266\u001B[0m             threadconns\u001B[38;5;241m.\u001B[39mcurrent \u001B[38;5;241m=\u001B[39m weakref\u001B[38;5;241m.\u001B[39mref(fairy)\n",
      "File \u001B[1;32mF:\\IT\\IT\\PR\\myPython\\venv\\lib\\site-packages\\sqlalchemy\\pool\\base.py:712\u001B[0m, in \u001B[0;36m_ConnectionRecord.checkout\u001B[1;34m(cls, pool)\u001B[0m\n\u001B[0;32m    710\u001B[0m     rec \u001B[38;5;241m=\u001B[39m cast(_ConnectionRecord, pool\u001B[38;5;241m.\u001B[39m_do_get())\n\u001B[0;32m    711\u001B[0m \u001B[38;5;28;01melse\u001B[39;00m:\n\u001B[1;32m--> 712\u001B[0m     rec \u001B[38;5;241m=\u001B[39m \u001B[43mpool\u001B[49m\u001B[38;5;241;43m.\u001B[39;49m\u001B[43m_do_get\u001B[49m\u001B[43m(\u001B[49m\u001B[43m)\u001B[49m\n\u001B[0;32m    714\u001B[0m \u001B[38;5;28;01mtry\u001B[39;00m:\n\u001B[0;32m    715\u001B[0m     dbapi_connection \u001B[38;5;241m=\u001B[39m rec\u001B[38;5;241m.\u001B[39mget_connection()\n",
      "File \u001B[1;32mF:\\IT\\IT\\PR\\myPython\\venv\\lib\\site-packages\\sqlalchemy\\pool\\impl.py:168\u001B[0m, in \u001B[0;36mQueuePool._do_get\u001B[1;34m(self)\u001B[0m\n\u001B[0;32m    166\u001B[0m     \u001B[38;5;28;01mreturn\u001B[39;00m \u001B[38;5;28mself\u001B[39m\u001B[38;5;241m.\u001B[39m_create_connection()\n\u001B[0;32m    167\u001B[0m \u001B[38;5;28;01mexcept\u001B[39;00m:\n\u001B[1;32m--> 168\u001B[0m     \u001B[38;5;28;01mwith\u001B[39;00m util\u001B[38;5;241m.\u001B[39msafe_reraise():\n\u001B[0;32m    169\u001B[0m         \u001B[38;5;28mself\u001B[39m\u001B[38;5;241m.\u001B[39m_dec_overflow()\n\u001B[0;32m    170\u001B[0m     \u001B[38;5;28;01mraise\u001B[39;00m\n",
      "File \u001B[1;32mF:\\IT\\IT\\PR\\myPython\\venv\\lib\\site-packages\\sqlalchemy\\util\\langhelpers.py:146\u001B[0m, in \u001B[0;36msafe_reraise.__exit__\u001B[1;34m(self, type_, value, traceback)\u001B[0m\n\u001B[0;32m    144\u001B[0m     \u001B[38;5;28;01massert\u001B[39;00m exc_value \u001B[38;5;129;01mis\u001B[39;00m \u001B[38;5;129;01mnot\u001B[39;00m \u001B[38;5;28;01mNone\u001B[39;00m\n\u001B[0;32m    145\u001B[0m     \u001B[38;5;28mself\u001B[39m\u001B[38;5;241m.\u001B[39m_exc_info \u001B[38;5;241m=\u001B[39m \u001B[38;5;28;01mNone\u001B[39;00m  \u001B[38;5;66;03m# remove potential circular references\u001B[39;00m\n\u001B[1;32m--> 146\u001B[0m     \u001B[38;5;28;01mraise\u001B[39;00m exc_value\u001B[38;5;241m.\u001B[39mwith_traceback(exc_tb)\n\u001B[0;32m    147\u001B[0m \u001B[38;5;28;01melse\u001B[39;00m:\n\u001B[0;32m    148\u001B[0m     \u001B[38;5;28mself\u001B[39m\u001B[38;5;241m.\u001B[39m_exc_info \u001B[38;5;241m=\u001B[39m \u001B[38;5;28;01mNone\u001B[39;00m  \u001B[38;5;66;03m# remove potential circular references\u001B[39;00m\n",
      "File \u001B[1;32mF:\\IT\\IT\\PR\\myPython\\venv\\lib\\site-packages\\sqlalchemy\\pool\\impl.py:166\u001B[0m, in \u001B[0;36mQueuePool._do_get\u001B[1;34m(self)\u001B[0m\n\u001B[0;32m    164\u001B[0m \u001B[38;5;28;01mif\u001B[39;00m \u001B[38;5;28mself\u001B[39m\u001B[38;5;241m.\u001B[39m_inc_overflow():\n\u001B[0;32m    165\u001B[0m     \u001B[38;5;28;01mtry\u001B[39;00m:\n\u001B[1;32m--> 166\u001B[0m         \u001B[38;5;28;01mreturn\u001B[39;00m \u001B[38;5;28;43mself\u001B[39;49m\u001B[38;5;241;43m.\u001B[39;49m\u001B[43m_create_connection\u001B[49m\u001B[43m(\u001B[49m\u001B[43m)\u001B[49m\n\u001B[0;32m    167\u001B[0m     \u001B[38;5;28;01mexcept\u001B[39;00m:\n\u001B[0;32m    168\u001B[0m         \u001B[38;5;28;01mwith\u001B[39;00m util\u001B[38;5;241m.\u001B[39msafe_reraise():\n",
      "File \u001B[1;32mF:\\IT\\IT\\PR\\myPython\\venv\\lib\\site-packages\\sqlalchemy\\pool\\base.py:390\u001B[0m, in \u001B[0;36mPool._create_connection\u001B[1;34m(self)\u001B[0m\n\u001B[0;32m    387\u001B[0m \u001B[38;5;28;01mdef\u001B[39;00m \u001B[38;5;21m_create_connection\u001B[39m(\u001B[38;5;28mself\u001B[39m) \u001B[38;5;241m-\u001B[39m\u001B[38;5;241m>\u001B[39m ConnectionPoolEntry:\n\u001B[0;32m    388\u001B[0m \u001B[38;5;250m    \u001B[39m\u001B[38;5;124;03m\"\"\"Called by subclasses to create a new ConnectionRecord.\"\"\"\u001B[39;00m\n\u001B[1;32m--> 390\u001B[0m     \u001B[38;5;28;01mreturn\u001B[39;00m \u001B[43m_ConnectionRecord\u001B[49m\u001B[43m(\u001B[49m\u001B[38;5;28;43mself\u001B[39;49m\u001B[43m)\u001B[49m\n",
      "File \u001B[1;32mF:\\IT\\IT\\PR\\myPython\\venv\\lib\\site-packages\\sqlalchemy\\pool\\base.py:674\u001B[0m, in \u001B[0;36m_ConnectionRecord.__init__\u001B[1;34m(self, pool, connect)\u001B[0m\n\u001B[0;32m    672\u001B[0m \u001B[38;5;28mself\u001B[39m\u001B[38;5;241m.\u001B[39m__pool \u001B[38;5;241m=\u001B[39m pool\n\u001B[0;32m    673\u001B[0m \u001B[38;5;28;01mif\u001B[39;00m connect:\n\u001B[1;32m--> 674\u001B[0m     \u001B[38;5;28;43mself\u001B[39;49m\u001B[38;5;241;43m.\u001B[39;49m\u001B[43m__connect\u001B[49m\u001B[43m(\u001B[49m\u001B[43m)\u001B[49m\n\u001B[0;32m    675\u001B[0m \u001B[38;5;28mself\u001B[39m\u001B[38;5;241m.\u001B[39mfinalize_callback \u001B[38;5;241m=\u001B[39m deque()\n",
      "File \u001B[1;32mF:\\IT\\IT\\PR\\myPython\\venv\\lib\\site-packages\\sqlalchemy\\pool\\base.py:900\u001B[0m, in \u001B[0;36m_ConnectionRecord.__connect\u001B[1;34m(self)\u001B[0m\n\u001B[0;32m    898\u001B[0m     \u001B[38;5;28mself\u001B[39m\u001B[38;5;241m.\u001B[39mfresh \u001B[38;5;241m=\u001B[39m \u001B[38;5;28;01mTrue\u001B[39;00m\n\u001B[0;32m    899\u001B[0m \u001B[38;5;28;01mexcept\u001B[39;00m \u001B[38;5;167;01mBaseException\u001B[39;00m \u001B[38;5;28;01mas\u001B[39;00m e:\n\u001B[1;32m--> 900\u001B[0m     \u001B[38;5;28;01mwith\u001B[39;00m util\u001B[38;5;241m.\u001B[39msafe_reraise():\n\u001B[0;32m    901\u001B[0m         pool\u001B[38;5;241m.\u001B[39mlogger\u001B[38;5;241m.\u001B[39mdebug(\u001B[38;5;124m\"\u001B[39m\u001B[38;5;124mError on connect(): \u001B[39m\u001B[38;5;132;01m%s\u001B[39;00m\u001B[38;5;124m\"\u001B[39m, e)\n\u001B[0;32m    902\u001B[0m \u001B[38;5;28;01melse\u001B[39;00m:\n\u001B[0;32m    903\u001B[0m     \u001B[38;5;66;03m# in SQLAlchemy 1.4 the first_connect event is not used by\u001B[39;00m\n\u001B[0;32m    904\u001B[0m     \u001B[38;5;66;03m# the engine, so this will usually not be set\u001B[39;00m\n",
      "File \u001B[1;32mF:\\IT\\IT\\PR\\myPython\\venv\\lib\\site-packages\\sqlalchemy\\util\\langhelpers.py:146\u001B[0m, in \u001B[0;36msafe_reraise.__exit__\u001B[1;34m(self, type_, value, traceback)\u001B[0m\n\u001B[0;32m    144\u001B[0m     \u001B[38;5;28;01massert\u001B[39;00m exc_value \u001B[38;5;129;01mis\u001B[39;00m \u001B[38;5;129;01mnot\u001B[39;00m \u001B[38;5;28;01mNone\u001B[39;00m\n\u001B[0;32m    145\u001B[0m     \u001B[38;5;28mself\u001B[39m\u001B[38;5;241m.\u001B[39m_exc_info \u001B[38;5;241m=\u001B[39m \u001B[38;5;28;01mNone\u001B[39;00m  \u001B[38;5;66;03m# remove potential circular references\u001B[39;00m\n\u001B[1;32m--> 146\u001B[0m     \u001B[38;5;28;01mraise\u001B[39;00m exc_value\u001B[38;5;241m.\u001B[39mwith_traceback(exc_tb)\n\u001B[0;32m    147\u001B[0m \u001B[38;5;28;01melse\u001B[39;00m:\n\u001B[0;32m    148\u001B[0m     \u001B[38;5;28mself\u001B[39m\u001B[38;5;241m.\u001B[39m_exc_info \u001B[38;5;241m=\u001B[39m \u001B[38;5;28;01mNone\u001B[39;00m  \u001B[38;5;66;03m# remove potential circular references\u001B[39;00m\n",
      "File \u001B[1;32mF:\\IT\\IT\\PR\\myPython\\venv\\lib\\site-packages\\sqlalchemy\\pool\\base.py:896\u001B[0m, in \u001B[0;36m_ConnectionRecord.__connect\u001B[1;34m(self)\u001B[0m\n\u001B[0;32m    894\u001B[0m \u001B[38;5;28;01mtry\u001B[39;00m:\n\u001B[0;32m    895\u001B[0m     \u001B[38;5;28mself\u001B[39m\u001B[38;5;241m.\u001B[39mstarttime \u001B[38;5;241m=\u001B[39m time\u001B[38;5;241m.\u001B[39mtime()\n\u001B[1;32m--> 896\u001B[0m     \u001B[38;5;28mself\u001B[39m\u001B[38;5;241m.\u001B[39mdbapi_connection \u001B[38;5;241m=\u001B[39m connection \u001B[38;5;241m=\u001B[39m \u001B[43mpool\u001B[49m\u001B[38;5;241;43m.\u001B[39;49m\u001B[43m_invoke_creator\u001B[49m\u001B[43m(\u001B[49m\u001B[38;5;28;43mself\u001B[39;49m\u001B[43m)\u001B[49m\n\u001B[0;32m    897\u001B[0m     pool\u001B[38;5;241m.\u001B[39mlogger\u001B[38;5;241m.\u001B[39mdebug(\u001B[38;5;124m\"\u001B[39m\u001B[38;5;124mCreated new connection \u001B[39m\u001B[38;5;132;01m%r\u001B[39;00m\u001B[38;5;124m\"\u001B[39m, connection)\n\u001B[0;32m    898\u001B[0m     \u001B[38;5;28mself\u001B[39m\u001B[38;5;241m.\u001B[39mfresh \u001B[38;5;241m=\u001B[39m \u001B[38;5;28;01mTrue\u001B[39;00m\n",
      "File \u001B[1;32mF:\\IT\\IT\\PR\\myPython\\venv\\lib\\site-packages\\sqlalchemy\\engine\\create.py:643\u001B[0m, in \u001B[0;36mcreate_engine.<locals>.connect\u001B[1;34m(connection_record)\u001B[0m\n\u001B[0;32m    640\u001B[0m         \u001B[38;5;28;01mif\u001B[39;00m connection \u001B[38;5;129;01mis\u001B[39;00m \u001B[38;5;129;01mnot\u001B[39;00m \u001B[38;5;28;01mNone\u001B[39;00m:\n\u001B[0;32m    641\u001B[0m             \u001B[38;5;28;01mreturn\u001B[39;00m connection\n\u001B[1;32m--> 643\u001B[0m \u001B[38;5;28;01mreturn\u001B[39;00m dialect\u001B[38;5;241m.\u001B[39mconnect(\u001B[38;5;241m*\u001B[39mcargs, \u001B[38;5;241m*\u001B[39m\u001B[38;5;241m*\u001B[39mcparams)\n",
      "File \u001B[1;32mF:\\IT\\IT\\PR\\myPython\\venv\\lib\\site-packages\\sqlalchemy\\engine\\default.py:616\u001B[0m, in \u001B[0;36mDefaultDialect.connect\u001B[1;34m(self, *cargs, **cparams)\u001B[0m\n\u001B[0;32m    614\u001B[0m \u001B[38;5;28;01mdef\u001B[39;00m \u001B[38;5;21mconnect\u001B[39m(\u001B[38;5;28mself\u001B[39m, \u001B[38;5;241m*\u001B[39mcargs, \u001B[38;5;241m*\u001B[39m\u001B[38;5;241m*\u001B[39mcparams):\n\u001B[0;32m    615\u001B[0m     \u001B[38;5;66;03m# inherits the docstring from interfaces.Dialect.connect\u001B[39;00m\n\u001B[1;32m--> 616\u001B[0m     \u001B[38;5;28;01mreturn\u001B[39;00m \u001B[38;5;28mself\u001B[39m\u001B[38;5;241m.\u001B[39mloaded_dbapi\u001B[38;5;241m.\u001B[39mconnect(\u001B[38;5;241m*\u001B[39mcargs, \u001B[38;5;241m*\u001B[39m\u001B[38;5;241m*\u001B[39mcparams)\n",
      "\u001B[1;31mInterfaceError\u001B[0m: (pyodbc.InterfaceError) ('IM002', '[IM002] [Microsoft][Диспетчер драйверов ODBC] Источник данных не найден и не указан драйвер, используемый по умолчанию (0) (SQLDriverConnect)')\n(Background on this error at: https://sqlalche.me/e/20/rvf5)"
     ]
    }
   ],
   "source": [
    "query = 'SELECT * FROM [marshrut]'\n",
    "df1 = pd.read_sql(query, engine)\n",
    "df1"
   ],
   "metadata": {
    "collapsed": false
   }
  },
  {
   "cell_type": "code",
   "execution_count": null,
   "outputs": [],
   "source": [],
   "metadata": {
    "collapsed": false
   }
  },
  {
   "cell_type": "code",
   "execution_count": null,
   "outputs": [],
   "source": [],
   "metadata": {
    "collapsed": false
   }
  }
 ],
 "metadata": {
  "kernelspec": {
   "display_name": "Python 3",
   "language": "python",
   "name": "python3"
  },
  "language_info": {
   "codemirror_mode": {
    "name": "ipython",
    "version": 2
   },
   "file_extension": ".py",
   "mimetype": "text/x-python",
   "name": "python",
   "nbconvert_exporter": "python",
   "pygments_lexer": "ipython2",
   "version": "2.7.6"
  }
 },
 "nbformat": 4,
 "nbformat_minor": 0
}
