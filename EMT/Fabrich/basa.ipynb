{
 "cells": [
  {
   "cell_type": "code",
   "execution_count": 1,
   "metadata": {
    "collapsed": true,
    "ExecuteTime": {
     "start_time": "2024-03-10T11:28:33.317428Z",
     "end_time": "2024-03-10T11:28:38.407570Z"
    }
   },
   "outputs": [],
   "source": [
    "import pandas as pd\n",
    "import numpy as np\n",
    "import pyodbc as pc\n",
    "import sqlalchemy\n",
    "import warnings\n",
    "\n",
    "warnings.filterwarnings('ignore')\n",
    "\n",
    "path_start = 'c:/tt/'\n",
    "path_start_kntr = 'c:/tt/kntr/'"
   ]
  },
  {
   "cell_type": "code",
   "execution_count": 2,
   "outputs": [],
   "source": [
    "def connect():\n",
    "    connection_string = \"Driver=SQL Server;Server=localhost;Database=fabr;Trusted_Connection=Yes;\"\n",
    "    cnxn = pc.connect(connection_string, autocommit=True)\n",
    "    return cnxn\n",
    "def connect_sqlalchemy():\n",
    "    engine = sqlalchemy.create_engine(\"mssql+pyodbc://DESKTOP-SFHJLGK/fabr?driver=ODBC+Driver+17+for+SQL+Server\")\n",
    "    return engine\n",
    "\n",
    "def read_sql(cnxn, query):\n",
    "    df1 = pd.read_sql(query, cnxn)\n",
    "    return df1\n",
    "\n",
    "def to_sql(cnxn, table, df):\n",
    "    cur=cnxn.cursor()\n",
    "    cols = ','.join(df.columns)\n",
    "    vals = ','.join('?' * len(df.columns))\n",
    "    query = f'''insert into {table}({cols}) values ({vals})'''\n",
    "    cur.fast_executemany = True\n",
    "    cur.executemany(query, df.values.tolist())\n",
    "\n",
    "def delete_sql(cnxn, table):\n",
    "    cnxn.execute(f'''delete {table}''')\n",
    "\n",
    "def close_conn(cnxn):\n",
    "    cnxn.close()"
   ],
   "metadata": {
    "collapsed": false,
    "ExecuteTime": {
     "start_time": "2024-03-10T11:28:38.406571Z",
     "end_time": "2024-03-10T11:28:38.420573Z"
    }
   }
  },
  {
   "cell_type": "code",
   "execution_count": 3,
   "outputs": [],
   "source": [
    "# cnxn = connect()\n",
    "engine = connect_sqlalchemy()"
   ],
   "metadata": {
    "collapsed": false,
    "ExecuteTime": {
     "start_time": "2024-03-10T11:28:38.422576Z",
     "end_time": "2024-03-10T11:28:38.469587Z"
    }
   }
  },
  {
   "cell_type": "code",
   "execution_count": 4,
   "outputs": [],
   "source": [
    "def read_marsh():\n",
    "    df = pd.read_csv('c:/tt/marsh_fabr.csv')\n",
    "    df['sm'] = df['sm'].str.replace(' ', '')\n",
    "    df['sm1'] = df['sm1'].str.replace(' ', '')\n",
    "    df['rs'] = df['rs'].str.replace(' ', '')\n",
    "    df['sm'].fillna('', inplace=True)\n",
    "    df['sm1'].fillna('', inplace=True)\n",
    "    return df\n",
    "\n",
    "def to_devmarsh(df):\n",
    "    ls = []\n",
    "    for index, row in df.iterrows():\n",
    "        bm = row['bm']\n",
    "        id_m = row['id']\n",
    "        sm = row['sm1']\n",
    "        rs = row['rs']\n",
    "        ls_str = sm.split(',')\n",
    "        ls_rs = rs.split(',')\n",
    "        ss = [[id_m, ls_rs[0], 'РЦ', 1, 0, 1], [id_m, bm, 'Светофор', 1, 0, 2]]\n",
    "        i = 3\n",
    "        for rs1 in ls_rs[1:]:\n",
    "            ss.append([id_m, rs1, 'РЦ', 0, 1, i])\n",
    "            i += 1\n",
    "        for str1 in ls_str:\n",
    "            if str1 != '':\n",
    "                str2 = str1[1:]\n",
    "                str3 = str1[:1]\n",
    "                str_pos = 1\n",
    "                if str3 == '-':\n",
    "                    str_pos = 0\n",
    "                ss.append([id_m, str2, 'Стрелка', str_pos, 0, 0])\n",
    "        ls.extend(ss)\n",
    "    df2 = pd.DataFrame(ls, columns=['marshrut_id', 'elm', 'telm', 'ppos', 'isp', 'pnisp'])\n",
    "    df2.to_sql('devmarsh', engine, if_exists='append', index=False)\n",
    "    # df2.to_sql('devmarsh', engine, if_exists='replace', index_label='id')\n",
    "    # to_sql(cnxn, 'devmarsh', df2)\n",
    "\n",
    "def to_sv(df):\n",
    "    lsm = df['bm'].unique().tolist()\n",
    "    dfm = pd.DataFrame(lsm, columns=['name'])\n",
    "    dfm['pok'] = 0\n",
    "    dfm['type'] = 0\n",
    "    dfm['fault_B'] = 0\n",
    "    dfm['fault_K'] = 0\n",
    "    dfm['remont'] = 0\n",
    "    dfm['marsh'] = 0\n",
    "    dfm.to_sql('sv', engine, if_exists='append', index=False)\n",
    "    # dfm.to_sql('sv', engine, if_exists='replace', index_label='id')\n",
    "    # to_sql(cnxn, 'sv', dfm)\n",
    "\n",
    "def to_str(df):\n",
    "    ls = df['sm'].tolist()\n",
    "    ls_str = []\n",
    "    ls_str1 = []\n",
    "    for l_st in ls:\n",
    "        if l_st is not np.nan:\n",
    "            for st in l_st.split(','):\n",
    "                st1 = st.strip()\n",
    "                st1 = st1[1:]\n",
    "                if st1 not in ls_str:\n",
    "                    ls_str.append(st1)\n",
    "    for st1 in ls_str:\n",
    "        s1 = st1\n",
    "        s2 = s3 = ''\n",
    "        if '/' in st1:\n",
    "            ind = st1.index('/')\n",
    "            s1 = st1[:ind]\n",
    "            s2 = st1[ind+1:]\n",
    "            s3 = st1\n",
    "        ls_str1.append([s1,s2,s3])\n",
    "        if s2 != '':\n",
    "            ls_str1.append([s2,s1,s3])\n",
    "    df_str = pd.DataFrame(ls_str1, columns=['name', 'name2', 'name_main'])\n",
    "    df_str['pol'] = 0\n",
    "    df_str['remont'] = 0\n",
    "    df_str['marsh'] = 0\n",
    "    df_str['mt_z'] = 0\n",
    "    df_str['mt_p'] = 0\n",
    "    df_str['mt_m'] = 0\n",
    "    df_str.to_sql('str', engine, if_exists='append', index=False)\n",
    "    # df_str.to_sql('str', engine, if_exists='replace', index_label='id')\n",
    "    # to_sql(cnxn, 'str', df_str)\n",
    "\n",
    "def to_rs(df):\n",
    "    ls = df['rs'].tolist()\n",
    "    ls_str = []\n",
    "    for l_st in ls:\n",
    "        if l_st is not np.nan:\n",
    "            for st in l_st.split(','):\n",
    "                st1 = st.strip()\n",
    "                if st1 not in ls_str:\n",
    "                    ls_str.append(st1)\n",
    "\n",
    "    df_str = pd.DataFrame(ls_str, columns=['name'])\n",
    "    df_str['state'] = 0\n",
    "    df_str['remont'] = 0\n",
    "    df_str['marsh'] = 0\n",
    "    df_str.to_sql('rs', engine, if_exists='append', index=False)\n",
    "    # df_str.to_sql('rs', engine, if_exists='replace', index_label='id')\n",
    "    # to_sql(cnxn, 'rs', df_str)\n",
    "\n",
    "def to_txt_ls(namefile, ls):\n",
    "    path = path_start + namefile\n",
    "    with open(path, \"w\", encoding='Windows-1251') as f:\n",
    "        for ss in ls:\n",
    "            f.write(ss +'\\n')\n",
    "\n",
    "def to_txt_ls2(namefile, ls):\n",
    "    path = path_start + namefile\n",
    "    with open(path, \"w\", encoding='Windows-1251') as f:\n",
    "        for ss in ls:\n",
    "            s1 = ''\n",
    "            for ss1 in ss:\n",
    "                s1 += str(ss1) + ','\n",
    "            if len(s1) > 0:\n",
    "                s1 = s1[:-1]\n",
    "                f.write(s1)\n",
    "                f.write('\\n')"
   ],
   "metadata": {
    "collapsed": false,
    "ExecuteTime": {
     "start_time": "2024-03-10T11:28:38.481589Z",
     "end_time": "2024-03-10T11:28:38.530678Z"
    }
   }
  },
  {
   "cell_type": "code",
   "execution_count": 5,
   "outputs": [],
   "source": [
    "df = read_marsh()\n",
    "dfm = pd.read_sql('''select * from sv''', engine)\n",
    "dfstr = pd.read_sql('''select * from str''', engine)\n",
    "dfrs = pd.read_sql('''select * from rs''', engine)\n",
    "dfmarsh = pd.read_sql('''select * from devmarsh''', engine)"
   ],
   "metadata": {
    "collapsed": false,
    "ExecuteTime": {
     "start_time": "2024-03-08T10:58:47.739248Z",
     "end_time": "2024-03-08T10:58:48.981525Z"
    }
   }
  },
  {
   "cell_type": "code",
   "execution_count": 47,
   "outputs": [],
   "source": [
    "# cnxn.close()"
   ],
   "metadata": {
    "collapsed": false,
    "ExecuteTime": {
     "start_time": "2024-02-26T16:56:26.052087Z",
     "end_time": "2024-02-26T16:56:26.067088Z"
    }
   }
  },
  {
   "cell_type": "code",
   "execution_count": 51,
   "outputs": [],
   "source": [
    "# to_sv(df)\n",
    "to_str(df)\n",
    "to_rs(df)\n",
    "to_devmarsh(df)"
   ],
   "metadata": {
    "collapsed": false,
    "ExecuteTime": {
     "start_time": "2024-02-29T19:36:23.315977Z",
     "end_time": "2024-02-29T19:36:23.560043Z"
    }
   }
  },
  {
   "cell_type": "code",
   "execution_count": null,
   "outputs": [],
   "source": [],
   "metadata": {
    "collapsed": false
   }
  },
  {
   "cell_type": "code",
   "execution_count": 9,
   "outputs": [
    {
     "data": {
      "text/plain": "        id  marshrut_id      elm      telm  ppos  isp  pnisp\n0        1            1        Т        РЦ     1    0      1\n1        2            1       Мн  Светофор     1    0      2\n2        3            1      1ГП        РЦ     0    1      3\n3        4            2        Т        РЦ     1    0      1\n4        5            2       Мз  Светофор     1    0      2\n...    ...          ...      ...       ...   ...  ...    ...\n2199  2200          294  204-212        РЦ     0    1      3\n2200  2201          294     203П        РЦ     0    1      4\n2201  2202          294      212   Стрелка     0    0      0\n2202  2203          294      204   Стрелка     1    0      0\n2203  2204          294      208   Стрелка     0    0      0\n\n[2204 rows x 7 columns]",
      "text/html": "<div>\n<style scoped>\n    .dataframe tbody tr th:only-of-type {\n        vertical-align: middle;\n    }\n\n    .dataframe tbody tr th {\n        vertical-align: top;\n    }\n\n    .dataframe thead th {\n        text-align: right;\n    }\n</style>\n<table border=\"1\" class=\"dataframe\">\n  <thead>\n    <tr style=\"text-align: right;\">\n      <th></th>\n      <th>id</th>\n      <th>marshrut_id</th>\n      <th>elm</th>\n      <th>telm</th>\n      <th>ppos</th>\n      <th>isp</th>\n      <th>pnisp</th>\n    </tr>\n  </thead>\n  <tbody>\n    <tr>\n      <th>0</th>\n      <td>1</td>\n      <td>1</td>\n      <td>Т</td>\n      <td>РЦ</td>\n      <td>1</td>\n      <td>0</td>\n      <td>1</td>\n    </tr>\n    <tr>\n      <th>1</th>\n      <td>2</td>\n      <td>1</td>\n      <td>Мн</td>\n      <td>Светофор</td>\n      <td>1</td>\n      <td>0</td>\n      <td>2</td>\n    </tr>\n    <tr>\n      <th>2</th>\n      <td>3</td>\n      <td>1</td>\n      <td>1ГП</td>\n      <td>РЦ</td>\n      <td>0</td>\n      <td>1</td>\n      <td>3</td>\n    </tr>\n    <tr>\n      <th>3</th>\n      <td>4</td>\n      <td>2</td>\n      <td>Т</td>\n      <td>РЦ</td>\n      <td>1</td>\n      <td>0</td>\n      <td>1</td>\n    </tr>\n    <tr>\n      <th>4</th>\n      <td>5</td>\n      <td>2</td>\n      <td>Мз</td>\n      <td>Светофор</td>\n      <td>1</td>\n      <td>0</td>\n      <td>2</td>\n    </tr>\n    <tr>\n      <th>...</th>\n      <td>...</td>\n      <td>...</td>\n      <td>...</td>\n      <td>...</td>\n      <td>...</td>\n      <td>...</td>\n      <td>...</td>\n    </tr>\n    <tr>\n      <th>2199</th>\n      <td>2200</td>\n      <td>294</td>\n      <td>204-212</td>\n      <td>РЦ</td>\n      <td>0</td>\n      <td>1</td>\n      <td>3</td>\n    </tr>\n    <tr>\n      <th>2200</th>\n      <td>2201</td>\n      <td>294</td>\n      <td>203П</td>\n      <td>РЦ</td>\n      <td>0</td>\n      <td>1</td>\n      <td>4</td>\n    </tr>\n    <tr>\n      <th>2201</th>\n      <td>2202</td>\n      <td>294</td>\n      <td>212</td>\n      <td>Стрелка</td>\n      <td>0</td>\n      <td>0</td>\n      <td>0</td>\n    </tr>\n    <tr>\n      <th>2202</th>\n      <td>2203</td>\n      <td>294</td>\n      <td>204</td>\n      <td>Стрелка</td>\n      <td>1</td>\n      <td>0</td>\n      <td>0</td>\n    </tr>\n    <tr>\n      <th>2203</th>\n      <td>2204</td>\n      <td>294</td>\n      <td>208</td>\n      <td>Стрелка</td>\n      <td>0</td>\n      <td>0</td>\n      <td>0</td>\n    </tr>\n  </tbody>\n</table>\n<p>2204 rows × 7 columns</p>\n</div>"
     },
     "execution_count": 9,
     "metadata": {},
     "output_type": "execute_result"
    }
   ],
   "source": [
    "df1 = pd.read_sql('''select * from devmarsh''', engine)\n",
    "df1"
   ],
   "metadata": {
    "collapsed": false,
    "ExecuteTime": {
     "start_time": "2024-03-02T17:31:21.882338Z",
     "end_time": "2024-03-02T17:31:21.912343Z"
    }
   }
  },
  {
   "cell_type": "code",
   "execution_count": 84,
   "outputs": [],
   "source": [
    "def txt_sv_rs():\n",
    "    df1 = dfmarsh\n",
    "    ls = dfm['name'].tolist()\n",
    "    ls1 = []\n",
    "    for sv in ls:\n",
    "        mt_id = df1[df1['elm']==sv]['marshrut_id'].iloc[0]\n",
    "        rs1 = df1[(df1['marshrut_id']==mt_id) & (df1.telm == 'РЦ') & (df1.pnisp == 1)]['elm'].iloc[0]\n",
    "        rs2 = df1[(df1['marshrut_id']==mt_id) & (df1.telm == 'РЦ') & (df1.pnisp == 3)]['elm'].iloc[0]\n",
    "        ls1.append([sv, rs1, rs2])\n",
    "    # to_txt_ls2(\"sv_rs.txt\", ls1)\n",
    "    return pd.DataFrame(ls1, columns=['sv', 'rs1', 'rs2'])\n",
    "def txt_str_rs():\n",
    "    df1 = pd.read_excel('marsh_fabr.xlsx', sheet_name='str_rs')\n",
    "    ls1 = df1.values.tolist()\n",
    "    to_txt_ls2(\"str_rs.txt\", ls1)\n",
    "\n",
    "def txt_rs_sv():\n",
    "    dfsvrs = txt_sv_rs()\n",
    "    dfsvrs = dfsvrs.astype({\"rs1\": \"str\", 'rs2':'str'})\n",
    "    lsrs = dfrs.name.tolist()\n",
    "    ls2 = []\n",
    "    for rs in lsrs:\n",
    "        ls3 = dfsvrs[dfsvrs['rs2']==rs]['sv'].tolist()\n",
    "        ls2.append([rs] + ls3)\n",
    "    to_txt_ls2(\"rs_sv.txt\", ls2)\n",
    "\n",
    "def txt_rs_str():\n",
    "    dfstrrs = pd.read_excel('marsh_fabr.xlsx', sheet_name='str_rs')\n",
    "    dfstrrs = dfstrrs.astype({\"str\": \"str\", 'rs':'str'})\n",
    "    lsrs = dfrs.name.tolist()\n",
    "    ls2 = []\n",
    "    for rs in lsrs:\n",
    "        ls3 = dfstrrs[dfstrrs['rs']==rs]['str'].tolist()\n",
    "        ls2.append([rs] + ls3)\n",
    "    to_txt_ls2(\"rs_str.txt\", ls2)"
   ],
   "metadata": {
    "collapsed": false,
    "ExecuteTime": {
     "start_time": "2024-03-02T21:52:43.120228Z",
     "end_time": "2024-03-02T21:52:43.151232Z"
    }
   }
  },
  {
   "cell_type": "code",
   "execution_count": 85,
   "outputs": [],
   "source": [
    "# txt_sv_rs()\n",
    "# txt_str_rs()\n",
    "# txt_rs_sv()\n",
    "# txt_rs_str()"
   ],
   "metadata": {
    "collapsed": false,
    "ExecuteTime": {
     "start_time": "2024-03-02T21:52:49.717254Z",
     "end_time": "2024-03-02T21:52:50.119848Z"
    }
   }
  },
  {
   "cell_type": "code",
   "execution_count": null,
   "outputs": [],
   "source": [
    "dfstrrs = pd.read_excel('marsh_fabr.xlsx', sheet_name='str_rs')\n",
    "lsrs = dfrs.name.tolist()\n",
    "ls2 = []\n",
    "for rs in lsrs:\n",
    "    ls3 = dfstrrs[dfstrrs['rs']==rs]['str'].tolist()\n",
    "    ls2.append([rs] + ls3)"
   ],
   "metadata": {
    "collapsed": false
   }
  },
  {
   "cell_type": "code",
   "execution_count": 86,
   "outputs": [
    {
     "data": {
      "text/plain": "['109']"
     },
     "execution_count": 86,
     "metadata": {},
     "output_type": "execute_result"
    }
   ],
   "source": [
    "# x = dfstrrs['rs'].iloc[0]\n",
    "dfstrrs[dfstrrs['rs']=='105-109']['str'].tolist()"
   ],
   "metadata": {
    "collapsed": false,
    "ExecuteTime": {
     "start_time": "2024-03-02T21:55:34.188843Z",
     "end_time": "2024-03-02T21:55:34.212356Z"
    }
   }
  },
  {
   "cell_type": "code",
   "execution_count": 76,
   "outputs": [
    {
     "data": {
      "text/plain": "1"
     },
     "execution_count": 76,
     "metadata": {},
     "output_type": "execute_result"
    }
   ],
   "source": [
    "dfstrrs['rs'].iloc[0]"
   ],
   "metadata": {
    "collapsed": false,
    "ExecuteTime": {
     "start_time": "2024-03-02T21:45:41.212952Z",
     "end_time": "2024-03-02T21:45:41.250959Z"
    }
   }
  },
  {
   "cell_type": "code",
   "execution_count": 80,
   "outputs": [],
   "source": [
    "dfstrrs = dfstrrs.astype({\"str\": \"str\", 'rs':'str'})"
   ],
   "metadata": {
    "collapsed": false,
    "ExecuteTime": {
     "start_time": "2024-03-02T21:50:32.415744Z",
     "end_time": "2024-03-02T21:50:32.424749Z"
    }
   }
  },
  {
   "cell_type": "code",
   "execution_count": 82,
   "outputs": [
    {
     "name": "stdout",
     "output_type": "stream",
     "text": [
      "<class 'pandas.core.frame.DataFrame'>\n",
      "RangeIndex: 92 entries, 0 to 91\n",
      "Data columns (total 2 columns):\n",
      " #   Column  Non-Null Count  Dtype \n",
      "---  ------  --------------  ----- \n",
      " 0   str     92 non-null     object\n",
      " 1   rs      92 non-null     object\n",
      "dtypes: object(2)\n",
      "memory usage: 1.6+ KB\n"
     ]
    }
   ],
   "source": [
    "dfstrrs.info()"
   ],
   "metadata": {
    "collapsed": false,
    "ExecuteTime": {
     "start_time": "2024-03-02T21:50:40.923182Z",
     "end_time": "2024-03-02T21:50:40.953183Z"
    }
   }
  },
  {
   "cell_type": "code",
   "execution_count": null,
   "outputs": [],
   "source": [
    "\n"
   ],
   "metadata": {
    "collapsed": false
   }
  },
  {
   "cell_type": "code",
   "execution_count": 5,
   "outputs": [],
   "source": [
    "def get_dict_ru_en():\n",
    "    s2 = \"\"\"А а\n",
    "\n",
    "A a\n",
    "\n",
    "Л л\n",
    "\n",
    "L l\n",
    "\n",
    "Ц ц\n",
    "\n",
    "Ts ts\n",
    "\n",
    "Б б\n",
    "\n",
    "B b\n",
    "\n",
    "М м\n",
    "\n",
    "M m\n",
    "\n",
    "Ч ч\n",
    "\n",
    "Ch ch\n",
    "\n",
    "В в\n",
    "\n",
    "V v\n",
    "\n",
    "Н н\n",
    "\n",
    "N n\n",
    "\n",
    "Ш ш\n",
    "\n",
    "Sh sh\n",
    "\n",
    "Г г\n",
    "\n",
    "G g\n",
    "\n",
    "О о\n",
    "\n",
    "O o\n",
    "\n",
    "Щ щ\n",
    "\n",
    "Shch shch\n",
    "\n",
    "Д д\n",
    "\n",
    "D d\n",
    "\n",
    "П п\n",
    "\n",
    "P p\n",
    "\n",
    "Е е\n",
    "\n",
    "E e\n",
    "\n",
    "Р р\n",
    "\n",
    "R r\n",
    "\n",
    "Ы ы\n",
    "\n",
    "Y y\n",
    "\n",
    "Ж ж\n",
    "\n",
    "Zh zh\n",
    "\n",
    "С с\n",
    "\n",
    "S s\n",
    "\n",
    "З з\n",
    "\n",
    "Z, z\n",
    "\n",
    "Т т\n",
    "\n",
    "T t\n",
    "\n",
    "Э э\n",
    "\n",
    "E e\n",
    "\n",
    "И и\n",
    "\n",
    "I i\n",
    "\n",
    "У у\n",
    "\n",
    "U u\n",
    "\n",
    "Ю ю\n",
    "\n",
    "Yu yu\n",
    "\n",
    "Й й\n",
    "\n",
    "Y y\n",
    "\n",
    "Ф ф\n",
    "\n",
    "F f\n",
    "\n",
    "Я я\n",
    "\n",
    "Ya ya\n",
    "\n",
    "К к\n",
    "\n",
    "K k\n",
    "\n",
    "Х х\n",
    "\n",
    "Kh kh\n",
    "\n",
    "/ -\n",
    "\n",
    "_ _\"\"\"\n",
    "    ls1 = s2.split('\\n\\n')\n",
    "    ls_ru = []\n",
    "    cnt = len(ls1)\n",
    "    for i in range(0,cnt,2):\n",
    "        ls_ru = ls_ru + ls1[i].split(' ')\n",
    "\n",
    "    ls_en = []\n",
    "    cnt = len(ls1)\n",
    "    for i in range(1,cnt,2):\n",
    "        ls_en = ls_en + ls1[i].split(' ')\n",
    "\n",
    "    ds = dict(zip(ls_ru,ls_en))\n",
    "    return ds\n",
    "\n",
    "ds_ru_en = get_dict_ru_en()\n",
    "\n",
    "def ru_en(s1):\n",
    "    s2 = ''\n",
    "    for s_ru in str(s1):\n",
    "        s_en = ds_ru_en.get(s_ru)\n",
    "        if s_en:\n",
    "            s2 += s_en\n",
    "        else:\n",
    "            s2 += s_ru\n",
    "    return s2\n",
    "\n",
    "def st_script_DDI(typ='rs',  open_mod='a', ls_name_dop=[]):\n",
    "    dfsv1 = pd.read_excel(f'{path_start_kntr}base/modbus_read_par.xlsx', sheet_name=typ)\n",
    "    dfsv1['name'] = dfsv1['name'].astype(str)\n",
    "    rezerv = 1\n",
    "    var_typ = 'RS'\n",
    "    if typ == 'str':\n",
    "        var_typ = 'STR'\n",
    "    with open(f'{path_start_kntr}script_ddi.txt', open_mod, encoding='Windows-1251') as f:\n",
    "        for index, row in dfsv1.iterrows():\n",
    "            rs_name = ru_en(row['name'])\n",
    "            if row['name'] == 'резерв':\n",
    "                rs_name += str(rezerv)\n",
    "                rezerv += 1\n",
    "            if len(ls_name_dop) != 0:\n",
    "                n1 = int(row[\"n\"])\n",
    "                i = 0\n",
    "                for name_dop in ls_name_dop:\n",
    "                    n1 += i\n",
    "                    st1 = f'E_{name_dop}_{var_typ}_{rs_name}:=EIO2_d{row[\"d\"]}_r0_s{row[\"s\"]}_DDI{row[\"ddi\"]}02K.DIS_CH_IN[{n1}].VALUE;\\n'\n",
    "                    f.write(st1)\n",
    "                    i += 1\n",
    "            else:\n",
    "                st1 = f'E_{var_typ}_{rs_name}:=EIO2_d{row[\"d\"]}_r0_s{row[\"s\"]}_DDI{row[\"ddi\"]}02K.DIS_CH_IN[{row[\"n\"]}].VALUE;\\n'\n",
    "                f.write(st1)\n",
    "\n",
    "def st_script_Modbus_Read(typ='sv', open_mod='a'):\n",
    "    dfstr1 = pd.read_excel(f'{path_start_kntr}base/modbus_read_par.xlsx', sheet_name=typ)\n",
    "    slave = 1\n",
    "    rezerv = 1\n",
    "    var_typ = 'BKC2'\n",
    "    typ_name = 'SV'\n",
    "    if typ == 'str':\n",
    "        var_typ = 'PCPT'\n",
    "        typ_name = 'STR'\n",
    "    with open(f'{path_start_kntr}script_modbus_read.txt', open_mod, encoding='Windows-1251') as f:\n",
    "        for index, row in dfstr1.iterrows():\n",
    "            name = ru_en(row['name'])\n",
    "            if row['name'] == 'резерв':\n",
    "                name += str(rezerv)\n",
    "                rezerv += 1\n",
    "\n",
    "            st1 = f\"MDB_{var_typ}_{name}\" + r\" ('0.0.3{192.168.11.\" + f\"{row['sh']}\" \\\n",
    "                  + r\"}\\\\0.\" + f\"{row['pol']}.{row['canal']}.{slave}', ARM_{typ_name}_{name});\\n\"\n",
    "            f.write(st1)\n",
    "            slave += 1\n",
    "\n",
    "def var_xml(ls, start_name_var, typeName, open_mod='a'):\n",
    "    with open(f'{path_start_kntr}var.txt', open_mod, encoding='Windows-1251') as f:\n",
    "        for st in ls:\n",
    "            st1 = f'        <variables name=\"{start_name_var}_{ru_en(st)}\" typeName=\"{typeName}\"></variables>\\n'\n",
    "            f.write(st1)\n",
    "\n",
    "def var_xml_ARM(ls, typ, reg_start,  open_mod='a'):\n",
    "    with open(f'{path_start_kntr}var.txt', \"a\", encoding='Windows-1251') as f:\n",
    "        reg = reg_start\n",
    "        ls_mw = []\n",
    "        for st in ls:\n",
    "            st1 = ru_en(st)\n",
    "            s1 = f'''   <variables name=\"ARM_{typ}_{st1}\" typeName=\"WORD\" topologicalAddress=\"%MW{reg}\">\n",
    "            <attribute name=\"TimeStampSource\" value=\"0\"></attribute>\n",
    "        </variables>\n",
    "    '''\n",
    "            ls_mw.append([st, reg, st1])\n",
    "            reg += 1\n",
    "            f.write(s1)\n",
    "    return ls_mw\n",
    "\n",
    "def kntr_write_data():\n",
    "\n",
    "    lsstr = dfstr['name'].tolist()\n",
    "    lsstr = lsstr[1:]\n",
    "    lssv = dfm['name'].tolist()\n",
    "    lsrs = dfrs['name'].tolist()\n",
    "    lsrs = lsrs[1:]\n",
    "\n",
    "    lsstr2 = []\n",
    "    for index, row in dfstr[1:].iterrows():\n",
    "        s1 = row['name']\n",
    "        s3 = row['name_main']\n",
    "        if s3 == '':\n",
    "            lsstr2.append(s1)\n",
    "        else:\n",
    "            if s3 not in lsstr2:\n",
    "                lsstr2.append(s3)\n",
    "\n",
    "    # Переменные ----------------------------------------------------\n",
    "    var_xml(lsrs, 'E_RS', 'EBOOL', 'w')\n",
    "    var_xml(lsstr2, 'E_SD_STR', 'EBOOL')\n",
    "    var_xml(lsstr2, 'E_OF_STR', 'EBOOL')\n",
    "    var_xml(lssv, 'MDB_BKC2', 'BKC2_MODBUS_READ')\n",
    "    var_xml(lsstr2, 'MDB_PCPT', 'PCPT_MODBUS_READ')\n",
    "\n",
    "    ls_mw_str = var_xml_ARM(lsstr2, 'STR', 501)\n",
    "    ls_mw_sv = var_xml_ARM(lssv, 'SV', 701)\n",
    "    ls_mw_rs = var_xml_ARM(lsrs, 'RS', 901)\n",
    "\n",
    "    # Регистры устройств exel----------------------------------------------------\n",
    "    df1 = pd.DataFrame(ls_mw_sv, columns=['name', 'reg', 'name1'])\n",
    "    df2 = pd.DataFrame(ls_mw_str, columns=['name', 'reg', 'name1'])\n",
    "    df3 = pd.DataFrame(ls_mw_rs, columns=['name', 'reg', 'name1'])\n",
    "\n",
    "    with pd.ExcelWriter(f'{path_start_kntr}reg_dev.xlsx') as writer:  # doctest: +SKIP\n",
    "        df1.to_excel(writer, sheet_name='sv', index=False)\n",
    "        df2.to_excel(writer, sheet_name='str', index=False)\n",
    "        df3.to_excel(writer, sheet_name='rs', index=False)\n",
    "\n",
    "    # EIO (st script)----------------------------------------------------\n",
    "    st_script_DDI('rs', 'w')\n",
    "    st_script_DDI('str', 'a', ['SD', 'OF'])\n",
    "\n",
    "    # MODBUS READ BKC2 (st script)----------------------------------------------------\n",
    "    st_script_Modbus_Read('sv', 'w')\n",
    "    st_script_Modbus_Read('str', 'a')"
   ],
   "metadata": {
    "collapsed": false,
    "ExecuteTime": {
     "start_time": "2024-03-10T11:28:58.901181Z",
     "end_time": "2024-03-10T11:28:58.934186Z"
    }
   }
  },
  {
   "cell_type": "code",
   "execution_count": 15,
   "outputs": [],
   "source": [],
   "metadata": {
    "collapsed": false,
    "ExecuteTime": {
     "start_time": "2024-03-08T13:21:07.178642Z",
     "end_time": "2024-03-08T13:21:07.192645Z"
    }
   }
  },
  {
   "cell_type": "code",
   "execution_count": 11,
   "outputs": [],
   "source": [
    "    # dfsv1 = pd.read_excel(f'{path_start_kntr}base/modbus_read_par.xlsx', sheet_name='rs')\n",
    "    # dfsv1['name'] = dfsv1['name'].astype(str)\n",
    "    # rezerv = 1\n",
    "    # with open(f'{path_start_kntr}script_ddi.txt', \"w\", encoding='Windows-1251') as f:\n",
    "    #     for index, row in dfsv1.iterrows():\n",
    "    #         rs_name = ru_en(ds, row['name'])\n",
    "    #         if row['name'] == 'резерв':\n",
    "    #             rs_name += str(rezerv)\n",
    "    #             rezerv += 1\n",
    "    #         st1 = f'E_RS_{rs_name}:=EIO2_d{row[\"d\"]}_r0_s{row[\"s\"]}_DDI{row[\"ddi\"]}02K.DIS_CH_IN[{row[\"n\"]}].VALUE;\\n'\n",
    "    #         f.write(st1)\n",
    "    #\n",
    "    # # STR EIO (st script)----------------------------------------------------\n",
    "    # dfsv1 = pd.read_excel(f'{path_start_kntr}base/modbus_read_par.xlsx', sheet_name='str')\n",
    "    # dfsv1['name'] = dfsv1['name'].astype(str)\n",
    "    # rezerv = 1\n",
    "    # with open(f'{path_start_kntr}script_ddi.txt', \"a\", encoding='Windows-1251') as f:\n",
    "    #     for index, row in dfsv1.iterrows():\n",
    "    #         rs_name = ru_en(ds, row['name'])\n",
    "    #         if row['name'] == 'резерв':\n",
    "    #             rs_name += str(rezerv)\n",
    "    #             rezerv += 1\n",
    "    #         st1 = f'E_STR_{rs_name}:=EIO2_d{row[\"d\"]}_r0_s{row[\"s\"]}_DDI{row[\"ddi\"]}02K.DIS_CH_IN[{row[\"n\"]}].VALUE;\\n'\n",
    "    #         f.write(st1)\n",
    "\n",
    "   # MODBUS READ PCPT (st script)----------------------------------------------------\n",
    "        # dfsv1 = pd.read_excel(f'{path_start_kntr}base/modbus_read_par.xlsx', sheet_name='sv')\n",
    "    # slave = 1\n",
    "    # rezerv = 1\n",
    "    # with open(f'{path_start_kntr}script_modbus_read_bkc2.txt', \"w\", encoding='Windows-1251') as f:\n",
    "    #     for index, row in dfsv1.iterrows():\n",
    "    #         sv_name = ru_en(ds, row['name'])\n",
    "    #         if row['name'] == 'резерв':\n",
    "    #             sv_name += str(rezerv)\n",
    "    #             rezerv += 1\n",
    "    #\n",
    "    #         st1 = f\"MDB_BKC2_{sv_name}\" + r\" ('0.0.3{192.168.11.\" + f\"{row['sh']}\" \\\n",
    "    #               + r\"}\\\\0.\" + f\"{row['pol']}.{row['canal']}.{slave}', ARM_SV_{sv_name});\\n\"\n",
    "    #         f.write(st1)\n",
    "    #         slave += 1\n",
    "    #\n",
    "    # # MODBUS READ PCPT (st script)----------------------------------------------------\n",
    "    # dfstr1 = pd.read_excel(f'{path_start_kntr}base/modbus_read_par.xlsx', sheet_name='str')\n",
    "    # slave = 1\n",
    "    # rezerv = 1\n",
    "    # with open(f'{path_start_kntr}script_modbus_read_pcpt.txt', \"w\", encoding='Windows-1251') as f:\n",
    "    #     for index, row in dfstr1.iterrows():\n",
    "    #         str_name = ru_en(ds, row['name'])\n",
    "    #         if row['name'] == 'резерв':\n",
    "    #             str_name += str(rezerv)\n",
    "    #             rezerv += 1\n",
    "    #\n",
    "    #         st1 = f\"MDB_PCPT_{str_name}\" + r\" ('0.0.3{192.168.11.\" + f\"{row['sh']+1}\" \\\n",
    "    #               + r\"}\\\\0.\" + f\"{row['pol']}.{row['canal']}.{slave}', ARM_STR_{str_name});\\n\"\n",
    "    #         f.write(st1)\n",
    "    #         slave += 1\n",
    "\n",
    "       # RS EBOOL ----------------------------------------------------\n",
    "    # with open(f'{path_start_kntr}var.txt', \"w\", encoding='Windows-1251') as f:\n",
    "    #     for st in lsrs:\n",
    "    #         st1 = f'        <variables name=\"E_RS_{ru_en(ds, st)}\" typeName=\"EBOOL\"></variables>\\n'\n",
    "    #         f.write(st1)\n",
    "    #\n",
    "    #  # STR EBOOL ----------------------------------------------------\n",
    "    # with open(f'{path_start_kntr}var.txt', \"a\", encoding='Windows-1251') as f:\n",
    "    #     for st in lsstr2:\n",
    "    #         st1 = f'        <variables name=\"E_STR_{ru_en(ds, st)}\" typeName=\"EBOOL\"></variables>\\n'\n",
    "    #         f.write(st1)\n",
    "    #\n",
    "    #     # BKC2_MODBUS_READ ----------------------------------------------------\n",
    "    # with open(f'{path_start_kntr}var.txt', \"a\", encoding='Windows-1251') as f:\n",
    "    #     for st in lssv:\n",
    "    #         st1 = f'        <variables name=\"MDB_BKC2_{ru_en(ds, st)}\" typeName=\"BKC2_MODBUS_READ\"></variables>\\n'\n",
    "    #         f.write(st1)\n",
    "    #\n",
    "    #     # PCPT_MODBUS_READ ----------------------------------------------------\n",
    "    # with open(f'{path_start_kntr}var.txt', \"a\", encoding='Windows-1251') as f:\n",
    "    #     for st in lsstr2:\n",
    "    #         st1 = f'        <variables name=\"MDB_PCPT_{ru_en(ds, st)}\" typeName=\"PCPT_MODBUS_READ\"></variables>\\n'\n",
    "    #         f.write(st1)\n",
    "\n",
    "       #   # ARM WORD ----------------------------------------------------\n",
    "    # with open(f'{path_start_kntr}var.txt', \"a\", encoding='Windows-1251') as f:\n",
    "    #     #     STR---------------\n",
    "    #     reg = 501\n",
    "    #     for st in lsstr2:\n",
    "    #         st1 = ru_en(ds, st)\n",
    "    #         s1 = f'''   <variables name=\"ARM_STR_{st1}\" typeName=\"WORD\" topologicalAddress=\"%MW{reg}\">\n",
    "    #         <attribute name=\"TimeStampSource\" value=\"0\"></attribute>\n",
    "    #     </variables>\n",
    "    # '''\n",
    "    #         ls_mw_str.append([st, reg, st1])\n",
    "    #         reg += 1\n",
    "    #         f.write(s1)\n",
    "    #     #     SV---------------\n",
    "    #     reg = 701\n",
    "    #     for st in lssv:\n",
    "    #         st1 = ru_en(ds, st)\n",
    "    #         s1 = f'''   <variables name=\"ARM_SV_{st}\" typeName=\"WORD\" topologicalAddress=\"%MW{reg}\">\n",
    "    #         <attribute name=\"TimeStampSource\" value=\"0\"></attribute>\n",
    "    #     </variables>\n",
    "    # '''\n",
    "    #         ls_mw_sv.append([st, reg, st1])\n",
    "    #         reg += 1\n",
    "    #         f.write(s1)\n",
    "    #     #    RS---------------------\n",
    "    #     reg = 901\n",
    "    #     for st in lsrs:\n",
    "    #         st1 = ru_en(ds, st)\n",
    "    #         s1 = f'''   <variables name=\"ARM_RS_{st}\" typeName=\"WORD\" topologicalAddress=\"%MW{reg}\">\n",
    "    #         <attribute name=\"TimeStampSource\" value=\"0\"></attribute>\n",
    "    #     </variables>\n",
    "    # '''\n",
    "    #         ls_mw_rs.append([st, reg, st1])\n",
    "    #         reg += 1\n",
    "    #         f.write(s1)"
   ],
   "metadata": {
    "collapsed": false,
    "ExecuteTime": {
     "start_time": "2024-03-08T13:14:41.930469Z",
     "end_time": "2024-03-08T13:14:41.959506Z"
    }
   }
  },
  {
   "cell_type": "code",
   "execution_count": 25,
   "outputs": [],
   "source": [
    "kntr_write_data()"
   ],
   "metadata": {
    "collapsed": false,
    "ExecuteTime": {
     "start_time": "2024-03-08T14:32:42.014146Z",
     "end_time": "2024-03-08T14:32:42.228700Z"
    }
   }
  },
  {
   "cell_type": "code",
   "execution_count": null,
   "outputs": [],
   "source": [
    "def st_script_Modbus_Read(typ='sv', open_mod='a'):\n",
    "    dfstr1 = pd.read_excel(f'{path_start_kntr}base/modbus_read_par.xlsx', sheet_name=typ)\n",
    "    slave = 1\n",
    "    rezerv = 1\n",
    "    var_typ = 'BKC2'\n",
    "    typ_name = 'SV'\n",
    "    if typ == 'str':\n",
    "        var_typ = 'PCPT'\n",
    "        typ_name = 'STR'\n",
    "    with open(f'{path_start_kntr}script_modbus_read.txt', open_mod, encoding='Windows-1251') as f:\n",
    "        for index, row in dfstr1.iterrows():\n",
    "            name = ru_en(row['name'])\n",
    "            if row['name'] == 'резерв':\n",
    "                name += str(rezerv)\n",
    "                rezerv += 1\n",
    "\n",
    "            st1 = f\"MDB_{var_typ}_{name}\" + r\" ('0.0.3{192.168.11.\" + f\"{row['sh']}\" \\\n",
    "                  + r\"}\\\\0.\" + f\"{row['pol']}.{row['canal']}.{slave}', ARM_{typ_name}_{name});\\n\"\n",
    "            f.write(st1)\n",
    "            slave += 1"
   ],
   "metadata": {
    "collapsed": false
   }
  },
  {
   "cell_type": "code",
   "execution_count": 9,
   "outputs": [
    {
     "data": {
      "text/plain": "       name  sh  pol  canal\n0        М1   6    1      0\n1        М3   6    1      0\n2        М5   6    1      0\n3        М7   6    1      0\n4        М9   6    1      0\n..      ...  ..  ...    ...\n150    М310   8    1      1\n151    М312   8    1      1\n152    М314   8    1      1\n153    М316   8    1      1\n154  резерв   8    1      1\n\n[155 rows x 4 columns]",
      "text/html": "<div>\n<style scoped>\n    .dataframe tbody tr th:only-of-type {\n        vertical-align: middle;\n    }\n\n    .dataframe tbody tr th {\n        vertical-align: top;\n    }\n\n    .dataframe thead th {\n        text-align: right;\n    }\n</style>\n<table border=\"1\" class=\"dataframe\">\n  <thead>\n    <tr style=\"text-align: right;\">\n      <th></th>\n      <th>name</th>\n      <th>sh</th>\n      <th>pol</th>\n      <th>canal</th>\n    </tr>\n  </thead>\n  <tbody>\n    <tr>\n      <th>0</th>\n      <td>М1</td>\n      <td>6</td>\n      <td>1</td>\n      <td>0</td>\n    </tr>\n    <tr>\n      <th>1</th>\n      <td>М3</td>\n      <td>6</td>\n      <td>1</td>\n      <td>0</td>\n    </tr>\n    <tr>\n      <th>2</th>\n      <td>М5</td>\n      <td>6</td>\n      <td>1</td>\n      <td>0</td>\n    </tr>\n    <tr>\n      <th>3</th>\n      <td>М7</td>\n      <td>6</td>\n      <td>1</td>\n      <td>0</td>\n    </tr>\n    <tr>\n      <th>4</th>\n      <td>М9</td>\n      <td>6</td>\n      <td>1</td>\n      <td>0</td>\n    </tr>\n    <tr>\n      <th>...</th>\n      <td>...</td>\n      <td>...</td>\n      <td>...</td>\n      <td>...</td>\n    </tr>\n    <tr>\n      <th>150</th>\n      <td>М310</td>\n      <td>8</td>\n      <td>1</td>\n      <td>1</td>\n    </tr>\n    <tr>\n      <th>151</th>\n      <td>М312</td>\n      <td>8</td>\n      <td>1</td>\n      <td>1</td>\n    </tr>\n    <tr>\n      <th>152</th>\n      <td>М314</td>\n      <td>8</td>\n      <td>1</td>\n      <td>1</td>\n    </tr>\n    <tr>\n      <th>153</th>\n      <td>М316</td>\n      <td>8</td>\n      <td>1</td>\n      <td>1</td>\n    </tr>\n    <tr>\n      <th>154</th>\n      <td>резерв</td>\n      <td>8</td>\n      <td>1</td>\n      <td>1</td>\n    </tr>\n  </tbody>\n</table>\n<p>155 rows × 4 columns</p>\n</div>"
     },
     "execution_count": 9,
     "metadata": {},
     "output_type": "execute_result"
    }
   ],
   "source": [
    "df1 = pd.read_excel(f'{path_start_kntr}base/modbus_read_par.xlsx', sheet_name='sv')\n",
    "df1"
   ],
   "metadata": {
    "collapsed": false,
    "ExecuteTime": {
     "start_time": "2024-03-10T11:33:56.037989Z",
     "end_time": "2024-03-10T11:33:56.394068Z"
    }
   }
  },
  {
   "cell_type": "code",
   "execution_count": 17,
   "outputs": [],
   "source": [
    "def set_nameEn(path, typ):\n",
    "    df1 = pd.read_excel(f'{path_start_kntr}{path}', sheet_name=typ)\n",
    "    rezerv = 1\n",
    "    ls1=[]\n",
    "    for index, row in df1.iterrows():\n",
    "        name = ru_en(row['name'])\n",
    "        if row['name'] == 'резерв':\n",
    "            name += str(rezerv)\n",
    "            rezerv += 1\n",
    "        ls1.append(name)\n",
    "    df1['name_en'] = ls1\n",
    "    return df1\n",
    "\n",
    "def set_nameEns():\n",
    "    df1 = set_nameEn('base/modbus_read_par.xlsx', 'sv')\n",
    "    df2 = set_nameEn('base/modbus_read_par.xlsx', 'str')\n",
    "    df3 = set_nameEn('base/modbus_read_par.xlsx', 'rs')\n",
    "    with pd.ExcelWriter(f'{path_start_kntr}base/modbus_read_par.xlsx') as writer:  # doctest: +SKIP\n",
    "        df1.to_excel(writer, sheet_name='sv', index=False)\n",
    "        df2.to_excel(writer, sheet_name='str', index=False)\n",
    "        df3.to_excel(writer, sheet_name='rs', index=False)"
   ],
   "metadata": {
    "collapsed": false,
    "ExecuteTime": {
     "start_time": "2024-03-10T11:49:46.690377Z",
     "end_time": "2024-03-10T11:49:46.718383Z"
    }
   }
  },
  {
   "cell_type": "code",
   "execution_count": 18,
   "outputs": [],
   "source": [
    "set_nameEns()"
   ],
   "metadata": {
    "collapsed": false,
    "ExecuteTime": {
     "start_time": "2024-03-10T11:49:48.226724Z",
     "end_time": "2024-03-10T11:49:48.398760Z"
    }
   }
  },
  {
   "cell_type": "code",
   "execution_count": null,
   "outputs": [],
   "source": [],
   "metadata": {
    "collapsed": false
   }
  },
  {
   "cell_type": "code",
   "execution_count": null,
   "outputs": [],
   "source": [],
   "metadata": {
    "collapsed": false
   }
  },
  {
   "cell_type": "code",
   "execution_count": 6,
   "outputs": [],
   "source": [
    "def get_ls_dev_modbus():\n",
    "    df1 = pd.read_excel(f'{path_start_kntr}base/modbus_read_par.xlsx', sheet_name='sv')\n",
    "    sh=0\n",
    "    pol=0\n",
    "    cnl=0\n",
    "    rezerv = 1\n",
    "    ls1=[]\n",
    "    ls2=[]\n",
    "    ls3=[]\n",
    "    sh1=pol1=cnl1=-1\n",
    "    for index, row in df1.iterrows():\n",
    "\n",
    "        sh = row['sh']\n",
    "        pol = row['pol']\n",
    "        cnl = row['canal']\n",
    "\n",
    "        name = ru_en(row['name'])\n",
    "        if row['name'] == 'резерв':\n",
    "            name += str(rezerv)\n",
    "            rezerv += 1\n",
    "\n",
    "        s1 = f\"{row['sh']},{row['pol']},{row['canal']}\"\n",
    "        if s1 in ls1:\n",
    "            ls2.append(name)\n",
    "        else:\n",
    "            if sh1 != -1:\n",
    "                ls3.append([[sh1, pol1, cnl1],ls2])\n",
    "            ls1.append(s1)\n",
    "            ls2 = [name]\n",
    "\n",
    "        sh1 = row['sh']\n",
    "        pol1 = row['pol']\n",
    "        cnl1 = row['canal']\n",
    "\n",
    "    ls3.append([[sh, pol, cnl],ls2])\n",
    "    return ls3"
   ],
   "metadata": {
    "collapsed": false,
    "ExecuteTime": {
     "start_time": "2024-03-10T11:29:05.180593Z",
     "end_time": "2024-03-10T11:29:05.191593Z"
    }
   }
  },
  {
   "cell_type": "code",
   "execution_count": 8,
   "outputs": [
    {
     "name": "stdout",
     "output_type": "stream",
     "text": [
      "[[6, 1, 0], ['M1', 'M3', 'M5', 'M7', 'M9', 'M11', 'M13', 'M15', 'M17', 'M19', 'M21', 'M23', 'M25', 'M27', 'M29', 'M33', 'M35', 'M37']]\n"
     ]
    }
   ],
   "source": [
    "ls1 = get_ls_dev_modbus()\n",
    "print(ls1[0])"
   ],
   "metadata": {
    "collapsed": false,
    "ExecuteTime": {
     "start_time": "2024-03-10T11:29:36.809703Z",
     "end_time": "2024-03-10T11:29:36.877719Z"
    }
   }
  },
  {
   "cell_type": "code",
   "execution_count": 41,
   "outputs": [],
   "source": [
    "def st_var_Modbus_Read(typ='sv', open_mod='a'):\n",
    "    slave=1\n",
    "    with open(f'{path_start_kntr}t1.txt', 'w', encoding='Windows-1251') as f:\n",
    "        for ls2, ls3 in ls1:\n",
    "            name = ls3[0]\n",
    "            name_var = f'MDB_ADR_SV_{ls3[0]}'\n",
    "            adr = r\"0.0.3{192.168.11.\" + f\"{ls2[0]}\" + r\"}\\\\0.\" + f\"{ls2[1]}.{ls2[2]}\"\n",
    "\n",
    "            i=1\n",
    "            s1=f'\t\t<variables name=\"MDB_ADR_SV_{name}\" typeName=\"ARRAY[1..18] OF STRING\">\\n'\n",
    "            f.write(s1)\n",
    "            for sv in ls3:\n",
    "                adr1 = f'{adr}.{slave}'\n",
    "                s1=f'''\t\t     <instanceElementDesc name=\"[{i}]\">\n",
    "                        <value>'{adr1}'</value>\n",
    "                    </instanceElementDesc>\n",
    "        '''\n",
    "                f.write(s1)\n",
    "                i+=1\n",
    "                slave+=1\n",
    "            s1 = '         </variables>\\n'\n",
    "            f.write(s1)\n",
    "\n",
    "    with open(f'{path_start_kntr}t1.txt', 'a', encoding='Windows-1251') as f:\n",
    "        for ls2, ls3 in ls1:\n",
    "            s1 = f'        <variables name=\"MDB_BKC2_{ls3[0]}\" typeName=\"MODBUS_RW_BKC2\"></variables>\\n'\n",
    "            f.write(s1)\n",
    "\n"
   ],
   "metadata": {
    "collapsed": false,
    "ExecuteTime": {
     "start_time": "2024-03-09T22:59:09.370253Z",
     "end_time": "2024-03-09T22:59:09.414259Z"
    }
   }
  },
  {
   "cell_type": "code",
   "execution_count": null,
   "outputs": [],
   "source": [
    "<variables name=\"MDB_BKC2_M11\" typeName=\"MODBUS_RW_BKC2\"></variables>"
   ],
   "metadata": {
    "collapsed": false
   }
  },
  {
   "cell_type": "code",
   "execution_count": null,
   "outputs": [],
   "source": [],
   "metadata": {
    "collapsed": false
   }
  },
  {
   "cell_type": "code",
   "execution_count": null,
   "outputs": [],
   "source": [],
   "metadata": {
    "collapsed": false
   }
  },
  {
   "cell_type": "code",
   "execution_count": null,
   "outputs": [],
   "source": [],
   "metadata": {
    "collapsed": false
   }
  },
  {
   "cell_type": "code",
   "execution_count": 93,
   "outputs": [],
   "source": [
    "dfrs[1:].to_excel(f'{path_start_kntr}rsss.xlsx')"
   ],
   "metadata": {
    "collapsed": false,
    "ExecuteTime": {
     "start_time": "2024-03-07T21:01:16.665880Z",
     "end_time": "2024-03-07T21:01:16.756408Z"
    }
   }
  },
  {
   "cell_type": "code",
   "execution_count": 106,
   "outputs": [],
   "source": [
    "dfsv1 = pd.read_excel(f'{path_start_kntr}base/modbus_read_par.xlsx', sheet_name='rs')\n",
    "dfsv1['name'] = dfsv1['name'].astype(str)\n",
    "ls1 = dfsv1['name'].tolist()\n"
   ],
   "metadata": {
    "collapsed": false,
    "ExecuteTime": {
     "start_time": "2024-03-07T21:52:05.178145Z",
     "end_time": "2024-03-07T21:52:05.213152Z"
    }
   }
  },
  {
   "cell_type": "code",
   "execution_count": 107,
   "outputs": [
    {
     "data": {
      "text/plain": "['резерв',\n 'резерв',\n 'резерв',\n 'резерв',\n 'резерв',\n 'резерв',\n 'резерв',\n 'резерв',\n 'резерв',\n 'резерв',\n 'резерв',\n 'резерв',\n 'резерв',\n 'резерв',\n 'резерв',\n 'резерв',\n 'резерв',\n 'Л1',\n 'Л3',\n 'Л5',\n 'Л7',\n 'резерв',\n '206ТП',\n 'Л2',\n 'Л4',\n 'Л6',\n 'Л8',\n 'Л10']"
     },
     "execution_count": 107,
     "metadata": {},
     "output_type": "execute_result"
    }
   ],
   "source": [
    "ls2 = []\n",
    "for x in ls1:\n",
    "    if x not in lsrs:\n",
    "        ls2.append(x)\n",
    "ls2"
   ],
   "metadata": {
    "collapsed": false,
    "ExecuteTime": {
     "start_time": "2024-03-07T21:52:05.553245Z",
     "end_time": "2024-03-07T21:52:05.564247Z"
    }
   }
  },
  {
   "cell_type": "code",
   "execution_count": 6,
   "outputs": [],
   "source": [
    "with open(f'{path_start_kntr}script_modbus_bkc.txt', 'w', encoding='Windows-1251') as f:\n",
    "        for i in range(1,19):\n",
    "            s1 = f'''\tIF cnt={i} AND NOT rdpar{i}[1].0  THEN\n",
    "\t\tREAD_VAR (ADDMX(ADRS[cnt]), '%MW', 1, 2, rdpar{i}, datard);\n",
    "\t\tWORD_AS_BYTE (INT_TO_WORD(rdpar{i}[2]), bL, bH);\n",
    "\t\terr1:=BYTE_TO_INT(bL);\n",
    "\tEND_IF;\n",
    "\n",
    "'''\n",
    "            f.write(s1)\n",
    "\n",
    "        s1 = '\\n----------------------------------------------------------'\n",
    "        f.write(s1)\n",
    "\n",
    "        for i in range(1,19):\n",
    "            s1 = f'''\tIF cnt={i} AND NOT wrpar{i}[1].0  THEN\n",
    "\t\tdatawr1[1]:=WORD_TO_INT (DATAWR[cnt]);\n",
    "\t\tWRITE_VAR (ADDMX(ADRS[cnt]), '%MW', 1, 2, datawr1, wrpar{i});\n",
    "\t\tWORD_AS_BYTE (INT_TO_WORD(rdpar{i}[2]), bL, bH);\n",
    "\t\terr1:=BYTE_TO_INT(bL);\n",
    "\tEND_IF;\n",
    "\n",
    "'''\n",
    "            f.write(s1)"
   ],
   "metadata": {
    "collapsed": false,
    "ExecuteTime": {
     "start_time": "2024-03-09T18:44:38.871864Z",
     "end_time": "2024-03-09T18:44:38.906871Z"
    }
   }
  },
  {
   "cell_type": "code",
   "execution_count": 10,
   "outputs": [],
   "source": [
    "with open(f'{path_start_kntr}script_modbus_bkc.txt', 'w', encoding='Windows-1251') as f:\n",
    "        for i in range(1,19):\n",
    "            s1 = f'''\n",
    "{i}: IF NOT rdpar{i}[1].0  THEN\n",
    "        READ_VAR (ADDMX(ADRS[cnt]), '%MW', 1, 2, rdpar{i}, datard);\n",
    "        WORD_AS_BYTE (INT_TO_WORD(rdpar{i}[2]), bL, bH);\n",
    "        err1:=BYTE_TO_INT(bL);\n",
    "     END_IF;\n",
    "'''\n",
    "            f.write(s1)\n",
    "\n",
    "        s1 = '\\n----------------------------------------------------------\\n'\n",
    "        f.write(s1)\n",
    "\n",
    "        for i in range(1,19):\n",
    "            s1 = f'''\n",
    "{i}: IF NOT wrpar{i}[1].0  THEN\n",
    "        datawr1[1]:=WORD_TO_INT (DATAWR[cnt]);\n",
    "        WRITE_VAR (ADDMX(ADRS[cnt]), '%MW', 1, 2, datawr1, wrpar{i});\n",
    "        WORD_AS_BYTE (INT_TO_WORD(wrpar{i}[2]), bL, bH);\n",
    "        err1:=BYTE_TO_INT(bL);\n",
    "     END_IF;\n",
    "'''\n",
    "            f.write(s1)"
   ],
   "metadata": {
    "collapsed": false,
    "ExecuteTime": {
     "start_time": "2024-03-09T20:25:40.959934Z",
     "end_time": "2024-03-09T20:25:40.979935Z"
    }
   }
  },
  {
   "cell_type": "code",
   "execution_count": null,
   "outputs": [],
   "source": [],
   "metadata": {
    "collapsed": false
   }
  }
 ],
 "metadata": {
  "kernelspec": {
   "display_name": "Python 3",
   "language": "python",
   "name": "python3"
  },
  "language_info": {
   "codemirror_mode": {
    "name": "ipython",
    "version": 2
   },
   "file_extension": ".py",
   "mimetype": "text/x-python",
   "name": "python",
   "nbconvert_exporter": "python",
   "pygments_lexer": "ipython2",
   "version": "2.7.6"
  }
 },
 "nbformat": 4,
 "nbformat_minor": 0
}
