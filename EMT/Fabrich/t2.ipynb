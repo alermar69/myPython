{
 "cells": [
  {
   "cell_type": "code",
   "execution_count": 1,
   "metadata": {
    "collapsed": true,
    "ExecuteTime": {
     "start_time": "2024-03-04T18:30:31.655767Z",
     "end_time": "2024-03-04T18:30:36.376345Z"
    }
   },
   "outputs": [],
   "source": [
    "import pandas as pd\n",
    "import numpy as np\n",
    "import pyodbc as pc\n",
    "import warnings\n",
    "\n",
    "# from t2 import *\n",
    "\n",
    "warnings.filterwarnings('ignore')\n",
    "path_start = 'c:/tt/'"
   ]
  },
  {
   "cell_type": "code",
   "execution_count": 2,
   "outputs": [],
   "source": [
    "def marsh_last(dfm, bm):\n",
    "    query = f\"bm=='{bm}' and (em2=='За' or em2=='На') and tm==1\"\n",
    "    return dfm.query(query)['id'].tolist()\n",
    "\n",
    "def marsh_middle(dfm, bm):\n",
    "    query = f\"bm=='{bm}' and em2=='До' and tm==1\"\n",
    "    return dfm.query(query)['id'].tolist()\n",
    "\n",
    "def marsh_all_bm(dfm, bm, ls_id):\n",
    "    ls = []\n",
    "\n",
    "    ls_k = marsh_last(dfm, bm)\n",
    "    for id_em in ls_k:\n",
    "        ls.append(ls_id + [id_em])\n",
    "\n",
    "\n",
    "    ls_p = marsh_middle(dfm, bm)\n",
    "    if len(ls_p) == 0:\n",
    "        return ls\n",
    "    for pm in ls_p:\n",
    "        em = dfm[dfm['id']==pm]['em'].iloc[0]\n",
    "        ls_p_k = marsh_all_bm(dfm, em, ls_id + [pm])\n",
    "        if ls_p_k:\n",
    "            ls.extend(ls_p_k)\n",
    "    return ls\n",
    "\n",
    "def marsh_all_bm_exclude(ls_marsh_all_bm):\n",
    "    cnxn = connect()\n",
    "    dfsv = pd.read_sql('''select * from sv''', cnxn)\n",
    "    dfrs = pd.read_sql('''select * from rs''', cnxn)\n",
    "    dfmarsh = pd.read_sql('''select * from devmarsh''', cnxn)\n",
    "    cnxn.close()\n",
    "\n",
    "    ls_marsh = []\n",
    "    for lsm in ls_marsh_all_bm:\n",
    "        ls_marsh1 = []\n",
    "        for m_id in lsm:\n",
    "            dfm1 = df_col(dfmarsh, 'marshrut_id', m_id)\n",
    "            dfm2 = dfm1[(dfm1['telm']=='Светофор') | (dfm1['telm']=='РЦ')].iloc[1:]\n",
    "            for index, row in dfm2.iterrows():\n",
    "                fl = 0\n",
    "                if row['telm'] == 'Светофор':\n",
    "                    sr1  = df_name(dfsv, row['elm']).iloc[0]\n",
    "                    if sr1['pok'] != 0 or sr1['remont'] != 0 or sr1['marsh'] != 0:\n",
    "                        fl = 1\n",
    "                if row['telm'] == 'РЦ':\n",
    "                    sr1  = df_name(dfrs, row['elm']).iloc[0]\n",
    "                    if sr1['state'] != 0 or sr1['remont'] != 0 or sr1['marsh'] != 0:\n",
    "                        fl = 1\n",
    "            if fl == 0:\n",
    "                ls_marsh1.append(m_id)\n",
    "            else:\n",
    "                break\n",
    "        if len(ls_marsh1) > 0:\n",
    "            ls_marsh.append(ls_marsh1)\n",
    "    return ls_marsh\n",
    "\n",
    "def to_txt_ls(namefile, ls):\n",
    "    path = path_start + namefile\n",
    "    with open(path, \"w\", encoding='Windows-1251') as f:\n",
    "        for ss in ls:\n",
    "            f.write(ss +'\\n')\n",
    "\n",
    "def to_txt_ls2(namefile, ls):\n",
    "    path = path_start + namefile\n",
    "    with open(path, \"w\", encoding='Windows-1251') as f:\n",
    "        for ss in ls:\n",
    "            s1 = ''\n",
    "            for ss1 in ss:\n",
    "                s1 += str(ss1) + ','\n",
    "            if len(s1) > 0:\n",
    "                s1 = s1[:-1]\n",
    "                f.write(s1)\n",
    "                f.write('\\n')\n",
    "\n",
    "def read_txt_ls(namefile):\n",
    "    path = path_start + namefile\n",
    "    ls = []\n",
    "    with open(path, \"r\", encoding='Windows-1251') as f:\n",
    "        for line in f:\n",
    "            s1 = line.strip()\n",
    "            ls.append(s1)\n",
    "    return ls\n",
    "\n",
    "def read_txt_ls2(namefile):\n",
    "    path = path_start + namefile\n",
    "    ls = []\n",
    "    with open(path, \"r\", encoding='Windows-1251') as f:\n",
    "        for line in f:\n",
    "            ls1 = line.strip().split(',')\n",
    "            ls1 = [int(x) for x in ls1]\n",
    "            ls.append(ls1)\n",
    "    return ls\n",
    "\n",
    "def marsh_all_bm_in_elem(dfm, bm):\n",
    "    ls_all_marsh = marsh_all_bm(dfm, bm, [])\n",
    "    ls_all_marsh = marsh_all_bm_exclude(ls_all_marsh)\n",
    "    marsh_elem(dfm, ls_all_marsh)\n",
    "\n",
    "def marsh_all_em_in_elem(dfm, em):\n",
    "    ls_marsh_id = read_txt_ls2(\"marsh_all_bm.txt\")\n",
    "    ls_marsh_id = marsh_all_em(dfm, em, ls_marsh_id)\n",
    "    marsh_elem(dfm, ls_marsh_id)\n",
    "\n",
    "def marsh_all_pm_in_elem(dfm, pm, em):\n",
    "    ls_marsh_id = read_txt_ls2(\"marsh_all_bm.txt\")\n",
    "    ls_marsh_id = marsh_all_pm(dfm, pm, em, ls_marsh_id)\n",
    "    marsh_elem(dfm, ls_marsh_id)\n",
    "\n",
    "def marsh_elem(dfm, ls_all_marsh, is_txt=True):\n",
    "    ls_sv = []\n",
    "    ls_str = []\n",
    "    ls_rs = []\n",
    "    for lm in ls_all_marsh:\n",
    "        for id_m in lm:\n",
    "            df1 = dfm[dfm['id']==id_m]\n",
    "            # SV ------------------------\n",
    "            bm1 = df1['bm'].iloc[0]\n",
    "            if bm1 not in ls_sv:\n",
    "                ls_sv.append(bm1)\n",
    "            # STR ------------------------\n",
    "            st1 = df1['sm1'].iloc[0]\n",
    "            if st1 is not np.nan:\n",
    "                ls_st = st1.split(',')\n",
    "                for st2 in ls_st:\n",
    "                    # st3 = st2[1:]\n",
    "                    if st2 not in ls_str:\n",
    "                        ls_str.append(st2)\n",
    "            # RS ------------------------\n",
    "            rs1 = df1['rs'].iloc[0]\n",
    "            if rs1 is not np.nan:\n",
    "                ls_st = rs1.split(',')\n",
    "                for rs in ls_st:\n",
    "                    if rs not in ls_rs:\n",
    "                        ls_rs.append(rs)\n",
    "\n",
    "        id_m = lm[-1]\n",
    "        em = dfm[dfm['id']==id_m]['em'].iloc[0]\n",
    "        if em not in ls_sv:\n",
    "            ls_sv.append(em)\n",
    "    if is_txt:\n",
    "        to_txt_ls(\"marsh_sv_bm.txt\", ls_sv)\n",
    "        to_txt_ls(\"marsh_str_bm.txt\", ls_str)\n",
    "        to_txt_ls(\"marsh_rs_bm.txt\", ls_rs)\n",
    "        to_txt_ls2(\"marsh_all_bm.txt\", ls_all_marsh)\n",
    "        to_txt_ls(\"marsh_is_sel.txt\", [])\n",
    "    else:\n",
    "        return ls_all_marsh, ls_sv, ls_str, ls_rs\n",
    "\n",
    "def marsh_all_em(dfm, em, ls_marsh_id):\n",
    "    ls_marsh_id1 = []\n",
    "    for ls1 in ls_marsh_id:\n",
    "        ls2 = []\n",
    "        for mars_id in ls1:\n",
    "            ls2.append(mars_id)\n",
    "            em1 = df_id(dfm, mars_id)['em'].iloc[0]\n",
    "            if em == em1:\n",
    "                if ls2 not in ls_marsh_id1:\n",
    "                    ls_marsh_id1.append(ls2)\n",
    "                break\n",
    "    ls_marsh_id1 = sorted(ls_marsh_id1, key=lambda x: len(x))\n",
    "    return ls_marsh_id1\n",
    "\n",
    "def marsh_all_pm(dfm, pm, em, ls_marsh_id):\n",
    "    ls_marsh_id1 = []\n",
    "    if pm == em:\n",
    "        ls_marsh_id1.append(ls_marsh_id[0])\n",
    "    else:\n",
    "        for ls1 in ls_marsh_id:\n",
    "            for mars_id in ls1:\n",
    "                em1 = df_id(dfm, mars_id)['em'].iloc[0]\n",
    "                if pm == em1:\n",
    "                    ls_marsh_id1.append(ls1)\n",
    "                    break\n",
    "    return ls_marsh_id1\n",
    "\n",
    "def create_marsh():\n",
    "    df = pd.read_excel('c:/tt/marsh_fabr.xlsx')\n",
    "    df['id'] = list(range(1, len(df)+1))\n",
    "    df = df[['id', 'bm', 'em', 'em2', 'sm', 'sm1', 'rs']]\n",
    "    df['sm'] = df['sm'].str.replace(' ', '')\n",
    "    df['sm1'] = df['sm1'].str.replace(' ', '')\n",
    "    df['rs'] = df['rs'].str.replace(' ', '')\n",
    "    df['sm'].fillna('', inplace=True)\n",
    "    df['sm1'].fillna('', inplace=True)\n",
    "    df['tm'] = 1\n",
    "    # df[['id', 'bm', 'em', 'em2', 'tm']].to_csv('c:/tt/marsh_fabr.csv', index_label=False)\n",
    "    df.to_csv('c:/tt/marsh_fabr.csv', index_label=False)\n",
    "    return df\n",
    "\n",
    "def connect():\n",
    "    connection_string = \"Driver=SQL Server;Server=localhost;Database=fabr;Trusted_Connection=Yes;\"\n",
    "    cnxn = pc.connect(connection_string, autocommit=True)\n",
    "    return cnxn\n",
    "\n",
    "def df_id(df, id1):\n",
    "    return df[df['id']==id1]\n",
    "\n",
    "def df_name(df, name):\n",
    "    return df[df['name']==name]\n",
    "\n",
    "def df_col(df, col, val):\n",
    "    return df[df[col]==val]\n",
    "\n",
    "def read_marsh():\n",
    "    df = pd.read_csv('c:/tt/marsh_fabr.csv')\n",
    "    df['sm'] = df['sm'].str.replace(' ', '')\n",
    "    df['sm1'] = df['sm1'].str.replace(' ', '')\n",
    "    df['rs'] = df['rs'].str.replace(' ', '')\n",
    "    df['sm'].fillna('', inplace=True)\n",
    "    df['sm1'].fillna('', inplace=True)\n",
    "    df['smls'] = df['sm'].apply(lambda x: x.split(','))\n",
    "    df['sm1ls'] = df['sm1'].apply(lambda x: x.split(','))\n",
    "    df['rsls'] = df['rs'].apply(lambda x: x.split(','))\n",
    "    return df\n",
    "\n",
    "def sv_blok_elmMarsh(idMarsh):\n",
    "    ls_rs = df[df['id'] == idMarsh]['rsls'].iloc[0][1:]\n",
    "    lsm = []\n",
    "    for rs in ls_rs:\n",
    "        df1 = df.loc[df.apply(lambda x:  rs in x.rsls, axis=1)]\n",
    "        ls_bm = list(set(df1['bm'].tolist()))\n",
    "        for bm in ls_bm:\n",
    "            ls1 = df[df['bm']==bm]['rsls'].tolist()\n",
    "            fl = 0\n",
    "            if len(ls1) > 1:\n",
    "                for ls2 in ls1:\n",
    "                    if rs not in ls2:\n",
    "                        fl = 1\n",
    "            if fl == 0:\n",
    "                lsm.append(bm)\n",
    "    lsm = list(set(lsm))\n",
    "    return lsm\n",
    "\n",
    "def marsh_sv_blok():\n",
    "    ls = read_txt_ls2(\"marsh_all_bm.txt\")\n",
    "    if len(ls) > 0:\n",
    "        ls = ls[0]\n",
    "        ls2 = []\n",
    "        for idMarsh in ls:\n",
    "            ls2.extend(sv_blok_elmMarsh(idMarsh))\n",
    "        ls2 = list(set(ls2))\n",
    "        to_txt_ls(\"marsh_sv_blok.txt\", ls2)"
   ],
   "metadata": {
    "collapsed": false,
    "ExecuteTime": {
     "start_time": "2024-03-03T11:19:31.072171Z",
     "end_time": "2024-03-03T11:19:31.111179Z"
    }
   }
  },
  {
   "cell_type": "code",
   "execution_count": 113,
   "outputs": [],
   "source": [
    "# create_marsh()"
   ],
   "metadata": {
    "collapsed": false,
    "ExecuteTime": {
     "start_time": "2024-02-25T18:55:53.012801Z",
     "end_time": "2024-02-25T18:55:53.034802Z"
    }
   }
  },
  {
   "cell_type": "code",
   "execution_count": 25,
   "outputs": [],
   "source": [
    "cnxn = connect()\n",
    "dfsv = pd.read_sql('''select * from sv''', cnxn)\n",
    "dfstr = pd.read_sql('''select * from str''', cnxn)\n",
    "dfrs = pd.read_sql('''select * from rs''', cnxn)\n",
    "dfmarsh = pd.read_sql('''select * from devmarsh''', cnxn)\n",
    "cnxn.close()"
   ],
   "metadata": {
    "collapsed": false,
    "ExecuteTime": {
     "start_time": "2024-02-26T17:45:29.708671Z",
     "end_time": "2024-02-26T17:45:29.781685Z"
    }
   }
  },
  {
   "cell_type": "code",
   "execution_count": 3,
   "outputs": [
    {
     "data": {
      "text/plain": "      id    bm    em em2                  sm             sm1  \\\n0      1    Мн    М1  До                                       \n1      2    Мз    М7  До                                       \n2      3    М1  М203  До             -1/3,-5        -1,-3,-5   \n3      4    М1   М11  До             -1/3,+5        -1,-3,+5   \n4      5    М1   М13  До                +1/3              +1   \n..   ...   ...   ...  ..                 ...             ...   \n289  290  М216  М218  За  -208,+204/206,-212  -208,+204,-212   \n290  291  М216  М206  До  -208,+204/206,+212  -208,+204,+212   \n291  292  М218  М212  На       -212,-204/206  -212,-204,-206   \n292  293  М218  М214  На  -212,+204/206,+208  -212,+204,+208   \n293  294  М218  М216  На  -212,+204/206,-208  -212,+204,-208   \n\n                        rs  tm                    smls               sm1ls  \\\n0                    Т,1ГП   1                      []                  []   \n1                    Т,2ГП   1                      []                  []   \n2         1ГП,1,3-5,5/201П   1              [-1/3, -5]        [-1, -3, -5]   \n3           1ГП,1,3-5,5/9П   1              [-1/3, +5]        [-1, -3, +5]   \n4              1ГП,1,1/15П   1                  [+1/3]                [+1]   \n..                     ...  ..                     ...                 ...   \n289           203П,204-212   1  [-208, +204/206, -212]  [-208, +204, -212]   \n290  203П,204-212,202/212П   1  [-208, +204/206, +212]  [-208, +204, +212]   \n291     Т,204-212,206,201П   1        [-212, -204/206]  [-212, -204, -206]   \n292         Т,204-212,202П   1  [-212, +204/206, +208]  [-212, +204, +208]   \n293         Т,204-212,203П   1  [-212, +204/206, -208]  [-212, +204, -208]   \n\n                          rsls  \n0                     [Т, 1ГП]  \n1                     [Т, 2ГП]  \n2        [1ГП, 1, 3-5, 5/201П]  \n3          [1ГП, 1, 3-5, 5/9П]  \n4              [1ГП, 1, 1/15П]  \n..                         ...  \n289            [203П, 204-212]  \n290  [203П, 204-212, 202/212П]  \n291    [Т, 204-212, 206, 201П]  \n292         [Т, 204-212, 202П]  \n293         [Т, 204-212, 203П]  \n\n[294 rows x 11 columns]",
      "text/html": "<div>\n<style scoped>\n    .dataframe tbody tr th:only-of-type {\n        vertical-align: middle;\n    }\n\n    .dataframe tbody tr th {\n        vertical-align: top;\n    }\n\n    .dataframe thead th {\n        text-align: right;\n    }\n</style>\n<table border=\"1\" class=\"dataframe\">\n  <thead>\n    <tr style=\"text-align: right;\">\n      <th></th>\n      <th>id</th>\n      <th>bm</th>\n      <th>em</th>\n      <th>em2</th>\n      <th>sm</th>\n      <th>sm1</th>\n      <th>rs</th>\n      <th>tm</th>\n      <th>smls</th>\n      <th>sm1ls</th>\n      <th>rsls</th>\n    </tr>\n  </thead>\n  <tbody>\n    <tr>\n      <th>0</th>\n      <td>1</td>\n      <td>Мн</td>\n      <td>М1</td>\n      <td>До</td>\n      <td></td>\n      <td></td>\n      <td>Т,1ГП</td>\n      <td>1</td>\n      <td>[]</td>\n      <td>[]</td>\n      <td>[Т, 1ГП]</td>\n    </tr>\n    <tr>\n      <th>1</th>\n      <td>2</td>\n      <td>Мз</td>\n      <td>М7</td>\n      <td>До</td>\n      <td></td>\n      <td></td>\n      <td>Т,2ГП</td>\n      <td>1</td>\n      <td>[]</td>\n      <td>[]</td>\n      <td>[Т, 2ГП]</td>\n    </tr>\n    <tr>\n      <th>2</th>\n      <td>3</td>\n      <td>М1</td>\n      <td>М203</td>\n      <td>До</td>\n      <td>-1/3,-5</td>\n      <td>-1,-3,-5</td>\n      <td>1ГП,1,3-5,5/201П</td>\n      <td>1</td>\n      <td>[-1/3, -5]</td>\n      <td>[-1, -3, -5]</td>\n      <td>[1ГП, 1, 3-5, 5/201П]</td>\n    </tr>\n    <tr>\n      <th>3</th>\n      <td>4</td>\n      <td>М1</td>\n      <td>М11</td>\n      <td>До</td>\n      <td>-1/3,+5</td>\n      <td>-1,-3,+5</td>\n      <td>1ГП,1,3-5,5/9П</td>\n      <td>1</td>\n      <td>[-1/3, +5]</td>\n      <td>[-1, -3, +5]</td>\n      <td>[1ГП, 1, 3-5, 5/9П]</td>\n    </tr>\n    <tr>\n      <th>4</th>\n      <td>5</td>\n      <td>М1</td>\n      <td>М13</td>\n      <td>До</td>\n      <td>+1/3</td>\n      <td>+1</td>\n      <td>1ГП,1,1/15П</td>\n      <td>1</td>\n      <td>[+1/3]</td>\n      <td>[+1]</td>\n      <td>[1ГП, 1, 1/15П]</td>\n    </tr>\n    <tr>\n      <th>...</th>\n      <td>...</td>\n      <td>...</td>\n      <td>...</td>\n      <td>...</td>\n      <td>...</td>\n      <td>...</td>\n      <td>...</td>\n      <td>...</td>\n      <td>...</td>\n      <td>...</td>\n      <td>...</td>\n    </tr>\n    <tr>\n      <th>289</th>\n      <td>290</td>\n      <td>М216</td>\n      <td>М218</td>\n      <td>За</td>\n      <td>-208,+204/206,-212</td>\n      <td>-208,+204,-212</td>\n      <td>203П,204-212</td>\n      <td>1</td>\n      <td>[-208, +204/206, -212]</td>\n      <td>[-208, +204, -212]</td>\n      <td>[203П, 204-212]</td>\n    </tr>\n    <tr>\n      <th>290</th>\n      <td>291</td>\n      <td>М216</td>\n      <td>М206</td>\n      <td>До</td>\n      <td>-208,+204/206,+212</td>\n      <td>-208,+204,+212</td>\n      <td>203П,204-212,202/212П</td>\n      <td>1</td>\n      <td>[-208, +204/206, +212]</td>\n      <td>[-208, +204, +212]</td>\n      <td>[203П, 204-212, 202/212П]</td>\n    </tr>\n    <tr>\n      <th>291</th>\n      <td>292</td>\n      <td>М218</td>\n      <td>М212</td>\n      <td>На</td>\n      <td>-212,-204/206</td>\n      <td>-212,-204,-206</td>\n      <td>Т,204-212,206,201П</td>\n      <td>1</td>\n      <td>[-212, -204/206]</td>\n      <td>[-212, -204, -206]</td>\n      <td>[Т, 204-212, 206, 201П]</td>\n    </tr>\n    <tr>\n      <th>292</th>\n      <td>293</td>\n      <td>М218</td>\n      <td>М214</td>\n      <td>На</td>\n      <td>-212,+204/206,+208</td>\n      <td>-212,+204,+208</td>\n      <td>Т,204-212,202П</td>\n      <td>1</td>\n      <td>[-212, +204/206, +208]</td>\n      <td>[-212, +204, +208]</td>\n      <td>[Т, 204-212, 202П]</td>\n    </tr>\n    <tr>\n      <th>293</th>\n      <td>294</td>\n      <td>М218</td>\n      <td>М216</td>\n      <td>На</td>\n      <td>-212,+204/206,-208</td>\n      <td>-212,+204,-208</td>\n      <td>Т,204-212,203П</td>\n      <td>1</td>\n      <td>[-212, +204/206, -208]</td>\n      <td>[-212, +204, -208]</td>\n      <td>[Т, 204-212, 203П]</td>\n    </tr>\n  </tbody>\n</table>\n<p>294 rows × 11 columns</p>\n</div>"
     },
     "execution_count": 3,
     "metadata": {},
     "output_type": "execute_result"
    }
   ],
   "source": [
    "df = read_marsh()\n",
    "df"
   ],
   "metadata": {
    "collapsed": false,
    "ExecuteTime": {
     "start_time": "2024-03-02T12:04:34.598157Z",
     "end_time": "2024-03-02T12:04:34.850211Z"
    }
   }
  },
  {
   "cell_type": "code",
   "execution_count": null,
   "outputs": [],
   "source": [],
   "metadata": {
    "collapsed": false
   }
  },
  {
   "cell_type": "code",
   "execution_count": 111,
   "outputs": [],
   "source": [],
   "metadata": {
    "collapsed": false,
    "ExecuteTime": {
     "start_time": "2024-03-01T18:45:55.596817Z",
     "end_time": "2024-03-01T18:45:55.633825Z"
    }
   }
  },
  {
   "cell_type": "code",
   "execution_count": 112,
   "outputs": [],
   "source": [
    "marsh_sv_blok()"
   ],
   "metadata": {
    "collapsed": false,
    "ExecuteTime": {
     "start_time": "2024-03-01T18:45:56.310008Z",
     "end_time": "2024-03-01T18:45:56.378580Z"
    }
   }
  },
  {
   "cell_type": "code",
   "execution_count": 114,
   "outputs": [
    {
     "data": {
      "text/plain": "['М9',\n 'М43',\n 'М63',\n 'М5',\n 'М41',\n 'М7',\n 'М11',\n 'М23',\n 'М35',\n 'М15',\n 'М17',\n 'М19',\n 'М201']"
     },
     "execution_count": 114,
     "metadata": {},
     "output_type": "execute_result"
    }
   ],
   "source": [
    "read_txt_ls(\"marsh_sv_blok.txt\")"
   ],
   "metadata": {
    "collapsed": false,
    "ExecuteTime": {
     "start_time": "2024-03-01T18:51:18.262108Z",
     "end_time": "2024-03-01T18:51:18.280108Z"
    }
   }
  },
  {
   "cell_type": "code",
   "execution_count": 29,
   "outputs": [],
   "source": [
    "em = 'М11'"
   ],
   "metadata": {
    "collapsed": false,
    "ExecuteTime": {
     "start_time": "2024-03-01T16:26:33.749023Z",
     "end_time": "2024-03-01T16:26:33.759022Z"
    }
   }
  },
  {
   "cell_type": "code",
   "execution_count": null,
   "outputs": [],
   "source": [],
   "metadata": {
    "collapsed": false
   }
  },
  {
   "cell_type": "code",
   "execution_count": null,
   "outputs": [],
   "source": [],
   "metadata": {
    "collapsed": false
   }
  },
  {
   "cell_type": "code",
   "execution_count": 97,
   "outputs": [],
   "source": [
    "bm = 'М11'\n",
    "# ls_marsh_id = marsh_all_bm(df, bm, [])\n",
    "# to_txt_ls2(\"marsh_all_bm.txt\", ls_marsh_id)\n",
    "# ls_marsh_id, *pp = marsh_all_bm_in_elem(df, bm, is_txt=False)\n",
    "marsh_all_bm_in_elem(df, bm)"
   ],
   "metadata": {
    "collapsed": false,
    "ExecuteTime": {
     "start_time": "2024-02-26T22:44:06.820118Z",
     "end_time": "2024-02-26T22:44:07.629383Z"
    }
   }
  },
  {
   "cell_type": "code",
   "execution_count": 98,
   "outputs": [
    {
     "data": {
      "text/plain": "[[15, 29], [15, 28, 34], [16, 30, 34]]"
     },
     "execution_count": 98,
     "metadata": {},
     "output_type": "execute_result"
    }
   ],
   "source": [
    "em = 'М63'\n",
    "ls_marsh_id1 = read_txt_ls2(\"marsh_all_bm.txt\")\n",
    "ls_marsh_id1 = marsh_all_em(df, em, ls_marsh_id1)\n",
    "ls_marsh_id1"
   ],
   "metadata": {
    "collapsed": false,
    "ExecuteTime": {
     "start_time": "2024-02-26T22:44:11.893251Z",
     "end_time": "2024-02-26T22:44:11.964267Z"
    }
   }
  },
  {
   "cell_type": "code",
   "execution_count": 107,
   "outputs": [],
   "source": [
    "marsh_elem(df, ls_marsh_id1)"
   ],
   "metadata": {
    "collapsed": false,
    "ExecuteTime": {
     "start_time": "2024-02-26T23:11:08.851427Z",
     "end_time": "2024-02-26T23:11:08.883431Z"
    }
   }
  },
  {
   "cell_type": "code",
   "execution_count": 17,
   "outputs": [],
   "source": [
    "bm = 'М11'\n",
    "marsh_all_bm_in_elem(df, bm)"
   ],
   "metadata": {
    "collapsed": false,
    "ExecuteTime": {
     "start_time": "2024-02-27T11:57:01.977502Z",
     "end_time": "2024-02-27T11:57:03.589472Z"
    }
   }
  },
  {
   "cell_type": "code",
   "execution_count": 18,
   "outputs": [],
   "source": [
    "em = 'М63'\n",
    "marsh_all_em_in_elem(df, em)"
   ],
   "metadata": {
    "collapsed": false,
    "ExecuteTime": {
     "start_time": "2024-02-27T11:57:12.466134Z",
     "end_time": "2024-02-27T11:57:12.509141Z"
    }
   }
  },
  {
   "cell_type": "code",
   "execution_count": 19,
   "outputs": [],
   "source": [
    "pm = 'М23'\n",
    "marsh_all_pm_in_elem(df, pm, em)"
   ],
   "metadata": {
    "collapsed": false,
    "ExecuteTime": {
     "start_time": "2024-02-27T11:57:19.602760Z",
     "end_time": "2024-02-27T11:57:19.631764Z"
    }
   }
  },
  {
   "cell_type": "code",
   "execution_count": 20,
   "outputs": [],
   "source": [
    "pm = em\n",
    "marsh_all_pm_in_elem(df, pm, em)"
   ],
   "metadata": {
    "collapsed": false,
    "ExecuteTime": {
     "start_time": "2024-02-27T11:57:50.446474Z",
     "end_time": "2024-02-27T11:57:50.465475Z"
    }
   }
  },
  {
   "cell_type": "code",
   "execution_count": null,
   "outputs": [],
   "source": [],
   "metadata": {
    "collapsed": false
   }
  },
  {
   "cell_type": "code",
   "execution_count": 13,
   "outputs": [],
   "source": [],
   "metadata": {
    "collapsed": false,
    "ExecuteTime": {
     "start_time": "2024-02-27T11:44:38.860412Z",
     "end_time": "2024-02-27T11:44:38.893415Z"
    }
   }
  },
  {
   "cell_type": "code",
   "execution_count": null,
   "outputs": [],
   "source": [],
   "metadata": {
    "collapsed": false
   }
  },
  {
   "cell_type": "code",
   "execution_count": null,
   "outputs": [],
   "source": [],
   "metadata": {
    "collapsed": false
   }
  },
  {
   "cell_type": "code",
   "execution_count": null,
   "outputs": [],
   "source": [],
   "metadata": {
    "collapsed": false
   }
  },
  {
   "cell_type": "code",
   "execution_count": 12,
   "outputs": [
    {
     "data": {
      "text/plain": "    id   bm   em em2      sm  sm1         rs  tm\n29  30  М25  М29  До  +29/31  +31  25/31П,31   1",
      "text/html": "<div>\n<style scoped>\n    .dataframe tbody tr th:only-of-type {\n        vertical-align: middle;\n    }\n\n    .dataframe tbody tr th {\n        vertical-align: top;\n    }\n\n    .dataframe thead th {\n        text-align: right;\n    }\n</style>\n<table border=\"1\" class=\"dataframe\">\n  <thead>\n    <tr style=\"text-align: right;\">\n      <th></th>\n      <th>id</th>\n      <th>bm</th>\n      <th>em</th>\n      <th>em2</th>\n      <th>sm</th>\n      <th>sm1</th>\n      <th>rs</th>\n      <th>tm</th>\n    </tr>\n  </thead>\n  <tbody>\n    <tr>\n      <th>29</th>\n      <td>30</td>\n      <td>М25</td>\n      <td>М29</td>\n      <td>До</td>\n      <td>+29/31</td>\n      <td>+31</td>\n      <td>25/31П,31</td>\n      <td>1</td>\n    </tr>\n  </tbody>\n</table>\n</div>"
     },
     "execution_count": 12,
     "metadata": {},
     "output_type": "execute_result"
    }
   ],
   "source": [
    "df_id(df, 30)"
   ],
   "metadata": {
    "collapsed": false,
    "ExecuteTime": {
     "start_time": "2024-02-27T11:38:39.347477Z",
     "end_time": "2024-02-27T11:38:39.468501Z"
    }
   }
  },
  {
   "cell_type": "code",
   "execution_count": null,
   "outputs": [],
   "source": [],
   "metadata": {
    "collapsed": false
   }
  },
  {
   "cell_type": "code",
   "execution_count": 40,
   "outputs": [
    {
     "data": {
      "text/plain": "      id  marshrut_id    elm      telm  ppos  isp  pnisp\n231  232           33     31        РЦ     1    0      1\n232  233           33    М29  Светофор     1    0      2\n233  234           33  33-43        РЦ     0    1      3\n234  235           33  33/35   Стрелка     1    0      0\n235  236           33     41   Стрелка     0    0      0\n236  237           33     43   Стрелка     1    0      0",
      "text/html": "<div>\n<style scoped>\n    .dataframe tbody tr th:only-of-type {\n        vertical-align: middle;\n    }\n\n    .dataframe tbody tr th {\n        vertical-align: top;\n    }\n\n    .dataframe thead th {\n        text-align: right;\n    }\n</style>\n<table border=\"1\" class=\"dataframe\">\n  <thead>\n    <tr style=\"text-align: right;\">\n      <th></th>\n      <th>id</th>\n      <th>marshrut_id</th>\n      <th>elm</th>\n      <th>telm</th>\n      <th>ppos</th>\n      <th>isp</th>\n      <th>pnisp</th>\n    </tr>\n  </thead>\n  <tbody>\n    <tr>\n      <th>231</th>\n      <td>232</td>\n      <td>33</td>\n      <td>31</td>\n      <td>РЦ</td>\n      <td>1</td>\n      <td>0</td>\n      <td>1</td>\n    </tr>\n    <tr>\n      <th>232</th>\n      <td>233</td>\n      <td>33</td>\n      <td>М29</td>\n      <td>Светофор</td>\n      <td>1</td>\n      <td>0</td>\n      <td>2</td>\n    </tr>\n    <tr>\n      <th>233</th>\n      <td>234</td>\n      <td>33</td>\n      <td>33-43</td>\n      <td>РЦ</td>\n      <td>0</td>\n      <td>1</td>\n      <td>3</td>\n    </tr>\n    <tr>\n      <th>234</th>\n      <td>235</td>\n      <td>33</td>\n      <td>33/35</td>\n      <td>Стрелка</td>\n      <td>1</td>\n      <td>0</td>\n      <td>0</td>\n    </tr>\n    <tr>\n      <th>235</th>\n      <td>236</td>\n      <td>33</td>\n      <td>41</td>\n      <td>Стрелка</td>\n      <td>0</td>\n      <td>0</td>\n      <td>0</td>\n    </tr>\n    <tr>\n      <th>236</th>\n      <td>237</td>\n      <td>33</td>\n      <td>43</td>\n      <td>Стрелка</td>\n      <td>1</td>\n      <td>0</td>\n      <td>0</td>\n    </tr>\n  </tbody>\n</table>\n</div>"
     },
     "execution_count": 40,
     "metadata": {},
     "output_type": "execute_result"
    }
   ],
   "source": [
    "dfm1 = df_col(dfmarsh, 'marshrut_id', 33)\n",
    "dfm1"
   ],
   "metadata": {
    "collapsed": false,
    "ExecuteTime": {
     "start_time": "2024-02-26T18:16:28.467866Z",
     "end_time": "2024-02-26T18:16:28.533878Z"
    }
   }
  },
  {
   "cell_type": "code",
   "execution_count": 24,
   "outputs": [
    {
     "data": {
      "text/plain": "    id  marshrut_id  elm      telm  ppos  isp  pnisp\n61  62           12  М11  Светофор     1    0      2\n62  63           12    9        РЦ     0    1      3",
      "text/html": "<div>\n<style scoped>\n    .dataframe tbody tr th:only-of-type {\n        vertical-align: middle;\n    }\n\n    .dataframe tbody tr th {\n        vertical-align: top;\n    }\n\n    .dataframe thead th {\n        text-align: right;\n    }\n</style>\n<table border=\"1\" class=\"dataframe\">\n  <thead>\n    <tr style=\"text-align: right;\">\n      <th></th>\n      <th>id</th>\n      <th>marshrut_id</th>\n      <th>elm</th>\n      <th>telm</th>\n      <th>ppos</th>\n      <th>isp</th>\n      <th>pnisp</th>\n    </tr>\n  </thead>\n  <tbody>\n    <tr>\n      <th>61</th>\n      <td>62</td>\n      <td>12</td>\n      <td>М11</td>\n      <td>Светофор</td>\n      <td>1</td>\n      <td>0</td>\n      <td>2</td>\n    </tr>\n    <tr>\n      <th>62</th>\n      <td>63</td>\n      <td>12</td>\n      <td>9</td>\n      <td>РЦ</td>\n      <td>0</td>\n      <td>1</td>\n      <td>3</td>\n    </tr>\n  </tbody>\n</table>\n</div>"
     },
     "execution_count": 24,
     "metadata": {},
     "output_type": "execute_result"
    }
   ],
   "source": [
    "dfm1[(dfm1['telm']=='Светофор') | (dfm1['telm']=='РЦ')].iloc[1:]"
   ],
   "metadata": {
    "collapsed": false,
    "ExecuteTime": {
     "start_time": "2024-02-26T17:36:48.398343Z",
     "end_time": "2024-02-26T17:36:48.420345Z"
    }
   }
  },
  {
   "cell_type": "code",
   "execution_count": 29,
   "outputs": [
    {
     "data": {
      "text/plain": "   id name  pok  type  fault_B  fault_K  remont  marsh\n7   8  М11    0     0        0        0       0      0",
      "text/html": "<div>\n<style scoped>\n    .dataframe tbody tr th:only-of-type {\n        vertical-align: middle;\n    }\n\n    .dataframe tbody tr th {\n        vertical-align: top;\n    }\n\n    .dataframe thead th {\n        text-align: right;\n    }\n</style>\n<table border=\"1\" class=\"dataframe\">\n  <thead>\n    <tr style=\"text-align: right;\">\n      <th></th>\n      <th>id</th>\n      <th>name</th>\n      <th>pok</th>\n      <th>type</th>\n      <th>fault_B</th>\n      <th>fault_K</th>\n      <th>remont</th>\n      <th>marsh</th>\n    </tr>\n  </thead>\n  <tbody>\n    <tr>\n      <th>7</th>\n      <td>8</td>\n      <td>М11</td>\n      <td>0</td>\n      <td>0</td>\n      <td>0</td>\n      <td>0</td>\n      <td>0</td>\n      <td>0</td>\n    </tr>\n  </tbody>\n</table>\n</div>"
     },
     "execution_count": 29,
     "metadata": {},
     "output_type": "execute_result"
    }
   ],
   "source": [
    "d1 = df_name(dfsv, 'М11')\n",
    "d1"
   ],
   "metadata": {
    "collapsed": false,
    "ExecuteTime": {
     "start_time": "2024-02-26T17:53:59.879725Z",
     "end_time": "2024-02-26T17:53:59.921851Z"
    }
   }
  },
  {
   "cell_type": "code",
   "execution_count": 48,
   "outputs": [],
   "source": [
    "dfrs.loc[dfrs['name']=='33-43', 'state'] = 0"
   ],
   "metadata": {
    "collapsed": false,
    "ExecuteTime": {
     "start_time": "2024-02-26T18:39:14.712934Z",
     "end_time": "2024-02-26T18:39:14.731009Z"
    }
   }
  },
  {
   "cell_type": "code",
   "execution_count": null,
   "outputs": [],
   "source": [],
   "metadata": {
    "collapsed": false
   }
  },
  {
   "cell_type": "code",
   "execution_count": 104,
   "outputs": [],
   "source": [
    "bm = 'М1'\n",
    "ls_sv, ls_str, ls_rs = marsh_all_bm_in_elem(df, bm, is_txt=False)\n",
    "# ls_all_marsh = marsh_all_bm(df, bm, [])"
   ],
   "metadata": {
    "collapsed": false,
    "ExecuteTime": {
     "start_time": "2024-02-25T18:38:53.303913Z",
     "end_time": "2024-02-25T18:38:53.527491Z"
    }
   }
  },
  {
   "cell_type": "code",
   "execution_count": 73,
   "outputs": [],
   "source": [
    "df1 = df[df['id']==5]"
   ],
   "metadata": {
    "collapsed": false,
    "ExecuteTime": {
     "start_time": "2024-02-25T15:38:14.266688Z",
     "end_time": "2024-02-25T15:38:14.279689Z"
    }
   }
  },
  {
   "cell_type": "code",
   "execution_count": 77,
   "outputs": [
    {
     "data": {
      "text/plain": "'1ГП,1,1/15П'"
     },
     "execution_count": 77,
     "metadata": {},
     "output_type": "execute_result"
    }
   ],
   "source": [
    "df1['rs'].iloc[0]"
   ],
   "metadata": {
    "collapsed": false,
    "ExecuteTime": {
     "start_time": "2024-02-25T15:39:01.340614Z",
     "end_time": "2024-02-25T15:39:01.370620Z"
    }
   }
  },
  {
   "cell_type": "code",
   "execution_count": 115,
   "outputs": [],
   "source": [
    "ls = df['sm1'].tolist()"
   ],
   "metadata": {
    "collapsed": false,
    "ExecuteTime": {
     "start_time": "2024-02-25T18:56:02.438524Z",
     "end_time": "2024-02-25T18:56:02.454524Z"
    }
   }
  },
  {
   "cell_type": "code",
   "execution_count": 116,
   "outputs": [],
   "source": [
    "ls1 = []\n",
    "for s1 in ls:\n",
    "    if s1 is not np.nan:\n",
    "        ls2 = s1.split(',')\n",
    "        for s2 in ls2:\n",
    "            s3 = s2[1:]\n",
    "            if s3 not in ls1:\n",
    "                ls1.append(s3)"
   ],
   "metadata": {
    "collapsed": false,
    "ExecuteTime": {
     "start_time": "2024-02-25T18:56:03.565789Z",
     "end_time": "2024-02-25T18:56:03.611796Z"
    }
   }
  },
  {
   "cell_type": "code",
   "execution_count": 117,
   "outputs": [],
   "source": [
    "write_marsh('c:/tt/str_name.txt', ls1)"
   ],
   "metadata": {
    "collapsed": false,
    "ExecuteTime": {
     "start_time": "2024-02-25T18:56:04.638639Z",
     "end_time": "2024-02-25T18:56:04.658643Z"
    }
   }
  },
  {
   "cell_type": "code",
   "execution_count": null,
   "outputs": [],
   "source": [],
   "metadata": {
    "collapsed": false
   }
  },
  {
   "cell_type": "code",
   "execution_count": 37,
   "outputs": [
    {
     "name": "stdout",
     "output_type": "stream",
     "text": [
      "0\n",
      "100\n",
      "101\n",
      "102\n",
      "1\n",
      "100\n",
      "101\n",
      "102\n",
      "2\n",
      "100\n",
      "101\n",
      "102\n",
      "3\n",
      "100\n",
      "101\n",
      "102\n",
      "4\n",
      "100\n",
      "101\n",
      "102\n"
     ]
    }
   ],
   "source": [
    "for i in range(5):\n",
    "    print(i)\n",
    "    for j in range(100,105):\n",
    "        print(j)\n",
    "        if j==102:\n",
    "            break\n",
    "        # print(j)\n"
   ],
   "metadata": {
    "collapsed": false,
    "ExecuteTime": {
     "start_time": "2024-02-26T18:11:10.800954Z",
     "end_time": "2024-02-26T18:11:10.838958Z"
    }
   }
  },
  {
   "cell_type": "code",
   "execution_count": null,
   "outputs": [],
   "source": [],
   "metadata": {
    "collapsed": false
   }
  },
  {
   "cell_type": "code",
   "execution_count": null,
   "outputs": [],
   "source": [],
   "metadata": {
    "collapsed": false
   }
  },
  {
   "cell_type": "code",
   "execution_count": null,
   "outputs": [],
   "source": [],
   "metadata": {
    "collapsed": false
   }
  },
  {
   "cell_type": "code",
   "execution_count": null,
   "outputs": [],
   "source": [],
   "metadata": {
    "collapsed": false
   }
  },
  {
   "cell_type": "code",
   "execution_count": null,
   "outputs": [],
   "source": [],
   "metadata": {
    "collapsed": false
   }
  },
  {
   "cell_type": "code",
   "execution_count": null,
   "outputs": [],
   "source": [],
   "metadata": {
    "collapsed": false
   }
  },
  {
   "cell_type": "code",
   "execution_count": null,
   "outputs": [],
   "source": [],
   "metadata": {
    "collapsed": false
   }
  },
  {
   "cell_type": "code",
   "execution_count": null,
   "outputs": [],
   "source": [],
   "metadata": {
    "collapsed": false
   }
  },
  {
   "cell_type": "code",
   "execution_count": null,
   "outputs": [],
   "source": [],
   "metadata": {
    "collapsed": false
   }
  },
  {
   "cell_type": "code",
   "execution_count": null,
   "outputs": [],
   "source": [],
   "metadata": {
    "collapsed": false
   }
  },
  {
   "cell_type": "code",
   "execution_count": null,
   "outputs": [],
   "source": [
    "def marsh_sv_bm(dfm, bm):\n",
    "    ls = marsh_all_bm(dfm, bm, [bm])\n",
    "    ls7 = []\n",
    "    for lm in ls:\n",
    "        for m1 in lm:\n",
    "            bm1 = dfm[dfm['id']==m1]['bm'].iloc[0]\n",
    "            if bm1 not in ls7:\n",
    "                ls7.append(bm1)\n",
    "        m1 = lm[-1]\n",
    "        em = dfm[dfm['id']==m1]['em'].iloc[0]\n",
    "        if em not in ls7:\n",
    "            ls7.append(em)\n",
    "    write_marsh(\"marsh_sv_bm.txt\", ls7)\n",
    "\n",
    "def marsh_sv_bm1(dfm, ls_all_marsh):\n",
    "    ls = []\n",
    "    for lm in ls_all_marsh:\n",
    "        for id_m in lm:\n",
    "            bm1 = dfm[dfm['id']==id_m]['bm'].iloc[0]\n",
    "            if bm1 not in ls:\n",
    "                ls.append(bm1)\n",
    "        id_m = lm[-1]\n",
    "        em = dfm[dfm['id']==id_m]['em'].iloc[0]\n",
    "        if em not in ls:\n",
    "            ls.append(em)\n",
    "    return ls\n",
    "\n",
    "def marsh_rs_bm1(dfm, ls_all_marsh):\n",
    "    ls = []\n",
    "    for lm in ls_all_marsh:\n",
    "        for id_m in lm:\n",
    "            rs1 = dfm[dfm['id']==id_m]['rs'].iloc[0]\n",
    "            if rs1 is not np.nan:\n",
    "                ls_st = rs1.split(',')\n",
    "                for rs in ls_st:\n",
    "                    if rs not in ls:\n",
    "                        ls.append(rs)\n",
    "    return ls\n",
    "\n",
    "def marsh_str_bm1(dfm, ls_all_marsh):\n",
    "    ls = []\n",
    "    for lm in ls_all_marsh:\n",
    "        for id_m in lm:\n",
    "            st1 = dfm[dfm['id']==id_m]['sm'].iloc[0]\n",
    "            if st1 is not np.nan:\n",
    "                ls_st = st1.split(',')\n",
    "                for st2 in ls_st:\n",
    "                    st3 = st2[1:]\n",
    "                    if st3 not in ls:\n",
    "                        ls.append(st3)\n",
    "    return ls"
   ],
   "metadata": {
    "collapsed": false
   }
  },
  {
   "cell_type": "code",
   "execution_count": null,
   "outputs": [],
   "source": [],
   "metadata": {
    "collapsed": false
   }
  },
  {
   "cell_type": "code",
   "execution_count": null,
   "outputs": [],
   "source": [],
   "metadata": {
    "collapsed": false
   }
  },
  {
   "cell_type": "code",
   "execution_count": 8,
   "outputs": [],
   "source": [
    "ds = {\n",
    "    0: {\n",
    "        'rs': '3-5',\n",
    "        'state': 0,\n",
    "        'fl': 0\n",
    "    },\n",
    "    1: {\n",
    "        'rs': '5/9П',\n",
    "        'state': 0,\n",
    "        'fl': 0\n",
    "    },\n",
    "    2: {\n",
    "        'rs': '9',\n",
    "        'state': 0,\n",
    "        'fl': 0\n",
    "    },\n",
    "    3: {\n",
    "        'rs': '11-19',\n",
    "        'state': 0,\n",
    "        'fl': 0\n",
    "    },\n",
    "    4: {\n",
    "        'rs': '23',\n",
    "        'state': 0,\n",
    "        'fl': 0\n",
    "    },\n",
    "}"
   ],
   "metadata": {
    "collapsed": false,
    "ExecuteTime": {
     "start_time": "2024-03-03T11:24:50.452270Z",
     "end_time": "2024-03-03T11:24:50.474270Z"
    }
   }
  },
  {
   "cell_type": "code",
   "execution_count": 9,
   "outputs": [
    {
     "data": {
      "text/plain": "{0: {'rs': '3-5', 'state': 0, 'fl': 0},\n 1: {'rs': '5/9П', 'state': 0, 'fl': 0},\n 2: {'rs': '9', 'state': 0, 'fl': 0},\n 3: {'rs': '11-19', 'state': 0, 'fl': 0},\n 4: {'rs': '23', 'state': 0, 'fl': 0}}"
     },
     "execution_count": 9,
     "metadata": {},
     "output_type": "execute_result"
    }
   ],
   "source": [
    "ds"
   ],
   "metadata": {
    "collapsed": false,
    "ExecuteTime": {
     "start_time": "2024-03-03T11:24:51.016394Z",
     "end_time": "2024-03-03T11:24:51.039905Z"
    }
   }
  },
  {
   "cell_type": "code",
   "execution_count": 72,
   "outputs": [
    {
     "data": {
      "text/plain": "{'rs': '23', 'state': 0, 'fl': 1}"
     },
     "execution_count": 72,
     "metadata": {},
     "output_type": "execute_result"
    }
   ],
   "source": [
    "ds.get(4)"
   ],
   "metadata": {
    "collapsed": false,
    "ExecuteTime": {
     "start_time": "2024-03-03T14:01:45.639834Z",
     "end_time": "2024-03-03T14:01:45.668837Z"
    }
   }
  },
  {
   "cell_type": "code",
   "execution_count": 288,
   "outputs": [],
   "source": [
    "rs_n = []\n",
    "def f0(num):\n",
    "    err = 0\n",
    "    global rs_n\n",
    "    n1 = num-1\n",
    "    for i in range(num, 5):\n",
    "        st1 = ds[i]['state']\n",
    "        fl1 = ds[i]['fl']\n",
    "        if not (st1 == 0 and fl1 == 0):\n",
    "            err = 1\n",
    "            rs_n.append([[n1, ds[n1]['state'], ds[n1]['fl']],\n",
    "                         [i, ds[i]['state'], ds[i]['fl']]])\n",
    "            break\n",
    "    return err\n",
    "\n",
    "def f1(num):\n",
    "    err = 0\n",
    "    global rs_n\n",
    "    n1 = num-1\n",
    "    for i in range(num, 5):\n",
    "        st1 = ds[i]['state']\n",
    "        fl1 = ds[i]['fl']\n",
    "        if not (st1 <= 1 and fl1 == 0):\n",
    "            err = 1\n",
    "            rs_n.append([[n1, ds[n1]['state'], ds[n1]['fl']],\n",
    "                         [i, ds[i]['state'], ds[i]['fl']]])\n",
    "            break\n",
    "    return err\n",
    "\n",
    "def f2(num):\n",
    "    err = 0\n",
    "    global rs_n\n",
    "    n1 = num-1\n",
    "    for i in range(num, 5):\n",
    "        st1 = ds[i]['state']\n",
    "        fl1 = ds[i]['fl']\n",
    "        if not (st1 == 1 and fl1 == 1):\n",
    "            err = 1\n",
    "            rs_n.append([[n1, ds[n1]['state'], ds[n1]['fl']],\n",
    "                         [i, ds[i]['state'], ds[i]['fl']]])\n",
    "            break\n",
    "    return err\n",
    "\n",
    "# def f2(num):\n",
    "#     global rs_n\n",
    "#     fl2 = ds[num]['fl']\n",
    "#     st2 = ds[num]['state']\n",
    "#     n1 = num-1\n",
    "#     if not (fl2 == 1 and st2 == 0):\n",
    "#         rs_n.append([[n1, ds[n1]['state'], ds[n1]['fl']],\n",
    "#                      [num, st2, fl2]])\n",
    "#         return 1\n",
    "#     return 0\n",
    "\n",
    "def ff():\n",
    "    err = 0\n",
    "    global rs_n\n",
    "\n",
    "    for i in range(5):\n",
    "        st1 = ds[i]['state']\n",
    "        fl1 = ds[i]['fl']\n",
    "\n",
    "        if fl1 != 3:\n",
    "            if i < 5-1:\n",
    "                st2 = ds[i+1]['state']\n",
    "                if fl1==0:\n",
    "                    err = f0(i+1)\n",
    "                    if st1==0 and st2==0:\n",
    "                       pass\n",
    "                    if st1==1 and st2==0:\n",
    "                        ds[i]['fl'] = 1\n",
    "\n",
    "                elif fl1==1:\n",
    "                    err = f1(i+1)\n",
    "                    if st1==1 and st2==1:\n",
    "                        ds[i]['fl'] = 2\n",
    "\n",
    "                elif fl1==2:\n",
    "                    # err = f2(i+1)\n",
    "                    if st1==0 and st2==1:\n",
    "                        ds[i]['fl'] = 3\n",
    "                    # err = f2(i+1)\n",
    "                else:\n",
    "                    err = 1\n",
    "                    rs_n.append([[i, st1, fl1], [i+1, st2]])\n",
    "            else:\n",
    "                if fl1==0:\n",
    "                    if st1==0:\n",
    "                       pass\n",
    "                    if st1==1:\n",
    "                        ds[i]['fl'] = 1\n",
    "                # elif fl1==1:\n",
    "                #     if st1==1:\n",
    "                #         ds[i]['fl'] = 2\n",
    "                elif fl1==1:\n",
    "                    if st1==0:\n",
    "                        ds[i]['fl'] = 3\n",
    "                else:\n",
    "                    rs_n.append([[i, st1, fl1]])\n",
    "                    err = 1\n",
    "\n",
    "    fl = 1\n",
    "    for i in range(5):\n",
    "        if ds[i]['fl'] != 3:\n",
    "            fl = 0\n",
    "\n",
    "    if fl == 1:\n",
    "        err = 2\n",
    "    return err\n"
   ],
   "metadata": {
    "collapsed": false,
    "ExecuteTime": {
     "start_time": "2024-03-03T16:30:39.778384Z",
     "end_time": "2024-03-03T16:30:39.819389Z"
    }
   }
  },
  {
   "cell_type": "code",
   "execution_count": 126,
   "outputs": [],
   "source": [
    "import threading\n",
    "from time import sleep"
   ],
   "metadata": {
    "collapsed": false,
    "ExecuteTime": {
     "start_time": "2024-03-03T14:26:56.594572Z",
     "end_time": "2024-03-03T14:26:56.613574Z"
    }
   }
  },
  {
   "cell_type": "code",
   "execution_count": 289,
   "outputs": [],
   "source": [
    "def f12():\n",
    "    global  err\n",
    "    while True:\n",
    "        err = ff()\n",
    "        if err > 0:\n",
    "            break\n",
    "        sleep(1)\n",
    "\n",
    "def f13():\n",
    "    global ls\n",
    "    err = 0\n",
    "    # ls = [[0,0], [0,1], [1,1], [0,0], [2,1], [1,0], [3,1], [2,0], [4,1], [3,0], [4,0]]\n",
    "    for ls1 in ls:\n",
    "        ds[ls1[0]]['state'] = ls1[1]\n",
    "        sleep(3)"
   ],
   "metadata": {
    "collapsed": false,
    "ExecuteTime": {
     "start_time": "2024-03-03T16:30:42.566517Z",
     "end_time": "2024-03-03T16:30:42.576522Z"
    }
   }
  },
  {
   "cell_type": "code",
   "execution_count": 303,
   "outputs": [],
   "source": [
    "ds = {\n",
    "    0: {\n",
    "        'rs': '3-5',\n",
    "        'state': 0,\n",
    "        'fl': 0\n",
    "    },\n",
    "    1: {\n",
    "        'rs': '5/9П',\n",
    "        'state': 0,\n",
    "        'fl': 0\n",
    "    },\n",
    "    2: {\n",
    "        'rs': '9',\n",
    "        'state': 0,\n",
    "        'fl': 0\n",
    "    },\n",
    "    3: {\n",
    "        'rs': '11-19',\n",
    "        'state': 0,\n",
    "        'fl': 0\n",
    "    },\n",
    "    4: {\n",
    "        'rs': '23',\n",
    "        'state': 0,\n",
    "        'fl': 0\n",
    "    },\n",
    "}\n",
    "err = 0\n",
    "rs_n = []\n",
    "\n",
    "ls = [[0,0], [0,1], [1,1],   [3,1],   [0,0], [1,0], [3,1], [2,0], [4,1], [3,0], [4,0]]\n",
    "\n",
    "t = threading.Thread(target=f12)\n",
    "t.start()\n",
    "t1 = threading.Thread(target=f13)\n",
    "t1.start()"
   ],
   "metadata": {
    "collapsed": false,
    "ExecuteTime": {
     "start_time": "2024-03-03T16:31:53.004439Z",
     "end_time": "2024-03-03T16:31:53.020440Z"
    }
   }
  },
  {
   "cell_type": "code",
   "execution_count": 314,
   "outputs": [
    {
     "data": {
      "text/plain": "{0: {'rs': '3-5', 'state': 0, 'fl': 3},\n 1: {'rs': '5/9П', 'state': 0, 'fl': 1},\n 2: {'rs': '9', 'state': 0, 'fl': 0},\n 3: {'rs': '11-19', 'state': 0, 'fl': 2},\n 4: {'rs': '23', 'state': 0, 'fl': 1}}"
     },
     "execution_count": 314,
     "metadata": {},
     "output_type": "execute_result"
    }
   ],
   "source": [
    "ds"
   ],
   "metadata": {
    "collapsed": false,
    "ExecuteTime": {
     "start_time": "2024-03-03T16:32:27.874695Z",
     "end_time": "2024-03-03T16:32:27.889698Z"
    }
   }
  },
  {
   "cell_type": "code",
   "execution_count": 287,
   "outputs": [
    {
     "data": {
      "text/plain": "False"
     },
     "execution_count": 287,
     "metadata": {},
     "output_type": "execute_result"
    }
   ],
   "source": [],
   "metadata": {
    "collapsed": false,
    "ExecuteTime": {
     "start_time": "2024-03-03T16:24:26.568573Z",
     "end_time": "2024-03-03T16:24:26.583577Z"
    }
   }
  },
  {
   "cell_type": "code",
   "execution_count": null,
   "outputs": [],
   "source": [],
   "metadata": {
    "collapsed": false
   }
  },
  {
   "cell_type": "code",
   "execution_count": null,
   "outputs": [],
   "source": [],
   "metadata": {
    "collapsed": false
   }
  },
  {
   "cell_type": "code",
   "execution_count": null,
   "outputs": [],
   "source": [],
   "metadata": {
    "collapsed": false
   }
  },
  {
   "cell_type": "code",
   "execution_count": null,
   "outputs": [],
   "source": [],
   "metadata": {
    "collapsed": false
   }
  },
  {
   "cell_type": "code",
   "execution_count": null,
   "outputs": [],
   "source": [],
   "metadata": {
    "collapsed": false
   }
  },
  {
   "cell_type": "code",
   "execution_count": null,
   "outputs": [],
   "source": [],
   "metadata": {
    "collapsed": false
   }
  },
  {
   "cell_type": "code",
   "execution_count": null,
   "outputs": [],
   "source": [],
   "metadata": {
    "collapsed": false
   }
  },
  {
   "cell_type": "code",
   "execution_count": null,
   "outputs": [],
   "source": [],
   "metadata": {
    "collapsed": false
   }
  },
  {
   "cell_type": "code",
   "execution_count": null,
   "outputs": [],
   "source": [],
   "metadata": {
    "collapsed": false
   }
  },
  {
   "cell_type": "code",
   "execution_count": null,
   "outputs": [],
   "source": [],
   "metadata": {
    "collapsed": false
   }
  },
  {
   "cell_type": "code",
   "execution_count": null,
   "outputs": [],
   "source": [],
   "metadata": {
    "collapsed": false
   }
  }
 ],
 "metadata": {
  "kernelspec": {
   "display_name": "Python 3",
   "language": "python",
   "name": "python3"
  },
  "language_info": {
   "codemirror_mode": {
    "name": "ipython",
    "version": 2
   },
   "file_extension": ".py",
   "mimetype": "text/x-python",
   "name": "python",
   "nbconvert_exporter": "python",
   "pygments_lexer": "ipython2",
   "version": "2.7.6"
  }
 },
 "nbformat": 4,
 "nbformat_minor": 0
}
