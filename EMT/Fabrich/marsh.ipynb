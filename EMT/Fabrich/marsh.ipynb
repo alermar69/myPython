{
 "cells": [
  {
   "cell_type": "code",
   "execution_count": 1,
   "metadata": {
    "collapsed": true,
    "ExecuteTime": {
     "start_time": "2024-03-13T10:22:45.915006Z",
     "end_time": "2024-03-13T10:22:50.336995Z"
    }
   },
   "outputs": [],
   "source": [
    "import pandas as pd\n",
    "import numpy as np\n",
    "import pyodbc as pc\n",
    "import warnings\n",
    "\n",
    "# from t2 import *\n",
    "\n",
    "warnings.filterwarnings('ignore')\n",
    "path_start = 'c:/tt/'"
   ]
  },
  {
   "cell_type": "code",
   "execution_count": 2,
   "outputs": [],
   "source": [
    "dfm = pd.read_csv(f'{path_start}marsh_fabr.csv')\n",
    "df_free = pd.read_csv(f\"{path_start}marsh_free_elem.csv\", encoding='Windows-1251')"
   ],
   "metadata": {
    "collapsed": false,
    "ExecuteTime": {
     "start_time": "2024-03-13T10:22:50.332998Z",
     "end_time": "2024-03-13T10:22:50.442022Z"
    }
   }
  },
  {
   "cell_type": "code",
   "execution_count": 14,
   "outputs": [],
   "source": [
    "def to_txt_ls(namefile, ls):\n",
    "    path = path_start + namefile\n",
    "    with open(path, \"w\", encoding='Windows-1251') as f:\n",
    "        for ss in ls:\n",
    "            f.write(ss + '\\n')\n",
    "\n",
    "def to_txt_ls2(namefile, ls):\n",
    "    path = path_start + namefile\n",
    "    with open(path, \"w\", encoding='Windows-1251') as f:\n",
    "        for ss in ls:\n",
    "            s1 = ''\n",
    "            for ss1 in ss:\n",
    "                s1 += str(ss1) + ','\n",
    "            if len(s1) > 0:\n",
    "                s1 = s1[:-1]\n",
    "                f.write(s1)\n",
    "                f.write('\\n')\n",
    "\n",
    "def read_txt_ls2(namefile):\n",
    "    path = path_start + namefile\n",
    "    ls = []\n",
    "    with open(path, \"r\", encoding='Windows-1251') as f:\n",
    "        for line in f:\n",
    "            ls1 = line.strip().split(',')\n",
    "            ls1 = [int(x) for x in ls1]\n",
    "            ls.append(ls1)\n",
    "    return ls\n",
    "\n",
    "def df_id(df, id1):\n",
    "    return df[df['id'] == id1]\n",
    "\n",
    "def df_name(df, name):\n",
    "    return df[df['name'] == name]\n",
    "\n",
    "def df_col(df, col, val):\n",
    "    return df[df[col] == val]\n",
    "\n",
    "# ------------------------------------------------------------------------------------------------------\n",
    "\n",
    "\n",
    "def marsh_last(dfm, bm):\n",
    "    query = f\"bm=='{bm}' and (em2=='За' or em2=='На') and tm==1\"\n",
    "    return dfm.query(query)['id'].tolist()\n",
    "\n",
    "def marsh_middle(dfm, bm):\n",
    "    query = f\"bm=='{bm}' and em2=='До' and tm==1\"\n",
    "    return dfm.query(query)['id'].tolist()\n",
    "\n",
    "def marsh_all_bm(dfm, bm, ls_id):\n",
    "    ls = []\n",
    "\n",
    "    ls_k = marsh_last(dfm, bm)\n",
    "    for id_em in ls_k:\n",
    "        ls.append(ls_id + [id_em])\n",
    "\n",
    "    ls_p = marsh_middle(dfm, bm)\n",
    "    if len(ls_p) == 0:\n",
    "        return ls\n",
    "    for pm in ls_p:\n",
    "        em = dfm[dfm['id'] == pm]['em'].iloc[0]\n",
    "        ls_p_k = marsh_all_bm(dfm, em, ls_id + [pm])\n",
    "        if ls_p_k:\n",
    "            ls.extend(ls_p_k)\n",
    "    return ls\n",
    "\n",
    "def marsh_all_bm_exclude(ls_marsh_all_bm):\n",
    "    dfmarsh = pd.read_csv(f'{path_start}marsh_dev.csv')\n",
    "\n",
    "    ls_free_sv = df_free[df_free['typ']=='sv']['name'].tolist()\n",
    "    ls_free_rs = df_free[df_free['typ']=='rs']['name'].tolist()\n",
    "\n",
    "    ls_marsh = []\n",
    "    for lsm in ls_marsh_all_bm:\n",
    "        ls_marsh1 = []\n",
    "        for m_id in lsm:\n",
    "            dfm1 = df_col(dfmarsh, 'marshrut_id', m_id)\n",
    "            dfm2 = dfm1[(dfm1['telm'] == 'Светофор') | (dfm1['telm'] == 'РЦ')].iloc[1:]\n",
    "            fl = 0\n",
    "            for index, row in dfm2.iterrows():\n",
    "                if row['telm'] == 'Светофор':\n",
    "                    if row['elm'] not in ls_free_sv:\n",
    "                        fl = 1\n",
    "                if row['telm'] == 'РЦ' and not row['elm'].endswith('ТП'):\n",
    "                    if row['elm'] not in ls_free_rs:\n",
    "                        fl = 1\n",
    "            if fl == 0:\n",
    "                ls_marsh1.append(m_id)\n",
    "            else:\n",
    "                break\n",
    "        if len(ls_marsh1) > 0:\n",
    "            ls_marsh.append(ls_marsh1)\n",
    "    return ls_marsh\n",
    "\n",
    "def marsh_elem(dfm, ls_all_marsh, is_txt=True):\n",
    "    ls_sv = []\n",
    "    ls_str = []\n",
    "    ls_rs = []\n",
    "    for lm in ls_all_marsh:\n",
    "        for id_m in lm:\n",
    "            df1 = dfm[dfm['id'] == id_m]\n",
    "            # SV ------------------------\n",
    "            bm1 = df1['bm'].iloc[0]\n",
    "            if bm1 not in ls_sv:\n",
    "                ls_sv.append(bm1)\n",
    "            # STR ------------------------\n",
    "            st1 = df1['sm1'].iloc[0]\n",
    "            if st1 is not np.nan:\n",
    "                ls_st = st1.split(',')\n",
    "                for st2 in ls_st:\n",
    "                    # st3 = st2[1:]\n",
    "                    if st2 not in ls_str:\n",
    "                        ls_str.append(st2)\n",
    "            # RS ------------------------\n",
    "            rs1 = df1['rs'].iloc[0]\n",
    "            if rs1 is not np.nan:\n",
    "                ls_st = rs1.split(',')\n",
    "                for rs in ls_st:\n",
    "                    if rs not in ls_rs:\n",
    "                        ls_rs.append(rs)\n",
    "\n",
    "        id_m = lm[-1]\n",
    "        em = dfm[dfm['id'] == id_m]['em'].iloc[0]\n",
    "        if em not in ls_sv:\n",
    "            ls_sv.append(em)\n",
    "    if is_txt:\n",
    "        to_txt_ls(\"marsh_sv_bm.txt\", ls_sv)\n",
    "        to_txt_ls(\"marsh_str_bm.txt\", ls_str)\n",
    "        to_txt_ls(\"marsh_rs_bm.txt\", ls_rs)\n",
    "        to_txt_ls2(\"marsh_all_bm.txt\", ls_all_marsh)\n",
    "        to_txt_ls(\"marsh_is_sel.txt\", [])\n",
    "    else:\n",
    "        return ls_all_marsh, ls_sv, ls_str, ls_rs\n",
    "\n",
    "def marsh_all_bm_in_elem(dfm, bm):\n",
    "    ls_all_marsh = marsh_all_bm(dfm, bm, [])\n",
    "    ls_all_marsh = marsh_all_bm_exclude(ls_all_marsh)\n",
    "    marsh_elem(dfm, ls_all_marsh)\n",
    "\n",
    "# ------------------------------------------------------------------------------------------------------\n",
    "\n",
    "\n",
    "def marsh_all_em(dfm, em, ls_marsh_id):\n",
    "    ls_marsh_id1 = []\n",
    "    for ls1 in ls_marsh_id:\n",
    "        ls2 = []\n",
    "        for mars_id in ls1:\n",
    "            ls2.append(mars_id)\n",
    "            em1 = df_id(dfm, mars_id)['em'].iloc[0]\n",
    "            if em == em1:\n",
    "                if ls2 not in ls_marsh_id1:\n",
    "                    ls_marsh_id1.append(ls2)\n",
    "                break\n",
    "    ls_marsh_id1 = sorted(ls_marsh_id1, key=lambda x: len(x))\n",
    "    return ls_marsh_id1\n",
    "\n",
    "def marsh_all_pm(dfm, pm, em, ls_marsh_id):\n",
    "    ls_marsh_id1 = []\n",
    "    if pm == em:\n",
    "        ls_marsh_id1.append(ls_marsh_id[0])\n",
    "    else:\n",
    "        for ls1 in ls_marsh_id:\n",
    "            for mars_id in ls1:\n",
    "                em1 = df_id(dfm, mars_id)['em'].iloc[0]\n",
    "                if pm == em1:\n",
    "                    ls_marsh_id1.append(ls1)\n",
    "                    break\n",
    "    return ls_marsh_id1\n",
    "\n",
    "def marsh_all_em_in_elem(dfm, em):\n",
    "    ls_marsh_id = read_txt_ls2(\"marsh_all_bm.txt\")\n",
    "    ls_marsh_id = marsh_all_em(dfm, em, ls_marsh_id)\n",
    "    marsh_elem(dfm, ls_marsh_id)\n",
    "\n",
    "def marsh_all_pm_in_elem(dfm, pm, em):\n",
    "    ls_marsh_id = read_txt_ls2(\"marsh_all_bm.txt\")\n",
    "    ls_marsh_id = marsh_all_pm(dfm, pm, em, ls_marsh_id)\n",
    "    marsh_elem(dfm, ls_marsh_id)\n",
    "\n",
    "# ------------------------------------------------------------------------------------------------------\n"
   ],
   "metadata": {
    "collapsed": false,
    "ExecuteTime": {
     "start_time": "2024-03-13T11:36:15.500750Z",
     "end_time": "2024-03-13T11:36:15.563762Z"
    }
   }
  },
  {
   "cell_type": "code",
   "execution_count": 4,
   "outputs": [],
   "source": [
    "bm='М7'\n",
    "em='М63'\n",
    "pm='М63'"
   ],
   "metadata": {
    "collapsed": false,
    "ExecuteTime": {
     "start_time": "2024-03-13T10:22:50.476030Z",
     "end_time": "2024-03-13T10:22:50.502133Z"
    }
   }
  },
  {
   "cell_type": "code",
   "execution_count": null,
   "outputs": [],
   "source": [
    "marsh_all_bm_in_elem(dfm, bm)\n",
    "marsh_all_em_in_elem(dfm, em)\n",
    "marsh_all_pm_in_elem(dfm, pm, em)"
   ],
   "metadata": {
    "collapsed": false
   }
  },
  {
   "cell_type": "code",
   "execution_count": 15,
   "outputs": [],
   "source": [
    "ls_all_marsh = marsh_all_bm(dfm, bm, [])"
   ],
   "metadata": {
    "collapsed": false,
    "ExecuteTime": {
     "start_time": "2024-03-13T11:36:28.805789Z",
     "end_time": "2024-03-13T11:36:28.929815Z"
    }
   }
  },
  {
   "cell_type": "code",
   "execution_count": 16,
   "outputs": [],
   "source": [
    "ls_all_marsh = marsh_all_bm_exclude(ls_all_marsh)"
   ],
   "metadata": {
    "collapsed": false,
    "ExecuteTime": {
     "start_time": "2024-03-13T11:36:29.664076Z",
     "end_time": "2024-03-13T11:36:29.820111Z"
    }
   }
  },
  {
   "cell_type": "code",
   "execution_count": 8,
   "outputs": [],
   "source": [
    "ls_free_sv = df_free[df_free['typ']=='sv']['name'].tolist()"
   ],
   "metadata": {
    "collapsed": false,
    "ExecuteTime": {
     "start_time": "2024-03-13T10:32:05.930061Z",
     "end_time": "2024-03-13T10:32:05.936060Z"
    }
   }
  },
  {
   "cell_type": "code",
   "execution_count": 9,
   "outputs": [
    {
     "data": {
      "text/plain": "True"
     },
     "execution_count": 9,
     "metadata": {},
     "output_type": "execute_result"
    }
   ],
   "source": [
    "'М15' in ls_free_sv"
   ],
   "metadata": {
    "collapsed": false,
    "ExecuteTime": {
     "start_time": "2024-03-13T10:33:14.617587Z",
     "end_time": "2024-03-13T10:33:14.672596Z"
    }
   }
  },
  {
   "cell_type": "code",
   "execution_count": 11,
   "outputs": [
    {
     "data": {
      "text/plain": "False"
     },
     "execution_count": 11,
     "metadata": {},
     "output_type": "execute_result"
    }
   ],
   "source": [
    "ls_free_rs = df_free[df_free['typ']=='rs']['name'].tolist()\n",
    "'18ТП' in ls_free_rs"
   ],
   "metadata": {
    "collapsed": false,
    "ExecuteTime": {
     "start_time": "2024-03-13T10:41:33.664389Z",
     "end_time": "2024-03-13T10:41:33.686394Z"
    }
   }
  },
  {
   "cell_type": "code",
   "execution_count": null,
   "outputs": [],
   "source": [
    "dfmarsh = pd.read_csv(f'{path_start}marsh_dev.csv')\n",
    "\n",
    "ls_free_sv = df_free[df_free['typ']=='sv']['name'].tolist()\n",
    "ls_free_rs = df_free[df_free['typ']=='rs']['name'].tolist()\n",
    "\n",
    "ls_marsh = []\n",
    "for lsm in ls_marsh_all_bm:\n",
    "    ls_marsh1 = []\n",
    "    for m_id in lsm:\n",
    "        dfm1 = df_col(dfmarsh, 'marshrut_id', m_id)\n",
    "        dfm2 = dfm1[(dfm1['telm'] == 'Светофор') | (dfm1['telm'] == 'РЦ')].iloc[1:]\n",
    "        fl = 0\n",
    "        for index, row in dfm2.iterrows():\n",
    "            if row['telm'] == 'Светофор':\n",
    "                if row['elm'] not in ls_free_sv:\n",
    "                    fl = 1\n",
    "            if row['telm'] == 'РЦ':\n",
    "                if row['elm'] not in ls_free_rs:\n",
    "                    fl = 1\n",
    "        if fl == 0:\n",
    "            ls_marsh1.append(m_id)\n",
    "        else:\n",
    "            break\n",
    "    if len(ls_marsh1) > 0:\n",
    "        if ls_marsh1 not in ls_marsh:\n",
    "            ls_marsh.append(ls_marsh1)"
   ],
   "metadata": {
    "collapsed": false
   }
  },
  {
   "cell_type": "code",
   "execution_count": 12,
   "outputs": [],
   "source": [
    "s1 = '18ТП'"
   ],
   "metadata": {
    "collapsed": false,
    "ExecuteTime": {
     "start_time": "2024-03-13T11:33:58.009260Z",
     "end_time": "2024-03-13T11:33:58.029262Z"
    }
   }
  },
  {
   "cell_type": "code",
   "execution_count": 13,
   "outputs": [
    {
     "data": {
      "text/plain": "True"
     },
     "execution_count": 13,
     "metadata": {},
     "output_type": "execute_result"
    }
   ],
   "source": [
    "s1.endswith('ТП')"
   ],
   "metadata": {
    "collapsed": false,
    "ExecuteTime": {
     "start_time": "2024-03-13T11:34:11.632055Z",
     "end_time": "2024-03-13T11:34:11.685064Z"
    }
   }
  }
 ],
 "metadata": {
  "kernelspec": {
   "display_name": "Python 3",
   "language": "python",
   "name": "python3"
  },
  "language_info": {
   "codemirror_mode": {
    "name": "ipython",
    "version": 2
   },
   "file_extension": ".py",
   "mimetype": "text/x-python",
   "name": "python",
   "nbconvert_exporter": "python",
   "pygments_lexer": "ipython2",
   "version": "2.7.6"
  }
 },
 "nbformat": 4,
 "nbformat_minor": 0
}
