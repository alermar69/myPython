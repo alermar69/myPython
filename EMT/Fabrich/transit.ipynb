{
 "cells": [
  {
   "cell_type": "code",
   "execution_count": 1,
   "metadata": {
    "collapsed": true,
    "ExecuteTime": {
     "start_time": "2024-03-18T22:45:52.449272Z",
     "end_time": "2024-03-18T22:45:53.081414Z"
    }
   },
   "outputs": [],
   "source": [
    "from pprint import pprint\n",
    "import pandas as pd\n",
    "import numpy as np\n",
    "import pyodbc as pc\n",
    "import sqlalchemy\n",
    "import warnings\n",
    "import threading\n",
    "from time import sleep\n",
    "\n",
    "warnings.filterwarnings('ignore')\n",
    "\n",
    "path_start = 'c:/tt/'\n",
    "path_start_kntr = 'c:/tt/kntr/'"
   ]
  },
  {
   "cell_type": "code",
   "execution_count": 2,
   "outputs": [],
   "source": [
    "def connect():\n",
    "    connection_string = \"Driver=SQL Server;Server=localhost;Database=fabr;Trusted_Connection=Yes;\"\n",
    "    cnxn = pc.connect(connection_string, autocommit=True)\n",
    "    return cnxn\n",
    "def connect_sqlalchemy():\n",
    "    engine = sqlalchemy.create_engine(\"mssql+pyodbc://DESKTOP-SFHJLGK/fabr?driver=ODBC+Driver+17+for+SQL+Server\")\n",
    "    return engine\n",
    "\n",
    "engine = connect_sqlalchemy()"
   ],
   "metadata": {
    "collapsed": false,
    "ExecuteTime": {
     "start_time": "2024-03-18T22:45:53.077415Z",
     "end_time": "2024-03-18T22:45:53.117422Z"
    }
   }
  },
  {
   "cell_type": "code",
   "execution_count": 20,
   "outputs": [],
   "source": [
    "def mt_set_default():\n",
    "    ds = {'M63': {\n",
    "                '1': {\n",
    "                    'rs1': '2ГП',\n",
    "                    'rs2': '3-5',\n",
    "                    'state1': 0,\n",
    "                    'state2': 0,\n",
    "                    'fl':0,\n",
    "                    'end_idMt':-1\n",
    "                },\n",
    "                '2': {\n",
    "                    'rs1': '3-5',\n",
    "                    'rs2': '5/9П',\n",
    "                    'state1': 0,\n",
    "                    'state2': 0,\n",
    "                    'fl':0,\n",
    "                    'end_idMt':-1\n",
    "                },\n",
    "                '3': {\n",
    "                    'rs1': '5/9П',\n",
    "                    'rs2': '9',\n",
    "                    'state1': 0,\n",
    "                    'state2': 0,\n",
    "                    'fl':0,\n",
    "                    'end_idMt':10\n",
    "                },\n",
    "                '4': {\n",
    "                    'rs1': '9',\n",
    "                    'rs2': '11-19',\n",
    "                    'state1': 0,\n",
    "                    'state2': 0,\n",
    "                    'fl':0,\n",
    "                    'end_idMt':-1\n",
    "                },\n",
    "                '5': {\n",
    "                    'rs1': '11-19',\n",
    "                    'rs2': '23/29П',\n",
    "                    'state1': 0,\n",
    "                    'state2': 0,\n",
    "                    'fl':0,\n",
    "                    'end_idMt':-1\n",
    "                },\n",
    "                '6': {\n",
    "                    'rs1': '23/29П',\n",
    "                    'rs2': '',\n",
    "                    'state1': 0,\n",
    "                    'state2': 0,\n",
    "                    'fl':0,\n",
    "                    'end_idMt':15\n",
    "                },\n",
    "             }\n",
    "\n",
    "     }\n",
    "    return ds\n",
    "\n",
    "def update_mt_rs_state(name_mt):\n",
    "    err = ''\n",
    "    ds1 = ds[name_mt]\n",
    "    for key, s in ds1.items():\n",
    "        rs1 = s['rs1']\n",
    "        rs2 = s['rs2']\n",
    "        fl = s['fl']\n",
    "        st1 = df1[df1['name']==rs1]['state'].iloc[0]\n",
    "        st2 = ''\n",
    "        ds1[key]['state1'] = st1\n",
    "        if rs2 != '':\n",
    "            st2 = df1[df1['name']==rs2]['state'].iloc[0]\n",
    "            ds1[key]['state2'] = st2\n",
    "        err = chek_state_set_fl(ds1, key, st1, st2, fl)\n",
    "        if err != '':\n",
    "            return err\n",
    "    return err\n",
    "\n",
    "\n",
    "def chek_state_set_fl(ds1, key, st1, st2, fl):\n",
    "    err = ''\n",
    "    if st2 == '':\n",
    "        if st1 == 1:\n",
    "            if fl != 3:\n",
    "                ds1[key]['fl'] = 2\n",
    "            else:\n",
    "                err = 'st1 == 1 fl != 3'\n",
    "        if st1 == 0 and fl==2:\n",
    "            ds1[key]['fl'] = 3\n",
    "    else:\n",
    "        if st1 == 1 and st2 == 0:\n",
    "            if fl == 0 or fl == 1:\n",
    "                ds1[key]['fl'] = 1\n",
    "            else:\n",
    "                err = 'st1 == 1 and st2 == 0 '\n",
    "        if st1 == 1 and st2 == 1:\n",
    "            if fl == 1 or fl == 2:\n",
    "                ds1[key]['fl'] = 2\n",
    "            else:\n",
    "                err = 'st1 == 1 and st2 == 1'\n",
    "        if st1 == 0 and st2 == 1:\n",
    "            if fl == 2 or fl == 3:\n",
    "                ds1[key]['fl'] = 3\n",
    "            else:\n",
    "                err = 'st1 == 0 and st2 == 1'\n",
    "    return err\n",
    "\n",
    "def chek_fl(name_mt):\n",
    "    ds1 = ds[name_mt]\n",
    "\n",
    "    for key, s in ds1.items():\n",
    "        fl = s['fl']\n",
    "        key_pred = str(int(key)-1)\n",
    "        key_next = str(int(key)+1)\n",
    "        fl_pred  = s.get(key_pred)\n",
    "        fl_next = s.get(key_next)\n",
    "\n",
    "        if fl_pred:\n",
    "            if fl == 0  and fl_pred > 1:\n",
    "                return 'fl == 0  and fl_pred > 1'\n",
    "            if fl==1 and fl_pred != 2:\n",
    "                return 'fl==1 and fl_pred != 2'\n",
    "            if  fl==2 and fl_pred < 2:\n",
    "                return 'fl==2 and fl_pred < 2'\n",
    "            if fl==3 and fl_pred != 3:\n",
    "                return 'fl==3 and fl_pred != 3'\n",
    "\n",
    "        if fl_next:\n",
    "            if (fl == 0 or fl==1) and fl_next != 0:\n",
    "                return '(fl == 0 or fl==1) and fl_next != 0'\n",
    "            if fl == 2 and (fl_next != 1 or fl_next != 2):\n",
    "                return 'fl == 2 and (fl_next != 1 or fl_next != 2)'\n",
    "            if fl==3 and (fl_next == 0):\n",
    "                return 'fl==3 and (fl_next == 0)'\n",
    "    return ''\n",
    "\n",
    "def delete_mt_rs(name_mt):\n",
    "    global del_mt\n",
    "    ds1 = ds[name_mt]\n",
    "    for key, s in ds1.items():\n",
    "        fl = s['fl']\n",
    "        if fl==3:\n",
    "            del_mt = key\n",
    "            ds1.pop(key, None)\n",
    "\n",
    "def ff(name_mt):\n",
    "    global  err1\n",
    "    while True:\n",
    "        ds1 = ds[name_mt]\n",
    "        # if len(ds1)==0:\n",
    "        #     err1 = 2\n",
    "        #     break\n",
    "        err = update_mt_rs_state(name_mt)\n",
    "        if err == '':\n",
    "            err = chek_fl(name_mt)\n",
    "            if err == '':\n",
    "                # delete_mt_rs(name_mt)\n",
    "                pass\n",
    "            else:\n",
    "                err1 = err\n",
    "                break\n",
    "        else:\n",
    "            err1 = err\n",
    "            break\n",
    "\n",
    "        last_key = str(len(ds[name_mt]))\n",
    "        if ds[name_mt][last_key]['fl'] == 3:\n",
    "            err1 = 'good'\n",
    "            break\n",
    "        sleep(1)\n",
    "\n",
    "\n",
    "def f13(ls):\n",
    "    # ls = [[0,0], [0,1], [1,1], [0,0], [2,1], [1,0], [3,1], [2,0], [4,1], [3,0], [4,0]]\n",
    "    for ls1 in ls:\n",
    "        df1.loc[df1['name']==ls1[0], 'state'] = ls1[1]\n",
    "        sleep(3)"
   ],
   "metadata": {
    "collapsed": false,
    "ExecuteTime": {
     "start_time": "2024-03-18T22:56:14.752350Z",
     "end_time": "2024-03-18T22:56:14.775353Z"
    }
   }
  },
  {
   "cell_type": "code",
   "execution_count": 21,
   "outputs": [],
   "source": [
    "# ls1 = [[1,0], [1,1], [2,1],   [4,1],   [1,0], [2,0], [4,1], [3,0], [5,1], [4,0], [5,0]]\n",
    "err1= 0\n",
    "del_mt = ''\n",
    "df1 = pd.read_sql('select * from rs', engine)\n",
    "ds = mt_set_default()\n",
    "df = pd.DataFrame(ds['M63'])\n",
    "ls1 = [[1,0], [1,1], [2,1],    [1,0], [3,1], [2,0], [4,1], [3,0], [5,1], [4,0],  [6,1],[5,0], [6,0]]\n",
    "ls = []\n",
    "for sl in ls1:\n",
    "    ls.append([df.loc['rs1',str(sl[0])], sl[1]])\n",
    "\n",
    "\n",
    "t = threading.Thread(target=ff, args=('M63',))\n",
    "t.start()\n",
    "\n",
    "t1 = threading.Thread(target=f13, args=(ls,))\n",
    "t1.start()"
   ],
   "metadata": {
    "collapsed": false,
    "ExecuteTime": {
     "start_time": "2024-03-18T22:56:16.933882Z",
     "end_time": "2024-03-18T22:56:16.983891Z"
    }
   }
  },
  {
   "cell_type": "code",
   "execution_count": 27,
   "outputs": [
    {
     "data": {
      "text/plain": "            1     2     3      4       5       6\nrs1       2ГП   3-5  5/9П      9   11-19  23/29П\nrs2       3-5  5/9П     9  11-19  23/29П        \nstate1      0     0     0      0       0       0\nstate2      0     0     0      0       0       0\nfl          3     3     3      3       3       3\nend_idMt   -1    -1    10     -1      -1      15",
      "text/html": "<div>\n<style scoped>\n    .dataframe tbody tr th:only-of-type {\n        vertical-align: middle;\n    }\n\n    .dataframe tbody tr th {\n        vertical-align: top;\n    }\n\n    .dataframe thead th {\n        text-align: right;\n    }\n</style>\n<table border=\"1\" class=\"dataframe\">\n  <thead>\n    <tr style=\"text-align: right;\">\n      <th></th>\n      <th>1</th>\n      <th>2</th>\n      <th>3</th>\n      <th>4</th>\n      <th>5</th>\n      <th>6</th>\n    </tr>\n  </thead>\n  <tbody>\n    <tr>\n      <th>rs1</th>\n      <td>2ГП</td>\n      <td>3-5</td>\n      <td>5/9П</td>\n      <td>9</td>\n      <td>11-19</td>\n      <td>23/29П</td>\n    </tr>\n    <tr>\n      <th>rs2</th>\n      <td>3-5</td>\n      <td>5/9П</td>\n      <td>9</td>\n      <td>11-19</td>\n      <td>23/29П</td>\n      <td></td>\n    </tr>\n    <tr>\n      <th>state1</th>\n      <td>0</td>\n      <td>0</td>\n      <td>0</td>\n      <td>0</td>\n      <td>0</td>\n      <td>0</td>\n    </tr>\n    <tr>\n      <th>state2</th>\n      <td>0</td>\n      <td>0</td>\n      <td>0</td>\n      <td>0</td>\n      <td>0</td>\n      <td>0</td>\n    </tr>\n    <tr>\n      <th>fl</th>\n      <td>3</td>\n      <td>3</td>\n      <td>3</td>\n      <td>3</td>\n      <td>3</td>\n      <td>3</td>\n    </tr>\n    <tr>\n      <th>end_idMt</th>\n      <td>-1</td>\n      <td>-1</td>\n      <td>10</td>\n      <td>-1</td>\n      <td>-1</td>\n      <td>15</td>\n    </tr>\n  </tbody>\n</table>\n</div>"
     },
     "execution_count": 27,
     "metadata": {},
     "output_type": "execute_result"
    }
   ],
   "source": [
    "df = pd.DataFrame(ds['M63'])\n",
    "df"
   ],
   "metadata": {
    "collapsed": false,
    "ExecuteTime": {
     "start_time": "2024-03-18T22:57:11.250870Z",
     "end_time": "2024-03-18T22:57:11.263871Z"
    }
   }
  },
  {
   "cell_type": "code",
   "execution_count": 6,
   "outputs": [],
   "source": [
    "ds = mt_set_default()\n",
    "last_key = str(len(ds['M63']))"
   ],
   "metadata": {
    "collapsed": false,
    "ExecuteTime": {
     "start_time": "2024-03-18T22:53:26.261568Z",
     "end_time": "2024-03-18T22:53:26.280570Z"
    }
   }
  },
  {
   "cell_type": "code",
   "execution_count": 8,
   "outputs": [
    {
     "data": {
      "text/plain": "0"
     },
     "execution_count": 8,
     "metadata": {},
     "output_type": "execute_result"
    }
   ],
   "source": [
    "ds['M63'][last_key]['fl']"
   ],
   "metadata": {
    "collapsed": false,
    "ExecuteTime": {
     "start_time": "2024-03-18T22:53:38.502402Z",
     "end_time": "2024-03-18T22:53:38.529390Z"
    }
   }
  },
  {
   "cell_type": "code",
   "execution_count": null,
   "outputs": [],
   "source": [],
   "metadata": {
    "collapsed": false
   }
  },
  {
   "cell_type": "code",
   "execution_count": 87,
   "outputs": [],
   "source": [
    "name_mt = 'M63'\n",
    "ds1 = ds[name_mt]\n",
    "if len(ds1)==0:\n",
    "    err1 = 2\n",
    "err = update_mt_rs_state(ds, name_mt)\n",
    "if err == '0':\n",
    "    err = chek_fl(ds, name_mt)\n",
    "    if err == '0':\n",
    "        delete_mt_rs(ds, name_mt)\n",
    "    else:\n",
    "        err1 = err\n",
    "else:\n",
    "    err1 = err"
   ],
   "metadata": {
    "collapsed": false,
    "ExecuteTime": {
     "start_time": "2024-03-18T21:06:32.565213Z",
     "end_time": "2024-03-18T21:06:32.661234Z"
    }
   }
  },
  {
   "cell_type": "code",
   "execution_count": 89,
   "outputs": [],
   "source": [
    "name_mt = 'M63'\n",
    "ds1 = ds[name_mt]\n",
    "if len(ds1)==0:\n",
    "    err1 = 2"
   ],
   "metadata": {
    "collapsed": false,
    "ExecuteTime": {
     "start_time": "2024-03-18T21:07:03.470287Z",
     "end_time": "2024-03-18T21:07:03.482289Z"
    }
   }
  },
  {
   "cell_type": "code",
   "execution_count": 90,
   "outputs": [],
   "source": [
    "err = update_mt_rs_state(ds, name_mt)"
   ],
   "metadata": {
    "collapsed": false,
    "ExecuteTime": {
     "start_time": "2024-03-18T21:07:13.239141Z",
     "end_time": "2024-03-18T21:07:13.249144Z"
    }
   }
  },
  {
   "cell_type": "code",
   "execution_count": 92,
   "outputs": [],
   "source": [
    "err = chek_fl(ds, name_mt)"
   ],
   "metadata": {
    "collapsed": false,
    "ExecuteTime": {
     "start_time": "2024-03-18T21:08:17.387329Z",
     "end_time": "2024-03-18T21:08:17.400332Z"
    }
   }
  },
  {
   "cell_type": "code",
   "execution_count": 93,
   "outputs": [],
   "source": [
    "delete_mt_rs(ds, name_mt)"
   ],
   "metadata": {
    "collapsed": false,
    "ExecuteTime": {
     "start_time": "2024-03-18T21:08:47.353037Z",
     "end_time": "2024-03-18T21:08:47.367040Z"
    }
   }
  },
  {
   "cell_type": "code",
   "execution_count": 105,
   "outputs": [
    {
     "data": {
      "text/plain": "      id   name  reg_rd  bit_rd  state  remont  marsh\n0      1    1ГП     901       0      0       0      0\n1      2    2ГП     901       1      0       0      0\n2      3      1     901       2      0       0      0\n3      4  1/15П     901       3      0       0      0\n4      5    3-5     901       4      0       0      0\n..   ...    ...     ...     ...    ...     ...    ...\n148  149     Л2     910       4      0       0      0\n149  150     Л4     910       5      0       0      0\n150  151     Л6     910       6      0       0      0\n151  152     Л8     910       7      0       0      0\n152  153    Л10     910       8      0       0      0\n\n[153 rows x 7 columns]",
      "text/html": "<div>\n<style scoped>\n    .dataframe tbody tr th:only-of-type {\n        vertical-align: middle;\n    }\n\n    .dataframe tbody tr th {\n        vertical-align: top;\n    }\n\n    .dataframe thead th {\n        text-align: right;\n    }\n</style>\n<table border=\"1\" class=\"dataframe\">\n  <thead>\n    <tr style=\"text-align: right;\">\n      <th></th>\n      <th>id</th>\n      <th>name</th>\n      <th>reg_rd</th>\n      <th>bit_rd</th>\n      <th>state</th>\n      <th>remont</th>\n      <th>marsh</th>\n    </tr>\n  </thead>\n  <tbody>\n    <tr>\n      <th>0</th>\n      <td>1</td>\n      <td>1ГП</td>\n      <td>901</td>\n      <td>0</td>\n      <td>0</td>\n      <td>0</td>\n      <td>0</td>\n    </tr>\n    <tr>\n      <th>1</th>\n      <td>2</td>\n      <td>2ГП</td>\n      <td>901</td>\n      <td>1</td>\n      <td>0</td>\n      <td>0</td>\n      <td>0</td>\n    </tr>\n    <tr>\n      <th>2</th>\n      <td>3</td>\n      <td>1</td>\n      <td>901</td>\n      <td>2</td>\n      <td>0</td>\n      <td>0</td>\n      <td>0</td>\n    </tr>\n    <tr>\n      <th>3</th>\n      <td>4</td>\n      <td>1/15П</td>\n      <td>901</td>\n      <td>3</td>\n      <td>0</td>\n      <td>0</td>\n      <td>0</td>\n    </tr>\n    <tr>\n      <th>4</th>\n      <td>5</td>\n      <td>3-5</td>\n      <td>901</td>\n      <td>4</td>\n      <td>0</td>\n      <td>0</td>\n      <td>0</td>\n    </tr>\n    <tr>\n      <th>...</th>\n      <td>...</td>\n      <td>...</td>\n      <td>...</td>\n      <td>...</td>\n      <td>...</td>\n      <td>...</td>\n      <td>...</td>\n    </tr>\n    <tr>\n      <th>148</th>\n      <td>149</td>\n      <td>Л2</td>\n      <td>910</td>\n      <td>4</td>\n      <td>0</td>\n      <td>0</td>\n      <td>0</td>\n    </tr>\n    <tr>\n      <th>149</th>\n      <td>150</td>\n      <td>Л4</td>\n      <td>910</td>\n      <td>5</td>\n      <td>0</td>\n      <td>0</td>\n      <td>0</td>\n    </tr>\n    <tr>\n      <th>150</th>\n      <td>151</td>\n      <td>Л6</td>\n      <td>910</td>\n      <td>6</td>\n      <td>0</td>\n      <td>0</td>\n      <td>0</td>\n    </tr>\n    <tr>\n      <th>151</th>\n      <td>152</td>\n      <td>Л8</td>\n      <td>910</td>\n      <td>7</td>\n      <td>0</td>\n      <td>0</td>\n      <td>0</td>\n    </tr>\n    <tr>\n      <th>152</th>\n      <td>153</td>\n      <td>Л10</td>\n      <td>910</td>\n      <td>8</td>\n      <td>0</td>\n      <td>0</td>\n      <td>0</td>\n    </tr>\n  </tbody>\n</table>\n<p>153 rows × 7 columns</p>\n</div>"
     },
     "execution_count": 105,
     "metadata": {},
     "output_type": "execute_result"
    }
   ],
   "source": [
    "df1"
   ],
   "metadata": {
    "collapsed": false,
    "ExecuteTime": {
     "start_time": "2024-03-18T21:11:23.137747Z",
     "end_time": "2024-03-18T21:11:23.162751Z"
    }
   }
  },
  {
   "cell_type": "code",
   "execution_count": null,
   "outputs": [],
   "source": [],
   "metadata": {
    "collapsed": false
   }
  },
  {
   "cell_type": "code",
   "execution_count": null,
   "outputs": [],
   "source": [],
   "metadata": {
    "collapsed": false
   }
  },
  {
   "cell_type": "code",
   "execution_count": null,
   "outputs": [],
   "source": [],
   "metadata": {
    "collapsed": false
   }
  },
  {
   "cell_type": "code",
   "execution_count": 42,
   "outputs": [
    {
     "data": {
      "text/plain": "            1     2     3      4       5       6\nrs1       2ГП   3-5  5/9П      9   11-19  23/29П\nrs2       3-5  5/9П     9  11-19  23/29П        \nstate1      1     0     0      0       0       0\nstate2      0     0     0      0       0       0\nfl          0     0     0      0       0       0\nend_idMt   -1    -1    10     -1      -1      15",
      "text/html": "<div>\n<style scoped>\n    .dataframe tbody tr th:only-of-type {\n        vertical-align: middle;\n    }\n\n    .dataframe tbody tr th {\n        vertical-align: top;\n    }\n\n    .dataframe thead th {\n        text-align: right;\n    }\n</style>\n<table border=\"1\" class=\"dataframe\">\n  <thead>\n    <tr style=\"text-align: right;\">\n      <th></th>\n      <th>1</th>\n      <th>2</th>\n      <th>3</th>\n      <th>4</th>\n      <th>5</th>\n      <th>6</th>\n    </tr>\n  </thead>\n  <tbody>\n    <tr>\n      <th>rs1</th>\n      <td>2ГП</td>\n      <td>3-5</td>\n      <td>5/9П</td>\n      <td>9</td>\n      <td>11-19</td>\n      <td>23/29П</td>\n    </tr>\n    <tr>\n      <th>rs2</th>\n      <td>3-5</td>\n      <td>5/9П</td>\n      <td>9</td>\n      <td>11-19</td>\n      <td>23/29П</td>\n      <td></td>\n    </tr>\n    <tr>\n      <th>state1</th>\n      <td>1</td>\n      <td>0</td>\n      <td>0</td>\n      <td>0</td>\n      <td>0</td>\n      <td>0</td>\n    </tr>\n    <tr>\n      <th>state2</th>\n      <td>0</td>\n      <td>0</td>\n      <td>0</td>\n      <td>0</td>\n      <td>0</td>\n      <td>0</td>\n    </tr>\n    <tr>\n      <th>fl</th>\n      <td>0</td>\n      <td>0</td>\n      <td>0</td>\n      <td>0</td>\n      <td>0</td>\n      <td>0</td>\n    </tr>\n    <tr>\n      <th>end_idMt</th>\n      <td>-1</td>\n      <td>-1</td>\n      <td>10</td>\n      <td>-1</td>\n      <td>-1</td>\n      <td>15</td>\n    </tr>\n  </tbody>\n</table>\n</div>"
     },
     "execution_count": 42,
     "metadata": {},
     "output_type": "execute_result"
    }
   ],
   "source": [
    "df = pd.DataFrame(ds1)\n",
    "df"
   ],
   "metadata": {
    "collapsed": false,
    "ExecuteTime": {
     "start_time": "2024-03-18T17:25:33.304774Z",
     "end_time": "2024-03-18T17:25:33.353782Z"
    }
   }
  },
  {
   "cell_type": "code",
   "execution_count": null,
   "outputs": [],
   "source": [],
   "metadata": {
    "collapsed": false
   }
  },
  {
   "cell_type": "code",
   "execution_count": null,
   "outputs": [],
   "source": [],
   "metadata": {
    "collapsed": false
   }
  },
  {
   "cell_type": "code",
   "execution_count": 34,
   "outputs": [],
   "source": [
    "# df1[df1['name']==rs1].iloc[0]['state'] = 1\n",
    "df1.loc[df1['name']==rs1, 'state'] = 1"
   ],
   "metadata": {
    "collapsed": false,
    "ExecuteTime": {
     "start_time": "2024-03-18T17:08:49.641813Z",
     "end_time": "2024-03-18T17:08:49.650814Z"
    }
   }
  },
  {
   "cell_type": "code",
   "execution_count": 35,
   "outputs": [
    {
     "data": {
      "text/plain": "      id   name  reg_rd  bit_rd  state  remont  marsh\n0      1    1ГП     901       0      0       0      0\n1      2    2ГП     901       1      1       0      0\n2      3      1     901       2      0       0      0\n3      4  1/15П     901       3      0       0      0\n4      5    3-5     901       4      0       0      0\n..   ...    ...     ...     ...    ...     ...    ...\n148  149     Л2     910       4      0       0      0\n149  150     Л4     910       5      0       0      0\n150  151     Л6     910       6      0       0      0\n151  152     Л8     910       7      0       0      0\n152  153    Л10     910       8      0       0      0\n\n[153 rows x 7 columns]",
      "text/html": "<div>\n<style scoped>\n    .dataframe tbody tr th:only-of-type {\n        vertical-align: middle;\n    }\n\n    .dataframe tbody tr th {\n        vertical-align: top;\n    }\n\n    .dataframe thead th {\n        text-align: right;\n    }\n</style>\n<table border=\"1\" class=\"dataframe\">\n  <thead>\n    <tr style=\"text-align: right;\">\n      <th></th>\n      <th>id</th>\n      <th>name</th>\n      <th>reg_rd</th>\n      <th>bit_rd</th>\n      <th>state</th>\n      <th>remont</th>\n      <th>marsh</th>\n    </tr>\n  </thead>\n  <tbody>\n    <tr>\n      <th>0</th>\n      <td>1</td>\n      <td>1ГП</td>\n      <td>901</td>\n      <td>0</td>\n      <td>0</td>\n      <td>0</td>\n      <td>0</td>\n    </tr>\n    <tr>\n      <th>1</th>\n      <td>2</td>\n      <td>2ГП</td>\n      <td>901</td>\n      <td>1</td>\n      <td>1</td>\n      <td>0</td>\n      <td>0</td>\n    </tr>\n    <tr>\n      <th>2</th>\n      <td>3</td>\n      <td>1</td>\n      <td>901</td>\n      <td>2</td>\n      <td>0</td>\n      <td>0</td>\n      <td>0</td>\n    </tr>\n    <tr>\n      <th>3</th>\n      <td>4</td>\n      <td>1/15П</td>\n      <td>901</td>\n      <td>3</td>\n      <td>0</td>\n      <td>0</td>\n      <td>0</td>\n    </tr>\n    <tr>\n      <th>4</th>\n      <td>5</td>\n      <td>3-5</td>\n      <td>901</td>\n      <td>4</td>\n      <td>0</td>\n      <td>0</td>\n      <td>0</td>\n    </tr>\n    <tr>\n      <th>...</th>\n      <td>...</td>\n      <td>...</td>\n      <td>...</td>\n      <td>...</td>\n      <td>...</td>\n      <td>...</td>\n      <td>...</td>\n    </tr>\n    <tr>\n      <th>148</th>\n      <td>149</td>\n      <td>Л2</td>\n      <td>910</td>\n      <td>4</td>\n      <td>0</td>\n      <td>0</td>\n      <td>0</td>\n    </tr>\n    <tr>\n      <th>149</th>\n      <td>150</td>\n      <td>Л4</td>\n      <td>910</td>\n      <td>5</td>\n      <td>0</td>\n      <td>0</td>\n      <td>0</td>\n    </tr>\n    <tr>\n      <th>150</th>\n      <td>151</td>\n      <td>Л6</td>\n      <td>910</td>\n      <td>6</td>\n      <td>0</td>\n      <td>0</td>\n      <td>0</td>\n    </tr>\n    <tr>\n      <th>151</th>\n      <td>152</td>\n      <td>Л8</td>\n      <td>910</td>\n      <td>7</td>\n      <td>0</td>\n      <td>0</td>\n      <td>0</td>\n    </tr>\n    <tr>\n      <th>152</th>\n      <td>153</td>\n      <td>Л10</td>\n      <td>910</td>\n      <td>8</td>\n      <td>0</td>\n      <td>0</td>\n      <td>0</td>\n    </tr>\n  </tbody>\n</table>\n<p>153 rows × 7 columns</p>\n</div>"
     },
     "execution_count": 35,
     "metadata": {},
     "output_type": "execute_result"
    }
   ],
   "source": [
    "df1"
   ],
   "metadata": {
    "collapsed": false,
    "ExecuteTime": {
     "start_time": "2024-03-18T17:08:50.541017Z",
     "end_time": "2024-03-18T17:08:50.569023Z"
    }
   }
  },
  {
   "cell_type": "code",
   "execution_count": 33,
   "outputs": [
    {
     "data": {
      "text/plain": "'2ГП'"
     },
     "execution_count": 33,
     "metadata": {},
     "output_type": "execute_result"
    }
   ],
   "source": [
    "rs1"
   ],
   "metadata": {
    "collapsed": false,
    "ExecuteTime": {
     "start_time": "2024-03-18T17:05:40.824591Z",
     "end_time": "2024-03-18T17:05:40.869596Z"
    }
   }
  },
  {
   "cell_type": "code",
   "execution_count": 28,
   "outputs": [],
   "source": [],
   "metadata": {
    "collapsed": false,
    "ExecuteTime": {
     "start_time": "2024-03-18T16:59:16.249585Z",
     "end_time": "2024-03-18T16:59:16.354608Z"
    }
   }
  }
 ],
 "metadata": {
  "kernelspec": {
   "display_name": "Python 3",
   "language": "python",
   "name": "python3"
  },
  "language_info": {
   "codemirror_mode": {
    "name": "ipython",
    "version": 2
   },
   "file_extension": ".py",
   "mimetype": "text/x-python",
   "name": "python",
   "nbconvert_exporter": "python",
   "pygments_lexer": "ipython2",
   "version": "2.7.6"
  }
 },
 "nbformat": 4,
 "nbformat_minor": 0
}
