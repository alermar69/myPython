{
 "cells": [
  {
   "cell_type": "code",
   "execution_count": null,
   "outputs": [],
   "source": [
    "import pandas as pd"
   ],
   "metadata": {
    "collapsed": false,
    "pycharm": {
     "name": "#%%\n",
     "is_executing": true
    }
   }
  },
  {
   "cell_type": "code",
   "execution_count": 2,
   "outputs": [],
   "source": [
    "x1 = pd.ExcelFile('DB_DR_T1_V02.xlsx')"
   ],
   "metadata": {
    "collapsed": false,
    "pycharm": {
     "name": "#%%\n"
    }
   }
  },
  {
   "cell_type": "code",
   "execution_count": 3,
   "outputs": [
    {
     "data": {
      "text/plain": "['Bin', 'Status', 'Command', 'Analog', 'SetPoint']"
     },
     "execution_count": 3,
     "metadata": {},
     "output_type": "execute_result"
    }
   ],
   "source": [
    "x1.sheet_names"
   ],
   "metadata": {
    "collapsed": false,
    "pycharm": {
     "name": "#%%\n"
    }
   }
  },
  {
   "cell_type": "code",
   "execution_count": 59,
   "outputs": [
    {
     "name": "stderr",
     "output_type": "stream",
     "text": [
      "d:\\it\\pr\\mypython\\venv\\lib\\site-packages\\openpyxl\\worksheet\\header_footer.py:48: UserWarning: Cannot parse header or footer so it will be ignored\n",
      "  warn(\"\"\"Cannot parse header or footer so it will be ignored\"\"\")\n"
     ]
    },
    {
     "data": {
      "text/plain": "             0            1          2   \\\n0           NaN          NaN   SOURCE 1   \n1          NAME  DESCRIPTION  BIN NAME1   \n2    D003_00000     AI_PNT_1       claq   \n3    D003_00001     AI_PNT_2       claq   \n4    D003_00002     AI_PNT_3       claq   \n5    D003_00003     AI_PNT_4       claq   \n6    D003_00004     AI_PNT_5       claq   \n7    D003_00005     AI_PNT_6       claq   \n8    D003_00006     AI_PNT_7       claq   \n9    D003_00008     AI_PNT_8       claq   \n10  HUA1_HEALTH          NaN       HUA1   \n11  HUA1_AI_001          NaN       HUA1   \n12  HUA1_AI_002          NaN       HUA1   \n13  HUA1_AI_003          NaN       HUA1   \n14  HUA1_AI_004          NaN       HUA1   \n15  HUA1_AI_005          NaN       HUA1   \n16  HUA1_AI_006          NaN       HUA1   \n17  HUA1_AI_007          NaN       HUA1   \n18  HUA1_AI_008          NaN       HUA1   \n19  HUA2_HEALTH          NaN       HUA2   \n20  HUA2_AI_001          NaN       HUA2   \n21  HUA2_AI_002          NaN       HUA2   \n22  HUA2_AI_003          NaN       HUA2   \n23  HUA2_AI_004          NaN       HUA2   \n24  HUA2_AI_005          NaN       HUA2   \n25  HUA2_AI_006          NaN       HUA2   \n26  HUA2_AI_007          NaN       HUA2   \n27  HUA2_AI_008          NaN       HUA2   \n28    HUA1_EI_1          NaN       HUA1   \n29    HUA1_EI_2          NaN       HUA1   \n30    HUA2_EI_1          NaN       HUA2   \n31    HUA2_EI_2          NaN       HUA2   \n\n                                       3       4              5   \\\n0                                     NaN     NaN  DESTINATION 1   \n1                            COORDINATES1  VMASK1      BIN NAME1   \n2                              1003010000     NaN            GTW   \n3                              1003010001     NaN            GTW   \n4                              1003010002     NaN            GTW   \n5                              1003010003     NaN            GTW   \n6                              1003010004     NaN            GTW   \n7                              1003010005     NaN            GTW   \n8                              1003010006     NaN            GTW   \n9                              1003010007     NaN            GTW   \n10                            DIAG:HEALTH     NaN            NaN   \n11   [HUA1ADQ/AIGGIO1$MX$AnIn1$]mag$f:q:t     NaN            NaN   \n12   [HUA1ADQ/AIGGIO1$MX$AnIn2$]mag$f:q:t     NaN            NaN   \n13   [HUA1ADQ/AIGGIO1$MX$AnIn3$]mag$f:q:t     NaN            NaN   \n14   [HUA1ADQ/AIGGIO1$MX$AnIn4$]mag$f:q:t     NaN            NaN   \n15   [HUA1ADQ/AIGGIO1$MX$AnIn5$]mag$f:q:t     NaN            NaN   \n16   [HUA1ADQ/AIGGIO1$MX$AnIn6$]mag$f:q:t     NaN            NaN   \n17   [HUA1ADQ/AIGGIO1$MX$AnIn7$]mag$f:q:t     NaN            NaN   \n18   [HUA1ADQ/AIGGIO1$MX$AnIn8$]mag$f:q:t     NaN            NaN   \n19                            DIAG:HEALTH     NaN            NaN   \n20   [HUA2ADQ/AIGGIO1$MX$AnIn1$]mag$f:q:t     NaN            NaN   \n21   [HUA2ADQ/AIGGIO1$MX$AnIn2$]mag$f:q:t     NaN            NaN   \n22   [HUA2ADQ/AIGGIO1$MX$AnIn3$]mag$f:q:t     NaN            NaN   \n23   [HUA2ADQ/AIGGIO1$MX$AnIn4$]mag$f:q:t     NaN            NaN   \n24   [HUA2ADQ/AIGGIO1$MX$AnIn5$]mag$f:q:t     NaN            NaN   \n25   [HUA2ADQ/AIGGIO1$MX$AnIn6$]mag$f:q:t     NaN            NaN   \n26   [HUA2ADQ/AIGGIO1$MX$AnIn7$]mag$f:q:t     NaN            NaN   \n27   [HUA2ADQ/AIGGIO1$MX$AnIn8$]mag$f:q:t     NaN            NaN   \n28  [HUA1SYSTEM/LLN0$BR$brcbA01$EntryID$]     NaN            NaN   \n29     [HUA1ADQ/LLN0$BR$brcbA01$EntryID$]     NaN            NaN   \n30  [HUA2SYSTEM/LLN0$BR$brcbA01$EntryID$]     NaN            NaN   \n31     [HUA2ADQ/LLN0$BR$brcbA01$EntryID$]     NaN            NaN   \n\n                                     6     7           8        9   ...  \\\n0                                   NaN   NaN         NaN      NaN  ...   \n1                          COORDINATES1  THR1  INIT VALUE  BLOCKED  ...   \n2   [GTWADQ/AIGGIO1$MX$AnIn1$]mag$f:q:t   1.0         NaN      NaN  ...   \n3   [GTWADQ/AIGGIO1$MX$AnIn2$]mag$f:q:t   1.0         NaN      NaN  ...   \n4   [GTWADQ/AIGGIO1$MX$AnIn3$]mag$f:q:t   1.0         NaN      NaN  ...   \n5   [GTWADQ/AIGGIO1$MX$AnIn4$]mag$f:q:t   1.0         NaN      NaN  ...   \n6   [GTWADQ/AIGGIO1$MX$AnIn5$]mag$f:q:t   1.0         NaN      NaN  ...   \n7   [GTWADQ/AIGGIO1$MX$AnIn6$]mag$f:q:t   1.0         NaN      NaN  ...   \n8   [GTWADQ/AIGGIO1$MX$AnIn7$]mag$f:q:t   1.0         NaN      NaN  ...   \n9   [GTWADQ/AIGGIO1$MX$AnIn8$]mag$f:q:t   1.0         NaN      NaN  ...   \n10                                  NaN   NaN         NaN      NaN  ...   \n11                                  NaN   NaN         NaN      NaN  ...   \n12                                  NaN   NaN         NaN      NaN  ...   \n13                                  NaN   NaN         NaN      NaN  ...   \n14                                  NaN   NaN         NaN      NaN  ...   \n15                                  NaN   NaN         NaN      NaN  ...   \n16                                  NaN   NaN         NaN      NaN  ...   \n17                                  NaN   NaN         NaN      NaN  ...   \n18                                  NaN   NaN         NaN      NaN  ...   \n19                                  NaN   NaN         NaN      NaN  ...   \n20                                  NaN   NaN         NaN      NaN  ...   \n21                                  NaN   NaN         NaN      NaN  ...   \n22                                  NaN   NaN         NaN      NaN  ...   \n23                                  NaN   NaN         NaN      NaN  ...   \n24                                  NaN   NaN         NaN      NaN  ...   \n25                                  NaN   NaN         NaN      NaN  ...   \n26                                  NaN   NaN         NaN      NaN  ...   \n27                                  NaN   NaN         NaN      NaN  ...   \n28                                  NaN   NaN         NaN      NaN  ...   \n29                                  NaN   NaN         NaN      NaN  ...   \n30                                  NaN   NaN         NaN      NaN  ...   \n31                                  NaN   NaN         NaN      NaN  ...   \n\n                   15       16       17       18       19         20  \\\n0   ENGINEERING UNITS      NaN      NaN      NaN      NaN      ALARM   \n1             CONVERT  MIN RAW  MAX RAW  MIN EGU  MAX EGU  USE ALARM   \n2                 NaN      NaN      NaN      NaN      NaN        NaN   \n3                 NaN      NaN      NaN      NaN      NaN        NaN   \n4                 NaN      NaN      NaN      NaN      NaN        NaN   \n5                 NaN      NaN      NaN      NaN      NaN        NaN   \n6                 NaN      NaN      NaN      NaN      NaN        NaN   \n7                 NaN      NaN      NaN      NaN      NaN        NaN   \n8                 NaN      NaN      NaN      NaN      NaN        NaN   \n9                 NaN      NaN      NaN      NaN      NaN        NaN   \n10                NaN      NaN      NaN      NaN      NaN        NaN   \n11                NaN      NaN      NaN      NaN      NaN        NaN   \n12                NaN      NaN      NaN      NaN      NaN        NaN   \n13                NaN      NaN      NaN      NaN      NaN        NaN   \n14                NaN      NaN      NaN      NaN      NaN        NaN   \n15                NaN      NaN      NaN      NaN      NaN        NaN   \n16                NaN      NaN      NaN      NaN      NaN        NaN   \n17                NaN      NaN      NaN      NaN      NaN        NaN   \n18                NaN      NaN      NaN      NaN      NaN        NaN   \n19                NaN      NaN      NaN      NaN      NaN        NaN   \n20                NaN      NaN      NaN      NaN      NaN        NaN   \n21                NaN      NaN      NaN      NaN      NaN        NaN   \n22                NaN      NaN      NaN      NaN      NaN        NaN   \n23                NaN      NaN      NaN      NaN      NaN        NaN   \n24                NaN      NaN      NaN      NaN      NaN        NaN   \n25                NaN      NaN      NaN      NaN      NaN        NaN   \n26                NaN      NaN      NaN      NaN      NaN        NaN   \n27                NaN      NaN      NaN      NaN      NaN        NaN   \n28                NaN      NaN      NaN      NaN      NaN        NaN   \n29                NaN      NaN      NaN      NaN      NaN        NaN   \n30                NaN      NaN      NaN      NaN      NaN        NaN   \n31                NaN      NaN      NaN      NaN      NaN        NaN   \n\n              21         22          23             24  \n0            NaN        NaN         NaN            NaN  \n1   LOWEST LIMIT  LOW LIMIT  HIGH LIMIT  HIGHEST LIMIT  \n2            NaN        NaN         NaN            NaN  \n3            NaN        NaN         NaN            NaN  \n4            NaN        NaN         NaN            NaN  \n5            NaN        NaN         NaN            NaN  \n6            NaN        NaN         NaN            NaN  \n7            NaN        NaN         NaN            NaN  \n8            NaN        NaN         NaN            NaN  \n9            NaN        NaN         NaN            NaN  \n10           NaN        NaN         NaN            NaN  \n11           NaN        NaN         NaN            NaN  \n12           NaN        NaN         NaN            NaN  \n13           NaN        NaN         NaN            NaN  \n14           NaN        NaN         NaN            NaN  \n15           NaN        NaN         NaN            NaN  \n16           NaN        NaN         NaN            NaN  \n17           NaN        NaN         NaN            NaN  \n18           NaN        NaN         NaN            NaN  \n19           NaN        NaN         NaN            NaN  \n20           NaN        NaN         NaN            NaN  \n21           NaN        NaN         NaN            NaN  \n22           NaN        NaN         NaN            NaN  \n23           NaN        NaN         NaN            NaN  \n24           NaN        NaN         NaN            NaN  \n25           NaN        NaN         NaN            NaN  \n26           NaN        NaN         NaN            NaN  \n27           NaN        NaN         NaN            NaN  \n28           NaN        NaN         NaN            NaN  \n29           NaN        NaN         NaN            NaN  \n30           NaN        NaN         NaN            NaN  \n31           NaN        NaN         NaN            NaN  \n\n[32 rows x 25 columns]",
      "text/html": "<div>\n<style scoped>\n    .dataframe tbody tr th:only-of-type {\n        vertical-align: middle;\n    }\n\n    .dataframe tbody tr th {\n        vertical-align: top;\n    }\n\n    .dataframe thead th {\n        text-align: right;\n    }\n</style>\n<table border=\"1\" class=\"dataframe\">\n  <thead>\n    <tr style=\"text-align: right;\">\n      <th></th>\n      <th>0</th>\n      <th>1</th>\n      <th>2</th>\n      <th>3</th>\n      <th>4</th>\n      <th>5</th>\n      <th>6</th>\n      <th>7</th>\n      <th>8</th>\n      <th>9</th>\n      <th>...</th>\n      <th>15</th>\n      <th>16</th>\n      <th>17</th>\n      <th>18</th>\n      <th>19</th>\n      <th>20</th>\n      <th>21</th>\n      <th>22</th>\n      <th>23</th>\n      <th>24</th>\n    </tr>\n  </thead>\n  <tbody>\n    <tr>\n      <th>0</th>\n      <td>NaN</td>\n      <td>NaN</td>\n      <td>SOURCE 1</td>\n      <td>NaN</td>\n      <td>NaN</td>\n      <td>DESTINATION 1</td>\n      <td>NaN</td>\n      <td>NaN</td>\n      <td>NaN</td>\n      <td>NaN</td>\n      <td>...</td>\n      <td>ENGINEERING UNITS</td>\n      <td>NaN</td>\n      <td>NaN</td>\n      <td>NaN</td>\n      <td>NaN</td>\n      <td>ALARM</td>\n      <td>NaN</td>\n      <td>NaN</td>\n      <td>NaN</td>\n      <td>NaN</td>\n    </tr>\n    <tr>\n      <th>1</th>\n      <td>NAME</td>\n      <td>DESCRIPTION</td>\n      <td>BIN NAME1</td>\n      <td>COORDINATES1</td>\n      <td>VMASK1</td>\n      <td>BIN NAME1</td>\n      <td>COORDINATES1</td>\n      <td>THR1</td>\n      <td>INIT VALUE</td>\n      <td>BLOCKED</td>\n      <td>...</td>\n      <td>CONVERT</td>\n      <td>MIN RAW</td>\n      <td>MAX RAW</td>\n      <td>MIN EGU</td>\n      <td>MAX EGU</td>\n      <td>USE ALARM</td>\n      <td>LOWEST LIMIT</td>\n      <td>LOW LIMIT</td>\n      <td>HIGH LIMIT</td>\n      <td>HIGHEST LIMIT</td>\n    </tr>\n    <tr>\n      <th>2</th>\n      <td>D003_00000</td>\n      <td>AI_PNT_1</td>\n      <td>claq</td>\n      <td>1003010000</td>\n      <td>NaN</td>\n      <td>GTW</td>\n      <td>[GTWADQ/AIGGIO1$MX$AnIn1$]mag$f:q:t</td>\n      <td>1.0</td>\n      <td>NaN</td>\n      <td>NaN</td>\n      <td>...</td>\n      <td>NaN</td>\n      <td>NaN</td>\n      <td>NaN</td>\n      <td>NaN</td>\n      <td>NaN</td>\n      <td>NaN</td>\n      <td>NaN</td>\n      <td>NaN</td>\n      <td>NaN</td>\n      <td>NaN</td>\n    </tr>\n    <tr>\n      <th>3</th>\n      <td>D003_00001</td>\n      <td>AI_PNT_2</td>\n      <td>claq</td>\n      <td>1003010001</td>\n      <td>NaN</td>\n      <td>GTW</td>\n      <td>[GTWADQ/AIGGIO1$MX$AnIn2$]mag$f:q:t</td>\n      <td>1.0</td>\n      <td>NaN</td>\n      <td>NaN</td>\n      <td>...</td>\n      <td>NaN</td>\n      <td>NaN</td>\n      <td>NaN</td>\n      <td>NaN</td>\n      <td>NaN</td>\n      <td>NaN</td>\n      <td>NaN</td>\n      <td>NaN</td>\n      <td>NaN</td>\n      <td>NaN</td>\n    </tr>\n    <tr>\n      <th>4</th>\n      <td>D003_00002</td>\n      <td>AI_PNT_3</td>\n      <td>claq</td>\n      <td>1003010002</td>\n      <td>NaN</td>\n      <td>GTW</td>\n      <td>[GTWADQ/AIGGIO1$MX$AnIn3$]mag$f:q:t</td>\n      <td>1.0</td>\n      <td>NaN</td>\n      <td>NaN</td>\n      <td>...</td>\n      <td>NaN</td>\n      <td>NaN</td>\n      <td>NaN</td>\n      <td>NaN</td>\n      <td>NaN</td>\n      <td>NaN</td>\n      <td>NaN</td>\n      <td>NaN</td>\n      <td>NaN</td>\n      <td>NaN</td>\n    </tr>\n    <tr>\n      <th>5</th>\n      <td>D003_00003</td>\n      <td>AI_PNT_4</td>\n      <td>claq</td>\n      <td>1003010003</td>\n      <td>NaN</td>\n      <td>GTW</td>\n      <td>[GTWADQ/AIGGIO1$MX$AnIn4$]mag$f:q:t</td>\n      <td>1.0</td>\n      <td>NaN</td>\n      <td>NaN</td>\n      <td>...</td>\n      <td>NaN</td>\n      <td>NaN</td>\n      <td>NaN</td>\n      <td>NaN</td>\n      <td>NaN</td>\n      <td>NaN</td>\n      <td>NaN</td>\n      <td>NaN</td>\n      <td>NaN</td>\n      <td>NaN</td>\n    </tr>\n    <tr>\n      <th>6</th>\n      <td>D003_00004</td>\n      <td>AI_PNT_5</td>\n      <td>claq</td>\n      <td>1003010004</td>\n      <td>NaN</td>\n      <td>GTW</td>\n      <td>[GTWADQ/AIGGIO1$MX$AnIn5$]mag$f:q:t</td>\n      <td>1.0</td>\n      <td>NaN</td>\n      <td>NaN</td>\n      <td>...</td>\n      <td>NaN</td>\n      <td>NaN</td>\n      <td>NaN</td>\n      <td>NaN</td>\n      <td>NaN</td>\n      <td>NaN</td>\n      <td>NaN</td>\n      <td>NaN</td>\n      <td>NaN</td>\n      <td>NaN</td>\n    </tr>\n    <tr>\n      <th>7</th>\n      <td>D003_00005</td>\n      <td>AI_PNT_6</td>\n      <td>claq</td>\n      <td>1003010005</td>\n      <td>NaN</td>\n      <td>GTW</td>\n      <td>[GTWADQ/AIGGIO1$MX$AnIn6$]mag$f:q:t</td>\n      <td>1.0</td>\n      <td>NaN</td>\n      <td>NaN</td>\n      <td>...</td>\n      <td>NaN</td>\n      <td>NaN</td>\n      <td>NaN</td>\n      <td>NaN</td>\n      <td>NaN</td>\n      <td>NaN</td>\n      <td>NaN</td>\n      <td>NaN</td>\n      <td>NaN</td>\n      <td>NaN</td>\n    </tr>\n    <tr>\n      <th>8</th>\n      <td>D003_00006</td>\n      <td>AI_PNT_7</td>\n      <td>claq</td>\n      <td>1003010006</td>\n      <td>NaN</td>\n      <td>GTW</td>\n      <td>[GTWADQ/AIGGIO1$MX$AnIn7$]mag$f:q:t</td>\n      <td>1.0</td>\n      <td>NaN</td>\n      <td>NaN</td>\n      <td>...</td>\n      <td>NaN</td>\n      <td>NaN</td>\n      <td>NaN</td>\n      <td>NaN</td>\n      <td>NaN</td>\n      <td>NaN</td>\n      <td>NaN</td>\n      <td>NaN</td>\n      <td>NaN</td>\n      <td>NaN</td>\n    </tr>\n    <tr>\n      <th>9</th>\n      <td>D003_00008</td>\n      <td>AI_PNT_8</td>\n      <td>claq</td>\n      <td>1003010007</td>\n      <td>NaN</td>\n      <td>GTW</td>\n      <td>[GTWADQ/AIGGIO1$MX$AnIn8$]mag$f:q:t</td>\n      <td>1.0</td>\n      <td>NaN</td>\n      <td>NaN</td>\n      <td>...</td>\n      <td>NaN</td>\n      <td>NaN</td>\n      <td>NaN</td>\n      <td>NaN</td>\n      <td>NaN</td>\n      <td>NaN</td>\n      <td>NaN</td>\n      <td>NaN</td>\n      <td>NaN</td>\n      <td>NaN</td>\n    </tr>\n    <tr>\n      <th>10</th>\n      <td>HUA1_HEALTH</td>\n      <td>NaN</td>\n      <td>HUA1</td>\n      <td>DIAG:HEALTH</td>\n      <td>NaN</td>\n      <td>NaN</td>\n      <td>NaN</td>\n      <td>NaN</td>\n      <td>NaN</td>\n      <td>NaN</td>\n      <td>...</td>\n      <td>NaN</td>\n      <td>NaN</td>\n      <td>NaN</td>\n      <td>NaN</td>\n      <td>NaN</td>\n      <td>NaN</td>\n      <td>NaN</td>\n      <td>NaN</td>\n      <td>NaN</td>\n      <td>NaN</td>\n    </tr>\n    <tr>\n      <th>11</th>\n      <td>HUA1_AI_001</td>\n      <td>NaN</td>\n      <td>HUA1</td>\n      <td>[HUA1ADQ/AIGGIO1$MX$AnIn1$]mag$f:q:t</td>\n      <td>NaN</td>\n      <td>NaN</td>\n      <td>NaN</td>\n      <td>NaN</td>\n      <td>NaN</td>\n      <td>NaN</td>\n      <td>...</td>\n      <td>NaN</td>\n      <td>NaN</td>\n      <td>NaN</td>\n      <td>NaN</td>\n      <td>NaN</td>\n      <td>NaN</td>\n      <td>NaN</td>\n      <td>NaN</td>\n      <td>NaN</td>\n      <td>NaN</td>\n    </tr>\n    <tr>\n      <th>12</th>\n      <td>HUA1_AI_002</td>\n      <td>NaN</td>\n      <td>HUA1</td>\n      <td>[HUA1ADQ/AIGGIO1$MX$AnIn2$]mag$f:q:t</td>\n      <td>NaN</td>\n      <td>NaN</td>\n      <td>NaN</td>\n      <td>NaN</td>\n      <td>NaN</td>\n      <td>NaN</td>\n      <td>...</td>\n      <td>NaN</td>\n      <td>NaN</td>\n      <td>NaN</td>\n      <td>NaN</td>\n      <td>NaN</td>\n      <td>NaN</td>\n      <td>NaN</td>\n      <td>NaN</td>\n      <td>NaN</td>\n      <td>NaN</td>\n    </tr>\n    <tr>\n      <th>13</th>\n      <td>HUA1_AI_003</td>\n      <td>NaN</td>\n      <td>HUA1</td>\n      <td>[HUA1ADQ/AIGGIO1$MX$AnIn3$]mag$f:q:t</td>\n      <td>NaN</td>\n      <td>NaN</td>\n      <td>NaN</td>\n      <td>NaN</td>\n      <td>NaN</td>\n      <td>NaN</td>\n      <td>...</td>\n      <td>NaN</td>\n      <td>NaN</td>\n      <td>NaN</td>\n      <td>NaN</td>\n      <td>NaN</td>\n      <td>NaN</td>\n      <td>NaN</td>\n      <td>NaN</td>\n      <td>NaN</td>\n      <td>NaN</td>\n    </tr>\n    <tr>\n      <th>14</th>\n      <td>HUA1_AI_004</td>\n      <td>NaN</td>\n      <td>HUA1</td>\n      <td>[HUA1ADQ/AIGGIO1$MX$AnIn4$]mag$f:q:t</td>\n      <td>NaN</td>\n      <td>NaN</td>\n      <td>NaN</td>\n      <td>NaN</td>\n      <td>NaN</td>\n      <td>NaN</td>\n      <td>...</td>\n      <td>NaN</td>\n      <td>NaN</td>\n      <td>NaN</td>\n      <td>NaN</td>\n      <td>NaN</td>\n      <td>NaN</td>\n      <td>NaN</td>\n      <td>NaN</td>\n      <td>NaN</td>\n      <td>NaN</td>\n    </tr>\n    <tr>\n      <th>15</th>\n      <td>HUA1_AI_005</td>\n      <td>NaN</td>\n      <td>HUA1</td>\n      <td>[HUA1ADQ/AIGGIO1$MX$AnIn5$]mag$f:q:t</td>\n      <td>NaN</td>\n      <td>NaN</td>\n      <td>NaN</td>\n      <td>NaN</td>\n      <td>NaN</td>\n      <td>NaN</td>\n      <td>...</td>\n      <td>NaN</td>\n      <td>NaN</td>\n      <td>NaN</td>\n      <td>NaN</td>\n      <td>NaN</td>\n      <td>NaN</td>\n      <td>NaN</td>\n      <td>NaN</td>\n      <td>NaN</td>\n      <td>NaN</td>\n    </tr>\n    <tr>\n      <th>16</th>\n      <td>HUA1_AI_006</td>\n      <td>NaN</td>\n      <td>HUA1</td>\n      <td>[HUA1ADQ/AIGGIO1$MX$AnIn6$]mag$f:q:t</td>\n      <td>NaN</td>\n      <td>NaN</td>\n      <td>NaN</td>\n      <td>NaN</td>\n      <td>NaN</td>\n      <td>NaN</td>\n      <td>...</td>\n      <td>NaN</td>\n      <td>NaN</td>\n      <td>NaN</td>\n      <td>NaN</td>\n      <td>NaN</td>\n      <td>NaN</td>\n      <td>NaN</td>\n      <td>NaN</td>\n      <td>NaN</td>\n      <td>NaN</td>\n    </tr>\n    <tr>\n      <th>17</th>\n      <td>HUA1_AI_007</td>\n      <td>NaN</td>\n      <td>HUA1</td>\n      <td>[HUA1ADQ/AIGGIO1$MX$AnIn7$]mag$f:q:t</td>\n      <td>NaN</td>\n      <td>NaN</td>\n      <td>NaN</td>\n      <td>NaN</td>\n      <td>NaN</td>\n      <td>NaN</td>\n      <td>...</td>\n      <td>NaN</td>\n      <td>NaN</td>\n      <td>NaN</td>\n      <td>NaN</td>\n      <td>NaN</td>\n      <td>NaN</td>\n      <td>NaN</td>\n      <td>NaN</td>\n      <td>NaN</td>\n      <td>NaN</td>\n    </tr>\n    <tr>\n      <th>18</th>\n      <td>HUA1_AI_008</td>\n      <td>NaN</td>\n      <td>HUA1</td>\n      <td>[HUA1ADQ/AIGGIO1$MX$AnIn8$]mag$f:q:t</td>\n      <td>NaN</td>\n      <td>NaN</td>\n      <td>NaN</td>\n      <td>NaN</td>\n      <td>NaN</td>\n      <td>NaN</td>\n      <td>...</td>\n      <td>NaN</td>\n      <td>NaN</td>\n      <td>NaN</td>\n      <td>NaN</td>\n      <td>NaN</td>\n      <td>NaN</td>\n      <td>NaN</td>\n      <td>NaN</td>\n      <td>NaN</td>\n      <td>NaN</td>\n    </tr>\n    <tr>\n      <th>19</th>\n      <td>HUA2_HEALTH</td>\n      <td>NaN</td>\n      <td>HUA2</td>\n      <td>DIAG:HEALTH</td>\n      <td>NaN</td>\n      <td>NaN</td>\n      <td>NaN</td>\n      <td>NaN</td>\n      <td>NaN</td>\n      <td>NaN</td>\n      <td>...</td>\n      <td>NaN</td>\n      <td>NaN</td>\n      <td>NaN</td>\n      <td>NaN</td>\n      <td>NaN</td>\n      <td>NaN</td>\n      <td>NaN</td>\n      <td>NaN</td>\n      <td>NaN</td>\n      <td>NaN</td>\n    </tr>\n    <tr>\n      <th>20</th>\n      <td>HUA2_AI_001</td>\n      <td>NaN</td>\n      <td>HUA2</td>\n      <td>[HUA2ADQ/AIGGIO1$MX$AnIn1$]mag$f:q:t</td>\n      <td>NaN</td>\n      <td>NaN</td>\n      <td>NaN</td>\n      <td>NaN</td>\n      <td>NaN</td>\n      <td>NaN</td>\n      <td>...</td>\n      <td>NaN</td>\n      <td>NaN</td>\n      <td>NaN</td>\n      <td>NaN</td>\n      <td>NaN</td>\n      <td>NaN</td>\n      <td>NaN</td>\n      <td>NaN</td>\n      <td>NaN</td>\n      <td>NaN</td>\n    </tr>\n    <tr>\n      <th>21</th>\n      <td>HUA2_AI_002</td>\n      <td>NaN</td>\n      <td>HUA2</td>\n      <td>[HUA2ADQ/AIGGIO1$MX$AnIn2$]mag$f:q:t</td>\n      <td>NaN</td>\n      <td>NaN</td>\n      <td>NaN</td>\n      <td>NaN</td>\n      <td>NaN</td>\n      <td>NaN</td>\n      <td>...</td>\n      <td>NaN</td>\n      <td>NaN</td>\n      <td>NaN</td>\n      <td>NaN</td>\n      <td>NaN</td>\n      <td>NaN</td>\n      <td>NaN</td>\n      <td>NaN</td>\n      <td>NaN</td>\n      <td>NaN</td>\n    </tr>\n    <tr>\n      <th>22</th>\n      <td>HUA2_AI_003</td>\n      <td>NaN</td>\n      <td>HUA2</td>\n      <td>[HUA2ADQ/AIGGIO1$MX$AnIn3$]mag$f:q:t</td>\n      <td>NaN</td>\n      <td>NaN</td>\n      <td>NaN</td>\n      <td>NaN</td>\n      <td>NaN</td>\n      <td>NaN</td>\n      <td>...</td>\n      <td>NaN</td>\n      <td>NaN</td>\n      <td>NaN</td>\n      <td>NaN</td>\n      <td>NaN</td>\n      <td>NaN</td>\n      <td>NaN</td>\n      <td>NaN</td>\n      <td>NaN</td>\n      <td>NaN</td>\n    </tr>\n    <tr>\n      <th>23</th>\n      <td>HUA2_AI_004</td>\n      <td>NaN</td>\n      <td>HUA2</td>\n      <td>[HUA2ADQ/AIGGIO1$MX$AnIn4$]mag$f:q:t</td>\n      <td>NaN</td>\n      <td>NaN</td>\n      <td>NaN</td>\n      <td>NaN</td>\n      <td>NaN</td>\n      <td>NaN</td>\n      <td>...</td>\n      <td>NaN</td>\n      <td>NaN</td>\n      <td>NaN</td>\n      <td>NaN</td>\n      <td>NaN</td>\n      <td>NaN</td>\n      <td>NaN</td>\n      <td>NaN</td>\n      <td>NaN</td>\n      <td>NaN</td>\n    </tr>\n    <tr>\n      <th>24</th>\n      <td>HUA2_AI_005</td>\n      <td>NaN</td>\n      <td>HUA2</td>\n      <td>[HUA2ADQ/AIGGIO1$MX$AnIn5$]mag$f:q:t</td>\n      <td>NaN</td>\n      <td>NaN</td>\n      <td>NaN</td>\n      <td>NaN</td>\n      <td>NaN</td>\n      <td>NaN</td>\n      <td>...</td>\n      <td>NaN</td>\n      <td>NaN</td>\n      <td>NaN</td>\n      <td>NaN</td>\n      <td>NaN</td>\n      <td>NaN</td>\n      <td>NaN</td>\n      <td>NaN</td>\n      <td>NaN</td>\n      <td>NaN</td>\n    </tr>\n    <tr>\n      <th>25</th>\n      <td>HUA2_AI_006</td>\n      <td>NaN</td>\n      <td>HUA2</td>\n      <td>[HUA2ADQ/AIGGIO1$MX$AnIn6$]mag$f:q:t</td>\n      <td>NaN</td>\n      <td>NaN</td>\n      <td>NaN</td>\n      <td>NaN</td>\n      <td>NaN</td>\n      <td>NaN</td>\n      <td>...</td>\n      <td>NaN</td>\n      <td>NaN</td>\n      <td>NaN</td>\n      <td>NaN</td>\n      <td>NaN</td>\n      <td>NaN</td>\n      <td>NaN</td>\n      <td>NaN</td>\n      <td>NaN</td>\n      <td>NaN</td>\n    </tr>\n    <tr>\n      <th>26</th>\n      <td>HUA2_AI_007</td>\n      <td>NaN</td>\n      <td>HUA2</td>\n      <td>[HUA2ADQ/AIGGIO1$MX$AnIn7$]mag$f:q:t</td>\n      <td>NaN</td>\n      <td>NaN</td>\n      <td>NaN</td>\n      <td>NaN</td>\n      <td>NaN</td>\n      <td>NaN</td>\n      <td>...</td>\n      <td>NaN</td>\n      <td>NaN</td>\n      <td>NaN</td>\n      <td>NaN</td>\n      <td>NaN</td>\n      <td>NaN</td>\n      <td>NaN</td>\n      <td>NaN</td>\n      <td>NaN</td>\n      <td>NaN</td>\n    </tr>\n    <tr>\n      <th>27</th>\n      <td>HUA2_AI_008</td>\n      <td>NaN</td>\n      <td>HUA2</td>\n      <td>[HUA2ADQ/AIGGIO1$MX$AnIn8$]mag$f:q:t</td>\n      <td>NaN</td>\n      <td>NaN</td>\n      <td>NaN</td>\n      <td>NaN</td>\n      <td>NaN</td>\n      <td>NaN</td>\n      <td>...</td>\n      <td>NaN</td>\n      <td>NaN</td>\n      <td>NaN</td>\n      <td>NaN</td>\n      <td>NaN</td>\n      <td>NaN</td>\n      <td>NaN</td>\n      <td>NaN</td>\n      <td>NaN</td>\n      <td>NaN</td>\n    </tr>\n    <tr>\n      <th>28</th>\n      <td>HUA1_EI_1</td>\n      <td>NaN</td>\n      <td>HUA1</td>\n      <td>[HUA1SYSTEM/LLN0$BR$brcbA01$EntryID$]</td>\n      <td>NaN</td>\n      <td>NaN</td>\n      <td>NaN</td>\n      <td>NaN</td>\n      <td>NaN</td>\n      <td>NaN</td>\n      <td>...</td>\n      <td>NaN</td>\n      <td>NaN</td>\n      <td>NaN</td>\n      <td>NaN</td>\n      <td>NaN</td>\n      <td>NaN</td>\n      <td>NaN</td>\n      <td>NaN</td>\n      <td>NaN</td>\n      <td>NaN</td>\n    </tr>\n    <tr>\n      <th>29</th>\n      <td>HUA1_EI_2</td>\n      <td>NaN</td>\n      <td>HUA1</td>\n      <td>[HUA1ADQ/LLN0$BR$brcbA01$EntryID$]</td>\n      <td>NaN</td>\n      <td>NaN</td>\n      <td>NaN</td>\n      <td>NaN</td>\n      <td>NaN</td>\n      <td>NaN</td>\n      <td>...</td>\n      <td>NaN</td>\n      <td>NaN</td>\n      <td>NaN</td>\n      <td>NaN</td>\n      <td>NaN</td>\n      <td>NaN</td>\n      <td>NaN</td>\n      <td>NaN</td>\n      <td>NaN</td>\n      <td>NaN</td>\n    </tr>\n    <tr>\n      <th>30</th>\n      <td>HUA2_EI_1</td>\n      <td>NaN</td>\n      <td>HUA2</td>\n      <td>[HUA2SYSTEM/LLN0$BR$brcbA01$EntryID$]</td>\n      <td>NaN</td>\n      <td>NaN</td>\n      <td>NaN</td>\n      <td>NaN</td>\n      <td>NaN</td>\n      <td>NaN</td>\n      <td>...</td>\n      <td>NaN</td>\n      <td>NaN</td>\n      <td>NaN</td>\n      <td>NaN</td>\n      <td>NaN</td>\n      <td>NaN</td>\n      <td>NaN</td>\n      <td>NaN</td>\n      <td>NaN</td>\n      <td>NaN</td>\n    </tr>\n    <tr>\n      <th>31</th>\n      <td>HUA2_EI_2</td>\n      <td>NaN</td>\n      <td>HUA2</td>\n      <td>[HUA2ADQ/LLN0$BR$brcbA01$EntryID$]</td>\n      <td>NaN</td>\n      <td>NaN</td>\n      <td>NaN</td>\n      <td>NaN</td>\n      <td>NaN</td>\n      <td>NaN</td>\n      <td>...</td>\n      <td>NaN</td>\n      <td>NaN</td>\n      <td>NaN</td>\n      <td>NaN</td>\n      <td>NaN</td>\n      <td>NaN</td>\n      <td>NaN</td>\n      <td>NaN</td>\n      <td>NaN</td>\n      <td>NaN</td>\n    </tr>\n  </tbody>\n</table>\n<p>32 rows × 25 columns</p>\n</div>"
     },
     "execution_count": 59,
     "metadata": {},
     "output_type": "execute_result"
    }
   ],
   "source": [
    "df1 = x1.parse('Analog', header=None)\n",
    "df1"
   ],
   "metadata": {
    "collapsed": false,
    "pycharm": {
     "name": "#%%\n"
    }
   }
  },
  {
   "cell_type": "code",
   "execution_count": null,
   "outputs": [],
   "source": [],
   "metadata": {
    "collapsed": false,
    "pycharm": {
     "name": "#%%\n"
    }
   }
  },
  {
   "cell_type": "code",
   "execution_count": 65,
   "outputs": [
    {
     "data": {
      "text/plain": "['NAME',\n 'DESCRIPTION',\n 'BIN NAME1',\n 'COORDINATES1',\n 'VMASK1',\n 'BIN NAME1',\n 'COORDINATES1',\n 'THR1',\n 'INIT VALUE',\n 'BLOCKED',\n 'NON VOLATILE',\n 'PUBLISH',\n 'SUBSCRIBE',\n 'CONSTANT',\n 'VALUE',\n 'CONVERT',\n 'MIN RAW',\n 'MAX RAW',\n 'MIN EGU',\n 'MAX EGU',\n 'USE ALARM',\n 'LOWEST LIMIT',\n 'LOW LIMIT',\n 'HIGH LIMIT',\n 'HIGHEST LIMIT']"
     },
     "execution_count": 65,
     "metadata": {},
     "output_type": "execute_result"
    }
   ],
   "source": [
    "cols = df1.iloc[1, :].tolist()\n",
    "cols"
   ],
   "metadata": {
    "collapsed": false,
    "pycharm": {
     "name": "#%%\n"
    }
   }
  },
  {
   "cell_type": "code",
   "execution_count": 66,
   "outputs": [],
   "source": [
    "df2 = df1.copy()"
   ],
   "metadata": {
    "collapsed": false,
    "pycharm": {
     "name": "#%%\n"
    }
   }
  },
  {
   "cell_type": "code",
   "execution_count": 67,
   "outputs": [
    {
     "data": {
      "text/plain": "           NAME  DESCRIPTION  BIN NAME1  \\\n0           NaN          NaN   SOURCE 1   \n1          NAME  DESCRIPTION  BIN NAME1   \n2    D003_00000     AI_PNT_1       claq   \n3    D003_00001     AI_PNT_2       claq   \n4    D003_00002     AI_PNT_3       claq   \n5    D003_00003     AI_PNT_4       claq   \n6    D003_00004     AI_PNT_5       claq   \n7    D003_00005     AI_PNT_6       claq   \n8    D003_00006     AI_PNT_7       claq   \n9    D003_00008     AI_PNT_8       claq   \n10  HUA1_HEALTH          NaN       HUA1   \n11  HUA1_AI_001          NaN       HUA1   \n12  HUA1_AI_002          NaN       HUA1   \n13  HUA1_AI_003          NaN       HUA1   \n14  HUA1_AI_004          NaN       HUA1   \n15  HUA1_AI_005          NaN       HUA1   \n16  HUA1_AI_006          NaN       HUA1   \n17  HUA1_AI_007          NaN       HUA1   \n18  HUA1_AI_008          NaN       HUA1   \n19  HUA2_HEALTH          NaN       HUA2   \n20  HUA2_AI_001          NaN       HUA2   \n21  HUA2_AI_002          NaN       HUA2   \n22  HUA2_AI_003          NaN       HUA2   \n23  HUA2_AI_004          NaN       HUA2   \n24  HUA2_AI_005          NaN       HUA2   \n25  HUA2_AI_006          NaN       HUA2   \n26  HUA2_AI_007          NaN       HUA2   \n27  HUA2_AI_008          NaN       HUA2   \n28    HUA1_EI_1          NaN       HUA1   \n29    HUA1_EI_2          NaN       HUA1   \n30    HUA2_EI_1          NaN       HUA2   \n31    HUA2_EI_2          NaN       HUA2   \n\n                             COORDINATES1  VMASK1      BIN NAME1  \\\n0                                     NaN     NaN  DESTINATION 1   \n1                            COORDINATES1  VMASK1      BIN NAME1   \n2                              1003010000     NaN            GTW   \n3                              1003010001     NaN            GTW   \n4                              1003010002     NaN            GTW   \n5                              1003010003     NaN            GTW   \n6                              1003010004     NaN            GTW   \n7                              1003010005     NaN            GTW   \n8                              1003010006     NaN            GTW   \n9                              1003010007     NaN            GTW   \n10                            DIAG:HEALTH     NaN            NaN   \n11   [HUA1ADQ/AIGGIO1$MX$AnIn1$]mag$f:q:t     NaN            NaN   \n12   [HUA1ADQ/AIGGIO1$MX$AnIn2$]mag$f:q:t     NaN            NaN   \n13   [HUA1ADQ/AIGGIO1$MX$AnIn3$]mag$f:q:t     NaN            NaN   \n14   [HUA1ADQ/AIGGIO1$MX$AnIn4$]mag$f:q:t     NaN            NaN   \n15   [HUA1ADQ/AIGGIO1$MX$AnIn5$]mag$f:q:t     NaN            NaN   \n16   [HUA1ADQ/AIGGIO1$MX$AnIn6$]mag$f:q:t     NaN            NaN   \n17   [HUA1ADQ/AIGGIO1$MX$AnIn7$]mag$f:q:t     NaN            NaN   \n18   [HUA1ADQ/AIGGIO1$MX$AnIn8$]mag$f:q:t     NaN            NaN   \n19                            DIAG:HEALTH     NaN            NaN   \n20   [HUA2ADQ/AIGGIO1$MX$AnIn1$]mag$f:q:t     NaN            NaN   \n21   [HUA2ADQ/AIGGIO1$MX$AnIn2$]mag$f:q:t     NaN            NaN   \n22   [HUA2ADQ/AIGGIO1$MX$AnIn3$]mag$f:q:t     NaN            NaN   \n23   [HUA2ADQ/AIGGIO1$MX$AnIn4$]mag$f:q:t     NaN            NaN   \n24   [HUA2ADQ/AIGGIO1$MX$AnIn5$]mag$f:q:t     NaN            NaN   \n25   [HUA2ADQ/AIGGIO1$MX$AnIn6$]mag$f:q:t     NaN            NaN   \n26   [HUA2ADQ/AIGGIO1$MX$AnIn7$]mag$f:q:t     NaN            NaN   \n27   [HUA2ADQ/AIGGIO1$MX$AnIn8$]mag$f:q:t     NaN            NaN   \n28  [HUA1SYSTEM/LLN0$BR$brcbA01$EntryID$]     NaN            NaN   \n29     [HUA1ADQ/LLN0$BR$brcbA01$EntryID$]     NaN            NaN   \n30  [HUA2SYSTEM/LLN0$BR$brcbA01$EntryID$]     NaN            NaN   \n31     [HUA2ADQ/LLN0$BR$brcbA01$EntryID$]     NaN            NaN   \n\n                           COORDINATES1  THR1  INIT VALUE  BLOCKED  ...  \\\n0                                   NaN   NaN         NaN      NaN  ...   \n1                          COORDINATES1  THR1  INIT VALUE  BLOCKED  ...   \n2   [GTWADQ/AIGGIO1$MX$AnIn1$]mag$f:q:t   1.0         NaN      NaN  ...   \n3   [GTWADQ/AIGGIO1$MX$AnIn2$]mag$f:q:t   1.0         NaN      NaN  ...   \n4   [GTWADQ/AIGGIO1$MX$AnIn3$]mag$f:q:t   1.0         NaN      NaN  ...   \n5   [GTWADQ/AIGGIO1$MX$AnIn4$]mag$f:q:t   1.0         NaN      NaN  ...   \n6   [GTWADQ/AIGGIO1$MX$AnIn5$]mag$f:q:t   1.0         NaN      NaN  ...   \n7   [GTWADQ/AIGGIO1$MX$AnIn6$]mag$f:q:t   1.0         NaN      NaN  ...   \n8   [GTWADQ/AIGGIO1$MX$AnIn7$]mag$f:q:t   1.0         NaN      NaN  ...   \n9   [GTWADQ/AIGGIO1$MX$AnIn8$]mag$f:q:t   1.0         NaN      NaN  ...   \n10                                  NaN   NaN         NaN      NaN  ...   \n11                                  NaN   NaN         NaN      NaN  ...   \n12                                  NaN   NaN         NaN      NaN  ...   \n13                                  NaN   NaN         NaN      NaN  ...   \n14                                  NaN   NaN         NaN      NaN  ...   \n15                                  NaN   NaN         NaN      NaN  ...   \n16                                  NaN   NaN         NaN      NaN  ...   \n17                                  NaN   NaN         NaN      NaN  ...   \n18                                  NaN   NaN         NaN      NaN  ...   \n19                                  NaN   NaN         NaN      NaN  ...   \n20                                  NaN   NaN         NaN      NaN  ...   \n21                                  NaN   NaN         NaN      NaN  ...   \n22                                  NaN   NaN         NaN      NaN  ...   \n23                                  NaN   NaN         NaN      NaN  ...   \n24                                  NaN   NaN         NaN      NaN  ...   \n25                                  NaN   NaN         NaN      NaN  ...   \n26                                  NaN   NaN         NaN      NaN  ...   \n27                                  NaN   NaN         NaN      NaN  ...   \n28                                  NaN   NaN         NaN      NaN  ...   \n29                                  NaN   NaN         NaN      NaN  ...   \n30                                  NaN   NaN         NaN      NaN  ...   \n31                                  NaN   NaN         NaN      NaN  ...   \n\n              CONVERT  MIN RAW  MAX RAW  MIN EGU  MAX EGU  USE ALARM  \\\n0   ENGINEERING UNITS      NaN      NaN      NaN      NaN      ALARM   \n1             CONVERT  MIN RAW  MAX RAW  MIN EGU  MAX EGU  USE ALARM   \n2                 NaN      NaN      NaN      NaN      NaN        NaN   \n3                 NaN      NaN      NaN      NaN      NaN        NaN   \n4                 NaN      NaN      NaN      NaN      NaN        NaN   \n5                 NaN      NaN      NaN      NaN      NaN        NaN   \n6                 NaN      NaN      NaN      NaN      NaN        NaN   \n7                 NaN      NaN      NaN      NaN      NaN        NaN   \n8                 NaN      NaN      NaN      NaN      NaN        NaN   \n9                 NaN      NaN      NaN      NaN      NaN        NaN   \n10                NaN      NaN      NaN      NaN      NaN        NaN   \n11                NaN      NaN      NaN      NaN      NaN        NaN   \n12                NaN      NaN      NaN      NaN      NaN        NaN   \n13                NaN      NaN      NaN      NaN      NaN        NaN   \n14                NaN      NaN      NaN      NaN      NaN        NaN   \n15                NaN      NaN      NaN      NaN      NaN        NaN   \n16                NaN      NaN      NaN      NaN      NaN        NaN   \n17                NaN      NaN      NaN      NaN      NaN        NaN   \n18                NaN      NaN      NaN      NaN      NaN        NaN   \n19                NaN      NaN      NaN      NaN      NaN        NaN   \n20                NaN      NaN      NaN      NaN      NaN        NaN   \n21                NaN      NaN      NaN      NaN      NaN        NaN   \n22                NaN      NaN      NaN      NaN      NaN        NaN   \n23                NaN      NaN      NaN      NaN      NaN        NaN   \n24                NaN      NaN      NaN      NaN      NaN        NaN   \n25                NaN      NaN      NaN      NaN      NaN        NaN   \n26                NaN      NaN      NaN      NaN      NaN        NaN   \n27                NaN      NaN      NaN      NaN      NaN        NaN   \n28                NaN      NaN      NaN      NaN      NaN        NaN   \n29                NaN      NaN      NaN      NaN      NaN        NaN   \n30                NaN      NaN      NaN      NaN      NaN        NaN   \n31                NaN      NaN      NaN      NaN      NaN        NaN   \n\n    LOWEST LIMIT  LOW LIMIT  HIGH LIMIT  HIGHEST LIMIT  \n0            NaN        NaN         NaN            NaN  \n1   LOWEST LIMIT  LOW LIMIT  HIGH LIMIT  HIGHEST LIMIT  \n2            NaN        NaN         NaN            NaN  \n3            NaN        NaN         NaN            NaN  \n4            NaN        NaN         NaN            NaN  \n5            NaN        NaN         NaN            NaN  \n6            NaN        NaN         NaN            NaN  \n7            NaN        NaN         NaN            NaN  \n8            NaN        NaN         NaN            NaN  \n9            NaN        NaN         NaN            NaN  \n10           NaN        NaN         NaN            NaN  \n11           NaN        NaN         NaN            NaN  \n12           NaN        NaN         NaN            NaN  \n13           NaN        NaN         NaN            NaN  \n14           NaN        NaN         NaN            NaN  \n15           NaN        NaN         NaN            NaN  \n16           NaN        NaN         NaN            NaN  \n17           NaN        NaN         NaN            NaN  \n18           NaN        NaN         NaN            NaN  \n19           NaN        NaN         NaN            NaN  \n20           NaN        NaN         NaN            NaN  \n21           NaN        NaN         NaN            NaN  \n22           NaN        NaN         NaN            NaN  \n23           NaN        NaN         NaN            NaN  \n24           NaN        NaN         NaN            NaN  \n25           NaN        NaN         NaN            NaN  \n26           NaN        NaN         NaN            NaN  \n27           NaN        NaN         NaN            NaN  \n28           NaN        NaN         NaN            NaN  \n29           NaN        NaN         NaN            NaN  \n30           NaN        NaN         NaN            NaN  \n31           NaN        NaN         NaN            NaN  \n\n[32 rows x 25 columns]",
      "text/html": "<div>\n<style scoped>\n    .dataframe tbody tr th:only-of-type {\n        vertical-align: middle;\n    }\n\n    .dataframe tbody tr th {\n        vertical-align: top;\n    }\n\n    .dataframe thead th {\n        text-align: right;\n    }\n</style>\n<table border=\"1\" class=\"dataframe\">\n  <thead>\n    <tr style=\"text-align: right;\">\n      <th></th>\n      <th>NAME</th>\n      <th>DESCRIPTION</th>\n      <th>BIN NAME1</th>\n      <th>COORDINATES1</th>\n      <th>VMASK1</th>\n      <th>BIN NAME1</th>\n      <th>COORDINATES1</th>\n      <th>THR1</th>\n      <th>INIT VALUE</th>\n      <th>BLOCKED</th>\n      <th>...</th>\n      <th>CONVERT</th>\n      <th>MIN RAW</th>\n      <th>MAX RAW</th>\n      <th>MIN EGU</th>\n      <th>MAX EGU</th>\n      <th>USE ALARM</th>\n      <th>LOWEST LIMIT</th>\n      <th>LOW LIMIT</th>\n      <th>HIGH LIMIT</th>\n      <th>HIGHEST LIMIT</th>\n    </tr>\n  </thead>\n  <tbody>\n    <tr>\n      <th>0</th>\n      <td>NaN</td>\n      <td>NaN</td>\n      <td>SOURCE 1</td>\n      <td>NaN</td>\n      <td>NaN</td>\n      <td>DESTINATION 1</td>\n      <td>NaN</td>\n      <td>NaN</td>\n      <td>NaN</td>\n      <td>NaN</td>\n      <td>...</td>\n      <td>ENGINEERING UNITS</td>\n      <td>NaN</td>\n      <td>NaN</td>\n      <td>NaN</td>\n      <td>NaN</td>\n      <td>ALARM</td>\n      <td>NaN</td>\n      <td>NaN</td>\n      <td>NaN</td>\n      <td>NaN</td>\n    </tr>\n    <tr>\n      <th>1</th>\n      <td>NAME</td>\n      <td>DESCRIPTION</td>\n      <td>BIN NAME1</td>\n      <td>COORDINATES1</td>\n      <td>VMASK1</td>\n      <td>BIN NAME1</td>\n      <td>COORDINATES1</td>\n      <td>THR1</td>\n      <td>INIT VALUE</td>\n      <td>BLOCKED</td>\n      <td>...</td>\n      <td>CONVERT</td>\n      <td>MIN RAW</td>\n      <td>MAX RAW</td>\n      <td>MIN EGU</td>\n      <td>MAX EGU</td>\n      <td>USE ALARM</td>\n      <td>LOWEST LIMIT</td>\n      <td>LOW LIMIT</td>\n      <td>HIGH LIMIT</td>\n      <td>HIGHEST LIMIT</td>\n    </tr>\n    <tr>\n      <th>2</th>\n      <td>D003_00000</td>\n      <td>AI_PNT_1</td>\n      <td>claq</td>\n      <td>1003010000</td>\n      <td>NaN</td>\n      <td>GTW</td>\n      <td>[GTWADQ/AIGGIO1$MX$AnIn1$]mag$f:q:t</td>\n      <td>1.0</td>\n      <td>NaN</td>\n      <td>NaN</td>\n      <td>...</td>\n      <td>NaN</td>\n      <td>NaN</td>\n      <td>NaN</td>\n      <td>NaN</td>\n      <td>NaN</td>\n      <td>NaN</td>\n      <td>NaN</td>\n      <td>NaN</td>\n      <td>NaN</td>\n      <td>NaN</td>\n    </tr>\n    <tr>\n      <th>3</th>\n      <td>D003_00001</td>\n      <td>AI_PNT_2</td>\n      <td>claq</td>\n      <td>1003010001</td>\n      <td>NaN</td>\n      <td>GTW</td>\n      <td>[GTWADQ/AIGGIO1$MX$AnIn2$]mag$f:q:t</td>\n      <td>1.0</td>\n      <td>NaN</td>\n      <td>NaN</td>\n      <td>...</td>\n      <td>NaN</td>\n      <td>NaN</td>\n      <td>NaN</td>\n      <td>NaN</td>\n      <td>NaN</td>\n      <td>NaN</td>\n      <td>NaN</td>\n      <td>NaN</td>\n      <td>NaN</td>\n      <td>NaN</td>\n    </tr>\n    <tr>\n      <th>4</th>\n      <td>D003_00002</td>\n      <td>AI_PNT_3</td>\n      <td>claq</td>\n      <td>1003010002</td>\n      <td>NaN</td>\n      <td>GTW</td>\n      <td>[GTWADQ/AIGGIO1$MX$AnIn3$]mag$f:q:t</td>\n      <td>1.0</td>\n      <td>NaN</td>\n      <td>NaN</td>\n      <td>...</td>\n      <td>NaN</td>\n      <td>NaN</td>\n      <td>NaN</td>\n      <td>NaN</td>\n      <td>NaN</td>\n      <td>NaN</td>\n      <td>NaN</td>\n      <td>NaN</td>\n      <td>NaN</td>\n      <td>NaN</td>\n    </tr>\n    <tr>\n      <th>5</th>\n      <td>D003_00003</td>\n      <td>AI_PNT_4</td>\n      <td>claq</td>\n      <td>1003010003</td>\n      <td>NaN</td>\n      <td>GTW</td>\n      <td>[GTWADQ/AIGGIO1$MX$AnIn4$]mag$f:q:t</td>\n      <td>1.0</td>\n      <td>NaN</td>\n      <td>NaN</td>\n      <td>...</td>\n      <td>NaN</td>\n      <td>NaN</td>\n      <td>NaN</td>\n      <td>NaN</td>\n      <td>NaN</td>\n      <td>NaN</td>\n      <td>NaN</td>\n      <td>NaN</td>\n      <td>NaN</td>\n      <td>NaN</td>\n    </tr>\n    <tr>\n      <th>6</th>\n      <td>D003_00004</td>\n      <td>AI_PNT_5</td>\n      <td>claq</td>\n      <td>1003010004</td>\n      <td>NaN</td>\n      <td>GTW</td>\n      <td>[GTWADQ/AIGGIO1$MX$AnIn5$]mag$f:q:t</td>\n      <td>1.0</td>\n      <td>NaN</td>\n      <td>NaN</td>\n      <td>...</td>\n      <td>NaN</td>\n      <td>NaN</td>\n      <td>NaN</td>\n      <td>NaN</td>\n      <td>NaN</td>\n      <td>NaN</td>\n      <td>NaN</td>\n      <td>NaN</td>\n      <td>NaN</td>\n      <td>NaN</td>\n    </tr>\n    <tr>\n      <th>7</th>\n      <td>D003_00005</td>\n      <td>AI_PNT_6</td>\n      <td>claq</td>\n      <td>1003010005</td>\n      <td>NaN</td>\n      <td>GTW</td>\n      <td>[GTWADQ/AIGGIO1$MX$AnIn6$]mag$f:q:t</td>\n      <td>1.0</td>\n      <td>NaN</td>\n      <td>NaN</td>\n      <td>...</td>\n      <td>NaN</td>\n      <td>NaN</td>\n      <td>NaN</td>\n      <td>NaN</td>\n      <td>NaN</td>\n      <td>NaN</td>\n      <td>NaN</td>\n      <td>NaN</td>\n      <td>NaN</td>\n      <td>NaN</td>\n    </tr>\n    <tr>\n      <th>8</th>\n      <td>D003_00006</td>\n      <td>AI_PNT_7</td>\n      <td>claq</td>\n      <td>1003010006</td>\n      <td>NaN</td>\n      <td>GTW</td>\n      <td>[GTWADQ/AIGGIO1$MX$AnIn7$]mag$f:q:t</td>\n      <td>1.0</td>\n      <td>NaN</td>\n      <td>NaN</td>\n      <td>...</td>\n      <td>NaN</td>\n      <td>NaN</td>\n      <td>NaN</td>\n      <td>NaN</td>\n      <td>NaN</td>\n      <td>NaN</td>\n      <td>NaN</td>\n      <td>NaN</td>\n      <td>NaN</td>\n      <td>NaN</td>\n    </tr>\n    <tr>\n      <th>9</th>\n      <td>D003_00008</td>\n      <td>AI_PNT_8</td>\n      <td>claq</td>\n      <td>1003010007</td>\n      <td>NaN</td>\n      <td>GTW</td>\n      <td>[GTWADQ/AIGGIO1$MX$AnIn8$]mag$f:q:t</td>\n      <td>1.0</td>\n      <td>NaN</td>\n      <td>NaN</td>\n      <td>...</td>\n      <td>NaN</td>\n      <td>NaN</td>\n      <td>NaN</td>\n      <td>NaN</td>\n      <td>NaN</td>\n      <td>NaN</td>\n      <td>NaN</td>\n      <td>NaN</td>\n      <td>NaN</td>\n      <td>NaN</td>\n    </tr>\n    <tr>\n      <th>10</th>\n      <td>HUA1_HEALTH</td>\n      <td>NaN</td>\n      <td>HUA1</td>\n      <td>DIAG:HEALTH</td>\n      <td>NaN</td>\n      <td>NaN</td>\n      <td>NaN</td>\n      <td>NaN</td>\n      <td>NaN</td>\n      <td>NaN</td>\n      <td>...</td>\n      <td>NaN</td>\n      <td>NaN</td>\n      <td>NaN</td>\n      <td>NaN</td>\n      <td>NaN</td>\n      <td>NaN</td>\n      <td>NaN</td>\n      <td>NaN</td>\n      <td>NaN</td>\n      <td>NaN</td>\n    </tr>\n    <tr>\n      <th>11</th>\n      <td>HUA1_AI_001</td>\n      <td>NaN</td>\n      <td>HUA1</td>\n      <td>[HUA1ADQ/AIGGIO1$MX$AnIn1$]mag$f:q:t</td>\n      <td>NaN</td>\n      <td>NaN</td>\n      <td>NaN</td>\n      <td>NaN</td>\n      <td>NaN</td>\n      <td>NaN</td>\n      <td>...</td>\n      <td>NaN</td>\n      <td>NaN</td>\n      <td>NaN</td>\n      <td>NaN</td>\n      <td>NaN</td>\n      <td>NaN</td>\n      <td>NaN</td>\n      <td>NaN</td>\n      <td>NaN</td>\n      <td>NaN</td>\n    </tr>\n    <tr>\n      <th>12</th>\n      <td>HUA1_AI_002</td>\n      <td>NaN</td>\n      <td>HUA1</td>\n      <td>[HUA1ADQ/AIGGIO1$MX$AnIn2$]mag$f:q:t</td>\n      <td>NaN</td>\n      <td>NaN</td>\n      <td>NaN</td>\n      <td>NaN</td>\n      <td>NaN</td>\n      <td>NaN</td>\n      <td>...</td>\n      <td>NaN</td>\n      <td>NaN</td>\n      <td>NaN</td>\n      <td>NaN</td>\n      <td>NaN</td>\n      <td>NaN</td>\n      <td>NaN</td>\n      <td>NaN</td>\n      <td>NaN</td>\n      <td>NaN</td>\n    </tr>\n    <tr>\n      <th>13</th>\n      <td>HUA1_AI_003</td>\n      <td>NaN</td>\n      <td>HUA1</td>\n      <td>[HUA1ADQ/AIGGIO1$MX$AnIn3$]mag$f:q:t</td>\n      <td>NaN</td>\n      <td>NaN</td>\n      <td>NaN</td>\n      <td>NaN</td>\n      <td>NaN</td>\n      <td>NaN</td>\n      <td>...</td>\n      <td>NaN</td>\n      <td>NaN</td>\n      <td>NaN</td>\n      <td>NaN</td>\n      <td>NaN</td>\n      <td>NaN</td>\n      <td>NaN</td>\n      <td>NaN</td>\n      <td>NaN</td>\n      <td>NaN</td>\n    </tr>\n    <tr>\n      <th>14</th>\n      <td>HUA1_AI_004</td>\n      <td>NaN</td>\n      <td>HUA1</td>\n      <td>[HUA1ADQ/AIGGIO1$MX$AnIn4$]mag$f:q:t</td>\n      <td>NaN</td>\n      <td>NaN</td>\n      <td>NaN</td>\n      <td>NaN</td>\n      <td>NaN</td>\n      <td>NaN</td>\n      <td>...</td>\n      <td>NaN</td>\n      <td>NaN</td>\n      <td>NaN</td>\n      <td>NaN</td>\n      <td>NaN</td>\n      <td>NaN</td>\n      <td>NaN</td>\n      <td>NaN</td>\n      <td>NaN</td>\n      <td>NaN</td>\n    </tr>\n    <tr>\n      <th>15</th>\n      <td>HUA1_AI_005</td>\n      <td>NaN</td>\n      <td>HUA1</td>\n      <td>[HUA1ADQ/AIGGIO1$MX$AnIn5$]mag$f:q:t</td>\n      <td>NaN</td>\n      <td>NaN</td>\n      <td>NaN</td>\n      <td>NaN</td>\n      <td>NaN</td>\n      <td>NaN</td>\n      <td>...</td>\n      <td>NaN</td>\n      <td>NaN</td>\n      <td>NaN</td>\n      <td>NaN</td>\n      <td>NaN</td>\n      <td>NaN</td>\n      <td>NaN</td>\n      <td>NaN</td>\n      <td>NaN</td>\n      <td>NaN</td>\n    </tr>\n    <tr>\n      <th>16</th>\n      <td>HUA1_AI_006</td>\n      <td>NaN</td>\n      <td>HUA1</td>\n      <td>[HUA1ADQ/AIGGIO1$MX$AnIn6$]mag$f:q:t</td>\n      <td>NaN</td>\n      <td>NaN</td>\n      <td>NaN</td>\n      <td>NaN</td>\n      <td>NaN</td>\n      <td>NaN</td>\n      <td>...</td>\n      <td>NaN</td>\n      <td>NaN</td>\n      <td>NaN</td>\n      <td>NaN</td>\n      <td>NaN</td>\n      <td>NaN</td>\n      <td>NaN</td>\n      <td>NaN</td>\n      <td>NaN</td>\n      <td>NaN</td>\n    </tr>\n    <tr>\n      <th>17</th>\n      <td>HUA1_AI_007</td>\n      <td>NaN</td>\n      <td>HUA1</td>\n      <td>[HUA1ADQ/AIGGIO1$MX$AnIn7$]mag$f:q:t</td>\n      <td>NaN</td>\n      <td>NaN</td>\n      <td>NaN</td>\n      <td>NaN</td>\n      <td>NaN</td>\n      <td>NaN</td>\n      <td>...</td>\n      <td>NaN</td>\n      <td>NaN</td>\n      <td>NaN</td>\n      <td>NaN</td>\n      <td>NaN</td>\n      <td>NaN</td>\n      <td>NaN</td>\n      <td>NaN</td>\n      <td>NaN</td>\n      <td>NaN</td>\n    </tr>\n    <tr>\n      <th>18</th>\n      <td>HUA1_AI_008</td>\n      <td>NaN</td>\n      <td>HUA1</td>\n      <td>[HUA1ADQ/AIGGIO1$MX$AnIn8$]mag$f:q:t</td>\n      <td>NaN</td>\n      <td>NaN</td>\n      <td>NaN</td>\n      <td>NaN</td>\n      <td>NaN</td>\n      <td>NaN</td>\n      <td>...</td>\n      <td>NaN</td>\n      <td>NaN</td>\n      <td>NaN</td>\n      <td>NaN</td>\n      <td>NaN</td>\n      <td>NaN</td>\n      <td>NaN</td>\n      <td>NaN</td>\n      <td>NaN</td>\n      <td>NaN</td>\n    </tr>\n    <tr>\n      <th>19</th>\n      <td>HUA2_HEALTH</td>\n      <td>NaN</td>\n      <td>HUA2</td>\n      <td>DIAG:HEALTH</td>\n      <td>NaN</td>\n      <td>NaN</td>\n      <td>NaN</td>\n      <td>NaN</td>\n      <td>NaN</td>\n      <td>NaN</td>\n      <td>...</td>\n      <td>NaN</td>\n      <td>NaN</td>\n      <td>NaN</td>\n      <td>NaN</td>\n      <td>NaN</td>\n      <td>NaN</td>\n      <td>NaN</td>\n      <td>NaN</td>\n      <td>NaN</td>\n      <td>NaN</td>\n    </tr>\n    <tr>\n      <th>20</th>\n      <td>HUA2_AI_001</td>\n      <td>NaN</td>\n      <td>HUA2</td>\n      <td>[HUA2ADQ/AIGGIO1$MX$AnIn1$]mag$f:q:t</td>\n      <td>NaN</td>\n      <td>NaN</td>\n      <td>NaN</td>\n      <td>NaN</td>\n      <td>NaN</td>\n      <td>NaN</td>\n      <td>...</td>\n      <td>NaN</td>\n      <td>NaN</td>\n      <td>NaN</td>\n      <td>NaN</td>\n      <td>NaN</td>\n      <td>NaN</td>\n      <td>NaN</td>\n      <td>NaN</td>\n      <td>NaN</td>\n      <td>NaN</td>\n    </tr>\n    <tr>\n      <th>21</th>\n      <td>HUA2_AI_002</td>\n      <td>NaN</td>\n      <td>HUA2</td>\n      <td>[HUA2ADQ/AIGGIO1$MX$AnIn2$]mag$f:q:t</td>\n      <td>NaN</td>\n      <td>NaN</td>\n      <td>NaN</td>\n      <td>NaN</td>\n      <td>NaN</td>\n      <td>NaN</td>\n      <td>...</td>\n      <td>NaN</td>\n      <td>NaN</td>\n      <td>NaN</td>\n      <td>NaN</td>\n      <td>NaN</td>\n      <td>NaN</td>\n      <td>NaN</td>\n      <td>NaN</td>\n      <td>NaN</td>\n      <td>NaN</td>\n    </tr>\n    <tr>\n      <th>22</th>\n      <td>HUA2_AI_003</td>\n      <td>NaN</td>\n      <td>HUA2</td>\n      <td>[HUA2ADQ/AIGGIO1$MX$AnIn3$]mag$f:q:t</td>\n      <td>NaN</td>\n      <td>NaN</td>\n      <td>NaN</td>\n      <td>NaN</td>\n      <td>NaN</td>\n      <td>NaN</td>\n      <td>...</td>\n      <td>NaN</td>\n      <td>NaN</td>\n      <td>NaN</td>\n      <td>NaN</td>\n      <td>NaN</td>\n      <td>NaN</td>\n      <td>NaN</td>\n      <td>NaN</td>\n      <td>NaN</td>\n      <td>NaN</td>\n    </tr>\n    <tr>\n      <th>23</th>\n      <td>HUA2_AI_004</td>\n      <td>NaN</td>\n      <td>HUA2</td>\n      <td>[HUA2ADQ/AIGGIO1$MX$AnIn4$]mag$f:q:t</td>\n      <td>NaN</td>\n      <td>NaN</td>\n      <td>NaN</td>\n      <td>NaN</td>\n      <td>NaN</td>\n      <td>NaN</td>\n      <td>...</td>\n      <td>NaN</td>\n      <td>NaN</td>\n      <td>NaN</td>\n      <td>NaN</td>\n      <td>NaN</td>\n      <td>NaN</td>\n      <td>NaN</td>\n      <td>NaN</td>\n      <td>NaN</td>\n      <td>NaN</td>\n    </tr>\n    <tr>\n      <th>24</th>\n      <td>HUA2_AI_005</td>\n      <td>NaN</td>\n      <td>HUA2</td>\n      <td>[HUA2ADQ/AIGGIO1$MX$AnIn5$]mag$f:q:t</td>\n      <td>NaN</td>\n      <td>NaN</td>\n      <td>NaN</td>\n      <td>NaN</td>\n      <td>NaN</td>\n      <td>NaN</td>\n      <td>...</td>\n      <td>NaN</td>\n      <td>NaN</td>\n      <td>NaN</td>\n      <td>NaN</td>\n      <td>NaN</td>\n      <td>NaN</td>\n      <td>NaN</td>\n      <td>NaN</td>\n      <td>NaN</td>\n      <td>NaN</td>\n    </tr>\n    <tr>\n      <th>25</th>\n      <td>HUA2_AI_006</td>\n      <td>NaN</td>\n      <td>HUA2</td>\n      <td>[HUA2ADQ/AIGGIO1$MX$AnIn6$]mag$f:q:t</td>\n      <td>NaN</td>\n      <td>NaN</td>\n      <td>NaN</td>\n      <td>NaN</td>\n      <td>NaN</td>\n      <td>NaN</td>\n      <td>...</td>\n      <td>NaN</td>\n      <td>NaN</td>\n      <td>NaN</td>\n      <td>NaN</td>\n      <td>NaN</td>\n      <td>NaN</td>\n      <td>NaN</td>\n      <td>NaN</td>\n      <td>NaN</td>\n      <td>NaN</td>\n    </tr>\n    <tr>\n      <th>26</th>\n      <td>HUA2_AI_007</td>\n      <td>NaN</td>\n      <td>HUA2</td>\n      <td>[HUA2ADQ/AIGGIO1$MX$AnIn7$]mag$f:q:t</td>\n      <td>NaN</td>\n      <td>NaN</td>\n      <td>NaN</td>\n      <td>NaN</td>\n      <td>NaN</td>\n      <td>NaN</td>\n      <td>...</td>\n      <td>NaN</td>\n      <td>NaN</td>\n      <td>NaN</td>\n      <td>NaN</td>\n      <td>NaN</td>\n      <td>NaN</td>\n      <td>NaN</td>\n      <td>NaN</td>\n      <td>NaN</td>\n      <td>NaN</td>\n    </tr>\n    <tr>\n      <th>27</th>\n      <td>HUA2_AI_008</td>\n      <td>NaN</td>\n      <td>HUA2</td>\n      <td>[HUA2ADQ/AIGGIO1$MX$AnIn8$]mag$f:q:t</td>\n      <td>NaN</td>\n      <td>NaN</td>\n      <td>NaN</td>\n      <td>NaN</td>\n      <td>NaN</td>\n      <td>NaN</td>\n      <td>...</td>\n      <td>NaN</td>\n      <td>NaN</td>\n      <td>NaN</td>\n      <td>NaN</td>\n      <td>NaN</td>\n      <td>NaN</td>\n      <td>NaN</td>\n      <td>NaN</td>\n      <td>NaN</td>\n      <td>NaN</td>\n    </tr>\n    <tr>\n      <th>28</th>\n      <td>HUA1_EI_1</td>\n      <td>NaN</td>\n      <td>HUA1</td>\n      <td>[HUA1SYSTEM/LLN0$BR$brcbA01$EntryID$]</td>\n      <td>NaN</td>\n      <td>NaN</td>\n      <td>NaN</td>\n      <td>NaN</td>\n      <td>NaN</td>\n      <td>NaN</td>\n      <td>...</td>\n      <td>NaN</td>\n      <td>NaN</td>\n      <td>NaN</td>\n      <td>NaN</td>\n      <td>NaN</td>\n      <td>NaN</td>\n      <td>NaN</td>\n      <td>NaN</td>\n      <td>NaN</td>\n      <td>NaN</td>\n    </tr>\n    <tr>\n      <th>29</th>\n      <td>HUA1_EI_2</td>\n      <td>NaN</td>\n      <td>HUA1</td>\n      <td>[HUA1ADQ/LLN0$BR$brcbA01$EntryID$]</td>\n      <td>NaN</td>\n      <td>NaN</td>\n      <td>NaN</td>\n      <td>NaN</td>\n      <td>NaN</td>\n      <td>NaN</td>\n      <td>...</td>\n      <td>NaN</td>\n      <td>NaN</td>\n      <td>NaN</td>\n      <td>NaN</td>\n      <td>NaN</td>\n      <td>NaN</td>\n      <td>NaN</td>\n      <td>NaN</td>\n      <td>NaN</td>\n      <td>NaN</td>\n    </tr>\n    <tr>\n      <th>30</th>\n      <td>HUA2_EI_1</td>\n      <td>NaN</td>\n      <td>HUA2</td>\n      <td>[HUA2SYSTEM/LLN0$BR$brcbA01$EntryID$]</td>\n      <td>NaN</td>\n      <td>NaN</td>\n      <td>NaN</td>\n      <td>NaN</td>\n      <td>NaN</td>\n      <td>NaN</td>\n      <td>...</td>\n      <td>NaN</td>\n      <td>NaN</td>\n      <td>NaN</td>\n      <td>NaN</td>\n      <td>NaN</td>\n      <td>NaN</td>\n      <td>NaN</td>\n      <td>NaN</td>\n      <td>NaN</td>\n      <td>NaN</td>\n    </tr>\n    <tr>\n      <th>31</th>\n      <td>HUA2_EI_2</td>\n      <td>NaN</td>\n      <td>HUA2</td>\n      <td>[HUA2ADQ/LLN0$BR$brcbA01$EntryID$]</td>\n      <td>NaN</td>\n      <td>NaN</td>\n      <td>NaN</td>\n      <td>NaN</td>\n      <td>NaN</td>\n      <td>NaN</td>\n      <td>...</td>\n      <td>NaN</td>\n      <td>NaN</td>\n      <td>NaN</td>\n      <td>NaN</td>\n      <td>NaN</td>\n      <td>NaN</td>\n      <td>NaN</td>\n      <td>NaN</td>\n      <td>NaN</td>\n      <td>NaN</td>\n    </tr>\n  </tbody>\n</table>\n<p>32 rows × 25 columns</p>\n</div>"
     },
     "execution_count": 67,
     "metadata": {},
     "output_type": "execute_result"
    }
   ],
   "source": [
    "df2.columns = cols\n",
    "df2"
   ],
   "metadata": {
    "collapsed": false,
    "pycharm": {
     "name": "#%%\n"
    }
   }
  },
  {
   "cell_type": "code",
   "execution_count": 50,
   "outputs": [],
   "source": [
    "def change_cell(df, col, old_value, new_value):\n",
    "    index = df[df[col] == old_value].index\n",
    "    if len(index) > 0:\n",
    "        df.loc[index[0], col] = new_value\n",
    "    return df"
   ],
   "metadata": {
    "collapsed": false,
    "pycharm": {
     "name": "#%%\n"
    }
   }
  },
  {
   "cell_type": "code",
   "execution_count": 68,
   "outputs": [],
   "source": [
    "df2 = change_cell(df2, 'NAME', 'D003_00008', 'D003_00009')"
   ],
   "metadata": {
    "collapsed": false,
    "pycharm": {
     "name": "#%%\n"
    }
   }
  },
  {
   "cell_type": "code",
   "execution_count": 69,
   "outputs": [
    {
     "data": {
      "text/plain": "           NAME  DESCRIPTION  BIN NAME1  \\\n0           NaN          NaN   SOURCE 1   \n1          NAME  DESCRIPTION  BIN NAME1   \n2    D003_00000     AI_PNT_1       claq   \n3    D003_00001     AI_PNT_2       claq   \n4    D003_00002     AI_PNT_3       claq   \n5    D003_00003     AI_PNT_4       claq   \n6    D003_00004     AI_PNT_5       claq   \n7    D003_00005     AI_PNT_6       claq   \n8    D003_00006     AI_PNT_7       claq   \n9    D003_00009     AI_PNT_8       claq   \n10  HUA1_HEALTH          NaN       HUA1   \n11  HUA1_AI_001          NaN       HUA1   \n12  HUA1_AI_002          NaN       HUA1   \n13  HUA1_AI_003          NaN       HUA1   \n14  HUA1_AI_004          NaN       HUA1   \n15  HUA1_AI_005          NaN       HUA1   \n16  HUA1_AI_006          NaN       HUA1   \n17  HUA1_AI_007          NaN       HUA1   \n18  HUA1_AI_008          NaN       HUA1   \n19  HUA2_HEALTH          NaN       HUA2   \n20  HUA2_AI_001          NaN       HUA2   \n21  HUA2_AI_002          NaN       HUA2   \n22  HUA2_AI_003          NaN       HUA2   \n23  HUA2_AI_004          NaN       HUA2   \n24  HUA2_AI_005          NaN       HUA2   \n25  HUA2_AI_006          NaN       HUA2   \n26  HUA2_AI_007          NaN       HUA2   \n27  HUA2_AI_008          NaN       HUA2   \n28    HUA1_EI_1          NaN       HUA1   \n29    HUA1_EI_2          NaN       HUA1   \n30    HUA2_EI_1          NaN       HUA2   \n31    HUA2_EI_2          NaN       HUA2   \n\n                             COORDINATES1  VMASK1      BIN NAME1  \\\n0                                     NaN     NaN  DESTINATION 1   \n1                            COORDINATES1  VMASK1      BIN NAME1   \n2                              1003010000     NaN            GTW   \n3                              1003010001     NaN            GTW   \n4                              1003010002     NaN            GTW   \n5                              1003010003     NaN            GTW   \n6                              1003010004     NaN            GTW   \n7                              1003010005     NaN            GTW   \n8                              1003010006     NaN            GTW   \n9                              1003010007     NaN            GTW   \n10                            DIAG:HEALTH     NaN            NaN   \n11   [HUA1ADQ/AIGGIO1$MX$AnIn1$]mag$f:q:t     NaN            NaN   \n12   [HUA1ADQ/AIGGIO1$MX$AnIn2$]mag$f:q:t     NaN            NaN   \n13   [HUA1ADQ/AIGGIO1$MX$AnIn3$]mag$f:q:t     NaN            NaN   \n14   [HUA1ADQ/AIGGIO1$MX$AnIn4$]mag$f:q:t     NaN            NaN   \n15   [HUA1ADQ/AIGGIO1$MX$AnIn5$]mag$f:q:t     NaN            NaN   \n16   [HUA1ADQ/AIGGIO1$MX$AnIn6$]mag$f:q:t     NaN            NaN   \n17   [HUA1ADQ/AIGGIO1$MX$AnIn7$]mag$f:q:t     NaN            NaN   \n18   [HUA1ADQ/AIGGIO1$MX$AnIn8$]mag$f:q:t     NaN            NaN   \n19                            DIAG:HEALTH     NaN            NaN   \n20   [HUA2ADQ/AIGGIO1$MX$AnIn1$]mag$f:q:t     NaN            NaN   \n21   [HUA2ADQ/AIGGIO1$MX$AnIn2$]mag$f:q:t     NaN            NaN   \n22   [HUA2ADQ/AIGGIO1$MX$AnIn3$]mag$f:q:t     NaN            NaN   \n23   [HUA2ADQ/AIGGIO1$MX$AnIn4$]mag$f:q:t     NaN            NaN   \n24   [HUA2ADQ/AIGGIO1$MX$AnIn5$]mag$f:q:t     NaN            NaN   \n25   [HUA2ADQ/AIGGIO1$MX$AnIn6$]mag$f:q:t     NaN            NaN   \n26   [HUA2ADQ/AIGGIO1$MX$AnIn7$]mag$f:q:t     NaN            NaN   \n27   [HUA2ADQ/AIGGIO1$MX$AnIn8$]mag$f:q:t     NaN            NaN   \n28  [HUA1SYSTEM/LLN0$BR$brcbA01$EntryID$]     NaN            NaN   \n29     [HUA1ADQ/LLN0$BR$brcbA01$EntryID$]     NaN            NaN   \n30  [HUA2SYSTEM/LLN0$BR$brcbA01$EntryID$]     NaN            NaN   \n31     [HUA2ADQ/LLN0$BR$brcbA01$EntryID$]     NaN            NaN   \n\n                           COORDINATES1  THR1  INIT VALUE  BLOCKED  ...  \\\n0                                   NaN   NaN         NaN      NaN  ...   \n1                          COORDINATES1  THR1  INIT VALUE  BLOCKED  ...   \n2   [GTWADQ/AIGGIO1$MX$AnIn1$]mag$f:q:t   1.0         NaN      NaN  ...   \n3   [GTWADQ/AIGGIO1$MX$AnIn2$]mag$f:q:t   1.0         NaN      NaN  ...   \n4   [GTWADQ/AIGGIO1$MX$AnIn3$]mag$f:q:t   1.0         NaN      NaN  ...   \n5   [GTWADQ/AIGGIO1$MX$AnIn4$]mag$f:q:t   1.0         NaN      NaN  ...   \n6   [GTWADQ/AIGGIO1$MX$AnIn5$]mag$f:q:t   1.0         NaN      NaN  ...   \n7   [GTWADQ/AIGGIO1$MX$AnIn6$]mag$f:q:t   1.0         NaN      NaN  ...   \n8   [GTWADQ/AIGGIO1$MX$AnIn7$]mag$f:q:t   1.0         NaN      NaN  ...   \n9   [GTWADQ/AIGGIO1$MX$AnIn8$]mag$f:q:t   1.0         NaN      NaN  ...   \n10                                  NaN   NaN         NaN      NaN  ...   \n11                                  NaN   NaN         NaN      NaN  ...   \n12                                  NaN   NaN         NaN      NaN  ...   \n13                                  NaN   NaN         NaN      NaN  ...   \n14                                  NaN   NaN         NaN      NaN  ...   \n15                                  NaN   NaN         NaN      NaN  ...   \n16                                  NaN   NaN         NaN      NaN  ...   \n17                                  NaN   NaN         NaN      NaN  ...   \n18                                  NaN   NaN         NaN      NaN  ...   \n19                                  NaN   NaN         NaN      NaN  ...   \n20                                  NaN   NaN         NaN      NaN  ...   \n21                                  NaN   NaN         NaN      NaN  ...   \n22                                  NaN   NaN         NaN      NaN  ...   \n23                                  NaN   NaN         NaN      NaN  ...   \n24                                  NaN   NaN         NaN      NaN  ...   \n25                                  NaN   NaN         NaN      NaN  ...   \n26                                  NaN   NaN         NaN      NaN  ...   \n27                                  NaN   NaN         NaN      NaN  ...   \n28                                  NaN   NaN         NaN      NaN  ...   \n29                                  NaN   NaN         NaN      NaN  ...   \n30                                  NaN   NaN         NaN      NaN  ...   \n31                                  NaN   NaN         NaN      NaN  ...   \n\n              CONVERT  MIN RAW  MAX RAW  MIN EGU  MAX EGU  USE ALARM  \\\n0   ENGINEERING UNITS      NaN      NaN      NaN      NaN      ALARM   \n1             CONVERT  MIN RAW  MAX RAW  MIN EGU  MAX EGU  USE ALARM   \n2                 NaN      NaN      NaN      NaN      NaN        NaN   \n3                 NaN      NaN      NaN      NaN      NaN        NaN   \n4                 NaN      NaN      NaN      NaN      NaN        NaN   \n5                 NaN      NaN      NaN      NaN      NaN        NaN   \n6                 NaN      NaN      NaN      NaN      NaN        NaN   \n7                 NaN      NaN      NaN      NaN      NaN        NaN   \n8                 NaN      NaN      NaN      NaN      NaN        NaN   \n9                 NaN      NaN      NaN      NaN      NaN        NaN   \n10                NaN      NaN      NaN      NaN      NaN        NaN   \n11                NaN      NaN      NaN      NaN      NaN        NaN   \n12                NaN      NaN      NaN      NaN      NaN        NaN   \n13                NaN      NaN      NaN      NaN      NaN        NaN   \n14                NaN      NaN      NaN      NaN      NaN        NaN   \n15                NaN      NaN      NaN      NaN      NaN        NaN   \n16                NaN      NaN      NaN      NaN      NaN        NaN   \n17                NaN      NaN      NaN      NaN      NaN        NaN   \n18                NaN      NaN      NaN      NaN      NaN        NaN   \n19                NaN      NaN      NaN      NaN      NaN        NaN   \n20                NaN      NaN      NaN      NaN      NaN        NaN   \n21                NaN      NaN      NaN      NaN      NaN        NaN   \n22                NaN      NaN      NaN      NaN      NaN        NaN   \n23                NaN      NaN      NaN      NaN      NaN        NaN   \n24                NaN      NaN      NaN      NaN      NaN        NaN   \n25                NaN      NaN      NaN      NaN      NaN        NaN   \n26                NaN      NaN      NaN      NaN      NaN        NaN   \n27                NaN      NaN      NaN      NaN      NaN        NaN   \n28                NaN      NaN      NaN      NaN      NaN        NaN   \n29                NaN      NaN      NaN      NaN      NaN        NaN   \n30                NaN      NaN      NaN      NaN      NaN        NaN   \n31                NaN      NaN      NaN      NaN      NaN        NaN   \n\n    LOWEST LIMIT  LOW LIMIT  HIGH LIMIT  HIGHEST LIMIT  \n0            NaN        NaN         NaN            NaN  \n1   LOWEST LIMIT  LOW LIMIT  HIGH LIMIT  HIGHEST LIMIT  \n2            NaN        NaN         NaN            NaN  \n3            NaN        NaN         NaN            NaN  \n4            NaN        NaN         NaN            NaN  \n5            NaN        NaN         NaN            NaN  \n6            NaN        NaN         NaN            NaN  \n7            NaN        NaN         NaN            NaN  \n8            NaN        NaN         NaN            NaN  \n9            NaN        NaN         NaN            NaN  \n10           NaN        NaN         NaN            NaN  \n11           NaN        NaN         NaN            NaN  \n12           NaN        NaN         NaN            NaN  \n13           NaN        NaN         NaN            NaN  \n14           NaN        NaN         NaN            NaN  \n15           NaN        NaN         NaN            NaN  \n16           NaN        NaN         NaN            NaN  \n17           NaN        NaN         NaN            NaN  \n18           NaN        NaN         NaN            NaN  \n19           NaN        NaN         NaN            NaN  \n20           NaN        NaN         NaN            NaN  \n21           NaN        NaN         NaN            NaN  \n22           NaN        NaN         NaN            NaN  \n23           NaN        NaN         NaN            NaN  \n24           NaN        NaN         NaN            NaN  \n25           NaN        NaN         NaN            NaN  \n26           NaN        NaN         NaN            NaN  \n27           NaN        NaN         NaN            NaN  \n28           NaN        NaN         NaN            NaN  \n29           NaN        NaN         NaN            NaN  \n30           NaN        NaN         NaN            NaN  \n31           NaN        NaN         NaN            NaN  \n\n[32 rows x 25 columns]",
      "text/html": "<div>\n<style scoped>\n    .dataframe tbody tr th:only-of-type {\n        vertical-align: middle;\n    }\n\n    .dataframe tbody tr th {\n        vertical-align: top;\n    }\n\n    .dataframe thead th {\n        text-align: right;\n    }\n</style>\n<table border=\"1\" class=\"dataframe\">\n  <thead>\n    <tr style=\"text-align: right;\">\n      <th></th>\n      <th>NAME</th>\n      <th>DESCRIPTION</th>\n      <th>BIN NAME1</th>\n      <th>COORDINATES1</th>\n      <th>VMASK1</th>\n      <th>BIN NAME1</th>\n      <th>COORDINATES1</th>\n      <th>THR1</th>\n      <th>INIT VALUE</th>\n      <th>BLOCKED</th>\n      <th>...</th>\n      <th>CONVERT</th>\n      <th>MIN RAW</th>\n      <th>MAX RAW</th>\n      <th>MIN EGU</th>\n      <th>MAX EGU</th>\n      <th>USE ALARM</th>\n      <th>LOWEST LIMIT</th>\n      <th>LOW LIMIT</th>\n      <th>HIGH LIMIT</th>\n      <th>HIGHEST LIMIT</th>\n    </tr>\n  </thead>\n  <tbody>\n    <tr>\n      <th>0</th>\n      <td>NaN</td>\n      <td>NaN</td>\n      <td>SOURCE 1</td>\n      <td>NaN</td>\n      <td>NaN</td>\n      <td>DESTINATION 1</td>\n      <td>NaN</td>\n      <td>NaN</td>\n      <td>NaN</td>\n      <td>NaN</td>\n      <td>...</td>\n      <td>ENGINEERING UNITS</td>\n      <td>NaN</td>\n      <td>NaN</td>\n      <td>NaN</td>\n      <td>NaN</td>\n      <td>ALARM</td>\n      <td>NaN</td>\n      <td>NaN</td>\n      <td>NaN</td>\n      <td>NaN</td>\n    </tr>\n    <tr>\n      <th>1</th>\n      <td>NAME</td>\n      <td>DESCRIPTION</td>\n      <td>BIN NAME1</td>\n      <td>COORDINATES1</td>\n      <td>VMASK1</td>\n      <td>BIN NAME1</td>\n      <td>COORDINATES1</td>\n      <td>THR1</td>\n      <td>INIT VALUE</td>\n      <td>BLOCKED</td>\n      <td>...</td>\n      <td>CONVERT</td>\n      <td>MIN RAW</td>\n      <td>MAX RAW</td>\n      <td>MIN EGU</td>\n      <td>MAX EGU</td>\n      <td>USE ALARM</td>\n      <td>LOWEST LIMIT</td>\n      <td>LOW LIMIT</td>\n      <td>HIGH LIMIT</td>\n      <td>HIGHEST LIMIT</td>\n    </tr>\n    <tr>\n      <th>2</th>\n      <td>D003_00000</td>\n      <td>AI_PNT_1</td>\n      <td>claq</td>\n      <td>1003010000</td>\n      <td>NaN</td>\n      <td>GTW</td>\n      <td>[GTWADQ/AIGGIO1$MX$AnIn1$]mag$f:q:t</td>\n      <td>1.0</td>\n      <td>NaN</td>\n      <td>NaN</td>\n      <td>...</td>\n      <td>NaN</td>\n      <td>NaN</td>\n      <td>NaN</td>\n      <td>NaN</td>\n      <td>NaN</td>\n      <td>NaN</td>\n      <td>NaN</td>\n      <td>NaN</td>\n      <td>NaN</td>\n      <td>NaN</td>\n    </tr>\n    <tr>\n      <th>3</th>\n      <td>D003_00001</td>\n      <td>AI_PNT_2</td>\n      <td>claq</td>\n      <td>1003010001</td>\n      <td>NaN</td>\n      <td>GTW</td>\n      <td>[GTWADQ/AIGGIO1$MX$AnIn2$]mag$f:q:t</td>\n      <td>1.0</td>\n      <td>NaN</td>\n      <td>NaN</td>\n      <td>...</td>\n      <td>NaN</td>\n      <td>NaN</td>\n      <td>NaN</td>\n      <td>NaN</td>\n      <td>NaN</td>\n      <td>NaN</td>\n      <td>NaN</td>\n      <td>NaN</td>\n      <td>NaN</td>\n      <td>NaN</td>\n    </tr>\n    <tr>\n      <th>4</th>\n      <td>D003_00002</td>\n      <td>AI_PNT_3</td>\n      <td>claq</td>\n      <td>1003010002</td>\n      <td>NaN</td>\n      <td>GTW</td>\n      <td>[GTWADQ/AIGGIO1$MX$AnIn3$]mag$f:q:t</td>\n      <td>1.0</td>\n      <td>NaN</td>\n      <td>NaN</td>\n      <td>...</td>\n      <td>NaN</td>\n      <td>NaN</td>\n      <td>NaN</td>\n      <td>NaN</td>\n      <td>NaN</td>\n      <td>NaN</td>\n      <td>NaN</td>\n      <td>NaN</td>\n      <td>NaN</td>\n      <td>NaN</td>\n    </tr>\n    <tr>\n      <th>5</th>\n      <td>D003_00003</td>\n      <td>AI_PNT_4</td>\n      <td>claq</td>\n      <td>1003010003</td>\n      <td>NaN</td>\n      <td>GTW</td>\n      <td>[GTWADQ/AIGGIO1$MX$AnIn4$]mag$f:q:t</td>\n      <td>1.0</td>\n      <td>NaN</td>\n      <td>NaN</td>\n      <td>...</td>\n      <td>NaN</td>\n      <td>NaN</td>\n      <td>NaN</td>\n      <td>NaN</td>\n      <td>NaN</td>\n      <td>NaN</td>\n      <td>NaN</td>\n      <td>NaN</td>\n      <td>NaN</td>\n      <td>NaN</td>\n    </tr>\n    <tr>\n      <th>6</th>\n      <td>D003_00004</td>\n      <td>AI_PNT_5</td>\n      <td>claq</td>\n      <td>1003010004</td>\n      <td>NaN</td>\n      <td>GTW</td>\n      <td>[GTWADQ/AIGGIO1$MX$AnIn5$]mag$f:q:t</td>\n      <td>1.0</td>\n      <td>NaN</td>\n      <td>NaN</td>\n      <td>...</td>\n      <td>NaN</td>\n      <td>NaN</td>\n      <td>NaN</td>\n      <td>NaN</td>\n      <td>NaN</td>\n      <td>NaN</td>\n      <td>NaN</td>\n      <td>NaN</td>\n      <td>NaN</td>\n      <td>NaN</td>\n    </tr>\n    <tr>\n      <th>7</th>\n      <td>D003_00005</td>\n      <td>AI_PNT_6</td>\n      <td>claq</td>\n      <td>1003010005</td>\n      <td>NaN</td>\n      <td>GTW</td>\n      <td>[GTWADQ/AIGGIO1$MX$AnIn6$]mag$f:q:t</td>\n      <td>1.0</td>\n      <td>NaN</td>\n      <td>NaN</td>\n      <td>...</td>\n      <td>NaN</td>\n      <td>NaN</td>\n      <td>NaN</td>\n      <td>NaN</td>\n      <td>NaN</td>\n      <td>NaN</td>\n      <td>NaN</td>\n      <td>NaN</td>\n      <td>NaN</td>\n      <td>NaN</td>\n    </tr>\n    <tr>\n      <th>8</th>\n      <td>D003_00006</td>\n      <td>AI_PNT_7</td>\n      <td>claq</td>\n      <td>1003010006</td>\n      <td>NaN</td>\n      <td>GTW</td>\n      <td>[GTWADQ/AIGGIO1$MX$AnIn7$]mag$f:q:t</td>\n      <td>1.0</td>\n      <td>NaN</td>\n      <td>NaN</td>\n      <td>...</td>\n      <td>NaN</td>\n      <td>NaN</td>\n      <td>NaN</td>\n      <td>NaN</td>\n      <td>NaN</td>\n      <td>NaN</td>\n      <td>NaN</td>\n      <td>NaN</td>\n      <td>NaN</td>\n      <td>NaN</td>\n    </tr>\n    <tr>\n      <th>9</th>\n      <td>D003_00009</td>\n      <td>AI_PNT_8</td>\n      <td>claq</td>\n      <td>1003010007</td>\n      <td>NaN</td>\n      <td>GTW</td>\n      <td>[GTWADQ/AIGGIO1$MX$AnIn8$]mag$f:q:t</td>\n      <td>1.0</td>\n      <td>NaN</td>\n      <td>NaN</td>\n      <td>...</td>\n      <td>NaN</td>\n      <td>NaN</td>\n      <td>NaN</td>\n      <td>NaN</td>\n      <td>NaN</td>\n      <td>NaN</td>\n      <td>NaN</td>\n      <td>NaN</td>\n      <td>NaN</td>\n      <td>NaN</td>\n    </tr>\n    <tr>\n      <th>10</th>\n      <td>HUA1_HEALTH</td>\n      <td>NaN</td>\n      <td>HUA1</td>\n      <td>DIAG:HEALTH</td>\n      <td>NaN</td>\n      <td>NaN</td>\n      <td>NaN</td>\n      <td>NaN</td>\n      <td>NaN</td>\n      <td>NaN</td>\n      <td>...</td>\n      <td>NaN</td>\n      <td>NaN</td>\n      <td>NaN</td>\n      <td>NaN</td>\n      <td>NaN</td>\n      <td>NaN</td>\n      <td>NaN</td>\n      <td>NaN</td>\n      <td>NaN</td>\n      <td>NaN</td>\n    </tr>\n    <tr>\n      <th>11</th>\n      <td>HUA1_AI_001</td>\n      <td>NaN</td>\n      <td>HUA1</td>\n      <td>[HUA1ADQ/AIGGIO1$MX$AnIn1$]mag$f:q:t</td>\n      <td>NaN</td>\n      <td>NaN</td>\n      <td>NaN</td>\n      <td>NaN</td>\n      <td>NaN</td>\n      <td>NaN</td>\n      <td>...</td>\n      <td>NaN</td>\n      <td>NaN</td>\n      <td>NaN</td>\n      <td>NaN</td>\n      <td>NaN</td>\n      <td>NaN</td>\n      <td>NaN</td>\n      <td>NaN</td>\n      <td>NaN</td>\n      <td>NaN</td>\n    </tr>\n    <tr>\n      <th>12</th>\n      <td>HUA1_AI_002</td>\n      <td>NaN</td>\n      <td>HUA1</td>\n      <td>[HUA1ADQ/AIGGIO1$MX$AnIn2$]mag$f:q:t</td>\n      <td>NaN</td>\n      <td>NaN</td>\n      <td>NaN</td>\n      <td>NaN</td>\n      <td>NaN</td>\n      <td>NaN</td>\n      <td>...</td>\n      <td>NaN</td>\n      <td>NaN</td>\n      <td>NaN</td>\n      <td>NaN</td>\n      <td>NaN</td>\n      <td>NaN</td>\n      <td>NaN</td>\n      <td>NaN</td>\n      <td>NaN</td>\n      <td>NaN</td>\n    </tr>\n    <tr>\n      <th>13</th>\n      <td>HUA1_AI_003</td>\n      <td>NaN</td>\n      <td>HUA1</td>\n      <td>[HUA1ADQ/AIGGIO1$MX$AnIn3$]mag$f:q:t</td>\n      <td>NaN</td>\n      <td>NaN</td>\n      <td>NaN</td>\n      <td>NaN</td>\n      <td>NaN</td>\n      <td>NaN</td>\n      <td>...</td>\n      <td>NaN</td>\n      <td>NaN</td>\n      <td>NaN</td>\n      <td>NaN</td>\n      <td>NaN</td>\n      <td>NaN</td>\n      <td>NaN</td>\n      <td>NaN</td>\n      <td>NaN</td>\n      <td>NaN</td>\n    </tr>\n    <tr>\n      <th>14</th>\n      <td>HUA1_AI_004</td>\n      <td>NaN</td>\n      <td>HUA1</td>\n      <td>[HUA1ADQ/AIGGIO1$MX$AnIn4$]mag$f:q:t</td>\n      <td>NaN</td>\n      <td>NaN</td>\n      <td>NaN</td>\n      <td>NaN</td>\n      <td>NaN</td>\n      <td>NaN</td>\n      <td>...</td>\n      <td>NaN</td>\n      <td>NaN</td>\n      <td>NaN</td>\n      <td>NaN</td>\n      <td>NaN</td>\n      <td>NaN</td>\n      <td>NaN</td>\n      <td>NaN</td>\n      <td>NaN</td>\n      <td>NaN</td>\n    </tr>\n    <tr>\n      <th>15</th>\n      <td>HUA1_AI_005</td>\n      <td>NaN</td>\n      <td>HUA1</td>\n      <td>[HUA1ADQ/AIGGIO1$MX$AnIn5$]mag$f:q:t</td>\n      <td>NaN</td>\n      <td>NaN</td>\n      <td>NaN</td>\n      <td>NaN</td>\n      <td>NaN</td>\n      <td>NaN</td>\n      <td>...</td>\n      <td>NaN</td>\n      <td>NaN</td>\n      <td>NaN</td>\n      <td>NaN</td>\n      <td>NaN</td>\n      <td>NaN</td>\n      <td>NaN</td>\n      <td>NaN</td>\n      <td>NaN</td>\n      <td>NaN</td>\n    </tr>\n    <tr>\n      <th>16</th>\n      <td>HUA1_AI_006</td>\n      <td>NaN</td>\n      <td>HUA1</td>\n      <td>[HUA1ADQ/AIGGIO1$MX$AnIn6$]mag$f:q:t</td>\n      <td>NaN</td>\n      <td>NaN</td>\n      <td>NaN</td>\n      <td>NaN</td>\n      <td>NaN</td>\n      <td>NaN</td>\n      <td>...</td>\n      <td>NaN</td>\n      <td>NaN</td>\n      <td>NaN</td>\n      <td>NaN</td>\n      <td>NaN</td>\n      <td>NaN</td>\n      <td>NaN</td>\n      <td>NaN</td>\n      <td>NaN</td>\n      <td>NaN</td>\n    </tr>\n    <tr>\n      <th>17</th>\n      <td>HUA1_AI_007</td>\n      <td>NaN</td>\n      <td>HUA1</td>\n      <td>[HUA1ADQ/AIGGIO1$MX$AnIn7$]mag$f:q:t</td>\n      <td>NaN</td>\n      <td>NaN</td>\n      <td>NaN</td>\n      <td>NaN</td>\n      <td>NaN</td>\n      <td>NaN</td>\n      <td>...</td>\n      <td>NaN</td>\n      <td>NaN</td>\n      <td>NaN</td>\n      <td>NaN</td>\n      <td>NaN</td>\n      <td>NaN</td>\n      <td>NaN</td>\n      <td>NaN</td>\n      <td>NaN</td>\n      <td>NaN</td>\n    </tr>\n    <tr>\n      <th>18</th>\n      <td>HUA1_AI_008</td>\n      <td>NaN</td>\n      <td>HUA1</td>\n      <td>[HUA1ADQ/AIGGIO1$MX$AnIn8$]mag$f:q:t</td>\n      <td>NaN</td>\n      <td>NaN</td>\n      <td>NaN</td>\n      <td>NaN</td>\n      <td>NaN</td>\n      <td>NaN</td>\n      <td>...</td>\n      <td>NaN</td>\n      <td>NaN</td>\n      <td>NaN</td>\n      <td>NaN</td>\n      <td>NaN</td>\n      <td>NaN</td>\n      <td>NaN</td>\n      <td>NaN</td>\n      <td>NaN</td>\n      <td>NaN</td>\n    </tr>\n    <tr>\n      <th>19</th>\n      <td>HUA2_HEALTH</td>\n      <td>NaN</td>\n      <td>HUA2</td>\n      <td>DIAG:HEALTH</td>\n      <td>NaN</td>\n      <td>NaN</td>\n      <td>NaN</td>\n      <td>NaN</td>\n      <td>NaN</td>\n      <td>NaN</td>\n      <td>...</td>\n      <td>NaN</td>\n      <td>NaN</td>\n      <td>NaN</td>\n      <td>NaN</td>\n      <td>NaN</td>\n      <td>NaN</td>\n      <td>NaN</td>\n      <td>NaN</td>\n      <td>NaN</td>\n      <td>NaN</td>\n    </tr>\n    <tr>\n      <th>20</th>\n      <td>HUA2_AI_001</td>\n      <td>NaN</td>\n      <td>HUA2</td>\n      <td>[HUA2ADQ/AIGGIO1$MX$AnIn1$]mag$f:q:t</td>\n      <td>NaN</td>\n      <td>NaN</td>\n      <td>NaN</td>\n      <td>NaN</td>\n      <td>NaN</td>\n      <td>NaN</td>\n      <td>...</td>\n      <td>NaN</td>\n      <td>NaN</td>\n      <td>NaN</td>\n      <td>NaN</td>\n      <td>NaN</td>\n      <td>NaN</td>\n      <td>NaN</td>\n      <td>NaN</td>\n      <td>NaN</td>\n      <td>NaN</td>\n    </tr>\n    <tr>\n      <th>21</th>\n      <td>HUA2_AI_002</td>\n      <td>NaN</td>\n      <td>HUA2</td>\n      <td>[HUA2ADQ/AIGGIO1$MX$AnIn2$]mag$f:q:t</td>\n      <td>NaN</td>\n      <td>NaN</td>\n      <td>NaN</td>\n      <td>NaN</td>\n      <td>NaN</td>\n      <td>NaN</td>\n      <td>...</td>\n      <td>NaN</td>\n      <td>NaN</td>\n      <td>NaN</td>\n      <td>NaN</td>\n      <td>NaN</td>\n      <td>NaN</td>\n      <td>NaN</td>\n      <td>NaN</td>\n      <td>NaN</td>\n      <td>NaN</td>\n    </tr>\n    <tr>\n      <th>22</th>\n      <td>HUA2_AI_003</td>\n      <td>NaN</td>\n      <td>HUA2</td>\n      <td>[HUA2ADQ/AIGGIO1$MX$AnIn3$]mag$f:q:t</td>\n      <td>NaN</td>\n      <td>NaN</td>\n      <td>NaN</td>\n      <td>NaN</td>\n      <td>NaN</td>\n      <td>NaN</td>\n      <td>...</td>\n      <td>NaN</td>\n      <td>NaN</td>\n      <td>NaN</td>\n      <td>NaN</td>\n      <td>NaN</td>\n      <td>NaN</td>\n      <td>NaN</td>\n      <td>NaN</td>\n      <td>NaN</td>\n      <td>NaN</td>\n    </tr>\n    <tr>\n      <th>23</th>\n      <td>HUA2_AI_004</td>\n      <td>NaN</td>\n      <td>HUA2</td>\n      <td>[HUA2ADQ/AIGGIO1$MX$AnIn4$]mag$f:q:t</td>\n      <td>NaN</td>\n      <td>NaN</td>\n      <td>NaN</td>\n      <td>NaN</td>\n      <td>NaN</td>\n      <td>NaN</td>\n      <td>...</td>\n      <td>NaN</td>\n      <td>NaN</td>\n      <td>NaN</td>\n      <td>NaN</td>\n      <td>NaN</td>\n      <td>NaN</td>\n      <td>NaN</td>\n      <td>NaN</td>\n      <td>NaN</td>\n      <td>NaN</td>\n    </tr>\n    <tr>\n      <th>24</th>\n      <td>HUA2_AI_005</td>\n      <td>NaN</td>\n      <td>HUA2</td>\n      <td>[HUA2ADQ/AIGGIO1$MX$AnIn5$]mag$f:q:t</td>\n      <td>NaN</td>\n      <td>NaN</td>\n      <td>NaN</td>\n      <td>NaN</td>\n      <td>NaN</td>\n      <td>NaN</td>\n      <td>...</td>\n      <td>NaN</td>\n      <td>NaN</td>\n      <td>NaN</td>\n      <td>NaN</td>\n      <td>NaN</td>\n      <td>NaN</td>\n      <td>NaN</td>\n      <td>NaN</td>\n      <td>NaN</td>\n      <td>NaN</td>\n    </tr>\n    <tr>\n      <th>25</th>\n      <td>HUA2_AI_006</td>\n      <td>NaN</td>\n      <td>HUA2</td>\n      <td>[HUA2ADQ/AIGGIO1$MX$AnIn6$]mag$f:q:t</td>\n      <td>NaN</td>\n      <td>NaN</td>\n      <td>NaN</td>\n      <td>NaN</td>\n      <td>NaN</td>\n      <td>NaN</td>\n      <td>...</td>\n      <td>NaN</td>\n      <td>NaN</td>\n      <td>NaN</td>\n      <td>NaN</td>\n      <td>NaN</td>\n      <td>NaN</td>\n      <td>NaN</td>\n      <td>NaN</td>\n      <td>NaN</td>\n      <td>NaN</td>\n    </tr>\n    <tr>\n      <th>26</th>\n      <td>HUA2_AI_007</td>\n      <td>NaN</td>\n      <td>HUA2</td>\n      <td>[HUA2ADQ/AIGGIO1$MX$AnIn7$]mag$f:q:t</td>\n      <td>NaN</td>\n      <td>NaN</td>\n      <td>NaN</td>\n      <td>NaN</td>\n      <td>NaN</td>\n      <td>NaN</td>\n      <td>...</td>\n      <td>NaN</td>\n      <td>NaN</td>\n      <td>NaN</td>\n      <td>NaN</td>\n      <td>NaN</td>\n      <td>NaN</td>\n      <td>NaN</td>\n      <td>NaN</td>\n      <td>NaN</td>\n      <td>NaN</td>\n    </tr>\n    <tr>\n      <th>27</th>\n      <td>HUA2_AI_008</td>\n      <td>NaN</td>\n      <td>HUA2</td>\n      <td>[HUA2ADQ/AIGGIO1$MX$AnIn8$]mag$f:q:t</td>\n      <td>NaN</td>\n      <td>NaN</td>\n      <td>NaN</td>\n      <td>NaN</td>\n      <td>NaN</td>\n      <td>NaN</td>\n      <td>...</td>\n      <td>NaN</td>\n      <td>NaN</td>\n      <td>NaN</td>\n      <td>NaN</td>\n      <td>NaN</td>\n      <td>NaN</td>\n      <td>NaN</td>\n      <td>NaN</td>\n      <td>NaN</td>\n      <td>NaN</td>\n    </tr>\n    <tr>\n      <th>28</th>\n      <td>HUA1_EI_1</td>\n      <td>NaN</td>\n      <td>HUA1</td>\n      <td>[HUA1SYSTEM/LLN0$BR$brcbA01$EntryID$]</td>\n      <td>NaN</td>\n      <td>NaN</td>\n      <td>NaN</td>\n      <td>NaN</td>\n      <td>NaN</td>\n      <td>NaN</td>\n      <td>...</td>\n      <td>NaN</td>\n      <td>NaN</td>\n      <td>NaN</td>\n      <td>NaN</td>\n      <td>NaN</td>\n      <td>NaN</td>\n      <td>NaN</td>\n      <td>NaN</td>\n      <td>NaN</td>\n      <td>NaN</td>\n    </tr>\n    <tr>\n      <th>29</th>\n      <td>HUA1_EI_2</td>\n      <td>NaN</td>\n      <td>HUA1</td>\n      <td>[HUA1ADQ/LLN0$BR$brcbA01$EntryID$]</td>\n      <td>NaN</td>\n      <td>NaN</td>\n      <td>NaN</td>\n      <td>NaN</td>\n      <td>NaN</td>\n      <td>NaN</td>\n      <td>...</td>\n      <td>NaN</td>\n      <td>NaN</td>\n      <td>NaN</td>\n      <td>NaN</td>\n      <td>NaN</td>\n      <td>NaN</td>\n      <td>NaN</td>\n      <td>NaN</td>\n      <td>NaN</td>\n      <td>NaN</td>\n    </tr>\n    <tr>\n      <th>30</th>\n      <td>HUA2_EI_1</td>\n      <td>NaN</td>\n      <td>HUA2</td>\n      <td>[HUA2SYSTEM/LLN0$BR$brcbA01$EntryID$]</td>\n      <td>NaN</td>\n      <td>NaN</td>\n      <td>NaN</td>\n      <td>NaN</td>\n      <td>NaN</td>\n      <td>NaN</td>\n      <td>...</td>\n      <td>NaN</td>\n      <td>NaN</td>\n      <td>NaN</td>\n      <td>NaN</td>\n      <td>NaN</td>\n      <td>NaN</td>\n      <td>NaN</td>\n      <td>NaN</td>\n      <td>NaN</td>\n      <td>NaN</td>\n    </tr>\n    <tr>\n      <th>31</th>\n      <td>HUA2_EI_2</td>\n      <td>NaN</td>\n      <td>HUA2</td>\n      <td>[HUA2ADQ/LLN0$BR$brcbA01$EntryID$]</td>\n      <td>NaN</td>\n      <td>NaN</td>\n      <td>NaN</td>\n      <td>NaN</td>\n      <td>NaN</td>\n      <td>NaN</td>\n      <td>...</td>\n      <td>NaN</td>\n      <td>NaN</td>\n      <td>NaN</td>\n      <td>NaN</td>\n      <td>NaN</td>\n      <td>NaN</td>\n      <td>NaN</td>\n      <td>NaN</td>\n      <td>NaN</td>\n      <td>NaN</td>\n    </tr>\n  </tbody>\n</table>\n<p>32 rows × 25 columns</p>\n</div>"
     },
     "execution_count": 69,
     "metadata": {},
     "output_type": "execute_result"
    }
   ],
   "source": [
    "df2"
   ],
   "metadata": {
    "collapsed": false,
    "pycharm": {
     "name": "#%%\n"
    }
   }
  },
  {
   "cell_type": "code",
   "execution_count": 70,
   "outputs": [],
   "source": [
    "writer = pd.ExcelWriter('DB_DR_T1_V02.xlsx', engine='xlsxwriter')"
   ],
   "metadata": {
    "collapsed": false,
    "pycharm": {
     "name": "#%%\n"
    }
   }
  },
  {
   "cell_type": "code",
   "execution_count": 72,
   "outputs": [],
   "source": [
    "df2.to_excel(writer, sheet_name='Analog', index=False, header=False)"
   ],
   "metadata": {
    "collapsed": false,
    "pycharm": {
     "name": "#%%\n"
    }
   }
  },
  {
   "cell_type": "code",
   "execution_count": 74,
   "outputs": [],
   "source": [
    "df2.to_excel('DB_DR_T1_V02_1.xlsx', sheet_name='Analog1', index=False, header=False)"
   ],
   "metadata": {
    "collapsed": false,
    "pycharm": {
     "name": "#%%\n"
    }
   }
  },
  {
   "cell_type": "code",
   "execution_count": null,
   "outputs": [],
   "source": [],
   "metadata": {
    "collapsed": false,
    "pycharm": {
     "name": "#%%\n"
    }
   }
  },
  {
   "cell_type": "code",
   "execution_count": null,
   "outputs": [],
   "source": [],
   "metadata": {
    "collapsed": false,
    "pycharm": {
     "name": "#%%\n"
    }
   }
  },
  {
   "cell_type": "code",
   "execution_count": null,
   "outputs": [],
   "source": [],
   "metadata": {
    "collapsed": false,
    "pycharm": {
     "name": "#%%\n"
    }
   }
  },
  {
   "cell_type": "code",
   "execution_count": null,
   "outputs": [],
   "source": [],
   "metadata": {
    "collapsed": false,
    "pycharm": {
     "name": "#%%\n"
    }
   }
  },
  {
   "cell_type": "code",
   "execution_count": null,
   "outputs": [],
   "source": [],
   "metadata": {
    "collapsed": false,
    "pycharm": {
     "name": "#%%\n"
    }
   }
  },
  {
   "cell_type": "code",
   "execution_count": null,
   "outputs": [],
   "source": [],
   "metadata": {
    "collapsed": false,
    "pycharm": {
     "name": "#%%\n"
    }
   }
  },
  {
   "cell_type": "code",
   "execution_count": null,
   "outputs": [],
   "source": [],
   "metadata": {
    "collapsed": false,
    "pycharm": {
     "name": "#%%\n"
    }
   }
  },
  {
   "cell_type": "code",
   "execution_count": null,
   "outputs": [],
   "source": [],
   "metadata": {
    "collapsed": false,
    "pycharm": {
     "name": "#%%\n"
    }
   }
  },
  {
   "cell_type": "code",
   "execution_count": null,
   "outputs": [],
   "source": [],
   "metadata": {
    "collapsed": false,
    "pycharm": {
     "name": "#%%\n"
    }
   }
  },
  {
   "cell_type": "code",
   "execution_count": null,
   "outputs": [],
   "source": [],
   "metadata": {
    "collapsed": false,
    "pycharm": {
     "name": "#%%\n"
    }
   }
  },
  {
   "cell_type": "code",
   "execution_count": null,
   "outputs": [],
   "source": [],
   "metadata": {
    "collapsed": false,
    "pycharm": {
     "name": "#%%\n"
    }
   }
  },
  {
   "cell_type": "code",
   "execution_count": null,
   "outputs": [],
   "source": [],
   "metadata": {
    "collapsed": false,
    "pycharm": {
     "name": "#%%\n"
    }
   }
  },
  {
   "cell_type": "code",
   "execution_count": null,
   "outputs": [],
   "source": [],
   "metadata": {
    "collapsed": false,
    "pycharm": {
     "name": "#%%\n"
    }
   }
  },
  {
   "cell_type": "code",
   "execution_count": null,
   "outputs": [],
   "source": [],
   "metadata": {
    "collapsed": false,
    "pycharm": {
     "name": "#%%\n"
    }
   }
  },
  {
   "cell_type": "code",
   "execution_count": null,
   "outputs": [],
   "source": [],
   "metadata": {
    "collapsed": false,
    "pycharm": {
     "name": "#%%\n"
    }
   }
  },
  {
   "cell_type": "code",
   "execution_count": null,
   "outputs": [],
   "source": [],
   "metadata": {
    "collapsed": false,
    "pycharm": {
     "name": "#%%\n"
    }
   }
  },
  {
   "cell_type": "code",
   "execution_count": null,
   "outputs": [],
   "source": [],
   "metadata": {
    "collapsed": false,
    "pycharm": {
     "name": "#%%\n"
    }
   }
  }
 ],
 "metadata": {
  "kernelspec": {
   "display_name": "Python 3",
   "language": "python",
   "name": "python3"
  },
  "language_info": {
   "codemirror_mode": {
    "name": "ipython",
    "version": 2
   },
   "file_extension": ".py",
   "mimetype": "text/x-python",
   "name": "python",
   "nbconvert_exporter": "python",
   "pygments_lexer": "ipython2",
   "version": "2.7.6"
  }
 },
 "nbformat": 4,
 "nbformat_minor": 0
}