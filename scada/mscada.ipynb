{
 "cells": [
  {
   "cell_type": "code",
   "execution_count": 1,
   "metadata": {
    "collapsed": true,
    "pycharm": {
     "name": "#%%\n"
    }
   },
   "outputs": [],
   "source": [
    "import numpy as np\n",
    "import pandas as pd"
   ]
  },
  {
   "cell_type": "code",
   "execution_count": 2,
   "outputs": [],
   "source": [
    "path = r\"c:\\Users\\Alex\\Desktop\\Новая папка (9)\""
   ],
   "metadata": {
    "collapsed": false,
    "pycharm": {
     "name": "#%%\n"
    }
   }
  },
  {
   "cell_type": "code",
   "execution_count": 10,
   "outputs": [
    {
     "data": {
      "text/plain": "   Property~Id элемента~Id Property~Имя~DisplayName  \\\n0                 116097.0                     DI 1   \n1                 116109.0                     DI 2   \n2                 116121.0                     DI 3   \n3                 116188.0                     DI 0   \n4                 116134.0                     DO 1   \n5                 116146.0                     DO 2   \n6                 116158.0                     DO 3   \n7                 116200.0                     DO 0   \n8                      NaN                     DO 4   \n\n                        Property~Полное имя~FullName  \\\n0  Система.АРМ 1.Протоколы.Modbus RTU.Modbus Devi...   \n1  Система.АРМ 1.Протоколы.Modbus RTU.Modbus Devi...   \n2  Система.АРМ 1.Протоколы.Modbus RTU.Modbus Devi...   \n3  Система.АРМ 1.Протоколы.Modbus RTU.Modbus Devi...   \n4  Система.АРМ 1.Протоколы.Modbus RTU.Modbus Devi...   \n5  Система.АРМ 1.Протоколы.Modbus RTU.Modbus Devi...   \n6  Система.АРМ 1.Протоколы.Modbus RTU.Modbus Devi...   \n7  Система.АРМ 1.Протоколы.Modbus RTU.Modbus Devi...   \n8  Система.АРМ 1.Протоколы.Modbus RTU.Modbus Devi...   \n\n  Property~Классификация~ItemTypeDisplayName Property~Тип элемента~ItemType  \n0                 MasterSCADA.System.Channel     MasterSCADA.System.Channel  \n1                 MasterSCADA.System.Channel     MasterSCADA.System.Channel  \n2                 MasterSCADA.System.Channel     MasterSCADA.System.Channel  \n3                 MasterSCADA.System.Channel     MasterSCADA.System.Channel  \n4                 MasterSCADA.System.Channel     MasterSCADA.System.Channel  \n5                 MasterSCADA.System.Channel     MasterSCADA.System.Channel  \n6                 MasterSCADA.System.Channel     MasterSCADA.System.Channel  \n7                 MasterSCADA.System.Channel     MasterSCADA.System.Channel  \n8                 MasterSCADA.System.Channel     MasterSCADA.System.Channel  ",
      "text/html": "<div>\n<style scoped>\n    .dataframe tbody tr th:only-of-type {\n        vertical-align: middle;\n    }\n\n    .dataframe tbody tr th {\n        vertical-align: top;\n    }\n\n    .dataframe thead th {\n        text-align: right;\n    }\n</style>\n<table border=\"1\" class=\"dataframe\">\n  <thead>\n    <tr style=\"text-align: right;\">\n      <th></th>\n      <th>Property~Id элемента~Id</th>\n      <th>Property~Имя~DisplayName</th>\n      <th>Property~Полное имя~FullName</th>\n      <th>Property~Классификация~ItemTypeDisplayName</th>\n      <th>Property~Тип элемента~ItemType</th>\n    </tr>\n  </thead>\n  <tbody>\n    <tr>\n      <th>0</th>\n      <td>116097.0</td>\n      <td>DI 1</td>\n      <td>Система.АРМ 1.Протоколы.Modbus RTU.Modbus Devi...</td>\n      <td>MasterSCADA.System.Channel</td>\n      <td>MasterSCADA.System.Channel</td>\n    </tr>\n    <tr>\n      <th>1</th>\n      <td>116109.0</td>\n      <td>DI 2</td>\n      <td>Система.АРМ 1.Протоколы.Modbus RTU.Modbus Devi...</td>\n      <td>MasterSCADA.System.Channel</td>\n      <td>MasterSCADA.System.Channel</td>\n    </tr>\n    <tr>\n      <th>2</th>\n      <td>116121.0</td>\n      <td>DI 3</td>\n      <td>Система.АРМ 1.Протоколы.Modbus RTU.Modbus Devi...</td>\n      <td>MasterSCADA.System.Channel</td>\n      <td>MasterSCADA.System.Channel</td>\n    </tr>\n    <tr>\n      <th>3</th>\n      <td>116188.0</td>\n      <td>DI 0</td>\n      <td>Система.АРМ 1.Протоколы.Modbus RTU.Modbus Devi...</td>\n      <td>MasterSCADA.System.Channel</td>\n      <td>MasterSCADA.System.Channel</td>\n    </tr>\n    <tr>\n      <th>4</th>\n      <td>116134.0</td>\n      <td>DO 1</td>\n      <td>Система.АРМ 1.Протоколы.Modbus RTU.Modbus Devi...</td>\n      <td>MasterSCADA.System.Channel</td>\n      <td>MasterSCADA.System.Channel</td>\n    </tr>\n    <tr>\n      <th>5</th>\n      <td>116146.0</td>\n      <td>DO 2</td>\n      <td>Система.АРМ 1.Протоколы.Modbus RTU.Modbus Devi...</td>\n      <td>MasterSCADA.System.Channel</td>\n      <td>MasterSCADA.System.Channel</td>\n    </tr>\n    <tr>\n      <th>6</th>\n      <td>116158.0</td>\n      <td>DO 3</td>\n      <td>Система.АРМ 1.Протоколы.Modbus RTU.Modbus Devi...</td>\n      <td>MasterSCADA.System.Channel</td>\n      <td>MasterSCADA.System.Channel</td>\n    </tr>\n    <tr>\n      <th>7</th>\n      <td>116200.0</td>\n      <td>DO 0</td>\n      <td>Система.АРМ 1.Протоколы.Modbus RTU.Modbus Devi...</td>\n      <td>MasterSCADA.System.Channel</td>\n      <td>MasterSCADA.System.Channel</td>\n    </tr>\n    <tr>\n      <th>8</th>\n      <td>NaN</td>\n      <td>DO 4</td>\n      <td>Система.АРМ 1.Протоколы.Modbus RTU.Modbus Devi...</td>\n      <td>MasterSCADA.System.Channel</td>\n      <td>MasterSCADA.System.Channel</td>\n    </tr>\n  </tbody>\n</table>\n</div>"
     },
     "execution_count": 10,
     "metadata": {},
     "output_type": "execute_result"
    }
   ],
   "source": [
    "df = pd.read_csv(path + r\"\\doi.csv\", encoding = 'utf-8', sep = ';', header = 0, index_col = False)\n",
    "df"
   ],
   "metadata": {
    "collapsed": false,
    "pycharm": {
     "name": "#%%\n"
    }
   }
  },
  {
   "cell_type": "code",
   "execution_count": 7,
   "outputs": [],
   "source": [
    "# Добавить строку\n",
    "df.loc[8] = ['', 'DO 4', 'Система.АРМ 1.Протоколы.Modbus RTU.Modbus Device 1.DO.DO 4', 'MasterSCADA.System.Channel', 'MasterSCADA.System.Channel']"
   ],
   "metadata": {
    "collapsed": false,
    "pycharm": {
     "name": "#%%\n"
    }
   }
  },
  {
   "cell_type": "code",
   "execution_count": 8,
   "outputs": [
    {
     "data": {
      "text/plain": "  Property~Id элемента~Id Property~Имя~DisplayName  \\\n0                  116097                     DI 1   \n1                  116109                     DI 2   \n2                  116121                     DI 3   \n3                  116188                     DI 0   \n4                  116134                     DO 1   \n5                  116146                     DO 2   \n6                  116158                     DO 3   \n7                  116200                     DO 0   \n8                                             DO 4   \n\n                        Property~Полное имя~FullName  \\\n0  Система.АРМ 1.Протоколы.Modbus RTU.Modbus Devi...   \n1  Система.АРМ 1.Протоколы.Modbus RTU.Modbus Devi...   \n2  Система.АРМ 1.Протоколы.Modbus RTU.Modbus Devi...   \n3  Система.АРМ 1.Протоколы.Modbus RTU.Modbus Devi...   \n4  Система.АРМ 1.Протоколы.Modbus RTU.Modbus Devi...   \n5  Система.АРМ 1.Протоколы.Modbus RTU.Modbus Devi...   \n6  Система.АРМ 1.Протоколы.Modbus RTU.Modbus Devi...   \n7  Система.АРМ 1.Протоколы.Modbus RTU.Modbus Devi...   \n8  Система.АРМ 1.Протоколы.Modbus RTU.Modbus Devi...   \n\n  Property~Классификация~ItemTypeDisplayName Property~Тип элемента~ItemType  \n0                 MasterSCADA.System.Channel     MasterSCADA.System.Channel  \n1                 MasterSCADA.System.Channel     MasterSCADA.System.Channel  \n2                 MasterSCADA.System.Channel     MasterSCADA.System.Channel  \n3                 MasterSCADA.System.Channel     MasterSCADA.System.Channel  \n4                 MasterSCADA.System.Channel     MasterSCADA.System.Channel  \n5                 MasterSCADA.System.Channel     MasterSCADA.System.Channel  \n6                 MasterSCADA.System.Channel     MasterSCADA.System.Channel  \n7                 MasterSCADA.System.Channel     MasterSCADA.System.Channel  \n8                 MasterSCADA.System.Channel     MasterSCADA.System.Channel  ",
      "text/html": "<div>\n<style scoped>\n    .dataframe tbody tr th:only-of-type {\n        vertical-align: middle;\n    }\n\n    .dataframe tbody tr th {\n        vertical-align: top;\n    }\n\n    .dataframe thead th {\n        text-align: right;\n    }\n</style>\n<table border=\"1\" class=\"dataframe\">\n  <thead>\n    <tr style=\"text-align: right;\">\n      <th></th>\n      <th>Property~Id элемента~Id</th>\n      <th>Property~Имя~DisplayName</th>\n      <th>Property~Полное имя~FullName</th>\n      <th>Property~Классификация~ItemTypeDisplayName</th>\n      <th>Property~Тип элемента~ItemType</th>\n    </tr>\n  </thead>\n  <tbody>\n    <tr>\n      <th>0</th>\n      <td>116097</td>\n      <td>DI 1</td>\n      <td>Система.АРМ 1.Протоколы.Modbus RTU.Modbus Devi...</td>\n      <td>MasterSCADA.System.Channel</td>\n      <td>MasterSCADA.System.Channel</td>\n    </tr>\n    <tr>\n      <th>1</th>\n      <td>116109</td>\n      <td>DI 2</td>\n      <td>Система.АРМ 1.Протоколы.Modbus RTU.Modbus Devi...</td>\n      <td>MasterSCADA.System.Channel</td>\n      <td>MasterSCADA.System.Channel</td>\n    </tr>\n    <tr>\n      <th>2</th>\n      <td>116121</td>\n      <td>DI 3</td>\n      <td>Система.АРМ 1.Протоколы.Modbus RTU.Modbus Devi...</td>\n      <td>MasterSCADA.System.Channel</td>\n      <td>MasterSCADA.System.Channel</td>\n    </tr>\n    <tr>\n      <th>3</th>\n      <td>116188</td>\n      <td>DI 0</td>\n      <td>Система.АРМ 1.Протоколы.Modbus RTU.Modbus Devi...</td>\n      <td>MasterSCADA.System.Channel</td>\n      <td>MasterSCADA.System.Channel</td>\n    </tr>\n    <tr>\n      <th>4</th>\n      <td>116134</td>\n      <td>DO 1</td>\n      <td>Система.АРМ 1.Протоколы.Modbus RTU.Modbus Devi...</td>\n      <td>MasterSCADA.System.Channel</td>\n      <td>MasterSCADA.System.Channel</td>\n    </tr>\n    <tr>\n      <th>5</th>\n      <td>116146</td>\n      <td>DO 2</td>\n      <td>Система.АРМ 1.Протоколы.Modbus RTU.Modbus Devi...</td>\n      <td>MasterSCADA.System.Channel</td>\n      <td>MasterSCADA.System.Channel</td>\n    </tr>\n    <tr>\n      <th>6</th>\n      <td>116158</td>\n      <td>DO 3</td>\n      <td>Система.АРМ 1.Протоколы.Modbus RTU.Modbus Devi...</td>\n      <td>MasterSCADA.System.Channel</td>\n      <td>MasterSCADA.System.Channel</td>\n    </tr>\n    <tr>\n      <th>7</th>\n      <td>116200</td>\n      <td>DO 0</td>\n      <td>Система.АРМ 1.Протоколы.Modbus RTU.Modbus Devi...</td>\n      <td>MasterSCADA.System.Channel</td>\n      <td>MasterSCADA.System.Channel</td>\n    </tr>\n    <tr>\n      <th>8</th>\n      <td></td>\n      <td>DO 4</td>\n      <td>Система.АРМ 1.Протоколы.Modbus RTU.Modbus Devi...</td>\n      <td>MasterSCADA.System.Channel</td>\n      <td>MasterSCADA.System.Channel</td>\n    </tr>\n  </tbody>\n</table>\n</div>"
     },
     "execution_count": 8,
     "metadata": {},
     "output_type": "execute_result"
    }
   ],
   "source": [
    "df"
   ],
   "metadata": {
    "collapsed": false,
    "pycharm": {
     "name": "#%%\n"
    }
   }
  },
  {
   "cell_type": "code",
   "execution_count": 9,
   "outputs": [],
   "source": [
    "df.to_csv(path + r\"\\doi.csv\", encoding = 'utf-8', sep = ';', header = True, index = False)"
   ],
   "metadata": {
    "collapsed": false,
    "pycharm": {
     "name": "#%%\n"
    }
   }
  },
  {
   "cell_type": "code",
   "execution_count": 6,
   "outputs": [
    {
     "data": {
      "text/plain": "Property~Id элемента~Id                                                                  116158\nProperty~Имя~DisplayName                                                                   DO 3\nProperty~Полное имя~FullName                  Система.АРМ 1.Протоколы.Modbus RTU.Modbus Devi...\nProperty~Классификация~ItemTypeDisplayName                           MasterSCADA.System.Channel\nProperty~Тип элемента~ItemType                                       MasterSCADA.System.Channel\nName: 6, dtype: object"
     },
     "execution_count": 6,
     "metadata": {},
     "output_type": "execute_result"
    }
   ],
   "source": [
    "df.loc[6]"
   ],
   "metadata": {
    "collapsed": false,
    "pycharm": {
     "name": "#%%\n"
    }
   }
  }
 ],
 "metadata": {
  "kernelspec": {
   "display_name": "Python 3",
   "language": "python",
   "name": "python3"
  },
  "language_info": {
   "codemirror_mode": {
    "name": "ipython",
    "version": 2
   },
   "file_extension": ".py",
   "mimetype": "text/x-python",
   "name": "python",
   "nbconvert_exporter": "python",
   "pygments_lexer": "ipython2",
   "version": "2.7.6"
  }
 },
 "nbformat": 4,
 "nbformat_minor": 0
}