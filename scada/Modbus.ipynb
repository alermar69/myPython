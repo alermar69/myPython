{
 "cells": [
  {
   "cell_type": "code",
   "execution_count": 3,
   "metadata": {
    "collapsed": true,
    "ExecuteTime": {
     "start_time": "2024-03-05T16:11:40.493840Z",
     "end_time": "2024-03-05T16:11:40.513842Z"
    }
   },
   "outputs": [],
   "source": [
    "import pymodbus.client as ModbusClient\n",
    "from pymodbus import Framer"
   ]
  },
  {
   "cell_type": "code",
   "execution_count": 19,
   "outputs": [],
   "source": [
    "client = ModbusClient.ModbusSerialClient(\n",
    "            'COM15',\n",
    "            framer=Framer.RTU,\n",
    "            # timeout=10,\n",
    "            # retries=3,\n",
    "            # retry_on_empty=False,\n",
    "            # strict=True,\n",
    "            baudrate=19200,\n",
    "            bytesize=8,\n",
    "            parity=\"E\",\n",
    "            stopbits=1,\n",
    "            # handle_local_echo=False,\n",
    "        )"
   ],
   "metadata": {
    "collapsed": false,
    "ExecuteTime": {
     "start_time": "2024-03-06T00:11:21.295998Z",
     "end_time": "2024-03-06T00:11:21.323002Z"
    }
   }
  },
  {
   "cell_type": "code",
   "execution_count": 20,
   "outputs": [
    {
     "name": "stderr",
     "output_type": "stream",
     "text": [
      "could not open port 'COM15': PermissionError(13, 'Отказано в доступе.', None, 5)\n"
     ]
    },
    {
     "data": {
      "text/plain": "False"
     },
     "execution_count": 20,
     "metadata": {},
     "output_type": "execute_result"
    }
   ],
   "source": [
    "client.connect()"
   ],
   "metadata": {
    "collapsed": false,
    "ExecuteTime": {
     "start_time": "2024-03-06T00:11:22.263274Z",
     "end_time": "2024-03-06T00:11:22.293800Z"
    }
   }
  },
  {
   "cell_type": "code",
   "execution_count": null,
   "outputs": [],
   "source": [],
   "metadata": {
    "collapsed": false
   }
  },
  {
   "cell_type": "code",
   "execution_count": null,
   "outputs": [],
   "source": [
    "client = ModbusClient.AsyncModbusTcpClient(\n",
    "            'DESKTOP-SFHJLGK',\n",
    "            port=502,\n",
    "            framer=Framer.,\n",
    "            # timeout=10,\n",
    "            # retries=3,\n",
    "            # retry_on_empty=False,\n",
    "            # source_address=(\"localhost\", 0),\n",
    "        )"
   ],
   "metadata": {
    "collapsed": false
   }
  },
  {
   "cell_type": "code",
   "execution_count": 12,
   "outputs": [
    {
     "ename": "TypeError",
     "evalue": "'module' object is not callable",
     "output_type": "error",
     "traceback": [
      "\u001B[1;31m---------------------------------------------------------------------------\u001B[0m",
      "\u001B[1;31mTypeError\u001B[0m                                 Traceback (most recent call last)",
      "Cell \u001B[1;32mIn[12], line 1\u001B[0m\n\u001B[1;32m----> 1\u001B[0m \u001B[38;5;28;01mwith\u001B[39;00m \u001B[43mModbusClient\u001B[49m\u001B[43m(\u001B[49m\u001B[38;5;124;43m\"\u001B[39;49m\u001B[38;5;124;43m127.0.0.1\u001B[39;49m\u001B[38;5;124;43m\"\u001B[39;49m\u001B[43m)\u001B[49m \u001B[38;5;28;01mas\u001B[39;00m client:\n\u001B[0;32m      2\u001B[0m     result \u001B[38;5;241m=\u001B[39m client\u001B[38;5;241m.\u001B[39mread_coils(\u001B[38;5;241m1\u001B[39m,\u001B[38;5;241m10\u001B[39m)\n\u001B[0;32m      3\u001B[0m     \u001B[38;5;28mprint\u001B[39m(result)\n",
      "\u001B[1;31mTypeError\u001B[0m: 'module' object is not callable"
     ]
    }
   ],
   "source": [
    "with ModbusClient(\"127.0.0.1\") as client:\n",
    "    result = client.read_coils(1,10)\n",
    "    print(result)"
   ],
   "metadata": {
    "collapsed": false
   }
  },
  {
   "cell_type": "code",
   "execution_count": 18,
   "outputs": [
    {
     "name": "stdout",
     "output_type": "stream",
     "text": [
      "True\n"
     ]
    }
   ],
   "source": [
    "from pymodbus.client import ModbusTcpClient\n",
    "client = ModbusTcpClient('127.0.0.1')\n",
    "client.write_coil(1, True)\n",
    "result = client.read_coils(1,1)\n",
    "print(result.bits[0])\n",
    "client.close()"
   ],
   "metadata": {
    "collapsed": false,
    "ExecuteTime": {
     "start_time": "2024-03-05T16:21:53.940042Z",
     "end_time": "2024-03-05T16:21:54.120083Z"
    }
   }
  },
  {
   "cell_type": "code",
   "execution_count": null,
   "outputs": [],
   "source": [],
   "metadata": {
    "collapsed": false
   }
  },
  {
   "cell_type": "code",
   "execution_count": null,
   "outputs": [],
   "source": [],
   "metadata": {
    "collapsed": false
   }
  },
  {
   "cell_type": "code",
   "execution_count": null,
   "outputs": [],
   "source": [],
   "metadata": {
    "collapsed": false
   }
  },
  {
   "cell_type": "code",
   "execution_count": null,
   "outputs": [],
   "source": [],
   "metadata": {
    "collapsed": false
   }
  },
  {
   "cell_type": "code",
   "execution_count": null,
   "outputs": [],
   "source": [],
   "metadata": {
    "collapsed": false
   }
  },
  {
   "cell_type": "code",
   "execution_count": null,
   "outputs": [],
   "source": [],
   "metadata": {
    "collapsed": false
   }
  },
  {
   "cell_type": "code",
   "execution_count": null,
   "outputs": [],
   "source": [],
   "metadata": {
    "collapsed": false
   }
  },
  {
   "cell_type": "code",
   "execution_count": null,
   "outputs": [],
   "source": [],
   "metadata": {
    "collapsed": false
   }
  },
  {
   "cell_type": "code",
   "execution_count": null,
   "outputs": [],
   "source": [],
   "metadata": {
    "collapsed": false
   }
  }
 ],
 "metadata": {
  "kernelspec": {
   "display_name": "Python 3",
   "language": "python",
   "name": "python3"
  },
  "language_info": {
   "codemirror_mode": {
    "name": "ipython",
    "version": 2
   },
   "file_extension": ".py",
   "mimetype": "text/x-python",
   "name": "python",
   "nbconvert_exporter": "python",
   "pygments_lexer": "ipython2",
   "version": "2.7.6"
  }
 },
 "nbformat": 4,
 "nbformat_minor": 0
}
