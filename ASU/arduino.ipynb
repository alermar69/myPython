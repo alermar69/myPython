{
 "cells": [
  {
   "cell_type": "code",
   "execution_count": null,
   "outputs": [],
   "source": [
    "from pyfirmata import Arduino, util\n",
    "import time\n",
    "import serial\n",
    "import pandas as pd"
   ],
   "metadata": {
    "collapsed": false,
    "pycharm": {
     "name": "#%%\n",
     "is_executing": true
    }
   }
  },
  {
   "cell_type": "code",
   "execution_count": null,
   "outputs": [],
   "source": [
    "board = Arduino('COM5')"
   ],
   "metadata": {
    "collapsed": false,
    "pycharm": {
     "name": "#%%\n"
    }
   }
  },
  {
   "cell_type": "code",
   "execution_count": null,
   "outputs": [],
   "source": [
    "it = util.Iterator(board)\n",
    "it.start()"
   ],
   "metadata": {
    "collapsed": false,
    "pycharm": {
     "name": "#%%\n"
    }
   }
  },
  {
   "cell_type": "code",
   "execution_count": null,
   "outputs": [],
   "source": [
    "# Первый способ чтение с анологового входа (фоторезистор)\n",
    "analog_0 = board.get_pin('a:0:i')"
   ],
   "metadata": {
    "collapsed": false,
    "pycharm": {
     "name": "#%%\n"
    }
   }
  },
  {
   "cell_type": "code",
   "execution_count": null,
   "outputs": [],
   "source": [
    "while True:\n",
    "    print(analog_0.read())\n",
    "    time.sleep(1)"
   ],
   "metadata": {
    "collapsed": false,
    "pycharm": {
     "name": "#%%\n"
    }
   }
  },
  {
   "cell_type": "code",
   "execution_count": null,
   "outputs": [],
   "source": [
    "# Второй способ чтение с анологового входа (фоторезистор)\n",
    "board.analog[0].enable_reporting()"
   ],
   "metadata": {
    "collapsed": false,
    "pycharm": {
     "name": "#%%\n"
    }
   }
  },
  {
   "cell_type": "code",
   "execution_count": null,
   "outputs": [],
   "source": [
    "ls = []\n",
    "while True:\n",
    "    val = board.analog[0].read()\n",
    "    ls.append(val)\n",
    "    print(val)\n",
    "    time.sleep(1)"
   ],
   "metadata": {
    "collapsed": false,
    "pycharm": {
     "name": "#%%\n"
    }
   }
  },
  {
   "cell_type": "code",
   "execution_count": null,
   "outputs": [],
   "source": [
    "df = pd.DataFrame(ls)\n",
    "df"
   ],
   "metadata": {
    "collapsed": false,
    "pycharm": {
     "name": "#%%\n"
    }
   }
  },
  {
   "cell_type": "code",
   "execution_count": null,
   "outputs": [],
   "source": [],
   "metadata": {
    "collapsed": false,
    "pycharm": {
     "name": "#%%\n"
    }
   }
  },
  {
   "cell_type": "code",
   "execution_count": null,
   "outputs": [],
   "source": [],
   "metadata": {
    "collapsed": false,
    "pycharm": {
     "name": "#%%\n"
    }
   }
  },
  {
   "cell_type": "code",
   "execution_count": null,
   "outputs": [],
   "source": [
    "it = util.Iterator(board)\n",
    "it.start()\n",
    "analog_0 = board.get_pin('a:0:i')\n",
    "while True:\n",
    "    print(analog_0.read())\n",
    "    time.sleep(1)"
   ],
   "metadata": {
    "collapsed": false,
    "pycharm": {
     "name": "#%%\n"
    }
   }
  },
  {
   "cell_type": "code",
   "execution_count": null,
   "outputs": [],
   "source": [],
   "metadata": {
    "collapsed": false,
    "pycharm": {
     "name": "#%%\n"
    }
   }
  },
  {
   "cell_type": "code",
   "execution_count": null,
   "outputs": [],
   "source": [
    "board.digital[13].write(0)"
   ],
   "metadata": {
    "collapsed": false,
    "pycharm": {
     "name": "#%%\n"
    }
   }
  },
  {
   "cell_type": "code",
   "execution_count": null,
   "outputs": [],
   "source": [],
   "metadata": {
    "collapsed": false,
    "pycharm": {
     "name": "#%%\n"
    }
   }
  },
  {
   "cell_type": "code",
   "execution_count": null,
   "outputs": [],
   "source": [],
   "metadata": {
    "collapsed": false,
    "pycharm": {
     "name": "#%%\n"
    }
   }
  },
  {
   "cell_type": "code",
   "execution_count": null,
   "outputs": [],
   "source": [],
   "metadata": {
    "collapsed": false,
    "pycharm": {
     "name": "#%%\n"
    }
   }
  },
  {
   "cell_type": "code",
   "execution_count": null,
   "outputs": [],
   "source": [],
   "metadata": {
    "collapsed": false,
    "pycharm": {
     "name": "#%%\n"
    }
   }
  },
  {
   "cell_type": "code",
   "execution_count": null,
   "outputs": [],
   "source": [
    "board.analog[0].read()"
   ],
   "metadata": {
    "collapsed": false,
    "pycharm": {
     "name": "#%%\n"
    }
   }
  },
  {
   "cell_type": "code",
   "execution_count": null,
   "outputs": [],
   "source": [
    "pin1 = board.get_pin('a:0:p')"
   ],
   "metadata": {
    "collapsed": false,
    "pycharm": {
     "name": "#%%\n"
    }
   }
  },
  {
   "cell_type": "code",
   "execution_count": null,
   "outputs": [],
   "source": [
    "pin1.read()"
   ],
   "metadata": {
    "collapsed": false,
    "pycharm": {
     "name": "#%%\n"
    }
   }
  },
  {
   "cell_type": "code",
   "execution_count": null,
   "outputs": [],
   "source": [
    "pin3 = board.get_pin('d:13:p')"
   ],
   "metadata": {
    "collapsed": false,
    "pycharm": {
     "name": "#%%\n"
    }
   }
  },
  {
   "cell_type": "code",
   "execution_count": null,
   "outputs": [],
   "source": [
    "pin3.write(1)"
   ],
   "metadata": {
    "collapsed": false,
    "pycharm": {
     "name": "#%%\n"
    }
   }
  },
  {
   "cell_type": "code",
   "execution_count": null,
   "outputs": [],
   "source": [
    "pin3.write(0)"
   ],
   "metadata": {
    "collapsed": false,
    "pycharm": {
     "name": "#%%\n"
    }
   }
  },
  {
   "cell_type": "code",
   "execution_count": null,
   "outputs": [],
   "source": [
    "while True:\n",
    "    pin3.write(1)\n",
    "    time.sleep(2)\n",
    "    pin3.write(0)\n",
    "    time.sleep(2)"
   ],
   "metadata": {
    "collapsed": false,
    "pycharm": {
     "name": "#%%\n"
    }
   }
  },
  {
   "cell_type": "code",
   "execution_count": null,
   "outputs": [],
   "source": [],
   "metadata": {
    "collapsed": false,
    "pycharm": {
     "name": "#%%\n"
    }
   }
  },
  {
   "cell_type": "code",
   "execution_count": null,
   "outputs": [],
   "source": [],
   "metadata": {
    "collapsed": false,
    "pycharm": {
     "name": "#%%\n"
    }
   }
  },
  {
   "cell_type": "code",
   "execution_count": null,
   "outputs": [],
   "source": [
    "import serial"
   ],
   "metadata": {
    "collapsed": false,
    "pycharm": {
     "name": "#%%\n"
    }
   }
  },
  {
   "cell_type": "code",
   "execution_count": null,
   "outputs": [],
   "source": [
    "ser = serial.Serial('COM5', 9600)"
   ],
   "metadata": {
    "collapsed": false,
    "pycharm": {
     "name": "#%%\n"
    }
   }
  },
  {
   "cell_type": "code",
   "execution_count": null,
   "outputs": [],
   "source": [
    "ser_bytes = ser.readline()"
   ],
   "metadata": {
    "collapsed": false,
    "pycharm": {
     "name": "#%%\n"
    }
   }
  },
  {
   "cell_type": "code",
   "execution_count": 7,
   "outputs": [],
   "source": [
    "# Второй способ чтение с анологового входа (фоторезистор)\n",
    "board.analog[0].enable_reporting()"
   ],
   "metadata": {
    "collapsed": false,
    "ExecuteTime": {
     "start_time": "2023-12-09T17:15:52.784264Z",
     "end_time": "2023-12-09T17:15:52.798265Z"
    },
    "pycharm": {
     "name": "#%%\n"
    }
   }
  },
  {
   "cell_type": "code",
   "execution_count": 10,
   "outputs": [
    {
     "name": "stdout",
     "output_type": "stream",
     "text": [
      "0.1398\n",
      "0.1398\n",
      "0.1398\n",
      "0.1398\n",
      "0.1398\n",
      "0.1408\n",
      "0.1408\n",
      "0.1818\n",
      "0.1359\n",
      "0.1378\n",
      "0.1359\n",
      "0.1486\n",
      "0.1281\n",
      "0.045\n",
      "0.0411\n",
      "0.043\n",
      "0.0401\n",
      "0.0401\n",
      "0.0538\n",
      "0.1515\n",
      "0.2854\n",
      "0.5318\n",
      "0.8319\n",
      "0.8573\n",
      "0.8524\n",
      "0.5318\n",
      "0.5826\n",
      "0.7586\n",
      "0.7253\n",
      "0.1818\n",
      "0.1486\n",
      "0.1408\n",
      "0.1388\n",
      "0.1398\n",
      "0.1398\n",
      "0.1408\n",
      "0.1408\n",
      "0.1408\n",
      "0.1408\n"
     ]
    },
    {
     "ename": "KeyboardInterrupt",
     "evalue": "",
     "output_type": "error",
     "traceback": [
      "\u001B[1;31m---------------------------------------------------------------------------\u001B[0m",
      "\u001B[1;31mKeyboardInterrupt\u001B[0m                         Traceback (most recent call last)",
      "Cell \u001B[1;32mIn[10], line 6\u001B[0m\n\u001B[0;32m      4\u001B[0m ls\u001B[38;5;241m.\u001B[39mappend(val)\n\u001B[0;32m      5\u001B[0m \u001B[38;5;28mprint\u001B[39m(val)\n\u001B[1;32m----> 6\u001B[0m \u001B[43mtime\u001B[49m\u001B[38;5;241;43m.\u001B[39;49m\u001B[43msleep\u001B[49m\u001B[43m(\u001B[49m\u001B[38;5;241;43m1\u001B[39;49m\u001B[43m)\u001B[49m\n",
      "\u001B[1;31mKeyboardInterrupt\u001B[0m: "
     ]
    }
   ],
   "source": [
    "ls = []\n",
    "while True:\n",
    "    val = board.analog[0].read()\n",
    "    ls.append(val)\n",
    "    print(val)\n",
    "    time.sleep(1)"
   ],
   "metadata": {
    "collapsed": false,
    "pycharm": {
     "name": "#%%\n"
    }
   }
  },
  {
   "cell_type": "code",
   "execution_count": 12,
   "outputs": [
    {
     "data": {
      "text/plain": "         0\n0   0.1398\n1   0.1398\n2   0.1398\n3   0.1398\n4   0.1398\n5   0.1408\n6   0.1408\n7   0.1818\n8   0.1359\n9   0.1378\n10  0.1359\n11  0.1486\n12  0.1281\n13  0.0450\n14  0.0411\n15  0.0430\n16  0.0401\n17  0.0401\n18  0.0538\n19  0.1515\n20  0.2854\n21  0.5318\n22  0.8319\n23  0.8573\n24  0.8524\n25  0.5318\n26  0.5826\n27  0.7586\n28  0.7253\n29  0.1818\n30  0.1486\n31  0.1408\n32  0.1388\n33  0.1398\n34  0.1398\n35  0.1408\n36  0.1408\n37  0.1408\n38  0.1408",
      "text/html": "<div>\n<style scoped>\n    .dataframe tbody tr th:only-of-type {\n        vertical-align: middle;\n    }\n\n    .dataframe tbody tr th {\n        vertical-align: top;\n    }\n\n    .dataframe thead th {\n        text-align: right;\n    }\n</style>\n<table border=\"1\" class=\"dataframe\">\n  <thead>\n    <tr style=\"text-align: right;\">\n      <th></th>\n      <th>0</th>\n    </tr>\n  </thead>\n  <tbody>\n    <tr>\n      <th>0</th>\n      <td>0.1398</td>\n    </tr>\n    <tr>\n      <th>1</th>\n      <td>0.1398</td>\n    </tr>\n    <tr>\n      <th>2</th>\n      <td>0.1398</td>\n    </tr>\n    <tr>\n      <th>3</th>\n      <td>0.1398</td>\n    </tr>\n    <tr>\n      <th>4</th>\n      <td>0.1398</td>\n    </tr>\n    <tr>\n      <th>5</th>\n      <td>0.1408</td>\n    </tr>\n    <tr>\n      <th>6</th>\n      <td>0.1408</td>\n    </tr>\n    <tr>\n      <th>7</th>\n      <td>0.1818</td>\n    </tr>\n    <tr>\n      <th>8</th>\n      <td>0.1359</td>\n    </tr>\n    <tr>\n      <th>9</th>\n      <td>0.1378</td>\n    </tr>\n    <tr>\n      <th>10</th>\n      <td>0.1359</td>\n    </tr>\n    <tr>\n      <th>11</th>\n      <td>0.1486</td>\n    </tr>\n    <tr>\n      <th>12</th>\n      <td>0.1281</td>\n    </tr>\n    <tr>\n      <th>13</th>\n      <td>0.0450</td>\n    </tr>\n    <tr>\n      <th>14</th>\n      <td>0.0411</td>\n    </tr>\n    <tr>\n      <th>15</th>\n      <td>0.0430</td>\n    </tr>\n    <tr>\n      <th>16</th>\n      <td>0.0401</td>\n    </tr>\n    <tr>\n      <th>17</th>\n      <td>0.0401</td>\n    </tr>\n    <tr>\n      <th>18</th>\n      <td>0.0538</td>\n    </tr>\n    <tr>\n      <th>19</th>\n      <td>0.1515</td>\n    </tr>\n    <tr>\n      <th>20</th>\n      <td>0.2854</td>\n    </tr>\n    <tr>\n      <th>21</th>\n      <td>0.5318</td>\n    </tr>\n    <tr>\n      <th>22</th>\n      <td>0.8319</td>\n    </tr>\n    <tr>\n      <th>23</th>\n      <td>0.8573</td>\n    </tr>\n    <tr>\n      <th>24</th>\n      <td>0.8524</td>\n    </tr>\n    <tr>\n      <th>25</th>\n      <td>0.5318</td>\n    </tr>\n    <tr>\n      <th>26</th>\n      <td>0.5826</td>\n    </tr>\n    <tr>\n      <th>27</th>\n      <td>0.7586</td>\n    </tr>\n    <tr>\n      <th>28</th>\n      <td>0.7253</td>\n    </tr>\n    <tr>\n      <th>29</th>\n      <td>0.1818</td>\n    </tr>\n    <tr>\n      <th>30</th>\n      <td>0.1486</td>\n    </tr>\n    <tr>\n      <th>31</th>\n      <td>0.1408</td>\n    </tr>\n    <tr>\n      <th>32</th>\n      <td>0.1388</td>\n    </tr>\n    <tr>\n      <th>33</th>\n      <td>0.1398</td>\n    </tr>\n    <tr>\n      <th>34</th>\n      <td>0.1398</td>\n    </tr>\n    <tr>\n      <th>35</th>\n      <td>0.1408</td>\n    </tr>\n    <tr>\n      <th>36</th>\n      <td>0.1408</td>\n    </tr>\n    <tr>\n      <th>37</th>\n      <td>0.1408</td>\n    </tr>\n    <tr>\n      <th>38</th>\n      <td>0.1408</td>\n    </tr>\n  </tbody>\n</table>\n</div>"
     },
     "execution_count": 12,
     "metadata": {},
     "output_type": "execute_result"
    }
   ],
   "source": [
    "df = pd.DataFrame(ls)\n",
    "df"
   ],
   "metadata": {
    "collapsed": false,
    "ExecuteTime": {
     "start_time": "2023-12-09T17:21:32.819987Z",
     "end_time": "2023-12-09T17:21:32.845991Z"
    },
    "pycharm": {
     "name": "#%%\n"
    }
   }
  },
  {
   "cell_type": "code",
   "execution_count": null,
   "outputs": [],
   "source": [],
   "metadata": {
    "collapsed": false,
    "pycharm": {
     "name": "#%%\n"
    }
   }
  },
  {
   "cell_type": "code",
   "execution_count": null,
   "outputs": [],
   "source": [],
   "metadata": {
    "collapsed": false,
    "pycharm": {
     "name": "#%%\n"
    }
   }
  },
  {
   "cell_type": "code",
   "execution_count": 6,
   "outputs": [
    {
     "ename": "PinAlreadyTakenError",
     "evalue": "analog pin 0 is already taken on COM5",
     "output_type": "error",
     "traceback": [
      "\u001B[1;31m---------------------------------------------------------------------------\u001B[0m",
      "\u001B[1;31mPinAlreadyTakenError\u001B[0m                      Traceback (most recent call last)",
      "Cell \u001B[1;32mIn[6], line 3\u001B[0m\n\u001B[0;32m      1\u001B[0m it \u001B[38;5;241m=\u001B[39m util\u001B[38;5;241m.\u001B[39mIterator(board)\n\u001B[0;32m      2\u001B[0m it\u001B[38;5;241m.\u001B[39mstart()\n\u001B[1;32m----> 3\u001B[0m analog_0 \u001B[38;5;241m=\u001B[39m \u001B[43mboard\u001B[49m\u001B[38;5;241;43m.\u001B[39;49m\u001B[43mget_pin\u001B[49m\u001B[43m(\u001B[49m\u001B[38;5;124;43m'\u001B[39;49m\u001B[38;5;124;43ma:0:i\u001B[39;49m\u001B[38;5;124;43m'\u001B[39;49m\u001B[43m)\u001B[49m\n\u001B[0;32m      4\u001B[0m \u001B[38;5;28;01mwhile\u001B[39;00m \u001B[38;5;28;01mTrue\u001B[39;00m:\n\u001B[0;32m      5\u001B[0m     \u001B[38;5;28mprint\u001B[39m(analog_0\u001B[38;5;241m.\u001B[39mread())\n",
      "File \u001B[1;32mF:\\IT\\IT\\PR\\myPython\\venv\\lib\\site-packages\\pyfirmata\\pyfirmata.py:225\u001B[0m, in \u001B[0;36mBoard.get_pin\u001B[1;34m(self, pin_def)\u001B[0m\n\u001B[0;32m    221\u001B[0m     \u001B[38;5;28;01mraise\u001B[39;00m InvalidPinDefError(\u001B[38;5;124m'\u001B[39m\u001B[38;5;124mInvalid pin definition: \u001B[39m\u001B[38;5;124m'\u001B[39m\n\u001B[0;32m    222\u001B[0m                              \u001B[38;5;124m'\u001B[39m\u001B[38;5;124mUNAVAILABLE pin \u001B[39m\u001B[38;5;132;01m{0}\u001B[39;00m\u001B[38;5;124m at position on \u001B[39m\u001B[38;5;132;01m{1}\u001B[39;00m\u001B[38;5;124m'\u001B[39m\n\u001B[0;32m    223\u001B[0m                              \u001B[38;5;241m.\u001B[39mformat(pin_def, \u001B[38;5;28mself\u001B[39m\u001B[38;5;241m.\u001B[39mname))\n\u001B[0;32m    224\u001B[0m \u001B[38;5;28;01mif\u001B[39;00m \u001B[38;5;28mself\u001B[39m\u001B[38;5;241m.\u001B[39mtaken[a_d][pin_nr]:\n\u001B[1;32m--> 225\u001B[0m     \u001B[38;5;28;01mraise\u001B[39;00m PinAlreadyTakenError(\u001B[38;5;124m'\u001B[39m\u001B[38;5;132;01m{0}\u001B[39;00m\u001B[38;5;124m pin \u001B[39m\u001B[38;5;132;01m{1}\u001B[39;00m\u001B[38;5;124m is already taken on \u001B[39m\u001B[38;5;132;01m{2}\u001B[39;00m\u001B[38;5;124m'\u001B[39m\n\u001B[0;32m    226\u001B[0m                                \u001B[38;5;241m.\u001B[39mformat(a_d, bits[\u001B[38;5;241m1\u001B[39m], \u001B[38;5;28mself\u001B[39m\u001B[38;5;241m.\u001B[39mname))\n\u001B[0;32m    227\u001B[0m \u001B[38;5;66;03m# ok, should be available\u001B[39;00m\n\u001B[0;32m    228\u001B[0m pin \u001B[38;5;241m=\u001B[39m part[pin_nr]\n",
      "\u001B[1;31mPinAlreadyTakenError\u001B[0m: analog pin 0 is already taken on COM5"
     ]
    }
   ],
   "source": [
    "it = util.Iterator(board)\n",
    "it.start()\n",
    "analog_0 = board.get_pin('a:0:i')\n",
    "while True:\n",
    "    print(analog_0.read())\n",
    "    time.sleep(1)"
   ],
   "metadata": {
    "collapsed": false,
    "pycharm": {
     "name": "#%%\n"
    }
   }
  },
  {
   "cell_type": "code",
   "execution_count": null,
   "outputs": [],
   "source": [],
   "metadata": {
    "collapsed": false,
    "pycharm": {
     "name": "#%%\n"
    }
   }
  },
  {
   "cell_type": "code",
   "execution_count": 4,
   "metadata": {
    "collapsed": false,
    "jupyter": {
     "outputs_hidden": false
    },
    "ExecuteTime": {
     "start_time": "2023-12-09T17:02:44.822118Z",
     "end_time": "2023-12-09T17:02:44.833119Z"
    },
    "pycharm": {
     "name": "#%%\n"
    }
   },
   "outputs": [],
   "source": [
    "board.digital[13].write(0)"
   ]
  },
  {
   "cell_type": "code",
   "execution_count": null,
   "outputs": [],
   "source": [],
   "metadata": {
    "collapsed": false,
    "pycharm": {
     "name": "#%%\n"
    }
   }
  },
  {
   "cell_type": "code",
   "execution_count": null,
   "outputs": [],
   "source": [],
   "metadata": {
    "collapsed": false,
    "pycharm": {
     "name": "#%%\n"
    }
   }
  },
  {
   "cell_type": "code",
   "execution_count": null,
   "outputs": [],
   "source": [],
   "metadata": {
    "collapsed": false,
    "pycharm": {
     "name": "#%%\n"
    }
   }
  },
  {
   "cell_type": "code",
   "execution_count": null,
   "outputs": [],
   "source": [],
   "metadata": {
    "collapsed": false,
    "pycharm": {
     "name": "#%%\n"
    }
   }
  },
  {
   "cell_type": "code",
   "execution_count": 20,
   "outputs": [],
   "source": [
    "board.analog[0].read()"
   ],
   "metadata": {
    "collapsed": false,
    "ExecuteTime": {
     "start_time": "2023-12-09T15:07:08.464742Z",
     "end_time": "2023-12-09T15:07:08.479742Z"
    },
    "pycharm": {
     "name": "#%%\n"
    }
   }
  },
  {
   "cell_type": "code",
   "execution_count": 12,
   "outputs": [],
   "source": [
    "pin1 = board.get_pin('a:0:p')"
   ],
   "metadata": {
    "collapsed": false,
    "ExecuteTime": {
     "start_time": "2023-12-09T15:03:39.274454Z",
     "end_time": "2023-12-09T15:03:39.292455Z"
    },
    "pycharm": {
     "name": "#%%\n"
    }
   }
  },
  {
   "cell_type": "code",
   "execution_count": 15,
   "outputs": [],
   "source": [
    "pin1.read()"
   ],
   "metadata": {
    "collapsed": false,
    "ExecuteTime": {
     "start_time": "2023-12-09T15:04:57.341596Z",
     "end_time": "2023-12-09T15:04:57.358598Z"
    },
    "pycharm": {
     "name": "#%%\n"
    }
   }
  },
  {
   "cell_type": "code",
   "execution_count": 8,
   "metadata": {
    "collapsed": false,
    "jupyter": {
     "outputs_hidden": false
    },
    "ExecuteTime": {
     "start_time": "2023-12-09T14:14:43.715809Z",
     "end_time": "2023-12-09T14:14:43.763815Z"
    },
    "pycharm": {
     "name": "#%%\n"
    }
   },
   "outputs": [
    {
     "ename": "PinAlreadyTakenError",
     "evalue": "digital pin 13 is already taken on COM5",
     "output_type": "error",
     "traceback": [
      "\u001B[1;31m---------------------------------------------------------------------------\u001B[0m",
      "\u001B[1;31mPinAlreadyTakenError\u001B[0m                      Traceback (most recent call last)",
      "Cell \u001B[1;32mIn[8], line 1\u001B[0m\n\u001B[1;32m----> 1\u001B[0m pin3 \u001B[38;5;241m=\u001B[39m \u001B[43mboard\u001B[49m\u001B[38;5;241;43m.\u001B[39;49m\u001B[43mget_pin\u001B[49m\u001B[43m(\u001B[49m\u001B[38;5;124;43m'\u001B[39;49m\u001B[38;5;124;43md:13:p\u001B[39;49m\u001B[38;5;124;43m'\u001B[39;49m\u001B[43m)\u001B[49m\n",
      "File \u001B[1;32mF:\\IT\\IT\\PR\\myPython\\venv\\lib\\site-packages\\pyfirmata\\pyfirmata.py:225\u001B[0m, in \u001B[0;36mBoard.get_pin\u001B[1;34m(self, pin_def)\u001B[0m\n\u001B[0;32m    221\u001B[0m     \u001B[38;5;28;01mraise\u001B[39;00m InvalidPinDefError(\u001B[38;5;124m'\u001B[39m\u001B[38;5;124mInvalid pin definition: \u001B[39m\u001B[38;5;124m'\u001B[39m\n\u001B[0;32m    222\u001B[0m                              \u001B[38;5;124m'\u001B[39m\u001B[38;5;124mUNAVAILABLE pin \u001B[39m\u001B[38;5;132;01m{0}\u001B[39;00m\u001B[38;5;124m at position on \u001B[39m\u001B[38;5;132;01m{1}\u001B[39;00m\u001B[38;5;124m'\u001B[39m\n\u001B[0;32m    223\u001B[0m                              \u001B[38;5;241m.\u001B[39mformat(pin_def, \u001B[38;5;28mself\u001B[39m\u001B[38;5;241m.\u001B[39mname))\n\u001B[0;32m    224\u001B[0m \u001B[38;5;28;01mif\u001B[39;00m \u001B[38;5;28mself\u001B[39m\u001B[38;5;241m.\u001B[39mtaken[a_d][pin_nr]:\n\u001B[1;32m--> 225\u001B[0m     \u001B[38;5;28;01mraise\u001B[39;00m PinAlreadyTakenError(\u001B[38;5;124m'\u001B[39m\u001B[38;5;132;01m{0}\u001B[39;00m\u001B[38;5;124m pin \u001B[39m\u001B[38;5;132;01m{1}\u001B[39;00m\u001B[38;5;124m is already taken on \u001B[39m\u001B[38;5;132;01m{2}\u001B[39;00m\u001B[38;5;124m'\u001B[39m\n\u001B[0;32m    226\u001B[0m                                \u001B[38;5;241m.\u001B[39mformat(a_d, bits[\u001B[38;5;241m1\u001B[39m], \u001B[38;5;28mself\u001B[39m\u001B[38;5;241m.\u001B[39mname))\n\u001B[0;32m    227\u001B[0m \u001B[38;5;66;03m# ok, should be available\u001B[39;00m\n\u001B[0;32m    228\u001B[0m pin \u001B[38;5;241m=\u001B[39m part[pin_nr]\n",
      "\u001B[1;31mPinAlreadyTakenError\u001B[0m: digital pin 13 is already taken on COM5"
     ]
    }
   ],
   "source": [
    "pin3 = board.get_pin('d:13:p')"
   ]
  },
  {
   "cell_type": "code",
   "execution_count": 6,
   "metadata": {
    "collapsed": false,
    "jupyter": {
     "outputs_hidden": false
    },
    "ExecuteTime": {
     "start_time": "2023-12-09T14:19:43.611345Z",
     "end_time": "2023-12-09T14:19:43.622345Z"
    },
    "pycharm": {
     "name": "#%%\n"
    }
   },
   "outputs": [
    {
     "ename": "NameError",
     "evalue": "name 'pin3' is not defined",
     "output_type": "error",
     "traceback": [
      "\u001B[1;31m---------------------------------------------------------------------------\u001B[0m",
      "\u001B[1;31mNameError\u001B[0m                                 Traceback (most recent call last)",
      "Cell \u001B[1;32mIn[6], line 1\u001B[0m\n\u001B[1;32m----> 1\u001B[0m \u001B[43mpin3\u001B[49m\u001B[38;5;241m.\u001B[39mwrite(\u001B[38;5;241m1\u001B[39m)\n",
      "\u001B[1;31mNameError\u001B[0m: name 'pin3' is not defined"
     ]
    }
   ],
   "source": [
    "pin3.write(1)"
   ]
  },
  {
   "cell_type": "code",
   "execution_count": 18,
   "outputs": [],
   "source": [
    "pin3.write(0)"
   ],
   "metadata": {
    "collapsed": false,
    "ExecuteTime": {
     "start_time": "2023-12-09T14:23:36.180002Z",
     "end_time": "2023-12-09T14:23:36.206009Z"
    },
    "pycharm": {
     "name": "#%%\n"
    }
   }
  },
  {
   "cell_type": "code",
   "execution_count": 17,
   "outputs": [
    {
     "ename": "KeyboardInterrupt",
     "evalue": "",
     "output_type": "error",
     "traceback": [
      "\u001B[1;31m---------------------------------------------------------------------------\u001B[0m",
      "\u001B[1;31mKeyboardInterrupt\u001B[0m                         Traceback (most recent call last)",
      "Cell \u001B[1;32mIn[17], line 3\u001B[0m\n\u001B[0;32m      1\u001B[0m \u001B[38;5;28;01mwhile\u001B[39;00m \u001B[38;5;28;01mTrue\u001B[39;00m:\n\u001B[0;32m      2\u001B[0m     pin3\u001B[38;5;241m.\u001B[39mwrite(\u001B[38;5;241m1\u001B[39m)\n\u001B[1;32m----> 3\u001B[0m     \u001B[43mtime\u001B[49m\u001B[38;5;241;43m.\u001B[39;49m\u001B[43msleep\u001B[49m\u001B[43m(\u001B[49m\u001B[38;5;241;43m2\u001B[39;49m\u001B[43m)\u001B[49m\n\u001B[0;32m      4\u001B[0m     pin3\u001B[38;5;241m.\u001B[39mwrite(\u001B[38;5;241m0\u001B[39m)\n\u001B[0;32m      5\u001B[0m     time\u001B[38;5;241m.\u001B[39msleep(\u001B[38;5;241m2\u001B[39m)\n",
      "\u001B[1;31mKeyboardInterrupt\u001B[0m: "
     ]
    }
   ],
   "source": [
    "while True:\n",
    "    pin3.write(1)\n",
    "    time.sleep(2)\n",
    "    pin3.write(0)\n",
    "    time.sleep(2)"
   ],
   "metadata": {
    "collapsed": false,
    "pycharm": {
     "name": "#%%\n"
    }
   }
  },
  {
   "cell_type": "code",
   "execution_count": null,
   "outputs": [],
   "source": [],
   "metadata": {
    "collapsed": false,
    "pycharm": {
     "name": "#%%\n"
    }
   }
  },
  {
   "cell_type": "code",
   "execution_count": null,
   "outputs": [],
   "source": [],
   "metadata": {
    "collapsed": false,
    "pycharm": {
     "name": "#%%\n"
    }
   }
  },
  {
   "cell_type": "code",
   "execution_count": 2,
   "outputs": [],
   "source": [
    "import serial"
   ],
   "metadata": {
    "collapsed": false,
    "ExecuteTime": {
     "start_time": "2023-12-09T14:40:20.498378Z",
     "end_time": "2023-12-09T14:40:20.505376Z"
    },
    "pycharm": {
     "name": "#%%\n"
    }
   }
  },
  {
   "cell_type": "code",
   "execution_count": 3,
   "outputs": [],
   "source": [
    "ser = serial.Serial('COM5', 9600)"
   ],
   "metadata": {
    "collapsed": false,
    "ExecuteTime": {
     "start_time": "2023-12-09T14:40:21.306104Z",
     "end_time": "2023-12-09T14:40:21.333108Z"
    },
    "pycharm": {
     "name": "#%%\n"
    }
   }
  },
  {
   "cell_type": "code",
   "execution_count": null,
   "outputs": [],
   "source": [
    "ser_bytes = ser.readline()"
   ],
   "metadata": {
    "collapsed": false,
    "pycharm": {
     "name": "#%%\n"
    }
   }
  }
 ],
 "metadata": {
  "kernelspec": {
   "display_name": "Python 3 (ipykernel)",
   "language": "python",
   "name": "python3"
  },
  "language_info": {
   "codemirror_mode": {
    "name": "ipython",
    "version": 3
   },
   "file_extension": ".py",
   "mimetype": "text/x-python",
   "name": "python",
   "nbconvert_exporter": "python",
   "pygments_lexer": "ipython3",
   "version": "3.10.0"
  }
 },
 "nbformat": 4,
 "nbformat_minor": 4
}
