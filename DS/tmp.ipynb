{
 "cells": [
  {
   "cell_type": "code",
   "execution_count": 1,
   "outputs": [],
   "source": [
    "import numpy as np\n",
    "import pandas as pd\n",
    "import matplotlib.pyplot as plt"
   ],
   "metadata": {
    "collapsed": false,
    "pycharm": {
     "name": "#%%\n"
    }
   }
  },
  {
   "cell_type": "code",
   "execution_count": 2,
   "outputs": [],
   "source": [
    "streetlights = np.array([[1,0,1],\n",
    "                         [0,1,1],\n",
    "                         [0,0,1],\n",
    "                         [1,1,1],\n",
    "                         [0,1,1],\n",
    "                         [1,0,1]])"
   ],
   "metadata": {
    "collapsed": false,
    "pycharm": {
     "name": "#%%\n"
    }
   }
  },
  {
   "cell_type": "code",
   "execution_count": 3,
   "outputs": [],
   "source": [
    "walk_vs_stop = np.array([0,1,0,1,1,0])"
   ],
   "metadata": {
    "collapsed": false,
    "pycharm": {
     "name": "#%%\n"
    }
   }
  },
  {
   "cell_type": "code",
   "execution_count": 79,
   "outputs": [],
   "source": [
    "weights = np.array([0.5,0.48,-0.7])\n",
    "alpha = 0.1\n",
    "input = streetlights[0]\n",
    "goal_prediction = walk_vs_stop[0]\n",
    "\n",
    "ls = []\n",
    "\n",
    "for iteration in range(100):\n",
    "    prediction = input.dot(weights)\n",
    "    error = (prediction - goal_prediction) ** 2\n",
    "    delta = prediction - goal_prediction\n",
    "    weights = weights - (alpha * (input * delta))\n",
    "    # print(\"Error:\" + str(error) + \" Prediction:\" + str(prediction))\n",
    "    ls.append([error, prediction, *weights])\n",
    "    # print(f\"Error: {error:2f} Prediction: {prediction:2f}\")\n",
    "\n",
    "df = pd.DataFrame(ls, columns=['error', 'prediction', 'w1', 'w2', 'w3'])\n",
    "df\n"
   ],
   "metadata": {
    "collapsed": false,
    "pycharm": {
     "name": "#%%\n"
    }
   }
  },
  {
   "cell_type": "code",
   "execution_count": 89,
   "outputs": [
    {
     "data": {
      "text/plain": "        error                                         prediction  \\\n0   78.257430  [[-1.16572724]\\n [-0.55912226]\\n [-0.99977125]...   \n1    5.983377  [[-0.34261912  0.55738088 -0.34261912  0.55738...   \n2    4.652473  [[-0.24234523  0.71765477 -0.24234523  0.71765...   \n3    3.860685  [[-0.19752389  0.76847611 -0.19752389  0.76847...   \n4    3.245006  [[-0.16357181  0.80482819 -0.16357181  0.80482...   \n..        ...                                                ...   \n95   0.000017  [[-9.46514123e-05  9.99829330e-01 -9.46514123e...   \n96   0.000015  [[-8.85832746e-05  9.99840272e-01 -8.85832746e...   \n97   0.000013  [[-8.29041710e-05  9.99850512e-01 -8.29041710e...   \n98   0.000011  [[-7.75891595e-05  9.99860096e-01 -7.75891595e...   \n99   0.000010  [[-7.26148971e-05  9.99869065e-01 -7.26148971e...   \n\n                                                   w1  \\\n0   [0.13969728300476508, 0.4396972830047652, 0.13...   \n1   [0.17998489131441459, 0.47998489131441463, 0.1...   \n2   [0.1958672534332954, 0.47786725343329545, 0.19...   \n3   [0.2044795192337639, 0.46847951923376396, 0.20...   \n4   [0.20825657145123286, 0.45533657145123296, 0.2...   \n..                                                ...   \n95  [0.0007404572288831217, 0.0013351480160469732,...   \n96  [0.000692986458210677, 0.0012495515561827832, ...   \n97  [0.0006485590395616272, 0.0011694426903039025,...   \n98  [0.0006069798641361367, 0.0010944696090000828,...   \n99  [0.000568066331416159, 0.0010243030572355551, ...   \n\n                                                   w2  \\\n0   [0.6249812649880996, 0.9249812649880996, 0.624...   \n1   [0.5682120769010822, 0.8682120769010822, 0.568...   \n2   [0.5064490019026295, 0.7884490019026295, 0.506...   \n3   [0.4529449180092312, 0.7169449180092312, 0.452...   \n4   [0.40702889047160673, 0.6541088904716067, 0.40...   \n..                                                ...   \n95  [0.0007404575305618722, 0.0013351483177257263,...   \n96  [0.0006929866995536775, 0.0012495517975257776,...   \n97  [0.0006485592326360276, 0.001169442883378308, ...   \n98  [0.0006069800185956569, 0.0010944697634596215,...   \n99  [0.0005680664549837753, 0.0010243031808031824,...   \n\n                                                   w3  \n0   [-0.4823163990329633, 0.11768360096703678, -0....  \n1   [-0.4223301240110447, 0.23766987598895528, -0....  \n2   [-0.3933911400690669, 0.29060885993093305, -0....  \n3   [-0.3680513326284042, 0.33634866737159574, -0....  \n4   [-0.3444478642242602, 0.3789121357757398, -0.3...  \n..                                                ...  \n95  [-0.0008290405034955968, 0.9985051240775917, -...  \n96  [-0.0007758906292317369, 0.9986009607309049, -...  \n97  [-0.0007261481990220012, 0.9986906532862494, -...  \n98  [-0.0006795947612680969, 0.9987745956423951, -...  \n99  [-0.0006360258693267768, 0.9988531564452201, -...  \n\n[100 rows x 5 columns]",
      "text/html": "<div>\n<style scoped>\n    .dataframe tbody tr th:only-of-type {\n        vertical-align: middle;\n    }\n\n    .dataframe tbody tr th {\n        vertical-align: top;\n    }\n\n    .dataframe thead th {\n        text-align: right;\n    }\n</style>\n<table border=\"1\" class=\"dataframe\">\n  <thead>\n    <tr style=\"text-align: right;\">\n      <th></th>\n      <th>error</th>\n      <th>prediction</th>\n      <th>w1</th>\n      <th>w2</th>\n      <th>w3</th>\n    </tr>\n  </thead>\n  <tbody>\n    <tr>\n      <th>0</th>\n      <td>78.257430</td>\n      <td>[[-1.16572724]\\n [-0.55912226]\\n [-0.99977125]...</td>\n      <td>[0.13969728300476508, 0.4396972830047652, 0.13...</td>\n      <td>[0.6249812649880996, 0.9249812649880996, 0.624...</td>\n      <td>[-0.4823163990329633, 0.11768360096703678, -0....</td>\n    </tr>\n    <tr>\n      <th>1</th>\n      <td>5.983377</td>\n      <td>[[-0.34261912  0.55738088 -0.34261912  0.55738...</td>\n      <td>[0.17998489131441459, 0.47998489131441463, 0.1...</td>\n      <td>[0.5682120769010822, 0.8682120769010822, 0.568...</td>\n      <td>[-0.4223301240110447, 0.23766987598895528, -0....</td>\n    </tr>\n    <tr>\n      <th>2</th>\n      <td>4.652473</td>\n      <td>[[-0.24234523  0.71765477 -0.24234523  0.71765...</td>\n      <td>[0.1958672534332954, 0.47786725343329545, 0.19...</td>\n      <td>[0.5064490019026295, 0.7884490019026295, 0.506...</td>\n      <td>[-0.3933911400690669, 0.29060885993093305, -0....</td>\n    </tr>\n    <tr>\n      <th>3</th>\n      <td>3.860685</td>\n      <td>[[-0.19752389  0.76847611 -0.19752389  0.76847...</td>\n      <td>[0.2044795192337639, 0.46847951923376396, 0.20...</td>\n      <td>[0.4529449180092312, 0.7169449180092312, 0.452...</td>\n      <td>[-0.3680513326284042, 0.33634866737159574, -0....</td>\n    </tr>\n    <tr>\n      <th>4</th>\n      <td>3.245006</td>\n      <td>[[-0.16357181  0.80482819 -0.16357181  0.80482...</td>\n      <td>[0.20825657145123286, 0.45533657145123296, 0.2...</td>\n      <td>[0.40702889047160673, 0.6541088904716067, 0.40...</td>\n      <td>[-0.3444478642242602, 0.3789121357757398, -0.3...</td>\n    </tr>\n    <tr>\n      <th>...</th>\n      <td>...</td>\n      <td>...</td>\n      <td>...</td>\n      <td>...</td>\n      <td>...</td>\n    </tr>\n    <tr>\n      <th>95</th>\n      <td>0.000017</td>\n      <td>[[-9.46514123e-05  9.99829330e-01 -9.46514123e...</td>\n      <td>[0.0007404572288831217, 0.0013351480160469732,...</td>\n      <td>[0.0007404575305618722, 0.0013351483177257263,...</td>\n      <td>[-0.0008290405034955968, 0.9985051240775917, -...</td>\n    </tr>\n    <tr>\n      <th>96</th>\n      <td>0.000015</td>\n      <td>[[-8.85832746e-05  9.99840272e-01 -8.85832746e...</td>\n      <td>[0.000692986458210677, 0.0012495515561827832, ...</td>\n      <td>[0.0006929866995536775, 0.0012495517975257776,...</td>\n      <td>[-0.0007758906292317369, 0.9986009607309049, -...</td>\n    </tr>\n    <tr>\n      <th>97</th>\n      <td>0.000013</td>\n      <td>[[-8.29041710e-05  9.99850512e-01 -8.29041710e...</td>\n      <td>[0.0006485590395616272, 0.0011694426903039025,...</td>\n      <td>[0.0006485592326360276, 0.001169442883378308, ...</td>\n      <td>[-0.0007261481990220012, 0.9986906532862494, -...</td>\n    </tr>\n    <tr>\n      <th>98</th>\n      <td>0.000011</td>\n      <td>[[-7.75891595e-05  9.99860096e-01 -7.75891595e...</td>\n      <td>[0.0006069798641361367, 0.0010944696090000828,...</td>\n      <td>[0.0006069800185956569, 0.0010944697634596215,...</td>\n      <td>[-0.0006795947612680969, 0.9987745956423951, -...</td>\n    </tr>\n    <tr>\n      <th>99</th>\n      <td>0.000010</td>\n      <td>[[-7.26148971e-05  9.99869065e-01 -7.26148971e...</td>\n      <td>[0.000568066331416159, 0.0010243030572355551, ...</td>\n      <td>[0.0005680664549837753, 0.0010243031808031824,...</td>\n      <td>[-0.0006360258693267768, 0.9988531564452201, -...</td>\n    </tr>\n  </tbody>\n</table>\n<p>100 rows × 5 columns</p>\n</div>"
     },
     "execution_count": 89,
     "metadata": {},
     "output_type": "execute_result"
    }
   ],
   "source": [
    "ls = []\n",
    "# weights = np.array([0.5,0.48,-0.7])\n",
    "np.random.seed(1)\n",
    "weights = 2 * np.random.random((3,1)) - 1\n",
    "\n",
    "for iteration in range(100):\n",
    "    prediction = streetlights.dot(weights)\n",
    "    error = (prediction - walk_vs_stop) ** 2\n",
    "    delta = prediction - walk_vs_stop\n",
    "    weights = weights - (alpha * np.dot(streetlights.T, delta))\n",
    "    # if iteration % 10 == 0:\n",
    "    #     ls.append([np.sum(error),str(prediction), *weights])\n",
    "    ls.append([np.sum(error),str(prediction), *weights])\n",
    "    # print(\"Error:\" + str(np.sum(error)) + \" Prediction:\" + str(prediction))\n",
    "df = pd.DataFrame(ls, columns=['error', 'prediction', 'w1', 'w2', 'w3'])\n",
    "df"
   ],
   "metadata": {
    "collapsed": false,
    "pycharm": {
     "name": "#%%\n"
    }
   }
  },
  {
   "cell_type": "code",
   "execution_count": 91,
   "outputs": [
    {
     "data": {
      "text/plain": "<AxesSubplot: >"
     },
     "execution_count": 91,
     "metadata": {},
     "output_type": "execute_result"
    },
    {
     "data": {
      "text/plain": "<Figure size 432x288 with 1 Axes>",
      "image/png": "[encoded data removed]"
     },
     "metadata": {
      "needs_background": "light"
     },
     "output_type": "display_data"
    }
   ],
   "source": [
    "df['error'][:20].plot()"
   ],
   "metadata": {
    "collapsed": false,
    "pycharm": {
     "name": "#%%\n"
    }
   }
  },
  {
   "cell_type": "code",
   "execution_count": 92,
   "outputs": [],
   "source": [
    "from sklearn.datasets import load_digits"
   ],
   "metadata": {
    "collapsed": false,
    "pycharm": {
     "name": "#%%\n"
    }
   }
  },
  {
   "cell_type": "code",
   "execution_count": 93,
   "outputs": [],
   "source": [
    "digits = load_digits()"
   ],
   "metadata": {
    "collapsed": false,
    "pycharm": {
     "name": "#%%\n"
    }
   }
  },
  {
   "cell_type": "code",
   "execution_count": 94,
   "outputs": [
    {
     "data": {
      "text/plain": "(1797, 64)"
     },
     "execution_count": 94,
     "metadata": {},
     "output_type": "execute_result"
    }
   ],
   "source": [
    "digits.data.shape"
   ],
   "metadata": {
    "collapsed": false,
    "pycharm": {
     "name": "#%%\n"
    }
   }
  },
  {
   "cell_type": "code",
   "execution_count": 95,
   "outputs": [
    {
     "data": {
      "text/plain": "(1797,)"
     },
     "execution_count": 95,
     "metadata": {},
     "output_type": "execute_result"
    }
   ],
   "source": [
    "digits.target.shape"
   ],
   "metadata": {
    "collapsed": false,
    "pycharm": {
     "name": "#%%\n"
    }
   }
  },
  {
   "cell_type": "code",
   "execution_count": 96,
   "outputs": [
    {
     "data": {
      "text/plain": "(1797, 8, 8)"
     },
     "execution_count": 96,
     "metadata": {},
     "output_type": "execute_result"
    }
   ],
   "source": [
    "digits.images.shape"
   ],
   "metadata": {
    "collapsed": false,
    "pycharm": {
     "name": "#%%\n"
    }
   }
  },
  {
   "cell_type": "code",
   "execution_count": 97,
   "outputs": [
    {
     "data": {
      "text/plain": "<matplotlib.image.AxesImage at 0x24b1526b8b0>"
     },
     "execution_count": 97,
     "metadata": {},
     "output_type": "execute_result"
    },
    {
     "data": {
      "text/plain": "<Figure size 432x288 with 1 Axes>",
      "image/png": "[encoded data removed]"
     },
     "metadata": {
      "needs_background": "light"
     },
     "output_type": "display_data"
    }
   ],
   "source": [
    "plt.imshow(digits.images[0], cmap=plt.cm.gray_r)"
   ],
   "metadata": {
    "collapsed": false,
    "pycharm": {
     "name": "#%%\n"
    }
   }
  },
  {
   "cell_type": "code",
   "execution_count": 98,
   "outputs": [
    {
     "data": {
      "text/plain": "0"
     },
     "execution_count": 98,
     "metadata": {},
     "output_type": "execute_result"
    }
   ],
   "source": [
    "digits.target[0]"
   ],
   "metadata": {
    "collapsed": false,
    "pycharm": {
     "name": "#%%\n"
    }
   }
  },
  {
   "cell_type": "code",
   "execution_count": 99,
   "outputs": [],
   "source": [
    "from sklearn.model_selection import train_test_split"
   ],
   "metadata": {
    "collapsed": false,
    "pycharm": {
     "name": "#%%\n"
    }
   }
  },
  {
   "cell_type": "code",
   "execution_count": 100,
   "outputs": [],
   "source": [
    "X_train, X_test, y_train, y_test = train_test_split(digits.data, digits.target, test_size=0.2, random_state=42)"
   ],
   "metadata": {
    "collapsed": false,
    "pycharm": {
     "name": "#%%\n"
    }
   }
  },
  {
   "cell_type": "code",
   "execution_count": 101,
   "outputs": [
    {
     "data": {
      "text/plain": "(1437, 64)"
     },
     "execution_count": 101,
     "metadata": {},
     "output_type": "execute_result"
    }
   ],
   "source": [
    "X_train.shape"
   ],
   "metadata": {
    "collapsed": false,
    "pycharm": {
     "name": "#%%\n"
    }
   }
  },
  {
   "cell_type": "code",
   "execution_count": 102,
   "outputs": [
    {
     "data": {
      "text/plain": "(360, 64)"
     },
     "execution_count": 102,
     "metadata": {},
     "output_type": "execute_result"
    }
   ],
   "source": [
    "X_test.shape"
   ],
   "metadata": {
    "collapsed": false,
    "pycharm": {
     "name": "#%%\n"
    }
   }
  },
  {
   "cell_type": "code",
   "execution_count": 103,
   "outputs": [
    {
     "data": {
      "text/plain": "(1437,)"
     },
     "execution_count": 103,
     "metadata": {},
     "output_type": "execute_result"
    }
   ],
   "source": [
    "y_train.shape"
   ],
   "metadata": {
    "collapsed": false,
    "pycharm": {
     "name": "#%%\n"
    }
   }
  },
  {
   "cell_type": "code",
   "execution_count": 104,
   "outputs": [
    {
     "data": {
      "text/plain": "(360,)"
     },
     "execution_count": 104,
     "metadata": {},
     "output_type": "execute_result"
    }
   ],
   "source": [
    "y_test.shape"
   ],
   "metadata": {
    "collapsed": false,
    "pycharm": {
     "name": "#%%\n"
    }
   }
  },
  {
   "cell_type": "code",
   "execution_count": 105,
   "outputs": [],
   "source": [
    "from sklearn.linear_model import LogisticRegression"
   ],
   "metadata": {
    "collapsed": false,
    "pycharm": {
     "name": "#%%\n"
    }
   }
  },
  {
   "cell_type": "code",
   "execution_count": 106,
   "outputs": [],
   "source": [
    "logisticRegr = LogisticRegression()"
   ],
   "metadata": {
    "collapsed": false,
    "pycharm": {
     "name": "#%%\n"
    }
   }
  },
  {
   "cell_type": "code",
   "execution_count": 107,
   "outputs": [
    {
     "name": "stderr",
     "output_type": "stream",
     "text": [
      "d:\\it\\pr\\mypython\\venv\\lib\\site-packages\\sklearn\\linear_model\\_logistic.py:458: ConvergenceWarning: lbfgs failed to converge (status=1):\n",
      "STOP: TOTAL NO. of ITERATIONS REACHED LIMIT.\n",
      "\n",
      "Increase the number of iterations (max_iter) or scale the data as shown in:\n",
      "    https://scikit-learn.org/stable/modules/preprocessing.html\n",
      "Please also refer to the documentation for alternative solver options:\n",
      "    https://scikit-learn.org/stable/modules/linear_model.html#logistic-regression\n",
      "  n_iter_i = _check_optimize_result(\n"
     ]
    },
    {
     "data": {
      "text/plain": "LogisticRegression()",
      "text/html": "<style>#sk-container-id-1 {color: black;background-color: white;}#sk-container-id-1 pre{padding: 0;}#sk-container-id-1 div.sk-toggleable {background-color: white;}#sk-container-id-1 label.sk-toggleable__label {cursor: pointer;display: block;width: 100%;margin-bottom: 0;padding: 0.3em;box-sizing: border-box;text-align: center;}#sk-container-id-1 label.sk-toggleable__label-arrow:before {content: \"▸\";float: left;margin-right: 0.25em;color: #696969;}#sk-container-id-1 label.sk-toggleable__label-arrow:hover:before {color: black;}#sk-container-id-1 div.sk-estimator:hover label.sk-toggleable__label-arrow:before {color: black;}#sk-container-id-1 div.sk-toggleable__content {max-height: 0;max-width: 0;overflow: hidden;text-align: left;background-color: #f0f8ff;}#sk-container-id-1 div.sk-toggleable__content pre {margin: 0.2em;color: black;border-radius: 0.25em;background-color: #f0f8ff;}#sk-container-id-1 input.sk-toggleable__control:checked~div.sk-toggleable__content {max-height: 200px;max-width: 100%;overflow: auto;}#sk-container-id-1 input.sk-toggleable__control:checked~label.sk-toggleable__label-arrow:before {content: \"▾\";}#sk-container-id-1 div.sk-estimator input.sk-toggleable__control:checked~label.sk-toggleable__label {background-color: #d4ebff;}#sk-container-id-1 div.sk-label input.sk-toggleable__control:checked~label.sk-toggleable__label {background-color: #d4ebff;}#sk-container-id-1 input.sk-hidden--visually {border: 0;clip: rect(1px 1px 1px 1px);clip: rect(1px, 1px, 1px, 1px);height: 1px;margin: -1px;overflow: hidden;padding: 0;position: absolute;width: 1px;}#sk-container-id-1 div.sk-estimator {font-family: monospace;background-color: #f0f8ff;border: 1px dotted black;border-radius: 0.25em;box-sizing: border-box;margin-bottom: 0.5em;}#sk-container-id-1 div.sk-estimator:hover {background-color: #d4ebff;}#sk-container-id-1 div.sk-parallel-item::after {content: \"\";width: 100%;border-bottom: 1px solid gray;flex-grow: 1;}#sk-container-id-1 div.sk-label:hover label.sk-toggleable__label {background-color: #d4ebff;}#sk-container-id-1 div.sk-serial::before {content: \"\";position: absolute;border-left: 1px solid gray;box-sizing: border-box;top: 0;bottom: 0;left: 50%;z-index: 0;}#sk-container-id-1 div.sk-serial {display: flex;flex-direction: column;align-items: center;background-color: white;padding-right: 0.2em;padding-left: 0.2em;position: relative;}#sk-container-id-1 div.sk-item {position: relative;z-index: 1;}#sk-container-id-1 div.sk-parallel {display: flex;align-items: stretch;justify-content: center;background-color: white;position: relative;}#sk-container-id-1 div.sk-item::before, #sk-container-id-1 div.sk-parallel-item::before {content: \"\";position: absolute;border-left: 1px solid gray;box-sizing: border-box;top: 0;bottom: 0;left: 50%;z-index: -1;}#sk-container-id-1 div.sk-parallel-item {display: flex;flex-direction: column;z-index: 1;position: relative;background-color: white;}#sk-container-id-1 div.sk-parallel-item:first-child::after {align-self: flex-end;width: 50%;}#sk-container-id-1 div.sk-parallel-item:last-child::after {align-self: flex-start;width: 50%;}#sk-container-id-1 div.sk-parallel-item:only-child::after {width: 0;}#sk-container-id-1 div.sk-dashed-wrapped {border: 1px dashed gray;margin: 0 0.4em 0.5em 0.4em;box-sizing: border-box;padding-bottom: 0.4em;background-color: white;}#sk-container-id-1 div.sk-label label {font-family: monospace;font-weight: bold;display: inline-block;line-height: 1.2em;}#sk-container-id-1 div.sk-label-container {text-align: center;}#sk-container-id-1 div.sk-container {/* jupyter's `normalize.less` sets `[hidden] { display: none; }` but bootstrap.min.css set `[hidden] { display: none !important; }` so we also need the `!important` here to be able to override the default hidden behavior on the sphinx rendered scikit-learn.org. See: https://github.com/scikit-learn/scikit-learn/issues/21755 */display: inline-block !important;position: relative;}#sk-container-id-1 div.sk-text-repr-fallback {display: none;}</style><div id=\"sk-container-id-1\" class=\"sk-top-container\"><div class=\"sk-text-repr-fallback\"><pre>LogisticRegression()</pre><b>In a Jupyter environment, please rerun this cell to show the HTML representation or trust the notebook. <br />On GitHub, the HTML representation is unable to render, please try loading this page with nbviewer.org.</b></div><div class=\"sk-container\" hidden><div class=\"sk-item\"><div class=\"sk-estimator sk-toggleable\"><input class=\"sk-toggleable__control sk-hidden--visually\" id=\"sk-estimator-id-1\" type=\"checkbox\" checked><label for=\"sk-estimator-id-1\" class=\"sk-toggleable__label sk-toggleable__label-arrow\">LogisticRegression</label><div class=\"sk-toggleable__content\"><pre>LogisticRegression()</pre></div></div></div></div></div>"
     },
     "execution_count": 107,
     "metadata": {},
     "output_type": "execute_result"
    }
   ],
   "source": [
    "logisticRegr.fit(X_train, y_train)"
   ],
   "metadata": {
    "collapsed": false,
    "pycharm": {
     "name": "#%%\n"
    }
   }
  },
  {
   "cell_type": "code",
   "execution_count": 108,
   "outputs": [
    {
     "data": {
      "text/plain": "array([6])"
     },
     "execution_count": 108,
     "metadata": {},
     "output_type": "execute_result"
    }
   ],
   "source": [
    "logisticRegr.predict(X_test[0].reshape(1,-1))"
   ],
   "metadata": {
    "collapsed": false,
    "pycharm": {
     "name": "#%%\n"
    }
   }
  },
  {
   "cell_type": "code",
   "execution_count": 109,
   "outputs": [
    {
     "data": {
      "text/plain": "array([6, 9, 3, 7, 2, 1, 5, 2, 5, 2])"
     },
     "execution_count": 109,
     "metadata": {},
     "output_type": "execute_result"
    }
   ],
   "source": [
    "logisticRegr.predict(X_test[0:10])"
   ],
   "metadata": {
    "collapsed": false,
    "pycharm": {
     "name": "#%%\n"
    }
   }
  },
  {
   "cell_type": "code",
   "execution_count": 110,
   "outputs": [],
   "source": [
    "predictions = logisticRegr.predict(X_test)"
   ],
   "metadata": {
    "collapsed": false,
    "pycharm": {
     "name": "#%%\n"
    }
   }
  },
  {
   "cell_type": "code",
   "execution_count": 111,
   "outputs": [],
   "source": [
    "score = logisticRegr.score(X_test, y_test)"
   ],
   "metadata": {
    "collapsed": false,
    "pycharm": {
     "name": "#%%\n"
    }
   }
  },
  {
   "cell_type": "code",
   "execution_count": 112,
   "outputs": [
    {
     "name": "stdout",
     "output_type": "stream",
     "text": [
      "0.9694444444444444\n"
     ]
    }
   ],
   "source": [
    "print(score)"
   ],
   "metadata": {
    "collapsed": false,
    "pycharm": {
     "name": "#%%\n"
    }
   }
  },
  {
   "cell_type": "code",
   "execution_count": null,
   "outputs": [],
   "source": [],
   "metadata": {
    "collapsed": false,
    "pycharm": {
     "name": "#%%\n"
    }
   }
  },
  {
   "cell_type": "code",
   "execution_count": 154,
   "outputs": [],
   "source": [
    "ls = []\n",
    "lr = 0.01\n",
    "# weights = np.array([0.5,0.48,-0.7])\n",
    "np.random.seed(1)\n",
    "weights = 2 * np.random.random((64,1)) - 1"
   ],
   "metadata": {
    "collapsed": false,
    "pycharm": {
     "name": "#%%\n"
    }
   }
  },
  {
   "cell_type": "code",
   "execution_count": 121,
   "outputs": [],
   "source": [
    "from sklearn import preprocessing"
   ],
   "metadata": {
    "collapsed": false,
    "pycharm": {
     "name": "#%%\n"
    }
   }
  },
  {
   "cell_type": "code",
   "execution_count": 124,
   "outputs": [],
   "source": [
    "X_train1 = preprocessing.normalize(X_train)"
   ],
   "metadata": {
    "collapsed": false,
    "pycharm": {
     "name": "#%%\n"
    }
   }
  },
  {
   "cell_type": "code",
   "execution_count": 130,
   "outputs": [],
   "source": [
    "prediction = X_train1.dot(weights)"
   ],
   "metadata": {
    "collapsed": false,
    "pycharm": {
     "name": "#%%\n"
    }
   }
  },
  {
   "cell_type": "code",
   "execution_count": null,
   "outputs": [],
   "source": [],
   "metadata": {
    "collapsed": false,
    "pycharm": {
     "name": "#%%\n"
    }
   }
  },
  {
   "cell_type": "code",
   "execution_count": 152,
   "outputs": [],
   "source": [
    "y = pd.DataFrame(y_train)\n",
    "y_train1 =  y[0].apply(lambda x: 1 if x == 2 else 0)\n",
    "y_train1 = pd.DataFrame(y_train1)"
   ],
   "metadata": {
    "collapsed": false,
    "pycharm": {
     "name": "#%%\n"
    }
   }
  },
  {
   "cell_type": "code",
   "execution_count": 191,
   "outputs": [
    {
     "data": {
      "text/plain": "       id       error                                         prediction\n0       0  203.862371  [[ 0.0324922 ]\\n [ 0.01151037]\\n [ 0.20584756]...\n1      10  140.678646  [[-0.00470057]\\n [ 0.0589844 ]\\n [ 0.15721233]...\n2      20  114.141220  [[-0.04439031]\\n [ 0.05387388]\\n [ 0.09484769]...\n3      30   98.435854  [[-0.05522998]\\n [ 0.05501906]\\n [ 0.06230441]...\n4      40   87.713116  [[-0.05348315]\\n [ 0.05785159]\\n [ 0.04450654]...\n..    ...         ...                                                ...\n295  2950   34.405807  [[-0.05989166]\\n [ 0.10078205]\\n [-0.07088072]...\n296  2960   34.404683  [[-0.05983845]\\n [ 0.10079705]\\n [-0.0708817 ]...\n297  2970   34.403573  [[-0.05978534]\\n [ 0.10081177]\\n [-0.07088264]...\n298  2980   34.402475  [[-0.05973233]\\n [ 0.10082619]\\n [-0.07088356]...\n299  2990   34.401391  [[-0.05967942]\\n [ 0.10084033]\\n [-0.07088445]...\n\n[300 rows x 3 columns]",
      "text/html": "<div>\n<style scoped>\n    .dataframe tbody tr th:only-of-type {\n        vertical-align: middle;\n    }\n\n    .dataframe tbody tr th {\n        vertical-align: top;\n    }\n\n    .dataframe thead th {\n        text-align: right;\n    }\n</style>\n<table border=\"1\" class=\"dataframe\">\n  <thead>\n    <tr style=\"text-align: right;\">\n      <th></th>\n      <th>id</th>\n      <th>error</th>\n      <th>prediction</th>\n    </tr>\n  </thead>\n  <tbody>\n    <tr>\n      <th>0</th>\n      <td>0</td>\n      <td>203.862371</td>\n      <td>[[ 0.0324922 ]\\n [ 0.01151037]\\n [ 0.20584756]...</td>\n    </tr>\n    <tr>\n      <th>1</th>\n      <td>10</td>\n      <td>140.678646</td>\n      <td>[[-0.00470057]\\n [ 0.0589844 ]\\n [ 0.15721233]...</td>\n    </tr>\n    <tr>\n      <th>2</th>\n      <td>20</td>\n      <td>114.141220</td>\n      <td>[[-0.04439031]\\n [ 0.05387388]\\n [ 0.09484769]...</td>\n    </tr>\n    <tr>\n      <th>3</th>\n      <td>30</td>\n      <td>98.435854</td>\n      <td>[[-0.05522998]\\n [ 0.05501906]\\n [ 0.06230441]...</td>\n    </tr>\n    <tr>\n      <th>4</th>\n      <td>40</td>\n      <td>87.713116</td>\n      <td>[[-0.05348315]\\n [ 0.05785159]\\n [ 0.04450654]...</td>\n    </tr>\n    <tr>\n      <th>...</th>\n      <td>...</td>\n      <td>...</td>\n      <td>...</td>\n    </tr>\n    <tr>\n      <th>295</th>\n      <td>2950</td>\n      <td>34.405807</td>\n      <td>[[-0.05989166]\\n [ 0.10078205]\\n [-0.07088072]...</td>\n    </tr>\n    <tr>\n      <th>296</th>\n      <td>2960</td>\n      <td>34.404683</td>\n      <td>[[-0.05983845]\\n [ 0.10079705]\\n [-0.0708817 ]...</td>\n    </tr>\n    <tr>\n      <th>297</th>\n      <td>2970</td>\n      <td>34.403573</td>\n      <td>[[-0.05978534]\\n [ 0.10081177]\\n [-0.07088264]...</td>\n    </tr>\n    <tr>\n      <th>298</th>\n      <td>2980</td>\n      <td>34.402475</td>\n      <td>[[-0.05973233]\\n [ 0.10082619]\\n [-0.07088356]...</td>\n    </tr>\n    <tr>\n      <th>299</th>\n      <td>2990</td>\n      <td>34.401391</td>\n      <td>[[-0.05967942]\\n [ 0.10084033]\\n [-0.07088445]...</td>\n    </tr>\n  </tbody>\n</table>\n<p>300 rows × 3 columns</p>\n</div>"
     },
     "execution_count": 191,
     "metadata": {},
     "output_type": "execute_result"
    }
   ],
   "source": [
    "ls = []\n",
    "lr = 0.001\n",
    "weights = 2 * np.random.random((64,1)) - 1\n",
    "for iteration in range(3000):\n",
    "    prediction = X_train1.dot(weights)\n",
    "    error = (prediction - y_train1) ** 2\n",
    "    delta = prediction - y_train1\n",
    "    weights = weights - (lr * np.dot(X_train1.T, delta))\n",
    "    if iteration % 10 == 0:\n",
    "        ls.append( [iteration,np.sum(error)[0],str(prediction)])\n",
    "    # ls.append([np.sum(error)[0],str(prediction)])\n",
    "    # print(\"Error:\" + str(np.sum(error)) + \" Prediction:\" + str(prediction))\n",
    "df = pd.DataFrame(ls, columns=['id','error', 'prediction'])\n",
    "df"
   ],
   "metadata": {
    "collapsed": false,
    "pycharm": {
     "name": "#%%\n"
    }
   }
  },
  {
   "cell_type": "code",
   "execution_count": 172,
   "outputs": [],
   "source": [
    "from sklearn.metrics import accuracy_score"
   ],
   "metadata": {
    "collapsed": false,
    "pycharm": {
     "name": "#%%\n"
    }
   }
  },
  {
   "cell_type": "code",
   "execution_count": 174,
   "outputs": [],
   "source": [
    "pred = pd.DataFrame(prediction)"
   ],
   "metadata": {
    "collapsed": false,
    "pycharm": {
     "name": "#%%\n"
    }
   }
  },
  {
   "cell_type": "code",
   "execution_count": 178,
   "outputs": [],
   "source": [
    "y_pred = pred[0].apply(lambda x: 1 if x > 0.5 else 0)"
   ],
   "metadata": {
    "collapsed": false,
    "pycharm": {
     "name": "#%%\n"
    }
   }
  },
  {
   "cell_type": "code",
   "execution_count": 179,
   "outputs": [
    {
     "data": {
      "text/plain": "0.9895615866388309"
     },
     "execution_count": 179,
     "metadata": {},
     "output_type": "execute_result"
    }
   ],
   "source": [
    "accuracy_score(y_train1, y_pred)"
   ],
   "metadata": {
    "collapsed": false,
    "pycharm": {
     "name": "#%%\n"
    }
   }
  },
  {
   "cell_type": "code",
   "execution_count": 180,
   "outputs": [],
   "source": [
    "X_test1 = preprocessing.normalize(X_test)"
   ],
   "metadata": {
    "collapsed": false,
    "pycharm": {
     "name": "#%%\n"
    }
   }
  },
  {
   "cell_type": "code",
   "execution_count": 197,
   "outputs": [],
   "source": [
    "prediction = X_test1.dot(weights)"
   ],
   "metadata": {
    "collapsed": false,
    "pycharm": {
     "name": "#%%\n"
    }
   }
  },
  {
   "cell_type": "code",
   "execution_count": 198,
   "outputs": [],
   "source": [
    "pred = pd.DataFrame(prediction)"
   ],
   "metadata": {
    "collapsed": false,
    "pycharm": {
     "name": "#%%\n"
    }
   }
  },
  {
   "cell_type": "code",
   "execution_count": 199,
   "outputs": [],
   "source": [
    "y_pred = pred[0].apply(lambda x: 1 if x > 0.5 else 0)"
   ],
   "metadata": {
    "collapsed": false,
    "pycharm": {
     "name": "#%%\n"
    }
   }
  },
  {
   "cell_type": "code",
   "execution_count": 200,
   "outputs": [],
   "source": [
    "y = pd.DataFrame(y_test)\n",
    "y_test1 =  y[0].apply(lambda x: 1 if x == 2 else 0)\n",
    "y_test1 = pd.DataFrame(y_test1)"
   ],
   "metadata": {
    "collapsed": false,
    "pycharm": {
     "name": "#%%\n"
    }
   }
  },
  {
   "cell_type": "code",
   "execution_count": 201,
   "outputs": [
    {
     "data": {
      "text/plain": "0.9805555555555555"
     },
     "execution_count": 201,
     "metadata": {},
     "output_type": "execute_result"
    }
   ],
   "source": [
    "accuracy_score(y_test1, y_pred)"
   ],
   "metadata": {
    "collapsed": false,
    "pycharm": {
     "name": "#%%\n"
    }
   }
  },
  {
   "cell_type": "code",
   "execution_count": null,
   "outputs": [],
   "source": [],
   "metadata": {
    "collapsed": false,
    "pycharm": {
     "name": "#%%\n"
    }
   }
  }
 ],
 "metadata": {
  "kernelspec": {
   "display_name": "Python 3",
   "language": "python",
   "name": "python3"
  },
  "language_info": {
   "codemirror_mode": {
    "name": "ipython",
    "version": 2
   },
   "file_extension": ".py",
   "mimetype": "text/x-python",
   "name": "python",
   "nbconvert_exporter": "python",
   "pygments_lexer": "ipython2",
   "version": "2.7.6"
  }
 },
 "nbformat": 4,
 "nbformat_minor": 0
}