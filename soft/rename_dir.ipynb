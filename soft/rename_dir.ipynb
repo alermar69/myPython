{
 "cells": [
  {
   "cell_type": "code",
   "execution_count": 1,
   "metadata": {
    "collapsed": true,
    "ExecuteTime": {
     "start_time": "2024-04-02T09:11:56.715901Z",
     "end_time": "2024-04-02T09:11:56.777910Z"
    }
   },
   "outputs": [],
   "source": [
    "import os\n",
    "from PyPDF2 import PdfFileMerger\n",
    "from os.path import basename, splitext"
   ]
  },
  {
   "cell_type": "code",
   "execution_count": null,
   "outputs": [],
   "source": [],
   "metadata": {
    "collapsed": false
   }
  },
  {
   "cell_type": "code",
   "execution_count": 3,
   "outputs": [],
   "source": [
    "directory = \"e:\\WEB\\Django 5\"\n",
    "del_word = ' - Stepik'\n",
    "replace_word = ''\n",
    "\n",
    "# directory = \"g:\\IT\\[SuperSliv.biz] WEB Парсинг на Python [Stepik]\"\n",
    "# del_word = '[SuperSliv.biz]'\n",
    "# replace_word = ''\n",
    "\n",
    "# переименование файлов\n",
    "for dirname, _, files in os.walk(directory):\n",
    "    for old_name in files:\n",
    "        new_name = old_name.replace(del_word, replace_word, 1)\n",
    "        if old_name != new_name:\n",
    "            os.rename(os.path.join(dirname, old_name), os.path.join(dirname, new_name))\n",
    "\n",
    "# переименование папок\n",
    "for root, dirs, files in os.walk(directory, topdown=False):\n",
    "    x1 = root.split('\\\\')\n",
    "    x1[-1] = x1[-1].replace(del_word, replace_word, 1)\n",
    "    new_dir = '\\\\'.join(x1)\n",
    "    os.rename(root, new_dir)"
   ],
   "metadata": {
    "collapsed": false,
    "ExecuteTime": {
     "start_time": "2024-04-02T09:13:18.001892Z",
     "end_time": "2024-04-02T09:13:18.072909Z"
    }
   }
  },
  {
   "cell_type": "code",
   "execution_count": 9,
   "outputs": [],
   "source": [
    "# переименование файлов\n",
    "for dirname, _, files in os.walk(directory):\n",
    "    for old_name in files:\n",
    "        new_name = old_name[:22] + '.mp4'\n",
    "        if old_name != new_name:\n",
    "            os.rename(os.path.join(dirname, old_name), os.path.join(dirname, new_name))"
   ],
   "metadata": {
    "collapsed": false
   }
  },
  {
   "cell_type": "code",
   "execution_count": null,
   "outputs": [],
   "source": [],
   "metadata": {
    "collapsed": false
   }
  },
  {
   "cell_type": "code",
   "execution_count": 4,
   "outputs": [],
   "source": [
    "s = 'Щенячий патруль_S06E02.Ultimate.Rescue.Pups.Stop.a.Meltdown.-.Ultimate.Rescue.Pups.and.the.Mystery.of.the.Missing.Cellphones.Web-DLRip.x264.960x(semen_52-TNC)'"
   ],
   "metadata": {
    "collapsed": false
   }
  },
  {
   "cell_type": "code",
   "execution_count": 5,
   "outputs": [],
   "source": [
    "import re"
   ],
   "metadata": {
    "collapsed": false
   }
  },
  {
   "cell_type": "code",
   "execution_count": 6,
   "outputs": [
    {
     "data": {
      "text/plain": "['Щенячий патруль_']"
     },
     "execution_count": 6,
     "metadata": {},
     "output_type": "execute_result"
    }
   ],
   "source": [
    "re.findall(r'Щенячий патруль_', s)"
   ],
   "metadata": {
    "collapsed": false
   }
  },
  {
   "cell_type": "code",
   "execution_count": 7,
   "outputs": [
    {
     "data": {
      "text/plain": "'Щенячий патруль_S06E02'"
     },
     "execution_count": 7,
     "metadata": {},
     "output_type": "execute_result"
    }
   ],
   "source": [
    "s[:22]"
   ],
   "metadata": {
    "collapsed": false
   }
  },
  {
   "cell_type": "code",
   "execution_count": 8,
   "outputs": [],
   "source": [
    "directory = \"g:\\IT\\ WEB Парсинг на Python [Stepik]\"\n",
    "\n",
    "dir_tmp = 'g:\\\\tmp'\n",
    "\n",
    "def clear_dir(dir='g:\\\\tmp'):\n",
    "    for f in os.listdir(dir):\n",
    "        os.remove(os.path.join(dir, f))\n",
    "\n",
    "if not os.path.exists(dir_tmp):\n",
    "        os.makedirs(dir_tmp)\n",
    "\n",
    "for root, dirs, files in os.walk(directory):\n",
    "    if files:\n",
    "        merger = PdfFileMerger()\n",
    "        for file in files:\n",
    "            if file.endswith(\".pdf\"):\n",
    "                name, ext = splitext(file)\n",
    "                merger.append(os.path.join(root, file), outline_item=name)\n",
    "\n",
    "        filename_to_save = root.split('\\\\')[-1] + '.pdf'\n",
    "        # dir_to_save = root.split('\\\\')\n",
    "        # dir_to_save = '\\\\'.join(dir_to_save[:-1])\n",
    "\n",
    "\n",
    "        # filename_to_save = os.path.join(dir_to_save, filename_to_save)\n",
    "        filename_to_save = os.path.join(dir_tmp, filename_to_save)\n",
    "\n",
    "        if filename_to_save:\n",
    "            merger.write(filename_to_save)\n",
    "\n",
    "        merger.close()\n",
    "\n"
   ],
   "metadata": {
    "collapsed": false
   }
  },
  {
   "cell_type": "code",
   "execution_count": 32,
   "outputs": [],
   "source": [
    "directory = \"g:\\IT\\ WEB Парсинг на Python [Stepik]\"\n",
    "\n",
    "dir_tmp = 'g:\\\\tmp'\n",
    "\n",
    "def clear_dir(dir='g:\\\\tmp'):\n",
    "    for f in os.listdir(dir):\n",
    "        os.remove(os.path.join(dir, f))\n",
    "\n",
    "if not os.path.exists(dir_tmp):\n",
    "        os.makedirs(dir_tmp)\n",
    "\n",
    "\n",
    "pdfs = []\n",
    "for root, dirs, files in os.walk(directory, topdown=False):\n",
    "    if not dirs and files:\n",
    "        merger = PdfFileMerger()\n",
    "        for file in files:\n",
    "            if file.endswith(\".pdf\"):\n",
    "                name, ext = splitext(file)\n",
    "                merger.append(os.path.join(root, file), outline_item=name)\n",
    "\n",
    "        filename_to_save = root.split('\\\\')[-1] + '.pdf'\n",
    "        dir_to_save = root.split('\\\\')\n",
    "        dir_to_save = '\\\\'.join(dir_to_save[:-1])\n",
    "\n",
    "        filename_to_save = os.path.join(dir_tmp, filename_to_save)\n",
    "\n",
    "        if filename_to_save:\n",
    "            merger.write(filename_to_save)\n",
    "            pdfs.append(filename_to_save)\n",
    "\n",
    "        merger.close()\n",
    "    elif dirs:\n",
    "        merger = PdfFileMerger()\n",
    "        for file in pdfs:\n",
    "            if file.endswith(\".pdf\"):\n",
    "                name, ext = splitext(basename(file))\n",
    "                merger.append(file, outline_item=name)\n",
    "\n",
    "        filename_to_save = root.split('\\\\')[-1] + '.pdf'\n",
    "        dir_to_save = root.split('\\\\')\n",
    "        dir_to_save = '\\\\'.join(dir_to_save[:-1])\n",
    "\n",
    "        filename_to_save = os.path.join(dir_tmp, filename_to_save)\n",
    "\n",
    "        if filename_to_save:\n",
    "            merger.write(filename_to_save)\n",
    "            # pdfs.append(filename_to_save)\n",
    "\n",
    "        merger.close()\n",
    "\n",
    "        for file in pdfs:\n",
    "            os.remove(file)\n",
    "        pdfs = []"
   ],
   "metadata": {
    "collapsed": false
   }
  }
 ],
 "metadata": {
  "kernelspec": {
   "display_name": "Python 3",
   "language": "python",
   "name": "python3"
  },
  "language_info": {
   "codemirror_mode": {
    "name": "ipython",
    "version": 2
   },
   "file_extension": ".py",
   "mimetype": "text/x-python",
   "name": "python",
   "nbconvert_exporter": "python",
   "pygments_lexer": "ipython2",
   "version": "2.7.6"
  }
 },
 "nbformat": 4,
 "nbformat_minor": 0
}
