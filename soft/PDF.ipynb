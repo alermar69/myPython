{
 "cells": [
  {
   "cell_type": "code",
   "execution_count": 2,
   "outputs": [],
   "source": [
    "import pdfkit\n",
    "# import weasyprint as weasyprint"
   ],
   "metadata": {
    "collapsed": false,
    "pycharm": {
     "name": "#%%\n"
    }
   }
  },
  {
   "cell_type": "code",
   "execution_count": 3,
   "outputs": [],
   "source": [
    "\n",
    "congig = pdfkit.configuration(wkhtmltopdf=\"C:/Program Files/wkhtmltopdf/bin/wkhtmltopdf.exe\")"
   ],
   "metadata": {
    "collapsed": false,
    "pycharm": {
     "name": "#%%\n"
    }
   }
  },
  {
   "cell_type": "code",
   "execution_count": 4,
   "outputs": [
    {
     "data": {
      "text/plain": "True"
     },
     "execution_count": 4,
     "metadata": {},
     "output_type": "execute_result"
    }
   ],
   "source": [
    "pdfkit.from_url('https://django.fun/ru/docs/django/4.0/', 'django_4.0.pdf', configuration=congig)"
   ],
   "metadata": {
    "collapsed": false,
    "pycharm": {
     "name": "#%%\n"
    }
   }
  },
  {
   "cell_type": "code",
   "execution_count": 12,
   "outputs": [
    {
     "data": {
      "text/plain": "True"
     },
     "execution_count": 12,
     "metadata": {},
     "output_type": "execute_result"
    }
   ],
   "source": [
    "pdfkit.from_url('https://django.fun/ru/docs/django/4.0/topics/email/', 'django_4.0.pdf', configuration=congig, options={'encoding': 'utf-8', 'enable-local-file-access': None, 'javascript-delay': 1000, 'enable-javascript': None, 'no-stop-slow-scripts': None})"
   ],
   "metadata": {
    "collapsed": false,
    "pycharm": {
     "name": "#%%\n"
    }
   }
  },
  {
   "cell_type": "code",
   "execution_count": 36,
   "outputs": [
    {
     "ename": "OSError",
     "evalue": "wkhtmltopdf reported an error:\nExit with code 1 due to network error: ProtocolUnknownError\r\n",
     "output_type": "error",
     "traceback": [
      "\u001B[1;31m---------------------------------------------------------------------------\u001B[0m",
      "\u001B[1;31mOSError\u001B[0m                                   Traceback (most recent call last)",
      "\u001B[1;32m~\\AppData\\Local\\Temp/ipykernel_9224/2309252631.py\u001B[0m in \u001B[0;36m<module>\u001B[1;34m\u001B[0m\n\u001B[1;32m----> 1\u001B[1;33m \u001B[0mpdfkit\u001B[0m\u001B[1;33m.\u001B[0m\u001B[0mfrom_url\u001B[0m\u001B[1;33m(\u001B[0m\u001B[1;34m'index.html'\u001B[0m\u001B[1;33m,\u001B[0m \u001B[1;34m'out1.pdf'\u001B[0m\u001B[1;33m,\u001B[0m \u001B[0mconfiguration\u001B[0m\u001B[1;33m=\u001B[0m\u001B[0mcongig\u001B[0m\u001B[1;33m)\u001B[0m\u001B[1;33m\u001B[0m\u001B[1;33m\u001B[0m\u001B[0m\n\u001B[0m",
      "\u001B[1;32md:\\it\\pr\\mypython\\venv\\lib\\site-packages\\pdfkit\\api.py\u001B[0m in \u001B[0;36mfrom_url\u001B[1;34m(url, output_path, options, toc, cover, configuration, cover_first, verbose)\u001B[0m\n\u001B[0;32m     25\u001B[0m                configuration=configuration, cover_first=cover_first, verbose=verbose)\n\u001B[0;32m     26\u001B[0m \u001B[1;33m\u001B[0m\u001B[0m\n\u001B[1;32m---> 27\u001B[1;33m     \u001B[1;32mreturn\u001B[0m \u001B[0mr\u001B[0m\u001B[1;33m.\u001B[0m\u001B[0mto_pdf\u001B[0m\u001B[1;33m(\u001B[0m\u001B[0moutput_path\u001B[0m\u001B[1;33m)\u001B[0m\u001B[1;33m\u001B[0m\u001B[1;33m\u001B[0m\u001B[0m\n\u001B[0m\u001B[0;32m     28\u001B[0m \u001B[1;33m\u001B[0m\u001B[0m\n\u001B[0;32m     29\u001B[0m \u001B[1;33m\u001B[0m\u001B[0m\n",
      "\u001B[1;32md:\\it\\pr\\mypython\\venv\\lib\\site-packages\\pdfkit\\pdfkit.py\u001B[0m in \u001B[0;36mto_pdf\u001B[1;34m(self, path)\u001B[0m\n\u001B[0;32m    199\u001B[0m         \u001B[0mstderr\u001B[0m \u001B[1;33m=\u001B[0m \u001B[0mstderr\u001B[0m\u001B[1;33m.\u001B[0m\u001B[0mdecode\u001B[0m\u001B[1;33m(\u001B[0m\u001B[1;34m'utf-8'\u001B[0m\u001B[1;33m,\u001B[0m \u001B[0merrors\u001B[0m\u001B[1;33m=\u001B[0m\u001B[1;34m'replace'\u001B[0m\u001B[1;33m)\u001B[0m\u001B[1;33m\u001B[0m\u001B[1;33m\u001B[0m\u001B[0m\n\u001B[0;32m    200\u001B[0m         \u001B[0mexit_code\u001B[0m \u001B[1;33m=\u001B[0m \u001B[0mresult\u001B[0m\u001B[1;33m.\u001B[0m\u001B[0mreturncode\u001B[0m\u001B[1;33m\u001B[0m\u001B[1;33m\u001B[0m\u001B[0m\n\u001B[1;32m--> 201\u001B[1;33m         \u001B[0mself\u001B[0m\u001B[1;33m.\u001B[0m\u001B[0mhandle_error\u001B[0m\u001B[1;33m(\u001B[0m\u001B[0mexit_code\u001B[0m\u001B[1;33m,\u001B[0m \u001B[0mstderr\u001B[0m\u001B[1;33m)\u001B[0m\u001B[1;33m\u001B[0m\u001B[1;33m\u001B[0m\u001B[0m\n\u001B[0m\u001B[0;32m    202\u001B[0m \u001B[1;33m\u001B[0m\u001B[0m\n\u001B[0;32m    203\u001B[0m         \u001B[1;31m# Since wkhtmltopdf sends its output to stderr we will capture it\u001B[0m\u001B[1;33m\u001B[0m\u001B[1;33m\u001B[0m\u001B[1;33m\u001B[0m\u001B[0m\n",
      "\u001B[1;32md:\\it\\pr\\mypython\\venv\\lib\\site-packages\\pdfkit\\pdfkit.py\u001B[0m in \u001B[0;36mhandle_error\u001B[1;34m(exit_code, stderr)\u001B[0m\n\u001B[0;32m    153\u001B[0m \u001B[1;33m\u001B[0m\u001B[0m\n\u001B[0;32m    154\u001B[0m         \u001B[1;32mif\u001B[0m \u001B[1;34m'Error'\u001B[0m \u001B[1;32min\u001B[0m \u001B[0mstderr\u001B[0m\u001B[1;33m:\u001B[0m\u001B[1;33m\u001B[0m\u001B[1;33m\u001B[0m\u001B[0m\n\u001B[1;32m--> 155\u001B[1;33m             \u001B[1;32mraise\u001B[0m \u001B[0mIOError\u001B[0m\u001B[1;33m(\u001B[0m\u001B[1;34m'wkhtmltopdf reported an error:\\n'\u001B[0m \u001B[1;33m+\u001B[0m \u001B[0mstderr\u001B[0m\u001B[1;33m)\u001B[0m\u001B[1;33m\u001B[0m\u001B[1;33m\u001B[0m\u001B[0m\n\u001B[0m\u001B[0;32m    156\u001B[0m \u001B[1;33m\u001B[0m\u001B[0m\n\u001B[0;32m    157\u001B[0m         \u001B[0merror_msg\u001B[0m \u001B[1;33m=\u001B[0m \u001B[0mstderr\u001B[0m \u001B[1;32mor\u001B[0m \u001B[1;34m'Unknown Error'\u001B[0m\u001B[1;33m\u001B[0m\u001B[1;33m\u001B[0m\u001B[0m\n",
      "\u001B[1;31mOSError\u001B[0m: wkhtmltopdf reported an error:\nExit with code 1 due to network error: ProtocolUnknownError\r\n"
     ]
    }
   ],
   "source": [
    "pdfkit.from_url('index.html', 'out1.pdf', configuration=congig)"
   ],
   "metadata": {
    "collapsed": false,
    "pycharm": {
     "name": "#%%\n"
    }
   }
  },
  {
   "cell_type": "code",
   "execution_count": 18,
   "outputs": [
    {
     "ename": "OSError",
     "evalue": "wkhtmltopdf reported an error:\nExit with code 1 due to network error: ProtocolUnknownError\r\n",
     "output_type": "error",
     "traceback": [
      "\u001B[1;31m---------------------------------------------------------------------------\u001B[0m",
      "\u001B[1;31mOSError\u001B[0m                                   Traceback (most recent call last)",
      "\u001B[1;32m~\\AppData\\Local\\Temp/ipykernel_9224/2605992269.py\u001B[0m in \u001B[0;36m<module>\u001B[1;34m\u001B[0m\n\u001B[0;32m      1\u001B[0m \u001B[1;31m# pdfkit.from_url('https://www.google.com', 'out.pdf', configuration=congig)\u001B[0m\u001B[1;33m\u001B[0m\u001B[1;33m\u001B[0m\u001B[1;33m\u001B[0m\u001B[0m\n\u001B[1;32m----> 2\u001B[1;33m \u001B[0mpdfkit\u001B[0m\u001B[1;33m.\u001B[0m\u001B[0mfrom_file\u001B[0m\u001B[1;33m(\u001B[0m\u001B[1;34m'index.html'\u001B[0m\u001B[1;33m,\u001B[0m \u001B[1;34m'out1.pdf'\u001B[0m\u001B[1;33m,\u001B[0m \u001B[0mconfiguration\u001B[0m\u001B[1;33m=\u001B[0m\u001B[0mcongig\u001B[0m\u001B[1;33m)\u001B[0m\u001B[1;33m\u001B[0m\u001B[1;33m\u001B[0m\u001B[0m\n\u001B[0m\u001B[0;32m      3\u001B[0m \u001B[1;33m\u001B[0m\u001B[0m\n",
      "\u001B[1;32md:\\it\\pr\\mypython\\venv\\lib\\site-packages\\pdfkit\\api.py\u001B[0m in \u001B[0;36mfrom_file\u001B[1;34m(input, output_path, options, toc, cover, css, configuration, cover_first, verbose)\u001B[0m\n\u001B[0;32m     49\u001B[0m                configuration=configuration, cover_first=cover_first, verbose=verbose)\n\u001B[0;32m     50\u001B[0m \u001B[1;33m\u001B[0m\u001B[0m\n\u001B[1;32m---> 51\u001B[1;33m     \u001B[1;32mreturn\u001B[0m \u001B[0mr\u001B[0m\u001B[1;33m.\u001B[0m\u001B[0mto_pdf\u001B[0m\u001B[1;33m(\u001B[0m\u001B[0moutput_path\u001B[0m\u001B[1;33m)\u001B[0m\u001B[1;33m\u001B[0m\u001B[1;33m\u001B[0m\u001B[0m\n\u001B[0m\u001B[0;32m     52\u001B[0m \u001B[1;33m\u001B[0m\u001B[0m\n\u001B[0;32m     53\u001B[0m \u001B[1;33m\u001B[0m\u001B[0m\n",
      "\u001B[1;32md:\\it\\pr\\mypython\\venv\\lib\\site-packages\\pdfkit\\pdfkit.py\u001B[0m in \u001B[0;36mto_pdf\u001B[1;34m(self, path)\u001B[0m\n\u001B[0;32m    199\u001B[0m         \u001B[0mstderr\u001B[0m \u001B[1;33m=\u001B[0m \u001B[0mstderr\u001B[0m\u001B[1;33m.\u001B[0m\u001B[0mdecode\u001B[0m\u001B[1;33m(\u001B[0m\u001B[1;34m'utf-8'\u001B[0m\u001B[1;33m,\u001B[0m \u001B[0merrors\u001B[0m\u001B[1;33m=\u001B[0m\u001B[1;34m'replace'\u001B[0m\u001B[1;33m)\u001B[0m\u001B[1;33m\u001B[0m\u001B[1;33m\u001B[0m\u001B[0m\n\u001B[0;32m    200\u001B[0m         \u001B[0mexit_code\u001B[0m \u001B[1;33m=\u001B[0m \u001B[0mresult\u001B[0m\u001B[1;33m.\u001B[0m\u001B[0mreturncode\u001B[0m\u001B[1;33m\u001B[0m\u001B[1;33m\u001B[0m\u001B[0m\n\u001B[1;32m--> 201\u001B[1;33m         \u001B[0mself\u001B[0m\u001B[1;33m.\u001B[0m\u001B[0mhandle_error\u001B[0m\u001B[1;33m(\u001B[0m\u001B[0mexit_code\u001B[0m\u001B[1;33m,\u001B[0m \u001B[0mstderr\u001B[0m\u001B[1;33m)\u001B[0m\u001B[1;33m\u001B[0m\u001B[1;33m\u001B[0m\u001B[0m\n\u001B[0m\u001B[0;32m    202\u001B[0m \u001B[1;33m\u001B[0m\u001B[0m\n\u001B[0;32m    203\u001B[0m         \u001B[1;31m# Since wkhtmltopdf sends its output to stderr we will capture it\u001B[0m\u001B[1;33m\u001B[0m\u001B[1;33m\u001B[0m\u001B[1;33m\u001B[0m\u001B[0m\n",
      "\u001B[1;32md:\\it\\pr\\mypython\\venv\\lib\\site-packages\\pdfkit\\pdfkit.py\u001B[0m in \u001B[0;36mhandle_error\u001B[1;34m(exit_code, stderr)\u001B[0m\n\u001B[0;32m    153\u001B[0m \u001B[1;33m\u001B[0m\u001B[0m\n\u001B[0;32m    154\u001B[0m         \u001B[1;32mif\u001B[0m \u001B[1;34m'Error'\u001B[0m \u001B[1;32min\u001B[0m \u001B[0mstderr\u001B[0m\u001B[1;33m:\u001B[0m\u001B[1;33m\u001B[0m\u001B[1;33m\u001B[0m\u001B[0m\n\u001B[1;32m--> 155\u001B[1;33m             \u001B[1;32mraise\u001B[0m \u001B[0mIOError\u001B[0m\u001B[1;33m(\u001B[0m\u001B[1;34m'wkhtmltopdf reported an error:\\n'\u001B[0m \u001B[1;33m+\u001B[0m \u001B[0mstderr\u001B[0m\u001B[1;33m)\u001B[0m\u001B[1;33m\u001B[0m\u001B[1;33m\u001B[0m\u001B[0m\n\u001B[0m\u001B[0;32m    156\u001B[0m \u001B[1;33m\u001B[0m\u001B[0m\n\u001B[0;32m    157\u001B[0m         \u001B[0merror_msg\u001B[0m \u001B[1;33m=\u001B[0m \u001B[0mstderr\u001B[0m \u001B[1;32mor\u001B[0m \u001B[1;34m'Unknown Error'\u001B[0m\u001B[1;33m\u001B[0m\u001B[1;33m\u001B[0m\u001B[0m\n",
      "\u001B[1;31mOSError\u001B[0m: wkhtmltopdf reported an error:\nExit with code 1 due to network error: ProtocolUnknownError\r\n"
     ]
    }
   ],
   "source": [
    "\n",
    "# pdfkit.from_url('https://www.google.com', 'out.pdf', configuration=congig)\n",
    "pdfkit.from_file('index.html', 'out1.pdf', configuration=congig)\n"
   ],
   "metadata": {
    "collapsed": false,
    "pycharm": {
     "name": "#%%\n"
    }
   }
  },
  {
   "cell_type": "code",
   "execution_count": 19,
   "outputs": [
    {
     "data": {
      "text/plain": "True"
     },
     "execution_count": 19,
     "metadata": {},
     "output_type": "execute_result"
    }
   ],
   "source": [
    "pdfkit.from_file('index.html', 'out5.pdf', configuration=congig, options={'page-size': 'Letter', 'margin-top': '0.75in','margin-right': '0.75in','margin-bottom': '0.75in','margin-left': '0.75in','encoding': \"UTF-8\",'custom-header' : [('Accept-Encoding', 'gzip')],'cookie': [('cookie-name1', 'cookie-value1'), ('cookie-name2', 'cookie-value2')],'outline-depth': 10,'images':True,'enable-local-file-access':True,})"
   ],
   "metadata": {
    "collapsed": false,
    "pycharm": {
     "name": "#%%\n"
    }
   }
  },
  {
   "cell_type": "code",
   "execution_count": 11,
   "outputs": [
    {
     "data": {
      "text/plain": "True"
     },
     "execution_count": 11,
     "metadata": {},
     "output_type": "execute_result"
    }
   ],
   "source": [
    "pdfkit.from_url('https://django.fun/ru/docs/django/4.0/', 'django_4.0.pdf', configuration=congig,\n",
    "                options={\n",
    "                    'outline-depth': 100,\n",
    "                    # 'images':True,\n",
    "                    'no-outline':False,\n",
    "                    # 'enable-smart-shrinking':True,\n",
    "                })"
   ],
   "metadata": {
    "collapsed": false,
    "pycharm": {
     "name": "#%%\n"
    }
   }
  },
  {
   "cell_type": "code",
   "execution_count": 5,
   "outputs": [
    {
     "ename": "OSError",
     "evalue": "wkhtmltopdf exited with non-zero code 1. error:\nQPainter::begin(): Returned false\r\nExit with code 1, due to unknown error.\r\n",
     "output_type": "error",
     "traceback": [
      "\u001B[1;31m---------------------------------------------------------------------------\u001B[0m",
      "\u001B[1;31mOSError\u001B[0m                                   Traceback (most recent call last)",
      "\u001B[1;32m~\\AppData\\Local\\Temp/ipykernel_16624/1820986455.py\u001B[0m in \u001B[0;36m<module>\u001B[1;34m\u001B[0m\n\u001B[1;32m----> 1\u001B[1;33m \u001B[0mpdfkit\u001B[0m\u001B[1;33m.\u001B[0m\u001B[0mfrom_url\u001B[0m\u001B[1;33m(\u001B[0m\u001B[1;34m'https://django.fun/ru/docs/django/4.0/'\u001B[0m\u001B[1;33m,\u001B[0m \u001B[1;34m'django_4.0.pdf'\u001B[0m\u001B[1;33m,\u001B[0m \u001B[0mconfiguration\u001B[0m\u001B[1;33m=\u001B[0m\u001B[0mcongig\u001B[0m\u001B[1;33m,\u001B[0m \u001B[0moptions\u001B[0m\u001B[1;33m=\u001B[0m\u001B[1;33m{\u001B[0m\u001B[1;34m'page-size'\u001B[0m\u001B[1;33m:\u001B[0m \u001B[1;34m'Letter'\u001B[0m\u001B[1;33m,\u001B[0m \u001B[1;34m'margin-top'\u001B[0m\u001B[1;33m:\u001B[0m \u001B[1;34m'0.75in'\u001B[0m\u001B[1;33m,\u001B[0m\u001B[1;34m'margin-right'\u001B[0m\u001B[1;33m:\u001B[0m \u001B[1;34m'0.75in'\u001B[0m\u001B[1;33m,\u001B[0m\u001B[1;34m'margin-bottom'\u001B[0m\u001B[1;33m:\u001B[0m \u001B[1;34m'0.75in'\u001B[0m\u001B[1;33m,\u001B[0m\u001B[1;34m'margin-left'\u001B[0m\u001B[1;33m:\u001B[0m \u001B[1;34m'0.75in'\u001B[0m\u001B[1;33m,\u001B[0m\u001B[1;34m'encoding'\u001B[0m\u001B[1;33m:\u001B[0m \u001B[1;34m\"UTF-8\"\u001B[0m\u001B[1;33m,\u001B[0m\u001B[1;34m'custom-header'\u001B[0m \u001B[1;33m:\u001B[0m \u001B[1;33m[\u001B[0m\u001B[1;33m(\u001B[0m\u001B[1;34m'Accept-Encoding'\u001B[0m\u001B[1;33m,\u001B[0m \u001B[1;34m'gzip'\u001B[0m\u001B[1;33m)\u001B[0m\u001B[1;33m]\u001B[0m\u001B[1;33m,\u001B[0m\u001B[1;34m'cookie'\u001B[0m\u001B[1;33m:\u001B[0m \u001B[1;33m[\u001B[0m\u001B[1;33m(\u001B[0m\u001B[1;34m'cookie-name1'\u001B[0m\u001B[1;33m,\u001B[0m \u001B[1;34m'cookie-value1'\u001B[0m\u001B[1;33m)\u001B[0m\u001B[1;33m,\u001B[0m \u001B[1;33m(\u001B[0m\u001B[1;34m'cookie-name2'\u001B[0m\u001B[1;33m,\u001B[0m \u001B[1;34m'cookie-value2'\u001B[0m\u001B[1;33m)\u001B[0m\u001B[1;33m]\u001B[0m\u001B[1;33m,\u001B[0m\u001B[1;34m'outline-depth'\u001B[0m\u001B[1;33m:\u001B[0m \u001B[1;36m10\u001B[0m\u001B[1;33m,\u001B[0m\u001B[1;34m'images'\u001B[0m\u001B[1;33m:\u001B[0m\u001B[1;32mTrue\u001B[0m\u001B[1;33m,\u001B[0m\u001B[1;34m'enable-local-file-access'\u001B[0m\u001B[1;33m:\u001B[0m\u001B[1;32mTrue\u001B[0m\u001B[1;33m,\u001B[0m\u001B[1;34m'javascript-delay'\u001B[0m\u001B[1;33m:\u001B[0m \u001B[1;36m1000\u001B[0m\u001B[1;33m,\u001B[0m\u001B[1;34m'load-error-handling'\u001B[0m\u001B[1;33m:\u001B[0m\u001B[1;34m'ignore'\u001B[0m\u001B[1;33m,\u001B[0m\u001B[1;34m'load-media-error-handling'\u001B[0m\u001B[1;33m:\u001B[0m\u001B[1;34m'ignore'\u001B[0m\u001B[1;33m,\u001B[0m\u001B[1;34m'no-stop-slow-scripts'\u001B[0m\u001B[1;33m:\u001B[0m\u001B[1;32mTrue\u001B[0m\u001B[1;33m,\u001B[0m\u001B[1;34m'stop-slow-scripts'\u001B[0m\u001B[1;33m:\u001B[0m\u001B[1;32mTrue\u001B[0m\u001B[1;33m,\u001B[0m\u001B[1;34m'enable-javascript'\u001B[0m\u001B[1;33m:\u001B[0m\u001B[1;32mTrue\u001B[0m\u001B[1;33m,\u001B[0m\u001B[1;34m'disable-javascript'\u001B[0m\u001B[1;33m:\u001B[0m\u001B[1;32mTrue\u001B[0m\u001B[1;33m,\u001B[0m\u001B[1;34m'no-outline'\u001B[0m\u001B[1;33m:\u001B[0m\u001B[1;32mTrue\u001B[0m\u001B[1;33m,\u001B[0m\u001B[1;34m'enable-smart-shrinking'\u001B[0m\u001B[1;33m:\u001B[0m\u001B[1;32mTrue\u001B[0m\u001B[1;33m,\u001B[0m\u001B[1;34m'disable-smart-shrinking'\u001B[0m\u001B[1;33m:\u001B[0m\u001B[1;32mTrue\u001B[0m\u001B[1;33m,\u001B[0m\u001B[1;34m'minimum-font-size'\u001B[0m\u001B[1;33m:\u001B[0m\u001B[1;36m10\u001B[0m\u001B[1;33m,\u001B[0m\u001B[1;34m'no-pdf-compression'\u001B[0m\u001B[1;33m:\u001B[0m\u001B[1;32mTrue\u001B[0m\u001B[1;33m,\u001B[0m\u001B[1;34m'print-media-type'\u001B[0m\u001B[1;33m:\u001B[0m\u001B[1;32mTrue\u001B[0m\u001B[1;33m,\u001B[0m\u001B[1;34m'no-print-media-type'\u001B[0m\u001B[1;33m:\u001B[0m\u001B[1;32mTrue\u001B[0m\u001B[1;33m,\u001B[0m\u001B[1;34m'zoom'\u001B[0m\u001B[1;33m:\u001B[0m\u001B[1;36m1.0\u001B[0m\u001B[1;33m,\u001B[0m\u001B[1;34m'dpi'\u001B[0m\u001B[1;33m:\u001B[0m\u001B[1;36m300\u001B[0m\u001B[1;33m,\u001B[0m\u001B[1;33m}\u001B[0m\u001B[1;33m)\u001B[0m\u001B[1;33m\u001B[0m\u001B[1;33m\u001B[0m\u001B[0m\n\u001B[0m",
      "\u001B[1;32md:\\it\\pr\\mypython\\venv\\lib\\site-packages\\pdfkit\\api.py\u001B[0m in \u001B[0;36mfrom_url\u001B[1;34m(url, output_path, options, toc, cover, configuration, cover_first, verbose)\u001B[0m\n\u001B[0;32m     25\u001B[0m                configuration=configuration, cover_first=cover_first, verbose=verbose)\n\u001B[0;32m     26\u001B[0m \u001B[1;33m\u001B[0m\u001B[0m\n\u001B[1;32m---> 27\u001B[1;33m     \u001B[1;32mreturn\u001B[0m \u001B[0mr\u001B[0m\u001B[1;33m.\u001B[0m\u001B[0mto_pdf\u001B[0m\u001B[1;33m(\u001B[0m\u001B[0moutput_path\u001B[0m\u001B[1;33m)\u001B[0m\u001B[1;33m\u001B[0m\u001B[1;33m\u001B[0m\u001B[0m\n\u001B[0m\u001B[0;32m     28\u001B[0m \u001B[1;33m\u001B[0m\u001B[0m\n\u001B[0;32m     29\u001B[0m \u001B[1;33m\u001B[0m\u001B[0m\n",
      "\u001B[1;32md:\\it\\pr\\mypython\\venv\\lib\\site-packages\\pdfkit\\pdfkit.py\u001B[0m in \u001B[0;36mto_pdf\u001B[1;34m(self, path)\u001B[0m\n\u001B[0;32m    199\u001B[0m         \u001B[0mstderr\u001B[0m \u001B[1;33m=\u001B[0m \u001B[0mstderr\u001B[0m\u001B[1;33m.\u001B[0m\u001B[0mdecode\u001B[0m\u001B[1;33m(\u001B[0m\u001B[1;34m'utf-8'\u001B[0m\u001B[1;33m,\u001B[0m \u001B[0merrors\u001B[0m\u001B[1;33m=\u001B[0m\u001B[1;34m'replace'\u001B[0m\u001B[1;33m)\u001B[0m\u001B[1;33m\u001B[0m\u001B[1;33m\u001B[0m\u001B[0m\n\u001B[0;32m    200\u001B[0m         \u001B[0mexit_code\u001B[0m \u001B[1;33m=\u001B[0m \u001B[0mresult\u001B[0m\u001B[1;33m.\u001B[0m\u001B[0mreturncode\u001B[0m\u001B[1;33m\u001B[0m\u001B[1;33m\u001B[0m\u001B[0m\n\u001B[1;32m--> 201\u001B[1;33m         \u001B[0mself\u001B[0m\u001B[1;33m.\u001B[0m\u001B[0mhandle_error\u001B[0m\u001B[1;33m(\u001B[0m\u001B[0mexit_code\u001B[0m\u001B[1;33m,\u001B[0m \u001B[0mstderr\u001B[0m\u001B[1;33m)\u001B[0m\u001B[1;33m\u001B[0m\u001B[1;33m\u001B[0m\u001B[0m\n\u001B[0m\u001B[0;32m    202\u001B[0m \u001B[1;33m\u001B[0m\u001B[0m\n\u001B[0;32m    203\u001B[0m         \u001B[1;31m# Since wkhtmltopdf sends its output to stderr we will capture it\u001B[0m\u001B[1;33m\u001B[0m\u001B[1;33m\u001B[0m\u001B[1;33m\u001B[0m\u001B[0m\n",
      "\u001B[1;32md:\\it\\pr\\mypython\\venv\\lib\\site-packages\\pdfkit\\pdfkit.py\u001B[0m in \u001B[0;36mhandle_error\u001B[1;34m(exit_code, stderr)\u001B[0m\n\u001B[0;32m    156\u001B[0m \u001B[1;33m\u001B[0m\u001B[0m\n\u001B[0;32m    157\u001B[0m         \u001B[0merror_msg\u001B[0m \u001B[1;33m=\u001B[0m \u001B[0mstderr\u001B[0m \u001B[1;32mor\u001B[0m \u001B[1;34m'Unknown Error'\u001B[0m\u001B[1;33m\u001B[0m\u001B[1;33m\u001B[0m\u001B[0m\n\u001B[1;32m--> 158\u001B[1;33m         \u001B[1;32mraise\u001B[0m \u001B[0mIOError\u001B[0m\u001B[1;33m(\u001B[0m\u001B[1;34m\"wkhtmltopdf exited with non-zero code {0}. error:\\n{1}\"\u001B[0m\u001B[1;33m.\u001B[0m\u001B[0mformat\u001B[0m\u001B[1;33m(\u001B[0m\u001B[0mexit_code\u001B[0m\u001B[1;33m,\u001B[0m \u001B[0merror_msg\u001B[0m\u001B[1;33m)\u001B[0m\u001B[1;33m)\u001B[0m\u001B[1;33m\u001B[0m\u001B[1;33m\u001B[0m\u001B[0m\n\u001B[0m\u001B[0;32m    159\u001B[0m \u001B[1;33m\u001B[0m\u001B[0m\n\u001B[0;32m    160\u001B[0m     \u001B[1;32mdef\u001B[0m \u001B[0mto_pdf\u001B[0m\u001B[1;33m(\u001B[0m\u001B[0mself\u001B[0m\u001B[1;33m,\u001B[0m \u001B[0mpath\u001B[0m\u001B[1;33m=\u001B[0m\u001B[1;32mNone\u001B[0m\u001B[1;33m)\u001B[0m\u001B[1;33m:\u001B[0m\u001B[1;33m\u001B[0m\u001B[1;33m\u001B[0m\u001B[0m\n",
      "\u001B[1;31mOSError\u001B[0m: wkhtmltopdf exited with non-zero code 1. error:\nQPainter::begin(): Returned false\r\nExit with code 1, due to unknown error.\r\n"
     ]
    }
   ],
   "source": [
    "pdfkit.from_url('https://django.fun/ru/docs/django/4.0/', 'django_4.0.pdf', configuration=congig, options={'page-size': 'Letter', 'margin-top': '0.75in','margin-right': '0.75in','margin-bottom': '0.75in','margin-left': '0.75in','encoding': \"UTF-8\",'custom-header' : [('Accept-Encoding', 'gzip')],'cookie': [('cookie-name1', 'cookie-value1'), ('cookie-name2', 'cookie-value2')],'outline-depth': 10,'images':True,'enable-local-file-access':True,'javascript-delay': 1000,'load-error-handling':'ignore','load-media-error-handling':'ignore','no-stop-slow-scripts':True,'stop-slow-scripts':True,'enable-javascript':True,'disable-javascript':True,'no-outline':True,'enable-smart-shrinking':True,'disable-smart-shrinking':True,'minimum-font-size':10,'no-pdf-compression':True,'print-media-type':True,'no-print-media-type':True,'zoom':1.0,'dpi':300,})"
   ],
   "metadata": {
    "collapsed": false,
    "pycharm": {
     "name": "#%%\n"
    }
   }
  },
  {
   "cell_type": "code",
   "execution_count": 23,
   "outputs": [
    {
     "ename": "OSError",
     "evalue": "wkhtmltopdf reported an error:\nExit with code 1 due to network error: ContentNotFoundError\r\n",
     "output_type": "error",
     "traceback": [
      "\u001B[1;31m---------------------------------------------------------------------------\u001B[0m",
      "\u001B[1;31mOSError\u001B[0m                                   Traceback (most recent call last)",
      "\u001B[1;32m~\\AppData\\Local\\Temp/ipykernel_9224/1725860721.py\u001B[0m in \u001B[0;36m<module>\u001B[1;34m\u001B[0m\n\u001B[0;32m      1\u001B[0m \u001B[1;32mwith\u001B[0m \u001B[0mopen\u001B[0m\u001B[1;33m(\u001B[0m\u001B[1;34m'index.html'\u001B[0m\u001B[1;33m)\u001B[0m \u001B[1;32mas\u001B[0m \u001B[0mf\u001B[0m\u001B[1;33m:\u001B[0m\u001B[1;33m\u001B[0m\u001B[1;33m\u001B[0m\u001B[0m\n\u001B[1;32m----> 2\u001B[1;33m     \u001B[0mpdfkit\u001B[0m\u001B[1;33m.\u001B[0m\u001B[0mfrom_file\u001B[0m\u001B[1;33m(\u001B[0m\u001B[0mf\u001B[0m\u001B[1;33m,\u001B[0m \u001B[1;34m'out6.pdf'\u001B[0m\u001B[1;33m,\u001B[0m\u001B[0mconfiguration\u001B[0m\u001B[1;33m=\u001B[0m\u001B[0mcongig\u001B[0m\u001B[1;33m,\u001B[0m \u001B[0moptions\u001B[0m\u001B[1;33m=\u001B[0m\u001B[1;33m{\u001B[0m\u001B[1;34m'page-size'\u001B[0m\u001B[1;33m:\u001B[0m \u001B[1;34m'Letter'\u001B[0m\u001B[1;33m,\u001B[0m \u001B[1;34m'margin-top'\u001B[0m\u001B[1;33m:\u001B[0m \u001B[1;34m'0.75in'\u001B[0m\u001B[1;33m,\u001B[0m\u001B[1;34m'margin-right'\u001B[0m\u001B[1;33m:\u001B[0m \u001B[1;34m'0.75in'\u001B[0m\u001B[1;33m,\u001B[0m\u001B[1;34m'margin-bottom'\u001B[0m\u001B[1;33m:\u001B[0m \u001B[1;34m'0.75in'\u001B[0m\u001B[1;33m,\u001B[0m\u001B[1;34m'margin-left'\u001B[0m\u001B[1;33m:\u001B[0m \u001B[1;34m'0.75in'\u001B[0m\u001B[1;33m,\u001B[0m\u001B[1;34m'encoding'\u001B[0m\u001B[1;33m:\u001B[0m \u001B[1;34m\"UTF-8\"\u001B[0m\u001B[1;33m,\u001B[0m\u001B[1;34m'custom-header'\u001B[0m \u001B[1;33m:\u001B[0m \u001B[1;33m[\u001B[0m\u001B[1;33m(\u001B[0m\u001B[1;34m'Accept-Encoding'\u001B[0m\u001B[1;33m,\u001B[0m \u001B[1;34m'gzip'\u001B[0m\u001B[1;33m)\u001B[0m\u001B[1;33m]\u001B[0m\u001B[1;33m,\u001B[0m\u001B[1;34m'cookie'\u001B[0m\u001B[1;33m:\u001B[0m \u001B[1;33m[\u001B[0m\u001B[1;33m(\u001B[0m\u001B[1;34m'cookie-name1'\u001B[0m\u001B[1;33m,\u001B[0m \u001B[1;34m'cookie-value1'\u001B[0m\u001B[1;33m)\u001B[0m\u001B[1;33m,\u001B[0m \u001B[1;33m(\u001B[0m\u001B[1;34m'cookie-name2'\u001B[0m\u001B[1;33m,\u001B[0m \u001B[1;34m'cookie-value2'\u001B[0m\u001B[1;33m)\u001B[0m\u001B[1;33m]\u001B[0m\u001B[1;33m,\u001B[0m\u001B[1;34m'outline-depth'\u001B[0m\u001B[1;33m:\u001B[0m \u001B[1;36m10\u001B[0m\u001B[1;33m,\u001B[0m\u001B[1;34m'images'\u001B[0m\u001B[1;33m:\u001B[0m\u001B[1;32mTrue\u001B[0m\u001B[1;33m,\u001B[0m\u001B[1;34m'enable-local-file-access'\u001B[0m\u001B[1;33m:\u001B[0m\u001B[1;32mTrue\u001B[0m\u001B[1;33m,\u001B[0m\u001B[1;34m'javascript-delay'\u001B[0m\u001B[1;33m:\u001B[0m \u001B[1;36m1000\u001B[0m\u001B[1;33m,\u001B[0m\u001B[1;34m'load-error-handling'\u001B[0m\u001B[1;33m:\u001B[0m\u001B[1;34m'ignore'\u001B[0m\u001B[1;33m,\u001B[0m\u001B[1;34m'load-media-error-handling'\u001B[0m\u001B[1;33m:\u001B[0m\u001B[1;34m'ignore'\u001B[0m\u001B[1;33m,\u001B[0m\u001B[1;34m'no-stop-slow-scripts'\u001B[0m\u001B[1;33m:\u001B[0m\u001B[1;32mTrue\u001B[0m\u001B[1;33m,\u001B[0m\u001B[1;34m'stop-slow-scripts'\u001B[0m\u001B[1;33m:\u001B[0m\u001B[1;32mTrue\u001B[0m\u001B[1;33m,\u001B[0m\u001B[1;34m'enable-javascript'\u001B[0m\u001B[1;33m:\u001B[0m\u001B[1;32mTrue\u001B[0m\u001B[1;33m,\u001B[0m\u001B[1;34m'disable-javascript'\u001B[0m\u001B[1;33m:\u001B[0m\u001B[1;32mTrue\u001B[0m\u001B[1;33m,\u001B[0m\u001B[1;34m'no-outline'\u001B[0m\u001B[1;33m:\u001B[0m\u001B[1;32mTrue\u001B[0m\u001B[1;33m,\u001B[0m\u001B[1;34m'enable-smart-shrinking'\u001B[0m\u001B[1;33m:\u001B[0m\u001B[1;32mTrue\u001B[0m\u001B[1;33m,\u001B[0m\u001B[1;34m'disable-smart-shrinking'\u001B[0m\u001B[1;33m:\u001B[0m\u001B[1;32mTrue\u001B[0m\u001B[1;33m,\u001B[0m\u001B[1;34m'minimum-font-size'\u001B[0m\u001B[1;33m:\u001B[0m\u001B[1;36m10\u001B[0m\u001B[1;33m,\u001B[0m\u001B[1;34m'no-pdf-compression'\u001B[0m\u001B[1;33m:\u001B[0m\u001B[1;32mTrue\u001B[0m\u001B[1;33m,\u001B[0m\u001B[1;34m'print-media-type'\u001B[0m\u001B[1;33m:\u001B[0m\u001B[1;32mTrue\u001B[0m\u001B[1;33m,\u001B[0m\u001B[1;34m'no-print-media-type'\u001B[0m\u001B[1;33m:\u001B[0m\u001B[1;32mTrue\u001B[0m\u001B[1;33m,\u001B[0m\u001B[1;34m'zoom'\u001B[0m\u001B[1;33m:\u001B[0m\u001B[1;36m1.0\u001B[0m\u001B[1;33m,\u001B[0m\u001B[1;34m'dpi'\u001B[0m\u001B[1;33m:\u001B[0m\u001B[1;36m300\u001B[0m\u001B[1;33m,\u001B[0m\u001B[1;33m}\u001B[0m\u001B[1;33m)\u001B[0m\u001B[1;33m\u001B[0m\u001B[1;33m\u001B[0m\u001B[0m\n\u001B[0m",
      "\u001B[1;32md:\\it\\pr\\mypython\\venv\\lib\\site-packages\\pdfkit\\api.py\u001B[0m in \u001B[0;36mfrom_file\u001B[1;34m(input, output_path, options, toc, cover, css, configuration, cover_first, verbose)\u001B[0m\n\u001B[0;32m     49\u001B[0m                configuration=configuration, cover_first=cover_first, verbose=verbose)\n\u001B[0;32m     50\u001B[0m \u001B[1;33m\u001B[0m\u001B[0m\n\u001B[1;32m---> 51\u001B[1;33m     \u001B[1;32mreturn\u001B[0m \u001B[0mr\u001B[0m\u001B[1;33m.\u001B[0m\u001B[0mto_pdf\u001B[0m\u001B[1;33m(\u001B[0m\u001B[0moutput_path\u001B[0m\u001B[1;33m)\u001B[0m\u001B[1;33m\u001B[0m\u001B[1;33m\u001B[0m\u001B[0m\n\u001B[0m\u001B[0;32m     52\u001B[0m \u001B[1;33m\u001B[0m\u001B[0m\n\u001B[0;32m     53\u001B[0m \u001B[1;33m\u001B[0m\u001B[0m\n",
      "\u001B[1;32md:\\it\\pr\\mypython\\venv\\lib\\site-packages\\pdfkit\\pdfkit.py\u001B[0m in \u001B[0;36mto_pdf\u001B[1;34m(self, path)\u001B[0m\n\u001B[0;32m    199\u001B[0m         \u001B[0mstderr\u001B[0m \u001B[1;33m=\u001B[0m \u001B[0mstderr\u001B[0m\u001B[1;33m.\u001B[0m\u001B[0mdecode\u001B[0m\u001B[1;33m(\u001B[0m\u001B[1;34m'utf-8'\u001B[0m\u001B[1;33m,\u001B[0m \u001B[0merrors\u001B[0m\u001B[1;33m=\u001B[0m\u001B[1;34m'replace'\u001B[0m\u001B[1;33m)\u001B[0m\u001B[1;33m\u001B[0m\u001B[1;33m\u001B[0m\u001B[0m\n\u001B[0;32m    200\u001B[0m         \u001B[0mexit_code\u001B[0m \u001B[1;33m=\u001B[0m \u001B[0mresult\u001B[0m\u001B[1;33m.\u001B[0m\u001B[0mreturncode\u001B[0m\u001B[1;33m\u001B[0m\u001B[1;33m\u001B[0m\u001B[0m\n\u001B[1;32m--> 201\u001B[1;33m         \u001B[0mself\u001B[0m\u001B[1;33m.\u001B[0m\u001B[0mhandle_error\u001B[0m\u001B[1;33m(\u001B[0m\u001B[0mexit_code\u001B[0m\u001B[1;33m,\u001B[0m \u001B[0mstderr\u001B[0m\u001B[1;33m)\u001B[0m\u001B[1;33m\u001B[0m\u001B[1;33m\u001B[0m\u001B[0m\n\u001B[0m\u001B[0;32m    202\u001B[0m \u001B[1;33m\u001B[0m\u001B[0m\n\u001B[0;32m    203\u001B[0m         \u001B[1;31m# Since wkhtmltopdf sends its output to stderr we will capture it\u001B[0m\u001B[1;33m\u001B[0m\u001B[1;33m\u001B[0m\u001B[1;33m\u001B[0m\u001B[0m\n",
      "\u001B[1;32md:\\it\\pr\\mypython\\venv\\lib\\site-packages\\pdfkit\\pdfkit.py\u001B[0m in \u001B[0;36mhandle_error\u001B[1;34m(exit_code, stderr)\u001B[0m\n\u001B[0;32m    153\u001B[0m \u001B[1;33m\u001B[0m\u001B[0m\n\u001B[0;32m    154\u001B[0m         \u001B[1;32mif\u001B[0m \u001B[1;34m'Error'\u001B[0m \u001B[1;32min\u001B[0m \u001B[0mstderr\u001B[0m\u001B[1;33m:\u001B[0m\u001B[1;33m\u001B[0m\u001B[1;33m\u001B[0m\u001B[0m\n\u001B[1;32m--> 155\u001B[1;33m             \u001B[1;32mraise\u001B[0m \u001B[0mIOError\u001B[0m\u001B[1;33m(\u001B[0m\u001B[1;34m'wkhtmltopdf reported an error:\\n'\u001B[0m \u001B[1;33m+\u001B[0m \u001B[0mstderr\u001B[0m\u001B[1;33m)\u001B[0m\u001B[1;33m\u001B[0m\u001B[1;33m\u001B[0m\u001B[0m\n\u001B[0m\u001B[0;32m    156\u001B[0m \u001B[1;33m\u001B[0m\u001B[0m\n\u001B[0;32m    157\u001B[0m         \u001B[0merror_msg\u001B[0m \u001B[1;33m=\u001B[0m \u001B[0mstderr\u001B[0m \u001B[1;32mor\u001B[0m \u001B[1;34m'Unknown Error'\u001B[0m\u001B[1;33m\u001B[0m\u001B[1;33m\u001B[0m\u001B[0m\n",
      "\u001B[1;31mOSError\u001B[0m: wkhtmltopdf reported an error:\nExit with code 1 due to network error: ContentNotFoundError\r\n"
     ]
    }
   ],
   "source": [
    "with open('index.html') as f:\n",
    "    pdfkit.from_file(f, 'out6.pdf',configuration=congig, options={'page-size': 'Letter', 'margin-top': '0.75in','margin-right': '0.75in','margin-bottom': '0.75in','margin-left': '0.75in','encoding': \"UTF-8\",'custom-header' : [('Accept-Encoding', 'gzip')],'cookie': [('cookie-name1', 'cookie-value1'), ('cookie-name2', 'cookie-value2')],'outline-depth': 10,'images':True,'enable-local-file-access':True,'javascript-delay': 1000,'load-error-handling':'ignore','load-media-error-handling':'ignore','no-stop-slow-scripts':True,'stop-slow-scripts':True,'enable-javascript':True,'disable-javascript':True,'no-outline':True,'enable-smart-shrinking':True,'disable-smart-shrinking':True,'minimum-font-size':10,'no-pdf-compression':True,'print-media-type':True,'no-print-media-type':True,'zoom':1.0,'dpi':300,})"
   ],
   "metadata": {
    "collapsed": false,
    "pycharm": {
     "name": "#%%\n"
    }
   }
  },
  {
   "cell_type": "code",
   "execution_count": 37,
   "outputs": [
    {
     "data": {
      "text/plain": "True"
     },
     "execution_count": 37,
     "metadata": {},
     "output_type": "execute_result"
    }
   ],
   "source": [
    "options = {\n",
    "  \"disable-local-file-access\": None,\n",
    "  \"enable-local-file-access\": None,\n",
    "  \"print-media-type\": None,\n",
    "    'encoding': 'UTF-8',\n",
    "            'custom-header': [\n",
    "        ('Accept-Encoding', 'gzip')\n",
    "    ],\n",
    "    'no-outline': None\n",
    "    }\n",
    "\n",
    "pdfkit.from_url('index.html', 'out1.pdf', configuration=congig, options=options)\n",
    "\n",
    "# pdfkit.from_file('index.html', 'out6.pdf',configuration=congig, options=options)"
   ],
   "metadata": {
    "collapsed": false,
    "pycharm": {
     "name": "#%%\n"
    }
   }
  },
  {
   "cell_type": "code",
   "execution_count": null,
   "outputs": [],
   "source": [
    "pdfkit.from_file('index.html', 'out3.pdf', configuration=congig, options={})"
   ],
   "metadata": {
    "collapsed": false,
    "pycharm": {
     "name": "#%%\n"
    }
   }
  },
  {
   "cell_type": "code",
   "execution_count": null,
   "outputs": [],
   "source": [],
   "metadata": {
    "collapsed": false,
    "pycharm": {
     "name": "#%%\n"
    }
   }
  },
  {
   "cell_type": "code",
   "execution_count": 38,
   "outputs": [
    {
     "data": {
      "text/plain": "True"
     },
     "execution_count": 38,
     "metadata": {},
     "output_type": "execute_result"
    }
   ],
   "source": [
    "import pdfkit\n",
    "options = {\n",
    "    'page-size': 'Letter',\n",
    "    'margin-top': '0.75in',\n",
    "    'margin-right': '0.75in',\n",
    "    'margin-bottom': '0.75in',\n",
    "    'margin-left': '0.75in',\n",
    "    'encoding': \"UTF-8\",\n",
    "    'custom-header' : [\n",
    "        ('Accept-Encoding', 'gzip')\n",
    "    ],\n",
    "    'cookie': [\n",
    "        ('cookie-name1', 'cookie-value1'),\n",
    "        ('cookie-name2', 'cookie-value2')\n",
    "    ],\n",
    "    'outline-depth': 10,\n",
    "    'images':True,\n",
    "    'enable-local-file-access':True,\n",
    "    'javascript-delay': 1000,\n",
    "    'load-error-handling':'ignore',\n",
    "    'load-media-error-handling':'ignore',\n",
    "    'no-stop-slow-scripts':True,\n",
    "    'stop-slow-scripts':True,\n",
    "    'enable-javascript':True,\n",
    "    'disable-javascript':True,\n",
    "    'no-outline':True,\n",
    "    'enable-smart-shrinking':True,\n",
    "    'disable-smart-shrinking':True,\n",
    "    'minimum-font-size':10,\n",
    "    'no-pdf-compression':True,\n",
    "    'print-media-type':True,\n",
    "    'no-print-media-type':True,\n",
    "    'zoom':1.0,\n",
    "    'dpi':300,\n",
    "    'orientation':'Landscape',\n",
    "    'page-width':'8.5in',\n",
    "    'page-height':'11.0in',\n",
    "    'footer-center':'[page]/[toPage]',\n",
    "    'footer-font-size':9,\n",
    "    'footer-line':True,\n",
    "    'footer-spacing':6,\n",
    "    'footer-right':'[date] [time]',\n",
    "    'footer-font-name':'Times-Roman',\n",
    "    'footer-font-size':9,\n",
    "    'footer-left':'[title]',\n",
    "    'header-center':'[page]/[toPage]',\n",
    "    'header-font-size':9,\n",
    "    'header-line':True,\n",
    "}\n",
    "pdfkit.from_file('index.html', 'out3.pdf', configuration=congig, options=options)"
   ],
   "metadata": {
    "collapsed": false,
    "pycharm": {
     "name": "#%%\n"
    }
   }
  },
  {
   "cell_type": "code",
   "execution_count": null,
   "outputs": [],
   "source": [],
   "metadata": {
    "collapsed": false,
    "pycharm": {
     "name": "#%%\n"
    }
   }
  },
  {
   "cell_type": "code",
   "execution_count": null,
   "outputs": [],
   "source": [
    "weasyprint.HTML('index.html').write_pdf('out4.pdf', stylesheets=[weasyprint.CSS('style.css')])"
   ],
   "metadata": {
    "collapsed": false,
    "pycharm": {
     "name": "#%%\n"
    }
   }
  },
  {
   "cell_type": "code",
   "execution_count": 40,
   "outputs": [
    {
     "ename": "ModuleNotFoundError",
     "evalue": "No module named 'PyQt4'",
     "output_type": "error",
     "traceback": [
      "\u001B[1;31m---------------------------------------------------------------------------\u001B[0m",
      "\u001B[1;31mModuleNotFoundError\u001B[0m                       Traceback (most recent call last)",
      "\u001B[1;32m~\\AppData\\Local\\Temp/ipykernel_9224/2726355615.py\u001B[0m in \u001B[0;36m<module>\u001B[1;34m\u001B[0m\n\u001B[1;32m----> 1\u001B[1;33m \u001B[1;32mfrom\u001B[0m \u001B[0mPyQt4\u001B[0m\u001B[1;33m.\u001B[0m\u001B[0mQtGui\u001B[0m \u001B[1;32mimport\u001B[0m \u001B[0mQTextDocument\u001B[0m\u001B[1;33m,\u001B[0m \u001B[0mQPrinter\u001B[0m\u001B[1;33m,\u001B[0m \u001B[0mQApplication\u001B[0m\u001B[1;33m\u001B[0m\u001B[1;33m\u001B[0m\u001B[0m\n\u001B[0m\u001B[0;32m      2\u001B[0m \u001B[1;33m\u001B[0m\u001B[0m\n\u001B[0;32m      3\u001B[0m \u001B[1;32mimport\u001B[0m \u001B[0msys\u001B[0m\u001B[1;33m\u001B[0m\u001B[1;33m\u001B[0m\u001B[0m\n\u001B[0;32m      4\u001B[0m \u001B[0mapp\u001B[0m \u001B[1;33m=\u001B[0m \u001B[0mQApplication\u001B[0m\u001B[1;33m(\u001B[0m\u001B[0msys\u001B[0m\u001B[1;33m.\u001B[0m\u001B[0margv\u001B[0m\u001B[1;33m)\u001B[0m\u001B[1;33m\u001B[0m\u001B[1;33m\u001B[0m\u001B[0m\n\u001B[0;32m      5\u001B[0m \u001B[1;33m\u001B[0m\u001B[0m\n",
      "\u001B[1;31mModuleNotFoundError\u001B[0m: No module named 'PyQt4'"
     ]
    }
   ],
   "source": [
    "from PyQt4.QtGui import QTextDocument, QPrinter, QApplication\n",
    "\n",
    "import sys\n",
    "app = QApplication(sys.argv)\n",
    "\n",
    "doc = QTextDocument()\n",
    "location = \"index.html\"\n",
    "html = open(location).read()\n",
    "doc.setHtml(html)\n",
    "\n",
    "printer = QPrinter()\n",
    "printer.setOutputFileName(\"foo.pdf\")\n",
    "printer.setOutputFormat(QPrinter.PdfFormat)\n",
    "printer.setPageSize(QPrinter.A4);\n",
    "printer.setPageMargins (15,15,15,15,QPrinter.Millimeter);\n",
    "\n",
    "doc.print_(printer)"
   ],
   "metadata": {
    "collapsed": false,
    "pycharm": {
     "name": "#%%\n"
    }
   }
  },
  {
   "cell_type": "code",
   "execution_count": 42,
   "outputs": [
    {
     "ename": "ImportError",
     "evalue": "cannot import name 'QtWebEngineWidgets' from 'PyQt5' (d:\\it\\pr\\mypython\\venv\\lib\\site-packages\\PyQt5\\__init__.py)",
     "output_type": "error",
     "traceback": [
      "\u001B[1;31m---------------------------------------------------------------------------\u001B[0m",
      "\u001B[1;31mImportError\u001B[0m                               Traceback (most recent call last)",
      "\u001B[1;32m~\\AppData\\Local\\Temp/ipykernel_9224/2260662511.py\u001B[0m in \u001B[0;36m<module>\u001B[1;34m\u001B[0m\n\u001B[0;32m      1\u001B[0m \u001B[1;32mimport\u001B[0m \u001B[0msys\u001B[0m\u001B[1;33m\u001B[0m\u001B[1;33m\u001B[0m\u001B[0m\n\u001B[1;32m----> 2\u001B[1;33m \u001B[1;32mfrom\u001B[0m \u001B[0mPyQt5\u001B[0m \u001B[1;32mimport\u001B[0m \u001B[0mQtWidgets\u001B[0m\u001B[1;33m,\u001B[0m \u001B[0mQtWebEngineWidgets\u001B[0m\u001B[1;33m\u001B[0m\u001B[1;33m\u001B[0m\u001B[0m\n\u001B[0m\u001B[0;32m      3\u001B[0m \u001B[1;32mfrom\u001B[0m \u001B[0mPyQt5\u001B[0m\u001B[1;33m.\u001B[0m\u001B[0mQtCore\u001B[0m \u001B[1;32mimport\u001B[0m \u001B[0mQUrl\u001B[0m\u001B[1;33m\u001B[0m\u001B[1;33m\u001B[0m\u001B[0m\n\u001B[0;32m      4\u001B[0m \u001B[1;32mfrom\u001B[0m \u001B[0mPyQt5\u001B[0m\u001B[1;33m.\u001B[0m\u001B[0mQtGui\u001B[0m \u001B[1;32mimport\u001B[0m \u001B[0mQPageLayout\u001B[0m\u001B[1;33m,\u001B[0m \u001B[0mQPageSize\u001B[0m\u001B[1;33m\u001B[0m\u001B[1;33m\u001B[0m\u001B[0m\n\u001B[0;32m      5\u001B[0m \u001B[1;32mfrom\u001B[0m \u001B[0mPyQt5\u001B[0m\u001B[1;33m.\u001B[0m\u001B[0mQtWidgets\u001B[0m \u001B[1;32mimport\u001B[0m \u001B[0mQApplication\u001B[0m\u001B[1;33m\u001B[0m\u001B[1;33m\u001B[0m\u001B[0m\n",
      "\u001B[1;31mImportError\u001B[0m: cannot import name 'QtWebEngineWidgets' from 'PyQt5' (d:\\it\\pr\\mypython\\venv\\lib\\site-packages\\PyQt5\\__init__.py)"
     ]
    }
   ],
   "source": [
    "import sys\n",
    "from PyQt5 import QtWidgets, QtWebEngineWidgets\n",
    "from PyQt5.QtCore import QUrl\n",
    "from PyQt5.QtGui import QPageLayout, QPageSize\n",
    "from PyQt5.QtWidgets import QApplication"
   ],
   "metadata": {
    "collapsed": false,
    "pycharm": {
     "name": "#%%\n"
    }
   }
  },
  {
   "cell_type": "code",
   "execution_count": null,
   "outputs": [],
   "source": [
    "\n",
    "if __name__ == '__main__':\n",
    "    app = QtWidgets.QApplication(sys.argv)\n",
    "    loader = QtWebEngineWidgets.QWebEngineView()\n",
    "    loader.setZoomFactor(1)\n",
    "    layout = QPageLayout()\n",
    "    layout.setPageSize(QPageSize(QPageSize.A4Extra))\n",
    "    layout.setOrientation(QPageLayout.Portrait)\n",
    "    loader.load(QUrl('https://stackoverflow.com/questions/23359083/how-to-convert-webpage-into-pdf-by-using-python'))\n",
    "    loader.page().pdfPrintingFinished.connect(lambda *args: QApplication.exit())\n",
    "\n",
    "    def emit_pdf(finished):\n",
    "        loader.page().printToPdf(\"test.pdf\", pageLayout=layout)\n",
    "\n",
    "    loader.loadFinished.connect(emit_pdf)\n",
    "    sys.exit(app.exec_())"
   ],
   "metadata": {
    "collapsed": false,
    "pycharm": {
     "name": "#%%\n"
    }
   }
  },
  {
   "cell_type": "code",
   "execution_count": null,
   "outputs": [],
   "source": [],
   "metadata": {
    "collapsed": false,
    "pycharm": {
     "name": "#%%\n"
    }
   }
  }
 ],
 "metadata": {
  "kernelspec": {
   "display_name": "Python 3",
   "language": "python",
   "name": "python3"
  },
  "language_info": {
   "codemirror_mode": {
    "name": "ipython",
    "version": 2
   },
   "file_extension": ".py",
   "mimetype": "text/x-python",
   "name": "python",
   "nbconvert_exporter": "python",
   "pygments_lexer": "ipython2",
   "version": "2.7.6"
  }
 },
 "nbformat": 4,
 "nbformat_minor": 0
}