{
 "cells": [
  {
   "cell_type": "code",
   "execution_count": 1,
   "metadata": {
    "collapsed": true,
    "pycharm": {
     "name": "#%%\n"
    }
   },
   "outputs": [],
   "source": [
    "from sqlalchemy import create_engine\n",
    "from sqlalchemy.engine.url import URL\n",
    "import datetime\n",
    "import pandas as pd\n",
    "from hashlib import md5\n",
    "from google.cloud import storage\n",
    "from google.oauth2 import service_account\n",
    "from imap_tools import MailBox, UidRange, A\n",
    "import sys\n",
    "from configparser import ConfigParser\n",
    "import os"
   ]
  },
  {
   "cell_type": "code",
   "execution_count": 18,
   "outputs": [],
   "source": [
    "def get_client():\n",
    "    # Google Storage\n",
    "\n",
    "    # base_path = os.path.dirname(os.path.abspath(__file__))\n",
    "\n",
    "    credentials_storage = service_account.Credentials.from_service_account_file(\n",
    "        # filename = os.path.join(base_path, \"credentials.json\")\n",
    "        filename='credentials.json',\n",
    "        scopes=['https://www.googleapis.com/auth/devstorage.full_control'],\n",
    "    )\n",
    "    client = storage.Client(credentials=credentials_storage)\n",
    "    bucket = client.get_bucket('cabinet_bucket')\n",
    "\n",
    "    return bucket\n",
    "\n",
    "def insert_message(conn, ds_messages):\n",
    "    df_messages = pd.DataFrame(data=ds_messages)\n",
    "    df_messages.to_sql('eml_message', conn, if_exists='append', index=False)\n",
    "    df_mess_id = pd.read_sql(\"select max(id) from eml_message\", conn)\n",
    "    message_id = df_mess_id.iloc[0][0]\n",
    "    return message_id\n",
    "\n",
    "\n",
    "def insert_message_to(conn, message_id, emails_id):\n",
    "    ds = []\n",
    "    for emailaddress_id in emails_id:\n",
    "        ds.append({\n",
    "         'message_id': message_id,\n",
    "         'emailaddress_id': emailaddress_id,\n",
    "    })\n",
    "\n",
    "    df = pd.DataFrame( data=ds)\n",
    "    df.to_sql('eml_message_email_to', conn, if_exists='append', index=False)\n",
    "\n",
    "\n",
    "\n",
    "def insert_message_files(conn, message_id, files_id):\n",
    "    ds = []\n",
    "    for file_id in files_id:\n",
    "        ds.append({\n",
    "         'message_id': message_id,\n",
    "         'file_id': file_id,\n",
    "    })\n",
    "\n",
    "    df = pd.DataFrame( data=ds)\n",
    "    df.to_sql('eml_message_files', conn, if_exists='append', index=False)\n",
    "\n",
    "def rename_filename(filename):\n",
    "    filename = filename.replace(' ', '_')\n",
    "    filename = filename.replace('(', '')\n",
    "    filename = filename.replace(')', '')\n",
    "    return filename\n",
    "\n",
    "def add_file(conn, file, owner_id, project_id, folder_id=None):\n",
    "    # df_files = pd.read_sql('''select file from projects_file''', conn)\n",
    "    if file.filename != '' and not file.filename.startswith('icon'):\n",
    "        try:\n",
    "            name = file.filename\n",
    "\n",
    "            slug = unique_slug_generator(conn, project_id, name)\n",
    "\n",
    "            path = str(project_id)\n",
    "            if folder_id:\n",
    "                path = get_all_folders_file(conn, folder_id)\n",
    "                path = '/'.join(path)\n",
    "\n",
    "            path_full = path + '/' + rename_filename(name)\n",
    "\n",
    "            blob = bucket.blob(path_full)\n",
    "            df_files = pd.read_sql(f'''select file from projects_file where file = '{path_full}' ''', conn)\n",
    "\n",
    "            if blob.exists() or len(df_files) > 0:\n",
    "                filename = name.rsplit('.', 1)\n",
    "                if len(filename) == 1:\n",
    "                    name = f'{filename[0]}_{slug}'\n",
    "                else:\n",
    "                    name = f'{filename[0]}_{slug}.{filename[1]}'\n",
    "\n",
    "                path_full = path + '/' + rename_filename(name)\n",
    "\n",
    "                blob = bucket.blob(path_full)\n",
    "\n",
    "            blob.upload_from_string(file.payload, content_type=file.content_type)\n",
    "\n",
    "            dt = datetime.datetime.now().strftime(\"%Y-%m-%d %H:%M:%S\")\n",
    "\n",
    "            ds = [{\n",
    "                'name': name,\n",
    "                'file': path,\n",
    "                'updated_at': dt,\n",
    "                'updated_by_id': owner_id,\n",
    "                'owner_id': owner_id,\n",
    "                'slug': slug,\n",
    "                'project_id': project_id,\n",
    "                'folder_id': folder_id,\n",
    "                'size': file.size,\n",
    "                'is_public': False,\n",
    "            }]\n",
    "            df = pd.DataFrame(data=ds)\n",
    "            df.to_sql('projects_file', conn, if_exists='append', index=False)\n",
    "            df_file_id = pd.read_sql(\"select max(id) from projects_file\", conn)\n",
    "            file_id = df_file_id.iloc[0][0]\n",
    "            return file_id\n",
    "        except Exception as e:\n",
    "            print(e)\n",
    "\n",
    "        return None\n",
    "\n",
    "\n",
    "def get_project_id(conn, user_id):\n",
    "    df_project_members = pd.read_sql(\"select project_id, appuser_id from projects_project_members\", conn)\n",
    "    project_id = df_project_members[df_project_members['appuser_id'] == user_id]['project_id']\n",
    "    if len(project_id) > 0:\n",
    "        return project_id.iloc[0]\n",
    "    else:\n",
    "        return None\n",
    "\n",
    "def get_user_id(conn, email):\n",
    "    df_user = pd.read_sql(\"select id, email from profile_app_appuser\", conn)\n",
    "    user_s = df_user[df_user['email'] == email]['id']\n",
    "    if len(user_s) > 0:\n",
    "        return user_s.iloc[0]\n",
    "    else:\n",
    "        user_s = df_user[df_user['email'] == 'alermar17@gmail.com']['id']\n",
    "        # user_s = df_user[df_user['email'] == 'info@grand.engineering']['id']\n",
    "        return user_s.iloc[0]\n",
    "\n",
    "def get_emailaddress_id(conn, email):\n",
    "    df_adr = pd.read_sql(\"select * from eml_emailaddress\", conn)\n",
    "    adr_s = df_adr[df_adr['email'] == email]['id']\n",
    "    if len(adr_s) > 0:\n",
    "        return adr_s.iloc[0]\n",
    "    else:\n",
    "        df_adr_new = pd.DataFrame( data=[{'email': email}])\n",
    "        df_adr_new.to_sql('eml_emailaddress', engine, if_exists='append', index=False)\n",
    "        df_adr = pd.read_sql(\"select * from eml_emailaddress\", conn)\n",
    "        adr_s = df_adr[df_adr['email'] == email]['id']\n",
    "        return adr_s.iloc[0]\n",
    "\n",
    "def unique_slug_generator(conn, id, name):\n",
    "    TRUNC_SYMBOLS = 20\n",
    "    slug = md5((name + str(id)).encode()).hexdigest()[:TRUNC_SYMBOLS]\n",
    "\n",
    "    ls_slug = pd.read_sql(\"select slug from projects_file\", conn)\n",
    "    ls_slug = ls_slug['slug'].tolist()\n",
    "\n",
    "    while slug in ls_slug:\n",
    "        slug = md5((name + str(id) + slug).encode()).hexdigest()[:TRUNC_SYMBOLS]\n",
    "\n",
    "    return slug\n",
    "\n",
    "def get_all_folders_file(conn, folder_id):\n",
    "    parent_folder_id = folder_id\n",
    "\n",
    "    df = pd.read_sql(f\"select project_id from projects_folder where id={parent_folder_id}\", conn,)\n",
    "    project_id = df.iloc[0]['project_id']\n",
    "\n",
    "    ls_folders_id = []\n",
    "    ls_folders_id.append(parent_folder_id)\n",
    "\n",
    "    while parent_folder_id is not None:\n",
    "        df = pd.read_sql(f\"select parent_folder_id from projects_folder where id={parent_folder_id}\", conn,)\n",
    "\n",
    "        if len(df) > 0:\n",
    "            parent_folder_id = df.iloc[0]['parent_folder_id']\n",
    "            if parent_folder_id is not None:\n",
    "                ls_folders_id.append(parent_folder_id)\n",
    "        else:\n",
    "            parent_folder_id = None\n",
    "\n",
    "    ls_folders_id.append(project_id)\n",
    "    ls_folders_id.reverse()\n",
    "    ls_folders_id = [str(x) for x in ls_folders_id]\n",
    "    return ls_folders_id"
   ],
   "metadata": {
    "collapsed": false,
    "pycharm": {
     "name": "#%%\n"
    }
   }
  },
  {
   "cell_type": "code",
   "execution_count": 3,
   "outputs": [],
   "source": [
    "DATABASES = {\n",
    "        'drivername': 'postgresql',\n",
    "        'database': 'test2',\n",
    "        'username': 'postgres',\n",
    "        'password': '11',\n",
    "        'host': 'localhost',\n",
    "        'port': '5432',\n",
    "    }\n",
    "\n",
    "engine = create_engine(URL.create(**DATABASES))\n",
    "conn = engine.connect()\n",
    "\n",
    "bucket = get_client()"
   ],
   "metadata": {
    "collapsed": false,
    "pycharm": {
     "name": "#%%\n"
    }
   }
  },
  {
   "cell_type": "code",
   "execution_count": 4,
   "outputs": [],
   "source": [
    "# base_path = os.path.dirname(os.path.abspath(__file__))\n",
    "# config_path = os.path.join(base_path, \"email.ini\")\n",
    "# if os.path.exists(config_path):\n",
    "#     cfg = ConfigParser()\n",
    "#     cfg.read(config_path)\n",
    "# else:\n",
    "#     print(\"Config not found! Exiting!\")\n",
    "#     sys.exit(1)\n",
    "\n",
    "if os.path.exists('email.ini'):\n",
    "    cfg = ConfigParser()\n",
    "    cfg.read('email.ini')\n",
    "else:\n",
    "    print(\"Config not found! Exiting!\")\n",
    "    sys.exit(1)\n",
    "\n",
    "EMAIL_HOST_USER = cfg.get('smtp', 'EMAIL_HOST_USER')\n",
    "EMAIL_HOST_PASSWORD = cfg.get('smtp', 'EMAIL_HOST_PASSWORD')\n",
    "EMAIL_HOST = cfg.get('smtp', 'EMAIL_HOST')\n",
    "EMAIL_PORT = cfg.get('smtp', 'EMAIL_PORT')"
   ],
   "metadata": {
    "collapsed": false,
    "pycharm": {
     "name": "#%%\n"
    }
   }
  },
  {
   "cell_type": "code",
   "execution_count": 19,
   "outputs": [],
   "source": [
    "ls_error = []\n",
    "def load_emails(conn):\n",
    "    def get_emails(is_incoming):\n",
    "        df_uids = pd.read_sql(f\"select max(uid_host) from eml_message where is_incoming={is_incoming}\", conn)\n",
    "        uid = df_uids['max'].iloc[0]\n",
    "\n",
    "        ls = mailbox.uids()\n",
    "        uid = ls[-2]\n",
    "\n",
    "        messages = mailbox.fetch(A(uid=UidRange(uid, '*')))\n",
    "        for msg in messages:\n",
    "            try:\n",
    "                uid_host = int(msg.uid)\n",
    "                # if uid_host not in df_uids[0]:\n",
    "                if True:\n",
    "                    email_from = ''\n",
    "                    if msg.headers.get('x-google-original-from'):\n",
    "                        email_from = msg.headers['x-google-original-from']\n",
    "                    else:\n",
    "                        email_from = msg.from_\n",
    "\n",
    "\n",
    "                    email_to = []\n",
    "                    for to in msg.to:\n",
    "                        email_to.append(get_emailaddress_id(conn, to))\n",
    "\n",
    "                    user_id = get_user_id(conn, email_from)\n",
    "\n",
    "\n",
    "                    folder_id = 27\n",
    "                    project_id = 3\n",
    "                    # project_id = 35\n",
    "                    # folder_id = 461\n",
    "                    proj_folder_id = msg.subject.rsplit('~&', 1)\n",
    "                    if len(proj_folder_id) == 2:\n",
    "                        proj_folder_id = proj_folder_id[1].split('.')\n",
    "                        if len(proj_folder_id) == 2:\n",
    "                            project_id = proj_folder_id[0]\n",
    "                            folder_id = proj_folder_id[1]\n",
    "                        else:\n",
    "                            project_id = proj_folder_id[0]\n",
    "                    else:\n",
    "                        proj_id = get_project_id(conn, user_id)\n",
    "                        if proj_id is not None:\n",
    "                            project_id = proj_id\n",
    "\n",
    "\n",
    "                    files_id = []\n",
    "                    for file in msg.attachments:\n",
    "                        file_id = add_file(conn, file, user_id, project_id, folder_id)\n",
    "                        if file_id is not None:\n",
    "                            files_id.append(file_id)\n",
    "\n",
    "                    ds = [{\n",
    "                         'topic': msg.subject,\n",
    "                         'text': msg.text,\n",
    "                         'html': msg.html,\n",
    "                         'email_from': email_from,\n",
    "                         'created': msg.date,\n",
    "                         'uid_host': int(msg.uid),\n",
    "                         'is_incoming': is_incoming,\n",
    "                         'folder_id': folder_id,\n",
    "                         'project_id': project_id,\n",
    "                    }]\n",
    "\n",
    "                    message_id = insert_message(conn, ds)\n",
    "                    insert_message_to(conn, message_id, email_to)\n",
    "                    insert_message_files(conn, message_id, files_id)\n",
    "\n",
    "            except Exception as e:\n",
    "                ls_error.append(e)\n",
    "\n",
    "    with MailBox('imap.gmail.com').login(EMAIL_HOST_USER, EMAIL_HOST_PASSWORD,\n",
    "                                         'INBOX') as mailbox:\n",
    "\n",
    "        get_emails(True)\n",
    "        # mailbox.folder.set('[Gmail]/Надіслані')\n",
    "        mailbox.folder.set('[Gmail]/Отправленные')\n",
    "        get_emails(False)"
   ],
   "metadata": {
    "collapsed": false,
    "pycharm": {
     "name": "#%%\n"
    }
   }
  },
  {
   "cell_type": "code",
   "execution_count": 21,
   "outputs": [],
   "source": [
    "load_emails(conn)"
   ],
   "metadata": {
    "collapsed": false,
    "pycharm": {
     "name": "#%%\n"
    }
   }
  },
  {
   "cell_type": "code",
   "execution_count": null,
   "outputs": [],
   "source": [],
   "metadata": {
    "collapsed": false,
    "pycharm": {
     "name": "#%%\n"
    }
   }
  },
  {
   "cell_type": "code",
   "execution_count": null,
   "outputs": [],
   "source": [],
   "metadata": {
    "collapsed": false,
    "pycharm": {
     "name": "#%%\n"
    }
   }
  },
  {
   "cell_type": "code",
   "execution_count": null,
   "outputs": [],
   "source": [],
   "metadata": {
    "collapsed": false,
    "pycharm": {
     "name": "#%%\n"
    }
   }
  },
  {
   "cell_type": "code",
   "execution_count": null,
   "outputs": [],
   "source": [],
   "metadata": {
    "collapsed": false,
    "pycharm": {
     "name": "#%%\n"
    }
   }
  },
  {
   "cell_type": "code",
   "execution_count": null,
   "outputs": [],
   "source": [],
   "metadata": {
    "collapsed": false,
    "pycharm": {
     "name": "#%%\n"
    }
   }
  },
  {
   "cell_type": "code",
   "execution_count": null,
   "outputs": [],
   "source": [],
   "metadata": {
    "collapsed": false,
    "pycharm": {
     "name": "#%%\n"
    }
   }
  },
  {
   "cell_type": "code",
   "execution_count": null,
   "outputs": [],
   "source": [],
   "metadata": {
    "collapsed": false,
    "pycharm": {
     "name": "#%%\n"
    }
   }
  },
  {
   "cell_type": "code",
   "execution_count": null,
   "outputs": [],
   "source": [],
   "metadata": {
    "collapsed": false,
    "pycharm": {
     "name": "#%%\n"
    }
   }
  },
  {
   "cell_type": "code",
   "execution_count": null,
   "outputs": [],
   "source": [],
   "metadata": {
    "collapsed": false,
    "pycharm": {
     "name": "#%%\n"
    }
   }
  },
  {
   "cell_type": "code",
   "execution_count": null,
   "outputs": [],
   "source": [],
   "metadata": {
    "collapsed": false,
    "pycharm": {
     "name": "#%%\n"
    }
   }
  },
  {
   "cell_type": "code",
   "execution_count": null,
   "outputs": [],
   "source": [],
   "metadata": {
    "collapsed": false,
    "pycharm": {
     "name": "#%%\n"
    }
   }
  },
  {
   "cell_type": "code",
   "execution_count": null,
   "outputs": [],
   "source": [],
   "metadata": {
    "collapsed": false,
    "pycharm": {
     "name": "#%%\n"
    }
   }
  },
  {
   "cell_type": "code",
   "execution_count": null,
   "outputs": [],
   "source": [],
   "metadata": {
    "collapsed": false,
    "pycharm": {
     "name": "#%%\n"
    }
   }
  },
  {
   "cell_type": "code",
   "execution_count": null,
   "outputs": [],
   "source": [],
   "metadata": {
    "collapsed": false,
    "pycharm": {
     "name": "#%%\n"
    }
   }
  }
 ],
 "metadata": {
  "kernelspec": {
   "display_name": "Python 3",
   "language": "python",
   "name": "python3"
  },
  "language_info": {
   "codemirror_mode": {
    "name": "ipython",
    "version": 2
   },
   "file_extension": ".py",
   "mimetype": "text/x-python",
   "name": "python",
   "nbconvert_exporter": "python",
   "pygments_lexer": "ipython2",
   "version": "2.7.6"
  }
 },
 "nbformat": 4,
 "nbformat_minor": 0
}