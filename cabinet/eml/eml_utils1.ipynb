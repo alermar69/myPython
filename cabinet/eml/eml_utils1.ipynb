{
 "cells": [
  {
   "cell_type": "code",
   "execution_count": 8,
   "outputs": [],
   "source": [
    "import smtplib\n",
    "from email.message import EmailMessage\n",
    "import os\n",
    "import sys\n",
    "from configparser import ConfigParser\n",
    "import io"
   ],
   "metadata": {
    "collapsed": false,
    "pycharm": {
     "name": "#%%\n"
    }
   }
  },
  {
   "cell_type": "code",
   "execution_count": null,
   "outputs": [],
   "source": [],
   "metadata": {
    "collapsed": false,
    "pycharm": {
     "name": "#%%\n"
    }
   }
  },
  {
   "cell_type": "code",
   "execution_count": 4,
   "outputs": [],
   "source": [
    "import base64\n",
    "\n",
    "textfile = 'textfile.txt'\n",
    "with open(textfile, 'rb') as fp:\n",
    "    file1 = base64.b64encode(fp.read())"
   ],
   "metadata": {
    "collapsed": false,
    "pycharm": {
     "name": "#%%\n"
    }
   }
  },
  {
   "cell_type": "code",
   "execution_count": 5,
   "outputs": [],
   "source": [
    "file2 = file1.decode('utf-8')"
   ],
   "metadata": {
    "collapsed": false,
    "pycharm": {
     "name": "#%%\n"
    }
   }
  },
  {
   "cell_type": "code",
   "execution_count": 6,
   "outputs": [],
   "source": [
    "file3 = base64.b64decode(file2)"
   ],
   "metadata": {
    "collapsed": false,
    "pycharm": {
     "name": "#%%\n"
    }
   }
  },
  {
   "cell_type": "code",
   "execution_count": 7,
   "outputs": [],
   "source": [
    "with open('tt1.txt', 'wb') as f:\n",
    "    f.write(file3)"
   ],
   "metadata": {
    "collapsed": false,
    "pycharm": {
     "name": "#%%\n"
    }
   }
  },
  {
   "cell_type": "code",
   "execution_count": 14,
   "outputs": [
    {
     "data": {
      "text/plain": "0"
     },
     "execution_count": 14,
     "metadata": {},
     "output_type": "execute_result"
    }
   ],
   "source": [
    "fh = io.BytesIO()\n",
    "with open('tt1.txt', 'rb') as fp:\n",
    "    fh.write(fp.read())\n",
    "fh.seek(0)\n"
   ],
   "metadata": {
    "collapsed": false,
    "pycharm": {
     "name": "#%%\n"
    }
   }
  },
  {
   "cell_type": "code",
   "execution_count": 15,
   "outputs": [],
   "source": [
    "fh1 = fh.read()"
   ],
   "metadata": {
    "collapsed": false,
    "pycharm": {
     "name": "#%%\n"
    }
   }
  },
  {
   "cell_type": "code",
   "execution_count": 11,
   "outputs": [],
   "source": [
    "with open('textfile.txt', 'rb') as fp:\n",
    "    f1 = fp.read()"
   ],
   "metadata": {
    "collapsed": false,
    "pycharm": {
     "name": "#%%\n"
    }
   }
  },
  {
   "cell_type": "code",
   "execution_count": 8,
   "outputs": [],
   "source": [
    "textfile = 'textfile.txt'\n",
    "with open(textfile, encoding='utf-8') as fp:\n",
    "    msg = EmailMessage()\n",
    "    msg.set_content(fp.read())"
   ],
   "metadata": {
    "collapsed": false,
    "pycharm": {
     "name": "#%%\n"
    }
   }
  },
  {
   "cell_type": "code",
   "execution_count": 9,
   "outputs": [],
   "source": [
    "msg['Subject'] = 'The contents'\n",
    "msg['From'] = 'alermar17@gmail.com'\n",
    "msg['To'] = 'alermar6917@gmail.com'"
   ],
   "metadata": {
    "collapsed": false,
    "pycharm": {
     "name": "#%%\n"
    }
   }
  },
  {
   "cell_type": "code",
   "execution_count": 10,
   "outputs": [
    {
     "data": {
      "text/plain": "(235, b'2.7.0 Accepted')"
     },
     "execution_count": 10,
     "metadata": {},
     "output_type": "execute_result"
    }
   ],
   "source": [
    "s = smtplib.SMTP_SSL(host='smtp.gmail.com', port=465)\n",
    "s.login('alermar17@gmail.com', 'vyciihkporrejqsm')"
   ],
   "metadata": {
    "collapsed": false,
    "pycharm": {
     "name": "#%%\n"
    }
   }
  },
  {
   "cell_type": "code",
   "execution_count": 11,
   "outputs": [
    {
     "data": {
      "text/plain": "{}"
     },
     "execution_count": 11,
     "metadata": {},
     "output_type": "execute_result"
    }
   ],
   "source": [
    "s.send_message(msg)"
   ],
   "metadata": {
    "collapsed": false,
    "pycharm": {
     "name": "#%%\n"
    }
   }
  },
  {
   "cell_type": "code",
   "execution_count": 7,
   "outputs": [
    {
     "data": {
      "text/plain": "(221,\n b'2.0.0 closing connection s22-20020aa7cb16000000b0051bed498851sm10944836edt.54 - gsmtp')"
     },
     "execution_count": 7,
     "metadata": {},
     "output_type": "execute_result"
    }
   ],
   "source": [
    "s.quit()"
   ],
   "metadata": {
    "collapsed": false,
    "pycharm": {
     "name": "#%%\n"
    }
   }
  },
  {
   "cell_type": "code",
   "execution_count": 30,
   "outputs": [],
   "source": [
    "\n",
    "def send_email(par:dict):\n",
    "    try:\n",
    "        # base_path = os.path.dirname(os.path.abspath(__file__))\n",
    "        # config_path = os.path.join(base_path, \"email.ini\")\n",
    "        # if os.path.exists(config_path):\n",
    "        #     cfg = ConfigParser()\n",
    "        #     cfg.read(config_path)\n",
    "        # else:\n",
    "        #     print(\"Config not found! Exiting!\")\n",
    "        #     sys.exit(1)\n",
    "\n",
    "        if os.path.exists('email.ini'):\n",
    "            cfg = ConfigParser()\n",
    "            cfg.read('email.ini')\n",
    "        else:\n",
    "            print(\"Config not found! Exiting!\")\n",
    "            sys.exit(1)\n",
    "\n",
    "        EMAIL_HOST_USER = cfg.get('smtp', 'EMAIL_HOST_USER')\n",
    "        EMAIL_HOST_PASSWORD = cfg.get('smtp', 'EMAIL_HOST_PASSWORD')\n",
    "        EMAIL_HOST = cfg.get('smtp', 'EMAIL_HOST')\n",
    "        EMAIL_PORT = cfg.get('smtp', 'EMAIL_PORT')\n",
    "\n",
    "        server = smtplib.SMTP_SSL(host=EMAIL_HOST, port=EMAIL_PORT)\n",
    "        server.ehlo()\n",
    "        server.login(EMAIL_HOST_USER, EMAIL_HOST_PASSWORD)\n",
    "\n",
    "        msg = EmailMessage()\n",
    "        msg.set_content(par['content'])\n",
    "        msg['Subject'] = par['subject']\n",
    "        msg['From'] = par['from']\n",
    "        msg['To'] = par['to']\n",
    "\n",
    "        if 'html' in par:\n",
    "            msg.add_alternative(par['html'], subtype='html')\n",
    "\n",
    "        if 'files' in par:\n",
    "            for file in par['files']:\n",
    "                msg.add_attachment(file['file'].read(), maintype='application', subtype='octet-stream', filename=file['name'])\n",
    "\n",
    "        server.send_message(msg)\n",
    "        server.quit()\n",
    "        return True\n",
    "    except Exception as e:\n",
    "        print(e)\n",
    "        return False"
   ],
   "metadata": {
    "collapsed": false,
    "pycharm": {
     "name": "#%%\n"
    }
   }
  },
  {
   "cell_type": "code",
   "execution_count": 2,
   "outputs": [],
   "source": [
    "import io\n",
    "\n",
    "\n",
    "fh = io.BytesIO()\n",
    "with open('textfile.txt', 'rb') as fp:\n",
    "    fh.write(fp.read())\n",
    "fh.seek(0)\n",
    "\n",
    "\n",
    "par = {\n",
    "    'content': 'This is a test',\n",
    "    'subject': 'Test1',\n",
    "    'from': 'mirina1783@gmail.com',\n",
    "    'to': ['alermar6917@gmail.com'],\n",
    "    'html': '<h1>Test1</h1>',\n",
    "    'files': [\n",
    "        {'file': fh, 'name': 'textfile.txt'},\n",
    "    ],\n",
    "}\n",
    "\n",
    "# send_email(par)"
   ],
   "metadata": {
    "collapsed": false,
    "pycharm": {
     "name": "#%%\n"
    }
   }
  },
  {
   "cell_type": "code",
   "execution_count": 3,
   "outputs": [
    {
     "ename": "ModuleNotFoundError",
     "evalue": "No module named 'celery'",
     "output_type": "error",
     "traceback": [
      "\u001B[1;31m---------------------------------------------------------------------------\u001B[0m",
      "\u001B[1;31mModuleNotFoundError\u001B[0m                       Traceback (most recent call last)",
      "\u001B[1;32m~\\AppData\\Local\\Temp/ipykernel_13144/3337254259.py\u001B[0m in \u001B[0;36m<module>\u001B[1;34m\u001B[0m\n\u001B[1;32m----> 1\u001B[1;33m \u001B[1;32mfrom\u001B[0m \u001B[0meml_utils\u001B[0m \u001B[1;32mimport\u001B[0m \u001B[0msend_email\u001B[0m\u001B[1;33m\u001B[0m\u001B[1;33m\u001B[0m\u001B[0m\n\u001B[0m",
      "\u001B[1;32mF:\\IT\\IT\\PR\\myPython\\cabinet\\eml\\eml_utils.py\u001B[0m in \u001B[0;36m<module>\u001B[1;34m\u001B[0m\n\u001B[1;32m----> 1\u001B[1;33m \u001B[1;32mfrom\u001B[0m \u001B[0mcelery\u001B[0m \u001B[1;32mimport\u001B[0m \u001B[0mCelery\u001B[0m\u001B[1;33m,\u001B[0m \u001B[0mshared_task\u001B[0m\u001B[1;33m\u001B[0m\u001B[1;33m\u001B[0m\u001B[0m\n\u001B[0m\u001B[0;32m      2\u001B[0m \u001B[1;32mimport\u001B[0m \u001B[0mos\u001B[0m\u001B[1;33m\u001B[0m\u001B[1;33m\u001B[0m\u001B[0m\n\u001B[0;32m      3\u001B[0m \u001B[1;32mfrom\u001B[0m \u001B[0mmiddleware\u001B[0m \u001B[1;32mimport\u001B[0m \u001B[0mdalayed_action\u001B[0m\u001B[1;33m\u001B[0m\u001B[1;33m\u001B[0m\u001B[0m\n\u001B[0;32m      4\u001B[0m \u001B[1;33m\u001B[0m\u001B[0m\n\u001B[0;32m      5\u001B[0m \u001B[1;32mimport\u001B[0m \u001B[0msmtplib\u001B[0m\u001B[1;33m\u001B[0m\u001B[1;33m\u001B[0m\u001B[0m\n",
      "\u001B[1;31mModuleNotFoundError\u001B[0m: No module named 'celery'"
     ]
    }
   ],
   "source": [
    "from eml_utils import send_email"
   ],
   "metadata": {
    "collapsed": false,
    "pycharm": {
     "name": "#%%\n"
    }
   }
  },
  {
   "cell_type": "code",
   "execution_count": null,
   "outputs": [],
   "source": [],
   "metadata": {
    "collapsed": false,
    "pycharm": {
     "name": "#%%\n"
    }
   }
  },
  {
   "cell_type": "code",
   "execution_count": 29,
   "outputs": [
    {
     "data": {
      "text/plain": "0"
     },
     "execution_count": 29,
     "metadata": {},
     "output_type": "execute_result"
    }
   ],
   "source": [
    "import io\n",
    "fh = io.BytesIO()\n",
    "with open('textfile.txt', 'rb') as fp:\n",
    "    fh.write(fp.read())\n",
    "fh.seek(0)"
   ],
   "metadata": {
    "collapsed": false,
    "pycharm": {
     "name": "#%%\n"
    }
   }
  },
  {
   "cell_type": "code",
   "execution_count": 20,
   "outputs": [],
   "source": [
    "if os.path.exists('email.ini'):\n",
    "    cfg = ConfigParser()\n",
    "    cfg.read('email.ini')\n",
    "else:\n",
    "    print(\"Config not found! Exiting!\")\n",
    "    sys.exit(1)"
   ],
   "metadata": {
    "collapsed": false,
    "pycharm": {
     "name": "#%%\n"
    }
   }
  },
  {
   "cell_type": "code",
   "execution_count": 21,
   "outputs": [
    {
     "data": {
      "text/plain": "['smtp']"
     },
     "execution_count": 21,
     "metadata": {},
     "output_type": "execute_result"
    }
   ],
   "source": [
    "cfg.sections()"
   ],
   "metadata": {
    "collapsed": false,
    "pycharm": {
     "name": "#%%\n"
    }
   }
  },
  {
   "cell_type": "code",
   "execution_count": 24,
   "outputs": [],
   "source": [
    "EMAIL_HOST_USER = cfg.get('smtp', 'EMAIL_HOST_USER')\n",
    "EMAIL_HOST_PASSWORD = cfg.get('smtp', 'EMAIL_HOST_PASSWORD')\n",
    "server = cfg.get('smtp', 'server')\n",
    "port = cfg.get('smtp', 'port')\n"
   ],
   "metadata": {
    "collapsed": false,
    "pycharm": {
     "name": "#%%\n"
    }
   }
  }
 ],
 "metadata": {
  "kernelspec": {
   "display_name": "Python 3",
   "language": "python",
   "name": "python3"
  },
  "language_info": {
   "codemirror_mode": {
    "name": "ipython",
    "version": 2
   },
   "file_extension": ".py",
   "mimetype": "text/x-python",
   "name": "python",
   "nbconvert_exporter": "python",
   "pygments_lexer": "ipython2",
   "version": "2.7.6"
  }
 },
 "nbformat": 4,
 "nbformat_minor": 0
}