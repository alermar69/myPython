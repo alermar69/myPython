{
 "cells": [
  {
   "cell_type": "code",
   "execution_count": 1,
   "metadata": {
    "collapsed": true
   },
   "outputs": [],
   "source": [
    "import os\n",
    "\n",
    "import dbf\n",
    "import pandas as pd\n",
    "from dbfread import DBF"
   ]
  },
  {
   "cell_type": "code",
   "execution_count": 90,
   "outputs": [],
   "source": [
    "path_projects = r\"c:\\ProgramData\\AVEVA\\Citect SCADA 2018 R2\\User\"\n",
    "name_projects = \"tmp1\"\n",
    "name_file = r\"equip.DBF\"\n",
    "# name_file = r\"pgdynobj.DBF\"\n",
    "filename = os.path.join(path_projects, name_projects, name_file)\n",
    "\n",
    "class TypeDevice:\n",
    "    P3U30 = 'P3U30'\n",
    "    P3F30 = 'P3F30'\n",
    "    P3T32 = 'P3T32'\n",
    "\n",
    "class Project:\n",
    "    def __init__(self, name_project=None, name_cluster='Cluster1', name_server='IOServer1'):\n",
    "        self.path_projects = r\"c:\\ProgramData\\AVEVA\\Citect SCADA 2018 R2\\User\"\n",
    "        self.name_projects = name_project\n",
    "        self.path_project = os.path.join(self.path_projects, self.name_projects)\n",
    "\n",
    "        self.name_files = {'Оборудование': 'equip.DBF', 'Теги': 'variable.DBF', 'IO': 'units.DBF'}\n",
    "        self.type_devices = TypeDevice()\n",
    "        self.type_device_current = ''\n",
    "        self.cluster = name_cluster\n",
    "        self.server = name_server\n",
    "\n",
    "\n",
    "    def write_equip(self):\n",
    "        cols = ['NAME', 'CLUSTER', 'TYPE', 'IODEVICE', 'TAGPREFIX', 'COMMENT', 'CUSTOM1']\n",
    "        count = 3\n",
    "        start = 30\n",
    "        end = start + count\n",
    "        params_list = []\n",
    "        self.type_device_current = self.type_devices.P3U30\n",
    "\n",
    "        for i in range(start, end):\n",
    "            io_device = f'Cell_{i}'\n",
    "            values = [f'{io_device}_{self.type_device_current}', self.cluster, self.type_device_current, io_device, 'Relay/', f'Защита ячейки {i}', f'{io_device}\\\\']\n",
    "            params_list.append(dict(zip(cols, values)))\n",
    "\n",
    "        self.to_dbf(self.name_files['Оборудование'], params_list)\n",
    "\n",
    "\n",
    "    def write_io(self):\n",
    "        cols = ['SERVER', 'NAME', 'ADDR', 'PROTOCOL', 'PORT', 'MODE', 'PRIORITY', 'COMMENT']\n",
    "        count = 3\n",
    "        start = 30\n",
    "        end = start + count\n",
    "        params_list = []\n",
    "        self.type_device_current = self.type_devices.P3U30\n",
    "\n",
    "        numb = 0\n",
    "        with dbf.Table(self.get_path_file(self.name_files['IO']), codepage='cp1251') as tb:\n",
    "            tb.open(mode=dbf.READ_ONLY)\n",
    "            numb = int(tb[-1]['NUMBER'])\n",
    "\n",
    "        for i in range(start, end):\n",
    "            io_device = f'Cell_{i}'\n",
    "            numb += 1\n",
    "            values = {\n",
    "                'SERVER': self.server,\n",
    "                'NAME': io_device,\n",
    "                'NUMBER': f'{numb}',\n",
    "                'ADDR': r'[RUN]:conf61850.xml',\n",
    "                'PROTOCOL': 'IEC61850N',\n",
    "                'PORT': '',\n",
    "                'MODE': 'Primary',\n",
    "                'PRIORITY': '1',\n",
    "                'MEMORY': 'False',\n",
    "                'COMMENT': ''\n",
    "            }\n",
    "            # values = [self.server, io_device, r'[RUN]:conf61850.xml', 'IEC61850N', '', 'Primary', '1', '']\n",
    "            params_list.append(values)\n",
    "\n",
    "        self.to_dbf(self.name_files['IO'], params_list)\n",
    "\n",
    "\n",
    "    def to_dbf(self, name_file, params_list):\n",
    "        path_file = self.get_path_file(name_file)\n",
    "\n",
    "        with dbf.Table(path_file, codepage='cp1251') as tb:\n",
    "            tb.open(mode=dbf.READ_WRITE)\n",
    "            for params in params_list:\n",
    "                tb.append(params)\n",
    "\n",
    "    def get_path_file(self, name_file):\n",
    "        return os.path.join(self.path_project, name_file)\n",
    "\n",
    "\n",
    "    def show_equip(self):\n",
    "        return pd.DataFrame(DBF(self.get_path_file(self.name_files['Оборудование']), encoding='cp1251'))\n",
    "\n",
    "    def show_tags(self):\n",
    "        return pd.DataFrame(DBF(self.get_path_file(self.name_files['Теги']), encoding='cp1251'))\n",
    "\n",
    "    def show_io(self):\n",
    "        return pd.DataFrame(DBF(self.get_path_file(self.name_files['IO']), encoding='cp1251'))"
   ],
   "metadata": {
    "collapsed": false,
    "pycharm": {
     "name": "#%%\n"
    }
   }
  },
  {
   "cell_type": "code",
   "execution_count": 91,
   "outputs": [],
   "source": [
    "project = Project('tmp1')"
   ],
   "metadata": {
    "collapsed": false,
    "pycharm": {
     "name": "#%%\n"
    }
   }
  },
  {
   "cell_type": "code",
   "execution_count": 92,
   "outputs": [],
   "source": [
    "project.write_io()"
   ],
   "metadata": {
    "collapsed": false,
    "pycharm": {
     "name": "#%%\n"
    }
   }
  },
  {
   "cell_type": "code",
   "execution_count": null,
   "outputs": [],
   "source": [],
   "metadata": {
    "collapsed": false,
    "pycharm": {
     "name": "#%%\n"
    }
   }
  },
  {
   "cell_type": "code",
   "execution_count": null,
   "outputs": [],
   "source": [],
   "metadata": {
    "collapsed": false,
    "pycharm": {
     "name": "#%%\n"
    }
   }
  },
  {
   "cell_type": "code",
   "execution_count": null,
   "outputs": [],
   "source": [],
   "metadata": {
    "collapsed": false,
    "pycharm": {
     "name": "#%%\n"
    }
   }
  },
  {
   "cell_type": "code",
   "execution_count": null,
   "outputs": [],
   "source": [],
   "metadata": {
    "collapsed": false,
    "pycharm": {
     "name": "#%%\n"
    }
   }
  },
  {
   "cell_type": "code",
   "execution_count": null,
   "outputs": [],
   "source": [],
   "metadata": {
    "collapsed": false,
    "pycharm": {
     "name": "#%%\n"
    }
   }
  },
  {
   "cell_type": "code",
   "execution_count": null,
   "outputs": [],
   "source": [],
   "metadata": {
    "collapsed": false,
    "pycharm": {
     "name": "#%%\n"
    }
   }
  },
  {
   "cell_type": "code",
   "execution_count": null,
   "outputs": [],
   "source": [],
   "metadata": {
    "collapsed": false,
    "pycharm": {
     "name": "#%%\n"
    }
   }
  },
  {
   "cell_type": "code",
   "execution_count": 76,
   "outputs": [],
   "source": [
    "dd = dbf.Table(os.path.join(path_projects, 'tmp1', 'units.DBF'), codepage='cp1251')"
   ],
   "metadata": {
    "collapsed": false,
    "pycharm": {
     "name": "#%%\n"
    }
   }
  },
  {
   "cell_type": "code",
   "execution_count": null,
   "outputs": [],
   "source": [],
   "metadata": {
    "collapsed": false,
    "pycharm": {
     "name": "#%%\n"
    }
   }
  },
  {
   "cell_type": "code",
   "execution_count": 77,
   "outputs": [
    {
     "data": {
      "text/plain": "dbf.Table('c:\\\\ProgramData\\\\AVEVA\\\\Citect SCADA 2018 R2\\\\User\\\\tmp1\\\\units.DBF', status=<DbfStatus.READ_ONLY: 1>)"
     },
     "execution_count": 77,
     "metadata": {},
     "output_type": "execute_result"
    }
   ],
   "source": [
    "dd.open(mode=dbf.READ_ONLY)"
   ],
   "metadata": {
    "collapsed": false,
    "pycharm": {
     "name": "#%%\n"
    }
   }
  },
  {
   "cell_type": "code",
   "execution_count": 78,
   "outputs": [
    {
     "data": {
      "text/plain": "2"
     },
     "execution_count": 78,
     "metadata": {},
     "output_type": "execute_result"
    }
   ],
   "source": [
    "len(dd)"
   ],
   "metadata": {
    "collapsed": false,
    "pycharm": {
     "name": "#%%\n"
    }
   }
  },
  {
   "cell_type": "code",
   "execution_count": 75,
   "outputs": [],
   "source": [
    "dd.close()"
   ],
   "metadata": {
    "collapsed": false,
    "pycharm": {
     "name": "#%%\n"
    }
   }
  },
  {
   "cell_type": "code",
   "execution_count": 68,
   "outputs": [
    {
     "data": {
      "text/plain": "      SERVER      NAME NUMBER ADDR PROTOCOL PORT     MODE LOGWRITE LOGREAD  \\\n0  IOServer1  Internal      1        OFSOPC       Primary                    \n1  IOServer1    Cicode      2        CICODE       Primary                    \n\n  CACHE  ... TAGGENTEMP PRIORITY BGPOLL BGPOLLRATE PERSFREQ PERSPATH  \\\n0        ...                   1                                       \n1        ...                   1                                       \n\n  MINUPDATE STALEPERIO READONLY EXCLUSIVE  \n0                                          \n1                                          \n\n[2 rows x 44 columns]",
      "text/html": "<div>\n<style scoped>\n    .dataframe tbody tr th:only-of-type {\n        vertical-align: middle;\n    }\n\n    .dataframe tbody tr th {\n        vertical-align: top;\n    }\n\n    .dataframe thead th {\n        text-align: right;\n    }\n</style>\n<table border=\"1\" class=\"dataframe\">\n  <thead>\n    <tr style=\"text-align: right;\">\n      <th></th>\n      <th>SERVER</th>\n      <th>NAME</th>\n      <th>NUMBER</th>\n      <th>ADDR</th>\n      <th>PROTOCOL</th>\n      <th>PORT</th>\n      <th>MODE</th>\n      <th>LOGWRITE</th>\n      <th>LOGREAD</th>\n      <th>CACHE</th>\n      <th>...</th>\n      <th>TAGGENTEMP</th>\n      <th>PRIORITY</th>\n      <th>BGPOLL</th>\n      <th>BGPOLLRATE</th>\n      <th>PERSFREQ</th>\n      <th>PERSPATH</th>\n      <th>MINUPDATE</th>\n      <th>STALEPERIO</th>\n      <th>READONLY</th>\n      <th>EXCLUSIVE</th>\n    </tr>\n  </thead>\n  <tbody>\n    <tr>\n      <th>0</th>\n      <td>IOServer1</td>\n      <td>Internal</td>\n      <td>1</td>\n      <td></td>\n      <td>OFSOPC</td>\n      <td></td>\n      <td>Primary</td>\n      <td></td>\n      <td></td>\n      <td></td>\n      <td>...</td>\n      <td></td>\n      <td>1</td>\n      <td></td>\n      <td></td>\n      <td></td>\n      <td></td>\n      <td></td>\n      <td></td>\n      <td></td>\n      <td></td>\n    </tr>\n    <tr>\n      <th>1</th>\n      <td>IOServer1</td>\n      <td>Cicode</td>\n      <td>2</td>\n      <td></td>\n      <td>CICODE</td>\n      <td></td>\n      <td>Primary</td>\n      <td></td>\n      <td></td>\n      <td></td>\n      <td>...</td>\n      <td></td>\n      <td>1</td>\n      <td></td>\n      <td></td>\n      <td></td>\n      <td></td>\n      <td></td>\n      <td></td>\n      <td></td>\n      <td></td>\n    </tr>\n  </tbody>\n</table>\n<p>2 rows × 44 columns</p>\n</div>"
     },
     "execution_count": 68,
     "metadata": {},
     "output_type": "execute_result"
    }
   ],
   "source": [
    "project.show_io()"
   ],
   "metadata": {
    "collapsed": false,
    "pycharm": {
     "name": "#%%\n"
    }
   }
  },
  {
   "cell_type": "code",
   "execution_count": 57,
   "outputs": [
    {
     "ename": "ValueError",
     "evalue": "invalid literal for int() with base 10: '        '",
     "output_type": "error",
     "traceback": [
      "\u001B[1;31m---------------------------------------------------------------------------\u001B[0m",
      "\u001B[1;31mValueError\u001B[0m                                Traceback (most recent call last)",
      "\u001B[1;32m~\\AppData\\Local\\Temp/ipykernel_10896/2268525340.py\u001B[0m in \u001B[0;36m<module>\u001B[1;34m\u001B[0m\n\u001B[0;32m      1\u001B[0m \u001B[0mproject\u001B[0m \u001B[1;33m=\u001B[0m \u001B[0mProject\u001B[0m\u001B[1;33m(\u001B[0m\u001B[1;34m'tmp1'\u001B[0m\u001B[1;33m)\u001B[0m\u001B[1;33m\u001B[0m\u001B[1;33m\u001B[0m\u001B[0m\n\u001B[1;32m----> 2\u001B[1;33m \u001B[0mproject\u001B[0m\u001B[1;33m.\u001B[0m\u001B[0mwrite_io\u001B[0m\u001B[1;33m(\u001B[0m\u001B[1;33m)\u001B[0m\u001B[1;33m\u001B[0m\u001B[1;33m\u001B[0m\u001B[0m\n\u001B[0m",
      "\u001B[1;32m~\\AppData\\Local\\Temp/ipykernel_10896/2052127119.py\u001B[0m in \u001B[0;36mwrite_io\u001B[1;34m(self)\u001B[0m\n\u001B[0;32m     51\u001B[0m             \u001B[0mtb\u001B[0m\u001B[1;33m.\u001B[0m\u001B[0mopen\u001B[0m\u001B[1;33m(\u001B[0m\u001B[0mmode\u001B[0m\u001B[1;33m=\u001B[0m\u001B[0mdbf\u001B[0m\u001B[1;33m.\u001B[0m\u001B[0mREAD_ONLY\u001B[0m\u001B[1;33m)\u001B[0m\u001B[1;33m\u001B[0m\u001B[1;33m\u001B[0m\u001B[0m\n\u001B[0;32m     52\u001B[0m             \u001B[0mnumb\u001B[0m \u001B[1;33m=\u001B[0m \u001B[0mtb\u001B[0m\u001B[1;33m[\u001B[0m\u001B[1;33m-\u001B[0m\u001B[1;36m1\u001B[0m\u001B[1;33m]\u001B[0m\u001B[1;33m[\u001B[0m\u001B[1;34m'NUMBER'\u001B[0m\u001B[1;33m]\u001B[0m\u001B[1;33m\u001B[0m\u001B[1;33m\u001B[0m\u001B[0m\n\u001B[1;32m---> 53\u001B[1;33m             \u001B[0mnumb\u001B[0m \u001B[1;33m=\u001B[0m \u001B[0mint\u001B[0m\u001B[1;33m(\u001B[0m\u001B[0mnumb\u001B[0m\u001B[1;33m)\u001B[0m\u001B[1;33m\u001B[0m\u001B[1;33m\u001B[0m\u001B[0m\n\u001B[0m\u001B[0;32m     54\u001B[0m \u001B[1;33m\u001B[0m\u001B[0m\n\u001B[0;32m     55\u001B[0m         \u001B[1;32mfor\u001B[0m \u001B[0mi\u001B[0m \u001B[1;32min\u001B[0m \u001B[0mrange\u001B[0m\u001B[1;33m(\u001B[0m\u001B[0mstart\u001B[0m\u001B[1;33m,\u001B[0m \u001B[0mend\u001B[0m\u001B[1;33m)\u001B[0m\u001B[1;33m:\u001B[0m\u001B[1;33m\u001B[0m\u001B[1;33m\u001B[0m\u001B[0m\n",
      "\u001B[1;31mValueError\u001B[0m: invalid literal for int() with base 10: '        '"
     ]
    },
    {
     "name": "stderr",
     "output_type": "stream",
     "text": [
      "Traceback (most recent call last):\n",
      "  File \"_pydevd_bundle\\pydevd_cython_win32_39_64.pyx\", line 1034, in _pydevd_bundle.pydevd_cython_win32_39_64.PyDBFrame.trace_dispatch\n",
      "  File \"C:\\Program Files\\JetBrains\\PyCharm 213.4631.9\\plugins\\python\\helpers-pro\\jupyter_debug\\pydev_jupyter_plugin.py\", line 144, in cmd_step_over\n",
      "    if _is_inside_jupyter_cell(frame, pydb):\n",
      "  File \"C:\\Program Files\\JetBrains\\PyCharm 213.4631.9\\plugins\\python\\helpers-pro\\jupyter_debug\\pydev_jupyter_plugin.py\", line 209, in _is_inside_jupyter_cell\n",
      "    if is_cell_filename(filename):\n",
      "  File \"C:\\Program Files\\JetBrains\\PyCharm 213.4631.9\\plugins\\python\\helpers-pro\\jupyter_debug\\pydev_jupyter_plugin.py\", line 220, in is_cell_filename\n",
      "    ipython_shell = get_ipython()\n",
      "NameError: name 'get_ipython' is not defined\n"
     ]
    }
   ],
   "source": [
    "project = Project('tmp1')\n",
    "project.write_io()"
   ],
   "metadata": {
    "collapsed": false,
    "pycharm": {
     "name": "#%%\n"
    }
   }
  },
  {
   "cell_type": "code",
   "execution_count": 20,
   "outputs": [],
   "source": [
    "# Удаление строки\n",
    "rec = table[-1]\n",
    "dbf.delete(rec)\n",
    "table.pack()"
   ],
   "metadata": {
    "collapsed": false,
    "pycharm": {
     "name": "#%%\n"
    }
   }
  },
  {
   "cell_type": "code",
   "execution_count": 11,
   "outputs": [
    {
     "data": {
      "text/plain": "      SERVER      NAME NUMBER ADDR PROTOCOL PORT     MODE LOGWRITE LOGREAD  \\\n0  IOServer1  Internal      1        OFSOPC       Primary                    \n1  IOServer1    Cicode      2        CICODE       Primary                    \n\n  CACHE  ... TAGGENTEMP PRIORITY BGPOLL BGPOLLRATE PERSFREQ PERSPATH  \\\n0        ...                   1                                       \n1        ...                   1                                       \n\n  MINUPDATE STALEPERIO READONLY EXCLUSIVE  \n0                                          \n1                                          \n\n[2 rows x 44 columns]",
      "text/html": "<div>\n<style scoped>\n    .dataframe tbody tr th:only-of-type {\n        vertical-align: middle;\n    }\n\n    .dataframe tbody tr th {\n        vertical-align: top;\n    }\n\n    .dataframe thead th {\n        text-align: right;\n    }\n</style>\n<table border=\"1\" class=\"dataframe\">\n  <thead>\n    <tr style=\"text-align: right;\">\n      <th></th>\n      <th>SERVER</th>\n      <th>NAME</th>\n      <th>NUMBER</th>\n      <th>ADDR</th>\n      <th>PROTOCOL</th>\n      <th>PORT</th>\n      <th>MODE</th>\n      <th>LOGWRITE</th>\n      <th>LOGREAD</th>\n      <th>CACHE</th>\n      <th>...</th>\n      <th>TAGGENTEMP</th>\n      <th>PRIORITY</th>\n      <th>BGPOLL</th>\n      <th>BGPOLLRATE</th>\n      <th>PERSFREQ</th>\n      <th>PERSPATH</th>\n      <th>MINUPDATE</th>\n      <th>STALEPERIO</th>\n      <th>READONLY</th>\n      <th>EXCLUSIVE</th>\n    </tr>\n  </thead>\n  <tbody>\n    <tr>\n      <th>0</th>\n      <td>IOServer1</td>\n      <td>Internal</td>\n      <td>1</td>\n      <td></td>\n      <td>OFSOPC</td>\n      <td></td>\n      <td>Primary</td>\n      <td></td>\n      <td></td>\n      <td></td>\n      <td>...</td>\n      <td></td>\n      <td>1</td>\n      <td></td>\n      <td></td>\n      <td></td>\n      <td></td>\n      <td></td>\n      <td></td>\n      <td></td>\n      <td></td>\n    </tr>\n    <tr>\n      <th>1</th>\n      <td>IOServer1</td>\n      <td>Cicode</td>\n      <td>2</td>\n      <td></td>\n      <td>CICODE</td>\n      <td></td>\n      <td>Primary</td>\n      <td></td>\n      <td></td>\n      <td></td>\n      <td>...</td>\n      <td></td>\n      <td>1</td>\n      <td></td>\n      <td></td>\n      <td></td>\n      <td></td>\n      <td></td>\n      <td></td>\n      <td></td>\n      <td></td>\n    </tr>\n  </tbody>\n</table>\n<p>2 rows × 44 columns</p>\n</div>"
     },
     "execution_count": 11,
     "metadata": {},
     "output_type": "execute_result"
    }
   ],
   "source": [
    "name_file = r\"units.DBF\"\n",
    "filename = os.path.join(path_projects, name_projects, name_file)\n",
    "\n",
    "db_in_dbf = DBF(filename, encoding='cp1251')\n",
    "df = pd.DataFrame(db_in_dbf)\n",
    "df\n"
   ],
   "metadata": {
    "collapsed": false,
    "pycharm": {
     "name": "#%%\n"
    }
   }
  },
  {
   "cell_type": "code",
   "execution_count": 10,
   "outputs": [
    {
     "data": {
      "text/plain": "                                 NAME    TYPE     UNIT  \\\n0              Cell_2\\VO3GGIO99\\Ind\\t  STRING   Cell_2   \n1          Cell_2\\VO3GGIO99\\Ind\\stVal  STRING   Cell_2   \n2         Cell_2\\VO4GGIO100\\Ind\\stVal  STRING   Cell_2   \n3             Cell_2\\VO4GGIO100\\Ind\\t  STRING   Cell_2   \n4          Cell_2\\Obj2CSWI2\\Pos\\stVal  STRING   Cell_2   \n..                                ...     ...      ...   \n698     Cell_20\\U3ppMMXU5\\PPV\\phsBC\\t  STRING  Cell_20   \n699  Cell_20\\U3ppMMXU5\\PPV\\phsCA\\cVal  STRING  Cell_20   \n700     Cell_20\\U3ppMMXU5\\PPV\\phsCA\\t  STRING  Cell_20   \n701    Cell_20\\UovMMXU1\\PhV\\neut\\cVal  STRING  Cell_20   \n702       Cell_20\\UovMMXU1\\PhV\\neut\\t  STRING  Cell_20   \n\n                                  ADDR RAW_ZERO RAW_FULL ENG_ZERO ENG_FULL  \\\n0             Relay/VO3GGIO99$ST$Ind$t                                       \n1         Relay/VO3GGIO99$ST$Ind$stVal                                       \n2        Relay/VO4GGIO100$ST$Ind$stVal                                       \n3            Relay/VO4GGIO100$ST$Ind$t                                       \n4         Relay/Obj2CSWI2$ST$Pos$stVal                                       \n..                                 ...      ...      ...      ...      ...   \n698     Relay/U3ppMMXU5$MX$PPV$phsBC$t                                       \n699  Relay/U3ppMMXU5$MX$PPV$phsCA$cVal                                       \n700     Relay/U3ppMMXU5$MX$PPV$phsCA$t                                       \n701    Relay/UovMMXU1$MX$PhV$neut$cVal                                       \n702       Relay/UovMMXU1$MX$PhV$neut$t                                       \n\n    ENG_UNITS FORMAT  ...          EQUIP CUSTOM1 CUSTOM2 CUSTOM3 CUSTOM4  \\\n0                     ...   Cell_2_P3U30                                   \n1                     ...   Cell_2_P3U30                                   \n2                     ...   Cell_2_P3U30                                   \n3                     ...   Cell_2_P3U30                                   \n4                     ...   Cell_2_P3U30                                   \n..        ...    ...  ...            ...     ...     ...     ...     ...   \n698                   ...  Cell_20_P3U30                                   \n699                   ...  Cell_20_P3U30                                   \n700                   ...  Cell_20_P3U30                                   \n701                   ...  Cell_20_P3U30                                   \n702                   ...  Cell_20_P3U30                                   \n\n    CUSTOM5 CUSTOM6 CUSTOM7 CUSTOM8                      ITEM  \n0                                             VO3GGIO99\\Ind\\t  \n1                                         VO3GGIO99\\Ind\\stVal  \n2                                        VO4GGIO100\\Ind\\stVal  \n3                                            VO4GGIO100\\Ind\\t  \n4                                         Obj2CSWI2\\Pos\\stVal  \n..      ...     ...     ...     ...                       ...  \n698                                     U3ppMMXU5\\PPV\\phsBC\\t  \n699                                  U3ppMMXU5\\PPV\\phsCA\\cVal  \n700                                     U3ppMMXU5\\PPV\\phsCA\\t  \n701                                    UovMMXU1\\PhV\\neut\\cVal  \n702                                       UovMMXU1\\PhV\\neut\\t  \n\n[703 rows x 31 columns]",
      "text/html": "<div>\n<style scoped>\n    .dataframe tbody tr th:only-of-type {\n        vertical-align: middle;\n    }\n\n    .dataframe tbody tr th {\n        vertical-align: top;\n    }\n\n    .dataframe thead th {\n        text-align: right;\n    }\n</style>\n<table border=\"1\" class=\"dataframe\">\n  <thead>\n    <tr style=\"text-align: right;\">\n      <th></th>\n      <th>NAME</th>\n      <th>TYPE</th>\n      <th>UNIT</th>\n      <th>ADDR</th>\n      <th>RAW_ZERO</th>\n      <th>RAW_FULL</th>\n      <th>ENG_ZERO</th>\n      <th>ENG_FULL</th>\n      <th>ENG_UNITS</th>\n      <th>FORMAT</th>\n      <th>...</th>\n      <th>EQUIP</th>\n      <th>CUSTOM1</th>\n      <th>CUSTOM2</th>\n      <th>CUSTOM3</th>\n      <th>CUSTOM4</th>\n      <th>CUSTOM5</th>\n      <th>CUSTOM6</th>\n      <th>CUSTOM7</th>\n      <th>CUSTOM8</th>\n      <th>ITEM</th>\n    </tr>\n  </thead>\n  <tbody>\n    <tr>\n      <th>0</th>\n      <td>Cell_2\\VO3GGIO99\\Ind\\t</td>\n      <td>STRING</td>\n      <td>Cell_2</td>\n      <td>Relay/VO3GGIO99$ST$Ind$t</td>\n      <td></td>\n      <td></td>\n      <td></td>\n      <td></td>\n      <td></td>\n      <td></td>\n      <td>...</td>\n      <td>Cell_2_P3U30</td>\n      <td></td>\n      <td></td>\n      <td></td>\n      <td></td>\n      <td></td>\n      <td></td>\n      <td></td>\n      <td></td>\n      <td>VO3GGIO99\\Ind\\t</td>\n    </tr>\n    <tr>\n      <th>1</th>\n      <td>Cell_2\\VO3GGIO99\\Ind\\stVal</td>\n      <td>STRING</td>\n      <td>Cell_2</td>\n      <td>Relay/VO3GGIO99$ST$Ind$stVal</td>\n      <td></td>\n      <td></td>\n      <td></td>\n      <td></td>\n      <td></td>\n      <td></td>\n      <td>...</td>\n      <td>Cell_2_P3U30</td>\n      <td></td>\n      <td></td>\n      <td></td>\n      <td></td>\n      <td></td>\n      <td></td>\n      <td></td>\n      <td></td>\n      <td>VO3GGIO99\\Ind\\stVal</td>\n    </tr>\n    <tr>\n      <th>2</th>\n      <td>Cell_2\\VO4GGIO100\\Ind\\stVal</td>\n      <td>STRING</td>\n      <td>Cell_2</td>\n      <td>Relay/VO4GGIO100$ST$Ind$stVal</td>\n      <td></td>\n      <td></td>\n      <td></td>\n      <td></td>\n      <td></td>\n      <td></td>\n      <td>...</td>\n      <td>Cell_2_P3U30</td>\n      <td></td>\n      <td></td>\n      <td></td>\n      <td></td>\n      <td></td>\n      <td></td>\n      <td></td>\n      <td></td>\n      <td>VO4GGIO100\\Ind\\stVal</td>\n    </tr>\n    <tr>\n      <th>3</th>\n      <td>Cell_2\\VO4GGIO100\\Ind\\t</td>\n      <td>STRING</td>\n      <td>Cell_2</td>\n      <td>Relay/VO4GGIO100$ST$Ind$t</td>\n      <td></td>\n      <td></td>\n      <td></td>\n      <td></td>\n      <td></td>\n      <td></td>\n      <td>...</td>\n      <td>Cell_2_P3U30</td>\n      <td></td>\n      <td></td>\n      <td></td>\n      <td></td>\n      <td></td>\n      <td></td>\n      <td></td>\n      <td></td>\n      <td>VO4GGIO100\\Ind\\t</td>\n    </tr>\n    <tr>\n      <th>4</th>\n      <td>Cell_2\\Obj2CSWI2\\Pos\\stVal</td>\n      <td>STRING</td>\n      <td>Cell_2</td>\n      <td>Relay/Obj2CSWI2$ST$Pos$stVal</td>\n      <td></td>\n      <td></td>\n      <td></td>\n      <td></td>\n      <td></td>\n      <td></td>\n      <td>...</td>\n      <td>Cell_2_P3U30</td>\n      <td></td>\n      <td></td>\n      <td></td>\n      <td></td>\n      <td></td>\n      <td></td>\n      <td></td>\n      <td></td>\n      <td>Obj2CSWI2\\Pos\\stVal</td>\n    </tr>\n    <tr>\n      <th>...</th>\n      <td>...</td>\n      <td>...</td>\n      <td>...</td>\n      <td>...</td>\n      <td>...</td>\n      <td>...</td>\n      <td>...</td>\n      <td>...</td>\n      <td>...</td>\n      <td>...</td>\n      <td>...</td>\n      <td>...</td>\n      <td>...</td>\n      <td>...</td>\n      <td>...</td>\n      <td>...</td>\n      <td>...</td>\n      <td>...</td>\n      <td>...</td>\n      <td>...</td>\n      <td>...</td>\n    </tr>\n    <tr>\n      <th>698</th>\n      <td>Cell_20\\U3ppMMXU5\\PPV\\phsBC\\t</td>\n      <td>STRING</td>\n      <td>Cell_20</td>\n      <td>Relay/U3ppMMXU5$MX$PPV$phsBC$t</td>\n      <td></td>\n      <td></td>\n      <td></td>\n      <td></td>\n      <td></td>\n      <td></td>\n      <td>...</td>\n      <td>Cell_20_P3U30</td>\n      <td></td>\n      <td></td>\n      <td></td>\n      <td></td>\n      <td></td>\n      <td></td>\n      <td></td>\n      <td></td>\n      <td>U3ppMMXU5\\PPV\\phsBC\\t</td>\n    </tr>\n    <tr>\n      <th>699</th>\n      <td>Cell_20\\U3ppMMXU5\\PPV\\phsCA\\cVal</td>\n      <td>STRING</td>\n      <td>Cell_20</td>\n      <td>Relay/U3ppMMXU5$MX$PPV$phsCA$cVal</td>\n      <td></td>\n      <td></td>\n      <td></td>\n      <td></td>\n      <td></td>\n      <td></td>\n      <td>...</td>\n      <td>Cell_20_P3U30</td>\n      <td></td>\n      <td></td>\n      <td></td>\n      <td></td>\n      <td></td>\n      <td></td>\n      <td></td>\n      <td></td>\n      <td>U3ppMMXU5\\PPV\\phsCA\\cVal</td>\n    </tr>\n    <tr>\n      <th>700</th>\n      <td>Cell_20\\U3ppMMXU5\\PPV\\phsCA\\t</td>\n      <td>STRING</td>\n      <td>Cell_20</td>\n      <td>Relay/U3ppMMXU5$MX$PPV$phsCA$t</td>\n      <td></td>\n      <td></td>\n      <td></td>\n      <td></td>\n      <td></td>\n      <td></td>\n      <td>...</td>\n      <td>Cell_20_P3U30</td>\n      <td></td>\n      <td></td>\n      <td></td>\n      <td></td>\n      <td></td>\n      <td></td>\n      <td></td>\n      <td></td>\n      <td>U3ppMMXU5\\PPV\\phsCA\\t</td>\n    </tr>\n    <tr>\n      <th>701</th>\n      <td>Cell_20\\UovMMXU1\\PhV\\neut\\cVal</td>\n      <td>STRING</td>\n      <td>Cell_20</td>\n      <td>Relay/UovMMXU1$MX$PhV$neut$cVal</td>\n      <td></td>\n      <td></td>\n      <td></td>\n      <td></td>\n      <td></td>\n      <td></td>\n      <td>...</td>\n      <td>Cell_20_P3U30</td>\n      <td></td>\n      <td></td>\n      <td></td>\n      <td></td>\n      <td></td>\n      <td></td>\n      <td></td>\n      <td></td>\n      <td>UovMMXU1\\PhV\\neut\\cVal</td>\n    </tr>\n    <tr>\n      <th>702</th>\n      <td>Cell_20\\UovMMXU1\\PhV\\neut\\t</td>\n      <td>STRING</td>\n      <td>Cell_20</td>\n      <td>Relay/UovMMXU1$MX$PhV$neut$t</td>\n      <td></td>\n      <td></td>\n      <td></td>\n      <td></td>\n      <td></td>\n      <td></td>\n      <td>...</td>\n      <td>Cell_20_P3U30</td>\n      <td></td>\n      <td></td>\n      <td></td>\n      <td></td>\n      <td></td>\n      <td></td>\n      <td></td>\n      <td></td>\n      <td>UovMMXU1\\PhV\\neut\\t</td>\n    </tr>\n  </tbody>\n</table>\n<p>703 rows × 31 columns</p>\n</div>"
     },
     "execution_count": 10,
     "metadata": {},
     "output_type": "execute_result"
    }
   ],
   "source": [
    "name_file = r\"variable.DBF\"\n",
    "filename = os.path.join(path_projects, name_projects, name_file)\n",
    "\n",
    "db_in_dbf = DBF(filename, encoding='cp1251')\n",
    "df = pd.DataFrame(db_in_dbf)\n",
    "df"
   ],
   "metadata": {
    "collapsed": false,
    "pycharm": {
     "name": "#%%\n"
    }
   }
  },
  {
   "cell_type": "code",
   "execution_count": 7,
   "outputs": [
    {
     "data": {
      "text/plain": "             NAME   CLUSTER   TYPE AREA LOCATION          COMMENT   CUSTOM1  \\\n0    Cell_2_P3U30  Cluster1  P3U30                Защита ячейки 2   Cell_2\\   \n1    Cell_3_P3U30  Cluster1  P3U30                Защита ячейки 2   Cell_3\\   \n2    Cell_4_P3U30  Cluster1  P3U30                Защита ячейки 2   Cell_4\\   \n3    Cell_5_P3U30  Cluster1  P3U30                Защита ячейки 2   Cell_5\\   \n4    Cell_6_P3U30  Cluster1  P3U30                Защита ячейки 2   Cell_6\\   \n5    Cell_7_P3U30  Cluster1  P3U30                Защита ячейки 2   Cell_7\\   \n6    Cell_8_P3U30  Cluster1  P3U30                Защита ячейки 2   Cell_8\\   \n7    Cell_9_P3U30  Cluster1  P3U30                Защита ячейки 2   Cell_9\\   \n8   Cell_10_P3U30  Cluster1  P3U30                Защита ячейки 2  Cell_10\\   \n9   Cell_11_P3U30  Cluster1  P3U30                Защита ячейки 2  Cell_11\\   \n10  Cell_12_P3U30  Cluster1  P3U30                Защита ячейки 2  Cell_12\\   \n11  Cell_13_P3U30  Cluster1  P3U30                Защита ячейки 2  Cell_13\\   \n12  Cell_14_P3U30  Cluster1  P3U30                Защита ячейки 2  Cell_14\\   \n13  Cell_15_P3U30  Cluster1  P3U30                Защита ячейки 2  Cell_15\\   \n14  Cell_16_P3U30  Cluster1  P3U30                Защита ячейки 2  Cell_16\\   \n15  Cell_17_P3U30  Cluster1  P3U30                Защита ячейки 2  Cell_17\\   \n16  Cell_18_P3U30  Cluster1  P3U30                Защита ячейки 2  Cell_18\\   \n17  Cell_19_P3U30  Cluster1  P3U30                Защита ячейки 2  Cell_19\\   \n\n   CUSTOM2 CUSTOM3 CUSTOM4  ... LINKED EDITCODE PARAM COMPOSITE REFERENCE  \\\n0                           ...                                             \n1                           ...                                             \n2                           ...                                             \n3                           ...                                             \n4                           ...                                             \n5                           ...                                             \n6                           ...                                             \n7                           ...                                             \n8                           ...                                             \n9                           ...                                             \n10                          ...                                             \n11                          ...                                             \n12                          ...                                             \n13                          ...                                             \n14                          ...                                             \n15                          ...                                             \n16                          ...                                             \n17                          ...                                             \n\n   DEVSCHED SCHEDID ALIAS CONTENT HIDDEN  \n0                                         \n1                                         \n2                                         \n3                                         \n4                                         \n5                                         \n6                                         \n7                                         \n8                                         \n9                                         \n10                                        \n11                                        \n12                                        \n13                                        \n14                                        \n15                                        \n16                                        \n17                                        \n\n[18 rows x 31 columns]",
      "text/html": "<div>\n<style scoped>\n    .dataframe tbody tr th:only-of-type {\n        vertical-align: middle;\n    }\n\n    .dataframe tbody tr th {\n        vertical-align: top;\n    }\n\n    .dataframe thead th {\n        text-align: right;\n    }\n</style>\n<table border=\"1\" class=\"dataframe\">\n  <thead>\n    <tr style=\"text-align: right;\">\n      <th></th>\n      <th>NAME</th>\n      <th>CLUSTER</th>\n      <th>TYPE</th>\n      <th>AREA</th>\n      <th>LOCATION</th>\n      <th>COMMENT</th>\n      <th>CUSTOM1</th>\n      <th>CUSTOM2</th>\n      <th>CUSTOM3</th>\n      <th>CUSTOM4</th>\n      <th>...</th>\n      <th>LINKED</th>\n      <th>EDITCODE</th>\n      <th>PARAM</th>\n      <th>COMPOSITE</th>\n      <th>REFERENCE</th>\n      <th>DEVSCHED</th>\n      <th>SCHEDID</th>\n      <th>ALIAS</th>\n      <th>CONTENT</th>\n      <th>HIDDEN</th>\n    </tr>\n  </thead>\n  <tbody>\n    <tr>\n      <th>0</th>\n      <td>Cell_2_P3U30</td>\n      <td>Cluster1</td>\n      <td>P3U30</td>\n      <td></td>\n      <td></td>\n      <td>Защита ячейки 2</td>\n      <td>Cell_2\\</td>\n      <td></td>\n      <td></td>\n      <td></td>\n      <td>...</td>\n      <td></td>\n      <td></td>\n      <td></td>\n      <td></td>\n      <td></td>\n      <td></td>\n      <td></td>\n      <td></td>\n      <td></td>\n      <td></td>\n    </tr>\n    <tr>\n      <th>1</th>\n      <td>Cell_3_P3U30</td>\n      <td>Cluster1</td>\n      <td>P3U30</td>\n      <td></td>\n      <td></td>\n      <td>Защита ячейки 2</td>\n      <td>Cell_3\\</td>\n      <td></td>\n      <td></td>\n      <td></td>\n      <td>...</td>\n      <td></td>\n      <td></td>\n      <td></td>\n      <td></td>\n      <td></td>\n      <td></td>\n      <td></td>\n      <td></td>\n      <td></td>\n      <td></td>\n    </tr>\n    <tr>\n      <th>2</th>\n      <td>Cell_4_P3U30</td>\n      <td>Cluster1</td>\n      <td>P3U30</td>\n      <td></td>\n      <td></td>\n      <td>Защита ячейки 2</td>\n      <td>Cell_4\\</td>\n      <td></td>\n      <td></td>\n      <td></td>\n      <td>...</td>\n      <td></td>\n      <td></td>\n      <td></td>\n      <td></td>\n      <td></td>\n      <td></td>\n      <td></td>\n      <td></td>\n      <td></td>\n      <td></td>\n    </tr>\n    <tr>\n      <th>3</th>\n      <td>Cell_5_P3U30</td>\n      <td>Cluster1</td>\n      <td>P3U30</td>\n      <td></td>\n      <td></td>\n      <td>Защита ячейки 2</td>\n      <td>Cell_5\\</td>\n      <td></td>\n      <td></td>\n      <td></td>\n      <td>...</td>\n      <td></td>\n      <td></td>\n      <td></td>\n      <td></td>\n      <td></td>\n      <td></td>\n      <td></td>\n      <td></td>\n      <td></td>\n      <td></td>\n    </tr>\n    <tr>\n      <th>4</th>\n      <td>Cell_6_P3U30</td>\n      <td>Cluster1</td>\n      <td>P3U30</td>\n      <td></td>\n      <td></td>\n      <td>Защита ячейки 2</td>\n      <td>Cell_6\\</td>\n      <td></td>\n      <td></td>\n      <td></td>\n      <td>...</td>\n      <td></td>\n      <td></td>\n      <td></td>\n      <td></td>\n      <td></td>\n      <td></td>\n      <td></td>\n      <td></td>\n      <td></td>\n      <td></td>\n    </tr>\n    <tr>\n      <th>5</th>\n      <td>Cell_7_P3U30</td>\n      <td>Cluster1</td>\n      <td>P3U30</td>\n      <td></td>\n      <td></td>\n      <td>Защита ячейки 2</td>\n      <td>Cell_7\\</td>\n      <td></td>\n      <td></td>\n      <td></td>\n      <td>...</td>\n      <td></td>\n      <td></td>\n      <td></td>\n      <td></td>\n      <td></td>\n      <td></td>\n      <td></td>\n      <td></td>\n      <td></td>\n      <td></td>\n    </tr>\n    <tr>\n      <th>6</th>\n      <td>Cell_8_P3U30</td>\n      <td>Cluster1</td>\n      <td>P3U30</td>\n      <td></td>\n      <td></td>\n      <td>Защита ячейки 2</td>\n      <td>Cell_8\\</td>\n      <td></td>\n      <td></td>\n      <td></td>\n      <td>...</td>\n      <td></td>\n      <td></td>\n      <td></td>\n      <td></td>\n      <td></td>\n      <td></td>\n      <td></td>\n      <td></td>\n      <td></td>\n      <td></td>\n    </tr>\n    <tr>\n      <th>7</th>\n      <td>Cell_9_P3U30</td>\n      <td>Cluster1</td>\n      <td>P3U30</td>\n      <td></td>\n      <td></td>\n      <td>Защита ячейки 2</td>\n      <td>Cell_9\\</td>\n      <td></td>\n      <td></td>\n      <td></td>\n      <td>...</td>\n      <td></td>\n      <td></td>\n      <td></td>\n      <td></td>\n      <td></td>\n      <td></td>\n      <td></td>\n      <td></td>\n      <td></td>\n      <td></td>\n    </tr>\n    <tr>\n      <th>8</th>\n      <td>Cell_10_P3U30</td>\n      <td>Cluster1</td>\n      <td>P3U30</td>\n      <td></td>\n      <td></td>\n      <td>Защита ячейки 2</td>\n      <td>Cell_10\\</td>\n      <td></td>\n      <td></td>\n      <td></td>\n      <td>...</td>\n      <td></td>\n      <td></td>\n      <td></td>\n      <td></td>\n      <td></td>\n      <td></td>\n      <td></td>\n      <td></td>\n      <td></td>\n      <td></td>\n    </tr>\n    <tr>\n      <th>9</th>\n      <td>Cell_11_P3U30</td>\n      <td>Cluster1</td>\n      <td>P3U30</td>\n      <td></td>\n      <td></td>\n      <td>Защита ячейки 2</td>\n      <td>Cell_11\\</td>\n      <td></td>\n      <td></td>\n      <td></td>\n      <td>...</td>\n      <td></td>\n      <td></td>\n      <td></td>\n      <td></td>\n      <td></td>\n      <td></td>\n      <td></td>\n      <td></td>\n      <td></td>\n      <td></td>\n    </tr>\n    <tr>\n      <th>10</th>\n      <td>Cell_12_P3U30</td>\n      <td>Cluster1</td>\n      <td>P3U30</td>\n      <td></td>\n      <td></td>\n      <td>Защита ячейки 2</td>\n      <td>Cell_12\\</td>\n      <td></td>\n      <td></td>\n      <td></td>\n      <td>...</td>\n      <td></td>\n      <td></td>\n      <td></td>\n      <td></td>\n      <td></td>\n      <td></td>\n      <td></td>\n      <td></td>\n      <td></td>\n      <td></td>\n    </tr>\n    <tr>\n      <th>11</th>\n      <td>Cell_13_P3U30</td>\n      <td>Cluster1</td>\n      <td>P3U30</td>\n      <td></td>\n      <td></td>\n      <td>Защита ячейки 2</td>\n      <td>Cell_13\\</td>\n      <td></td>\n      <td></td>\n      <td></td>\n      <td>...</td>\n      <td></td>\n      <td></td>\n      <td></td>\n      <td></td>\n      <td></td>\n      <td></td>\n      <td></td>\n      <td></td>\n      <td></td>\n      <td></td>\n    </tr>\n    <tr>\n      <th>12</th>\n      <td>Cell_14_P3U30</td>\n      <td>Cluster1</td>\n      <td>P3U30</td>\n      <td></td>\n      <td></td>\n      <td>Защита ячейки 2</td>\n      <td>Cell_14\\</td>\n      <td></td>\n      <td></td>\n      <td></td>\n      <td>...</td>\n      <td></td>\n      <td></td>\n      <td></td>\n      <td></td>\n      <td></td>\n      <td></td>\n      <td></td>\n      <td></td>\n      <td></td>\n      <td></td>\n    </tr>\n    <tr>\n      <th>13</th>\n      <td>Cell_15_P3U30</td>\n      <td>Cluster1</td>\n      <td>P3U30</td>\n      <td></td>\n      <td></td>\n      <td>Защита ячейки 2</td>\n      <td>Cell_15\\</td>\n      <td></td>\n      <td></td>\n      <td></td>\n      <td>...</td>\n      <td></td>\n      <td></td>\n      <td></td>\n      <td></td>\n      <td></td>\n      <td></td>\n      <td></td>\n      <td></td>\n      <td></td>\n      <td></td>\n    </tr>\n    <tr>\n      <th>14</th>\n      <td>Cell_16_P3U30</td>\n      <td>Cluster1</td>\n      <td>P3U30</td>\n      <td></td>\n      <td></td>\n      <td>Защита ячейки 2</td>\n      <td>Cell_16\\</td>\n      <td></td>\n      <td></td>\n      <td></td>\n      <td>...</td>\n      <td></td>\n      <td></td>\n      <td></td>\n      <td></td>\n      <td></td>\n      <td></td>\n      <td></td>\n      <td></td>\n      <td></td>\n      <td></td>\n    </tr>\n    <tr>\n      <th>15</th>\n      <td>Cell_17_P3U30</td>\n      <td>Cluster1</td>\n      <td>P3U30</td>\n      <td></td>\n      <td></td>\n      <td>Защита ячейки 2</td>\n      <td>Cell_17\\</td>\n      <td></td>\n      <td></td>\n      <td></td>\n      <td>...</td>\n      <td></td>\n      <td></td>\n      <td></td>\n      <td></td>\n      <td></td>\n      <td></td>\n      <td></td>\n      <td></td>\n      <td></td>\n      <td></td>\n    </tr>\n    <tr>\n      <th>16</th>\n      <td>Cell_18_P3U30</td>\n      <td>Cluster1</td>\n      <td>P3U30</td>\n      <td></td>\n      <td></td>\n      <td>Защита ячейки 2</td>\n      <td>Cell_18\\</td>\n      <td></td>\n      <td></td>\n      <td></td>\n      <td>...</td>\n      <td></td>\n      <td></td>\n      <td></td>\n      <td></td>\n      <td></td>\n      <td></td>\n      <td></td>\n      <td></td>\n      <td></td>\n      <td></td>\n    </tr>\n    <tr>\n      <th>17</th>\n      <td>Cell_19_P3U30</td>\n      <td>Cluster1</td>\n      <td>P3U30</td>\n      <td></td>\n      <td></td>\n      <td>Защита ячейки 2</td>\n      <td>Cell_19\\</td>\n      <td></td>\n      <td></td>\n      <td></td>\n      <td>...</td>\n      <td></td>\n      <td></td>\n      <td></td>\n      <td></td>\n      <td></td>\n      <td></td>\n      <td></td>\n      <td></td>\n      <td></td>\n      <td></td>\n    </tr>\n  </tbody>\n</table>\n<p>18 rows × 31 columns</p>\n</div>"
     },
     "execution_count": 7,
     "metadata": {},
     "output_type": "execute_result"
    }
   ],
   "source": [
    "name_file = r\"equip.DBF\"\n",
    "filename = os.path.join(path_projects, name_projects, name_file)\n",
    "\n",
    "db_in_dbf = DBF(filename, encoding='cp1251')\n",
    "df = pd.DataFrame(db_in_dbf)\n",
    "df"
   ],
   "metadata": {
    "collapsed": false,
    "pycharm": {
     "name": "#%%\n"
    }
   }
  },
  {
   "cell_type": "code",
   "execution_count": null,
   "outputs": [],
   "source": [],
   "metadata": {
    "collapsed": false,
    "pycharm": {
     "name": "#%%\n"
    }
   }
  }
 ],
 "metadata": {
  "kernelspec": {
   "display_name": "Python 3",
   "language": "python",
   "name": "python3"
  },
  "language_info": {
   "codemirror_mode": {
    "name": "ipython",
    "version": 2
   },
   "file_extension": ".py",
   "mimetype": "text/x-python",
   "name": "python",
   "nbconvert_exporter": "python",
   "pygments_lexer": "ipython2",
   "version": "2.7.6"
  }
 },
 "nbformat": 4,
 "nbformat_minor": 0
}