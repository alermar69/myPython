{
 "cells": [
  {
   "cell_type": "code",
   "execution_count": 1,
   "metadata": {
    "collapsed": true
   },
   "outputs": [],
   "source": [
    "import os\n",
    "\n",
    "import dbf\n",
    "import pandas as pd\n",
    "from dbfread import DBF"
   ]
  },
  {
   "cell_type": "code",
   "execution_count": 2,
   "outputs": [],
   "source": [
    "path_projects = r\"c:\\ProgramData\\AVEVA\\Citect SCADA 2018 R2\\User\"\n",
    "name_projects = \"tmp1\"\n",
    "\n",
    "\n",
    "# name_file = r\"equip.DBF\"\n",
    "# name_file = r\"pgdynobj.DBF\"\n",
    "# filename = os.path.join(path_projects, name_projects, name_file)\n",
    "\n",
    "\n",
    "class TypeDevice:\n",
    "    P3U30 = 'P3U30'\n",
    "    P3F30 = 'P3F30'\n",
    "    P3T32 = 'P3T32'\n",
    "\n",
    "\n",
    "class ProjectBases:\n",
    "\n",
    "    def __init__(self, path_project):\n",
    "        self.path_project = path_project\n",
    "        self.base_equip = BaseProject(os.path.join(self.path_project, 'equip.DBF'))\n",
    "        self.base_io = BaseProject(os.path.join(self.path_project, 'units.DBF'))\n",
    "        self.base_tag = BaseProject(os.path.join(self.path_project, 'variable.DBF'))\n",
    "\n",
    "\n",
    "class BaseProject:\n",
    "\n",
    "    def __init__(self, file_name):\n",
    "        self.filename = file_name\n",
    "\n",
    "    def get_dbf(self):\n",
    "        db = None\n",
    "        with dbf.Table(self.filename, codepage='cp1251') as tb:\n",
    "            db = tb.open(mode=dbf.READ_ONLY)\n",
    "        return db\n",
    "\n",
    "    def to_dbf(self, params_list):\n",
    "        with dbf.Table(self.filename, codepage='cp1251') as tb:\n",
    "            tb.open(mode=dbf.READ_WRITE)\n",
    "            for params in params_list:\n",
    "                tb.append(params)\n",
    "\n",
    "    def dataframe(self):\n",
    "        return pd.DataFrame(DBF(self.filename, encoding='cp1251'))\n",
    "\n",
    "\n",
    "class P3U30:\n",
    "    def __init__(self, name_project, name_cluster='Cluster1', name_server='IOServer1'):\n",
    "        self.name = 'P3U30'\n",
    "        self.name_projects = name_project\n",
    "        self.path_project = os.path.join(self.path_projects, self.name_projects)\n",
    "\n",
    "        self.name_files = {'Оборудование': 'equip.DBF', 'Теги': 'variable.DBF', 'IO': 'units.DBF'}\n",
    "        self.type_devices = TypeDevice()\n",
    "        self.type_device_current = ''\n",
    "        self.cluster = name_cluster\n",
    "        self.server = name_server\n",
    "        self.base = ProjectBases(self.path_project)\n",
    "\n",
    "\n",
    "class Project:\n",
    "    def __init__(self, name_project, name_cluster='Cluster1', name_server='IOServer1'):\n",
    "        self.path_projects = r\"c:\\ProgramData\\AVEVA\\Citect SCADA 2018 R2\\User\"\n",
    "        self.name_projects = name_project\n",
    "        self.path_project = os.path.join(self.path_projects, self.name_projects)\n",
    "\n",
    "        self.name_files = {'Оборудование': 'equip.DBF', 'Теги': 'variable.DBF', 'IO': 'units.DBF'}\n",
    "        self.type_devices = TypeDevice()\n",
    "        self.type_device_current = ''\n",
    "        self.cluster = name_cluster\n",
    "        self.server = name_server\n",
    "        self.base = ProjectBases(self.path_project)\n",
    "\n",
    "    def create_equip(self, df):\n",
    "        params_list = []\n",
    "\n",
    "        for i in range(len(df)):\n",
    "            dev = df.iloc[i]\n",
    "\n",
    "            values = {'NAME': f\"{dev['name']}_{dev['number']}_{dev['device']}\",\n",
    "                      'CLUSTER': self.cluster,\n",
    "                      'TYPE': dev['device'],\n",
    "                      'AREA': '',\n",
    "                      'LOCATION': '',\n",
    "                      'COMMENT': f\"Защита ячейки {dev['number']}\",\n",
    "                      'CUSTOM1': f\"{dev['io']}\\\\\",\n",
    "                      'CUSTOM2': '',\n",
    "                      'CUSTOM3': '',\n",
    "                      'CUSTOM4': '',\n",
    "                      'CUSTOM5': '',\n",
    "                      'CUSTOM6': '',\n",
    "                      'CUSTOM7': '',\n",
    "                      'CUSTOM8': '',\n",
    "                      'IODEVICE': dev['io'],\n",
    "                      'PAGE': '',\n",
    "                      'HELP': '',\n",
    "                      'DEFSTATE': '',\n",
    "                      'SCHEDULED': '',\n",
    "                      'TAGPREFIX': 'Relay/',\n",
    "                      'TAGGENLINK': '',\n",
    "                      'LINKED': '',\n",
    "                      'EDITCODE': '',\n",
    "                      'PARAM': '',\n",
    "                      'COMPOSITE': '',\n",
    "                      'REFERENCE': '',\n",
    "                      'DEVSCHED': '',\n",
    "                      'SCHEDID': '',\n",
    "                      'ALIAS': '',\n",
    "                      'CONTENT': '',\n",
    "                      'HIDDEN': ''}\n",
    "            params_list.append(values)\n",
    "\n",
    "        self.base.base_equip.to_dbf(params_list)\n",
    "\n",
    "    def create_io(self, df):\n",
    "        params_list = []\n",
    "\n",
    "        df_tmp = self.base.base_io.dataframe()\n",
    "        try:\n",
    "            numb = int(df_tmp.iloc[-1]['NUMBER'])\n",
    "        except:\n",
    "            numb = 1\n",
    "\n",
    "        # with dbf.Table(self.get_path_file(self.name_files['IO']), codepage='cp1251') as tb:\n",
    "        #     tb.open(mode=dbf.READ_ONLY)\n",
    "        #     numb = int(tb[-1]['NUMBER'])\n",
    "\n",
    "        for i in range(len(df)):\n",
    "            dev = df.iloc[i]\n",
    "            numb += 1\n",
    "\n",
    "            values = {'SERVER': self.server,\n",
    "                      'NAME': dev['name'],\n",
    "                      'NUMBER': f'{numb}',\n",
    "                      'ADDR': dev['addr'],\n",
    "                      'PROTOCOL': dev['protocol'],\n",
    "                      'PORT': dev['port'],\n",
    "                      'MODE': 'Primary',\n",
    "                      'LOGWRITE': '',\n",
    "                      'LOGREAD': '',\n",
    "                      'CACHE': '',\n",
    "                      'CACHETIME': '',\n",
    "                      'COMMENT': '',\n",
    "                      'PROTOCOLID': '',\n",
    "                      'LINKED': '',\n",
    "                      'EXTERNDB': '',\n",
    "                      'DRIVERID': '',\n",
    "                      'CONNSTRING': '',\n",
    "                      'REFRESH': '',\n",
    "                      'TAGPREFIX': '',\n",
    "                      'LASTUPDATE': '',\n",
    "                      'REMOTE': '',\n",
    "                      'REMOTEWRIT': '',\n",
    "                      'TIME': '',\n",
    "                      'PERIOD': '',\n",
    "                      'PHONE': '',\n",
    "                      'CALLERID': '',\n",
    "                      'ONCONNECT': '',\n",
    "                      'ONHANGUP': '',\n",
    "                      'ONBROWSE': '',\n",
    "                      'LIVEUPDATE': '',\n",
    "                      'LASTVARMOD': '',\n",
    "                      'MEMORY': 'FALSE',\n",
    "                      'PERSIST': '',\n",
    "                      'TAGGEN': '',\n",
    "                      'TAGGENTEMP': '',\n",
    "                      'PRIORITY': '1',\n",
    "                      'BGPOLL': '',\n",
    "                      'BGPOLLRATE': '',\n",
    "                      'PERSFREQ': '',\n",
    "                      'PERSPATH': '',\n",
    "                      'MINUPDATE': '',\n",
    "                      'STALEPERIO': '',\n",
    "                      'READONLY': '',\n",
    "                      'EXCLUSIVE': ''}\n",
    "            params_list.append(values)\n",
    "\n",
    "        self.base.base_io.to_dbf(params_list)\n",
    "\n",
    "    def create_tag(self, df):\n",
    "        params_list = []\n",
    "\n",
    "        for i in range(len(df)):\n",
    "            dev = df.iloc[i]\n",
    "\n",
    "            values = {'NAME': '',\n",
    "                      'TYPE': '',\n",
    "                      'UNIT': '',\n",
    "                      'ADDR': '',\n",
    "                      'RAW_ZERO': '',\n",
    "                      'RAW_FULL': '',\n",
    "                      'ENG_ZERO': '',\n",
    "                      'ENG_FULL': '',\n",
    "                      'ENG_UNITS': '',\n",
    "                      'FORMAT': '',\n",
    "                      'COMMENT': '',\n",
    "                      'EDITCODE': '',\n",
    "                      'LINKED': '',\n",
    "                      'OID': '',\n",
    "                      'REF1': '',\n",
    "                      'REF2': '',\n",
    "                      'DEADBAND': '',\n",
    "                      'CUSTOM': '',\n",
    "                      'TAGGENLINK': '',\n",
    "                      'CLUSTER': '',\n",
    "                      'HISTORIAN': 'TRUE',\n",
    "                      'EQUIP': '',\n",
    "                      'CUSTOM1': '',\n",
    "                      'CUSTOM2': '',\n",
    "                      'CUSTOM3': '',\n",
    "                      'CUSTOM4': '',\n",
    "                      'CUSTOM5': '',\n",
    "                      'CUSTOM6': '',\n",
    "                      'CUSTOM7': '',\n",
    "                      'CUSTOM8': '',\n",
    "                      'ITEM': ''}\n",
    "            params_list.append(values)\n",
    "\n",
    "        self.base.base_io.to_dbf(params_list)\n",
    "\n",
    "    def get_path_file(self, name_file):\n",
    "        return os.path.join(self.path_project, name_file)"
   ],
   "metadata": {
    "collapsed": false,
    "pycharm": {
     "name": "#%%\n"
    }
   }
  },
  {
   "cell_type": "code",
   "execution_count": null,
   "outputs": [],
   "source": [
    "class ItemIEC61850:\n",
    "    def __init__(self, name_device, node, attribs, type_attr, fs):\n",
    "        self.node = node\n",
    "        self.attribs = attribs\n",
    "        self.attribs_str = '\\\\'.join(self.attribs)\n",
    "        self.type_attr = type_attr\n",
    "        self.fs = fs\n",
    "\n",
    "        self.name_tag = fr\"{self.node}\\{self.attribs_str}\"\n",
    "        self.addr = ''\n",
    "\n"
   ],
   "metadata": {
    "collapsed": false,
    "pycharm": {
     "name": "#%%\n"
    }
   }
  },
  {
   "cell_type": "code",
   "execution_count": 134,
   "outputs": [],
   "source": [
    "project = Project('tmp1')\n",
    "plc = 'PLC_C264_TU'\n",
    "\n",
    "df_dev = pd.read_excel('ListDevice.xlsx')\n",
    "\n",
    "df_dev['io'] = plc\n",
    "# df_dev['io'] = df_dev.apply(lambda x: f\"{x['name']}_{x['number']}\", axis=1)\n",
    "\n",
    "protocol = 'IEC61850N'\n",
    "df_io = pd.DataFrame([{'name': plc, 'addr': '', 'protocol': protocol, 'port': 'PORT1_BOARD1'}])\n",
    "if protocol:\n",
    "    df_io['addr'] = f\"[RUN]:conf61850_{plc}\"\n",
    "\n",
    "project.create_io(df_io)\n",
    "project.create_equip(df_dev)\n"
   ],
   "metadata": {
    "collapsed": false,
    "pycharm": {
     "name": "#%%\n"
    }
   }
  },
  {
   "cell_type": "code",
   "execution_count": 54,
   "outputs": [
    {
     "data": {
      "text/plain": "          node             atrribs    type  fc  \\\n0    VO3GGIO99               Ind/t  STRING  ST   \n1    VO3GGIO99           Ind/stVal  STRING  ST   \n2   VO4GGIO100           Ind/stVal  STRING  ST   \n3   VO4GGIO100               Ind/t  STRING  ST   \n4    Obj2CSWI2           Pos/stVal  STRING  ST   \n..         ...                 ...     ...  ..   \n61   U3ppMMXU5         PPV/phsBC/t  STRING  MX   \n62   U3ppMMXU5  PPV/phsCA/cVal/mag  STRING  MX   \n63   U3ppMMXU5         PPV/phsCA/t  STRING  MX   \n64   Io1MMXU11     A/neut/cVal/mag  STRING  MX   \n65   Io1MMXU11            A/neut/t  STRING  MX   \n\n                                             comment  \n0                     автомат кіл 3Uo вимкнено (час)  \n1                   автомат кіл 3Uo вимкнено (режим)  \n2   автомат оперативних кіл комірки вимкнено (режим)  \n3     автомат оперативних кіл комірки вимкнено (час)  \n4               положення викотного елементу (режим)  \n..                                               ...  \n61                              напруга фаз ВC (час)  \n62                      напруга фаз CA (вимірювання)  \n63                              напруга фаз CA (час)  \n64                           струм 3Io (вимірювання)  \n65                                   струм 3Io (час)  \n\n[66 rows x 5 columns]",
      "text/html": "<div>\n<style scoped>\n    .dataframe tbody tr th:only-of-type {\n        vertical-align: middle;\n    }\n\n    .dataframe tbody tr th {\n        vertical-align: top;\n    }\n\n    .dataframe thead th {\n        text-align: right;\n    }\n</style>\n<table border=\"1\" class=\"dataframe\">\n  <thead>\n    <tr style=\"text-align: right;\">\n      <th></th>\n      <th>node</th>\n      <th>atrribs</th>\n      <th>type</th>\n      <th>fc</th>\n      <th>comment</th>\n    </tr>\n  </thead>\n  <tbody>\n    <tr>\n      <th>0</th>\n      <td>VO3GGIO99</td>\n      <td>Ind/t</td>\n      <td>STRING</td>\n      <td>ST</td>\n      <td>автомат кіл 3Uo вимкнено (час)</td>\n    </tr>\n    <tr>\n      <th>1</th>\n      <td>VO3GGIO99</td>\n      <td>Ind/stVal</td>\n      <td>STRING</td>\n      <td>ST</td>\n      <td>автомат кіл 3Uo вимкнено (режим)</td>\n    </tr>\n    <tr>\n      <th>2</th>\n      <td>VO4GGIO100</td>\n      <td>Ind/stVal</td>\n      <td>STRING</td>\n      <td>ST</td>\n      <td>автомат оперативних кіл комірки вимкнено (режим)</td>\n    </tr>\n    <tr>\n      <th>3</th>\n      <td>VO4GGIO100</td>\n      <td>Ind/t</td>\n      <td>STRING</td>\n      <td>ST</td>\n      <td>автомат оперативних кіл комірки вимкнено (час)</td>\n    </tr>\n    <tr>\n      <th>4</th>\n      <td>Obj2CSWI2</td>\n      <td>Pos/stVal</td>\n      <td>STRING</td>\n      <td>ST</td>\n      <td>положення викотного елементу (режим)</td>\n    </tr>\n    <tr>\n      <th>...</th>\n      <td>...</td>\n      <td>...</td>\n      <td>...</td>\n      <td>...</td>\n      <td>...</td>\n    </tr>\n    <tr>\n      <th>61</th>\n      <td>U3ppMMXU5</td>\n      <td>PPV/phsBC/t</td>\n      <td>STRING</td>\n      <td>MX</td>\n      <td>напруга фаз ВC (час)</td>\n    </tr>\n    <tr>\n      <th>62</th>\n      <td>U3ppMMXU5</td>\n      <td>PPV/phsCA/cVal/mag</td>\n      <td>STRING</td>\n      <td>MX</td>\n      <td>напруга фаз CA (вимірювання)</td>\n    </tr>\n    <tr>\n      <th>63</th>\n      <td>U3ppMMXU5</td>\n      <td>PPV/phsCA/t</td>\n      <td>STRING</td>\n      <td>MX</td>\n      <td>напруга фаз CA (час)</td>\n    </tr>\n    <tr>\n      <th>64</th>\n      <td>Io1MMXU11</td>\n      <td>A/neut/cVal/mag</td>\n      <td>STRING</td>\n      <td>MX</td>\n      <td>струм 3Io (вимірювання)</td>\n    </tr>\n    <tr>\n      <th>65</th>\n      <td>Io1MMXU11</td>\n      <td>A/neut/t</td>\n      <td>STRING</td>\n      <td>MX</td>\n      <td>струм 3Io (час)</td>\n    </tr>\n  </tbody>\n</table>\n<p>66 rows × 5 columns</p>\n</div>"
     },
     "execution_count": 54,
     "metadata": {},
     "output_type": "execute_result"
    }
   ],
   "source": [
    "project = Project('tmp1')\n",
    "plc = 'PLC_C264_TU'\n",
    "\n",
    "df_dev = pd.read_excel('ListDevice.xlsx', sheet_name='P3F30_61850')\n",
    "df_dev"
   ],
   "metadata": {
    "collapsed": false,
    "pycharm": {
     "name": "#%%\n"
    }
   }
  },
  {
   "cell_type": "code",
   "execution_count": 53,
   "outputs": [],
   "source": [
    "xll = pd.ExcelFile('ListDevice.xlsx')"
   ],
   "metadata": {
    "collapsed": false,
    "pycharm": {
     "name": "#%%\n"
    }
   }
  },
  {
   "cell_type": "code",
   "execution_count": null,
   "outputs": [],
   "source": [],
   "metadata": {
    "collapsed": false,
    "pycharm": {
     "name": "#%%\n"
    }
   }
  },
  {
   "cell_type": "code",
   "execution_count": 7,
   "outputs": [
    {
     "data": {
      "text/plain": "                                    NAME     TYPE      UNIT  \\\n0       Cell_2\\Obj3CSWI3\\Pos\\Oper\\ctlVal  DIGITAL      C264   \n1             Cell_2\\Obj2CSWI2\\Pos\\stVal   STRING      C264   \n2                 Cell_2\\Obj2CSWI2\\Pos\\t   STRING      C264   \n3       Cell_2\\local_Obj2CSWI2_Pos_stVal      INT  Internal   \n4       Cell_2\\Obj2CSWI2\\Pos\\Oper\\ctlVal  DIGITAL      C264   \n..                                   ...      ...       ...   \n98          Cell_3\\U3ppMMXU5\\PPV\\phsBC\\t   STRING      C264   \n99   Cell_3\\U3ppMMXU5\\PPV\\phsCA\\cVal\\mag   STRING      C264   \n100         Cell_3\\U3ppMMXU5\\PPV\\phsCA\\t   STRING      C264   \n101     Cell_3\\Io1MMXU11\\A\\neut\\cVal\\mag   STRING      C264   \n102            Cell_3\\Io1MMXU11\\A\\neut\\t   STRING      C264   \n\n                                       ADDR RAW_ZERO RAW_FULL ENG_ZERO  \\\n0        Relay/Obj3CSWI3$CO$Pos$Oper$ctlVal                              \n1              Relay/Obj2CSWI2$ST$Pos$stVal                              \n2                  Relay/Obj2CSWI2$ST$Pos$t                              \n3                                                                        \n4        Relay/Obj2CSWI2$CO$Pos$Oper$ctlVal                              \n..                                      ...      ...      ...      ...   \n98          Cell_3/U3ppMMXU5$MX$PPV$phsBC$t                              \n99   Cell_3/U3ppMMXU5$MX$PPV$phsCA$cVal$mag                              \n100         Cell_3/U3ppMMXU5$MX$PPV$phsCA$t                              \n101     Cell_3/Io1MMXU11$MX$A$neut$cVal$mag                              \n102            Cell_3/Io1MMXU11$MX$A$neut$t                              \n\n    ENG_FULL ENG_UNITS FORMAT  ...         EQUIP CUSTOM1 CUSTOM2 CUSTOM3  \\\n0                              ...  Cell_2_P3U30                           \n1                              ...  Cell_2_P3U30                           \n2                              ...  Cell_2_P3U30                           \n3                              ...  Cell_2_P3U30                           \n4                              ...  Cell_2_P3U30                           \n..       ...       ...    ...  ...           ...     ...     ...     ...   \n98                             ...  Cell_3_P3F30                           \n99                             ...  Cell_3_P3F30                           \n100                            ...  Cell_3_P3F30                           \n101                            ...  Cell_3_P3F30                           \n102                            ...  Cell_3_P3F30                           \n\n    CUSTOM4 CUSTOM5 CUSTOM6 CUSTOM7 CUSTOM8                          ITEM  \n0                                               Obj3CSWI3\\Pos\\Oper\\ctlVal  \n1                                                     Obj2CSWI2\\Pos\\stVal  \n2                                                         Obj2CSWI2\\Pos\\t  \n3                                               local_Obj2CSWI2_Pos_stVal  \n4                                               Obj2CSWI2\\Pos\\Oper\\ctlVal  \n..      ...     ...     ...     ...     ...                           ...  \n98                                                  U3ppMMXU5\\PPV\\phsBC\\t  \n99                                           U3ppMMXU5\\PPV\\phsCA\\cVal\\mag  \n100                                                 U3ppMMXU5\\PPV\\phsCA\\t  \n101                                             Io1MMXU11\\A\\neut\\cVal\\mag  \n102                                                    Io1MMXU11\\A\\neut\\t  \n\n[103 rows x 31 columns]",
      "text/html": "<div>\n<style scoped>\n    .dataframe tbody tr th:only-of-type {\n        vertical-align: middle;\n    }\n\n    .dataframe tbody tr th {\n        vertical-align: top;\n    }\n\n    .dataframe thead th {\n        text-align: right;\n    }\n</style>\n<table border=\"1\" class=\"dataframe\">\n  <thead>\n    <tr style=\"text-align: right;\">\n      <th></th>\n      <th>NAME</th>\n      <th>TYPE</th>\n      <th>UNIT</th>\n      <th>ADDR</th>\n      <th>RAW_ZERO</th>\n      <th>RAW_FULL</th>\n      <th>ENG_ZERO</th>\n      <th>ENG_FULL</th>\n      <th>ENG_UNITS</th>\n      <th>FORMAT</th>\n      <th>...</th>\n      <th>EQUIP</th>\n      <th>CUSTOM1</th>\n      <th>CUSTOM2</th>\n      <th>CUSTOM3</th>\n      <th>CUSTOM4</th>\n      <th>CUSTOM5</th>\n      <th>CUSTOM6</th>\n      <th>CUSTOM7</th>\n      <th>CUSTOM8</th>\n      <th>ITEM</th>\n    </tr>\n  </thead>\n  <tbody>\n    <tr>\n      <th>0</th>\n      <td>Cell_2\\Obj3CSWI3\\Pos\\Oper\\ctlVal</td>\n      <td>DIGITAL</td>\n      <td>C264</td>\n      <td>Relay/Obj3CSWI3$CO$Pos$Oper$ctlVal</td>\n      <td></td>\n      <td></td>\n      <td></td>\n      <td></td>\n      <td></td>\n      <td></td>\n      <td>...</td>\n      <td>Cell_2_P3U30</td>\n      <td></td>\n      <td></td>\n      <td></td>\n      <td></td>\n      <td></td>\n      <td></td>\n      <td></td>\n      <td></td>\n      <td>Obj3CSWI3\\Pos\\Oper\\ctlVal</td>\n    </tr>\n    <tr>\n      <th>1</th>\n      <td>Cell_2\\Obj2CSWI2\\Pos\\stVal</td>\n      <td>STRING</td>\n      <td>C264</td>\n      <td>Relay/Obj2CSWI2$ST$Pos$stVal</td>\n      <td></td>\n      <td></td>\n      <td></td>\n      <td></td>\n      <td></td>\n      <td></td>\n      <td>...</td>\n      <td>Cell_2_P3U30</td>\n      <td></td>\n      <td></td>\n      <td></td>\n      <td></td>\n      <td></td>\n      <td></td>\n      <td></td>\n      <td></td>\n      <td>Obj2CSWI2\\Pos\\stVal</td>\n    </tr>\n    <tr>\n      <th>2</th>\n      <td>Cell_2\\Obj2CSWI2\\Pos\\t</td>\n      <td>STRING</td>\n      <td>C264</td>\n      <td>Relay/Obj2CSWI2$ST$Pos$t</td>\n      <td></td>\n      <td></td>\n      <td></td>\n      <td></td>\n      <td></td>\n      <td></td>\n      <td>...</td>\n      <td>Cell_2_P3U30</td>\n      <td></td>\n      <td></td>\n      <td></td>\n      <td></td>\n      <td></td>\n      <td></td>\n      <td></td>\n      <td></td>\n      <td>Obj2CSWI2\\Pos\\t</td>\n    </tr>\n    <tr>\n      <th>3</th>\n      <td>Cell_2\\local_Obj2CSWI2_Pos_stVal</td>\n      <td>INT</td>\n      <td>Internal</td>\n      <td></td>\n      <td></td>\n      <td></td>\n      <td></td>\n      <td></td>\n      <td></td>\n      <td></td>\n      <td>...</td>\n      <td>Cell_2_P3U30</td>\n      <td></td>\n      <td></td>\n      <td></td>\n      <td></td>\n      <td></td>\n      <td></td>\n      <td></td>\n      <td></td>\n      <td>local_Obj2CSWI2_Pos_stVal</td>\n    </tr>\n    <tr>\n      <th>4</th>\n      <td>Cell_2\\Obj2CSWI2\\Pos\\Oper\\ctlVal</td>\n      <td>DIGITAL</td>\n      <td>C264</td>\n      <td>Relay/Obj2CSWI2$CO$Pos$Oper$ctlVal</td>\n      <td></td>\n      <td></td>\n      <td></td>\n      <td></td>\n      <td></td>\n      <td></td>\n      <td>...</td>\n      <td>Cell_2_P3U30</td>\n      <td></td>\n      <td></td>\n      <td></td>\n      <td></td>\n      <td></td>\n      <td></td>\n      <td></td>\n      <td></td>\n      <td>Obj2CSWI2\\Pos\\Oper\\ctlVal</td>\n    </tr>\n    <tr>\n      <th>...</th>\n      <td>...</td>\n      <td>...</td>\n      <td>...</td>\n      <td>...</td>\n      <td>...</td>\n      <td>...</td>\n      <td>...</td>\n      <td>...</td>\n      <td>...</td>\n      <td>...</td>\n      <td>...</td>\n      <td>...</td>\n      <td>...</td>\n      <td>...</td>\n      <td>...</td>\n      <td>...</td>\n      <td>...</td>\n      <td>...</td>\n      <td>...</td>\n      <td>...</td>\n      <td>...</td>\n    </tr>\n    <tr>\n      <th>98</th>\n      <td>Cell_3\\U3ppMMXU5\\PPV\\phsBC\\t</td>\n      <td>STRING</td>\n      <td>C264</td>\n      <td>Cell_3/U3ppMMXU5$MX$PPV$phsBC$t</td>\n      <td></td>\n      <td></td>\n      <td></td>\n      <td></td>\n      <td></td>\n      <td></td>\n      <td>...</td>\n      <td>Cell_3_P3F30</td>\n      <td></td>\n      <td></td>\n      <td></td>\n      <td></td>\n      <td></td>\n      <td></td>\n      <td></td>\n      <td></td>\n      <td>U3ppMMXU5\\PPV\\phsBC\\t</td>\n    </tr>\n    <tr>\n      <th>99</th>\n      <td>Cell_3\\U3ppMMXU5\\PPV\\phsCA\\cVal\\mag</td>\n      <td>STRING</td>\n      <td>C264</td>\n      <td>Cell_3/U3ppMMXU5$MX$PPV$phsCA$cVal$mag</td>\n      <td></td>\n      <td></td>\n      <td></td>\n      <td></td>\n      <td></td>\n      <td></td>\n      <td>...</td>\n      <td>Cell_3_P3F30</td>\n      <td></td>\n      <td></td>\n      <td></td>\n      <td></td>\n      <td></td>\n      <td></td>\n      <td></td>\n      <td></td>\n      <td>U3ppMMXU5\\PPV\\phsCA\\cVal\\mag</td>\n    </tr>\n    <tr>\n      <th>100</th>\n      <td>Cell_3\\U3ppMMXU5\\PPV\\phsCA\\t</td>\n      <td>STRING</td>\n      <td>C264</td>\n      <td>Cell_3/U3ppMMXU5$MX$PPV$phsCA$t</td>\n      <td></td>\n      <td></td>\n      <td></td>\n      <td></td>\n      <td></td>\n      <td></td>\n      <td>...</td>\n      <td>Cell_3_P3F30</td>\n      <td></td>\n      <td></td>\n      <td></td>\n      <td></td>\n      <td></td>\n      <td></td>\n      <td></td>\n      <td></td>\n      <td>U3ppMMXU5\\PPV\\phsCA\\t</td>\n    </tr>\n    <tr>\n      <th>101</th>\n      <td>Cell_3\\Io1MMXU11\\A\\neut\\cVal\\mag</td>\n      <td>STRING</td>\n      <td>C264</td>\n      <td>Cell_3/Io1MMXU11$MX$A$neut$cVal$mag</td>\n      <td></td>\n      <td></td>\n      <td></td>\n      <td></td>\n      <td></td>\n      <td></td>\n      <td>...</td>\n      <td>Cell_3_P3F30</td>\n      <td></td>\n      <td></td>\n      <td></td>\n      <td></td>\n      <td></td>\n      <td></td>\n      <td></td>\n      <td></td>\n      <td>Io1MMXU11\\A\\neut\\cVal\\mag</td>\n    </tr>\n    <tr>\n      <th>102</th>\n      <td>Cell_3\\Io1MMXU11\\A\\neut\\t</td>\n      <td>STRING</td>\n      <td>C264</td>\n      <td>Cell_3/Io1MMXU11$MX$A$neut$t</td>\n      <td></td>\n      <td></td>\n      <td></td>\n      <td></td>\n      <td></td>\n      <td></td>\n      <td>...</td>\n      <td>Cell_3_P3F30</td>\n      <td></td>\n      <td></td>\n      <td></td>\n      <td></td>\n      <td></td>\n      <td></td>\n      <td></td>\n      <td></td>\n      <td>Io1MMXU11\\A\\neut\\t</td>\n    </tr>\n  </tbody>\n</table>\n<p>103 rows × 31 columns</p>\n</div>"
     },
     "execution_count": 7,
     "metadata": {},
     "output_type": "execute_result"
    }
   ],
   "source": [
    "project = Project('Proj16850_04112021')\n",
    "df = project.base.base_tag.dataframe()\n",
    "df"
   ],
   "metadata": {
    "collapsed": false,
    "pycharm": {
     "name": "#%%\n"
    }
   }
  },
  {
   "cell_type": "code",
   "execution_count": null,
   "outputs": [],
   "source": [],
   "metadata": {
    "collapsed": false,
    "pycharm": {
     "name": "#%%\n"
    }
   }
  },
  {
   "cell_type": "code",
   "execution_count": null,
   "outputs": [],
   "source": [],
   "metadata": {
    "collapsed": false,
    "pycharm": {
     "name": "#%%\n"
    }
   }
  },
  {
   "cell_type": "code",
   "execution_count": null,
   "outputs": [],
   "source": [],
   "metadata": {
    "collapsed": false,
    "pycharm": {
     "name": "#%%\n"
    }
   }
  },
  {
   "cell_type": "code",
   "execution_count": null,
   "outputs": [],
   "source": [],
   "metadata": {
    "collapsed": false,
    "pycharm": {
     "name": "#%%\n"
    }
   }
  },
  {
   "cell_type": "code",
   "execution_count": 39,
   "outputs": [
    {
     "data": {
      "text/plain": "array(['VO3GGIO99', 'VO3GGIO99', 'VO4GGIO100', 'VO4GGIO100', 'Obj2CSWI2',\n       'Obj2CSWI2', 'Obj3CSWI3', 'Obj3CSWI3', 'local_Obj2CSWI2_Pos_stVal',\n       'Obj2CSWI2', 'Obj2CSWI2', 'Obj3CSWI3', 'Obj3CSWI3', 'ReLaGGIO141',\n       'ReLaGGIO141', 'VO5GGIO101', 'VO5GGIO101', 'LLN0', 'Obj1CSWI1',\n       'Obj1CSWI1', 'Obj1CSWI1', 'Obj1CSWI1', 'LO01GGIO77', 'LO01GGIO77',\n       'LO01GGIO78', 'LO01GGIO78', 'LO01GGIO79', 'LO01GGIO79',\n       'VO2GGIO98', 'VO2GGIO98', 'Obj3CSWI3', 'Obj3CSWI3', 'OC3PTOC3',\n       'OC3PTOC3', 'OC3PTOC3', 'OC3PTOC3', 'OC1PTOC1', 'OC1PTOC1',\n       'OC1PTOC1', 'OC1PTOC1', 'OC2PTOC2', 'OC2PTOC2', 'ArcM1PIOC5',\n       'ArcM1PIOC5', 'EF2PTOC5', 'EF2PTOC5', 'VO6GGIO102', 'VO6GGIO102',\n       'LO20GGIO96', 'LO20GGIO96', 'CBFPPIOC4', 'CBFPPIOC4', 'I3pMMXU1',\n       'I3pMMXU1', 'I3pMMXU1', 'I3pMMXU1', 'I3pMMXU1', 'I3pMMXU1',\n       'U3ppMMXU5', 'U3ppMMXU5', 'U3ppMMXU5', 'U3ppMMXU5', 'U3ppMMXU5',\n       'U3ppMMXU5', 'Io1MMXU11', 'Io1MMXU11'], dtype=object)"
     },
     "execution_count": 39,
     "metadata": {},
     "output_type": "execute_result"
    }
   ],
   "source": [
    "(df[df['EQUIP'] == 'Cell_3_P3F30']['ITEM'].apply(lambda x: x.split('\\\\')[0])).values"
   ],
   "metadata": {
    "collapsed": false,
    "pycharm": {
     "name": "#%%\n"
    }
   }
  },
  {
   "cell_type": "code",
   "execution_count": 40,
   "outputs": [
    {
     "data": {
      "text/plain": "37                  Ind/t\n38              Ind/stVal\n39              Ind/stVal\n40                  Ind/t\n41              Pos/stVal\n              ...        \n98            PPV/phsBC/t\n99     PPV/phsCA/cVal/mag\n100           PPV/phsCA/t\n101       A/neut/cVal/mag\n102              A/neut/t\nName: ITEM, Length: 66, dtype: object"
     },
     "execution_count": 40,
     "metadata": {},
     "output_type": "execute_result"
    }
   ],
   "source": [
    "sr = df[df['EQUIP'] == 'Cell_3_P3F30']['ITEM'].apply(lambda x: x.split('\\\\')[1:])\n",
    "sr.apply(lambda x: '/'.join(x))"
   ],
   "metadata": {
    "collapsed": false,
    "pycharm": {
     "name": "#%%\n"
    }
   }
  },
  {
   "cell_type": "code",
   "execution_count": 42,
   "outputs": [
    {
     "data": {
      "text/plain": "37     STRING\n38     STRING\n39     STRING\n40     STRING\n41     STRING\n        ...  \n98     STRING\n99     STRING\n100    STRING\n101    STRING\n102    STRING\nName: TYPE, Length: 66, dtype: object"
     },
     "execution_count": 42,
     "metadata": {},
     "output_type": "execute_result"
    }
   ],
   "source": [
    "df[df['EQUIP'] == 'Cell_3_P3F30']['TYPE']"
   ],
   "metadata": {
    "collapsed": false,
    "pycharm": {
     "name": "#%%\n"
    }
   }
  },
  {
   "cell_type": "code",
   "execution_count": 41,
   "outputs": [
    {
     "data": {
      "text/plain": "37     ST\n38     ST\n39     ST\n40     ST\n41     ST\n       ..\n98     MX\n99     MX\n100    MX\n101    MX\n102    MX\nName: ADDR, Length: 66, dtype: object"
     },
     "execution_count": 41,
     "metadata": {},
     "output_type": "execute_result"
    }
   ],
   "source": [
    "df[df['EQUIP'] == 'Cell_3_P3F30']['ADDR'].apply(lambda x: x.split('$')[1] if x else '')"
   ],
   "metadata": {
    "collapsed": false,
    "pycharm": {
     "name": "#%%\n"
    }
   }
  },
  {
   "cell_type": "code",
   "execution_count": 43,
   "outputs": [
    {
     "data": {
      "text/plain": "37                        автомат кіл 3Uo вимкнено (час)\n38                      автомат кіл 3Uo вимкнено (режим)\n39      автомат оперативних кіл комірки вимкнено (режим)\n40        автомат оперативних кіл комірки вимкнено (час)\n41                  положення викотного елементу (режим)\n                             ...                        \n98                                  напруга фаз ВC (час)\n99                          напруга фаз CA (вимірювання)\n100                                 напруга фаз CA (час)\n101                              струм 3Io (вимірювання)\n102                                      струм 3Io (час)\nName: COMMENT, Length: 66, dtype: object"
     },
     "execution_count": 43,
     "metadata": {},
     "output_type": "execute_result"
    }
   ],
   "source": [
    "df[df['EQUIP'] == 'Cell_3_P3F30']['COMMENT']"
   ],
   "metadata": {
    "collapsed": false,
    "pycharm": {
     "name": "#%%\n"
    }
   }
  },
  {
   "cell_type": "code",
   "execution_count": null,
   "outputs": [],
   "source": [],
   "metadata": {
    "collapsed": false,
    "pycharm": {
     "name": "#%%\n"
    }
   }
  },
  {
   "cell_type": "code",
   "execution_count": null,
   "outputs": [],
   "source": [],
   "metadata": {
    "collapsed": false,
    "pycharm": {
     "name": "#%%\n"
    }
   }
  },
  {
   "cell_type": "code",
   "execution_count": null,
   "outputs": [],
   "source": [
    "project.create_io('Cell', 5)"
   ],
   "metadata": {
    "collapsed": false,
    "pycharm": {
     "name": "#%%\n"
    }
   }
  },
  {
   "cell_type": "code",
   "execution_count": 106,
   "outputs": [
    {
     "data": {
      "text/plain": "   name                  addr   protocol          port\n0  C264  [RUN]:conf61850_C264  IEC61850N  PORT1_BOARD1",
      "text/html": "<div>\n<style scoped>\n    .dataframe tbody tr th:only-of-type {\n        vertical-align: middle;\n    }\n\n    .dataframe tbody tr th {\n        vertical-align: top;\n    }\n\n    .dataframe thead th {\n        text-align: right;\n    }\n</style>\n<table border=\"1\" class=\"dataframe\">\n  <thead>\n    <tr style=\"text-align: right;\">\n      <th></th>\n      <th>name</th>\n      <th>addr</th>\n      <th>protocol</th>\n      <th>port</th>\n    </tr>\n  </thead>\n  <tbody>\n    <tr>\n      <th>0</th>\n      <td>C264</td>\n      <td>[RUN]:conf61850_C264</td>\n      <td>IEC61850N</td>\n      <td>PORT1_BOARD1</td>\n    </tr>\n  </tbody>\n</table>\n</div>"
     },
     "execution_count": 106,
     "metadata": {},
     "output_type": "execute_result"
    }
   ],
   "source": [
    "df1 = pd.DataFrame([{'name': 'C264', 'addr': '[RUN]:conf61850_C264', 'protocol': 'IEC61850N', 'port': 'PORT1_BOARD1'}])\n",
    "df1"
   ],
   "metadata": {
    "collapsed": false,
    "pycharm": {
     "name": "#%%\n"
    }
   }
  },
  {
   "cell_type": "code",
   "execution_count": null,
   "outputs": [],
   "source": [],
   "metadata": {
    "collapsed": false,
    "pycharm": {
     "name": "#%%\n"
    }
   }
  },
  {
   "cell_type": "code",
   "execution_count": 123,
   "outputs": [
    {
     "data": {
      "text/plain": "           name  number device              io\n0         RZA_T       1  P3T32         RZA_T_1\n1         RZA_T       2  P3T32         RZA_T_2\n2   Cell_TH_6kV       2  P3U30   Cell_TH_6kV_2\n3   Cell_LN_6kV       3  P3F30   Cell_LN_6kV_3\n4   Cell_LN_6kV       4  P3F30   Cell_LN_6kV_4\n5   Cell_IN_6kV       5  P3F30   Cell_IN_6kV_5\n6   Cell_LN_6kV       6  P3F30   Cell_LN_6kV_6\n7   Cell_LN_6kV       7  P3F30   Cell_LN_6kV_7\n8   Cell_LN_6kV       8  P3F30   Cell_LN_6kV_8\n9   Cell_LN_6kV       9  P3F30   Cell_LN_6kV_9\n10  Cell_LN_6kV      10  P3F30  Cell_LN_6kV_10\n11  Cell_CB_6kV      11  P3F30  Cell_CB_6kV_11\n12  Cell_LN_6kV      13  P3F30  Cell_LN_6kV_13\n13  Cell_LN_6kV      14  P3F30  Cell_LN_6kV_14\n14  Cell_LN_6kV      15  P3F30  Cell_LN_6kV_15\n15  Cell_LN_6kV      16  P3F30  Cell_LN_6kV_16\n16  Cell_LN_6kV      17  P3F30  Cell_LN_6kV_17\n17  Cell_LN_6kV      18  P3F30  Cell_LN_6kV_18\n18  Cell_IN_6kV      19  P3F30  Cell_IN_6kV_19\n19  Cell_LN_6kV      20  P3F30  Cell_LN_6kV_20\n20  Cell_TH_6kV      21  P3U30  Cell_TH_6kV_21",
      "text/html": "<div>\n<style scoped>\n    .dataframe tbody tr th:only-of-type {\n        vertical-align: middle;\n    }\n\n    .dataframe tbody tr th {\n        vertical-align: top;\n    }\n\n    .dataframe thead th {\n        text-align: right;\n    }\n</style>\n<table border=\"1\" class=\"dataframe\">\n  <thead>\n    <tr style=\"text-align: right;\">\n      <th></th>\n      <th>name</th>\n      <th>number</th>\n      <th>device</th>\n      <th>io</th>\n    </tr>\n  </thead>\n  <tbody>\n    <tr>\n      <th>0</th>\n      <td>RZA_T</td>\n      <td>1</td>\n      <td>P3T32</td>\n      <td>RZA_T_1</td>\n    </tr>\n    <tr>\n      <th>1</th>\n      <td>RZA_T</td>\n      <td>2</td>\n      <td>P3T32</td>\n      <td>RZA_T_2</td>\n    </tr>\n    <tr>\n      <th>2</th>\n      <td>Cell_TH_6kV</td>\n      <td>2</td>\n      <td>P3U30</td>\n      <td>Cell_TH_6kV_2</td>\n    </tr>\n    <tr>\n      <th>3</th>\n      <td>Cell_LN_6kV</td>\n      <td>3</td>\n      <td>P3F30</td>\n      <td>Cell_LN_6kV_3</td>\n    </tr>\n    <tr>\n      <th>4</th>\n      <td>Cell_LN_6kV</td>\n      <td>4</td>\n      <td>P3F30</td>\n      <td>Cell_LN_6kV_4</td>\n    </tr>\n    <tr>\n      <th>5</th>\n      <td>Cell_IN_6kV</td>\n      <td>5</td>\n      <td>P3F30</td>\n      <td>Cell_IN_6kV_5</td>\n    </tr>\n    <tr>\n      <th>6</th>\n      <td>Cell_LN_6kV</td>\n      <td>6</td>\n      <td>P3F30</td>\n      <td>Cell_LN_6kV_6</td>\n    </tr>\n    <tr>\n      <th>7</th>\n      <td>Cell_LN_6kV</td>\n      <td>7</td>\n      <td>P3F30</td>\n      <td>Cell_LN_6kV_7</td>\n    </tr>\n    <tr>\n      <th>8</th>\n      <td>Cell_LN_6kV</td>\n      <td>8</td>\n      <td>P3F30</td>\n      <td>Cell_LN_6kV_8</td>\n    </tr>\n    <tr>\n      <th>9</th>\n      <td>Cell_LN_6kV</td>\n      <td>9</td>\n      <td>P3F30</td>\n      <td>Cell_LN_6kV_9</td>\n    </tr>\n    <tr>\n      <th>10</th>\n      <td>Cell_LN_6kV</td>\n      <td>10</td>\n      <td>P3F30</td>\n      <td>Cell_LN_6kV_10</td>\n    </tr>\n    <tr>\n      <th>11</th>\n      <td>Cell_CB_6kV</td>\n      <td>11</td>\n      <td>P3F30</td>\n      <td>Cell_CB_6kV_11</td>\n    </tr>\n    <tr>\n      <th>12</th>\n      <td>Cell_LN_6kV</td>\n      <td>13</td>\n      <td>P3F30</td>\n      <td>Cell_LN_6kV_13</td>\n    </tr>\n    <tr>\n      <th>13</th>\n      <td>Cell_LN_6kV</td>\n      <td>14</td>\n      <td>P3F30</td>\n      <td>Cell_LN_6kV_14</td>\n    </tr>\n    <tr>\n      <th>14</th>\n      <td>Cell_LN_6kV</td>\n      <td>15</td>\n      <td>P3F30</td>\n      <td>Cell_LN_6kV_15</td>\n    </tr>\n    <tr>\n      <th>15</th>\n      <td>Cell_LN_6kV</td>\n      <td>16</td>\n      <td>P3F30</td>\n      <td>Cell_LN_6kV_16</td>\n    </tr>\n    <tr>\n      <th>16</th>\n      <td>Cell_LN_6kV</td>\n      <td>17</td>\n      <td>P3F30</td>\n      <td>Cell_LN_6kV_17</td>\n    </tr>\n    <tr>\n      <th>17</th>\n      <td>Cell_LN_6kV</td>\n      <td>18</td>\n      <td>P3F30</td>\n      <td>Cell_LN_6kV_18</td>\n    </tr>\n    <tr>\n      <th>18</th>\n      <td>Cell_IN_6kV</td>\n      <td>19</td>\n      <td>P3F30</td>\n      <td>Cell_IN_6kV_19</td>\n    </tr>\n    <tr>\n      <th>19</th>\n      <td>Cell_LN_6kV</td>\n      <td>20</td>\n      <td>P3F30</td>\n      <td>Cell_LN_6kV_20</td>\n    </tr>\n    <tr>\n      <th>20</th>\n      <td>Cell_TH_6kV</td>\n      <td>21</td>\n      <td>P3U30</td>\n      <td>Cell_TH_6kV_21</td>\n    </tr>\n  </tbody>\n</table>\n</div>"
     },
     "execution_count": 123,
     "metadata": {},
     "output_type": "execute_result"
    }
   ],
   "source": [
    "df = pd.read_excel('ListDevice.xlsx')\n",
    "df['io'] = 'C264'\n",
    "# df['io'] = df.apply(lambda x: f\"{x['name']}_{x['number']}\", axis=1)"
   ],
   "metadata": {
    "collapsed": false,
    "pycharm": {
     "name": "#%%\n"
    }
   }
  },
  {
   "cell_type": "code",
   "execution_count": 108,
   "outputs": [
    {
     "data": {
      "text/plain": "           name  number device    io\n0         RZA_T       1  P3T32  C264\n1         RZA_T       2  P3T32  C264\n2   Cell_TH_6kV       2  P3U30  C264\n3   Cell_LN_6kV       3  P3F30  C264\n4   Cell_LN_6kV       4  P3F30  C264\n5   Cell_IN_6kV       5  P3F30  C264\n6   Cell_LN_6kV       6  P3F30  C264\n7   Cell_LN_6kV       7  P3F30  C264\n8   Cell_LN_6kV       8  P3F30  C264\n9   Cell_LN_6kV       9  P3F30  C264\n10  Cell_LN_6kV      10  P3F30  C264\n11  Cell_CB_6kV      11  P3F30  C264\n12  Cell_LN_6kV      13  P3F30  C264\n13  Cell_LN_6kV      14  P3F30  C264\n14  Cell_LN_6kV      15  P3F30  C264\n15  Cell_LN_6kV      16  P3F30  C264\n16  Cell_LN_6kV      17  P3F30  C264\n17  Cell_LN_6kV      18  P3F30  C264\n18  Cell_IN_6kV      19  P3F30  C264\n19  Cell_LN_6kV      20  P3F30  C264\n20  Cell_TH_6kV      21  P3U30  C264",
      "text/html": "<div>\n<style scoped>\n    .dataframe tbody tr th:only-of-type {\n        vertical-align: middle;\n    }\n\n    .dataframe tbody tr th {\n        vertical-align: top;\n    }\n\n    .dataframe thead th {\n        text-align: right;\n    }\n</style>\n<table border=\"1\" class=\"dataframe\">\n  <thead>\n    <tr style=\"text-align: right;\">\n      <th></th>\n      <th>name</th>\n      <th>number</th>\n      <th>device</th>\n      <th>io</th>\n    </tr>\n  </thead>\n  <tbody>\n    <tr>\n      <th>0</th>\n      <td>RZA_T</td>\n      <td>1</td>\n      <td>P3T32</td>\n      <td>C264</td>\n    </tr>\n    <tr>\n      <th>1</th>\n      <td>RZA_T</td>\n      <td>2</td>\n      <td>P3T32</td>\n      <td>C264</td>\n    </tr>\n    <tr>\n      <th>2</th>\n      <td>Cell_TH_6kV</td>\n      <td>2</td>\n      <td>P3U30</td>\n      <td>C264</td>\n    </tr>\n    <tr>\n      <th>3</th>\n      <td>Cell_LN_6kV</td>\n      <td>3</td>\n      <td>P3F30</td>\n      <td>C264</td>\n    </tr>\n    <tr>\n      <th>4</th>\n      <td>Cell_LN_6kV</td>\n      <td>4</td>\n      <td>P3F30</td>\n      <td>C264</td>\n    </tr>\n    <tr>\n      <th>5</th>\n      <td>Cell_IN_6kV</td>\n      <td>5</td>\n      <td>P3F30</td>\n      <td>C264</td>\n    </tr>\n    <tr>\n      <th>6</th>\n      <td>Cell_LN_6kV</td>\n      <td>6</td>\n      <td>P3F30</td>\n      <td>C264</td>\n    </tr>\n    <tr>\n      <th>7</th>\n      <td>Cell_LN_6kV</td>\n      <td>7</td>\n      <td>P3F30</td>\n      <td>C264</td>\n    </tr>\n    <tr>\n      <th>8</th>\n      <td>Cell_LN_6kV</td>\n      <td>8</td>\n      <td>P3F30</td>\n      <td>C264</td>\n    </tr>\n    <tr>\n      <th>9</th>\n      <td>Cell_LN_6kV</td>\n      <td>9</td>\n      <td>P3F30</td>\n      <td>C264</td>\n    </tr>\n    <tr>\n      <th>10</th>\n      <td>Cell_LN_6kV</td>\n      <td>10</td>\n      <td>P3F30</td>\n      <td>C264</td>\n    </tr>\n    <tr>\n      <th>11</th>\n      <td>Cell_CB_6kV</td>\n      <td>11</td>\n      <td>P3F30</td>\n      <td>C264</td>\n    </tr>\n    <tr>\n      <th>12</th>\n      <td>Cell_LN_6kV</td>\n      <td>13</td>\n      <td>P3F30</td>\n      <td>C264</td>\n    </tr>\n    <tr>\n      <th>13</th>\n      <td>Cell_LN_6kV</td>\n      <td>14</td>\n      <td>P3F30</td>\n      <td>C264</td>\n    </tr>\n    <tr>\n      <th>14</th>\n      <td>Cell_LN_6kV</td>\n      <td>15</td>\n      <td>P3F30</td>\n      <td>C264</td>\n    </tr>\n    <tr>\n      <th>15</th>\n      <td>Cell_LN_6kV</td>\n      <td>16</td>\n      <td>P3F30</td>\n      <td>C264</td>\n    </tr>\n    <tr>\n      <th>16</th>\n      <td>Cell_LN_6kV</td>\n      <td>17</td>\n      <td>P3F30</td>\n      <td>C264</td>\n    </tr>\n    <tr>\n      <th>17</th>\n      <td>Cell_LN_6kV</td>\n      <td>18</td>\n      <td>P3F30</td>\n      <td>C264</td>\n    </tr>\n    <tr>\n      <th>18</th>\n      <td>Cell_IN_6kV</td>\n      <td>19</td>\n      <td>P3F30</td>\n      <td>C264</td>\n    </tr>\n    <tr>\n      <th>19</th>\n      <td>Cell_LN_6kV</td>\n      <td>20</td>\n      <td>P3F30</td>\n      <td>C264</td>\n    </tr>\n    <tr>\n      <th>20</th>\n      <td>Cell_TH_6kV</td>\n      <td>21</td>\n      <td>P3U30</td>\n      <td>C264</td>\n    </tr>\n  </tbody>\n</table>\n</div>"
     },
     "execution_count": 108,
     "metadata": {},
     "output_type": "execute_result"
    }
   ],
   "source": [
    "df['io'] = 'C264'\n",
    "df"
   ],
   "metadata": {
    "collapsed": false,
    "pycharm": {
     "name": "#%%\n"
    }
   }
  },
  {
   "cell_type": "code",
   "execution_count": null,
   "outputs": [],
   "source": [],
   "metadata": {
    "collapsed": false,
    "pycharm": {
     "name": "#%%\n"
    }
   }
  },
  {
   "cell_type": "code",
   "execution_count": 4,
   "outputs": [
    {
     "data": {
      "text/plain": "                                          NAME     TYPE      UNIT  \\\n0                     SA_WindCompass_WindSpeed     REAL  Internal   \n1                  SA_WindCompass_WindSpeedAvg     REAL  Internal   \n2                        SA_WindCompass_PRHigh     REAL  Internal   \n3                         SA_WindCompass_PRLow     REAL  Internal   \n4            SA_WindCompass_WindSpeedThreshold     REAL  Internal   \n...                                        ...      ...       ...   \n2448               TopMilk_AC02_LLEnableBypass  DIGITAL       PLC   \n2449        TopMilk_LS007_HHPMP04BypassCommand  DIGITAL       PLC   \n2450  TopMilk_LS007_HHPMP04RemoveBypassCommand  DIGITAL       PLC   \n2451         TopMilk_LS007_HHPMP04BypassStatus  DIGITAL    Cicode   \n2452         TopMilk_LS007_HHPMP04EnableBypass  DIGITAL       PLC   \n\n                                                   ADDR RAW_ZERO RAW_FULL  \\\n0                                                              0      100   \n1                                                              0      100   \n2                                                              0      100   \n3                                                              0      100   \n4                                                              0      100   \n...                                                 ...      ...      ...   \n2448                                                                        \n2449                                                                        \n2450                                                                        \n2451  Bypass_GetValue(\"Company.TopMilk.Mixing.LS07.H...                     \n2452                                                                        \n\n     ENG_ZERO ENG_FULL ENG_UNITS FORMAT  ...                        ITEM  \\\n0           0      100                   ...                   WindSpeed   \n1           0      100                   ...                WindSpeedAvg   \n2           0      100                   ...                      PRHigh   \n3           0      100                   ...                       PRLow   \n4           0      100                   ...          WindSpeedThreshold   \n...       ...      ...       ...    ...  ...                         ...   \n2448                                     ...              LLEnableBypass   \n2449                                     ...        HHPMP04BypassCommand   \n2450                                     ...  HHPMP04RemoveBypassCommand   \n2451                                     ...         HHPMP04BypassStatus   \n2452                                     ...         HHPMP04EnableBypass   \n\n     HISTORIAN CUSTOM1 CUSTOM2 CUSTOM3 CUSTOM4 CUSTOM5 CUSTOM6 CUSTOM7 CUSTOM8  \n0                                                                               \n1                                                                               \n2                                                                               \n3                                                                               \n4                                                                               \n...        ...     ...     ...     ...     ...     ...     ...     ...     ...  \n2448                                                                            \n2449                                                                            \n2450                                                                            \n2451                                                                            \n2452                                                                            \n\n[2453 rows x 31 columns]",
      "text/html": "<div>\n<style scoped>\n    .dataframe tbody tr th:only-of-type {\n        vertical-align: middle;\n    }\n\n    .dataframe tbody tr th {\n        vertical-align: top;\n    }\n\n    .dataframe thead th {\n        text-align: right;\n    }\n</style>\n<table border=\"1\" class=\"dataframe\">\n  <thead>\n    <tr style=\"text-align: right;\">\n      <th></th>\n      <th>NAME</th>\n      <th>TYPE</th>\n      <th>UNIT</th>\n      <th>ADDR</th>\n      <th>RAW_ZERO</th>\n      <th>RAW_FULL</th>\n      <th>ENG_ZERO</th>\n      <th>ENG_FULL</th>\n      <th>ENG_UNITS</th>\n      <th>FORMAT</th>\n      <th>...</th>\n      <th>ITEM</th>\n      <th>HISTORIAN</th>\n      <th>CUSTOM1</th>\n      <th>CUSTOM2</th>\n      <th>CUSTOM3</th>\n      <th>CUSTOM4</th>\n      <th>CUSTOM5</th>\n      <th>CUSTOM6</th>\n      <th>CUSTOM7</th>\n      <th>CUSTOM8</th>\n    </tr>\n  </thead>\n  <tbody>\n    <tr>\n      <th>0</th>\n      <td>SA_WindCompass_WindSpeed</td>\n      <td>REAL</td>\n      <td>Internal</td>\n      <td></td>\n      <td>0</td>\n      <td>100</td>\n      <td>0</td>\n      <td>100</td>\n      <td></td>\n      <td></td>\n      <td>...</td>\n      <td>WindSpeed</td>\n      <td></td>\n      <td></td>\n      <td></td>\n      <td></td>\n      <td></td>\n      <td></td>\n      <td></td>\n      <td></td>\n      <td></td>\n    </tr>\n    <tr>\n      <th>1</th>\n      <td>SA_WindCompass_WindSpeedAvg</td>\n      <td>REAL</td>\n      <td>Internal</td>\n      <td></td>\n      <td>0</td>\n      <td>100</td>\n      <td>0</td>\n      <td>100</td>\n      <td></td>\n      <td></td>\n      <td>...</td>\n      <td>WindSpeedAvg</td>\n      <td></td>\n      <td></td>\n      <td></td>\n      <td></td>\n      <td></td>\n      <td></td>\n      <td></td>\n      <td></td>\n      <td></td>\n    </tr>\n    <tr>\n      <th>2</th>\n      <td>SA_WindCompass_PRHigh</td>\n      <td>REAL</td>\n      <td>Internal</td>\n      <td></td>\n      <td>0</td>\n      <td>100</td>\n      <td>0</td>\n      <td>100</td>\n      <td></td>\n      <td></td>\n      <td>...</td>\n      <td>PRHigh</td>\n      <td></td>\n      <td></td>\n      <td></td>\n      <td></td>\n      <td></td>\n      <td></td>\n      <td></td>\n      <td></td>\n      <td></td>\n    </tr>\n    <tr>\n      <th>3</th>\n      <td>SA_WindCompass_PRLow</td>\n      <td>REAL</td>\n      <td>Internal</td>\n      <td></td>\n      <td>0</td>\n      <td>100</td>\n      <td>0</td>\n      <td>100</td>\n      <td></td>\n      <td></td>\n      <td>...</td>\n      <td>PRLow</td>\n      <td></td>\n      <td></td>\n      <td></td>\n      <td></td>\n      <td></td>\n      <td></td>\n      <td></td>\n      <td></td>\n      <td></td>\n    </tr>\n    <tr>\n      <th>4</th>\n      <td>SA_WindCompass_WindSpeedThreshold</td>\n      <td>REAL</td>\n      <td>Internal</td>\n      <td></td>\n      <td>0</td>\n      <td>100</td>\n      <td>0</td>\n      <td>100</td>\n      <td></td>\n      <td></td>\n      <td>...</td>\n      <td>WindSpeedThreshold</td>\n      <td></td>\n      <td></td>\n      <td></td>\n      <td></td>\n      <td></td>\n      <td></td>\n      <td></td>\n      <td></td>\n      <td></td>\n    </tr>\n    <tr>\n      <th>...</th>\n      <td>...</td>\n      <td>...</td>\n      <td>...</td>\n      <td>...</td>\n      <td>...</td>\n      <td>...</td>\n      <td>...</td>\n      <td>...</td>\n      <td>...</td>\n      <td>...</td>\n      <td>...</td>\n      <td>...</td>\n      <td>...</td>\n      <td>...</td>\n      <td>...</td>\n      <td>...</td>\n      <td>...</td>\n      <td>...</td>\n      <td>...</td>\n      <td>...</td>\n      <td>...</td>\n    </tr>\n    <tr>\n      <th>2448</th>\n      <td>TopMilk_AC02_LLEnableBypass</td>\n      <td>DIGITAL</td>\n      <td>PLC</td>\n      <td></td>\n      <td></td>\n      <td></td>\n      <td></td>\n      <td></td>\n      <td></td>\n      <td></td>\n      <td>...</td>\n      <td>LLEnableBypass</td>\n      <td></td>\n      <td></td>\n      <td></td>\n      <td></td>\n      <td></td>\n      <td></td>\n      <td></td>\n      <td></td>\n      <td></td>\n    </tr>\n    <tr>\n      <th>2449</th>\n      <td>TopMilk_LS007_HHPMP04BypassCommand</td>\n      <td>DIGITAL</td>\n      <td>PLC</td>\n      <td></td>\n      <td></td>\n      <td></td>\n      <td></td>\n      <td></td>\n      <td></td>\n      <td></td>\n      <td>...</td>\n      <td>HHPMP04BypassCommand</td>\n      <td></td>\n      <td></td>\n      <td></td>\n      <td></td>\n      <td></td>\n      <td></td>\n      <td></td>\n      <td></td>\n      <td></td>\n    </tr>\n    <tr>\n      <th>2450</th>\n      <td>TopMilk_LS007_HHPMP04RemoveBypassCommand</td>\n      <td>DIGITAL</td>\n      <td>PLC</td>\n      <td></td>\n      <td></td>\n      <td></td>\n      <td></td>\n      <td></td>\n      <td></td>\n      <td></td>\n      <td>...</td>\n      <td>HHPMP04RemoveBypassCommand</td>\n      <td></td>\n      <td></td>\n      <td></td>\n      <td></td>\n      <td></td>\n      <td></td>\n      <td></td>\n      <td></td>\n      <td></td>\n    </tr>\n    <tr>\n      <th>2451</th>\n      <td>TopMilk_LS007_HHPMP04BypassStatus</td>\n      <td>DIGITAL</td>\n      <td>Cicode</td>\n      <td>Bypass_GetValue(\"Company.TopMilk.Mixing.LS07.H...</td>\n      <td></td>\n      <td></td>\n      <td></td>\n      <td></td>\n      <td></td>\n      <td></td>\n      <td>...</td>\n      <td>HHPMP04BypassStatus</td>\n      <td></td>\n      <td></td>\n      <td></td>\n      <td></td>\n      <td></td>\n      <td></td>\n      <td></td>\n      <td></td>\n      <td></td>\n    </tr>\n    <tr>\n      <th>2452</th>\n      <td>TopMilk_LS007_HHPMP04EnableBypass</td>\n      <td>DIGITAL</td>\n      <td>PLC</td>\n      <td></td>\n      <td></td>\n      <td></td>\n      <td></td>\n      <td></td>\n      <td></td>\n      <td></td>\n      <td>...</td>\n      <td>HHPMP04EnableBypass</td>\n      <td></td>\n      <td></td>\n      <td></td>\n      <td></td>\n      <td></td>\n      <td></td>\n      <td></td>\n      <td></td>\n      <td></td>\n    </tr>\n  </tbody>\n</table>\n<p>2453 rows × 31 columns</p>\n</div>"
     },
     "execution_count": 4,
     "metadata": {},
     "output_type": "execute_result"
    }
   ],
   "source": [
    "project = Project('ExampleSA')\n",
    "project.base.base_tag.dataframe()"
   ],
   "metadata": {
    "collapsed": false,
    "pycharm": {
     "name": "#%%\n"
    }
   }
  },
  {
   "cell_type": "code",
   "execution_count": null,
   "outputs": [],
   "source": [],
   "metadata": {
    "collapsed": false,
    "pycharm": {
     "name": "#%%\n"
    }
   }
  },
  {
   "cell_type": "code",
   "execution_count": null,
   "outputs": [],
   "source": [],
   "metadata": {
    "collapsed": false,
    "pycharm": {
     "name": "#%%\n"
    }
   }
  },
  {
   "cell_type": "code",
   "execution_count": 97,
   "outputs": [],
   "source": [
    "df = project.base.base_io.dataframe()"
   ],
   "metadata": {
    "collapsed": false,
    "pycharm": {
     "name": "#%%\n"
    }
   }
  },
  {
   "cell_type": "code",
   "execution_count": 51,
   "outputs": [],
   "source": [
    "import re"
   ],
   "metadata": {
    "collapsed": false,
    "pycharm": {
     "name": "#%%\n"
    }
   }
  },
  {
   "cell_type": "code",
   "execution_count": 94,
   "outputs": [
    {
     "data": {
      "text/plain": "'45'"
     },
     "execution_count": 94,
     "metadata": {},
     "output_type": "execute_result"
    }
   ],
   "source": [
    "s = 'Cell_2_P3U30_45'\n",
    "re.findall(r'.*_(\\S+)', s)[-1]"
   ],
   "metadata": {
    "collapsed": false,
    "pycharm": {
     "name": "#%%\n"
    }
   }
  },
  {
   "cell_type": "code",
   "execution_count": 40,
   "outputs": [
    {
     "data": {
      "text/plain": "             NAME   CLUSTER   TYPE AREA LOCATION           COMMENT   CUSTOM1  \\\n0    Cell_2_P3U30  Cluster1  P3U30                 Защита ячейки 2   Cell_2\\   \n1    Cell_3_P3U30  Cluster1  P3U30                 Защита ячейки 2   Cell_3\\   \n2    Cell_4_P3U30  Cluster1  P3U30                 Защита ячейки 2   Cell_4\\   \n3    Cell_5_P3U30  Cluster1  P3U30                 Защита ячейки 2   Cell_5\\   \n4    Cell_6_P3U30  Cluster1  P3U30                 Защита ячейки 2   Cell_6\\   \n5    Cell_7_P3U30  Cluster1  P3U30                 Защита ячейки 2   Cell_7\\   \n6    Cell_8_P3U30  Cluster1  P3U30                 Защита ячейки 2   Cell_8\\   \n7    Cell_9_P3U30  Cluster1  P3U30                 Защита ячейки 2   Cell_9\\   \n8   Cell_10_P3U30  Cluster1  P3U30                 Защита ячейки 2  Cell_10\\   \n9   Cell_11_P3U30  Cluster1  P3U30                 Защита ячейки 2  Cell_11\\   \n10  Cell_12_P3U30  Cluster1  P3U30                 Защита ячейки 2  Cell_12\\   \n11  Cell_13_P3U30  Cluster1  P3U30                 Защита ячейки 2  Cell_13\\   \n12  Cell_14_P3U30  Cluster1  P3U30                 Защита ячейки 2  Cell_14\\   \n13  Cell_15_P3U30  Cluster1  P3U30                 Защита ячейки 2  Cell_15\\   \n14  Cell_16_P3U30  Cluster1  P3U30                 Защита ячейки 2  Cell_16\\   \n15  Cell_17_P3U30  Cluster1  P3U30                 Защита ячейки 2  Cell_17\\   \n16  Cell_18_P3U30  Cluster1  P3U30                 Защита ячейки 2  Cell_18\\   \n17  Cell_19_P3U30  Cluster1  P3U30                 Защита ячейки 2  Cell_19\\   \n18  Cell_20_P3U30  Cluster1  P3U30                 Защита ячейки 2  Cell_20\\   \n19  Cell_30_P3U30  Cluster1  P3U30                Защита ячейки 30  Cell_30\\   \n20  Cell_31_P3U30  Cluster1  P3U30                Защита ячейки 31  Cell_31\\   \n21  Cell_32_P3U30  Cluster1  P3U30                Защита ячейки 32  Cell_32\\   \n\n   CUSTOM2 CUSTOM3 CUSTOM4  ... LINKED EDITCODE PARAM COMPOSITE REFERENCE  \\\n0                           ...                                             \n1                           ...                                             \n2                           ...                                             \n3                           ...                                             \n4                           ...                                             \n5                           ...                                             \n6                           ...                                             \n7                           ...                                             \n8                           ...                                             \n9                           ...                                             \n10                          ...                                             \n11                          ...                                             \n12                          ...                                             \n13                          ...                                             \n14                          ...                                             \n15                          ...                                             \n16                          ...                                             \n17                          ...                                             \n18                          ...                                             \n19                          ...                                             \n20                          ...                                             \n21                          ...                                             \n\n   DEVSCHED SCHEDID ALIAS CONTENT HIDDEN  \n0                                         \n1                                         \n2                                         \n3                                         \n4                                         \n5                                         \n6                                         \n7                                         \n8                                         \n9                                         \n10                                        \n11                                        \n12                                        \n13                                        \n14                                        \n15                                        \n16                                        \n17                                        \n18                                        \n19                                        \n20                                        \n21                                        \n\n[22 rows x 31 columns]",
      "text/html": "<div>\n<style scoped>\n    .dataframe tbody tr th:only-of-type {\n        vertical-align: middle;\n    }\n\n    .dataframe tbody tr th {\n        vertical-align: top;\n    }\n\n    .dataframe thead th {\n        text-align: right;\n    }\n</style>\n<table border=\"1\" class=\"dataframe\">\n  <thead>\n    <tr style=\"text-align: right;\">\n      <th></th>\n      <th>NAME</th>\n      <th>CLUSTER</th>\n      <th>TYPE</th>\n      <th>AREA</th>\n      <th>LOCATION</th>\n      <th>COMMENT</th>\n      <th>CUSTOM1</th>\n      <th>CUSTOM2</th>\n      <th>CUSTOM3</th>\n      <th>CUSTOM4</th>\n      <th>...</th>\n      <th>LINKED</th>\n      <th>EDITCODE</th>\n      <th>PARAM</th>\n      <th>COMPOSITE</th>\n      <th>REFERENCE</th>\n      <th>DEVSCHED</th>\n      <th>SCHEDID</th>\n      <th>ALIAS</th>\n      <th>CONTENT</th>\n      <th>HIDDEN</th>\n    </tr>\n  </thead>\n  <tbody>\n    <tr>\n      <th>0</th>\n      <td>Cell_2_P3U30</td>\n      <td>Cluster1</td>\n      <td>P3U30</td>\n      <td></td>\n      <td></td>\n      <td>Защита ячейки 2</td>\n      <td>Cell_2\\</td>\n      <td></td>\n      <td></td>\n      <td></td>\n      <td>...</td>\n      <td></td>\n      <td></td>\n      <td></td>\n      <td></td>\n      <td></td>\n      <td></td>\n      <td></td>\n      <td></td>\n      <td></td>\n      <td></td>\n    </tr>\n    <tr>\n      <th>1</th>\n      <td>Cell_3_P3U30</td>\n      <td>Cluster1</td>\n      <td>P3U30</td>\n      <td></td>\n      <td></td>\n      <td>Защита ячейки 2</td>\n      <td>Cell_3\\</td>\n      <td></td>\n      <td></td>\n      <td></td>\n      <td>...</td>\n      <td></td>\n      <td></td>\n      <td></td>\n      <td></td>\n      <td></td>\n      <td></td>\n      <td></td>\n      <td></td>\n      <td></td>\n      <td></td>\n    </tr>\n    <tr>\n      <th>2</th>\n      <td>Cell_4_P3U30</td>\n      <td>Cluster1</td>\n      <td>P3U30</td>\n      <td></td>\n      <td></td>\n      <td>Защита ячейки 2</td>\n      <td>Cell_4\\</td>\n      <td></td>\n      <td></td>\n      <td></td>\n      <td>...</td>\n      <td></td>\n      <td></td>\n      <td></td>\n      <td></td>\n      <td></td>\n      <td></td>\n      <td></td>\n      <td></td>\n      <td></td>\n      <td></td>\n    </tr>\n    <tr>\n      <th>3</th>\n      <td>Cell_5_P3U30</td>\n      <td>Cluster1</td>\n      <td>P3U30</td>\n      <td></td>\n      <td></td>\n      <td>Защита ячейки 2</td>\n      <td>Cell_5\\</td>\n      <td></td>\n      <td></td>\n      <td></td>\n      <td>...</td>\n      <td></td>\n      <td></td>\n      <td></td>\n      <td></td>\n      <td></td>\n      <td></td>\n      <td></td>\n      <td></td>\n      <td></td>\n      <td></td>\n    </tr>\n    <tr>\n      <th>4</th>\n      <td>Cell_6_P3U30</td>\n      <td>Cluster1</td>\n      <td>P3U30</td>\n      <td></td>\n      <td></td>\n      <td>Защита ячейки 2</td>\n      <td>Cell_6\\</td>\n      <td></td>\n      <td></td>\n      <td></td>\n      <td>...</td>\n      <td></td>\n      <td></td>\n      <td></td>\n      <td></td>\n      <td></td>\n      <td></td>\n      <td></td>\n      <td></td>\n      <td></td>\n      <td></td>\n    </tr>\n    <tr>\n      <th>5</th>\n      <td>Cell_7_P3U30</td>\n      <td>Cluster1</td>\n      <td>P3U30</td>\n      <td></td>\n      <td></td>\n      <td>Защита ячейки 2</td>\n      <td>Cell_7\\</td>\n      <td></td>\n      <td></td>\n      <td></td>\n      <td>...</td>\n      <td></td>\n      <td></td>\n      <td></td>\n      <td></td>\n      <td></td>\n      <td></td>\n      <td></td>\n      <td></td>\n      <td></td>\n      <td></td>\n    </tr>\n    <tr>\n      <th>6</th>\n      <td>Cell_8_P3U30</td>\n      <td>Cluster1</td>\n      <td>P3U30</td>\n      <td></td>\n      <td></td>\n      <td>Защита ячейки 2</td>\n      <td>Cell_8\\</td>\n      <td></td>\n      <td></td>\n      <td></td>\n      <td>...</td>\n      <td></td>\n      <td></td>\n      <td></td>\n      <td></td>\n      <td></td>\n      <td></td>\n      <td></td>\n      <td></td>\n      <td></td>\n      <td></td>\n    </tr>\n    <tr>\n      <th>7</th>\n      <td>Cell_9_P3U30</td>\n      <td>Cluster1</td>\n      <td>P3U30</td>\n      <td></td>\n      <td></td>\n      <td>Защита ячейки 2</td>\n      <td>Cell_9\\</td>\n      <td></td>\n      <td></td>\n      <td></td>\n      <td>...</td>\n      <td></td>\n      <td></td>\n      <td></td>\n      <td></td>\n      <td></td>\n      <td></td>\n      <td></td>\n      <td></td>\n      <td></td>\n      <td></td>\n    </tr>\n    <tr>\n      <th>8</th>\n      <td>Cell_10_P3U30</td>\n      <td>Cluster1</td>\n      <td>P3U30</td>\n      <td></td>\n      <td></td>\n      <td>Защита ячейки 2</td>\n      <td>Cell_10\\</td>\n      <td></td>\n      <td></td>\n      <td></td>\n      <td>...</td>\n      <td></td>\n      <td></td>\n      <td></td>\n      <td></td>\n      <td></td>\n      <td></td>\n      <td></td>\n      <td></td>\n      <td></td>\n      <td></td>\n    </tr>\n    <tr>\n      <th>9</th>\n      <td>Cell_11_P3U30</td>\n      <td>Cluster1</td>\n      <td>P3U30</td>\n      <td></td>\n      <td></td>\n      <td>Защита ячейки 2</td>\n      <td>Cell_11\\</td>\n      <td></td>\n      <td></td>\n      <td></td>\n      <td>...</td>\n      <td></td>\n      <td></td>\n      <td></td>\n      <td></td>\n      <td></td>\n      <td></td>\n      <td></td>\n      <td></td>\n      <td></td>\n      <td></td>\n    </tr>\n    <tr>\n      <th>10</th>\n      <td>Cell_12_P3U30</td>\n      <td>Cluster1</td>\n      <td>P3U30</td>\n      <td></td>\n      <td></td>\n      <td>Защита ячейки 2</td>\n      <td>Cell_12\\</td>\n      <td></td>\n      <td></td>\n      <td></td>\n      <td>...</td>\n      <td></td>\n      <td></td>\n      <td></td>\n      <td></td>\n      <td></td>\n      <td></td>\n      <td></td>\n      <td></td>\n      <td></td>\n      <td></td>\n    </tr>\n    <tr>\n      <th>11</th>\n      <td>Cell_13_P3U30</td>\n      <td>Cluster1</td>\n      <td>P3U30</td>\n      <td></td>\n      <td></td>\n      <td>Защита ячейки 2</td>\n      <td>Cell_13\\</td>\n      <td></td>\n      <td></td>\n      <td></td>\n      <td>...</td>\n      <td></td>\n      <td></td>\n      <td></td>\n      <td></td>\n      <td></td>\n      <td></td>\n      <td></td>\n      <td></td>\n      <td></td>\n      <td></td>\n    </tr>\n    <tr>\n      <th>12</th>\n      <td>Cell_14_P3U30</td>\n      <td>Cluster1</td>\n      <td>P3U30</td>\n      <td></td>\n      <td></td>\n      <td>Защита ячейки 2</td>\n      <td>Cell_14\\</td>\n      <td></td>\n      <td></td>\n      <td></td>\n      <td>...</td>\n      <td></td>\n      <td></td>\n      <td></td>\n      <td></td>\n      <td></td>\n      <td></td>\n      <td></td>\n      <td></td>\n      <td></td>\n      <td></td>\n    </tr>\n    <tr>\n      <th>13</th>\n      <td>Cell_15_P3U30</td>\n      <td>Cluster1</td>\n      <td>P3U30</td>\n      <td></td>\n      <td></td>\n      <td>Защита ячейки 2</td>\n      <td>Cell_15\\</td>\n      <td></td>\n      <td></td>\n      <td></td>\n      <td>...</td>\n      <td></td>\n      <td></td>\n      <td></td>\n      <td></td>\n      <td></td>\n      <td></td>\n      <td></td>\n      <td></td>\n      <td></td>\n      <td></td>\n    </tr>\n    <tr>\n      <th>14</th>\n      <td>Cell_16_P3U30</td>\n      <td>Cluster1</td>\n      <td>P3U30</td>\n      <td></td>\n      <td></td>\n      <td>Защита ячейки 2</td>\n      <td>Cell_16\\</td>\n      <td></td>\n      <td></td>\n      <td></td>\n      <td>...</td>\n      <td></td>\n      <td></td>\n      <td></td>\n      <td></td>\n      <td></td>\n      <td></td>\n      <td></td>\n      <td></td>\n      <td></td>\n      <td></td>\n    </tr>\n    <tr>\n      <th>15</th>\n      <td>Cell_17_P3U30</td>\n      <td>Cluster1</td>\n      <td>P3U30</td>\n      <td></td>\n      <td></td>\n      <td>Защита ячейки 2</td>\n      <td>Cell_17\\</td>\n      <td></td>\n      <td></td>\n      <td></td>\n      <td>...</td>\n      <td></td>\n      <td></td>\n      <td></td>\n      <td></td>\n      <td></td>\n      <td></td>\n      <td></td>\n      <td></td>\n      <td></td>\n      <td></td>\n    </tr>\n    <tr>\n      <th>16</th>\n      <td>Cell_18_P3U30</td>\n      <td>Cluster1</td>\n      <td>P3U30</td>\n      <td></td>\n      <td></td>\n      <td>Защита ячейки 2</td>\n      <td>Cell_18\\</td>\n      <td></td>\n      <td></td>\n      <td></td>\n      <td>...</td>\n      <td></td>\n      <td></td>\n      <td></td>\n      <td></td>\n      <td></td>\n      <td></td>\n      <td></td>\n      <td></td>\n      <td></td>\n      <td></td>\n    </tr>\n    <tr>\n      <th>17</th>\n      <td>Cell_19_P3U30</td>\n      <td>Cluster1</td>\n      <td>P3U30</td>\n      <td></td>\n      <td></td>\n      <td>Защита ячейки 2</td>\n      <td>Cell_19\\</td>\n      <td></td>\n      <td></td>\n      <td></td>\n      <td>...</td>\n      <td></td>\n      <td></td>\n      <td></td>\n      <td></td>\n      <td></td>\n      <td></td>\n      <td></td>\n      <td></td>\n      <td></td>\n      <td></td>\n    </tr>\n    <tr>\n      <th>18</th>\n      <td>Cell_20_P3U30</td>\n      <td>Cluster1</td>\n      <td>P3U30</td>\n      <td></td>\n      <td></td>\n      <td>Защита ячейки 2</td>\n      <td>Cell_20\\</td>\n      <td></td>\n      <td></td>\n      <td></td>\n      <td>...</td>\n      <td></td>\n      <td></td>\n      <td></td>\n      <td></td>\n      <td></td>\n      <td></td>\n      <td></td>\n      <td></td>\n      <td></td>\n      <td></td>\n    </tr>\n    <tr>\n      <th>19</th>\n      <td>Cell_30_P3U30</td>\n      <td>Cluster1</td>\n      <td>P3U30</td>\n      <td></td>\n      <td></td>\n      <td>Защита ячейки 30</td>\n      <td>Cell_30\\</td>\n      <td></td>\n      <td></td>\n      <td></td>\n      <td>...</td>\n      <td></td>\n      <td></td>\n      <td></td>\n      <td></td>\n      <td></td>\n      <td></td>\n      <td></td>\n      <td></td>\n      <td></td>\n      <td></td>\n    </tr>\n    <tr>\n      <th>20</th>\n      <td>Cell_31_P3U30</td>\n      <td>Cluster1</td>\n      <td>P3U30</td>\n      <td></td>\n      <td></td>\n      <td>Защита ячейки 31</td>\n      <td>Cell_31\\</td>\n      <td></td>\n      <td></td>\n      <td></td>\n      <td>...</td>\n      <td></td>\n      <td></td>\n      <td></td>\n      <td></td>\n      <td></td>\n      <td></td>\n      <td></td>\n      <td></td>\n      <td></td>\n      <td></td>\n    </tr>\n    <tr>\n      <th>21</th>\n      <td>Cell_32_P3U30</td>\n      <td>Cluster1</td>\n      <td>P3U30</td>\n      <td></td>\n      <td></td>\n      <td>Защита ячейки 32</td>\n      <td>Cell_32\\</td>\n      <td></td>\n      <td></td>\n      <td></td>\n      <td>...</td>\n      <td></td>\n      <td></td>\n      <td></td>\n      <td></td>\n      <td></td>\n      <td></td>\n      <td></td>\n      <td></td>\n      <td></td>\n      <td></td>\n    </tr>\n  </tbody>\n</table>\n<p>22 rows × 31 columns</p>\n</div>"
     },
     "execution_count": 40,
     "metadata": {},
     "output_type": "execute_result"
    }
   ],
   "source": [
    "x = BaseProject(os.path.join(r\"c:\\ProgramData\\AVEVA\\Citect SCADA 2018 R2\\User\", 'tmp1', 'equip.DBF'))\n",
    "x.dataframe()"
   ],
   "metadata": {
    "collapsed": false,
    "pycharm": {
     "name": "#%%\n"
    }
   }
  },
  {
   "cell_type": "code",
   "execution_count": null,
   "outputs": [],
   "source": [],
   "metadata": {
    "collapsed": false,
    "pycharm": {
     "name": "#%%\n"
    }
   }
  },
  {
   "cell_type": "code",
   "execution_count": null,
   "outputs": [],
   "source": [],
   "metadata": {
    "collapsed": false,
    "pycharm": {
     "name": "#%%\n"
    }
   }
  },
  {
   "cell_type": "code",
   "execution_count": null,
   "outputs": [],
   "source": [],
   "metadata": {
    "collapsed": false,
    "pycharm": {
     "name": "#%%\n"
    }
   }
  },
  {
   "cell_type": "code",
   "execution_count": null,
   "outputs": [],
   "source": [],
   "metadata": {
    "collapsed": false,
    "pycharm": {
     "name": "#%%\n"
    }
   }
  },
  {
   "cell_type": "code",
   "execution_count": 137,
   "outputs": [
    {
     "data": {
      "text/plain": "{'NAME': '',\n 'TYPE': '',\n 'UNIT': '',\n 'ADDR': '',\n 'RAW_ZERO': '',\n 'RAW_FULL': '',\n 'ENG_ZERO': '',\n 'ENG_FULL': '',\n 'ENG_UNITS': '',\n 'FORMAT': '',\n 'COMMENT': '',\n 'EDITCODE': '',\n 'LINKED': '',\n 'OID': '',\n 'REF1': '',\n 'REF2': '',\n 'DEADBAND': '',\n 'CUSTOM': '',\n 'TAGGENLINK': '',\n 'CLUSTER': '',\n 'HISTORIAN': '',\n 'EQUIP': '',\n 'CUSTOM1': '',\n 'CUSTOM2': '',\n 'CUSTOM3': '',\n 'CUSTOM4': '',\n 'CUSTOM5': '',\n 'CUSTOM6': '',\n 'CUSTOM7': '',\n 'CUSTOM8': '',\n 'ITEM': ''}"
     },
     "execution_count": 137,
     "metadata": {},
     "output_type": "execute_result"
    }
   ],
   "source": [
    "dd = dbf.Table(os.path.join(r\"c:\\ProgramData\\AVEVA\\Citect SCADA 2018 R2\\User\", 'tmp1', 'variable.DBF'),\n",
    "               codepage='cp1251')\n",
    "dd.open(mode=dbf.READ_ONLY)\n",
    "x = dict(zip(dd.field_names, ['' for _ in range(len(dd.field_names))]))\n",
    "dd.close()\n",
    "x"
   ],
   "metadata": {
    "collapsed": false,
    "pycharm": {
     "name": "#%%\n"
    }
   }
  },
  {
   "cell_type": "code",
   "execution_count": 27,
   "outputs": [
    {
     "name": "stdout",
     "output_type": "stream",
     "text": [
      "self.NAME = ''\n",
      "self.CLUSTER = ''\n",
      "self.TYPE = ''\n",
      "self.AREA = ''\n",
      "self.LOCATION = ''\n",
      "self.COMMENT = ''\n",
      "self.CUSTOM1 = ''\n",
      "self.CUSTOM2 = ''\n",
      "self.CUSTOM3 = ''\n",
      "self.CUSTOM4 = ''\n",
      "self.CUSTOM5 = ''\n",
      "self.CUSTOM6 = ''\n",
      "self.CUSTOM7 = ''\n",
      "self.CUSTOM8 = ''\n",
      "self.IODEVICE = ''\n",
      "self.PAGE = ''\n",
      "self.HELP = ''\n",
      "self.DEFSTATE = ''\n",
      "self.SCHEDULED = ''\n",
      "self.TAGPREFIX = ''\n",
      "self.TAGGENLINK = ''\n",
      "self.LINKED = ''\n",
      "self.EDITCODE = ''\n",
      "self.PARAM = ''\n",
      "self.COMPOSITE = ''\n",
      "self.REFERENCE = ''\n",
      "self.DEVSCHED = ''\n",
      "self.SCHEDID = ''\n",
      "self.ALIAS = ''\n",
      "self.CONTENT = ''\n",
      "self.HIDDEN = ''\n",
      "\n"
     ]
    }
   ],
   "source": [
    "st = ''\n",
    "for t in dd.field_names:\n",
    "    st += f\"self.{t} = ''\\n\"\n",
    "print(st)"
   ],
   "metadata": {
    "collapsed": false,
    "pycharm": {
     "name": "#%%\n"
    }
   }
  },
  {
   "cell_type": "code",
   "execution_count": 31,
   "outputs": [],
   "source": [
    "class BaseProject:\n",
    "\n",
    "    def __init__(self, file_name):\n",
    "        self.filename = filename\n"
   ],
   "metadata": {
    "collapsed": false,
    "pycharm": {
     "name": "#%%\n"
    }
   }
  },
  {
   "cell_type": "code",
   "execution_count": 32,
   "outputs": [],
   "source": [
    "x = Clss()"
   ],
   "metadata": {
    "collapsed": false,
    "pycharm": {
     "name": "#%%\n"
    }
   }
  },
  {
   "cell_type": "code",
   "execution_count": 34,
   "outputs": [
    {
     "data": {
      "text/plain": "{'NAME': '',\n 'CLUSTER': '',\n 'TYPE': '',\n 'AREA': '',\n 'LOCATION': '',\n 'COMMENT': '',\n 'CUSTOM1': '',\n 'CUSTOM2': '',\n 'CUSTOM3': '',\n 'CUSTOM4': '',\n 'CUSTOM5': '',\n 'CUSTOM6': '',\n 'CUSTOM7': '',\n 'CUSTOM8': '',\n 'IODEVICE': '',\n 'PAGE': '',\n 'HELP': '',\n 'DEFSTATE': '',\n 'SCHEDULED': '',\n 'TAGPREFIX': '',\n 'TAGGENLINK': '',\n 'LINKED': '',\n 'EDITCODE': '',\n 'PARAM': '',\n 'COMPOSITE': '',\n 'REFERENCE': '',\n 'DEVSCHED': '',\n 'SCHEDID': '',\n 'ALIAS': '',\n 'CONTENT': '',\n 'HIDDEN': '',\n 'filename': 'jfjdklj'}"
     },
     "execution_count": 34,
     "metadata": {},
     "output_type": "execute_result"
    }
   ],
   "source": [
    "x.filename = 'jfjdklj'\n",
    "x.__dict__"
   ],
   "metadata": {
    "collapsed": false,
    "pycharm": {
     "name": "#%%\n"
    }
   }
  },
  {
   "cell_type": "code",
   "execution_count": null,
   "outputs": [],
   "source": [],
   "metadata": {
    "collapsed": false,
    "pycharm": {
     "name": "#%%\n"
    }
   }
  },
  {
   "cell_type": "code",
   "execution_count": 77,
   "outputs": [
    {
     "data": {
      "text/plain": "dbf.Table('c:\\\\ProgramData\\\\AVEVA\\\\Citect SCADA 2018 R2\\\\User\\\\tmp1\\\\units.DBF', status=<DbfStatus.READ_ONLY: 1>)"
     },
     "execution_count": 77,
     "metadata": {},
     "output_type": "execute_result"
    }
   ],
   "source": [
    "dd.open(mode=dbf.READ_ONLY)"
   ],
   "metadata": {
    "collapsed": false,
    "pycharm": {
     "name": "#%%\n"
    }
   }
  },
  {
   "cell_type": "code",
   "execution_count": 12,
   "outputs": [],
   "source": [
    "dd.close()"
   ],
   "metadata": {
    "collapsed": false,
    "pycharm": {
     "name": "#%%\n"
    }
   }
  },
  {
   "cell_type": "code",
   "execution_count": 68,
   "outputs": [
    {
     "data": {
      "text/plain": "      SERVER      NAME NUMBER ADDR PROTOCOL PORT     MODE LOGWRITE LOGREAD  \\\n0  IOServer1  Internal      1        OFSOPC       Primary                    \n1  IOServer1    Cicode      2        CICODE       Primary                    \n\n  CACHE  ... TAGGENTEMP PRIORITY BGPOLL BGPOLLRATE PERSFREQ PERSPATH  \\\n0        ...                   1                                       \n1        ...                   1                                       \n\n  MINUPDATE STALEPERIO READONLY EXCLUSIVE  \n0                                          \n1                                          \n\n[2 rows x 44 columns]",
      "text/html": "<div>\n<style scoped>\n    .dataframe tbody tr th:only-of-type {\n        vertical-align: middle;\n    }\n\n    .dataframe tbody tr th {\n        vertical-align: top;\n    }\n\n    .dataframe thead th {\n        text-align: right;\n    }\n</style>\n<table border=\"1\" class=\"dataframe\">\n  <thead>\n    <tr style=\"text-align: right;\">\n      <th></th>\n      <th>SERVER</th>\n      <th>NAME</th>\n      <th>NUMBER</th>\n      <th>ADDR</th>\n      <th>PROTOCOL</th>\n      <th>PORT</th>\n      <th>MODE</th>\n      <th>LOGWRITE</th>\n      <th>LOGREAD</th>\n      <th>CACHE</th>\n      <th>...</th>\n      <th>TAGGENTEMP</th>\n      <th>PRIORITY</th>\n      <th>BGPOLL</th>\n      <th>BGPOLLRATE</th>\n      <th>PERSFREQ</th>\n      <th>PERSPATH</th>\n      <th>MINUPDATE</th>\n      <th>STALEPERIO</th>\n      <th>READONLY</th>\n      <th>EXCLUSIVE</th>\n    </tr>\n  </thead>\n  <tbody>\n    <tr>\n      <th>0</th>\n      <td>IOServer1</td>\n      <td>Internal</td>\n      <td>1</td>\n      <td></td>\n      <td>OFSOPC</td>\n      <td></td>\n      <td>Primary</td>\n      <td></td>\n      <td></td>\n      <td></td>\n      <td>...</td>\n      <td></td>\n      <td>1</td>\n      <td></td>\n      <td></td>\n      <td></td>\n      <td></td>\n      <td></td>\n      <td></td>\n      <td></td>\n      <td></td>\n    </tr>\n    <tr>\n      <th>1</th>\n      <td>IOServer1</td>\n      <td>Cicode</td>\n      <td>2</td>\n      <td></td>\n      <td>CICODE</td>\n      <td></td>\n      <td>Primary</td>\n      <td></td>\n      <td></td>\n      <td></td>\n      <td>...</td>\n      <td></td>\n      <td>1</td>\n      <td></td>\n      <td></td>\n      <td></td>\n      <td></td>\n      <td></td>\n      <td></td>\n      <td></td>\n      <td></td>\n    </tr>\n  </tbody>\n</table>\n<p>2 rows × 44 columns</p>\n</div>"
     },
     "execution_count": 68,
     "metadata": {},
     "output_type": "execute_result"
    }
   ],
   "source": [
    "project.show_io()"
   ],
   "metadata": {
    "collapsed": false,
    "pycharm": {
     "name": "#%%\n"
    }
   }
  },
  {
   "cell_type": "code",
   "execution_count": 57,
   "outputs": [
    {
     "ename": "ValueError",
     "evalue": "invalid literal for int() with base 10: '        '",
     "output_type": "error",
     "traceback": [
      "\u001B[1;31m---------------------------------------------------------------------------\u001B[0m",
      "\u001B[1;31mValueError\u001B[0m                                Traceback (most recent call last)",
      "\u001B[1;32m~\\AppData\\Local\\Temp/ipykernel_10896/2268525340.py\u001B[0m in \u001B[0;36m<module>\u001B[1;34m\u001B[0m\n\u001B[0;32m      1\u001B[0m \u001B[0mproject\u001B[0m \u001B[1;33m=\u001B[0m \u001B[0mProject\u001B[0m\u001B[1;33m(\u001B[0m\u001B[1;34m'tmp1'\u001B[0m\u001B[1;33m)\u001B[0m\u001B[1;33m\u001B[0m\u001B[1;33m\u001B[0m\u001B[0m\n\u001B[1;32m----> 2\u001B[1;33m \u001B[0mproject\u001B[0m\u001B[1;33m.\u001B[0m\u001B[0mwrite_io\u001B[0m\u001B[1;33m(\u001B[0m\u001B[1;33m)\u001B[0m\u001B[1;33m\u001B[0m\u001B[1;33m\u001B[0m\u001B[0m\n\u001B[0m",
      "\u001B[1;32m~\\AppData\\Local\\Temp/ipykernel_10896/2052127119.py\u001B[0m in \u001B[0;36mwrite_io\u001B[1;34m(self)\u001B[0m\n\u001B[0;32m     51\u001B[0m             \u001B[0mtb\u001B[0m\u001B[1;33m.\u001B[0m\u001B[0mopen\u001B[0m\u001B[1;33m(\u001B[0m\u001B[0mmode\u001B[0m\u001B[1;33m=\u001B[0m\u001B[0mdbf\u001B[0m\u001B[1;33m.\u001B[0m\u001B[0mREAD_ONLY\u001B[0m\u001B[1;33m)\u001B[0m\u001B[1;33m\u001B[0m\u001B[1;33m\u001B[0m\u001B[0m\n\u001B[0;32m     52\u001B[0m             \u001B[0mnumb\u001B[0m \u001B[1;33m=\u001B[0m \u001B[0mtb\u001B[0m\u001B[1;33m[\u001B[0m\u001B[1;33m-\u001B[0m\u001B[1;36m1\u001B[0m\u001B[1;33m]\u001B[0m\u001B[1;33m[\u001B[0m\u001B[1;34m'NUMBER'\u001B[0m\u001B[1;33m]\u001B[0m\u001B[1;33m\u001B[0m\u001B[1;33m\u001B[0m\u001B[0m\n\u001B[1;32m---> 53\u001B[1;33m             \u001B[0mnumb\u001B[0m \u001B[1;33m=\u001B[0m \u001B[0mint\u001B[0m\u001B[1;33m(\u001B[0m\u001B[0mnumb\u001B[0m\u001B[1;33m)\u001B[0m\u001B[1;33m\u001B[0m\u001B[1;33m\u001B[0m\u001B[0m\n\u001B[0m\u001B[0;32m     54\u001B[0m \u001B[1;33m\u001B[0m\u001B[0m\n\u001B[0;32m     55\u001B[0m         \u001B[1;32mfor\u001B[0m \u001B[0mi\u001B[0m \u001B[1;32min\u001B[0m \u001B[0mrange\u001B[0m\u001B[1;33m(\u001B[0m\u001B[0mstart\u001B[0m\u001B[1;33m,\u001B[0m \u001B[0mend\u001B[0m\u001B[1;33m)\u001B[0m\u001B[1;33m:\u001B[0m\u001B[1;33m\u001B[0m\u001B[1;33m\u001B[0m\u001B[0m\n",
      "\u001B[1;31mValueError\u001B[0m: invalid literal for int() with base 10: '        '"
     ]
    },
    {
     "name": "stderr",
     "output_type": "stream",
     "text": [
      "Traceback (most recent call last):\n",
      "  File \"_pydevd_bundle\\pydevd_cython_win32_39_64.pyx\", line 1034, in _pydevd_bundle.pydevd_cython_win32_39_64.PyDBFrame.trace_dispatch\n",
      "  File \"C:\\Program Files\\JetBrains\\PyCharm 213.4631.9\\plugins\\python\\helpers-pro\\jupyter_debug\\pydev_jupyter_plugin.py\", line 144, in cmd_step_over\n",
      "    if _is_inside_jupyter_cell(frame, pydb):\n",
      "  File \"C:\\Program Files\\JetBrains\\PyCharm 213.4631.9\\plugins\\python\\helpers-pro\\jupyter_debug\\pydev_jupyter_plugin.py\", line 209, in _is_inside_jupyter_cell\n",
      "    if is_cell_filename(filename):\n",
      "  File \"C:\\Program Files\\JetBrains\\PyCharm 213.4631.9\\plugins\\python\\helpers-pro\\jupyter_debug\\pydev_jupyter_plugin.py\", line 220, in is_cell_filename\n",
      "    ipython_shell = get_ipython()\n",
      "NameError: name 'get_ipython' is not defined\n"
     ]
    }
   ],
   "source": [
    "project = Project('tmp1')\n",
    "project.write_io()"
   ],
   "metadata": {
    "collapsed": false,
    "pycharm": {
     "name": "#%%\n"
    }
   }
  },
  {
   "cell_type": "code",
   "execution_count": 20,
   "outputs": [],
   "source": [
    "# Удаление строки\n",
    "rec = table[-1]\n",
    "dbf.delete(rec)\n",
    "table.pack()"
   ],
   "metadata": {
    "collapsed": false,
    "pycharm": {
     "name": "#%%\n"
    }
   }
  },
  {
   "cell_type": "code",
   "execution_count": 11,
   "outputs": [
    {
     "data": {
      "text/plain": "      SERVER      NAME NUMBER ADDR PROTOCOL PORT     MODE LOGWRITE LOGREAD  \\\n0  IOServer1  Internal      1        OFSOPC       Primary                    \n1  IOServer1    Cicode      2        CICODE       Primary                    \n\n  CACHE  ... TAGGENTEMP PRIORITY BGPOLL BGPOLLRATE PERSFREQ PERSPATH  \\\n0        ...                   1                                       \n1        ...                   1                                       \n\n  MINUPDATE STALEPERIO READONLY EXCLUSIVE  \n0                                          \n1                                          \n\n[2 rows x 44 columns]",
      "text/html": "<div>\n<style scoped>\n    .dataframe tbody tr th:only-of-type {\n        vertical-align: middle;\n    }\n\n    .dataframe tbody tr th {\n        vertical-align: top;\n    }\n\n    .dataframe thead th {\n        text-align: right;\n    }\n</style>\n<table border=\"1\" class=\"dataframe\">\n  <thead>\n    <tr style=\"text-align: right;\">\n      <th></th>\n      <th>SERVER</th>\n      <th>NAME</th>\n      <th>NUMBER</th>\n      <th>ADDR</th>\n      <th>PROTOCOL</th>\n      <th>PORT</th>\n      <th>MODE</th>\n      <th>LOGWRITE</th>\n      <th>LOGREAD</th>\n      <th>CACHE</th>\n      <th>...</th>\n      <th>TAGGENTEMP</th>\n      <th>PRIORITY</th>\n      <th>BGPOLL</th>\n      <th>BGPOLLRATE</th>\n      <th>PERSFREQ</th>\n      <th>PERSPATH</th>\n      <th>MINUPDATE</th>\n      <th>STALEPERIO</th>\n      <th>READONLY</th>\n      <th>EXCLUSIVE</th>\n    </tr>\n  </thead>\n  <tbody>\n    <tr>\n      <th>0</th>\n      <td>IOServer1</td>\n      <td>Internal</td>\n      <td>1</td>\n      <td></td>\n      <td>OFSOPC</td>\n      <td></td>\n      <td>Primary</td>\n      <td></td>\n      <td></td>\n      <td></td>\n      <td>...</td>\n      <td></td>\n      <td>1</td>\n      <td></td>\n      <td></td>\n      <td></td>\n      <td></td>\n      <td></td>\n      <td></td>\n      <td></td>\n      <td></td>\n    </tr>\n    <tr>\n      <th>1</th>\n      <td>IOServer1</td>\n      <td>Cicode</td>\n      <td>2</td>\n      <td></td>\n      <td>CICODE</td>\n      <td></td>\n      <td>Primary</td>\n      <td></td>\n      <td></td>\n      <td></td>\n      <td>...</td>\n      <td></td>\n      <td>1</td>\n      <td></td>\n      <td></td>\n      <td></td>\n      <td></td>\n      <td></td>\n      <td></td>\n      <td></td>\n      <td></td>\n    </tr>\n  </tbody>\n</table>\n<p>2 rows × 44 columns</p>\n</div>"
     },
     "execution_count": 11,
     "metadata": {},
     "output_type": "execute_result"
    }
   ],
   "source": [
    "name_file = r\"units.DBF\"\n",
    "filename = os.path.join(path_projects, name_projects, name_file)\n",
    "\n",
    "db_in_dbf = DBF(filename, encoding='cp1251')\n",
    "df = pd.DataFrame(db_in_dbf)\n",
    "df\n"
   ],
   "metadata": {
    "collapsed": false,
    "pycharm": {
     "name": "#%%\n"
    }
   }
  },
  {
   "cell_type": "code",
   "execution_count": 10,
   "outputs": [
    {
     "data": {
      "text/plain": "                                 NAME    TYPE     UNIT  \\\n0              Cell_2\\VO3GGIO99\\Ind\\t  STRING   Cell_2   \n1          Cell_2\\VO3GGIO99\\Ind\\stVal  STRING   Cell_2   \n2         Cell_2\\VO4GGIO100\\Ind\\stVal  STRING   Cell_2   \n3             Cell_2\\VO4GGIO100\\Ind\\t  STRING   Cell_2   \n4          Cell_2\\Obj2CSWI2\\Pos\\stVal  STRING   Cell_2   \n..                                ...     ...      ...   \n698     Cell_20\\U3ppMMXU5\\PPV\\phsBC\\t  STRING  Cell_20   \n699  Cell_20\\U3ppMMXU5\\PPV\\phsCA\\cVal  STRING  Cell_20   \n700     Cell_20\\U3ppMMXU5\\PPV\\phsCA\\t  STRING  Cell_20   \n701    Cell_20\\UovMMXU1\\PhV\\neut\\cVal  STRING  Cell_20   \n702       Cell_20\\UovMMXU1\\PhV\\neut\\t  STRING  Cell_20   \n\n                                  ADDR RAW_ZERO RAW_FULL ENG_ZERO ENG_FULL  \\\n0             Relay/VO3GGIO99$ST$Ind$t                                       \n1         Relay/VO3GGIO99$ST$Ind$stVal                                       \n2        Relay/VO4GGIO100$ST$Ind$stVal                                       \n3            Relay/VO4GGIO100$ST$Ind$t                                       \n4         Relay/Obj2CSWI2$ST$Pos$stVal                                       \n..                                 ...      ...      ...      ...      ...   \n698     Relay/U3ppMMXU5$MX$PPV$phsBC$t                                       \n699  Relay/U3ppMMXU5$MX$PPV$phsCA$cVal                                       \n700     Relay/U3ppMMXU5$MX$PPV$phsCA$t                                       \n701    Relay/UovMMXU1$MX$PhV$neut$cVal                                       \n702       Relay/UovMMXU1$MX$PhV$neut$t                                       \n\n    ENG_UNITS FORMAT  ...          EQUIP CUSTOM1 CUSTOM2 CUSTOM3 CUSTOM4  \\\n0                     ...   Cell_2_P3U30                                   \n1                     ...   Cell_2_P3U30                                   \n2                     ...   Cell_2_P3U30                                   \n3                     ...   Cell_2_P3U30                                   \n4                     ...   Cell_2_P3U30                                   \n..        ...    ...  ...            ...     ...     ...     ...     ...   \n698                   ...  Cell_20_P3U30                                   \n699                   ...  Cell_20_P3U30                                   \n700                   ...  Cell_20_P3U30                                   \n701                   ...  Cell_20_P3U30                                   \n702                   ...  Cell_20_P3U30                                   \n\n    CUSTOM5 CUSTOM6 CUSTOM7 CUSTOM8                      ITEM  \n0                                             VO3GGIO99\\Ind\\t  \n1                                         VO3GGIO99\\Ind\\stVal  \n2                                        VO4GGIO100\\Ind\\stVal  \n3                                            VO4GGIO100\\Ind\\t  \n4                                         Obj2CSWI2\\Pos\\stVal  \n..      ...     ...     ...     ...                       ...  \n698                                     U3ppMMXU5\\PPV\\phsBC\\t  \n699                                  U3ppMMXU5\\PPV\\phsCA\\cVal  \n700                                     U3ppMMXU5\\PPV\\phsCA\\t  \n701                                    UovMMXU1\\PhV\\neut\\cVal  \n702                                       UovMMXU1\\PhV\\neut\\t  \n\n[703 rows x 31 columns]",
      "text/html": "<div>\n<style scoped>\n    .dataframe tbody tr th:only-of-type {\n        vertical-align: middle;\n    }\n\n    .dataframe tbody tr th {\n        vertical-align: top;\n    }\n\n    .dataframe thead th {\n        text-align: right;\n    }\n</style>\n<table border=\"1\" class=\"dataframe\">\n  <thead>\n    <tr style=\"text-align: right;\">\n      <th></th>\n      <th>NAME</th>\n      <th>TYPE</th>\n      <th>UNIT</th>\n      <th>ADDR</th>\n      <th>RAW_ZERO</th>\n      <th>RAW_FULL</th>\n      <th>ENG_ZERO</th>\n      <th>ENG_FULL</th>\n      <th>ENG_UNITS</th>\n      <th>FORMAT</th>\n      <th>...</th>\n      <th>EQUIP</th>\n      <th>CUSTOM1</th>\n      <th>CUSTOM2</th>\n      <th>CUSTOM3</th>\n      <th>CUSTOM4</th>\n      <th>CUSTOM5</th>\n      <th>CUSTOM6</th>\n      <th>CUSTOM7</th>\n      <th>CUSTOM8</th>\n      <th>ITEM</th>\n    </tr>\n  </thead>\n  <tbody>\n    <tr>\n      <th>0</th>\n      <td>Cell_2\\VO3GGIO99\\Ind\\t</td>\n      <td>STRING</td>\n      <td>Cell_2</td>\n      <td>Relay/VO3GGIO99$ST$Ind$t</td>\n      <td></td>\n      <td></td>\n      <td></td>\n      <td></td>\n      <td></td>\n      <td></td>\n      <td>...</td>\n      <td>Cell_2_P3U30</td>\n      <td></td>\n      <td></td>\n      <td></td>\n      <td></td>\n      <td></td>\n      <td></td>\n      <td></td>\n      <td></td>\n      <td>VO3GGIO99\\Ind\\t</td>\n    </tr>\n    <tr>\n      <th>1</th>\n      <td>Cell_2\\VO3GGIO99\\Ind\\stVal</td>\n      <td>STRING</td>\n      <td>Cell_2</td>\n      <td>Relay/VO3GGIO99$ST$Ind$stVal</td>\n      <td></td>\n      <td></td>\n      <td></td>\n      <td></td>\n      <td></td>\n      <td></td>\n      <td>...</td>\n      <td>Cell_2_P3U30</td>\n      <td></td>\n      <td></td>\n      <td></td>\n      <td></td>\n      <td></td>\n      <td></td>\n      <td></td>\n      <td></td>\n      <td>VO3GGIO99\\Ind\\stVal</td>\n    </tr>\n    <tr>\n      <th>2</th>\n      <td>Cell_2\\VO4GGIO100\\Ind\\stVal</td>\n      <td>STRING</td>\n      <td>Cell_2</td>\n      <td>Relay/VO4GGIO100$ST$Ind$stVal</td>\n      <td></td>\n      <td></td>\n      <td></td>\n      <td></td>\n      <td></td>\n      <td></td>\n      <td>...</td>\n      <td>Cell_2_P3U30</td>\n      <td></td>\n      <td></td>\n      <td></td>\n      <td></td>\n      <td></td>\n      <td></td>\n      <td></td>\n      <td></td>\n      <td>VO4GGIO100\\Ind\\stVal</td>\n    </tr>\n    <tr>\n      <th>3</th>\n      <td>Cell_2\\VO4GGIO100\\Ind\\t</td>\n      <td>STRING</td>\n      <td>Cell_2</td>\n      <td>Relay/VO4GGIO100$ST$Ind$t</td>\n      <td></td>\n      <td></td>\n      <td></td>\n      <td></td>\n      <td></td>\n      <td></td>\n      <td>...</td>\n      <td>Cell_2_P3U30</td>\n      <td></td>\n      <td></td>\n      <td></td>\n      <td></td>\n      <td></td>\n      <td></td>\n      <td></td>\n      <td></td>\n      <td>VO4GGIO100\\Ind\\t</td>\n    </tr>\n    <tr>\n      <th>4</th>\n      <td>Cell_2\\Obj2CSWI2\\Pos\\stVal</td>\n      <td>STRING</td>\n      <td>Cell_2</td>\n      <td>Relay/Obj2CSWI2$ST$Pos$stVal</td>\n      <td></td>\n      <td></td>\n      <td></td>\n      <td></td>\n      <td></td>\n      <td></td>\n      <td>...</td>\n      <td>Cell_2_P3U30</td>\n      <td></td>\n      <td></td>\n      <td></td>\n      <td></td>\n      <td></td>\n      <td></td>\n      <td></td>\n      <td></td>\n      <td>Obj2CSWI2\\Pos\\stVal</td>\n    </tr>\n    <tr>\n      <th>...</th>\n      <td>...</td>\n      <td>...</td>\n      <td>...</td>\n      <td>...</td>\n      <td>...</td>\n      <td>...</td>\n      <td>...</td>\n      <td>...</td>\n      <td>...</td>\n      <td>...</td>\n      <td>...</td>\n      <td>...</td>\n      <td>...</td>\n      <td>...</td>\n      <td>...</td>\n      <td>...</td>\n      <td>...</td>\n      <td>...</td>\n      <td>...</td>\n      <td>...</td>\n      <td>...</td>\n    </tr>\n    <tr>\n      <th>698</th>\n      <td>Cell_20\\U3ppMMXU5\\PPV\\phsBC\\t</td>\n      <td>STRING</td>\n      <td>Cell_20</td>\n      <td>Relay/U3ppMMXU5$MX$PPV$phsBC$t</td>\n      <td></td>\n      <td></td>\n      <td></td>\n      <td></td>\n      <td></td>\n      <td></td>\n      <td>...</td>\n      <td>Cell_20_P3U30</td>\n      <td></td>\n      <td></td>\n      <td></td>\n      <td></td>\n      <td></td>\n      <td></td>\n      <td></td>\n      <td></td>\n      <td>U3ppMMXU5\\PPV\\phsBC\\t</td>\n    </tr>\n    <tr>\n      <th>699</th>\n      <td>Cell_20\\U3ppMMXU5\\PPV\\phsCA\\cVal</td>\n      <td>STRING</td>\n      <td>Cell_20</td>\n      <td>Relay/U3ppMMXU5$MX$PPV$phsCA$cVal</td>\n      <td></td>\n      <td></td>\n      <td></td>\n      <td></td>\n      <td></td>\n      <td></td>\n      <td>...</td>\n      <td>Cell_20_P3U30</td>\n      <td></td>\n      <td></td>\n      <td></td>\n      <td></td>\n      <td></td>\n      <td></td>\n      <td></td>\n      <td></td>\n      <td>U3ppMMXU5\\PPV\\phsCA\\cVal</td>\n    </tr>\n    <tr>\n      <th>700</th>\n      <td>Cell_20\\U3ppMMXU5\\PPV\\phsCA\\t</td>\n      <td>STRING</td>\n      <td>Cell_20</td>\n      <td>Relay/U3ppMMXU5$MX$PPV$phsCA$t</td>\n      <td></td>\n      <td></td>\n      <td></td>\n      <td></td>\n      <td></td>\n      <td></td>\n      <td>...</td>\n      <td>Cell_20_P3U30</td>\n      <td></td>\n      <td></td>\n      <td></td>\n      <td></td>\n      <td></td>\n      <td></td>\n      <td></td>\n      <td></td>\n      <td>U3ppMMXU5\\PPV\\phsCA\\t</td>\n    </tr>\n    <tr>\n      <th>701</th>\n      <td>Cell_20\\UovMMXU1\\PhV\\neut\\cVal</td>\n      <td>STRING</td>\n      <td>Cell_20</td>\n      <td>Relay/UovMMXU1$MX$PhV$neut$cVal</td>\n      <td></td>\n      <td></td>\n      <td></td>\n      <td></td>\n      <td></td>\n      <td></td>\n      <td>...</td>\n      <td>Cell_20_P3U30</td>\n      <td></td>\n      <td></td>\n      <td></td>\n      <td></td>\n      <td></td>\n      <td></td>\n      <td></td>\n      <td></td>\n      <td>UovMMXU1\\PhV\\neut\\cVal</td>\n    </tr>\n    <tr>\n      <th>702</th>\n      <td>Cell_20\\UovMMXU1\\PhV\\neut\\t</td>\n      <td>STRING</td>\n      <td>Cell_20</td>\n      <td>Relay/UovMMXU1$MX$PhV$neut$t</td>\n      <td></td>\n      <td></td>\n      <td></td>\n      <td></td>\n      <td></td>\n      <td></td>\n      <td>...</td>\n      <td>Cell_20_P3U30</td>\n      <td></td>\n      <td></td>\n      <td></td>\n      <td></td>\n      <td></td>\n      <td></td>\n      <td></td>\n      <td></td>\n      <td>UovMMXU1\\PhV\\neut\\t</td>\n    </tr>\n  </tbody>\n</table>\n<p>703 rows × 31 columns</p>\n</div>"
     },
     "execution_count": 10,
     "metadata": {},
     "output_type": "execute_result"
    }
   ],
   "source": [
    "name_file = r\"variable.DBF\"\n",
    "filename = os.path.join(path_projects, name_projects, name_file)\n",
    "\n",
    "db_in_dbf = DBF(filename, encoding='cp1251')\n",
    "df = pd.DataFrame(db_in_dbf)\n",
    "df"
   ],
   "metadata": {
    "collapsed": false,
    "pycharm": {
     "name": "#%%\n"
    }
   }
  },
  {
   "cell_type": "code",
   "execution_count": 7,
   "outputs": [
    {
     "data": {
      "text/plain": "             NAME   CLUSTER   TYPE AREA LOCATION          COMMENT   CUSTOM1  \\\n0    Cell_2_P3U30  Cluster1  P3U30                Защита ячейки 2   Cell_2\\   \n1    Cell_3_P3U30  Cluster1  P3U30                Защита ячейки 2   Cell_3\\   \n2    Cell_4_P3U30  Cluster1  P3U30                Защита ячейки 2   Cell_4\\   \n3    Cell_5_P3U30  Cluster1  P3U30                Защита ячейки 2   Cell_5\\   \n4    Cell_6_P3U30  Cluster1  P3U30                Защита ячейки 2   Cell_6\\   \n5    Cell_7_P3U30  Cluster1  P3U30                Защита ячейки 2   Cell_7\\   \n6    Cell_8_P3U30  Cluster1  P3U30                Защита ячейки 2   Cell_8\\   \n7    Cell_9_P3U30  Cluster1  P3U30                Защита ячейки 2   Cell_9\\   \n8   Cell_10_P3U30  Cluster1  P3U30                Защита ячейки 2  Cell_10\\   \n9   Cell_11_P3U30  Cluster1  P3U30                Защита ячейки 2  Cell_11\\   \n10  Cell_12_P3U30  Cluster1  P3U30                Защита ячейки 2  Cell_12\\   \n11  Cell_13_P3U30  Cluster1  P3U30                Защита ячейки 2  Cell_13\\   \n12  Cell_14_P3U30  Cluster1  P3U30                Защита ячейки 2  Cell_14\\   \n13  Cell_15_P3U30  Cluster1  P3U30                Защита ячейки 2  Cell_15\\   \n14  Cell_16_P3U30  Cluster1  P3U30                Защита ячейки 2  Cell_16\\   \n15  Cell_17_P3U30  Cluster1  P3U30                Защита ячейки 2  Cell_17\\   \n16  Cell_18_P3U30  Cluster1  P3U30                Защита ячейки 2  Cell_18\\   \n17  Cell_19_P3U30  Cluster1  P3U30                Защита ячейки 2  Cell_19\\   \n\n   CUSTOM2 CUSTOM3 CUSTOM4  ... LINKED EDITCODE PARAM COMPOSITE REFERENCE  \\\n0                           ...                                             \n1                           ...                                             \n2                           ...                                             \n3                           ...                                             \n4                           ...                                             \n5                           ...                                             \n6                           ...                                             \n7                           ...                                             \n8                           ...                                             \n9                           ...                                             \n10                          ...                                             \n11                          ...                                             \n12                          ...                                             \n13                          ...                                             \n14                          ...                                             \n15                          ...                                             \n16                          ...                                             \n17                          ...                                             \n\n   DEVSCHED SCHEDID ALIAS CONTENT HIDDEN  \n0                                         \n1                                         \n2                                         \n3                                         \n4                                         \n5                                         \n6                                         \n7                                         \n8                                         \n9                                         \n10                                        \n11                                        \n12                                        \n13                                        \n14                                        \n15                                        \n16                                        \n17                                        \n\n[18 rows x 31 columns]",
      "text/html": "<div>\n<style scoped>\n    .dataframe tbody tr th:only-of-type {\n        vertical-align: middle;\n    }\n\n    .dataframe tbody tr th {\n        vertical-align: top;\n    }\n\n    .dataframe thead th {\n        text-align: right;\n    }\n</style>\n<table border=\"1\" class=\"dataframe\">\n  <thead>\n    <tr style=\"text-align: right;\">\n      <th></th>\n      <th>NAME</th>\n      <th>CLUSTER</th>\n      <th>TYPE</th>\n      <th>AREA</th>\n      <th>LOCATION</th>\n      <th>COMMENT</th>\n      <th>CUSTOM1</th>\n      <th>CUSTOM2</th>\n      <th>CUSTOM3</th>\n      <th>CUSTOM4</th>\n      <th>...</th>\n      <th>LINKED</th>\n      <th>EDITCODE</th>\n      <th>PARAM</th>\n      <th>COMPOSITE</th>\n      <th>REFERENCE</th>\n      <th>DEVSCHED</th>\n      <th>SCHEDID</th>\n      <th>ALIAS</th>\n      <th>CONTENT</th>\n      <th>HIDDEN</th>\n    </tr>\n  </thead>\n  <tbody>\n    <tr>\n      <th>0</th>\n      <td>Cell_2_P3U30</td>\n      <td>Cluster1</td>\n      <td>P3U30</td>\n      <td></td>\n      <td></td>\n      <td>Защита ячейки 2</td>\n      <td>Cell_2\\</td>\n      <td></td>\n      <td></td>\n      <td></td>\n      <td>...</td>\n      <td></td>\n      <td></td>\n      <td></td>\n      <td></td>\n      <td></td>\n      <td></td>\n      <td></td>\n      <td></td>\n      <td></td>\n      <td></td>\n    </tr>\n    <tr>\n      <th>1</th>\n      <td>Cell_3_P3U30</td>\n      <td>Cluster1</td>\n      <td>P3U30</td>\n      <td></td>\n      <td></td>\n      <td>Защита ячейки 2</td>\n      <td>Cell_3\\</td>\n      <td></td>\n      <td></td>\n      <td></td>\n      <td>...</td>\n      <td></td>\n      <td></td>\n      <td></td>\n      <td></td>\n      <td></td>\n      <td></td>\n      <td></td>\n      <td></td>\n      <td></td>\n      <td></td>\n    </tr>\n    <tr>\n      <th>2</th>\n      <td>Cell_4_P3U30</td>\n      <td>Cluster1</td>\n      <td>P3U30</td>\n      <td></td>\n      <td></td>\n      <td>Защита ячейки 2</td>\n      <td>Cell_4\\</td>\n      <td></td>\n      <td></td>\n      <td></td>\n      <td>...</td>\n      <td></td>\n      <td></td>\n      <td></td>\n      <td></td>\n      <td></td>\n      <td></td>\n      <td></td>\n      <td></td>\n      <td></td>\n      <td></td>\n    </tr>\n    <tr>\n      <th>3</th>\n      <td>Cell_5_P3U30</td>\n      <td>Cluster1</td>\n      <td>P3U30</td>\n      <td></td>\n      <td></td>\n      <td>Защита ячейки 2</td>\n      <td>Cell_5\\</td>\n      <td></td>\n      <td></td>\n      <td></td>\n      <td>...</td>\n      <td></td>\n      <td></td>\n      <td></td>\n      <td></td>\n      <td></td>\n      <td></td>\n      <td></td>\n      <td></td>\n      <td></td>\n      <td></td>\n    </tr>\n    <tr>\n      <th>4</th>\n      <td>Cell_6_P3U30</td>\n      <td>Cluster1</td>\n      <td>P3U30</td>\n      <td></td>\n      <td></td>\n      <td>Защита ячейки 2</td>\n      <td>Cell_6\\</td>\n      <td></td>\n      <td></td>\n      <td></td>\n      <td>...</td>\n      <td></td>\n      <td></td>\n      <td></td>\n      <td></td>\n      <td></td>\n      <td></td>\n      <td></td>\n      <td></td>\n      <td></td>\n      <td></td>\n    </tr>\n    <tr>\n      <th>5</th>\n      <td>Cell_7_P3U30</td>\n      <td>Cluster1</td>\n      <td>P3U30</td>\n      <td></td>\n      <td></td>\n      <td>Защита ячейки 2</td>\n      <td>Cell_7\\</td>\n      <td></td>\n      <td></td>\n      <td></td>\n      <td>...</td>\n      <td></td>\n      <td></td>\n      <td></td>\n      <td></td>\n      <td></td>\n      <td></td>\n      <td></td>\n      <td></td>\n      <td></td>\n      <td></td>\n    </tr>\n    <tr>\n      <th>6</th>\n      <td>Cell_8_P3U30</td>\n      <td>Cluster1</td>\n      <td>P3U30</td>\n      <td></td>\n      <td></td>\n      <td>Защита ячейки 2</td>\n      <td>Cell_8\\</td>\n      <td></td>\n      <td></td>\n      <td></td>\n      <td>...</td>\n      <td></td>\n      <td></td>\n      <td></td>\n      <td></td>\n      <td></td>\n      <td></td>\n      <td></td>\n      <td></td>\n      <td></td>\n      <td></td>\n    </tr>\n    <tr>\n      <th>7</th>\n      <td>Cell_9_P3U30</td>\n      <td>Cluster1</td>\n      <td>P3U30</td>\n      <td></td>\n      <td></td>\n      <td>Защита ячейки 2</td>\n      <td>Cell_9\\</td>\n      <td></td>\n      <td></td>\n      <td></td>\n      <td>...</td>\n      <td></td>\n      <td></td>\n      <td></td>\n      <td></td>\n      <td></td>\n      <td></td>\n      <td></td>\n      <td></td>\n      <td></td>\n      <td></td>\n    </tr>\n    <tr>\n      <th>8</th>\n      <td>Cell_10_P3U30</td>\n      <td>Cluster1</td>\n      <td>P3U30</td>\n      <td></td>\n      <td></td>\n      <td>Защита ячейки 2</td>\n      <td>Cell_10\\</td>\n      <td></td>\n      <td></td>\n      <td></td>\n      <td>...</td>\n      <td></td>\n      <td></td>\n      <td></td>\n      <td></td>\n      <td></td>\n      <td></td>\n      <td></td>\n      <td></td>\n      <td></td>\n      <td></td>\n    </tr>\n    <tr>\n      <th>9</th>\n      <td>Cell_11_P3U30</td>\n      <td>Cluster1</td>\n      <td>P3U30</td>\n      <td></td>\n      <td></td>\n      <td>Защита ячейки 2</td>\n      <td>Cell_11\\</td>\n      <td></td>\n      <td></td>\n      <td></td>\n      <td>...</td>\n      <td></td>\n      <td></td>\n      <td></td>\n      <td></td>\n      <td></td>\n      <td></td>\n      <td></td>\n      <td></td>\n      <td></td>\n      <td></td>\n    </tr>\n    <tr>\n      <th>10</th>\n      <td>Cell_12_P3U30</td>\n      <td>Cluster1</td>\n      <td>P3U30</td>\n      <td></td>\n      <td></td>\n      <td>Защита ячейки 2</td>\n      <td>Cell_12\\</td>\n      <td></td>\n      <td></td>\n      <td></td>\n      <td>...</td>\n      <td></td>\n      <td></td>\n      <td></td>\n      <td></td>\n      <td></td>\n      <td></td>\n      <td></td>\n      <td></td>\n      <td></td>\n      <td></td>\n    </tr>\n    <tr>\n      <th>11</th>\n      <td>Cell_13_P3U30</td>\n      <td>Cluster1</td>\n      <td>P3U30</td>\n      <td></td>\n      <td></td>\n      <td>Защита ячейки 2</td>\n      <td>Cell_13\\</td>\n      <td></td>\n      <td></td>\n      <td></td>\n      <td>...</td>\n      <td></td>\n      <td></td>\n      <td></td>\n      <td></td>\n      <td></td>\n      <td></td>\n      <td></td>\n      <td></td>\n      <td></td>\n      <td></td>\n    </tr>\n    <tr>\n      <th>12</th>\n      <td>Cell_14_P3U30</td>\n      <td>Cluster1</td>\n      <td>P3U30</td>\n      <td></td>\n      <td></td>\n      <td>Защита ячейки 2</td>\n      <td>Cell_14\\</td>\n      <td></td>\n      <td></td>\n      <td></td>\n      <td>...</td>\n      <td></td>\n      <td></td>\n      <td></td>\n      <td></td>\n      <td></td>\n      <td></td>\n      <td></td>\n      <td></td>\n      <td></td>\n      <td></td>\n    </tr>\n    <tr>\n      <th>13</th>\n      <td>Cell_15_P3U30</td>\n      <td>Cluster1</td>\n      <td>P3U30</td>\n      <td></td>\n      <td></td>\n      <td>Защита ячейки 2</td>\n      <td>Cell_15\\</td>\n      <td></td>\n      <td></td>\n      <td></td>\n      <td>...</td>\n      <td></td>\n      <td></td>\n      <td></td>\n      <td></td>\n      <td></td>\n      <td></td>\n      <td></td>\n      <td></td>\n      <td></td>\n      <td></td>\n    </tr>\n    <tr>\n      <th>14</th>\n      <td>Cell_16_P3U30</td>\n      <td>Cluster1</td>\n      <td>P3U30</td>\n      <td></td>\n      <td></td>\n      <td>Защита ячейки 2</td>\n      <td>Cell_16\\</td>\n      <td></td>\n      <td></td>\n      <td></td>\n      <td>...</td>\n      <td></td>\n      <td></td>\n      <td></td>\n      <td></td>\n      <td></td>\n      <td></td>\n      <td></td>\n      <td></td>\n      <td></td>\n      <td></td>\n    </tr>\n    <tr>\n      <th>15</th>\n      <td>Cell_17_P3U30</td>\n      <td>Cluster1</td>\n      <td>P3U30</td>\n      <td></td>\n      <td></td>\n      <td>Защита ячейки 2</td>\n      <td>Cell_17\\</td>\n      <td></td>\n      <td></td>\n      <td></td>\n      <td>...</td>\n      <td></td>\n      <td></td>\n      <td></td>\n      <td></td>\n      <td></td>\n      <td></td>\n      <td></td>\n      <td></td>\n      <td></td>\n      <td></td>\n    </tr>\n    <tr>\n      <th>16</th>\n      <td>Cell_18_P3U30</td>\n      <td>Cluster1</td>\n      <td>P3U30</td>\n      <td></td>\n      <td></td>\n      <td>Защита ячейки 2</td>\n      <td>Cell_18\\</td>\n      <td></td>\n      <td></td>\n      <td></td>\n      <td>...</td>\n      <td></td>\n      <td></td>\n      <td></td>\n      <td></td>\n      <td></td>\n      <td></td>\n      <td></td>\n      <td></td>\n      <td></td>\n      <td></td>\n    </tr>\n    <tr>\n      <th>17</th>\n      <td>Cell_19_P3U30</td>\n      <td>Cluster1</td>\n      <td>P3U30</td>\n      <td></td>\n      <td></td>\n      <td>Защита ячейки 2</td>\n      <td>Cell_19\\</td>\n      <td></td>\n      <td></td>\n      <td></td>\n      <td>...</td>\n      <td></td>\n      <td></td>\n      <td></td>\n      <td></td>\n      <td></td>\n      <td></td>\n      <td></td>\n      <td></td>\n      <td></td>\n      <td></td>\n    </tr>\n  </tbody>\n</table>\n<p>18 rows × 31 columns</p>\n</div>"
     },
     "execution_count": 7,
     "metadata": {},
     "output_type": "execute_result"
    }
   ],
   "source": [
    "name_file = r\"equip.DBF\"\n",
    "filename = os.path.join(path_projects, name_projects, name_file)\n",
    "\n",
    "db_in_dbf = DBF(filename, encoding='cp1251')\n",
    "df = pd.DataFrame(db_in_dbf)\n",
    "df"
   ],
   "metadata": {
    "collapsed": false,
    "pycharm": {
     "name": "#%%\n"
    }
   }
  },
  {
   "cell_type": "code",
   "execution_count": null,
   "outputs": [],
   "source": [],
   "metadata": {
    "collapsed": false,
    "pycharm": {
     "name": "#%%\n"
    }
   }
  }
 ],
 "metadata": {
  "kernelspec": {
   "display_name": "Python 3",
   "language": "python",
   "name": "python3"
  },
  "language_info": {
   "codemirror_mode": {
    "name": "ipython",
    "version": 2
   },
   "file_extension": ".py",
   "mimetype": "text/x-python",
   "name": "python",
   "nbconvert_exporter": "python",
   "pygments_lexer": "ipython2",
   "version": "2.7.6"
  }
 },
 "nbformat": 4,
 "nbformat_minor": 0
}