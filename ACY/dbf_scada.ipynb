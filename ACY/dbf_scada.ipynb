{
 "cells": [
  {
   "cell_type": "code",
   "execution_count": 61,
   "metadata": {
    "collapsed": true
   },
   "outputs": [],
   "source": [
    "import os\n",
    "\n",
    "import dbf\n",
    "from dbfread import DBF\n",
    "import pandas as pd"
   ]
  },
  {
   "cell_type": "code",
   "execution_count": 62,
   "outputs": [],
   "source": [
    "pathfile = r\"c:\\ProgramData\\AVEVA\\Citect SCADA 2018 R2\\User\\Example\"\n",
    "# filenam = r\"equip.DBF\"\n",
    "filenam = r\"pgdynobj.DBF\"\n",
    "filename = os.path.join(pathfile,filenam)\n",
    "\n",
    "cols = ['NAME', 'CLUSTER', 'TYPE', 'COMMENT', 'IODEVICE', 'TAGPREFIX']\n",
    "values = ['tr1.P3T32', 'Cluster1', 'Loop', 'Тест', 'CICODE', 'tr1_open']\n",
    "params = dict(zip(cols, values))\n",
    "\n",
    "table = dbf.Table(filename, codepage='cp1251')\n",
    "table.open(mode=dbf.READ_WRITE)\n",
    "table.append(params)\n",
    "\n",
    "table.close()"
   ],
   "metadata": {
    "collapsed": false,
    "pycharm": {
     "name": "#%%\n"
    }
   }
  },
  {
   "cell_type": "code",
   "execution_count": 20,
   "outputs": [],
   "source": [
    "# Удаление строки\n",
    "rec = table[-1]\n",
    "dbf.delete(rec)\n",
    "table.pack()"
   ],
   "metadata": {
    "collapsed": false,
    "pycharm": {
     "name": "#%%\n"
    }
   }
  },
  {
   "cell_type": "code",
   "execution_count": null,
   "outputs": [],
   "source": [],
   "metadata": {
    "collapsed": false,
    "pycharm": {
     "name": "#%%\n"
    }
   }
  },
  {
   "cell_type": "code",
   "execution_count": 67,
   "outputs": [
    {
     "data": {
      "text/plain": "                               NAME     TYPE           UNIT  \\\n0                      Agitator_Cmd  DIGITAL       DISK_PLC   \n1               Arrow_fiber_optical  DIGITAL  IODevInternal   \n2                    Arrow_Network3  DIGITAL  IODevInternal   \n3                             BATCH      INT       DISK_PLC   \n4                        BatchTotal      INT       DISK_PLC   \n...                             ...      ...            ...   \n1110  IOServer_Internal_DriverError      INT         CICODE   \n1111     IOServer_Internal_Protocol   STRING         CICODE   \n1112        IOServer_Internal_State      INT         CICODE   \n1113  IOServer_Internal_ReadTimeAvg     REAL         CICODE   \n1114                 Entry_CoilArea     REAL         CICODE   \n\n                                           ADDR RAW_ZERO RAW_FULL ENG_ZERO  \\\n0                                          D302                              \n1                                           D24                              \n2                                           D15                              \n3                                            I9        0    32000        0   \n4                                           I10        0    32000        0   \n...                                         ...      ...      ...      ...   \n1110                 IODeviceInfo(\"Internal\",5)                              \n1111                 IODeviceInfo(\"Internal\",1)                              \n1112                IODeviceInfo(\"Internal\",10)                              \n1113                 IODeviceInfo(\"Internal\",9)                              \n1114  Entry_CoilLength * (Entry_CoilWidth)/1000                              \n\n     ENG_FULL ENG_UNITS FORMAT  ...               EQUIP         ITEM CUSTOM1  \\\n0                               ...                                            \n1                               ...                                            \n2                               ...                                            \n3       32000            #####  ...                                            \n4       32000            #####  ...                                            \n...       ...       ...    ...  ...                 ...          ...     ...   \n1110                            ...   IOServer.Internal  DriverError           \n1111                            ...   IOServer.Internal     Protocol           \n1112                            ...   IOServer.Internal        State           \n1113                            ...   IOServer.Internal  ReadTimeAvg           \n1114                 m2         ...  SteelMill.Uncoiler                        \n\n     CUSTOM2 CUSTOM3 CUSTOM4 CUSTOM5 CUSTOM6 CUSTOM7 CUSTOM8  \n0                                                             \n1                                                             \n2                                                             \n3                                                             \n4                                                             \n...      ...     ...     ...     ...     ...     ...     ...  \n1110                                                          \n1111                                                          \n1112                                                          \n1113                                                          \n1114                                                          \n\n[1115 rows x 31 columns]",
      "text/html": "<div>\n<style scoped>\n    .dataframe tbody tr th:only-of-type {\n        vertical-align: middle;\n    }\n\n    .dataframe tbody tr th {\n        vertical-align: top;\n    }\n\n    .dataframe thead th {\n        text-align: right;\n    }\n</style>\n<table border=\"1\" class=\"dataframe\">\n  <thead>\n    <tr style=\"text-align: right;\">\n      <th></th>\n      <th>NAME</th>\n      <th>TYPE</th>\n      <th>UNIT</th>\n      <th>ADDR</th>\n      <th>RAW_ZERO</th>\n      <th>RAW_FULL</th>\n      <th>ENG_ZERO</th>\n      <th>ENG_FULL</th>\n      <th>ENG_UNITS</th>\n      <th>FORMAT</th>\n      <th>...</th>\n      <th>EQUIP</th>\n      <th>ITEM</th>\n      <th>CUSTOM1</th>\n      <th>CUSTOM2</th>\n      <th>CUSTOM3</th>\n      <th>CUSTOM4</th>\n      <th>CUSTOM5</th>\n      <th>CUSTOM6</th>\n      <th>CUSTOM7</th>\n      <th>CUSTOM8</th>\n    </tr>\n  </thead>\n  <tbody>\n    <tr>\n      <th>0</th>\n      <td>Agitator_Cmd</td>\n      <td>DIGITAL</td>\n      <td>DISK_PLC</td>\n      <td>D302</td>\n      <td></td>\n      <td></td>\n      <td></td>\n      <td></td>\n      <td></td>\n      <td></td>\n      <td>...</td>\n      <td></td>\n      <td></td>\n      <td></td>\n      <td></td>\n      <td></td>\n      <td></td>\n      <td></td>\n      <td></td>\n      <td></td>\n      <td></td>\n    </tr>\n    <tr>\n      <th>1</th>\n      <td>Arrow_fiber_optical</td>\n      <td>DIGITAL</td>\n      <td>IODevInternal</td>\n      <td>D24</td>\n      <td></td>\n      <td></td>\n      <td></td>\n      <td></td>\n      <td></td>\n      <td></td>\n      <td>...</td>\n      <td></td>\n      <td></td>\n      <td></td>\n      <td></td>\n      <td></td>\n      <td></td>\n      <td></td>\n      <td></td>\n      <td></td>\n      <td></td>\n    </tr>\n    <tr>\n      <th>2</th>\n      <td>Arrow_Network3</td>\n      <td>DIGITAL</td>\n      <td>IODevInternal</td>\n      <td>D15</td>\n      <td></td>\n      <td></td>\n      <td></td>\n      <td></td>\n      <td></td>\n      <td></td>\n      <td>...</td>\n      <td></td>\n      <td></td>\n      <td></td>\n      <td></td>\n      <td></td>\n      <td></td>\n      <td></td>\n      <td></td>\n      <td></td>\n      <td></td>\n    </tr>\n    <tr>\n      <th>3</th>\n      <td>BATCH</td>\n      <td>INT</td>\n      <td>DISK_PLC</td>\n      <td>I9</td>\n      <td>0</td>\n      <td>32000</td>\n      <td>0</td>\n      <td>32000</td>\n      <td></td>\n      <td>#####</td>\n      <td>...</td>\n      <td></td>\n      <td></td>\n      <td></td>\n      <td></td>\n      <td></td>\n      <td></td>\n      <td></td>\n      <td></td>\n      <td></td>\n      <td></td>\n    </tr>\n    <tr>\n      <th>4</th>\n      <td>BatchTotal</td>\n      <td>INT</td>\n      <td>DISK_PLC</td>\n      <td>I10</td>\n      <td>0</td>\n      <td>32000</td>\n      <td>0</td>\n      <td>32000</td>\n      <td></td>\n      <td>#####</td>\n      <td>...</td>\n      <td></td>\n      <td></td>\n      <td></td>\n      <td></td>\n      <td></td>\n      <td></td>\n      <td></td>\n      <td></td>\n      <td></td>\n      <td></td>\n    </tr>\n    <tr>\n      <th>...</th>\n      <td>...</td>\n      <td>...</td>\n      <td>...</td>\n      <td>...</td>\n      <td>...</td>\n      <td>...</td>\n      <td>...</td>\n      <td>...</td>\n      <td>...</td>\n      <td>...</td>\n      <td>...</td>\n      <td>...</td>\n      <td>...</td>\n      <td>...</td>\n      <td>...</td>\n      <td>...</td>\n      <td>...</td>\n      <td>...</td>\n      <td>...</td>\n      <td>...</td>\n      <td>...</td>\n    </tr>\n    <tr>\n      <th>1110</th>\n      <td>IOServer_Internal_DriverError</td>\n      <td>INT</td>\n      <td>CICODE</td>\n      <td>IODeviceInfo(\"Internal\",5)</td>\n      <td></td>\n      <td></td>\n      <td></td>\n      <td></td>\n      <td></td>\n      <td></td>\n      <td>...</td>\n      <td>IOServer.Internal</td>\n      <td>DriverError</td>\n      <td></td>\n      <td></td>\n      <td></td>\n      <td></td>\n      <td></td>\n      <td></td>\n      <td></td>\n      <td></td>\n    </tr>\n    <tr>\n      <th>1111</th>\n      <td>IOServer_Internal_Protocol</td>\n      <td>STRING</td>\n      <td>CICODE</td>\n      <td>IODeviceInfo(\"Internal\",1)</td>\n      <td></td>\n      <td></td>\n      <td></td>\n      <td></td>\n      <td></td>\n      <td></td>\n      <td>...</td>\n      <td>IOServer.Internal</td>\n      <td>Protocol</td>\n      <td></td>\n      <td></td>\n      <td></td>\n      <td></td>\n      <td></td>\n      <td></td>\n      <td></td>\n      <td></td>\n    </tr>\n    <tr>\n      <th>1112</th>\n      <td>IOServer_Internal_State</td>\n      <td>INT</td>\n      <td>CICODE</td>\n      <td>IODeviceInfo(\"Internal\",10)</td>\n      <td></td>\n      <td></td>\n      <td></td>\n      <td></td>\n      <td></td>\n      <td></td>\n      <td>...</td>\n      <td>IOServer.Internal</td>\n      <td>State</td>\n      <td></td>\n      <td></td>\n      <td></td>\n      <td></td>\n      <td></td>\n      <td></td>\n      <td></td>\n      <td></td>\n    </tr>\n    <tr>\n      <th>1113</th>\n      <td>IOServer_Internal_ReadTimeAvg</td>\n      <td>REAL</td>\n      <td>CICODE</td>\n      <td>IODeviceInfo(\"Internal\",9)</td>\n      <td></td>\n      <td></td>\n      <td></td>\n      <td></td>\n      <td></td>\n      <td></td>\n      <td>...</td>\n      <td>IOServer.Internal</td>\n      <td>ReadTimeAvg</td>\n      <td></td>\n      <td></td>\n      <td></td>\n      <td></td>\n      <td></td>\n      <td></td>\n      <td></td>\n      <td></td>\n    </tr>\n    <tr>\n      <th>1114</th>\n      <td>Entry_CoilArea</td>\n      <td>REAL</td>\n      <td>CICODE</td>\n      <td>Entry_CoilLength * (Entry_CoilWidth)/1000</td>\n      <td></td>\n      <td></td>\n      <td></td>\n      <td></td>\n      <td>m2</td>\n      <td></td>\n      <td>...</td>\n      <td>SteelMill.Uncoiler</td>\n      <td></td>\n      <td></td>\n      <td></td>\n      <td></td>\n      <td></td>\n      <td></td>\n      <td></td>\n      <td></td>\n      <td></td>\n    </tr>\n  </tbody>\n</table>\n<p>1115 rows × 31 columns</p>\n</div>"
     },
     "execution_count": 67,
     "metadata": {},
     "output_type": "execute_result"
    }
   ],
   "source": [
    "pathfile = r\"c:\\ProgramData\\AVEVA\\Citect SCADA 2018 R2\\User\\Example\"\n",
    "# filenam = r\"equip.DBF\"\n",
    "filenam = r\"variable.DBF\"\n",
    "filename = os.path.join(pathfile,filenam)\n",
    "\n",
    "db_in_dbf = DBF(filename, encoding='cp1251')\n",
    "df = pd.DataFrame(db_in_dbf )\n",
    "df"
   ],
   "metadata": {
    "collapsed": false,
    "pycharm": {
     "name": "#%%\n"
    }
   }
  },
  {
   "cell_type": "code",
   "execution_count": 68,
   "outputs": [
    {
     "data": {
      "text/plain": "                               NAME     TYPE           UNIT  \\\n0                      Agitator_Cmd  DIGITAL       DISK_PLC   \n1               Arrow_fiber_optical  DIGITAL  IODevInternal   \n2                    Arrow_Network3  DIGITAL  IODevInternal   \n3                             BATCH      INT       DISK_PLC   \n4                        BatchTotal      INT       DISK_PLC   \n...                             ...      ...            ...   \n1110  IOServer_Internal_DriverError      INT         CICODE   \n1111     IOServer_Internal_Protocol   STRING         CICODE   \n1112        IOServer_Internal_State      INT         CICODE   \n1113  IOServer_Internal_ReadTimeAvg     REAL         CICODE   \n1114                 Entry_CoilArea     REAL         CICODE   \n\n                                           ADDR RAW_ZERO RAW_FULL ENG_ZERO  \\\n0                                          D302                              \n1                                           D24                              \n2                                           D15                              \n3                                            I9        0    32000        0   \n4                                           I10        0    32000        0   \n...                                         ...      ...      ...      ...   \n1110                 IODeviceInfo(\"Internal\",5)                              \n1111                 IODeviceInfo(\"Internal\",1)                              \n1112                IODeviceInfo(\"Internal\",10)                              \n1113                 IODeviceInfo(\"Internal\",9)                              \n1114  Entry_CoilLength * (Entry_CoilWidth)/1000                              \n\n     ENG_FULL ENG_UNITS FORMAT  ...               EQUIP         ITEM CUSTOM1  \\\n0                               ...                                            \n1                               ...                                            \n2                               ...                                            \n3       32000            #####  ...                                            \n4       32000            #####  ...                                            \n...       ...       ...    ...  ...                 ...          ...     ...   \n1110                            ...   IOServer.Internal  DriverError           \n1111                            ...   IOServer.Internal     Protocol           \n1112                            ...   IOServer.Internal        State           \n1113                            ...   IOServer.Internal  ReadTimeAvg           \n1114                 m2         ...  SteelMill.Uncoiler                        \n\n     CUSTOM2 CUSTOM3 CUSTOM4 CUSTOM5 CUSTOM6 CUSTOM7 CUSTOM8  \n0                                                             \n1                                                             \n2                                                             \n3                                                             \n4                                                             \n...      ...     ...     ...     ...     ...     ...     ...  \n1110                                                          \n1111                                                          \n1112                                                          \n1113                                                          \n1114                                                          \n\n[1115 rows x 31 columns]",
      "text/html": "<div>\n<style scoped>\n    .dataframe tbody tr th:only-of-type {\n        vertical-align: middle;\n    }\n\n    .dataframe tbody tr th {\n        vertical-align: top;\n    }\n\n    .dataframe thead th {\n        text-align: right;\n    }\n</style>\n<table border=\"1\" class=\"dataframe\">\n  <thead>\n    <tr style=\"text-align: right;\">\n      <th></th>\n      <th>NAME</th>\n      <th>TYPE</th>\n      <th>UNIT</th>\n      <th>ADDR</th>\n      <th>RAW_ZERO</th>\n      <th>RAW_FULL</th>\n      <th>ENG_ZERO</th>\n      <th>ENG_FULL</th>\n      <th>ENG_UNITS</th>\n      <th>FORMAT</th>\n      <th>...</th>\n      <th>EQUIP</th>\n      <th>ITEM</th>\n      <th>CUSTOM1</th>\n      <th>CUSTOM2</th>\n      <th>CUSTOM3</th>\n      <th>CUSTOM4</th>\n      <th>CUSTOM5</th>\n      <th>CUSTOM6</th>\n      <th>CUSTOM7</th>\n      <th>CUSTOM8</th>\n    </tr>\n  </thead>\n  <tbody>\n    <tr>\n      <th>0</th>\n      <td>Agitator_Cmd</td>\n      <td>DIGITAL</td>\n      <td>DISK_PLC</td>\n      <td>D302</td>\n      <td></td>\n      <td></td>\n      <td></td>\n      <td></td>\n      <td></td>\n      <td></td>\n      <td>...</td>\n      <td></td>\n      <td></td>\n      <td></td>\n      <td></td>\n      <td></td>\n      <td></td>\n      <td></td>\n      <td></td>\n      <td></td>\n      <td></td>\n    </tr>\n    <tr>\n      <th>1</th>\n      <td>Arrow_fiber_optical</td>\n      <td>DIGITAL</td>\n      <td>IODevInternal</td>\n      <td>D24</td>\n      <td></td>\n      <td></td>\n      <td></td>\n      <td></td>\n      <td></td>\n      <td></td>\n      <td>...</td>\n      <td></td>\n      <td></td>\n      <td></td>\n      <td></td>\n      <td></td>\n      <td></td>\n      <td></td>\n      <td></td>\n      <td></td>\n      <td></td>\n    </tr>\n    <tr>\n      <th>2</th>\n      <td>Arrow_Network3</td>\n      <td>DIGITAL</td>\n      <td>IODevInternal</td>\n      <td>D15</td>\n      <td></td>\n      <td></td>\n      <td></td>\n      <td></td>\n      <td></td>\n      <td></td>\n      <td>...</td>\n      <td></td>\n      <td></td>\n      <td></td>\n      <td></td>\n      <td></td>\n      <td></td>\n      <td></td>\n      <td></td>\n      <td></td>\n      <td></td>\n    </tr>\n    <tr>\n      <th>3</th>\n      <td>BATCH</td>\n      <td>INT</td>\n      <td>DISK_PLC</td>\n      <td>I9</td>\n      <td>0</td>\n      <td>32000</td>\n      <td>0</td>\n      <td>32000</td>\n      <td></td>\n      <td>#####</td>\n      <td>...</td>\n      <td></td>\n      <td></td>\n      <td></td>\n      <td></td>\n      <td></td>\n      <td></td>\n      <td></td>\n      <td></td>\n      <td></td>\n      <td></td>\n    </tr>\n    <tr>\n      <th>4</th>\n      <td>BatchTotal</td>\n      <td>INT</td>\n      <td>DISK_PLC</td>\n      <td>I10</td>\n      <td>0</td>\n      <td>32000</td>\n      <td>0</td>\n      <td>32000</td>\n      <td></td>\n      <td>#####</td>\n      <td>...</td>\n      <td></td>\n      <td></td>\n      <td></td>\n      <td></td>\n      <td></td>\n      <td></td>\n      <td></td>\n      <td></td>\n      <td></td>\n      <td></td>\n    </tr>\n    <tr>\n      <th>...</th>\n      <td>...</td>\n      <td>...</td>\n      <td>...</td>\n      <td>...</td>\n      <td>...</td>\n      <td>...</td>\n      <td>...</td>\n      <td>...</td>\n      <td>...</td>\n      <td>...</td>\n      <td>...</td>\n      <td>...</td>\n      <td>...</td>\n      <td>...</td>\n      <td>...</td>\n      <td>...</td>\n      <td>...</td>\n      <td>...</td>\n      <td>...</td>\n      <td>...</td>\n      <td>...</td>\n    </tr>\n    <tr>\n      <th>1110</th>\n      <td>IOServer_Internal_DriverError</td>\n      <td>INT</td>\n      <td>CICODE</td>\n      <td>IODeviceInfo(\"Internal\",5)</td>\n      <td></td>\n      <td></td>\n      <td></td>\n      <td></td>\n      <td></td>\n      <td></td>\n      <td>...</td>\n      <td>IOServer.Internal</td>\n      <td>DriverError</td>\n      <td></td>\n      <td></td>\n      <td></td>\n      <td></td>\n      <td></td>\n      <td></td>\n      <td></td>\n      <td></td>\n    </tr>\n    <tr>\n      <th>1111</th>\n      <td>IOServer_Internal_Protocol</td>\n      <td>STRING</td>\n      <td>CICODE</td>\n      <td>IODeviceInfo(\"Internal\",1)</td>\n      <td></td>\n      <td></td>\n      <td></td>\n      <td></td>\n      <td></td>\n      <td></td>\n      <td>...</td>\n      <td>IOServer.Internal</td>\n      <td>Protocol</td>\n      <td></td>\n      <td></td>\n      <td></td>\n      <td></td>\n      <td></td>\n      <td></td>\n      <td></td>\n      <td></td>\n    </tr>\n    <tr>\n      <th>1112</th>\n      <td>IOServer_Internal_State</td>\n      <td>INT</td>\n      <td>CICODE</td>\n      <td>IODeviceInfo(\"Internal\",10)</td>\n      <td></td>\n      <td></td>\n      <td></td>\n      <td></td>\n      <td></td>\n      <td></td>\n      <td>...</td>\n      <td>IOServer.Internal</td>\n      <td>State</td>\n      <td></td>\n      <td></td>\n      <td></td>\n      <td></td>\n      <td></td>\n      <td></td>\n      <td></td>\n      <td></td>\n    </tr>\n    <tr>\n      <th>1113</th>\n      <td>IOServer_Internal_ReadTimeAvg</td>\n      <td>REAL</td>\n      <td>CICODE</td>\n      <td>IODeviceInfo(\"Internal\",9)</td>\n      <td></td>\n      <td></td>\n      <td></td>\n      <td></td>\n      <td></td>\n      <td></td>\n      <td>...</td>\n      <td>IOServer.Internal</td>\n      <td>ReadTimeAvg</td>\n      <td></td>\n      <td></td>\n      <td></td>\n      <td></td>\n      <td></td>\n      <td></td>\n      <td></td>\n      <td></td>\n    </tr>\n    <tr>\n      <th>1114</th>\n      <td>Entry_CoilArea</td>\n      <td>REAL</td>\n      <td>CICODE</td>\n      <td>Entry_CoilLength * (Entry_CoilWidth)/1000</td>\n      <td></td>\n      <td></td>\n      <td></td>\n      <td></td>\n      <td>m2</td>\n      <td></td>\n      <td>...</td>\n      <td>SteelMill.Uncoiler</td>\n      <td></td>\n      <td></td>\n      <td></td>\n      <td></td>\n      <td></td>\n      <td></td>\n      <td></td>\n      <td></td>\n      <td></td>\n    </tr>\n  </tbody>\n</table>\n<p>1115 rows × 31 columns</p>\n</div>"
     },
     "execution_count": 68,
     "metadata": {},
     "output_type": "execute_result"
    }
   ],
   "source": [
    "df"
   ],
   "metadata": {
    "collapsed": false,
    "pycharm": {
     "name": "#%%\n"
    }
   }
  }
 ],
 "metadata": {
  "kernelspec": {
   "display_name": "Python 3",
   "language": "python",
   "name": "python3"
  },
  "language_info": {
   "codemirror_mode": {
    "name": "ipython",
    "version": 2
   },
   "file_extension": ".py",
   "mimetype": "text/x-python",
   "name": "python",
   "nbconvert_exporter": "python",
   "pygments_lexer": "ipython2",
   "version": "2.7.6"
  }
 },
 "nbformat": 4,
 "nbformat_minor": 0
}