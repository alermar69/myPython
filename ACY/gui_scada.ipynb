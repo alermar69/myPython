{
 "cells": [
  {
   "cell_type": "code",
   "execution_count": 1,
   "metadata": {
    "collapsed": true
   },
   "outputs": [],
   "source": [
    "import dearpygui.dearpygui as dpg"
   ]
  },
  {
   "cell_type": "code",
   "execution_count": 2,
   "outputs": [
    {
     "ename": "KeyboardInterrupt",
     "evalue": "",
     "output_type": "error",
     "traceback": [
      "\u001B[1;31m---------------------------------------------------------------------------\u001B[0m",
      "\u001B[1;31mKeyboardInterrupt\u001B[0m                         Traceback (most recent call last)",
      "\u001B[1;32m~\\AppData\\Local\\Temp/ipykernel_8324/435616140.py\u001B[0m in \u001B[0;36m<module>\u001B[1;34m\u001B[0m\n\u001B[0;32m     27\u001B[0m \u001B[0mdpg\u001B[0m\u001B[1;33m.\u001B[0m\u001B[0mshow_viewport\u001B[0m\u001B[1;33m(\u001B[0m\u001B[1;33m)\u001B[0m\u001B[1;33m\u001B[0m\u001B[1;33m\u001B[0m\u001B[0m\n\u001B[0;32m     28\u001B[0m \u001B[1;33m\u001B[0m\u001B[0m\n\u001B[1;32m---> 29\u001B[1;33m \u001B[0mdpg\u001B[0m\u001B[1;33m.\u001B[0m\u001B[0mstart_dearpygui\u001B[0m\u001B[1;33m(\u001B[0m\u001B[1;33m)\u001B[0m\u001B[1;33m\u001B[0m\u001B[1;33m\u001B[0m\u001B[0m\n\u001B[0m\u001B[0;32m     30\u001B[0m \u001B[1;33m\u001B[0m\u001B[0m\n\u001B[0;32m     31\u001B[0m \u001B[0mdpg\u001B[0m\u001B[1;33m.\u001B[0m\u001B[0mdestroy_context\u001B[0m\u001B[1;33m(\u001B[0m\u001B[1;33m)\u001B[0m\u001B[1;33m\u001B[0m\u001B[1;33m\u001B[0m\u001B[0m\n",
      "\u001B[1;32me:\\projects\\mypython\\venv\\lib\\site-packages\\dearpygui\\dearpygui.py\u001B[0m in \u001B[0;36mstart_dearpygui\u001B[1;34m()\u001B[0m\n\u001B[0;32m     83\u001B[0m \u001B[1;33m\u001B[0m\u001B[0m\n\u001B[0;32m     84\u001B[0m     \u001B[1;32mwhile\u001B[0m\u001B[1;33m(\u001B[0m\u001B[0minternal_dpg\u001B[0m\u001B[1;33m.\u001B[0m\u001B[0mis_dearpygui_running\u001B[0m\u001B[1;33m(\u001B[0m\u001B[1;33m)\u001B[0m\u001B[1;33m)\u001B[0m\u001B[1;33m:\u001B[0m\u001B[1;33m\u001B[0m\u001B[1;33m\u001B[0m\u001B[0m\n\u001B[1;32m---> 85\u001B[1;33m         \u001B[0minternal_dpg\u001B[0m\u001B[1;33m.\u001B[0m\u001B[0mrender_dearpygui_frame\u001B[0m\u001B[1;33m(\u001B[0m\u001B[1;33m)\u001B[0m\u001B[1;33m\u001B[0m\u001B[1;33m\u001B[0m\u001B[0m\n\u001B[0m\u001B[0;32m     86\u001B[0m \u001B[1;33m\u001B[0m\u001B[0m\n\u001B[0;32m     87\u001B[0m \u001B[1;33m\u001B[0m\u001B[0m\n",
      "\u001B[1;31mKeyboardInterrupt\u001B[0m: "
     ]
    }
   ],
   "source": [
    "def save_callback():\n",
    "\n",
    "    print(\"Save Clicked\")\n",
    "\n",
    "\n",
    "\n",
    "dpg.create_context()\n",
    "\n",
    "dpg.create_viewport()\n",
    "\n",
    "dpg.setup_dearpygui()\n",
    "\n",
    "\n",
    "\n",
    "with dpg.window(label=\"Example Window\"):\n",
    "\n",
    "    dpg.add_text(\"Hello world\")\n",
    "\n",
    "    dpg.add_button(label=\"Save\", callback=save_callback)\n",
    "\n",
    "    dpg.add_input_text(label=\"string\")\n",
    "\n",
    "    dpg.add_slider_float(label=\"float\")\n",
    "\n",
    "\n",
    "\n",
    "dpg.show_viewport()\n",
    "\n",
    "dpg.start_dearpygui()\n",
    "\n",
    "dpg.destroy_context()"
   ],
   "metadata": {
    "collapsed": false,
    "pycharm": {
     "name": "#%%\n"
    }
   }
  }
 ],
 "metadata": {
  "kernelspec": {
   "display_name": "Python 3",
   "language": "python",
   "name": "python3"
  },
  "language_info": {
   "codemirror_mode": {
    "name": "ipython",
    "version": 2
   },
   "file_extension": ".py",
   "mimetype": "text/x-python",
   "name": "python",
   "nbconvert_exporter": "python",
   "pygments_lexer": "ipython2",
   "version": "2.7.6"
  }
 },
 "nbformat": 4,
 "nbformat_minor": 0
}