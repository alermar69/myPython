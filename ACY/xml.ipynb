{
 "cells": [
  {
   "cell_type": "code",
   "execution_count": 10,
   "outputs": [
    {
     "name": "stdout",
     "output_type": "stream",
     "text": [
      "Requirement already satisfied: beautifulsoup4 in d:\\it\\pr\\mypython\\venv\\lib\\site-packages (4.10.0)\n",
      "Requirement already satisfied: soupsieve>1.2 in d:\\it\\pr\\mypython\\venv\\lib\\site-packages (from beautifulsoup4) (2.3)\n"
     ]
    }
   ],
   "source": [
    "!pip install beautifulsoup4"
   ],
   "metadata": {
    "collapsed": false,
    "pycharm": {
     "name": "#%%\n"
    }
   }
  },
  {
   "cell_type": "code",
   "execution_count": 8,
   "outputs": [
    {
     "name": "stdout",
     "output_type": "stream",
     "text": [
      "Collecting html5lib\n",
      "  Downloading html5lib-1.1-py2.py3-none-any.whl (112 kB)\n",
      "Requirement already satisfied: webencodings in d:\\it\\pr\\mypython\\venv\\lib\\site-packages (from html5lib) (0.5.1)\n",
      "Requirement already satisfied: six>=1.9 in d:\\it\\pr\\mypython\\venv\\lib\\site-packages (from html5lib) (1.16.0)\n",
      "Installing collected packages: html5lib\n",
      "Successfully installed html5lib-1.1\n"
     ]
    }
   ],
   "source": [
    "!pip install html5lib"
   ],
   "metadata": {
    "collapsed": false,
    "pycharm": {
     "name": "#%%\n"
    }
   }
  },
  {
   "cell_type": "code",
   "execution_count": 1,
   "metadata": {
    "collapsed": true
   },
   "outputs": [],
   "source": [
    "from bs4 import BeautifulSoup"
   ]
  },
  {
   "cell_type": "code",
   "execution_count": 6,
   "outputs": [],
   "source": [
    "xml_doc = \"\"\"\n",
    "<?xml version=\"1.0\" encoding=\"utf-8\"?>\n",
    "<ScadaDevice xmlns=\"http://www.schneider-electric.com/SCADA/Drivers/IEC61850/DeviceConfig/v1/\">\n",
    "   <IPConnection>\n",
    "      <IP>127.0.0.1</IP>\n",
    "   </IPConnection>\n",
    "   <IED>TEMPLATE</IED>\n",
    "   <LogicalDevice Name=\"Relay\">\n",
    "      <BRCB>brcbEV1</BRCB>\n",
    "      <BRCB>brcbMX01</BRCB>\n",
    "      <URCB>urcbMX01</URCB>\n",
    "   </LogicalDevice>\n",
    "</ScadaDevice>\n",
    "\"\"\"\n",
    "\n",
    "soup = BeautifulSoup(xml_doc, 'lxml-xml')\n",
    "xml = soup.prettify()\n",
    "with open(\"config.xml\", \"w\") as file:\n",
    "    file.write(xml)"
   ],
   "metadata": {
    "collapsed": false,
    "pycharm": {
     "name": "#%%\n"
    }
   }
  }
 ],
 "metadata": {
  "kernelspec": {
   "display_name": "Python 3",
   "language": "python",
   "name": "python3"
  },
  "language_info": {
   "codemirror_mode": {
    "name": "ipython",
    "version": 2
   },
   "file_extension": ".py",
   "mimetype": "text/x-python",
   "name": "python",
   "nbconvert_exporter": "python",
   "pygments_lexer": "ipython2",
   "version": "2.7.6"
  }
 },
 "nbformat": 4,
 "nbformat_minor": 0
}