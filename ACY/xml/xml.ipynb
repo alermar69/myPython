{
 "cells": [
  {
   "cell_type": "code",
   "execution_count": 1,
   "outputs": [],
   "source": [
    "from bs4 import BeautifulSoup"
   ],
   "metadata": {
    "collapsed": false,
    "pycharm": {
     "name": "#%%\n",
     "is_executing": false
    }
   }
  },
  {
   "cell_type": "code",
   "execution_count": 2,
   "outputs": [],
   "source": [
    "ds = {\n",
    "    'TH6': 'SCL_P3U30_5AAAA_3BDAR_61850_Cell_2.icd',\n",
    "    'LN6': 'SCL_P3F30_CGGGG_DAEOA_BCAAR_61850_Cell_3.icd',\n",
    "    'IN6': 'SCL_P3F30_IGGGG_DAEOA_BCAAR_61850_Cell_5.icd',\n",
    "    'CB6': 'SCL_P3F30_IGGGG_DAEOA_BCAAR_61850_Cell_11.icd',\n",
    "    'T': 'p3t32_vst1.icd',\n",
    "}\n",
    "ls = [\n",
    "    # ('TH6', 'Cell_2_TH6'),\n",
    "    ('LN6', 'Cell_3_LN6'),\n",
    "    ('LN6', 'Cell_4_LN6'),\n",
    "    ('IN6', 'Cell_5_IN6'),\n",
    "    ('LN6', 'Cell_6_LN6'),\n",
    "    ('LN6', 'Cell_7_LN6'),\n",
    "    ('LN6', 'Cell_8_LN6'),\n",
    "    ('LN6', 'Cell_9_LN6'),\n",
    "    ('LN6', 'Cell_10_LN6'),\n",
    "    ('CB6', 'Cell_11_CB6'),\n",
    "    ('LN6', 'Cell_13_LN6'),\n",
    "    ('LN6', 'Cell_14_LN6'),\n",
    "    ('LN6', 'Cell_15_LN6'),\n",
    "    ('LN6', 'Cell_16_LN6'),\n",
    "    ('LN6', 'Cell_17_LN6'),\n",
    "    ('LN6', 'Cell_18_LN6'),\n",
    "    ('IN6', 'Cell_19_IN6'),\n",
    "    ('LN6', 'Cell_20_LN6'),\n",
    "    ('TH6', 'Cell_21_TH6'),\n",
    "    ('T', 'RZA_1_T1'),\n",
    "    ('T', 'RZA_4_T2'),\n",
    "]\n",
    "\n",
    "name_file = ds['TH6']\n",
    "name_ld = 'Cell_2_TH6'\n",
    "\n",
    "fd = open(name_file, 'r', encoding='utf-8')\n",
    "xml_file = fd.read()\n",
    "fd.close()\n",
    "\n",
    "xml_file = xml_file.replace('Relay', 'Cell_2_TH6')\n",
    "soup = BeautifulSoup(xml_file, 'lxml-xml')\n",
    "\n",
    "serv = soup.find(\"Server\")\n",
    "DataTypeTemplates = soup.find(\"DataTypeTemplates\")\n",
    "\n",
    "LNodeTypes = [tag['id'] for tag in soup.findAll(\"LNodeType\")]\n",
    "DOTypes = [tag['id'] for tag in soup.findAll(\"DOType\")]\n",
    "DATypes = [tag['id'] for tag in soup.findAll(\"DAType\")]\n",
    "EnumTypes = [tag['id'] for tag in soup.findAll(\"EnumType\")]\n",
    "\n",
    "DOType = soup.find(\"DOType\")\n",
    "DAType = soup.find(\"DAType\")\n",
    "EnumType = soup.find(\"EnumType\")\n",
    "\n",
    "for id_file, name_ld in ls:\n",
    "    name_file = ds[id_file]\n",
    "    \n",
    "    fd1 = open(name_file, 'r', encoding='utf-8')\n",
    "    xml_file1 = fd1.read()\n",
    "    fd1.close()\n",
    "    \n",
    "    xml_file1 = xml_file1.replace('Relay', name_ld)\n",
    "    soup1 = BeautifulSoup(xml_file1, 'lxml-xml')\n",
    "    \n",
    "    ld = soup1.find(\"LDevice\")\n",
    "    serv.append(ld)\n",
    "     \n",
    "    #------------------\n",
    "    LNodeTypes1 = soup1.findAll(\"LNodeType\")\n",
    "    for tag in LNodeTypes1:\n",
    "        if tag['id'] not in LNodeTypes:\n",
    "            DOType.insert_before(tag)\n",
    "            LNodeTypes.append(tag['id'])\n",
    "            \n",
    "    DOTypes1 = soup1.findAll(\"DOType\")\n",
    "    for tag in DOTypes1:\n",
    "        if tag['id'] not in DOTypes:\n",
    "            DAType.insert_before(tag)\n",
    "            DOTypes.append(tag['id'])   \n",
    "            \n",
    "    DATypes1= soup1.findAll(\"DAType\")\n",
    "    for tag in DATypes1:\n",
    "        if tag['id'] not in DATypes:\n",
    "            EnumType.insert_before(tag)\n",
    "            DATypes.append(tag['id'])\n",
    "                    \n",
    "    EnumTypes1 = soup1.findAll(\"EnumType\")\n",
    "    for tag in EnumTypes1:\n",
    "        if tag['id'] not in EnumTypes:\n",
    "            DataTypeTemplates.append(tag)\n",
    "            EnumTypes.append(tag['id'])\n",
    "    \n",
    "with open(\"PLC_C264_TU.icd\", \"wb\") as f_output:\n",
    "    f_output.write(soup.prettify(\"utf-8\"))     \n",
    "    "
   ],
   "metadata": {
    "collapsed": false,
    "pycharm": {
     "name": "#%%\n",
     "is_executing": false
    }
   }
  },
  {
   "cell_type": "code",
   "execution_count": null,
   "outputs": [],
   "source": [
    "def insert_tag():\n",
    "    pass"
   ],
   "metadata": {
    "collapsed": false,
    "pycharm": {
     "name": "#%%\n"
    }
   }
  },
  {
   "cell_type": "code",
   "execution_count": null,
   "outputs": [],
   "source": [],
   "metadata": {
    "collapsed": false,
    "pycharm": {
     "name": "#%%\n"
    }
   }
  },
  {
   "cell_type": "code",
   "execution_count": 30,
   "outputs": [],
   "source": [
    "name_file = ds['TH6']\n",
    "name_ld = 'Cell_2_TH6'\n",
    "\n",
    "fd = open(name_file, 'r', encoding='utf-8')\n",
    "xml_file = fd.read()\n",
    "fd.close()\n",
    "\n",
    "xml_file = xml_file.replace('Relay', 'Cell_2_TH6')\n",
    "soup = BeautifulSoup(xml_file, 'lxml-xml')\n"
   ],
   "metadata": {
    "collapsed": false,
    "pycharm": {
     "name": "#%%\n",
     "is_executing": false
    }
   }
  },
  {
   "cell_type": "code",
   "execution_count": 22,
   "outputs": [],
   "source": [
    "LNodeTypes = [tag['id'] for tag in soup.findAll(\"LNodeType\")]\n",
    "DOTypes = [tag['id'] for tag in soup.findAll(\"DOType\")]\n",
    "DATypes = [tag['id'] for tag in soup.findAll(\"DAType\")]\n",
    "EnumTypes = [tag['id'] for tag in soup.findAll(\"EnumType\")]\n"
   ],
   "metadata": {
    "collapsed": false,
    "pycharm": {
     "name": "#%%\n",
     "is_executing": false
    }
   }
  },
  {
   "cell_type": "code",
   "execution_count": 27,
   "outputs": [],
   "source": [
    "LNodeType = soup.find(\"LNodeType\")\n",
    "DOType = soup.find(\"DOType\")\n",
    "DAType = soup.find(\"DAType\")\n",
    "EnumType = soup.find(\"EnumType\")"
   ],
   "metadata": {
    "collapsed": false,
    "pycharm": {
     "name": "#%%\n",
     "is_executing": false
    }
   }
  },
  {
   "cell_type": "code",
   "execution_count": 36,
   "outputs": [],
   "source": [
    "name_file = ds['TH6']\n",
    "name_ld = 'Cell_2_TH6'\n",
    "\n",
    "fd = open(name_file, 'r', encoding='utf-8')\n",
    "xml_file = fd.read()\n",
    "fd.close()\n",
    "\n",
    "xml_file = xml_file.replace('Relay', 'Cell_2_TH6')\n",
    "soup = BeautifulSoup(xml_file, 'lxml-xml')\n",
    "\n",
    "LNodeType = soup.find(\"LNodeType\")\n",
    "DOType = soup.find(\"DOType\")\n",
    "DAType = soup.find(\"DAType\")\n",
    "EnumType = soup.find(\"EnumType\")\n",
    "\n",
    "\n",
    "name_file = ds['LN6']\n",
    "fd1 = open(name_file, 'r', encoding='utf-8')\n",
    "xml_file1 = fd1.read()\n",
    "fd1.close()\n",
    "\n",
    "xml_file1 = xml_file1.replace('Relay', 'Cell_2_TH6')\n",
    "soup1 = BeautifulSoup(xml_file1, 'lxml-xml')\n",
    "\n",
    "\n",
    "EnumType = soup1.find(\"EnumType\")\n",
    "DOType.insert_before(EnumType)\n",
    "EnumType = soup1.find(\"EnumType\")\n",
    "DAType.insert_before(EnumType)\n",
    "\n",
    "\n",
    "with open(\"P11.icd\", \"wb\") as f_output:\n",
    "    f_output.write(soup.prettify(\"utf-8\"))  "
   ],
   "metadata": {
    "collapsed": false,
    "pycharm": {
     "name": "#%%\n",
     "is_executing": false
    }
   }
  },
  {
   "cell_type": "code",
   "execution_count": 20,
   "outputs": [],
   "source": [
    "DataTypeTemplates = soup.find(\"DataTypeTemplates\")\n"
   ],
   "metadata": {
    "collapsed": false,
    "pycharm": {
     "name": "#%%\n",
     "is_executing": false
    }
   }
  },
  {
   "cell_type": "code",
   "execution_count": 31,
   "outputs": [],
   "source": [
    "with open(\"P11.icd\", \"wb\") as f_output:\n",
    "    f_output.write(soup.prettify(\"utf-8\"))  "
   ],
   "metadata": {
    "collapsed": false,
    "pycharm": {
     "name": "#%%\n",
     "is_executing": false
    }
   }
  },
  {
   "cell_type": "code",
   "execution_count": null,
   "outputs": [],
   "source": [],
   "metadata": {
    "collapsed": false,
    "pycharm": {
     "name": "#%%\n"
    }
   }
  },
  {
   "cell_type": "code",
   "execution_count": null,
   "outputs": [],
   "source": [],
   "metadata": {
    "collapsed": false,
    "pycharm": {
     "name": "#%%\n"
    }
   }
  },
  {
   "cell_type": "code",
   "execution_count": null,
   "outputs": [],
   "source": [],
   "metadata": {
    "collapsed": false,
    "pycharm": {
     "name": "#%%\n"
    }
   }
  },
  {
   "cell_type": "code",
   "execution_count": 1,
   "metadata": {
    "collapsed": true,
    "pycharm": {
     "is_executing": false
    }
   },
   "outputs": [],
   "source": [
    "from bs4 import BeautifulSoup"
   ]
  },
  {
   "cell_type": "code",
   "execution_count": 6,
   "outputs": [],
   "source": [],
   "metadata": {
    "collapsed": false,
    "pycharm": {
     "name": "#%%\n"
    }
   }
  },
  {
   "cell_type": "code",
   "execution_count": 4,
   "outputs": [],
   "source": [
    "fd = open('SCL_P3U30_5AAAA_3BDAR_61850_Cell_2.icd', 'r', encoding='utf-8')\n",
    "xml_file = fd.read()\n",
    "soup = BeautifulSoup(xml_file, 'lxml-xml')"
   ],
   "metadata": {
    "collapsed": false,
    "pycharm": {
     "name": "#%%\n",
     "is_executing": false
    }
   }
  },
  {
   "cell_type": "code",
   "execution_count": 5,
   "outputs": [],
   "source": [
    "for tag in soup.findAll(\"DOType\"): \n",
    "    print(tag[\"cdc\"])\n",
    "    # print(tag.text) \n",
    "fd.close()"
   ],
   "metadata": {
    "collapsed": false,
    "pycharm": {
     "name": "#%%\n",
     "is_executing": false
    }
   }
  },
  {
   "cell_type": "code",
   "execution_count": 14,
   "outputs": [
    {
     "data": {
      "text/plain": "[]"
     },
     "metadata": {},
     "output_type": "execute_result",
     "execution_count": 14
    }
   ],
   "source": [
    "list(soup.children)"
   ],
   "metadata": {
    "collapsed": false,
    "pycharm": {
     "name": "#%%\n",
     "is_executing": false
    }
   }
  },
  {
   "cell_type": "code",
   "execution_count": 5,
   "outputs": [
    {
     "data": {
      "text/plain": "[<DOType cdc=\"INC\" id=\"INC_0\">\n <DA bType=\"Enum\" fc=\"ST\" name=\"stVal\" type=\"Mod\"/>\n <DA bType=\"Quality\" fc=\"ST\" name=\"q\"/>\n <DA bType=\"Timestamp\" fc=\"ST\" name=\"t\"/>\n <DA bType=\"Enum\" fc=\"CF\" name=\"ctlModel\" type=\"ctlModel\">\n <Val>status-only</Val>\n </DA>\n </DOType>,\n <DOType cdc=\"INC\" id=\"INC_1\">\n <DA bType=\"Struct\" fc=\"CO\" name=\"Oper\" type=\"Oper_Mod_OnTest\"/>\n <DA bType=\"Enum\" fc=\"ST\" name=\"stVal\" type=\"Mod\"/>\n <DA bType=\"Quality\" fc=\"ST\" name=\"q\"/>\n <DA bType=\"Timestamp\" fc=\"ST\" name=\"t\"/>\n <DA bType=\"Enum\" fc=\"CF\" name=\"ctlModel\" type=\"ctlModel\">\n <Val>direct-with-normal-security</Val>\n </DA>\n </DOType>,\n <DOType cdc=\"INC\" id=\"INC_2\">\n <DA bType=\"Struct\" fc=\"CO\" name=\"Oper\" type=\"Oper_Mod_OnOff\"/>\n <DA bType=\"Enum\" fc=\"ST\" name=\"stVal\" type=\"Mod\"/>\n <DA bType=\"Quality\" fc=\"ST\" name=\"q\"/>\n <DA bType=\"Timestamp\" fc=\"ST\" name=\"t\"/>\n <DA bType=\"Enum\" fc=\"CF\" name=\"ctlModel\" type=\"ctlModel\">\n <Val>direct-with-normal-security</Val>\n </DA>\n </DOType>,\n <DOType cdc=\"ING\" id=\"ING_0\">\n <DA bType=\"INT32\" fc=\"SP\" name=\"setVal\"/>\n </DOType>,\n <DOType cdc=\"INS\" id=\"INS_0\">\n <DA bType=\"Enum\" fc=\"ST\" name=\"stVal\" type=\"Beh\"/>\n <DA bType=\"Quality\" fc=\"ST\" name=\"q\"/>\n <DA bType=\"Timestamp\" fc=\"ST\" name=\"t\"/>\n </DOType>,\n <DOType cdc=\"INS\" id=\"INS_1\">\n <DA bType=\"Enum\" fc=\"ST\" name=\"stVal\" type=\"Health\"/>\n <DA bType=\"Quality\" fc=\"ST\" name=\"q\"/>\n <DA bType=\"Timestamp\" fc=\"ST\" name=\"t\"/>\n </DOType>,\n <DOType cdc=\"LPL\" id=\"LPL_0\">\n <DA bType=\"VisString255\" fc=\"DC\" name=\"vendor\"/>\n <DA bType=\"VisString255\" fc=\"DC\" name=\"swRev\"/>\n <DA bType=\"VisString255\" fc=\"DC\" name=\"d\"/>\n </DOType>,\n <DOType cdc=\"SPC\" id=\"SPC_0\">\n <DA bType=\"Struct\" fc=\"CO\" name=\"Oper\" type=\"Oper_0\"/>\n <DA bType=\"Enum\" fc=\"CF\" name=\"ctlModel\" type=\"ctlModel\"/>\n </DOType>,\n <DOType cdc=\"SPC\" id=\"SPC_1\">\n <DA bType=\"Struct\" fc=\"CO\" name=\"Oper\" type=\"Oper_0\"/>\n <DA bType=\"BOOLEAN\" fc=\"ST\" name=\"stVal\"/>\n <DA bType=\"Quality\" fc=\"ST\" name=\"q\"/>\n <DA bType=\"Timestamp\" fc=\"ST\" name=\"t\"/>\n <DA bType=\"Enum\" fc=\"CF\" name=\"ctlModel\" type=\"ctlModel\"/>\n </DOType>,\n <DOType cdc=\"SPC\" id=\"SPC_2\">\n <DA bType=\"BOOLEAN\" fc=\"ST\" name=\"stVal\"/>\n <DA bType=\"Quality\" fc=\"ST\" name=\"q\"/>\n <DA bType=\"Timestamp\" fc=\"ST\" name=\"t\"/>\n <DA bType=\"Enum\" fc=\"CF\" name=\"ctlModel\" type=\"ctlModel\"/>\n </DOType>,\n <DOType cdc=\"ACT\" id=\"ACT_0\">\n <DA bType=\"BOOLEAN\" fc=\"ST\" name=\"general\"/>\n <DA bType=\"Quality\" fc=\"ST\" name=\"q\"/>\n <DA bType=\"Timestamp\" fc=\"ST\" name=\"t\"/>\n </DOType>,\n <DOType cdc=\"ASG\" id=\"ASG_0\">\n <DA bType=\"Struct\" fc=\"SP\" name=\"setMag\" type=\"AnalogueValue_0\"/>\n <DA bType=\"Struct\" fc=\"CF\" name=\"units\" type=\"Unit_1\"/>\n </DOType>,\n <DOType cdc=\"ACD\" id=\"ACD_0\">\n <DA bType=\"BOOLEAN\" fc=\"ST\" name=\"general\"/>\n <DA bType=\"Enum\" fc=\"ST\" name=\"dirGeneral\" type=\"dir\"/>\n <DA bType=\"Quality\" fc=\"ST\" name=\"q\"/>\n <DA bType=\"Timestamp\" fc=\"ST\" name=\"t\"/>\n </DOType>,\n <DOType cdc=\"CMV\" id=\"CMV_0\">\n <DA bType=\"Struct\" fc=\"MX\" name=\"cVal\" type=\"Vector_0\"/>\n <DA bType=\"Quality\" fc=\"MX\" name=\"q\"/>\n <DA bType=\"Timestamp\" fc=\"MX\" name=\"t\"/>\n <DA bType=\"Struct\" fc=\"CF\" name=\"units\" type=\"Unit_0\"/>\n </DOType>,\n <DOType cdc=\"CMV\" id=\"CMV_3\">\n <DA bType=\"Struct\" fc=\"MX\" name=\"cVal\" type=\"Vector_1\"/>\n <DA bType=\"Quality\" fc=\"MX\" name=\"q\"/>\n <DA bType=\"Timestamp\" fc=\"MX\" name=\"t\"/>\n <DA bType=\"Struct\" fc=\"CF\" name=\"units\" type=\"Unit_0\"/>\n </DOType>,\n <DOType cdc=\"WYE\" id=\"WYE_4\">\n <SDO name=\"neut\" type=\"CMV_3\"/>\n </DOType>,\n <DOType cdc=\"LPL\" id=\"LPL_1\">\n <DA bType=\"VisString255\" fc=\"DC\" name=\"vendor\"/>\n <DA bType=\"VisString255\" fc=\"DC\" name=\"swRev\"/>\n <DA bType=\"VisString255\" fc=\"DC\" name=\"d\"/>\n <DA bType=\"VisString255\" fc=\"DC\" name=\"configRev\"/>\n <DA bType=\"VisString255\" fc=\"EX\" name=\"ldNs\"/>\n </DOType>,\n <DOType cdc=\"SPS\" id=\"SPS_0\">\n <DA bType=\"BOOLEAN\" fc=\"ST\" name=\"stVal\"/>\n <DA bType=\"Quality\" fc=\"ST\" name=\"q\"/>\n <DA bType=\"Timestamp\" fc=\"ST\" name=\"t\"/>\n </DOType>,\n <DOType cdc=\"DPC\" id=\"DPC_1\">\n <DA bType=\"Struct\" fc=\"CO\" name=\"Oper\" type=\"Oper_0\"/>\n <DA bType=\"Dbpos\" fc=\"ST\" name=\"stVal\"/>\n <DA bType=\"Quality\" fc=\"ST\" name=\"q\"/>\n <DA bType=\"Timestamp\" fc=\"ST\" name=\"t\"/>\n <DA bType=\"Enum\" fc=\"CF\" name=\"ctlModel\" type=\"ctlModel\"/>\n </DOType>,\n <DOType cdc=\"MV\" id=\"MV_1\">\n <DA bType=\"Struct\" fc=\"MX\" name=\"mag\" type=\"AnalogueValue_0\"/>\n <DA bType=\"Quality\" fc=\"MX\" name=\"q\"/>\n <DA bType=\"Timestamp\" fc=\"MX\" name=\"t\"/>\n <DA bType=\"Struct\" fc=\"CF\" name=\"units\" type=\"Unit_0\"/>\n </DOType>,\n <DOType cdc=\"DEL\" id=\"DEL_1\">\n <SDO name=\"phsAB\" type=\"CMV_0\"/>\n <SDO name=\"phsBC\" type=\"CMV_0\"/>\n <SDO name=\"phsCA\" type=\"CMV_0\"/>\n </DOType>,\n <DOType cdc=\"DPL\" id=\"DPL_0\">\n <DA bType=\"VisString255\" fc=\"DC\" name=\"vendor\"/>\n </DOType>]"
     },
     "metadata": {},
     "output_type": "execute_result",
     "execution_count": 5
    }
   ],
   "source": [
    "soup.findAll(\"DOType\")\n"
   ],
   "metadata": {
    "collapsed": false,
    "pycharm": {
     "name": "#%%\n",
     "is_executing": false
    }
   }
  },
  {
   "cell_type": "code",
   "execution_count": 6,
   "outputs": [],
   "source": [
    "xml_file1 = xml_file.replace('Relay', 'Cell_2_TH6')\n"
   ],
   "metadata": {
    "collapsed": false,
    "pycharm": {
     "name": "#%%\n",
     "is_executing": false
    }
   }
  },
  {
   "cell_type": "code",
   "execution_count": 21,
   "outputs": [],
   "source": [
    "fd = open('cid_example_deadband1.cid', 'r')\n",
    "xml_file = fd.read()\n",
    "soup = BeautifulSoup(xml_file, 'lxml-xml')"
   ],
   "metadata": {
    "collapsed": false,
    "pycharm": {
     "name": "#%%\n",
     "is_executing": false
    }
   }
  },
  {
   "cell_type": "code",
   "execution_count": 22,
   "outputs": [],
   "source": [
    "for tag in soup.findAll(\"DOType\"): \n",
    "    print(tag[\"cdc\"])\n",
    "    # print(tag.text) \n",
    "fd.close()"
   ],
   "metadata": {
    "collapsed": false,
    "pycharm": {
     "name": "#%%\n",
     "is_executing": false
    }
   }
  },
  {
   "cell_type": "code",
   "execution_count": 2,
   "outputs": [
    {
     "data": {
      "text/plain": "[<DOType cdc=\"INC\" id=\"INC_0\">\n <DA bType=\"Enum\" fc=\"ST\" name=\"stVal\" type=\"Mod\"/>\n <DA bType=\"Quality\" fc=\"ST\" name=\"q\"/>\n <DA bType=\"Timestamp\" fc=\"ST\" name=\"t\"/>\n <DA bType=\"Enum\" fc=\"CF\" name=\"ctlModel\" type=\"ctlModel\">\n <Val>status-only</Val>\n </DA>\n </DOType>,\n <DOType cdc=\"INC\" id=\"INC_1\">\n <DA bType=\"Struct\" fc=\"CO\" name=\"Oper\" type=\"Oper_Mod_OnTest\"/>\n <DA bType=\"Enum\" fc=\"ST\" name=\"stVal\" type=\"Mod\"/>\n <DA bType=\"Quality\" fc=\"ST\" name=\"q\"/>\n <DA bType=\"Timestamp\" fc=\"ST\" name=\"t\"/>\n <DA bType=\"Enum\" fc=\"CF\" name=\"ctlModel\" type=\"ctlModel\">\n <Val>direct-with-normal-security</Val>\n </DA>\n </DOType>,\n <DOType cdc=\"INC\" id=\"INC_2\">\n <DA bType=\"Struct\" fc=\"CO\" name=\"Oper\" type=\"Oper_Mod_OnOff\"/>\n <DA bType=\"Enum\" fc=\"ST\" name=\"stVal\" type=\"Mod\"/>\n <DA bType=\"Quality\" fc=\"ST\" name=\"q\"/>\n <DA bType=\"Timestamp\" fc=\"ST\" name=\"t\"/>\n <DA bType=\"Enum\" fc=\"CF\" name=\"ctlModel\" type=\"ctlModel\">\n <Val>direct-with-normal-security</Val>\n </DA>\n </DOType>,\n <DOType cdc=\"ING\" id=\"ING_0\">\n <DA bType=\"INT32\" fc=\"SP\" name=\"setVal\"/>\n </DOType>,\n <DOType cdc=\"INS\" id=\"INS_0\">\n <DA bType=\"Enum\" fc=\"ST\" name=\"stVal\" type=\"Beh\"/>\n <DA bType=\"Quality\" fc=\"ST\" name=\"q\"/>\n <DA bType=\"Timestamp\" fc=\"ST\" name=\"t\"/>\n </DOType>,\n <DOType cdc=\"INS\" id=\"INS_1\">\n <DA bType=\"Enum\" fc=\"ST\" name=\"stVal\" type=\"Health\"/>\n <DA bType=\"Quality\" fc=\"ST\" name=\"q\"/>\n <DA bType=\"Timestamp\" fc=\"ST\" name=\"t\"/>\n </DOType>,\n <DOType cdc=\"LPL\" id=\"LPL_0\">\n <DA bType=\"VisString255\" fc=\"DC\" name=\"vendor\"/>\n <DA bType=\"VisString255\" fc=\"DC\" name=\"swRev\"/>\n <DA bType=\"VisString255\" fc=\"DC\" name=\"d\"/>\n </DOType>,\n <DOType cdc=\"SPC\" id=\"SPC_0\">\n <DA bType=\"Struct\" fc=\"CO\" name=\"Oper\" type=\"SelectWithValue_0\"/>\n <DA bType=\"Enum\" fc=\"CF\" name=\"ctlModel\" type=\"ctlModel\"/>\n </DOType>,\n <DOType cdc=\"SPC\" id=\"SPC_1\">\n <DA bType=\"Struct\" fc=\"CO\" name=\"Oper\" type=\"SelectWithValue_0\"/>\n <DA bType=\"BOOLEAN\" fc=\"ST\" name=\"stVal\"/>\n <DA bType=\"Quality\" fc=\"ST\" name=\"q\"/>\n <DA bType=\"Timestamp\" fc=\"ST\" name=\"t\"/>\n <DA bType=\"Enum\" fc=\"CF\" name=\"ctlModel\" type=\"ctlModel\"/>\n </DOType>,\n <DOType cdc=\"SPC\" id=\"SPC_2\">\n <DA bType=\"BOOLEAN\" fc=\"ST\" name=\"stVal\"/>\n <DA bType=\"Quality\" fc=\"ST\" name=\"q\"/>\n <DA bType=\"Timestamp\" fc=\"ST\" name=\"t\"/>\n <DA bType=\"Enum\" fc=\"CF\" name=\"ctlModel\" type=\"ctlModel\"/>\n </DOType>,\n <DOType cdc=\"ACT\" id=\"ACT_0\">\n <DA bType=\"BOOLEAN\" fc=\"ST\" name=\"general\"/>\n <DA bType=\"Quality\" fc=\"ST\" name=\"q\"/>\n <DA bType=\"Timestamp\" fc=\"ST\" name=\"t\"/>\n </DOType>,\n <DOType cdc=\"ASG\" id=\"ASG_0\">\n <DA bType=\"Struct\" fc=\"SP\" name=\"setMag\" type=\"AnalogueValue_0\"/>\n <DA bType=\"Struct\" fc=\"CF\" name=\"units\" type=\"Unit_1\"/>\n </DOType>,\n <DOType cdc=\"ACD\" id=\"ACD_0\">\n <DA bType=\"BOOLEAN\" fc=\"ST\" name=\"general\"/>\n <DA bType=\"Enum\" fc=\"ST\" name=\"dirGeneral\" type=\"dir\"/>\n <DA bType=\"Quality\" fc=\"ST\" name=\"q\"/>\n <DA bType=\"Timestamp\" fc=\"ST\" name=\"t\"/>\n </DOType>,\n <DOType cdc=\"CMV\" id=\"CMV_0\">\n <DA bType=\"Struct\" fc=\"MX\" name=\"cVal\" type=\"Vector_0\"/>\n <DA bType=\"Quality\" fc=\"MX\" name=\"q\"/>\n <DA bType=\"Timestamp\" fc=\"MX\" name=\"t\"/>\n <DA bType=\"Struct\" fc=\"CF\" name=\"units\" type=\"Unit_0\"/>\n </DOType>,\n <DOType cdc=\"CMV\" id=\"CMV_3\">\n <DA bType=\"Struct\" fc=\"MX\" name=\"cVal\" type=\"Vector_1\"/>\n <DA bType=\"Quality\" fc=\"MX\" name=\"q\"/>\n <DA bType=\"Timestamp\" fc=\"MX\" name=\"t\"/>\n <DA bType=\"Struct\" fc=\"CF\" name=\"units\" type=\"Unit_0\"/>\n </DOType>,\n <DOType cdc=\"WYE\" id=\"WYE_4\">\n <SDO name=\"neut\" type=\"CMV_3\"/>\n </DOType>,\n <DOType cdc=\"LPL\" id=\"LPL_1\">\n <DA bType=\"VisString255\" fc=\"DC\" name=\"vendor\"/>\n <DA bType=\"VisString255\" fc=\"DC\" name=\"swRev\"/>\n <DA bType=\"VisString255\" fc=\"DC\" name=\"d\"/>\n <DA bType=\"VisString255\" fc=\"DC\" name=\"configRev\"/>\n <DA bType=\"VisString255\" fc=\"EX\" name=\"ldNs\"/>\n </DOType>,\n <DOType cdc=\"SPS\" id=\"SPS_0\">\n <DA bType=\"BOOLEAN\" fc=\"ST\" name=\"stVal\"/>\n <DA bType=\"Quality\" fc=\"ST\" name=\"q\"/>\n <DA bType=\"Timestamp\" fc=\"ST\" name=\"t\"/>\n </DOType>,\n <DOType cdc=\"DPC\" id=\"DPC_1\">\n <DA bType=\"Struct\" fc=\"CO\" name=\"Oper\" type=\"SelectWithValue_0\"/>\n <DA bType=\"Dbpos\" fc=\"ST\" name=\"stVal\"/>\n <DA bType=\"Quality\" fc=\"ST\" name=\"q\"/>\n <DA bType=\"Timestamp\" fc=\"ST\" name=\"t\"/>\n <DA bType=\"Enum\" fc=\"CF\" name=\"ctlModel\" type=\"ctlModel\"/>\n </DOType>,\n <DOType cdc=\"MV\" id=\"MV_1\">\n <DA bType=\"Struct\" fc=\"MX\" name=\"mag\" type=\"AnalogueValue_0\"/>\n <DA bType=\"Quality\" fc=\"MX\" name=\"q\"/>\n <DA bType=\"Timestamp\" fc=\"MX\" name=\"t\"/>\n <DA bType=\"Struct\" fc=\"CF\" name=\"units\" type=\"Unit_0\"/>\n </DOType>,\n <DOType cdc=\"DEL\" id=\"DEL_1\">\n <SDO name=\"phsAB\" type=\"CMV_0\"/>\n <SDO name=\"phsBC\" type=\"CMV_0\"/>\n <SDO name=\"phsCA\" type=\"CMV_0\"/>\n </DOType>,\n <DOType cdc=\"DPL\" id=\"DPL_0\">\n <DA bType=\"VisString255\" fc=\"DC\" name=\"vendor\"/>\n </DOType>,\n <DOType cdc=\"INC\" id=\"INC_0\">\n <DA bType=\"Enum\" fc=\"ST\" name=\"stVal\" type=\"Mod\"/>\n <DA bType=\"Quality\" fc=\"ST\" name=\"q\"/>\n <DA bType=\"Timestamp\" fc=\"ST\" name=\"t\"/>\n <DA bType=\"Enum\" fc=\"CF\" name=\"ctlModel\" type=\"ctlModel\">\n <Val>status-only</Val>\n </DA>\n </DOType>,\n <DOType cdc=\"INC\" id=\"INC_1\">\n <DA bType=\"Struct\" fc=\"CO\" name=\"Oper\" type=\"Oper_Mod_OnTest\"/>\n <DA bType=\"Enum\" fc=\"ST\" name=\"stVal\" type=\"Mod\"/>\n <DA bType=\"Quality\" fc=\"ST\" name=\"q\"/>\n <DA bType=\"Timestamp\" fc=\"ST\" name=\"t\"/>\n <DA bType=\"Enum\" fc=\"CF\" name=\"ctlModel\" type=\"ctlModel\">\n <Val>direct-with-normal-security</Val>\n </DA>\n </DOType>,\n <DOType cdc=\"INC\" id=\"INC_2\">\n <DA bType=\"Struct\" fc=\"CO\" name=\"Oper\" type=\"Oper_Mod_OnOff\"/>\n <DA bType=\"Enum\" fc=\"ST\" name=\"stVal\" type=\"Mod\"/>\n <DA bType=\"Quality\" fc=\"ST\" name=\"q\"/>\n <DA bType=\"Timestamp\" fc=\"ST\" name=\"t\"/>\n <DA bType=\"Enum\" fc=\"CF\" name=\"ctlModel\" type=\"ctlModel\">\n <Val>direct-with-normal-security</Val>\n </DA>\n </DOType>,\n <DOType cdc=\"ING\" id=\"ING_0\">\n <DA bType=\"INT32\" fc=\"SP\" name=\"setVal\"/>\n </DOType>,\n <DOType cdc=\"INS\" id=\"INS_0\">\n <DA bType=\"Enum\" fc=\"ST\" name=\"stVal\" type=\"Beh\"/>\n <DA bType=\"Quality\" fc=\"ST\" name=\"q\"/>\n <DA bType=\"Timestamp\" fc=\"ST\" name=\"t\"/>\n </DOType>,\n <DOType cdc=\"INS\" id=\"INS_1\">\n <DA bType=\"Enum\" fc=\"ST\" name=\"stVal\" type=\"Health\"/>\n <DA bType=\"Quality\" fc=\"ST\" name=\"q\"/>\n <DA bType=\"Timestamp\" fc=\"ST\" name=\"t\"/>\n </DOType>,\n <DOType cdc=\"LPL\" id=\"LPL_0\">\n <DA bType=\"VisString255\" fc=\"DC\" name=\"vendor\"/>\n <DA bType=\"VisString255\" fc=\"DC\" name=\"swRev\"/>\n <DA bType=\"VisString255\" fc=\"DC\" name=\"d\"/>\n </DOType>,\n <DOType cdc=\"SPC\" id=\"SPC_0\">\n <DA bType=\"Struct\" fc=\"CO\" name=\"Oper\" type=\"SelectWithValue_0\"/>\n <DA bType=\"Enum\" fc=\"CF\" name=\"ctlModel\" type=\"ctlModel\"/>\n </DOType>,\n <DOType cdc=\"SPC\" id=\"SPC_2\">\n <DA bType=\"BOOLEAN\" fc=\"ST\" name=\"stVal\"/>\n <DA bType=\"Quality\" fc=\"ST\" name=\"q\"/>\n <DA bType=\"Timestamp\" fc=\"ST\" name=\"t\"/>\n <DA bType=\"Enum\" fc=\"CF\" name=\"ctlModel\" type=\"ctlModel\"/>\n </DOType>,\n <DOType cdc=\"ACT\" id=\"ACT_0\">\n <DA bType=\"BOOLEAN\" fc=\"ST\" name=\"general\"/>\n <DA bType=\"Quality\" fc=\"ST\" name=\"q\"/>\n <DA bType=\"Timestamp\" fc=\"ST\" name=\"t\"/>\n </DOType>,\n <DOType cdc=\"ASG\" id=\"ASG_0\">\n <DA bType=\"Struct\" fc=\"SP\" name=\"setMag\" type=\"AnalogueValue_0\"/>\n <DA bType=\"Struct\" fc=\"CF\" name=\"units\" type=\"Unit_1\"/>\n </DOType>,\n <DOType cdc=\"ACD\" id=\"ACD_0\">\n <DA bType=\"BOOLEAN\" fc=\"ST\" name=\"general\"/>\n <DA bType=\"Enum\" fc=\"ST\" name=\"dirGeneral\" type=\"dir\"/>\n <DA bType=\"Quality\" fc=\"ST\" name=\"q\"/>\n <DA bType=\"Timestamp\" fc=\"ST\" name=\"t\"/>\n </DOType>,\n <DOType cdc=\"CMV\" id=\"CMV_0\">\n <DA bType=\"Struct\" fc=\"MX\" name=\"cVal\" type=\"Vector_0\"/>\n <DA bType=\"Quality\" fc=\"MX\" name=\"q\"/>\n <DA bType=\"Timestamp\" fc=\"MX\" name=\"t\"/>\n <DA bType=\"Struct\" fc=\"CF\" name=\"units\" type=\"Unit_0\"/>\n </DOType>,\n <DOType cdc=\"WYE\" id=\"WYE_0\">\n <SDO name=\"phsA\" type=\"CMV_0\"/>\n <SDO name=\"phsB\" type=\"CMV_0\"/>\n <SDO name=\"phsC\" type=\"CMV_0\"/>\n </DOType>,\n <DOType cdc=\"WYE\" id=\"WYE_1\">\n <SDO name=\"neut\" type=\"CMV_0\"/>\n </DOType>,\n <DOType cdc=\"WYE\" id=\"WYE_3\">\n <SDO name=\"phsA\" type=\"CMV_3\"/>\n <SDO name=\"phsB\" type=\"CMV_3\"/>\n <SDO name=\"phsC\" type=\"CMV_3\"/>\n </DOType>,\n <DOType cdc=\"LPL\" id=\"LPL_1\">\n <DA bType=\"VisString255\" fc=\"DC\" name=\"vendor\"/>\n <DA bType=\"VisString255\" fc=\"DC\" name=\"swRev\"/>\n <DA bType=\"VisString255\" fc=\"DC\" name=\"d\"/>\n <DA bType=\"VisString255\" fc=\"DC\" name=\"configRev\"/>\n <DA bType=\"VisString255\" fc=\"EX\" name=\"ldNs\"/>\n </DOType>,\n <DOType cdc=\"SPS\" id=\"SPS_0\">\n <DA bType=\"BOOLEAN\" fc=\"ST\" name=\"stVal\"/>\n <DA bType=\"Quality\" fc=\"ST\" name=\"q\"/>\n <DA bType=\"Timestamp\" fc=\"ST\" name=\"t\"/>\n </DOType>,\n <DOType cdc=\"DEL\" id=\"DEL_1\">\n <SDO name=\"phsAB\" type=\"CMV_0\"/>\n <SDO name=\"phsBC\" type=\"CMV_0\"/>\n <SDO name=\"phsCA\" type=\"CMV_0\"/>\n </DOType>,\n <DOType cdc=\"DPL\" id=\"DPL_0\">\n <DA bType=\"VisString255\" fc=\"DC\" name=\"vendor\"/>\n </DOType>,\n <DOType cdc=\"CURVE\" id=\"CURVE_0\">\n <DA bType=\"Enum\" fc=\"SP\" name=\"setCharact\" type=\"setCharact\"/>\n <DA bType=\"FLOAT32\" fc=\"SP\" name=\"setParA\"/>\n </DOType>]"
     },
     "metadata": {},
     "output_type": "execute_result",
     "execution_count": 2
    }
   ],
   "source": [
    "fd = open('Cell_2_21.xml', 'r', encoding='utf-8')\n",
    "xml_file = fd.read()\n",
    "soup = BeautifulSoup(xml_file, 'lxml-xml')\n",
    "soup.findAll(\"DOType\")"
   ],
   "metadata": {
    "collapsed": false,
    "pycharm": {
     "name": "#%%\n",
     "is_executing": false
    }
   }
  },
  {
   "cell_type": "code",
   "execution_count": 3,
   "outputs": [],
   "source": [
    "lds = soup.findAll(\"LDevice\")"
   ],
   "metadata": {
    "collapsed": false,
    "pycharm": {
     "name": "#%%\n",
     "is_executing": false
    }
   }
  },
  {
   "cell_type": "code",
   "execution_count": 8,
   "outputs": [],
   "source": [
    "ld = lds[0]"
   ],
   "metadata": {
    "collapsed": false,
    "pycharm": {
     "name": "#%%\n",
     "is_executing": false
    }
   }
  },
  {
   "cell_type": "code",
   "execution_count": 13,
   "outputs": [],
   "source": [
    "ds = ld.find('DataSet')"
   ],
   "metadata": {
    "collapsed": false,
    "pycharm": {
     "name": "#%%\n",
     "is_executing": false
    }
   }
  },
  {
   "cell_type": "code",
   "execution_count": 15,
   "outputs": [],
   "source": [
    "ds.clear()\n"
   ],
   "metadata": {
    "collapsed": false,
    "pycharm": {
     "name": "#%%\n",
     "is_executing": false
    }
   }
  },
  {
   "cell_type": "code",
   "execution_count": 16,
   "outputs": [
    {
     "data": {
      "text/plain": "<LDevice inst=\"Cell_3_LN6\">\n<LN0 inst=\"\" lnClass=\"LLN0\" lnType=\"LLN0_0\">\n<Private type=\"SchneiderElectric-IEDP3x-DataSet\">DS[1-3]{1}|DSG[1-2]{1}</Private>\n<DataSet name=\"DS1\"/>\n<DataSet name=\"DS2\">\n<FCDA doName=\"Ind\" fc=\"ST\" ldInst=\"Cell_3_LN6\" lnClass=\"GGIO\" lnInst=\"45\" prefix=\"DI01\"/>\n</DataSet>\n<DataSet name=\"DS3\">\n<FCDA doName=\"Ind\" fc=\"ST\" ldInst=\"Cell_3_LN6\" lnClass=\"GGIO\" lnInst=\"45\" prefix=\"DI01\"/>\n</DataSet>\n<DataSet name=\"DSG1\">\n<FCDA daName=\"stVal\" doName=\"Ind\" fc=\"ST\" ldInst=\"Cell_3_LN6\" lnClass=\"GGIO\" lnInst=\"45\" prefix=\"DI01\"/>\n</DataSet>\n<DataSet name=\"DSG2\">\n<FCDA daName=\"stVal\" doName=\"Ind\" fc=\"ST\" ldInst=\"Cell_3_LN6\" lnClass=\"GGIO\" lnInst=\"45\" prefix=\"DI01\"/>\n</DataSet>\n<ReportControl bufTime=\"1000\" buffered=\"true\" confRev=\"10000\" datSet=\"DS1\" name=\"brcbEV1\" rptID=\"BRCB1\">\n<TrgOps dchg=\"true\" dupd=\"true\" period=\"true\" qchg=\"true\"/>\n<OptFields configRef=\"true\" dataRef=\"true\" dataSet=\"true\" entryID=\"true\" reasonCode=\"true\" seqNum=\"true\" timeStamp=\"true\"/>\n<RptEnabled/>\n</ReportControl>\n<ReportControl bufTime=\"1000\" buffered=\"true\" confRev=\"10000\" datSet=\"DS2\" name=\"brcbEV2\" rptID=\"BRCB2\">\n<TrgOps dchg=\"true\" dupd=\"true\" period=\"true\" qchg=\"true\"/>\n<OptFields configRef=\"true\" dataRef=\"true\" dataSet=\"true\" entryID=\"true\" reasonCode=\"true\" seqNum=\"true\" timeStamp=\"true\"/>\n<RptEnabled/>\n</ReportControl>\n<ReportControl bufTime=\"1000\" buffered=\"true\" confRev=\"10000\" datSet=\"DS3\" name=\"brcbEV3\" rptID=\"BRCB3\">\n<TrgOps dchg=\"true\" dupd=\"true\" period=\"true\" qchg=\"true\"/>\n<OptFields configRef=\"true\" dataRef=\"true\" dataSet=\"true\" entryID=\"true\" reasonCode=\"true\" seqNum=\"true\" timeStamp=\"true\"/>\n<RptEnabled/>\n</ReportControl>\n<ReportControl bufTime=\"1000\" buffered=\"true\" confRev=\"10000\" datSet=\"DS1\" name=\"brcbEV4\" rptID=\"BRCB4\">\n<TrgOps dchg=\"true\" dupd=\"true\" period=\"true\" qchg=\"true\"/>\n<OptFields configRef=\"true\" dataRef=\"true\" dataSet=\"true\" entryID=\"true\" reasonCode=\"true\" seqNum=\"true\" timeStamp=\"true\"/>\n<RptEnabled/>\n</ReportControl>\n<ReportControl bufTime=\"1000\" buffered=\"true\" confRev=\"10000\" datSet=\"DS2\" name=\"brcbEV5\" rptID=\"BRCB5\">\n<TrgOps dchg=\"true\" dupd=\"true\" period=\"true\" qchg=\"true\"/>\n<OptFields configRef=\"true\" dataRef=\"true\" dataSet=\"true\" entryID=\"true\" reasonCode=\"true\" seqNum=\"true\" timeStamp=\"true\"/>\n<RptEnabled/>\n</ReportControl>\n<ReportControl bufTime=\"1000\" buffered=\"true\" confRev=\"10000\" datSet=\"DS3\" name=\"brcbEV6\" rptID=\"BRCB6\">\n<TrgOps dchg=\"true\" dupd=\"true\" period=\"true\" qchg=\"true\"/>\n<OptFields configRef=\"true\" dataRef=\"true\" dataSet=\"true\" entryID=\"true\" reasonCode=\"true\" seqNum=\"true\" timeStamp=\"true\"/>\n<RptEnabled/>\n</ReportControl>\n<ReportControl bufTime=\"1000\" buffered=\"true\" confRev=\"10000\" datSet=\"DS1\" name=\"brcbEV7\" rptID=\"BRCB7\">\n<TrgOps dchg=\"true\" dupd=\"true\" period=\"true\" qchg=\"true\"/>\n<OptFields configRef=\"true\" dataRef=\"true\" dataSet=\"true\" entryID=\"true\" reasonCode=\"true\" seqNum=\"true\" timeStamp=\"true\"/>\n<RptEnabled/>\n</ReportControl>\n<ReportControl bufTime=\"1000\" buffered=\"true\" confRev=\"10000\" datSet=\"DS2\" name=\"brcbEV8\" rptID=\"BRCB8\">\n<TrgOps dchg=\"true\" dupd=\"true\" period=\"true\" qchg=\"true\"/>\n<OptFields configRef=\"true\" dataRef=\"true\" dataSet=\"true\" entryID=\"true\" reasonCode=\"true\" seqNum=\"true\" timeStamp=\"true\"/>\n<RptEnabled/>\n</ReportControl>\n<ReportControl bufTime=\"1000\" confRev=\"10000\" datSet=\"DS1\" name=\"urcbEV1\" rptID=\"URCB1\">\n<TrgOps dchg=\"true\" dupd=\"true\" period=\"true\" qchg=\"true\"/>\n<OptFields configRef=\"true\" dataRef=\"true\" dataSet=\"true\" reasonCode=\"true\" seqNum=\"true\" timeStamp=\"true\"/>\n<RptEnabled/>\n</ReportControl>\n<ReportControl bufTime=\"1000\" confRev=\"10000\" datSet=\"DS2\" name=\"urcbEV2\" rptID=\"URCB2\">\n<TrgOps dchg=\"true\" dupd=\"true\" period=\"true\" qchg=\"true\"/>\n<OptFields configRef=\"true\" dataRef=\"true\" dataSet=\"true\" reasonCode=\"true\" seqNum=\"true\" timeStamp=\"true\"/>\n<RptEnabled/>\n</ReportControl>\n<ReportControl bufTime=\"1000\" confRev=\"10000\" datSet=\"DS3\" name=\"urcbEV3\" rptID=\"URCB3\">\n<TrgOps dchg=\"true\" dupd=\"true\" period=\"true\" qchg=\"true\"/>\n<OptFields configRef=\"true\" dataRef=\"true\" dataSet=\"true\" reasonCode=\"true\" seqNum=\"true\" timeStamp=\"true\"/>\n<RptEnabled/>\n</ReportControl>\n<ReportControl bufTime=\"1000\" confRev=\"10000\" datSet=\"DS1\" name=\"urcbEV4\" rptID=\"URCB4\">\n<TrgOps dchg=\"true\" dupd=\"true\" period=\"true\" qchg=\"true\"/>\n<OptFields configRef=\"true\" dataRef=\"true\" dataSet=\"true\" reasonCode=\"true\" seqNum=\"true\" timeStamp=\"true\"/>\n<RptEnabled/>\n</ReportControl>\n<ReportControl bufTime=\"1000\" confRev=\"10000\" datSet=\"DS2\" name=\"urcbEV5\" rptID=\"URCB5\">\n<TrgOps dchg=\"true\" dupd=\"true\" period=\"true\" qchg=\"true\"/>\n<OptFields configRef=\"true\" dataRef=\"true\" dataSet=\"true\" reasonCode=\"true\" seqNum=\"true\" timeStamp=\"true\"/>\n<RptEnabled/>\n</ReportControl>\n<ReportControl bufTime=\"1000\" confRev=\"10000\" datSet=\"DS3\" name=\"urcbEV6\" rptID=\"URCB6\">\n<TrgOps dchg=\"true\" dupd=\"true\" period=\"true\" qchg=\"true\"/>\n<OptFields configRef=\"true\" dataRef=\"true\" dataSet=\"true\" reasonCode=\"true\" seqNum=\"true\" timeStamp=\"true\"/>\n<RptEnabled/>\n</ReportControl>\n<ReportControl bufTime=\"1000\" confRev=\"10000\" datSet=\"DS1\" name=\"urcbEV7\" rptID=\"URCB7\">\n<TrgOps dchg=\"true\" dupd=\"true\" period=\"true\" qchg=\"true\"/>\n<OptFields configRef=\"true\" dataRef=\"true\" dataSet=\"true\" reasonCode=\"true\" seqNum=\"true\" timeStamp=\"true\"/>\n<RptEnabled/>\n</ReportControl>\n<ReportControl bufTime=\"1000\" confRev=\"10000\" datSet=\"DS2\" name=\"urcbEV8\" rptID=\"URCB8\">\n<TrgOps dchg=\"true\" dupd=\"true\" period=\"true\" qchg=\"true\"/>\n<OptFields configRef=\"true\" dataRef=\"true\" dataSet=\"true\" reasonCode=\"true\" seqNum=\"true\" timeStamp=\"true\"/>\n<RptEnabled/>\n</ReportControl>\n<DOI name=\"NamPlt\">\n<DAI name=\"vendor\">\n<Val>Schneider Electric</Val>\n</DAI>\n<DAI name=\"swRev\">\n<Val>V30.204</Val>\n</DAI>\n<DAI name=\"d\">\n<Val>G5</Val>\n</DAI>\n<DAI name=\"configRev\">\n<Val>0.0.1</Val>\n</DAI>\n<DAI name=\"ldNs\">\n<Val>IEC 61850-7-4:2003</Val>\n</DAI>\n</DOI>\n<DOI name=\"LEDRs\">\n<DAI name=\"ctlModel\">\n<Val>direct-with-normal-security</Val>\n</DAI>\n</DOI>\n<GSEControl appID=\"TEMPLATECell_3_LN6/LLN0.gcb1\" confRev=\"10000\" name=\"gcb1\"/>\n<GSEControl appID=\"TEMPLATECell_3_LN6/LLN0.gcb2\" confRev=\"10000\" name=\"gcb2\"/>\n</LN0>\n<LN inst=\"1\" lnClass=\"LPHD\" lnType=\"LPHD_0\" prefix=\"Vamp\">\n<DOI name=\"PhyNam\">\n<DAI name=\"vendor\">\n<Val>Schneider Electric</Val>\n</DAI>\n</DOI>\n</LN>\n<LN desc=\"Breaker failure\" inst=\"4\" lnClass=\"PIOC\" lnType=\"PIOC_0\" prefix=\"CBFP\">\n<DOI name=\"NamPlt\">\n<DAI name=\"vendor\">\n<Val>Schneider Electric</Val>\n</DAI>\n<DAI name=\"swRev\">\n<Val>1.0</Val>\n</DAI>\n<DAI name=\"d\">\n<Val>CB failure protection</Val>\n</DAI>\n</DOI>\n</LN>\n<LN desc=\"Io&gt;&gt;\" inst=\"5\" lnClass=\"PTOC\" lnType=\"PTOC_0\" prefix=\"EF2\">\n<DOI name=\"NamPlt\">\n<DAI name=\"vendor\">\n<Val>Schneider Electric</Val>\n</DAI>\n<DAI name=\"swRev\">\n<Val>1.0</Val>\n</DAI>\n<DAI name=\"d\">\n<Val>Io&gt;&gt;</Val>\n</DAI>\n</DOI>\n<DOI name=\"StrVal\">\n<SDI name=\"units\">\n<DAI name=\"SIUnit\">\n<Val>pu</Val>\n</DAI>\n</SDI>\n</DOI>\n</LN>\n<LN desc=\"IL1,IL2,IL3\" inst=\"1\" lnClass=\"MMXU\" lnType=\"MMXU_0\" prefix=\"I3p\">\n<DOI name=\"NamPlt\">\n<DAI name=\"vendor\">\n<Val>Schneider Electric</Val>\n</DAI>\n<DAI name=\"swRev\">\n<Val>1.0</Val>\n</DAI>\n<DAI name=\"d\">\n<Val>IL1,IL2,IL3</Val>\n</DAI>\n</DOI>\n<DOI name=\"A\">\n<SDI name=\"phsA\">\n<SDI name=\"units\">\n<DAI name=\"SIUnit\">\n<Val>A</Val>\n</DAI>\n<DAI name=\"multiplier\">\n<Private type=\"SchneiderElectric-IEDPxx-dbItem\">I61850_MI</Private>\n<Val/>\n</DAI>\n</SDI>\n</SDI>\n<SDI name=\"phsB\">\n<SDI name=\"units\">\n<DAI name=\"SIUnit\">\n<Val>A</Val>\n</DAI>\n<DAI name=\"multiplier\">\n<Private type=\"SchneiderElectric-IEDPxx-dbItem\">I61850_MI</Private>\n<Val/>\n</DAI>\n</SDI>\n</SDI>\n<SDI name=\"phsC\">\n<SDI name=\"units\">\n<DAI name=\"SIUnit\">\n<Val>A</Val>\n</DAI>\n<DAI name=\"multiplier\">\n<Private type=\"SchneiderElectric-IEDPxx-dbItem\">I61850_MI</Private>\n<Val/>\n</DAI>\n</SDI>\n</SDI>\n</DOI>\n</LN>\n<LN desc=\"Io1\" inst=\"11\" lnClass=\"MMXU\" lnType=\"MMXU_1\" prefix=\"Io1\">\n<DOI name=\"NamPlt\">\n<DAI name=\"vendor\">\n<Val>Schneider Electric</Val>\n</DAI>\n<DAI name=\"swRev\">\n<Val>1.0</Val>\n</DAI>\n<DAI name=\"d\">\n<Val>Io1</Val>\n</DAI>\n</DOI>\n<DOI name=\"A\">\n<SDI name=\"neut\">\n<SDI name=\"units\">\n<DAI name=\"SIUnit\">\n<Val>A</Val>\n</DAI>\n<DAI name=\"multiplier\">\n<Private type=\"SchneiderElectric-IEDPxx-dbItem\">I61850_MIo</Private>\n<Val/>\n</DAI>\n</SDI>\n</SDI>\n</DOI>\n</LN>\n<LN desc=\"Logical output 1\" inst=\"77\" lnClass=\"GGIO\" lnType=\"GGIO_0\" prefix=\"LO01\">\n<DOI name=\"NamPlt\">\n<DAI name=\"vendor\">\n<Val>Schneider Electric</Val>\n</DAI>\n<DAI name=\"swRev\">\n<Val>1.0</Val>\n</DAI>\n<DAI name=\"d\">\n<Val>Logical output 1</Val>\n</DAI>\n</DOI>\n</LN>\n<LN desc=\"Logical output 2\" inst=\"78\" lnClass=\"GGIO\" lnType=\"GGIO_0\" prefix=\"LO02\">\n<DOI name=\"NamPlt\">\n<DAI name=\"vendor\">\n<Val>Schneider Electric</Val>\n</DAI>\n<DAI name=\"swRev\">\n<Val>1.0</Val>\n</DAI>\n<DAI name=\"d\">\n<Val>Logical output 2</Val>\n</DAI>\n</DOI>\n</LN>\n<LN desc=\"Logical output 3\" inst=\"79\" lnClass=\"GGIO\" lnType=\"GGIO_0\" prefix=\"LO03\">\n<DOI name=\"NamPlt\">\n<DAI name=\"vendor\">\n<Val>Schneider Electric</Val>\n</DAI>\n<DAI name=\"swRev\">\n<Val>1.0</Val>\n</DAI>\n<DAI name=\"d\">\n<Val>Logical output 3</Val>\n</DAI>\n</DOI>\n</LN>\n<LN desc=\"Logical output 20\" inst=\"96\" lnClass=\"GGIO\" lnType=\"GGIO_0\" prefix=\"LO20\">\n<DOI name=\"NamPlt\">\n<DAI name=\"vendor\">\n<Val>Schneider Electric</Val>\n</DAI>\n<DAI name=\"swRev\">\n<Val>1.0</Val>\n</DAI>\n<DAI name=\"d\">\n<Val>Logical output 20</Val>\n</DAI>\n</DOI>\n</LN>\n<LN desc=\"Object 1\" inst=\"1\" lnClass=\"CSWI\" lnType=\"CSWI_0\" prefix=\"Obj1\">\n<DOI name=\"NamPlt\">\n<DAI name=\"vendor\">\n<Val>Schneider Electric</Val>\n</DAI>\n<DAI name=\"swRev\">\n<Val>1.0</Val>\n</DAI>\n<DAI name=\"d\">\n<Val>Object 1</Val>\n</DAI>\n</DOI>\n<DOI name=\"Pos\">\n<DAI name=\"ctlModel\">\n<Val>direct-with-normal-security</Val>\n</DAI>\n</DOI>\n<DOI name=\"BlkCls\">\n<DAI name=\"ctlModel\">\n<Val>status-only</Val>\n</DAI>\n</DOI>\n<DOI name=\"BlkOpn\">\n<DAI name=\"ctlModel\">\n<Val>status-only</Val>\n</DAI>\n</DOI>\n</LN>\n<LN desc=\"Object 2\" inst=\"2\" lnClass=\"CSWI\" lnType=\"CSWI_0\" prefix=\"Obj2\">\n<DOI name=\"NamPlt\">\n<DAI name=\"vendor\">\n<Val>Schneider Electric</Val>\n</DAI>\n<DAI name=\"swRev\">\n<Val>1.0</Val>\n</DAI>\n<DAI name=\"d\">\n<Val>Object 2</Val>\n</DAI>\n</DOI>\n<DOI name=\"Pos\">\n<DAI name=\"ctlModel\">\n<Val>direct-with-normal-security</Val>\n</DAI>\n</DOI>\n<DOI name=\"BlkCls\">\n<DAI name=\"ctlModel\">\n<Val>status-only</Val>\n</DAI>\n</DOI>\n<DOI name=\"BlkOpn\">\n<DAI name=\"ctlModel\">\n<Val>status-only</Val>\n</DAI>\n</DOI>\n</LN>\n<LN desc=\"Object 3\" inst=\"3\" lnClass=\"CSWI\" lnType=\"CSWI_0\" prefix=\"Obj3\">\n<DOI name=\"NamPlt\">\n<DAI name=\"vendor\">\n<Val>Schneider Electric</Val>\n</DAI>\n<DAI name=\"swRev\">\n<Val>1.0</Val>\n</DAI>\n<DAI name=\"d\">\n<Val>Object 3</Val>\n</DAI>\n</DOI>\n<DOI name=\"Pos\">\n<DAI name=\"ctlModel\">\n<Val>direct-with-normal-security</Val>\n</DAI>\n</DOI>\n<DOI name=\"BlkCls\">\n<DAI name=\"ctlModel\">\n<Val>status-only</Val>\n</DAI>\n</DOI>\n<DOI name=\"BlkOpn\">\n<DAI name=\"ctlModel\">\n<Val>status-only</Val>\n</DAI>\n</DOI>\n</LN>\n<LN desc=\"I&gt;\" inst=\"1\" lnClass=\"PTOC\" lnType=\"PTOC_1\" prefix=\"OC1\">\n<DOI name=\"NamPlt\">\n<DAI name=\"vendor\">\n<Val>Schneider Electric</Val>\n</DAI>\n<DAI name=\"swRev\">\n<Val>1.0</Val>\n</DAI>\n<DAI name=\"d\">\n<Val>I&gt;</Val>\n</DAI>\n</DOI>\n<DOI name=\"StrVal\">\n<SDI name=\"units\">\n<DAI name=\"SIUnit\">\n<Val>pu</Val>\n</DAI>\n</SDI>\n</DOI>\n</LN>\n<LN desc=\"I&gt;&gt;\" inst=\"2\" lnClass=\"PTOC\" lnType=\"PTOC_0\" prefix=\"OC2\">\n<DOI name=\"NamPlt\">\n<DAI name=\"vendor\">\n<Val>Schneider Electric</Val>\n</DAI>\n<DAI name=\"swRev\">\n<Val>1.0</Val>\n</DAI>\n<DAI name=\"d\">\n<Val>I&gt;&gt;</Val>\n</DAI>\n</DOI>\n<DOI name=\"StrVal\">\n<SDI name=\"units\">\n<DAI name=\"SIUnit\">\n<Val>pu</Val>\n</DAI>\n</SDI>\n</DOI>\n</LN>\n<LN desc=\"I&gt;&gt;&gt;\" inst=\"3\" lnClass=\"PTOC\" lnType=\"PTOC_0\" prefix=\"OC3\">\n<DOI name=\"NamPlt\">\n<DAI name=\"vendor\">\n<Val>Schneider Electric</Val>\n</DAI>\n<DAI name=\"swRev\">\n<Val>1.0</Val>\n</DAI>\n<DAI name=\"d\">\n<Val>I&gt;&gt;&gt;</Val>\n</DAI>\n</DOI>\n<DOI name=\"StrVal\">\n<SDI name=\"units\">\n<DAI name=\"SIUnit\">\n<Val>pu</Val>\n</DAI>\n</SDI>\n</DOI>\n</LN>\n<LN desc=\"Release latches\" inst=\"141\" lnClass=\"GGIO\" lnType=\"GGIO_3\" prefix=\"ReLa\">\n<DOI name=\"NamPlt\">\n<DAI name=\"vendor\">\n<Val>Schneider Electric</Val>\n</DAI>\n<DAI name=\"swRev\">\n<Val>1.0</Val>\n</DAI>\n<DAI name=\"d\">\n<Val>Release latches</Val>\n</DAI>\n</DOI>\n<DOI name=\"SPCSO\">\n<DAI name=\"ctlModel\">\n<Val>direct-with-normal-security</Val>\n</DAI>\n</DOI>\n</LN>\n<LN desc=\"U12,U23,U31\" inst=\"5\" lnClass=\"MMXU\" lnType=\"MMXU_7\" prefix=\"U3pp\">\n<DOI name=\"NamPlt\">\n<DAI name=\"vendor\">\n<Val>Schneider Electric</Val>\n</DAI>\n<DAI name=\"swRev\">\n<Val>1.0</Val>\n</DAI>\n<DAI name=\"d\">\n<Val>U12,U23,U31</Val>\n</DAI>\n</DOI>\n<DOI name=\"PPV\">\n<SDI name=\"phsAB\">\n<SDI name=\"units\">\n<DAI name=\"SIUnit\">\n<Val>V</Val>\n</DAI>\n<DAI name=\"multiplier\">\n<Private type=\"SchneiderElectric-IEDPxx-dbItem\">I61850_MU</Private>\n<Val/>\n</DAI>\n</SDI>\n</SDI>\n<SDI name=\"phsBC\">\n<SDI name=\"units\">\n<DAI name=\"SIUnit\">\n<Val>V</Val>\n</DAI>\n<DAI name=\"multiplier\">\n<Private type=\"SchneiderElectric-IEDPxx-dbItem\">I61850_MU</Private>\n<Val/>\n</DAI>\n</SDI>\n</SDI>\n<SDI name=\"phsCA\">\n<SDI name=\"units\">\n<DAI name=\"SIUnit\">\n<Val>V</Val>\n</DAI>\n<DAI name=\"multiplier\">\n<Private type=\"SchneiderElectric-IEDPxx-dbItem\">I61850_MU</Private>\n<Val/>\n</DAI>\n</SDI>\n</SDI>\n</DOI>\n</LN>\n<LN desc=\"Virtual output 2\" inst=\"98\" lnClass=\"GGIO\" lnType=\"GGIO_0\" prefix=\"VO2\">\n<DOI name=\"NamPlt\">\n<DAI name=\"vendor\">\n<Val>Schneider Electric</Val>\n</DAI>\n<DAI name=\"swRev\">\n<Val>1.0</Val>\n</DAI>\n<DAI name=\"d\">\n<Val>Virtual output 2</Val>\n</DAI>\n</DOI>\n</LN>\n<LN desc=\"Virtual output 3\" inst=\"99\" lnClass=\"GGIO\" lnType=\"GGIO_0\" prefix=\"VO3\">\n<DOI name=\"NamPlt\">\n<DAI name=\"vendor\">\n<Val>Schneider Electric</Val>\n</DAI>\n<DAI name=\"swRev\">\n<Val>1.0</Val>\n</DAI>\n<DAI name=\"d\">\n<Val>Virtual output 3</Val>\n</DAI>\n</DOI>\n</LN>\n<LN desc=\"Virtual output 4\" inst=\"100\" lnClass=\"GGIO\" lnType=\"GGIO_0\" prefix=\"VO4\">\n<DOI name=\"NamPlt\">\n<DAI name=\"vendor\">\n<Val>Schneider Electric</Val>\n</DAI>\n<DAI name=\"swRev\">\n<Val>1.0</Val>\n</DAI>\n<DAI name=\"d\">\n<Val>Virtual output 4</Val>\n</DAI>\n</DOI>\n</LN>\n<LN desc=\"Virtual output 5\" inst=\"101\" lnClass=\"GGIO\" lnType=\"GGIO_0\" prefix=\"VO5\">\n<DOI name=\"NamPlt\">\n<DAI name=\"vendor\">\n<Val>Schneider Electric</Val>\n</DAI>\n<DAI name=\"swRev\">\n<Val>1.0</Val>\n</DAI>\n<DAI name=\"d\">\n<Val>Virtual output 5</Val>\n</DAI>\n</DOI>\n</LN>\n<LN desc=\"Virtual output 6\" inst=\"102\" lnClass=\"GGIO\" lnType=\"GGIO_0\" prefix=\"VO6\">\n<DOI name=\"NamPlt\">\n<DAI name=\"vendor\">\n<Val>Schneider Electric</Val>\n</DAI>\n<DAI name=\"swRev\">\n<Val>1.0</Val>\n</DAI>\n<DAI name=\"d\">\n<Val>Virtual output 6</Val>\n</DAI>\n</DOI>\n</LN>\n<LN desc=\"Arc master stage 1\" inst=\"5\" lnClass=\"PIOC\" lnType=\"PIOC_2\" prefix=\"ArcM1\">\n<DOI name=\"NamPlt\">\n<DAI name=\"vendor\">\n<Val>Schneider Electric</Val>\n</DAI>\n<DAI name=\"swRev\">\n<Val>1.0</Val>\n</DAI>\n<DAI name=\"d\">\n<Val>Arc master stage 1</Val>\n</DAI>\n</DOI>\n</LN>\n<LN inst=\"45\" lnClass=\"GGIO\" lnType=\"GGIO_0\" prefix=\"DI01\">\n<DOI name=\"NamPlt\">\n<DAI name=\"vendor\">\n<Val>Schneider Electric</Val>\n</DAI>\n<DAI name=\"swRev\">\n<Val>1.0</Val>\n</DAI>\n<DAI name=\"d\">\n<Val>Digital input 1</Val>\n</DAI>\n</DOI>\n</LN>\n</LDevice>"
     },
     "metadata": {},
     "output_type": "execute_result",
     "execution_count": 16
    }
   ],
   "source": [
    "ld"
   ],
   "metadata": {
    "collapsed": false,
    "pycharm": {
     "name": "#%%\n",
     "is_executing": false
    }
   }
  },
  {
   "cell_type": "code",
   "execution_count": null,
   "outputs": [],
   "source": [
    "ld.find_all('DataSet')"
   ],
   "metadata": {
    "collapsed": false,
    "pycharm": {
     "name": "#%%\n"
    }
   }
  },
  {
   "cell_type": "code",
   "execution_count": 7,
   "outputs": [],
   "source": [
    "lds = lds[1:]"
   ],
   "metadata": {
    "collapsed": false,
    "pycharm": {
     "name": "#%%\n",
     "is_executing": false
    }
   }
  },
  {
   "cell_type": "code",
   "execution_count": 17,
   "outputs": [],
   "source": [
    "with open(\"Cell_2_215.xml\", \"wb\") as f_output:\n",
    "    f_output.write(soup.prettify(\"utf-8\"))  "
   ],
   "metadata": {
    "collapsed": false,
    "pycharm": {
     "name": "#%%\n",
     "is_executing": false
    }
   }
  },
  {
   "cell_type": "code",
   "execution_count": 24,
   "outputs": [],
   "source": [
    "fd.close()"
   ],
   "metadata": {
    "collapsed": false,
    "pycharm": {
     "name": "#%%\n",
     "is_executing": false
    }
   }
  },
  {
   "cell_type": "code",
   "execution_count": null,
   "outputs": [],
   "source": [],
   "metadata": {
    "collapsed": false,
    "pycharm": {
     "name": "#%%"
    }
   }
  }
 ],
 "metadata": {
  "kernelspec": {
   "display_name": "Python 3",
   "language": "python",
   "name": "python3"
  },
  "language_info": {
   "codemirror_mode": {
    "name": "ipython",
    "version": 2
   },
   "file_extension": ".py",
   "mimetype": "text/x-python",
   "name": "python",
   "nbconvert_exporter": "python",
   "pygments_lexer": "ipython2",
   "version": "2.7.6"
  },
  "pycharm": {
   "stem_cell": {
    "cell_type": "raw",
    "source": [],
    "metadata": {
     "collapsed": false
    }
   }
  }
 },
 "nbformat": 4,
 "nbformat_minor": 0
}