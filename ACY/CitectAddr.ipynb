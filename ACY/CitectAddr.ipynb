{
 "cells": [
  {
   "cell_type": "code",
   "execution_count": 1,
   "outputs": [],
   "source": [
    "import pandas as pd\n",
    "\n",
    "from libScada import *"
   ],
   "metadata": {
    "collapsed": false,
    "pycharm": {
     "name": "#%%\n"
    }
   }
  },
  {
   "cell_type": "code",
   "execution_count": 3,
   "metadata": {
    "collapsed": true,
    "pycharm": {
     "name": "#%%\n"
    }
   },
   "outputs": [],
   "source": [
    "\n",
    "project = Project('Vostochnaya_v6')\n",
    "project.base.base_io.clear_dbf()\n",
    "project.base.base_equip.clear_dbf()\n",
    "project.base.base_tag.clear_dbf()\n",
    "project.base.base_trend.clear_dbf()\n",
    "project.base.base_alarmAnalog.clear_dbf()\n",
    "project.base.base_alarmDig.clear_dbf()\n",
    "project.copy_libfile(['libDevice.xlsx', 'setProject.xlsx'])"
   ]
  },
  {
   "cell_type": "code",
   "execution_count": 4,
   "outputs": [],
   "source": [
    "\n",
    "# project.create_dbf_from_xls([('boards', 'NAME'), ('ports', 'NAME')])\n",
    "\n",
    "# project.create_eqtype()\n",
    "project.create_io()\n",
    "# project.create_equip()\n",
    "project.create_equip(isCreateTag=True, typeCreateTag='IEC61850_104')\n",
    "# project.create_equip(isCreateTag=True, typeCreateTag='IEC61850_104', isCreateTrendsAnalog=False, isCreateAlarmAnalog=False)\n",
    "\n",
    "project.create_tag(project.df_tags, type='simple', replace=None, isCreateTags=True, isCreateTrendsAnalog=False, isCreateAlarmAnalog=False, isCreateAlarmDig=False)"
   ],
   "metadata": {
    "collapsed": false,
    "pycharm": {
     "name": "#%%\n"
    }
   }
  },
  {
   "cell_type": "code",
   "execution_count": 8,
   "outputs": [],
   "source": [
    "project.create_ci_file_sql()"
   ],
   "metadata": {
    "collapsed": false,
    "pycharm": {
     "name": "#%%\n"
    }
   }
  },
  {
   "cell_type": "code",
   "execution_count": 5,
   "outputs": [
    {
     "data": {
      "text/plain": "Empty DataFrame\nColumns: [NAME, TYPE, UNIT, ADDR, RAW_ZERO, RAW_FULL, ENG_ZERO, ENG_FULL, ENG_UNITS, FORMAT, COMMENT, EDITCODE, LINKED, OID, REF1, REF2, DEADBAND, CUSTOM, TAGGENLINK, CLUSTER, HISTORIAN, EQUIP, CUSTOM1, CUSTOM2, CUSTOM3, CUSTOM4, CUSTOM5, CUSTOM6, CUSTOM7, CUSTOM8, ITEM]\nIndex: []\n\n[0 rows x 31 columns]",
      "text/html": "<div>\n<style scoped>\n    .dataframe tbody tr th:only-of-type {\n        vertical-align: middle;\n    }\n\n    .dataframe tbody tr th {\n        vertical-align: top;\n    }\n\n    .dataframe thead th {\n        text-align: right;\n    }\n</style>\n<table border=\"1\" class=\"dataframe\">\n  <thead>\n    <tr style=\"text-align: right;\">\n      <th></th>\n      <th>NAME</th>\n      <th>TYPE</th>\n      <th>UNIT</th>\n      <th>ADDR</th>\n      <th>RAW_ZERO</th>\n      <th>RAW_FULL</th>\n      <th>ENG_ZERO</th>\n      <th>ENG_FULL</th>\n      <th>ENG_UNITS</th>\n      <th>FORMAT</th>\n      <th>...</th>\n      <th>EQUIP</th>\n      <th>CUSTOM1</th>\n      <th>CUSTOM2</th>\n      <th>CUSTOM3</th>\n      <th>CUSTOM4</th>\n      <th>CUSTOM5</th>\n      <th>CUSTOM6</th>\n      <th>CUSTOM7</th>\n      <th>CUSTOM8</th>\n      <th>ITEM</th>\n    </tr>\n  </thead>\n  <tbody>\n  </tbody>\n</table>\n<p>0 rows × 31 columns</p>\n</div>"
     },
     "execution_count": 5,
     "metadata": {},
     "output_type": "execute_result"
    }
   ],
   "source": [
    "project = Project('Vostochnaya_v6')\n",
    "dfScada = project.base.base_tag.dataframe()\n",
    "\n",
    "df = pd.read_excel(\"d:\\Восточная\\Новая папка\\pacisTags.xlsx\" , sheet_name=0, names=['tt'])\n",
    "df['addr'] =  list(df.index)\n",
    "df['addr'] += 200\n",
    "df.to_excel(\"d:\\Восточная\\Новая папка\\pacisTags1.xlsx\",sheet_name=\"dd\", index = False, header= True)\n",
    "\n",
    "\n",
    "ls_pacis = df['tt'].values.tolist()\n",
    "ls_pacis1 = []\n",
    "for tag in ls_pacis:\n",
    "    s1 = tag\n",
    "    if '/' in s1:\n",
    "       s1 = s1.replace('/', '_')\n",
    "    if '.' in s1:\n",
    "       s1 = s1.replace('.', '_')\n",
    "    if '_Local_zaz_of' in s1:\n",
    "        ls = s1.split('_')\n",
    "        iCell = int(ls[0][1:])\n",
    "        if iCell > 9:\n",
    "            s1 = s1 + 'f'\n",
    "    if s1.split('_')[0] == 'C12':\n",
    "        s1 = s1.replace('C12_', 'C11_')\n",
    "    ls_pacis1.append(s1)\n",
    "\n",
    "df['tt1'] = ls_pacis1\n",
    "\n",
    "\n",
    "df1 = project.base.base_tag.dataframe()\n",
    "df1 = df1[df1['TYPE'] != 'REAL']\n",
    "tags = df1['NAME'].values.tolist()\n",
    "tags1 = []\n",
    "for tag in tags:\n",
    "    ls = tag.split('_')\n",
    "    s1 = ls[0]\n",
    "    s2 = ls[1]\n",
    "    if s1 == 'Cell' or s1 == 'RZA':\n",
    "        s1 = s1[:1]\n",
    "    if s1 == 'SHVR' or s1 == 'ASUTP':\n",
    "        s2 = ''\n",
    "    s3 = s1 + s2 + '_'  + '_'.join(ls[2:])\n",
    "    if not ('Comm' in tag or 'Command' in tag):\n",
    "        tags1.append(s3)\n",
    "\n",
    "\n",
    "lsPropusk = []\n",
    "for tag in tags1:\n",
    "    if tag not in ls_pacis1:\n",
    "        lsPropusk.append(tag)\n",
    "\n",
    "\n",
    "df2 = pd.DataFrame()\n",
    "df2['t1'] = df1['NAME'].values.tolist()\n",
    "\n",
    "tags = df1['NAME'].values.tolist()\n",
    "tags1 = []\n",
    "for tag in tags:\n",
    "    ls = tag.split('_')\n",
    "    s1 = ls[0]\n",
    "    s2 = ls[1]\n",
    "    if s1 == 'Cell' or s1 == 'RZA':\n",
    "        s1 = s1[:1]\n",
    "    if s1 == 'SHVR' or s1 == 'ASUTP':\n",
    "        s2 = ''\n",
    "    s3 = s1 + s2 + '_'  + '_'.join(ls[2:])\n",
    "    tags1.append(s3)\n",
    "\n",
    "df2['t2'] = tags1\n",
    "\n",
    "\n",
    "for index, row in df2.iterrows():\n",
    "    dft = df[df['tt1'] == row['t2']]\n",
    "    if len(dft) != 0:\n",
    "        srScada = dfScada[dfScada['NAME']==row['t1']]\n",
    "        index = srScada.index.values[0]\n",
    "        typ = srScada['TYPE'].values[0]\n",
    "        addr = str(dft['addr'].values[0])\n",
    "        if typ == 'DIGITAL':\n",
    "            addr = 'SD' + addr\n",
    "        if typ == 'INT':\n",
    "            addr = 'SI' + addr\n",
    "        if typ == 'REAL':\n",
    "            addr = 'SF' + addr\n",
    "\n",
    "        dfScada.loc[index, 'ADDR'] = addr\n",
    "\n",
    "df6 = df2.copy()\n",
    "\n",
    "# ---------------------------------------------------------------------------------------------------------\n",
    "df = pd.read_excel(\"d:\\Восточная\\Новая папка\\pacisTagsReal.xlsx\" , sheet_name=0, names=['tt'])\n",
    "df['addr'] =  list(df.index)\n",
    "df['addr'] += 2000\n",
    "df.to_excel(\"d:\\Восточная\\Новая папка\\pacisTagsReal1.xlsx\",sheet_name=\"dd\", index = False, header= True)\n",
    "\n",
    "\n",
    "ls_pacis = df['tt'].values.tolist()\n",
    "ls_pacis1 = []\n",
    "for tag in ls_pacis:\n",
    "    s1 = tag\n",
    "    if '/' in s1:\n",
    "       s1 = s1.replace('/', '_')\n",
    "    if '.' in s1:\n",
    "       s1 = s1.replace('.', '_')\n",
    "    if '_uAC' in s1:\n",
    "       s1 = s1.replace('_uAC', '_uCA')\n",
    "    if '_3U0' in s1:\n",
    "       s1 = s1.replace('_3U0', '_u30')\n",
    "    if s1.split('_')[0] == 'C12':\n",
    "        s1 = s1.replace('C12_', 'C11_')\n",
    "    ls_pacis1.append(s1)\n",
    "\n",
    "df['tt1'] = ls_pacis1\n",
    "\n",
    "\n",
    "df1 = project.base.base_tag.dataframe()\n",
    "df1 = df1[df1['TYPE'] == 'REAL']\n",
    "tags = df1['NAME'].values.tolist()\n",
    "tags1 = []\n",
    "for tag in tags:\n",
    "    ls = tag.split('_')\n",
    "    s1 = ls[0]\n",
    "    s2 = ls[1]\n",
    "    if s1 == 'Cell' or s1 == 'RZA':\n",
    "        s1 = s1[:1]\n",
    "    if s1 == 'SHVR' or s1 == 'ASUTP':\n",
    "        s2 = ''\n",
    "    s3 = s1 + s2 + '_'  + '_'.join(ls[2:])\n",
    "    if not ('Comm' in tag or 'Command' in tag):\n",
    "        tags1.append(s3)\n",
    "\n",
    "\n",
    "for tag in tags1:\n",
    "    if tag not in ls_pacis1:\n",
    "        lsPropusk.append(tag)\n",
    "\n",
    "\n",
    "df2 = pd.DataFrame()\n",
    "df2['t1'] = df1['NAME'].values.tolist()\n",
    "\n",
    "tags = df1['NAME'].values.tolist()\n",
    "tags1 = []\n",
    "for tag in tags:\n",
    "    ls = tag.split('_')\n",
    "    s1 = ls[0]\n",
    "    s2 = ls[1]\n",
    "    if s1 == 'Cell' or s1 == 'RZA':\n",
    "        s1 = s1[:1]\n",
    "    if s1 == 'SHVR' or s1 == 'ASUTP':\n",
    "        s2 = ''\n",
    "    s3 = s1 + s2 + '_'  + '_'.join(ls[2:])\n",
    "    tags1.append(s3)\n",
    "\n",
    "df2['t2'] = tags1\n",
    "\n",
    "\n",
    "# dfScada = project.base.base_tag.dataframe()\n",
    "for index, row in df2.iterrows():\n",
    "    dft = df[df['tt1'] == row['t2']]\n",
    "    if len(dft) != 0:\n",
    "        srScada = dfScada[dfScada['NAME']==row['t1']]\n",
    "        index = srScada.index.values[0]\n",
    "        typ = srScada['TYPE'].values[0]\n",
    "        addr = str(dft['addr'].values[0])\n",
    "        if typ == 'DIGITAL':\n",
    "            addr = 'SD' + addr\n",
    "        if typ == 'INT':\n",
    "            addr = 'SI' + addr\n",
    "        if typ == 'REAL':\n",
    "            addr = 'SF' + addr\n",
    "\n",
    "        dfScada.loc[index, 'ADDR'] = addr\n",
    "\n",
    "df6 = pd.concat([df6,df2])\n",
    "# ----------------------------------------------------------------------------------------------------------\n",
    "\n",
    "df = pd.read_excel(\"d:\\Восточная\\Новая папка\\pacisTagsComm.xlsx\" , sheet_name=0, names=['tt'])\n",
    "df['addr'] =  list(df.index)\n",
    "df['addr'] += 1500\n",
    "df.to_excel(\"d:\\Восточная\\Новая папка\\pacisTagsComm1.xlsx\",sheet_name=\"dd\", index = False, header= True)\n",
    "\n",
    "\n",
    "ls_pacis = df['tt'].values.tolist()\n",
    "ls_pacis1 = []\n",
    "for tag in ls_pacis:\n",
    "    s1 = tag\n",
    "    if '/' in s1:\n",
    "       s1 = s1.replace('/', '_')\n",
    "    if '.' in s1:\n",
    "       s1 = s1.replace('.', '_')\n",
    "    if s1.split('_')[0] == 'C12':\n",
    "        s1 = s1.replace('C12_', 'C11_')\n",
    "    ls_pacis1.append(s1)\n",
    "\n",
    "df['tt1'] = ls_pacis1\n",
    "\n",
    "\n",
    "df1 = project.base.base_tag.dataframe()\n",
    "df1 = df1[df1['TYPE'] != 'REAL']\n",
    "tags = df1['NAME'].values.tolist()\n",
    "tags1 = []\n",
    "for tag in tags:\n",
    "    ls = tag.split('_')\n",
    "    s1 = ls[0]\n",
    "    s2 = ls[1]\n",
    "    if s1 == 'Cell' or s1 == 'RZA':\n",
    "        s1 = s1[:1]\n",
    "    if s1 == 'SHVR' or s1 == 'ASUTP':\n",
    "        s2 = ''\n",
    "    s3 = s1 + s2 + '_'  + '_'.join(ls[2:])\n",
    "    if 'Comm' in tag or 'Command' in tag:\n",
    "        tags1.append(s3)\n",
    "\n",
    "\n",
    "for tag in tags1:\n",
    "    if tag not in ls_pacis1:\n",
    "        lsPropusk.append(tag)\n",
    "\n",
    "df2 = pd.DataFrame()\n",
    "df2['t1'] = df1['NAME'].values.tolist()\n",
    "\n",
    "tags = df1['NAME'].values.tolist()\n",
    "tags1 = []\n",
    "for tag in tags:\n",
    "    ls = tag.split('_')\n",
    "    s1 = ls[0]\n",
    "    s2 = ls[1]\n",
    "    if s1 == 'Cell' or s1 == 'RZA':\n",
    "        s1 = s1[:1]\n",
    "    if s1 == 'SHVR' or s1 == 'ASUTP':\n",
    "        s2 = ''\n",
    "    s3 = s1 + s2 + '_'  + '_'.join(ls[2:])\n",
    "    tags1.append(s3)\n",
    "\n",
    "df2['t2'] = tags1\n",
    "\n",
    "\n",
    "# dfScada = project.base.base_tag.dataframe()\n",
    "for index, row in df2.iterrows():\n",
    "    dft = df[df['tt1'] == row['t2']]\n",
    "    if len(dft) != 0:\n",
    "        srScada = dfScada[dfScada['NAME']==row['t1']]\n",
    "        index = srScada.index.values[0]\n",
    "        typ = srScada['TYPE'].values[0]\n",
    "        addr = str(dft['addr'].values[0])\n",
    "        # if typ == 'DIGITAL':\n",
    "        #     addr = 'SD' + addr\n",
    "        # if typ == 'INT':\n",
    "        #     addr = 'SI' + addr\n",
    "        # if typ == 'REAL':\n",
    "        #     addr = 'SF' + addr\n",
    "        addr = 'C' + addr\n",
    "\n",
    "        dfScada.loc[index, 'ADDR'] = addr\n",
    "\n",
    "df6 = pd.concat([df6,df2])\n",
    "# ----------------------------------------------------------------------------------------------------\n",
    "\n",
    "index = 10000\n",
    "df5 = dfScada[dfScada['ADDR'] == '']\n",
    "\n",
    "for ind, row in df5.iterrows():\n",
    "    typ = row['TYPE']\n",
    "    addr1 = str(index)\n",
    "    addr = 'C' + addr1\n",
    "    if typ == 'DIGITAL':\n",
    "        addr = 'SD' + addr1\n",
    "    if typ == 'INT':\n",
    "        addr = 'SI' + addr1\n",
    "    if typ == 'REAL':\n",
    "        addr = 'SF' + addr1\n",
    "\n",
    "    index += 1\n",
    "    dfScada.loc[ind, 'ADDR'] = addr\n",
    "\n",
    "project.base.base_tag.clear_dbf()\n",
    "project.base.base_tag.to_dataframe_dbf(dfScada)\n",
    "\n",
    "\n",
    "dfScada[dfScada['ADDR'] == '']\n",
    "# lsPropusk"
   ],
   "metadata": {
    "collapsed": false,
    "pycharm": {
     "name": "#%%\n"
    }
   }
  },
  {
   "cell_type": "code",
   "execution_count": 6,
   "outputs": [
    {
     "data": {
      "text/plain": "                        t1                    t2\n0         Cell_2_FailureTN          C2_FailureTN\n1            Cell_2_VE_pos             C2_VE_pos\n2        Cell_2_Command_VE         C2_Command_VE\n3       Cell_2_Command_ZAZ        C2_Command_ZAZ\n4           Cell_2_ZAZ_pos            C2_ZAZ_pos\n..                     ...                   ...\n853  tireSection35kB_2_SW2  tireSection35kB2_SW2\n854        zazSection6kB_1       zazSection6kB1_\n855        zazSection6kB_2       zazSection6kB2_\n856   tireSection35kB_CB_1   tireSection35kBCB_1\n857   tireSection35kB_CB_2   tireSection35kBCB_2\n\n[2011 rows x 2 columns]",
      "text/html": "<div>\n<style scoped>\n    .dataframe tbody tr th:only-of-type {\n        vertical-align: middle;\n    }\n\n    .dataframe tbody tr th {\n        vertical-align: top;\n    }\n\n    .dataframe thead th {\n        text-align: right;\n    }\n</style>\n<table border=\"1\" class=\"dataframe\">\n  <thead>\n    <tr style=\"text-align: right;\">\n      <th></th>\n      <th>t1</th>\n      <th>t2</th>\n    </tr>\n  </thead>\n  <tbody>\n    <tr>\n      <th>0</th>\n      <td>Cell_2_FailureTN</td>\n      <td>C2_FailureTN</td>\n    </tr>\n    <tr>\n      <th>1</th>\n      <td>Cell_2_VE_pos</td>\n      <td>C2_VE_pos</td>\n    </tr>\n    <tr>\n      <th>2</th>\n      <td>Cell_2_Command_VE</td>\n      <td>C2_Command_VE</td>\n    </tr>\n    <tr>\n      <th>3</th>\n      <td>Cell_2_Command_ZAZ</td>\n      <td>C2_Command_ZAZ</td>\n    </tr>\n    <tr>\n      <th>4</th>\n      <td>Cell_2_ZAZ_pos</td>\n      <td>C2_ZAZ_pos</td>\n    </tr>\n    <tr>\n      <th>...</th>\n      <td>...</td>\n      <td>...</td>\n    </tr>\n    <tr>\n      <th>853</th>\n      <td>tireSection35kB_2_SW2</td>\n      <td>tireSection35kB2_SW2</td>\n    </tr>\n    <tr>\n      <th>854</th>\n      <td>zazSection6kB_1</td>\n      <td>zazSection6kB1_</td>\n    </tr>\n    <tr>\n      <th>855</th>\n      <td>zazSection6kB_2</td>\n      <td>zazSection6kB2_</td>\n    </tr>\n    <tr>\n      <th>856</th>\n      <td>tireSection35kB_CB_1</td>\n      <td>tireSection35kBCB_1</td>\n    </tr>\n    <tr>\n      <th>857</th>\n      <td>tireSection35kB_CB_2</td>\n      <td>tireSection35kBCB_2</td>\n    </tr>\n  </tbody>\n</table>\n<p>2011 rows × 2 columns</p>\n</div>"
     },
     "execution_count": 6,
     "metadata": {},
     "output_type": "execute_result"
    }
   ],
   "source": [
    "df6"
   ],
   "metadata": {
    "collapsed": false,
    "pycharm": {
     "name": "#%%\n"
    }
   }
  },
  {
   "cell_type": "code",
   "execution_count": 7,
   "outputs": [
    {
     "data": {
      "text/plain": "['C2_ResetMPRZA',\n 'C5_LZSH',\n 'C19_LZSH',\n 'C21_ResetMPRZA',\n 'C21_Local_ve_on',\n 'C21_Local_ve_off',\n 'C21_Local_zaz_on',\n 'C21_Local_zaz_off',\n 'R1_ResetMPRZA',\n 'R2_FormAv_QT2H_off',\n 'R4_ResetMPRZA',\n 'R5_FormAv_QT1H_off',\n 'R1_RPN_pos',\n 'R4_RPN_pos',\n 'SHOC1_Avt_enterAC_off',\n 'SHOC1_Avt_enterDC_off',\n 'SHOC1_Avt_enterAB_off',\n 'SHOC1_Avt_lineDC1_off',\n 'SHOC1_Avt_lineDC2_off',\n 'SHOC1_Fault',\n 'SHOC1_Alarm',\n 'SHOC1_Sign_SH',\n 'SHVP1_Entry1_04_on',\n 'SHVP1_Entry1_04_off',\n 'SHVP1_LightOff',\n 'SHVP1_Com_Light_out_on',\n 'SHVP1_Com_Light_out_off',\n 'SHVP2_Entry2_04_on',\n 'SHVP2_Entry2_04_off',\n 'SHVR_VentZPK_off',\n 'SHVR_Fault_ZPK',\n 'SHVR_VentZRP_off',\n 'SHVR_Fault_ZRP',\n 'ASUTP_DoorZPK_open',\n 'ASUTP_DoorZRP_open',\n 'ASUTP_DoorZPK_ZRP_open',\n 'ASUTP_Fire_alarm',\n 'tireSection6kB1_',\n 'tireSection6kB2_',\n 'tireSection35kB1_',\n 'tireSection35kB2_',\n 'tireSection35kB1_IN',\n 'tireSection35kB1_SW1',\n 'tireSection35kB1_CB',\n 'tireSection35kB2_IN',\n 'tireSection35kB2_SW1',\n 'tireSection35kB2_CB',\n 'tireSection35kB1_SW2',\n 'tireSection35kB2_SW2',\n 'zazSection6kB1_',\n 'zazSection6kB2_',\n 'tireSection35kBCB_1',\n 'tireSection35kBCB_2',\n 'C2_T_bay',\n 'C21_T_bay',\n 'SHOC1_iDC1',\n 'SHOC1_iDC2',\n 'SHOC1_iDCAB',\n 'SHOC1_uDC1',\n 'SHOC1_uDC2',\n 'SHOC1_uDCAB',\n 'SHVR_T_ZPK',\n 'SHVR_T_ZRP6',\n 'ASUTP_T_asutp',\n 'ASUTP_T_sign',\n 'R5_Comm_QSG1_2',\n 'SHVR_Comm_VentZPK_on',\n 'SHVR_Comm_VentZPK_off',\n 'SHVR_Comm_VentZRP_on',\n 'SHVR_Comm_VentZRP_off']"
     },
     "execution_count": 7,
     "metadata": {},
     "output_type": "execute_result"
    }
   ],
   "source": [
    "lsPropusk"
   ],
   "metadata": {
    "collapsed": false,
    "pycharm": {
     "name": "#%%\n"
    }
   }
  },
  {
   "cell_type": "code",
   "execution_count": 6,
   "outputs": [],
   "source": [
    "lsPropusk1 = [df6[df6['t2'] == x]['t1'].values[0] for x in lsPropusk]"
   ],
   "metadata": {
    "collapsed": false,
    "pycharm": {
     "name": "#%%\n"
    }
   }
  },
  {
   "cell_type": "code",
   "execution_count": 7,
   "outputs": [
    {
     "data": {
      "text/plain": "                       NAME     TYPE      UNIT     ADDR RAW_ZERO RAW_FULL  \\\n8         Cell_2_ResetMPRZA  DIGITAL  MICOM264  SD10000                     \n25             Cell_2_T_bay     REAL  MICOM264  SF10001                     \n129             Cell_5_LZSH  DIGITAL  MICOM264  SD10002                     \n755            Cell_19_LZSH  DIGITAL  MICOM264  SD10003                     \n854      Cell_21_ResetMPRZA  DIGITAL  MICOM264  SD10004                     \n...                     ...      ...       ...      ...      ...      ...   \n1142  tireSection35kB_2_SW2  DIGITAL  Internal  SD10059                     \n1143        zazSection6kB_1  DIGITAL  Internal  SD10060                     \n1144        zazSection6kB_2  DIGITAL  Internal  SD10061                     \n1145   tireSection35kB_CB_1  DIGITAL  Internal  SD10062                     \n1146   tireSection35kB_CB_2  DIGITAL  Internal  SD10063                     \n\n     ENG_ZERO ENG_FULL ENG_UNITS FORMAT  ...                        EQUIP  \\\n8                                        ...   Cell_2_TH6_P3U30_protectTN   \n25                             t    ###  ...   Cell_2_TH6_P3U30_protectTN   \n129                                      ...      Cell_5_IN6_P3F30_enter6   \n755                                      ...     Cell_19_IN6_P3F30_enter6   \n854                                      ...  Cell_21_TH6_P3U30_protectTN   \n...       ...      ...       ...    ...  ...                          ...   \n1142                                     ...                                \n1143                                     ...                                \n1144                                     ...                                \n1145                                     ...                                \n1146                                     ...                                \n\n     CUSTOM1 CUSTOM2 CUSTOM3 CUSTOM4 CUSTOM5 CUSTOM6 CUSTOM7 CUSTOM8  \\\n8                                         MD                           \n25                                                                     \n129                                       PR                           \n755                                       PR                           \n854                                       MD                           \n...      ...     ...     ...     ...     ...     ...     ...     ...   \n1142                                                                   \n1143                                                                   \n1144                                                                   \n1145                                                                   \n1146                                                                   \n\n                 ITEM  \n8     ReLaGGIO141\\Ind  \n25          GGIO8\\Ind  \n129    LO08GGIO84\\Ind  \n755    LO08GGIO84\\Ind  \n854   ReLaGGIO141\\Ind  \n...               ...  \n1142                   \n1143                   \n1144                   \n1145                   \n1146                   \n\n[64 rows x 31 columns]",
      "text/html": "<div>\n<style scoped>\n    .dataframe tbody tr th:only-of-type {\n        vertical-align: middle;\n    }\n\n    .dataframe tbody tr th {\n        vertical-align: top;\n    }\n\n    .dataframe thead th {\n        text-align: right;\n    }\n</style>\n<table border=\"1\" class=\"dataframe\">\n  <thead>\n    <tr style=\"text-align: right;\">\n      <th></th>\n      <th>NAME</th>\n      <th>TYPE</th>\n      <th>UNIT</th>\n      <th>ADDR</th>\n      <th>RAW_ZERO</th>\n      <th>RAW_FULL</th>\n      <th>ENG_ZERO</th>\n      <th>ENG_FULL</th>\n      <th>ENG_UNITS</th>\n      <th>FORMAT</th>\n      <th>...</th>\n      <th>EQUIP</th>\n      <th>CUSTOM1</th>\n      <th>CUSTOM2</th>\n      <th>CUSTOM3</th>\n      <th>CUSTOM4</th>\n      <th>CUSTOM5</th>\n      <th>CUSTOM6</th>\n      <th>CUSTOM7</th>\n      <th>CUSTOM8</th>\n      <th>ITEM</th>\n    </tr>\n  </thead>\n  <tbody>\n    <tr>\n      <th>8</th>\n      <td>Cell_2_ResetMPRZA</td>\n      <td>DIGITAL</td>\n      <td>MICOM264</td>\n      <td>SD10000</td>\n      <td></td>\n      <td></td>\n      <td></td>\n      <td></td>\n      <td></td>\n      <td></td>\n      <td>...</td>\n      <td>Cell_2_TH6_P3U30_protectTN</td>\n      <td></td>\n      <td></td>\n      <td></td>\n      <td></td>\n      <td>MD</td>\n      <td></td>\n      <td></td>\n      <td></td>\n      <td>ReLaGGIO141\\Ind</td>\n    </tr>\n    <tr>\n      <th>25</th>\n      <td>Cell_2_T_bay</td>\n      <td>REAL</td>\n      <td>MICOM264</td>\n      <td>SF10001</td>\n      <td></td>\n      <td></td>\n      <td></td>\n      <td></td>\n      <td>t</td>\n      <td>###</td>\n      <td>...</td>\n      <td>Cell_2_TH6_P3U30_protectTN</td>\n      <td></td>\n      <td></td>\n      <td></td>\n      <td></td>\n      <td></td>\n      <td></td>\n      <td></td>\n      <td></td>\n      <td>GGIO8\\Ind</td>\n    </tr>\n    <tr>\n      <th>129</th>\n      <td>Cell_5_LZSH</td>\n      <td>DIGITAL</td>\n      <td>MICOM264</td>\n      <td>SD10002</td>\n      <td></td>\n      <td></td>\n      <td></td>\n      <td></td>\n      <td></td>\n      <td></td>\n      <td>...</td>\n      <td>Cell_5_IN6_P3F30_enter6</td>\n      <td></td>\n      <td></td>\n      <td></td>\n      <td></td>\n      <td>PR</td>\n      <td></td>\n      <td></td>\n      <td></td>\n      <td>LO08GGIO84\\Ind</td>\n    </tr>\n    <tr>\n      <th>755</th>\n      <td>Cell_19_LZSH</td>\n      <td>DIGITAL</td>\n      <td>MICOM264</td>\n      <td>SD10003</td>\n      <td></td>\n      <td></td>\n      <td></td>\n      <td></td>\n      <td></td>\n      <td></td>\n      <td>...</td>\n      <td>Cell_19_IN6_P3F30_enter6</td>\n      <td></td>\n      <td></td>\n      <td></td>\n      <td></td>\n      <td>PR</td>\n      <td></td>\n      <td></td>\n      <td></td>\n      <td>LO08GGIO84\\Ind</td>\n    </tr>\n    <tr>\n      <th>854</th>\n      <td>Cell_21_ResetMPRZA</td>\n      <td>DIGITAL</td>\n      <td>MICOM264</td>\n      <td>SD10004</td>\n      <td></td>\n      <td></td>\n      <td></td>\n      <td></td>\n      <td></td>\n      <td></td>\n      <td>...</td>\n      <td>Cell_21_TH6_P3U30_protectTN</td>\n      <td></td>\n      <td></td>\n      <td></td>\n      <td></td>\n      <td>MD</td>\n      <td></td>\n      <td></td>\n      <td></td>\n      <td>ReLaGGIO141\\Ind</td>\n    </tr>\n    <tr>\n      <th>...</th>\n      <td>...</td>\n      <td>...</td>\n      <td>...</td>\n      <td>...</td>\n      <td>...</td>\n      <td>...</td>\n      <td>...</td>\n      <td>...</td>\n      <td>...</td>\n      <td>...</td>\n      <td>...</td>\n      <td>...</td>\n      <td>...</td>\n      <td>...</td>\n      <td>...</td>\n      <td>...</td>\n      <td>...</td>\n      <td>...</td>\n      <td>...</td>\n      <td>...</td>\n      <td>...</td>\n    </tr>\n    <tr>\n      <th>1142</th>\n      <td>tireSection35kB_2_SW2</td>\n      <td>DIGITAL</td>\n      <td>Internal</td>\n      <td>SD10059</td>\n      <td></td>\n      <td></td>\n      <td></td>\n      <td></td>\n      <td></td>\n      <td></td>\n      <td>...</td>\n      <td></td>\n      <td></td>\n      <td></td>\n      <td></td>\n      <td></td>\n      <td></td>\n      <td></td>\n      <td></td>\n      <td></td>\n      <td></td>\n    </tr>\n    <tr>\n      <th>1143</th>\n      <td>zazSection6kB_1</td>\n      <td>DIGITAL</td>\n      <td>Internal</td>\n      <td>SD10060</td>\n      <td></td>\n      <td></td>\n      <td></td>\n      <td></td>\n      <td></td>\n      <td></td>\n      <td>...</td>\n      <td></td>\n      <td></td>\n      <td></td>\n      <td></td>\n      <td></td>\n      <td></td>\n      <td></td>\n      <td></td>\n      <td></td>\n      <td></td>\n    </tr>\n    <tr>\n      <th>1144</th>\n      <td>zazSection6kB_2</td>\n      <td>DIGITAL</td>\n      <td>Internal</td>\n      <td>SD10061</td>\n      <td></td>\n      <td></td>\n      <td></td>\n      <td></td>\n      <td></td>\n      <td></td>\n      <td>...</td>\n      <td></td>\n      <td></td>\n      <td></td>\n      <td></td>\n      <td></td>\n      <td></td>\n      <td></td>\n      <td></td>\n      <td></td>\n      <td></td>\n    </tr>\n    <tr>\n      <th>1145</th>\n      <td>tireSection35kB_CB_1</td>\n      <td>DIGITAL</td>\n      <td>Internal</td>\n      <td>SD10062</td>\n      <td></td>\n      <td></td>\n      <td></td>\n      <td></td>\n      <td></td>\n      <td></td>\n      <td>...</td>\n      <td></td>\n      <td></td>\n      <td></td>\n      <td></td>\n      <td></td>\n      <td></td>\n      <td></td>\n      <td></td>\n      <td></td>\n      <td></td>\n    </tr>\n    <tr>\n      <th>1146</th>\n      <td>tireSection35kB_CB_2</td>\n      <td>DIGITAL</td>\n      <td>Internal</td>\n      <td>SD10063</td>\n      <td></td>\n      <td></td>\n      <td></td>\n      <td></td>\n      <td></td>\n      <td></td>\n      <td>...</td>\n      <td></td>\n      <td></td>\n      <td></td>\n      <td></td>\n      <td></td>\n      <td></td>\n      <td></td>\n      <td></td>\n      <td></td>\n      <td></td>\n    </tr>\n  </tbody>\n</table>\n<p>64 rows × 31 columns</p>\n</div>"
     },
     "execution_count": 7,
     "metadata": {},
     "output_type": "execute_result"
    }
   ],
   "source": [
    "dfScada[dfScada['NAME'].isin(lsPropusk1)]"
   ],
   "metadata": {
    "collapsed": false,
    "pycharm": {
     "name": "#%%\n"
    }
   }
  },
  {
   "cell_type": "code",
   "execution_count": null,
   "outputs": [],
   "source": [],
   "metadata": {
    "collapsed": false,
    "pycharm": {
     "name": "#%%\n"
    }
   }
  }
 ],
 "metadata": {
  "kernelspec": {
   "display_name": "Python 3",
   "language": "python",
   "name": "python3"
  },
  "language_info": {
   "codemirror_mode": {
    "name": "ipython",
    "version": 2
   },
   "file_extension": ".py",
   "mimetype": "text/x-python",
   "name": "python",
   "nbconvert_exporter": "python",
   "pygments_lexer": "ipython2",
   "version": "2.7.6"
  }
 },
 "nbformat": 4,
 "nbformat_minor": 0
}