{
 "cells": [
  {
   "cell_type": "code",
   "execution_count": 14,
   "outputs": [],
   "source": [
    "s1 = '1-В5'"
   ],
   "metadata": {
    "collapsed": false,
    "pycharm": {
     "name": "#%%\n"
    }
   }
  },
  {
   "cell_type": "code",
   "execution_count": 15,
   "outputs": [
    {
     "data": {
      "text/plain": "<re.Match object; span=(0, 3), match='1-В'>"
     },
     "execution_count": 15,
     "metadata": {},
     "output_type": "execute_result"
    }
   ],
   "source": [
    "re.match(r'^[1-3]-[ВБ]' , s1)"
   ],
   "metadata": {
    "collapsed": false,
    "pycharm": {
     "name": "#%%\n"
    }
   }
  },
  {
   "cell_type": "code",
   "execution_count": 1,
   "outputs": [],
   "source": [
    "import numpy as np\n",
    "\n",
    "\n",
    "class Tools:\n",
    "    def __init__(self):\n",
    "        self.df = None\n",
    "\n",
    "\n",
    "    def get_loc(self, loc):\n",
    "        ls = loc.split('-')\n",
    "        st = ls[0]\n",
    "        pr = ls[1]\n",
    "        if len(pr) == 2:\n",
    "            p = pr[0]\n",
    "            r = pr[1]\n",
    "        else:\n",
    "            p = pr[0:2]\n",
    "            r = pr[2]\n",
    "        return st, p, r\n",
    "\n",
    "    # выбрать из списка ls1 число ближйшее к заданному\n",
    "    def find_nearest(self, ls, value):\n",
    "        ls = np.array(ls)\n",
    "        idx = (np.abs(ls - value)).argmin()\n",
    "        return ls[idx]\n",
    "\n",
    "    def get_nearest_sh(self, df_ls_sh_p, loc, pit):\n",
    "        st, p, r = self.get_loc(loc)\n",
    "        ls1 = df_ls_sh_p[(df_ls_sh_p['st'] == st) & (df_ls_sh_p['pit'] == pit)]['p']\n",
    "        if len(ls1) > 0:\n",
    "            ls1 = ls1.values[0]\n",
    "            ls1 = [int(x) for x in ls1]\n",
    "            return self.find_nearest(ls1, int(p))"
   ],
   "metadata": {
    "collapsed": false,
    "pycharm": {
     "name": "#%%\n"
    }
   }
  },
  {
   "cell_type": "code",
   "execution_count": 2,
   "outputs": [],
   "source": [
    "ts = Tools()"
   ],
   "metadata": {
    "collapsed": false,
    "pycharm": {
     "name": "#%%\n"
    }
   }
  },
  {
   "cell_type": "code",
   "execution_count": 3,
   "outputs": [
    {
     "data": {
      "text/plain": "('2', '6', '8')"
     },
     "execution_count": 3,
     "metadata": {},
     "output_type": "execute_result"
    }
   ],
   "source": [
    "ts.get_loc('2-68')"
   ],
   "metadata": {
    "collapsed": false,
    "pycharm": {
     "name": "#%%\n"
    }
   }
  },
  {
   "cell_type": "code",
   "execution_count": null,
   "outputs": [],
   "source": [],
   "metadata": {
    "collapsed": false,
    "pycharm": {
     "name": "#%%\n"
    }
   }
  },
  {
   "cell_type": "code",
   "execution_count": null,
   "outputs": [],
   "source": [],
   "metadata": {
    "collapsed": false,
    "pycharm": {
     "name": "#%%\n"
    }
   }
  },
  {
   "cell_type": "code",
   "execution_count": null,
   "outputs": [],
   "source": [],
   "metadata": {
    "collapsed": false,
    "pycharm": {
     "name": "#%%\n"
    }
   }
  },
  {
   "cell_type": "code",
   "execution_count": null,
   "outputs": [],
   "source": [],
   "metadata": {
    "collapsed": false,
    "pycharm": {
     "name": "#%%\n"
    }
   }
  },
  {
   "cell_type": "code",
   "execution_count": null,
   "outputs": [],
   "source": [],
   "metadata": {
    "collapsed": false,
    "pycharm": {
     "name": "#%%\n"
    }
   }
  },
  {
   "cell_type": "code",
   "execution_count": null,
   "outputs": [],
   "source": [],
   "metadata": {
    "collapsed": false,
    "pycharm": {
     "name": "#%%\n"
    }
   }
  },
  {
   "cell_type": "code",
   "execution_count": null,
   "outputs": [],
   "source": [],
   "metadata": {
    "collapsed": false,
    "pycharm": {
     "name": "#%%\n"
    }
   }
  },
  {
   "cell_type": "code",
   "execution_count": null,
   "outputs": [],
   "source": [],
   "metadata": {
    "collapsed": false,
    "pycharm": {
     "name": "#%%\n"
    }
   }
  },
  {
   "cell_type": "code",
   "execution_count": 40,
   "outputs": [],
   "source": [
    "import kompas3d as kp"
   ],
   "metadata": {
    "collapsed": false,
    "pycharm": {
     "name": "#%%\n"
    }
   }
  },
  {
   "cell_type": "code",
   "execution_count": 178,
   "outputs": [],
   "source": [
    "from kompas3d import kAPI5, kAPI7"
   ],
   "metadata": {
    "collapsed": false,
    "pycharm": {
     "name": "#%%\n"
    }
   }
  },
  {
   "cell_type": "code",
   "execution_count": 46,
   "outputs": [],
   "source": [],
   "metadata": {
    "collapsed": false,
    "pycharm": {
     "name": "#%%\n"
    }
   }
  },
  {
   "cell_type": "code",
   "execution_count": null,
   "outputs": [],
   "source": [],
   "metadata": {
    "collapsed": false,
    "pycharm": {
     "name": "#%%\n"
    }
   }
  },
  {
   "cell_type": "code",
   "execution_count": null,
   "outputs": [],
   "source": [],
   "metadata": {
    "collapsed": false,
    "pycharm": {
     "name": "#%%\n"
    }
   }
  },
  {
   "cell_type": "code",
   "execution_count": 1,
   "outputs": [],
   "source": [
    "import pythoncom\n",
    "from win32com.client import Dispatch, gencache\n",
    "import LDefin2D\n",
    "import MiscellaneousHelpers as MH"
   ],
   "metadata": {
    "collapsed": false,
    "pycharm": {
     "name": "#%%\n"
    }
   }
  },
  {
   "cell_type": "code",
   "execution_count": 2,
   "outputs": [],
   "source": [
    "#  Подключим константы API Компас\n",
    "kompas6_constants = gencache.EnsureModule(\"{75C9F5D0-B5B8-4526-8681-9903C567D2ED}\", 0, 1, 0).constants\n",
    "kompas6_constants_3d = gencache.EnsureModule(\"{2CAF168C-7961-4B90-9DA2-701419BEEFE3}\", 0, 1, 0).constants\n",
    "\n",
    "#  Подключим описание интерфейсов API5\n",
    "kompas6_api5_module = gencache.EnsureModule(\"{0422828C-F174-495E-AC5D-D31014DBBE87}\", 0, 1, 0)\n",
    "kompas_object = kompas6_api5_module.KompasObject(Dispatch(\"Kompas.Application.5\")._oleobj_.QueryInterface(kompas6_api5_module.KompasObject.CLSID, pythoncom.IID_IDispatch))\n",
    "MH.iKompasObject  = kompas_object\n",
    "\n",
    "#  Подключим описание интерфейсов API7\n",
    "kompas_api7_module = gencache.EnsureModule(\"{69AC2981-37C0-4379-84FD-5DD2F3C0A520}\", 0, 1, 0)\n",
    "application = kompas_api7_module.IApplication(Dispatch(\"Kompas.Application.7\")._oleobj_.QueryInterface(kompas_api7_module.IApplication.CLSID, pythoncom.IID_IDispatch))\n",
    "MH.iApplication  = application"
   ],
   "metadata": {
    "collapsed": false,
    "pycharm": {
     "name": "#%%\n"
    }
   }
  },
  {
   "cell_type": "code",
   "execution_count": 3,
   "outputs": [],
   "source": [
    "Documents = application.Documents\n",
    "#  Получим активный документ\n",
    "kompas_document = application.ActiveDocument\n",
    "kompas_document_2d = kompas_api7_module.IKompasDocument2D(kompas_document)\n",
    "iDocument2D = kompas_object.ActiveDocument2D()"
   ],
   "metadata": {
    "collapsed": false,
    "pycharm": {
     "name": "#%%\n"
    }
   }
  },
  {
   "cell_type": "code",
   "execution_count": 121,
   "outputs": [],
   "source": [
    "atp = kompas_api7_module.IDrawingObject1(1)"
   ],
   "metadata": {
    "collapsed": false,
    "pycharm": {
     "name": "#%%\n"
    }
   }
  },
  {
   "cell_type": "code",
   "execution_count": 163,
   "outputs": [],
   "source": [
    "kompas_document_2d1 = kompas_api7_module.IKompasDocument1(kompas_document)"
   ],
   "metadata": {
    "collapsed": false,
    "pycharm": {
     "name": "#%%\n"
    }
   }
  },
  {
   "cell_type": "code",
   "execution_count": null,
   "outputs": [],
   "source": [],
   "metadata": {
    "collapsed": false,
    "pycharm": {
     "name": "#%%\n"
    }
   }
  },
  {
   "cell_type": "code",
   "execution_count": null,
   "outputs": [],
   "source": [],
   "metadata": {
    "collapsed": false,
    "pycharm": {
     "name": "#%%\n"
    }
   }
  },
  {
   "cell_type": "code",
   "execution_count": 4,
   "outputs": [],
   "source": [
    "iViewsAndLayersManager = kompas_document_2d.ViewsAndLayersManager\n",
    "iViews = iViewsAndLayersManager.Views\n",
    "iView = iViews.ActiveView"
   ],
   "metadata": {
    "collapsed": false,
    "pycharm": {
     "name": "#%%\n"
    }
   }
  },
  {
   "cell_type": "code",
   "execution_count": 50,
   "outputs": [
    {
     "data": {
      "text/plain": "True"
     },
     "execution_count": 50,
     "metadata": {},
     "output_type": "execute_result"
    }
   ],
   "source": [
    "ll = iView.Layers.Layer(1)\n",
    "ll.Name = 'Штамп'\n",
    "ll.Update()"
   ],
   "metadata": {
    "collapsed": false,
    "pycharm": {
     "name": "#%%\n"
    }
   }
  },
  {
   "cell_type": "code",
   "execution_count": 51,
   "outputs": [],
   "source": [
    "ll1 = iView.Layers.Add()"
   ],
   "metadata": {
    "collapsed": false,
    "pycharm": {
     "name": "#%%\n"
    }
   }
  },
  {
   "cell_type": "code",
   "execution_count": 52,
   "outputs": [
    {
     "data": {
      "text/plain": "True"
     },
     "execution_count": 52,
     "metadata": {},
     "output_type": "execute_result"
    }
   ],
   "source": [
    "ll1.Name = 'Штамп1'\n",
    "ll1.Update()"
   ],
   "metadata": {
    "collapsed": false,
    "pycharm": {
     "name": "#%%\n"
    }
   }
  },
  {
   "cell_type": "code",
   "execution_count": 138,
   "outputs": [
    {
     "name": "stdout",
     "output_type": "stream",
     "text": [
      "КОМПАС-3D v20\n"
     ]
    },
    {
     "data": {
      "text/plain": "<bound method ILayerGroups.Add of <win32com.gen_py.69AC2981-37C0-4379-84FD-5DD2F3C0A520x0x1x0.ILayerGroups instance at 0x1834287810016>>"
     },
     "execution_count": 138,
     "metadata": {},
     "output_type": "execute_result"
    }
   ],
   "source": [
    "# Подключение к API7 программы Kompas 3D\n",
    "def get_kompas_api7():\n",
    "    module = gencache.EnsureModule(\"{69AC2981-37C0-4379-84FD-5DD2F3C0A520}\", 0, 1, 0)\n",
    "    api = module.IKompasAPIObject(\n",
    "        Dispatch(\"Kompas.Application.7\")._oleobj_.QueryInterface(module.IKompasAPIObject.CLSID,\n",
    "                                                                 pythoncom.IID_IDispatch))\n",
    "    const = gencache.EnsureModule(\"{75C9F5D0-B5B8-4526-8681-9903C567D2ED}\", 0, 1, 0).constants\n",
    "    return module, api, const\n",
    "\n",
    "\n",
    "module7, api71, const7 = get_kompas_api7()  # Подключаемся к API7\n",
    "app7 = api71.Application  # Получаем основной интерфейс\n",
    "app7.Visible = True  # Показываем окно пользователю (если скрыто)\n",
    "app7.HideMessage = const7.ksHideMessageNo  # Отвечаем НЕТ на любые вопросы программы\n",
    "print(app7.ApplicationName(FullName=True))  # Печатаем название программы\n",
    "obj = app7.Application.ActiveDocument\n",
    "kd = module7.IKompasDocument2D(obj)\n",
    "kd.ViewsAndLayersManager.LayerGroups.Add"
   ],
   "metadata": {
    "collapsed": false,
    "pycharm": {
     "name": "#%%\n"
    }
   }
  },
  {
   "cell_type": "code",
   "execution_count": 139,
   "outputs": [
    {
     "data": {
      "text/plain": "<win32com.gen_py.69AC2981-37C0-4379-84FD-5DD2F3C0A520x0x1x0.IUserDataStoragesMng instance at 0x1834630810928>"
     },
     "execution_count": 139,
     "metadata": {},
     "output_type": "execute_result"
    }
   ],
   "source": [
    "api71.Application.ActiveDocument.UserDataStoragesMng."
   ],
   "metadata": {
    "collapsed": false,
    "pycharm": {
     "name": "#%%\n"
    }
   }
  },
  {
   "cell_type": "code",
   "execution_count": 140,
   "outputs": [
    {
     "data": {
      "text/plain": "<win32com.gen_py.69AC2981-37C0-4379-84FD-5DD2F3C0A520x0x1x0.ICircle instance at 0x1834293550480>"
     },
     "execution_count": 140,
     "metadata": {},
     "output_type": "execute_result"
    }
   ],
   "source": [],
   "metadata": {
    "collapsed": false,
    "pycharm": {
     "name": "#%%\n"
    }
   }
  },
  {
   "cell_type": "code",
   "execution_count": 59,
   "outputs": [],
   "source": [
    "class API7:\n",
    "    def __init__(self):\n",
    "        self.module = gencache.EnsureModule(\"{69AC2981-37C0-4379-84FD-5DD2F3C0A520}\", 0, 1, 0)\n",
    "        self.api = self.module.IKompasAPIObject(Dispatch(\"Kompas.Application.7\")._oleobj_.QueryInterface(self.module.IKompasAPIObject.CLSID,pythoncom.IID_IDispatch))\n",
    "        self.const = gencache.EnsureModule(\"{75C9F5D0-B5B8-4526-8681-9903C567D2ED}\", 0, 1, 0).constants\n",
    "        self.app = self.api.Application  # Получаем основной интерфейс\n",
    "        self.Documents = self.app.Documents\n",
    "        self.doc = self.app.ActiveDocument\n",
    "        self.doc_2d = self.module.IKompasDocument2D(self.doc)\n",
    "        self.iViewsAndLayersManager = self.doc_2d.ViewsAndLayersManager\n",
    "        self.iViews = self.iViewsAndLayersManager.Views\n",
    "        self.iView = self.iViews.ActiveView\n",
    "\n",
    "    def add_layer(self, name):\n",
    "        layer_new = self.iView.Layers.Add()\n",
    "        layer_new.Name = name\n",
    "        layer_new.Update()\n",
    "        return layer_new\n"
   ],
   "metadata": {
    "collapsed": false,
    "pycharm": {
     "name": "#%%\n"
    }
   }
  },
  {
   "cell_type": "code",
   "execution_count": 60,
   "outputs": [],
   "source": [
    "api7 = API7()"
   ],
   "metadata": {
    "collapsed": false,
    "pycharm": {
     "name": "#%%\n"
    }
   }
  },
  {
   "cell_type": "code",
   "execution_count": 58,
   "outputs": [],
   "source": [
    "def add_layer(name, api7):\n",
    "    layer_new = api7.iView.Layers.Add()\n",
    "    layer_new.Name = name\n",
    "    layer_new.Update()\n",
    "    return layer_new"
   ],
   "metadata": {
    "collapsed": false,
    "pycharm": {
     "name": "#%%\n"
    }
   }
  },
  {
   "cell_type": "code",
   "execution_count": 61,
   "outputs": [],
   "source": [
    "layer =api7.add_layer('Штамп2')"
   ],
   "metadata": {
    "collapsed": false,
    "pycharm": {
     "name": "#%%\n"
    }
   }
  },
  {
   "cell_type": "code",
   "execution_count": null,
   "outputs": [],
   "source": [],
   "metadata": {
    "collapsed": false,
    "pycharm": {
     "name": "#%%\n"
    }
   }
  },
  {
   "cell_type": "code",
   "execution_count": 5,
   "outputs": [],
   "source": [
    "iDrawingContainer = iView._oleobj_.QueryInterface(kompas_api7_module.IDrawingContainer.CLSID, pythoncom.IID_IDispatch)\n",
    "iDrawingContainer = kompas_api7_module.IDrawingContainer(iDrawingContainer)"
   ],
   "metadata": {
    "collapsed": false,
    "pycharm": {
     "name": "#%%\n"
    }
   }
  },
  {
   "cell_type": "code",
   "execution_count": 89,
   "outputs": [
    {
     "ename": "TypeError",
     "evalue": "Only strings and iids can be converted to a CLSID.",
     "output_type": "error",
     "traceback": [
      "\u001B[1;31m---------------------------------------------------------------------------\u001B[0m",
      "\u001B[1;31mTypeError\u001B[0m                                 Traceback (most recent call last)",
      "\u001B[1;32m~\\AppData\\Local\\Temp/ipykernel_4856/3988067084.py\u001B[0m in \u001B[0;36m<module>\u001B[1;34m\u001B[0m\n\u001B[1;32m----> 1\u001B[1;33m \u001B[0miDrawingContainer\u001B[0m\u001B[1;33m.\u001B[0m\u001B[0m_oleobj_\u001B[0m\u001B[1;33m.\u001B[0m\u001B[0mQueryInterface\u001B[0m\u001B[1;33m(\u001B[0m\u001B[1;34m'{5C952F95-DFED-4EEE-B39A-6699EDE08676}'\u001B[0m\u001B[1;33m,\u001B[0m\u001B[1;36m1\u001B[0m\u001B[1;33m)\u001B[0m\u001B[1;33m\u001B[0m\u001B[1;33m\u001B[0m\u001B[0m\n\u001B[0m",
      "\u001B[1;31mTypeError\u001B[0m: Only strings and iids can be converted to a CLSID."
     ]
    }
   ],
   "source": [
    "iDrawingContainer._oleobj_.QueryInterface('{5C952F95-DFED-4EEE-B39A-6699EDE08676}',0)"
   ],
   "metadata": {
    "collapsed": false,
    "pycharm": {
     "name": "#%%\n"
    }
   }
  },
  {
   "cell_type": "code",
   "execution_count": 14,
   "outputs": [],
   "source": [
    "iMultilines = iDrawingContainer.Multilines\n",
    "iccMultilines = iDrawingContainer.ConicCurves"
   ],
   "metadata": {
    "collapsed": false,
    "pycharm": {
     "name": "#%%\n"
    }
   }
  },
  {
   "cell_type": "code",
   "execution_count": 136,
   "outputs": [
    {
     "ename": "TypeError",
     "evalue": "tuple.count() takes exactly one argument (0 given)",
     "output_type": "error",
     "traceback": [
      "\u001B[1;31m---------------------------------------------------------------------------\u001B[0m",
      "\u001B[1;31mTypeError\u001B[0m                                 Traceback (most recent call last)",
      "\u001B[1;32m~\\AppData\\Local\\Temp/ipykernel_4856/3025381121.py\u001B[0m in \u001B[0;36m<module>\u001B[1;34m\u001B[0m\n\u001B[0;32m      1\u001B[0m \u001B[0matr\u001B[0m  \u001B[1;33m=\u001B[0m \u001B[0miDrawingContainer\u001B[0m\u001B[1;33m.\u001B[0m\u001B[0mObjects\u001B[0m\u001B[1;33m(\u001B[0m\u001B[1;36m2\u001B[0m\u001B[1;33m)\u001B[0m\u001B[1;33m\u001B[0m\u001B[1;33m\u001B[0m\u001B[0m\n\u001B[1;32m----> 2\u001B[1;33m \u001B[0matr\u001B[0m\u001B[1;33m.\u001B[0m\u001B[0mcount\u001B[0m\u001B[1;33m(\u001B[0m\u001B[1;33m)\u001B[0m\u001B[1;33m\u001B[0m\u001B[1;33m\u001B[0m\u001B[0m\n\u001B[0m",
      "\u001B[1;31mTypeError\u001B[0m: tuple.count() takes exactly one argument (0 given)"
     ]
    }
   ],
   "source": [
    "atr  = iDrawingContainer.Objects(2)\n",
    "atr.count()"
   ],
   "metadata": {
    "collapsed": false,
    "pycharm": {
     "name": "#%%\n"
    }
   }
  },
  {
   "cell_type": "code",
   "execution_count": 23,
   "outputs": [],
   "source": [
    "cc = iDrawingContainer.Circles.Add()\n",
    "cc1 = iDrawingContainer.Circles.Add()"
   ],
   "metadata": {
    "collapsed": false,
    "pycharm": {
     "name": "#%%\n"
    }
   }
  },
  {
   "cell_type": "code",
   "execution_count": 94,
   "outputs": [],
   "source": [
    "cc3 = iDrawingContainer.Circles.Item(1073741992)"
   ],
   "metadata": {
    "collapsed": false,
    "pycharm": {
     "name": "#%%\n"
    }
   }
  },
  {
   "cell_type": "code",
   "execution_count": null,
   "outputs": [],
   "source": [],
   "metadata": {
    "collapsed": false,
    "pycharm": {
     "name": "#%%\n"
    }
   }
  },
  {
   "cell_type": "code",
   "execution_count": 22,
   "outputs": [
    {
     "data": {
      "text/plain": "True"
     },
     "execution_count": 22,
     "metadata": {},
     "output_type": "execute_result"
    }
   ],
   "source": [
    "cc.Radius = 50\n",
    "cc.Update()"
   ],
   "metadata": {
    "collapsed": false,
    "pycharm": {
     "name": "#%%\n"
    }
   }
  },
  {
   "cell_type": "code",
   "execution_count": 24,
   "outputs": [
    {
     "data": {
      "text/plain": "True"
     },
     "execution_count": 24,
     "metadata": {},
     "output_type": "execute_result"
    }
   ],
   "source": [
    "cc1.Radius = 100\n",
    "cc1.Update()"
   ],
   "metadata": {
    "collapsed": false,
    "pycharm": {
     "name": "#%%\n"
    }
   }
  },
  {
   "cell_type": "code",
   "execution_count": 36,
   "outputs": [
    {
     "data": {
      "text/plain": "True"
     },
     "execution_count": 36,
     "metadata": {},
     "output_type": "execute_result"
    }
   ],
   "source": [
    "cc.Radius = 40\n",
    "cc.Xc = -100\n",
    "cc.Yc = 0\n",
    "cc.LayerNumber = 1\n",
    "cc.Update()"
   ],
   "metadata": {
    "collapsed": false,
    "pycharm": {
     "name": "#%%\n"
    }
   }
  },
  {
   "cell_type": "code",
   "execution_count": 170,
   "outputs": [],
   "source": [
    "atr = kompas_document_2d1.CreateAttr(2, None, cc1)"
   ],
   "metadata": {
    "collapsed": false,
    "pycharm": {
     "name": "#%%\n"
    }
   }
  },
  {
   "cell_type": "code",
   "execution_count": 168,
   "outputs": [
    {
     "ename": "ValueError",
     "evalue": "invalid literal for int() with base 10: 'gfgf'",
     "output_type": "error",
     "traceback": [
      "\u001B[1;31m---------------------------------------------------------------------------\u001B[0m",
      "\u001B[1;31mValueError\u001B[0m                                Traceback (most recent call last)",
      "\u001B[1;32m~\\AppData\\Local\\Temp/ipykernel_4856/713352019.py\u001B[0m in \u001B[0;36m<module>\u001B[1;34m\u001B[0m\n\u001B[1;32m----> 1\u001B[1;33m \u001B[0mkompas_document_2d1\u001B[0m\u001B[1;33m.\u001B[0m\u001B[0mObjectsByAttr\u001B[0m\u001B[1;33m(\u001B[0m\u001B[1;34m'gfgf'\u001B[0m\u001B[1;33m)\u001B[0m\u001B[1;33m\u001B[0m\u001B[1;33m\u001B[0m\u001B[0m\n\u001B[0m",
      "\u001B[1;32m~\\AppData\\Local\\Temp\\gen_py\\3.9\\69AC2981-37C0-4379-84FD-5DD2F3C0A520x0x1x0.py\u001B[0m in \u001B[0;36mObjectsByAttr\u001B[1;34m(self, Key1, Key2, Key3, Key4, Numb, ObjectType)\u001B[0m\n\u001B[0;32m  18494\u001B[0m \t\t\t, Numb=defaultNamedNotOptArg, ObjectType=defaultNamedNotOptArg):\n\u001B[0;32m  18495\u001B[0m                 \u001B[1;34m'Массив объектов документа в виде массива SAFEARRAY DISPATCH - VT_ARRAY | VT_DISPATCH.'\u001B[0m\u001B[1;33m\u001B[0m\u001B[1;33m\u001B[0m\u001B[0m\n\u001B[1;32m> 18496\u001B[1;33m \t\treturn self._ApplyTypes_(10003, 2, (12, 0), ((3, 1), (3, 1), (3, 1), (3, 1), (5, 1), (12, 1)), 'ObjectsByAttr', None,Key1\n\u001B[0m\u001B[0;32m  18497\u001B[0m                         \u001B[1;33m,\u001B[0m \u001B[0mKey2\u001B[0m\u001B[1;33m,\u001B[0m \u001B[0mKey3\u001B[0m\u001B[1;33m,\u001B[0m \u001B[0mKey4\u001B[0m\u001B[1;33m,\u001B[0m \u001B[0mNumb\u001B[0m\u001B[1;33m,\u001B[0m \u001B[0mObjectType\u001B[0m\u001B[1;33m\u001B[0m\u001B[1;33m\u001B[0m\u001B[0m\n\u001B[0;32m  18498\u001B[0m \t\t\t)\n",
      "\u001B[1;32md:\\it\\pr\\mypython\\venv\\lib\\site-packages\\win32com\\client\\__init__.py\u001B[0m in \u001B[0;36m_ApplyTypes_\u001B[1;34m(self, dispid, wFlags, retType, argTypes, user, resultCLSID, *args)\u001B[0m\n\u001B[0;32m    570\u001B[0m     \u001B[1;32mdef\u001B[0m \u001B[0m_ApplyTypes_\u001B[0m\u001B[1;33m(\u001B[0m\u001B[0mself\u001B[0m\u001B[1;33m,\u001B[0m \u001B[0mdispid\u001B[0m\u001B[1;33m,\u001B[0m \u001B[0mwFlags\u001B[0m\u001B[1;33m,\u001B[0m \u001B[0mretType\u001B[0m\u001B[1;33m,\u001B[0m \u001B[0margTypes\u001B[0m\u001B[1;33m,\u001B[0m \u001B[0muser\u001B[0m\u001B[1;33m,\u001B[0m \u001B[0mresultCLSID\u001B[0m\u001B[1;33m,\u001B[0m \u001B[1;33m*\u001B[0m\u001B[0margs\u001B[0m\u001B[1;33m)\u001B[0m\u001B[1;33m:\u001B[0m\u001B[1;33m\u001B[0m\u001B[1;33m\u001B[0m\u001B[0m\n\u001B[0;32m    571\u001B[0m         return self._get_good_object_(\n\u001B[1;32m--> 572\u001B[1;33m             \u001B[0mself\u001B[0m\u001B[1;33m.\u001B[0m\u001B[0m_oleobj_\u001B[0m\u001B[1;33m.\u001B[0m\u001B[0mInvokeTypes\u001B[0m\u001B[1;33m(\u001B[0m\u001B[0mdispid\u001B[0m\u001B[1;33m,\u001B[0m \u001B[1;36m0\u001B[0m\u001B[1;33m,\u001B[0m \u001B[0mwFlags\u001B[0m\u001B[1;33m,\u001B[0m \u001B[0mretType\u001B[0m\u001B[1;33m,\u001B[0m \u001B[0margTypes\u001B[0m\u001B[1;33m,\u001B[0m \u001B[1;33m*\u001B[0m\u001B[0margs\u001B[0m\u001B[1;33m)\u001B[0m\u001B[1;33m,\u001B[0m\u001B[1;33m\u001B[0m\u001B[1;33m\u001B[0m\u001B[0m\n\u001B[0m\u001B[0;32m    573\u001B[0m             \u001B[0muser\u001B[0m\u001B[1;33m,\u001B[0m\u001B[1;33m\u001B[0m\u001B[1;33m\u001B[0m\u001B[0m\n\u001B[0;32m    574\u001B[0m             \u001B[0mresultCLSID\u001B[0m\u001B[1;33m,\u001B[0m\u001B[1;33m\u001B[0m\u001B[1;33m\u001B[0m\u001B[0m\n",
      "\u001B[1;31mValueError\u001B[0m: invalid literal for int() with base 10: 'gfgf'"
     ]
    }
   ],
   "source": [
    "kompas_document_2d1.ObjectsByAttr('gfgf')"
   ],
   "metadata": {
    "collapsed": false,
    "pycharm": {
     "name": "#%%\n"
    }
   }
  },
  {
   "cell_type": "code",
   "execution_count": 177,
   "outputs": [],
   "source": [
    "aa2 = kompas_document_2d1.Attributes(1,2,3,4,0)"
   ],
   "metadata": {
    "collapsed": false,
    "pycharm": {
     "name": "#%%\n"
    }
   }
  },
  {
   "cell_type": "code",
   "execution_count": 145,
   "outputs": [
    {
     "data": {
      "text/plain": "['Application',\n 'CLSID',\n 'Delete',\n 'DrawingObjectParamType',\n 'DrawingObjectType',\n 'LayerNumber',\n 'Parent',\n 'Radius',\n 'Reference',\n 'Style',\n 'Temp',\n 'Type',\n 'Update',\n 'Valid',\n 'X',\n 'Xc',\n 'Y',\n 'Yc',\n '_ApplyTypes_',\n '__class__',\n '__delattr__',\n '__dict__',\n '__dir__',\n '__doc__',\n '__eq__',\n '__format__',\n '__ge__',\n '__getattr__',\n '__getattribute__',\n '__gt__',\n '__hash__',\n '__init__',\n '__init_subclass__',\n '__iter__',\n '__le__',\n '__lt__',\n '__module__',\n '__ne__',\n '__new__',\n '__reduce__',\n '__reduce_ex__',\n '__repr__',\n '__setattr__',\n '__sizeof__',\n '__str__',\n '__subclasshook__',\n '__weakref__',\n '_get_good_object_',\n '_get_good_single_object_',\n '_oleobj_',\n '_prop_map_get_',\n '_prop_map_put_',\n 'coclass_clsid']"
     },
     "execution_count": 145,
     "metadata": {},
     "output_type": "execute_result"
    }
   ],
   "source": [
    "dir(cc)"
   ],
   "metadata": {
    "collapsed": false,
    "pycharm": {
     "name": "#%%\n"
    }
   }
  },
  {
   "cell_type": "code",
   "execution_count": 146,
   "outputs": [],
   "source": [
    "cc.__setattr__('Radius', 40)"
   ],
   "metadata": {
    "collapsed": false,
    "pycharm": {
     "name": "#%%\n"
    }
   }
  },
  {
   "cell_type": "code",
   "execution_count": 147,
   "outputs": [
    {
     "data": {
      "text/plain": "40.0"
     },
     "execution_count": 147,
     "metadata": {},
     "output_type": "execute_result"
    }
   ],
   "source": [
    "cc.__getattr__('Radius')"
   ],
   "metadata": {
    "collapsed": false,
    "pycharm": {
     "name": "#%%\n"
    }
   }
  },
  {
   "cell_type": "code",
   "execution_count": 162,
   "outputs": [
    {
     "name": "stdout",
     "output_type": "stream",
     "text": [
      "50.0\n",
      "50.0\n",
      "40.0\n",
      "40.0\n",
      "100.0\n",
      "100.0\n"
     ]
    }
   ],
   "source": [
    "for i in range(iDrawingContainer.Circles.Count):\n",
    "    circl = iDrawingContainer.Circles.Circle(i)\n",
    "    print(circl.Radius)\n",
    "    print(circl.__getattr__('Radius'))"
   ],
   "metadata": {
    "collapsed": false,
    "pycharm": {
     "name": "#%%\n"
    }
   }
  },
  {
   "cell_type": "code",
   "execution_count": null,
   "outputs": [],
   "source": [
    "kompas_api7_module.C"
   ],
   "metadata": {
    "collapsed": false,
    "pycharm": {
     "name": "#%%\n"
    }
   }
  },
  {
   "cell_type": "code",
   "execution_count": null,
   "outputs": [],
   "source": [],
   "metadata": {
    "collapsed": false,
    "pycharm": {
     "name": "#%%\n"
    }
   }
  },
  {
   "cell_type": "code",
   "execution_count": 159,
   "outputs": [],
   "source": [
    "aa = iDrawingContainer.Circles.Circle(0)"
   ],
   "metadata": {
    "collapsed": false,
    "pycharm": {
     "name": "#%%\n"
    }
   }
  },
  {
   "cell_type": "code",
   "execution_count": 160,
   "outputs": [
    {
     "data": {
      "text/plain": "50.0"
     },
     "execution_count": 160,
     "metadata": {},
     "output_type": "execute_result"
    }
   ],
   "source": [
    "aa.Radius"
   ],
   "metadata": {
    "collapsed": false,
    "pycharm": {
     "name": "#%%\n"
    }
   }
  },
  {
   "cell_type": "code",
   "execution_count": 158,
   "outputs": [],
   "source": [
    "aa1 = iDrawingContainer.Circles.Item(1)"
   ],
   "metadata": {
    "collapsed": false,
    "pycharm": {
     "name": "#%%\n"
    }
   }
  },
  {
   "cell_type": "code",
   "execution_count": null,
   "outputs": [],
   "source": [],
   "metadata": {
    "collapsed": false,
    "pycharm": {
     "name": "#%%\n"
    }
   }
  },
  {
   "cell_type": "code",
   "execution_count": null,
   "outputs": [],
   "source": [],
   "metadata": {
    "collapsed": false,
    "pycharm": {
     "name": "#%%\n"
    }
   }
  },
  {
   "cell_type": "code",
   "execution_count": 15,
   "outputs": [],
   "source": [
    "icc = iccMultilines.Add()"
   ],
   "metadata": {
    "collapsed": false,
    "pycharm": {
     "name": "#%%\n"
    }
   }
  },
  {
   "cell_type": "code",
   "execution_count": 16,
   "outputs": [
    {
     "data": {
      "text/plain": "True"
     },
     "execution_count": 16,
     "metadata": {},
     "output_type": "execute_result"
    }
   ],
   "source": [
    "icc.SetPoint(0, 150, 200)"
   ],
   "metadata": {
    "collapsed": false,
    "pycharm": {
     "name": "#%%\n"
    }
   }
  },
  {
   "cell_type": "code",
   "execution_count": 17,
   "outputs": [
    {
     "data": {
      "text/plain": "False"
     },
     "execution_count": 17,
     "metadata": {},
     "output_type": "execute_result"
    }
   ],
   "source": [
    "icc.Update()"
   ],
   "metadata": {
    "collapsed": false,
    "pycharm": {
     "name": "#%%\n"
    }
   }
  },
  {
   "cell_type": "code",
   "execution_count": null,
   "outputs": [],
   "source": [],
   "metadata": {
    "collapsed": false,
    "pycharm": {
     "name": "#%%\n"
    }
   }
  },
  {
   "cell_type": "code",
   "execution_count": 3,
   "outputs": [],
   "source": [
    "#  Подключим константы API Компас\n",
    "kompas6_constants = gencache.EnsureModule(\"{75C9F5D0-B5B8-4526-8681-9903C567D2ED}\", 0, 1, 0).constants\n",
    "kompas6_constants_3d = gencache.EnsureModule(\"{2CAF168C-7961-4B90-9DA2-701419BEEFE3}\", 0, 1, 0).constants\n",
    "\n",
    "#  Подключим описание интерфейсов API5\n",
    "kompas6_api5_module = gencache.EnsureModule(\"{0422828C-F174-495E-AC5D-D31014DBBE87}\", 0, 1, 0)\n",
    "kompas_object = kompas6_api5_module.KompasObject(Dispatch(\"Kompas.Application.5\")._oleobj_.QueryInterface(kompas6_api5_module.KompasObject.CLSID, pythoncom.IID_IDispatch))\n",
    "MH.iKompasObject  = kompas_object\n",
    "\n",
    "#  Подключим описание интерфейсов API7\n",
    "kompas_api7_module = gencache.EnsureModule(\"{69AC2981-37C0-4379-84FD-5DD2F3C0A520}\", 0, 1, 0)\n",
    "application = kompas_api7_module.IApplication(Dispatch(\"Kompas.Application.7\")._oleobj_.QueryInterface(kompas_api7_module.IApplication.CLSID, pythoncom.IID_IDispatch))\n",
    "MH.iApplication  = application"
   ],
   "metadata": {
    "collapsed": false,
    "pycharm": {
     "name": "#%%\n"
    }
   }
  },
  {
   "cell_type": "code",
   "execution_count": 5,
   "outputs": [],
   "source": [
    "Documents = application.Documents\n",
    "#  Получим активный документ\n",
    "kompas_document = application.ActiveDocument\n",
    "kompas_document_2d = kompas_api7_module.IKompasDocument2D(kompas_document)\n",
    "iDocument2D = kompas_object.ActiveDocument2D()\n",
    "\n",
    "obj = iDocument2D.ksLineSeg(86.560502562223, 262.121759584038, 221.560502562223, 262.121759584038, 1)"
   ],
   "metadata": {
    "collapsed": false,
    "pycharm": {
     "name": "#%%\n"
    }
   }
  },
  {
   "cell_type": "code",
   "execution_count": 2,
   "outputs": [],
   "source": [
    "# Подключение к API7 программы Kompas 3D\n",
    "def get_kompas_api7():\n",
    "    module = gencache.EnsureModule(\"{69AC2981-37C0-4379-84FD-5DD2F3C0A520}\", 0, 1, 0)\n",
    "    api = module.IKompasAPIObject(\n",
    "        Dispatch(\"Kompas.Application.7\")._oleobj_.QueryInterface(module.IKompasAPIObject.CLSID,\n",
    "                                                                 pythoncom.IID_IDispatch))\n",
    "    const = gencache.EnsureModule(\"{75C9F5D0-B5B8-4526-8681-9903C567D2ED}\", 0, 1, 0).constants\n",
    "    return module, api, const"
   ],
   "metadata": {
    "collapsed": false,
    "pycharm": {
     "name": "#%%\n"
    }
   }
  },
  {
   "cell_type": "code",
   "execution_count": 3,
   "outputs": [
    {
     "name": "stdout",
     "output_type": "stream",
     "text": [
      "КОМПАС-3D v20\n"
     ]
    }
   ],
   "source": [
    "module7, api7, const7 = get_kompas_api7()   # Подключаемся к API7\n",
    "app7 = api7.Application                     # Получаем основной интерфейс\n",
    "app7.Visible = True                         # Показываем окно пользователю (если скрыто)\n",
    "app7.HideMessage = const7.ksHideMessageNo   # Отвечаем НЕТ на любые вопросы программы\n",
    "print(app7.ApplicationName(FullName=True))  # Печатаем название программы"
   ],
   "metadata": {
    "collapsed": false,
    "pycharm": {
     "name": "#%%\n"
    }
   }
  },
  {
   "cell_type": "code",
   "execution_count": 28,
   "outputs": [
    {
     "data": {
      "text/plain": "<bound method ILayerGroups.Add of <win32com.gen_py.69AC2981-37C0-4379-84FD-5DD2F3C0A520x0x1x0.ILayerGroups instance at 0x1493990010496>>"
     },
     "execution_count": 28,
     "metadata": {},
     "output_type": "execute_result"
    }
   ],
   "source": [
    "obj = app7.Application.ActiveDocument\n",
    "kd = module7.IKompasDocument2D(obj)\n",
    "kd.ViewsAndLayersManager.LayerGroups.Add"
   ],
   "metadata": {
    "collapsed": false,
    "pycharm": {
     "name": "#%%\n"
    }
   }
  },
  {
   "cell_type": "code",
   "execution_count": 31,
   "outputs": [],
   "source": [
    "doc7 = app7.Application.ActiveDocument\n",
    "IKompasDocument2D = doc7._oleobj_.QueryInterface(module7.NamesToIIDMap['IKompasDocument2D'], pythoncom.IID_IDispatch)\n",
    "doc2D = module7.IKompasDocument2D(IKompasDocument2D)\n",
    "views = doc2D.ViewsAndLayersManager.Views\n",
    "layers = doc2D.ViewsAndLayersManager.LayerGroups"
   ],
   "metadata": {
    "collapsed": false,
    "pycharm": {
     "name": "#%%\n"
    }
   }
  },
  {
   "cell_type": "code",
   "execution_count": 35,
   "outputs": [],
   "source": [
    "vv = views.Item(0)\n",
    "vv.LayerNumber"
   ],
   "metadata": {
    "collapsed": false,
    "pycharm": {
     "name": "#%%\n"
    }
   }
  },
  {
   "cell_type": "code",
   "execution_count": 39,
   "outputs": [],
   "source": [
    "vv.LayerNumber = 1"
   ],
   "metadata": {
    "collapsed": false,
    "pycharm": {
     "name": "#%%\n"
    }
   }
  },
  {
   "cell_type": "code",
   "execution_count": 10,
   "outputs": [],
   "source": [
    "import subprocess\n",
    "\n",
    "# Функция проверяет, запущена ли программа Kompas 3D\n",
    "def is_running():\n",
    "    proc_list = subprocess.Popen('tasklist /NH /FI \"IMAGENAME eq KOMPAS*\"',\n",
    "                                 shell=False,\n",
    "                                 stdout=subprocess.PIPE).communicate()[0]\n",
    "    return True if proc_list else False"
   ],
   "metadata": {
    "collapsed": false,
    "pycharm": {
     "name": "#%%\n"
    }
   }
  },
  {
   "cell_type": "code",
   "execution_count": 11,
   "outputs": [
    {
     "data": {
      "text/plain": "True"
     },
     "execution_count": 11,
     "metadata": {},
     "output_type": "execute_result"
    }
   ],
   "source": [
    "is_running()"
   ],
   "metadata": {
    "collapsed": false,
    "pycharm": {
     "name": "#%%\n"
    }
   }
  },
  {
   "cell_type": "code",
   "execution_count": 12,
   "outputs": [],
   "source": [
    "# Посчитаем количество листов каждого из формата\n",
    "def amount_sheet(doc7):\n",
    "    sheets = {\"A0\": 0, \"A1\": 0, \"A2\": 0, \"A3\": 0, \"A4\": 0, \"A5\": 0}\n",
    "    for sheet in range(doc7.LayoutSheets.Count):\n",
    "        format = doc7.LayoutSheets.Item(sheet).Format  # sheet - номер листа, отсчёт начинается от 0\n",
    "        sheets[\"A\" + str(format.Format)] += 1 * format.FormatMultiplicity\n",
    "    return sheets"
   ],
   "metadata": {
    "collapsed": false,
    "pycharm": {
     "name": "#%%\n"
    }
   }
  },
  {
   "cell_type": "code",
   "execution_count": 14,
   "outputs": [
    {
     "data": {
      "text/plain": "{'A0': 0, 'A1': 0, 'A2': 0, 'A3': 1, 'A4': 0, 'A5': 0}"
     },
     "execution_count": 14,
     "metadata": {},
     "output_type": "execute_result"
    }
   ],
   "source": [
    "amount_sheet(app7.ActiveDocument)"
   ],
   "metadata": {
    "collapsed": false,
    "pycharm": {
     "name": "#%%\n"
    }
   }
  },
  {
   "cell_type": "code",
   "execution_count": 15,
   "outputs": [],
   "source": [
    "# Прочитаем масштаб из штампа, ячейка №6\n",
    "def stamp_scale(doc7):\n",
    "    stamp = doc7.LayoutSheets.Item(0).Stamp  # Item(0) указывает на штамп первого листа\n",
    "    return stamp.Text(6).Str"
   ],
   "metadata": {
    "collapsed": false,
    "pycharm": {
     "name": "#%%\n"
    }
   }
  },
  {
   "cell_type": "code",
   "execution_count": 21,
   "outputs": [
    {
     "data": {
      "text/plain": "''"
     },
     "execution_count": 21,
     "metadata": {},
     "output_type": "execute_result"
    }
   ],
   "source": [
    "stamp_scale(app7.ActiveDocument)"
   ],
   "metadata": {
    "collapsed": false,
    "pycharm": {
     "name": "#%%\n"
    }
   }
  },
  {
   "cell_type": "code",
   "execution_count": 18,
   "outputs": [],
   "source": [
    "import os\n",
    "import re\n",
    "\n",
    "# Прочитаем основную надпись чертежа\n",
    "def stamp(doc7):\n",
    "    for sheet in range(doc7.LayoutSheets.Count):\n",
    "        style_filename = os.path.basename(doc7.LayoutSheets.Item(sheet).LayoutLibraryFileName)\n",
    "        style_number = int(doc7.LayoutSheets.Item(sheet).LayoutStyleNumber)\n",
    "\n",
    "        if style_filename in ['graphic.lyt', 'Graphic.lyt'] and style_number == 1:\n",
    "            stamp = doc7.LayoutSheets.Item(sheet).Stamp\n",
    "            return {\"Scale\": re.search(r\"\\d+:\\d+\", stamp.Text(6).Str).group(),\n",
    "                    \"Designer\": stamp.Text(110).Str}\n",
    "\n",
    "    return {\"Scale\": 'Неопределенный стиль оформления',\n",
    "            \"Designer\": 'Неопределенный стиль оформления'}"
   ],
   "metadata": {
    "collapsed": false,
    "pycharm": {
     "name": "#%%\n"
    }
   }
  },
  {
   "cell_type": "code",
   "execution_count": 22,
   "outputs": [
    {
     "data": {
      "text/plain": "{'Scale': 'Неопределенный стиль оформления',\n 'Designer': 'Неопределенный стиль оформления'}"
     },
     "execution_count": 22,
     "metadata": {},
     "output_type": "execute_result"
    }
   ],
   "source": [
    "stamp(app7.ActiveDocument)"
   ],
   "metadata": {
    "collapsed": false,
    "pycharm": {
     "name": "#%%\n"
    }
   }
  },
  {
   "cell_type": "code",
   "execution_count": 23,
   "outputs": [],
   "source": [
    "# Просмотр всех ячеек\n",
    "def parse_stamp(doc7, number_sheet):\n",
    "    stamp = doc7.LayoutSheets.Item(number_sheet).Stamp\n",
    "    for i in range(10000):\n",
    "        if stamp.Text(i).Str:\n",
    "            print('Номер ячейки = %-5d Значение = %s' % (i, stamp.Text(i).Str))"
   ],
   "metadata": {
    "collapsed": false,
    "pycharm": {
     "name": "#%%\n"
    }
   }
  },
  {
   "cell_type": "code",
   "execution_count": null,
   "outputs": [],
   "source": [],
   "metadata": {
    "collapsed": false,
    "pycharm": {
     "name": "#%%\n"
    }
   }
  },
  {
   "cell_type": "code",
   "execution_count": 25,
   "outputs": [
    {
     "name": "stdout",
     "output_type": "stream",
     "text": [
      "Номер ячейки = 1     Значение = ffff\n",
      "Номер ячейки = 2     Значение = hfghf\n",
      "Номер ячейки = 3     Значение = jjj\n",
      "Номер ячейки = 4     Значение = ggg\n",
      "Номер ячейки = 8     Значение = 1\n",
      "Номер ячейки = 9     Значение = mmm\n",
      "Номер ячейки = 32    Значение = A3\n",
      "Номер ячейки = 45    Значение = hfghf-\n",
      "Номер ячейки = 100   Значение = 11\n",
      "Номер ячейки = 101   Значение = 22\n",
      "Номер ячейки = 102   Значение = 33\n",
      "Номер ячейки = 103   Значение = 44\n",
      "Номер ячейки = 104   Значение = 55\n",
      "Номер ячейки = 105   Значение = 66\n"
     ]
    }
   ],
   "source": [
    "parse_stamp(app7.ActiveDocument, 0)"
   ],
   "metadata": {
    "collapsed": false,
    "pycharm": {
     "name": "#%%\n"
    }
   }
  },
  {
   "cell_type": "code",
   "execution_count": 1,
   "outputs": [],
   "source": [
    "\n",
    "# -*- coding: cp1251 -*-\n",
    "\n",
    "# import Kompas10API7 as KAPI7\n",
    "from kompas3d import kAPI7 as KAPI7\n",
    "from win32com.client import Dispatch, gencache\n",
    "import pythoncom\n",
    "\n",
    "\n",
    "class KS(object):\n",
    "    module7 = gencache.EnsureModule(\"{69AC2981-37C0-4379-84FD-5DD2F3C0A520}\", 0, 1, 0)\n",
    "    app7 = Dispatch('KOMPAS.Application.7')\n",
    "    api7 = module7.IKompasAPIObject(app7._oleobj_.QueryInterface(module7.IKompasAPIObject.CLSID, pythoncom.IID_IDispatch))\n",
    "\n",
    "    const = gencache.EnsureModule(\"{2CAF168C-7961-4B90-9DA2-701419BEEFE3}\", 0, 1, 0).constants\n",
    "    propMng = module7.IPropertyMng(app7._oleobj_.QueryInterface(module7.IPropertyMng.CLSID, pythoncom.IID_IDispatch))\n",
    "\n",
    "    module5 = gencache.EnsureModule(\"{0422828C-F174-495E-AC5D-D31014DBBE87}\", 0, 1, 0)\n",
    "    api5 = module5.KompasObject(Dispatch(\"Kompas.Application.5\")._oleobj_.QueryInterface(module5.KompasObject.CLSID, pythoncom.IID_IDispatch))\n",
    "    iDocument3D = api5.Document3D()\n",
    "\n",
    "\n",
    "def QI(fromInterface, toInterface):\n",
    "    return toInterface(fromInterface._oleobj_.QueryInterface(toInterface.CLSID, pythoncom.IID_IDispatch))\n",
    "\n",
    "\n",
    "def CollectMarcoObjects():\n",
    "    views = KAPI7.IKompasDocument2D(KS.app7.ActiveDocument).ViewsAndLayersManager.Views\n",
    "    v0 = views.ViewByNumber(0)\n",
    "    # в данном случае макроэлементы собираются только в нулевом виде\n",
    "    iMacroObjects = QI(v0, KAPI7.IDrawingContainer).MacroObjects\n",
    "    return iMacroObjects\n",
    "\n",
    "\n",
    "def ItemsList(iMacroObjects):\n",
    "    eList = []\n",
    "    for j in range(len(iMacroObjects)):\n",
    "        m = iMacroObjects.MacroObject(j)\n",
    "        eList.append(ShemElement(m))\n",
    "    return eList\n",
    "\n",
    "\n",
    "class ShemElement:\n",
    "    def __init__(self, iMacroObject):\n",
    "        self.macro = iMacroObject\n",
    "        self.propKeeper = QI(self.macro, KAPI7.IPropertyKeeper)\n",
    "        self.id = self.propKeeper.GetPropertyValue(idProp, \"\", True, True)[1]\n",
    "\n",
    "\n",
    "# настройка стиля куска текста\n",
    "def styleTextItem(iTextItem,  height=False):\n",
    "    iTextFont = QI(iTextItem, KAPI7.ITextFont)\n",
    "    iTextFont.Color = 0x808080\n",
    "    if height:\n",
    "        iTextFont.Height = height\n",
    "    iTextFont.Italic = False\n",
    "    iTextItem.Update()"
   ],
   "metadata": {
    "collapsed": false,
    "pycharm": {
     "name": "#%%\n"
    }
   }
  },
  {
   "cell_type": "code",
   "execution_count": 2,
   "outputs": [],
   "source": [
    "\n",
    "\n",
    "# Интерфейс текущего 2д документа в апи7\n",
    "iKSDoc2D = KAPI7.IKompasDocument2D(KS.app7.ActiveDocument)\n",
    "iKSDoc2D1 = QI(iKSDoc2D, KAPI7.IKompasDocument2D1)"
   ],
   "metadata": {
    "collapsed": false,
    "pycharm": {
     "name": "#%%\n"
    }
   }
  },
  {
   "cell_type": "code",
   "execution_count": 14,
   "outputs": [
    {
     "ename": "TypeError",
     "evalue": "LARGE_INTEGER must be 'int', or '(int, int)'",
     "output_type": "error",
     "traceback": [
      "\u001B[1;31m---------------------------------------------------------------------------\u001B[0m",
      "\u001B[1;31mTypeError\u001B[0m                                 Traceback (most recent call last)",
      "\u001B[1;32m~\\AppData\\Local\\Temp/ipykernel_9980/32677146.py\u001B[0m in \u001B[0;36m<module>\u001B[1;34m\u001B[0m\n\u001B[1;32m----> 1\u001B[1;33m \u001B[0maa\u001B[0m \u001B[1;33m=\u001B[0m \u001B[0miKSDoc2D1\u001B[0m\u001B[1;33m.\u001B[0m\u001B[0mGetObjectById\u001B[0m\u001B[1;33m(\u001B[0m\u001B[1;36m5.0\u001B[0m\u001B[1;33m)\u001B[0m\u001B[1;33m\u001B[0m\u001B[1;33m\u001B[0m\u001B[0m\n\u001B[0m",
      "\u001B[1;32md:\\it\\pr\\mypython\\venv\\lib\\site-packages\\kompas3d\\kAPI7.py\u001B[0m in \u001B[0;36mGetObjectById\u001B[1;34m(self, Id)\u001B[0m\n\u001B[0;32m  18673\u001B[0m         \u001B[1;32mdef\u001B[0m \u001B[0mGetObjectById\u001B[0m\u001B[1;33m(\u001B[0m\u001B[0mself\u001B[0m\u001B[1;33m,\u001B[0m \u001B[0mId\u001B[0m\u001B[1;33m=\u001B[0m\u001B[0mdefaultNamedNotOptArg\u001B[0m\u001B[1;33m)\u001B[0m\u001B[1;33m:\u001B[0m\u001B[1;33m\u001B[0m\u001B[1;33m\u001B[0m\u001B[0m\n\u001B[0;32m  18674\u001B[0m                 \u001B[1;34m'Получить объект по его уникальному идентификатору.'\u001B[0m\u001B[1;33m\u001B[0m\u001B[1;33m\u001B[0m\u001B[0m\n\u001B[1;32m> 18675\u001B[1;33m \t\tret = self._oleobj_.InvokeTypes(11020, LCID, 1, (9, 0), ((20, 1),),Id\n\u001B[0m\u001B[0;32m  18676\u001B[0m \t\t\t)\n\u001B[0;32m  18677\u001B[0m                 \u001B[1;32mif\u001B[0m \u001B[0mret\u001B[0m \u001B[1;32mis\u001B[0m \u001B[1;32mnot\u001B[0m \u001B[1;32mNone\u001B[0m\u001B[1;33m:\u001B[0m\u001B[1;33m\u001B[0m\u001B[1;33m\u001B[0m\u001B[0m\n",
      "\u001B[1;31mTypeError\u001B[0m: LARGE_INTEGER must be 'int', or '(int, int)'"
     ]
    }
   ],
   "source": [
    "aa = iKSDoc2D1.GetObjectById(5.0)"
   ],
   "metadata": {
    "collapsed": false,
    "pycharm": {
     "name": "#%%\n"
    }
   }
  },
  {
   "cell_type": "code",
   "execution_count": 7,
   "outputs": [],
   "source": [
    "views = KAPI7.IKompasDocument2D(KS.app7.ActiveDocument).ViewsAndLayersManager.Views\n",
    "v0 = views.ViewByNumber(0)"
   ],
   "metadata": {
    "collapsed": false,
    "pycharm": {
     "name": "#%%\n"
    }
   }
  },
  {
   "cell_type": "code",
   "execution_count": 8,
   "outputs": [],
   "source": [
    "# iDrawingContainer = iView._oleobj_.QueryInterface(kompas_api7_module.IDrawingContainer.CLSID, pythoncom.IID_IDispatch)\n",
    "# iDrawingContainer = kompas_api7_module.IDrawingContainer(iDrawingContainer)\n",
    "iDrawingContainer = QI(v0, KAPI7.IDrawingContainer)"
   ],
   "metadata": {
    "collapsed": false,
    "pycharm": {
     "name": "#%%\n"
    }
   }
  },
  {
   "cell_type": "code",
   "execution_count": 9,
   "outputs": [
    {
     "name": "stdout",
     "output_type": "stream",
     "text": [
      "50.0\n",
      "100.0\n"
     ]
    }
   ],
   "source": [
    "for i in range(iDrawingContainer.Circles.Count):\n",
    "    circl = iDrawingContainer.Circles.Circle(i)\n",
    "    print(circl.Radius)"
   ],
   "metadata": {
    "collapsed": false,
    "pycharm": {
     "name": "#%%\n"
    }
   }
  },
  {
   "cell_type": "code",
   "execution_count": 16,
   "outputs": [],
   "source": [
    "iMacroObjects = iDrawingContainer.MacroObjects"
   ],
   "metadata": {
    "collapsed": false,
    "pycharm": {
     "name": "#%%\n"
    }
   }
  },
  {
   "cell_type": "code",
   "execution_count": null,
   "outputs": [],
   "source": [],
   "metadata": {
    "collapsed": false,
    "pycharm": {
     "name": "#%%\n"
    }
   }
  },
  {
   "cell_type": "code",
   "execution_count": null,
   "outputs": [],
   "source": [
    "# Интерфейс текущего 2д документа в апи7\n",
    "iKSDoc2D = KAPI7.IKompasDocument2D(KS.app7.ActiveDocument)\n",
    "iKSDoc2D1 = QI(iKSDoc2D, KAPI7.IKompasDocument2D1)"
   ],
   "metadata": {
    "collapsed": false,
    "pycharm": {
     "name": "#%%\n"
    }
   }
  },
  {
   "cell_type": "code",
   "execution_count": 10,
   "outputs": [],
   "source": [
    "\n",
    "# и в апи5\n",
    "doc2D = KS.api5.ActiveDocument2D()"
   ],
   "metadata": {
    "collapsed": false,
    "pycharm": {
     "name": "#%%\n"
    }
   }
  },
  {
   "cell_type": "code",
   "execution_count": 11,
   "outputs": [],
   "source": [
    "\n",
    "# свойство \"Наименование\"\n",
    "idProp = KS.propMng.GetProperty(iKSDoc2D, 5.0)"
   ],
   "metadata": {
    "collapsed": false,
    "pycharm": {
     "name": "#%%\n"
    }
   }
  },
  {
   "cell_type": "code",
   "execution_count": null,
   "outputs": [],
   "source": [
    "\n",
    "# собираем макроэлементы в лист\n",
    "macroObjects = CollectMarcoObjects()"
   ],
   "metadata": {
    "collapsed": false,
    "pycharm": {
     "name": "#%%\n"
    }
   }
  },
  {
   "cell_type": "code",
   "execution_count": null,
   "outputs": [],
   "source": [
    "\n",
    "# из листа макроэлементов делаем лист элементов класса ShemElement\n",
    "itemsList = ItemsList(macroObjects)\n",
    "\n",
    "for i in itemsList:\n",
    "    refMacro = i.macro.Reference  # реф используется в апи5 в 2д в качестве указателя на геометрию и прочее\n",
    "\n",
    "    doc2D.ksOpenMacro(refMacro)  # переходим в режим редактирования макроэлемента\n",
    "    iterator = KS.api5.GetIterator()  # создаем итератор - предназначен для перебора объектов заданного типа\n",
    "    iterator.ksCreateIterator(4, refMacro)  # здесь использую для поиска текстового примитива внутри макроэлемта\n",
    "\n",
    "    obj_i = iterator.ksMoveIterator(\"F\")  # выбрать первый объект в итераторе\n",
    "\n",
    "    if doc2D.ksExistObj(obj_i):\n",
    "\n",
    "        iDrawingText = KS.api5.TransferReference(obj_i, 0)  # редактировать текст будем в апи7 - по ссылке получаем соответствующий указатель\n",
    "        iText = QI(iDrawingText, KAPI7.IText)\n",
    "\n",
    "        iText.Str = i.id  # подставить значение\n",
    "        # эта функция полностью заменяет содержимое текста - создает новый со стилем по умолчанию\n",
    "        # т.о. форматирование в текстовом примитиве не сохранится - цвет, размер шрифта, шаг строк править либо настройкой стиля\n",
    "        # либо поверх - как в следующей функии:\n",
    "        styleTextItem(iText.TextLine(0).TextItem(0))  # подкрасить текст - чтобы видно было на чертеже, какие объекты обновляются\n",
    "\n",
    "        iDrawingText.Update()\n",
    "\n",
    "    doc2D.ksEndObj()\n"
   ],
   "metadata": {
    "collapsed": false,
    "pycharm": {
     "name": "#%%\n"
    }
   }
  },
  {
   "cell_type": "code",
   "execution_count": 19,
   "outputs": [],
   "source": [
    "# -*- coding: cp1251 -*-\n",
    "\n",
    "from kompas3d import kAPI7 as KAPI7\n",
    "from win32com.client import Dispatch, gencache\n",
    "import pythoncom\n",
    "\n",
    "\n",
    "class KS(object):\n",
    "    module7 = gencache.EnsureModule(\"{69AC2981-37C0-4379-84FD-5DD2F3C0A520}\", 0, 1, 0)\n",
    "    app7 = Dispatch('KOMPAS.Application.7')\n",
    "    api7 = module7.IKompasAPIObject(app7._oleobj_.QueryInterface(module7.IKompasAPIObject.CLSID, pythoncom.IID_IDispatch))\n",
    "\n",
    "    const = gencache.EnsureModule(\"{2CAF168C-7961-4B90-9DA2-701419BEEFE3}\", 0, 1, 0).constants\n",
    "    propMng = module7.IPropertyMng(app7._oleobj_.QueryInterface(module7.IPropertyMng.CLSID, pythoncom.IID_IDispatch))\n",
    "\n",
    "    module5 = gencache.EnsureModule(\"{0422828C-F174-495E-AC5D-D31014DBBE87}\", 0, 1, 0)\n",
    "    api5 = module5.KompasObject(Dispatch(\"Kompas.Application.5\")._oleobj_.QueryInterface(module5.KompasObject.CLSID, pythoncom.IID_IDispatch))\n",
    "    iDocument3D = api5.Document3D()\n",
    "\n",
    "\n",
    "def QI(fromInterface, toInterface):\n",
    "    return toInterface(fromInterface._oleobj_.QueryInterface(toInterface.CLSID, pythoncom.IID_IDispatch))\n",
    "\n",
    "\n",
    "def CollectMarcoObjects():\n",
    "    views = KAPI7.IKompasDocument2D(KS.app7.ActiveDocument).ViewsAndLayersManager.Views\n",
    "    v0 = views.ViewByNumber(0)\n",
    "    # в данном случае макроэлементы собираются только в нулевом виде\n",
    "    iMacroObjects = QI(v0, KAPI7.IDrawingContainer).MacroObjects\n",
    "    return iMacroObjects\n",
    "\n",
    "\n",
    "def ItemsList(iMacroObjects):\n",
    "    eList = []\n",
    "    for j in range(len(iMacroObjects)):\n",
    "        m = iMacroObjects.MacroObject(j)\n",
    "        eList.append(ShemElement(m))\n",
    "    return eList\n",
    "\n",
    "\n",
    "class ShemElement:\n",
    "    def __init__(self, iMacroObject):\n",
    "        self.macro = iMacroObject\n",
    "        self.propKeeper = QI(self.macro, KAPI7.IPropertyKeeper)\n",
    "        self.id = self.propKeeper.GetPropertyValue(idProp, \"\", True, True)[1]\n",
    "\n",
    "\n",
    "# настройка стиля куска текста\n",
    "def styleTextItem(iTextItem,  height=False):\n",
    "    iTextFont = QI(iTextItem, KAPI7.ITextFont)\n",
    "    iTextFont.Color = 0xC71585\n",
    "    if height:\n",
    "        iTextFont.Height = height\n",
    "    iTextFont.Italic = False\n",
    "    iTextItem.Update()\n",
    "\n",
    "\n",
    "# Интерфейс текущего 2д документа в апи7\n",
    "iKSDoc2D = KAPI7.IKompasDocument2D(KS.app7.ActiveDocument)\n",
    "iKSDoc2D1 = QI(iKSDoc2D, KAPI7.IKompasDocument2D1)\n",
    "\n",
    "# и в апи5\n",
    "doc2D = KS.api5.ActiveDocument2D()\n",
    "\n",
    "# свойство \"Наименование\"\n",
    "idProp = KS.propMng.GetProperty(iKSDoc2D, 5.0)\n",
    "\n",
    "# собираем макроэлементы в лист\n",
    "macroObjects = CollectMarcoObjects()\n",
    "\n",
    "# из листа макроэлементов делаем лист элементов класса ShemElement\n",
    "itemsList = ItemsList(macroObjects)\n",
    "\n",
    "for i in itemsList:\n",
    "    refMacro = i.macro.Reference  # реф используется в апи5 в 2д в качестве указателя на геометрию и прочее\n",
    "\n",
    "    doc2D.ksOpenMacro(refMacro)  # переходим в режим редактирования макроэлемента\n",
    "    iterator = KS.api5.GetIterator()  # создаем итератор - предназначен для перебора объектов заданного типа\n",
    "    iterator.ksCreateIterator(4, refMacro)  # здесь использую для поиска текстового примитива внутри макроэлемта\n",
    "\n",
    "    obj_i = iterator.ksMoveIterator(\"F\")  # выбрать первый объект в итераторе\n",
    "\n",
    "    if doc2D.ksExistObj(obj_i):\n",
    "\n",
    "        iDrawingText = KS.api5.TransferReference(obj_i, 0)  # редактировать текст будем в апи7 - по ссылке получаем соответствующий указатель\n",
    "        iText = QI(iDrawingText, KAPI7.IText)\n",
    "\n",
    "        iText.Str = i.id  # подставить значение\n",
    "        # эта функция полностью заменяет содержимое текста - создает новый со стилем по умолчанию\n",
    "        # т.о. форматирование в текстовом примитиве не сохранится - цвет, размер шрифта, шаг строк править либо настройкой стиля\n",
    "        # либо поверх - как в следующей функии:\n",
    "        styleTextItem(iText.TextLine(0).TextItem(0))  # подкрасить текст - чтобы видно было на чертеже, какие объекты обновляются\n",
    "\n",
    "        iDrawingText.Update()\n",
    "\n",
    "    doc2D.ksEndObj()\n"
   ],
   "metadata": {
    "collapsed": false,
    "pycharm": {
     "name": "#%%\n"
    }
   }
  },
  {
   "cell_type": "code",
   "execution_count": null,
   "outputs": [],
   "source": [],
   "metadata": {
    "collapsed": false,
    "pycharm": {
     "name": "#%%\n"
    }
   }
  },
  {
   "cell_type": "code",
   "execution_count": null,
   "outputs": [],
   "source": [],
   "metadata": {
    "collapsed": false,
    "pycharm": {
     "name": "#%%\n"
    }
   }
  },
  {
   "cell_type": "code",
   "execution_count": 21,
   "outputs": [
    {
     "data": {
      "text/plain": "True"
     },
     "execution_count": 21,
     "metadata": {},
     "output_type": "execute_result"
    }
   ],
   "source": [
    "# -*- coding: utf-8 -*-\n",
    "\n",
    "import pythoncom\n",
    "from win32com.client import Dispatch, gencache\n",
    "\n",
    "#  Получи константы\n",
    "kompas6_constants = gencache.EnsureModule(\"{75C9F5D0-B5B8-4526-8681-9903C567D2ED}\", 0, 1, 0).constants\n",
    "\n",
    "#  Получи API интерфейсов версии 7\n",
    "kompas_api7_module = gencache.EnsureModule(\"{69AC2981-37C0-4379-84FD-5DD2F3C0A520}\", 0, 1, 0)\n",
    "kompas_api_object = kompas_api7_module.IKompasAPIObject(Dispatch(\"Kompas.Application.7\")._oleobj_.QueryInterface(kompas_api7_module.IKompasAPIObject.CLSID, pythoncom.IID_IDispatch))\n",
    "application = kompas_api_object.Application\n",
    "\n",
    "#  Получи интерфейс активного документа\n",
    "kompas_document = application.ActiveDocument\n",
    "\n",
    "#  Создай графический объект \"Текст на чертеже\"\n",
    "kompas_document_2d = kompas_api7_module.IKompasDocument2D(kompas_document)\n",
    "views_and_layers_manager = kompas_document_2d.ViewsAndLayersManager\n",
    "views = views_and_layers_manager.Views\n",
    "view = views.ActiveView\n",
    "drawing_container = kompas_api7_module.IDrawingContainer(view)\n",
    "drawing_texts = drawing_container.DrawingTexts\n",
    "drawing_text = drawing_texts.Add()\n",
    "drawing_text.X = 60.0289685\n",
    "drawing_text.Y = 161.6975367\n",
    "drawing_text.Angle = 0.0\n",
    "drawing_text.HFormat = kompas6_constants.ksHFormatNot\n",
    "drawing_text.VFormat = False\n",
    "drawing_text.Allocation = kompas6_constants.ksAlLeft\n",
    "drawing_text.MirrorSymmetry = False\n",
    "\n",
    "text = kompas_api7_module.IText(drawing_text)\n",
    "text.Style = kompas6_constants.ksTSDrawingAnnotation\n",
    "\n",
    "text_line = text.Add()\n",
    "text_line.Style = kompas6_constants.ksTSDrawingAnnotation\n",
    "text_line.Step = 7.0\n",
    "text_line.Align = kompas6_constants.ksAlignLeft\n",
    "text_line.IndentedLine = 0.0\n",
    "text_line.StepBeforeParagraph = 0.0\n",
    "text_line.StepAfterParagraph = 0.0\n",
    "text_line.LeftEdge = 0.0\n",
    "text_line.RightEdge = 0.0\n",
    "text_line.Level = 0\n",
    "text_line.Numbering = kompas6_constants.ksTNumbNoNumber\n",
    "text_line.NewPage = False\n",
    "\n",
    "text_item = text_line.Add()\n",
    "text_item.ItemType = kompas6_constants.ksTItString\n",
    "text_item.NewLine = True\n",
    "text_item.Str = \"Текст позиции \"\n",
    "\n",
    "text_font = kompas_api7_module.ITextFont(text_item)\n",
    "text_font.FontName = \"GOST type A\"\n",
    "text_font.Height = 5.0\n",
    "text_font.WidthFactor = 1.0\n",
    "text_font.Color = 0\n",
    "text_font.Bold = False\n",
    "text_font.Italic = True\n",
    "text_font.Underline = False\n",
    "text_font.TextLineStep = False\n",
    "\n",
    "text_item = text_line.Add()\n",
    "text_item.ItemType = kompas6_constants.ksTItHyperText\n",
    "text_item.NewLine = False\n",
    "\n",
    "text_font = kompas_api7_module.ITextFont(text_item)\n",
    "text_font.FontName = \"GOST type A\"\n",
    "text_font.Height = 5.0\n",
    "text_font.WidthFactor = 1.0\n",
    "text_font.Color = 0\n",
    "text_font.Bold = False\n",
    "text_font.Italic = True\n",
    "text_font.Underline = False\n",
    "text_font.TextLineStep = False\n",
    "\n",
    "hypertext_reference_param = kompas_api7_module.IHypertextReferenceParam(text_item)\n",
    "hypertext_reference_param.TextLineIndex = 0\n",
    "hypertext_reference_param.LinkObject = kompas_api7_module.ISymbols2DContainer(views.View(0)).Leaders(0)\n",
    "hypertext_reference_param.HypertextType = kompas6_constants.ksHTObjectText\n",
    "text_item.Update()\n",
    "\n",
    "drawing_text.Update()\n"
   ],
   "metadata": {
    "collapsed": false,
    "pycharm": {
     "name": "#%%\n"
    }
   }
  },
  {
   "cell_type": "code",
   "execution_count": null,
   "outputs": [],
   "source": [
    "'''Получить координаты всех отрезков в чертеже'''\n",
    "\n",
    "# -*- coding: utf-8 -*-\n",
    "from win32com.client import Dispatch, gencache\n",
    "\n",
    "#  Получи константы\n",
    "kompas6_constants = gencache.EnsureModule(\"{75C9F5D0-B5B8-4526-8681-9903C567D2ED}\", 0, 1, 0).constants\n",
    "# API7\n",
    "kompas_api7_module = gencache.EnsureModule('{69AC2981-37C0-4379-84FD-5DD2F3C0A520}', 0, 1, 0)\n",
    "application = Dispatch('Kompas.Application.7')\n",
    "\n",
    "kompas_document = application.ActiveDocument\n",
    "if kompas_document is not None:\n",
    "    # ksDocumentDrawing - 1 - Чертеж\n",
    "    # ksDocumentFragment - 2 - Фрагмент\n",
    "    document_type = kompas_document.DocumentType\n",
    "    if document_type == 1 or document_type == 2:\n",
    "        kompas_document_2d = kompas_api7_module.IKompasDocument2D(kompas_document)\n",
    "        # Менеджер слоев и видов графического документа.\n",
    "        views_and_layers_manager = kompas_document_2d.ViewsAndLayersManager\n",
    "        # Интерфейс коллекции видов графического документа.\n",
    "        views = views_and_layers_manager.Views\n",
    "        active_view = views.ActiveView\n",
    "        # Интерфейс контейнера объектов вида графического документа\n",
    "        drawing_container = kompas_api7_module.IDrawingContainer(active_view)\n",
    "        # ksDrLineSeg 1 Отрезок\n",
    "        objects = drawing_container.Objects(kompas6_constants.ksDrLineSeg)\n",
    "        print(objects)\n",
    "        for obj in objects:\n",
    "            x1 = obj.X1\n",
    "            x2 = obj.X2\n",
    "            y1 = obj.Y1\n",
    "            y2 = obj.Y2\n",
    "            print(x1, x2, y1, y2)"
   ],
   "metadata": {
    "collapsed": false,
    "pycharm": {
     "name": "#%%\n"
    }
   }
  }
 ],
 "metadata": {
  "kernelspec": {
   "display_name": "Python 3",
   "language": "python",
   "name": "python3"
  },
  "language_info": {
   "codemirror_mode": {
    "name": "ipython",
    "version": 2
   },
   "file_extension": ".py",
   "mimetype": "text/x-python",
   "name": "python",
   "nbconvert_exporter": "python",
   "pygments_lexer": "ipython2",
   "version": "2.7.6"
  }
 },
 "nbformat": 4,
 "nbformat_minor": 0
}