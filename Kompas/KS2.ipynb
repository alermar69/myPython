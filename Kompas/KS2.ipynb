{
 "cells": [
  {
   "cell_type": "code",
   "execution_count": 1,
   "outputs": [],
   "source": [
    "import threading\n",
    "from builtins import property\n",
    "\n",
    "import numpy as np\n",
    "from kompas3d import kAPI7 as KAPI7\n",
    "from win32com.client import Dispatch, gencache, VARIANT\n",
    "import pythoncom\n",
    "from sqlalchemy import create_engine\n",
    "import pandas as pd\n",
    "import re\n",
    "\n",
    "\n",
    "\n",
    "class KS3DAPP(object):\n",
    "     def __init__(self):\n",
    "        self.module7 = gencache.EnsureModule(\"{69AC2981-37C0-4379-84FD-5DD2F3C0A520}\", 0, 1, 0)\n",
    "        self.app7 = Dispatch('KOMPAS.Application.7')\n",
    "        self.api7 = self.module7.IKompasAPIObject(\n",
    "            self.app7._oleobj_.QueryInterface(self.module7.IKompasAPIObject.CLSID, pythoncom.IID_IDispatch))\n",
    "        self.const = gencache.EnsureModule(\"{2CAF168C-7961-4B90-9DA2-701419BEEFE3}\", 0, 1, 0).constants\n",
    "        self.const6 = gencache.EnsureModule(\"{75C9F5D0-B5B8-4526-8681-9903C567D2ED}\", 0, 1, 0).constants\n",
    "        self.propMng = self.module7.IPropertyMng(\n",
    "            self.app7._oleobj_.QueryInterface(self.module7.IPropertyMng.CLSID, pythoncom.IID_IDispatch))\n",
    "        self.module5 = gencache.EnsureModule(\"{0422828C-F174-495E-AC5D-D31014DBBE87}\", 0, 1, 0)\n",
    "        self.api5 = self.module5.KompasObject(\n",
    "            Dispatch(\"Kompas.Application.5\")._oleobj_.QueryInterface(self.module5.KompasObject.CLSID,\n",
    "                                                                     pythoncom.IID_IDispatch))\n",
    "        self.app = self.api7.Application\n",
    "\n",
    "class KS3Docs:\n",
    "    def __init__(self, ks3dapp):\n",
    "        self.ks3dapp = ks3dapp\n",
    "        self.app = ks3dapp.app\n",
    "        self.df = self.get_df()\n",
    "        self.docs = {}\n",
    "        self.docs_name = {}\n",
    "        self.get_docs()\n",
    "\n",
    "    def get_docs(self):\n",
    "        for d in self.app.Documents:\n",
    "            if self.docs.get(d.Reference) is None:\n",
    "                doc = KS3Doc(self.ks3dapp, d)\n",
    "                self.docs[d.Reference] = doc\n",
    "                self.docs_name[d.Name] = doc\n",
    "\n",
    "\n",
    "    def create_doc(self, d):\n",
    "        doc = KS3Doc(self.ks3dapp, d)\n",
    "        return doc\n",
    "\n",
    "\n",
    "    def get_df(self):\n",
    "        ls = []\n",
    "        for d in self.app.Documents:\n",
    "            ls.append([d.Name, d.Active, d.Path, d.PathName, d.Reference])\n",
    "        df = pd.DataFrame(ls, columns=['name', 'active', 'path', 'path_name', 'ref'])\n",
    "        return df\n",
    "\n",
    "    @property\n",
    "    def df(self):\n",
    "        return self.get_df()\n",
    "\n",
    "    @df.setter\n",
    "    def df(self, value):\n",
    "        self._df = value\n",
    "\n",
    "    def update_df(self):\n",
    "        self.df = self.get_df()\n",
    "\n",
    "    def get_doc_by_path(self, path_name):\n",
    "        return self.app.Documents.Item(path_name)\n",
    "\n",
    "    def get_doc_by_ref(self, ref):\n",
    "        return self.app.Documents.Item(ref)\n",
    "\n",
    "    def get_doc_by_index(self, index):\n",
    "        return self.app.Documents.Item(index)\n",
    "\n",
    "class KS3Doc:\n",
    "\n",
    "    def __init__(self, ks3dapp, idoc):\n",
    "        self.ks3dapp = ks3dapp\n",
    "\n",
    "        self.doc = idoc\n",
    "        self.doc1 = self.ks3dapp.module7.IKompasDocument1(self.doc)\n",
    "        self.doc2d = self.ks3dapp.module7.IKompasDocument2D(self.doc)\n",
    "        self.doc2d1 = self.ks3dapp.module7.IKompasDocument2D1(self.doc2d)\n",
    "        self.doc2D5 = self.ks3dapp.api5.ActiveDocument2D()\n",
    "\n",
    "        self.views_and_layers_manager = self.doc2d.ViewsAndLayersManager\n",
    "        self.views = self.views_and_layers_manager.Views\n",
    "        self.view = self.views.ActiveView\n",
    "\n",
    "        self.drawing_container = self.ks3dapp.module7.IDrawingContainer(self.view)\n",
    "        self.symbols_2d_container = self.ks3dapp.module7.ISymbols2DContainer(self.view)\n",
    "        self.drawing_texts = self.drawing_container.DrawingTexts\n",
    "\n",
    "        self.df_texts = None\n",
    "        self.ds_texts = None\n",
    "        self.df_tables = None\n",
    "        self.ds_tables = None\n",
    "        self.df_lines = None\n",
    "        self.ds_lines = None\n",
    "        self.df_polylines = None\n",
    "        self.ds_polylines = None\n",
    "        self.df_circles = None\n",
    "        self.ds_circles = None\n",
    "\n",
    "        self._init_df_ds()\n",
    "\n",
    "    def _init_df_ds(self):\n",
    "        self._init_df_ds_texts()\n",
    "        self._init_df_ds_circles()\n",
    "        self._init_df_ds_lines()\n",
    "        # self._init_df_ds_polylines()\n",
    "\n",
    "\n",
    "    def _init_df_ds_texts(self):\n",
    "        ls = []\n",
    "        ds = {}\n",
    "        for i in range(self.drawing_texts.Count):\n",
    "            t = self.drawing_texts.DrawingText(i)\n",
    "            t1 = self.ks3dapp.module7.IText(t)\n",
    "            ls.append([t1.Str, t.X + t.Width / 2, t.Y + t.Height / 2, t.Reference])\n",
    "            ds[t.Reference] = t\n",
    "        self.df_texts = pd.DataFrame(ls, columns=['text', 'x', 'y', 'ref'])\n",
    "        self.ds_texts = ds\n",
    "\n",
    "    def _init_df_ds_lines(self):\n",
    "        ls = []\n",
    "        ds = {}\n",
    "        for i in range(self.drawing_container.LineSegments.Count):\n",
    "            t = self.drawing_container.LineSegments.LineSegment(i)\n",
    "            ls.append([t.X1, t.Y1, t.X2, t.Y2, t.Reference])\n",
    "            ds[t.Reference] = t\n",
    "        self.df_lines = pd.DataFrame(ls, columns=['x1', 'y1', 'x2', 'y2', 'ref'])\n",
    "        self.ds_lines = ds\n",
    "\n",
    "    def _init_df_ds_polylines(self):\n",
    "        ls = []\n",
    "        ds = {}\n",
    "        for i in range(self.drawing_container.PolyLines2D.Count):\n",
    "            t = self.drawing_container.PolyLines2D.PolyLine2D(i)\n",
    "            ls.append([t.X1, t.Y1, t.X2, t.Y2, t.Reference])\n",
    "            ds[t.Reference] = t\n",
    "        self.df_polylines = pd.DataFrame(ls, columns=['x1', 'y1', 'x2', 'y2', 'ref'])\n",
    "        self.ds_polylines = ds\n",
    "\n",
    "    def _init_df_ds_circles(self):\n",
    "        ls = []\n",
    "        ds = {}\n",
    "        for i in range(self.drawing_container.Circles.Count):\n",
    "            t = self.drawing_container.Circles.Circle(i)\n",
    "            ls.append([t.Xc, t.Yc, t.Radius, t.Reference])\n",
    "            ds[t.Reference] = t\n",
    "        self.df_circles = pd.DataFrame(ls, columns=['x', 'y', 'radius', 'ref'])\n",
    "        self.ds_circles = ds\n",
    "\n",
    "class TextTools:\n",
    "    def __init__(self, ks, doc):\n",
    "        self.KS = ks\n",
    "        self.doc = doc\n",
    "        self.ds = self.doc.ds_texts\n",
    "        self.df = self.doc.df_texts\n",
    "        self.df_circles = self.doc.df_circles\n",
    "        self.df_lines = self.doc.df_lines\n",
    "\n",
    "    def get_idraw_text(self, ref):\n",
    "        return self.ds[ref]\n",
    "\n",
    "    def get_itext(self, ref):\n",
    "        idraw_text = self.get_idraw_text(ref)\n",
    "        return self.KS.module7.IText(idraw_text)\n",
    "\n",
    "    def select_ref(self, ref):\n",
    "        idraw_text = self.get_idraw_text(ref)\n",
    "        itext = self.KS.module7.IText(idraw_text)\n",
    "        self.doc.doc2d1.SelectionManager.Select(itext)\n",
    "\n",
    "    def select_refs(self, refs):\n",
    "        for ref in refs:\n",
    "            self.select_ref(ref)\n",
    "\n",
    "    def df_match(self, match):\n",
    "        return self.df[self.df['text'].str.match(match)]\n",
    "\n",
    "    def find_text(self, x, y,  dx_left, dx_right, dy_up, dy_down, df_poisk=None, return_only_df=False, col_name_text='text',  lst_filter=None, lst_exclude=None):\n",
    "        if df_poisk is None:\n",
    "            df_poisk = self.df\n",
    "\n",
    "        df = df_poisk[(df_poisk['x'] >= x - dx_left) & (df_poisk['x'] <= x + dx_right) & (df_poisk['y'] >= y - dy_down) & (df_poisk['y'] <= y + dy_up)]\n",
    "\n",
    "        if lst_filter is not None:\n",
    "            # выбрать только объекты из фильтра\n",
    "            df = df[df['text'].isin(lst_filter)]\n",
    "\n",
    "        if lst_exclude is not None:\n",
    "            # выбрать только объекты из фильтра\n",
    "            df = df[~df['text'].isin(lst_exclude)]\n",
    "\n",
    "        if len(df) == 0:\n",
    "            return None\n",
    "        else:\n",
    "            ref1 = int(df.iloc[0]['ref'])\n",
    "            if return_only_df:\n",
    "                return df\n",
    "            else:\n",
    "                res = {\n",
    "                    'text': df.iloc[0][col_name_text],\n",
    "                    'ref': ref1,\n",
    "                    'x': df.iloc[0]['x'],\n",
    "                    'y': df.iloc[0]['y'],\n",
    "                    'width': self.ds[ref1].Width,\n",
    "                    'df': df\n",
    "                }\n",
    "            return res\n",
    "\n",
    "    # найти объект в пределах отклонения по X Y, и содержащий указанный текст\n",
    "    def find_text_ref(self, ref,  dx_left, dx_right, dy_up, dy_down, df_poisk=None, return_only_df=False, col_name_text='text', lst_filter=None, lst_exclude=None):\n",
    "        x, y = self.get_xy(ref)\n",
    "\n",
    "        dt = self.find_text(x, y, dx_left, dx_right, dy_up, dy_down, df_poisk, return_only_df, col_name_text, lst_filter, lst_exclude)\n",
    "        if dt is not None:\n",
    "            # исключить текущий объект\n",
    "            df = dt['df']\n",
    "            df = df[df['ref'] != ref]\n",
    "            dt['df'] = df\n",
    "\n",
    "            if len(df) == 0:\n",
    "                return None\n",
    "            else:\n",
    "                ref1 = int(df.iloc[0]['ref'])\n",
    "                if return_only_df:\n",
    "                    return df\n",
    "                else:\n",
    "                    res = {\n",
    "                        'text': df.iloc[0][col_name_text],\n",
    "                        'ref': ref1,\n",
    "                        'x': df.iloc[0]['x'],\n",
    "                        'y': df.iloc[0]['y'],\n",
    "                        'width': self.ds[ref1].Width,\n",
    "                        'df': df\n",
    "                    }\n",
    "                return res\n",
    "        else:\n",
    "            return None\n",
    "\n",
    "    def find_line(self, x, y,  dx_left, dx_right, dy_up, dy_down):\n",
    "        df = self.df_lines[(self.df_lines['x1'] >= x - dx_left) & (self.df_lines['x1'] <= x + dx_right) & (self.df_lines['y1'] >= y - dy_down) & (self.df_lines['y1'] <= y + dy_up)]\n",
    "\n",
    "        df1 = self.df_lines[(self.df_lines['x2'] >= x - dx_left) & (self.df_lines['x2'] <= x + dx_right) & (self.df_lines['y2'] >= y - dy_down) & (self.df_lines['y2'] <= y + dy_up)]\n",
    "\n",
    "        if len(df) != 0:\n",
    "            ref1 = int(df.iloc[0]['ref'])\n",
    "            res = {\n",
    "                'ref': ref1,\n",
    "                'x': df.iloc[0]['x1'],\n",
    "                'y': df.iloc[0]['y1'],\n",
    "                'df': df\n",
    "            }\n",
    "            return res\n",
    "\n",
    "        if len(df1) != 0:\n",
    "            ref1 = int(df1.iloc[0]['ref'])\n",
    "            res = {\n",
    "                'ref': ref1,\n",
    "                'x': df1.iloc[0]['x2'],\n",
    "                'y': df1.iloc[0]['y2'],\n",
    "                'df': df1\n",
    "            }\n",
    "            return res\n",
    "\n",
    "\n",
    "    def find_cirle(self, x, y,  dx_left, dx_right, dy_up, dy_down, radius_lt=None, radius_gt=None,  df_poisk=None):\n",
    "        if df_poisk is None:\n",
    "            df_poisk = self.df_circles\n",
    "        df = df_poisk[(df_poisk['x'] >= x - dx_left) & (df_poisk['x'] <= x + dx_right) & (df_poisk['y'] >= y - dy_down) & (df_poisk['y'] <= y + dy_up)]\n",
    "        # выбрать только объекты с указанным радиусом\n",
    "        if radius_lt is not None:\n",
    "            df = df[df['radius'] < radius_lt]\n",
    "        if radius_gt is not None:\n",
    "            df = df[df['radius'] > radius_gt]\n",
    "\n",
    "        if len(df) == 0:\n",
    "            return None\n",
    "        else:\n",
    "            ref1 = int(df.iloc[0]['ref'])\n",
    "            res = {\n",
    "                'ref': ref1,\n",
    "                'x': df.iloc[0]['x'],\n",
    "                'y': df.iloc[0]['y'],\n",
    "                'radius': df.iloc[0]['radius'],\n",
    "                'df': df\n",
    "            }\n",
    "            return res\n",
    "\n",
    "    def find_cirle_ref(self, ref,  dx_left, dx_right, dy_up, dy_down, radius_lt=None, radius_gt=None,  df_poisk=None):\n",
    "        x, y = self.get_xy(ref)\n",
    "        dt = self.find_cirle(x, y, dx_left, dx_right, dy_up, dy_down, radius_lt, radius_gt,  df_poisk)\n",
    "        return dt\n",
    "\n",
    "    def get_xy(self, ref):\n",
    "        df = self.df[self.df['ref']==ref]\n",
    "        x = df.iloc[0]['x']\n",
    "        y = df.iloc[0]['y']\n",
    "        return x, y\n",
    "\n",
    "    def add_text(self, text, x, y, ref_text_font, rotation=0):\n",
    "\n",
    "        draw_txt = self.doc.drawing_texts.Add()\n",
    "        draw_txt.X = x\n",
    "        draw_txt.Y = y\n",
    "\n",
    "        itext = self.KS.module7.IText(draw_txt)\n",
    "        itext.Str = text\n",
    "\n",
    "        ds_font = self.font_copy(ref_text_font)\n",
    "        self.set_font(itext, **ds_font)\n",
    "        draw_txt.Update()\n",
    "\n",
    "        draw_txt.X -= draw_txt.Width / 2\n",
    "        draw_txt.Y -= draw_txt.Height / 2\n",
    "        if rotation != 0:\n",
    "            draw_txt.Angle = rotation\n",
    "        draw_txt.Update()\n",
    "\n",
    "    def replace(self, ref, text):\n",
    "        if ref is not None:\n",
    "            idraw_text = self.ds[ref]\n",
    "            if idraw_text is not None:\n",
    "                itext = self.KS.module7.IText(idraw_text)\n",
    "                itext.Str = text\n",
    "                idraw_text.Update()\n",
    "\n",
    "\n",
    "    def font_copy(self, ref_text_font):\n",
    "        idraw_text_font = self.ds[ref_text_font]\n",
    "        itext_font = self.KS.module7.IText(idraw_text_font)\n",
    "\n",
    "        tf = self.KS.module7.ITextFont(itext_font.TextLines[0].TextItems[0])\n",
    "\n",
    "        ds_font = {\n",
    "            'height': tf.Height,\n",
    "            'name': tf.FontName,\n",
    "            'bold': tf.Bold,\n",
    "            'italic': tf.Italic,\n",
    "            'underline': tf.Underline,\n",
    "            'widthfactor': tf.WidthFactor,\n",
    "            'color': tf.Color\n",
    "        }\n",
    "\n",
    "        # self.set_font(itext, tf.Height, tf.FontName, tf.Bold, tf.Italic, tf.Underline, tf.WidthFactor, tf.Color)\n",
    "        return ds_font\n",
    "\n",
    "    def set_font(self, itext, height=3, name='Arial', bold=False, italic=False, underline=False, widthfactor=1.0, color=0):\n",
    "        self.set_font_lines(itext, None, height, name, bold, italic, underline, widthfactor, color)\n",
    "\n",
    "    def set_font_lines(self, itext, lines=None, height=3, name='Arial', bold=False, italic=False, underline=False, widthfactor=1.0, color=0):\n",
    "        if lines is None:\n",
    "            lines = itext.TextLines\n",
    "        for line in lines:\n",
    "            self.set_font_items(line.TextItems, height, name, bold, italic, underline, widthfactor, color)\n",
    "\n",
    "\n",
    "    def set_font_items(self, items, height=3, name='Arial', bold=False, italic=False, underline=False, widthfactor=1.0, color=0):\n",
    "        for item in items:\n",
    "            self.set_font_item(item, height, name, bold, italic, underline, widthfactor, color)\n",
    "\n",
    "    def set_font_item(self, item, height=3, name='Arial', bold=False, italic=False, underline=False, widthfactor=1.0, color=0):\n",
    "        tf = self.KS.module7.ITextFont(item)\n",
    "        tf.Height = height\n",
    "        tf.FontName = name\n",
    "        tf.Bold = bold\n",
    "        tf.Italic = italic\n",
    "        tf.Underline = underline\n",
    "        tf.WidthFactor = widthfactor\n",
    "        tf.Color = color\n",
    "        item.Update()\n",
    "\n",
    "df8 = None\n",
    "df9 = None\n",
    "i9 = None\n",
    "\n",
    "class Tools:\n",
    "    def __init__(self, text_tools_st, text_tools_rcn):\n",
    "        self.df = None\n",
    "        self.text_tools_st = text_tools_st\n",
    "        self.text_tools_rcn = text_tools_rcn\n",
    "\n",
    "        self.ls_contact = ['1', '2', '3', '4', '11', '12', '13', '21', '22', '23', '31', '32', '33', '41', '42', '43',\n",
    "                           '51', '52', '53', '61', '62', '63', '71', '72', '73', '81', '82', '83', '111', '112', '113',\n",
    "                           '121', '122', '123']\n",
    "\n",
    "        self.ds_st_b = {\n",
    "            'df_101': ['В19', 'В110', 'В111', 'В112', 'В29', 'В210', 'В211', 'В212', 'В18', 'В28', ],\n",
    "            'df_C': ['В16', 'В17', 'В26', 'В27', 'В25'],\n",
    "            'df_contacts': ['В18', 'В28'],\n",
    "            'df_bok': ['Б9', 'Б10', 'Б11', 'Б12', 'Б4', 'Б3', 'Б2', 'Б1'],\n",
    "        }\n",
    "        self.df_st_b = None\n",
    "\n",
    "        self.df_st_shina = None\n",
    "        self.df_st_sh_p_ls = None\n",
    "        self.df_B = None\n",
    "        self.df_101 = None\n",
    "        self.df_C = None\n",
    "\n",
    "        self.df_sx_sh_circle = None\n",
    "        self.df_sx_contacts = None\n",
    "        self.df_st_shina_montag = pd.DataFrame(columns=['st', 'sh', 'loc', 'contact', 'polka'])\n",
    "        self.ls_st_name = ['1', '2', '3']\n",
    "        self.ls_st_sh_name = ['М', 'П', 'МСХ', 'СХМ']\n",
    "\n",
    "    def sx_search_contacts(self):\n",
    "        global df9, i9\n",
    "        ls = []\n",
    "        df1 = self.text_tools_rcn.df_match('^[1-3]-\\d{2,3}')\n",
    "\n",
    "        for i in range(len(df1)):\n",
    "            i9 = i\n",
    "            ref1 = df1.iloc[i]['ref']\n",
    "            t_loc = df1.iloc[i]['text']\n",
    "            dt_name = self.text_tools_rcn.find_text_ref(ref1, 8, 8, 0, 5, lst_exclude=self.ls_contact)\n",
    "            if dt_name is not None:\n",
    "                t_name = dt_name['text']\n",
    "                dc_name = self.text_tools_rcn.find_cirle_ref(dt_name['ref'], 20, 20, 8, 9, radius_gt=3)\n",
    "                if dc_name is not None:\n",
    "                    dt_contact = self.text_tools_rcn.find_text(dc_name['x'], dc_name['y'], 10, 10, 10, 10,\n",
    "                                                               lst_filter=self.ls_contact)\n",
    "                else:\n",
    "                    dt_contact = self.text_tools_rcn.find_text_ref(dt_name['ref'], 20, 20, 0, 12,\n",
    "                                                                   lst_filter=self.ls_contact)\n",
    "\n",
    "                if dt_contact is not None:\n",
    "                    df9 = dt_contact\n",
    "                    df_contact = dt_contact['df']\n",
    "                    if df_contact['text'].tolist() == ['1', '2', '3', '4']:\n",
    "                        df_contact = df_contact[df_contact['text'].isin(['2', '4'])]\n",
    "                    ds = self._direction_contact(df_contact)\n",
    "                    group = t_loc + ';' + ':'.join(df_contact['text'].values.tolist())\n",
    "\n",
    "                    for j in range(len(df_contact)):\n",
    "                        t_contact = df_contact.iloc[j]['text']\n",
    "                        t_ref = df_contact.iloc[j]['ref']\n",
    "                        t_x = df_contact.iloc[j]['x']\n",
    "                        t_y = df_contact.iloc[j]['y']\n",
    "                        st, p, r = self.get_loc(t_loc)\n",
    "                        ls.append([t_loc, st, p, r, t_name, t_contact, t_ref, t_x, t_y, group, ds[t_contact][0],\n",
    "                                   ds[t_contact][1]])\n",
    "\n",
    "        self.df_sx_contacts = pd.DataFrame(ls, columns=['loc', 'st', 'p', 'r', 'name', 'contact', 'ref', 'x', 'y', 'group', 'direction',\n",
    "                                        'side'])\n",
    "\n",
    "        self.df_sx_contacts[['b1', 'b2', 'l1', 'l2', 'pit']] = None\n",
    "\n",
    "    def sx_search_v(self):\n",
    "        self.df_B = self.text_tools_rcn.df_match('^[1-3]-[ВБ]')\n",
    "        self.df_B = self.df_B.apply(self._rep_xy_on_circle, axis=1)\n",
    "        self.df_101 = self.text_tools_rcn.df_match('^10[1-5]-')\n",
    "        self.df_101 = self.df_101.apply(self._rep_xy_on_circle, axis=1)\n",
    "        self.df_C = self.text_tools_rcn.df_match('^C[1-8]:')\n",
    "        self.df_C = self.df_C.apply(self._rep_xy_on_circle, axis=1)\n",
    "\n",
    "        # отсортировать по x возрастанию потом y по убыванию\n",
    "        self.df_B = self.df_B.sort_values(by=['x', 'y'], key=lambda x: x.map(dict(zip(x, range(len(x))))))\n",
    "\n",
    "    def sx_search_sh_circle(self):\n",
    "        df_sh = self.text_tools_rcn.df_match(r'[1-3]-Ш')\n",
    "\n",
    "        for i in range(len(df_sh)):\n",
    "            ref1 = df_sh.iloc[i]['ref']\n",
    "            ds = self.text_tools_rcn.find_text_ref(ref1, 6, 6, 0, 5)\n",
    "            if ds is not None:\n",
    "                df2 = None\n",
    "                name_sh = ds['text']  # 'П'\n",
    "                ds1 = self.text_tools_rcn.find_cirle_ref(ds['ref'], 5, 5, 0, 10, radius_lt=2)\n",
    "                if ds1 is not None:\n",
    "                    df2 = ds1['df']\n",
    "                    df2['pit'] = name_sh\n",
    "\n",
    "                ds_lines = self.text_tools_rcn.find_line(ds['x'], ds['y'], 5, 5, 0, 10)\n",
    "\n",
    "                if ds_lines is not None:\n",
    "                    df_lines = ds_lines['df']\n",
    "\n",
    "                    is_line = False\n",
    "                    for i in range(len(df_lines)):\n",
    "                        res = df_lines.iloc[i]\n",
    "                        if res['x1'] == res['x2']:\n",
    "                            is_line = True\n",
    "                            break\n",
    "                    if is_line:\n",
    "                        df2 = self.text_tools_rcn.find_cirle_ref(ds['ref'], 5, 5, 0, 180, radius_lt=2)['df']\n",
    "                        df2['pit'] = name_sh\n",
    "\n",
    "                if df2 is not None:\n",
    "                    if self.df_sx_sh_circle is None:\n",
    "                        self.df_sx_sh_circle = df2.copy()\n",
    "                    else:\n",
    "                        self.df_sx_sh_circle = self.df_sx_sh_circle.append(df2)\n",
    "\n",
    "        self.sx_set_pit_contact()\n",
    "\n",
    "    def sx_set_pit_contact(self):\n",
    "        df1 = self.df_sx_contacts[self.df_sx_contacts['b1'].isnull()]\n",
    "        for i in range(len(df1)):\n",
    "            res = df1.iloc[i]\n",
    "            ref1 = res['ref']\n",
    "            df2 = self._find_link_by_sh(self.df_sx_sh_circle, res['x'], res['y'], 10, 0, 5, 5, side=res['side'])\n",
    "            if df2 is not None:\n",
    "                df3 = df2['df']\n",
    "                pit = df3['pit'].values[0]\n",
    "\n",
    "                self.df_sx_contacts = self.set_val_df(self.df_sx_contacts, ref1, 'pit', pit)\n",
    "\n",
    "    def st_init_shina(self):\n",
    "        df5 = self.text_tools_st['1'].df_match(r'.Ш-[А-Я]')\n",
    "        df5 = df5.reset_index(drop=True)\n",
    "        df5['st'] = '1'\n",
    "        df5['p'] = df5['text'].apply(lambda x: x.split('Ш-')[0])\n",
    "        df5['pit'] = df5['text'].apply(lambda x: x.split('Ш-')[1])\n",
    "        self.df_st_shina = df5.copy()\n",
    "\n",
    "        df5 = self.text_tools_st['2'].df_match(r'.Ш-[А-Я]')\n",
    "        df5 = df5.reset_index(drop=True)\n",
    "        df5['st'] = '2'\n",
    "        df5['p'] = df5['text'].apply(lambda x: x.split('Ш-')[0])\n",
    "        df5['pit'] = df5['text'].apply(lambda x: x.split('Ш-')[1])\n",
    "        self.df_st_shina = self.df_st_shina.append(df5)\n",
    "\n",
    "        df5 = self.text_tools_st['3'].df_match(r'.Ш-[А-Я]')\n",
    "        df5 = df5.reset_index(drop=True)\n",
    "        df5['st'] = '3'\n",
    "        df5['p'] = df5['text'].apply(lambda x: x.split('Ш-')[0])\n",
    "        df5['pit'] = df5['text'].apply(lambda x: x.split('Ш-')[1])\n",
    "        self.df_st_shina = self.df_st_shina.append(df5)\n",
    "\n",
    "        self.df_st_shina = self.df_st_shina.reset_index(drop=True)\n",
    "\n",
    "        self.df_st_sh_p_ls = self.df_st_shina.groupby(['st', 'pit'])['p'].agg(lambda x: list(x)).reset_index()\n",
    "\n",
    "    def st_init_v(self):\n",
    "        ls_B = ['В15', 'В25', 'В16', 'В26', 'В17', 'В27', 'В18', 'В28', 'В19', 'В29', 'В110', 'В111', 'В112', 'В210',\n",
    "                'В211', 'В212', 'Б9', 'Б10', 'Б11', 'Б12', 'Б4', 'Б3', 'Б2', 'Б1']\n",
    "        ls_st = ['1', '2', '3']\n",
    "        ls = []\n",
    "        for st in ls_st:\n",
    "            for b in ls_B:\n",
    "                for i in range(1, 21):\n",
    "                    ls.append([st, b, i])\n",
    "        self.df_st_b = pd.DataFrame(ls, columns=['st', 'b', 'n'])\n",
    "        self.df_st_b[['l1', 'l2', 'p']] = ''\n",
    "\n",
    "\n",
    "\n",
    "    def st_montag_B(self):\n",
    "        global df8, df9\n",
    "        for i in range(len(self.df_B)):\n",
    "            res = self.df_B.iloc[i]\n",
    "            text_b = res['text']\n",
    "            df1, df_name1 = self._find_link_by_b(res['x'], res['y'], 10, 0, 5, 5, side='left')\n",
    "            df2, df_name2 = self._find_link_by_b(res['x'], res['y'], 0, 0, 5, 5, side='right')\n",
    "            df8 = df1\n",
    "            df9 = df2\n",
    "            loc = None\n",
    "            contact = None\n",
    "            df_name_st = None\n",
    "            df_name_no_st = None\n",
    "            if df_name1 == 'df_contacts':\n",
    "                loc = df1.iloc[0]['loc']\n",
    "                df_cont = df1\n",
    "                contact = df1.iloc[0]['contact']\n",
    "                b1_dev = df1.iloc[0]['b1']\n",
    "                b2_dev = df1.iloc[0]['b2']\n",
    "                df_name_st = df_name1\n",
    "            if df_name1 == 'df_101' or df_name1 == 'df_C':\n",
    "                df_no_cont = df1\n",
    "                b_st = df1.iloc[0]['text']\n",
    "                df_name_no_st = df_name1\n",
    "\n",
    "            if df_name2 == 'df_contacts':\n",
    "                loc = df2.iloc[0]['loc']\n",
    "                df_cont = df2\n",
    "                contact = df2.iloc[0]['contact']\n",
    "                b1_dev = df2.iloc[0]['b1']\n",
    "                b2_dev = df2.iloc[0]['b2']\n",
    "                df_name_st = df_name2\n",
    "            if df_name2 == 'df_101' or df_name2 == 'df_C':\n",
    "                df_no_cont = df2\n",
    "                b_st = df2.iloc[0]['text']\n",
    "                df_name_no_st = df_name2\n",
    "\n",
    "            if loc is not None and df_name_no_st is not None:\n",
    "                st, p, r = self.get_loc(loc)\n",
    "                ls = self.ds_st_b[df_name_no_st]\n",
    "                if 'Б' in text_b:\n",
    "                    ls = self.ds_st_b['df_bok']\n",
    "                df_t = self.df_st_b[\n",
    "                    (self.df_st_b['st'] == st) & (self.df_st_b['b'].isin(ls)) & (self.df_st_b['l1'] == '')]\n",
    "                df_t = df_t.sort_values(by=['b', 'n'], key=lambda x: x.map(dict(zip(ls, range(len(ls))))))\n",
    "                df_bb = df_t.head(1)\n",
    "                b, n = df_bb['b'].values[0], df_bb['n'].values[0]  #'B110', 1\n",
    "                s_b = f'{st}-{b}-{n}'\n",
    "\n",
    "                self.text_tools_rcn.replace(res['ref'], s_b)\n",
    "                self.add_st_contact(loc=loc, contact=contact, loc_to=[f'{b}-{n}'])\n",
    "                self.add_st_v(st, b, str(n), [f'{p}{r}-{contact}', b_st])\n",
    "\n",
    "                # self.set_val_df(self.df_st_b, df_bb['ref'], 'l1', loc)\n",
    "                # self.set_val_df(self.df_st_b, df_bb['ref'], 'l2', b_st)\n",
    "                self.df_st_b.loc[df_bb.index, 'l1'] =  loc\n",
    "                self.df_st_b.loc[df_bb.index, 'l2'] =  b_st\n",
    "\n",
    "                if self.get_val_df_first(df_cont, 'b1') is None:\n",
    "                    # self.set_val_df(self.df_sx_contacts, df_cont['ref'], 'b1', f'{b}-{n}')\n",
    "                    self.df_sx_contacts.loc[df_cont.index, 'b1'] =  f'{b}-{n}'\n",
    "                else:\n",
    "                    # self.set_val_df(self.df_sx_contacts, df_cont['ref'], 'b2', f'{b}-{n}')\n",
    "                    self.df_sx_contacts.loc[df_cont.index, 'b2'] =  f'{b}-{n}'\n",
    "\n",
    "            if loc is None and df_name_no_st is not None:\n",
    "                st = res['text'][0]\n",
    "                ls = self.ds_st_b[df_name_no_st]\n",
    "                if 'Б' in text_b:\n",
    "                    ls = self.ds_st_b['df_bok']\n",
    "                df_t = self.df_st_b[\n",
    "                    (self.df_st_b['st'] == st) & (self.df_st_b['b'].isin(ls)) & (self.df_st_b['l1'] == '')]\n",
    "                df_t = df_t.sort_values(by=['b', 'n'], key=lambda x: x.map(dict(zip(ls, range(len(ls))))))\n",
    "                df_bb = df_t.head(1)\n",
    "                b, n = df_bb['b'].values[0], df_bb['n'].values[0]  #'B110', 1\n",
    "                s_b = f'{st}-{b}-{n}'\n",
    "\n",
    "                self.text_tools_rcn.replace(res['ref'], s_b)\n",
    "                self.add_st_v(st, b, str(n), ['', b_st])\n",
    "\n",
    "                # self.set_val_df(self.df_st_b, df_bb['ref'], 'l1', 'резерв')\n",
    "                # self.set_val_df(self.df_st_b, df_bb['ref'], 'l2', b_st)\n",
    "                self.df_st_b.loc[df_bb.index, 'l1'] =  'резерв'\n",
    "                self.df_st_b.loc[df_bb.index, 'l2'] =  b_st\n",
    "\n",
    "    def st_montag_shina(self):\n",
    "        for st_name in self.ls_st_name:\n",
    "            for sh_name in self.ls_st_sh_name:\n",
    "                df1 = self.filter_df(self.df_sx_contacts, ('st', st_name), ('pit', sh_name))\n",
    "                if len(df1) > 0:\n",
    "                    df1 = df1.sort_values(by=['p', 'r', 'contact'])\n",
    "                    for i in range(len(df1)):\n",
    "                        loc = df1['loc'].values[i]\n",
    "                        contact = df1['contact'].values[i]\n",
    "                        polka = str(self.get_nearest_sh(loc, sh_name))\n",
    "                        cont_sh = self._st_get_contact_sh(st_name,  polka, sh_name, loc)\n",
    "\n",
    "                        p = df1['p'].values[i]\n",
    "                        r = df1['r'].values[i]\n",
    "                        if p == polka:\n",
    "                            loc_to = f'Ш-{cont_sh}'\n",
    "                            loc_to_sh = f'{r}-{contact}'\n",
    "                        else:\n",
    "                            loc_to = f'{polka}Ш-{cont_sh}'\n",
    "                            loc_to_sh = f'{p}{r}-{contact}'\n",
    "\n",
    "                        self.add_st_contact(loc, contact, [loc_to, sh_name])\n",
    "\n",
    "\n",
    "                        self.add_st_sh(st_name, f'{polka}Ш-{sh_name}', cont_sh, loc_to_sh)\n",
    "\n",
    "\n",
    "\n",
    "    def get_nearest_sh(self, loc, pit):\n",
    "        st, p, r = self.get_loc(loc)\n",
    "        ls1 = self.df_st_sh_p_ls[(self.df_st_sh_p_ls['st'] == st) & (self.df_st_sh_p_ls['pit'] == pit)]['p']\n",
    "        if len(ls1) > 0:\n",
    "            ls1 = ls1.values[0]\n",
    "            ls1 = [int(x) for x in ls1]\n",
    "            return self._find_nearest(ls1, int(p))\n",
    "\n",
    "    def add_st_contact(self, loc, contact, loc_to):\n",
    "\n",
    "        st, p, r = self.get_loc(loc)\n",
    "\n",
    "        text_tools = self.text_tools_st[st]\n",
    "\n",
    "        df = text_tools.doc.df_texts\n",
    "\n",
    "        df1 = df[df['text'] == f'Полка {p}']\n",
    "        ref1 = df1.iloc[0]['ref']\n",
    "        d1 = text_tools.find_text_ref(ref1, 360, 30, 270, -250)\n",
    "        df1 = d1['df']\n",
    "\n",
    "        df1 = df1[df1['text'] == r]\n",
    "        ref1 = df1.iloc[0]['ref']\n",
    "        d1 = text_tools.find_text_ref(ref1, 25, -15, 0, 240)\n",
    "        df1 = d1['df']\n",
    "\n",
    "        df1 = df1[df1['text'] == contact]\n",
    "        ds = df1.iloc[0].to_dict()\n",
    "\n",
    "        if len(loc_to) == 1:\n",
    "            text_tools.add_text(loc_to[0], ds['x'] + 15, ds['y'], ref_text_font=ds['ref'])\n",
    "        elif len(loc_to) == 2:\n",
    "            text_tools.add_text(loc_to[0], ds['x'] + 15, ds['y'], ref_text_font=ds['ref'])\n",
    "            text_tools.add_text(loc_to[1], ds['x'] + 35, ds['y'], ref_text_font=ds['ref'])\n",
    "        elif len(loc_to) == 3:\n",
    "            text_tools.add_text(loc_to[0], ds['x'] + 15, ds['y'] + 2, ref_text_font=ds['ref'])\n",
    "            text_tools.add_text(loc_to[1], ds['x'] + 15, ds['y'] - 2, ref_text_font=ds['ref'])\n",
    "            text_tools.add_text(loc_to[2], ds['x'] + 35, ds['y'], ref_text_font=ds['ref'])\n",
    "\n",
    "        return True\n",
    "\n",
    "    def add_st_v(self, st, v, contact, loc_to):\n",
    "\n",
    "        text_tools = self.text_tools_st[st]\n",
    "\n",
    "        df_v = text_tools.df_match(v)\n",
    "        if len(df_v) == 0:\n",
    "            return False\n",
    "\n",
    "        ref_v = df_v.iloc[0]['ref']\n",
    "\n",
    "        d1 = text_tools.find_text_ref(ref_v, 7, 7, 0, 85)\n",
    "        df1 = d1['df']\n",
    "\n",
    "        df1 = df1[df1['text'] == contact]\n",
    "        ds = df1.iloc[0].to_dict()\n",
    "\n",
    "        if int(contact) % 2 == 1:\n",
    "            if len(loc_to) == 1:\n",
    "                text_tools.add_text(loc_to[0], ds['x'] - 12, ds['y'], ref_text_font=ds['ref'])\n",
    "            elif len(loc_to) == 2:\n",
    "                text_tools.add_text(loc_to[0], ds['x'] - 12, ds['y'], ref_text_font=ds['ref'])\n",
    "                text_tools.add_text(loc_to[1], ds['x'] - 12, ds['y'] - 4, ref_text_font=ds['ref'])\n",
    "        else:\n",
    "            if len(loc_to) == 1:\n",
    "                text_tools.add_text(loc_to[0], ds['x'] + 12, ds['y'], ref_text_font=ds['ref'])\n",
    "            elif len(loc_to) == 2:\n",
    "                text_tools.add_text(loc_to[0], ds['x'] + 12, ds['y'], ref_text_font=ds['ref'])\n",
    "                text_tools.add_text(loc_to[1], ds['x'] + 12, ds['y'] - 4, ref_text_font=ds['ref'])\n",
    "\n",
    "    def add_st_sh(self, st, sh_st, contact, loc_to):\n",
    "\n",
    "        text_tools = self.text_tools_st[st]\n",
    "\n",
    "        df1 = text_tools.df_match(sh_st)\n",
    "        ref1 = df1.iloc[0]['ref']\n",
    "        d1 = text_tools.find_text_ref(ref1, 90, 110, -25, 40)\n",
    "        df1 = d1['df']\n",
    "        df1 = df1[df1['text'] == str(contact)]\n",
    "        ds = df1.iloc[0].to_dict()\n",
    "\n",
    "        text_tools.add_text(loc_to, ds['x'] + 1, ds['y'] + 8, ref_text_font=ds['ref'], rotation=90)\n",
    "\n",
    "        return True\n",
    "\n",
    "    # выбрать из списка ls1 число ближйшее к заданному\n",
    "    def _find_nearest(self, ls, value):\n",
    "        ls = np.array(ls)\n",
    "        idx = (np.abs(ls - value)).argmin()\n",
    "        return ls[idx]\n",
    "\n",
    "    def _rep_xy_on_circle(self, row):\n",
    "        res = self.text_tools_rcn.find_cirle(row['x'], row['y'], 10, 10, 0, 8, radius_lt=2)\n",
    "        if res is not None:\n",
    "            row['x'] = res['x']\n",
    "            row['y'] = res['y']\n",
    "        return row\n",
    "\n",
    "    def _find_link_by_b(self, x, y, dx_left=1, dx_right=1, dy_top=1, dy_bottom=1, side='left'):\n",
    "        df_name = 'df_contacts'\n",
    "        res1 = None\n",
    "        for i in range(30):\n",
    "            res1 = self.text_tools_rcn.find_text(x, y, dx_left, dx_right, dy_top, dy_bottom, df_poisk=self.df_sx_contacts,\n",
    "                                                 return_only_df=True)\n",
    "            if res1 is not None:\n",
    "                df_name = 'df_contacts'\n",
    "                break\n",
    "\n",
    "            res1 = self.text_tools_rcn.find_text(x, y, dx_left, dx_right, dy_top, dy_bottom, df_poisk=self.df_101,\n",
    "                                                 return_only_df=True)\n",
    "            if res1 is not None:\n",
    "                df_name = 'df_101'\n",
    "                break\n",
    "\n",
    "            res1 = self.text_tools_rcn.find_text(x, y, dx_left, dx_right, dy_top, dy_bottom, df_poisk=self.df_C,\n",
    "                                                 return_only_df=True)\n",
    "            if res1 is not None:\n",
    "                df_name = 'df_C'\n",
    "                break\n",
    "\n",
    "            if side == 'left':\n",
    "                dx_left += 5\n",
    "            else:\n",
    "                dx_right += 5\n",
    "\n",
    "        if res1 is not None:\n",
    "            return res1, df_name\n",
    "        return None, None\n",
    "\n",
    "    def _find_link_by_sh(self, df_poisk, x, y, dx_left=1, dx_right=1, dy_top=1, dy_bottom=1, side='left'):\n",
    "        res1 = None\n",
    "        for i in range(30):\n",
    "            res1 = self.text_tools_rcn.find_cirle(x, y, dx_left, dx_right, dy_top, dy_bottom, df_poisk=df_poisk)\n",
    "            if res1 is not None:\n",
    "                break\n",
    "\n",
    "            if side == 'left':\n",
    "                dx_left += 5\n",
    "            else:\n",
    "                dx_right += 5\n",
    "\n",
    "        if res1 is not None:\n",
    "            return res1\n",
    "        return None\n",
    "\n",
    "    def _direction_contact(self, df):\n",
    "        if len(df) > 1:\n",
    "            c1 = df.iloc[0]['text']\n",
    "            c2 = df.iloc[1]['text']\n",
    "            x1 = df.iloc[0]['x']\n",
    "            x2 = df.iloc[1]['x']\n",
    "            y1 = df.iloc[0]['y']\n",
    "            y2 = df.iloc[1]['y']\n",
    "\n",
    "            dx = abs(x1 - x2)\n",
    "            dy = abs(y1 - y2)\n",
    "\n",
    "            if dx > 2:\n",
    "                if x1 < x2:\n",
    "                    return {c1: ['horizontal', 'left'], c2: ['horizontal', 'right']}\n",
    "                else:\n",
    "                    return {c1: ['horizontal', 'right'], c2: ['horizontal', 'left']}\n",
    "            if dy > 2:\n",
    "                if y1 > y2:\n",
    "                    return {c1: ['vertical', 'top'], c2: ['vertical', 'bottom']}\n",
    "                else:\n",
    "                    return {c1: ['vertical', 'bottom'], c2: ['vertical', 'top']}\n",
    "\n",
    "    def _st_get_contact_sh(self, st,  polka, sh, loc):\n",
    "        df1 = self.filter_df(self.df_st_shina_montag, ('st', st), ('sh', sh), ('polka', polka))\n",
    "        if len(df1) == 0:\n",
    "            self.df_st_shina_montag = self.df_st_shina_montag.append({'st': st, 'sh': sh, 'loc': loc, 'contact': '1', 'polka': polka}, ignore_index=True)\n",
    "            return '1'\n",
    "        else:\n",
    "            cont = str(int(df1.tail(1)['contact'].values[0]) + 1)\n",
    "            self.df_st_shina_montag = self.df_st_shina_montag.append({'st': st, 'sh': sh, 'loc': loc, 'contact': cont, 'polka': polka}, ignore_index=True)\n",
    "            return cont\n",
    "\n",
    "    def get_loc(self, loc):\n",
    "        ls = loc.split('-')\n",
    "        st = ls[0]\n",
    "        pr = ls[1]\n",
    "        if len(pr) == 2:\n",
    "            p = pr[0]\n",
    "            r = pr[1]\n",
    "        else:\n",
    "            p = pr[0:2]\n",
    "            r = pr[2]\n",
    "        return st, p, r\n",
    "\n",
    "    def set_val_df(self, df, ref, col, value):\n",
    "        if df is not None:\n",
    "            ser = df[df['ref'] == ref][col]\n",
    "            if len(ser) > 0:\n",
    "                df.loc[df['ref'] == ref, col] = value\n",
    "        return df\n",
    "\n",
    "    def get_val_df(self, df, ref, col):\n",
    "        if df is not None:\n",
    "            df1 = df[df['ref'] == ref]\n",
    "            if len(df1) > 0:\n",
    "                return df1[col].values[0]\n",
    "\n",
    "    def get_val_df_first(self, df, col):\n",
    "        if df is not None:\n",
    "            df1 = df.head(1)\n",
    "            if len(df1) > 0:\n",
    "                return df[col].values[0]\n",
    "\n",
    "    def filter_df(self, df, col1_val1, col2_val2=None, col3_val3=None):\n",
    "        col1, val1 = col1_val1\n",
    "        df1 = df[df[col1] == val1]\n",
    "        if col2_val2 is not None:\n",
    "            col2, val2 = col2_val2\n",
    "            df1 = df1[df1[col2] == val2]\n",
    "\n",
    "        if col3_val3 is not None:\n",
    "            col3, val3 = col3_val3\n",
    "            df1 = df1[df1[col3] == val3]\n",
    "        return df1\n",
    "\n"
   ],
   "metadata": {
    "collapsed": false,
    "pycharm": {
     "name": "#%%\n"
    }
   }
  },
  {
   "cell_type": "code",
   "execution_count": 2,
   "outputs": [],
   "source": [
    "ks3dapp = KS3DAPP()\n",
    "\n",
    "ks3docs = KS3Docs(ks3dapp)\n",
    "\n",
    "# docs ={}\n",
    "# for i in ks3docs.docs_name.keys():\n",
    "#     s1 = re.search('л\\.\\d{1,2}\\s+(.+)\\.frw', i).group(1)\n",
    "#     docs[s1] = i\n",
    "# print(docs)\n",
    "\n",
    "docs = {\n",
    "    'rcn12': '12.frw',\n",
    "    'rcn': '2517-АТР.2 л.3 Схемы РЦ Неч..frw',\n",
    "    'rcn5': '2517-АТР.2 л.4 Схемы РЦ Чет..frw',\n",
    "    'rcn1': '2517-АТР.2 л.9 Переезды.frw',\n",
    "    'rcn2': '2517-АТР.2 л.11 Ограждение.frw',\n",
    "    'rcn3': '2517-АТР.2 л.12 Загальні схеми.frw',\n",
    "    'yv': '2517-АТР.2 л.10 Схемы увязок.frw',\n",
    "    'c1': '2517-АТР.2 л.18 Статив 1.frw',\n",
    "    'c2': '2517-АТР.2 л.19 Статив 2.frw',\n",
    "    'c3': '2517-АТР.2 л.20 Статив 3.frw',\n",
    "}\n",
    "doc_rcn = ks3docs.docs_name[docs['rcn12']]\n",
    "doc_st1 = ks3docs.docs_name[docs['c1']]\n",
    "doc_st2 = ks3docs.docs_name[docs['c2']]\n",
    "doc_st3 = ks3docs.docs_name[docs['c3']]\n",
    "\n",
    "text_tools_rcn = TextTools(ks3dapp, doc_rcn)\n",
    "\n",
    "text_tools_st = {\n",
    "    '1': TextTools(ks3dapp, doc_st1),\n",
    "    '2': TextTools(ks3dapp, doc_st2),\n",
    "    '3': TextTools(ks3dapp, doc_st3),\n",
    "}\n",
    "\n",
    "ts = Tools(text_tools_st, text_tools_rcn)\n",
    "\n",
    "ts.sx_search_contacts()\n",
    "ts.st_init_v()\n",
    "\n",
    "ts.sx_search_v()\n",
    "ts.st_montag_B()\n",
    "\n",
    "# Питания\n",
    "ts.sx_search_sh_circle()\n",
    "ts.st_init_shina()\n",
    "ts.st_montag_shina()\n"
   ],
   "metadata": {
    "collapsed": false,
    "pycharm": {
     "name": "#%%\n"
    }
   }
  },
  {
   "cell_type": "code",
   "execution_count": null,
   "outputs": [],
   "source": [],
   "metadata": {
    "collapsed": false,
    "pycharm": {
     "name": "#%%\n"
    }
   }
  },
  {
   "cell_type": "code",
   "execution_count": 4,
   "outputs": [],
   "source": [
    "ts = Tools(text_tools_st, text_tools_rcn)\n",
    "ts.sx_search_contacts()"
   ],
   "metadata": {
    "collapsed": false,
    "pycharm": {
     "name": "#%%\n"
    }
   }
  },
  {
   "cell_type": "code",
   "execution_count": 5,
   "outputs": [
    {
     "ename": "IndexError",
     "evalue": "single positional indexer is out-of-bounds",
     "output_type": "error",
     "traceback": [
      "\u001B[1;31m---------------------------------------------------------------------------\u001B[0m",
      "\u001B[1;31mIndexError\u001B[0m                                Traceback (most recent call last)",
      "\u001B[1;32m~\\AppData\\Local\\Temp/ipykernel_2368/288141040.py\u001B[0m in \u001B[0;36m<module>\u001B[1;34m\u001B[0m\n\u001B[0;32m      2\u001B[0m \u001B[1;33m\u001B[0m\u001B[0m\n\u001B[0;32m      3\u001B[0m \u001B[0mts\u001B[0m\u001B[1;33m.\u001B[0m\u001B[0msx_search_v\u001B[0m\u001B[1;33m(\u001B[0m\u001B[1;33m)\u001B[0m\u001B[1;33m\u001B[0m\u001B[1;33m\u001B[0m\u001B[0m\n\u001B[1;32m----> 4\u001B[1;33m \u001B[0mts\u001B[0m\u001B[1;33m.\u001B[0m\u001B[0mst_montag_B\u001B[0m\u001B[1;33m(\u001B[0m\u001B[1;33m)\u001B[0m\u001B[1;33m\u001B[0m\u001B[1;33m\u001B[0m\u001B[0m\n\u001B[0m\u001B[0;32m      5\u001B[0m \u001B[1;33m\u001B[0m\u001B[0m\n\u001B[0;32m      6\u001B[0m \u001B[1;31m# Питания\u001B[0m\u001B[1;33m\u001B[0m\u001B[1;33m\u001B[0m\u001B[1;33m\u001B[0m\u001B[0m\n",
      "\u001B[1;32m~\\AppData\\Local\\Temp/ipykernel_2368/1551616487.py\u001B[0m in \u001B[0;36mst_montag_B\u001B[1;34m(self)\u001B[0m\n\u001B[0;32m    597\u001B[0m \u001B[1;33m\u001B[0m\u001B[0m\n\u001B[0;32m    598\u001B[0m                 \u001B[0mself\u001B[0m\u001B[1;33m.\u001B[0m\u001B[0mtext_tools_rcn\u001B[0m\u001B[1;33m.\u001B[0m\u001B[0mreplace\u001B[0m\u001B[1;33m(\u001B[0m\u001B[0mres\u001B[0m\u001B[1;33m[\u001B[0m\u001B[1;34m'ref'\u001B[0m\u001B[1;33m]\u001B[0m\u001B[1;33m,\u001B[0m \u001B[0ms_b\u001B[0m\u001B[1;33m)\u001B[0m\u001B[1;33m\u001B[0m\u001B[1;33m\u001B[0m\u001B[0m\n\u001B[1;32m--> 599\u001B[1;33m                 \u001B[0mself\u001B[0m\u001B[1;33m.\u001B[0m\u001B[0madd_st_contact\u001B[0m\u001B[1;33m(\u001B[0m\u001B[0mloc\u001B[0m\u001B[1;33m=\u001B[0m\u001B[0mloc\u001B[0m\u001B[1;33m,\u001B[0m \u001B[0mcontact\u001B[0m\u001B[1;33m=\u001B[0m\u001B[0mcontact\u001B[0m\u001B[1;33m,\u001B[0m \u001B[0mloc_to\u001B[0m\u001B[1;33m=\u001B[0m\u001B[1;33m[\u001B[0m\u001B[1;34mf'{b}-{n}'\u001B[0m\u001B[1;33m]\u001B[0m\u001B[1;33m)\u001B[0m\u001B[1;33m\u001B[0m\u001B[1;33m\u001B[0m\u001B[0m\n\u001B[0m\u001B[0;32m    600\u001B[0m                 \u001B[0mself\u001B[0m\u001B[1;33m.\u001B[0m\u001B[0madd_st_v\u001B[0m\u001B[1;33m(\u001B[0m\u001B[0mst\u001B[0m\u001B[1;33m,\u001B[0m \u001B[0mb\u001B[0m\u001B[1;33m,\u001B[0m \u001B[0mstr\u001B[0m\u001B[1;33m(\u001B[0m\u001B[0mn\u001B[0m\u001B[1;33m)\u001B[0m\u001B[1;33m,\u001B[0m \u001B[1;33m[\u001B[0m\u001B[1;34mf'{p}{r}-{contact}'\u001B[0m\u001B[1;33m,\u001B[0m \u001B[0mb_st\u001B[0m\u001B[1;33m]\u001B[0m\u001B[1;33m)\u001B[0m\u001B[1;33m\u001B[0m\u001B[1;33m\u001B[0m\u001B[0m\n\u001B[0;32m    601\u001B[0m \u001B[1;33m\u001B[0m\u001B[0m\n",
      "\u001B[1;32m~\\AppData\\Local\\Temp/ipykernel_2368/1551616487.py\u001B[0m in \u001B[0;36madd_st_contact\u001B[1;34m(self, loc, contact, loc_to)\u001B[0m\n\u001B[0;32m    685\u001B[0m \u001B[1;33m\u001B[0m\u001B[0m\n\u001B[0;32m    686\u001B[0m         \u001B[0mdf1\u001B[0m \u001B[1;33m=\u001B[0m \u001B[0mdf1\u001B[0m\u001B[1;33m[\u001B[0m\u001B[0mdf1\u001B[0m\u001B[1;33m[\u001B[0m\u001B[1;34m'text'\u001B[0m\u001B[1;33m]\u001B[0m \u001B[1;33m==\u001B[0m \u001B[0mcontact\u001B[0m\u001B[1;33m]\u001B[0m\u001B[1;33m\u001B[0m\u001B[1;33m\u001B[0m\u001B[0m\n\u001B[1;32m--> 687\u001B[1;33m         \u001B[0mds\u001B[0m \u001B[1;33m=\u001B[0m \u001B[0mdf1\u001B[0m\u001B[1;33m.\u001B[0m\u001B[0miloc\u001B[0m\u001B[1;33m[\u001B[0m\u001B[1;36m0\u001B[0m\u001B[1;33m]\u001B[0m\u001B[1;33m.\u001B[0m\u001B[0mto_dict\u001B[0m\u001B[1;33m(\u001B[0m\u001B[1;33m)\u001B[0m\u001B[1;33m\u001B[0m\u001B[1;33m\u001B[0m\u001B[0m\n\u001B[0m\u001B[0;32m    688\u001B[0m \u001B[1;33m\u001B[0m\u001B[0m\n\u001B[0;32m    689\u001B[0m         \u001B[1;32mif\u001B[0m \u001B[0mlen\u001B[0m\u001B[1;33m(\u001B[0m\u001B[0mloc_to\u001B[0m\u001B[1;33m)\u001B[0m \u001B[1;33m==\u001B[0m \u001B[1;36m1\u001B[0m\u001B[1;33m:\u001B[0m\u001B[1;33m\u001B[0m\u001B[1;33m\u001B[0m\u001B[0m\n",
      "\u001B[1;32md:\\it\\pr\\mypython\\venv\\lib\\site-packages\\pandas\\core\\indexing.py\u001B[0m in \u001B[0;36m__getitem__\u001B[1;34m(self, key)\u001B[0m\n\u001B[0;32m    929\u001B[0m \u001B[1;33m\u001B[0m\u001B[0m\n\u001B[0;32m    930\u001B[0m             \u001B[0mmaybe_callable\u001B[0m \u001B[1;33m=\u001B[0m \u001B[0mcom\u001B[0m\u001B[1;33m.\u001B[0m\u001B[0mapply_if_callable\u001B[0m\u001B[1;33m(\u001B[0m\u001B[0mkey\u001B[0m\u001B[1;33m,\u001B[0m \u001B[0mself\u001B[0m\u001B[1;33m.\u001B[0m\u001B[0mobj\u001B[0m\u001B[1;33m)\u001B[0m\u001B[1;33m\u001B[0m\u001B[1;33m\u001B[0m\u001B[0m\n\u001B[1;32m--> 931\u001B[1;33m             \u001B[1;32mreturn\u001B[0m \u001B[0mself\u001B[0m\u001B[1;33m.\u001B[0m\u001B[0m_getitem_axis\u001B[0m\u001B[1;33m(\u001B[0m\u001B[0mmaybe_callable\u001B[0m\u001B[1;33m,\u001B[0m \u001B[0maxis\u001B[0m\u001B[1;33m=\u001B[0m\u001B[0maxis\u001B[0m\u001B[1;33m)\u001B[0m\u001B[1;33m\u001B[0m\u001B[1;33m\u001B[0m\u001B[0m\n\u001B[0m\u001B[0;32m    932\u001B[0m \u001B[1;33m\u001B[0m\u001B[0m\n\u001B[0;32m    933\u001B[0m     \u001B[1;32mdef\u001B[0m \u001B[0m_is_scalar_access\u001B[0m\u001B[1;33m(\u001B[0m\u001B[0mself\u001B[0m\u001B[1;33m,\u001B[0m \u001B[0mkey\u001B[0m\u001B[1;33m:\u001B[0m \u001B[0mtuple\u001B[0m\u001B[1;33m)\u001B[0m\u001B[1;33m:\u001B[0m\u001B[1;33m\u001B[0m\u001B[1;33m\u001B[0m\u001B[0m\n",
      "\u001B[1;32md:\\it\\pr\\mypython\\venv\\lib\\site-packages\\pandas\\core\\indexing.py\u001B[0m in \u001B[0;36m_getitem_axis\u001B[1;34m(self, key, axis)\u001B[0m\n\u001B[0;32m   1564\u001B[0m \u001B[1;33m\u001B[0m\u001B[0m\n\u001B[0;32m   1565\u001B[0m             \u001B[1;31m# validate the location\u001B[0m\u001B[1;33m\u001B[0m\u001B[1;33m\u001B[0m\u001B[1;33m\u001B[0m\u001B[0m\n\u001B[1;32m-> 1566\u001B[1;33m             \u001B[0mself\u001B[0m\u001B[1;33m.\u001B[0m\u001B[0m_validate_integer\u001B[0m\u001B[1;33m(\u001B[0m\u001B[0mkey\u001B[0m\u001B[1;33m,\u001B[0m \u001B[0maxis\u001B[0m\u001B[1;33m)\u001B[0m\u001B[1;33m\u001B[0m\u001B[1;33m\u001B[0m\u001B[0m\n\u001B[0m\u001B[0;32m   1567\u001B[0m \u001B[1;33m\u001B[0m\u001B[0m\n\u001B[0;32m   1568\u001B[0m             \u001B[1;32mreturn\u001B[0m \u001B[0mself\u001B[0m\u001B[1;33m.\u001B[0m\u001B[0mobj\u001B[0m\u001B[1;33m.\u001B[0m\u001B[0m_ixs\u001B[0m\u001B[1;33m(\u001B[0m\u001B[0mkey\u001B[0m\u001B[1;33m,\u001B[0m \u001B[0maxis\u001B[0m\u001B[1;33m=\u001B[0m\u001B[0maxis\u001B[0m\u001B[1;33m)\u001B[0m\u001B[1;33m\u001B[0m\u001B[1;33m\u001B[0m\u001B[0m\n",
      "\u001B[1;32md:\\it\\pr\\mypython\\venv\\lib\\site-packages\\pandas\\core\\indexing.py\u001B[0m in \u001B[0;36m_validate_integer\u001B[1;34m(self, key, axis)\u001B[0m\n\u001B[0;32m   1498\u001B[0m         \u001B[0mlen_axis\u001B[0m \u001B[1;33m=\u001B[0m \u001B[0mlen\u001B[0m\u001B[1;33m(\u001B[0m\u001B[0mself\u001B[0m\u001B[1;33m.\u001B[0m\u001B[0mobj\u001B[0m\u001B[1;33m.\u001B[0m\u001B[0m_get_axis\u001B[0m\u001B[1;33m(\u001B[0m\u001B[0maxis\u001B[0m\u001B[1;33m)\u001B[0m\u001B[1;33m)\u001B[0m\u001B[1;33m\u001B[0m\u001B[1;33m\u001B[0m\u001B[0m\n\u001B[0;32m   1499\u001B[0m         \u001B[1;32mif\u001B[0m \u001B[0mkey\u001B[0m \u001B[1;33m>=\u001B[0m \u001B[0mlen_axis\u001B[0m \u001B[1;32mor\u001B[0m \u001B[0mkey\u001B[0m \u001B[1;33m<\u001B[0m \u001B[1;33m-\u001B[0m\u001B[0mlen_axis\u001B[0m\u001B[1;33m:\u001B[0m\u001B[1;33m\u001B[0m\u001B[1;33m\u001B[0m\u001B[0m\n\u001B[1;32m-> 1500\u001B[1;33m             \u001B[1;32mraise\u001B[0m \u001B[0mIndexError\u001B[0m\u001B[1;33m(\u001B[0m\u001B[1;34m\"single positional indexer is out-of-bounds\"\u001B[0m\u001B[1;33m)\u001B[0m\u001B[1;33m\u001B[0m\u001B[1;33m\u001B[0m\u001B[0m\n\u001B[0m\u001B[0;32m   1501\u001B[0m \u001B[1;33m\u001B[0m\u001B[0m\n\u001B[0;32m   1502\u001B[0m     \u001B[1;31m# -------------------------------------------------------------------\u001B[0m\u001B[1;33m\u001B[0m\u001B[1;33m\u001B[0m\u001B[1;33m\u001B[0m\u001B[0m\n",
      "\u001B[1;31mIndexError\u001B[0m: single positional indexer is out-of-bounds"
     ]
    }
   ],
   "source": [
    "ts.st_init_v()\n",
    "\n",
    "ts.sx_search_v()\n",
    "ts.st_montag_B()\n",
    "\n",
    "# Питания\n",
    "ts.sx_search_sh_circle()\n",
    "ts.st_init_shina()\n",
    "ts.st_montag_shina()"
   ],
   "metadata": {
    "collapsed": false,
    "pycharm": {
     "name": "#%%\n"
    }
   }
  },
  {
   "cell_type": "code",
   "execution_count": 6,
   "outputs": [],
   "source": [
    "i = 13\n",
    "df1 = ts.text_tools_rcn.df_match('^[1-3]-\\d{2,3}')\n",
    "ref1 = df1.iloc[i]['ref']\n",
    "t_loc = df1.iloc[i]['text']\n",
    "dt_name = ts.text_tools_rcn.find_text_ref(ref1, 8, 8, 0, 5, lst_exclude=ts.ls_contact)"
   ],
   "metadata": {
    "collapsed": false,
    "pycharm": {
     "name": "#%%\n"
    }
   }
  },
  {
   "cell_type": "code",
   "execution_count": 4,
   "outputs": [
    {
     "data": {
      "text/plain": "text           1-57\nx       1473.699057\ny         95.793257\nref      1073815566\nName: 622, dtype: object"
     },
     "execution_count": 4,
     "metadata": {},
     "output_type": "execute_result"
    }
   ],
   "source": [
    "df1.iloc[i]"
   ],
   "metadata": {
    "collapsed": false,
    "pycharm": {
     "name": "#%%\n"
    }
   }
  },
  {
   "cell_type": "code",
   "execution_count": 7,
   "outputs": [],
   "source": [
    "t_name = dt_name['text']\n",
    "dc_name = ts.text_tools_rcn.find_cirle_ref(dt_name['ref'], 20, 20, 8, 9, radius_gt=3)\n",
    "if dc_name is not None:\n",
    "    dt_contact = ts.text_tools_rcn.find_text(dc_name['x'], dc_name['y'], 10, 10, 10, 10,\n",
    "                                               lst_filter=ts.ls_contact)\n",
    "else:\n",
    "    dt_contact = ts.text_tools_rcn.find_text_ref(dt_name['ref'], 20, 20, 0, 15,\n",
    "                                                   lst_filter=ts.ls_contact)"
   ],
   "metadata": {
    "collapsed": false,
    "pycharm": {
     "name": "#%%\n"
    }
   }
  },
  {
   "cell_type": "code",
   "execution_count": 23,
   "outputs": [],
   "source": [
    "df_contact = dt_contact['df']"
   ],
   "metadata": {
    "collapsed": false,
    "pycharm": {
     "name": "#%%\n"
    }
   }
  },
  {
   "cell_type": "code",
   "execution_count": 24,
   "outputs": [],
   "source": [
    "ds = ts._direction_contact(df_contact)"
   ],
   "metadata": {
    "collapsed": false,
    "pycharm": {
     "name": "#%%\n"
    }
   }
  },
  {
   "cell_type": "code",
   "execution_count": 25,
   "outputs": [],
   "source": [
    "group = t_loc + ';' + ':'.join(df_contact['text'].values.tolist())"
   ],
   "metadata": {
    "collapsed": false,
    "pycharm": {
     "name": "#%%\n"
    }
   }
  },
  {
   "cell_type": "code",
   "execution_count": 27,
   "outputs": [],
   "source": [
    "j = 0\n",
    "ls = []\n",
    "t_contact = df_contact.iloc[j]['text']\n",
    "t_ref = df_contact.iloc[j]['ref']\n",
    "t_x = df_contact.iloc[j]['x']\n",
    "t_y = df_contact.iloc[j]['y']\n",
    "st, p, r = ts.get_loc(t_loc)\n",
    "ls.append([t_loc, st, p, r, t_name, t_contact, t_ref, t_x, t_y, group, ds[t_contact][0],\n",
    "           ds[t_contact][1]])"
   ],
   "metadata": {
    "collapsed": false,
    "pycharm": {
     "name": "#%%\n"
    }
   }
  },
  {
   "cell_type": "code",
   "execution_count": null,
   "outputs": [],
   "source": [],
   "metadata": {
    "collapsed": false,
    "pycharm": {
     "name": "#%%\n"
    }
   }
  },
  {
   "cell_type": "code",
   "execution_count": null,
   "outputs": [],
   "source": [
    "ref1 = df1.iloc[i]['ref']\n",
    "            t_loc = df1.iloc[i]['text']\n",
    "            dt_name = self.text_tools_rcn.find_text_ref(ref1, 8, 8, 0, 5, lst_exclude=self.ls_contact)\n",
    "            if dt_name is not None:\n",
    "                t_name = dt_name['text']\n",
    "                dc_name = self.text_tools_rcn.find_cirle_ref(dt_name['ref'], 20, 20, 8, 9, radius_gt=3)\n",
    "                if dc_name is not None:\n",
    "                    dt_contact = self.text_tools_rcn.find_text(dc_name['x'], dc_name['y'], 8, 8, 8, 8,\n",
    "                                                               lst_filter=self.ls_contact)\n",
    "                else:\n",
    "                    dt_contact = self.text_tools_rcn.find_text_ref(dt_name['ref'], 10, 10, 0, 15,\n",
    "                                                                   lst_filter=self.ls_contact)\n",
    "\n",
    "                if dt_contact is not None:\n",
    "                    df9 = dt_contact\n",
    "                    df_contact = dt_contact['df']\n",
    "                    if df_contact['text'].tolist() == ['1', '2', '3', '4']:\n",
    "                        df_contact = df_contact[df_contact['text'].isin(['2', '4'])]\n",
    "                    ds = self._direction_contact(df_contact)\n",
    "                    group = t_loc + ';' + ':'.join(df_contact['text'].values.tolist())\n",
    "\n",
    "                    for j in range(len(df_contact)):\n",
    "                        t_contact = df_contact.iloc[j]['text']\n",
    "                        t_ref = df_contact.iloc[j]['ref']\n",
    "                        t_x = df_contact.iloc[j]['x']\n",
    "                        t_y = df_contact.iloc[j]['y']\n",
    "                        st, p, r = self.get_loc(t_loc)\n",
    "                        ls.append([t_loc, st, p, r, t_name, t_contact, t_ref, t_x, t_y, group, ds[t_contact][0],\n",
    "                                   ds[t_contact][1]])"
   ],
   "metadata": {
    "collapsed": false,
    "pycharm": {
     "name": "#%%\n"
    }
   }
  },
  {
   "cell_type": "code",
   "execution_count": null,
   "outputs": [],
   "source": [],
   "metadata": {
    "collapsed": false,
    "pycharm": {
     "name": "#%%\n"
    }
   }
  },
  {
   "cell_type": "code",
   "execution_count": 67,
   "outputs": [],
   "source": [
    "ls_st_name = ['1', '2', '3']\n",
    "ls_st_sh_name = ['М', 'П', 'МСХ', 'СХМ']"
   ],
   "metadata": {
    "collapsed": false,
    "pycharm": {
     "name": "#%%\n"
    }
   }
  },
  {
   "cell_type": "code",
   "execution_count": null,
   "outputs": [],
   "source": [
    "def filter_df(df, col1_val1, col2_val2=None, col3_val3=None):\n",
    "    col1, val1 = col1_val1\n",
    "    df1 = df[df[col1] == val1]\n",
    "    if col2_val2 is not None:\n",
    "        col2, val2 = col2_val2\n",
    "        df1 = df1[df1[col2] == val2]\n",
    "\n",
    "    if col3_val3 is not None:\n",
    "        col3, val3 = col3_val3\n",
    "        df1 = df1[df1[col3] == val3]\n",
    "    return df1"
   ],
   "metadata": {
    "collapsed": false,
    "pycharm": {
     "name": "#%%\n"
    }
   }
  },
  {
   "cell_type": "code",
   "execution_count": 95,
   "outputs": [],
   "source": [
    "df5 = pd.DataFrame(columns=['st', 'sh', 'loc', 'contact', 'polka'])"
   ],
   "metadata": {
    "collapsed": false,
    "pycharm": {
     "name": "#%%\n"
    }
   }
  },
  {
   "cell_type": "code",
   "execution_count": 97,
   "outputs": [],
   "source": [
    "df6 = filter_df(df5, ('st', '1'), ('sh', 'М'), ('polka', '1'))\n",
    "if len(df6) == 0:\n",
    "    df5 = df5.append({'st': '1', 'sh': 'М', 'loc': '1-1', 'contact': '1', 'polka': '1'}, ignore_index=True)\n",
    "else:"
   ],
   "metadata": {
    "collapsed": false,
    "pycharm": {
     "name": "#%%\n"
    }
   }
  },
  {
   "cell_type": "code",
   "execution_count": 100,
   "outputs": [],
   "source": [
    "df5 = df5.append({'st': '1', 'sh': 'М', 'loc': '1-1', 'contact': '2', 'polka': '1'}, ignore_index=True)"
   ],
   "metadata": {
    "collapsed": false,
    "pycharm": {
     "name": "#%%\n"
    }
   }
  },
  {
   "cell_type": "code",
   "execution_count": 101,
   "outputs": [
    {
     "data": {
      "text/plain": "  st sh  loc contact polka\n0  1  М  1-1       1     1\n1  1  М  1-1       2     1",
      "text/html": "<div>\n<style scoped>\n    .dataframe tbody tr th:only-of-type {\n        vertical-align: middle;\n    }\n\n    .dataframe tbody tr th {\n        vertical-align: top;\n    }\n\n    .dataframe thead th {\n        text-align: right;\n    }\n</style>\n<table border=\"1\" class=\"dataframe\">\n  <thead>\n    <tr style=\"text-align: right;\">\n      <th></th>\n      <th>st</th>\n      <th>sh</th>\n      <th>loc</th>\n      <th>contact</th>\n      <th>polka</th>\n    </tr>\n  </thead>\n  <tbody>\n    <tr>\n      <th>0</th>\n      <td>1</td>\n      <td>М</td>\n      <td>1-1</td>\n      <td>1</td>\n      <td>1</td>\n    </tr>\n    <tr>\n      <th>1</th>\n      <td>1</td>\n      <td>М</td>\n      <td>1-1</td>\n      <td>2</td>\n      <td>1</td>\n    </tr>\n  </tbody>\n</table>\n</div>"
     },
     "execution_count": 101,
     "metadata": {},
     "output_type": "execute_result"
    }
   ],
   "source": [
    "df6 = filter_df(df5, ('st', '1'), ('sh', 'М'), ('polka', '1'))\n",
    "df6"
   ],
   "metadata": {
    "collapsed": false,
    "pycharm": {
     "name": "#%%\n"
    }
   }
  },
  {
   "cell_type": "code",
   "execution_count": 103,
   "outputs": [
    {
     "data": {
      "text/plain": "3"
     },
     "execution_count": 103,
     "metadata": {},
     "output_type": "execute_result"
    }
   ],
   "source": [
    "cont = int(df6.tail(1)['contact'].values[0]) + 1"
   ],
   "metadata": {
    "collapsed": false,
    "pycharm": {
     "name": "#%%\n"
    }
   }
  },
  {
   "cell_type": "code",
   "execution_count": 110,
   "outputs": [],
   "source": [
    "df = pd.DataFrame(columns=['st', 'sh', 'loc', 'contact', 'polka'])\n",
    "\n",
    "def st_get_contact_sh(st,  polka, sh, loc):\n",
    "    global df\n",
    "    df1 = filter_df(df, ('st', st), ('sh', sh), ('polka', polka))\n",
    "    if len(df1) == 0:\n",
    "        df = df.append({'st': st, 'sh': sh, 'loc': loc, 'contact': '1', 'polka': polka}, ignore_index=True)\n",
    "        return '1'\n",
    "    else:\n",
    "        cont = str(int(df1.tail(1)['contact'].values[0]) + 1)\n",
    "        df = df.append({'st': st, 'sh': sh, 'loc': loc, 'contact': cont, 'polka': polka}, ignore_index=True)\n",
    "        return cont\n",
    "for st_name in ls_st_name:\n",
    "    for sh_name in ls_st_sh_name:\n",
    "        # df1 = ts.df_sx_contacts[(ts.df_sx_contacts['st'] == st_name) & (ts.df_sx_contacts['pit'] == sh_name)]\n",
    "        df1 = filter_df(ts.df_sx_contacts, ('st', st_name), ('pit', sh_name))\n",
    "        if len(df1) > 0:\n",
    "            df1 = df1.sort_values(by=['p', 'r', 'contact'])\n",
    "            for i in range(len(df1)):\n",
    "                loc = df1['loc'].values[i]\n",
    "                contact = df1['contact'].values[i]\n",
    "                polka = str(ts.get_nearest_sh(loc, sh_name))\n",
    "                cont_sh = st_get_contact_sh(st_name,  polka, sh_name, loc)\n",
    "\n",
    "                p = df1['p'].values[i]\n",
    "                r = df1['r'].values[i]\n",
    "                if p == polka:\n",
    "                    loc_to = f'{polka}Ш-{cont_sh}'\n",
    "                    loc_to_sh = f'{r}-{contact}'\n",
    "                else:\n",
    "                    loc_to = f'Ш-{cont_sh}'\n",
    "                    loc_to_sh = f'{p}{r}-{contact}'\n",
    "\n",
    "                ts.add_st_contact(loc, contact, [loc_to, sh_name])\n",
    "\n",
    "\n",
    "                ts.add_st_sh(st_name, f'{polka}Ш-{sh_name}', cont_sh, loc_to_sh)\n",
    "\n"
   ],
   "metadata": {
    "collapsed": false,
    "pycharm": {
     "name": "#%%\n"
    }
   }
  },
  {
   "cell_type": "code",
   "execution_count": 94,
   "outputs": [],
   "source": [],
   "metadata": {
    "collapsed": false,
    "pycharm": {
     "name": "#%%\n"
    }
   }
  },
  {
   "cell_type": "code",
   "execution_count": 91,
   "outputs": [
    {
     "data": {
      "text/plain": "     loc st  p  r   name contact         ref            x           y  \\\n2   1-13  1  1  3    Зв9      41  1073774584  1049.418926  126.295838   \n5   1-13  1  1  3    Зв9       4  1073774728  1276.972272  -76.954656   \n8   1-27  1  2  7  ЧПИ13      41  1073775018  1675.420362   88.295921   \n17  1-27  1  2  7  ЧПИ13       4  1073775262  1634.973193  -31.954275   \n19  1-26  1  2  6  ДСН13       4  1073775187  1634.973193  -47.954536   \n25  1-28  1  2  8  НПИ13       4  1073775291  1634.973193  -15.954358   \n32  1-28  1  2  8  НПИ13      41  1073775484  1676.420497  128.296056   \n39  1-12  1  1  2    Зв5       4  1073776084  3166.972682  -76.954656   \n42  1-17  1  1  7    Зв6      41  1073776348  3359.419746  126.295838   \n45  1-17  1  1  7    Зв6       4  1073776474  3586.973092  -76.954656   \n48  1-18  1  1  8    Зв8      41  1073776741  3779.420156  126.295838   \n51  1-18  1  1  8    Зв8       4  1073776870  4006.973502  -76.954656   \n54  1-22  1  2  2   Зв16      41  1073777135  4619.416465  126.295844   \n57  1-22  1  2  2   Зв16       4  1073777281  4846.969819  -76.954654   \n60  1-16  1  1  6    Зв2      41  1073777530  5039.416875  126.295838   \n63  1-16  1  1  6    Зв2       4  1073777659  5266.970221  -76.954656   \n65  1-14  1  1  4   Зв38       4  1073778082  5686.970632  -76.954656   \n68  1-11  1  1  1    Зв1      41  1073778838  2519.418926  126.295838   \n71  1-11  1  1  1    Зв1       4  1073778984  2746.972272  -76.954656   \n72  1-26  1  2  6  ДСН13      41  1073775056  1675.420362   48.295775   \n74  1-12  1  1  2    Зв5      41  1073775956  2939.419336  126.295838   \n78  1-14  1  1  4   Зв38      41  1073777943  5459.417285  126.295838   \n81  1-15  1  1  5   Зв38       4  1073778458  6106.971452  -76.954656   \n84  1-15  1  1  5   Зв38      41  1073778306  5879.418106  126.295838   \n92  1-21  1  2  1   Зв10      41  1073779637  4199.419506  126.295306   \n95  1-21  1  2  1   Зв10       4  1073779650  4426.972333  -76.954734   \n\n         group   direction   side    b1    b2    l1    l2 pit  \n2   1-13;41:42  horizontal   left  None  None  None  None   М  \n5     1-13;1:4  horizontal  right  None  None  None  None   М  \n8   1-27;41:42  horizontal   left  None  None  None  None   М  \n17    1-27;1:4  horizontal  right  None  None  None  None   М  \n19    1-26;1:4  horizontal  right  None  None  None  None   М  \n25    1-28;1:4  horizontal  right  None  None  None  None   М  \n32  1-28;41:42  horizontal   left  None  None  None  None   М  \n39    1-12;1:4  horizontal  right  None  None  None  None   М  \n42  1-17;41:42  horizontal   left  None  None  None  None   М  \n45    1-17;1:4  horizontal  right  None  None  None  None   М  \n48  1-18;41:42  horizontal   left  None  None  None  None   М  \n51    1-18;1:4  horizontal  right  None  None  None  None   М  \n54  1-22;41:42  horizontal   left  None  None  None  None   М  \n57    1-22;1:4  horizontal  right  None  None  None  None   М  \n60  1-16;41:42  horizontal   left  None  None  None  None   М  \n63    1-16;1:4  horizontal  right  None  None  None  None   М  \n65    1-14;1:4  horizontal  right  None  None  None  None   М  \n68  1-11;41:42  horizontal   left  None  None  None  None   М  \n71    1-11;1:4  horizontal  right  None  None  None  None   М  \n72  1-26;41:42  horizontal   left  None  None  None  None   М  \n74  1-12;41:42  horizontal   left  None  None  None  None   М  \n78  1-14;41:42  horizontal   left  None  None  None  None   М  \n81    1-15;1:4  horizontal  right  None  None  None  None   М  \n84  1-15;41:42  horizontal   left  None  None  None  None   М  \n92  1-21;41:42  horizontal   left  None  None  None  None   М  \n95    1-21;1:4  horizontal  right  None  None  None  None   М  ",
      "text/html": "<div>\n<style scoped>\n    .dataframe tbody tr th:only-of-type {\n        vertical-align: middle;\n    }\n\n    .dataframe tbody tr th {\n        vertical-align: top;\n    }\n\n    .dataframe thead th {\n        text-align: right;\n    }\n</style>\n<table border=\"1\" class=\"dataframe\">\n  <thead>\n    <tr style=\"text-align: right;\">\n      <th></th>\n      <th>loc</th>\n      <th>st</th>\n      <th>p</th>\n      <th>r</th>\n      <th>name</th>\n      <th>contact</th>\n      <th>ref</th>\n      <th>x</th>\n      <th>y</th>\n      <th>group</th>\n      <th>direction</th>\n      <th>side</th>\n      <th>b1</th>\n      <th>b2</th>\n      <th>l1</th>\n      <th>l2</th>\n      <th>pit</th>\n    </tr>\n  </thead>\n  <tbody>\n    <tr>\n      <th>2</th>\n      <td>1-13</td>\n      <td>1</td>\n      <td>1</td>\n      <td>3</td>\n      <td>Зв9</td>\n      <td>41</td>\n      <td>1073774584</td>\n      <td>1049.418926</td>\n      <td>126.295838</td>\n      <td>1-13;41:42</td>\n      <td>horizontal</td>\n      <td>left</td>\n      <td>None</td>\n      <td>None</td>\n      <td>None</td>\n      <td>None</td>\n      <td>М</td>\n    </tr>\n    <tr>\n      <th>5</th>\n      <td>1-13</td>\n      <td>1</td>\n      <td>1</td>\n      <td>3</td>\n      <td>Зв9</td>\n      <td>4</td>\n      <td>1073774728</td>\n      <td>1276.972272</td>\n      <td>-76.954656</td>\n      <td>1-13;1:4</td>\n      <td>horizontal</td>\n      <td>right</td>\n      <td>None</td>\n      <td>None</td>\n      <td>None</td>\n      <td>None</td>\n      <td>М</td>\n    </tr>\n    <tr>\n      <th>8</th>\n      <td>1-27</td>\n      <td>1</td>\n      <td>2</td>\n      <td>7</td>\n      <td>ЧПИ13</td>\n      <td>41</td>\n      <td>1073775018</td>\n      <td>1675.420362</td>\n      <td>88.295921</td>\n      <td>1-27;41:42</td>\n      <td>horizontal</td>\n      <td>left</td>\n      <td>None</td>\n      <td>None</td>\n      <td>None</td>\n      <td>None</td>\n      <td>М</td>\n    </tr>\n    <tr>\n      <th>17</th>\n      <td>1-27</td>\n      <td>1</td>\n      <td>2</td>\n      <td>7</td>\n      <td>ЧПИ13</td>\n      <td>4</td>\n      <td>1073775262</td>\n      <td>1634.973193</td>\n      <td>-31.954275</td>\n      <td>1-27;1:4</td>\n      <td>horizontal</td>\n      <td>right</td>\n      <td>None</td>\n      <td>None</td>\n      <td>None</td>\n      <td>None</td>\n      <td>М</td>\n    </tr>\n    <tr>\n      <th>19</th>\n      <td>1-26</td>\n      <td>1</td>\n      <td>2</td>\n      <td>6</td>\n      <td>ДСН13</td>\n      <td>4</td>\n      <td>1073775187</td>\n      <td>1634.973193</td>\n      <td>-47.954536</td>\n      <td>1-26;1:4</td>\n      <td>horizontal</td>\n      <td>right</td>\n      <td>None</td>\n      <td>None</td>\n      <td>None</td>\n      <td>None</td>\n      <td>М</td>\n    </tr>\n    <tr>\n      <th>25</th>\n      <td>1-28</td>\n      <td>1</td>\n      <td>2</td>\n      <td>8</td>\n      <td>НПИ13</td>\n      <td>4</td>\n      <td>1073775291</td>\n      <td>1634.973193</td>\n      <td>-15.954358</td>\n      <td>1-28;1:4</td>\n      <td>horizontal</td>\n      <td>right</td>\n      <td>None</td>\n      <td>None</td>\n      <td>None</td>\n      <td>None</td>\n      <td>М</td>\n    </tr>\n    <tr>\n      <th>32</th>\n      <td>1-28</td>\n      <td>1</td>\n      <td>2</td>\n      <td>8</td>\n      <td>НПИ13</td>\n      <td>41</td>\n      <td>1073775484</td>\n      <td>1676.420497</td>\n      <td>128.296056</td>\n      <td>1-28;41:42</td>\n      <td>horizontal</td>\n      <td>left</td>\n      <td>None</td>\n      <td>None</td>\n      <td>None</td>\n      <td>None</td>\n      <td>М</td>\n    </tr>\n    <tr>\n      <th>39</th>\n      <td>1-12</td>\n      <td>1</td>\n      <td>1</td>\n      <td>2</td>\n      <td>Зв5</td>\n      <td>4</td>\n      <td>1073776084</td>\n      <td>3166.972682</td>\n      <td>-76.954656</td>\n      <td>1-12;1:4</td>\n      <td>horizontal</td>\n      <td>right</td>\n      <td>None</td>\n      <td>None</td>\n      <td>None</td>\n      <td>None</td>\n      <td>М</td>\n    </tr>\n    <tr>\n      <th>42</th>\n      <td>1-17</td>\n      <td>1</td>\n      <td>1</td>\n      <td>7</td>\n      <td>Зв6</td>\n      <td>41</td>\n      <td>1073776348</td>\n      <td>3359.419746</td>\n      <td>126.295838</td>\n      <td>1-17;41:42</td>\n      <td>horizontal</td>\n      <td>left</td>\n      <td>None</td>\n      <td>None</td>\n      <td>None</td>\n      <td>None</td>\n      <td>М</td>\n    </tr>\n    <tr>\n      <th>45</th>\n      <td>1-17</td>\n      <td>1</td>\n      <td>1</td>\n      <td>7</td>\n      <td>Зв6</td>\n      <td>4</td>\n      <td>1073776474</td>\n      <td>3586.973092</td>\n      <td>-76.954656</td>\n      <td>1-17;1:4</td>\n      <td>horizontal</td>\n      <td>right</td>\n      <td>None</td>\n      <td>None</td>\n      <td>None</td>\n      <td>None</td>\n      <td>М</td>\n    </tr>\n    <tr>\n      <th>48</th>\n      <td>1-18</td>\n      <td>1</td>\n      <td>1</td>\n      <td>8</td>\n      <td>Зв8</td>\n      <td>41</td>\n      <td>1073776741</td>\n      <td>3779.420156</td>\n      <td>126.295838</td>\n      <td>1-18;41:42</td>\n      <td>horizontal</td>\n      <td>left</td>\n      <td>None</td>\n      <td>None</td>\n      <td>None</td>\n      <td>None</td>\n      <td>М</td>\n    </tr>\n    <tr>\n      <th>51</th>\n      <td>1-18</td>\n      <td>1</td>\n      <td>1</td>\n      <td>8</td>\n      <td>Зв8</td>\n      <td>4</td>\n      <td>1073776870</td>\n      <td>4006.973502</td>\n      <td>-76.954656</td>\n      <td>1-18;1:4</td>\n      <td>horizontal</td>\n      <td>right</td>\n      <td>None</td>\n      <td>None</td>\n      <td>None</td>\n      <td>None</td>\n      <td>М</td>\n    </tr>\n    <tr>\n      <th>54</th>\n      <td>1-22</td>\n      <td>1</td>\n      <td>2</td>\n      <td>2</td>\n      <td>Зв16</td>\n      <td>41</td>\n      <td>1073777135</td>\n      <td>4619.416465</td>\n      <td>126.295844</td>\n      <td>1-22;41:42</td>\n      <td>horizontal</td>\n      <td>left</td>\n      <td>None</td>\n      <td>None</td>\n      <td>None</td>\n      <td>None</td>\n      <td>М</td>\n    </tr>\n    <tr>\n      <th>57</th>\n      <td>1-22</td>\n      <td>1</td>\n      <td>2</td>\n      <td>2</td>\n      <td>Зв16</td>\n      <td>4</td>\n      <td>1073777281</td>\n      <td>4846.969819</td>\n      <td>-76.954654</td>\n      <td>1-22;1:4</td>\n      <td>horizontal</td>\n      <td>right</td>\n      <td>None</td>\n      <td>None</td>\n      <td>None</td>\n      <td>None</td>\n      <td>М</td>\n    </tr>\n    <tr>\n      <th>60</th>\n      <td>1-16</td>\n      <td>1</td>\n      <td>1</td>\n      <td>6</td>\n      <td>Зв2</td>\n      <td>41</td>\n      <td>1073777530</td>\n      <td>5039.416875</td>\n      <td>126.295838</td>\n      <td>1-16;41:42</td>\n      <td>horizontal</td>\n      <td>left</td>\n      <td>None</td>\n      <td>None</td>\n      <td>None</td>\n      <td>None</td>\n      <td>М</td>\n    </tr>\n    <tr>\n      <th>63</th>\n      <td>1-16</td>\n      <td>1</td>\n      <td>1</td>\n      <td>6</td>\n      <td>Зв2</td>\n      <td>4</td>\n      <td>1073777659</td>\n      <td>5266.970221</td>\n      <td>-76.954656</td>\n      <td>1-16;1:4</td>\n      <td>horizontal</td>\n      <td>right</td>\n      <td>None</td>\n      <td>None</td>\n      <td>None</td>\n      <td>None</td>\n      <td>М</td>\n    </tr>\n    <tr>\n      <th>65</th>\n      <td>1-14</td>\n      <td>1</td>\n      <td>1</td>\n      <td>4</td>\n      <td>Зв38</td>\n      <td>4</td>\n      <td>1073778082</td>\n      <td>5686.970632</td>\n      <td>-76.954656</td>\n      <td>1-14;1:4</td>\n      <td>horizontal</td>\n      <td>right</td>\n      <td>None</td>\n      <td>None</td>\n      <td>None</td>\n      <td>None</td>\n      <td>М</td>\n    </tr>\n    <tr>\n      <th>68</th>\n      <td>1-11</td>\n      <td>1</td>\n      <td>1</td>\n      <td>1</td>\n      <td>Зв1</td>\n      <td>41</td>\n      <td>1073778838</td>\n      <td>2519.418926</td>\n      <td>126.295838</td>\n      <td>1-11;41:42</td>\n      <td>horizontal</td>\n      <td>left</td>\n      <td>None</td>\n      <td>None</td>\n      <td>None</td>\n      <td>None</td>\n      <td>М</td>\n    </tr>\n    <tr>\n      <th>71</th>\n      <td>1-11</td>\n      <td>1</td>\n      <td>1</td>\n      <td>1</td>\n      <td>Зв1</td>\n      <td>4</td>\n      <td>1073778984</td>\n      <td>2746.972272</td>\n      <td>-76.954656</td>\n      <td>1-11;1:4</td>\n      <td>horizontal</td>\n      <td>right</td>\n      <td>None</td>\n      <td>None</td>\n      <td>None</td>\n      <td>None</td>\n      <td>М</td>\n    </tr>\n    <tr>\n      <th>72</th>\n      <td>1-26</td>\n      <td>1</td>\n      <td>2</td>\n      <td>6</td>\n      <td>ДСН13</td>\n      <td>41</td>\n      <td>1073775056</td>\n      <td>1675.420362</td>\n      <td>48.295775</td>\n      <td>1-26;41:42</td>\n      <td>horizontal</td>\n      <td>left</td>\n      <td>None</td>\n      <td>None</td>\n      <td>None</td>\n      <td>None</td>\n      <td>М</td>\n    </tr>\n    <tr>\n      <th>74</th>\n      <td>1-12</td>\n      <td>1</td>\n      <td>1</td>\n      <td>2</td>\n      <td>Зв5</td>\n      <td>41</td>\n      <td>1073775956</td>\n      <td>2939.419336</td>\n      <td>126.295838</td>\n      <td>1-12;41:42</td>\n      <td>horizontal</td>\n      <td>left</td>\n      <td>None</td>\n      <td>None</td>\n      <td>None</td>\n      <td>None</td>\n      <td>М</td>\n    </tr>\n    <tr>\n      <th>78</th>\n      <td>1-14</td>\n      <td>1</td>\n      <td>1</td>\n      <td>4</td>\n      <td>Зв38</td>\n      <td>41</td>\n      <td>1073777943</td>\n      <td>5459.417285</td>\n      <td>126.295838</td>\n      <td>1-14;41:42</td>\n      <td>horizontal</td>\n      <td>left</td>\n      <td>None</td>\n      <td>None</td>\n      <td>None</td>\n      <td>None</td>\n      <td>М</td>\n    </tr>\n    <tr>\n      <th>81</th>\n      <td>1-15</td>\n      <td>1</td>\n      <td>1</td>\n      <td>5</td>\n      <td>Зв38</td>\n      <td>4</td>\n      <td>1073778458</td>\n      <td>6106.971452</td>\n      <td>-76.954656</td>\n      <td>1-15;1:4</td>\n      <td>horizontal</td>\n      <td>right</td>\n      <td>None</td>\n      <td>None</td>\n      <td>None</td>\n      <td>None</td>\n      <td>М</td>\n    </tr>\n    <tr>\n      <th>84</th>\n      <td>1-15</td>\n      <td>1</td>\n      <td>1</td>\n      <td>5</td>\n      <td>Зв38</td>\n      <td>41</td>\n      <td>1073778306</td>\n      <td>5879.418106</td>\n      <td>126.295838</td>\n      <td>1-15;41:42</td>\n      <td>horizontal</td>\n      <td>left</td>\n      <td>None</td>\n      <td>None</td>\n      <td>None</td>\n      <td>None</td>\n      <td>М</td>\n    </tr>\n    <tr>\n      <th>92</th>\n      <td>1-21</td>\n      <td>1</td>\n      <td>2</td>\n      <td>1</td>\n      <td>Зв10</td>\n      <td>41</td>\n      <td>1073779637</td>\n      <td>4199.419506</td>\n      <td>126.295306</td>\n      <td>1-21;41:42</td>\n      <td>horizontal</td>\n      <td>left</td>\n      <td>None</td>\n      <td>None</td>\n      <td>None</td>\n      <td>None</td>\n      <td>М</td>\n    </tr>\n    <tr>\n      <th>95</th>\n      <td>1-21</td>\n      <td>1</td>\n      <td>2</td>\n      <td>1</td>\n      <td>Зв10</td>\n      <td>4</td>\n      <td>1073779650</td>\n      <td>4426.972333</td>\n      <td>-76.954734</td>\n      <td>1-21;1:4</td>\n      <td>horizontal</td>\n      <td>right</td>\n      <td>None</td>\n      <td>None</td>\n      <td>None</td>\n      <td>None</td>\n      <td>М</td>\n    </tr>\n  </tbody>\n</table>\n</div>"
     },
     "execution_count": 91,
     "metadata": {},
     "output_type": "execute_result"
    }
   ],
   "source": [
    "filter_df(ts.df_sx_contacts, ('st', '1'), ('pit', 'М'))"
   ],
   "metadata": {
    "collapsed": false,
    "pycharm": {
     "name": "#%%\n"
    }
   }
  },
  {
   "cell_type": "code",
   "execution_count": 76,
   "outputs": [],
   "source": [
    "df1 = ts.df_sx_contacts[(ts.df_sx_contacts['st'] == '1') &(ts.df_sx_contacts['pit'] == sh_name)]"
   ],
   "metadata": {
    "collapsed": false,
    "pycharm": {
     "name": "#%%\n"
    }
   }
  },
  {
   "cell_type": "code",
   "execution_count": 78,
   "outputs": [
    {
     "data": {
      "text/plain": "  st pit    p\n0  1   М  [3]",
      "text/html": "<div>\n<style scoped>\n    .dataframe tbody tr th:only-of-type {\n        vertical-align: middle;\n    }\n\n    .dataframe tbody tr th {\n        vertical-align: top;\n    }\n\n    .dataframe thead th {\n        text-align: right;\n    }\n</style>\n<table border=\"1\" class=\"dataframe\">\n  <thead>\n    <tr style=\"text-align: right;\">\n      <th></th>\n      <th>st</th>\n      <th>pit</th>\n      <th>p</th>\n    </tr>\n  </thead>\n  <tbody>\n    <tr>\n      <th>0</th>\n      <td>1</td>\n      <td>М</td>\n      <td>[3]</td>\n    </tr>\n  </tbody>\n</table>\n</div>"
     },
     "execution_count": 78,
     "metadata": {},
     "output_type": "execute_result"
    }
   ],
   "source": [
    "df2 = ts.df_st_sh_p_ls[(ts.df_st_sh_p_ls['st'] == '1') &(ts.df_st_sh_p_ls['pit'] == sh_name)]\n",
    "df2"
   ],
   "metadata": {
    "collapsed": false,
    "pycharm": {
     "name": "#%%\n"
    }
   }
  },
  {
   "cell_type": "code",
   "execution_count": 79,
   "outputs": [
    {
     "data": {
      "text/plain": "['3']"
     },
     "execution_count": 79,
     "metadata": {},
     "output_type": "execute_result"
    }
   ],
   "source": [
    "ts.get_val_df_first(df2, 'p')"
   ],
   "metadata": {
    "collapsed": false,
    "pycharm": {
     "name": "#%%\n"
    }
   }
  },
  {
   "cell_type": "code",
   "execution_count": 81,
   "outputs": [
    {
     "data": {
      "text/plain": "'1-13'"
     },
     "execution_count": 81,
     "metadata": {},
     "output_type": "execute_result"
    }
   ],
   "source": [
    "loc = ts.df_sx_contacts.iloc[0]['loc']\n",
    "loc"
   ],
   "metadata": {
    "collapsed": false,
    "pycharm": {
     "name": "#%%\n"
    }
   }
  },
  {
   "cell_type": "code",
   "execution_count": 82,
   "outputs": [
    {
     "data": {
      "text/plain": "'П'"
     },
     "execution_count": 82,
     "metadata": {},
     "output_type": "execute_result"
    }
   ],
   "source": [
    "pit = ts.df_sx_contacts.iloc[0]['pit']\n",
    "pit"
   ],
   "metadata": {
    "collapsed": false,
    "pycharm": {
     "name": "#%%\n"
    }
   }
  },
  {
   "cell_type": "code",
   "execution_count": 85,
   "outputs": [
    {
     "data": {
      "text/plain": "4"
     },
     "execution_count": 85,
     "metadata": {},
     "output_type": "execute_result"
    }
   ],
   "source": [
    "ts.get_nearest_sh(loc, pit)"
   ],
   "metadata": {
    "collapsed": false,
    "pycharm": {
     "name": "#%%\n"
    }
   }
  },
  {
   "cell_type": "code",
   "execution_count": 88,
   "outputs": [],
   "source": [
    "df2 = df1.sort_values(by=['p', 'r', 'contact'])"
   ],
   "metadata": {
    "collapsed": false,
    "pycharm": {
     "name": "#%%\n"
    }
   }
  },
  {
   "cell_type": "code",
   "execution_count": 89,
   "outputs": [],
   "source": [
    "x1, x2 = (1,2)"
   ],
   "metadata": {
    "collapsed": false,
    "pycharm": {
     "name": "#%%\n"
    }
   }
  },
  {
   "cell_type": "code",
   "execution_count": null,
   "outputs": [],
   "source": [],
   "metadata": {
    "collapsed": false,
    "pycharm": {
     "name": "#%%\n"
    }
   }
  },
  {
   "cell_type": "code",
   "execution_count": null,
   "outputs": [],
   "source": [],
   "metadata": {
    "collapsed": false,
    "pycharm": {
     "name": "#%%\n"
    }
   }
  },
  {
   "cell_type": "code",
   "execution_count": null,
   "outputs": [],
   "source": [],
   "metadata": {
    "collapsed": false,
    "pycharm": {
     "name": "#%%\n"
    }
   }
  },
  {
   "cell_type": "code",
   "execution_count": 131,
   "outputs": [],
   "source": [
    "\n",
    "df_st_b = init_st_b()"
   ],
   "metadata": {
    "collapsed": false,
    "pycharm": {
     "name": "#%%\n"
    }
   }
  },
  {
   "cell_type": "code",
   "execution_count": 132,
   "outputs": [
    {
     "data": {
      "text/plain": "     loc st  p  r  name contact         ref            x           y  \\\n0   1-13  1  1  3   Зв9      21  1073761402  1048.348584  142.296106   \n1   1-13  1  1  3   Зв9      22  1073761405  1059.439607  142.296106   \n2   1-13  1  1  3   Зв9      41  1073761400  1049.418926  126.295838   \n3   1-13  1  1  3   Зв9      42  1073761401  1060.510302  126.295838   \n4   1-13  1  1  3   Зв9       1  1073761542  1266.872191  -76.822717   \n..   ... .. .. ..   ...     ...         ...          ...         ...   \n91  1-21  1  2  1  Зв10      22  1073766462  4209.440188  142.295573   \n92  1-21  1  2  1  Зв10      41  1073766457  4199.419506  126.295306   \n93  1-21  1  2  1  Зв10      42  1073766458  4210.510883  126.295306   \n94  1-21  1  2  1  Зв10       1  1073766468  4416.872252  -76.822795   \n95  1-21  1  2  1  Зв10       4  1073766470  4426.972333  -76.954734   \n\n         group   direction   side    b1    b2    l1    l2   pit  \n0   1-13;21:22  horizontal   left  None  None  None  None  None  \n1   1-13;21:22  horizontal  right  None  None  None  None  None  \n2   1-13;41:42  horizontal   left  None  None  None  None  None  \n3   1-13;41:42  horizontal  right  None  None  None  None  None  \n4     1-13;1:4  horizontal   left  None  None  None  None  None  \n..         ...         ...    ...   ...   ...   ...   ...   ...  \n91  1-21;21:22  horizontal  right  None  None  None  None  None  \n92  1-21;41:42  horizontal   left  None  None  None  None  None  \n93  1-21;41:42  horizontal  right  None  None  None  None  None  \n94    1-21;1:4  horizontal   left  None  None  None  None  None  \n95    1-21;1:4  horizontal  right  None  None  None  None  None  \n\n[96 rows x 17 columns]",
      "text/html": "<div>\n<style scoped>\n    .dataframe tbody tr th:only-of-type {\n        vertical-align: middle;\n    }\n\n    .dataframe tbody tr th {\n        vertical-align: top;\n    }\n\n    .dataframe thead th {\n        text-align: right;\n    }\n</style>\n<table border=\"1\" class=\"dataframe\">\n  <thead>\n    <tr style=\"text-align: right;\">\n      <th></th>\n      <th>loc</th>\n      <th>st</th>\n      <th>p</th>\n      <th>r</th>\n      <th>name</th>\n      <th>contact</th>\n      <th>ref</th>\n      <th>x</th>\n      <th>y</th>\n      <th>group</th>\n      <th>direction</th>\n      <th>side</th>\n      <th>b1</th>\n      <th>b2</th>\n      <th>l1</th>\n      <th>l2</th>\n      <th>pit</th>\n    </tr>\n  </thead>\n  <tbody>\n    <tr>\n      <th>0</th>\n      <td>1-13</td>\n      <td>1</td>\n      <td>1</td>\n      <td>3</td>\n      <td>Зв9</td>\n      <td>21</td>\n      <td>1073761402</td>\n      <td>1048.348584</td>\n      <td>142.296106</td>\n      <td>1-13;21:22</td>\n      <td>horizontal</td>\n      <td>left</td>\n      <td>None</td>\n      <td>None</td>\n      <td>None</td>\n      <td>None</td>\n      <td>None</td>\n    </tr>\n    <tr>\n      <th>1</th>\n      <td>1-13</td>\n      <td>1</td>\n      <td>1</td>\n      <td>3</td>\n      <td>Зв9</td>\n      <td>22</td>\n      <td>1073761405</td>\n      <td>1059.439607</td>\n      <td>142.296106</td>\n      <td>1-13;21:22</td>\n      <td>horizontal</td>\n      <td>right</td>\n      <td>None</td>\n      <td>None</td>\n      <td>None</td>\n      <td>None</td>\n      <td>None</td>\n    </tr>\n    <tr>\n      <th>2</th>\n      <td>1-13</td>\n      <td>1</td>\n      <td>1</td>\n      <td>3</td>\n      <td>Зв9</td>\n      <td>41</td>\n      <td>1073761400</td>\n      <td>1049.418926</td>\n      <td>126.295838</td>\n      <td>1-13;41:42</td>\n      <td>horizontal</td>\n      <td>left</td>\n      <td>None</td>\n      <td>None</td>\n      <td>None</td>\n      <td>None</td>\n      <td>None</td>\n    </tr>\n    <tr>\n      <th>3</th>\n      <td>1-13</td>\n      <td>1</td>\n      <td>1</td>\n      <td>3</td>\n      <td>Зв9</td>\n      <td>42</td>\n      <td>1073761401</td>\n      <td>1060.510302</td>\n      <td>126.295838</td>\n      <td>1-13;41:42</td>\n      <td>horizontal</td>\n      <td>right</td>\n      <td>None</td>\n      <td>None</td>\n      <td>None</td>\n      <td>None</td>\n      <td>None</td>\n    </tr>\n    <tr>\n      <th>4</th>\n      <td>1-13</td>\n      <td>1</td>\n      <td>1</td>\n      <td>3</td>\n      <td>Зв9</td>\n      <td>1</td>\n      <td>1073761542</td>\n      <td>1266.872191</td>\n      <td>-76.822717</td>\n      <td>1-13;1:4</td>\n      <td>horizontal</td>\n      <td>left</td>\n      <td>None</td>\n      <td>None</td>\n      <td>None</td>\n      <td>None</td>\n      <td>None</td>\n    </tr>\n    <tr>\n      <th>...</th>\n      <td>...</td>\n      <td>...</td>\n      <td>...</td>\n      <td>...</td>\n      <td>...</td>\n      <td>...</td>\n      <td>...</td>\n      <td>...</td>\n      <td>...</td>\n      <td>...</td>\n      <td>...</td>\n      <td>...</td>\n      <td>...</td>\n      <td>...</td>\n      <td>...</td>\n      <td>...</td>\n      <td>...</td>\n    </tr>\n    <tr>\n      <th>91</th>\n      <td>1-21</td>\n      <td>1</td>\n      <td>2</td>\n      <td>1</td>\n      <td>Зв10</td>\n      <td>22</td>\n      <td>1073766462</td>\n      <td>4209.440188</td>\n      <td>142.295573</td>\n      <td>1-21;21:22</td>\n      <td>horizontal</td>\n      <td>right</td>\n      <td>None</td>\n      <td>None</td>\n      <td>None</td>\n      <td>None</td>\n      <td>None</td>\n    </tr>\n    <tr>\n      <th>92</th>\n      <td>1-21</td>\n      <td>1</td>\n      <td>2</td>\n      <td>1</td>\n      <td>Зв10</td>\n      <td>41</td>\n      <td>1073766457</td>\n      <td>4199.419506</td>\n      <td>126.295306</td>\n      <td>1-21;41:42</td>\n      <td>horizontal</td>\n      <td>left</td>\n      <td>None</td>\n      <td>None</td>\n      <td>None</td>\n      <td>None</td>\n      <td>None</td>\n    </tr>\n    <tr>\n      <th>93</th>\n      <td>1-21</td>\n      <td>1</td>\n      <td>2</td>\n      <td>1</td>\n      <td>Зв10</td>\n      <td>42</td>\n      <td>1073766458</td>\n      <td>4210.510883</td>\n      <td>126.295306</td>\n      <td>1-21;41:42</td>\n      <td>horizontal</td>\n      <td>right</td>\n      <td>None</td>\n      <td>None</td>\n      <td>None</td>\n      <td>None</td>\n      <td>None</td>\n    </tr>\n    <tr>\n      <th>94</th>\n      <td>1-21</td>\n      <td>1</td>\n      <td>2</td>\n      <td>1</td>\n      <td>Зв10</td>\n      <td>1</td>\n      <td>1073766468</td>\n      <td>4416.872252</td>\n      <td>-76.822795</td>\n      <td>1-21;1:4</td>\n      <td>horizontal</td>\n      <td>left</td>\n      <td>None</td>\n      <td>None</td>\n      <td>None</td>\n      <td>None</td>\n      <td>None</td>\n    </tr>\n    <tr>\n      <th>95</th>\n      <td>1-21</td>\n      <td>1</td>\n      <td>2</td>\n      <td>1</td>\n      <td>Зв10</td>\n      <td>4</td>\n      <td>1073766470</td>\n      <td>4426.972333</td>\n      <td>-76.954734</td>\n      <td>1-21;1:4</td>\n      <td>horizontal</td>\n      <td>right</td>\n      <td>None</td>\n      <td>None</td>\n      <td>None</td>\n      <td>None</td>\n      <td>None</td>\n    </tr>\n  </tbody>\n</table>\n<p>96 rows × 17 columns</p>\n</div>"
     },
     "execution_count": 132,
     "metadata": {},
     "output_type": "execute_result"
    }
   ],
   "source": [
    "df_contacts = search_contacts(text_tools_rcn)\n",
    "df_contacts[['b1', 'b2', 'l1', 'l2', 'pit']] = None\n",
    "df_contacts"
   ],
   "metadata": {
    "collapsed": false,
    "pycharm": {
     "name": "#%%\n"
    }
   }
  },
  {
   "cell_type": "code",
   "execution_count": 133,
   "outputs": [],
   "source": [
    "df_B = text_tools_rcn.df_match('^[1-3]-В')\n",
    "df_B = df_B.apply(rep_xy_on_circle, axis=1)\n",
    "df_101 = text_tools_rcn.df_match('^10[1-5]-')\n",
    "df_101 = df_101.apply(rep_xy_on_circle, axis=1)\n",
    "df_C = text_tools_rcn.df_match('^C[1-8]:')\n",
    "df_C = df_C.apply(rep_xy_on_circle, axis=1)\n",
    "\n",
    "# отсортировать по x возрастанию потом y по убыванию\n",
    "df_B = df_B.sort_values(by=['x', 'y'], key=lambda x: x.map(dict(zip(x, range(len(x))))))\n",
    "\n",
    "df_shina = None"
   ],
   "metadata": {
    "collapsed": false,
    "pycharm": {
     "name": "#%%\n"
    }
   }
  },
  {
   "cell_type": "code",
   "execution_count": 134,
   "outputs": [],
   "source": [
    "\n",
    "def f1():\n",
    "    for i in range(len(df_B)):\n",
    "        res = df_B.iloc[i]\n",
    "        df1, df_name1 = find_link_by_b(res['x'], res['y'], 10, 0, 5, 5, side='left')\n",
    "        df2, df_name2 = find_link_by_b(res['x'], res['y'], 0, 0, 5, 5, side='right')\n",
    "        loc = None\n",
    "        contact = None\n",
    "        df_name_st = None\n",
    "        df_name_no_st = None\n",
    "        if df_name1 == 'df_contacts':\n",
    "            loc = df1.iloc[0]['loc']\n",
    "            df_cont = df1\n",
    "            contact = df1.iloc[0]['contact']\n",
    "            b1_dev = df1.iloc[0]['b1']\n",
    "            b2_dev = df1.iloc[0]['b2']\n",
    "            df_name_st = df_name1\n",
    "        if df_name1 == 'df_101' or df_name1 == 'df_C':\n",
    "            df_no_cont = df1\n",
    "            b_st = df1.iloc[0]['text']\n",
    "            df_name_no_st = df_name1\n",
    "\n",
    "        if df_name2 == 'df_contacts':\n",
    "            loc = df2.iloc[0]['loc']\n",
    "            df_cont = df2\n",
    "            contact = df2.iloc[0]['contact']\n",
    "            b1_dev = df2.iloc[0]['b1']\n",
    "            b2_dev = df2.iloc[0]['b2']\n",
    "            df_name_st = df_name2\n",
    "        if df_name2 == 'df_101' or df_name2 == 'df_C':\n",
    "            df_no_cont = df2\n",
    "            b_st = df2.iloc[0]['text']\n",
    "            df_name_no_st = df_name2\n",
    "\n",
    "        if loc is not None and df_name_no_st is not None:\n",
    "            st, p, r = get_loc(loc)\n",
    "            ls = ds_st_b[df_name_no_st]\n",
    "            df_t = df_st_b[(df_st_b['st']==st) & (df_st_b['b'].isin(ls)) & (df_st_b['l1']=='')]\n",
    "            df_t = df_t.sort_values(by=['b', 'n'], key=lambda x: x.map(dict(zip(ls, range(len(ls))))))\n",
    "            df_bb = df_t.head(1)\n",
    "            b, n = df_bb['b'].values[0],  df_bb['n'].values[0]    #'B110', 1\n",
    "            s_b = f'{st}-{b}-{n}'\n",
    "\n",
    "            text_tools_rcn.replace(res['ref'], s_b)\n",
    "            add_st_contact(loc=loc, contact=contact, loc_to=[f'{b}-{n}'])\n",
    "            add_st_v(st, b, str(n), [f'{p}{r}-{contact}', b_st])\n",
    "\n",
    "            df_st_b.loc[df_bb.index, 'l1'] =  loc\n",
    "            df_st_b.loc[df_bb.index, 'l2'] =  b_st\n",
    "\n",
    "            if df_cont.iloc[0]['b1'] is None:\n",
    "                df_contacts.loc[df_cont.index, 'b1'] =  f'{b}-{n}'\n",
    "            else:\n",
    "                df_contacts.loc[df_cont.index, 'b2'] =  f'{b}-{n}'\n",
    "\n",
    "        if loc is None and df_name_no_st is not None:\n",
    "            st = res['text'][0]\n",
    "            ls = ds_st_b[df_name_no_st]\n",
    "            df_t = df_st_b[(df_st_b['st']==st) & (df_st_b['b'].isin(ls)) & (df_st_b['l1']=='')]\n",
    "            df_t = df_t.sort_values(by=['b', 'n'], key=lambda x: x.map(dict(zip(ls, range(len(ls))))))\n",
    "            df_bb = df_t.head(1)\n",
    "            b, n = df_bb['b'].values[0],  df_bb['n'].values[0]    #'B110', 1\n",
    "            s_b = f'{st}-{b}-{n}'\n",
    "\n",
    "            text_tools_rcn.replace(res['ref'], s_b)\n",
    "            # add_st_contact(loc=loc, contact=contact, loc_to=[f'{b}-{n}'])\n",
    "            add_st_v(st, b, str(n), ['', b_st])\n",
    "\n",
    "            df_st_b.loc[df_bb.index, 'l1'] =  'резерв'\n",
    "            df_st_b.loc[df_bb.index, 'l2'] =  b_st\n"
   ],
   "metadata": {
    "collapsed": false,
    "pycharm": {
     "name": "#%%\n"
    }
   }
  },
  {
   "cell_type": "code",
   "execution_count": 135,
   "outputs": [],
   "source": [
    "f1()"
   ],
   "metadata": {
    "collapsed": false,
    "pycharm": {
     "name": "#%%\n"
    }
   }
  },
  {
   "cell_type": "code",
   "execution_count": null,
   "outputs": [],
   "source": [],
   "metadata": {
    "collapsed": false,
    "pycharm": {
     "name": "#%%\n"
    }
   }
  },
  {
   "cell_type": "code",
   "execution_count": null,
   "outputs": [],
   "source": [],
   "metadata": {
    "collapsed": false,
    "pycharm": {
     "name": "#%%\n"
    }
   }
  },
  {
   "cell_type": "code",
   "execution_count": 34,
   "outputs": [],
   "source": [
    "text_tools = text_tools_st[f'c{2}']"
   ],
   "metadata": {
    "collapsed": false,
    "pycharm": {
     "name": "#%%\n"
    }
   }
  },
  {
   "cell_type": "code",
   "execution_count": 28,
   "outputs": [
    {
     "data": {
      "text/plain": "     text            x           y         ref\n12    1-Ш  1017.483783  150.418925  1073761392\n16    1-Ш  1017.483938  134.418657  1073761396\n167   1-Ш  1312.743418  -68.581717  1073761547\n732   1-Ш  1651.744050   -7.581766  1073762114\n916   1-Ш  1644.485496  136.418512  1073762300\n922   1-Ш  1630.896617  151.418661  1073762306\n925   1-Ш  1644.485284  152.418795  1073762309\n5090  1-Ш  2487.483783  150.418925  1073766474\n5092  1-Ш  2487.483938  134.418657  1073766476\n5094  1-Ш  2782.743418  -68.581717  1073766478\n5100  1-Ш  2907.483783  150.418925  1073766484\n5102  1-Ш  2907.483938  134.418657  1073766486\n5104  1-Ш  3202.743418  -68.581717  1073766488\n5110  1-Ш  3327.483783  150.418925  1073766494\n5112  1-Ш  3327.483938  134.418657  1073766496\n5114  1-Ш  3622.743418  -68.581717  1073766498\n5120  1-Ш  3747.483783  150.418925  1073766504\n5122  1-Ш  3747.483938  134.418657  1073766506\n5124  1-Ш  4042.743418  -68.581717  1073766508\n5130  1-Ш  4167.483783  150.418925  1073766514\n5132  1-Ш  4167.483938  134.418657  1073766516\n5134  1-Ш  4462.743418  -68.581717  1073766518\n5140  1-Ш  4587.483783  150.418925  1073766524\n5142  1-Ш  4587.483938  134.418657  1073766526\n5144  1-Ш  4882.743418  -68.581717  1073766528\n5150  1-Ш  5007.483783  150.418925  1073766534\n5152  1-Ш  5007.483938  134.418657  1073766536\n5154  1-Ш  5302.743418  -68.581717  1073766538\n5160  1-Ш  5427.483783  150.418925  1073766544\n5162  1-Ш  5427.483938  134.418657  1073766546\n5164  1-Ш  5722.743418  -68.581717  1073766548\n5170  1-Ш  5847.483783  150.418925  1073766554\n5172  1-Ш  5847.483938  134.418657  1073766556\n5174  1-Ш  6142.743418  -68.581717  1073766558\n5227  1-Ш  1644.485496   96.418725  1073766611\n5229  1-Ш  1644.485284  112.419008  1073766613\n5231  1-Ш  1644.485496   56.418585  1073766615\n5233  1-Ш  1644.485284   72.418868  1073766617",
      "text/html": "<div>\n<style scoped>\n    .dataframe tbody tr th:only-of-type {\n        vertical-align: middle;\n    }\n\n    .dataframe tbody tr th {\n        vertical-align: top;\n    }\n\n    .dataframe thead th {\n        text-align: right;\n    }\n</style>\n<table border=\"1\" class=\"dataframe\">\n  <thead>\n    <tr style=\"text-align: right;\">\n      <th></th>\n      <th>text</th>\n      <th>x</th>\n      <th>y</th>\n      <th>ref</th>\n    </tr>\n  </thead>\n  <tbody>\n    <tr>\n      <th>12</th>\n      <td>1-Ш</td>\n      <td>1017.483783</td>\n      <td>150.418925</td>\n      <td>1073761392</td>\n    </tr>\n    <tr>\n      <th>16</th>\n      <td>1-Ш</td>\n      <td>1017.483938</td>\n      <td>134.418657</td>\n      <td>1073761396</td>\n    </tr>\n    <tr>\n      <th>167</th>\n      <td>1-Ш</td>\n      <td>1312.743418</td>\n      <td>-68.581717</td>\n      <td>1073761547</td>\n    </tr>\n    <tr>\n      <th>732</th>\n      <td>1-Ш</td>\n      <td>1651.744050</td>\n      <td>-7.581766</td>\n      <td>1073762114</td>\n    </tr>\n    <tr>\n      <th>916</th>\n      <td>1-Ш</td>\n      <td>1644.485496</td>\n      <td>136.418512</td>\n      <td>1073762300</td>\n    </tr>\n    <tr>\n      <th>922</th>\n      <td>1-Ш</td>\n      <td>1630.896617</td>\n      <td>151.418661</td>\n      <td>1073762306</td>\n    </tr>\n    <tr>\n      <th>925</th>\n      <td>1-Ш</td>\n      <td>1644.485284</td>\n      <td>152.418795</td>\n      <td>1073762309</td>\n    </tr>\n    <tr>\n      <th>5090</th>\n      <td>1-Ш</td>\n      <td>2487.483783</td>\n      <td>150.418925</td>\n      <td>1073766474</td>\n    </tr>\n    <tr>\n      <th>5092</th>\n      <td>1-Ш</td>\n      <td>2487.483938</td>\n      <td>134.418657</td>\n      <td>1073766476</td>\n    </tr>\n    <tr>\n      <th>5094</th>\n      <td>1-Ш</td>\n      <td>2782.743418</td>\n      <td>-68.581717</td>\n      <td>1073766478</td>\n    </tr>\n    <tr>\n      <th>5100</th>\n      <td>1-Ш</td>\n      <td>2907.483783</td>\n      <td>150.418925</td>\n      <td>1073766484</td>\n    </tr>\n    <tr>\n      <th>5102</th>\n      <td>1-Ш</td>\n      <td>2907.483938</td>\n      <td>134.418657</td>\n      <td>1073766486</td>\n    </tr>\n    <tr>\n      <th>5104</th>\n      <td>1-Ш</td>\n      <td>3202.743418</td>\n      <td>-68.581717</td>\n      <td>1073766488</td>\n    </tr>\n    <tr>\n      <th>5110</th>\n      <td>1-Ш</td>\n      <td>3327.483783</td>\n      <td>150.418925</td>\n      <td>1073766494</td>\n    </tr>\n    <tr>\n      <th>5112</th>\n      <td>1-Ш</td>\n      <td>3327.483938</td>\n      <td>134.418657</td>\n      <td>1073766496</td>\n    </tr>\n    <tr>\n      <th>5114</th>\n      <td>1-Ш</td>\n      <td>3622.743418</td>\n      <td>-68.581717</td>\n      <td>1073766498</td>\n    </tr>\n    <tr>\n      <th>5120</th>\n      <td>1-Ш</td>\n      <td>3747.483783</td>\n      <td>150.418925</td>\n      <td>1073766504</td>\n    </tr>\n    <tr>\n      <th>5122</th>\n      <td>1-Ш</td>\n      <td>3747.483938</td>\n      <td>134.418657</td>\n      <td>1073766506</td>\n    </tr>\n    <tr>\n      <th>5124</th>\n      <td>1-Ш</td>\n      <td>4042.743418</td>\n      <td>-68.581717</td>\n      <td>1073766508</td>\n    </tr>\n    <tr>\n      <th>5130</th>\n      <td>1-Ш</td>\n      <td>4167.483783</td>\n      <td>150.418925</td>\n      <td>1073766514</td>\n    </tr>\n    <tr>\n      <th>5132</th>\n      <td>1-Ш</td>\n      <td>4167.483938</td>\n      <td>134.418657</td>\n      <td>1073766516</td>\n    </tr>\n    <tr>\n      <th>5134</th>\n      <td>1-Ш</td>\n      <td>4462.743418</td>\n      <td>-68.581717</td>\n      <td>1073766518</td>\n    </tr>\n    <tr>\n      <th>5140</th>\n      <td>1-Ш</td>\n      <td>4587.483783</td>\n      <td>150.418925</td>\n      <td>1073766524</td>\n    </tr>\n    <tr>\n      <th>5142</th>\n      <td>1-Ш</td>\n      <td>4587.483938</td>\n      <td>134.418657</td>\n      <td>1073766526</td>\n    </tr>\n    <tr>\n      <th>5144</th>\n      <td>1-Ш</td>\n      <td>4882.743418</td>\n      <td>-68.581717</td>\n      <td>1073766528</td>\n    </tr>\n    <tr>\n      <th>5150</th>\n      <td>1-Ш</td>\n      <td>5007.483783</td>\n      <td>150.418925</td>\n      <td>1073766534</td>\n    </tr>\n    <tr>\n      <th>5152</th>\n      <td>1-Ш</td>\n      <td>5007.483938</td>\n      <td>134.418657</td>\n      <td>1073766536</td>\n    </tr>\n    <tr>\n      <th>5154</th>\n      <td>1-Ш</td>\n      <td>5302.743418</td>\n      <td>-68.581717</td>\n      <td>1073766538</td>\n    </tr>\n    <tr>\n      <th>5160</th>\n      <td>1-Ш</td>\n      <td>5427.483783</td>\n      <td>150.418925</td>\n      <td>1073766544</td>\n    </tr>\n    <tr>\n      <th>5162</th>\n      <td>1-Ш</td>\n      <td>5427.483938</td>\n      <td>134.418657</td>\n      <td>1073766546</td>\n    </tr>\n    <tr>\n      <th>5164</th>\n      <td>1-Ш</td>\n      <td>5722.743418</td>\n      <td>-68.581717</td>\n      <td>1073766548</td>\n    </tr>\n    <tr>\n      <th>5170</th>\n      <td>1-Ш</td>\n      <td>5847.483783</td>\n      <td>150.418925</td>\n      <td>1073766554</td>\n    </tr>\n    <tr>\n      <th>5172</th>\n      <td>1-Ш</td>\n      <td>5847.483938</td>\n      <td>134.418657</td>\n      <td>1073766556</td>\n    </tr>\n    <tr>\n      <th>5174</th>\n      <td>1-Ш</td>\n      <td>6142.743418</td>\n      <td>-68.581717</td>\n      <td>1073766558</td>\n    </tr>\n    <tr>\n      <th>5227</th>\n      <td>1-Ш</td>\n      <td>1644.485496</td>\n      <td>96.418725</td>\n      <td>1073766611</td>\n    </tr>\n    <tr>\n      <th>5229</th>\n      <td>1-Ш</td>\n      <td>1644.485284</td>\n      <td>112.419008</td>\n      <td>1073766613</td>\n    </tr>\n    <tr>\n      <th>5231</th>\n      <td>1-Ш</td>\n      <td>1644.485496</td>\n      <td>56.418585</td>\n      <td>1073766615</td>\n    </tr>\n    <tr>\n      <th>5233</th>\n      <td>1-Ш</td>\n      <td>1644.485284</td>\n      <td>72.418868</td>\n      <td>1073766617</td>\n    </tr>\n  </tbody>\n</table>\n</div>"
     },
     "execution_count": 28,
     "metadata": {},
     "output_type": "execute_result"
    }
   ],
   "source": [
    "df_sh = text_tools_rcn.df_match(r'[1-3]-Ш')\n",
    "df_sh"
   ],
   "metadata": {
    "collapsed": false,
    "pycharm": {
     "name": "#%%\n"
    }
   }
  },
  {
   "cell_type": "code",
   "execution_count": 60,
   "outputs": [],
   "source": [
    "ref1 = df_sh.iloc[0]['ref']"
   ],
   "metadata": {
    "collapsed": false,
    "pycharm": {
     "name": "#%%\n"
    }
   }
  },
  {
   "cell_type": "code",
   "execution_count": null,
   "outputs": [],
   "source": [],
   "metadata": {
    "collapsed": false,
    "pycharm": {
     "name": "#%%\n"
    }
   }
  },
  {
   "cell_type": "code",
   "execution_count": 72,
   "outputs": [],
   "source": [
    "df_sh = text_tools_rcn.df_match(r'[1-3]-Ш')"
   ],
   "metadata": {
    "collapsed": false,
    "pycharm": {
     "name": "#%%\n"
    }
   }
  },
  {
   "cell_type": "code",
   "execution_count": null,
   "outputs": [],
   "source": [
    "ds = text_tools_rcn.find_text_ref(ref1, 6, 6, 0, 5)"
   ],
   "metadata": {
    "collapsed": false,
    "pycharm": {
     "name": "#%%\n"
    }
   }
  },
  {
   "cell_type": "code",
   "execution_count": 136,
   "outputs": [],
   "source": [
    "def search_sh(df_shina=None):\n",
    "    df_sh = text_tools_rcn.df_match(r'[1-3]-Ш')\n",
    "\n",
    "    for i in range(len(df_sh)):\n",
    "        ref1 = df_sh.iloc[i]['ref']\n",
    "        ds = text_tools_rcn.find_text_ref(ref1, 6, 6, 0, 5)\n",
    "        if ds is not None:\n",
    "            name_sh = ds['text'] # 'П'\n",
    "            ds1 = text_tools_rcn.find_cirle_ref(ds['ref'], 5, 5, 0, 10, radius_lt=2)\n",
    "            if ds1 is not None:\n",
    "                df2 = ds1['df']\n",
    "                df2['pit'] = name_sh\n",
    "\n",
    "            ds_lines = text_tools_rcn.find_line(ds['x'], ds['y'], 5, 5, 0, 10)\n",
    "\n",
    "            if ds_lines is not None:\n",
    "                df_lines = ds_lines['df']\n",
    "\n",
    "                is_line = False\n",
    "                for i in range(len(df_lines)):\n",
    "                    res = df_lines.iloc[i]\n",
    "                    if res['x1'] == res['x2']:\n",
    "                        is_line = True\n",
    "                        break\n",
    "                if is_line:\n",
    "                    df2 = text_tools_rcn.find_cirle_ref(ds['ref'], 5, 5, 0, 180, radius_lt=2)['df']\n",
    "                    df2['pit'] = name_sh\n",
    "\n",
    "            if df_shina is None:\n",
    "                df_shina = df2\n",
    "            else:\n",
    "                df_shina = df_shina.append(df2)\n",
    "\n",
    "    return df_shina"
   ],
   "metadata": {
    "collapsed": false,
    "pycharm": {
     "name": "#%%\n"
    }
   }
  },
  {
   "cell_type": "code",
   "execution_count": 137,
   "outputs": [
    {
     "data": {
      "text/plain": "                x           y    radius         ref pit\n0     1021.054485  142.729975  0.749852  1073766619   П\n1     1021.054485  126.729835  0.750078  1073766620   М\n26    1314.055125  -76.270540  0.750078  1073766645   М\n115   1653.055757  -15.270591  0.750078  1073766734   М\n116   1653.055757  -31.270506  0.750078  1073766735   М\n117   1653.055757  -47.270421  0.750078  1073766736   М\n121   1648.056053  128.729700  0.750078  1073766740   М\n103   1633.055913  143.730067  0.749852  1073766722   П\n104   1633.055913  127.730152  0.749852  1073766723   П\n105   1633.055913  111.729885  0.749852  1073766724   П\n256   1633.055913   95.729974  0.749852  1073766875   П\n120   1648.056053  144.729840  0.749852  1073766739   П\n1349  2491.054485  142.729975  0.749852  1073767969   П\n1350  2491.054485  126.729835  0.750078  1073767970   М\n1354  2784.055125  -76.270540  0.750078  1073767974   М\n1355  2911.054485  142.729975  0.749852  1073767975   П\n1356  2911.054485  126.729835  0.750078  1073767976   М\n1360  3204.055125  -76.270540  0.750078  1073767980   М\n1361  3331.054485  142.729975  0.749852  1073767981   П\n1362  3331.054485  126.729835  0.750078  1073767982   М\n1366  3624.055125  -76.270540  0.750078  1073767986   М\n1367  3751.054485  142.729975  0.749852  1073767987   П\n1368  3751.054485  126.729835  0.750078  1073767988   М\n1372  4044.055125  -76.270540  0.750078  1073767992   М\n1373  4171.054485  142.729975  0.749852  1073767993   П\n1374  4171.054485  126.729835  0.750078  1073767994   М\n1378  4464.055125  -76.270540  0.750078  1073767998   М\n1379  4591.054485  142.729975  0.749852  1073767999   П\n1380  4591.054485  126.729835  0.750078  1073768000   М\n1384  4884.055125  -76.270540  0.750078  1073768004   М\n1385  5011.054485  142.729975  0.749852  1073768005   П\n1386  5011.054485  126.729835  0.750078  1073768006   М\n1390  5304.055125  -76.270540  0.750078  1073768010   М\n1391  5431.054485  142.729975  0.749852  1073768011   П\n1392  5431.054485  126.729835  0.750078  1073768012   М\n1396  5724.055125  -76.270540  0.750078  1073768016   М\n1397  5851.054485  142.729975  0.749852  1073768017   П\n1398  5851.054485  126.729835  0.750078  1073768018   М\n1402  6144.055125  -76.270540  0.750078  1073768022   М\n1449  1648.056053   88.729912  0.750078  1073768069   М\n1448  1648.056053  104.730053  0.749852  1073768068   П\n1451  1648.056053   48.729773  0.750078  1073768071   М\n1450  1648.056053   64.729913  0.749852  1073768070   П",
      "text/html": "<div>\n<style scoped>\n    .dataframe tbody tr th:only-of-type {\n        vertical-align: middle;\n    }\n\n    .dataframe tbody tr th {\n        vertical-align: top;\n    }\n\n    .dataframe thead th {\n        text-align: right;\n    }\n</style>\n<table border=\"1\" class=\"dataframe\">\n  <thead>\n    <tr style=\"text-align: right;\">\n      <th></th>\n      <th>x</th>\n      <th>y</th>\n      <th>radius</th>\n      <th>ref</th>\n      <th>pit</th>\n    </tr>\n  </thead>\n  <tbody>\n    <tr>\n      <th>0</th>\n      <td>1021.054485</td>\n      <td>142.729975</td>\n      <td>0.749852</td>\n      <td>1073766619</td>\n      <td>П</td>\n    </tr>\n    <tr>\n      <th>1</th>\n      <td>1021.054485</td>\n      <td>126.729835</td>\n      <td>0.750078</td>\n      <td>1073766620</td>\n      <td>М</td>\n    </tr>\n    <tr>\n      <th>26</th>\n      <td>1314.055125</td>\n      <td>-76.270540</td>\n      <td>0.750078</td>\n      <td>1073766645</td>\n      <td>М</td>\n    </tr>\n    <tr>\n      <th>115</th>\n      <td>1653.055757</td>\n      <td>-15.270591</td>\n      <td>0.750078</td>\n      <td>1073766734</td>\n      <td>М</td>\n    </tr>\n    <tr>\n      <th>116</th>\n      <td>1653.055757</td>\n      <td>-31.270506</td>\n      <td>0.750078</td>\n      <td>1073766735</td>\n      <td>М</td>\n    </tr>\n    <tr>\n      <th>117</th>\n      <td>1653.055757</td>\n      <td>-47.270421</td>\n      <td>0.750078</td>\n      <td>1073766736</td>\n      <td>М</td>\n    </tr>\n    <tr>\n      <th>121</th>\n      <td>1648.056053</td>\n      <td>128.729700</td>\n      <td>0.750078</td>\n      <td>1073766740</td>\n      <td>М</td>\n    </tr>\n    <tr>\n      <th>103</th>\n      <td>1633.055913</td>\n      <td>143.730067</td>\n      <td>0.749852</td>\n      <td>1073766722</td>\n      <td>П</td>\n    </tr>\n    <tr>\n      <th>104</th>\n      <td>1633.055913</td>\n      <td>127.730152</td>\n      <td>0.749852</td>\n      <td>1073766723</td>\n      <td>П</td>\n    </tr>\n    <tr>\n      <th>105</th>\n      <td>1633.055913</td>\n      <td>111.729885</td>\n      <td>0.749852</td>\n      <td>1073766724</td>\n      <td>П</td>\n    </tr>\n    <tr>\n      <th>256</th>\n      <td>1633.055913</td>\n      <td>95.729974</td>\n      <td>0.749852</td>\n      <td>1073766875</td>\n      <td>П</td>\n    </tr>\n    <tr>\n      <th>120</th>\n      <td>1648.056053</td>\n      <td>144.729840</td>\n      <td>0.749852</td>\n      <td>1073766739</td>\n      <td>П</td>\n    </tr>\n    <tr>\n      <th>1349</th>\n      <td>2491.054485</td>\n      <td>142.729975</td>\n      <td>0.749852</td>\n      <td>1073767969</td>\n      <td>П</td>\n    </tr>\n    <tr>\n      <th>1350</th>\n      <td>2491.054485</td>\n      <td>126.729835</td>\n      <td>0.750078</td>\n      <td>1073767970</td>\n      <td>М</td>\n    </tr>\n    <tr>\n      <th>1354</th>\n      <td>2784.055125</td>\n      <td>-76.270540</td>\n      <td>0.750078</td>\n      <td>1073767974</td>\n      <td>М</td>\n    </tr>\n    <tr>\n      <th>1355</th>\n      <td>2911.054485</td>\n      <td>142.729975</td>\n      <td>0.749852</td>\n      <td>1073767975</td>\n      <td>П</td>\n    </tr>\n    <tr>\n      <th>1356</th>\n      <td>2911.054485</td>\n      <td>126.729835</td>\n      <td>0.750078</td>\n      <td>1073767976</td>\n      <td>М</td>\n    </tr>\n    <tr>\n      <th>1360</th>\n      <td>3204.055125</td>\n      <td>-76.270540</td>\n      <td>0.750078</td>\n      <td>1073767980</td>\n      <td>М</td>\n    </tr>\n    <tr>\n      <th>1361</th>\n      <td>3331.054485</td>\n      <td>142.729975</td>\n      <td>0.749852</td>\n      <td>1073767981</td>\n      <td>П</td>\n    </tr>\n    <tr>\n      <th>1362</th>\n      <td>3331.054485</td>\n      <td>126.729835</td>\n      <td>0.750078</td>\n      <td>1073767982</td>\n      <td>М</td>\n    </tr>\n    <tr>\n      <th>1366</th>\n      <td>3624.055125</td>\n      <td>-76.270540</td>\n      <td>0.750078</td>\n      <td>1073767986</td>\n      <td>М</td>\n    </tr>\n    <tr>\n      <th>1367</th>\n      <td>3751.054485</td>\n      <td>142.729975</td>\n      <td>0.749852</td>\n      <td>1073767987</td>\n      <td>П</td>\n    </tr>\n    <tr>\n      <th>1368</th>\n      <td>3751.054485</td>\n      <td>126.729835</td>\n      <td>0.750078</td>\n      <td>1073767988</td>\n      <td>М</td>\n    </tr>\n    <tr>\n      <th>1372</th>\n      <td>4044.055125</td>\n      <td>-76.270540</td>\n      <td>0.750078</td>\n      <td>1073767992</td>\n      <td>М</td>\n    </tr>\n    <tr>\n      <th>1373</th>\n      <td>4171.054485</td>\n      <td>142.729975</td>\n      <td>0.749852</td>\n      <td>1073767993</td>\n      <td>П</td>\n    </tr>\n    <tr>\n      <th>1374</th>\n      <td>4171.054485</td>\n      <td>126.729835</td>\n      <td>0.750078</td>\n      <td>1073767994</td>\n      <td>М</td>\n    </tr>\n    <tr>\n      <th>1378</th>\n      <td>4464.055125</td>\n      <td>-76.270540</td>\n      <td>0.750078</td>\n      <td>1073767998</td>\n      <td>М</td>\n    </tr>\n    <tr>\n      <th>1379</th>\n      <td>4591.054485</td>\n      <td>142.729975</td>\n      <td>0.749852</td>\n      <td>1073767999</td>\n      <td>П</td>\n    </tr>\n    <tr>\n      <th>1380</th>\n      <td>4591.054485</td>\n      <td>126.729835</td>\n      <td>0.750078</td>\n      <td>1073768000</td>\n      <td>М</td>\n    </tr>\n    <tr>\n      <th>1384</th>\n      <td>4884.055125</td>\n      <td>-76.270540</td>\n      <td>0.750078</td>\n      <td>1073768004</td>\n      <td>М</td>\n    </tr>\n    <tr>\n      <th>1385</th>\n      <td>5011.054485</td>\n      <td>142.729975</td>\n      <td>0.749852</td>\n      <td>1073768005</td>\n      <td>П</td>\n    </tr>\n    <tr>\n      <th>1386</th>\n      <td>5011.054485</td>\n      <td>126.729835</td>\n      <td>0.750078</td>\n      <td>1073768006</td>\n      <td>М</td>\n    </tr>\n    <tr>\n      <th>1390</th>\n      <td>5304.055125</td>\n      <td>-76.270540</td>\n      <td>0.750078</td>\n      <td>1073768010</td>\n      <td>М</td>\n    </tr>\n    <tr>\n      <th>1391</th>\n      <td>5431.054485</td>\n      <td>142.729975</td>\n      <td>0.749852</td>\n      <td>1073768011</td>\n      <td>П</td>\n    </tr>\n    <tr>\n      <th>1392</th>\n      <td>5431.054485</td>\n      <td>126.729835</td>\n      <td>0.750078</td>\n      <td>1073768012</td>\n      <td>М</td>\n    </tr>\n    <tr>\n      <th>1396</th>\n      <td>5724.055125</td>\n      <td>-76.270540</td>\n      <td>0.750078</td>\n      <td>1073768016</td>\n      <td>М</td>\n    </tr>\n    <tr>\n      <th>1397</th>\n      <td>5851.054485</td>\n      <td>142.729975</td>\n      <td>0.749852</td>\n      <td>1073768017</td>\n      <td>П</td>\n    </tr>\n    <tr>\n      <th>1398</th>\n      <td>5851.054485</td>\n      <td>126.729835</td>\n      <td>0.750078</td>\n      <td>1073768018</td>\n      <td>М</td>\n    </tr>\n    <tr>\n      <th>1402</th>\n      <td>6144.055125</td>\n      <td>-76.270540</td>\n      <td>0.750078</td>\n      <td>1073768022</td>\n      <td>М</td>\n    </tr>\n    <tr>\n      <th>1449</th>\n      <td>1648.056053</td>\n      <td>88.729912</td>\n      <td>0.750078</td>\n      <td>1073768069</td>\n      <td>М</td>\n    </tr>\n    <tr>\n      <th>1448</th>\n      <td>1648.056053</td>\n      <td>104.730053</td>\n      <td>0.749852</td>\n      <td>1073768068</td>\n      <td>П</td>\n    </tr>\n    <tr>\n      <th>1451</th>\n      <td>1648.056053</td>\n      <td>48.729773</td>\n      <td>0.750078</td>\n      <td>1073768071</td>\n      <td>М</td>\n    </tr>\n    <tr>\n      <th>1450</th>\n      <td>1648.056053</td>\n      <td>64.729913</td>\n      <td>0.749852</td>\n      <td>1073768070</td>\n      <td>П</td>\n    </tr>\n  </tbody>\n</table>\n</div>"
     },
     "execution_count": 137,
     "metadata": {},
     "output_type": "execute_result"
    }
   ],
   "source": [
    "df_shina_cirle = search_sh()\n",
    "df_shina_cirle"
   ],
   "metadata": {
    "collapsed": false,
    "pycharm": {
     "name": "#%%\n"
    }
   }
  },
  {
   "cell_type": "code",
   "execution_count": 144,
   "outputs": [],
   "source": [
    "def create_shina_stativ():\n",
    "    df5 = text_tools_st['c1'].df_match(r'.Ш-[А-Я]')\n",
    "    df5 = df5.reset_index(drop=True)\n",
    "    df5['st'] = '1'\n",
    "    df5['p'] = df5['text'].apply(lambda x: x.split('Ш-')[0])\n",
    "    df5['pit'] = df5['text'].apply(lambda x: x.split('Ш-')[1])\n",
    "    df_shina_stativ = df5.copy()\n",
    "\n",
    "    df5 = text_tools_st['c2'].df_match(r'.Ш-[А-Я]')\n",
    "    df5 = df5.reset_index(drop=True)\n",
    "    df5['st'] = '2'\n",
    "    df5['p'] = df5['text'].apply(lambda x: x.split('Ш-')[0])\n",
    "    df5['pit'] = df5['text'].apply(lambda x: x.split('Ш-')[1])\n",
    "    df_shina_stativ = df_shina_stativ.append(df5)\n",
    "\n",
    "    df5 = text_tools_st['c3'].df_match(r'.Ш-[А-Я]')\n",
    "    df5 = df5.reset_index(drop=True)\n",
    "    df5['st'] = '3'\n",
    "    df5['p'] = df5['text'].apply(lambda x: x.split('Ш-')[0])\n",
    "    df5['pit'] = df5['text'].apply(lambda x: x.split('Ш-')[1])\n",
    "    df_shina_stativ = df_shina_stativ.append(df5)\n",
    "\n",
    "    df_shina_stativ = df_shina_stativ.reset_index(drop=True)\n",
    "\n",
    "    return df_shina_stativ\n",
    "\n",
    "\n",
    "def set_value_df(df, ref, col, value):\n",
    "    df.loc[df['ref'] == ref, col] = value\n",
    "    return df\n",
    "\n",
    "\n",
    "def set_pit_contact(df_contacts, df_shina):\n",
    "    df1 = df_contacts[df_contacts['b1'].isnull()]\n",
    "    for i in range(len(df1)):\n",
    "        res = df1.iloc[i]\n",
    "        ref1 = res['ref']\n",
    "        df2 = find_link_by_sh(df_shina, res['x'], res['y'], 10, 0, 5, 5, side=res['side'])\n",
    "        if df2 is not None:\n",
    "            df3 = df2['df']\n",
    "            pit = df3['pit'].values[0]\n",
    "\n",
    "            df_contacts = set_value_df(df_contacts, ref1, 'pit', pit)\n"
   ],
   "metadata": {
    "collapsed": false,
    "pycharm": {
     "name": "#%%\n"
    }
   }
  },
  {
   "cell_type": "code",
   "execution_count": null,
   "outputs": [],
   "source": [
    "df_shina_stativ = create_shina_stativ()\n",
    "set_pit_contact(df_contacts, df_shina_cirle)\n",
    "df_contacts"
   ],
   "metadata": {
    "collapsed": false,
    "pycharm": {
     "name": "#%%\n"
    }
   }
  },
  {
   "cell_type": "code",
   "execution_count": 146,
   "outputs": [
    {
     "data": {
      "text/plain": "      text            x          y         ref st  p  pit\n0     3Ш-М  4188.824734  45.834429  1073742127  1  3    М\n1     4Ш-П  4608.824734  45.834429  1073742162  1  4    П\n2   5Ш-СХМ  5032.793484  45.834429  1073742197  1  5  СХМ\n3   6Ш-МСХ  5452.793484  45.834429  1073742232  1  6  МСХ\n4     2Ш-П  3763.963016  43.189257  1073754204  2  2    П\n5     4Ш-П  4603.963016  43.189257  1073754209  2  4    П\n6     6Ш-П  5443.963016  43.189257  1073754210  2  6    П\n7     8Ш-П  6283.963016  43.189257  1073754211  2  8    П\n8     2Ш-П  3763.963016  43.189257  1073746376  3  2    П\n9     4Ш-П  4603.963016  43.189257  1073746381  3  4    П\n10    6Ш-П  5443.963016  43.189257  1073746382  3  6    П\n11    8Ш-П  6283.963016  43.189257  1073746383  3  8    П",
      "text/html": "<div>\n<style scoped>\n    .dataframe tbody tr th:only-of-type {\n        vertical-align: middle;\n    }\n\n    .dataframe tbody tr th {\n        vertical-align: top;\n    }\n\n    .dataframe thead th {\n        text-align: right;\n    }\n</style>\n<table border=\"1\" class=\"dataframe\">\n  <thead>\n    <tr style=\"text-align: right;\">\n      <th></th>\n      <th>text</th>\n      <th>x</th>\n      <th>y</th>\n      <th>ref</th>\n      <th>st</th>\n      <th>p</th>\n      <th>pit</th>\n    </tr>\n  </thead>\n  <tbody>\n    <tr>\n      <th>0</th>\n      <td>3Ш-М</td>\n      <td>4188.824734</td>\n      <td>45.834429</td>\n      <td>1073742127</td>\n      <td>1</td>\n      <td>3</td>\n      <td>М</td>\n    </tr>\n    <tr>\n      <th>1</th>\n      <td>4Ш-П</td>\n      <td>4608.824734</td>\n      <td>45.834429</td>\n      <td>1073742162</td>\n      <td>1</td>\n      <td>4</td>\n      <td>П</td>\n    </tr>\n    <tr>\n      <th>2</th>\n      <td>5Ш-СХМ</td>\n      <td>5032.793484</td>\n      <td>45.834429</td>\n      <td>1073742197</td>\n      <td>1</td>\n      <td>5</td>\n      <td>СХМ</td>\n    </tr>\n    <tr>\n      <th>3</th>\n      <td>6Ш-МСХ</td>\n      <td>5452.793484</td>\n      <td>45.834429</td>\n      <td>1073742232</td>\n      <td>1</td>\n      <td>6</td>\n      <td>МСХ</td>\n    </tr>\n    <tr>\n      <th>4</th>\n      <td>2Ш-П</td>\n      <td>3763.963016</td>\n      <td>43.189257</td>\n      <td>1073754204</td>\n      <td>2</td>\n      <td>2</td>\n      <td>П</td>\n    </tr>\n    <tr>\n      <th>5</th>\n      <td>4Ш-П</td>\n      <td>4603.963016</td>\n      <td>43.189257</td>\n      <td>1073754209</td>\n      <td>2</td>\n      <td>4</td>\n      <td>П</td>\n    </tr>\n    <tr>\n      <th>6</th>\n      <td>6Ш-П</td>\n      <td>5443.963016</td>\n      <td>43.189257</td>\n      <td>1073754210</td>\n      <td>2</td>\n      <td>6</td>\n      <td>П</td>\n    </tr>\n    <tr>\n      <th>7</th>\n      <td>8Ш-П</td>\n      <td>6283.963016</td>\n      <td>43.189257</td>\n      <td>1073754211</td>\n      <td>2</td>\n      <td>8</td>\n      <td>П</td>\n    </tr>\n    <tr>\n      <th>8</th>\n      <td>2Ш-П</td>\n      <td>3763.963016</td>\n      <td>43.189257</td>\n      <td>1073746376</td>\n      <td>3</td>\n      <td>2</td>\n      <td>П</td>\n    </tr>\n    <tr>\n      <th>9</th>\n      <td>4Ш-П</td>\n      <td>4603.963016</td>\n      <td>43.189257</td>\n      <td>1073746381</td>\n      <td>3</td>\n      <td>4</td>\n      <td>П</td>\n    </tr>\n    <tr>\n      <th>10</th>\n      <td>6Ш-П</td>\n      <td>5443.963016</td>\n      <td>43.189257</td>\n      <td>1073746382</td>\n      <td>3</td>\n      <td>6</td>\n      <td>П</td>\n    </tr>\n    <tr>\n      <th>11</th>\n      <td>8Ш-П</td>\n      <td>6283.963016</td>\n      <td>43.189257</td>\n      <td>1073746383</td>\n      <td>3</td>\n      <td>8</td>\n      <td>П</td>\n    </tr>\n  </tbody>\n</table>\n</div>"
     },
     "execution_count": 146,
     "metadata": {},
     "output_type": "execute_result"
    }
   ],
   "source": [
    "df_shina_stativ"
   ],
   "metadata": {
    "collapsed": false,
    "pycharm": {
     "name": "#%%\n"
    }
   }
  },
  {
   "cell_type": "code",
   "execution_count": 147,
   "outputs": [
    {
     "data": {
      "text/plain": "    loc st  p  r name contact         ref            x           y  \\\n0  1-13  1  1  3  Зв9      21  1073761402  1048.348584  142.296106   \n1  1-13  1  1  3  Зв9      22  1073761405  1059.439607  142.296106   \n2  1-13  1  1  3  Зв9      41  1073761400  1049.418926  126.295838   \n\n        group   direction   side     b1    b2    l1    l2   pit  \n0  1-13;21:22  horizontal   left   None  None  None  None     П  \n1  1-13;21:22  horizontal  right  В19-1  None  None  None  None  \n2  1-13;41:42  horizontal   left   None  None  None  None     М  ",
      "text/html": "<div>\n<style scoped>\n    .dataframe tbody tr th:only-of-type {\n        vertical-align: middle;\n    }\n\n    .dataframe tbody tr th {\n        vertical-align: top;\n    }\n\n    .dataframe thead th {\n        text-align: right;\n    }\n</style>\n<table border=\"1\" class=\"dataframe\">\n  <thead>\n    <tr style=\"text-align: right;\">\n      <th></th>\n      <th>loc</th>\n      <th>st</th>\n      <th>p</th>\n      <th>r</th>\n      <th>name</th>\n      <th>contact</th>\n      <th>ref</th>\n      <th>x</th>\n      <th>y</th>\n      <th>group</th>\n      <th>direction</th>\n      <th>side</th>\n      <th>b1</th>\n      <th>b2</th>\n      <th>l1</th>\n      <th>l2</th>\n      <th>pit</th>\n    </tr>\n  </thead>\n  <tbody>\n    <tr>\n      <th>0</th>\n      <td>1-13</td>\n      <td>1</td>\n      <td>1</td>\n      <td>3</td>\n      <td>Зв9</td>\n      <td>21</td>\n      <td>1073761402</td>\n      <td>1048.348584</td>\n      <td>142.296106</td>\n      <td>1-13;21:22</td>\n      <td>horizontal</td>\n      <td>left</td>\n      <td>None</td>\n      <td>None</td>\n      <td>None</td>\n      <td>None</td>\n      <td>П</td>\n    </tr>\n    <tr>\n      <th>1</th>\n      <td>1-13</td>\n      <td>1</td>\n      <td>1</td>\n      <td>3</td>\n      <td>Зв9</td>\n      <td>22</td>\n      <td>1073761405</td>\n      <td>1059.439607</td>\n      <td>142.296106</td>\n      <td>1-13;21:22</td>\n      <td>horizontal</td>\n      <td>right</td>\n      <td>В19-1</td>\n      <td>None</td>\n      <td>None</td>\n      <td>None</td>\n      <td>None</td>\n    </tr>\n    <tr>\n      <th>2</th>\n      <td>1-13</td>\n      <td>1</td>\n      <td>1</td>\n      <td>3</td>\n      <td>Зв9</td>\n      <td>41</td>\n      <td>1073761400</td>\n      <td>1049.418926</td>\n      <td>126.295838</td>\n      <td>1-13;41:42</td>\n      <td>horizontal</td>\n      <td>left</td>\n      <td>None</td>\n      <td>None</td>\n      <td>None</td>\n      <td>None</td>\n      <td>М</td>\n    </tr>\n  </tbody>\n</table>\n</div>"
     },
     "execution_count": 147,
     "metadata": {},
     "output_type": "execute_result"
    }
   ],
   "source": [
    "df_contacts.head(3)"
   ],
   "metadata": {
    "collapsed": false,
    "pycharm": {
     "name": "#%%\n"
    }
   }
  },
  {
   "cell_type": "code",
   "execution_count": 150,
   "outputs": [
    {
     "data": {
      "text/plain": "     loc st  p  r   name contact         ref            x           y  \\\n2   1-13  1  1  3    Зв9      41  1073761400  1049.418926  126.295838   \n5   1-13  1  1  3    Зв9       4  1073761544  1276.972272  -76.954656   \n8   1-27  1  2  7  ЧПИ13      41  1073761834  1675.420362   88.295921   \n17  1-27  1  2  7  ЧПИ13       4  1073762078  1634.973193  -31.954275   \n19  1-26  1  2  6  ДСН13       4  1073762003  1634.973193  -47.954536   \n25  1-28  1  2  8  НПИ13       4  1073762109  1634.973193  -15.954358   \n32  1-28  1  2  8  НПИ13      41  1073762304  1676.420497  128.296056   \n39  1-12  1  1  2    Зв5       4  1073762904  3166.972682  -76.954656   \n42  1-17  1  1  7    Зв6      41  1073763168  3359.419746  126.295838   \n45  1-17  1  1  7    Зв6       4  1073763294  3586.973092  -76.954656   \n48  1-18  1  1  8    Зв8      41  1073763561  3779.420156  126.295838   \n51  1-18  1  1  8    Зв8       4  1073763690  4006.973502  -76.954656   \n54  1-22  1  2  2   Зв16      41  1073763955  4619.416465  126.295844   \n57  1-22  1  2  2   Зв16       4  1073764101  4846.969819  -76.954654   \n60  1-16  1  1  6    Зв2      41  1073764350  5039.416875  126.295838   \n63  1-16  1  1  6    Зв2       4  1073764479  5266.970221  -76.954656   \n65  1-14  1  1  4   Зв38       4  1073764902  5686.970632  -76.954656   \n68  1-11  1  1  1    Зв1      41  1073765658  2519.418926  126.295838   \n71  1-11  1  1  1    Зв1       4  1073765804  2746.972272  -76.954656   \n72  1-26  1  2  6  ДСН13      41  1073761872  1675.420362   48.295775   \n74  1-12  1  1  2    Зв5      41  1073762776  2939.419336  126.295838   \n78  1-14  1  1  4   Зв38      41  1073764763  5459.417285  126.295838   \n81  1-15  1  1  5   Зв38       4  1073765278  6106.971452  -76.954656   \n84  1-15  1  1  5   Зв38      41  1073765126  5879.418106  126.295838   \n92  1-21  1  2  1   Зв10      41  1073766457  4199.419506  126.295306   \n95  1-21  1  2  1   Зв10       4  1073766470  4426.972333  -76.954734   \n\n         group   direction   side    b1    b2    l1    l2 pit  \n2   1-13;41:42  horizontal   left  None  None  None  None   М  \n5     1-13;1:4  horizontal  right  None  None  None  None   М  \n8   1-27;41:42  horizontal   left  None  None  None  None   М  \n17    1-27;1:4  horizontal  right  None  None  None  None   М  \n19    1-26;1:4  horizontal  right  None  None  None  None   М  \n25    1-28;1:4  horizontal  right  None  None  None  None   М  \n32  1-28;41:42  horizontal   left  None  None  None  None   М  \n39    1-12;1:4  horizontal  right  None  None  None  None   М  \n42  1-17;41:42  horizontal   left  None  None  None  None   М  \n45    1-17;1:4  horizontal  right  None  None  None  None   М  \n48  1-18;41:42  horizontal   left  None  None  None  None   М  \n51    1-18;1:4  horizontal  right  None  None  None  None   М  \n54  1-22;41:42  horizontal   left  None  None  None  None   М  \n57    1-22;1:4  horizontal  right  None  None  None  None   М  \n60  1-16;41:42  horizontal   left  None  None  None  None   М  \n63    1-16;1:4  horizontal  right  None  None  None  None   М  \n65    1-14;1:4  horizontal  right  None  None  None  None   М  \n68  1-11;41:42  horizontal   left  None  None  None  None   М  \n71    1-11;1:4  horizontal  right  None  None  None  None   М  \n72  1-26;41:42  horizontal   left  None  None  None  None   М  \n74  1-12;41:42  horizontal   left  None  None  None  None   М  \n78  1-14;41:42  horizontal   left  None  None  None  None   М  \n81    1-15;1:4  horizontal  right  None  None  None  None   М  \n84  1-15;41:42  horizontal   left  None  None  None  None   М  \n92  1-21;41:42  horizontal   left  None  None  None  None   М  \n95    1-21;1:4  horizontal  right  None  None  None  None   М  ",
      "text/html": "<div>\n<style scoped>\n    .dataframe tbody tr th:only-of-type {\n        vertical-align: middle;\n    }\n\n    .dataframe tbody tr th {\n        vertical-align: top;\n    }\n\n    .dataframe thead th {\n        text-align: right;\n    }\n</style>\n<table border=\"1\" class=\"dataframe\">\n  <thead>\n    <tr style=\"text-align: right;\">\n      <th></th>\n      <th>loc</th>\n      <th>st</th>\n      <th>p</th>\n      <th>r</th>\n      <th>name</th>\n      <th>contact</th>\n      <th>ref</th>\n      <th>x</th>\n      <th>y</th>\n      <th>group</th>\n      <th>direction</th>\n      <th>side</th>\n      <th>b1</th>\n      <th>b2</th>\n      <th>l1</th>\n      <th>l2</th>\n      <th>pit</th>\n    </tr>\n  </thead>\n  <tbody>\n    <tr>\n      <th>2</th>\n      <td>1-13</td>\n      <td>1</td>\n      <td>1</td>\n      <td>3</td>\n      <td>Зв9</td>\n      <td>41</td>\n      <td>1073761400</td>\n      <td>1049.418926</td>\n      <td>126.295838</td>\n      <td>1-13;41:42</td>\n      <td>horizontal</td>\n      <td>left</td>\n      <td>None</td>\n      <td>None</td>\n      <td>None</td>\n      <td>None</td>\n      <td>М</td>\n    </tr>\n    <tr>\n      <th>5</th>\n      <td>1-13</td>\n      <td>1</td>\n      <td>1</td>\n      <td>3</td>\n      <td>Зв9</td>\n      <td>4</td>\n      <td>1073761544</td>\n      <td>1276.972272</td>\n      <td>-76.954656</td>\n      <td>1-13;1:4</td>\n      <td>horizontal</td>\n      <td>right</td>\n      <td>None</td>\n      <td>None</td>\n      <td>None</td>\n      <td>None</td>\n      <td>М</td>\n    </tr>\n    <tr>\n      <th>8</th>\n      <td>1-27</td>\n      <td>1</td>\n      <td>2</td>\n      <td>7</td>\n      <td>ЧПИ13</td>\n      <td>41</td>\n      <td>1073761834</td>\n      <td>1675.420362</td>\n      <td>88.295921</td>\n      <td>1-27;41:42</td>\n      <td>horizontal</td>\n      <td>left</td>\n      <td>None</td>\n      <td>None</td>\n      <td>None</td>\n      <td>None</td>\n      <td>М</td>\n    </tr>\n    <tr>\n      <th>17</th>\n      <td>1-27</td>\n      <td>1</td>\n      <td>2</td>\n      <td>7</td>\n      <td>ЧПИ13</td>\n      <td>4</td>\n      <td>1073762078</td>\n      <td>1634.973193</td>\n      <td>-31.954275</td>\n      <td>1-27;1:4</td>\n      <td>horizontal</td>\n      <td>right</td>\n      <td>None</td>\n      <td>None</td>\n      <td>None</td>\n      <td>None</td>\n      <td>М</td>\n    </tr>\n    <tr>\n      <th>19</th>\n      <td>1-26</td>\n      <td>1</td>\n      <td>2</td>\n      <td>6</td>\n      <td>ДСН13</td>\n      <td>4</td>\n      <td>1073762003</td>\n      <td>1634.973193</td>\n      <td>-47.954536</td>\n      <td>1-26;1:4</td>\n      <td>horizontal</td>\n      <td>right</td>\n      <td>None</td>\n      <td>None</td>\n      <td>None</td>\n      <td>None</td>\n      <td>М</td>\n    </tr>\n    <tr>\n      <th>25</th>\n      <td>1-28</td>\n      <td>1</td>\n      <td>2</td>\n      <td>8</td>\n      <td>НПИ13</td>\n      <td>4</td>\n      <td>1073762109</td>\n      <td>1634.973193</td>\n      <td>-15.954358</td>\n      <td>1-28;1:4</td>\n      <td>horizontal</td>\n      <td>right</td>\n      <td>None</td>\n      <td>None</td>\n      <td>None</td>\n      <td>None</td>\n      <td>М</td>\n    </tr>\n    <tr>\n      <th>32</th>\n      <td>1-28</td>\n      <td>1</td>\n      <td>2</td>\n      <td>8</td>\n      <td>НПИ13</td>\n      <td>41</td>\n      <td>1073762304</td>\n      <td>1676.420497</td>\n      <td>128.296056</td>\n      <td>1-28;41:42</td>\n      <td>horizontal</td>\n      <td>left</td>\n      <td>None</td>\n      <td>None</td>\n      <td>None</td>\n      <td>None</td>\n      <td>М</td>\n    </tr>\n    <tr>\n      <th>39</th>\n      <td>1-12</td>\n      <td>1</td>\n      <td>1</td>\n      <td>2</td>\n      <td>Зв5</td>\n      <td>4</td>\n      <td>1073762904</td>\n      <td>3166.972682</td>\n      <td>-76.954656</td>\n      <td>1-12;1:4</td>\n      <td>horizontal</td>\n      <td>right</td>\n      <td>None</td>\n      <td>None</td>\n      <td>None</td>\n      <td>None</td>\n      <td>М</td>\n    </tr>\n    <tr>\n      <th>42</th>\n      <td>1-17</td>\n      <td>1</td>\n      <td>1</td>\n      <td>7</td>\n      <td>Зв6</td>\n      <td>41</td>\n      <td>1073763168</td>\n      <td>3359.419746</td>\n      <td>126.295838</td>\n      <td>1-17;41:42</td>\n      <td>horizontal</td>\n      <td>left</td>\n      <td>None</td>\n      <td>None</td>\n      <td>None</td>\n      <td>None</td>\n      <td>М</td>\n    </tr>\n    <tr>\n      <th>45</th>\n      <td>1-17</td>\n      <td>1</td>\n      <td>1</td>\n      <td>7</td>\n      <td>Зв6</td>\n      <td>4</td>\n      <td>1073763294</td>\n      <td>3586.973092</td>\n      <td>-76.954656</td>\n      <td>1-17;1:4</td>\n      <td>horizontal</td>\n      <td>right</td>\n      <td>None</td>\n      <td>None</td>\n      <td>None</td>\n      <td>None</td>\n      <td>М</td>\n    </tr>\n    <tr>\n      <th>48</th>\n      <td>1-18</td>\n      <td>1</td>\n      <td>1</td>\n      <td>8</td>\n      <td>Зв8</td>\n      <td>41</td>\n      <td>1073763561</td>\n      <td>3779.420156</td>\n      <td>126.295838</td>\n      <td>1-18;41:42</td>\n      <td>horizontal</td>\n      <td>left</td>\n      <td>None</td>\n      <td>None</td>\n      <td>None</td>\n      <td>None</td>\n      <td>М</td>\n    </tr>\n    <tr>\n      <th>51</th>\n      <td>1-18</td>\n      <td>1</td>\n      <td>1</td>\n      <td>8</td>\n      <td>Зв8</td>\n      <td>4</td>\n      <td>1073763690</td>\n      <td>4006.973502</td>\n      <td>-76.954656</td>\n      <td>1-18;1:4</td>\n      <td>horizontal</td>\n      <td>right</td>\n      <td>None</td>\n      <td>None</td>\n      <td>None</td>\n      <td>None</td>\n      <td>М</td>\n    </tr>\n    <tr>\n      <th>54</th>\n      <td>1-22</td>\n      <td>1</td>\n      <td>2</td>\n      <td>2</td>\n      <td>Зв16</td>\n      <td>41</td>\n      <td>1073763955</td>\n      <td>4619.416465</td>\n      <td>126.295844</td>\n      <td>1-22;41:42</td>\n      <td>horizontal</td>\n      <td>left</td>\n      <td>None</td>\n      <td>None</td>\n      <td>None</td>\n      <td>None</td>\n      <td>М</td>\n    </tr>\n    <tr>\n      <th>57</th>\n      <td>1-22</td>\n      <td>1</td>\n      <td>2</td>\n      <td>2</td>\n      <td>Зв16</td>\n      <td>4</td>\n      <td>1073764101</td>\n      <td>4846.969819</td>\n      <td>-76.954654</td>\n      <td>1-22;1:4</td>\n      <td>horizontal</td>\n      <td>right</td>\n      <td>None</td>\n      <td>None</td>\n      <td>None</td>\n      <td>None</td>\n      <td>М</td>\n    </tr>\n    <tr>\n      <th>60</th>\n      <td>1-16</td>\n      <td>1</td>\n      <td>1</td>\n      <td>6</td>\n      <td>Зв2</td>\n      <td>41</td>\n      <td>1073764350</td>\n      <td>5039.416875</td>\n      <td>126.295838</td>\n      <td>1-16;41:42</td>\n      <td>horizontal</td>\n      <td>left</td>\n      <td>None</td>\n      <td>None</td>\n      <td>None</td>\n      <td>None</td>\n      <td>М</td>\n    </tr>\n    <tr>\n      <th>63</th>\n      <td>1-16</td>\n      <td>1</td>\n      <td>1</td>\n      <td>6</td>\n      <td>Зв2</td>\n      <td>4</td>\n      <td>1073764479</td>\n      <td>5266.970221</td>\n      <td>-76.954656</td>\n      <td>1-16;1:4</td>\n      <td>horizontal</td>\n      <td>right</td>\n      <td>None</td>\n      <td>None</td>\n      <td>None</td>\n      <td>None</td>\n      <td>М</td>\n    </tr>\n    <tr>\n      <th>65</th>\n      <td>1-14</td>\n      <td>1</td>\n      <td>1</td>\n      <td>4</td>\n      <td>Зв38</td>\n      <td>4</td>\n      <td>1073764902</td>\n      <td>5686.970632</td>\n      <td>-76.954656</td>\n      <td>1-14;1:4</td>\n      <td>horizontal</td>\n      <td>right</td>\n      <td>None</td>\n      <td>None</td>\n      <td>None</td>\n      <td>None</td>\n      <td>М</td>\n    </tr>\n    <tr>\n      <th>68</th>\n      <td>1-11</td>\n      <td>1</td>\n      <td>1</td>\n      <td>1</td>\n      <td>Зв1</td>\n      <td>41</td>\n      <td>1073765658</td>\n      <td>2519.418926</td>\n      <td>126.295838</td>\n      <td>1-11;41:42</td>\n      <td>horizontal</td>\n      <td>left</td>\n      <td>None</td>\n      <td>None</td>\n      <td>None</td>\n      <td>None</td>\n      <td>М</td>\n    </tr>\n    <tr>\n      <th>71</th>\n      <td>1-11</td>\n      <td>1</td>\n      <td>1</td>\n      <td>1</td>\n      <td>Зв1</td>\n      <td>4</td>\n      <td>1073765804</td>\n      <td>2746.972272</td>\n      <td>-76.954656</td>\n      <td>1-11;1:4</td>\n      <td>horizontal</td>\n      <td>right</td>\n      <td>None</td>\n      <td>None</td>\n      <td>None</td>\n      <td>None</td>\n      <td>М</td>\n    </tr>\n    <tr>\n      <th>72</th>\n      <td>1-26</td>\n      <td>1</td>\n      <td>2</td>\n      <td>6</td>\n      <td>ДСН13</td>\n      <td>41</td>\n      <td>1073761872</td>\n      <td>1675.420362</td>\n      <td>48.295775</td>\n      <td>1-26;41:42</td>\n      <td>horizontal</td>\n      <td>left</td>\n      <td>None</td>\n      <td>None</td>\n      <td>None</td>\n      <td>None</td>\n      <td>М</td>\n    </tr>\n    <tr>\n      <th>74</th>\n      <td>1-12</td>\n      <td>1</td>\n      <td>1</td>\n      <td>2</td>\n      <td>Зв5</td>\n      <td>41</td>\n      <td>1073762776</td>\n      <td>2939.419336</td>\n      <td>126.295838</td>\n      <td>1-12;41:42</td>\n      <td>horizontal</td>\n      <td>left</td>\n      <td>None</td>\n      <td>None</td>\n      <td>None</td>\n      <td>None</td>\n      <td>М</td>\n    </tr>\n    <tr>\n      <th>78</th>\n      <td>1-14</td>\n      <td>1</td>\n      <td>1</td>\n      <td>4</td>\n      <td>Зв38</td>\n      <td>41</td>\n      <td>1073764763</td>\n      <td>5459.417285</td>\n      <td>126.295838</td>\n      <td>1-14;41:42</td>\n      <td>horizontal</td>\n      <td>left</td>\n      <td>None</td>\n      <td>None</td>\n      <td>None</td>\n      <td>None</td>\n      <td>М</td>\n    </tr>\n    <tr>\n      <th>81</th>\n      <td>1-15</td>\n      <td>1</td>\n      <td>1</td>\n      <td>5</td>\n      <td>Зв38</td>\n      <td>4</td>\n      <td>1073765278</td>\n      <td>6106.971452</td>\n      <td>-76.954656</td>\n      <td>1-15;1:4</td>\n      <td>horizontal</td>\n      <td>right</td>\n      <td>None</td>\n      <td>None</td>\n      <td>None</td>\n      <td>None</td>\n      <td>М</td>\n    </tr>\n    <tr>\n      <th>84</th>\n      <td>1-15</td>\n      <td>1</td>\n      <td>1</td>\n      <td>5</td>\n      <td>Зв38</td>\n      <td>41</td>\n      <td>1073765126</td>\n      <td>5879.418106</td>\n      <td>126.295838</td>\n      <td>1-15;41:42</td>\n      <td>horizontal</td>\n      <td>left</td>\n      <td>None</td>\n      <td>None</td>\n      <td>None</td>\n      <td>None</td>\n      <td>М</td>\n    </tr>\n    <tr>\n      <th>92</th>\n      <td>1-21</td>\n      <td>1</td>\n      <td>2</td>\n      <td>1</td>\n      <td>Зв10</td>\n      <td>41</td>\n      <td>1073766457</td>\n      <td>4199.419506</td>\n      <td>126.295306</td>\n      <td>1-21;41:42</td>\n      <td>horizontal</td>\n      <td>left</td>\n      <td>None</td>\n      <td>None</td>\n      <td>None</td>\n      <td>None</td>\n      <td>М</td>\n    </tr>\n    <tr>\n      <th>95</th>\n      <td>1-21</td>\n      <td>1</td>\n      <td>2</td>\n      <td>1</td>\n      <td>Зв10</td>\n      <td>4</td>\n      <td>1073766470</td>\n      <td>4426.972333</td>\n      <td>-76.954734</td>\n      <td>1-21;1:4</td>\n      <td>horizontal</td>\n      <td>right</td>\n      <td>None</td>\n      <td>None</td>\n      <td>None</td>\n      <td>None</td>\n      <td>М</td>\n    </tr>\n  </tbody>\n</table>\n</div>"
     },
     "execution_count": 150,
     "metadata": {},
     "output_type": "execute_result"
    }
   ],
   "source": [
    "df_contacts[(df_contacts['st'] == '1') & (df_contacts['pit'] == 'М')]"
   ],
   "metadata": {
    "collapsed": false,
    "pycharm": {
     "name": "#%%\n"
    }
   }
  },
  {
   "cell_type": "code",
   "execution_count": 152,
   "outputs": [
    {
     "data": {
      "text/plain": "   text            x          y         ref st  p pit\n4  2Ш-П  3763.963016  43.189257  1073754204  2  2   П\n5  4Ш-П  4603.963016  43.189257  1073754209  2  4   П\n6  6Ш-П  5443.963016  43.189257  1073754210  2  6   П\n7  8Ш-П  6283.963016  43.189257  1073754211  2  8   П",
      "text/html": "<div>\n<style scoped>\n    .dataframe tbody tr th:only-of-type {\n        vertical-align: middle;\n    }\n\n    .dataframe tbody tr th {\n        vertical-align: top;\n    }\n\n    .dataframe thead th {\n        text-align: right;\n    }\n</style>\n<table border=\"1\" class=\"dataframe\">\n  <thead>\n    <tr style=\"text-align: right;\">\n      <th></th>\n      <th>text</th>\n      <th>x</th>\n      <th>y</th>\n      <th>ref</th>\n      <th>st</th>\n      <th>p</th>\n      <th>pit</th>\n    </tr>\n  </thead>\n  <tbody>\n    <tr>\n      <th>4</th>\n      <td>2Ш-П</td>\n      <td>3763.963016</td>\n      <td>43.189257</td>\n      <td>1073754204</td>\n      <td>2</td>\n      <td>2</td>\n      <td>П</td>\n    </tr>\n    <tr>\n      <th>5</th>\n      <td>4Ш-П</td>\n      <td>4603.963016</td>\n      <td>43.189257</td>\n      <td>1073754209</td>\n      <td>2</td>\n      <td>4</td>\n      <td>П</td>\n    </tr>\n    <tr>\n      <th>6</th>\n      <td>6Ш-П</td>\n      <td>5443.963016</td>\n      <td>43.189257</td>\n      <td>1073754210</td>\n      <td>2</td>\n      <td>6</td>\n      <td>П</td>\n    </tr>\n    <tr>\n      <th>7</th>\n      <td>8Ш-П</td>\n      <td>6283.963016</td>\n      <td>43.189257</td>\n      <td>1073754211</td>\n      <td>2</td>\n      <td>8</td>\n      <td>П</td>\n    </tr>\n  </tbody>\n</table>\n</div>"
     },
     "execution_count": 152,
     "metadata": {},
     "output_type": "execute_result"
    }
   ],
   "source": [
    "df_shina_stativ[(df_shina_stativ['st'] == '2') & (df_shina_stativ['pit'] == 'П')]"
   ],
   "metadata": {
    "collapsed": false,
    "pycharm": {
     "name": "#%%\n"
    }
   }
  },
  {
   "cell_type": "code",
   "execution_count": 160,
   "outputs": [
    {
     "data": {
      "text/plain": "  st  pit             p\n0  1    М           [3]\n1  1  МСХ           [6]\n2  1    П           [4]\n3  1  СХМ           [5]\n4  2    П  [2, 4, 6, 8]\n5  3    П  [2, 4, 6, 8]",
      "text/html": "<div>\n<style scoped>\n    .dataframe tbody tr th:only-of-type {\n        vertical-align: middle;\n    }\n\n    .dataframe tbody tr th {\n        vertical-align: top;\n    }\n\n    .dataframe thead th {\n        text-align: right;\n    }\n</style>\n<table border=\"1\" class=\"dataframe\">\n  <thead>\n    <tr style=\"text-align: right;\">\n      <th></th>\n      <th>st</th>\n      <th>pit</th>\n      <th>p</th>\n    </tr>\n  </thead>\n  <tbody>\n    <tr>\n      <th>0</th>\n      <td>1</td>\n      <td>М</td>\n      <td>[3]</td>\n    </tr>\n    <tr>\n      <th>1</th>\n      <td>1</td>\n      <td>МСХ</td>\n      <td>[6]</td>\n    </tr>\n    <tr>\n      <th>2</th>\n      <td>1</td>\n      <td>П</td>\n      <td>[4]</td>\n    </tr>\n    <tr>\n      <th>3</th>\n      <td>1</td>\n      <td>СХМ</td>\n      <td>[5]</td>\n    </tr>\n    <tr>\n      <th>4</th>\n      <td>2</td>\n      <td>П</td>\n      <td>[2, 4, 6, 8]</td>\n    </tr>\n    <tr>\n      <th>5</th>\n      <td>3</td>\n      <td>П</td>\n      <td>[2, 4, 6, 8]</td>\n    </tr>\n  </tbody>\n</table>\n</div>"
     },
     "execution_count": 160,
     "metadata": {},
     "output_type": "execute_result"
    }
   ],
   "source": [
    "df_ls_sh_p =  df_shina_stativ.groupby(['st', 'pit'])['p'].agg(lambda x: list(x)).reset_index()\n",
    "df_ls_sh_p"
   ],
   "metadata": {
    "collapsed": false,
    "pycharm": {
     "name": "#%%\n"
    }
   }
  },
  {
   "cell_type": "code",
   "execution_count": 193,
   "outputs": [
    {
     "data": {
      "text/plain": "      text            x          y         ref st  p  pit\n0     3Ш-М  4188.824734  45.834429  1073742127  1  3    М\n1     4Ш-П  4608.824734  45.834429  1073742162  1  4    П\n2   5Ш-СХМ  5032.793484  45.834429  1073742197  1  5  СХМ\n3   6Ш-МСХ  5452.793484  45.834429  1073742232  1  6  МСХ\n4     2Ш-П  3763.963016  43.189257  1073754204  2  2    П\n5     4Ш-П  4603.963016  43.189257  1073754209  2  4    П\n6     6Ш-П  5443.963016  43.189257  1073754210  2  6    П\n7     8Ш-П  6283.963016  43.189257  1073754211  2  8    П\n8     2Ш-П  3763.963016  43.189257  1073746376  3  2    П\n9     4Ш-П  4603.963016  43.189257  1073746381  3  4    П\n10    6Ш-П  5443.963016  43.189257  1073746382  3  6    П\n11    8Ш-П  6283.963016  43.189257  1073746383  3  8    П",
      "text/html": "<div>\n<style scoped>\n    .dataframe tbody tr th:only-of-type {\n        vertical-align: middle;\n    }\n\n    .dataframe tbody tr th {\n        vertical-align: top;\n    }\n\n    .dataframe thead th {\n        text-align: right;\n    }\n</style>\n<table border=\"1\" class=\"dataframe\">\n  <thead>\n    <tr style=\"text-align: right;\">\n      <th></th>\n      <th>text</th>\n      <th>x</th>\n      <th>y</th>\n      <th>ref</th>\n      <th>st</th>\n      <th>p</th>\n      <th>pit</th>\n    </tr>\n  </thead>\n  <tbody>\n    <tr>\n      <th>0</th>\n      <td>3Ш-М</td>\n      <td>4188.824734</td>\n      <td>45.834429</td>\n      <td>1073742127</td>\n      <td>1</td>\n      <td>3</td>\n      <td>М</td>\n    </tr>\n    <tr>\n      <th>1</th>\n      <td>4Ш-П</td>\n      <td>4608.824734</td>\n      <td>45.834429</td>\n      <td>1073742162</td>\n      <td>1</td>\n      <td>4</td>\n      <td>П</td>\n    </tr>\n    <tr>\n      <th>2</th>\n      <td>5Ш-СХМ</td>\n      <td>5032.793484</td>\n      <td>45.834429</td>\n      <td>1073742197</td>\n      <td>1</td>\n      <td>5</td>\n      <td>СХМ</td>\n    </tr>\n    <tr>\n      <th>3</th>\n      <td>6Ш-МСХ</td>\n      <td>5452.793484</td>\n      <td>45.834429</td>\n      <td>1073742232</td>\n      <td>1</td>\n      <td>6</td>\n      <td>МСХ</td>\n    </tr>\n    <tr>\n      <th>4</th>\n      <td>2Ш-П</td>\n      <td>3763.963016</td>\n      <td>43.189257</td>\n      <td>1073754204</td>\n      <td>2</td>\n      <td>2</td>\n      <td>П</td>\n    </tr>\n    <tr>\n      <th>5</th>\n      <td>4Ш-П</td>\n      <td>4603.963016</td>\n      <td>43.189257</td>\n      <td>1073754209</td>\n      <td>2</td>\n      <td>4</td>\n      <td>П</td>\n    </tr>\n    <tr>\n      <th>6</th>\n      <td>6Ш-П</td>\n      <td>5443.963016</td>\n      <td>43.189257</td>\n      <td>1073754210</td>\n      <td>2</td>\n      <td>6</td>\n      <td>П</td>\n    </tr>\n    <tr>\n      <th>7</th>\n      <td>8Ш-П</td>\n      <td>6283.963016</td>\n      <td>43.189257</td>\n      <td>1073754211</td>\n      <td>2</td>\n      <td>8</td>\n      <td>П</td>\n    </tr>\n    <tr>\n      <th>8</th>\n      <td>2Ш-П</td>\n      <td>3763.963016</td>\n      <td>43.189257</td>\n      <td>1073746376</td>\n      <td>3</td>\n      <td>2</td>\n      <td>П</td>\n    </tr>\n    <tr>\n      <th>9</th>\n      <td>4Ш-П</td>\n      <td>4603.963016</td>\n      <td>43.189257</td>\n      <td>1073746381</td>\n      <td>3</td>\n      <td>4</td>\n      <td>П</td>\n    </tr>\n    <tr>\n      <th>10</th>\n      <td>6Ш-П</td>\n      <td>5443.963016</td>\n      <td>43.189257</td>\n      <td>1073746382</td>\n      <td>3</td>\n      <td>6</td>\n      <td>П</td>\n    </tr>\n    <tr>\n      <th>11</th>\n      <td>8Ш-П</td>\n      <td>6283.963016</td>\n      <td>43.189257</td>\n      <td>1073746383</td>\n      <td>3</td>\n      <td>8</td>\n      <td>П</td>\n    </tr>\n  </tbody>\n</table>\n</div>"
     },
     "execution_count": 193,
     "metadata": {},
     "output_type": "execute_result"
    }
   ],
   "source": [
    "df_shina_stativ"
   ],
   "metadata": {
    "collapsed": false,
    "pycharm": {
     "name": "#%%\n"
    }
   }
  },
  {
   "cell_type": "code",
   "execution_count": 164,
   "outputs": [
    {
     "data": {
      "text/plain": "['2', '4', '6', '8']"
     },
     "execution_count": 164,
     "metadata": {},
     "output_type": "execute_result"
    }
   ],
   "source": [
    "ls1 = df_ls_sh_p[(df_ls_sh_p['st'] == '2') & (df_ls_sh_p['pit'] == 'П')]['p'].values[0]\n",
    "ls1 = [int(x) for x in ls1]\n",
    "ls1"
   ],
   "metadata": {
    "collapsed": false,
    "pycharm": {
     "name": "#%%\n"
    }
   }
  },
  {
   "cell_type": "code",
   "execution_count": null,
   "outputs": [],
   "source": [
    "df_shina_cirle = search_sh()"
   ],
   "metadata": {
    "collapsed": false,
    "pycharm": {
     "name": "#%%\n"
    }
   }
  },
  {
   "cell_type": "code",
   "execution_count": 191,
   "outputs": [],
   "source": [
    "class Tools:\n",
    "    def __init__(self, text_tools_st, text_tools_rcn):\n",
    "        self.df = None\n",
    "        self.text_tools_st = text_tools_st\n",
    "        self.text_tools_rcn = text_tools_rcn\n",
    "\n",
    "        self.ls_contact = ['1', '2', '3', '4', '11', '12', '13', '21', '22', '23', '31', '32', '33', '41', '42', '43', '51', '52', '53', '61', '62', '63', '71', '72', '73', '81', '82', '83', '111', '112', '113', '121', '122', '123']\n",
    "\n",
    "        self.ds_st_b = {\n",
    "            'df_101': [  'В19', 'В110', 'В111', 'В112',  'В29', 'В210', 'В211', 'В212', 'В18','В28',],\n",
    "            'df_C': ['В16', 'В17',  'В26', 'В27', 'В25'],\n",
    "            'df_contacts': ['В18','В28'],\n",
    "        }\n",
    "        self.df_st_b = None\n",
    "\n",
    "        self.df_st_shina = None\n",
    "        self.df_st_sh_p_ls = None\n",
    "        self.df_B = None\n",
    "        self.df_101 = None\n",
    "        self.df_C = None\n",
    "\n",
    "        self.df_sx_sh_circle = None\n",
    "        self.df_sx_contacts = None\n",
    "\n",
    "\n",
    "    def sx_search_contacts(self):\n",
    "        ls = []\n",
    "        df1 = self.text_tools_rcn.df_match('^[1-3]-\\d{2,3}')\n",
    "\n",
    "        for i in range(len(df1)):\n",
    "            ref1 = df1.iloc[i]['ref']\n",
    "            t_loc = df1.iloc[i]['text']\n",
    "            dt_name = self.text_tools_rcn.find_text_ref(ref1, 8, 8, 0, 5, lst_exclude=self.ls_contact)\n",
    "            if dt_name is not None:\n",
    "                t_name = dt_name['text']\n",
    "                dc_name = self.text_tools_rcn.find_cirle_ref(dt_name['ref'], 20, 20, 8, 9, radius_gt=3)\n",
    "                if dc_name is not None:\n",
    "                    dt_contact = self.text_tools_rcn.find_text(dc_name['x'], dc_name['y'], 8, 8, 8, 8, lst_filter=self.ls_contact)\n",
    "                else:\n",
    "                    dt_contact = self.text_tools_rcn.find_text_ref(dt_name['ref'], 10, 10, 0, 15, lst_filter=self.ls_contact)\n",
    "\n",
    "                if dt_contact is not None:\n",
    "                    df_contact = dt_contact['df']\n",
    "                    if df_contact['text'].tolist() == ['1', '2', '3', '4']:\n",
    "                        df_contact = df_contact[df_contact['text'].isin(['2', '4'])]\n",
    "                    ds = self._direction_contact(df_contact)\n",
    "                    group = t_loc + ';' + ':'.join(df_contact['text'].values.tolist())\n",
    "\n",
    "                    for j in range(len(df_contact)):\n",
    "                        t_contact = df_contact.iloc[j]['text']\n",
    "                        t_ref = df_contact.iloc[j]['ref']\n",
    "                        t_x = df_contact.iloc[j]['x']\n",
    "                        t_y = df_contact.iloc[j]['y']\n",
    "                        st, p, r = self.get_loc(t_loc)\n",
    "                        ls. append([t_loc, st, p, r, t_name, t_contact, t_ref, t_x, t_y, group, ds[t_contact][0], ds[t_contact][1]])\n",
    "\n",
    "\n",
    "        df2 = pd.DataFrame(ls, columns=['loc', 'st', 'p', 'r', 'name', 'contact', 'ref', 'x', 'y', 'group', 'direction', 'side'])\n",
    "        return df2\n",
    "\n",
    "    def sx_search_v(self):\n",
    "        self.df_B = self.text_tools_rcn.df_match('^[1-3]-В')\n",
    "        self.df_B = self.df_B.apply( self._rep_xy_on_circle, axis=1)\n",
    "        self.df_101 = self.text_tools_rcn.df_match('^10[1-5]-')\n",
    "        self.df_101 = self.df_101.apply( self._rep_xy_on_circle, axis=1)\n",
    "        self.df_C = self.text_tools_rcn.df_match('^C[1-8]:')\n",
    "        self.df_C = self.df_C.apply( self._rep_xy_on_circle, axis=1)\n",
    "\n",
    "        # отсортировать по x возрастанию потом y по убыванию\n",
    "        self.df_B = self.df_B.sort_values(by=['x', 'y'], key=lambda x: x.map(dict(zip(x, range(len(x))))))\n",
    "\n",
    "    def sx_search_sh_circle(self):\n",
    "        df_sh = self.text_tools_rcn.df_match(r'[1-3]-Ш')\n",
    "\n",
    "        for i in range(len(df_sh)):\n",
    "            ref1 = df_sh.iloc[i]['ref']\n",
    "            ds = self.text_tools_rcn.find_text_ref(ref1, 6, 6, 0, 5)\n",
    "            if ds is not None:\n",
    "                df2 = None\n",
    "                name_sh = ds['text'] # 'П'\n",
    "                ds1 = self.text_tools_rcn.find_cirle_ref(ds['ref'], 5, 5, 0, 10, radius_lt=2)\n",
    "                if ds1 is not None:\n",
    "                    df2 = ds1['df']\n",
    "                    df2['pit'] = name_sh\n",
    "\n",
    "                ds_lines = self.text_tools_rcn.find_line(ds['x'], ds['y'], 5, 5, 0, 10)\n",
    "\n",
    "                if ds_lines is not None:\n",
    "                    df_lines = ds_lines['df']\n",
    "\n",
    "                    is_line = False\n",
    "                    for i in range(len(df_lines)):\n",
    "                        res = df_lines.iloc[i]\n",
    "                        if res['x1'] == res['x2']:\n",
    "                            is_line = True\n",
    "                            break\n",
    "                    if is_line:\n",
    "                        df2 = self.text_tools_rcn.find_cirle_ref(ds['ref'], 5, 5, 0, 180, radius_lt=2)['df']\n",
    "                        df2['pit'] = name_sh\n",
    "\n",
    "                if df2 is not None:\n",
    "                    if self.df_sx_sh_circle is None:\n",
    "                        self.df_sx_sh_circle = df2.copy()\n",
    "                    else:\n",
    "                        self.df_sx_sh_circle = self.df_sx_sh_circle.append(df2)\n",
    "\n",
    "        return df_shina\n",
    "\n",
    "    def sx_set_pit_contact(self):\n",
    "        df1 = self.df_sx_contacts[self.df_sx_contacts['b1'].isnull()]\n",
    "        for i in range(len(df1)):\n",
    "            res = df1.iloc[i]\n",
    "            ref1 = res['ref']\n",
    "            df2 = self._find_link_by_sh(self.df_sx_sh_circle, res['x'], res['y'], 10, 0, 5, 5, side=res['side'])\n",
    "            if df2 is not None:\n",
    "                df3 = df2['df']\n",
    "                pit = df3['pit'].values[0]\n",
    "\n",
    "                self.df_sx_contacts = set_value_df(self.df_sx_contacts, ref1, 'pit', pit)\n",
    "\n",
    "\n",
    "    def st_init_v(self):\n",
    "        ls_B = ['В15', 'В25', 'В16', 'В26', 'В17', 'В27', 'В18', 'В28', 'В19', 'В29', 'В110', 'В111', 'В112', 'В210', 'В211', 'В212']\n",
    "        ls_st = ['1', '2', '3']\n",
    "        ls = []\n",
    "        for st in ls_st:\n",
    "            for b in ls_B:\n",
    "                for i in range(1, 21):\n",
    "                    ls.append([st, b, i])\n",
    "        self.df_st_b = pd.DataFrame(ls, columns=['st', 'b', 'n'])\n",
    "        self.df_st_b[['l1', 'l2', 'p']] = ''\n",
    "\n",
    "    def st_init_shina(self):\n",
    "        df5 = self.text_tools_st['c1'].df_match(r'.Ш-[А-Я]')\n",
    "        df5 = df5.reset_index(drop=True)\n",
    "        df5['st'] = '1'\n",
    "        df5['p'] = df5['text'].apply(lambda x: x.split('Ш-')[0])\n",
    "        df5['pit'] = df5['text'].apply(lambda x: x.split('Ш-')[1])\n",
    "        self.df_st_shina = df5.copy()\n",
    "\n",
    "        df5 = self.text_tools_st['c2'].df_match(r'.Ш-[А-Я]')\n",
    "        df5 = df5.reset_index(drop=True)\n",
    "        df5['st'] = '2'\n",
    "        df5['p'] = df5['text'].apply(lambda x: x.split('Ш-')[0])\n",
    "        df5['pit'] = df5['text'].apply(lambda x: x.split('Ш-')[1])\n",
    "        self.df_st_shina = self.df_st_shina.append(df5)\n",
    "\n",
    "        df5 = self.text_tools_st['c3'].df_match(r'.Ш-[А-Я]')\n",
    "        df5 = df5.reset_index(drop=True)\n",
    "        df5['st'] = '3'\n",
    "        df5['p'] = df5['text'].apply(lambda x: x.split('Ш-')[0])\n",
    "        df5['pit'] = df5['text'].apply(lambda x: x.split('Ш-')[1])\n",
    "        self.df_st_shina = self.df_st_shina.append(df5)\n",
    "\n",
    "        self.df_st_shina = self.df_st_shina.reset_index(drop=True)\n",
    "\n",
    "        self.df_st_sh_p_ls =  self.df_st_shina.groupby(['st', 'pit'])['p'].agg(lambda x: list(x)).reset_index()\n",
    "\n",
    "    def st_montag_B(self):\n",
    "        for i in range(len(self.df_B)):\n",
    "            res = self.df_B.iloc[i]\n",
    "            df1, df_name1 = self._find_link_by_b(res['x'], res['y'], 10, 0, 5, 5, side='left')\n",
    "            df2, df_name2 = self._find_link_by_b(res['x'], res['y'], 0, 0, 5, 5, side='right')\n",
    "            loc = None\n",
    "            contact = None\n",
    "            df_name_st = None\n",
    "            df_name_no_st = None\n",
    "            if df_name1 == 'df_contacts':\n",
    "                loc = df1.iloc[0]['loc']\n",
    "                df_cont = df1\n",
    "                contact = df1.iloc[0]['contact']\n",
    "                b1_dev = df1.iloc[0]['b1']\n",
    "                b2_dev = df1.iloc[0]['b2']\n",
    "                df_name_st = df_name1\n",
    "            if df_name1 == 'df_101' or df_name1 == 'df_C':\n",
    "                df_no_cont = df1\n",
    "                b_st = df1.iloc[0]['text']\n",
    "                df_name_no_st = df_name1\n",
    "\n",
    "            if df_name2 == 'df_contacts':\n",
    "                loc = df2.iloc[0]['loc']\n",
    "                df_cont = df2\n",
    "                contact = df2.iloc[0]['contact']\n",
    "                b1_dev = df2.iloc[0]['b1']\n",
    "                b2_dev = df2.iloc[0]['b2']\n",
    "                df_name_st = df_name2\n",
    "            if df_name2 == 'df_101' or df_name2 == 'df_C':\n",
    "                df_no_cont = df2\n",
    "                b_st = df2.iloc[0]['text']\n",
    "                df_name_no_st = df_name2\n",
    "\n",
    "            if loc is not None and df_name_no_st is not None:\n",
    "                st, p, r = self.get_loc(loc)\n",
    "                ls = self.ds_st_b[df_name_no_st]\n",
    "                df_t = self.df_st_b[(self.df_st_b['st']==st) & (self.df_st_b['b'].isin(ls)) & (self.df_st_b['l1']=='')]\n",
    "                df_t = df_t.sort_values(by=['b', 'n'], key=lambda x: x.map(dict(zip(ls, range(len(ls))))))\n",
    "                df_bb = df_t.head(1)\n",
    "                b, n = df_bb['b'].values[0],  df_bb['n'].values[0]    #'B110', 1\n",
    "                s_b = f'{st}-{b}-{n}'\n",
    "\n",
    "                self.text_tools_rcn.replace(res['ref'], s_b)\n",
    "                self.add_st_contact(loc=loc, contact=contact, loc_to=[f'{b}-{n}'])\n",
    "                self.add_st_v(st, b, str(n), [f'{p}{r}-{contact}', b_st])\n",
    "\n",
    "                self.set_val_df(df_name_st, df_bb['ref'], 'l1', loc)\n",
    "                self.set_val_df(df_name_st, df_bb['ref'], 'l2', b_st)\n",
    "\n",
    "                if self.get_val_df_first(df_cont, 'b1') is None:\n",
    "                    self.set_val_df(self.df_sx_contacts, df_cont['ref'], 'b1', f'{b}-{n}')\n",
    "                    # self.df_sx_contacts.loc[df_cont.index, 'b1'] =  f'{b}-{n}'\n",
    "                else:\n",
    "                    self.set_val_df(self.df_sx_contacts, df_cont['ref'], 'b2', f'{b}-{n}')\n",
    "                    # self.df_sx_contacts.loc[df_cont.index, 'b2'] =  f'{b}-{n}'\n",
    "\n",
    "            if loc is None and df_name_no_st is not None:\n",
    "                st = res['text'][0]\n",
    "                ls = self.ds_st_b[df_name_no_st]\n",
    "                df_t = self.df_st_b[(self.df_st_b['st']==st) & (self.df_st_b['b'].isin(ls)) & (self.df_st_b['l1']=='')]\n",
    "                df_t = df_t.sort_values(by=['b', 'n'], key=lambda x: x.map(dict(zip(ls, range(len(ls))))))\n",
    "                df_bb = df_t.head(1)\n",
    "                b, n = df_bb['b'].values[0],  df_bb['n'].values[0]    #'B110', 1\n",
    "                s_b = f'{st}-{b}-{n}'\n",
    "\n",
    "                self.text_tools_rcn.replace(res['ref'], s_b)\n",
    "                self.add_st_v(st, b, str(n), ['', b_st])\n",
    "\n",
    "                self.set_val_df(df_name_st, df_bb['ref'], 'l1', 'резерв')\n",
    "                self.set_val_df(df_name_st, df_bb['ref'], 'l2', b_st)\n",
    "\n",
    "\n",
    "\n",
    "\n",
    "\n",
    "    def get_nearest_sh(self, loc, pit):\n",
    "        st, p, r = self.get_loc(loc)\n",
    "        ls1 = self.df_st_sh_p_ls[(self.df_st_sh_p_ls['st'] == st) & (self.df_st_sh_p_ls['pit'] == pit)]['p']\n",
    "        if len(ls1) > 0:\n",
    "            ls1 = ls1.values[0]\n",
    "            ls1 = [int(x) for x in ls1]\n",
    "            return self._find_nearest(ls1, int(p))\n",
    "\n",
    "    def add_st_contact(self, loc, contact, loc_to):\n",
    "\n",
    "        st, p, r = self.get_loc(loc)\n",
    "\n",
    "        text_tools = self.text_tools_st[st]\n",
    "\n",
    "        df = text_tools.doc.df_texts\n",
    "\n",
    "        df1 = df[df['text'] == f'Полка {p}']\n",
    "        ref1 = df1.iloc[0]['ref']\n",
    "        d1 = text_tools.find_text_ref(ref1, 360, 30, 270, -250)\n",
    "        df1 = d1['df']\n",
    "\n",
    "        df1 = df1[df1['text'] == r]\n",
    "        ref1 = df1.iloc[0]['ref']\n",
    "        d1 = text_tools.find_text_ref(ref1, 25, -15, 0, 240)\n",
    "        df1 = d1['df']\n",
    "\n",
    "        df1 = df1[df1['text'] == contact]\n",
    "        ds = df1.iloc[0].to_dict()\n",
    "\n",
    "        if len(loc_to) == 1:\n",
    "            text_tools.add_text(loc_to[0], ds['x'] + 15, ds['y'], ref_text_font=ds['ref'])\n",
    "        elif len(loc_to) == 2:\n",
    "            text_tools.add_text(loc_to[0], ds['x'] + 15, ds['y'], ref_text_font=ds['ref'])\n",
    "            text_tools.add_text(loc_to[1], ds['x'] + 35, ds['y'], ref_text_font=ds['ref'])\n",
    "        elif len(loc_to) == 3:\n",
    "            text_tools.add_text(loc_to[0], ds['x'] + 15, ds['y'] + 2, ref_text_font=ds['ref'])\n",
    "            text_tools.add_text(loc_to[1], ds['x'] + 15, ds['y'] - 2, ref_text_font=ds['ref'])\n",
    "            text_tools.add_text(loc_to[2], ds['x'] + 35, ds['y'], ref_text_font=ds['ref'])\n",
    "\n",
    "        return True\n",
    "\n",
    "    def add_st_v(self, st, v, contact, loc_to):\n",
    "\n",
    "        text_tools = self.text_tools_st[st]\n",
    "\n",
    "        df_v = text_tools.df_match(v)\n",
    "        if len(df_v) == 0:\n",
    "            return False\n",
    "\n",
    "        ref_v = df_v.iloc[0]['ref']\n",
    "\n",
    "        d1 = text_tools.find_text_ref(ref_v, 7, 7, 0, 85)\n",
    "        df1 = d1['df']\n",
    "\n",
    "        df1 = df1[df1['text'] == contact]\n",
    "        ds = df1.iloc[0].to_dict()\n",
    "\n",
    "        if int(contact) % 2 == 1:\n",
    "            if len(loc_to) == 1:\n",
    "                text_tools.add_text(loc_to[0], ds['x'] - 12, ds['y'], ref_text_font=ds['ref'])\n",
    "            elif len(loc_to) == 2:\n",
    "                text_tools.add_text(loc_to[0], ds['x'] - 12, ds['y'], ref_text_font=ds['ref'])\n",
    "                text_tools.add_text(loc_to[1], ds['x'] - 12, ds['y'] - 4, ref_text_font=ds['ref'])\n",
    "        else:\n",
    "            if len(loc_to) == 1:\n",
    "                text_tools.add_text(loc_to[0], ds['x'] + 12, ds['y'], ref_text_font=ds['ref'])\n",
    "            elif len(loc_to) == 2:\n",
    "                text_tools.add_text(loc_to[0], ds['x'] + 12, ds['y'], ref_text_font=ds['ref'])\n",
    "                text_tools.add_text(loc_to[1], ds['x'] + 12, ds['y'] - 4, ref_text_font=ds['ref'])\n",
    "\n",
    "    def add_st_sh(self, st, sh_st, contact, loc_to):\n",
    "\n",
    "        text_tools = self.text_tools_st[st]\n",
    "\n",
    "        df1 = text_tools.df_match(sh_st)\n",
    "        ref1 = df1.iloc[0]['ref']\n",
    "        d1 = text_tools.find_text_ref(ref1, 90, 110, -25, 40)\n",
    "        df1 = d1['df']\n",
    "        df1 = df1[df1['text'] == str(contact)]\n",
    "        ds = df1.iloc[0].to_dict()\n",
    "\n",
    "        text_tools.add_text(loc_to, ds['x'] + 1, ds['y'] + 8, ref_text_font=ds['ref'], rotation=90)\n",
    "\n",
    "        return True\n",
    "\n",
    "\n",
    "\n",
    "    # выбрать из списка ls1 число ближйшее к заданному\n",
    "    def _find_nearest(self, ls, value):\n",
    "        ls = np.array(ls)\n",
    "        idx = (np.abs(ls - value)).argmin()\n",
    "        return ls[idx]\n",
    "\n",
    "    def _rep_xy_on_circle(self, row):\n",
    "        res =  self.text_tools_rcn.find_cirle(row['x'], row['y'], 10, 10, 0, 8, radius_lt=2)\n",
    "        if res is not None:\n",
    "            row['x'] = res['x']\n",
    "            row['y'] = res['y']\n",
    "        return row\n",
    "\n",
    "    def _find_link_by_b(self, x, y, dx_left=1, dx_right=1, dy_top=1, dy_bottom=1, side='left'):\n",
    "        df_name = 'df_contacts'\n",
    "        res1 = None\n",
    "        for i in range(30):\n",
    "            res1 = self.text_tools_rcn.find_text(x, y, dx_left, dx_right, dy_top, dy_bottom, df_poisk=df_contacts, return_only_df=True)\n",
    "            if res1 is not None:\n",
    "                df_name = 'df_contacts'\n",
    "                break\n",
    "\n",
    "            res1 = self.text_tools_rcn.find_text(x, y, dx_left, dx_right, dy_top, dy_bottom, df_poisk=df_101, return_only_df=True)\n",
    "            if res1 is not None:\n",
    "                df_name = 'df_101'\n",
    "                break\n",
    "\n",
    "            res1 = self.text_tools_rcn.find_text(x, y, dx_left, dx_right, dy_top, dy_bottom, df_poisk=df_C, return_only_df=True)\n",
    "            if res1 is not None:\n",
    "                df_name =  'df_C'\n",
    "                break\n",
    "\n",
    "            if side == 'left':\n",
    "                dx_left += 5\n",
    "            else:\n",
    "                dx_right += 5\n",
    "\n",
    "        if res1 is not None:\n",
    "            return res1, df_name\n",
    "        return None, None\n",
    "\n",
    "    def _find_link_by_sh(self, df_poisk, x, y, dx_left=1, dx_right=1, dy_top=1, dy_bottom=1, side='left'):\n",
    "        res1 = None\n",
    "        for i in range(30):\n",
    "            res1 = self.text_tools_rcn.find_cirle(x, y, dx_left, dx_right, dy_top, dy_bottom, df_poisk=df_poisk)\n",
    "            if res1 is not None:\n",
    "                break\n",
    "\n",
    "            if side == 'left':\n",
    "                dx_left += 5\n",
    "            else:\n",
    "                dx_right += 5\n",
    "\n",
    "        if res1 is not None:\n",
    "            return res1\n",
    "        return None\n",
    "\n",
    "    def _direction_contact(self, df):\n",
    "        if len(df) >1:\n",
    "            c1 = df.iloc[0]['text']\n",
    "            c2 = df.iloc[1]['text']\n",
    "            x1 = df.iloc[0]['x']\n",
    "            x2 = df.iloc[1]['x']\n",
    "            y1 = df.iloc[0]['y']\n",
    "            y2 = df.iloc[1]['y']\n",
    "\n",
    "            dx = abs(x1 - x2)\n",
    "            dy = abs(y1 - y2)\n",
    "\n",
    "            if dx > 2:\n",
    "                if x1 < x2:\n",
    "                    return {c1: ['horizontal', 'left'], c2: ['horizontal', 'right']}\n",
    "                else:\n",
    "                    return {c1: ['horizontal', 'right'], c2: ['horizontal', 'left']}\n",
    "            if dy > 2:\n",
    "                if y1 > y2:\n",
    "                    return {c1: ['vertical', 'top'], c2: ['vertical', 'bottom']}\n",
    "                else:\n",
    "                    return {c1: ['vertical', 'bottom'], c2: ['vertical', 'top']}\n",
    "\n",
    "    def get_loc(self, loc):\n",
    "        ls = loc.split('-')\n",
    "        st = ls[0]\n",
    "        pr = ls[1]\n",
    "        if len(pr) == 2:\n",
    "            p = pr[0]\n",
    "            r = pr[1]\n",
    "        else:\n",
    "            p = pr[0:2]\n",
    "            r = pr[2]\n",
    "        return st, p, r\n",
    "\n",
    "    def set_val_df(self, df, ref, col, value):\n",
    "        if df is not None:\n",
    "            ser = df[df['ref'] == ref][col]\n",
    "            if len(ser) > 0:\n",
    "                df.loc[df['ref'] == ref, col] = value\n",
    "        return df\n",
    "\n",
    "    def get_val_df(self, df, ref, col):\n",
    "        if df is not None:\n",
    "            df1 = df[df['ref'] == ref]\n",
    "            if len(df1) > 0:\n",
    "                return df1[col].values[0]\n",
    "\n",
    "    def get_val_df_first(self, df, col):\n",
    "        if df is not None:\n",
    "            df1 = df.head(1)\n",
    "            if len(df1) > 0:\n",
    "                return df[col].values[0]"
   ],
   "metadata": {
    "collapsed": false,
    "pycharm": {
     "name": "#%%\n"
    }
   }
  },
  {
   "cell_type": "code",
   "execution_count": null,
   "outputs": [],
   "source": [
    "ts = Tools(text_tools_st)\n",
    "\n",
    "ts.sx_find_st_v()\n",
    "\n",
    "ts.init_st_v()\n",
    "\n",
    "\n",
    "ts.search_sx_sh_circle()\n",
    "ts.init_shina_stativ()\n",
    "ts.set_pit_contact()\n"
   ],
   "metadata": {
    "collapsed": false,
    "pycharm": {
     "name": "#%%\n"
    }
   }
  },
  {
   "cell_type": "code",
   "execution_count": 212,
   "outputs": [
    {
     "data": {
      "text/plain": "1073761402"
     },
     "execution_count": 212,
     "metadata": {},
     "output_type": "execute_result"
    }
   ],
   "source": [
    "df1.head(1)['ref'].values[0]"
   ],
   "metadata": {
    "collapsed": false,
    "pycharm": {
     "name": "#%%\n"
    }
   }
  },
  {
   "cell_type": "code",
   "execution_count": 180,
   "outputs": [
    {
     "data": {
      "text/plain": "  st  pit             p\n0  1    М           [3]\n1  1  МСХ           [6]\n2  1    П           [4]\n3  1  СХМ           [5]\n4  2    П  [2, 4, 6, 8]\n5  3    П  [2, 4, 6, 8]",
      "text/html": "<div>\n<style scoped>\n    .dataframe tbody tr th:only-of-type {\n        vertical-align: middle;\n    }\n\n    .dataframe tbody tr th {\n        vertical-align: top;\n    }\n\n    .dataframe thead th {\n        text-align: right;\n    }\n</style>\n<table border=\"1\" class=\"dataframe\">\n  <thead>\n    <tr style=\"text-align: right;\">\n      <th></th>\n      <th>st</th>\n      <th>pit</th>\n      <th>p</th>\n    </tr>\n  </thead>\n  <tbody>\n    <tr>\n      <th>0</th>\n      <td>1</td>\n      <td>М</td>\n      <td>[3]</td>\n    </tr>\n    <tr>\n      <th>1</th>\n      <td>1</td>\n      <td>МСХ</td>\n      <td>[6]</td>\n    </tr>\n    <tr>\n      <th>2</th>\n      <td>1</td>\n      <td>П</td>\n      <td>[4]</td>\n    </tr>\n    <tr>\n      <th>3</th>\n      <td>1</td>\n      <td>СХМ</td>\n      <td>[5]</td>\n    </tr>\n    <tr>\n      <th>4</th>\n      <td>2</td>\n      <td>П</td>\n      <td>[2, 4, 6, 8]</td>\n    </tr>\n    <tr>\n      <th>5</th>\n      <td>3</td>\n      <td>П</td>\n      <td>[2, 4, 6, 8]</td>\n    </tr>\n  </tbody>\n</table>\n</div>"
     },
     "execution_count": 180,
     "metadata": {},
     "output_type": "execute_result"
    }
   ],
   "source": [
    "df_ls_sh_p"
   ],
   "metadata": {
    "collapsed": false,
    "pycharm": {
     "name": "#%%\n"
    }
   }
  },
  {
   "cell_type": "code",
   "execution_count": null,
   "outputs": [],
   "source": [
    "\n",
    "# сгруппировать по sh_st и добавить в новый столбец range для каждой группы\n",
    "df_shina['contact'] = df_shina.groupby('sh_st').cumcount()\n",
    "df_shina['contact'] += 1\n",
    "df_shina"
   ],
   "metadata": {
    "collapsed": false,
    "pycharm": {
     "name": "#%%\n"
    }
   }
  },
  {
   "cell_type": "code",
   "execution_count": 31,
   "outputs": [
    {
     "ename": "KeyError",
     "evalue": "'text'",
     "output_type": "error",
     "traceback": [
      "\u001B[1;31m---------------------------------------------------------------------------\u001B[0m",
      "\u001B[1;31mKeyError\u001B[0m                                  Traceback (most recent call last)",
      "\u001B[1;32m~\\AppData\\Local\\Temp/ipykernel_12776/1300242467.py\u001B[0m in \u001B[0;36m<module>\u001B[1;34m\u001B[0m\n\u001B[0;32m      8\u001B[0m     \u001B[0mnumber_sh1\u001B[0m \u001B[1;33m=\u001B[0m \u001B[0mname_sh\u001B[0m\u001B[1;33m[\u001B[0m\u001B[1;36m0\u001B[0m\u001B[1;33m]\u001B[0m \u001B[1;31m# '2'\u001B[0m\u001B[1;33m\u001B[0m\u001B[1;33m\u001B[0m\u001B[0m\n\u001B[0;32m      9\u001B[0m     \u001B[0mnumber_sh2\u001B[0m \u001B[1;33m=\u001B[0m \u001B[0mname_sh\u001B[0m\u001B[1;33m.\u001B[0m\u001B[0msplit\u001B[0m\u001B[1;33m(\u001B[0m\u001B[1;34m'Ш'\u001B[0m\u001B[1;33m)\u001B[0m\u001B[1;33m[\u001B[0m\u001B[1;36m1\u001B[0m\u001B[1;33m]\u001B[0m \u001B[1;31m# '6'\u001B[0m\u001B[1;33m\u001B[0m\u001B[1;33m\u001B[0m\u001B[0m\n\u001B[1;32m---> 10\u001B[1;33m     \u001B[0mname_sh1\u001B[0m \u001B[1;33m=\u001B[0m \u001B[0mds\u001B[0m\u001B[1;33m[\u001B[0m\u001B[1;34m'text'\u001B[0m\u001B[1;33m]\u001B[0m \u001B[1;31m# 'П'\u001B[0m\u001B[1;33m\u001B[0m\u001B[1;33m\u001B[0m\u001B[0m\n\u001B[0m\u001B[0;32m     11\u001B[0m     \u001B[0mname_sh_st\u001B[0m \u001B[1;33m=\u001B[0m \u001B[1;34mf'{number_sh2}Ш-{name_sh1}'\u001B[0m \u001B[1;31m# '4Ш-П'\u001B[0m\u001B[1;33m\u001B[0m\u001B[1;33m\u001B[0m\u001B[0m\n\u001B[0;32m     12\u001B[0m     \u001B[0mds\u001B[0m \u001B[1;33m=\u001B[0m \u001B[0mtext_tools_rcn\u001B[0m\u001B[1;33m.\u001B[0m\u001B[0mfind_text_ref\u001B[0m\u001B[1;33m(\u001B[0m\u001B[0mref1\u001B[0m\u001B[1;33m,\u001B[0m \u001B[1;36m5\u001B[0m\u001B[1;33m,\u001B[0m \u001B[1;36m5\u001B[0m\u001B[1;33m,\u001B[0m \u001B[1;36m0\u001B[0m\u001B[1;33m,\u001B[0m \u001B[1;36m5\u001B[0m\u001B[1;33m)\u001B[0m\u001B[1;33m\u001B[0m\u001B[1;33m\u001B[0m\u001B[0m\n",
      "\u001B[1;31mKeyError\u001B[0m: 'text'"
     ]
    }
   ],
   "source": [
    "df_shina = None\n",
    "\n",
    "df_sh = text_tools_rcn.df_match(r'[1-3]-Ш')\n",
    "\n",
    "for i in range(len(df_sh)):\n",
    "    ref1 = df_sh.iloc[i]['ref']\n",
    "    name_sh = df_sh.iloc[i]['text'] # '2-Ш6'\n",
    "    number_sh1 = name_sh[0] # '2'\n",
    "    number_sh2 = name_sh.split('Ш')[1] # '6'\n",
    "    name_sh1 = ds['text'] # 'П'\n",
    "    name_sh_st = f'{number_sh2}Ш-{name_sh1}' # '4Ш-П'\n",
    "    ds = text_tools_rcn.find_text_ref(ref1, 5, 5, 0, 5)\n",
    "    ds1 = text_tools_rcn.find_line(ds['x'], ds['y'], 5, 5, 0, 10)\n",
    "    df1 = ds1['df']\n",
    "    is_line = False\n",
    "    for i in range(len(df1)):\n",
    "        res = df1.iloc[i]\n",
    "        if res['x1'] == res['x2']:\n",
    "            is_line = True\n",
    "            break\n",
    "    if is_line:\n",
    "        df2 = text_tools_rcn.find_cirle_ref(ds['ref'], 5, 5, 0, 180, radius_lt=2)['df']\n",
    "        # df2 = df2[['x', 'y', 'ref']]\n",
    "        df2['sh_sx'] = name_sh\n",
    "        df2['sh_st'] = name_sh_st\n",
    "        df2['st'] = number_sh1\n",
    "        df2['pol'] = number_sh2\n",
    "        df2['pit'] = name_sh1\n",
    "        if df_shina is None:\n",
    "            df_shina = df2\n",
    "        else:\n",
    "            df_shina = df_shina.append(df2)\n",
    "\n",
    "# сгруппировать по sh_st и добавить в новый столбец range для каждой группы\n",
    "df_shina['contact'] = df_shina.groupby('sh_st').cumcount()\n",
    "df_shina['contact'] += 1\n",
    "df_shina"
   ],
   "metadata": {
    "collapsed": false,
    "pycharm": {
     "name": "#%%\n"
    }
   }
  },
  {
   "cell_type": "code",
   "execution_count": 119,
   "outputs": [
    {
     "data": {
      "text/plain": "      loc      name contact         ref            x           y       group  \\\n132  1-82        5А      11  1073861413  7534.606597  121.286926  1-82;11:12   \n133  1-82        5А      12  1073861414  7542.248568  121.286926  1-82;11:12   \n138  2-68      І ГП      11  1073861835  7971.454748  129.689774  2-68;11:12   \n140  2-67     ІІ ГП      11  1073861839  7992.454945  119.689563  2-67;11:12   \n142  2-66      1 СП      11  1073861834  7971.454748  109.689704  2-66;11:12   \n..    ...       ...     ...         ...          ...         ...         ...   \n292  2-81  РЕЗЕРВ 1      11  1073864277  8832.455593   59.689705  2-81;11:12   \n294  2-83  РЕЗЕРВ 3      11  1073864275  8832.455593   79.689775  2-83;11:12   \n296  2-85  РЕЗЕРВ 5      11  1073864273  8832.455593   99.689493  2-85;11:12   \n298  2-87  РЕЗЕРВ 7      11  1073864271  8832.455593  119.689562  2-87;11:12   \n300  2-88  РЕЗЕРВ 8      11  1073864269  8811.455396  129.689774  2-88;11:12   \n\n      direction   side    b1    b2    l1    l2     p  \n132  horizontal   left  None  None  None  None  None  \n133  horizontal  right  None  None  None  None  None  \n138  horizontal   left  None  None  None  None  None  \n140  horizontal   left  None  None  None  None  None  \n142  horizontal   left  None  None  None  None  None  \n..          ...    ...   ...   ...   ...   ...   ...  \n292  horizontal   left  None  None  None  None  None  \n294  horizontal   left  None  None  None  None  None  \n296  horizontal   left  None  None  None  None  None  \n298  horizontal   left  None  None  None  None  None  \n300  horizontal   left  None  None  None  None  None  \n\n[91 rows x 14 columns]",
      "text/html": "<div>\n<style scoped>\n    .dataframe tbody tr th:only-of-type {\n        vertical-align: middle;\n    }\n\n    .dataframe tbody tr th {\n        vertical-align: top;\n    }\n\n    .dataframe thead th {\n        text-align: right;\n    }\n</style>\n<table border=\"1\" class=\"dataframe\">\n  <thead>\n    <tr style=\"text-align: right;\">\n      <th></th>\n      <th>loc</th>\n      <th>name</th>\n      <th>contact</th>\n      <th>ref</th>\n      <th>x</th>\n      <th>y</th>\n      <th>group</th>\n      <th>direction</th>\n      <th>side</th>\n      <th>b1</th>\n      <th>b2</th>\n      <th>l1</th>\n      <th>l2</th>\n      <th>p</th>\n    </tr>\n  </thead>\n  <tbody>\n    <tr>\n      <th>132</th>\n      <td>1-82</td>\n      <td>5А</td>\n      <td>11</td>\n      <td>1073861413</td>\n      <td>7534.606597</td>\n      <td>121.286926</td>\n      <td>1-82;11:12</td>\n      <td>horizontal</td>\n      <td>left</td>\n      <td>None</td>\n      <td>None</td>\n      <td>None</td>\n      <td>None</td>\n      <td>None</td>\n    </tr>\n    <tr>\n      <th>133</th>\n      <td>1-82</td>\n      <td>5А</td>\n      <td>12</td>\n      <td>1073861414</td>\n      <td>7542.248568</td>\n      <td>121.286926</td>\n      <td>1-82;11:12</td>\n      <td>horizontal</td>\n      <td>right</td>\n      <td>None</td>\n      <td>None</td>\n      <td>None</td>\n      <td>None</td>\n      <td>None</td>\n    </tr>\n    <tr>\n      <th>138</th>\n      <td>2-68</td>\n      <td>І ГП</td>\n      <td>11</td>\n      <td>1073861835</td>\n      <td>7971.454748</td>\n      <td>129.689774</td>\n      <td>2-68;11:12</td>\n      <td>horizontal</td>\n      <td>left</td>\n      <td>None</td>\n      <td>None</td>\n      <td>None</td>\n      <td>None</td>\n      <td>None</td>\n    </tr>\n    <tr>\n      <th>140</th>\n      <td>2-67</td>\n      <td>ІІ ГП</td>\n      <td>11</td>\n      <td>1073861839</td>\n      <td>7992.454945</td>\n      <td>119.689563</td>\n      <td>2-67;11:12</td>\n      <td>horizontal</td>\n      <td>left</td>\n      <td>None</td>\n      <td>None</td>\n      <td>None</td>\n      <td>None</td>\n      <td>None</td>\n    </tr>\n    <tr>\n      <th>142</th>\n      <td>2-66</td>\n      <td>1 СП</td>\n      <td>11</td>\n      <td>1073861834</td>\n      <td>7971.454748</td>\n      <td>109.689704</td>\n      <td>2-66;11:12</td>\n      <td>horizontal</td>\n      <td>left</td>\n      <td>None</td>\n      <td>None</td>\n      <td>None</td>\n      <td>None</td>\n      <td>None</td>\n    </tr>\n    <tr>\n      <th>...</th>\n      <td>...</td>\n      <td>...</td>\n      <td>...</td>\n      <td>...</td>\n      <td>...</td>\n      <td>...</td>\n      <td>...</td>\n      <td>...</td>\n      <td>...</td>\n      <td>...</td>\n      <td>...</td>\n      <td>...</td>\n      <td>...</td>\n      <td>...</td>\n    </tr>\n    <tr>\n      <th>292</th>\n      <td>2-81</td>\n      <td>РЕЗЕРВ 1</td>\n      <td>11</td>\n      <td>1073864277</td>\n      <td>8832.455593</td>\n      <td>59.689705</td>\n      <td>2-81;11:12</td>\n      <td>horizontal</td>\n      <td>left</td>\n      <td>None</td>\n      <td>None</td>\n      <td>None</td>\n      <td>None</td>\n      <td>None</td>\n    </tr>\n    <tr>\n      <th>294</th>\n      <td>2-83</td>\n      <td>РЕЗЕРВ 3</td>\n      <td>11</td>\n      <td>1073864275</td>\n      <td>8832.455593</td>\n      <td>79.689775</td>\n      <td>2-83;11:12</td>\n      <td>horizontal</td>\n      <td>left</td>\n      <td>None</td>\n      <td>None</td>\n      <td>None</td>\n      <td>None</td>\n      <td>None</td>\n    </tr>\n    <tr>\n      <th>296</th>\n      <td>2-85</td>\n      <td>РЕЗЕРВ 5</td>\n      <td>11</td>\n      <td>1073864273</td>\n      <td>8832.455593</td>\n      <td>99.689493</td>\n      <td>2-85;11:12</td>\n      <td>horizontal</td>\n      <td>left</td>\n      <td>None</td>\n      <td>None</td>\n      <td>None</td>\n      <td>None</td>\n      <td>None</td>\n    </tr>\n    <tr>\n      <th>298</th>\n      <td>2-87</td>\n      <td>РЕЗЕРВ 7</td>\n      <td>11</td>\n      <td>1073864271</td>\n      <td>8832.455593</td>\n      <td>119.689562</td>\n      <td>2-87;11:12</td>\n      <td>horizontal</td>\n      <td>left</td>\n      <td>None</td>\n      <td>None</td>\n      <td>None</td>\n      <td>None</td>\n      <td>None</td>\n    </tr>\n    <tr>\n      <th>300</th>\n      <td>2-88</td>\n      <td>РЕЗЕРВ 8</td>\n      <td>11</td>\n      <td>1073864269</td>\n      <td>8811.455396</td>\n      <td>129.689774</td>\n      <td>2-88;11:12</td>\n      <td>horizontal</td>\n      <td>left</td>\n      <td>None</td>\n      <td>None</td>\n      <td>None</td>\n      <td>None</td>\n      <td>None</td>\n    </tr>\n  </tbody>\n</table>\n<p>91 rows × 14 columns</p>\n</div>"
     },
     "execution_count": 119,
     "metadata": {},
     "output_type": "execute_result"
    }
   ],
   "source": [
    "df1 = df_contacts[df_contacts['b1'].isnull()]\n",
    "for i in range(len(df1)):\n",
    "    res = df1.iloc[i]\n",
    "df1"
   ],
   "metadata": {
    "collapsed": false,
    "pycharm": {
     "name": "#%%\n"
    }
   }
  },
  {
   "cell_type": "code",
   "execution_count": 29,
   "outputs": [],
   "source": [
    "def montag_sh():\n",
    "    df1 = df_contacts[df_contacts['b1'].isnull()]\n",
    "    for i in range(len(df1)):\n",
    "        res = df1.iloc[i]\n",
    "        df2 = find_link_by_sh(df_shina, res['x'], res['y'], 10, 0, 5, 5, side=res['side'])\n",
    "        if df2 is not None:\n",
    "            df3 = df2['df']\n",
    "            loc = res['loc']\n",
    "            st, p, r = get_loc(loc)\n",
    "            contact = res['contact']\n",
    "            pit = df3['pit'].values[0]\n",
    "            pol_sh = df3['pol'].values[0]\n",
    "            contact_sh = df3['contact'].values[0]\n",
    "            sh_st = df3['sh_st'].values[0]\n",
    "            s1 = f'{pol_sh}Ш-{contact_sh}'\n",
    "            s2 = f'{p}{r}-{contact}'\n",
    "            if p == pol_sh:\n",
    "                s1 = f'Ш-{contact_sh}'\n",
    "                s2 = f'{r}-{contact}'\n",
    "\n",
    "            add_st_contact(loc=loc, contact=contact, loc_to=[s1, pit])\n",
    "            add_st_sh(st=st, sh_st=sh_st, contact=contact_sh, loc_to=s2)"
   ],
   "metadata": {
    "collapsed": false,
    "pycharm": {
     "name": "#%%\n"
    }
   }
  },
  {
   "cell_type": "code",
   "execution_count": 164,
   "outputs": [
    {
     "data": {
      "text/plain": "                x           y    radius         ref sh_sx sh_st st pol pit\n1839  8784.811661  130.729916  0.749800  1073855257  2-Ш8  8Ш-П  2   8   П\n1840  8784.811661  120.729831  0.750025  1073855258  2-Ш8  8Ш-П  2   8   П\n1841  8784.811661  110.729973  0.750025  1073855260  2-Ш8  8Ш-П  2   8   П\n1842  8784.811661  100.729761  0.750025  1073855262  2-Ш8  8Ш-П  2   8   П\n1990  8784.811661   90.729903  0.750025  1073855762  2-Ш8  8Ш-П  2   8   П\n1991  8784.811661   80.729691  0.750025  1073855763  2-Ш8  8Ш-П  2   8   П\n1992  8784.811661   70.729833  0.750025  1073855765  2-Ш8  8Ш-П  2   8   П\n1993  8784.811661   60.729622  0.750025  1073855767  2-Ш8  8Ш-П  2   8   П\n1994  8784.811661   50.729763  0.750025  1073855769  2-Ш8  8Ш-П  2   8   П\n1995  8784.811661   40.729777  0.749800  1073855771  2-Ш8  8Ш-П  2   8   П\n1996  8784.811661   30.729693  0.750025  1073855773  2-Ш8  8Ш-П  2   8   П\n1997  8784.811661   20.729707  0.749800  1073855775  2-Ш8  8Ш-П  2   8   П",
      "text/html": "<div>\n<style scoped>\n    .dataframe tbody tr th:only-of-type {\n        vertical-align: middle;\n    }\n\n    .dataframe tbody tr th {\n        vertical-align: top;\n    }\n\n    .dataframe thead th {\n        text-align: right;\n    }\n</style>\n<table border=\"1\" class=\"dataframe\">\n  <thead>\n    <tr style=\"text-align: right;\">\n      <th></th>\n      <th>x</th>\n      <th>y</th>\n      <th>radius</th>\n      <th>ref</th>\n      <th>sh_sx</th>\n      <th>sh_st</th>\n      <th>st</th>\n      <th>pol</th>\n      <th>pit</th>\n    </tr>\n  </thead>\n  <tbody>\n    <tr>\n      <th>1839</th>\n      <td>8784.811661</td>\n      <td>130.729916</td>\n      <td>0.749800</td>\n      <td>1073855257</td>\n      <td>2-Ш8</td>\n      <td>8Ш-П</td>\n      <td>2</td>\n      <td>8</td>\n      <td>П</td>\n    </tr>\n    <tr>\n      <th>1840</th>\n      <td>8784.811661</td>\n      <td>120.729831</td>\n      <td>0.750025</td>\n      <td>1073855258</td>\n      <td>2-Ш8</td>\n      <td>8Ш-П</td>\n      <td>2</td>\n      <td>8</td>\n      <td>П</td>\n    </tr>\n    <tr>\n      <th>1841</th>\n      <td>8784.811661</td>\n      <td>110.729973</td>\n      <td>0.750025</td>\n      <td>1073855260</td>\n      <td>2-Ш8</td>\n      <td>8Ш-П</td>\n      <td>2</td>\n      <td>8</td>\n      <td>П</td>\n    </tr>\n    <tr>\n      <th>1842</th>\n      <td>8784.811661</td>\n      <td>100.729761</td>\n      <td>0.750025</td>\n      <td>1073855262</td>\n      <td>2-Ш8</td>\n      <td>8Ш-П</td>\n      <td>2</td>\n      <td>8</td>\n      <td>П</td>\n    </tr>\n    <tr>\n      <th>1990</th>\n      <td>8784.811661</td>\n      <td>90.729903</td>\n      <td>0.750025</td>\n      <td>1073855762</td>\n      <td>2-Ш8</td>\n      <td>8Ш-П</td>\n      <td>2</td>\n      <td>8</td>\n      <td>П</td>\n    </tr>\n    <tr>\n      <th>1991</th>\n      <td>8784.811661</td>\n      <td>80.729691</td>\n      <td>0.750025</td>\n      <td>1073855763</td>\n      <td>2-Ш8</td>\n      <td>8Ш-П</td>\n      <td>2</td>\n      <td>8</td>\n      <td>П</td>\n    </tr>\n    <tr>\n      <th>1992</th>\n      <td>8784.811661</td>\n      <td>70.729833</td>\n      <td>0.750025</td>\n      <td>1073855765</td>\n      <td>2-Ш8</td>\n      <td>8Ш-П</td>\n      <td>2</td>\n      <td>8</td>\n      <td>П</td>\n    </tr>\n    <tr>\n      <th>1993</th>\n      <td>8784.811661</td>\n      <td>60.729622</td>\n      <td>0.750025</td>\n      <td>1073855767</td>\n      <td>2-Ш8</td>\n      <td>8Ш-П</td>\n      <td>2</td>\n      <td>8</td>\n      <td>П</td>\n    </tr>\n    <tr>\n      <th>1994</th>\n      <td>8784.811661</td>\n      <td>50.729763</td>\n      <td>0.750025</td>\n      <td>1073855769</td>\n      <td>2-Ш8</td>\n      <td>8Ш-П</td>\n      <td>2</td>\n      <td>8</td>\n      <td>П</td>\n    </tr>\n    <tr>\n      <th>1995</th>\n      <td>8784.811661</td>\n      <td>40.729777</td>\n      <td>0.749800</td>\n      <td>1073855771</td>\n      <td>2-Ш8</td>\n      <td>8Ш-П</td>\n      <td>2</td>\n      <td>8</td>\n      <td>П</td>\n    </tr>\n    <tr>\n      <th>1996</th>\n      <td>8784.811661</td>\n      <td>30.729693</td>\n      <td>0.750025</td>\n      <td>1073855773</td>\n      <td>2-Ш8</td>\n      <td>8Ш-П</td>\n      <td>2</td>\n      <td>8</td>\n      <td>П</td>\n    </tr>\n    <tr>\n      <th>1997</th>\n      <td>8784.811661</td>\n      <td>20.729707</td>\n      <td>0.749800</td>\n      <td>1073855775</td>\n      <td>2-Ш8</td>\n      <td>8Ш-П</td>\n      <td>2</td>\n      <td>8</td>\n      <td>П</td>\n    </tr>\n  </tbody>\n</table>\n</div>"
     },
     "execution_count": 164,
     "metadata": {},
     "output_type": "execute_result"
    }
   ],
   "source": [
    "df2"
   ],
   "metadata": {
    "collapsed": false,
    "pycharm": {
     "name": "#%%\n"
    }
   }
  },
  {
   "cell_type": "code",
   "execution_count": 30,
   "outputs": [
    {
     "ename": "NameError",
     "evalue": "name 'df_shina' is not defined",
     "output_type": "error",
     "traceback": [
      "\u001B[1;31m---------------------------------------------------------------------------\u001B[0m",
      "\u001B[1;31mNameError\u001B[0m                                 Traceback (most recent call last)",
      "\u001B[1;32m~\\AppData\\Local\\Temp/ipykernel_12776/4192169055.py\u001B[0m in \u001B[0;36m<module>\u001B[1;34m\u001B[0m\n\u001B[1;32m----> 1\u001B[1;33m \u001B[0mmontag_sh\u001B[0m\u001B[1;33m(\u001B[0m\u001B[1;33m)\u001B[0m\u001B[1;33m\u001B[0m\u001B[1;33m\u001B[0m\u001B[0m\n\u001B[0m",
      "\u001B[1;32m~\\AppData\\Local\\Temp/ipykernel_12776/74652537.py\u001B[0m in \u001B[0;36mmontag_sh\u001B[1;34m()\u001B[0m\n\u001B[0;32m      3\u001B[0m     \u001B[1;32mfor\u001B[0m \u001B[0mi\u001B[0m \u001B[1;32min\u001B[0m \u001B[0mrange\u001B[0m\u001B[1;33m(\u001B[0m\u001B[0mlen\u001B[0m\u001B[1;33m(\u001B[0m\u001B[0mdf1\u001B[0m\u001B[1;33m)\u001B[0m\u001B[1;33m)\u001B[0m\u001B[1;33m:\u001B[0m\u001B[1;33m\u001B[0m\u001B[1;33m\u001B[0m\u001B[0m\n\u001B[0;32m      4\u001B[0m         \u001B[0mres\u001B[0m \u001B[1;33m=\u001B[0m \u001B[0mdf1\u001B[0m\u001B[1;33m.\u001B[0m\u001B[0miloc\u001B[0m\u001B[1;33m[\u001B[0m\u001B[0mi\u001B[0m\u001B[1;33m]\u001B[0m\u001B[1;33m\u001B[0m\u001B[1;33m\u001B[0m\u001B[0m\n\u001B[1;32m----> 5\u001B[1;33m         \u001B[0mdf2\u001B[0m \u001B[1;33m=\u001B[0m \u001B[0mfind_link_by_sh\u001B[0m\u001B[1;33m(\u001B[0m\u001B[0mdf_shina\u001B[0m\u001B[1;33m,\u001B[0m \u001B[0mres\u001B[0m\u001B[1;33m[\u001B[0m\u001B[1;34m'x'\u001B[0m\u001B[1;33m]\u001B[0m\u001B[1;33m,\u001B[0m \u001B[0mres\u001B[0m\u001B[1;33m[\u001B[0m\u001B[1;34m'y'\u001B[0m\u001B[1;33m]\u001B[0m\u001B[1;33m,\u001B[0m \u001B[1;36m10\u001B[0m\u001B[1;33m,\u001B[0m \u001B[1;36m0\u001B[0m\u001B[1;33m,\u001B[0m \u001B[1;36m5\u001B[0m\u001B[1;33m,\u001B[0m \u001B[1;36m5\u001B[0m\u001B[1;33m,\u001B[0m \u001B[0mside\u001B[0m\u001B[1;33m=\u001B[0m\u001B[0mres\u001B[0m\u001B[1;33m[\u001B[0m\u001B[1;34m'side'\u001B[0m\u001B[1;33m]\u001B[0m\u001B[1;33m)\u001B[0m\u001B[1;33m\u001B[0m\u001B[1;33m\u001B[0m\u001B[0m\n\u001B[0m\u001B[0;32m      6\u001B[0m         \u001B[1;32mif\u001B[0m \u001B[0mdf2\u001B[0m \u001B[1;32mis\u001B[0m \u001B[1;32mnot\u001B[0m \u001B[1;32mNone\u001B[0m\u001B[1;33m:\u001B[0m\u001B[1;33m\u001B[0m\u001B[1;33m\u001B[0m\u001B[0m\n\u001B[0;32m      7\u001B[0m             \u001B[0mdf3\u001B[0m \u001B[1;33m=\u001B[0m \u001B[0mdf2\u001B[0m\u001B[1;33m[\u001B[0m\u001B[1;34m'df'\u001B[0m\u001B[1;33m]\u001B[0m\u001B[1;33m\u001B[0m\u001B[1;33m\u001B[0m\u001B[0m\n",
      "\u001B[1;31mNameError\u001B[0m: name 'df_shina' is not defined"
     ]
    }
   ],
   "source": [
    "montag_sh()"
   ],
   "metadata": {
    "collapsed": false,
    "pycharm": {
     "name": "#%%\n"
    }
   }
  },
  {
   "cell_type": "code",
   "execution_count": 137,
   "outputs": [
    {
     "data": {
      "text/plain": "                x           y  radius         ref sh_sx sh_st st pol pit  \\\n1599  7944.810841  130.729916  0.7498  1073854321  2-Ш6  6Ш-П  2   6   П   \n\n      contact  \n1599        1  ",
      "text/html": "<div>\n<style scoped>\n    .dataframe tbody tr th:only-of-type {\n        vertical-align: middle;\n    }\n\n    .dataframe tbody tr th {\n        vertical-align: top;\n    }\n\n    .dataframe thead th {\n        text-align: right;\n    }\n</style>\n<table border=\"1\" class=\"dataframe\">\n  <thead>\n    <tr style=\"text-align: right;\">\n      <th></th>\n      <th>x</th>\n      <th>y</th>\n      <th>radius</th>\n      <th>ref</th>\n      <th>sh_sx</th>\n      <th>sh_st</th>\n      <th>st</th>\n      <th>pol</th>\n      <th>pit</th>\n      <th>contact</th>\n    </tr>\n  </thead>\n  <tbody>\n    <tr>\n      <th>1599</th>\n      <td>7944.810841</td>\n      <td>130.729916</td>\n      <td>0.7498</td>\n      <td>1073854321</td>\n      <td>2-Ш6</td>\n      <td>6Ш-П</td>\n      <td>2</td>\n      <td>6</td>\n      <td>П</td>\n      <td>1</td>\n    </tr>\n  </tbody>\n</table>\n</div>"
     },
     "execution_count": 137,
     "metadata": {},
     "output_type": "execute_result"
    }
   ],
   "source": [
    "df3"
   ],
   "metadata": {
    "collapsed": false,
    "pycharm": {
     "name": "#%%\n"
    }
   }
  },
  {
   "cell_type": "code",
   "execution_count": 138,
   "outputs": [
    {
     "data": {
      "text/plain": "'6Ш-П'"
     },
     "execution_count": 138,
     "metadata": {},
     "output_type": "execute_result"
    }
   ],
   "source": [
    "df3['sh_st'].values[0]"
   ],
   "metadata": {
    "collapsed": false,
    "pycharm": {
     "name": "#%%\n"
    }
   }
  },
  {
   "cell_type": "code",
   "execution_count": null,
   "outputs": [],
   "source": [
    "add_st_contact(loc=loc, contact=contact, loc_to=[f'{b}-{n}'])"
   ],
   "metadata": {
    "collapsed": false,
    "pycharm": {
     "name": "#%%\n"
    }
   }
  },
  {
   "cell_type": "code",
   "execution_count": 156,
   "outputs": [],
   "source": [],
   "metadata": {
    "collapsed": false,
    "pycharm": {
     "name": "#%%\n"
    }
   }
  },
  {
   "cell_type": "code",
   "execution_count": 163,
   "outputs": [
    {
     "data": {
      "text/plain": "True"
     },
     "execution_count": 163,
     "metadata": {},
     "output_type": "execute_result"
    }
   ],
   "source": [
    "add_st_sh(st=st, sh_st=sh_st, contact=contact_sh, loc_to='1-1')"
   ],
   "metadata": {
    "collapsed": false,
    "pycharm": {
     "name": "#%%\n"
    }
   }
  },
  {
   "cell_type": "code",
   "execution_count": 153,
   "outputs": [
    {
     "data": {
      "text/plain": "('2', '6Ш-П', 1)"
     },
     "execution_count": 153,
     "metadata": {},
     "output_type": "execute_result"
    }
   ],
   "source": [
    "st, sh_st, contact_sh"
   ],
   "metadata": {
    "collapsed": false,
    "pycharm": {
     "name": "#%%\n"
    }
   }
  },
  {
   "cell_type": "code",
   "execution_count": 148,
   "outputs": [
    {
     "data": {
      "text/plain": "{'text': '1',\n 'x': 5367.637110027854,\n 'y': 12.903365964751856,\n 'ref': 1073835912}"
     },
     "execution_count": 148,
     "metadata": {},
     "output_type": "execute_result"
    }
   ],
   "source": [
    "df1 = text_tools.df_match(sh_st)\n",
    "ref1 = df1.iloc[0]['ref']\n",
    "d1 = text_tools.find_text_ref(ref1, 90, 110, -25, 40)\n",
    "df1 = d1['df']\n",
    "df1 = df1[df1['text'] == str(contact_sh)]\n",
    "ds = df1.iloc[0].to_dict()\n",
    "ds"
   ],
   "metadata": {
    "collapsed": false,
    "pycharm": {
     "name": "#%%\n"
    }
   }
  },
  {
   "cell_type": "code",
   "execution_count": 149,
   "outputs": [
    {
     "data": {
      "text/plain": "'f'"
     },
     "execution_count": 149,
     "metadata": {},
     "output_type": "execute_result"
    }
   ],
   "source": [
    "str('f')"
   ],
   "metadata": {
    "collapsed": false,
    "pycharm": {
     "name": "#%%\n"
    }
   }
  },
  {
   "cell_type": "code",
   "execution_count": null,
   "outputs": [],
   "source": [],
   "metadata": {
    "collapsed": false,
    "pycharm": {
     "name": "#%%\n"
    }
   }
  },
  {
   "cell_type": "code",
   "execution_count": 76,
   "outputs": [
    {
     "data": {
      "text/plain": "text            2-В\nx       1701.805316\ny        144.729877\nref      1073748898\nName: 7069, dtype: object"
     },
     "execution_count": 76,
     "metadata": {},
     "output_type": "execute_result"
    }
   ],
   "source": [
    "res = df_B.iloc[0]\n",
    "res"
   ],
   "metadata": {
    "collapsed": false,
    "pycharm": {
     "name": "#%%\n"
    }
   }
  },
  {
   "cell_type": "code",
   "execution_count": 70,
   "outputs": [],
   "source": [
    "df1, df_name1, df2, df_name2 = f1()"
   ],
   "metadata": {
    "collapsed": false,
    "pycharm": {
     "name": "#%%\n"
    }
   }
  },
  {
   "cell_type": "code",
   "execution_count": 71,
   "outputs": [
    {
     "data": {
      "text/plain": "    loc  name contact         ref            x           y       group  \\\n0  2-68  І ГП      82  1073741891  1673.142768  142.617286  2-68;82:22   \n\n  direction side    b1    b2    l1    l2     p  \n0  vertical  top  None  None  None  None  None  ",
      "text/html": "<div>\n<style scoped>\n    .dataframe tbody tr th:only-of-type {\n        vertical-align: middle;\n    }\n\n    .dataframe tbody tr th {\n        vertical-align: top;\n    }\n\n    .dataframe thead th {\n        text-align: right;\n    }\n</style>\n<table border=\"1\" class=\"dataframe\">\n  <thead>\n    <tr style=\"text-align: right;\">\n      <th></th>\n      <th>loc</th>\n      <th>name</th>\n      <th>contact</th>\n      <th>ref</th>\n      <th>x</th>\n      <th>y</th>\n      <th>group</th>\n      <th>direction</th>\n      <th>side</th>\n      <th>b1</th>\n      <th>b2</th>\n      <th>l1</th>\n      <th>l2</th>\n      <th>p</th>\n    </tr>\n  </thead>\n  <tbody>\n    <tr>\n      <th>0</th>\n      <td>2-68</td>\n      <td>І ГП</td>\n      <td>82</td>\n      <td>1073741891</td>\n      <td>1673.142768</td>\n      <td>142.617286</td>\n      <td>2-68;82:22</td>\n      <td>vertical</td>\n      <td>top</td>\n      <td>None</td>\n      <td>None</td>\n      <td>None</td>\n      <td>None</td>\n      <td>None</td>\n    </tr>\n  </tbody>\n</table>\n</div>"
     },
     "execution_count": 71,
     "metadata": {},
     "output_type": "execute_result"
    }
   ],
   "source": [
    "df1"
   ],
   "metadata": {
    "collapsed": false,
    "pycharm": {
     "name": "#%%\n"
    }
   }
  },
  {
   "cell_type": "code",
   "execution_count": 72,
   "outputs": [
    {
     "data": {
      "text/plain": "         text            x           y         ref\n73  101-112-1  1757.055364  144.729845  1073741902",
      "text/html": "<div>\n<style scoped>\n    .dataframe tbody tr th:only-of-type {\n        vertical-align: middle;\n    }\n\n    .dataframe tbody tr th {\n        vertical-align: top;\n    }\n\n    .dataframe thead th {\n        text-align: right;\n    }\n</style>\n<table border=\"1\" class=\"dataframe\">\n  <thead>\n    <tr style=\"text-align: right;\">\n      <th></th>\n      <th>text</th>\n      <th>x</th>\n      <th>y</th>\n      <th>ref</th>\n    </tr>\n  </thead>\n  <tbody>\n    <tr>\n      <th>73</th>\n      <td>101-112-1</td>\n      <td>1757.055364</td>\n      <td>144.729845</td>\n      <td>1073741902</td>\n    </tr>\n  </tbody>\n</table>\n</div>"
     },
     "execution_count": 72,
     "metadata": {},
     "output_type": "execute_result"
    }
   ],
   "source": [
    "df2"
   ],
   "metadata": {
    "collapsed": false,
    "pycharm": {
     "name": "#%%\n"
    }
   }
  },
  {
   "cell_type": "code",
   "execution_count": 58,
   "outputs": [
    {
     "data": {
      "text/plain": "('df_contacts', 'df_101')"
     },
     "execution_count": 58,
     "metadata": {},
     "output_type": "execute_result"
    }
   ],
   "source": [
    "df_name1, df_name2"
   ],
   "metadata": {
    "collapsed": false,
    "pycharm": {
     "name": "#%%\n"
    }
   }
  },
  {
   "cell_type": "code",
   "execution_count": 82,
   "outputs": [
    {
     "data": {
      "text/plain": "('2', '6', '8')"
     },
     "execution_count": 82,
     "metadata": {},
     "output_type": "execute_result"
    }
   ],
   "source": [
    "loc = df1['loc'].iloc[0]\n",
    "st, pol, rd = get_loc(loc)\n",
    "st, pol, rd"
   ],
   "metadata": {
    "collapsed": false,
    "pycharm": {
     "name": "#%%\n"
    }
   }
  },
  {
   "cell_type": "code",
   "execution_count": 88,
   "outputs": [
    {
     "data": {
      "text/plain": "['В110', 'В111', 'В112', 'В210', 'В211', 'В212', 'В29']"
     },
     "execution_count": 88,
     "metadata": {},
     "output_type": "execute_result"
    }
   ],
   "source": [
    "\n",
    "b_name = ds_st_b['df_101']\n",
    "b_name"
   ],
   "metadata": {
    "collapsed": false,
    "pycharm": {
     "name": "#%%\n"
    }
   }
  },
  {
   "cell_type": "code",
   "execution_count": 110,
   "outputs": [
    {
     "data": {
      "text/plain": "    st     b   n l1 l2 p \n520  2  В110   1         \n521  2  В110   2         \n522  2  В110   3         \n523  2  В110   4         \n524  2  В110   5         \n..  ..   ...  .. .. .. ..\n515  2   В29  16         \n516  2   В29  17         \n517  2   В29  18         \n518  2   В29  19         \n519  2   В29  20         \n\n[140 rows x 6 columns]",
      "text/html": "<div>\n<style scoped>\n    .dataframe tbody tr th:only-of-type {\n        vertical-align: middle;\n    }\n\n    .dataframe tbody tr th {\n        vertical-align: top;\n    }\n\n    .dataframe thead th {\n        text-align: right;\n    }\n</style>\n<table border=\"1\" class=\"dataframe\">\n  <thead>\n    <tr style=\"text-align: right;\">\n      <th></th>\n      <th>st</th>\n      <th>b</th>\n      <th>n</th>\n      <th>l1</th>\n      <th>l2</th>\n      <th>p</th>\n    </tr>\n  </thead>\n  <tbody>\n    <tr>\n      <th>520</th>\n      <td>2</td>\n      <td>В110</td>\n      <td>1</td>\n      <td></td>\n      <td></td>\n      <td></td>\n    </tr>\n    <tr>\n      <th>521</th>\n      <td>2</td>\n      <td>В110</td>\n      <td>2</td>\n      <td></td>\n      <td></td>\n      <td></td>\n    </tr>\n    <tr>\n      <th>522</th>\n      <td>2</td>\n      <td>В110</td>\n      <td>3</td>\n      <td></td>\n      <td></td>\n      <td></td>\n    </tr>\n    <tr>\n      <th>523</th>\n      <td>2</td>\n      <td>В110</td>\n      <td>4</td>\n      <td></td>\n      <td></td>\n      <td></td>\n    </tr>\n    <tr>\n      <th>524</th>\n      <td>2</td>\n      <td>В110</td>\n      <td>5</td>\n      <td></td>\n      <td></td>\n      <td></td>\n    </tr>\n    <tr>\n      <th>...</th>\n      <td>...</td>\n      <td>...</td>\n      <td>...</td>\n      <td>...</td>\n      <td>...</td>\n      <td>...</td>\n    </tr>\n    <tr>\n      <th>515</th>\n      <td>2</td>\n      <td>В29</td>\n      <td>16</td>\n      <td></td>\n      <td></td>\n      <td></td>\n    </tr>\n    <tr>\n      <th>516</th>\n      <td>2</td>\n      <td>В29</td>\n      <td>17</td>\n      <td></td>\n      <td></td>\n      <td></td>\n    </tr>\n    <tr>\n      <th>517</th>\n      <td>2</td>\n      <td>В29</td>\n      <td>18</td>\n      <td></td>\n      <td></td>\n      <td></td>\n    </tr>\n    <tr>\n      <th>518</th>\n      <td>2</td>\n      <td>В29</td>\n      <td>19</td>\n      <td></td>\n      <td></td>\n      <td></td>\n    </tr>\n    <tr>\n      <th>519</th>\n      <td>2</td>\n      <td>В29</td>\n      <td>20</td>\n      <td></td>\n      <td></td>\n      <td></td>\n    </tr>\n  </tbody>\n</table>\n<p>140 rows × 6 columns</p>\n</div>"
     },
     "execution_count": 110,
     "metadata": {},
     "output_type": "execute_result"
    }
   ],
   "source": [
    "\n",
    "df_t = df_st_b[(df_st_b['st']==st) & (df_st_b['b'].isin(b_name)) & (df_st_b['l1']=='')]\n",
    "ls = ds_st_b['df_101']\n",
    "df_t = df_t.sort_values(by=['b', 'n'], key=lambda x: x.map(dict(zip(ls, range(len(ls))))))\n",
    "df_t"
   ],
   "metadata": {
    "collapsed": false,
    "pycharm": {
     "name": "#%%\n"
    }
   }
  },
  {
   "cell_type": "code",
   "execution_count": 111,
   "outputs": [
    {
     "data": {
      "text/plain": "('В110', 1)"
     },
     "execution_count": 111,
     "metadata": {},
     "output_type": "execute_result"
    }
   ],
   "source": [
    "df_t.iloc[0]['b'],  df_t.iloc[0]['n']"
   ],
   "metadata": {
    "collapsed": false,
    "pycharm": {
     "name": "#%%\n"
    }
   }
  },
  {
   "cell_type": "code",
   "execution_count": 109,
   "outputs": [
    {
     "data": {
      "text/plain": "    st     b   n l1 l2 p \n520  2  В110   1         \n521  2  В110   2         \n522  2  В110   3         \n523  2  В110   4         \n524  2  В110   5         \n..  ..   ...  .. .. .. ..\n515  2   В29  16         \n516  2   В29  17         \n517  2   В29  18         \n518  2   В29  19         \n519  2   В29  20         \n\n[140 rows x 6 columns]",
      "text/html": "<div>\n<style scoped>\n    .dataframe tbody tr th:only-of-type {\n        vertical-align: middle;\n    }\n\n    .dataframe tbody tr th {\n        vertical-align: top;\n    }\n\n    .dataframe thead th {\n        text-align: right;\n    }\n</style>\n<table border=\"1\" class=\"dataframe\">\n  <thead>\n    <tr style=\"text-align: right;\">\n      <th></th>\n      <th>st</th>\n      <th>b</th>\n      <th>n</th>\n      <th>l1</th>\n      <th>l2</th>\n      <th>p</th>\n    </tr>\n  </thead>\n  <tbody>\n    <tr>\n      <th>520</th>\n      <td>2</td>\n      <td>В110</td>\n      <td>1</td>\n      <td></td>\n      <td></td>\n      <td></td>\n    </tr>\n    <tr>\n      <th>521</th>\n      <td>2</td>\n      <td>В110</td>\n      <td>2</td>\n      <td></td>\n      <td></td>\n      <td></td>\n    </tr>\n    <tr>\n      <th>522</th>\n      <td>2</td>\n      <td>В110</td>\n      <td>3</td>\n      <td></td>\n      <td></td>\n      <td></td>\n    </tr>\n    <tr>\n      <th>523</th>\n      <td>2</td>\n      <td>В110</td>\n      <td>4</td>\n      <td></td>\n      <td></td>\n      <td></td>\n    </tr>\n    <tr>\n      <th>524</th>\n      <td>2</td>\n      <td>В110</td>\n      <td>5</td>\n      <td></td>\n      <td></td>\n      <td></td>\n    </tr>\n    <tr>\n      <th>...</th>\n      <td>...</td>\n      <td>...</td>\n      <td>...</td>\n      <td>...</td>\n      <td>...</td>\n      <td>...</td>\n    </tr>\n    <tr>\n      <th>515</th>\n      <td>2</td>\n      <td>В29</td>\n      <td>16</td>\n      <td></td>\n      <td></td>\n      <td></td>\n    </tr>\n    <tr>\n      <th>516</th>\n      <td>2</td>\n      <td>В29</td>\n      <td>17</td>\n      <td></td>\n      <td></td>\n      <td></td>\n    </tr>\n    <tr>\n      <th>517</th>\n      <td>2</td>\n      <td>В29</td>\n      <td>18</td>\n      <td></td>\n      <td></td>\n      <td></td>\n    </tr>\n    <tr>\n      <th>518</th>\n      <td>2</td>\n      <td>В29</td>\n      <td>19</td>\n      <td></td>\n      <td></td>\n      <td></td>\n    </tr>\n    <tr>\n      <th>519</th>\n      <td>2</td>\n      <td>В29</td>\n      <td>20</td>\n      <td></td>\n      <td></td>\n      <td></td>\n    </tr>\n  </tbody>\n</table>\n<p>140 rows × 6 columns</p>\n</div>"
     },
     "execution_count": 109,
     "metadata": {},
     "output_type": "execute_result"
    }
   ],
   "source": [
    "# отсортировать по полю b в порядке как в списке ['В110', 'В111', 'В112', 'В210', 'В211', 'В212', 'В29'] и по полю n в порядке возрастания\n",
    "ls = ds_st_b['df_101']\n",
    "df_t = df_t.sort_values(by=['b', 'n'], key=lambda x: x.map(dict(zip(ls, range(len(ls))))))\n",
    "\n",
    "df_t"
   ],
   "metadata": {
    "collapsed": false,
    "pycharm": {
     "name": "#%%\n"
    }
   }
  },
  {
   "cell_type": "code",
   "execution_count": null,
   "outputs": [],
   "source": [],
   "metadata": {
    "collapsed": false,
    "pycharm": {
     "name": "#%%\n"
    }
   }
  },
  {
   "cell_type": "code",
   "execution_count": null,
   "outputs": [],
   "source": [],
   "metadata": {
    "collapsed": false,
    "pycharm": {
     "name": "#%%\n"
    }
   }
  },
  {
   "cell_type": "code",
   "execution_count": 79,
   "outputs": [],
   "source": [],
   "metadata": {
    "collapsed": false,
    "pycharm": {
     "name": "#%%\n"
    }
   }
  },
  {
   "cell_type": "code",
   "execution_count": 12,
   "outputs": [],
   "source": [
    "text_tools_st = {\n",
    "    '1': text_tools_st1,\n",
    "}"
   ],
   "metadata": {
    "collapsed": false,
    "pycharm": {
     "name": "#%%\n"
    }
   }
  },
  {
   "cell_type": "code",
   "execution_count": 38,
   "outputs": [],
   "source": [
    "\n"
   ],
   "metadata": {
    "collapsed": false,
    "pycharm": {
     "name": "#%%\n"
    }
   }
  },
  {
   "cell_type": "code",
   "execution_count": 39,
   "outputs": [],
   "source": [
    "find_st_contact(text_tools_st, loc='1-14', contact='41', loc_to=['1', '141-42', 'СХ'])\n",
    "find_st_contact(text_tools_st, loc=loc, contact=contact, loc_to=[f'{b}-{n}'])\n",
    "find_st_v(text_tools_st, st, b, str(n), [loc, b_st])"
   ],
   "metadata": {
    "collapsed": false,
    "pycharm": {
     "name": "#%%\n"
    }
   }
  },
  {
   "cell_type": "code",
   "execution_count": null,
   "outputs": [],
   "source": [],
   "metadata": {
    "collapsed": false,
    "pycharm": {
     "name": "#%%\n"
    }
   }
  },
  {
   "cell_type": "code",
   "execution_count": 16,
   "outputs": [],
   "source": [
    "tt = text_tools_st['c2']"
   ],
   "metadata": {
    "collapsed": false,
    "pycharm": {
     "name": "#%%\n"
    }
   }
  },
  {
   "cell_type": "code",
   "execution_count": 19,
   "outputs": [
    {
     "data": {
      "text/plain": "     text            x           y         ref\n319  В110  8108.149716  261.669801  1073760099",
      "text/html": "<div>\n<style scoped>\n    .dataframe tbody tr th:only-of-type {\n        vertical-align: middle;\n    }\n\n    .dataframe tbody tr th {\n        vertical-align: top;\n    }\n\n    .dataframe thead th {\n        text-align: right;\n    }\n</style>\n<table border=\"1\" class=\"dataframe\">\n  <thead>\n    <tr style=\"text-align: right;\">\n      <th></th>\n      <th>text</th>\n      <th>x</th>\n      <th>y</th>\n      <th>ref</th>\n    </tr>\n  </thead>\n  <tbody>\n    <tr>\n      <th>319</th>\n      <td>В110</td>\n      <td>8108.149716</td>\n      <td>261.669801</td>\n      <td>1073760099</td>\n    </tr>\n  </tbody>\n</table>\n</div>"
     },
     "execution_count": 19,
     "metadata": {},
     "output_type": "execute_result"
    }
   ],
   "source": [
    "df_v = tt.df_match('В110')\n",
    "df_v"
   ],
   "metadata": {
    "collapsed": false,
    "pycharm": {
     "name": "#%%\n"
    }
   }
  },
  {
   "cell_type": "code",
   "execution_count": 20,
   "outputs": [],
   "source": [
    "ref_v = df_v.iloc[0]['ref']\n",
    "x = df_v.iloc[0]['x']\n",
    "y = df_v.iloc[0]['y']"
   ],
   "metadata": {
    "collapsed": false,
    "pycharm": {
     "name": "#%%\n"
    }
   }
  },
  {
   "cell_type": "code",
   "execution_count": 21,
   "outputs": [
    {
     "data": {
      "text/plain": "(1073760099, 8108.1497163294425, 261.669801172547)"
     },
     "execution_count": 21,
     "metadata": {},
     "output_type": "execute_result"
    }
   ],
   "source": [
    "ref_v, x, y"
   ],
   "metadata": {
    "collapsed": false,
    "pycharm": {
     "name": "#%%\n"
    }
   }
  },
  {
   "cell_type": "code",
   "execution_count": 31,
   "outputs": [
    {
     "data": {
      "text/plain": "    text            x           y         ref\n426    1  8103.158772  255.882376  1073760292\n427    2  8109.424424  255.814233  1073760293\n428    3  8103.324137  247.841570  1073760294\n429    4  8109.424424  247.841570  1073760295\n430    5  8103.324137  239.937050  1073760296\n431    6  8109.424424  239.868908  1073760297\n432    7  8103.491549  231.896245  1073760298\n433    8  8109.424424  231.828103  1073760299\n434    9  8103.492286  223.871223  1073760300\n435   10  8109.545162  223.871223  1073760301\n436   12  8109.476969  215.898560  1073760302\n437   13  8103.922233  207.925898  1073760303\n438   11  8103.825063  215.830419  1073760304\n439   14  8109.408775  207.857756  1073760305\n440   15  8103.922233  199.953236  1073760306\n441   17  8103.954364  191.733182  1073760307\n442   16  8109.409880  199.910271  1073760308\n443   18  8109.478074  191.801324  1073760309\n444   19  8104.022557  183.828661  1073760310\n445   20  8109.674462  183.760519  1073760311",
      "text/html": "<div>\n<style scoped>\n    .dataframe tbody tr th:only-of-type {\n        vertical-align: middle;\n    }\n\n    .dataframe tbody tr th {\n        vertical-align: top;\n    }\n\n    .dataframe thead th {\n        text-align: right;\n    }\n</style>\n<table border=\"1\" class=\"dataframe\">\n  <thead>\n    <tr style=\"text-align: right;\">\n      <th></th>\n      <th>text</th>\n      <th>x</th>\n      <th>y</th>\n      <th>ref</th>\n    </tr>\n  </thead>\n  <tbody>\n    <tr>\n      <th>426</th>\n      <td>1</td>\n      <td>8103.158772</td>\n      <td>255.882376</td>\n      <td>1073760292</td>\n    </tr>\n    <tr>\n      <th>427</th>\n      <td>2</td>\n      <td>8109.424424</td>\n      <td>255.814233</td>\n      <td>1073760293</td>\n    </tr>\n    <tr>\n      <th>428</th>\n      <td>3</td>\n      <td>8103.324137</td>\n      <td>247.841570</td>\n      <td>1073760294</td>\n    </tr>\n    <tr>\n      <th>429</th>\n      <td>4</td>\n      <td>8109.424424</td>\n      <td>247.841570</td>\n      <td>1073760295</td>\n    </tr>\n    <tr>\n      <th>430</th>\n      <td>5</td>\n      <td>8103.324137</td>\n      <td>239.937050</td>\n      <td>1073760296</td>\n    </tr>\n    <tr>\n      <th>431</th>\n      <td>6</td>\n      <td>8109.424424</td>\n      <td>239.868908</td>\n      <td>1073760297</td>\n    </tr>\n    <tr>\n      <th>432</th>\n      <td>7</td>\n      <td>8103.491549</td>\n      <td>231.896245</td>\n      <td>1073760298</td>\n    </tr>\n    <tr>\n      <th>433</th>\n      <td>8</td>\n      <td>8109.424424</td>\n      <td>231.828103</td>\n      <td>1073760299</td>\n    </tr>\n    <tr>\n      <th>434</th>\n      <td>9</td>\n      <td>8103.492286</td>\n      <td>223.871223</td>\n      <td>1073760300</td>\n    </tr>\n    <tr>\n      <th>435</th>\n      <td>10</td>\n      <td>8109.545162</td>\n      <td>223.871223</td>\n      <td>1073760301</td>\n    </tr>\n    <tr>\n      <th>436</th>\n      <td>12</td>\n      <td>8109.476969</td>\n      <td>215.898560</td>\n      <td>1073760302</td>\n    </tr>\n    <tr>\n      <th>437</th>\n      <td>13</td>\n      <td>8103.922233</td>\n      <td>207.925898</td>\n      <td>1073760303</td>\n    </tr>\n    <tr>\n      <th>438</th>\n      <td>11</td>\n      <td>8103.825063</td>\n      <td>215.830419</td>\n      <td>1073760304</td>\n    </tr>\n    <tr>\n      <th>439</th>\n      <td>14</td>\n      <td>8109.408775</td>\n      <td>207.857756</td>\n      <td>1073760305</td>\n    </tr>\n    <tr>\n      <th>440</th>\n      <td>15</td>\n      <td>8103.922233</td>\n      <td>199.953236</td>\n      <td>1073760306</td>\n    </tr>\n    <tr>\n      <th>441</th>\n      <td>17</td>\n      <td>8103.954364</td>\n      <td>191.733182</td>\n      <td>1073760307</td>\n    </tr>\n    <tr>\n      <th>442</th>\n      <td>16</td>\n      <td>8109.409880</td>\n      <td>199.910271</td>\n      <td>1073760308</td>\n    </tr>\n    <tr>\n      <th>443</th>\n      <td>18</td>\n      <td>8109.478074</td>\n      <td>191.801324</td>\n      <td>1073760309</td>\n    </tr>\n    <tr>\n      <th>444</th>\n      <td>19</td>\n      <td>8104.022557</td>\n      <td>183.828661</td>\n      <td>1073760310</td>\n    </tr>\n    <tr>\n      <th>445</th>\n      <td>20</td>\n      <td>8109.674462</td>\n      <td>183.760519</td>\n      <td>1073760311</td>\n    </tr>\n  </tbody>\n</table>\n</div>"
     },
     "execution_count": 31,
     "metadata": {},
     "output_type": "execute_result"
    }
   ],
   "source": [
    "d1 = tt.find_text_ref(ref_v, 5, 5, 0, 85)\n",
    "df1 = d1['df']\n",
    "df1"
   ],
   "metadata": {
    "collapsed": false,
    "pycharm": {
     "name": "#%%\n"
    }
   }
  },
  {
   "cell_type": "code",
   "execution_count": 33,
   "outputs": [
    {
     "data": {
      "text/plain": "{'text': '1',\n 'x': 8103.158772357989,\n 'y': 255.88237552294618,\n 'ref': 1073760292}"
     },
     "execution_count": 33,
     "metadata": {},
     "output_type": "execute_result"
    }
   ],
   "source": [
    "df1 = df1[df1['text'] == str(n)]\n",
    "ds = df1.iloc[0].to_dict()\n",
    "ds"
   ],
   "metadata": {
    "collapsed": false,
    "pycharm": {
     "name": "#%%\n"
    }
   }
  },
  {
   "cell_type": "code",
   "execution_count": 32,
   "outputs": [
    {
     "data": {
      "text/plain": "    text            x           y         ref\n426    1  8103.158772  255.882376  1073760292",
      "text/html": "<div>\n<style scoped>\n    .dataframe tbody tr th:only-of-type {\n        vertical-align: middle;\n    }\n\n    .dataframe tbody tr th {\n        vertical-align: top;\n    }\n\n    .dataframe thead th {\n        text-align: right;\n    }\n</style>\n<table border=\"1\" class=\"dataframe\">\n  <thead>\n    <tr style=\"text-align: right;\">\n      <th></th>\n      <th>text</th>\n      <th>x</th>\n      <th>y</th>\n      <th>ref</th>\n    </tr>\n  </thead>\n  <tbody>\n    <tr>\n      <th>426</th>\n      <td>1</td>\n      <td>8103.158772</td>\n      <td>255.882376</td>\n      <td>1073760292</td>\n    </tr>\n  </tbody>\n</table>\n</div>"
     },
     "execution_count": 32,
     "metadata": {},
     "output_type": "execute_result"
    }
   ],
   "source": [
    "df1[df1['text'] == str(n)]"
   ],
   "metadata": {
    "collapsed": false,
    "pycharm": {
     "name": "#%%\n"
    }
   }
  },
  {
   "cell_type": "code",
   "execution_count": 30,
   "outputs": [
    {
     "data": {
      "text/plain": "Empty DataFrame\nColumns: [text, x, y, ref]\nIndex: []",
      "text/html": "<div>\n<style scoped>\n    .dataframe tbody tr th:only-of-type {\n        vertical-align: middle;\n    }\n\n    .dataframe tbody tr th {\n        vertical-align: top;\n    }\n\n    .dataframe thead th {\n        text-align: right;\n    }\n</style>\n<table border=\"1\" class=\"dataframe\">\n  <thead>\n    <tr style=\"text-align: right;\">\n      <th></th>\n      <th>text</th>\n      <th>x</th>\n      <th>y</th>\n      <th>ref</th>\n    </tr>\n  </thead>\n  <tbody>\n  </tbody>\n</table>\n</div>"
     },
     "execution_count": 30,
     "metadata": {},
     "output_type": "execute_result"
    }
   ],
   "source": [
    "df1"
   ],
   "metadata": {
    "collapsed": false,
    "pycharm": {
     "name": "#%%\n"
    }
   }
  },
  {
   "cell_type": "code",
   "execution_count": 31,
   "outputs": [],
   "source": [
    "find_st_contact(text_tools_st, loc='1-14', contact='41', loc_to=['1', '141-42', 'СХ'])"
   ],
   "metadata": {
    "collapsed": false,
    "pycharm": {
     "name": "#%%\n"
    }
   }
  },
  {
   "cell_type": "code",
   "execution_count": 15,
   "outputs": [],
   "source": [
    "find_st_contact(text_tools_st, loc=loc, contact=contact, loc_to=[f'{b}-{n}'])"
   ],
   "metadata": {
    "collapsed": false,
    "pycharm": {
     "name": "#%%\n"
    }
   }
  },
  {
   "cell_type": "code",
   "execution_count": null,
   "outputs": [],
   "source": [],
   "metadata": {
    "collapsed": false,
    "pycharm": {
     "name": "#%%\n"
    }
   }
  },
  {
   "cell_type": "code",
   "execution_count": null,
   "outputs": [],
   "source": [],
   "metadata": {
    "collapsed": false,
    "pycharm": {
     "name": "#%%\n"
    }
   }
  },
  {
   "cell_type": "code",
   "execution_count": null,
   "outputs": [],
   "source": [],
   "metadata": {
    "collapsed": false,
    "pycharm": {
     "name": "#%%\n"
    }
   }
  },
  {
   "cell_type": "code",
   "execution_count": null,
   "outputs": [],
   "source": [],
   "metadata": {
    "collapsed": false,
    "pycharm": {
     "name": "#%%\n"
    }
   }
  },
  {
   "cell_type": "code",
   "execution_count": null,
   "outputs": [],
   "source": [],
   "metadata": {
    "collapsed": false,
    "pycharm": {
     "name": "#%%\n"
    }
   }
  },
  {
   "cell_type": "code",
   "execution_count": null,
   "outputs": [
    {
     "name": "stdout",
     "output_type": "stream",
     "text": [
      "hello world!\n",
      "hello world!\n",
      "<class 'str'>\n"
     ]
    }
   ],
   "source": [
    "import threading\n",
    "import queue\n",
    "import time\n",
    "\n",
    "def foo(bar, q):\n",
    "    print ('hello {}'.format(bar))\n",
    "    q.put('hello {}'.format(bar))\n",
    "    time.sleep(5)\n",
    "    return 'foo'\n",
    "\n",
    "qe = queue.Queue()\n",
    "t = threading.Thread(target=foo, args=('world!', qe))\n",
    "t.start()\n",
    "while t.is_alive(): # пока функция выполняется\n",
    "    n = qe.get()\n",
    "\n",
    "    print(n)\n",
    "    print(type(n))\n",
    "\n",
    "# ret = qe.join()\n",
    "# print (ret)"
   ],
   "metadata": {
    "collapsed": false,
    "pycharm": {
     "name": "#%%\n",
     "is_executing": true
    }
   }
  },
  {
   "cell_type": "code",
   "execution_count": 1,
   "outputs": [
    {
     "name": "stdout",
     "output_type": "stream",
     "text": [
      "ThID-8844: результат 20, время: 0.0\n",
      "ThID-6560: результат 22, время: 0.0\n",
      "ThID-13292: результат 24, время: 0.0\n",
      "ThID-13292: результат 26, время: 1.07\n",
      "ThID-6560: результат 28, время: 1.15\n",
      "ThID-8844: результат 30, время: 1.34\n",
      "ThID-13292: результат 32, время: 1.81\n",
      "ThID-6560: результат 34, время: 2.52\n",
      "ThID-13292: результат 36, время: 2.7\n",
      "ThID-8844: результат 38, время: 3.34\n"
     ]
    }
   ],
   "source": [
    "import threading, time, queue, random\n",
    "\n",
    "def worker(data, result):\n",
    "    # цикл, пока в очереди есть задания\n",
    "    while not data.empty():\n",
    "        # получаем задание из очереди с данными\n",
    "        task = data.get()\n",
    "        # для приличия, умножим хотя бы на 2\n",
    "        res = task * 2\n",
    "        # результаты будем возвращать как кортеж,\n",
    "        # в котором будет (результат и ID_потока)\n",
    "        result.put((res, threading.get_ident()))\n",
    "        # имитируем нагрузку\n",
    "        t_sleep = random.uniform(0.5, 2)\n",
    "        time.sleep(t_sleep)\n",
    "        # говорим очереди с данными 'data',\n",
    "        # что задание выполнено\n",
    "        data.task_done()\n",
    "\n",
    "# заполняем очередь заданиями для потоков\n",
    "# пускай это будет простой список чисел,\n",
    "# которые потоки будут возвращать\n",
    "data = queue.Queue()\n",
    "for i in range(10, 20):\n",
    "    data.put(i)\n",
    "\n",
    "# очередь с возвращаемыми\n",
    "# результатами работы потоков\n",
    "result = queue.Queue()\n",
    "\n",
    "# создаем и запускаем потоки\n",
    "for _ in range(3):\n",
    "    # имена потоков будут одинаковыми, что бы можно\n",
    "    # было их отличить от основного потока программы\n",
    "    thread = threading.Thread(name='worker',\n",
    "                              target=worker,\n",
    "                              args=(data, result,))\n",
    "    thread.start()\n",
    "\n",
    "# получаем результаты работы потоков в реальном\n",
    "# времени в основном потоке программы.\n",
    "t_start = time.time()\n",
    "# цикл, пока жив хоть один поток 'worker'\n",
    "while any(th.is_alive()\n",
    "          for th in threading.enumerate()\n",
    "          if th.name == 'worker'):\n",
    "\n",
    "    # !Внимание! очередь с результатами при\n",
    "    # работе потоков с разной нагрузкой,\n",
    "    # на короткие промежутки может быть пустой,\n",
    "    # к тому же мы сразу извлекаем результаты\n",
    "    if not result.empty():\n",
    "        res, id_thread = result.get()\n",
    "        # прошедшее время с момента запуска потоков\n",
    "        tm = round(time.time() - t_start, 2)\n",
    "        print(f'ThID-{id_thread}: результат {res}, время: {tm}')"
   ],
   "metadata": {
    "collapsed": false,
    "pycharm": {
     "name": "#%%\n"
    }
   }
  },
  {
   "cell_type": "code",
   "execution_count": null,
   "outputs": [],
   "source": [],
   "metadata": {
    "collapsed": false,
    "pycharm": {
     "name": "#%%\n"
    }
   }
  },
  {
   "cell_type": "code",
   "execution_count": null,
   "outputs": [],
   "source": [],
   "metadata": {
    "collapsed": false,
    "pycharm": {
     "name": "#%%\n"
    }
   }
  },
  {
   "cell_type": "code",
   "execution_count": null,
   "outputs": [],
   "source": [
    "# OfficeEvents - test/demonstrate events with Word and Excel.\n",
    "from win32com.client import DispatchWithEvents, Dispatch\n",
    "import msvcrt, pythoncom\n",
    "import time, sys\n",
    "import types\n",
    "\n",
    "import threading\n",
    "stopEvent = threading.Event()\n",
    "\n",
    "def TestExcel():\n",
    "    class ExcelEvents:\n",
    "        def OnNewWorkbook(self, wb):\n",
    "            if type(wb) != types.InstanceType:\n",
    "                raise RuntimeError, \"The transformer doesnt appear to have translated this for us!\"\n",
    "            self.seen_events[\"OnNewWorkbook\"] = None\n",
    "        def OnWindowActivate(self, wb, wn):\n",
    "            if type(wb) != types.InstanceType or type(wn) != types.InstanceType:\n",
    "                raise RuntimeError, \"The transformer doesnt appear to have translated this for us!\"\n",
    "            self.seen_events[\"OnWindowActivate\"] = None\n",
    "        def OnWindowDeactivate(self, wb, wn):\n",
    "            self.seen_events[\"OnWindowDeactivate\"] = None\n",
    "        def OnSheetDeactivate(self, sh):\n",
    "            self.seen_events[\"OnSheetDeactivate\"] = None\n",
    "        def OnSheetBeforeDoubleClick(self, Sh, Target, Cancel):\n",
    "            if Target.Column % 2 == 0:\n",
    "                print \"You can double-click there...\"\n",
    "            else:\n",
    "                print \"You can not double-click there...\"\n",
    "            # This function is a void, so the result ends up in\n",
    "            # the only ByRef - Cancel.\n",
    "                return 1\n",
    "\n",
    "    class WorkbookEvents:\n",
    "        def OnActivate(self):\n",
    "            print \"workbook OnActivate\"\n",
    "        def OnBeforeRightClick(self, Target, Cancel):\n",
    "            print \"It's a Worksheet Event\"\n",
    "\n",
    "    e = DispatchWithEvents(\"Excel.Application\", ExcelEvents)\n",
    "    e.seen_events = {}\n",
    "    e.Visible=1\n",
    "    book = e.Workbooks.Add()\n",
    "    book = DispatchWithEvents(book, WorkbookEvents)\n",
    "    print \"Have book\", book\n",
    "#    sheet = e.Worksheets(1)\n",
    "#    sheet = DispatchWithEvents(sheet, WorksheetEvents)\n",
    "\n",
    "    print \"Double-click in a few of the Excel cells...\"\n",
    "    print \"Press any key when finished with Excel, or wait 10 seconds...\"\n",
    "    if not _WaitForFinish(e, 10):\n",
    "        e.Quit()\n",
    "    if not _CheckSeenEvents(e, [\"OnNewWorkbook\", \"OnWindowActivate\"]):\n",
    "        sys.exit(1)\n",
    "\n",
    "def TestWord():\n",
    "    class WordEvents:\n",
    "        def OnDocumentChange(self):\n",
    "            self.seen_events[\"OnDocumentChange\"] = None\n",
    "        def OnWindowActivate(self, doc, wn):\n",
    "            self.seen_events[\"OnWindowActivate\"] = None\n",
    "        def OnQuit(self):\n",
    "            self.seen_events[\"OnQuit\"] = None\n",
    "            stopEvent.set()\n",
    "\n",
    "    w = DispatchWithEvents(\"Word.Application\", WordEvents)\n",
    "    w.seen_events = {}\n",
    "    w.Visible = 1\n",
    "    w.Documents.Add()\n",
    "    print \"Press any key when finished with Word, or wait 10 seconds...\"\n",
    "    if not _WaitForFinish(w, 10):\n",
    "        w.Quit()\n",
    "    if not _CheckSeenEvents(w, [\"OnDocumentChange\", \"OnWindowActivate\"]):\n",
    "        sys.exit(1)\n",
    "\n",
    "def _WaitForFinish(ob, timeout):\n",
    "    end = time.time() + timeout\n",
    "    while 1:\n",
    "        if msvcrt.kbhit():\n",
    "            msvcrt.getch()\n",
    "            break\n",
    "        pythoncom.PumpWaitingMessages()\n",
    "        stopEvent.wait(.2)\n",
    "        if stopEvent.isSet():\n",
    "            stopEvent.clear()\n",
    "            break\n",
    "        try:\n",
    "            if not ob.Visible:\n",
    "                # Gone invisible - we need to pretend we timed\n",
    "                # out, so the app is quit.\n",
    "                return 0\n",
    "        except pythoncom.com_error:\n",
    "            # Excel is busy (eg, editing the cell) - ignore\n",
    "            pass\n",
    "        if time.time() > end:\n",
    "            return 0\n",
    "    return 1\n",
    "\n",
    "def _CheckSeenEvents(o, events):\n",
    "    rc = 1\n",
    "    for e in events:\n",
    "        if not o.seen_events.has_key(e):\n",
    "            print \"ERROR: Expected event did not trigger\", e\n",
    "            rc = 0\n",
    "    return rc\n",
    "\n",
    "def test():\n",
    "    import sys\n",
    "    if \"noword\" not in sys.argv[1:]:\n",
    "        TestWord()\n",
    "    if \"noexcel\" not in sys.argv[1:]:\n",
    "        TestExcel()\n",
    "    print \"Word and Excel event tests passed.\"\n",
    "\n",
    "if __name__=='__main__':\n",
    "    test()"
   ],
   "metadata": {
    "collapsed": false,
    "pycharm": {
     "name": "#%%\n"
    }
   }
  }
 ],
 "metadata": {
  "kernelspec": {
   "display_name": "Python 3",
   "language": "python",
   "name": "python3"
  },
  "language_info": {
   "codemirror_mode": {
    "name": "ipython",
    "version": 2
   },
   "file_extension": ".py",
   "mimetype": "text/x-python",
   "name": "python",
   "nbconvert_exporter": "python",
   "pygments_lexer": "ipython2",
   "version": "2.7.6"
  }
 },
 "nbformat": 4,
 "nbformat_minor": 0
}