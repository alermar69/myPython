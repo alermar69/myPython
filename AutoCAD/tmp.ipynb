{
 "cells": [
  {
   "cell_type": "code",
   "execution_count": 1,
   "outputs": [],
   "source": [
    "# import ui as ui\n",
    "import win32com.client\n",
    "import pythoncom\n",
    "import os\n",
    "\n",
    "import pandas as pd\n",
    "import numpy as np\n",
    "import time\n",
    "\n",
    "# from PyQt5 import QtCore, QtWidgets\n",
    "\n",
    "import logging"
   ],
   "metadata": {
    "collapsed": false,
    "ExecuteTime": {
     "start_time": "2024-02-20T20:45:28.871279Z",
     "end_time": "2024-02-20T20:45:32.443375Z"
    }
   }
  },
  {
   "cell_type": "code",
   "execution_count": 2,
   "outputs": [],
   "source": [
    "app = win32com.client.Dispatch(\"AutoCAD.Application\")\n",
    "doc = app.ActiveDocument\n",
    "model = doc.ModelSpace"
   ],
   "metadata": {
    "collapsed": false,
    "ExecuteTime": {
     "start_time": "2024-02-20T20:47:15.576624Z",
     "end_time": "2024-02-20T20:47:15.677201Z"
    }
   }
  },
  {
   "cell_type": "code",
   "execution_count": 3,
   "outputs": [],
   "source": [
    "ls = []\n",
    "for ob in model:\n",
    "    ls.append([ob.Handle, ob.EntityName])\n",
    "df_ent_type = pd.DataFrame(ls, columns=['handle', 'entity_name'])"
   ],
   "metadata": {
    "collapsed": false,
    "ExecuteTime": {
     "start_time": "2024-02-20T21:21:07.692324Z",
     "end_time": "2024-02-20T21:21:07.864361Z"
    }
   }
  },
  {
   "cell_type": "code",
   "execution_count": 4,
   "outputs": [],
   "source": [
    "df = df_ent_type[df_ent_type['entity_name']=='AcDbTable']"
   ],
   "metadata": {
    "collapsed": false,
    "ExecuteTime": {
     "start_time": "2024-02-20T21:22:18.132466Z",
     "end_time": "2024-02-20T21:22:18.252402Z"
    }
   }
  },
  {
   "cell_type": "code",
   "execution_count": 5,
   "outputs": [
    {
     "data": {
      "text/plain": "   handle entity_name\n1   10C25   AcDbTable\n12  11838   AcDbTable",
      "text/html": "<div>\n<style scoped>\n    .dataframe tbody tr th:only-of-type {\n        vertical-align: middle;\n    }\n\n    .dataframe tbody tr th {\n        vertical-align: top;\n    }\n\n    .dataframe thead th {\n        text-align: right;\n    }\n</style>\n<table border=\"1\" class=\"dataframe\">\n  <thead>\n    <tr style=\"text-align: right;\">\n      <th></th>\n      <th>handle</th>\n      <th>entity_name</th>\n    </tr>\n  </thead>\n  <tbody>\n    <tr>\n      <th>1</th>\n      <td>10C25</td>\n      <td>AcDbTable</td>\n    </tr>\n    <tr>\n      <th>12</th>\n      <td>11838</td>\n      <td>AcDbTable</td>\n    </tr>\n  </tbody>\n</table>\n</div>"
     },
     "execution_count": 5,
     "metadata": {},
     "output_type": "execute_result"
    }
   ],
   "source": [
    "df"
   ],
   "metadata": {
    "collapsed": false,
    "ExecuteTime": {
     "start_time": "2024-02-20T21:22:22.479186Z",
     "end_time": "2024-02-20T21:22:22.544200Z"
    }
   }
  },
  {
   "cell_type": "code",
   "execution_count": 11,
   "outputs": [],
   "source": [
    "b1 = model.Database.HandleToObject(df.iloc[1,0])"
   ],
   "metadata": {
    "collapsed": false,
    "ExecuteTime": {
     "start_time": "2024-02-20T21:30:26.913407Z",
     "end_time": "2024-02-20T21:30:26.986421Z"
    }
   }
  },
  {
   "cell_type": "code",
   "execution_count": 38,
   "outputs": [
    {
     "data": {
      "text/plain": "       bm   em1 em2              sm\n0      Мн    М1  До                \n1      Мз    М7  До                \n2      М1  М203  До        -1/3, -5\n3      М1   М11  До        -1/3, +5\n4      М1   М13  До            +1/3\n..    ...   ...  ..             ...\n289  М216  М218  За            -212\n290  М216  М206  До            +212\n291  М218  201П  На        -204/206\n292  М218  202П  На  +204/206, +208\n293  М218  203П  На  +204/206, -208\n\n[294 rows x 4 columns]",
      "text/html": "<div>\n<style scoped>\n    .dataframe tbody tr th:only-of-type {\n        vertical-align: middle;\n    }\n\n    .dataframe tbody tr th {\n        vertical-align: top;\n    }\n\n    .dataframe thead th {\n        text-align: right;\n    }\n</style>\n<table border=\"1\" class=\"dataframe\">\n  <thead>\n    <tr style=\"text-align: right;\">\n      <th></th>\n      <th>bm</th>\n      <th>em1</th>\n      <th>em2</th>\n      <th>sm</th>\n    </tr>\n  </thead>\n  <tbody>\n    <tr>\n      <th>0</th>\n      <td>Мн</td>\n      <td>М1</td>\n      <td>До</td>\n      <td></td>\n    </tr>\n    <tr>\n      <th>1</th>\n      <td>Мз</td>\n      <td>М7</td>\n      <td>До</td>\n      <td></td>\n    </tr>\n    <tr>\n      <th>2</th>\n      <td>М1</td>\n      <td>М203</td>\n      <td>До</td>\n      <td>-1/3, -5</td>\n    </tr>\n    <tr>\n      <th>3</th>\n      <td>М1</td>\n      <td>М11</td>\n      <td>До</td>\n      <td>-1/3, +5</td>\n    </tr>\n    <tr>\n      <th>4</th>\n      <td>М1</td>\n      <td>М13</td>\n      <td>До</td>\n      <td>+1/3</td>\n    </tr>\n    <tr>\n      <th>...</th>\n      <td>...</td>\n      <td>...</td>\n      <td>...</td>\n      <td>...</td>\n    </tr>\n    <tr>\n      <th>289</th>\n      <td>М216</td>\n      <td>М218</td>\n      <td>За</td>\n      <td>-212</td>\n    </tr>\n    <tr>\n      <th>290</th>\n      <td>М216</td>\n      <td>М206</td>\n      <td>До</td>\n      <td>+212</td>\n    </tr>\n    <tr>\n      <th>291</th>\n      <td>М218</td>\n      <td>201П</td>\n      <td>На</td>\n      <td>-204/206</td>\n    </tr>\n    <tr>\n      <th>292</th>\n      <td>М218</td>\n      <td>202П</td>\n      <td>На</td>\n      <td>+204/206, +208</td>\n    </tr>\n    <tr>\n      <th>293</th>\n      <td>М218</td>\n      <td>203П</td>\n      <td>На</td>\n      <td>+204/206, -208</td>\n    </tr>\n  </tbody>\n</table>\n<p>294 rows × 4 columns</p>\n</div>"
     },
     "execution_count": 38,
     "metadata": {},
     "output_type": "execute_result"
    }
   ],
   "source": [
    "ls = []\n",
    "bm = ''\n",
    "sm = ''\n",
    "for r in range(2, b1.Rows):\n",
    "    em = b1.GetCellValue(r, 4)\n",
    "    if em is not None:\n",
    "        bm1 = b1.GetCellValue(r, 2)\n",
    "        if bm1 is not None:\n",
    "            bm = bm1\n",
    "\n",
    "\n",
    "        if em[:2] == 'До':\n",
    "            em1 = em[14:]\n",
    "            em2 = 'До'\n",
    "        if em[:2] == 'За':\n",
    "            em1 = em[13:]\n",
    "            em2 = 'За'\n",
    "        if em[:2] == 'На':\n",
    "            em1 = em[9:]\n",
    "            em2 = 'На'\n",
    "\n",
    "\n",
    "        sm = b1.GetCellValue(r, 5)\n",
    "        if sm is None:\n",
    "            sm = ''\n",
    "\n",
    "        ls.append([bm,em1,em2,sm])\n",
    "\n",
    "df1 = pd.DataFrame(ls, columns=['bm', 'em', 'em2', 'sm'])\n",
    "df1"
   ],
   "metadata": {
    "collapsed": false,
    "ExecuteTime": {
     "start_time": "2024-02-20T22:25:45.873546Z",
     "end_time": "2024-02-20T22:25:46.093982Z"
    }
   }
  },
  {
   "cell_type": "code",
   "execution_count": 34,
   "outputs": [
    {
     "data": {
      "text/plain": "'1 АП'"
     },
     "execution_count": 34,
     "metadata": {},
     "output_type": "execute_result"
    }
   ],
   "source": [
    "s1 = 'На колію 1 АП'\n",
    "s1[9:]"
   ],
   "metadata": {
    "collapsed": false,
    "ExecuteTime": {
     "start_time": "2024-02-20T22:01:30.274940Z",
     "end_time": "2024-02-20T22:01:30.336952Z"
    }
   }
  },
  {
   "cell_type": "code",
   "execution_count": null,
   "outputs": [],
   "source": [],
   "metadata": {
    "collapsed": false
   }
  },
  {
   "cell_type": "code",
   "execution_count": null,
   "outputs": [],
   "source": [],
   "metadata": {
    "collapsed": false
   }
  },
  {
   "cell_type": "code",
   "execution_count": null,
   "outputs": [],
   "source": [],
   "metadata": {
    "collapsed": false
   }
  },
  {
   "cell_type": "code",
   "execution_count": 2,
   "outputs": [],
   "source": [
    "# логирование\n",
    "logging.basicConfig(filename='log.txt', level=logging.DEBUG, format='%(asctime)s - %(levelname)s - %(message)s')\n",
    "# logging.debug('Start of program')\n",
    "# logging.info('So should this')\n",
    "# logging.warning('And this, too')"
   ],
   "metadata": {
    "collapsed": false
   }
  },
  {
   "cell_type": "code",
   "execution_count": 3,
   "outputs": [],
   "source": [
    "class Acad:\n",
    "    def __init__(self):\n",
    "\n",
    "\n",
    "\n",
    "\n",
    "\n",
    "        self.app = None\n",
    "        self.doc = None\n",
    "        self.model = None\n",
    "\n",
    "        self.ls_contact = ['1', '2', '3', '4', '11', '12', '13', '21', '22', '23', '31', '32', '33', '41', '42', '43',\n",
    "                           '51', '52', '53', '61', '62', '63', '71', '72', '73', '81', '82', '83', '111', '112', '113',\n",
    "                           '121', '122', '123']\n",
    "        self.ds_st_b = {\n",
    "            'df_101': ['В19', 'В110', 'В111', 'В112', 'В29', 'В210', 'В211', 'В212', 'В18', 'В28', ],\n",
    "            'df_C': ['В16', 'В17', 'В26', 'В27', 'В25'],\n",
    "            'df_contacts': ['В18', 'В28'],\n",
    "            'df_bok': ['Б9', 'Б10', 'Б11', 'Б12', 'Б4', 'Б3', 'Б2', 'Б1'],\n",
    "        }\n",
    "        self.ds_st_v_row_col = {\n",
    "                            '1': (1, 0),\n",
    "                            '2': (1, 2),\n",
    "                            '3': (3, 0),\n",
    "                            '4': (3, 2),\n",
    "                            '5': (5, 0),\n",
    "                            '6': (5, 2),\n",
    "                            '7': (7, 0),\n",
    "                            '8': (7, 2),\n",
    "                            '9': (9, 0),\n",
    "                            '10': (9, 2),\n",
    "                            '11': (11, 0),\n",
    "                            '12': (11, 2),\n",
    "                            '13': (13, 0),\n",
    "                            '14': (13, 2),\n",
    "                            '15': (15, 0),\n",
    "                            '16': (15, 2),\n",
    "                            '17': (17, 0),\n",
    "                            '18': (17, 2),\n",
    "                            '19': (19, 0),\n",
    "                            '20': (19, 2),\n",
    "                        }\n",
    "        self.df_st_shina_montag = pd.DataFrame(columns=['st', 'sh', 'loc', 'contact', 'polka'])\n",
    "        self.ls_st_name = ['1', '2', '3']\n",
    "        self.ls_st_sh_name = ['М', 'П', 'МСХ', 'СХМ']\n",
    "\n",
    "\n",
    "        self.docs_open = {}\n",
    "        self.circuit_ls_name = None\n",
    "        self.montag_ds_name = None\n",
    "\n",
    "        self._init_docs()\n",
    "        self._init_acad()\n",
    "\n",
    "        self.get_docs()\n",
    "\n",
    "        self.df_ent_type = None\n",
    "        self.df_B = None\n",
    "        self.df_C = None\n",
    "        self.df_101 = None\n",
    "        self.df_st_b = None\n",
    "\n",
    "        self.df_poly = None\n",
    "        self.df_line = None\n",
    "        self.df_circle = None\n",
    "        self.df_mtext = None\n",
    "        self.df_text = None\n",
    "        self.df_table = None\n",
    "\n",
    "        self.df_st_table = None\n",
    "        self.df_st_v_table = None\n",
    "        self.df_st_sh_table = None\n",
    "        self.df_sx_contacts = None\n",
    "        self.df_sx_sh_circle = None\n",
    "\n",
    "    def _init_acad(self):\n",
    "        self.app = win32com.client.Dispatch(\"AutoCAD.Application\")\n",
    "        if not self.app.Visible:\n",
    "            self.app.Visible = True\n",
    "\n",
    "        # for doc in self.app.Documents:\n",
    "        #     doc.Close(False)\n",
    "\n",
    "        # self.load_docs()\n",
    "\n",
    "    def _init(self):\n",
    "        self.doc = self.app.ActiveDocument\n",
    "        self.model = self.doc.ModelSpace\n",
    "\n",
    "    def _set_doc(self, name_sxema):\n",
    "        try:\n",
    "            if name_sxema in self.docs_open:\n",
    "                self.doc = self.docs_open[name_sxema]\n",
    "                self.model = self.doc.ModelSpace\n",
    "            else:\n",
    "                self.doc = self.open_doc(name_sxema)\n",
    "                time.sleep(2)\n",
    "\n",
    "            self.load_entity_from_csv()\n",
    "            # time.sleep(2)\n",
    "        except Exception as e:\n",
    "            logging.error(f'Попытка установить документ {name_sxema} - неудачно {e}')\n",
    "\n",
    "\n",
    "    def _init_docs(self):\n",
    "        self.montag_ds_name = {\n",
    "            '1': 'D:\\\\Фабричная\\\\Фабричная\\\\Монтажные схемы\\\\2517-АТР.2 л.18 Статив 1.dwg',\n",
    "            '2': 'D:\\\\Фабричная\\\\Фабричная\\\\Монтажные схемы\\\\2517-АТР.2 л.19 Статив 2.dwg',\n",
    "            '3':  'D:\\\\Фабричная\\\\Фабричная\\\\Монтажные схемы\\\\2517-АТР.2 л.20 Статив 3.dwg',\n",
    "        }\n",
    "\n",
    "        self.circuit_ls_name = [\n",
    "             'D:\\\\Фабричная\\\\Фабричная\\\\Принципиальные схемы\\\\2517-АТР.2 л.3 Схемы РЦ Неч..dwg',\n",
    "             'D:\\\\Фабричная\\\\Фабричная\\\\Принципиальные схемы\\\\2517-АТР.2 л.4 Схемы РЦ Чет..dwg',\n",
    "             'D:\\\\Фабричная\\\\Фабричная\\\\Принципиальные схемы\\\\2517-АТР.2 л.9 Переезды.dwg',\n",
    "             'D:\\\\Фабричная\\\\Фабричная\\\\Принципиальные схемы\\\\2517-АТР.2 л.10 Схемы увязок.dwg',\n",
    "             'D:\\\\Фабричная\\\\Фабричная\\\\Принципиальные схемы\\\\2517-АТР.2 л.11 Ограждение.dwg',\n",
    "             'D:\\\\Фабричная\\\\Фабричная\\\\Принципиальные схемы\\\\2517-АТР.2 л.12 Загальні схеми.dwg',\n",
    "             'D:\\\\Фабричная\\\\Фабричная\\\\Принципиальные схемы\\\\2517-АТР.2 л.13 Контр.предохр..dwg'\n",
    "        ]\n",
    "\n",
    "\n",
    "    def add_circle(self, center, radius):\n",
    "        self.model.AddCircle(self.a_point(*center), radius)\n",
    "\n",
    "\n",
    "    def read_entity_to_csv_all_docs(self):\n",
    "        self.get_docs()\n",
    "        for doc in self.docs_open.values():\n",
    "            self.doc = doc\n",
    "            self.model = self.doc.ModelSpace\n",
    "            self._read_ent_type()\n",
    "            self.read_entity_to_csv()\n",
    "\n",
    "\n",
    "    def read_entity_to_csv(self):\n",
    "        self._read_polylines()\n",
    "        self._read_lines()\n",
    "        self._read_circles()\n",
    "        self._read_mtexts()\n",
    "        self._read_texts()\n",
    "        self._read_tables()\n",
    "\n",
    "    def _read_polylines(self):\n",
    "        if self.df_ent_type is None:\n",
    "            self._read_ent_type()\n",
    "\n",
    "        df = self.df_ent_type[self.df_ent_type['entity_name']=='AcDbPolyline']\n",
    "        if len(df) == 0:\n",
    "            return None\n",
    "        ls = []\n",
    "        for h in df['handle'].values:\n",
    "            b1 = self.get_obj(h)\n",
    "            d = {\n",
    "                'h': h,\n",
    "                'length': b1.Length,\n",
    "                'x1': round(b1.Coordinates[0], 2),\n",
    "                'y1': round(b1.Coordinates[1], 2),\n",
    "                'x2': round(b1.Coordinates[-2], 2),\n",
    "                'y2': round(b1.Coordinates[-1], 2),\n",
    "                'points': b1.Coordinates,\n",
    "                'layer': b1.Layer,\n",
    "                'color': b1.color,\n",
    "                'linetype': b1.Linetype,\n",
    "                'closed': b1.Closed,\n",
    "                'area': b1.Area,\n",
    "                'linetype_scale': b1.LinetypeScale,\n",
    "                'lineweight': b1.Lineweight,\n",
    "                'material': b1.Material,\n",
    "                'thickness': b1.Thickness,\n",
    "            }\n",
    "            ls.append(d)\n",
    "\n",
    "        df = pd.DataFrame(ls)\n",
    "\n",
    "        df.to_csv(self._get_path_code(self.doc, prefix='polylines', ext='.csv', folder='csv/'), index=False, sep='$')\n",
    "\n",
    "    def _read_lines(self):\n",
    "        if self.df_ent_type is None:\n",
    "            self._read_ent_type()\n",
    "\n",
    "        df = self.df_ent_type[self.df_ent_type['entity_name']=='AcDbLine']\n",
    "        if len(df) == 0:\n",
    "            return None\n",
    "        ls = []\n",
    "        for h in df['handle'].values:\n",
    "            b1 = self.get_obj(h)\n",
    "            d = {\n",
    "                'h': h,\n",
    "                'length': b1.Length,\n",
    "                'x1': round(b1.StartPoint[0], 2),\n",
    "                'y1': round(b1.StartPoint[1], 2),\n",
    "                'x2': round(b1.EndPoint[0], 2),\n",
    "                'y2': round(b1.EndPoint[1], 2),\n",
    "                'layer': b1.Layer,\n",
    "                'color': b1.color,\n",
    "                'linetype': b1.Linetype,\n",
    "                'linetype_scale': b1.LinetypeScale,\n",
    "                'lineweight': b1.Lineweight,\n",
    "                'material': b1.Material,\n",
    "                'thickness': b1.Thickness,\n",
    "            }\n",
    "            ls.append(d)\n",
    "\n",
    "        df = pd.DataFrame(ls)\n",
    "\n",
    "        df.to_csv(self._get_path_code(self.doc, prefix='lines', ext='.csv', folder='csv/'), index=False, sep='$')\n",
    "\n",
    "    def _read_circles(self):\n",
    "        if self.df_ent_type is None:\n",
    "            self._read_ent_type()\n",
    "\n",
    "        df = self.df_ent_type[self.df_ent_type['entity_name']=='AcDbCircle']\n",
    "        if len(df) == 0:\n",
    "            return None\n",
    "        ls = []\n",
    "        for h in df['handle'].values:\n",
    "            b1 = self.get_obj(h)\n",
    "            d = {\n",
    "                'h': h,\n",
    "                'r': b1.Radius,\n",
    "                'x': round(b1.Center[0], 2),\n",
    "                'y': round(b1.Center[1], 2),\n",
    "                'layer': b1.Layer,\n",
    "                'color': b1.color,\n",
    "                'linetype': b1.Linetype,\n",
    "                'linetype_scale': b1.LinetypeScale,\n",
    "                'lineweight': b1.Lineweight,\n",
    "                'material': b1.Material,\n",
    "            }\n",
    "            ls.append(d)\n",
    "\n",
    "        df = pd.DataFrame(ls)\n",
    "\n",
    "        df.to_csv(self._get_path_code(self.doc, prefix='circles', ext='.csv', folder='csv/'), index=False, sep='$')\n",
    "\n",
    "    def _read_mtexts(self):\n",
    "        if self.df_ent_type is None:\n",
    "            self._read_ent_type()\n",
    "\n",
    "        df = self.df_ent_type[self.df_ent_type['entity_name']=='AcDbMText']\n",
    "        if len(df) == 0:\n",
    "            return None\n",
    "        ls = []\n",
    "        for h in df['handle'].values:\n",
    "            b1 = self.get_obj(h)\n",
    "            d = {\n",
    "                'h': h,\n",
    "                'txt': b1.TextString,\n",
    "                'height': b1.Height,\n",
    "                'width': b1.Width,\n",
    "                'x': round(b1.InsertionPoint[0], 2),\n",
    "                'y': round(b1.InsertionPoint[1], 2),\n",
    "                'rot': b1.Rotation,\n",
    "                'layer': b1.Layer,\n",
    "                'style': b1.StyleName,\n",
    "                'color': b1.color,\n",
    "                'linetype': b1.Linetype,\n",
    "                'linetype_scale': b1.LinetypeScale,\n",
    "                'lineweight': b1.Lineweight,\n",
    "                'material': b1.Material,\n",
    "            }\n",
    "            ls.append(d)\n",
    "\n",
    "        df = pd.DataFrame(ls)\n",
    "\n",
    "        df.to_csv(self._get_path_code(self.doc, prefix='mtexts', ext='.csv', folder='csv/'), index=False, sep='$')\n",
    "\n",
    "    def _read_texts(self):\n",
    "        if self.df_ent_type is None:\n",
    "            self._read_ent_type()\n",
    "\n",
    "        df = self.df_ent_type[self.df_ent_type['entity_name']=='AcDbText']\n",
    "        if len(df) == 0:\n",
    "            return None\n",
    "        ls = []\n",
    "        for h in df['handle'].values:\n",
    "            b1 = self.get_obj(h)\n",
    "            d = {\n",
    "                'h': h,\n",
    "                'txt': b1.TextString,\n",
    "                'height': b1.Height,\n",
    "                'x': round(b1.InsertionPoint[0], 2),\n",
    "                'y': round(b1.InsertionPoint[1], 2),\n",
    "                'rot': b1.Rotation,\n",
    "                'layer': b1.Layer,\n",
    "                'style': b1.StyleName,\n",
    "                'color': b1.color,\n",
    "                'linetype': b1.Linetype,\n",
    "                'linetype_scale': b1.LinetypeScale,\n",
    "                'lineweight': b1.Lineweight,\n",
    "                'material': b1.Material,\n",
    "            }\n",
    "            ls.append(d)\n",
    "\n",
    "        df = pd.DataFrame(ls)\n",
    "\n",
    "        df.to_csv(self._get_path_code(self.doc, prefix='texts', ext='.csv', folder='csv/'), index=False, sep='$')\n",
    "\n",
    "    def _read_tables(self):\n",
    "        if self.df_ent_type is None:\n",
    "            self._read_ent_type()\n",
    "\n",
    "        df = self.df_ent_type[self.df_ent_type['entity_name']=='AcDbTable']\n",
    "        if len(df) == 0:\n",
    "            return None\n",
    "        ls = []\n",
    "        for h in df['handle'].values:\n",
    "            b1 = self.get_obj(h)\n",
    "            d = {\n",
    "                'h': h,\n",
    "                'height': b1.Height,\n",
    "                'width': b1.Width,\n",
    "                'rows': b1.Rows,\n",
    "                'columns': b1.Columns,\n",
    "                'x': round(b1.InsertionPoint[0], 2),\n",
    "                'y': round(b1.InsertionPoint[1], 2),\n",
    "                'layer': b1.Layer,\n",
    "                'style': b1.StyleName,\n",
    "                'color': b1.color,\n",
    "                'linetype': b1.Linetype,\n",
    "                'linetype_scale': b1.LinetypeScale,\n",
    "                'lineweight': b1.Lineweight,\n",
    "                'material': b1.Material,\n",
    "            }\n",
    "            ls.append(d)\n",
    "\n",
    "        df = pd.DataFrame(ls)\n",
    "\n",
    "        df.to_csv(self._get_path_code(self.doc, prefix='tables', ext='.csv', folder='csv/'), index=False, sep='$')\n",
    "\n",
    "    def create_df_st_table(self):\n",
    "        self._create_df_st_table()\n",
    "        self._create_df_st_v_table()\n",
    "        self._create_df_st_sh_table()\n",
    "\n",
    "\n",
    "    def _create_df_st_table(self):\n",
    "        ls = []\n",
    "        df = pd.DataFrame(ls, columns=['st', 'pol', 'rd', 'k', 'r', 'c', 'h'])\n",
    "\n",
    "        for st, name_sx in self.montag_ds_name.items():\n",
    "            self._set_doc(name_sx)\n",
    "            for h in self.df_table['h'].tolist():\n",
    "                b1 = self.get_obj(h)\n",
    "                xy = b1.InsertionPoint\n",
    "                df1 = self.find_text(ad.df_text, xy[0], xy[1], -300, 390, -245, 290)\n",
    "                df1 = self.fdf_match(df1, r'^Полка')\n",
    "                polka = self.fdf_f_cols(df1, ['txt'])\n",
    "\n",
    "                if polka is not None:\n",
    "\n",
    "                    polka = polka.split(' ')[-1]\n",
    "\n",
    "                    for c in range(b1.Columns):\n",
    "                        ls1 = []\n",
    "                        v1 = b1.GetCellValue(0, c)\n",
    "                        if v1 is None:\n",
    "                            continue\n",
    "                        for r in range(2, b1.Rows):\n",
    "                            v2 = b1.GetCellValue(r, c)\n",
    "                            if v2 is None:\n",
    "                                continue\n",
    "                            ls1.append([st, polka, v1, v2, r, c, h])\n",
    "                        df = pd.concat([df, pd.DataFrame(ls1, columns=['st', 'pol', 'rd', 'k', 'r', 'c', 'h'])])\n",
    "\n",
    "        self.df_st_table = df.reset_index(drop=True)\n",
    "        self.df_st_table = df.astype({'st': 'str', 'pol': 'str', 'rd': 'str', 'k': 'str'})\n",
    "        self.df_st_table.to_csv(self._get_path_code(prefix='st_table', ext='.csv', folder='csv/'), index=False, sep='$')\n",
    "\n",
    "    def _create_df_st_v_table(self):\n",
    "\n",
    "        ls = []\n",
    "        for st, name_sxema in self.montag_ds_name.items():\n",
    "            self._set_doc(name_sxema)\n",
    "            df = ad.fdf_filter(self.df_table, ('rows', 21), ('columns', 3))\n",
    "            for i in range(len(df)):\n",
    "                h = df.iloc[i]['h']\n",
    "                b1 = ad.get_obj(h)\n",
    "                name = b1.GetCellValue(0, 1)\n",
    "                ls.append([st, name, h])\n",
    "        self.df_st_v_table = pd.DataFrame(ls, columns=['st', 'name', 'h'])\n",
    "        self.df_st_v_table.to_csv(self._get_path_code(prefix='st_v_table', ext='.csv', folder='csv/'), index=False, sep='$')\n",
    "\n",
    "    def _create_df_st_sh_table(self):\n",
    "\n",
    "        ls = []\n",
    "        for st, name_sxema in self.montag_ds_name.items():\n",
    "            self._set_doc(name_sxema)\n",
    "            df = ad.fdf_filter(self.df_table, ('rows', 32), ('columns', 2))\n",
    "            for i in range(len(df)):\n",
    "                h = df.iloc[i]['h']\n",
    "                b1 = ad.get_obj(h)\n",
    "                name = b1.GetCellValue(0, 1) #'2Ш-П'\n",
    "                pol, pit = name.split('Ш-')\n",
    "                ls.append([st, pol, pit, name, h])\n",
    "        self.df_st_sh_table = pd.DataFrame(ls, columns=['st', 'pol', 'pit', 'name', 'h'])\n",
    "        # self.df_st_sh_table = self.df_st_sh_table.groupby(['st', 'pit'])['pol'].agg(lambda x: list(x)).reset_index()\n",
    "        self.df_st_sh_table.to_csv(self._get_path_code(prefix='st_sh_table', ext='.csv', folder='csv/'), index=False, sep='$')\n",
    "\n",
    "\n",
    "    def load_entity_from_csv(self):\n",
    "        try:\n",
    "            self.df_poly = self._load_entity_from_csv('polylines')\n",
    "            self.df_line = self._load_entity_from_csv('lines')\n",
    "            self.df_circle = self._load_entity_from_csv('circles')\n",
    "            self.df_mtext = self._load_entity_from_csv('mtexts')\n",
    "            self.df_text = self._load_entity_from_csv('texts')\n",
    "            self.df_table = self._load_entity_from_csv('tables')\n",
    "        except Exception as e:\n",
    "            logging.error(f'load_entity_from_csv: {e}')\n",
    "\n",
    "    def load_all_data_from_csv(self):\n",
    "        dict_dtypes={'st': str, 'pol': str, 'rd': str, 'k': str,}\n",
    "        self.df_st_table = self._load_data_from_csv('st_table', dict_dtypes=dict_dtypes)\n",
    "        self.df_st_v_table = self._load_data_from_csv('st_v_table', dict_dtypes=dict_dtypes)\n",
    "        self.df_st_sh_table = self._load_data_from_csv('st_sh_table', dict_dtypes=dict_dtypes)\n",
    "        self.df_sx_contacts = self._load_data_from_csv('sx_contacts', dict_dtypes=dict_dtypes)\n",
    "        self.df_B = self._load_data_from_csv('sx_B', dict_dtypes=dict_dtypes)\n",
    "        self.df_101 = self._load_data_from_csv('sx_101', dict_dtypes=dict_dtypes)\n",
    "        self.df_C = self._load_data_from_csv('sx_C', dict_dtypes=dict_dtypes)\n",
    "        self.df_sx_sh_circle = self._load_data_from_csv('sx_sh_circle', dict_dtypes=dict_dtypes)\n",
    "\n",
    "    def _load_entity_from_csv(self, prefix):\n",
    "        path = self._get_path_code(self.doc, prefix=prefix, ext='.csv', folder='csv/')\n",
    "        if os.path.exists(path):\n",
    "            df = pd.read_csv(path, sep='$')\n",
    "            return df\n",
    "        else:\n",
    "            return None\n",
    "\n",
    "    def _load_data_from_csv(self, prefix, dict_dtypes=None):\n",
    "        path = self._get_path_code(prefix=prefix, ext='.csv', folder='csv/')\n",
    "        if os.path.exists(path):\n",
    "            df = pd.read_csv(path, sep='$', dtype=dict_dtypes)\n",
    "            return df\n",
    "        else:\n",
    "            return None\n",
    "\n",
    "    # def load_polylines(self):\n",
    "    #     self.df_poly = pd.read_csv(self._get_path_code(prefix='polylines', ext='.csv', folder='csv/'), sep='$')\n",
    "    #\n",
    "    # def load_lines(self):\n",
    "    #     self.df_poly = pd.read_csv(self._get_path_code(prefix='lines', ext='.csv', folder='csv/'), sep='$')\n",
    "    #\n",
    "    # def load_mtexts(self):\n",
    "    #     self.df_poly = pd.read_csv(self._get_path_code(prefix='mtexts', ext='.csv', folder='csv/'), sep='$')\n",
    "    #\n",
    "    # def load_tables(self):\n",
    "    #     self.df_poly = pd.read_csv(self._get_path_code(prefix='tables', ext='.csv', folder='csv/'), sep='$')\n",
    "\n",
    "    def _get_path_code(self, doc=None, prefix='', suffix='', ext='', folder=''):\n",
    "        if doc is not None:\n",
    "            fullname_file = doc.FullName.replace('\\\\', '$').replace(':', '~')\n",
    "            path = f'{folder}{prefix}%{fullname_file}%{suffix}{ext}'\n",
    "        else:\n",
    "            path = f'{folder}{prefix}{suffix}{ext}'\n",
    "        return path\n",
    "\n",
    "    def _read_ent_type(self):\n",
    "        ls = []\n",
    "        for ob in self.model:\n",
    "            ls.append([ob.Handle, ob.EntityName])\n",
    "        self.df_ent_type = pd.DataFrame(ls, columns=['handle', 'entity_name'])\n",
    "\n",
    "    def a_point(self, x, y, z=0):\n",
    "        return win32com.client.VARIANT(pythoncom.VT_ARRAY | pythoncom.VT_R8, (x, y, z))\n",
    "\n",
    "    def get_obj(self, handle, doc=None):\n",
    "        if doc is None:\n",
    "            ob1 = self.model.Database.HandleToObject(handle)\n",
    "        else:\n",
    "            ob1 = doc.Database.HandleToObject(handle)\n",
    "        return ob1\n",
    "\n",
    "\n",
    "    def get_docs(self):\n",
    "        self.docs_open = {}\n",
    "        for d1 in self.app.Documents:\n",
    "            self.docs_open[d1.FullName] = d1\n",
    "\n",
    "    def load_docs(self, flag='cm'):\n",
    "        self.get_docs()\n",
    "\n",
    "        if flag == 'c' or flag == 'cm':\n",
    "            for d in self.circuit_ls_name:\n",
    "                self._load_dwg(d)\n",
    "        if flag == 'm' or flag == 'cm':\n",
    "            for d in self.montag_ds_name.values():\n",
    "                self._load_dwg(d)\n",
    "\n",
    "        # self.get_docs()\n",
    "        # time.sleep(1)\n",
    "        # self._init()\n",
    "\n",
    "    def _load_dwg(self, dwg_name):\n",
    "        doc = self.docs_open.get(dwg_name)\n",
    "        if doc is None:\n",
    "            doc = self.app.Documents.Open(dwg_name)\n",
    "            self.docs_open[dwg_name] = doc\n",
    "        return doc\n",
    "\n",
    "    def close_docs(self, flag='cm', save=False):\n",
    "        # self.get_docs()\n",
    "        if flag == 'c' or flag == 'cm':\n",
    "            for name_dwg in self.circuit_ls_name:\n",
    "                self._close_dwg(name_dwg, save=save)\n",
    "        if flag == 'm' or flag == 'cm':\n",
    "            for name_dwg in self.montag_ds_name.values():\n",
    "                self._close_dwg(name_dwg, save=save)\n",
    "        # self.get_docs()\n",
    "        # time.sleep(1)\n",
    "        # self._init()\n",
    "\n",
    "    def _close_dwg(self, dwg_name, save=False):\n",
    "        doc = self.docs_open.get(dwg_name)\n",
    "        if doc is not None:\n",
    "            doc.Close(save)\n",
    "            self.docs_open.pop(dwg_name)\n",
    "\n",
    "    def open_doc(self, path):\n",
    "        self.doc = self.docs_open.get(path)\n",
    "        if self.doc is None:\n",
    "            self.doc = self.app.Documents.Open(path)\n",
    "            self.docs_open[path] = self.doc\n",
    "        # self.doc = self.app.Documents.Open(path)\n",
    "        self.model = self.doc.ModelSpace\n",
    "\n",
    "\n",
    "\n",
    "    def find_text(self, df_poisk, x, y,  dx_left, dx_right, dy_up, dy_down,  col_name_text='txt',  lst_filter=None, lst_exclude=None, h=None):\n",
    "\n",
    "        df = df_poisk[(df_poisk['x'] >= x - dx_left) & (df_poisk['x'] <= x + dx_right) & (df_poisk['y'] >= y - dy_down) & (df_poisk['y'] <= y + dy_up)]\n",
    "\n",
    "        # исключить текущий объект\n",
    "        if h is not None:\n",
    "            df = df[df['h'] != h]\n",
    "\n",
    "        if lst_filter is not None:\n",
    "            # выбрать только объекты из фильтра\n",
    "            df = df[df[col_name_text].isin(lst_filter)]\n",
    "\n",
    "        if lst_exclude is not None:\n",
    "            # выбрать только объекты из фильтра\n",
    "            df = df[~df[col_name_text].isin(lst_exclude)]\n",
    "\n",
    "        return df\n",
    "\n",
    "    def find_cirle(self, df_poisk, x, y,  dx_left, dx_right, dy_up, dy_down, radius_lt=None, radius_gt=None, h=None):\n",
    "\n",
    "        df = df_poisk[(df_poisk['x'] >= x - dx_left) & (df_poisk['x'] <= x + dx_right) & (df_poisk['y'] >= y - dy_down) & (df_poisk['y'] <= y + dy_up)]\n",
    "        # выбрать только объекты с указанным радиусом\n",
    "        if radius_lt is not None:\n",
    "            df = df[df['r'] < radius_lt]\n",
    "        if radius_gt is not None:\n",
    "            df = df[df['r'] > radius_gt]\n",
    "\n",
    "        return df\n",
    "\n",
    "    def find_polyline(self, df_poisk, x, y,  dx_left, dx_right, dy_up, dy_down):\n",
    "        df = self.df_poly[(self.df_poly['x1'] >= x - dx_left) & (self.df_poly['x1'] <= x + dx_right) & (self.df_poly['y1'] >= y - dy_down) & (self.df_poly['y1'] <= y + dy_up)]\n",
    "\n",
    "        df1 = self.df_poly[(self.df_poly['x2'] >= x - dx_left) & (self.df_poly['x2'] <= x + dx_right) & (self.df_poly['y2'] >= y - dy_down) & (self.df_poly['y2'] <= y + dy_up)]\n",
    "\n",
    "        if len(df) != 0:\n",
    "            return df\n",
    "\n",
    "        if len(df1) != 0:\n",
    "            return df1\n",
    "\n",
    "    # Стативы--------------------------------------------------------------------------------------------------------------\n",
    "    def st_set_k(self, loc, k, val1=None, val2=None):\n",
    "        try:\n",
    "            if type(loc) == str:\n",
    "                st, p, r = self.get_loc(loc)\n",
    "            else:\n",
    "                st, p, r = loc\n",
    "            df1 = self.fdf_filter(self.df_st_table, ('st', st), ('pol', p), ('rd', r), ('k', k))\n",
    "            if len(df1) > 0:\n",
    "                b1 = self.docs_open[self.montag_ds_name[st]]\n",
    "                b2 = self.get_obj(df1.iloc[0]['h'], b1)\n",
    "                if val1 is not None:\n",
    "                    b2.SetCellValue(df1.iloc[0]['r'], df1.iloc[0]['c'] + 1, val1)\n",
    "                if val2 is not None:\n",
    "                    b2.SetCellValue(df1.iloc[0]['r'], df1.iloc[0]['c'] + 2, val2)\n",
    "            else:\n",
    "                print('Не найден объект в таблице')\n",
    "        except Exception as e:\n",
    "            logging.error('Ошибка в st_set_k: {}'.format(e))\n",
    "\n",
    "    def st_set_v(self, loc, val1=None, val2=None):\n",
    "        try:\n",
    "            st=None\n",
    "            s2 = loc.split('-')\n",
    "            if len(s2) == 3:\n",
    "                st, name, k = s2\n",
    "                k_row_col = self.ds_st_v_row_col[k]\n",
    "            elif len(s2) == 2:\n",
    "                name, k = s2\n",
    "            else:\n",
    "                logging.error('Не верный формат строки')\n",
    "\n",
    "            k_row_col = self.ds_st_v_row_col[k]\n",
    "            df1 = self.fdf_filter(self.df_st_v_table, ('st', st), ('name', name))\n",
    "            if len(df1) > 0:\n",
    "                b1 = self.docs_open[self.montag_ds_name[st]]\n",
    "                b2 = self.get_obj(df1.iloc[0]['h'], b1)\n",
    "                if val1 is not None:\n",
    "                    b2.SetCellValue(k_row_col[0], k_row_col[1], val1)\n",
    "                if val2 is not None:\n",
    "                    b2.SetCellValue(k_row_col[0] + 1, k_row_col[1], val2)\n",
    "            else:\n",
    "                logging.warning('Не найден объект в таблице')\n",
    "        except Exception as e:\n",
    "            logging.error('Ошибка в st_set_v: {}'.format(e))\n",
    "\n",
    "    def st_set_sh(self, st, pol, k, val1=None):\n",
    "        try:\n",
    "            df1 = self.fdf_filter(self.df_st_sh_table, ('st', st), ('pol', pol))\n",
    "            if len(df1) > 0:\n",
    "                b1 = self.docs_open[self.montag_ds_name[st]]\n",
    "                b2 = self.get_obj(df1.iloc[0]['h'], b1)\n",
    "                b2.SetCellValue(int(k), 0, val1)\n",
    "            else:\n",
    "                logging.warning('Не найден объект в таблице')\n",
    "        except Exception as e:\n",
    "            logging.error('Ошибка в st_set_v: {}'.format(e))\n",
    "\n",
    "\n",
    "    def txtdraw_replace(self, h, val, doc=None):\n",
    "        if doc is None:\n",
    "            doc = self.doc\n",
    "\n",
    "        b1 = self.get_obj(h, doc)\n",
    "        b1.TextString = val\n",
    "\n",
    "    def st_init_v(self):\n",
    "        ls_B = ['В15', 'В25', 'В16', 'В26', 'В17', 'В27', 'В18', 'В28', 'В19', 'В29', 'В110', 'В111', 'В112', 'В210',\n",
    "                'В211', 'В212', 'Б9', 'Б10', 'Б11', 'Б12', 'Б4', 'Б3', 'Б2', 'Б1']\n",
    "        ls_st = list(self.montag_ds_name.keys())\n",
    "        ls = []\n",
    "        for st in ls_st:\n",
    "            for b in ls_B:\n",
    "                for i in range(1, 21):\n",
    "                    ls.append([st, b, i])\n",
    "        self.df_st_b = pd.DataFrame(ls, columns=['st', 'b', 'n'])\n",
    "        self.df_st_b[['l1', 'l2', 'p']] = ''\n",
    "\n",
    "\n",
    "\n",
    "    def st_montag_B(self):\n",
    "        for name_sxema in self.circuit_ls_name:\n",
    "            try:\n",
    "                self._set_doc(name_sxema)\n",
    "                self._st_montag_B(name_sxema)\n",
    "            except Exception as e:\n",
    "                logging.error(f'Ошибка st_montag_B в схеме {name_sxema} {e}')\n",
    "\n",
    "    def _st_montag_B(self, name_sxema, apart=False):\n",
    "        if apart:\n",
    "            self._set_doc(name_sxema)\n",
    "\n",
    "        df_B = self.fdf_filter(self.df_B, ('name_sxema', name_sxema))\n",
    "\n",
    "        for i in range(len(df_B)):\n",
    "            try:\n",
    "                res = df_B.iloc[i]\n",
    "                text_b = res['txt']\n",
    "                df1, df_name1 = self._find_link_by_b(res['x'], res['y'], 10, 0, 5, 5, side='left', name_sxema=name_sxema)\n",
    "                df2, df_name2 = self._find_link_by_b(res['x'], res['y'], 0, 0, 5, 5, side='right', name_sxema=name_sxema)\n",
    "                loc = None\n",
    "                contact = None\n",
    "                df_name_st = None\n",
    "                df_name_no_st = None\n",
    "                if df_name1 == 'df_contacts':\n",
    "                    loc = df1.iloc[0]['loc']\n",
    "                    df_cont = df1\n",
    "                    contact = df1.iloc[0]['k']\n",
    "                    b1_dev = df1.iloc[0]['b1']\n",
    "                    b2_dev = df1.iloc[0]['b2']\n",
    "                    df_name_st = df_name1\n",
    "                if df_name1 == 'df_101' or df_name1 == 'df_C':\n",
    "                    df_no_cont = df1\n",
    "                    b_st = df1.iloc[0]['txt']\n",
    "                    df_name_no_st = df_name1\n",
    "\n",
    "                if df_name2 == 'df_contacts':\n",
    "                    loc = df2.iloc[0]['loc']\n",
    "                    df_cont = df2\n",
    "                    contact = df2.iloc[0]['k']\n",
    "                    b1_dev = df2.iloc[0]['b1']\n",
    "                    b2_dev = df2.iloc[0]['b2']\n",
    "                    df_name_st = df_name2\n",
    "                if df_name2 == 'df_101' or df_name2 == 'df_C':\n",
    "                    df_no_cont = df2\n",
    "                    b_st = df2.iloc[0]['txt']\n",
    "                    df_name_no_st = df_name2\n",
    "\n",
    "                if loc is not None and df_name_no_st is not None:\n",
    "                    st, p, r = self.get_loc(loc)\n",
    "                    ls = self.ds_st_b[df_name_no_st]\n",
    "                    if 'Б' in text_b:\n",
    "                        ls = self.ds_st_b['df_bok']\n",
    "                    df_t = self.df_st_b[\n",
    "                        (self.df_st_b['st'] == st) & (self.df_st_b['b'].isin(ls)) & (self.df_st_b['l1'] == '')]\n",
    "                    df_t = df_t.sort_values(by=['b', 'n'], key=lambda x: x.map(dict(zip(ls, range(len(ls))))))\n",
    "                    df_bb = df_t.head(1)\n",
    "                    b, n = df_bb['b'].values[0], df_bb['n'].values[0]  #'B110', 1\n",
    "                    s_b = f'{st}-{b}-{n}'\n",
    "\n",
    "                    self.txtdraw_replace(res['h'], s_b)\n",
    "                    self.st_set_k(loc, contact, f'{b}-{n}')\n",
    "                    self.st_set_v(f'{st}-{b}-{n}', val1=f'{p}{r}-{contact}', val2=b_st)\n",
    "                    # self.add_st_v(st, b, str(n), [f'{p}{r}-{contact}', b_st])\n",
    "\n",
    "                    # self.set_val_df(self.df_st_b, df_bb['ref'], 'l1', loc)\n",
    "                    # self.set_val_df(self.df_st_b, df_bb['ref'], 'l2', b_st)\n",
    "                    self.df_st_b.loc[df_bb.index, 'l1'] =  loc\n",
    "                    self.df_st_b.loc[df_bb.index, 'l2'] =  b_st\n",
    "\n",
    "                    if self.fdf_f_cols(df_cont, ['b1']) is None:\n",
    "                        # self.set_val_df(self.df_sx_contacts, df_cont['ref'], 'b1', f'{b}-{n}')\n",
    "                        self.df_sx_contacts.loc[df_cont.index, 'b1'] =  f'{b}-{n}'\n",
    "                    else:\n",
    "                        # self.set_val_df(self.df_sx_contacts, df_cont['ref'], 'b2', f'{b}-{n}')\n",
    "                        self.df_sx_contacts.loc[df_cont.index, 'b2'] =  f'{b}-{n}'\n",
    "\n",
    "                if loc is None and df_name_no_st is not None:\n",
    "                    st = res['txt'][0]\n",
    "                    ls = self.ds_st_b[df_name_no_st]\n",
    "                    if 'Б' in text_b:\n",
    "                        ls = self.ds_st_b['df_bok']\n",
    "                    df_t = self.df_st_b[\n",
    "                        (self.df_st_b['st'] == st) & (self.df_st_b['b'].isin(ls)) & (self.df_st_b['l1'] == '')]\n",
    "                    df_t = df_t.sort_values(by=['b', 'n'], key=lambda x: x.map(dict(zip(ls, range(len(ls))))))\n",
    "                    df_bb = df_t.head(1)\n",
    "                    b, n = df_bb['b'].values[0], df_bb['n'].values[0]  #'B110', 1\n",
    "                    s_b = f'{st}-{b}-{n}'\n",
    "\n",
    "                    self.txtdraw_replace(res['h'], s_b)\n",
    "                    self.st_set_v(f'{st}-{b}-{n}', val2=b_st)\n",
    "                    # self.add_st_v(st, b, str(n), ['', b_st])\n",
    "\n",
    "                    # self.set_val_df(self.df_st_b, df_bb['ref'], 'l1', 'резерв')\n",
    "                    # self.set_val_df(self.df_st_b, df_bb['ref'], 'l2', b_st)\n",
    "                    self.df_st_b.loc[df_bb.index, 'l1'] =  'резерв'\n",
    "                    self.df_st_b.loc[df_bb.index, 'l2'] =  b_st\n",
    "            except Exception as e:\n",
    "                logging.error(f'Ошибка в {text_b} $ {loc} {contact} {e}')\n",
    "\n",
    "\n",
    "\n",
    "    def _find_link_by_b(self, x, y, dx_left=1, dx_right=1, dy_top=1, dy_bottom=1, side='left', name_sxema=None):\n",
    "        if name_sxema is None:\n",
    "            name_sxema = self.doc.Name\n",
    "        df_name = None\n",
    "        df = None\n",
    "        for i in range(30):\n",
    "            df_sx_contacts = self.fdf_filter(self.df_sx_contacts, ('name_sxema', name_sxema))\n",
    "            df = self.find_text(df_sx_contacts,x, y, dx_left, dx_right, dy_top, dy_bottom)\n",
    "            if len(df) > 0:\n",
    "                df_name = 'df_contacts'\n",
    "                break\n",
    "\n",
    "            df_101 = self.fdf_filter(self.df_101, ('name_sxema', name_sxema))\n",
    "            df = self.find_text(df_101, x, y, dx_left, dx_right, dy_top, dy_bottom)\n",
    "            if len(df) > 0:\n",
    "                df_name = 'df_101'\n",
    "                break\n",
    "\n",
    "            df_C = self.fdf_filter(self.df_C, ('name_sxema', name_sxema))\n",
    "            df = self.find_text(df_C, x, y, dx_left, dx_right, dy_top, dy_bottom)\n",
    "            if len(df) > 0:\n",
    "                df_name = 'df_C'\n",
    "                break\n",
    "\n",
    "            if side == 'left':\n",
    "                dx_left += 5\n",
    "            else:\n",
    "                dx_right += 5\n",
    "\n",
    "        if df_name is not None:\n",
    "            return df, df_name\n",
    "        return None, None\n",
    "\n",
    "    def _find_link_by_sh(self, df_poisk, x, y, dx_left=1, dx_right=1, dy_top=1, dy_bottom=1, side='left'):\n",
    "        df = None\n",
    "        for i in range(30):\n",
    "            df = self.find_cirle(df_poisk, x, y, dx_left, dx_right, dy_top, dy_bottom)\n",
    "            if len(df) > 0:\n",
    "                break\n",
    "\n",
    "            if side == 'left':\n",
    "                dx_left += 5\n",
    "            else:\n",
    "                dx_right += 5\n",
    "\n",
    "        if len(df) > 0:\n",
    "            return df\n",
    "        return None\n",
    "\n",
    "\n",
    "\n",
    "    def get_xy(self, df, h):\n",
    "        df = df[df['h']==h]\n",
    "        if len(df) == 0:\n",
    "            return None\n",
    "        x = df.iloc[0]['x']\n",
    "        y = df.iloc[0]['y']\n",
    "        return x, y\n",
    "\n",
    "    def get_h(self, df, h):\n",
    "        df = df[df['h']==h]\n",
    "        return df\n",
    "\n",
    "    def fdf_match(self, df, match, col_name_text='txt'):\n",
    "        return df[df[col_name_text].str.match(match)]\n",
    "\n",
    "    def fdf_h(self, df, h):\n",
    "        df = df[df['h']==h]\n",
    "        return df\n",
    "\n",
    "    def fdf_h_cols(self, df, h, cols):\n",
    "        df = df[df['h']==h][cols]\n",
    "        if len(cols) == 1:\n",
    "            return df.iloc[0][cols[0]]\n",
    "        if len(df) == 0:\n",
    "            return None\n",
    "        return df.iloc[0].tolist()\n",
    "\n",
    "    def fdf_f(self, df):\n",
    "        if df is None:\n",
    "            return None\n",
    "        if len(df) == 0:\n",
    "            return None\n",
    "        return df.iloc[0]\n",
    "\n",
    "    def fdf_f_cols(self, df, cols):\n",
    "        if df is None:\n",
    "            return None\n",
    "        if len(df) == 0:\n",
    "            return None\n",
    "        if len(cols) == 1:\n",
    "            return df.iloc[0][cols[0]]\n",
    "        return df.iloc[0][cols].tolist()\n",
    "\n",
    "    def fdf_f_h(self, df):\n",
    "        if df is None:\n",
    "            return None\n",
    "        if len(df) == 0:\n",
    "            return None\n",
    "        return df.iloc[0]['h']\n",
    "\n",
    "    def fdf_filter(self, df, col1_val1, col2_val2=None, col3_val3=None, col4_val4=None, col5_val5=None, col6_val6=None, col7_val7=None, col8_val8=None, col9_val9=None, col10_val10=None):\n",
    "            col1, val1 = col1_val1\n",
    "            df1 = df[df[col1] == val1]\n",
    "            if col2_val2 is not None:\n",
    "                col2, val2 = col2_val2\n",
    "                df1 = df1[df1[col2] == val2]\n",
    "\n",
    "            if col3_val3 is not None:\n",
    "                col3, val3 = col3_val3\n",
    "                df1 = df1[df1[col3] == val3]\n",
    "\n",
    "            if col4_val4 is not None:\n",
    "                col4, val4 = col4_val4\n",
    "                df1 = df1[df1[col4] == val4]\n",
    "\n",
    "            if col5_val5 is not None:\n",
    "                col5, val5 = col5_val5\n",
    "                df1 = df1[df1[col5] == val5]\n",
    "\n",
    "            if col6_val6 is not None:\n",
    "                col6, val6 = col6_val6\n",
    "                df1 = df1[df1[col6] == val6]\n",
    "\n",
    "            if col7_val7 is not None:\n",
    "                col7, val7 = col7_val7\n",
    "                df1 = df1[df1[col7] == val7]\n",
    "\n",
    "            if col8_val8 is not None:\n",
    "                col8, val8 = col8_val8\n",
    "                df1 = df1[df1[col8] == val8]\n",
    "\n",
    "            if col9_val9 is not None:\n",
    "                col9, val9 = col9_val9\n",
    "                df1 = df1[df1[col9] == val9]\n",
    "\n",
    "            if col10_val10 is not None:\n",
    "                col10, val10 = col10_val10\n",
    "                df1 = df1[df1[col10] == val10]\n",
    "\n",
    "            return df1\n",
    "\n",
    "    def fdf_set_val(self, df, h, col, value, name_sxema=None):\n",
    "        if df is not None:\n",
    "            if name_sxema is None:\n",
    "                ser = df[df['h'] == h][col]\n",
    "                if len(ser) > 0:\n",
    "                    df.loc[df['h'] == h, col] = value\n",
    "            else:\n",
    "                ser = df[(df['h'] == h) & (df['name_sxema'] == name_sxema)][col]\n",
    "                if len(ser) > 0:\n",
    "                    df.loc[(df['h'] == h) & (df['name_sxema'] == name_sxema), col] = value\n",
    "        return df\n",
    "\n",
    "    def _direction_contact(self, df):\n",
    "            if len(df) > 1:\n",
    "                c1 = df.iloc[0]['txt']\n",
    "                c2 = df.iloc[1]['txt']\n",
    "                x1 = df.iloc[0]['x']\n",
    "                x2 = df.iloc[1]['x']\n",
    "                y1 = df.iloc[0]['y']\n",
    "                y2 = df.iloc[1]['y']\n",
    "\n",
    "                dx = abs(x1 - x2)\n",
    "                dy = abs(y1 - y2)\n",
    "\n",
    "                if dx > 2:\n",
    "                    if x1 < x2:\n",
    "                        return {c1: ['horizontal', 'left'], c2: ['horizontal', 'right']}\n",
    "                    else:\n",
    "                        return {c1: ['horizontal', 'right'], c2: ['horizontal', 'left']}\n",
    "                if dy > 2:\n",
    "                    if y1 > y2:\n",
    "                        return {c1: ['vertical', 'top'], c2: ['vertical', 'bottom']}\n",
    "                    else:\n",
    "                        return {c1: ['vertical', 'bottom'], c2: ['vertical', 'top']}\n",
    "\n",
    "    def get_loc(self, loc):\n",
    "            ls = loc.split('-')\n",
    "            st = ls[0]\n",
    "            pr = ls[1]\n",
    "            if len(pr) == 2:\n",
    "                p = pr[0]\n",
    "                r = pr[1]\n",
    "            else:\n",
    "                p = pr[0:2]\n",
    "                r = pr[2]\n",
    "            return st, p, r\n",
    "\n",
    "\n",
    "    def _rep_xy_on_circle(self, row):\n",
    "        df = self.find_cirle(self.df_circle, row['x'], row['y'], 10, 10, 0, 8, radius_lt=2)\n",
    "        if len(df) > 0:\n",
    "            row['x'] = df.iloc[0]['x']\n",
    "            row['y'] = df.iloc[0]['y']\n",
    "        return row\n",
    "    \n",
    "    def sx_search_contacts_and_v_all(self):\n",
    "        self.df_sx_contacts = None\n",
    "        self.df_B = None\n",
    "        self.df_C = None\n",
    "        self.df_101 = None\n",
    "\n",
    "        for name_sxema in self.circuit_ls_name:\n",
    "            try:\n",
    "                self._set_doc(name_sxema)\n",
    "                self._sx_search_contacts(name_sxema)\n",
    "                self._sx_search_v(name_sxema)\n",
    "            except Exception as e:\n",
    "                logging.error(f'Ошибка sx_search_contacts_and_v в схеме {name_sxema} {e}')\n",
    "    \n",
    "    def _sx_search_contacts(self, name_sxema, apart=False):\n",
    "\n",
    "        if apart:\n",
    "            self._set_doc(name_sxema)\n",
    "\n",
    "        df_mtext = self.df_mtext\n",
    "        df_dev = self.fdf_match(df_mtext, r'^[1-3]-\\d{2,3}')\n",
    "        lsh = df_dev['h'].tolist()\n",
    "\n",
    "        ls = []\n",
    "\n",
    "        for h in lsh:\n",
    "            try:\n",
    "                loc = self.fdf_h_cols(df_mtext, h, ['txt'])\n",
    "                x, y = self.fdf_h_cols(df_mtext, h, ['x', 'y'])\n",
    "\n",
    "                df_name = self.find_text(df_mtext, x, y, 12, 12, 0, 5, lst_exclude=self.ls_contact, h=h)\n",
    "                if len(df_name) == 0:\n",
    "                    logging.error(f'Не найдено имя устройства {loc}')\n",
    "                    df_name = self.find_text(df_mtext, x, y, 20, 20, 0, 20, lst_exclude=self.ls_contact, h=h)\n",
    "                h_name = self.fdf_f_h(df_name)\n",
    "                t_name = self.fdf_f_cols(df_name, ['txt'])\n",
    "                # x, y = self.fdf_f_cols(df_name, ['x', 'y'])\n",
    "                df_circle = self.find_cirle(self.df_circle, x, y, 20, 20, 8, 9, radius_gt=3)\n",
    "                if len(df_circle) > 0:\n",
    "                    h_c= self.fdf_f_h(df_circle)\n",
    "                    x, y = self.fdf_f_cols(df_circle, ['x', 'y'])\n",
    "                    df_k = self.find_text(df_mtext, x, y, 10, 10, 10, 10, lst_filter=self.ls_contact, h=h)\n",
    "                else:\n",
    "                    df_k = self.find_text(df_mtext, x, y, 20, 20, 0, 12, lst_filter=self.ls_contact, h=h)\n",
    "\n",
    "                if len(df_k) == 0:\n",
    "                    logging.error(f'Не найден номер контакта {loc}')\n",
    "                    continue\n",
    "\n",
    "                if df_k['txt'].tolist() == ['1', '2', '3', '4']:\n",
    "                    df_k = df_k[df_k['txt'].isin(['2', '4'])]\n",
    "                ds = self._direction_contact(df_k)\n",
    "                group = loc + ';' + ':'.join(df_k['txt'].values.tolist())\n",
    "\n",
    "                for j in range(len(df_k)):\n",
    "                    k = df_k.iloc[j]['txt']\n",
    "                    t_ref = df_k.iloc[j]['h']\n",
    "                    t_x = df_k.iloc[j]['x']\n",
    "                    t_y = df_k.iloc[j]['y']\n",
    "                    st, p, r = self.get_loc(loc)\n",
    "                    ls.append([loc, st, p, r, t_name, k, t_ref, t_x, t_y, group, ds[k][0],\n",
    "                                               ds[k][1]])\n",
    "            except Exception as e:\n",
    "                logging.error(f'Ошибка _sx_search_contacts - {loc} контакт: {k} - {df_k[\"txt\"].tolist()} - {e}')\n",
    "\n",
    "\n",
    "        df = pd.DataFrame(ls, columns=['loc', 'st', 'pol', 'rd', 'name', 'k', 'h', 'x', 'y', 'group', 'direction',\n",
    "                                                'side'])\n",
    "\n",
    "        df['name_sxema'] = name_sxema\n",
    "        df[['b1', 'b2', 'l1', 'l2', 'pit', 'pit_h_circle']] = None\n",
    "        # self.df_sx_contacts = df_sx_contacts.reset_index(drop=True)\n",
    "        df =  df.astype({'st': 'str', 'pol': 'str', 'rd': 'str', 'k': 'str'})\n",
    "\n",
    "        if self.df_sx_contacts is None:\n",
    "            self.df_sx_contacts = df\n",
    "        else:\n",
    "            self.df_sx_contacts = pd.concat([self.df_sx_contacts, df], axis=0)\n",
    "            self.df_sx_contacts = self.df_sx_contacts.reset_index(drop=True)\n",
    "\n",
    "        self.save_sx_contacts()\n",
    "\n",
    "    def save_sx_contacts(self):\n",
    "        self.df_sx_contacts.to_csv(self._get_path_code(prefix='sx_contacts', ext='.csv', folder='csv/'), index=False, sep='$')\n",
    "\n",
    "        \n",
    "    def _sx_search_v(self, name_sxema, apart=False):\n",
    "        if apart:\n",
    "            self._set_doc(name_sxema)\n",
    "\n",
    "        df_B = self.fdf_match(self.df_mtext, r'^[1-3]-[ВБ]')\n",
    "        df_B = df_B.apply(self._rep_xy_on_circle, axis=1)\n",
    "        df_B = df_B.reset_index(drop=True)\n",
    "        df_B['name_sxema'] = name_sxema\n",
    "        # self.df_B[['x', 'y']] = self.df_B[['x', 'y']].apply(lambda x: x.round(2))\n",
    "\n",
    "        df_101 = self.fdf_match(self.df_mtext, r'^10[1-5]-')\n",
    "        df_101 = df_101.apply(self._rep_xy_on_circle, axis=1)\n",
    "        df_101 = df_101.reset_index(drop=True)\n",
    "        df_101['name_sxema'] = name_sxema\n",
    "        # self.df_101[['x', 'y']] = self.df_101[['x', 'y']].apply(lambda x: x.round(2))\n",
    "\n",
    "        df_C = self.fdf_match(self.df_mtext, r'^C[1-8]:')\n",
    "        df_C = df_C.apply(self._rep_xy_on_circle, axis=1)\n",
    "        df_C = df_C.reset_index(drop=True)\n",
    "        df_C['name_sxema'] = name_sxema\n",
    "        # self.df_C[['x', 'y']] = self.df_C[['x', 'y']].apply(lambda x: x.round(2))\n",
    "\n",
    "        # отсортировать по x возрастанию потом y по убыванию\n",
    "        df_B = df_B.sort_values(by=['x', 'y'], ascending=[True, False])\n",
    "\n",
    "        if self.df_B is None:\n",
    "            self.df_B = df_B\n",
    "        else:\n",
    "            self.df_B = pd.concat([self.df_B, df_B], axis=0)\n",
    "            self.df_B = self.df_B.reset_index(drop=True)\n",
    "        self.df_B.to_csv(self._get_path_code(prefix='sx_B', ext='.csv', folder='csv/'), index=False, sep='$')\n",
    "\n",
    "        if self.df_101 is None:\n",
    "            self.df_101 = df_101\n",
    "        else:\n",
    "            self.df_101 = pd.concat([self.df_101, df_101], axis=0)\n",
    "            self.df_101 = self.df_101.reset_index(drop=True)\n",
    "        self.df_101.to_csv(self._get_path_code(prefix='sx_101', ext='.csv', folder='csv/'), index=False, sep='$')\n",
    "\n",
    "        if self.df_C is None:\n",
    "            self.df_C = df_C\n",
    "        else:\n",
    "            self.df_C = pd.concat([self.df_C, df_C], axis=0)\n",
    "            self.df_C = self.df_C.reset_index(drop=True)\n",
    "        self.df_C.to_csv(self._get_path_code(prefix='sx_C', ext='.csv', folder='csv/'), index=False, sep='$')\n",
    "\n",
    "\n",
    "    # Питание---------------------------------------------------------------------------------\n",
    "    def sx_search_sh_circle(self):\n",
    "\n",
    "        self.df_sx_sh_circle = None\n",
    "\n",
    "        for name_sxema in self.circuit_ls_name:\n",
    "            try:\n",
    "                self._set_doc(name_sxema)\n",
    "                self._sx_search_sh_circle(name_sxema)\n",
    "                self._sx_set_pit_contact(name_sxema)\n",
    "                self.save_sx_contacts()\n",
    "            except Exception as e:\n",
    "                logging.error(f'Ошибка sx_search_sh_circle в схеме {name_sxema} {e}')\n",
    "\n",
    "        # for name_sxema in self.circuit_ls_name:\n",
    "        #     try:\n",
    "        #         self._set_doc(name_sxema)\n",
    "        #         self._sx_set_pit_contact(name_sxema)\n",
    "        #         self.save_sx_contacts()\n",
    "        #     except Exception as e:\n",
    "        #         logging.error(f'Ошибка sx_search_sh_circle в схеме {name_sxema} {e}')\n",
    "\n",
    "    def _sx_search_sh_circle(self, name_sxema, apart=False):\n",
    "        if apart:\n",
    "            self._set_doc(name_sxema)\n",
    "\n",
    "        df_sh = self.fdf_match(self.df_mtext, r'[1-3]-Ш')\n",
    "        lsh = df_sh['h'].tolist()\n",
    "\n",
    "        for i in range(len(df_sh)):\n",
    "            h = df_sh.iloc[i]['h']\n",
    "            x, y = self.fdf_h_cols(self.df_mtext, h, ['x', 'y'])\n",
    "            ds = self.find_text(self.df_mtext, x, y, 8, 8, 0, 6, lst_filter=self.ls_st_sh_name, h=h)\n",
    "            if len(ds) > 0:\n",
    "                df2 = None\n",
    "                name_sh = self.fdf_f_cols(ds, ['txt'])  # 'П'\n",
    "                x, y = self.fdf_f_cols(ds, ['x', 'y'])\n",
    "                ds1 = self.find_cirle(self.df_circle, x, y, 5, 5, 0, 10, radius_lt=2)\n",
    "                if len(ds1) > 0:\n",
    "                    df2 = ds1\n",
    "                    df2['pit'] = name_sh\n",
    "                    df2['h_name_sh'] = h\n",
    "                    df2['one_k'] = 'one'\n",
    "                    df2['h_k'] = None\n",
    "                    df2['name_sxema'] = name_sxema\n",
    "\n",
    "                df_lines = self.find_polyline(self.df_poly, x, y, 5, 5, 0, 10)\n",
    "\n",
    "                if len(df_lines) > 0:\n",
    "                    is_line = False\n",
    "                    for i in range(len(df_lines)):\n",
    "                        res = df_lines.iloc[i]\n",
    "                        if res['x1'] == res['x2']:\n",
    "                            is_line = True\n",
    "                            break\n",
    "                    if is_line:\n",
    "                        df2 = self.find_cirle(self.df_circle, x, y, 5, 5, 0, 180, radius_lt=2)\n",
    "                        df2['pit'] = name_sh\n",
    "                        df2['h_name_sh'] = h\n",
    "                        df2['one_k'] = 'many'\n",
    "                        df2['h_k'] = None\n",
    "                        df2['name_sxema'] = name_sxema\n",
    "                        ls_filtr = ['**', '1', '2', '3', '4', '5', '6', '7', '8', '9', '10', '11', '12', '13', '14', '15', '16', '17', '18', '19', '20', '21', '22', '23', '24', '25', '26', '27', '28', '29', '30' ]\n",
    "                        for i in range(len(df2)):\n",
    "                            x, y = df2.iloc[i][['x', 'y']]\n",
    "                            h1 = df2.iloc[i]['h']\n",
    "                            df3 = ad.find_text(ad.df_mtext, x, y, 6, 6, 3, 3, lst_filter=ls_filtr, h=h)\n",
    "                            h_k = ad.fdf_f_cols(df3, ['h'])\n",
    "                            ad.fdf_set_val(df2, h1, 'h_k', h_k, name_sxema)\n",
    "\n",
    "                if df2 is not None:\n",
    "\n",
    "                    if self.df_sx_sh_circle is None:\n",
    "                        self.df_sx_sh_circle = df2.copy()\n",
    "                    else:\n",
    "                        self.df_sx_sh_circle = self.df_sx_sh_circle.append(df2)\n",
    "                        self.df_sx_sh_circle = self.df_sx_sh_circle.reset_index(drop=True)\n",
    "\n",
    "                    self.df_sx_sh_circle.to_csv(self._get_path_code(prefix='sx_sh_circle', ext='.csv', folder='csv/'), index=False, sep='$')\n",
    "\n",
    "\n",
    "    def _sx_set_pit_contact(self, name_sxema, apart=False):\n",
    "        if apart:\n",
    "            self._set_doc(name_sxema)\n",
    "        df1 = self.df_sx_contacts[self.df_sx_contacts['b2'].isnull()]\n",
    "        df1 = ad.fdf_filter(df1, ('name_sxema', name_sxema))\n",
    "        for i in range(len(df1)):\n",
    "            res = df1.iloc[i]\n",
    "            h = res['h']\n",
    "            df_sx_sh_circle = self.fdf_filter(self.df_sx_sh_circle, ('name_sxema', name_sxema))\n",
    "            df2 = self._find_link_by_sh(df_sx_sh_circle, res['x'], res['y'], 10, 0, 5, 5, side=res['side'])\n",
    "            if df2 is not None:\n",
    "                pit = df2['pit'].values[0]\n",
    "                h_circle = df2['h'].values[0]\n",
    "\n",
    "                self.df_sx_contacts = self.fdf_set_val(self.df_sx_contacts, h, 'pit', pit, name_sxema)\n",
    "                self.df_sx_contacts = self.fdf_set_val(self.df_sx_contacts, h, 'pit_h_circle', h_circle, name_sxema)\n",
    "\n",
    "\n",
    "    def st_montag_shina(self):\n",
    "        for st_name in self.ls_st_name:\n",
    "            for sh_name in self.ls_st_sh_name:\n",
    "                try:\n",
    "                    df1 = self.fdf_filter(self.df_sx_contacts, ('st', st_name), ('pit', sh_name))\n",
    "                    if len(df1) > 0:\n",
    "                        df2 = df1.copy()\n",
    "                        df2 = df2.astype({'pol': 'int', 'rd': 'int', 'k': 'int'})\n",
    "                        df2 = df2.sort_values(by=['pol', 'rd', 'k'])\n",
    "                        df2 = df2.astype({'pol': 'str', 'rd': 'str', 'k': 'str'})\n",
    "                        for i in range(len(df2)):\n",
    "                            loc = df2['loc'].values[i]\n",
    "                            k_dev = df2['k'].values[i]\n",
    "                            h_pit_circle = df2['pit_h_circle'].values[i]\n",
    "                            name_sxema = df2['name_sxema'].values[i]\n",
    "                            polka_shina = str(self.get_nearest_sh(loc, sh_name))\n",
    "                            k_shina = self._st_get_contact_sh(st_name,  polka_shina, sh_name, loc)\n",
    "\n",
    "                            p = df2['pol'].values[i]\n",
    "                            r = df2['rd'].values[i]\n",
    "                            if p == polka_shina:\n",
    "                                loc_to = f'Ш-{k_shina}'\n",
    "                                loc_to_sh = f'{r}-{k_dev}'\n",
    "                            else:\n",
    "                                loc_to = f'{polka_shina}Ш-{k_shina}'\n",
    "                                loc_to_sh = f'{p}{r}-{k_dev}'\n",
    "\n",
    "                            self.st_set_k(loc, k_dev, loc_to, sh_name)\n",
    "                            self.st_set_sh(st_name, polka_shina, k_shina, loc_to_sh)\n",
    "\n",
    "                            df3 = self.fdf_filter(self.df_sx_sh_circle, ('h', h_pit_circle), ('name_sxema', name_sxema))\n",
    "                            h_name_sh, one_k, h_k =df3['h_name_sh'].values[0], df3['one_k'].values[0], df3['h_k'].values[0]\n",
    "                            doc = self.docs_open[name_sxema]\n",
    "                            if one_k == 'one':\n",
    "                                self.txtdraw_replace(h_name_sh, f'{st_name}-Ш{polka_shina}-{k_shina}', doc)\n",
    "                            else:\n",
    "                                self.txtdraw_replace(h_name_sh, f'{st_name}-Ш{polka_shina}', doc)\n",
    "                                self.txtdraw_replace(h_k, k_shina, doc)\n",
    "\n",
    "                except Exception as e:\n",
    "                    logging.error(f'Ошибка st_montag_shina {st_name} {sh_name} {loc} {k_dev} {polka_shina} {k_shina} {e}')\n",
    "\n",
    "\n",
    "    def _st_get_contact_sh(self, st,  polka, sh, loc):\n",
    "        df1 = self.fdf_filter(self.df_st_shina_montag, ('st', st), ('sh', sh), ('polka', polka))\n",
    "        if len(df1) == 0:\n",
    "            self.df_st_shina_montag = self.df_st_shina_montag.append({'st': st, 'sh': sh, 'loc': loc, 'k': '1', 'polka': polka}, ignore_index=True)\n",
    "            return '1'\n",
    "        else:\n",
    "            cont = str(int(df1.tail(1)['k'].values[0]) + 1)\n",
    "            self.df_st_shina_montag = self.df_st_shina_montag.append({'st': st, 'sh': sh, 'loc': loc, 'k': cont, 'polka': polka}, ignore_index=True)\n",
    "            return cont\n",
    "\n",
    "    def get_nearest_sh(self, loc, pit):\n",
    "        st, p, r = self.get_loc(loc)\n",
    "        df = self.fdf_filter(self.df_st_sh_table, ('st', st), ('pit', pit))\n",
    "        if len(df) > 0:\n",
    "            ls_pol = df['pol'].to_list()\n",
    "            ls_pol = [int(x) for x in ls_pol]\n",
    "            return self._find_nearest(ls_pol, int(p))\n",
    "\n",
    "    # выбрать из списка ls1 число ближйшее к заданному\n",
    "    def _find_nearest(self, ls, value):\n",
    "        ls = np.array(ls)\n",
    "        idx = (np.abs(ls - value)).argmin()\n",
    "        return ls[idx]\n",
    "\n",
    "    # def add_dwg_circuit(self, dwg_path):\n",
    "    #     app1 = QtWidgets.QApplication([])\n",
    "    #     self.docs_circuit = QtWidgets.QFileDialog.getOpenFileNames(None, 'Выберите принципиальные схемы', r'd:\\Фабричная\\Фабричная', 'dwg files (*.dwg)')[0]\n",
    "    #\n",
    "    # def add_dwg_montag(self, dwg_path):\n",
    "    #     app1 = QtWidgets.QApplication([])\n",
    "    #     self.docs_montag = QtWidgets.QFileDialog.getOpenFileNames(None, 'Выберите монтажные схемы', r'd:\\Фабричная\\Фабричная', 'dwg files (*.dwg)')[0]\n"
   ],
   "metadata": {
    "collapsed": false
   }
  },
  {
   "cell_type": "code",
   "execution_count": 4,
   "outputs": [],
   "source": [
    "ad = Acad()"
   ],
   "metadata": {
    "collapsed": false
   }
  },
  {
   "cell_type": "code",
   "execution_count": 5,
   "outputs": [],
   "source": [
    "ad.load_docs('cm')"
   ],
   "metadata": {
    "collapsed": false
   }
  },
  {
   "cell_type": "code",
   "execution_count": 74,
   "outputs": [],
   "source": [
    "ad.close_docs('cm')"
   ],
   "metadata": {
    "collapsed": false
   }
  },
  {
   "cell_type": "code",
   "execution_count": null,
   "outputs": [],
   "source": [],
   "metadata": {
    "collapsed": false
   }
  },
  {
   "cell_type": "code",
   "execution_count": 6,
   "outputs": [],
   "source": [
    "# ad.read_entity_to_csv_all_docs()"
   ],
   "metadata": {
    "collapsed": false
   }
  },
  {
   "cell_type": "code",
   "execution_count": 8,
   "outputs": [],
   "source": [
    "ad._init()\n",
    "# ad.get_docs()\n",
    "ad.load_entity_from_csv()\n",
    "ad.load_all_data_from_csv()\n",
    "ad.st_init_v()"
   ],
   "metadata": {
    "collapsed": false
   }
  },
  {
   "cell_type": "code",
   "execution_count": 6,
   "outputs": [],
   "source": [
    "# ad.sx_search_contacts_and_v_all()"
   ],
   "metadata": {
    "collapsed": false
   }
  },
  {
   "cell_type": "code",
   "execution_count": 7,
   "outputs": [],
   "source": [
    "# ad.create_df_st_table()"
   ],
   "metadata": {
    "collapsed": false
   }
  },
  {
   "cell_type": "code",
   "execution_count": 22,
   "outputs": [],
   "source": [
    "ad.sx_search_sh_circle()"
   ],
   "metadata": {
    "collapsed": false
   }
  },
  {
   "cell_type": "code",
   "execution_count": 9,
   "outputs": [],
   "source": [
    "ad.st_montag_B()\n",
    "ad.sx_search_sh_circle()\n",
    "ad.st_montag_shina()"
   ],
   "metadata": {
    "collapsed": false
   }
  },
  {
   "cell_type": "code",
   "execution_count": null,
   "outputs": [],
   "source": [],
   "metadata": {
    "collapsed": false
   }
  },
  {
   "cell_type": "code",
   "execution_count": 11,
   "outputs": [
    {
     "data": {
      "text/plain": "         h         r        x       y          layer  color linetype  \\\n159  29B7E  0.750078  1648.06  128.73  PDF2_Geometry      1  ByLayer   \n\n     linetype_scale  lineweight material pit h_name_sh one_k   h_k  \\\n159             1.0          25  ByLayer   М     29FD8   one  None   \n\n                                            name_sxema  \n159  D:\\Фабричная\\Фабричная\\Принципиальные схемы\\25...  ",
      "text/html": "<div>\n<style scoped>\n    .dataframe tbody tr th:only-of-type {\n        vertical-align: middle;\n    }\n\n    .dataframe tbody tr th {\n        vertical-align: top;\n    }\n\n    .dataframe thead th {\n        text-align: right;\n    }\n</style>\n<table border=\"1\" class=\"dataframe\">\n  <thead>\n    <tr style=\"text-align: right;\">\n      <th></th>\n      <th>h</th>\n      <th>r</th>\n      <th>x</th>\n      <th>y</th>\n      <th>layer</th>\n      <th>color</th>\n      <th>linetype</th>\n      <th>linetype_scale</th>\n      <th>lineweight</th>\n      <th>material</th>\n      <th>pit</th>\n      <th>h_name_sh</th>\n      <th>one_k</th>\n      <th>h_k</th>\n      <th>name_sxema</th>\n    </tr>\n  </thead>\n  <tbody>\n    <tr>\n      <th>159</th>\n      <td>29B7E</td>\n      <td>0.750078</td>\n      <td>1648.06</td>\n      <td>128.73</td>\n      <td>PDF2_Geometry</td>\n      <td>1</td>\n      <td>ByLayer</td>\n      <td>1.0</td>\n      <td>25</td>\n      <td>ByLayer</td>\n      <td>М</td>\n      <td>29FD8</td>\n      <td>one</td>\n      <td>None</td>\n      <td>D:\\Фабричная\\Фабричная\\Принципиальные схемы\\25...</td>\n    </tr>\n  </tbody>\n</table>\n</div>"
     },
     "execution_count": 11,
     "metadata": {},
     "output_type": "execute_result"
    }
   ],
   "source": [
    "ad.fdf_filter(ad.df_sx_sh_circle, ('h', '29B7E'))"
   ],
   "metadata": {
    "collapsed": false
   }
  },
  {
   "cell_type": "code",
   "execution_count": 23,
   "outputs": [
    {
     "data": {
      "text/plain": "2E8C1    2\n2E8EF    2\n2E8F3    2\n2E8BF    2\n2E8D5    2\n        ..\n336AB    1\n336AE    1\n33976    1\n33979    1\n2EAA5    1\nName: h, Length: 929, dtype: int64"
     },
     "execution_count": 23,
     "metadata": {},
     "output_type": "execute_result"
    }
   ],
   "source": [
    "ad.df_sx_contacts['h'].value_counts()\n"
   ],
   "metadata": {
    "collapsed": false
   }
  },
  {
   "cell_type": "code",
   "execution_count": 15,
   "outputs": [
    {
     "data": {
      "text/plain": "'D:\\\\Фабричная\\\\Фабричная\\\\Принципиальные схемы\\\\2517-АТР.2 л.3 Схемы РЦ Неч..dwg'"
     },
     "execution_count": 15,
     "metadata": {},
     "output_type": "execute_result"
    }
   ],
   "source": [
    "name_sxema =ad.circuit_ls_name[0]\n",
    "name_sxema"
   ],
   "metadata": {
    "collapsed": false
   }
  },
  {
   "cell_type": "code",
   "execution_count": 16,
   "outputs": [
    {
     "data": {
      "text/plain": "        h         r        x       y           layer  color linetype  \\\n0   2D056  0.749800  7944.06  130.73  PDF15_Geometry    256  ByLayer   \n1   2D058  0.750025  7944.06  120.73  PDF15_Geometry    256  ByLayer   \n2   2D05B  0.750025  7944.06  110.73  PDF15_Geometry    256  ByLayer   \n3   2D05E  0.750025  7944.06  100.73  PDF15_Geometry    256  ByLayer   \n4   2D061  0.750025  7944.06   90.73  PDF15_Geometry    256  ByLayer   \n..    ...       ...      ...     ...             ...    ...      ...   \n71  36F76  0.750025  8784.06   60.73  PDF16_Geometry    256  ByLayer   \n72  36F78  0.750025  8784.06   50.73  PDF16_Geometry    256  ByLayer   \n73  36F7A  0.749800  8784.06   40.73  PDF16_Geometry    256  ByLayer   \n74  36F7C  0.750025  8784.06   30.73  PDF16_Geometry    256  ByLayer   \n75  36F7E  0.749800  8784.06   20.73  PDF16_Geometry    256  ByLayer   \n\n    linetype_scale  lineweight material pit h_name_sh one_k    h_k  \\\n0              1.0          25  ByLayer   П     2D0B1  many  2D0B3   \n1              1.0          25  ByLayer   П     2D0B1  many  2D0B4   \n2              1.0          25  ByLayer   П     2D0B1  many  2D0B5   \n3              1.0          25  ByLayer   П     2D0B1  many  2D0B6   \n4              1.0          25  ByLayer   П     2D0B1  many  2D0B7   \n..             ...         ...      ...  ..       ...   ...    ...   \n71             1.0          25  ByLayer   П     2DD59  many  36F8B   \n72             1.0          25  ByLayer   П     2DD59  many  36F8C   \n73             1.0          25  ByLayer   П     2DD59  many  36F8D   \n74             1.0          25  ByLayer   П     2DD59  many  36F8E   \n75             1.0          25  ByLayer   П     2DD59  many  36F8F   \n\n                                           name_sxema  \n0   D:\\Фабричная\\Фабричная\\Принципиальные схемы\\25...  \n1   D:\\Фабричная\\Фабричная\\Принципиальные схемы\\25...  \n2   D:\\Фабричная\\Фабричная\\Принципиальные схемы\\25...  \n3   D:\\Фабричная\\Фабричная\\Принципиальные схемы\\25...  \n4   D:\\Фабричная\\Фабричная\\Принципиальные схемы\\25...  \n..                                                ...  \n71  D:\\Фабричная\\Фабричная\\Принципиальные схемы\\25...  \n72  D:\\Фабричная\\Фабричная\\Принципиальные схемы\\25...  \n73  D:\\Фабричная\\Фабричная\\Принципиальные схемы\\25...  \n74  D:\\Фабричная\\Фабричная\\Принципиальные схемы\\25...  \n75  D:\\Фабричная\\Фабричная\\Принципиальные схемы\\25...  \n\n[76 rows x 15 columns]",
      "text/html": "<div>\n<style scoped>\n    .dataframe tbody tr th:only-of-type {\n        vertical-align: middle;\n    }\n\n    .dataframe tbody tr th {\n        vertical-align: top;\n    }\n\n    .dataframe thead th {\n        text-align: right;\n    }\n</style>\n<table border=\"1\" class=\"dataframe\">\n  <thead>\n    <tr style=\"text-align: right;\">\n      <th></th>\n      <th>h</th>\n      <th>r</th>\n      <th>x</th>\n      <th>y</th>\n      <th>layer</th>\n      <th>color</th>\n      <th>linetype</th>\n      <th>linetype_scale</th>\n      <th>lineweight</th>\n      <th>material</th>\n      <th>pit</th>\n      <th>h_name_sh</th>\n      <th>one_k</th>\n      <th>h_k</th>\n      <th>name_sxema</th>\n    </tr>\n  </thead>\n  <tbody>\n    <tr>\n      <th>0</th>\n      <td>2D056</td>\n      <td>0.749800</td>\n      <td>7944.06</td>\n      <td>130.73</td>\n      <td>PDF15_Geometry</td>\n      <td>256</td>\n      <td>ByLayer</td>\n      <td>1.0</td>\n      <td>25</td>\n      <td>ByLayer</td>\n      <td>П</td>\n      <td>2D0B1</td>\n      <td>many</td>\n      <td>2D0B3</td>\n      <td>D:\\Фабричная\\Фабричная\\Принципиальные схемы\\25...</td>\n    </tr>\n    <tr>\n      <th>1</th>\n      <td>2D058</td>\n      <td>0.750025</td>\n      <td>7944.06</td>\n      <td>120.73</td>\n      <td>PDF15_Geometry</td>\n      <td>256</td>\n      <td>ByLayer</td>\n      <td>1.0</td>\n      <td>25</td>\n      <td>ByLayer</td>\n      <td>П</td>\n      <td>2D0B1</td>\n      <td>many</td>\n      <td>2D0B4</td>\n      <td>D:\\Фабричная\\Фабричная\\Принципиальные схемы\\25...</td>\n    </tr>\n    <tr>\n      <th>2</th>\n      <td>2D05B</td>\n      <td>0.750025</td>\n      <td>7944.06</td>\n      <td>110.73</td>\n      <td>PDF15_Geometry</td>\n      <td>256</td>\n      <td>ByLayer</td>\n      <td>1.0</td>\n      <td>25</td>\n      <td>ByLayer</td>\n      <td>П</td>\n      <td>2D0B1</td>\n      <td>many</td>\n      <td>2D0B5</td>\n      <td>D:\\Фабричная\\Фабричная\\Принципиальные схемы\\25...</td>\n    </tr>\n    <tr>\n      <th>3</th>\n      <td>2D05E</td>\n      <td>0.750025</td>\n      <td>7944.06</td>\n      <td>100.73</td>\n      <td>PDF15_Geometry</td>\n      <td>256</td>\n      <td>ByLayer</td>\n      <td>1.0</td>\n      <td>25</td>\n      <td>ByLayer</td>\n      <td>П</td>\n      <td>2D0B1</td>\n      <td>many</td>\n      <td>2D0B6</td>\n      <td>D:\\Фабричная\\Фабричная\\Принципиальные схемы\\25...</td>\n    </tr>\n    <tr>\n      <th>4</th>\n      <td>2D061</td>\n      <td>0.750025</td>\n      <td>7944.06</td>\n      <td>90.73</td>\n      <td>PDF15_Geometry</td>\n      <td>256</td>\n      <td>ByLayer</td>\n      <td>1.0</td>\n      <td>25</td>\n      <td>ByLayer</td>\n      <td>П</td>\n      <td>2D0B1</td>\n      <td>many</td>\n      <td>2D0B7</td>\n      <td>D:\\Фабричная\\Фабричная\\Принципиальные схемы\\25...</td>\n    </tr>\n    <tr>\n      <th>...</th>\n      <td>...</td>\n      <td>...</td>\n      <td>...</td>\n      <td>...</td>\n      <td>...</td>\n      <td>...</td>\n      <td>...</td>\n      <td>...</td>\n      <td>...</td>\n      <td>...</td>\n      <td>...</td>\n      <td>...</td>\n      <td>...</td>\n      <td>...</td>\n      <td>...</td>\n    </tr>\n    <tr>\n      <th>71</th>\n      <td>36F76</td>\n      <td>0.750025</td>\n      <td>8784.06</td>\n      <td>60.73</td>\n      <td>PDF16_Geometry</td>\n      <td>256</td>\n      <td>ByLayer</td>\n      <td>1.0</td>\n      <td>25</td>\n      <td>ByLayer</td>\n      <td>П</td>\n      <td>2DD59</td>\n      <td>many</td>\n      <td>36F8B</td>\n      <td>D:\\Фабричная\\Фабричная\\Принципиальные схемы\\25...</td>\n    </tr>\n    <tr>\n      <th>72</th>\n      <td>36F78</td>\n      <td>0.750025</td>\n      <td>8784.06</td>\n      <td>50.73</td>\n      <td>PDF16_Geometry</td>\n      <td>256</td>\n      <td>ByLayer</td>\n      <td>1.0</td>\n      <td>25</td>\n      <td>ByLayer</td>\n      <td>П</td>\n      <td>2DD59</td>\n      <td>many</td>\n      <td>36F8C</td>\n      <td>D:\\Фабричная\\Фабричная\\Принципиальные схемы\\25...</td>\n    </tr>\n    <tr>\n      <th>73</th>\n      <td>36F7A</td>\n      <td>0.749800</td>\n      <td>8784.06</td>\n      <td>40.73</td>\n      <td>PDF16_Geometry</td>\n      <td>256</td>\n      <td>ByLayer</td>\n      <td>1.0</td>\n      <td>25</td>\n      <td>ByLayer</td>\n      <td>П</td>\n      <td>2DD59</td>\n      <td>many</td>\n      <td>36F8D</td>\n      <td>D:\\Фабричная\\Фабричная\\Принципиальные схемы\\25...</td>\n    </tr>\n    <tr>\n      <th>74</th>\n      <td>36F7C</td>\n      <td>0.750025</td>\n      <td>8784.06</td>\n      <td>30.73</td>\n      <td>PDF16_Geometry</td>\n      <td>256</td>\n      <td>ByLayer</td>\n      <td>1.0</td>\n      <td>25</td>\n      <td>ByLayer</td>\n      <td>П</td>\n      <td>2DD59</td>\n      <td>many</td>\n      <td>36F8E</td>\n      <td>D:\\Фабричная\\Фабричная\\Принципиальные схемы\\25...</td>\n    </tr>\n    <tr>\n      <th>75</th>\n      <td>36F7E</td>\n      <td>0.749800</td>\n      <td>8784.06</td>\n      <td>20.73</td>\n      <td>PDF16_Geometry</td>\n      <td>256</td>\n      <td>ByLayer</td>\n      <td>1.0</td>\n      <td>25</td>\n      <td>ByLayer</td>\n      <td>П</td>\n      <td>2DD59</td>\n      <td>many</td>\n      <td>36F8F</td>\n      <td>D:\\Фабричная\\Фабричная\\Принципиальные схемы\\25...</td>\n    </tr>\n  </tbody>\n</table>\n<p>76 rows × 15 columns</p>\n</div>"
     },
     "execution_count": 16,
     "metadata": {},
     "output_type": "execute_result"
    }
   ],
   "source": [
    "res = df1\n",
    "h = res['h']\n",
    "df_sx_sh_circle = ad.fdf_filter(ad.df_sx_sh_circle, ('name_sxema', name_sxema))\n",
    "df_sx_sh_circle"
   ],
   "metadata": {
    "collapsed": false
   }
  },
  {
   "cell_type": "code",
   "execution_count": 17,
   "outputs": [],
   "source": [
    "df2 = ad._find_link_by_sh(df_sx_sh_circle, res['x'], res['y'], 10, 0, 5, 5, side=res['side'])\n",
    "df2"
   ],
   "metadata": {
    "collapsed": false
   }
  },
  {
   "cell_type": "code",
   "execution_count": 18,
   "outputs": [],
   "source": [
    "if df2 is not None:\n",
    "    print('dgdf')"
   ],
   "metadata": {
    "collapsed": false
   }
  },
  {
   "cell_type": "code",
   "execution_count": 14,
   "outputs": [
    {
     "data": {
      "text/plain": "'D:\\\\Фабричная\\\\Фабричная\\\\Принципиальные схемы\\\\2517-АТР.2 л.3 Схемы РЦ Неч..dwg'"
     },
     "execution_count": 14,
     "metadata": {},
     "output_type": "execute_result"
    }
   ],
   "source": [],
   "metadata": {
    "collapsed": false
   }
  },
  {
   "cell_type": "code",
   "execution_count": 8,
   "outputs": [
    {
     "data": {
      "text/plain": "['D:\\\\Фабричная\\\\Фабричная\\\\Принципиальные схемы\\\\2517-АТР.2 л.3 Схемы РЦ Неч..dwg',\n 'D:\\\\Фабричная\\\\Фабричная\\\\Принципиальные схемы\\\\2517-АТР.2 л.4 Схемы РЦ Чет..dwg',\n 'D:\\\\Фабричная\\\\Фабричная\\\\Принципиальные схемы\\\\2517-АТР.2 л.9 Переезды.dwg',\n 'D:\\\\Фабричная\\\\Фабричная\\\\Принципиальные схемы\\\\2517-АТР.2 л.10 Схемы увязок.dwg',\n 'D:\\\\Фабричная\\\\Фабричная\\\\Принципиальные схемы\\\\2517-АТР.2 л.11 Ограждение.dwg',\n 'D:\\\\Фабричная\\\\Фабричная\\\\Принципиальные схемы\\\\2517-АТР.2 л.12 Загальні схеми.dwg',\n 'D:\\\\Фабричная\\\\Фабричная\\\\Принципиальные схемы\\\\2517-АТР.2 л.13 Контр.предохр..dwg']"
     },
     "execution_count": 8,
     "metadata": {},
     "output_type": "execute_result"
    }
   ],
   "source": [
    "ad.circuit_ls_name"
   ],
   "metadata": {
    "collapsed": false
   }
  },
  {
   "cell_type": "code",
   "execution_count": 9,
   "outputs": [
    {
     "data": {
      "text/plain": "'D:\\\\Фабричная\\\\Фабричная\\\\Принципиальные схемы\\\\2517-АТР.2 л.10 Схемы увязок.dwg'"
     },
     "execution_count": 9,
     "metadata": {},
     "output_type": "execute_result"
    }
   ],
   "source": [
    "nsx = ad.circuit_ls_name[3]\n",
    "nsx"
   ],
   "metadata": {
    "collapsed": false
   }
  },
  {
   "cell_type": "code",
   "execution_count": 12,
   "outputs": [
    {
     "data": {
      "text/plain": "         h         r        x       y           layer  color linetype  \\\n196  2E3C6  0.750078  1438.06  128.73  PDF16_Geometry      1  ByLayer   \n197  2E3C3  0.749852  1438.06  144.73  PDF16_Geometry      1  ByLayer   \n198  31063  0.749852  1423.06  143.73   PDF2_Geometry      1  ByLayer   \n199  31065  0.749852  1423.06  127.73   PDF2_Geometry      1  ByLayer   \n200  31068  0.749852  1423.06  111.73   PDF2_Geometry      1  ByLayer   \n201  310DF  0.750078  1438.06   88.73  PDF16_Geometry      1  ByLayer   \n202  310DE  0.749852  1438.06  104.73  PDF16_Geometry      1  ByLayer   \n203  310E5  0.750078  1438.06   48.73  PDF16_Geometry      1  ByLayer   \n204  310E4  0.749852  1438.06   64.73  PDF16_Geometry      1  ByLayer   \n205  310FD  0.750078  1443.06    4.73   PDF2_Geometry      1  ByLayer   \n206  310FF  0.750078  1443.06  -11.27   PDF2_Geometry      1  ByLayer   \n207  31102  0.749852  1443.06  -27.27   PDF2_Geometry      1  ByLayer   \n\n     linetype_scale  lineweight material pit  \\\n196             1.0          25  ByLayer   М   \n197             1.0          25  ByLayer   П   \n198             1.0          25  ByLayer   П   \n199             1.0          25  ByLayer   П   \n200             1.0          25  ByLayer   П   \n201             1.0          25  ByLayer   М   \n202             1.0          25  ByLayer   П   \n203             1.0          25  ByLayer   М   \n204             1.0          25  ByLayer   П   \n205             1.0          25  ByLayer   М   \n206             1.0          25  ByLayer   М   \n207             1.0          25  ByLayer   М   \n\n                                            name_sxema  \n196  D:\\Фабричная\\Фабричная\\Принципиальные схемы\\25...  \n197  D:\\Фабричная\\Фабричная\\Принципиальные схемы\\25...  \n198  D:\\Фабричная\\Фабричная\\Принципиальные схемы\\25...  \n199  D:\\Фабричная\\Фабричная\\Принципиальные схемы\\25...  \n200  D:\\Фабричная\\Фабричная\\Принципиальные схемы\\25...  \n201  D:\\Фабричная\\Фабричная\\Принципиальные схемы\\25...  \n202  D:\\Фабричная\\Фабричная\\Принципиальные схемы\\25...  \n203  D:\\Фабричная\\Фабричная\\Принципиальные схемы\\25...  \n204  D:\\Фабричная\\Фабричная\\Принципиальные схемы\\25...  \n205  D:\\Фабричная\\Фабричная\\Принципиальные схемы\\25...  \n206  D:\\Фабричная\\Фабричная\\Принципиальные схемы\\25...  \n207  D:\\Фабричная\\Фабричная\\Принципиальные схемы\\25...  ",
      "text/html": "<div>\n<style scoped>\n    .dataframe tbody tr th:only-of-type {\n        vertical-align: middle;\n    }\n\n    .dataframe tbody tr th {\n        vertical-align: top;\n    }\n\n    .dataframe thead th {\n        text-align: right;\n    }\n</style>\n<table border=\"1\" class=\"dataframe\">\n  <thead>\n    <tr style=\"text-align: right;\">\n      <th></th>\n      <th>h</th>\n      <th>r</th>\n      <th>x</th>\n      <th>y</th>\n      <th>layer</th>\n      <th>color</th>\n      <th>linetype</th>\n      <th>linetype_scale</th>\n      <th>lineweight</th>\n      <th>material</th>\n      <th>pit</th>\n      <th>name_sxema</th>\n    </tr>\n  </thead>\n  <tbody>\n    <tr>\n      <th>196</th>\n      <td>2E3C6</td>\n      <td>0.750078</td>\n      <td>1438.06</td>\n      <td>128.73</td>\n      <td>PDF16_Geometry</td>\n      <td>1</td>\n      <td>ByLayer</td>\n      <td>1.0</td>\n      <td>25</td>\n      <td>ByLayer</td>\n      <td>М</td>\n      <td>D:\\Фабричная\\Фабричная\\Принципиальные схемы\\25...</td>\n    </tr>\n    <tr>\n      <th>197</th>\n      <td>2E3C3</td>\n      <td>0.749852</td>\n      <td>1438.06</td>\n      <td>144.73</td>\n      <td>PDF16_Geometry</td>\n      <td>1</td>\n      <td>ByLayer</td>\n      <td>1.0</td>\n      <td>25</td>\n      <td>ByLayer</td>\n      <td>П</td>\n      <td>D:\\Фабричная\\Фабричная\\Принципиальные схемы\\25...</td>\n    </tr>\n    <tr>\n      <th>198</th>\n      <td>31063</td>\n      <td>0.749852</td>\n      <td>1423.06</td>\n      <td>143.73</td>\n      <td>PDF2_Geometry</td>\n      <td>1</td>\n      <td>ByLayer</td>\n      <td>1.0</td>\n      <td>25</td>\n      <td>ByLayer</td>\n      <td>П</td>\n      <td>D:\\Фабричная\\Фабричная\\Принципиальные схемы\\25...</td>\n    </tr>\n    <tr>\n      <th>199</th>\n      <td>31065</td>\n      <td>0.749852</td>\n      <td>1423.06</td>\n      <td>127.73</td>\n      <td>PDF2_Geometry</td>\n      <td>1</td>\n      <td>ByLayer</td>\n      <td>1.0</td>\n      <td>25</td>\n      <td>ByLayer</td>\n      <td>П</td>\n      <td>D:\\Фабричная\\Фабричная\\Принципиальные схемы\\25...</td>\n    </tr>\n    <tr>\n      <th>200</th>\n      <td>31068</td>\n      <td>0.749852</td>\n      <td>1423.06</td>\n      <td>111.73</td>\n      <td>PDF2_Geometry</td>\n      <td>1</td>\n      <td>ByLayer</td>\n      <td>1.0</td>\n      <td>25</td>\n      <td>ByLayer</td>\n      <td>П</td>\n      <td>D:\\Фабричная\\Фабричная\\Принципиальные схемы\\25...</td>\n    </tr>\n    <tr>\n      <th>201</th>\n      <td>310DF</td>\n      <td>0.750078</td>\n      <td>1438.06</td>\n      <td>88.73</td>\n      <td>PDF16_Geometry</td>\n      <td>1</td>\n      <td>ByLayer</td>\n      <td>1.0</td>\n      <td>25</td>\n      <td>ByLayer</td>\n      <td>М</td>\n      <td>D:\\Фабричная\\Фабричная\\Принципиальные схемы\\25...</td>\n    </tr>\n    <tr>\n      <th>202</th>\n      <td>310DE</td>\n      <td>0.749852</td>\n      <td>1438.06</td>\n      <td>104.73</td>\n      <td>PDF16_Geometry</td>\n      <td>1</td>\n      <td>ByLayer</td>\n      <td>1.0</td>\n      <td>25</td>\n      <td>ByLayer</td>\n      <td>П</td>\n      <td>D:\\Фабричная\\Фабричная\\Принципиальные схемы\\25...</td>\n    </tr>\n    <tr>\n      <th>203</th>\n      <td>310E5</td>\n      <td>0.750078</td>\n      <td>1438.06</td>\n      <td>48.73</td>\n      <td>PDF16_Geometry</td>\n      <td>1</td>\n      <td>ByLayer</td>\n      <td>1.0</td>\n      <td>25</td>\n      <td>ByLayer</td>\n      <td>М</td>\n      <td>D:\\Фабричная\\Фабричная\\Принципиальные схемы\\25...</td>\n    </tr>\n    <tr>\n      <th>204</th>\n      <td>310E4</td>\n      <td>0.749852</td>\n      <td>1438.06</td>\n      <td>64.73</td>\n      <td>PDF16_Geometry</td>\n      <td>1</td>\n      <td>ByLayer</td>\n      <td>1.0</td>\n      <td>25</td>\n      <td>ByLayer</td>\n      <td>П</td>\n      <td>D:\\Фабричная\\Фабричная\\Принципиальные схемы\\25...</td>\n    </tr>\n    <tr>\n      <th>205</th>\n      <td>310FD</td>\n      <td>0.750078</td>\n      <td>1443.06</td>\n      <td>4.73</td>\n      <td>PDF2_Geometry</td>\n      <td>1</td>\n      <td>ByLayer</td>\n      <td>1.0</td>\n      <td>25</td>\n      <td>ByLayer</td>\n      <td>М</td>\n      <td>D:\\Фабричная\\Фабричная\\Принципиальные схемы\\25...</td>\n    </tr>\n    <tr>\n      <th>206</th>\n      <td>310FF</td>\n      <td>0.750078</td>\n      <td>1443.06</td>\n      <td>-11.27</td>\n      <td>PDF2_Geometry</td>\n      <td>1</td>\n      <td>ByLayer</td>\n      <td>1.0</td>\n      <td>25</td>\n      <td>ByLayer</td>\n      <td>М</td>\n      <td>D:\\Фабричная\\Фабричная\\Принципиальные схемы\\25...</td>\n    </tr>\n    <tr>\n      <th>207</th>\n      <td>31102</td>\n      <td>0.749852</td>\n      <td>1443.06</td>\n      <td>-27.27</td>\n      <td>PDF2_Geometry</td>\n      <td>1</td>\n      <td>ByLayer</td>\n      <td>1.0</td>\n      <td>25</td>\n      <td>ByLayer</td>\n      <td>М</td>\n      <td>D:\\Фабричная\\Фабричная\\Принципиальные схемы\\25...</td>\n    </tr>\n  </tbody>\n</table>\n</div>"
     },
     "execution_count": 12,
     "metadata": {},
     "output_type": "execute_result"
    }
   ],
   "source": [
    "df = ad.fdf_filter(ad.df_sx_sh_circle, ('name_sxema', nsx))\n",
    "df"
   ],
   "metadata": {
    "collapsed": false
   }
  },
  {
   "cell_type": "code",
   "execution_count": 14,
   "outputs": [
    {
     "data": {
      "text/plain": "[1438.06, 128.73, 'М']"
     },
     "execution_count": 14,
     "metadata": {},
     "output_type": "execute_result"
    }
   ],
   "source": [
    "df1 = ad.fdf_f_cols(df, ['x', 'y', 'pit'])\n",
    "df1"
   ],
   "metadata": {
    "collapsed": false
   }
  },
  {
   "cell_type": "code",
   "execution_count": 15,
   "outputs": [
    {
     "data": {
      "text/plain": "         h  txt    height  width        x       y  rot       layer     style  \\\n405  2E768  1-Ш  2.222633    0.0  1432.07  134.45  0.0  PDF16_Text  ISOCPEUR   \n411  2E770  1-Ш  2.222633    0.0  1432.07  150.45  0.0  PDF16_Text  ISOCPEUR   \n620  3106D  1-Ш  2.222633    0.0  1418.49  149.45  0.0   PDF2_Text  ISOCPEUR   \n635  310E0  1-Ш  2.222633    0.0  1432.07   94.45  0.0  PDF16_Text  ISOCPEUR   \n637  310E2  1-Ш  2.222633    0.0  1432.07  110.45  0.0  PDF16_Text  ISOCPEUR   \n639  310E6  1-Ш  2.222633    0.0  1432.07   54.45  0.0  PDF16_Text  ISOCPEUR   \n641  310E8  1-Ш  2.222633    0.0  1432.07   70.45  0.0  PDF16_Text  ISOCPEUR   \n645  31107  1-Ш  2.222633    0.0  1439.33   10.45  0.0   PDF2_Text  ISOCPEUR   \n\n     color linetype  linetype_scale  lineweight material  \n405      1  ByLayer             1.0          -1  ByLayer  \n411      1  ByLayer             1.0          -1  ByLayer  \n620      1  ByLayer             1.0          -1  ByLayer  \n635      1  ByLayer             1.0          -1  ByLayer  \n637      1  ByLayer             1.0          -1  ByLayer  \n639      1  ByLayer             1.0          -1  ByLayer  \n641      1  ByLayer             1.0          -1  ByLayer  \n645      1  ByLayer             1.0          -1  ByLayer  ",
      "text/html": "<div>\n<style scoped>\n    .dataframe tbody tr th:only-of-type {\n        vertical-align: middle;\n    }\n\n    .dataframe tbody tr th {\n        vertical-align: top;\n    }\n\n    .dataframe thead th {\n        text-align: right;\n    }\n</style>\n<table border=\"1\" class=\"dataframe\">\n  <thead>\n    <tr style=\"text-align: right;\">\n      <th></th>\n      <th>h</th>\n      <th>txt</th>\n      <th>height</th>\n      <th>width</th>\n      <th>x</th>\n      <th>y</th>\n      <th>rot</th>\n      <th>layer</th>\n      <th>style</th>\n      <th>color</th>\n      <th>linetype</th>\n      <th>linetype_scale</th>\n      <th>lineweight</th>\n      <th>material</th>\n    </tr>\n  </thead>\n  <tbody>\n    <tr>\n      <th>405</th>\n      <td>2E768</td>\n      <td>1-Ш</td>\n      <td>2.222633</td>\n      <td>0.0</td>\n      <td>1432.07</td>\n      <td>134.45</td>\n      <td>0.0</td>\n      <td>PDF16_Text</td>\n      <td>ISOCPEUR</td>\n      <td>1</td>\n      <td>ByLayer</td>\n      <td>1.0</td>\n      <td>-1</td>\n      <td>ByLayer</td>\n    </tr>\n    <tr>\n      <th>411</th>\n      <td>2E770</td>\n      <td>1-Ш</td>\n      <td>2.222633</td>\n      <td>0.0</td>\n      <td>1432.07</td>\n      <td>150.45</td>\n      <td>0.0</td>\n      <td>PDF16_Text</td>\n      <td>ISOCPEUR</td>\n      <td>1</td>\n      <td>ByLayer</td>\n      <td>1.0</td>\n      <td>-1</td>\n      <td>ByLayer</td>\n    </tr>\n    <tr>\n      <th>620</th>\n      <td>3106D</td>\n      <td>1-Ш</td>\n      <td>2.222633</td>\n      <td>0.0</td>\n      <td>1418.49</td>\n      <td>149.45</td>\n      <td>0.0</td>\n      <td>PDF2_Text</td>\n      <td>ISOCPEUR</td>\n      <td>1</td>\n      <td>ByLayer</td>\n      <td>1.0</td>\n      <td>-1</td>\n      <td>ByLayer</td>\n    </tr>\n    <tr>\n      <th>635</th>\n      <td>310E0</td>\n      <td>1-Ш</td>\n      <td>2.222633</td>\n      <td>0.0</td>\n      <td>1432.07</td>\n      <td>94.45</td>\n      <td>0.0</td>\n      <td>PDF16_Text</td>\n      <td>ISOCPEUR</td>\n      <td>1</td>\n      <td>ByLayer</td>\n      <td>1.0</td>\n      <td>-1</td>\n      <td>ByLayer</td>\n    </tr>\n    <tr>\n      <th>637</th>\n      <td>310E2</td>\n      <td>1-Ш</td>\n      <td>2.222633</td>\n      <td>0.0</td>\n      <td>1432.07</td>\n      <td>110.45</td>\n      <td>0.0</td>\n      <td>PDF16_Text</td>\n      <td>ISOCPEUR</td>\n      <td>1</td>\n      <td>ByLayer</td>\n      <td>1.0</td>\n      <td>-1</td>\n      <td>ByLayer</td>\n    </tr>\n    <tr>\n      <th>639</th>\n      <td>310E6</td>\n      <td>1-Ш</td>\n      <td>2.222633</td>\n      <td>0.0</td>\n      <td>1432.07</td>\n      <td>54.45</td>\n      <td>0.0</td>\n      <td>PDF16_Text</td>\n      <td>ISOCPEUR</td>\n      <td>1</td>\n      <td>ByLayer</td>\n      <td>1.0</td>\n      <td>-1</td>\n      <td>ByLayer</td>\n    </tr>\n    <tr>\n      <th>641</th>\n      <td>310E8</td>\n      <td>1-Ш</td>\n      <td>2.222633</td>\n      <td>0.0</td>\n      <td>1432.07</td>\n      <td>70.45</td>\n      <td>0.0</td>\n      <td>PDF16_Text</td>\n      <td>ISOCPEUR</td>\n      <td>1</td>\n      <td>ByLayer</td>\n      <td>1.0</td>\n      <td>-1</td>\n      <td>ByLayer</td>\n    </tr>\n    <tr>\n      <th>645</th>\n      <td>31107</td>\n      <td>1-Ш</td>\n      <td>2.222633</td>\n      <td>0.0</td>\n      <td>1439.33</td>\n      <td>10.45</td>\n      <td>0.0</td>\n      <td>PDF2_Text</td>\n      <td>ISOCPEUR</td>\n      <td>1</td>\n      <td>ByLayer</td>\n      <td>1.0</td>\n      <td>-1</td>\n      <td>ByLayer</td>\n    </tr>\n  </tbody>\n</table>\n</div>"
     },
     "execution_count": 15,
     "metadata": {},
     "output_type": "execute_result"
    }
   ],
   "source": [
    "df_sh = ad.fdf_match(ad.df_mtext, r'[1-3]-Ш')\n",
    "df_sh"
   ],
   "metadata": {
    "collapsed": false
   }
  },
  {
   "cell_type": "code",
   "execution_count": 31,
   "outputs": [
    {
     "data": {
      "text/plain": "         h     length       x1      y1       x2      y2  \\\n435  31064   1.249894  1421.06  143.73  1422.31  143.73   \n437  31067  14.499901  1423.06  142.98  1423.06  128.48   \n\n                                                points          layer  color  \\\n435  (1421.0554460433523, 143.72991277718575, 1422....  PDF2_Geometry      1   \n437  (1423.055347202382, 142.979905745241, 1423.055...  PDF2_Geometry    256   \n\n    linetype  closed  area  linetype_scale  lineweight material  thickness  \n435  ByLayer   False   0.0             1.0          25  ByLayer        0.0  \n437  ByLayer   False   0.0             1.0          25  ByLayer        0.0  ",
      "text/html": "<div>\n<style scoped>\n    .dataframe tbody tr th:only-of-type {\n        vertical-align: middle;\n    }\n\n    .dataframe tbody tr th {\n        vertical-align: top;\n    }\n\n    .dataframe thead th {\n        text-align: right;\n    }\n</style>\n<table border=\"1\" class=\"dataframe\">\n  <thead>\n    <tr style=\"text-align: right;\">\n      <th></th>\n      <th>h</th>\n      <th>length</th>\n      <th>x1</th>\n      <th>y1</th>\n      <th>x2</th>\n      <th>y2</th>\n      <th>points</th>\n      <th>layer</th>\n      <th>color</th>\n      <th>linetype</th>\n      <th>closed</th>\n      <th>area</th>\n      <th>linetype_scale</th>\n      <th>lineweight</th>\n      <th>material</th>\n      <th>thickness</th>\n    </tr>\n  </thead>\n  <tbody>\n    <tr>\n      <th>435</th>\n      <td>31064</td>\n      <td>1.249894</td>\n      <td>1421.06</td>\n      <td>143.73</td>\n      <td>1422.31</td>\n      <td>143.73</td>\n      <td>(1421.0554460433523, 143.72991277718575, 1422....</td>\n      <td>PDF2_Geometry</td>\n      <td>1</td>\n      <td>ByLayer</td>\n      <td>False</td>\n      <td>0.0</td>\n      <td>1.0</td>\n      <td>25</td>\n      <td>ByLayer</td>\n      <td>0.0</td>\n    </tr>\n    <tr>\n      <th>437</th>\n      <td>31067</td>\n      <td>14.499901</td>\n      <td>1423.06</td>\n      <td>142.98</td>\n      <td>1423.06</td>\n      <td>128.48</td>\n      <td>(1423.055347202382, 142.979905745241, 1423.055...</td>\n      <td>PDF2_Geometry</td>\n      <td>256</td>\n      <td>ByLayer</td>\n      <td>False</td>\n      <td>0.0</td>\n      <td>1.0</td>\n      <td>25</td>\n      <td>ByLayer</td>\n      <td>0.0</td>\n    </tr>\n  </tbody>\n</table>\n</div>"
     },
     "execution_count": 31,
     "metadata": {},
     "output_type": "execute_result"
    }
   ],
   "source": [
    "i=2\n",
    "h = df_sh.iloc[i]['h']\n",
    "x, y = ad.fdf_h_cols(ad.df_mtext, h, ['x', 'y'])\n",
    "ds = ad.find_text(ad.df_mtext, x, y, 8, 8, 0, 6, lst_filter=ad.ls_st_sh_name, h=h)\n",
    "# ds\n",
    "name_sh = ad.fdf_f_cols(ds, ['txt'])  # 'П'\n",
    "x, y = ad.fdf_f_cols(ds, ['x', 'y'])\n",
    "ds1 = ad.find_cirle(ad.df_circle, x, y, 5, 5, 0, 10, radius_lt=2)\n",
    "# ds1\n",
    "x, y = ad.fdf_f_cols(ds1, ['x', 'y'])\n",
    "df_lines = ad.find_polyline(ad.df_poly, x, y, 5, 5, 0, 10)\n",
    "df_lines"
   ],
   "metadata": {
    "collapsed": false
   }
  },
  {
   "cell_type": "code",
   "execution_count": 34,
   "outputs": [
    {
     "data": {
      "text/plain": "         h         r        x       y          layer  color linetype  \\\n164  31063  0.749852  1423.06  143.73  PDF2_Geometry      1  ByLayer   \n165  31065  0.749852  1423.06  127.73  PDF2_Geometry      1  ByLayer   \n166  31068  0.749852  1423.06  111.73  PDF2_Geometry      1  ByLayer   \n\n     linetype_scale  lineweight material pit h_name_sh one_k   h_k  \n164             1.0          25  ByLayer   П     3106D  many  None  \n165             1.0          25  ByLayer   П     3106D  many  None  \n166             1.0          25  ByLayer   П     3106D  many  None  ",
      "text/html": "<div>\n<style scoped>\n    .dataframe tbody tr th:only-of-type {\n        vertical-align: middle;\n    }\n\n    .dataframe tbody tr th {\n        vertical-align: top;\n    }\n\n    .dataframe thead th {\n        text-align: right;\n    }\n</style>\n<table border=\"1\" class=\"dataframe\">\n  <thead>\n    <tr style=\"text-align: right;\">\n      <th></th>\n      <th>h</th>\n      <th>r</th>\n      <th>x</th>\n      <th>y</th>\n      <th>layer</th>\n      <th>color</th>\n      <th>linetype</th>\n      <th>linetype_scale</th>\n      <th>lineweight</th>\n      <th>material</th>\n      <th>pit</th>\n      <th>h_name_sh</th>\n      <th>one_k</th>\n      <th>h_k</th>\n    </tr>\n  </thead>\n  <tbody>\n    <tr>\n      <th>164</th>\n      <td>31063</td>\n      <td>0.749852</td>\n      <td>1423.06</td>\n      <td>143.73</td>\n      <td>PDF2_Geometry</td>\n      <td>1</td>\n      <td>ByLayer</td>\n      <td>1.0</td>\n      <td>25</td>\n      <td>ByLayer</td>\n      <td>П</td>\n      <td>3106D</td>\n      <td>many</td>\n      <td>None</td>\n    </tr>\n    <tr>\n      <th>165</th>\n      <td>31065</td>\n      <td>0.749852</td>\n      <td>1423.06</td>\n      <td>127.73</td>\n      <td>PDF2_Geometry</td>\n      <td>1</td>\n      <td>ByLayer</td>\n      <td>1.0</td>\n      <td>25</td>\n      <td>ByLayer</td>\n      <td>П</td>\n      <td>3106D</td>\n      <td>many</td>\n      <td>None</td>\n    </tr>\n    <tr>\n      <th>166</th>\n      <td>31068</td>\n      <td>0.749852</td>\n      <td>1423.06</td>\n      <td>111.73</td>\n      <td>PDF2_Geometry</td>\n      <td>1</td>\n      <td>ByLayer</td>\n      <td>1.0</td>\n      <td>25</td>\n      <td>ByLayer</td>\n      <td>П</td>\n      <td>3106D</td>\n      <td>many</td>\n      <td>None</td>\n    </tr>\n  </tbody>\n</table>\n</div>"
     },
     "execution_count": 34,
     "metadata": {},
     "output_type": "execute_result"
    }
   ],
   "source": [
    "df2 = ad.find_cirle(ad.df_circle, x, y, 5, 5, 0, 180, radius_lt=2)\n",
    "df2['pit'] = name_sh\n",
    "df2['h_name_sh'] = h\n",
    "df2['one_k'] = 'many'\n",
    "df2['h_k'] = None\n",
    "df2"
   ],
   "metadata": {
    "collapsed": false
   }
  },
  {
   "cell_type": "code",
   "execution_count": 36,
   "outputs": [
    {
     "data": {
      "text/plain": "         h         r        x       y          layer  color linetype  \\\n164  31063  0.749852  1423.06  143.73  PDF2_Geometry      1  ByLayer   \n165  31065  0.749852  1423.06  127.73  PDF2_Geometry      1  ByLayer   \n166  31068  0.749852  1423.06  111.73  PDF2_Geometry      1  ByLayer   \n\n     linetype_scale  lineweight material pit h_name_sh one_k    h_k  \n164             1.0          25  ByLayer   П     3106D  many  3106F  \n165             1.0          25  ByLayer   П     3106D  many  3106C  \n166             1.0          25  ByLayer   П     3106D  many  3106B  ",
      "text/html": "<div>\n<style scoped>\n    .dataframe tbody tr th:only-of-type {\n        vertical-align: middle;\n    }\n\n    .dataframe tbody tr th {\n        vertical-align: top;\n    }\n\n    .dataframe thead th {\n        text-align: right;\n    }\n</style>\n<table border=\"1\" class=\"dataframe\">\n  <thead>\n    <tr style=\"text-align: right;\">\n      <th></th>\n      <th>h</th>\n      <th>r</th>\n      <th>x</th>\n      <th>y</th>\n      <th>layer</th>\n      <th>color</th>\n      <th>linetype</th>\n      <th>linetype_scale</th>\n      <th>lineweight</th>\n      <th>material</th>\n      <th>pit</th>\n      <th>h_name_sh</th>\n      <th>one_k</th>\n      <th>h_k</th>\n    </tr>\n  </thead>\n  <tbody>\n    <tr>\n      <th>164</th>\n      <td>31063</td>\n      <td>0.749852</td>\n      <td>1423.06</td>\n      <td>143.73</td>\n      <td>PDF2_Geometry</td>\n      <td>1</td>\n      <td>ByLayer</td>\n      <td>1.0</td>\n      <td>25</td>\n      <td>ByLayer</td>\n      <td>П</td>\n      <td>3106D</td>\n      <td>many</td>\n      <td>3106F</td>\n    </tr>\n    <tr>\n      <th>165</th>\n      <td>31065</td>\n      <td>0.749852</td>\n      <td>1423.06</td>\n      <td>127.73</td>\n      <td>PDF2_Geometry</td>\n      <td>1</td>\n      <td>ByLayer</td>\n      <td>1.0</td>\n      <td>25</td>\n      <td>ByLayer</td>\n      <td>П</td>\n      <td>3106D</td>\n      <td>many</td>\n      <td>3106C</td>\n    </tr>\n    <tr>\n      <th>166</th>\n      <td>31068</td>\n      <td>0.749852</td>\n      <td>1423.06</td>\n      <td>111.73</td>\n      <td>PDF2_Geometry</td>\n      <td>1</td>\n      <td>ByLayer</td>\n      <td>1.0</td>\n      <td>25</td>\n      <td>ByLayer</td>\n      <td>П</td>\n      <td>3106D</td>\n      <td>many</td>\n      <td>3106B</td>\n    </tr>\n  </tbody>\n</table>\n</div>"
     },
     "execution_count": 36,
     "metadata": {},
     "output_type": "execute_result"
    }
   ],
   "source": [
    "ls_filtr = ['**', '1', '2', '3', '4', '5', '6', '7', '8', '9', '10', '11', '12', '13', '14', '15', '16', '17', '18', '19', '20', '21', '22', '23', '24', '25', '26', '27', '28', '29', '30' ]\n",
    "for i in range(len(df2)):\n",
    "    x, y = df2.iloc[i][['x', 'y']]\n",
    "    h1 = df2.iloc[i]['h']\n",
    "    df3 = ad.find_text(ad.df_mtext, x, y, 3, 3, 3, 3, lst_filter=ls_filtr, h=h)\n",
    "    h_k = ad.fdf_f_cols(df3, ['h'])\n",
    "    ad.fdf_set_val(df2, h1, 'h_k', h_k)\n",
    "df2\n",
    "df3"
   ],
   "metadata": {
    "collapsed": false
   }
  },
  {
   "cell_type": "code",
   "execution_count": 26,
   "outputs": [],
   "source": [],
   "metadata": {
    "collapsed": false
   }
  },
  {
   "cell_type": "code",
   "execution_count": 32,
   "outputs": [
    {
     "data": {
      "text/plain": "         h txt    height  width       x       y  rot      layer     style  \\\n622  3106F  **  1.778111    0.0  1420.7  144.24  0.0  PDF2_Text  ISOCPEUR   \n\n     color linetype  linetype_scale  lineweight material  \n622      1  ByLayer             1.0          -1  ByLayer  ",
      "text/html": "<div>\n<style scoped>\n    .dataframe tbody tr th:only-of-type {\n        vertical-align: middle;\n    }\n\n    .dataframe tbody tr th {\n        vertical-align: top;\n    }\n\n    .dataframe thead th {\n        text-align: right;\n    }\n</style>\n<table border=\"1\" class=\"dataframe\">\n  <thead>\n    <tr style=\"text-align: right;\">\n      <th></th>\n      <th>h</th>\n      <th>txt</th>\n      <th>height</th>\n      <th>width</th>\n      <th>x</th>\n      <th>y</th>\n      <th>rot</th>\n      <th>layer</th>\n      <th>style</th>\n      <th>color</th>\n      <th>linetype</th>\n      <th>linetype_scale</th>\n      <th>lineweight</th>\n      <th>material</th>\n    </tr>\n  </thead>\n  <tbody>\n    <tr>\n      <th>622</th>\n      <td>3106F</td>\n      <td>**</td>\n      <td>1.778111</td>\n      <td>0.0</td>\n      <td>1420.7</td>\n      <td>144.24</td>\n      <td>0.0</td>\n      <td>PDF2_Text</td>\n      <td>ISOCPEUR</td>\n      <td>1</td>\n      <td>ByLayer</td>\n      <td>1.0</td>\n      <td>-1</td>\n      <td>ByLayer</td>\n    </tr>\n  </tbody>\n</table>\n</div>"
     },
     "execution_count": 32,
     "metadata": {},
     "output_type": "execute_result"
    }
   ],
   "source": [
    "ad.find_text(ad.df_mtext, x, y, 3, 3, 3, 3, lst_filter=ls_filtr, h=h)"
   ],
   "metadata": {
    "collapsed": false
   }
  },
  {
   "cell_type": "code",
   "execution_count": null,
   "outputs": [],
   "source": [],
   "metadata": {
    "collapsed": false
   }
  },
  {
   "cell_type": "code",
   "execution_count": null,
   "outputs": [],
   "source": [],
   "metadata": {
    "collapsed": false
   }
  },
  {
   "cell_type": "code",
   "execution_count": 28,
   "outputs": [
    {
     "data": {
      "text/plain": "        h     length       x1      y1       x2      y2  \\\n46  2E267  41.250034  1438.81  104.73  1477.06  101.73   \n\n                                               points           layer  color  \\\n46  (1438.805494940243, 104.72989984869241, 1442.0...  PDF16_Geometry      3   \n\n   linetype  closed       area  linetype_scale  lineweight material  thickness  \n46  ByLayer   False  35.218678             1.0          25  ByLayer        0.0  ",
      "text/html": "<div>\n<style scoped>\n    .dataframe tbody tr th:only-of-type {\n        vertical-align: middle;\n    }\n\n    .dataframe tbody tr th {\n        vertical-align: top;\n    }\n\n    .dataframe thead th {\n        text-align: right;\n    }\n</style>\n<table border=\"1\" class=\"dataframe\">\n  <thead>\n    <tr style=\"text-align: right;\">\n      <th></th>\n      <th>h</th>\n      <th>length</th>\n      <th>x1</th>\n      <th>y1</th>\n      <th>x2</th>\n      <th>y2</th>\n      <th>points</th>\n      <th>layer</th>\n      <th>color</th>\n      <th>linetype</th>\n      <th>closed</th>\n      <th>area</th>\n      <th>linetype_scale</th>\n      <th>lineweight</th>\n      <th>material</th>\n      <th>thickness</th>\n    </tr>\n  </thead>\n  <tbody>\n    <tr>\n      <th>46</th>\n      <td>2E267</td>\n      <td>41.250034</td>\n      <td>1438.81</td>\n      <td>104.73</td>\n      <td>1477.06</td>\n      <td>101.73</td>\n      <td>(1438.805494940243, 104.72989984869241, 1442.0...</td>\n      <td>PDF16_Geometry</td>\n      <td>3</td>\n      <td>ByLayer</td>\n      <td>False</td>\n      <td>35.218678</td>\n      <td>1.0</td>\n      <td>25</td>\n      <td>ByLayer</td>\n      <td>0.0</td>\n    </tr>\n  </tbody>\n</table>\n</div>"
     },
     "execution_count": 28,
     "metadata": {},
     "output_type": "execute_result"
    }
   ],
   "source": [
    "df_lines = ad.find_polyline(ad.df_poly, x, y, 5, 5, 0, 10)\n",
    "df_lines"
   ],
   "metadata": {
    "collapsed": false
   }
  },
  {
   "cell_type": "code",
   "execution_count": null,
   "outputs": [],
   "source": [
    "def _sx_search_sh_circle(self, name_sxema, apart=False):\n",
    "        if apart:\n",
    "            self._set_doc(name_sxema)\n",
    "\n",
    "        df_sh = self.fdf_match(self.df_mtext, r'[1-3]-Ш')\n",
    "        lsh = df_sh['h'].tolist()\n",
    "\n",
    "        for i in range(len(df_sh)):\n",
    "            h = df_sh.iloc[i]['h']\n",
    "            x, y = self.fdf_h_cols(self.df_mtext, h, ['x', 'y'])\n",
    "            ds = self.find_text(self.df_mtext, x, y, 8, 8, 0, 6, lst_filter=self.ls_st_sh_name, h=h)\n",
    "            if len(ds) > 0:\n",
    "                df2 = None\n",
    "                name_sh = self.fdf_f_cols(ds, ['txt'])  # 'П'\n",
    "                x, y = self.fdf_f_cols(ds, ['x', 'y'])\n",
    "                ds1 = self.find_cirle(self.df_circle, x, y, 5, 5, 0, 10, radius_lt=2)\n",
    "                if len(ds1) > 0:\n",
    "                    df2 = ds1\n",
    "                    df2['pit'] = name_sh\n",
    "                    df2['h_name_sh'] = h\n",
    "                    df2['one_k'] = 'one'\n",
    "\n",
    "                df_lines = self.find_polyline(self.df_poly, x, y, 5, 5, 0, 10)\n",
    "\n",
    "                if len(df_lines) > 0:\n",
    "                    is_line = False\n",
    "                    for i in range(len(df_lines)):\n",
    "                        res = df_lines.iloc[i]\n",
    "                        if res['x1'] == res['x2']:\n",
    "                            is_line = True\n",
    "                            break\n",
    "                    if is_line:\n",
    "                        df2 = self.find_cirle(self.df_circle, x, y, 5, 5, 0, 180, radius_lt=2)\n",
    "                        df2['pit'] = name_sh\n",
    "                        df2['h_name_sh'] = h\n",
    "                        df2['one_k'] = 'many'\n",
    "\n",
    "                if df2 is not None:\n",
    "                    df2['name_sxema'] = name_sxema\n",
    "                    if self.df_sx_sh_circle is None:\n",
    "                        self.df_sx_sh_circle = df2.copy()\n",
    "                    else:\n",
    "                        self.df_sx_sh_circle = self.df_sx_sh_circle.append(df2)\n",
    "                        self.df_sx_sh_circle = self.df_sx_sh_circle.reset_index(drop=True)\n",
    "\n",
    "                    self.df_sx_sh_circle.to_csv(self._get_path_code(prefix='sx_sh_circle', ext='.csv', folder='csv/'), index=False, sep='$')"
   ],
   "metadata": {
    "collapsed": false
   }
  },
  {
   "cell_type": "code",
   "execution_count": null,
   "outputs": [],
   "source": [],
   "metadata": {
    "collapsed": false
   }
  },
  {
   "cell_type": "code",
   "execution_count": null,
   "outputs": [],
   "source": [],
   "metadata": {
    "collapsed": false
   }
  },
  {
   "cell_type": "code",
   "execution_count": null,
   "outputs": [],
   "source": [],
   "metadata": {
    "collapsed": false
   }
  },
  {
   "cell_type": "code",
   "execution_count": null,
   "outputs": [],
   "source": [],
   "metadata": {
    "collapsed": false
   }
  },
  {
   "cell_type": "code",
   "execution_count": null,
   "outputs": [],
   "source": [],
   "metadata": {
    "collapsed": false
   }
  },
  {
   "cell_type": "code",
   "execution_count": 41,
   "outputs": [
    {
     "data": {
      "text/plain": "  st pol rd   k   r  c      h\n6  1   1  8  23  11  0  3DCE7",
      "text/html": "<div>\n<style scoped>\n    .dataframe tbody tr th:only-of-type {\n        vertical-align: middle;\n    }\n\n    .dataframe tbody tr th {\n        vertical-align: top;\n    }\n\n    .dataframe thead th {\n        text-align: right;\n    }\n</style>\n<table border=\"1\" class=\"dataframe\">\n  <thead>\n    <tr style=\"text-align: right;\">\n      <th></th>\n      <th>st</th>\n      <th>pol</th>\n      <th>rd</th>\n      <th>k</th>\n      <th>r</th>\n      <th>c</th>\n      <th>h</th>\n    </tr>\n  </thead>\n  <tbody>\n    <tr>\n      <th>6</th>\n      <td>1</td>\n      <td>1</td>\n      <td>8</td>\n      <td>23</td>\n      <td>11</td>\n      <td>0</td>\n      <td>3DCE7</td>\n    </tr>\n  </tbody>\n</table>\n</div>"
     },
     "execution_count": 41,
     "metadata": {},
     "output_type": "execute_result"
    }
   ],
   "source": [
    "ad.fdf_filter(ad.df_st_table, ('st', '1'), ('pol', '1'), ('rd', '8'), ('k', '23'))"
   ],
   "metadata": {
    "collapsed": false
   }
  },
  {
   "cell_type": "code",
   "execution_count": null,
   "outputs": [],
   "source": [],
   "metadata": {
    "collapsed": false
   }
  },
  {
   "cell_type": "code",
   "execution_count": null,
   "outputs": [],
   "source": [
    " def _sx_set_pit_contact(self, name_sxema, apart=False):\n",
    "        if apart:\n",
    "            self._set_doc(name_sxema)\n",
    "        df1 = self.df_sx_contacts[self.df_sx_contacts['b1'].isnull()]\n",
    "        for i in range(len(df1)):\n",
    "            res = df1.iloc[i]\n",
    "            h = res['h']\n",
    "            df_sx_sh_circle = self.fdf_filter(self.df_sx_sh_circle, ('name_sxema', name_sxema))\n",
    "            df2 = self._find_link_by_sh(df_sx_sh_circle, res['x'], res['y'], 10, 0, 5, 5, side=res['side'])\n",
    "            if df2 is not None:\n",
    "                df3 = df2['df']\n",
    "                pit = df3['pit'].values[0]\n",
    "\n",
    "                self.df_sx_contacts = self.fdf_set_val(self.df_sx_contacts, h, 'pit', pit)"
   ],
   "metadata": {
    "collapsed": false
   }
  },
  {
   "cell_type": "code",
   "execution_count": 16,
   "outputs": [
    {
     "data": {
      "text/plain": "      loc st pol rd     name   k      h        x       y       group  \\\n132  1-82  1   8  2       5А  11  2CB2A  7534.03  120.84  1-82;11:12   \n133  1-82  1   8  2       5А  12  2CB2B  7541.56  120.26  1-82;11:12   \n138  2-68  2   6  8     І ГП  11  2D0E9  7970.56  128.11  2-68;11:12   \n140  2-67  2   6  7    ІІ ГП  11  2D0ED  7991.56  118.11  2-67;11:12   \n142  2-66  2   6  6     1 СП  11  2D0E8  7970.56  108.11  2-66;11:12   \n..    ... ..  .. ..      ...  ..    ...      ...     ...         ...   \n981  1-88  1   8  8    0,5 А   1  2EA8E  1159.67 -203.74    1-88;2:1   \n983  1-61  1   6  1  КД1056Б  21  2EAA1  1180.32 -177.73  1-61;22:21   \n985  1-61  1   6  1     1-61  11  2EA9F  1180.33 -157.74  1-61;12:11   \n987  1-61  1   6  1  КД1056Б  31  2EAA3  1180.32 -225.73  1-61;32:31   \n989  1-61  1   6  1  КД1056Б  41  2EAA5  1180.32 -245.73  1-61;42:41   \n\n      direction   side                                         name_sxema  b1  \\\n132  horizontal   left  D:\\Фабричная\\Фабричная\\Принципиальные схемы\\25... NaN   \n133  horizontal  right  D:\\Фабричная\\Фабричная\\Принципиальные схемы\\25... NaN   \n138  horizontal   left  D:\\Фабричная\\Фабричная\\Принципиальные схемы\\25... NaN   \n140  horizontal   left  D:\\Фабричная\\Фабричная\\Принципиальные схемы\\25... NaN   \n142  horizontal   left  D:\\Фабричная\\Фабричная\\Принципиальные схемы\\25... NaN   \n..          ...    ...                                                ...  ..   \n981  horizontal  right  D:\\Фабричная\\Фабричная\\Принципиальные схемы\\25... NaN   \n983  horizontal  right  D:\\Фабричная\\Фабричная\\Принципиальные схемы\\25... NaN   \n985  horizontal  right  D:\\Фабричная\\Фабричная\\Принципиальные схемы\\25... NaN   \n987  horizontal  right  D:\\Фабричная\\Фабричная\\Принципиальные схемы\\25... NaN   \n989  horizontal  right  D:\\Фабричная\\Фабричная\\Принципиальные схемы\\25... NaN   \n\n      b2  l1  l2  pit  \n132  NaN NaN NaN  NaN  \n133  NaN NaN NaN  NaN  \n138  NaN NaN NaN  NaN  \n140  NaN NaN NaN  NaN  \n142  NaN NaN NaN  NaN  \n..   ...  ..  ..  ...  \n981  NaN NaN NaN  NaN  \n983  NaN NaN NaN  NaN  \n985  NaN NaN NaN  NaN  \n987  NaN NaN NaN  NaN  \n989  NaN NaN NaN  NaN  \n\n[407 rows x 18 columns]",
      "text/html": "<div>\n<style scoped>\n    .dataframe tbody tr th:only-of-type {\n        vertical-align: middle;\n    }\n\n    .dataframe tbody tr th {\n        vertical-align: top;\n    }\n\n    .dataframe thead th {\n        text-align: right;\n    }\n</style>\n<table border=\"1\" class=\"dataframe\">\n  <thead>\n    <tr style=\"text-align: right;\">\n      <th></th>\n      <th>loc</th>\n      <th>st</th>\n      <th>pol</th>\n      <th>rd</th>\n      <th>name</th>\n      <th>k</th>\n      <th>h</th>\n      <th>x</th>\n      <th>y</th>\n      <th>group</th>\n      <th>direction</th>\n      <th>side</th>\n      <th>name_sxema</th>\n      <th>b1</th>\n      <th>b2</th>\n      <th>l1</th>\n      <th>l2</th>\n      <th>pit</th>\n    </tr>\n  </thead>\n  <tbody>\n    <tr>\n      <th>132</th>\n      <td>1-82</td>\n      <td>1</td>\n      <td>8</td>\n      <td>2</td>\n      <td>5А</td>\n      <td>11</td>\n      <td>2CB2A</td>\n      <td>7534.03</td>\n      <td>120.84</td>\n      <td>1-82;11:12</td>\n      <td>horizontal</td>\n      <td>left</td>\n      <td>D:\\Фабричная\\Фабричная\\Принципиальные схемы\\25...</td>\n      <td>NaN</td>\n      <td>NaN</td>\n      <td>NaN</td>\n      <td>NaN</td>\n      <td>NaN</td>\n    </tr>\n    <tr>\n      <th>133</th>\n      <td>1-82</td>\n      <td>1</td>\n      <td>8</td>\n      <td>2</td>\n      <td>5А</td>\n      <td>12</td>\n      <td>2CB2B</td>\n      <td>7541.56</td>\n      <td>120.26</td>\n      <td>1-82;11:12</td>\n      <td>horizontal</td>\n      <td>right</td>\n      <td>D:\\Фабричная\\Фабричная\\Принципиальные схемы\\25...</td>\n      <td>NaN</td>\n      <td>NaN</td>\n      <td>NaN</td>\n      <td>NaN</td>\n      <td>NaN</td>\n    </tr>\n    <tr>\n      <th>138</th>\n      <td>2-68</td>\n      <td>2</td>\n      <td>6</td>\n      <td>8</td>\n      <td>І ГП</td>\n      <td>11</td>\n      <td>2D0E9</td>\n      <td>7970.56</td>\n      <td>128.11</td>\n      <td>2-68;11:12</td>\n      <td>horizontal</td>\n      <td>left</td>\n      <td>D:\\Фабричная\\Фабричная\\Принципиальные схемы\\25...</td>\n      <td>NaN</td>\n      <td>NaN</td>\n      <td>NaN</td>\n      <td>NaN</td>\n      <td>NaN</td>\n    </tr>\n    <tr>\n      <th>140</th>\n      <td>2-67</td>\n      <td>2</td>\n      <td>6</td>\n      <td>7</td>\n      <td>ІІ ГП</td>\n      <td>11</td>\n      <td>2D0ED</td>\n      <td>7991.56</td>\n      <td>118.11</td>\n      <td>2-67;11:12</td>\n      <td>horizontal</td>\n      <td>left</td>\n      <td>D:\\Фабричная\\Фабричная\\Принципиальные схемы\\25...</td>\n      <td>NaN</td>\n      <td>NaN</td>\n      <td>NaN</td>\n      <td>NaN</td>\n      <td>NaN</td>\n    </tr>\n    <tr>\n      <th>142</th>\n      <td>2-66</td>\n      <td>2</td>\n      <td>6</td>\n      <td>6</td>\n      <td>1 СП</td>\n      <td>11</td>\n      <td>2D0E8</td>\n      <td>7970.56</td>\n      <td>108.11</td>\n      <td>2-66;11:12</td>\n      <td>horizontal</td>\n      <td>left</td>\n      <td>D:\\Фабричная\\Фабричная\\Принципиальные схемы\\25...</td>\n      <td>NaN</td>\n      <td>NaN</td>\n      <td>NaN</td>\n      <td>NaN</td>\n      <td>NaN</td>\n    </tr>\n    <tr>\n      <th>...</th>\n      <td>...</td>\n      <td>...</td>\n      <td>...</td>\n      <td>...</td>\n      <td>...</td>\n      <td>...</td>\n      <td>...</td>\n      <td>...</td>\n      <td>...</td>\n      <td>...</td>\n      <td>...</td>\n      <td>...</td>\n      <td>...</td>\n      <td>...</td>\n      <td>...</td>\n      <td>...</td>\n      <td>...</td>\n      <td>...</td>\n    </tr>\n    <tr>\n      <th>981</th>\n      <td>1-88</td>\n      <td>1</td>\n      <td>8</td>\n      <td>8</td>\n      <td>0,5 А</td>\n      <td>1</td>\n      <td>2EA8E</td>\n      <td>1159.67</td>\n      <td>-203.74</td>\n      <td>1-88;2:1</td>\n      <td>horizontal</td>\n      <td>right</td>\n      <td>D:\\Фабричная\\Фабричная\\Принципиальные схемы\\25...</td>\n      <td>NaN</td>\n      <td>NaN</td>\n      <td>NaN</td>\n      <td>NaN</td>\n      <td>NaN</td>\n    </tr>\n    <tr>\n      <th>983</th>\n      <td>1-61</td>\n      <td>1</td>\n      <td>6</td>\n      <td>1</td>\n      <td>КД1056Б</td>\n      <td>21</td>\n      <td>2EAA1</td>\n      <td>1180.32</td>\n      <td>-177.73</td>\n      <td>1-61;22:21</td>\n      <td>horizontal</td>\n      <td>right</td>\n      <td>D:\\Фабричная\\Фабричная\\Принципиальные схемы\\25...</td>\n      <td>NaN</td>\n      <td>NaN</td>\n      <td>NaN</td>\n      <td>NaN</td>\n      <td>NaN</td>\n    </tr>\n    <tr>\n      <th>985</th>\n      <td>1-61</td>\n      <td>1</td>\n      <td>6</td>\n      <td>1</td>\n      <td>1-61</td>\n      <td>11</td>\n      <td>2EA9F</td>\n      <td>1180.33</td>\n      <td>-157.74</td>\n      <td>1-61;12:11</td>\n      <td>horizontal</td>\n      <td>right</td>\n      <td>D:\\Фабричная\\Фабричная\\Принципиальные схемы\\25...</td>\n      <td>NaN</td>\n      <td>NaN</td>\n      <td>NaN</td>\n      <td>NaN</td>\n      <td>NaN</td>\n    </tr>\n    <tr>\n      <th>987</th>\n      <td>1-61</td>\n      <td>1</td>\n      <td>6</td>\n      <td>1</td>\n      <td>КД1056Б</td>\n      <td>31</td>\n      <td>2EAA3</td>\n      <td>1180.32</td>\n      <td>-225.73</td>\n      <td>1-61;32:31</td>\n      <td>horizontal</td>\n      <td>right</td>\n      <td>D:\\Фабричная\\Фабричная\\Принципиальные схемы\\25...</td>\n      <td>NaN</td>\n      <td>NaN</td>\n      <td>NaN</td>\n      <td>NaN</td>\n      <td>NaN</td>\n    </tr>\n    <tr>\n      <th>989</th>\n      <td>1-61</td>\n      <td>1</td>\n      <td>6</td>\n      <td>1</td>\n      <td>КД1056Б</td>\n      <td>41</td>\n      <td>2EAA5</td>\n      <td>1180.32</td>\n      <td>-245.73</td>\n      <td>1-61;42:41</td>\n      <td>horizontal</td>\n      <td>right</td>\n      <td>D:\\Фабричная\\Фабричная\\Принципиальные схемы\\25...</td>\n      <td>NaN</td>\n      <td>NaN</td>\n      <td>NaN</td>\n      <td>NaN</td>\n      <td>NaN</td>\n    </tr>\n  </tbody>\n</table>\n<p>407 rows × 18 columns</p>\n</div>"
     },
     "execution_count": 16,
     "metadata": {},
     "output_type": "execute_result"
    }
   ],
   "source": [
    "df1 = ad.df_sx_contacts[ad.df_sx_contacts['b2'].isnull()]\n",
    "df1"
   ],
   "metadata": {
    "collapsed": false
   }
  },
  {
   "cell_type": "code",
   "execution_count": 25,
   "outputs": [],
   "source": [
    "df1 = ad.fdf_filter(df1, ('name_sxema', ad.circuit_ls_name[0]))"
   ],
   "metadata": {
    "collapsed": false
   }
  },
  {
   "cell_type": "code",
   "execution_count": 27,
   "outputs": [],
   "source": [
    "i = 20\n",
    "res = df1.iloc[i]\n",
    "h = res['h']\n",
    "df_sx_sh_circle = ad.fdf_filter(ad.df_sx_sh_circle, ('name_sxema', ad.circuit_ls_name[0]))"
   ],
   "metadata": {
    "collapsed": false
   }
  },
  {
   "cell_type": "code",
   "execution_count": 28,
   "outputs": [],
   "source": [
    "df2 = ad._find_link_by_sh(df_sx_sh_circle, res['x'], res['y'], 10, 0, 5, 5, side=res['side'])"
   ],
   "metadata": {
    "collapsed": false
   }
  },
  {
   "cell_type": "code",
   "execution_count": 30,
   "outputs": [],
   "source": [
    "pit = df2['pit'].values[0]"
   ],
   "metadata": {
    "collapsed": false
   }
  },
  {
   "cell_type": "code",
   "execution_count": null,
   "outputs": [],
   "source": [],
   "metadata": {
    "collapsed": false
   }
  },
  {
   "cell_type": "code",
   "execution_count": 21,
   "outputs": [],
   "source": [
    "ad._set_doc(ad.circuit_ls_name[0])"
   ],
   "metadata": {
    "collapsed": false
   }
  },
  {
   "cell_type": "code",
   "execution_count": 20,
   "outputs": [
    {
     "data": {
      "text/plain": "'D:\\\\Фабричная\\\\Фабричная\\\\Принципиальные схемы\\\\2517-АТР.2 л.3 Схемы РЦ Неч..dwg'"
     },
     "execution_count": 20,
     "metadata": {},
     "output_type": "execute_result"
    }
   ],
   "source": [
    "ad.circuit_ls_name[0]"
   ],
   "metadata": {
    "collapsed": false
   }
  },
  {
   "cell_type": "code",
   "execution_count": 22,
   "outputs": [
    {
     "data": {
      "text/plain": "'2517-АТР.2 л.3 Схемы РЦ Неч..dwg'"
     },
     "execution_count": 22,
     "metadata": {},
     "output_type": "execute_result"
    }
   ],
   "source": [
    "ad.doc.Name"
   ],
   "metadata": {
    "collapsed": false
   }
  },
  {
   "cell_type": "code",
   "execution_count": null,
   "outputs": [],
   "source": [],
   "metadata": {
    "collapsed": false
   }
  },
  {
   "cell_type": "code",
   "execution_count": 6,
   "outputs": [
    {
     "data": {
      "text/plain": "'D:\\\\Фабричная\\\\Фабричная\\\\Принципиальные схемы\\\\2517-АТР.2 л.3 Схемы РЦ Неч..dwg'"
     },
     "execution_count": 6,
     "metadata": {},
     "output_type": "execute_result"
    }
   ],
   "source": [
    "nsx = ad.circuit_ls_name[0]\n",
    "nsx"
   ],
   "metadata": {
    "collapsed": false
   }
  },
  {
   "cell_type": "code",
   "execution_count": 8,
   "outputs": [
    {
     "data": {
      "text/plain": "    loc st pol rd   name   k      h        x       y       group direction  \\\n0  2-68  2   6  8   І ГП  82  29AD1  1671.56  140.83  2-68;82:22  vertical   \n1  2-68  2   6  8   І ГП  22  29AD4  1671.56  130.81  2-68;82:22  vertical   \n2  2-67  2   6  7  ІІ ГП  82  29B02  1671.56  100.83  2-67;82:22  vertical   \n\n     side                                         name_sxema  b1  b2  l1  l2  \\\n0     top  D:\\Фабричная\\Фабричная\\Принципиальные схемы\\25... NaN NaN NaN NaN   \n1  bottom  D:\\Фабричная\\Фабричная\\Принципиальные схемы\\25... NaN NaN NaN NaN   \n2     top  D:\\Фабричная\\Фабричная\\Принципиальные схемы\\25... NaN NaN NaN NaN   \n\n   pit  \n0  NaN  \n1  NaN  \n2  NaN  ",
      "text/html": "<div>\n<style scoped>\n    .dataframe tbody tr th:only-of-type {\n        vertical-align: middle;\n    }\n\n    .dataframe tbody tr th {\n        vertical-align: top;\n    }\n\n    .dataframe thead th {\n        text-align: right;\n    }\n</style>\n<table border=\"1\" class=\"dataframe\">\n  <thead>\n    <tr style=\"text-align: right;\">\n      <th></th>\n      <th>loc</th>\n      <th>st</th>\n      <th>pol</th>\n      <th>rd</th>\n      <th>name</th>\n      <th>k</th>\n      <th>h</th>\n      <th>x</th>\n      <th>y</th>\n      <th>group</th>\n      <th>direction</th>\n      <th>side</th>\n      <th>name_sxema</th>\n      <th>b1</th>\n      <th>b2</th>\n      <th>l1</th>\n      <th>l2</th>\n      <th>pit</th>\n    </tr>\n  </thead>\n  <tbody>\n    <tr>\n      <th>0</th>\n      <td>2-68</td>\n      <td>2</td>\n      <td>6</td>\n      <td>8</td>\n      <td>І ГП</td>\n      <td>82</td>\n      <td>29AD1</td>\n      <td>1671.56</td>\n      <td>140.83</td>\n      <td>2-68;82:22</td>\n      <td>vertical</td>\n      <td>top</td>\n      <td>D:\\Фабричная\\Фабричная\\Принципиальные схемы\\25...</td>\n      <td>NaN</td>\n      <td>NaN</td>\n      <td>NaN</td>\n      <td>NaN</td>\n      <td>NaN</td>\n    </tr>\n    <tr>\n      <th>1</th>\n      <td>2-68</td>\n      <td>2</td>\n      <td>6</td>\n      <td>8</td>\n      <td>І ГП</td>\n      <td>22</td>\n      <td>29AD4</td>\n      <td>1671.56</td>\n      <td>130.81</td>\n      <td>2-68;82:22</td>\n      <td>vertical</td>\n      <td>bottom</td>\n      <td>D:\\Фабричная\\Фабричная\\Принципиальные схемы\\25...</td>\n      <td>NaN</td>\n      <td>NaN</td>\n      <td>NaN</td>\n      <td>NaN</td>\n      <td>NaN</td>\n    </tr>\n    <tr>\n      <th>2</th>\n      <td>2-67</td>\n      <td>2</td>\n      <td>6</td>\n      <td>7</td>\n      <td>ІІ ГП</td>\n      <td>82</td>\n      <td>29B02</td>\n      <td>1671.56</td>\n      <td>100.83</td>\n      <td>2-67;82:22</td>\n      <td>vertical</td>\n      <td>top</td>\n      <td>D:\\Фабричная\\Фабричная\\Принципиальные схемы\\25...</td>\n      <td>NaN</td>\n      <td>NaN</td>\n      <td>NaN</td>\n      <td>NaN</td>\n      <td>NaN</td>\n    </tr>\n  </tbody>\n</table>\n</div>"
     },
     "execution_count": 8,
     "metadata": {},
     "output_type": "execute_result"
    }
   ],
   "source": [
    "df = ad.fdf_filter(ad.df_sx_contacts, ('name_sxema', nsx))\n",
    "df.head(3)"
   ],
   "metadata": {
    "collapsed": false
   }
  },
  {
   "cell_type": "code",
   "execution_count": 9,
   "outputs": [
    {
     "data": {
      "text/plain": "(1671.56, 140.83)"
     },
     "execution_count": 9,
     "metadata": {},
     "output_type": "execute_result"
    }
   ],
   "source": [
    "x, y = df['x'].values[0], df['y'].values[0]\n",
    "x, y"
   ],
   "metadata": {
    "collapsed": false
   }
  },
  {
   "cell_type": "code",
   "execution_count": 30,
   "outputs": [],
   "source": [
    "ad._set_doc(nsx)"
   ],
   "metadata": {
    "collapsed": false
   }
  },
  {
   "cell_type": "code",
   "execution_count": 32,
   "outputs": [
    {
     "data": {
      "text/plain": "<win32com.gen_py.AutoCAD 2021 Type Library.IAcadSelectionSet instance at 0x2114752849664>"
     },
     "execution_count": 32,
     "metadata": {},
     "output_type": "execute_result"
    }
   ],
   "source": [
    "ss1 = ad.doc.SelectionSets.Add('ss2')\n",
    "ss1"
   ],
   "metadata": {
    "collapsed": false
   }
  },
  {
   "cell_type": "code",
   "execution_count": 20,
   "outputs": [
    {
     "data": {
      "text/plain": "(win32com.client.VARIANT(8197, (1621.56, 90.83000000000001, 0)),\n win32com.client.VARIANT(8197, (1721.56, 190.83, 0)))"
     },
     "execution_count": 20,
     "metadata": {},
     "output_type": "execute_result"
    }
   ],
   "source": [
    "p1 = ad.a_point(x-50, y-50)\n",
    "p2 = ad.a_point(x+50, y+50)\n",
    "p1, p2"
   ],
   "metadata": {
    "collapsed": false
   }
  },
  {
   "cell_type": "code",
   "execution_count": null,
   "outputs": [],
   "source": [
    "ss1.SelectOnScreen()"
   ],
   "metadata": {
    "collapsed": false,
    "pycharm": {
     "is_executing": true
    }
   }
  },
  {
   "cell_type": "code",
   "execution_count": 33,
   "outputs": [],
   "source": [
    "ss1.Select(1, p1, p2)"
   ],
   "metadata": {
    "collapsed": false
   }
  },
  {
   "cell_type": "code",
   "execution_count": 19,
   "outputs": [
    {
     "data": {
      "text/plain": "0"
     },
     "execution_count": 19,
     "metadata": {},
     "output_type": "execute_result"
    }
   ],
   "source": [
    "ss1.Count"
   ],
   "metadata": {
    "collapsed": false
   }
  },
  {
   "cell_type": "code",
   "execution_count": null,
   "outputs": [],
   "source": [],
   "metadata": {
    "collapsed": false
   }
  },
  {
   "cell_type": "code",
   "execution_count": 90,
   "outputs": [
    {
     "data": {
      "text/plain": "['D:\\\\Фабричная\\\\Фабричная\\\\Принципиальные схемы\\\\2517-АТР.2 л.3 Схемы РЦ Неч..dwg',\n 'D:\\\\Фабричная\\\\Фабричная\\\\Принципиальные схемы\\\\2517-АТР.2 л.4 Схемы РЦ Чет..dwg',\n 'D:\\\\Фабричная\\\\Фабричная\\\\Принципиальные схемы\\\\2517-АТР.2 л.9 Переезды.dwg',\n 'D:\\\\Фабричная\\\\Фабричная\\\\Принципиальные схемы\\\\2517-АТР.2 л.10 Схемы увязок.dwg',\n 'D:\\\\Фабричная\\\\Фабричная\\\\Принципиальные схемы\\\\2517-АТР.2 л.11 Ограждение.dwg',\n 'D:\\\\Фабричная\\\\Фабричная\\\\Принципиальные схемы\\\\2517-АТР.2 л.12 Загальні схеми.dwg',\n 'D:\\\\Фабричная\\\\Фабричная\\\\Принципиальные схемы\\\\2517-АТР.2 л.13 Контр.предохр..dwg']"
     },
     "execution_count": 90,
     "metadata": {},
     "output_type": "execute_result"
    }
   ],
   "source": [
    "ad.circuit_ls_name"
   ],
   "metadata": {
    "collapsed": false
   }
  },
  {
   "cell_type": "code",
   "execution_count": 116,
   "outputs": [],
   "source": [
    "nsx = ad.circuit_ls_name[2]\n",
    "ad._set_doc(nsx)"
   ],
   "metadata": {
    "collapsed": false
   }
  },
  {
   "cell_type": "code",
   "execution_count": 113,
   "outputs": [],
   "source": [
    "# ad._read_mtexts()"
   ],
   "metadata": {
    "collapsed": false
   }
  },
  {
   "cell_type": "code",
   "execution_count": 18,
   "outputs": [
    {
     "data": {
      "text/plain": "('2', 'П')"
     },
     "execution_count": 18,
     "metadata": {},
     "output_type": "execute_result"
    }
   ],
   "source": [
    "s1 = '2Ш-П'\n",
    "pol, pit = s1.split('Ш-')\n",
    "pol, pit"
   ],
   "metadata": {
    "collapsed": false
   }
  },
  {
   "cell_type": "code",
   "execution_count": null,
   "outputs": [],
   "source": [],
   "metadata": {
    "collapsed": false
   }
  },
  {
   "cell_type": "code",
   "execution_count": 117,
   "outputs": [],
   "source": [
    "ad._sx_search_contacts(nsx, True)"
   ],
   "metadata": {
    "collapsed": false
   }
  },
  {
   "cell_type": "code",
   "execution_count": 96,
   "outputs": [
    {
     "data": {
      "text/plain": "'D:\\\\Фабричная\\\\Фабричная\\\\Принципиальные схемы\\\\2517-АТР.2 л.13 Контр.предохр..dwg'"
     },
     "execution_count": 96,
     "metadata": {},
     "output_type": "execute_result"
    }
   ],
   "source": [
    "nsx"
   ],
   "metadata": {
    "collapsed": false
   }
  },
  {
   "cell_type": "code",
   "execution_count": 110,
   "outputs": [
    {
     "data": {
      "text/plain": "         h  txt    height  width        x      y  rot      layer     style  \\\n442  29DD8  113  1.333565    0.0  1594.96  91.28  0.0  PDF2_Text  ISOCPEUR   \n\n     color linetype  linetype_scale  lineweight material  \n442      3  ByLayer             1.0          -1  ByLayer  ",
      "text/html": "<div>\n<style scoped>\n    .dataframe tbody tr th:only-of-type {\n        vertical-align: middle;\n    }\n\n    .dataframe tbody tr th {\n        vertical-align: top;\n    }\n\n    .dataframe thead th {\n        text-align: right;\n    }\n</style>\n<table border=\"1\" class=\"dataframe\">\n  <thead>\n    <tr style=\"text-align: right;\">\n      <th></th>\n      <th>h</th>\n      <th>txt</th>\n      <th>height</th>\n      <th>width</th>\n      <th>x</th>\n      <th>y</th>\n      <th>rot</th>\n      <th>layer</th>\n      <th>style</th>\n      <th>color</th>\n      <th>linetype</th>\n      <th>linetype_scale</th>\n      <th>lineweight</th>\n      <th>material</th>\n    </tr>\n  </thead>\n  <tbody>\n    <tr>\n      <th>442</th>\n      <td>29DD8</td>\n      <td>113</td>\n      <td>1.333565</td>\n      <td>0.0</td>\n      <td>1594.96</td>\n      <td>91.28</td>\n      <td>0.0</td>\n      <td>PDF2_Text</td>\n      <td>ISOCPEUR</td>\n      <td>3</td>\n      <td>ByLayer</td>\n      <td>1.0</td>\n      <td>-1</td>\n      <td>ByLayer</td>\n    </tr>\n  </tbody>\n</table>\n</div>"
     },
     "execution_count": 110,
     "metadata": {},
     "output_type": "execute_result"
    }
   ],
   "source": [
    "ad.fdf_match(ad.df_mtext, r'113')"
   ],
   "metadata": {
    "collapsed": false
   }
  },
  {
   "cell_type": "code",
   "execution_count": null,
   "outputs": [],
   "source": [],
   "metadata": {
    "collapsed": false
   }
  },
  {
   "cell_type": "code",
   "execution_count": 9,
   "outputs": [
    {
     "data": {
      "text/plain": "        h  height  width  rows  columns        x       y  layer     style  \\\n10  46BB8    87.0   50.0    21        3  8208.49  264.12      0  Standard   \n11  46BB9    87.0   50.0    21        3  8143.82  264.12      0  Standard   \n12  46BBA    87.0   50.0    21        3  8080.65  264.12      0  Standard   \n13  46BBB    87.0   50.0    21        3  8017.70  264.12      0  Standard   \n14  46BBC    87.0   50.0    21        3  7954.74  264.12      0  Standard   \n15  46BBD    87.0   50.0    21        3  7890.07  264.12      0  Standard   \n16  46BBE    87.0   50.0    21        3  7786.78  264.12      0  Standard   \n17  46BBF    87.0   50.0    21        3  7723.82  264.12      0  Standard   \n18  46BC0    87.0   50.0    21        3  7723.82  147.12      0  Standard   \n19  46BC1    87.0   50.0    21        3  7786.78  147.12      0  Standard   \n20  46BC2    87.0   50.0    21        3  7890.07  147.12      0  Standard   \n21  46BC3    87.0   50.0    21        3  7954.74  147.12      0  Standard   \n22  46BC4    87.0   50.0    21        3  8017.70  147.12      0  Standard   \n23  46BC5    87.0   50.0    21        3  8080.65  147.12      0  Standard   \n24  46BC6    87.0   50.0    21        3  8143.82  147.12      0  Standard   \n25  46BC7    87.0   50.0    21        3  8208.49  147.12      0  Standard   \n\n    color linetype  linetype_scale  lineweight material  \n10      0  ByLayer             1.0           0  ByLayer  \n11      0  ByLayer             1.0           0  ByLayer  \n12      0  ByLayer             1.0           0  ByLayer  \n13      0  ByLayer             1.0           0  ByLayer  \n14      0  ByLayer             1.0           0  ByLayer  \n15      0  ByLayer             1.0           0  ByLayer  \n16      0  ByLayer             1.0           0  ByLayer  \n17      0  ByLayer             1.0           0  ByLayer  \n18      0  ByLayer             1.0           0  ByLayer  \n19      0  ByLayer             1.0           0  ByLayer  \n20      0  ByLayer             1.0           0  ByLayer  \n21      0  ByLayer             1.0           0  ByLayer  \n22      0  ByLayer             1.0           0  ByLayer  \n23      0  ByLayer             1.0           0  ByLayer  \n24      0  ByLayer             1.0           0  ByLayer  \n25      0  ByLayer             1.0           0  ByLayer  ",
      "text/html": "<div>\n<style scoped>\n    .dataframe tbody tr th:only-of-type {\n        vertical-align: middle;\n    }\n\n    .dataframe tbody tr th {\n        vertical-align: top;\n    }\n\n    .dataframe thead th {\n        text-align: right;\n    }\n</style>\n<table border=\"1\" class=\"dataframe\">\n  <thead>\n    <tr style=\"text-align: right;\">\n      <th></th>\n      <th>h</th>\n      <th>height</th>\n      <th>width</th>\n      <th>rows</th>\n      <th>columns</th>\n      <th>x</th>\n      <th>y</th>\n      <th>layer</th>\n      <th>style</th>\n      <th>color</th>\n      <th>linetype</th>\n      <th>linetype_scale</th>\n      <th>lineweight</th>\n      <th>material</th>\n    </tr>\n  </thead>\n  <tbody>\n    <tr>\n      <th>10</th>\n      <td>46BB8</td>\n      <td>87.0</td>\n      <td>50.0</td>\n      <td>21</td>\n      <td>3</td>\n      <td>8208.49</td>\n      <td>264.12</td>\n      <td>0</td>\n      <td>Standard</td>\n      <td>0</td>\n      <td>ByLayer</td>\n      <td>1.0</td>\n      <td>0</td>\n      <td>ByLayer</td>\n    </tr>\n    <tr>\n      <th>11</th>\n      <td>46BB9</td>\n      <td>87.0</td>\n      <td>50.0</td>\n      <td>21</td>\n      <td>3</td>\n      <td>8143.82</td>\n      <td>264.12</td>\n      <td>0</td>\n      <td>Standard</td>\n      <td>0</td>\n      <td>ByLayer</td>\n      <td>1.0</td>\n      <td>0</td>\n      <td>ByLayer</td>\n    </tr>\n    <tr>\n      <th>12</th>\n      <td>46BBA</td>\n      <td>87.0</td>\n      <td>50.0</td>\n      <td>21</td>\n      <td>3</td>\n      <td>8080.65</td>\n      <td>264.12</td>\n      <td>0</td>\n      <td>Standard</td>\n      <td>0</td>\n      <td>ByLayer</td>\n      <td>1.0</td>\n      <td>0</td>\n      <td>ByLayer</td>\n    </tr>\n    <tr>\n      <th>13</th>\n      <td>46BBB</td>\n      <td>87.0</td>\n      <td>50.0</td>\n      <td>21</td>\n      <td>3</td>\n      <td>8017.70</td>\n      <td>264.12</td>\n      <td>0</td>\n      <td>Standard</td>\n      <td>0</td>\n      <td>ByLayer</td>\n      <td>1.0</td>\n      <td>0</td>\n      <td>ByLayer</td>\n    </tr>\n    <tr>\n      <th>14</th>\n      <td>46BBC</td>\n      <td>87.0</td>\n      <td>50.0</td>\n      <td>21</td>\n      <td>3</td>\n      <td>7954.74</td>\n      <td>264.12</td>\n      <td>0</td>\n      <td>Standard</td>\n      <td>0</td>\n      <td>ByLayer</td>\n      <td>1.0</td>\n      <td>0</td>\n      <td>ByLayer</td>\n    </tr>\n    <tr>\n      <th>15</th>\n      <td>46BBD</td>\n      <td>87.0</td>\n      <td>50.0</td>\n      <td>21</td>\n      <td>3</td>\n      <td>7890.07</td>\n      <td>264.12</td>\n      <td>0</td>\n      <td>Standard</td>\n      <td>0</td>\n      <td>ByLayer</td>\n      <td>1.0</td>\n      <td>0</td>\n      <td>ByLayer</td>\n    </tr>\n    <tr>\n      <th>16</th>\n      <td>46BBE</td>\n      <td>87.0</td>\n      <td>50.0</td>\n      <td>21</td>\n      <td>3</td>\n      <td>7786.78</td>\n      <td>264.12</td>\n      <td>0</td>\n      <td>Standard</td>\n      <td>0</td>\n      <td>ByLayer</td>\n      <td>1.0</td>\n      <td>0</td>\n      <td>ByLayer</td>\n    </tr>\n    <tr>\n      <th>17</th>\n      <td>46BBF</td>\n      <td>87.0</td>\n      <td>50.0</td>\n      <td>21</td>\n      <td>3</td>\n      <td>7723.82</td>\n      <td>264.12</td>\n      <td>0</td>\n      <td>Standard</td>\n      <td>0</td>\n      <td>ByLayer</td>\n      <td>1.0</td>\n      <td>0</td>\n      <td>ByLayer</td>\n    </tr>\n    <tr>\n      <th>18</th>\n      <td>46BC0</td>\n      <td>87.0</td>\n      <td>50.0</td>\n      <td>21</td>\n      <td>3</td>\n      <td>7723.82</td>\n      <td>147.12</td>\n      <td>0</td>\n      <td>Standard</td>\n      <td>0</td>\n      <td>ByLayer</td>\n      <td>1.0</td>\n      <td>0</td>\n      <td>ByLayer</td>\n    </tr>\n    <tr>\n      <th>19</th>\n      <td>46BC1</td>\n      <td>87.0</td>\n      <td>50.0</td>\n      <td>21</td>\n      <td>3</td>\n      <td>7786.78</td>\n      <td>147.12</td>\n      <td>0</td>\n      <td>Standard</td>\n      <td>0</td>\n      <td>ByLayer</td>\n      <td>1.0</td>\n      <td>0</td>\n      <td>ByLayer</td>\n    </tr>\n    <tr>\n      <th>20</th>\n      <td>46BC2</td>\n      <td>87.0</td>\n      <td>50.0</td>\n      <td>21</td>\n      <td>3</td>\n      <td>7890.07</td>\n      <td>147.12</td>\n      <td>0</td>\n      <td>Standard</td>\n      <td>0</td>\n      <td>ByLayer</td>\n      <td>1.0</td>\n      <td>0</td>\n      <td>ByLayer</td>\n    </tr>\n    <tr>\n      <th>21</th>\n      <td>46BC3</td>\n      <td>87.0</td>\n      <td>50.0</td>\n      <td>21</td>\n      <td>3</td>\n      <td>7954.74</td>\n      <td>147.12</td>\n      <td>0</td>\n      <td>Standard</td>\n      <td>0</td>\n      <td>ByLayer</td>\n      <td>1.0</td>\n      <td>0</td>\n      <td>ByLayer</td>\n    </tr>\n    <tr>\n      <th>22</th>\n      <td>46BC4</td>\n      <td>87.0</td>\n      <td>50.0</td>\n      <td>21</td>\n      <td>3</td>\n      <td>8017.70</td>\n      <td>147.12</td>\n      <td>0</td>\n      <td>Standard</td>\n      <td>0</td>\n      <td>ByLayer</td>\n      <td>1.0</td>\n      <td>0</td>\n      <td>ByLayer</td>\n    </tr>\n    <tr>\n      <th>23</th>\n      <td>46BC5</td>\n      <td>87.0</td>\n      <td>50.0</td>\n      <td>21</td>\n      <td>3</td>\n      <td>8080.65</td>\n      <td>147.12</td>\n      <td>0</td>\n      <td>Standard</td>\n      <td>0</td>\n      <td>ByLayer</td>\n      <td>1.0</td>\n      <td>0</td>\n      <td>ByLayer</td>\n    </tr>\n    <tr>\n      <th>24</th>\n      <td>46BC6</td>\n      <td>87.0</td>\n      <td>50.0</td>\n      <td>21</td>\n      <td>3</td>\n      <td>8143.82</td>\n      <td>147.12</td>\n      <td>0</td>\n      <td>Standard</td>\n      <td>0</td>\n      <td>ByLayer</td>\n      <td>1.0</td>\n      <td>0</td>\n      <td>ByLayer</td>\n    </tr>\n    <tr>\n      <th>25</th>\n      <td>46BC7</td>\n      <td>87.0</td>\n      <td>50.0</td>\n      <td>21</td>\n      <td>3</td>\n      <td>8208.49</td>\n      <td>147.12</td>\n      <td>0</td>\n      <td>Standard</td>\n      <td>0</td>\n      <td>ByLayer</td>\n      <td>1.0</td>\n      <td>0</td>\n      <td>ByLayer</td>\n    </tr>\n  </tbody>\n</table>\n</div>"
     },
     "execution_count": 9,
     "metadata": {},
     "output_type": "execute_result"
    }
   ],
   "source": [
    "df = ad.fdf_filter(ad.df_table, ('rows', 21), ('columns', 3))\n",
    "df"
   ],
   "metadata": {
    "collapsed": false
   }
  },
  {
   "cell_type": "code",
   "execution_count": 22,
   "outputs": [
    {
     "data": {
      "text/plain": "    name      h\n0   В112  46BB8\n1   В111  46BB9\n2   В110  46BBA\n3    В19  46BBB\n4    В18  46BBC\n5    В17  46BBD\n6    В16  46BBE\n7    В15  46BBF\n8    В25  46BC0\n9    В26  46BC1\n10   В27  46BC2\n11   В28  46BC3\n12   В29  46BC4\n13  В210  46BC5\n14  В211  46BC6\n15  В212  46BC7",
      "text/html": "<div>\n<style scoped>\n    .dataframe tbody tr th:only-of-type {\n        vertical-align: middle;\n    }\n\n    .dataframe tbody tr th {\n        vertical-align: top;\n    }\n\n    .dataframe thead th {\n        text-align: right;\n    }\n</style>\n<table border=\"1\" class=\"dataframe\">\n  <thead>\n    <tr style=\"text-align: right;\">\n      <th></th>\n      <th>name</th>\n      <th>h</th>\n    </tr>\n  </thead>\n  <tbody>\n    <tr>\n      <th>0</th>\n      <td>В112</td>\n      <td>46BB8</td>\n    </tr>\n    <tr>\n      <th>1</th>\n      <td>В111</td>\n      <td>46BB9</td>\n    </tr>\n    <tr>\n      <th>2</th>\n      <td>В110</td>\n      <td>46BBA</td>\n    </tr>\n    <tr>\n      <th>3</th>\n      <td>В19</td>\n      <td>46BBB</td>\n    </tr>\n    <tr>\n      <th>4</th>\n      <td>В18</td>\n      <td>46BBC</td>\n    </tr>\n    <tr>\n      <th>5</th>\n      <td>В17</td>\n      <td>46BBD</td>\n    </tr>\n    <tr>\n      <th>6</th>\n      <td>В16</td>\n      <td>46BBE</td>\n    </tr>\n    <tr>\n      <th>7</th>\n      <td>В15</td>\n      <td>46BBF</td>\n    </tr>\n    <tr>\n      <th>8</th>\n      <td>В25</td>\n      <td>46BC0</td>\n    </tr>\n    <tr>\n      <th>9</th>\n      <td>В26</td>\n      <td>46BC1</td>\n    </tr>\n    <tr>\n      <th>10</th>\n      <td>В27</td>\n      <td>46BC2</td>\n    </tr>\n    <tr>\n      <th>11</th>\n      <td>В28</td>\n      <td>46BC3</td>\n    </tr>\n    <tr>\n      <th>12</th>\n      <td>В29</td>\n      <td>46BC4</td>\n    </tr>\n    <tr>\n      <th>13</th>\n      <td>В210</td>\n      <td>46BC5</td>\n    </tr>\n    <tr>\n      <th>14</th>\n      <td>В211</td>\n      <td>46BC6</td>\n    </tr>\n    <tr>\n      <th>15</th>\n      <td>В212</td>\n      <td>46BC7</td>\n    </tr>\n  </tbody>\n</table>\n</div>"
     },
     "execution_count": 22,
     "metadata": {},
     "output_type": "execute_result"
    }
   ],
   "source": [
    "ls = []\n",
    "for i in range(len(df)):\n",
    "    h = df.iloc[i]['h']\n",
    "    b1 = ad.get_obj(h)\n",
    "    name = b1.GetCellValue(0, 1)\n",
    "    ls.append([name, h])\n",
    "df1 = pd.DataFrame(ls, columns=['name', 'h'])\n",
    "df1"
   ],
   "metadata": {
    "collapsed": false
   }
  },
  {
   "cell_type": "code",
   "execution_count": 10,
   "outputs": [],
   "source": [
    "b1 = ad.get_obj(df.iloc[0]['h'])"
   ],
   "metadata": {
    "collapsed": false
   }
  },
  {
   "cell_type": "code",
   "execution_count": 11,
   "outputs": [
    {
     "data": {
      "text/plain": "'В112'"
     },
     "execution_count": 11,
     "metadata": {},
     "output_type": "execute_result"
    }
   ],
   "source": [
    "b1.GetCellValue(0, 1)"
   ],
   "metadata": {
    "collapsed": false
   }
  },
  {
   "cell_type": "code",
   "execution_count": 12,
   "outputs": [],
   "source": [
    "b1.SetCellValue(2, 0, 'test')"
   ],
   "metadata": {
    "collapsed": false
   }
  },
  {
   "cell_type": "code",
   "execution_count": 15,
   "outputs": [],
   "source": [
    "ds_v_row_col = {\n",
    "    '1': (1, 0),\n",
    "    '2': (1, 2),\n",
    "    '3': (3, 0),\n",
    "    '4': (3, 2),\n",
    "    '5': (5, 0),\n",
    "    '6': (5, 2),\n",
    "    '7': (7, 0),\n",
    "    '8': (7, 2),\n",
    "    '9': (9, 0),\n",
    "    '10': (9, 2),\n",
    "    '11': (11, 0),\n",
    "    '12': (11, 2),\n",
    "    '13': (13, 0),\n",
    "    '14': (13, 2),\n",
    "    '15': (15, 0),\n",
    "    '16': (15, 2),\n",
    "    '17': (17, 0),\n",
    "    '18': (17, 2),\n",
    "    '19': (19, 0),\n",
    "    '20': (19, 2),\n",
    "}"
   ],
   "metadata": {
    "collapsed": false
   }
  },
  {
   "cell_type": "code",
   "execution_count": 29,
   "outputs": [
    {
     "data": {
      "text/plain": "('3', 'В112', '14', (13, 2))"
     },
     "execution_count": 29,
     "metadata": {},
     "output_type": "execute_result"
    }
   ],
   "source": [
    "s1 = '3-В112-14'\n",
    "st, v1, s1 = s1.split('-')\n",
    "k1 = ds_v_row_col[s1]\n",
    "st, v1, s1, k1"
   ],
   "metadata": {
    "collapsed": false
   }
  },
  {
   "cell_type": "code",
   "execution_count": null,
   "outputs": [],
   "source": [
    "s1 = 'В112-14'\n",
    "v1, s1 = s1.split('-')\n",
    "k1 = ds_v_row_col[s1]\n",
    "v1, s1, k1"
   ],
   "metadata": {
    "collapsed": false
   }
  },
  {
   "cell_type": "code",
   "execution_count": 30,
   "outputs": [
    {
     "data": {
      "text/plain": "['3', 'В112', '14']"
     },
     "execution_count": 30,
     "metadata": {},
     "output_type": "execute_result"
    }
   ],
   "source": [
    "s1 = '3-В112-14'\n",
    "s2 = s1.split('-')\n",
    "s2"
   ],
   "metadata": {
    "collapsed": false
   }
  },
  {
   "cell_type": "code",
   "execution_count": 36,
   "outputs": [
    {
     "data": {
      "text/plain": "(None, 'В112', '15', (15, 0))"
     },
     "execution_count": 36,
     "metadata": {},
     "output_type": "execute_result"
    }
   ],
   "source": [
    "st=None\n",
    "s1 = 'В112-15'\n",
    "s2 = s1.split('-')\n",
    "if len(s2) == 3:\n",
    "    st, v1, s1 = s2\n",
    "    k1 = ds_v_row_col[s1]\n",
    "elif len(s2) == 2:\n",
    "    v1, s1 = s2\n",
    "    k1 = ds_v_row_col[s1]\n",
    "else:\n",
    "    print('error')\n",
    "st, v1, s1, k1"
   ],
   "metadata": {
    "collapsed": false
   }
  },
  {
   "cell_type": "code",
   "execution_count": 23,
   "outputs": [],
   "source": [
    "def find_nearest(ls, value):\n",
    "    ls = np.asarray(ls)\n",
    "    idx = (np.abs(ls - value)).argmin()\n",
    "    return ls[idx]"
   ],
   "metadata": {
    "collapsed": false
   }
  },
  {
   "cell_type": "code",
   "execution_count": 29,
   "outputs": [
    {
     "data": {
      "text/plain": "10"
     },
     "execution_count": 29,
     "metadata": {},
     "output_type": "execute_result"
    }
   ],
   "source": [
    "find_nearest([2,4,6,8,10], 10)"
   ],
   "metadata": {
    "collapsed": false
   }
  },
  {
   "cell_type": "code",
   "execution_count": 17,
   "outputs": [],
   "source": [
    "b1.SetCellValue(k1[0], k1[1], 'test')"
   ],
   "metadata": {
    "collapsed": false
   }
  },
  {
   "cell_type": "code",
   "execution_count": 18,
   "outputs": [],
   "source": [
    "b1.SetCellValue(k1[0]+1, k1[1], 'test1')"
   ],
   "metadata": {
    "collapsed": false
   }
  },
  {
   "cell_type": "code",
   "execution_count": null,
   "outputs": [],
   "source": [],
   "metadata": {
    "collapsed": false
   }
  },
  {
   "cell_type": "code",
   "execution_count": 185,
   "outputs": [],
   "source": [
    "loc = '3-68'\n",
    "k = '72'\n",
    "val = 'В15-8'\n",
    "ad.st_set_k(loc, k, val)"
   ],
   "metadata": {
    "collapsed": false
   }
  },
  {
   "cell_type": "code",
   "execution_count": null,
   "outputs": [],
   "source": [
    "df1 = ad.df_st_table\n",
    "df1.head(3)"
   ],
   "metadata": {
    "collapsed": false
   }
  },
  {
   "cell_type": "code",
   "execution_count": null,
   "outputs": [],
   "source": [
    "loc = '3-68'\n",
    "k = '72'\n",
    "st, p, r = ad.get_loc(loc)\n",
    "st, p, r, k"
   ],
   "metadata": {
    "collapsed": false
   }
  },
  {
   "cell_type": "code",
   "execution_count": null,
   "outputs": [],
   "source": [
    "df1 = ad.fdf_filter(ad.df_st_table, ('st', st), ('pol', p), ('rd', r), ('k', k))\n",
    "df1"
   ],
   "metadata": {
    "collapsed": false
   }
  },
  {
   "cell_type": "code",
   "execution_count": null,
   "outputs": [],
   "source": [
    "b1 = ad.docs_open[ad.montag_ds_name[st]]\n",
    "b1"
   ],
   "metadata": {
    "collapsed": false
   }
  },
  {
   "cell_type": "code",
   "execution_count": null,
   "outputs": [],
   "source": [
    "b2 = ad.get_obj(df1.iloc[0]['h'], b1)\n",
    "s1 = b2.GetCellValue(df1.iloc[0]['r'], df1.iloc[0]['c']+1)\n",
    "s2 = b2.GetCellValue(df1.iloc[0]['r'], df1.iloc[0]['c']+2)\n",
    "print(s1, s2)\n",
    "b2.SetCellValue(df1.iloc[0]['r'], df1.iloc[0]['c'] + 1, '123')"
   ],
   "metadata": {
    "collapsed": false
   }
  },
  {
   "cell_type": "code",
   "execution_count": null,
   "outputs": [],
   "source": [
    "def st_set_k(loc, k, val):\n",
    "    if type(loc) == str:\n",
    "        st, p, r = ad.get_loc(loc)\n",
    "    else:\n",
    "        st, p, r = loc\n",
    "    df1 = ad.fdf_filter(ad.df_st_table, ('st', st), ('pol', p), ('rd', r), ('k', k))\n",
    "    if len(df1) > 0:\n",
    "        b1 = ad.docs_open[ad.montag_ds_name[st]]\n",
    "        b2 = ad.get_obj(df1.iloc[0]['h'], b1)\n",
    "        b2.SetCellValue(df1.iloc[0]['r'], df1.iloc[0]['c'] + 1, val)\n",
    "    else:\n",
    "        print('Не найден объект в таблице')"
   ],
   "metadata": {
    "collapsed": false
   }
  },
  {
   "cell_type": "code",
   "execution_count": null,
   "outputs": [],
   "source": [
    "loc = '3-68'\n",
    "k = '71'\n",
    "st_set_k(loc, k, '124')"
   ],
   "metadata": {
    "collapsed": false
   }
  },
  {
   "cell_type": "code",
   "execution_count": null,
   "outputs": [],
   "source": [
    "ad._create_df_table_montag()"
   ],
   "metadata": {
    "collapsed": false
   }
  },
  {
   "cell_type": "code",
   "execution_count": null,
   "outputs": [],
   "source": [
    "df1 = ad.df_mtext\n",
    "df1.head(3)"
   ],
   "metadata": {
    "collapsed": false
   }
  },
  {
   "cell_type": "code",
   "execution_count": null,
   "outputs": [],
   "source": [
    "df2 = ad.df_match(df1, r'^[1-3]-\\d{2,3}')\n",
    "df2.head(3)"
   ],
   "metadata": {
    "collapsed": false
   }
  },
  {
   "cell_type": "code",
   "execution_count": null,
   "outputs": [],
   "source": [
    "lsh = df2['h'].tolist()\n"
   ],
   "metadata": {
    "collapsed": false
   }
  },
  {
   "cell_type": "code",
   "execution_count": null,
   "outputs": [],
   "source": [
    "def fdf_h(df, h):\n",
    "    df = df[df['h']==h]\n",
    "    return df\n",
    "\n",
    "def fdf_h_cols(df, h, cols):\n",
    "    df = df[df['h']==h][cols]\n",
    "    if len(cols) == 1:\n",
    "        return df.iloc[0][cols[0]]\n",
    "    if len(df) == 0:\n",
    "        return None\n",
    "    return df.iloc[0].tolist()\n",
    "\n",
    "def fdf_f(df):\n",
    "    if df is None:\n",
    "        return None\n",
    "    if len(df) == 0:\n",
    "        return None\n",
    "    return df.iloc[0]\n",
    "\n",
    "def fdf_f_cols(df, cols):\n",
    "    if df is None:\n",
    "        return None\n",
    "    if len(df) == 0:\n",
    "        return None\n",
    "    if len(cols) == 1:\n",
    "        return df.iloc[0][cols[0]]\n",
    "    return df.iloc[0][cols].tolist()\n",
    "\n",
    "def fdf_f_h(df):\n",
    "    if df is None:\n",
    "        return None\n",
    "    if len(df) == 0:\n",
    "        return None\n",
    "    return df.iloc[0]['h']\n",
    "\n",
    "def fdf_filter(df, col1_val1, col2_val2=None, col3_val3=None, col4_val4=None, col5_val5=None, col6_val6=None, col7_val7=None, col8_val8=None, col9_val9=None, col10_val10=None):\n",
    "        col1, val1 = col1_val1\n",
    "        df1 = df[df[col1] == val1]\n",
    "        if col2_val2 is not None:\n",
    "            col2, val2 = col2_val2\n",
    "            df1 = df1[df1[col2] == val2]\n",
    "\n",
    "        if col3_val3 is not None:\n",
    "            col3, val3 = col3_val3\n",
    "            df1 = df1[df1[col3] == val3]\n",
    "\n",
    "        if col4_val4 is not None:\n",
    "            col4, val4 = col4_val4\n",
    "            df1 = df1[df1[col4] == val4]\n",
    "\n",
    "        if col5_val5 is not None:\n",
    "            col5, val5 = col5_val5\n",
    "            df1 = df1[df1[col5] == val5]\n",
    "\n",
    "        if col6_val6 is not None:\n",
    "            col6, val6 = col6_val6\n",
    "            df1 = df1[df1[col6] == val6]\n",
    "\n",
    "        if col7_val7 is not None:\n",
    "            col7, val7 = col7_val7\n",
    "            df1 = df1[df1[col7] == val7]\n",
    "\n",
    "        if col8_val8 is not None:\n",
    "            col8, val8 = col8_val8\n",
    "            df1 = df1[df1[col8] == val8]\n",
    "\n",
    "        if col9_val9 is not None:\n",
    "            col9, val9 = col9_val9\n",
    "            df1 = df1[df1[col9] == val9]\n",
    "\n",
    "        if col10_val10 is not None:\n",
    "            col10, val10 = col10_val10\n",
    "            df1 = df1[df1[col10] == val10]\n",
    "\n",
    "        return df1\n",
    "\n",
    "def _direction_contact(df):\n",
    "        if len(df) > 1:\n",
    "            c1 = df.iloc[0]['txt']\n",
    "            c2 = df.iloc[1]['txt']\n",
    "            x1 = df.iloc[0]['x']\n",
    "            x2 = df.iloc[1]['x']\n",
    "            y1 = df.iloc[0]['y']\n",
    "            y2 = df.iloc[1]['y']\n",
    "\n",
    "            dx = abs(x1 - x2)\n",
    "            dy = abs(y1 - y2)\n",
    "\n",
    "            if dx > 2:\n",
    "                if x1 < x2:\n",
    "                    return {c1: ['horizontal', 'left'], c2: ['horizontal', 'right']}\n",
    "                else:\n",
    "                    return {c1: ['horizontal', 'right'], c2: ['horizontal', 'left']}\n",
    "            if dy > 2:\n",
    "                if y1 > y2:\n",
    "                    return {c1: ['vertical', 'top'], c2: ['vertical', 'bottom']}\n",
    "                else:\n",
    "                    return {c1: ['vertical', 'bottom'], c2: ['vertical', 'top']}\n",
    "\n",
    "def get_loc(loc):\n",
    "        ls = loc.split('-')\n",
    "        st = ls[0]\n",
    "        pr = ls[1]\n",
    "        if len(pr) == 2:\n",
    "            p = pr[0]\n",
    "            r = pr[1]\n",
    "        else:\n",
    "            p = pr[0:2]\n",
    "            r = pr[2]\n",
    "        return st, p, r"
   ],
   "metadata": {
    "collapsed": false
   }
  },
  {
   "cell_type": "code",
   "execution_count": null,
   "outputs": [],
   "source": [
    "fdf_h_cols(df1, lsh[0], ['txt', 'x', 'y']), fdf_h_cols(df1, lsh[0], ['txt'])"
   ],
   "metadata": {
    "collapsed": false
   }
  },
  {
   "cell_type": "code",
   "execution_count": null,
   "outputs": [],
   "source": [
    "fdf_f(df1)"
   ],
   "metadata": {
    "collapsed": false
   }
  },
  {
   "cell_type": "code",
   "execution_count": null,
   "outputs": [],
   "source": [
    "fdf_f_h(df1)"
   ],
   "metadata": {
    "collapsed": false
   }
  },
  {
   "cell_type": "code",
   "execution_count": null,
   "outputs": [],
   "source": [
    "\n",
    "df = ad.df_mtext\n",
    "df_dev = ad.df_match(df, r'^[1-3]-\\d{2,3}')\n",
    "lsh = df_dev['h'].tolist()\n",
    "\n",
    "ls = []\n",
    "\n",
    "for h in lsh:\n",
    "    loc = fdf_h_cols(df, h, ['txt'])\n",
    "    x, y = fdf_h_cols(df, h, ['x', 'y'])\n",
    "\n",
    "    df_name = ad.find_text(df1, x, y, 8, 8, 0, 5, lst_exclude=ad.ls_contact, h=h)\n",
    "    if len(df_name) == 0:\n",
    "        continue\n",
    "    h_name = fdf_f_h(df_name)\n",
    "    t_name = fdf_f_cols(df_name, ['txt'])\n",
    "    x, y = fdf_f_cols(df_name, ['x', 'y'])\n",
    "    df_circle = ad.find_cirle(ad.df_circle, x, y, 20, 20, 8, 9, radius_gt=3)\n",
    "    if len(df_circle) > 0:\n",
    "        h_c= fdf_f_h(df_circle)\n",
    "        x, y = fdf_f_cols(df_circle, ['x', 'y'])\n",
    "        df_k = ad.find_text(ad.df_mtext, x, y, 10, 10, 10, 10, lst_filter=ad.ls_contact, h=h_name)\n",
    "    else:\n",
    "        df_k = ad.find_text(ad.df_mtext, x, y, 20, 20, 0, 12, lst_filter=ad.ls_contact, h=h_name)\n",
    "\n",
    "    if len(df_k) == 0:\n",
    "        continue\n",
    "\n",
    "    if df_k['txt'].tolist() == ['1', '2', '3', '4']:\n",
    "        df_k = df_k[df_k['txt'].isin(['2', '4'])]\n",
    "    ds = _direction_contact(df_k)\n",
    "    group = loc + ';' + ':'.join(df_k['txt'].values.tolist())\n",
    "\n",
    "    for j in range(len(df_k)):\n",
    "        k = df_k.iloc[j]['txt']\n",
    "        t_ref = df_k.iloc[j]['h']\n",
    "        t_x = df_k.iloc[j]['x']\n",
    "        t_y = df_k.iloc[j]['y']\n",
    "        st, p, r = get_loc(loc)\n",
    "        ls.append([loc, st, p, r, t_name, k, t_ref, t_x, t_y, group, ds[k][0],\n",
    "                                   ds[k][1]])\n",
    "\n",
    "\n",
    "df_sx_contacts = pd.DataFrame(ls, columns=['loc', 'st', 'p', 'r', 'name', 'contact', 'h', 'x', 'y', 'group', 'direction',\n",
    "                                        'side'])\n",
    "\n",
    "df_sx_contacts[['b1', 'b2', 'l1', 'l2', 'pit']] = None\n",
    "\n",
    "\n",
    "\n"
   ],
   "metadata": {
    "collapsed": false
   }
  },
  {
   "cell_type": "code",
   "execution_count": null,
   "outputs": [],
   "source": [
    "df = ad.df_table\n",
    "df"
   ],
   "metadata": {
    "collapsed": false
   }
  },
  {
   "cell_type": "code",
   "execution_count": null,
   "outputs": [],
   "source": [],
   "metadata": {
    "collapsed": false
   }
  },
  {
   "cell_type": "code",
   "execution_count": null,
   "outputs": [],
   "source": [
    "b1 = ad.get_obj(fdf_f_h(df))"
   ],
   "metadata": {
    "collapsed": false
   }
  },
  {
   "cell_type": "code",
   "execution_count": null,
   "outputs": [],
   "source": [
    "xy = b1.InsertionPoint\n",
    "xy"
   ],
   "metadata": {
    "collapsed": false
   }
  },
  {
   "cell_type": "code",
   "execution_count": null,
   "outputs": [],
   "source": [
    "df = ad.find_text(ad.df_text, xy[0], xy[1], -300, 390, -245, 290)\n",
    "df"
   ],
   "metadata": {
    "collapsed": false
   }
  },
  {
   "cell_type": "code",
   "execution_count": null,
   "outputs": [],
   "source": [
    "df = ad.df_match(df, r'^Полка')\n",
    "df"
   ],
   "metadata": {
    "collapsed": false
   }
  },
  {
   "cell_type": "code",
   "execution_count": null,
   "outputs": [],
   "source": [
    "s1 = fdf_f_cols(df, ['txt'])\n",
    "s1"
   ],
   "metadata": {
    "collapsed": false
   }
  },
  {
   "cell_type": "code",
   "execution_count": null,
   "outputs": [],
   "source": [
    "s1 = s1.split(' ')[-1]\n",
    "s1"
   ],
   "metadata": {
    "collapsed": false
   }
  },
  {
   "cell_type": "code",
   "execution_count": null,
   "outputs": [],
   "source": [
    "xy = b1.InsertionPoint\n",
    "df = ad.find_text(ad.df_text, xy[0], xy[1], -300, 390, -245, 290)\n",
    "df = ad.df_match(df, r'^Полка')\n",
    "s1 = fdf_f_cols(df, ['txt'])\n",
    "if s1 is not None:\n",
    "    s1 = s1.split(' ')[-1]\n",
    "s1"
   ],
   "metadata": {
    "collapsed": false
   }
  },
  {
   "cell_type": "code",
   "execution_count": null,
   "outputs": [],
   "source": [
    "df"
   ],
   "metadata": {
    "collapsed": false
   }
  },
  {
   "cell_type": "code",
   "execution_count": null,
   "outputs": [],
   "source": [
    "df = ad.df_match(df, r'^Полка')"
   ],
   "metadata": {
    "collapsed": false
   }
  },
  {
   "cell_type": "code",
   "execution_count": null,
   "outputs": [],
   "source": [
    "fdf_f_cols(df, ['txt'])"
   ],
   "metadata": {
    "collapsed": false
   }
  },
  {
   "cell_type": "code",
   "execution_count": null,
   "outputs": [],
   "source": [
    "b1.Rows, b1.Columns"
   ],
   "metadata": {
    "collapsed": false
   }
  },
  {
   "cell_type": "code",
   "execution_count": null,
   "outputs": [],
   "source": [
    "for st, name_sx in ad.montag_ds_name.items():\n",
    "    print(st, name_sx)"
   ],
   "metadata": {
    "collapsed": false
   }
  },
  {
   "cell_type": "code",
   "execution_count": null,
   "outputs": [],
   "source": [
    "ad.docs_open[name_sx]"
   ],
   "metadata": {
    "collapsed": false
   }
  },
  {
   "cell_type": "code",
   "execution_count": null,
   "outputs": [],
   "source": [
    "ls = []\n",
    "df = pd.DataFrame(ls, columns=['st', 'pol', 'rd', 'k', 'r', 'c', 'h'])\n",
    "\n",
    "for st, name_sx in ad.montag_ds_name.items:\n",
    "    doc = ad.docs_open[name_sx]\n",
    "    for h in ad.df_table['h'].tolist():\n",
    "        b1 = ad.get_obj(h)\n",
    "        xy = b1.InsertionPoint\n",
    "        df1 = ad.find_text(ad.df_text, xy[0], xy[1], -300, 390, -245, 290)\n",
    "        df1 = ad.df_match(df1, r'^Полка')\n",
    "        polka = fdf_f_cols(df1, ['txt'])\n",
    "\n",
    "        if polka is not None:\n",
    "\n",
    "            polka = int(polka.split(' ')[-1])\n",
    "\n",
    "            for c in range(b1.Columns):\n",
    "                ls1 = []\n",
    "                v1 = b1.GetCellValue(0, c)\n",
    "                if v1 is None:\n",
    "                    continue\n",
    "                for r in range(2, b1.Rows):\n",
    "                    v2 = b1.GetCellValue(r, c)\n",
    "                    if v2 is None:\n",
    "                        continue\n",
    "                    ls1.append([st, polka, v1, v2, r, c, h])\n",
    "                # ls.append(ls1)\n",
    "                df = pd.concat([df, pd.DataFrame(ls1, columns=['st', 'pol', 'rd', 'k', 'r', 'c', 'h'])])\n",
    "\n",
    "    df = df.reset_index(drop=True)\n",
    "    df = df.astype({'st': 'str', 'pol': 'str', 'rd': 'str', 'k': 'str'})\n",
    "\n",
    "df"
   ],
   "metadata": {
    "collapsed": false
   }
  },
  {
   "cell_type": "code",
   "execution_count": null,
   "outputs": [],
   "source": [
    "df2 = fdf_filter(df, ('st', 3), ('pol', 7), ('rd', 5), ('k', 31))\n",
    "df2"
   ],
   "metadata": {
    "collapsed": false
   }
  },
  {
   "cell_type": "code",
   "execution_count": null,
   "outputs": [],
   "source": [
    "b2 = ad.get_obj(df2.iloc[0]['h'])\n",
    "s1 = b2.GetCellValue(df2.iloc[0]['r'], df2.iloc[0]['c'])\n",
    "print(s1)\n",
    "b2.SetCellValue(df2.iloc[0]['r'], df2.iloc[0]['c'] + 1, '123')"
   ],
   "metadata": {
    "collapsed": false
   }
  },
  {
   "cell_type": "code",
   "execution_count": null,
   "outputs": [],
   "source": [
    "loc = '3-74'\n",
    "kont = '52'\n"
   ],
   "metadata": {
    "collapsed": false
   }
  },
  {
   "cell_type": "code",
   "execution_count": null,
   "outputs": [],
   "source": [
    "get_loc(loc)"
   ],
   "metadata": {
    "collapsed": false
   }
  },
  {
   "cell_type": "code",
   "execution_count": null,
   "outputs": [],
   "source": [
    "df = df.astype({'st': 'str', 'pol': 'str', 'rd': 'str', 'k': 'str'})\n",
    "df = df.reset_index(drop=True)\n"
   ],
   "metadata": {
    "collapsed": false
   }
  },
  {
   "cell_type": "code",
   "execution_count": null,
   "outputs": [],
   "source": [
    "df"
   ],
   "metadata": {
    "collapsed": false
   }
  },
  {
   "cell_type": "code",
   "execution_count": null,
   "outputs": [],
   "source": [
    "df[(df['st'] == )]"
   ],
   "metadata": {
    "collapsed": false
   }
  },
  {
   "cell_type": "code",
   "execution_count": null,
   "outputs": [],
   "source": [
    "df.info()"
   ],
   "metadata": {
    "collapsed": false
   }
  },
  {
   "cell_type": "code",
   "execution_count": null,
   "outputs": [],
   "source": [
    "rc = df[(df['rd'] == '8') & (df['k'] == '32')][['r', 'c']].values[0].tolist()\n",
    "rc"
   ],
   "metadata": {
    "collapsed": false
   }
  },
  {
   "cell_type": "code",
   "execution_count": null,
   "outputs": [],
   "source": [
    "b1.SetCellValue(rc[0]+3, rc[1] + 1, '65-42')\n",
    "b1.SetCellValue(rc[0]+3, rc[1] + 2, 'В15-20')"
   ],
   "metadata": {
    "collapsed": false
   }
  },
  {
   "cell_type": "code",
   "execution_count": 13,
   "outputs": [
    {
     "data": {
      "text/plain": "      8        18    28    7         17    27    6        16    26    5   ...  \\\n0      8     None  None     7      None  None     6     None  None     5  ...   \n1    №к.    116СП  None   №к.  162/166П  None   №к.     166П  None   №к.  ...   \n2   None     None  None  None      None  None  None     None  None  None  ...   \n3   None     None  None  None      None  None  None     None  None  None  ...   \n4   None     None  None  None      None  None  None     None  None  None  ...   \n5   None     None  None  None      None  None  None     None  None  None  ...   \n6     12     верх  None    12      верх  None    12     верх  None    12  ...   \n7     11        Ш     П    11         Ш     П    11        Ш     П    11  ...   \n8     13     None  None    13      None  None    13     None  None    13  ...   \n9     22  верх 2Р  None    22   верх 2Р  None    22  верх 2Р  None    22  ...   \n10    21       41  None    21        41  None    21       41  None    21  ...   \n11  None     None  None  None      None  None  None     None  None  None  ...   \n12    32     None  None    32      None  None    32     None  None    32  ...   \n13    31     None  None    31      None  None    31     None  None    31  ...   \n14    33     None  None    33      None  None    33     None  None    33  ...   \n15    42       41  None    42        41  None    42       41  None    42  ...   \n16    41       21    42    41        21    42    41       21    42    41  ...   \n17  None     None  None  None      None  None  None     None  None  None  ...   \n18    52     None  None    52      None  None    52     None  None    52  ...   \n19    51     None  None    51      None  None    51     None  None    51  ...   \n20    53     None  None    53      None  None    53     None  None    53  ...   \n21    62       61    81    62        61    81    62       61    81    62  ...   \n22    61       62  None    61        62  None    61       62  None    61  ...   \n23  None     None  None  None      None  None  None     None  None  None  ...   \n24    72     None  None    72      None  None    72     None  None    72  ...   \n25    71     None  None    71      None  None    71     None  None    71  ...   \n26    73     None  None    73      None  None    73     None  None    73  ...   \n27    82  верх 1Р  None    82   верх 1Р  None    82  верх 1Р  None    82  ...   \n28    81       62  None    81        62  None    81       62  None    81  ...   \n29  None     None  None  None      None  None  None     None  None  None  ...   \n\n      24    3        13    23    2        12    22    1        11    21  \n0   None     3     None  None     2     None  None     1     None  None  \n1   None   №к.    314СП  None   №к.      2БП  None   №к.      1БП  None  \n2   None  None     None  None  None     None  None  None     None  None  \n3   None  None     None  None  None     None  None  None     None  None  \n4   None  None     None  None  None     None  None  None     None  None  \n5   None  None     None  None  None     None  None  None     None  None  \n6   None    12     верх  None    12     верх  None    12     верх  None  \n7      П    11        Ш     П    11        Ш     П    11        Ш     П  \n8   None    13     None  None    13     None  None    13     None  None  \n9   None    22  верх 2Р  None    22  верх 2Р  None    22  верх 2Р  None  \n10  None    21       41  None    21       41  None    21       41  None  \n11  None  None     None  None  None     None  None  None     None  None  \n12  None    32     None  None    32     None  None    32     None  None  \n13  None    31     None  None    31     None  None    31     None  None  \n14  None    33     None  None    33     None  None    33     None  None  \n15  None    42       41  None    42       41  None    42       41  None  \n16    42    41       21    42    41       21    42    41       21    42  \n17  None  None     None  None  None     None  None  None     None  None  \n18  None    52     None  None    52     None  None    52     None  None  \n19  None    51     None  None    51     None  None    51     None  None  \n20  None    53     None  None    53     None  None    53     None  None  \n21    81    62       61    81    62       61    81    62       61    81  \n22  None    61       62  None    61       62  None    61       62  None  \n23  None  None     None  None  None     None  None  None     None  None  \n24  None    72     None  None    72     None  None    72     None  None  \n25  None    71     None  None    71     None  None    71     None  None  \n26  None    73     None  None    73     None  None    73     None  None  \n27  None    82  верх 1Р  None    82  верх 1Р  None    82  верх 1Р  None  \n28  None    81       62  None    81       62  None    81       62  None  \n29  None  None     None  None  None     None  None  None     None  None  \n\n[30 rows x 24 columns]",
      "text/html": "<div>\n<style scoped>\n    .dataframe tbody tr th:only-of-type {\n        vertical-align: middle;\n    }\n\n    .dataframe tbody tr th {\n        vertical-align: top;\n    }\n\n    .dataframe thead th {\n        text-align: right;\n    }\n</style>\n<table border=\"1\" class=\"dataframe\">\n  <thead>\n    <tr style=\"text-align: right;\">\n      <th></th>\n      <th>8</th>\n      <th>18</th>\n      <th>28</th>\n      <th>7</th>\n      <th>17</th>\n      <th>27</th>\n      <th>6</th>\n      <th>16</th>\n      <th>26</th>\n      <th>5</th>\n      <th>...</th>\n      <th>24</th>\n      <th>3</th>\n      <th>13</th>\n      <th>23</th>\n      <th>2</th>\n      <th>12</th>\n      <th>22</th>\n      <th>1</th>\n      <th>11</th>\n      <th>21</th>\n    </tr>\n  </thead>\n  <tbody>\n    <tr>\n      <th>0</th>\n      <td>8</td>\n      <td>None</td>\n      <td>None</td>\n      <td>7</td>\n      <td>None</td>\n      <td>None</td>\n      <td>6</td>\n      <td>None</td>\n      <td>None</td>\n      <td>5</td>\n      <td>...</td>\n      <td>None</td>\n      <td>3</td>\n      <td>None</td>\n      <td>None</td>\n      <td>2</td>\n      <td>None</td>\n      <td>None</td>\n      <td>1</td>\n      <td>None</td>\n      <td>None</td>\n    </tr>\n    <tr>\n      <th>1</th>\n      <td>№к.</td>\n      <td>116СП</td>\n      <td>None</td>\n      <td>№к.</td>\n      <td>162/166П</td>\n      <td>None</td>\n      <td>№к.</td>\n      <td>166П</td>\n      <td>None</td>\n      <td>№к.</td>\n      <td>...</td>\n      <td>None</td>\n      <td>№к.</td>\n      <td>314СП</td>\n      <td>None</td>\n      <td>№к.</td>\n      <td>2БП</td>\n      <td>None</td>\n      <td>№к.</td>\n      <td>1БП</td>\n      <td>None</td>\n    </tr>\n    <tr>\n      <th>2</th>\n      <td>None</td>\n      <td>None</td>\n      <td>None</td>\n      <td>None</td>\n      <td>None</td>\n      <td>None</td>\n      <td>None</td>\n      <td>None</td>\n      <td>None</td>\n      <td>None</td>\n      <td>...</td>\n      <td>None</td>\n      <td>None</td>\n      <td>None</td>\n      <td>None</td>\n      <td>None</td>\n      <td>None</td>\n      <td>None</td>\n      <td>None</td>\n      <td>None</td>\n      <td>None</td>\n    </tr>\n    <tr>\n      <th>3</th>\n      <td>None</td>\n      <td>None</td>\n      <td>None</td>\n      <td>None</td>\n      <td>None</td>\n      <td>None</td>\n      <td>None</td>\n      <td>None</td>\n      <td>None</td>\n      <td>None</td>\n      <td>...</td>\n      <td>None</td>\n      <td>None</td>\n      <td>None</td>\n      <td>None</td>\n      <td>None</td>\n      <td>None</td>\n      <td>None</td>\n      <td>None</td>\n      <td>None</td>\n      <td>None</td>\n    </tr>\n    <tr>\n      <th>4</th>\n      <td>None</td>\n      <td>None</td>\n      <td>None</td>\n      <td>None</td>\n      <td>None</td>\n      <td>None</td>\n      <td>None</td>\n      <td>None</td>\n      <td>None</td>\n      <td>None</td>\n      <td>...</td>\n      <td>None</td>\n      <td>None</td>\n      <td>None</td>\n      <td>None</td>\n      <td>None</td>\n      <td>None</td>\n      <td>None</td>\n      <td>None</td>\n      <td>None</td>\n      <td>None</td>\n    </tr>\n    <tr>\n      <th>5</th>\n      <td>None</td>\n      <td>None</td>\n      <td>None</td>\n      <td>None</td>\n      <td>None</td>\n      <td>None</td>\n      <td>None</td>\n      <td>None</td>\n      <td>None</td>\n      <td>None</td>\n      <td>...</td>\n      <td>None</td>\n      <td>None</td>\n      <td>None</td>\n      <td>None</td>\n      <td>None</td>\n      <td>None</td>\n      <td>None</td>\n      <td>None</td>\n      <td>None</td>\n      <td>None</td>\n    </tr>\n    <tr>\n      <th>6</th>\n      <td>12</td>\n      <td>верх</td>\n      <td>None</td>\n      <td>12</td>\n      <td>верх</td>\n      <td>None</td>\n      <td>12</td>\n      <td>верх</td>\n      <td>None</td>\n      <td>12</td>\n      <td>...</td>\n      <td>None</td>\n      <td>12</td>\n      <td>верх</td>\n      <td>None</td>\n      <td>12</td>\n      <td>верх</td>\n      <td>None</td>\n      <td>12</td>\n      <td>верх</td>\n      <td>None</td>\n    </tr>\n    <tr>\n      <th>7</th>\n      <td>11</td>\n      <td>Ш</td>\n      <td>П</td>\n      <td>11</td>\n      <td>Ш</td>\n      <td>П</td>\n      <td>11</td>\n      <td>Ш</td>\n      <td>П</td>\n      <td>11</td>\n      <td>...</td>\n      <td>П</td>\n      <td>11</td>\n      <td>Ш</td>\n      <td>П</td>\n      <td>11</td>\n      <td>Ш</td>\n      <td>П</td>\n      <td>11</td>\n      <td>Ш</td>\n      <td>П</td>\n    </tr>\n    <tr>\n      <th>8</th>\n      <td>13</td>\n      <td>None</td>\n      <td>None</td>\n      <td>13</td>\n      <td>None</td>\n      <td>None</td>\n      <td>13</td>\n      <td>None</td>\n      <td>None</td>\n      <td>13</td>\n      <td>...</td>\n      <td>None</td>\n      <td>13</td>\n      <td>None</td>\n      <td>None</td>\n      <td>13</td>\n      <td>None</td>\n      <td>None</td>\n      <td>13</td>\n      <td>None</td>\n      <td>None</td>\n    </tr>\n    <tr>\n      <th>9</th>\n      <td>22</td>\n      <td>верх 2Р</td>\n      <td>None</td>\n      <td>22</td>\n      <td>верх 2Р</td>\n      <td>None</td>\n      <td>22</td>\n      <td>верх 2Р</td>\n      <td>None</td>\n      <td>22</td>\n      <td>...</td>\n      <td>None</td>\n      <td>22</td>\n      <td>верх 2Р</td>\n      <td>None</td>\n      <td>22</td>\n      <td>верх 2Р</td>\n      <td>None</td>\n      <td>22</td>\n      <td>верх 2Р</td>\n      <td>None</td>\n    </tr>\n    <tr>\n      <th>10</th>\n      <td>21</td>\n      <td>41</td>\n      <td>None</td>\n      <td>21</td>\n      <td>41</td>\n      <td>None</td>\n      <td>21</td>\n      <td>41</td>\n      <td>None</td>\n      <td>21</td>\n      <td>...</td>\n      <td>None</td>\n      <td>21</td>\n      <td>41</td>\n      <td>None</td>\n      <td>21</td>\n      <td>41</td>\n      <td>None</td>\n      <td>21</td>\n      <td>41</td>\n      <td>None</td>\n    </tr>\n    <tr>\n      <th>11</th>\n      <td>None</td>\n      <td>None</td>\n      <td>None</td>\n      <td>None</td>\n      <td>None</td>\n      <td>None</td>\n      <td>None</td>\n      <td>None</td>\n      <td>None</td>\n      <td>None</td>\n      <td>...</td>\n      <td>None</td>\n      <td>None</td>\n      <td>None</td>\n      <td>None</td>\n      <td>None</td>\n      <td>None</td>\n      <td>None</td>\n      <td>None</td>\n      <td>None</td>\n      <td>None</td>\n    </tr>\n    <tr>\n      <th>12</th>\n      <td>32</td>\n      <td>None</td>\n      <td>None</td>\n      <td>32</td>\n      <td>None</td>\n      <td>None</td>\n      <td>32</td>\n      <td>None</td>\n      <td>None</td>\n      <td>32</td>\n      <td>...</td>\n      <td>None</td>\n      <td>32</td>\n      <td>None</td>\n      <td>None</td>\n      <td>32</td>\n      <td>None</td>\n      <td>None</td>\n      <td>32</td>\n      <td>None</td>\n      <td>None</td>\n    </tr>\n    <tr>\n      <th>13</th>\n      <td>31</td>\n      <td>None</td>\n      <td>None</td>\n      <td>31</td>\n      <td>None</td>\n      <td>None</td>\n      <td>31</td>\n      <td>None</td>\n      <td>None</td>\n      <td>31</td>\n      <td>...</td>\n      <td>None</td>\n      <td>31</td>\n      <td>None</td>\n      <td>None</td>\n      <td>31</td>\n      <td>None</td>\n      <td>None</td>\n      <td>31</td>\n      <td>None</td>\n      <td>None</td>\n    </tr>\n    <tr>\n      <th>14</th>\n      <td>33</td>\n      <td>None</td>\n      <td>None</td>\n      <td>33</td>\n      <td>None</td>\n      <td>None</td>\n      <td>33</td>\n      <td>None</td>\n      <td>None</td>\n      <td>33</td>\n      <td>...</td>\n      <td>None</td>\n      <td>33</td>\n      <td>None</td>\n      <td>None</td>\n      <td>33</td>\n      <td>None</td>\n      <td>None</td>\n      <td>33</td>\n      <td>None</td>\n      <td>None</td>\n    </tr>\n    <tr>\n      <th>15</th>\n      <td>42</td>\n      <td>41</td>\n      <td>None</td>\n      <td>42</td>\n      <td>41</td>\n      <td>None</td>\n      <td>42</td>\n      <td>41</td>\n      <td>None</td>\n      <td>42</td>\n      <td>...</td>\n      <td>None</td>\n      <td>42</td>\n      <td>41</td>\n      <td>None</td>\n      <td>42</td>\n      <td>41</td>\n      <td>None</td>\n      <td>42</td>\n      <td>41</td>\n      <td>None</td>\n    </tr>\n    <tr>\n      <th>16</th>\n      <td>41</td>\n      <td>21</td>\n      <td>42</td>\n      <td>41</td>\n      <td>21</td>\n      <td>42</td>\n      <td>41</td>\n      <td>21</td>\n      <td>42</td>\n      <td>41</td>\n      <td>...</td>\n      <td>42</td>\n      <td>41</td>\n      <td>21</td>\n      <td>42</td>\n      <td>41</td>\n      <td>21</td>\n      <td>42</td>\n      <td>41</td>\n      <td>21</td>\n      <td>42</td>\n    </tr>\n    <tr>\n      <th>17</th>\n      <td>None</td>\n      <td>None</td>\n      <td>None</td>\n      <td>None</td>\n      <td>None</td>\n      <td>None</td>\n      <td>None</td>\n      <td>None</td>\n      <td>None</td>\n      <td>None</td>\n      <td>...</td>\n      <td>None</td>\n      <td>None</td>\n      <td>None</td>\n      <td>None</td>\n      <td>None</td>\n      <td>None</td>\n      <td>None</td>\n      <td>None</td>\n      <td>None</td>\n      <td>None</td>\n    </tr>\n    <tr>\n      <th>18</th>\n      <td>52</td>\n      <td>None</td>\n      <td>None</td>\n      <td>52</td>\n      <td>None</td>\n      <td>None</td>\n      <td>52</td>\n      <td>None</td>\n      <td>None</td>\n      <td>52</td>\n      <td>...</td>\n      <td>None</td>\n      <td>52</td>\n      <td>None</td>\n      <td>None</td>\n      <td>52</td>\n      <td>None</td>\n      <td>None</td>\n      <td>52</td>\n      <td>None</td>\n      <td>None</td>\n    </tr>\n    <tr>\n      <th>19</th>\n      <td>51</td>\n      <td>None</td>\n      <td>None</td>\n      <td>51</td>\n      <td>None</td>\n      <td>None</td>\n      <td>51</td>\n      <td>None</td>\n      <td>None</td>\n      <td>51</td>\n      <td>...</td>\n      <td>None</td>\n      <td>51</td>\n      <td>None</td>\n      <td>None</td>\n      <td>51</td>\n      <td>None</td>\n      <td>None</td>\n      <td>51</td>\n      <td>None</td>\n      <td>None</td>\n    </tr>\n    <tr>\n      <th>20</th>\n      <td>53</td>\n      <td>None</td>\n      <td>None</td>\n      <td>53</td>\n      <td>None</td>\n      <td>None</td>\n      <td>53</td>\n      <td>None</td>\n      <td>None</td>\n      <td>53</td>\n      <td>...</td>\n      <td>None</td>\n      <td>53</td>\n      <td>None</td>\n      <td>None</td>\n      <td>53</td>\n      <td>None</td>\n      <td>None</td>\n      <td>53</td>\n      <td>None</td>\n      <td>None</td>\n    </tr>\n    <tr>\n      <th>21</th>\n      <td>62</td>\n      <td>61</td>\n      <td>81</td>\n      <td>62</td>\n      <td>61</td>\n      <td>81</td>\n      <td>62</td>\n      <td>61</td>\n      <td>81</td>\n      <td>62</td>\n      <td>...</td>\n      <td>81</td>\n      <td>62</td>\n      <td>61</td>\n      <td>81</td>\n      <td>62</td>\n      <td>61</td>\n      <td>81</td>\n      <td>62</td>\n      <td>61</td>\n      <td>81</td>\n    </tr>\n    <tr>\n      <th>22</th>\n      <td>61</td>\n      <td>62</td>\n      <td>None</td>\n      <td>61</td>\n      <td>62</td>\n      <td>None</td>\n      <td>61</td>\n      <td>62</td>\n      <td>None</td>\n      <td>61</td>\n      <td>...</td>\n      <td>None</td>\n      <td>61</td>\n      <td>62</td>\n      <td>None</td>\n      <td>61</td>\n      <td>62</td>\n      <td>None</td>\n      <td>61</td>\n      <td>62</td>\n      <td>None</td>\n    </tr>\n    <tr>\n      <th>23</th>\n      <td>None</td>\n      <td>None</td>\n      <td>None</td>\n      <td>None</td>\n      <td>None</td>\n      <td>None</td>\n      <td>None</td>\n      <td>None</td>\n      <td>None</td>\n      <td>None</td>\n      <td>...</td>\n      <td>None</td>\n      <td>None</td>\n      <td>None</td>\n      <td>None</td>\n      <td>None</td>\n      <td>None</td>\n      <td>None</td>\n      <td>None</td>\n      <td>None</td>\n      <td>None</td>\n    </tr>\n    <tr>\n      <th>24</th>\n      <td>72</td>\n      <td>None</td>\n      <td>None</td>\n      <td>72</td>\n      <td>None</td>\n      <td>None</td>\n      <td>72</td>\n      <td>None</td>\n      <td>None</td>\n      <td>72</td>\n      <td>...</td>\n      <td>None</td>\n      <td>72</td>\n      <td>None</td>\n      <td>None</td>\n      <td>72</td>\n      <td>None</td>\n      <td>None</td>\n      <td>72</td>\n      <td>None</td>\n      <td>None</td>\n    </tr>\n    <tr>\n      <th>25</th>\n      <td>71</td>\n      <td>None</td>\n      <td>None</td>\n      <td>71</td>\n      <td>None</td>\n      <td>None</td>\n      <td>71</td>\n      <td>None</td>\n      <td>None</td>\n      <td>71</td>\n      <td>...</td>\n      <td>None</td>\n      <td>71</td>\n      <td>None</td>\n      <td>None</td>\n      <td>71</td>\n      <td>None</td>\n      <td>None</td>\n      <td>71</td>\n      <td>None</td>\n      <td>None</td>\n    </tr>\n    <tr>\n      <th>26</th>\n      <td>73</td>\n      <td>None</td>\n      <td>None</td>\n      <td>73</td>\n      <td>None</td>\n      <td>None</td>\n      <td>73</td>\n      <td>None</td>\n      <td>None</td>\n      <td>73</td>\n      <td>...</td>\n      <td>None</td>\n      <td>73</td>\n      <td>None</td>\n      <td>None</td>\n      <td>73</td>\n      <td>None</td>\n      <td>None</td>\n      <td>73</td>\n      <td>None</td>\n      <td>None</td>\n    </tr>\n    <tr>\n      <th>27</th>\n      <td>82</td>\n      <td>верх 1Р</td>\n      <td>None</td>\n      <td>82</td>\n      <td>верх 1Р</td>\n      <td>None</td>\n      <td>82</td>\n      <td>верх 1Р</td>\n      <td>None</td>\n      <td>82</td>\n      <td>...</td>\n      <td>None</td>\n      <td>82</td>\n      <td>верх 1Р</td>\n      <td>None</td>\n      <td>82</td>\n      <td>верх 1Р</td>\n      <td>None</td>\n      <td>82</td>\n      <td>верх 1Р</td>\n      <td>None</td>\n    </tr>\n    <tr>\n      <th>28</th>\n      <td>81</td>\n      <td>62</td>\n      <td>None</td>\n      <td>81</td>\n      <td>62</td>\n      <td>None</td>\n      <td>81</td>\n      <td>62</td>\n      <td>None</td>\n      <td>81</td>\n      <td>...</td>\n      <td>None</td>\n      <td>81</td>\n      <td>62</td>\n      <td>None</td>\n      <td>81</td>\n      <td>62</td>\n      <td>None</td>\n      <td>81</td>\n      <td>62</td>\n      <td>None</td>\n    </tr>\n    <tr>\n      <th>29</th>\n      <td>None</td>\n      <td>None</td>\n      <td>None</td>\n      <td>None</td>\n      <td>None</td>\n      <td>None</td>\n      <td>None</td>\n      <td>None</td>\n      <td>None</td>\n      <td>None</td>\n      <td>...</td>\n      <td>None</td>\n      <td>None</td>\n      <td>None</td>\n      <td>None</td>\n      <td>None</td>\n      <td>None</td>\n      <td>None</td>\n      <td>None</td>\n      <td>None</td>\n      <td>None</td>\n    </tr>\n  </tbody>\n</table>\n<p>30 rows × 24 columns</p>\n</div>"
     },
     "execution_count": 13,
     "metadata": {},
     "output_type": "execute_result"
    }
   ],
   "source": [
    "ls = []\n",
    "for i in range(b1.Rows):\n",
    "    ls1 = []\n",
    "    for j in range(b1.Columns):\n",
    "        ls1.append(b1.GetCellValue(i, j))\n",
    "    ls.append(ls1)\n",
    "\n",
    "df = pd.DataFrame(ls, columns=[8, 18,28, 7, 17, 27, 6, 16, 26, 5, 15, 25, 4, 14, 24, 3, 13, 23, 2, 12, 22, 1, 11, 21])\n",
    "df"
   ],
   "metadata": {
    "collapsed": false
   }
  },
  {
   "cell_type": "code",
   "execution_count": null,
   "outputs": [],
   "source": [
    "r = 7\n",
    "r1 = r +10\n",
    "r2 = r + 20"
   ],
   "metadata": {
    "collapsed": false
   }
  },
  {
   "cell_type": "code",
   "execution_count": null,
   "outputs": [],
   "source": [
    "row = df[df[r] == 42].index.values[0]\n",
    "row"
   ],
   "metadata": {
    "collapsed": false
   }
  },
  {
   "cell_type": "code",
   "execution_count": null,
   "outputs": [],
   "source": [],
   "metadata": {
    "collapsed": false
   }
  },
  {
   "cell_type": "code",
   "execution_count": null,
   "outputs": [],
   "source": [
    "b1.SetCellValue(r2-20, row+1, 'test')"
   ],
   "metadata": {
    "collapsed": false
   }
  },
  {
   "cell_type": "code",
   "execution_count": null,
   "outputs": [],
   "source": [
    "b1.SetCellValue(0, 0, 'test')"
   ],
   "metadata": {
    "collapsed": false
   }
  },
  {
   "cell_type": "code",
   "execution_count": null,
   "outputs": [],
   "source": [
    "ad.close_docs()"
   ],
   "metadata": {
    "collapsed": false
   }
  },
  {
   "cell_type": "code",
   "execution_count": null,
   "outputs": [],
   "source": [
    "ad._read_ent_type()"
   ],
   "metadata": {
    "collapsed": false
   }
  },
  {
   "cell_type": "code",
   "execution_count": null,
   "outputs": [],
   "source": [
    "ad.df_ent_type['entity_name'].value_counts()"
   ],
   "metadata": {
    "collapsed": false
   }
  },
  {
   "cell_type": "code",
   "execution_count": null,
   "outputs": [],
   "source": [
    "# b1 = ad.get_obj('2E5AB')\n",
    "# b2 = ad.get_obj('2DFC0')\n",
    "# b3 = ad.get_obj('30A13')\n",
    "# b4 = ad.get_obj('2DFA8')\n",
    "b5 = ad.get_obj('408A6')"
   ],
   "metadata": {
    "collapsed": false
   }
  },
  {
   "cell_type": "code",
   "execution_count": null,
   "outputs": [],
   "source": [
    "# ad.df_ent_type[ad.df_ent_type['entity_name']=='AcDbMText']\n",
    "# ad.df_ent_type[ad.df_ent_type['entity_name']=='AcDbText']\n",
    "ad.df_ent_type[ad.df_ent_type['entity_name']=='AcDbCircle']"
   ],
   "metadata": {
    "collapsed": false
   }
  },
  {
   "cell_type": "code",
   "execution_count": null,
   "outputs": [],
   "source": [],
   "metadata": {
    "collapsed": false
   }
  },
  {
   "cell_type": "code",
   "execution_count": null,
   "outputs": [],
   "source": [
    "ad.read_polylines()"
   ],
   "metadata": {
    "collapsed": false
   }
  },
  {
   "cell_type": "code",
   "execution_count": null,
   "outputs": [],
   "source": [
    "acad.load_polylines()"
   ],
   "metadata": {
    "collapsed": false
   }
  },
  {
   "cell_type": "code",
   "execution_count": null,
   "outputs": [],
   "source": [
    "acad.df_poly.head(3)"
   ],
   "metadata": {
    "collapsed": false
   }
  },
  {
   "cell_type": "code",
   "execution_count": null,
   "outputs": [],
   "source": [
    "b1 = acad.get_obj(acad.df_poly['h'].values[0])"
   ],
   "metadata": {
    "collapsed": false
   }
  },
  {
   "cell_type": "code",
   "execution_count": null,
   "outputs": [],
   "source": [
    "s1 = 'polylines$' + acad.doc.FullName.replace('\\\\', '$') + '.csv'\n",
    "s1"
   ],
   "metadata": {
    "collapsed": false
   }
  },
  {
   "cell_type": "code",
   "execution_count": null,
   "outputs": [],
   "source": [
    "df = acad.get_docs()\n",
    "df"
   ],
   "metadata": {
    "collapsed": false
   }
  },
  {
   "cell_type": "code",
   "execution_count": null,
   "outputs": [],
   "source": [
    "acad.get_path_to_csv()"
   ],
   "metadata": {
    "collapsed": false
   }
  },
  {
   "cell_type": "code",
   "execution_count": null,
   "outputs": [],
   "source": [
    "acad.get_path_to_csv('polylines')"
   ],
   "metadata": {
    "collapsed": false
   }
  },
  {
   "cell_type": "code",
   "execution_count": null,
   "outputs": [],
   "source": [
    "acad.read_polylines()"
   ],
   "metadata": {
    "collapsed": false
   }
  },
  {
   "cell_type": "code",
   "execution_count": null,
   "outputs": [],
   "source": [],
   "metadata": {
    "collapsed": false
   }
  },
  {
   "cell_type": "code",
   "execution_count": null,
   "outputs": [],
   "source": [
    "df.to_csv('csv/docs.csv', index=False, sep='$')"
   ],
   "metadata": {
    "collapsed": false
   }
  },
  {
   "cell_type": "code",
   "execution_count": null,
   "outputs": [],
   "source": [
    "acad.read_ent_type()"
   ],
   "metadata": {
    "collapsed": false
   }
  },
  {
   "cell_type": "code",
   "execution_count": null,
   "outputs": [],
   "source": [
    "df = acad.df_ent_type\n",
    "\n",
    "df1 = df[df['entity_name']=='AcDbMText']\n",
    "df1"
   ],
   "metadata": {
    "collapsed": false
   }
  },
  {
   "cell_type": "code",
   "execution_count": null,
   "outputs": [],
   "source": [
    "t = df['entity_name'].value_counts()\n",
    "t"
   ],
   "metadata": {
    "collapsed": false
   }
  },
  {
   "cell_type": "code",
   "execution_count": null,
   "outputs": [],
   "source": [
    "t.index.tolist()"
   ],
   "metadata": {
    "collapsed": false
   }
  },
  {
   "cell_type": "code",
   "execution_count": null,
   "outputs": [],
   "source": [
    "h1 = df[df['entity_name']=='AcDbPolyline']['handle'].values[0]\n",
    "h1"
   ],
   "metadata": {
    "collapsed": false
   }
  },
  {
   "cell_type": "code",
   "execution_count": null,
   "outputs": [],
   "source": [
    "b1 = acad.get_obj(h1)"
   ],
   "metadata": {
    "collapsed": false
   }
  },
  {
   "cell_type": "code",
   "execution_count": null,
   "outputs": [],
   "source": [
    "def read_polyline(df):\n",
    "    df2 = df[df['entity_name']=='AcDbPolyline']\n",
    "\n",
    "    ls = []\n",
    "    for h in df2['handle'].values:\n",
    "        b1 = acad.get_obj(h)\n",
    "        d = {\n",
    "            'h': h,\n",
    "            'length': b1.Length,\n",
    "            'x1': b1.Coordinates[0],\n",
    "            'y1': b1.Coordinates[1],\n",
    "            'x2': b1.Coordinates[-2],\n",
    "            'y2': b1.Coordinates[-1],\n",
    "            'points': b1.Coordinates,\n",
    "            'layer': b1.Layer,\n",
    "            'color': b1.Color,\n",
    "            'linetype': b1.Linetype,\n",
    "            'closed': b1.Closed,\n",
    "            'area': b1.Area,\n",
    "            'linetype_scale': b1.LinetypeScale,\n",
    "            'lineweight': b1.Lineweight,\n",
    "            'material': b1.Material,\n",
    "            'thickness': b1.Thickness,\n",
    "        }\n",
    "        ls.append(d)\n",
    "\n",
    "    df3 = pd.DataFrame(ls)\n",
    "    return df3"
   ],
   "metadata": {
    "collapsed": false
   }
  },
  {
   "cell_type": "code",
   "execution_count": 46,
   "outputs": [],
   "source": [
    "df3.to_csv('polyline.csv', index=False, sep='$')"
   ],
   "metadata": {
    "collapsed": false
   }
  },
  {
   "cell_type": "code",
   "execution_count": 48,
   "outputs": [],
   "source": [
    "df4 = pd.read_csv('polyline.csv', sep='$')"
   ],
   "metadata": {
    "collapsed": false
   }
  },
  {
   "cell_type": "code",
   "execution_count": 49,
   "outputs": [],
   "source": [
    "p1 = df4['points'].values[0]"
   ],
   "metadata": {
    "collapsed": false
   }
  },
  {
   "cell_type": "code",
   "execution_count": 54,
   "outputs": [],
   "source": [
    "ls1 = p1.replace('(', '').replace(')', '').split(',')"
   ],
   "metadata": {
    "collapsed": false
   }
  },
  {
   "cell_type": "code",
   "execution_count": 55,
   "outputs": [
    {
     "data": {
      "text/plain": "[1045.5544423979388,\n -80.27062376316371,\n 1048.0545834305792,\n -80.27062376316371,\n 1129.0546373236336,\n -80.27062376316371,\n 1129.0546373236336,\n -88.27058117774595]"
     },
     "execution_count": 55,
     "metadata": {},
     "output_type": "execute_result"
    }
   ],
   "source": [
    "ls1 = [float(x) for x in ls1]\n",
    "ls1"
   ],
   "metadata": {
    "collapsed": false
   }
  },
  {
   "cell_type": "code",
   "execution_count": null,
   "outputs": [],
   "source": [],
   "metadata": {
    "collapsed": false
   }
  },
  {
   "cell_type": "code",
   "execution_count": null,
   "outputs": [],
   "source": [],
   "metadata": {
    "collapsed": false
   }
  },
  {
   "cell_type": "code",
   "execution_count": null,
   "outputs": [],
   "source": [],
   "metadata": {
    "collapsed": false
   }
  },
  {
   "cell_type": "code",
   "execution_count": null,
   "outputs": [],
   "source": [
    "def f1(handle):\n",
    "    obj = acad.get_obj(handle)\n",
    "    ser = pd.Series([obj.Handle, obj.TextString, obj.InsertionPoint[0], obj.InsertionPoint[1], obj.Height, obj.Width, obj.Rotation, obj.StyleName, obj.Layer, obj.color])\n",
    "    return ser\n",
    "\n",
    "\n",
    "df1[['handle', 'str', 'x', 'y','height', 'width', 'rotation', 'style', 'layer', 'color']] = df1['handle'].apply(f1)\n",
    "df1"
   ],
   "metadata": {
    "collapsed": false
   }
  },
  {
   "cell_type": "code",
   "execution_count": 32,
   "outputs": [
    {
     "data": {
      "text/plain": "'XK21:5'"
     },
     "execution_count": 32,
     "metadata": {},
     "output_type": "execute_result"
    }
   ],
   "source": [
    "ob2 = acad.get_obj(df1.loc[7796]['handle'])\n",
    "ob2.TextString"
   ],
   "metadata": {
    "collapsed": false
   }
  },
  {
   "cell_type": "code",
   "execution_count": 34,
   "outputs": [],
   "source": [
    "df1.to_csv('mtext.csv', index=False)"
   ],
   "metadata": {
    "collapsed": false
   }
  },
  {
   "cell_type": "code",
   "execution_count": 35,
   "outputs": [],
   "source": [
    "df2 = pd.read_csv('mtext.csv')"
   ],
   "metadata": {
    "collapsed": false
   }
  },
  {
   "cell_type": "code",
   "execution_count": null,
   "outputs": [],
   "source": [],
   "metadata": {
    "collapsed": false
   }
  },
  {
   "cell_type": "code",
   "execution_count": 131,
   "outputs": [
    {
     "data": {
      "text/plain": "1         409\n2         394\n4         370\n3         359\n0,75      162\n         ... \nW1239       1\nXK71:9      1\nXK71:8      1\nW1236       1\nFSP233      1\nName: txt, Length: 1333, dtype: int64"
     },
     "execution_count": 131,
     "metadata": {},
     "output_type": "execute_result"
    }
   ],
   "source": [
    "df1['txt'].value_counts()"
   ],
   "metadata": {
    "collapsed": false
   }
  },
  {
   "cell_type": "code",
   "execution_count": null,
   "outputs": [],
   "source": [],
   "metadata": {
    "collapsed": false
   }
  },
  {
   "cell_type": "code",
   "execution_count": null,
   "outputs": [],
   "source": [],
   "metadata": {
    "collapsed": false
   }
  },
  {
   "cell_type": "code",
   "execution_count": null,
   "outputs": [],
   "source": [
    "# OfficeEvents - test/demonstrate events with Word and Excel.\n",
    "from win32com.client import DispatchWithEvents, Dispatch\n",
    "import msvcrt, pythoncom\n",
    "import time, sys\n",
    "import types\n",
    "\n",
    "import threading\n",
    "stopEvent = threading.Event()\n",
    "\n",
    "def TestExcel():\n",
    "    class ExcelEvents:\n",
    "        def OnNewWorkbook(self, wb):\n",
    "            if type(wb) != types.InstanceType:\n",
    "                raise RuntimeError, \"The transformer doesnt appear to have translated this for us!\"\n",
    "            self.seen_events[\"OnNewWorkbook\"] = None\n",
    "        def OnWindowActivate(self, wb, wn):\n",
    "            if type(wb) != types.InstanceType or type(wn) != types.InstanceType:\n",
    "                raise RuntimeError, \"The transformer doesnt appear to have translated this for us!\"\n",
    "            self.seen_events[\"OnWindowActivate\"] = None\n",
    "        def OnWindowDeactivate(self, wb, wn):\n",
    "            self.seen_events[\"OnWindowDeactivate\"] = None\n",
    "        def OnSheetDeactivate(self, sh):\n",
    "            self.seen_events[\"OnSheetDeactivate\"] = None\n",
    "        def OnSheetBeforeDoubleClick(self, Sh, Target, Cancel):\n",
    "            if Target.Column % 2 == 0:\n",
    "                print \"You can double-click there...\"\n",
    "            else:\n",
    "                print \"You can not double-click there...\"\n",
    "            # This function is a void, so the result ends up in\n",
    "            # the only ByRef - Cancel.\n",
    "                return 1\n",
    "\n",
    "    class WorkbookEvents:\n",
    "        def OnActivate(self):\n",
    "            print \"workbook OnActivate\"\n",
    "        def OnBeforeRightClick(self, Target, Cancel):\n",
    "            print \"It's a Worksheet Event\"\n",
    "\n",
    "    e = DispatchWithEvents(\"Excel.Application\", ExcelEvents)\n",
    "    e.seen_events = {}\n",
    "    e.Visible=1\n",
    "    book = e.Workbooks.Add()\n",
    "    book = DispatchWithEvents(book, WorkbookEvents)\n",
    "    print \"Have book\", book\n",
    "#    sheet = e.Worksheets(1)\n",
    "#    sheet = DispatchWithEvents(sheet, WorksheetEvents)\n",
    "\n",
    "    print \"Double-click in a few of the Excel cells...\"\n",
    "    print \"Press any key when finished with Excel, or wait 10 seconds...\"\n",
    "    if not _WaitForFinish(e, 10):\n",
    "        e.Quit()\n",
    "    if not _CheckSeenEvents(e, [\"OnNewWorkbook\", \"OnWindowActivate\"]):\n",
    "        sys.exit(1)\n",
    "\n",
    "def TestWord():\n",
    "    class WordEvents:\n",
    "        def OnDocumentChange(self):\n",
    "            self.seen_events[\"OnDocumentChange\"] = None\n",
    "        def OnWindowActivate(self, doc, wn):\n",
    "            self.seen_events[\"OnWindowActivate\"] = None\n",
    "        def OnQuit(self):\n",
    "            self.seen_events[\"OnQuit\"] = None\n",
    "            stopEvent.set()\n",
    "\n",
    "    w = DispatchWithEvents(\"Word.Application\", WordEvents)\n",
    "    w.seen_events = {}\n",
    "    w.Visible = 1\n",
    "    w.Documents.Add()\n",
    "    print \"Press any key when finished with Word, or wait 10 seconds...\"\n",
    "    if not _WaitForFinish(w, 10):\n",
    "        w.Quit()\n",
    "    if not _CheckSeenEvents(w, [\"OnDocumentChange\", \"OnWindowActivate\"]):\n",
    "        sys.exit(1)\n",
    "\n",
    "def _WaitForFinish(ob, timeout):\n",
    "    end = time.time() + timeout\n",
    "    while 1:\n",
    "        if msvcrt.kbhit():\n",
    "            msvcrt.getch()\n",
    "            break\n",
    "        pythoncom.PumpWaitingMessages()\n",
    "        stopEvent.wait(.2)\n",
    "        if stopEvent.isSet():\n",
    "            stopEvent.clear()\n",
    "            break\n",
    "        try:\n",
    "            if not ob.Visible:\n",
    "                # Gone invisible - we need to pretend we timed\n",
    "                # out, so the app is quit.\n",
    "                return 0\n",
    "        except pythoncom.com_error:\n",
    "            # Excel is busy (eg, editing the cell) - ignore\n",
    "            pass\n",
    "        if time.time() > end:\n",
    "            return 0\n",
    "    return 1\n",
    "\n",
    "def _CheckSeenEvents(o, events):\n",
    "    rc = 1\n",
    "    for e in events:\n",
    "        if not o.seen_events.has_key(e):\n",
    "            print \"ERROR: Expected event did not trigger\", e\n",
    "            rc = 0\n",
    "    return rc\n",
    "\n",
    "def test():\n",
    "    import sys\n",
    "    if \"noword\" not in sys.argv[1:]:\n",
    "        TestWord()\n",
    "    if \"noexcel\" not in sys.argv[1:]:\n",
    "        TestExcel()\n",
    "    print \"Word and Excel event tests passed.\"\n",
    "\n",
    "if __name__=='__main__':\n",
    "    test()"
   ],
   "metadata": {
    "collapsed": false
   }
  }
 ],
 "metadata": {
  "kernelspec": {
   "display_name": "Python 3",
   "language": "python",
   "name": "python3"
  },
  "language_info": {
   "codemirror_mode": {
    "name": "ipython",
    "version": 2
   },
   "file_extension": ".py",
   "mimetype": "text/x-python",
   "name": "python",
   "nbconvert_exporter": "python",
   "pygments_lexer": "ipython2",
   "version": "2.7.6"
  }
 },
 "nbformat": 4,
 "nbformat_minor": 0
}
