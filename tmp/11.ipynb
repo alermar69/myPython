{
 "cells": [
  {
   "cell_type": "code",
   "execution_count": null,
   "outputs": [],
   "source": [],
   "metadata": {
    "collapsed": false,
    "pycharm": {
     "name": "#%%\n"
    }
   }
  },
  {
   "cell_type": "code",
   "execution_count": 1,
   "outputs": [
    {
     "name": "stdout",
     "output_type": "stream",
     "text": [
      "pyperclip\n",
      "пойманное\n",
      "WebGL/Game1/Game_new.wasm\n",
      "Access to XMLHttpRequest at 'https://storage.googleapis.com/stateless_bucket/' from origin 'http://127.0.0.1:8000' has been blocked by CORS policy: No 'Access-Control-Allow-Origin' header is present on the requested resource.\r\n",
      "\r\n",
      "WebGL/Game1/Game_new.wasm\r\n",
      "\r\n",
      "<WSGIRequest: GET '/ru/projects/download/1/2/?obj=5'>\r\n",
      "content_type='application/wasm'\r\n",
      "\n"
     ]
    },
    {
     "ename": "KeyboardInterrupt",
     "evalue": "",
     "output_type": "error",
     "traceback": [
      "\u001B[1;31m---------------------------------------------------------------------------\u001B[0m",
      "\u001B[1;31mKeyboardInterrupt\u001B[0m                         Traceback (most recent call last)",
      "\u001B[1;32m~\\AppData\\Local\\Temp/ipykernel_24024/3002950116.py\u001B[0m in \u001B[0;36m<module>\u001B[1;34m\u001B[0m\n\u001B[0;32m     17\u001B[0m     \u001B[0mold\u001B[0m \u001B[1;33m=\u001B[0m \u001B[0ms\u001B[0m\u001B[1;33m\u001B[0m\u001B[1;33m\u001B[0m\u001B[0m\n\u001B[0;32m     18\u001B[0m \u001B[1;31m# В конце витка цикла делаем паузу в одну секунду, чтобы содержимое буфера обмена успело прогрузиться\u001B[0m\u001B[1;33m\u001B[0m\u001B[1;33m\u001B[0m\u001B[1;33m\u001B[0m\u001B[0m\n\u001B[1;32m---> 19\u001B[1;33m     \u001B[0mtime\u001B[0m\u001B[1;33m.\u001B[0m\u001B[0msleep\u001B[0m\u001B[1;33m(\u001B[0m\u001B[1;36m1\u001B[0m\u001B[1;33m)\u001B[0m\u001B[1;33m\u001B[0m\u001B[1;33m\u001B[0m\u001B[0m\n\u001B[0m",
      "\u001B[1;31mKeyboardInterrupt\u001B[0m: "
     ]
    }
   ],
   "source": [
    "# Подключим модуль для работы с буфером обмена\n",
    "import pyperclip\n",
    "import time\n",
    "\n",
    "old = ''\n",
    "while True:\n",
    "    s = pyperclip.paste()\n",
    "    if(s != old):\n",
    "        print(s)\n",
    "    old = s\n",
    "    time.sleep(1)"
   ],
   "metadata": {
    "collapsed": false,
    "pycharm": {
     "name": "#%%\n"
    }
   }
  },
  {
   "cell_type": "code",
   "execution_count": null,
   "outputs": [],
   "source": [],
   "metadata": {
    "collapsed": false,
    "pycharm": {
     "name": "#%%\n"
    }
   }
  },
  {
   "cell_type": "code",
   "execution_count": null,
   "outputs": [],
   "source": [],
   "metadata": {
    "collapsed": false,
    "pycharm": {
     "name": "#%%\n"
    }
   }
  },
  {
   "cell_type": "code",
   "execution_count": null,
   "outputs": [],
   "source": [],
   "metadata": {
    "collapsed": false,
    "pycharm": {
     "name": "#%%\n"
    }
   }
  },
  {
   "cell_type": "code",
   "execution_count": null,
   "outputs": [],
   "source": [],
   "metadata": {
    "collapsed": false,
    "pycharm": {
     "name": "#%%\n"
    }
   }
  },
  {
   "cell_type": "code",
   "execution_count": null,
   "outputs": [],
   "source": [],
   "metadata": {
    "collapsed": false,
    "pycharm": {
     "name": "#%%\n"
    }
   }
  },
  {
   "cell_type": "code",
   "execution_count": 1,
   "outputs": [],
   "source": [
    "import yaml"
   ],
   "metadata": {
    "collapsed": false,
    "pycharm": {
     "name": "#%%\n"
    }
   }
  },
  {
   "cell_type": "code",
   "execution_count": 3,
   "outputs": [],
   "source": [
    "trunk_template = [\n",
    "    'switchport trunk encapsulation dot1q', 'switchport mode trunk',\n",
    "    'switchport trunk native vlan 999', 'switchport trunk allowed vlan'\n",
    "]\n",
    "\n",
    "access_template = [\n",
    "    'switchport mode access', 'switchport access vlan',\n",
    "    'switchport nonegotiate', 'spanning-tree portfast',\n",
    "    'spanning-tree bpduguard enable'\n",
    "]\n",
    "\n",
    "to_yaml = {\n",
    "    'folderId': '45fsd4548sdd45',\n",
    "    'name': 'test-from-client',\n",
    "    'description': 'testing',\n",
    "    'zoneId': 'ru-central1-c',\n",
    "    'platformId': 'standard-v2',\n",
    "    'resourcesSpec': {\n",
    "        'memory': 2147483648,\n",
    "        'cores': 2,\n",
    "        'coreFraction': 50,\n",
    "    },\n",
    "    'metadata': {\n",
    "        'serial-port-enable': '1',\n",
    "        'user-data': '|',\n",
    "    },\n",
    "    'bootDiskSpec': {\n",
    "        'diskSpec': {\n",
    "            'typeId': 'network-hdd',\n",
    "            'size': 10737418240,\n",
    "            'imageId': 'fd8veme9fg6pbg5ost48',\n",
    "        },\n",
    "    },\n",
    "    'networkInterfaceSpecs': [{\n",
    "        'subnetId': 'gdf45554546dsg64',\n",
    "        'primaryV4AddressSpec': {\n",
    "            'address': '10.10.0.10',\n",
    "            'oneToOneNatSpec': {\n",
    "                'address': '84.XX.XX.XX',\n",
    "            },\n",
    "        },\n",
    "    }],\n",
    "    'schedulingPolicy': {\n",
    "        'preemptible': 'false',\n",
    "    },\n",
    "}\n",
    "\n",
    "with open('sw_templates.yaml', 'w') as f:\n",
    "    yaml.dump(to_yaml, f, default_flow_style=False)"
   ],
   "metadata": {
    "collapsed": false,
    "pycharm": {
     "name": "#%%\n"
    }
   }
  },
  {
   "cell_type": "code",
   "execution_count": 9,
   "outputs": [
    {
     "name": "stdout",
     "output_type": "stream",
     "text": [
      "{'bootDiskSpec': {'diskSpec': {'imageId': 'fd8veme9fg6pbg5ost48', 'size': 10737418240, 'typeId': 'network-hdd'}}, 'description': 'testing', 'folderId': 'dd877sgg7ahh', 'metadata': {'serial-port-enable': '1', 'user-data': '#cloud-config\\nusers:\\n- name: your-username\\n  sudo: ALL=(ALL) NOPASSWD:ALL\\n  shell: /bin/bash\\n  ssh-authorized-keys:\\n    - ssh-rsa AAAA....\\n'}, 'name': 'test-from-client', 'networkInterfaceSpecs': [{'primaryV4AddressSpec': {'address': '10.10.0.10', 'oneToOneNatSpec': {'address': '84.XX.XX.XX'}}, 'subnetId': 'your-subnet-id'}], 'platformId': 'standard-v2', 'resourcesSpec': {'coreFraction': 50, 'cores': 2, 'memory': 2147483648}, 'schedulingPolicy': {'preemptible': False}, 'zoneId': 'ru-central1-c'}\n"
     ]
    }
   ],
   "source": [
    "with open('instance_spec_example.yaml') as f:\n",
    "    documents = yaml.full_load(f)\n",
    "print(documents)\n"
   ],
   "metadata": {
    "collapsed": false,
    "pycharm": {
     "name": "#%%\n"
    }
   }
  },
  {
   "cell_type": "code",
   "execution_count": 8,
   "outputs": [],
   "source": [
    "documents['folderId'] = 'dd877sgg7ahh'\n",
    "with open('instance_spec_example.yaml', 'w') as f:\n",
    "    yaml.dump(documents, f, default_flow_style=False)"
   ],
   "metadata": {
    "collapsed": false,
    "pycharm": {
     "name": "#%%\n"
    }
   }
  },
  {
   "cell_type": "code",
   "execution_count": null,
   "outputs": [],
   "source": [],
   "metadata": {
    "collapsed": false,
    "pycharm": {
     "name": "#%%\n"
    }
   }
  },
  {
   "cell_type": "code",
   "execution_count": null,
   "outputs": [],
   "source": [],
   "metadata": {
    "collapsed": false,
    "pycharm": {
     "name": "#%%\n"
    }
   }
  },
  {
   "cell_type": "code",
   "execution_count": null,
   "outputs": [],
   "source": [],
   "metadata": {
    "collapsed": false,
    "pycharm": {
     "name": "#%%\n"
    }
   }
  },
  {
   "cell_type": "code",
   "execution_count": null,
   "outputs": [],
   "source": [],
   "metadata": {
    "collapsed": false,
    "pycharm": {
     "name": "#%%\n"
    }
   }
  },
  {
   "cell_type": "code",
   "execution_count": 1,
   "metadata": {
    "collapsed": true
   },
   "outputs": [],
   "source": [
    "from yandex_cloud_client import ComputeClient, Instance\n",
    "from pprint import pprint\n",
    "import pandas as pd\n",
    "import yandex_cloud_client as ycc"
   ]
  },
  {
   "cell_type": "code",
   "execution_count": 2,
   "outputs": [],
   "source": [
    "# compute = ComputeClient(oauth_token='AQAAAAAZgw4sAATuwYVtsXTvX0Rivzzt8VMx3uw')\n",
    "compute = ComputeClient(oauth_token='AQAAAABaYBf5AATuwaA79ZYLMUPxvTrhPZ7w23c')"
   ],
   "metadata": {
    "collapsed": false,
    "pycharm": {
     "name": "#%%\n"
    }
   }
  },
  {
   "cell_type": "code",
   "execution_count": 3,
   "outputs": [
    {
     "data": {
      "text/plain": "('b1gh99bjjg7p3vn2arer',\n 'b1gq0rkg62avu3loh7ab',\n [{'id': 'fhm0v4qjsvu59pkgn0d1', 'folder_id': 'b1gq0rkg62avu3loh7ab', 'created_at': datetime.datetime(2021, 10, 11, 18, 45, 10), 'name': 'bee4', 'description': None, 'labels': {}, 'zone_id': 'ru-central1-a', 'platform_id': 'standard-v3', 'resources': {'memory': 4294967296, 'cores': 4, 'core_fraction': 20, 'gpus': None}, 'status': 'STOPPED', 'metadata': None, 'boot_disk': {'id': 'fhm805aa38q31f6khosm', 'disk_id': 'fhm805aa38q31f6khosm', 'folder_id': 'b1gq0rkg62avu3loh7ab', 'attached_to': 'fhm0v4qjsvu59pkgn0d1', 'mode': 'READ_WRITE', 'device_name': 'fhm805aa38q31f6khosm', 'auto_delete': True}, 'secondary_disks': [], 'network_interfaces': [{'index': '0', 'mac_address': 'd0:0d:f9:35:3e:7f', 'subnet_id': 'e9be0thico77frfcd5ut', 'primary_v4_address': {'address': '10.130.0.41', 'one_to_one_nat': {'address': None, 'ip_version': 'IPV4'}}, 'primary_v6_address': None}], 'fqdn': 'bee4.ru-central1.internal', 'scheduling_policy': {'preemptible': True}, 'service_account_id': None, 'network_settings': {'type': 'STANDARD'}},\n  {'id': 'fhmlvf1v40lp0pgnah3d', 'folder_id': 'b1gq0rkg62avu3loh7ab', 'created_at': datetime.datetime(2022, 1, 20, 21, 44, 3), 'name': 'cabinet', 'description': None, 'labels': {}, 'zone_id': 'ru-central1-a', 'platform_id': 'standard-v3', 'resources': {'memory': 4294967296, 'cores': 2, 'core_fraction': 20, 'gpus': None}, 'status': 'STOPPED', 'metadata': None, 'boot_disk': {'id': 'fhmp6f3b8njm5cnjesq6', 'disk_id': 'fhmp6f3b8njm5cnjesq6', 'folder_id': 'b1gq0rkg62avu3loh7ab', 'attached_to': 'fhmlvf1v40lp0pgnah3d', 'mode': 'READ_WRITE', 'device_name': 'fhmp6f3b8njm5cnjesq6', 'auto_delete': True}, 'secondary_disks': [], 'network_interfaces': [{'index': '0', 'mac_address': 'd0:0d:15:fb:c3:f2', 'subnet_id': 'e9be0thico77frfcd5ut', 'primary_v4_address': {'address': '10.130.0.37', 'one_to_one_nat': {'address': '84.201.187.178', 'ip_version': 'IPV4'}}, 'primary_v6_address': None}], 'fqdn': 'cabinet.ru-central1.internal', 'scheduling_policy': {'preemptible': False}, 'service_account_id': None, 'network_settings': {'type': 'STANDARD'}},\n  {'id': 'fhmmqejq9vlp9qhtdls6', 'folder_id': 'b1gq0rkg62avu3loh7ab', 'created_at': datetime.datetime(2021, 11, 3, 22, 42, 27), 'name': 'noda', 'description': None, 'labels': {}, 'zone_id': 'ru-central1-a', 'platform_id': 'standard-v3', 'resources': {'memory': 4294967296, 'cores': 2, 'core_fraction': 100, 'gpus': None}, 'status': 'STOPPED', 'metadata': None, 'boot_disk': {'id': 'fhmh2qp8u3i081m5tc15', 'disk_id': 'fhmh2qp8u3i081m5tc15', 'folder_id': 'b1gq0rkg62avu3loh7ab', 'attached_to': 'fhmmqejq9vlp9qhtdls6', 'mode': 'READ_WRITE', 'device_name': 'fhmh2qp8u3i081m5tc15', 'auto_delete': True}, 'secondary_disks': [], 'network_interfaces': [{'index': '0', 'mac_address': 'd0:0d:16:d3:a7:a4', 'subnet_id': 'e9be0thico77frfcd5ut', 'primary_v4_address': {'address': '10.130.0.24', 'one_to_one_nat': {'address': None, 'ip_version': 'IPV4'}}, 'primary_v6_address': None}], 'fqdn': 'noda.ru-central1.internal', 'scheduling_policy': {'preemptible': False}, 'service_account_id': 'aje1ffpef686b1e3bh22', 'network_settings': {'type': 'STANDARD'}},\n  {'id': 'fhmo3230a20b3egjqjdp', 'folder_id': 'b1gq0rkg62avu3loh7ab', 'created_at': datetime.datetime(2021, 5, 8, 19, 22, 3), 'name': 'openvpn', 'description': None, 'labels': {}, 'zone_id': 'ru-central1-a', 'platform_id': 'standard-v2', 'resources': {'memory': 1073741824, 'cores': 2, 'core_fraction': 20, 'gpus': None}, 'status': 'RUNNING', 'metadata': None, 'boot_disk': {'id': 'fhmj9aej79atrmqs1oho', 'disk_id': 'fhmj9aej79atrmqs1oho', 'folder_id': 'b1gq0rkg62avu3loh7ab', 'attached_to': 'fhmo3230a20b3egjqjdp', 'mode': 'READ_WRITE', 'device_name': 'fhmj9aej79atrmqs1oho', 'auto_delete': True}, 'secondary_disks': [], 'network_interfaces': [{'index': '0', 'mac_address': 'd0:0d:18:18:86:05', 'subnet_id': 'e9be0thico77frfcd5ut', 'primary_v4_address': {'address': '10.130.0.5', 'one_to_one_nat': {'address': '178.154.224.41', 'ip_version': 'IPV4'}}, 'primary_v6_address': None}], 'fqdn': 'openvpn.ru-central1.internal', 'scheduling_policy': {'preemptible': False}, 'service_account_id': 'aje1ffpef686b1e3bh22', 'network_settings': {'type': 'STANDARD'}},\n  {'id': 'fhmr4ho6660bq1aslkv3', 'folder_id': 'b1gq0rkg62avu3loh7ab', 'created_at': datetime.datetime(2021, 10, 11, 18, 2, 5), 'name': 'bee2', 'description': None, 'labels': {}, 'zone_id': 'ru-central1-a', 'platform_id': 'standard-v3', 'resources': {'memory': 4294967296, 'cores': 4, 'core_fraction': 50, 'gpus': None}, 'status': 'STOPPED', 'metadata': None, 'boot_disk': {'id': 'fhmhdoeq1tsvh6msvept', 'disk_id': 'fhmhdoeq1tsvh6msvept', 'folder_id': 'b1gq0rkg62avu3loh7ab', 'attached_to': 'fhmr4ho6660bq1aslkv3', 'mode': 'READ_WRITE', 'device_name': 'fhmhdoeq1tsvh6msvept', 'auto_delete': True}, 'secondary_disks': [], 'network_interfaces': [{'index': '0', 'mac_address': 'd0:0d:1b:24:70:63', 'subnet_id': 'e9be0thico77frfcd5ut', 'primary_v4_address': {'address': '10.130.0.36', 'one_to_one_nat': {'address': None, 'ip_version': 'IPV4'}}, 'primary_v6_address': None}], 'fqdn': 'bee2.ru-central1.internal', 'scheduling_policy': {'preemptible': True}, 'service_account_id': None, 'network_settings': {'type': 'STANDARD'}},\n  {'id': 'fhmrvh9gs4p9nujf27s5', 'folder_id': 'b1gq0rkg62avu3loh7ab', 'created_at': datetime.datetime(2020, 12, 28, 8, 10, 8), 'name': 'vm', 'description': None, 'labels': {}, 'zone_id': 'ru-central1-a', 'platform_id': 'standard-v2', 'resources': {'memory': 4294967296, 'cores': 4, 'core_fraction': 100, 'gpus': None}, 'status': 'RUNNING', 'metadata': None, 'boot_disk': {'id': 'fhm2v3o2legb0ng0nqn2', 'disk_id': 'fhm2v3o2legb0ng0nqn2', 'folder_id': 'b1gq0rkg62avu3loh7ab', 'attached_to': 'fhmrvh9gs4p9nujf27s5', 'mode': 'READ_WRITE', 'device_name': 'fhm2v3o2legb0ng0nqn2', 'auto_delete': True}, 'secondary_disks': [], 'network_interfaces': [{'index': '0', 'mac_address': 'd0:0d:1b:fc:53:0e', 'subnet_id': 'e9be0thico77frfcd5ut', 'primary_v4_address': {'address': '10.130.0.13', 'one_to_one_nat': {'address': '178.154.254.194', 'ip_version': 'IPV4'}}, 'primary_v6_address': None}], 'fqdn': 'vm.ru-central1.internal', 'scheduling_policy': {'preemptible': False}, 'service_account_id': 'aje1ffpef686b1e3bh22', 'network_settings': {'type': 'STANDARD'}},\n  {'id': 'fhmsc0ievkti0kj691nj', 'folder_id': 'b1gq0rkg62avu3loh7ab', 'created_at': datetime.datetime(2021, 10, 11, 18, 19, 18), 'name': 'bee3', 'description': None, 'labels': {}, 'zone_id': 'ru-central1-a', 'platform_id': 'standard-v3', 'resources': {'memory': 4294967296, 'cores': 4, 'core_fraction': 20, 'gpus': None}, 'status': 'STOPPED', 'metadata': None, 'boot_disk': {'id': 'fhm7kpee7fmmg2dq5tlk', 'disk_id': 'fhm7kpee7fmmg2dq5tlk', 'folder_id': 'b1gq0rkg62avu3loh7ab', 'attached_to': 'fhmsc0ievkti0kj691nj', 'mode': 'READ_WRITE', 'device_name': 'fhm7kpee7fmmg2dq5tlk', 'auto_delete': True}, 'secondary_disks': [], 'network_interfaces': [{'index': '0', 'mac_address': 'd0:0d:1c:60:24:ef', 'subnet_id': 'e9be0thico77frfcd5ut', 'primary_v4_address': {'address': '10.130.0.38', 'one_to_one_nat': {'address': None, 'ip_version': 'IPV4'}}, 'primary_v6_address': None}], 'fqdn': 'bee3.ru-central1.internal', 'scheduling_policy': {'preemptible': True}, 'service_account_id': None, 'network_settings': {'type': 'STANDARD'}},\n  {'id': 'fhmtpb6kl327noh0fero', 'folder_id': 'b1gq0rkg62avu3loh7ab', 'created_at': datetime.datetime(2021, 4, 29, 9, 3, 33), 'name': 'bee1', 'description': None, 'labels': {}, 'zone_id': 'ru-central1-a', 'platform_id': 'standard-v2', 'resources': {'memory': 4294967296, 'cores': 4, 'core_fraction': 20, 'gpus': None}, 'status': 'STOPPED', 'metadata': None, 'boot_disk': {'id': 'fhm82r01r6qmilttdhpf', 'disk_id': 'fhm82r01r6qmilttdhpf', 'folder_id': 'b1gq0rkg62avu3loh7ab', 'attached_to': 'fhmtpb6kl327noh0fero', 'mode': 'READ_WRITE', 'device_name': 'fhm82r01r6qmilttdhpf', 'auto_delete': True}, 'secondary_disks': [], 'network_interfaces': [{'index': '0', 'mac_address': 'd0:0d:1d:ca:cd:4a', 'subnet_id': 'e9be0thico77frfcd5ut', 'primary_v4_address': {'address': '10.130.0.22', 'one_to_one_nat': {'address': None, 'ip_version': 'IPV4'}}, 'primary_v6_address': None}], 'fqdn': 'bee1.ru-central1.internal', 'scheduling_policy': {'preemptible': True}, 'service_account_id': 'aje1ffpef686b1e3bh22', 'network_settings': {'type': 'STANDARD'}},\n  {'id': 'fhmvbkpsnu8knk9bto8l', 'folder_id': 'b1gq0rkg62avu3loh7ab', 'created_at': datetime.datetime(2021, 9, 29, 21, 3, 48), 'name': 'ad', 'description': None, 'labels': {}, 'zone_id': 'ru-central1-a', 'platform_id': 'standard-v3', 'resources': {'memory': 4294967296, 'cores': 4, 'core_fraction': 50, 'gpus': None}, 'status': 'RUNNING', 'metadata': None, 'boot_disk': {'id': 'fhm55pbf2fjnk367odrd', 'disk_id': 'fhm55pbf2fjnk367odrd', 'folder_id': 'b1gq0rkg62avu3loh7ab', 'attached_to': 'fhmvbkpsnu8knk9bto8l', 'mode': 'READ_WRITE', 'device_name': 'fhm55pbf2fjnk367odrd', 'auto_delete': True}, 'secondary_disks': [], 'network_interfaces': [{'index': '0', 'mac_address': 'd0:0d:1f:5d:33:cb', 'subnet_id': 'e9be0thico77frfcd5ut', 'primary_v4_address': {'address': '10.130.0.39', 'one_to_one_nat': {'address': '62.84.114.110', 'ip_version': 'IPV4'}}, 'primary_v6_address': None}], 'fqdn': 'ad.ru-central1.internal', 'scheduling_policy': {'preemptible': False}, 'service_account_id': 'aje1ffpef686b1e3bh22', 'network_settings': {'type': 'STANDARD'}}])"
     },
     "execution_count": 3,
     "metadata": {},
     "output_type": "execute_result"
    }
   ],
   "source": [
    "cloud_id = compute.available_clouds()[0]['id']\n",
    "folder_id = compute.folders_in_cloud(cloud_id)[0]['id']\n",
    "instances = compute.instances_in_folder(folder_id)\n",
    "cloud_id, folder_id, instances"
   ],
   "metadata": {
    "collapsed": false,
    "pycharm": {
     "name": "#%%\n"
    }
   }
  },
  {
   "cell_type": "code",
   "execution_count": 4,
   "outputs": [
    {
     "data": {
      "text/plain": "[{'id': 'b1gh99bjjg7p3vn2arer', 'created_at': datetime.datetime(2020, 5, 18, 21, 48, 38), 'name': 'cloud-v-grandru', 'description': None}]"
     },
     "execution_count": 4,
     "metadata": {},
     "output_type": "execute_result"
    }
   ],
   "source": [
    "compute.available_clouds()"
   ],
   "metadata": {
    "collapsed": false,
    "pycharm": {
     "name": "#%%\n"
    }
   }
  },
  {
   "cell_type": "code",
   "execution_count": null,
   "outputs": [],
   "source": [],
   "metadata": {
    "collapsed": false,
    "pycharm": {
     "name": "#%%\n"
    }
   }
  },
  {
   "cell_type": "code",
   "execution_count": null,
   "outputs": [],
   "source": [],
   "metadata": {
    "collapsed": false,
    "pycharm": {
     "name": "#%%\n"
    }
   }
  },
  {
   "cell_type": "code",
   "execution_count": 3,
   "outputs": [
    {
     "data": {
      "text/plain": "[{'id': 'b1gh99bjjg7p3vn2arer', 'created_at': datetime.datetime(2020, 5, 18, 21, 48, 38), 'name': 'cloud-v-grandru', 'description': None}]"
     },
     "execution_count": 3,
     "metadata": {},
     "output_type": "execute_result"
    }
   ],
   "source": [
    "compute.available_clouds()"
   ],
   "metadata": {
    "collapsed": false,
    "pycharm": {
     "name": "#%%\n"
    }
   }
  },
  {
   "cell_type": "code",
   "execution_count": 4,
   "outputs": [],
   "source": [
    "dsk = compute.disk('fhm805aa38q31f6khosm')"
   ],
   "metadata": {
    "collapsed": false,
    "pycharm": {
     "name": "#%%\n"
    }
   }
  },
  {
   "cell_type": "code",
   "execution_count": null,
   "outputs": [],
   "source": [
    "dsk.delete()"
   ],
   "metadata": {
    "collapsed": false,
    "pycharm": {
     "name": "#%%\n"
    }
   }
  },
  {
   "cell_type": "code",
   "execution_count": 45,
   "outputs": [
    {
     "data": {
      "text/plain": "13.0"
     },
     "execution_count": 45,
     "metadata": {},
     "output_type": "execute_result"
    }
   ],
   "source": [
    "dsk.size / 1073741824"
   ],
   "metadata": {
    "collapsed": false,
    "pycharm": {
     "name": "#%%\n"
    }
   }
  },
  {
   "cell_type": "code",
   "execution_count": 14,
   "outputs": [
    {
     "name": "stdout",
     "output_type": "stream",
     "text": [
      "{'id': 'fhm805aa38q31f6khosm', 'folder_id': 'b1gq0rkg62avu3loh7ab', 'created_at': datetime.datetime(2021, 10, 11, 18, 45, 15), 'name': 'disk-1633977873826', 'description': None, 'labels': {}, 'type_id': 'network-hdd', 'zone_id': 'ru-central1-a', 'size': 13958643712, 'product_ids': ['f2eil5udr0p4k13o7qc9'], 'status': 'READY', 'instance_ids': ['fhm0v4qjsvu59pkgn0d1'], 'source_image_id': 'fd81fjsm21c08qu3b13c', 'source_snapshot_id': None}\n"
     ]
    }
   ],
   "source": [
    "pprint(dsk)"
   ],
   "metadata": {
    "collapsed": false,
    "pycharm": {
     "name": "#%%\n"
    }
   }
  },
  {
   "cell_type": "code",
   "execution_count": 66,
   "outputs": [],
   "source": [
    "cld = compute.cloud('b1gh99bjjg7p3vn2arer')"
   ],
   "metadata": {
    "collapsed": false,
    "pycharm": {
     "name": "#%%\n"
    }
   }
  },
  {
   "cell_type": "code",
   "execution_count": 47,
   "outputs": [
    {
     "data": {
      "text/plain": "[{'id': 'b1gq0rkg62avu3loh7ab', 'cloud_id': 'b1gh99bjjg7p3vn2arer', 'created_at': datetime.datetime(2020, 5, 18, 21, 48, 38), 'name': 'default', 'description': None, 'labels': None, 'status': 'ACTIVE'}]"
     },
     "execution_count": 47,
     "metadata": {},
     "output_type": "execute_result"
    }
   ],
   "source": [
    "compute.folders_in_cloud('b1gh99bjjg7p3vn2arer')"
   ],
   "metadata": {
    "collapsed": false,
    "pycharm": {
     "name": "#%%\n"
    }
   }
  },
  {
   "cell_type": "code",
   "execution_count": 5,
   "outputs": [
    {
     "data": {
      "text/plain": "'b1gq0rkg62avu3loh7ab'"
     },
     "execution_count": 5,
     "metadata": {},
     "output_type": "execute_result"
    }
   ],
   "source": [
    "cloud_id = compute.available_clouds()[0]['id']\n",
    "folder_id = compute.folders_in_cloud(cloud_id)[0]['id']\n",
    "folder_id"
   ],
   "metadata": {
    "collapsed": false,
    "pycharm": {
     "name": "#%%\n"
    }
   }
  },
  {
   "cell_type": "code",
   "execution_count": 52,
   "outputs": [
    {
     "name": "stdout",
     "output_type": "stream",
     "text": [
      "{'bootDiskSpec': {'diskSpec': {'imageId': 'fd81fjsm21c08qu3b13c', 'size': 21474836480, 'typeId': 'network-hdd'}}, 'description': 'testing', 'folderId': 'b1gq0rkg62avu3loh7ab', 'metadata': {'serial-port-enable': '1'}, 'name': 'test-from-client', 'networkInterfaceSpecs': [{'primaryV4AddressSpec': {'address': '', 'oneToOneNatSpec': {'address': '', 'ipVersion': 'IPV4'}}, 'subnetId': 'e9be0thico77frfcd5ut'}], 'platformId': 'standard-v3', 'resourcesSpec': {'coreFraction': 50, 'cores': 2, 'memory': 2147483648}, 'schedulingPolicy': {'preemptible': True}, 'zoneId': 'ru-central1-a'}\n"
     ]
    }
   ],
   "source": [
    "with open('instance_spec_example.yaml') as f:\n",
    "    documents = yaml.full_load(f)\n",
    "print(documents)"
   ],
   "metadata": {
    "collapsed": false,
    "pycharm": {
     "name": "#%%\n"
    }
   }
  },
  {
   "cell_type": "code",
   "execution_count": 53,
   "outputs": [],
   "source": [
    "documents['folderId'] = folder_id\n",
    "documents['bootDiskSpec']['diskSpec']['size'] = 1073741824 * 20\n",
    "documents['platformId'] = 'standard-v3'\n",
    "documents['networkInterfaceSpecs'][0]['subnetId'] = 'e9be0thico77frfcd5ut'\n",
    "documents['schedulingPolicy']['preemptible'] = True\n",
    "documents['zoneId'] = 'ru-central1-a'"
   ],
   "metadata": {
    "collapsed": false,
    "pycharm": {
     "name": "#%%\n"
    }
   }
  },
  {
   "cell_type": "code",
   "execution_count": 68,
   "outputs": [
    {
     "data": {
      "text/plain": "2147483648"
     },
     "execution_count": 68,
     "metadata": {},
     "output_type": "execute_result"
    }
   ],
   "source": [
    "documents['resourcesSpec']['memory']"
   ],
   "metadata": {
    "collapsed": false,
    "pycharm": {
     "name": "#%%\n"
    }
   }
  },
  {
   "cell_type": "code",
   "execution_count": 54,
   "outputs": [],
   "source": [
    "with open('instance_spec_example.yaml', 'w') as f:\n",
    "    yaml.dump(documents, f, default_flow_style=False)"
   ],
   "metadata": {
    "collapsed": false,
    "pycharm": {
     "name": "#%%\n"
    }
   }
  },
  {
   "cell_type": "code",
   "execution_count": 55,
   "outputs": [],
   "source": [
    "yaml_spec = 'instance_spec_example.yaml'\n",
    "create_operation = compute.create_instance(yaml_spec)"
   ],
   "metadata": {
    "collapsed": false,
    "pycharm": {
     "name": "#%%\n"
    }
   }
  },
  {
   "cell_type": "code",
   "execution_count": 61,
   "outputs": [],
   "source": [
    "create_operation1 = compute.delete_instance('fhmqqj149ofe95mjkelr')"
   ],
   "metadata": {
    "collapsed": false,
    "pycharm": {
     "name": "#%%\n"
    }
   }
  },
  {
   "cell_type": "code",
   "execution_count": 27,
   "outputs": [
    {
     "data": {
      "text/plain": "False"
     },
     "execution_count": 27,
     "metadata": {},
     "output_type": "execute_result"
    }
   ],
   "source": [
    "documents['schedulingPolicy']['preemptible']"
   ],
   "metadata": {
    "collapsed": false,
    "pycharm": {
     "name": "#%%\n"
    }
   }
  },
  {
   "cell_type": "code",
   "execution_count": 6,
   "outputs": [],
   "source": [
    "ls = compute.instances_in_folder('b1gq0rkg62avu3loh7ab')"
   ],
   "metadata": {
    "collapsed": false,
    "pycharm": {
     "name": "#%%\n"
    }
   }
  },
  {
   "cell_type": "code",
   "execution_count": 7,
   "outputs": [
    {
     "data": {
      "text/plain": "{'id': 'fhmp09b3mcsobjleg7vb', 'folder_id': 'b1gq0rkg62avu3loh7ab', 'created_at': datetime.datetime(2021, 11, 29, 10, 10, 35), 'name': 'test1', 'description': 'testing', 'labels': {}, 'zone_id': 'ru-central1-a', 'platform_id': 'standard-v2', 'resources': {'memory': 2147483648, 'cores': 2, 'core_fraction': 20, 'gpus': None}, 'status': 'RUNNING', 'metadata': None, 'boot_disk': {'id': 'fhmisg1ks3gg7ns7e09k', 'disk_id': 'fhmisg1ks3gg7ns7e09k', 'folder_id': 'b1gq0rkg62avu3loh7ab', 'attached_to': 'fhmp09b3mcsobjleg7vb', 'mode': 'READ_WRITE', 'device_name': 'fhmisg1ks3gg7ns7e09k', 'auto_delete': False}, 'secondary_disks': [], 'network_interfaces': [{'index': '0', 'mac_address': 'd0:0d:19:02:56:3b', 'subnet_id': 'e9be0thico77frfcd5ut', 'primary_v4_address': {'address': '10.130.0.18', 'one_to_one_nat': {'address': '51.250.4.48', 'ip_version': 'IPV4'}}, 'primary_v6_address': None}], 'fqdn': 'fhmp09b3mcsobjleg7vb.auto.internal', 'scheduling_policy': {'preemptible': True}, 'service_account_id': None, 'network_settings': {'type': 'STANDARD'}}"
     },
     "execution_count": 7,
     "metadata": {},
     "output_type": "execute_result"
    }
   ],
   "source": [
    "ls[3]"
   ],
   "metadata": {
    "collapsed": false,
    "pycharm": {
     "name": "#%%\n"
    }
   }
  },
  {
   "cell_type": "code",
   "execution_count": 9,
   "outputs": [
    {
     "data": {
      "text/plain": "'fhmisg1ks3gg7ns7e09k'"
     },
     "execution_count": 9,
     "metadata": {},
     "output_type": "execute_result"
    }
   ],
   "source": [
    "ls[3]['boot_disk']['disk_id']"
   ],
   "metadata": {
    "collapsed": false,
    "pycharm": {
     "name": "#%%\n"
    }
   }
  },
  {
   "cell_type": "code",
   "execution_count": 21,
   "outputs": [
    {
     "data": {
      "text/plain": "{'id': 'fhm805aa38q31f6khosm', 'folder_id': 'b1gq0rkg62avu3loh7ab', 'created_at': datetime.datetime(2021, 10, 11, 18, 45, 15), 'name': 'disk-1633977873826', 'description': None, 'labels': {}, 'type_id': 'network-hdd', 'zone_id': 'ru-central1-a', 'size': 13958643712, 'product_ids': ['f2eil5udr0p4k13o7qc9'], 'status': 'READY', 'instance_ids': ['fhm0v4qjsvu59pkgn0d1'], 'source_image_id': 'fd81fjsm21c08qu3b13c', 'source_snapshot_id': None}"
     },
     "execution_count": 21,
     "metadata": {},
     "output_type": "execute_result"
    }
   ],
   "source": [
    "compute.disk('fhm805aa38q31f6khosm')"
   ],
   "metadata": {
    "collapsed": false,
    "pycharm": {
     "name": "#%%\n"
    }
   }
  },
  {
   "cell_type": "code",
   "execution_count": 48,
   "outputs": [
    {
     "data": {
      "text/plain": "13958643712"
     },
     "execution_count": 48,
     "metadata": {},
     "output_type": "execute_result"
    }
   ],
   "source": [
    "compute.disk(ls[0].boot_disk.disk_id).size"
   ],
   "metadata": {
    "collapsed": false,
    "pycharm": {
     "name": "#%%\n"
    }
   }
  },
  {
   "cell_type": "code",
   "execution_count": 6,
   "outputs": [
    {
     "data": {
      "text/plain": "['bee4', 'noda', 'openvpn', 'bee2', 'vm', 'bee3', 'bee1', 'ad']"
     },
     "execution_count": 6,
     "metadata": {},
     "output_type": "execute_result"
    }
   ],
   "source": [
    "[ins.name for ins in ls]"
   ],
   "metadata": {
    "collapsed": false,
    "pycharm": {
     "name": "#%%\n"
    }
   }
  },
  {
   "cell_type": "code",
   "execution_count": 17,
   "outputs": [
    {
     "data": {
      "text/plain": "{'id': 'fhm805aa38q31f6khosm', 'disk_id': 'fhm805aa38q31f6khosm', 'folder_id': None, 'attached_to': None, 'mode': None, 'device_name': None, 'auto_delete': None}"
     },
     "execution_count": 17,
     "metadata": {},
     "output_type": "execute_result"
    }
   ],
   "source": [
    "from yandex_cloud_client.client import"
   ],
   "metadata": {
    "collapsed": false,
    "pycharm": {
     "name": "#%%\n"
    }
   }
  },
  {
   "cell_type": "code",
   "execution_count": 54,
   "outputs": [
    {
     "data": {
      "text/plain": "'STOPPED'"
     },
     "execution_count": 54,
     "metadata": {},
     "output_type": "execute_result"
    }
   ],
   "source": [
    "instance = compute.instance('fhm0v4qjsvu59pkgn0d1', metadata=True)\n",
    "instance.to_dict()\n",
    "instance.de"
   ],
   "metadata": {
    "collapsed": false,
    "pycharm": {
     "name": "#%%\n"
    }
   }
  },
  {
   "cell_type": "code",
   "execution_count": 24,
   "outputs": [
    {
     "data": {
      "text/plain": "'4 GB'"
     },
     "execution_count": 24,
     "metadata": {},
     "output_type": "execute_result"
    }
   ],
   "source": [
    "instance.resources.human_readable_memory"
   ],
   "metadata": {
    "collapsed": false,
    "pycharm": {
     "name": "#%%\n"
    }
   }
  },
  {
   "cell_type": "code",
   "execution_count": 12,
   "outputs": [
    {
     "name": "stdout",
     "output_type": "stream",
     "text": [
      "{'boot_disk': {'attached_to': 'fhm0v4qjsvu59pkgn0d1',\n",
      "               'auto_delete': True,\n",
      "               'device_name': 'fhm805aa38q31f6khosm',\n",
      "               'disk_id': 'fhm805aa38q31f6khosm',\n",
      "               'folder_id': 'b1gq0rkg62avu3loh7ab',\n",
      "               'id': 'fhm805aa38q31f6khosm',\n",
      "               'mode': 'READ_WRITE'},\n",
      " 'created_at': datetime.datetime(2021, 10, 11, 18, 45, 10),\n",
      " 'description': None,\n",
      " 'folder_id': 'b1gq0rkg62avu3loh7ab',\n",
      " 'fqdn': 'bee4.ru-central1.internal',\n",
      " 'id': 'fhm0v4qjsvu59pkgn0d1',\n",
      " 'labels': {},\n",
      " 'metadata': None,\n",
      " 'name': 'bee4',\n",
      " 'network_interfaces': [{'index': '0',\n",
      "                         'mac_address': 'd0:0d:f9:35:3e:7f',\n",
      "                         'primary_v4_address': {'address': '10.130.0.41',\n",
      "                                                'one_to_one_nat': {'address': None,\n",
      "                                                                   'ip_version': 'IPV4'}},\n",
      "                         'primary_v6_address': None,\n",
      "                         'subnet_id': 'e9be0thico77frfcd5ut'}],\n",
      " 'network_settings': {'type': 'STANDARD'},\n",
      " 'platform_id': 'standard-v3',\n",
      " 'resources': {'core_fraction': 20,\n",
      "               'cores': 4,\n",
      "               'gpus': None,\n",
      "               'memory': 4294967296},\n",
      " 'scheduling_policy': {'preemptible': True},\n",
      " 'secondary_disks': [],\n",
      " 'service_account_id': None,\n",
      " 'status': 'STOPPED',\n",
      " 'zone_id': 'ru-central1-a'}\n"
     ]
    }
   ],
   "source": [
    "pprint(ls[0].to_dict())"
   ],
   "metadata": {
    "collapsed": false,
    "pycharm": {
     "name": "#%%\n"
    }
   }
  },
  {
   "cell_type": "code",
   "execution_count": 77,
   "outputs": [],
   "source": [
    "ls[0].network_interfaces[0].primary_v4_address.one_to_one_nat.address"
   ],
   "metadata": {
    "collapsed": false,
    "pycharm": {
     "name": "#%%\n"
    }
   }
  },
  {
   "cell_type": "code",
   "execution_count": 82,
   "outputs": [
    {
     "data": {
      "text/plain": "list"
     },
     "execution_count": 82,
     "metadata": {},
     "output_type": "execute_result"
    }
   ],
   "source": [
    "ls[0].network_interfaces."
   ],
   "metadata": {
    "collapsed": false,
    "pycharm": {
     "name": "#%%\n"
    }
   }
  },
  {
   "cell_type": "code",
   "execution_count": 83,
   "outputs": [
    {
     "ename": "AttributeError",
     "evalue": "'list' object has no attribute 'slice'",
     "output_type": "error",
     "traceback": [
      "\u001B[1;31m---------------------------------------------------------------------------\u001B[0m",
      "\u001B[1;31mAttributeError\u001B[0m                            Traceback (most recent call last)",
      "\u001B[1;32m~\\AppData\\Local\\Temp/ipykernel_12344/3518808933.py\u001B[0m in \u001B[0;36m<module>\u001B[1;34m\u001B[0m\n\u001B[0;32m      1\u001B[0m \u001B[0mx1\u001B[0m \u001B[1;33m=\u001B[0m \u001B[1;33m[\u001B[0m\u001B[1;36m1\u001B[0m\u001B[1;33m,\u001B[0m\u001B[1;36m2\u001B[0m\u001B[1;33m,\u001B[0m\u001B[1;36m3\u001B[0m\u001B[1;33m]\u001B[0m\u001B[1;33m\u001B[0m\u001B[1;33m\u001B[0m\u001B[0m\n\u001B[1;32m----> 2\u001B[1;33m \u001B[0mx1\u001B[0m\u001B[1;33m.\u001B[0m\u001B[0mslice\u001B[0m\u001B[1;33m(\u001B[0m\u001B[1;36m0\u001B[0m\u001B[1;33m,\u001B[0m\u001B[1;36m2\u001B[0m\u001B[1;33m)\u001B[0m\u001B[1;33m\u001B[0m\u001B[1;33m\u001B[0m\u001B[0m\n\u001B[0m",
      "\u001B[1;31mAttributeError\u001B[0m: 'list' object has no attribute 'slice'"
     ]
    }
   ],
   "source": [
    "x1 = [1, 2, 3]\n",
    "x1.slice(0, 2)"
   ],
   "metadata": {
    "collapsed": false,
    "pycharm": {
     "name": "#%%\n"
    }
   }
  },
  {
   "cell_type": "code",
   "execution_count": 63,
   "outputs": [],
   "source": [
    "ins = ycc.Instance('fhm0v4qjsvu59pkgn0d1')"
   ],
   "metadata": {
    "collapsed": false,
    "pycharm": {
     "name": "#%%\n"
    }
   }
  },
  {
   "cell_type": "code",
   "execution_count": 64,
   "outputs": [],
   "source": [
    "ins.metadata"
   ],
   "metadata": {
    "collapsed": false,
    "pycharm": {
     "name": "#%%\n"
    }
   }
  },
  {
   "cell_type": "code",
   "execution_count": 43,
   "outputs": [
    {
     "data": {
      "text/plain": "                     id             folder_id          created_at     name  \\\n0  fhm0v4qjsvu59pkgn0d1  b1gq0rkg62avu3loh7ab 2021-10-11 18:45:10     bee4   \n1  fhmmqejq9vlp9qhtdls6  b1gq0rkg62avu3loh7ab 2021-11-03 22:42:27     noda   \n2  fhmo3230a20b3egjqjdp  b1gq0rkg62avu3loh7ab 2021-05-08 19:22:03  openvpn   \n3  fhmr4ho6660bq1aslkv3  b1gq0rkg62avu3loh7ab 2021-10-11 18:02:05     bee2   \n4  fhmrvh9gs4p9nujf27s5  b1gq0rkg62avu3loh7ab 2020-12-28 08:10:08       vm   \n5  fhmsc0ievkti0kj691nj  b1gq0rkg62avu3loh7ab 2021-10-11 18:19:18     bee3   \n6  fhmtpb6kl327noh0fero  b1gq0rkg62avu3loh7ab 2021-04-29 09:03:33     bee1   \n7  fhmvbkpsnu8knk9bto8l  b1gq0rkg62avu3loh7ab 2021-09-29 21:03:48       ad   \n\n  description labels        zone_id  platform_id  \\\n0        None     {}  ru-central1-a  standard-v3   \n1        None     {}  ru-central1-a  standard-v3   \n2        None     {}  ru-central1-a  standard-v2   \n3        None     {}  ru-central1-a  standard-v3   \n4        None     {}  ru-central1-a  standard-v2   \n5        None     {}  ru-central1-a  standard-v3   \n6        None     {}  ru-central1-a  standard-v2   \n7        None     {}  ru-central1-a  standard-v3   \n\n                                           resources   status metadata  \\\n0  {'memory': 4294967296, 'cores': 4, 'core_fract...  STOPPED     None   \n1  {'memory': 4294967296, 'cores': 2, 'core_fract...  STOPPED     None   \n2  {'memory': 1073741824, 'cores': 2, 'core_fract...  RUNNING     None   \n3  {'memory': 4294967296, 'cores': 4, 'core_fract...  STOPPED     None   \n4  {'memory': 4294967296, 'cores': 4, 'core_fract...  RUNNING     None   \n5  {'memory': 4294967296, 'cores': 4, 'core_fract...  STOPPED     None   \n6  {'memory': 4294967296, 'cores': 4, 'core_fract...  STOPPED     None   \n7  {'memory': 4294967296, 'cores': 4, 'core_fract...  STOPPED     None   \n\n                                           boot_disk secondary_disks  \\\n0  {'id': 'fhm805aa38q31f6khosm', 'disk_id': 'fhm...              []   \n1  {'id': 'fhmh2qp8u3i081m5tc15', 'disk_id': 'fhm...              []   \n2  {'id': 'fhmj9aej79atrmqs1oho', 'disk_id': 'fhm...              []   \n3  {'id': 'fhmhdoeq1tsvh6msvept', 'disk_id': 'fhm...              []   \n4  {'id': 'fhm2v3o2legb0ng0nqn2', 'disk_id': 'fhm...              []   \n5  {'id': 'fhm7kpee7fmmg2dq5tlk', 'disk_id': 'fhm...              []   \n6  {'id': 'fhm82r01r6qmilttdhpf', 'disk_id': 'fhm...              []   \n7  {'id': 'fhm55pbf2fjnk367odrd', 'disk_id': 'fhm...              []   \n\n                                  network_interfaces  \\\n0  [{'index': '0', 'mac_address': 'd0:0d:f9:35:3e...   \n1  [{'index': '0', 'mac_address': 'd0:0d:16:d3:a7...   \n2  [{'index': '0', 'mac_address': 'd0:0d:18:18:86...   \n3  [{'index': '0', 'mac_address': 'd0:0d:1b:24:70...   \n4  [{'index': '0', 'mac_address': 'd0:0d:1b:fc:53...   \n5  [{'index': '0', 'mac_address': 'd0:0d:1c:60:24...   \n6  [{'index': '0', 'mac_address': 'd0:0d:1d:ca:cd...   \n7  [{'index': '0', 'mac_address': 'd0:0d:1f:5d:33...   \n\n                           fqdn       scheduling_policy    service_account_id  \\\n0     bee4.ru-central1.internal   {'preemptible': True}                  None   \n1     noda.ru-central1.internal  {'preemptible': False}  aje1ffpef686b1e3bh22   \n2  openvpn.ru-central1.internal  {'preemptible': False}  aje1ffpef686b1e3bh22   \n3     bee2.ru-central1.internal   {'preemptible': True}                  None   \n4       vm.ru-central1.internal  {'preemptible': False}  aje1ffpef686b1e3bh22   \n5     bee3.ru-central1.internal   {'preemptible': True}                  None   \n6     bee1.ru-central1.internal   {'preemptible': True}  aje1ffpef686b1e3bh22   \n7       ad.ru-central1.internal  {'preemptible': False}  aje1ffpef686b1e3bh22   \n\n       network_settings  \n0  {'type': 'STANDARD'}  \n1  {'type': 'STANDARD'}  \n2  {'type': 'STANDARD'}  \n3  {'type': 'STANDARD'}  \n4  {'type': 'STANDARD'}  \n5  {'type': 'STANDARD'}  \n6  {'type': 'STANDARD'}  \n7  {'type': 'STANDARD'}  ",
      "text/html": "<div>\n<style scoped>\n    .dataframe tbody tr th:only-of-type {\n        vertical-align: middle;\n    }\n\n    .dataframe tbody tr th {\n        vertical-align: top;\n    }\n\n    .dataframe thead th {\n        text-align: right;\n    }\n</style>\n<table border=\"1\" class=\"dataframe\">\n  <thead>\n    <tr style=\"text-align: right;\">\n      <th></th>\n      <th>id</th>\n      <th>folder_id</th>\n      <th>created_at</th>\n      <th>name</th>\n      <th>description</th>\n      <th>labels</th>\n      <th>zone_id</th>\n      <th>platform_id</th>\n      <th>resources</th>\n      <th>status</th>\n      <th>metadata</th>\n      <th>boot_disk</th>\n      <th>secondary_disks</th>\n      <th>network_interfaces</th>\n      <th>fqdn</th>\n      <th>scheduling_policy</th>\n      <th>service_account_id</th>\n      <th>network_settings</th>\n    </tr>\n  </thead>\n  <tbody>\n    <tr>\n      <th>0</th>\n      <td>fhm0v4qjsvu59pkgn0d1</td>\n      <td>b1gq0rkg62avu3loh7ab</td>\n      <td>2021-10-11 18:45:10</td>\n      <td>bee4</td>\n      <td>None</td>\n      <td>{}</td>\n      <td>ru-central1-a</td>\n      <td>standard-v3</td>\n      <td>{'memory': 4294967296, 'cores': 4, 'core_fract...</td>\n      <td>STOPPED</td>\n      <td>None</td>\n      <td>{'id': 'fhm805aa38q31f6khosm', 'disk_id': 'fhm...</td>\n      <td>[]</td>\n      <td>[{'index': '0', 'mac_address': 'd0:0d:f9:35:3e...</td>\n      <td>bee4.ru-central1.internal</td>\n      <td>{'preemptible': True}</td>\n      <td>None</td>\n      <td>{'type': 'STANDARD'}</td>\n    </tr>\n    <tr>\n      <th>1</th>\n      <td>fhmmqejq9vlp9qhtdls6</td>\n      <td>b1gq0rkg62avu3loh7ab</td>\n      <td>2021-11-03 22:42:27</td>\n      <td>noda</td>\n      <td>None</td>\n      <td>{}</td>\n      <td>ru-central1-a</td>\n      <td>standard-v3</td>\n      <td>{'memory': 4294967296, 'cores': 2, 'core_fract...</td>\n      <td>STOPPED</td>\n      <td>None</td>\n      <td>{'id': 'fhmh2qp8u3i081m5tc15', 'disk_id': 'fhm...</td>\n      <td>[]</td>\n      <td>[{'index': '0', 'mac_address': 'd0:0d:16:d3:a7...</td>\n      <td>noda.ru-central1.internal</td>\n      <td>{'preemptible': False}</td>\n      <td>aje1ffpef686b1e3bh22</td>\n      <td>{'type': 'STANDARD'}</td>\n    </tr>\n    <tr>\n      <th>2</th>\n      <td>fhmo3230a20b3egjqjdp</td>\n      <td>b1gq0rkg62avu3loh7ab</td>\n      <td>2021-05-08 19:22:03</td>\n      <td>openvpn</td>\n      <td>None</td>\n      <td>{}</td>\n      <td>ru-central1-a</td>\n      <td>standard-v2</td>\n      <td>{'memory': 1073741824, 'cores': 2, 'core_fract...</td>\n      <td>RUNNING</td>\n      <td>None</td>\n      <td>{'id': 'fhmj9aej79atrmqs1oho', 'disk_id': 'fhm...</td>\n      <td>[]</td>\n      <td>[{'index': '0', 'mac_address': 'd0:0d:18:18:86...</td>\n      <td>openvpn.ru-central1.internal</td>\n      <td>{'preemptible': False}</td>\n      <td>aje1ffpef686b1e3bh22</td>\n      <td>{'type': 'STANDARD'}</td>\n    </tr>\n    <tr>\n      <th>3</th>\n      <td>fhmr4ho6660bq1aslkv3</td>\n      <td>b1gq0rkg62avu3loh7ab</td>\n      <td>2021-10-11 18:02:05</td>\n      <td>bee2</td>\n      <td>None</td>\n      <td>{}</td>\n      <td>ru-central1-a</td>\n      <td>standard-v3</td>\n      <td>{'memory': 4294967296, 'cores': 4, 'core_fract...</td>\n      <td>STOPPED</td>\n      <td>None</td>\n      <td>{'id': 'fhmhdoeq1tsvh6msvept', 'disk_id': 'fhm...</td>\n      <td>[]</td>\n      <td>[{'index': '0', 'mac_address': 'd0:0d:1b:24:70...</td>\n      <td>bee2.ru-central1.internal</td>\n      <td>{'preemptible': True}</td>\n      <td>None</td>\n      <td>{'type': 'STANDARD'}</td>\n    </tr>\n    <tr>\n      <th>4</th>\n      <td>fhmrvh9gs4p9nujf27s5</td>\n      <td>b1gq0rkg62avu3loh7ab</td>\n      <td>2020-12-28 08:10:08</td>\n      <td>vm</td>\n      <td>None</td>\n      <td>{}</td>\n      <td>ru-central1-a</td>\n      <td>standard-v2</td>\n      <td>{'memory': 4294967296, 'cores': 4, 'core_fract...</td>\n      <td>RUNNING</td>\n      <td>None</td>\n      <td>{'id': 'fhm2v3o2legb0ng0nqn2', 'disk_id': 'fhm...</td>\n      <td>[]</td>\n      <td>[{'index': '0', 'mac_address': 'd0:0d:1b:fc:53...</td>\n      <td>vm.ru-central1.internal</td>\n      <td>{'preemptible': False}</td>\n      <td>aje1ffpef686b1e3bh22</td>\n      <td>{'type': 'STANDARD'}</td>\n    </tr>\n    <tr>\n      <th>5</th>\n      <td>fhmsc0ievkti0kj691nj</td>\n      <td>b1gq0rkg62avu3loh7ab</td>\n      <td>2021-10-11 18:19:18</td>\n      <td>bee3</td>\n      <td>None</td>\n      <td>{}</td>\n      <td>ru-central1-a</td>\n      <td>standard-v3</td>\n      <td>{'memory': 4294967296, 'cores': 4, 'core_fract...</td>\n      <td>STOPPED</td>\n      <td>None</td>\n      <td>{'id': 'fhm7kpee7fmmg2dq5tlk', 'disk_id': 'fhm...</td>\n      <td>[]</td>\n      <td>[{'index': '0', 'mac_address': 'd0:0d:1c:60:24...</td>\n      <td>bee3.ru-central1.internal</td>\n      <td>{'preemptible': True}</td>\n      <td>None</td>\n      <td>{'type': 'STANDARD'}</td>\n    </tr>\n    <tr>\n      <th>6</th>\n      <td>fhmtpb6kl327noh0fero</td>\n      <td>b1gq0rkg62avu3loh7ab</td>\n      <td>2021-04-29 09:03:33</td>\n      <td>bee1</td>\n      <td>None</td>\n      <td>{}</td>\n      <td>ru-central1-a</td>\n      <td>standard-v2</td>\n      <td>{'memory': 4294967296, 'cores': 4, 'core_fract...</td>\n      <td>STOPPED</td>\n      <td>None</td>\n      <td>{'id': 'fhm82r01r6qmilttdhpf', 'disk_id': 'fhm...</td>\n      <td>[]</td>\n      <td>[{'index': '0', 'mac_address': 'd0:0d:1d:ca:cd...</td>\n      <td>bee1.ru-central1.internal</td>\n      <td>{'preemptible': True}</td>\n      <td>aje1ffpef686b1e3bh22</td>\n      <td>{'type': 'STANDARD'}</td>\n    </tr>\n    <tr>\n      <th>7</th>\n      <td>fhmvbkpsnu8knk9bto8l</td>\n      <td>b1gq0rkg62avu3loh7ab</td>\n      <td>2021-09-29 21:03:48</td>\n      <td>ad</td>\n      <td>None</td>\n      <td>{}</td>\n      <td>ru-central1-a</td>\n      <td>standard-v3</td>\n      <td>{'memory': 4294967296, 'cores': 4, 'core_fract...</td>\n      <td>STOPPED</td>\n      <td>None</td>\n      <td>{'id': 'fhm55pbf2fjnk367odrd', 'disk_id': 'fhm...</td>\n      <td>[]</td>\n      <td>[{'index': '0', 'mac_address': 'd0:0d:1f:5d:33...</td>\n      <td>ad.ru-central1.internal</td>\n      <td>{'preemptible': False}</td>\n      <td>aje1ffpef686b1e3bh22</td>\n      <td>{'type': 'STANDARD'}</td>\n    </tr>\n  </tbody>\n</table>\n</div>"
     },
     "execution_count": 43,
     "metadata": {},
     "output_type": "execute_result"
    }
   ],
   "source": [
    "df = pd.DataFrame([t.to_dict() for t in ls])\n",
    "df"
   ],
   "metadata": {
    "collapsed": false,
    "pycharm": {
     "name": "#%%\n"
    }
   }
  },
  {
   "cell_type": "code",
   "execution_count": 25,
   "outputs": [],
   "source": [
    "from yandex_cloud_client import YandexCloudClient"
   ],
   "metadata": {
    "collapsed": false,
    "pycharm": {
     "name": "#%%\n"
    }
   }
  },
  {
   "cell_type": "code",
   "execution_count": 26,
   "outputs": [],
   "source": [
    "# cl = YandexCloudClient(oauth_token='AQAAAAAZgw4sAATuwYVtsXTvX0Rivzzt8VMx3uw')\n",
    "cl = YandexCloudClient(oauth_token='AQAAAABaYBf5AATuwaA79ZYLMUPxvTrhPZ7w23c')"
   ],
   "metadata": {
    "collapsed": false,
    "pycharm": {
     "name": "#%%\n"
    }
   }
  },
  {
   "cell_type": "code",
   "execution_count": 9,
   "outputs": [
    {
     "data": {
      "text/plain": "[{'id': 'b1gq0rkg62avu3loh7ab', 'cloud_id': 'b1gh99bjjg7p3vn2arer', 'created_at': datetime.datetime(2020, 5, 18, 21, 48, 38), 'name': 'default', 'description': None, 'labels': None, 'status': 'ACTIVE'}]"
     },
     "execution_count": 9,
     "metadata": {},
     "output_type": "execute_result"
    }
   ],
   "source": [
    "cl.folders_in_cloud('b1gh99bjjg7p3vn2arer')"
   ],
   "metadata": {
    "collapsed": false,
    "pycharm": {
     "name": "#%%\n"
    }
   }
  },
  {
   "cell_type": "code",
   "execution_count": 29,
   "outputs": [
    {
     "data": {
      "text/plain": "{'id': 'b1gh99bjjg7p3vn2arer', 'created_at': datetime.datetime(2020, 5, 18, 21, 48, 38), 'name': 'cloud-v-grandru', 'description': None}"
     },
     "execution_count": 29,
     "metadata": {},
     "output_type": "execute_result"
    }
   ],
   "source": [
    "cl.cloud('b1gh99bjjg7p3vn2arer')"
   ],
   "metadata": {
    "collapsed": false,
    "pycharm": {
     "name": "#%%\n"
    }
   }
  },
  {
   "cell_type": "code",
   "execution_count": 11,
   "outputs": [],
   "source": [
    "inst = Instance('fhm0v4qjsvu59pkgn0d1')"
   ],
   "metadata": {
    "collapsed": false,
    "pycharm": {
     "name": "#%%\n"
    }
   }
  },
  {
   "cell_type": "code",
   "execution_count": 17,
   "outputs": [
    {
     "name": "stdout",
     "output_type": "stream",
     "text": [
      "None\n"
     ]
    }
   ],
   "source": [
    "print(inst.name)"
   ],
   "metadata": {
    "collapsed": false,
    "pycharm": {
     "name": "#%%\n"
    }
   }
  },
  {
   "cell_type": "code",
   "execution_count": null,
   "outputs": [],
   "source": [],
   "metadata": {
    "collapsed": false,
    "pycharm": {
     "name": "#%%\n"
    }
   }
  },
  {
   "cell_type": "code",
   "execution_count": 43,
   "outputs": [
    {
     "data": {
      "text/plain": "dict"
     },
     "execution_count": 43,
     "metadata": {},
     "output_type": "execute_result"
    }
   ],
   "source": [
    "type({1: 2, 3: 4})"
   ],
   "metadata": {
    "collapsed": false,
    "pycharm": {
     "name": "#%%\n"
    }
   }
  },
  {
   "cell_type": "code",
   "execution_count": 53,
   "outputs": [
    {
     "data": {
      "text/plain": "5"
     },
     "execution_count": 53,
     "metadata": {},
     "output_type": "execute_result"
    }
   ],
   "source": [
    "dt = {'a': 1, 'b': 2}\n",
    "dt.get('as', 5)"
   ],
   "metadata": {
    "collapsed": false,
    "pycharm": {
     "name": "#%%\n"
    }
   }
  },
  {
   "cell_type": "code",
   "execution_count": 65,
   "outputs": [
    {
     "data": {
      "text/plain": "4"
     },
     "execution_count": 65,
     "metadata": {},
     "output_type": "execute_result"
    }
   ],
   "source": [
    "int('4 ГБ'[:-3])"
   ],
   "metadata": {
    "collapsed": false,
    "pycharm": {
     "name": "#%%\n"
    }
   }
  },
  {
   "cell_type": "code",
   "execution_count": null,
   "outputs": [],
   "source": [],
   "metadata": {
    "collapsed": false,
    "pycharm": {
     "name": "#%%\n"
    }
   }
  },
  {
   "cell_type": "code",
   "execution_count": null,
   "outputs": [],
   "source": [],
   "metadata": {
    "collapsed": false,
    "pycharm": {
     "name": "#%%\n"
    }
   }
  }
 ],
 "metadata": {
  "kernelspec": {
   "display_name": "Python 3",
   "language": "python",
   "name": "python3"
  },
  "language_info": {
   "codemirror_mode": {
    "name": "ipython",
    "version": 2
   },
   "file_extension": ".py",
   "mimetype": "text/x-python",
   "name": "python",
   "nbconvert_exporter": "python",
   "pygments_lexer": "ipython2",
   "version": "2.7.6"
  }
 },
 "nbformat": 4,
 "nbformat_minor": 0
}