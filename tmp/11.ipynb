{
 "cells": [
  {
   "cell_type": "code",
   "execution_count": 1,
   "outputs": [],
   "source": [
    "s = 'alermar17@gmail.com'"
   ],
   "metadata": {
    "collapsed": false,
    "pycharm": {
     "name": "#%%\n"
    }
   }
  },
  {
   "cell_type": "code",
   "execution_count": 3,
   "outputs": [
    {
     "data": {
      "text/plain": "'gmail.com'"
     },
     "execution_count": 3,
     "metadata": {},
     "output_type": "execute_result"
    }
   ],
   "source": [
    "s.split('@')[1]"
   ],
   "metadata": {
    "collapsed": false,
    "pycharm": {
     "name": "#%%\n"
    }
   }
  },
  {
   "cell_type": "code",
   "execution_count": null,
   "outputs": [],
   "source": [
    "ls = [ \"rigdong.online\", \"overdeau.online\", \"clergent.online\"]"
   ],
   "metadata": {
    "collapsed": false,
    "pycharm": {
     "name": "#%%\n"
    }
   }
  },
  {
   "cell_type": "code",
   "execution_count": 4,
   "outputs": [
    {
     "data": {
      "text/plain": "['alermar17@gmail', 'com']"
     },
     "execution_count": 4,
     "metadata": {},
     "output_type": "execute_result"
    }
   ],
   "source": [
    "s.rsplit('.', 1)"
   ],
   "metadata": {
    "collapsed": false,
    "pycharm": {
     "name": "#%%\n"
    }
   }
  },
  {
   "cell_type": "code",
   "execution_count": 12,
   "outputs": [
    {
     "data": {
      "text/plain": "'g.mail.com'"
     },
     "execution_count": 12,
     "metadata": {},
     "output_type": "execute_result"
    }
   ],
   "source": [
    "'alermar17@g.mail.com'.rsplit('@', 1)[1]"
   ],
   "metadata": {
    "collapsed": false,
    "pycharm": {
     "name": "#%%\n"
    }
   }
  },
  {
   "cell_type": "code",
   "execution_count": 1,
   "outputs": [
    {
     "data": {
      "text/plain": "[2, 3, 4, 7]"
     },
     "execution_count": 1,
     "metadata": {},
     "output_type": "execute_result"
    }
   ],
   "source": [
    "ls = [2,3,4,7]\n",
    "ls"
   ],
   "metadata": {
    "collapsed": false,
    "pycharm": {
     "name": "#%%\n"
    }
   }
  },
  {
   "cell_type": "code",
   "execution_count": 2,
   "outputs": [],
   "source": [
    "ls.remove(3)"
   ],
   "metadata": {
    "collapsed": false,
    "pycharm": {
     "name": "#%%\n"
    }
   }
  },
  {
   "cell_type": "code",
   "execution_count": 3,
   "outputs": [
    {
     "data": {
      "text/plain": "[2, 4, 7]"
     },
     "execution_count": 3,
     "metadata": {},
     "output_type": "execute_result"
    }
   ],
   "source": [
    "ls"
   ],
   "metadata": {
    "collapsed": false,
    "pycharm": {
     "name": "#%%\n"
    }
   }
  },
  {
   "cell_type": "code",
   "execution_count": 1,
   "outputs": [],
   "source": [
    "import googletrans\n",
    "from googletrans import Translator"
   ],
   "metadata": {
    "collapsed": false,
    "pycharm": {
     "name": "#%%\n"
    }
   }
  },
  {
   "cell_type": "code",
   "execution_count": null,
   "outputs": [],
   "source": [],
   "metadata": {
    "collapsed": false,
    "pycharm": {
     "name": "#%%\n"
    }
   }
  },
  {
   "cell_type": "code",
   "execution_count": null,
   "outputs": [],
   "source": [],
   "metadata": {
    "collapsed": false,
    "pycharm": {
     "name": "#%%\n"
    }
   }
  },
  {
   "cell_type": "code",
   "execution_count": 20,
   "outputs": [
    {
     "data": {
      "text/plain": "{'af': 'afrikaans',\n 'sq': 'albanian',\n 'am': 'amharic',\n 'ar': 'arabic',\n 'hy': 'armenian',\n 'az': 'azerbaijani',\n 'eu': 'basque',\n 'be': 'belarusian',\n 'bn': 'bengali',\n 'bs': 'bosnian',\n 'bg': 'bulgarian',\n 'ca': 'catalan',\n 'ceb': 'cebuano',\n 'ny': 'chichewa',\n 'zh-cn': 'chinese (simplified)',\n 'zh-tw': 'chinese (traditional)',\n 'co': 'corsican',\n 'hr': 'croatian',\n 'cs': 'czech',\n 'da': 'danish',\n 'nl': 'dutch',\n 'en': 'english',\n 'eo': 'esperanto',\n 'et': 'estonian',\n 'tl': 'filipino',\n 'fi': 'finnish',\n 'fr': 'french',\n 'fy': 'frisian',\n 'gl': 'galician',\n 'ka': 'georgian',\n 'de': 'german',\n 'el': 'greek',\n 'gu': 'gujarati',\n 'ht': 'haitian creole',\n 'ha': 'hausa',\n 'haw': 'hawaiian',\n 'iw': 'hebrew',\n 'he': 'hebrew',\n 'hi': 'hindi',\n 'hmn': 'hmong',\n 'hu': 'hungarian',\n 'is': 'icelandic',\n 'ig': 'igbo',\n 'id': 'indonesian',\n 'ga': 'irish',\n 'it': 'italian',\n 'ja': 'japanese',\n 'jw': 'javanese',\n 'kn': 'kannada',\n 'kk': 'kazakh',\n 'km': 'khmer',\n 'ko': 'korean',\n 'ku': 'kurdish (kurmanji)',\n 'ky': 'kyrgyz',\n 'lo': 'lao',\n 'la': 'latin',\n 'lv': 'latvian',\n 'lt': 'lithuanian',\n 'lb': 'luxembourgish',\n 'mk': 'macedonian',\n 'mg': 'malagasy',\n 'ms': 'malay',\n 'ml': 'malayalam',\n 'mt': 'maltese',\n 'mi': 'maori',\n 'mr': 'marathi',\n 'mn': 'mongolian',\n 'my': 'myanmar (burmese)',\n 'ne': 'nepali',\n 'no': 'norwegian',\n 'or': 'odia',\n 'ps': 'pashto',\n 'fa': 'persian',\n 'pl': 'polish',\n 'pt': 'portuguese',\n 'pa': 'punjabi',\n 'ro': 'romanian',\n 'ru': 'russian',\n 'sm': 'samoan',\n 'gd': 'scots gaelic',\n 'sr': 'serbian',\n 'st': 'sesotho',\n 'sn': 'shona',\n 'sd': 'sindhi',\n 'si': 'sinhala',\n 'sk': 'slovak',\n 'sl': 'slovenian',\n 'so': 'somali',\n 'es': 'spanish',\n 'su': 'sundanese',\n 'sw': 'swahili',\n 'sv': 'swedish',\n 'tg': 'tajik',\n 'ta': 'tamil',\n 'te': 'telugu',\n 'th': 'thai',\n 'tr': 'turkish',\n 'uk': 'ukrainian',\n 'ur': 'urdu',\n 'ug': 'uyghur',\n 'uz': 'uzbek',\n 'vi': 'vietnamese',\n 'cy': 'welsh',\n 'xh': 'xhosa',\n 'yi': 'yiddish',\n 'yo': 'yoruba',\n 'zu': 'zulu'}"
     },
     "execution_count": 20,
     "metadata": {},
     "output_type": "execute_result"
    }
   ],
   "source": [
    "googletrans.LANGUAGES"
   ],
   "metadata": {
    "collapsed": false,
    "pycharm": {
     "name": "#%%\n"
    }
   }
  },
  {
   "cell_type": "code",
   "execution_count": 5,
   "outputs": [
    {
     "ename": "AttributeError",
     "evalue": "'NoneType' object has no attribute 'group'",
     "output_type": "error",
     "traceback": [
      "\u001B[1;31m---------------------------------------------------------------------------\u001B[0m",
      "\u001B[1;31mAttributeError\u001B[0m                            Traceback (most recent call last)",
      "\u001B[1;32m~\\AppData\\Local\\Temp/ipykernel_12084/489113833.py\u001B[0m in \u001B[0;36m<module>\u001B[1;34m\u001B[0m\n\u001B[0;32m      1\u001B[0m \u001B[0mtrans\u001B[0m\u001B[1;33m=\u001B[0m \u001B[0mTranslator\u001B[0m\u001B[1;33m(\u001B[0m\u001B[1;33m)\u001B[0m\u001B[1;33m\u001B[0m\u001B[1;33m\u001B[0m\u001B[0m\n\u001B[1;32m----> 2\u001B[1;33m \u001B[0mres\u001B[0m \u001B[1;33m=\u001B[0m \u001B[0mtrans\u001B[0m\u001B[1;33m.\u001B[0m\u001B[0mtranslate\u001B[0m\u001B[1;33m(\u001B[0m\u001B[1;34m'hello'\u001B[0m\u001B[1;33m)\u001B[0m\u001B[1;33m\u001B[0m\u001B[1;33m\u001B[0m\u001B[0m\n\u001B[0m\u001B[0;32m      3\u001B[0m \u001B[0mres\u001B[0m\u001B[1;33m.\u001B[0m\u001B[0mtext\u001B[0m\u001B[1;33m\u001B[0m\u001B[1;33m\u001B[0m\u001B[0m\n",
      "\u001B[1;32md:\\it\\pr\\mypython\\venv\\lib\\site-packages\\googletrans\\client.py\u001B[0m in \u001B[0;36mtranslate\u001B[1;34m(self, text, dest, src, **kwargs)\u001B[0m\n\u001B[0;32m    180\u001B[0m \u001B[1;33m\u001B[0m\u001B[0m\n\u001B[0;32m    181\u001B[0m         \u001B[0morigin\u001B[0m \u001B[1;33m=\u001B[0m \u001B[0mtext\u001B[0m\u001B[1;33m\u001B[0m\u001B[1;33m\u001B[0m\u001B[0m\n\u001B[1;32m--> 182\u001B[1;33m         \u001B[0mdata\u001B[0m \u001B[1;33m=\u001B[0m \u001B[0mself\u001B[0m\u001B[1;33m.\u001B[0m\u001B[0m_translate\u001B[0m\u001B[1;33m(\u001B[0m\u001B[0mtext\u001B[0m\u001B[1;33m,\u001B[0m \u001B[0mdest\u001B[0m\u001B[1;33m,\u001B[0m \u001B[0msrc\u001B[0m\u001B[1;33m,\u001B[0m \u001B[0mkwargs\u001B[0m\u001B[1;33m)\u001B[0m\u001B[1;33m\u001B[0m\u001B[1;33m\u001B[0m\u001B[0m\n\u001B[0m\u001B[0;32m    183\u001B[0m \u001B[1;33m\u001B[0m\u001B[0m\n\u001B[0;32m    184\u001B[0m         \u001B[1;31m# this code will be updated when the format is changed.\u001B[0m\u001B[1;33m\u001B[0m\u001B[1;33m\u001B[0m\u001B[1;33m\u001B[0m\u001B[0m\n",
      "\u001B[1;32md:\\it\\pr\\mypython\\venv\\lib\\site-packages\\googletrans\\client.py\u001B[0m in \u001B[0;36m_translate\u001B[1;34m(self, text, dest, src, override)\u001B[0m\n\u001B[0;32m     76\u001B[0m \u001B[1;33m\u001B[0m\u001B[0m\n\u001B[0;32m     77\u001B[0m     \u001B[1;32mdef\u001B[0m \u001B[0m_translate\u001B[0m\u001B[1;33m(\u001B[0m\u001B[0mself\u001B[0m\u001B[1;33m,\u001B[0m \u001B[0mtext\u001B[0m\u001B[1;33m,\u001B[0m \u001B[0mdest\u001B[0m\u001B[1;33m,\u001B[0m \u001B[0msrc\u001B[0m\u001B[1;33m,\u001B[0m \u001B[0moverride\u001B[0m\u001B[1;33m)\u001B[0m\u001B[1;33m:\u001B[0m\u001B[1;33m\u001B[0m\u001B[1;33m\u001B[0m\u001B[0m\n\u001B[1;32m---> 78\u001B[1;33m         \u001B[0mtoken\u001B[0m \u001B[1;33m=\u001B[0m \u001B[0mself\u001B[0m\u001B[1;33m.\u001B[0m\u001B[0mtoken_acquirer\u001B[0m\u001B[1;33m.\u001B[0m\u001B[0mdo\u001B[0m\u001B[1;33m(\u001B[0m\u001B[0mtext\u001B[0m\u001B[1;33m)\u001B[0m\u001B[1;33m\u001B[0m\u001B[1;33m\u001B[0m\u001B[0m\n\u001B[0m\u001B[0;32m     79\u001B[0m         params = utils.build_params(query=text, src=src, dest=dest,\n\u001B[0;32m     80\u001B[0m                                     token=token, override=override)\n",
      "\u001B[1;32md:\\it\\pr\\mypython\\venv\\lib\\site-packages\\googletrans\\gtoken.py\u001B[0m in \u001B[0;36mdo\u001B[1;34m(self, text)\u001B[0m\n\u001B[0;32m    192\u001B[0m \u001B[1;33m\u001B[0m\u001B[0m\n\u001B[0;32m    193\u001B[0m     \u001B[1;32mdef\u001B[0m \u001B[0mdo\u001B[0m\u001B[1;33m(\u001B[0m\u001B[0mself\u001B[0m\u001B[1;33m,\u001B[0m \u001B[0mtext\u001B[0m\u001B[1;33m)\u001B[0m\u001B[1;33m:\u001B[0m\u001B[1;33m\u001B[0m\u001B[1;33m\u001B[0m\u001B[0m\n\u001B[1;32m--> 194\u001B[1;33m         \u001B[0mself\u001B[0m\u001B[1;33m.\u001B[0m\u001B[0m_update\u001B[0m\u001B[1;33m(\u001B[0m\u001B[1;33m)\u001B[0m\u001B[1;33m\u001B[0m\u001B[1;33m\u001B[0m\u001B[0m\n\u001B[0m\u001B[0;32m    195\u001B[0m         \u001B[0mtk\u001B[0m \u001B[1;33m=\u001B[0m \u001B[0mself\u001B[0m\u001B[1;33m.\u001B[0m\u001B[0macquire\u001B[0m\u001B[1;33m(\u001B[0m\u001B[0mtext\u001B[0m\u001B[1;33m)\u001B[0m\u001B[1;33m\u001B[0m\u001B[1;33m\u001B[0m\u001B[0m\n\u001B[0;32m    196\u001B[0m         \u001B[1;32mreturn\u001B[0m \u001B[0mtk\u001B[0m\u001B[1;33m\u001B[0m\u001B[1;33m\u001B[0m\u001B[0m\n",
      "\u001B[1;32md:\\it\\pr\\mypython\\venv\\lib\\site-packages\\googletrans\\gtoken.py\u001B[0m in \u001B[0;36m_update\u001B[1;34m(self)\u001B[0m\n\u001B[0;32m     60\u001B[0m \u001B[1;33m\u001B[0m\u001B[0m\n\u001B[0;32m     61\u001B[0m         \u001B[1;31m# this will be the same as python code after stripping out a reserved word 'var'\u001B[0m\u001B[1;33m\u001B[0m\u001B[1;33m\u001B[0m\u001B[1;33m\u001B[0m\u001B[0m\n\u001B[1;32m---> 62\u001B[1;33m         \u001B[0mcode\u001B[0m \u001B[1;33m=\u001B[0m \u001B[0mself\u001B[0m\u001B[1;33m.\u001B[0m\u001B[0mRE_TKK\u001B[0m\u001B[1;33m.\u001B[0m\u001B[0msearch\u001B[0m\u001B[1;33m(\u001B[0m\u001B[0mr\u001B[0m\u001B[1;33m.\u001B[0m\u001B[0mtext\u001B[0m\u001B[1;33m)\u001B[0m\u001B[1;33m.\u001B[0m\u001B[0mgroup\u001B[0m\u001B[1;33m(\u001B[0m\u001B[1;36m1\u001B[0m\u001B[1;33m)\u001B[0m\u001B[1;33m.\u001B[0m\u001B[0mreplace\u001B[0m\u001B[1;33m(\u001B[0m\u001B[1;34m'var '\u001B[0m\u001B[1;33m,\u001B[0m \u001B[1;34m''\u001B[0m\u001B[1;33m)\u001B[0m\u001B[1;33m\u001B[0m\u001B[1;33m\u001B[0m\u001B[0m\n\u001B[0m\u001B[0;32m     63\u001B[0m         \u001B[1;31m# unescape special ascii characters such like a \\x3d(=)\u001B[0m\u001B[1;33m\u001B[0m\u001B[1;33m\u001B[0m\u001B[1;33m\u001B[0m\u001B[0m\n\u001B[0;32m     64\u001B[0m         \u001B[0mcode\u001B[0m \u001B[1;33m=\u001B[0m \u001B[0mcode\u001B[0m\u001B[1;33m.\u001B[0m\u001B[0mencode\u001B[0m\u001B[1;33m(\u001B[0m\u001B[1;33m)\u001B[0m\u001B[1;33m.\u001B[0m\u001B[0mdecode\u001B[0m\u001B[1;33m(\u001B[0m\u001B[1;34m'unicode-escape'\u001B[0m\u001B[1;33m)\u001B[0m\u001B[1;33m\u001B[0m\u001B[1;33m\u001B[0m\u001B[0m\n",
      "\u001B[1;31mAttributeError\u001B[0m: 'NoneType' object has no attribute 'group'"
     ]
    }
   ],
   "source": [
    "trans= Translator()\n",
    "res = trans.translate('hello')\n",
    "res.text"
   ],
   "metadata": {
    "collapsed": false,
    "pycharm": {
     "name": "#%%\n"
    }
   }
  },
  {
   "cell_type": "code",
   "execution_count": 6,
   "outputs": [
    {
     "ename": "AttributeError",
     "evalue": "'NoneType' object has no attribute 'group'",
     "output_type": "error",
     "traceback": [
      "\u001B[1;31m---------------------------------------------------------------------------\u001B[0m",
      "\u001B[1;31mAttributeError\u001B[0m                            Traceback (most recent call last)",
      "\u001B[1;32m~\\AppData\\Local\\Temp/ipykernel_12084/1678882670.py\u001B[0m in \u001B[0;36m<module>\u001B[1;34m\u001B[0m\n\u001B[0;32m      1\u001B[0m \u001B[0mtranslator\u001B[0m \u001B[1;33m=\u001B[0m \u001B[0mTranslator\u001B[0m\u001B[1;33m(\u001B[0m\u001B[1;33m)\u001B[0m\u001B[1;33m\u001B[0m\u001B[1;33m\u001B[0m\u001B[0m\n\u001B[1;32m----> 2\u001B[1;33m \u001B[0mtranslator\u001B[0m\u001B[1;33m.\u001B[0m\u001B[0mdetect\u001B[0m\u001B[1;33m(\u001B[0m\u001B[1;34m'이 문장은 한글로 쓰여졌습니다.'\u001B[0m\u001B[1;33m)\u001B[0m\u001B[1;33m\u001B[0m\u001B[1;33m\u001B[0m\u001B[0m\n\u001B[0m",
      "\u001B[1;32md:\\it\\pr\\mypython\\venv\\lib\\site-packages\\googletrans\\client.py\u001B[0m in \u001B[0;36mdetect\u001B[1;34m(self, text, **kwargs)\u001B[0m\n\u001B[0;32m    253\u001B[0m             \u001B[1;32mreturn\u001B[0m \u001B[0mresult\u001B[0m\u001B[1;33m\u001B[0m\u001B[1;33m\u001B[0m\u001B[0m\n\u001B[0;32m    254\u001B[0m \u001B[1;33m\u001B[0m\u001B[0m\n\u001B[1;32m--> 255\u001B[1;33m         \u001B[0mdata\u001B[0m \u001B[1;33m=\u001B[0m \u001B[0mself\u001B[0m\u001B[1;33m.\u001B[0m\u001B[0m_translate\u001B[0m\u001B[1;33m(\u001B[0m\u001B[0mtext\u001B[0m\u001B[1;33m,\u001B[0m \u001B[1;34m'en'\u001B[0m\u001B[1;33m,\u001B[0m \u001B[1;34m'auto'\u001B[0m\u001B[1;33m,\u001B[0m \u001B[0mkwargs\u001B[0m\u001B[1;33m)\u001B[0m\u001B[1;33m\u001B[0m\u001B[1;33m\u001B[0m\u001B[0m\n\u001B[0m\u001B[0;32m    256\u001B[0m \u001B[1;33m\u001B[0m\u001B[0m\n\u001B[0;32m    257\u001B[0m         \u001B[1;31m# actual source language that will be recognized by Google Translator when the\u001B[0m\u001B[1;33m\u001B[0m\u001B[1;33m\u001B[0m\u001B[1;33m\u001B[0m\u001B[0m\n",
      "\u001B[1;32md:\\it\\pr\\mypython\\venv\\lib\\site-packages\\googletrans\\client.py\u001B[0m in \u001B[0;36m_translate\u001B[1;34m(self, text, dest, src, override)\u001B[0m\n\u001B[0;32m     76\u001B[0m \u001B[1;33m\u001B[0m\u001B[0m\n\u001B[0;32m     77\u001B[0m     \u001B[1;32mdef\u001B[0m \u001B[0m_translate\u001B[0m\u001B[1;33m(\u001B[0m\u001B[0mself\u001B[0m\u001B[1;33m,\u001B[0m \u001B[0mtext\u001B[0m\u001B[1;33m,\u001B[0m \u001B[0mdest\u001B[0m\u001B[1;33m,\u001B[0m \u001B[0msrc\u001B[0m\u001B[1;33m,\u001B[0m \u001B[0moverride\u001B[0m\u001B[1;33m)\u001B[0m\u001B[1;33m:\u001B[0m\u001B[1;33m\u001B[0m\u001B[1;33m\u001B[0m\u001B[0m\n\u001B[1;32m---> 78\u001B[1;33m         \u001B[0mtoken\u001B[0m \u001B[1;33m=\u001B[0m \u001B[0mself\u001B[0m\u001B[1;33m.\u001B[0m\u001B[0mtoken_acquirer\u001B[0m\u001B[1;33m.\u001B[0m\u001B[0mdo\u001B[0m\u001B[1;33m(\u001B[0m\u001B[0mtext\u001B[0m\u001B[1;33m)\u001B[0m\u001B[1;33m\u001B[0m\u001B[1;33m\u001B[0m\u001B[0m\n\u001B[0m\u001B[0;32m     79\u001B[0m         params = utils.build_params(query=text, src=src, dest=dest,\n\u001B[0;32m     80\u001B[0m                                     token=token, override=override)\n",
      "\u001B[1;32md:\\it\\pr\\mypython\\venv\\lib\\site-packages\\googletrans\\gtoken.py\u001B[0m in \u001B[0;36mdo\u001B[1;34m(self, text)\u001B[0m\n\u001B[0;32m    192\u001B[0m \u001B[1;33m\u001B[0m\u001B[0m\n\u001B[0;32m    193\u001B[0m     \u001B[1;32mdef\u001B[0m \u001B[0mdo\u001B[0m\u001B[1;33m(\u001B[0m\u001B[0mself\u001B[0m\u001B[1;33m,\u001B[0m \u001B[0mtext\u001B[0m\u001B[1;33m)\u001B[0m\u001B[1;33m:\u001B[0m\u001B[1;33m\u001B[0m\u001B[1;33m\u001B[0m\u001B[0m\n\u001B[1;32m--> 194\u001B[1;33m         \u001B[0mself\u001B[0m\u001B[1;33m.\u001B[0m\u001B[0m_update\u001B[0m\u001B[1;33m(\u001B[0m\u001B[1;33m)\u001B[0m\u001B[1;33m\u001B[0m\u001B[1;33m\u001B[0m\u001B[0m\n\u001B[0m\u001B[0;32m    195\u001B[0m         \u001B[0mtk\u001B[0m \u001B[1;33m=\u001B[0m \u001B[0mself\u001B[0m\u001B[1;33m.\u001B[0m\u001B[0macquire\u001B[0m\u001B[1;33m(\u001B[0m\u001B[0mtext\u001B[0m\u001B[1;33m)\u001B[0m\u001B[1;33m\u001B[0m\u001B[1;33m\u001B[0m\u001B[0m\n\u001B[0;32m    196\u001B[0m         \u001B[1;32mreturn\u001B[0m \u001B[0mtk\u001B[0m\u001B[1;33m\u001B[0m\u001B[1;33m\u001B[0m\u001B[0m\n",
      "\u001B[1;32md:\\it\\pr\\mypython\\venv\\lib\\site-packages\\googletrans\\gtoken.py\u001B[0m in \u001B[0;36m_update\u001B[1;34m(self)\u001B[0m\n\u001B[0;32m     60\u001B[0m \u001B[1;33m\u001B[0m\u001B[0m\n\u001B[0;32m     61\u001B[0m         \u001B[1;31m# this will be the same as python code after stripping out a reserved word 'var'\u001B[0m\u001B[1;33m\u001B[0m\u001B[1;33m\u001B[0m\u001B[1;33m\u001B[0m\u001B[0m\n\u001B[1;32m---> 62\u001B[1;33m         \u001B[0mcode\u001B[0m \u001B[1;33m=\u001B[0m \u001B[0mself\u001B[0m\u001B[1;33m.\u001B[0m\u001B[0mRE_TKK\u001B[0m\u001B[1;33m.\u001B[0m\u001B[0msearch\u001B[0m\u001B[1;33m(\u001B[0m\u001B[0mr\u001B[0m\u001B[1;33m.\u001B[0m\u001B[0mtext\u001B[0m\u001B[1;33m)\u001B[0m\u001B[1;33m.\u001B[0m\u001B[0mgroup\u001B[0m\u001B[1;33m(\u001B[0m\u001B[1;36m1\u001B[0m\u001B[1;33m)\u001B[0m\u001B[1;33m.\u001B[0m\u001B[0mreplace\u001B[0m\u001B[1;33m(\u001B[0m\u001B[1;34m'var '\u001B[0m\u001B[1;33m,\u001B[0m \u001B[1;34m''\u001B[0m\u001B[1;33m)\u001B[0m\u001B[1;33m\u001B[0m\u001B[1;33m\u001B[0m\u001B[0m\n\u001B[0m\u001B[0;32m     63\u001B[0m         \u001B[1;31m# unescape special ascii characters such like a \\x3d(=)\u001B[0m\u001B[1;33m\u001B[0m\u001B[1;33m\u001B[0m\u001B[1;33m\u001B[0m\u001B[0m\n\u001B[0;32m     64\u001B[0m         \u001B[0mcode\u001B[0m \u001B[1;33m=\u001B[0m \u001B[0mcode\u001B[0m\u001B[1;33m.\u001B[0m\u001B[0mencode\u001B[0m\u001B[1;33m(\u001B[0m\u001B[1;33m)\u001B[0m\u001B[1;33m.\u001B[0m\u001B[0mdecode\u001B[0m\u001B[1;33m(\u001B[0m\u001B[1;34m'unicode-escape'\u001B[0m\u001B[1;33m)\u001B[0m\u001B[1;33m\u001B[0m\u001B[1;33m\u001B[0m\u001B[0m\n",
      "\u001B[1;31mAttributeError\u001B[0m: 'NoneType' object has no attribute 'group'"
     ]
    }
   ],
   "source": [
    "translator = Translator()\n",
    "translator.detect('이 문장은 한글로 쓰여졌습니다.')\n"
   ],
   "metadata": {
    "collapsed": false,
    "pycharm": {
     "name": "#%%\n"
    }
   }
  },
  {
   "cell_type": "markdown",
   "source": [],
   "metadata": {
    "collapsed": false,
    "pycharm": {
     "name": "#%% md\n"
    }
   }
  },
  {
   "cell_type": "code",
   "execution_count": 5,
   "outputs": [],
   "source": [
    "from translate import Translator"
   ],
   "metadata": {
    "collapsed": false,
    "pycharm": {
     "name": "#%%\n"
    }
   }
  },
  {
   "cell_type": "code",
   "execution_count": 11,
   "outputs": [
    {
     "name": "stdout",
     "output_type": "stream",
     "text": [
      "Good Morning!\n"
     ]
    }
   ],
   "source": [
    "\n",
    "\n",
    "translator= Translator(to_lang=\"russian\")\n",
    "translation = translator.translate(\"Good Morning!\")\n",
    "print (translation)"
   ],
   "metadata": {
    "collapsed": false,
    "pycharm": {
     "name": "#%%\n"
    }
   }
  },
  {
   "cell_type": "code",
   "execution_count": 3,
   "outputs": [
    {
     "name": "stdout",
     "output_type": "stream",
     "text": [
      "The Zen of Python, by Tim Peters\n",
      "\n",
      "Beautiful is better than ugly.\n",
      "Explicit is better than implicit.\n",
      "Simple is better than complex.\n",
      "Complex is better than complicated.\n",
      "Flat is better than nested.\n",
      "Sparse is better than dense.\n",
      "Readability counts.\n",
      "Special cases aren't special enough to break the rules.\n",
      "Although practicality beats purity.\n",
      "Errors should never pass silently.\n",
      "Unless explicitly silenced.\n",
      "In the face of ambiguity, refuse the temptation to guess.\n",
      "There should be one-- and preferably only one --obvious way to do it.\n",
      "Although that way may not be obvious at first unless you're Dutch.\n",
      "Now is better than never.\n",
      "Although never is often better than *right* now.\n",
      "If the implementation is hard to explain, it's a bad idea.\n",
      "If the implementation is easy to explain, it may be a good idea.\n",
      "Namespaces are one honking great idea -- let's do more of those!\n"
     ]
    }
   ],
   "source": [
    "import this"
   ],
   "metadata": {
    "collapsed": false,
    "pycharm": {
     "name": "#%%\n"
    }
   }
  },
  {
   "cell_type": "code",
   "execution_count": null,
   "outputs": [],
   "source": [],
   "metadata": {
    "collapsed": false,
    "pycharm": {
     "name": "#%%\n"
    }
   }
  },
  {
   "cell_type": "code",
   "execution_count": 2,
   "outputs": [],
   "source": [
    "s1= '''TAG,NAME,VAR,SETPOINT,HIGHHIGH,HIGH,LOW,LOWLOW,DEVIATION,RATE,DEADBAND,FORMAT,CATEGORY,HELP,PRIV,AREA,COMMENT,SEQUENCE,HHDELAY,HDELAY,LDELAY,LLDELAY,DEVDELAY,CUSTOM1,CUSTOM2,CUSTOM3,CUSTOM4,CUSTOM5,CUSTOM6,CUSTOM7,CUSTOM8,CLUSTER,TAGGENLINK,PAGING,PAGINGGRP,EDITCODE,LINKED,HISTORIAN,EQUIP,ITEM\n",
    "'''"
   ],
   "metadata": {
    "collapsed": false,
    "pycharm": {
     "name": "#%%\n"
    }
   }
  },
  {
   "cell_type": "code",
   "execution_count": 14,
   "outputs": [],
   "source": [
    "import odbc"
   ],
   "metadata": {
    "collapsed": false,
    "pycharm": {
     "name": "#%%\n"
    }
   }
  },
  {
   "cell_type": "code",
   "execution_count": 19,
   "outputs": [
    {
     "ename": "opError",
     "evalue": "[Microsoft][Диспетчер драйверов ODBC] Источник данных не найден и не указан драйвер, используемый по умолчанию in LOGIN",
     "output_type": "error",
     "traceback": [
      "\u001B[1;31m---------------------------------------------------------------------------\u001B[0m",
      "\u001B[1;31mopError\u001B[0m                                   Traceback (most recent call last)",
      "\u001B[1;32m~\\AppData\\Local\\Temp/ipykernel_3076/3326408928.py\u001B[0m in \u001B[0;36m<module>\u001B[1;34m\u001B[0m\n\u001B[0;32m      1\u001B[0m \u001B[0mstr_connect\u001B[0m \u001B[1;33m=\u001B[0m \u001B[1;34m\"Driver=INTRBASE;UID=SYSDBA;PWD=masterkey;DBNAME=Stativ;\"\u001B[0m\u001B[1;33m;\u001B[0m\u001B[1;33m\u001B[0m\u001B[1;33m\u001B[0m\u001B[0m\n\u001B[1;32m----> 2\u001B[1;33m \u001B[0mdb\u001B[0m \u001B[1;33m=\u001B[0m \u001B[0modbc\u001B[0m\u001B[1;33m.\u001B[0m\u001B[0modbc\u001B[0m\u001B[1;33m(\u001B[0m\u001B[0mstr_connect\u001B[0m\u001B[1;33m)\u001B[0m\u001B[1;33m\u001B[0m\u001B[1;33m\u001B[0m\u001B[0m\n\u001B[0m",
      "\u001B[1;31mopError\u001B[0m: [Microsoft][Диспетчер драйверов ODBC] Источник данных не найден и не указан драйвер, используемый по умолчанию in LOGIN"
     ]
    }
   ],
   "source": [
    "str_connect = \"Driver=INTRBASE;UID=SYSDBA;PWD=masterkey;DBNAME=Stativ;\";\n",
    "db = odbc.odbc(str_connect)"
   ],
   "metadata": {
    "collapsed": false,
    "pycharm": {
     "name": "#%%\n"
    }
   }
  },
  {
   "cell_type": "code",
   "execution_count": 6,
   "outputs": [],
   "source": [
    "import firebirdsql"
   ],
   "metadata": {
    "collapsed": false,
    "pycharm": {
     "name": "#%%\n"
    }
   }
  },
  {
   "cell_type": "code",
   "execution_count": 13,
   "outputs": [
    {
     "ename": "TypeError",
     "evalue": "object of type 'NoneType' has no len()",
     "output_type": "error",
     "traceback": [
      "\u001B[1;31m---------------------------------------------------------------------------\u001B[0m",
      "\u001B[1;31mTypeError\u001B[0m                                 Traceback (most recent call last)",
      "\u001B[1;32m~\\AppData\\Local\\Temp/ipykernel_3076/2441180055.py\u001B[0m in \u001B[0;36m<module>\u001B[1;34m\u001B[0m\n\u001B[1;32m----> 1\u001B[1;33m conn = firebirdsql.connect(\n\u001B[0m\u001B[0;32m      2\u001B[0m     \u001B[0mhost\u001B[0m\u001B[1;33m=\u001B[0m\u001B[1;34m'localhost'\u001B[0m\u001B[1;33m,\u001B[0m\u001B[1;33m\u001B[0m\u001B[1;33m\u001B[0m\u001B[0m\n\u001B[0;32m      3\u001B[0m     \u001B[0mdatabase\u001B[0m\u001B[1;33m=\u001B[0m\u001B[1;34mr'd:\\СЦБ\\ссс\\СЦБ\\с1\\Карьерная-2\\04-112_2-4681.gdb '\u001B[0m\u001B[1;33m,\u001B[0m\u001B[1;33m\u001B[0m\u001B[1;33m\u001B[0m\u001B[0m\n\u001B[0;32m      4\u001B[0m     \u001B[0mport\u001B[0m\u001B[1;33m=\u001B[0m\u001B[1;36m3050\u001B[0m\u001B[1;33m\u001B[0m\u001B[1;33m\u001B[0m\u001B[0m\n\u001B[0;32m      5\u001B[0m \u001B[1;33m\u001B[0m\u001B[0m\n",
      "\u001B[1;32md:\\it\\pr\\mypython\\venv\\lib\\site-packages\\firebirdsql\\__init__.py\u001B[0m in \u001B[0;36mconnect\u001B[1;34m(**kwargs)\u001B[0m\n\u001B[0;32m     93\u001B[0m \u001B[1;33m\u001B[0m\u001B[0m\n\u001B[0;32m     94\u001B[0m \u001B[1;32mdef\u001B[0m \u001B[0mconnect\u001B[0m\u001B[1;33m(\u001B[0m\u001B[1;33m**\u001B[0m\u001B[0mkwargs\u001B[0m\u001B[1;33m)\u001B[0m\u001B[1;33m:\u001B[0m\u001B[1;33m\u001B[0m\u001B[1;33m\u001B[0m\u001B[0m\n\u001B[1;32m---> 95\u001B[1;33m     \u001B[0mconn\u001B[0m \u001B[1;33m=\u001B[0m \u001B[0mConnection\u001B[0m\u001B[1;33m(\u001B[0m\u001B[1;33m**\u001B[0m\u001B[0mkwargs\u001B[0m\u001B[1;33m)\u001B[0m\u001B[1;33m\u001B[0m\u001B[1;33m\u001B[0m\u001B[0m\n\u001B[0m\u001B[0;32m     96\u001B[0m     \u001B[1;32mreturn\u001B[0m \u001B[0mconn\u001B[0m\u001B[1;33m\u001B[0m\u001B[1;33m\u001B[0m\u001B[0m\n\u001B[0;32m     97\u001B[0m \u001B[1;33m\u001B[0m\u001B[0m\n",
      "\u001B[1;32md:\\it\\pr\\mypython\\venv\\lib\\site-packages\\firebirdsql\\fbcore.py\u001B[0m in \u001B[0;36m__init__\u001B[1;34m(self, dsn, user, password, role, host, database, charset, port, page_size, is_services, cloexec, timeout, isolation_level, use_unicode, auth_plugin_name, wire_crypt, create_new, timezone)\u001B[0m\n\u001B[0;32m    641\u001B[0m         \u001B[0mself\u001B[0m\u001B[1;33m.\u001B[0m\u001B[0msock\u001B[0m \u001B[1;33m=\u001B[0m \u001B[0mSocketStream\u001B[0m\u001B[1;33m(\u001B[0m\u001B[0mself\u001B[0m\u001B[1;33m.\u001B[0m\u001B[0mhostname\u001B[0m\u001B[1;33m,\u001B[0m \u001B[0mself\u001B[0m\u001B[1;33m.\u001B[0m\u001B[0mport\u001B[0m\u001B[1;33m,\u001B[0m \u001B[0mself\u001B[0m\u001B[1;33m.\u001B[0m\u001B[0mtimeout\u001B[0m\u001B[1;33m,\u001B[0m \u001B[0mcloexec\u001B[0m\u001B[1;33m)\u001B[0m\u001B[1;33m\u001B[0m\u001B[1;33m\u001B[0m\u001B[0m\n\u001B[0;32m    642\u001B[0m \u001B[1;33m\u001B[0m\u001B[0m\n\u001B[1;32m--> 643\u001B[1;33m         \u001B[0mself\u001B[0m\u001B[1;33m.\u001B[0m\u001B[0m_op_connect\u001B[0m\u001B[1;33m(\u001B[0m\u001B[0mauth_plugin_name\u001B[0m\u001B[1;33m,\u001B[0m \u001B[0mwire_crypt\u001B[0m\u001B[1;33m)\u001B[0m\u001B[1;33m\u001B[0m\u001B[1;33m\u001B[0m\u001B[0m\n\u001B[0m\u001B[0;32m    644\u001B[0m         \u001B[1;32mtry\u001B[0m\u001B[1;33m:\u001B[0m\u001B[1;33m\u001B[0m\u001B[1;33m\u001B[0m\u001B[0m\n\u001B[0;32m    645\u001B[0m             \u001B[0mself\u001B[0m\u001B[1;33m.\u001B[0m\u001B[0m_parse_connect_response\u001B[0m\u001B[1;33m(\u001B[0m\u001B[1;33m)\u001B[0m\u001B[1;33m\u001B[0m\u001B[1;33m\u001B[0m\u001B[0m\n",
      "\u001B[1;32md:\\it\\pr\\mypython\\venv\\lib\\site-packages\\firebirdsql\\wireprotocol.py\u001B[0m in \u001B[0;36m_op_connect\u001B[1;34m(self, auth_plugin_name, wire_crypt)\u001B[0m\n\u001B[0;32m    496\u001B[0m \u001B[1;33m\u001B[0m\u001B[0m\n\u001B[0;32m    497\u001B[0m         \u001B[0mp\u001B[0m\u001B[1;33m.\u001B[0m\u001B[0mpack_int\u001B[0m\u001B[1;33m(\u001B[0m\u001B[0mlen\u001B[0m\u001B[1;33m(\u001B[0m\u001B[0mprotocols\u001B[0m\u001B[1;33m)\u001B[0m\u001B[1;33m)\u001B[0m\u001B[1;33m\u001B[0m\u001B[1;33m\u001B[0m\u001B[0m\n\u001B[1;32m--> 498\u001B[1;33m         \u001B[0mp\u001B[0m\u001B[1;33m.\u001B[0m\u001B[0mpack_bytes\u001B[0m\u001B[1;33m(\u001B[0m\u001B[0mself\u001B[0m\u001B[1;33m.\u001B[0m\u001B[0muid\u001B[0m\u001B[1;33m(\u001B[0m\u001B[0mauth_plugin_name\u001B[0m\u001B[1;33m,\u001B[0m \u001B[0mwire_crypt\u001B[0m\u001B[1;33m)\u001B[0m\u001B[1;33m)\u001B[0m\u001B[1;33m\u001B[0m\u001B[1;33m\u001B[0m\u001B[0m\n\u001B[0m\u001B[0;32m    499\u001B[0m         \u001B[0mself\u001B[0m\u001B[1;33m.\u001B[0m\u001B[0msock\u001B[0m\u001B[1;33m.\u001B[0m\u001B[0msend\u001B[0m\u001B[1;33m(\u001B[0m\u001B[0mp\u001B[0m\u001B[1;33m.\u001B[0m\u001B[0mget_buffer\u001B[0m\u001B[1;33m(\u001B[0m\u001B[1;33m)\u001B[0m \u001B[1;33m+\u001B[0m \u001B[0mhex_to_bytes\u001B[0m\u001B[1;33m(\u001B[0m\u001B[1;34m''\u001B[0m\u001B[1;33m.\u001B[0m\u001B[0mjoin\u001B[0m\u001B[1;33m(\u001B[0m\u001B[0mprotocols\u001B[0m\u001B[1;33m)\u001B[0m\u001B[1;33m)\u001B[0m\u001B[1;33m)\u001B[0m\u001B[1;33m\u001B[0m\u001B[1;33m\u001B[0m\u001B[0m\n\u001B[0;32m    500\u001B[0m \u001B[1;33m\u001B[0m\u001B[0m\n",
      "\u001B[1;32md:\\it\\pr\\mypython\\venv\\lib\\site-packages\\firebirdsql\\wireprotocol.py\u001B[0m in \u001B[0;36muid\u001B[1;34m(self, auth_plugin_name, wire_crypt)\u001B[0m\n\u001B[0;32m    464\u001B[0m         \u001B[1;31m# set CNCT_xxxx values\u001B[0m\u001B[1;33m\u001B[0m\u001B[1;33m\u001B[0m\u001B[1;33m\u001B[0m\u001B[0m\n\u001B[0;32m    465\u001B[0m         \u001B[0mr\u001B[0m \u001B[1;33m=\u001B[0m \u001B[1;34mb''\u001B[0m\u001B[1;33m\u001B[0m\u001B[1;33m\u001B[0m\u001B[0m\n\u001B[1;32m--> 466\u001B[1;33m         \u001B[0mr\u001B[0m \u001B[1;33m+=\u001B[0m \u001B[0mpack_cnct_param\u001B[0m\u001B[1;33m(\u001B[0m\u001B[0mCNCT_login\u001B[0m\u001B[1;33m,\u001B[0m \u001B[0mself\u001B[0m\u001B[1;33m.\u001B[0m\u001B[0mstr_to_bytes\u001B[0m\u001B[1;33m(\u001B[0m\u001B[0mself\u001B[0m\u001B[1;33m.\u001B[0m\u001B[0muser\u001B[0m\u001B[1;33m)\u001B[0m\u001B[1;33m)\u001B[0m\u001B[1;33m\u001B[0m\u001B[1;33m\u001B[0m\u001B[0m\n\u001B[0m\u001B[0;32m    467\u001B[0m         \u001B[0mr\u001B[0m \u001B[1;33m+=\u001B[0m \u001B[0mpack_cnct_param\u001B[0m\u001B[1;33m(\u001B[0m\u001B[0mCNCT_plugin_name\u001B[0m\u001B[1;33m,\u001B[0m \u001B[0mself\u001B[0m\u001B[1;33m.\u001B[0m\u001B[0mstr_to_bytes\u001B[0m\u001B[1;33m(\u001B[0m\u001B[0mself\u001B[0m\u001B[1;33m.\u001B[0m\u001B[0mplugin_name\u001B[0m\u001B[1;33m)\u001B[0m\u001B[1;33m)\u001B[0m\u001B[1;33m\u001B[0m\u001B[1;33m\u001B[0m\u001B[0m\n\u001B[0;32m    468\u001B[0m         \u001B[0mr\u001B[0m \u001B[1;33m+=\u001B[0m \u001B[0mpack_cnct_param\u001B[0m\u001B[1;33m(\u001B[0m\u001B[0mCNCT_plugin_list\u001B[0m\u001B[1;33m,\u001B[0m \u001B[0mself\u001B[0m\u001B[1;33m.\u001B[0m\u001B[0mplugin_list\u001B[0m\u001B[1;33m)\u001B[0m\u001B[1;33m\u001B[0m\u001B[1;33m\u001B[0m\u001B[0m\n",
      "\u001B[1;32md:\\it\\pr\\mypython\\venv\\lib\\site-packages\\firebirdsql\\wireprotocol.py\u001B[0m in \u001B[0;36mpack_cnct_param\u001B[1;34m(k, v)\u001B[0m\n\u001B[0;32m    430\u001B[0m         \u001B[1;32mdef\u001B[0m \u001B[0mpack_cnct_param\u001B[0m\u001B[1;33m(\u001B[0m\u001B[0mk\u001B[0m\u001B[1;33m,\u001B[0m \u001B[0mv\u001B[0m\u001B[1;33m)\u001B[0m\u001B[1;33m:\u001B[0m\u001B[1;33m\u001B[0m\u001B[1;33m\u001B[0m\u001B[0m\n\u001B[0;32m    431\u001B[0m             \u001B[1;32mif\u001B[0m \u001B[0mk\u001B[0m \u001B[1;33m!=\u001B[0m \u001B[0mCNCT_specific_data\u001B[0m\u001B[1;33m:\u001B[0m\u001B[1;33m\u001B[0m\u001B[1;33m\u001B[0m\u001B[0m\n\u001B[1;32m--> 432\u001B[1;33m                 \u001B[1;32mreturn\u001B[0m \u001B[0mbs\u001B[0m\u001B[1;33m(\u001B[0m\u001B[1;33m[\u001B[0m\u001B[0mk\u001B[0m\u001B[1;33m]\u001B[0m \u001B[1;33m+\u001B[0m \u001B[1;33m[\u001B[0m\u001B[0mlen\u001B[0m\u001B[1;33m(\u001B[0m\u001B[0mv\u001B[0m\u001B[1;33m)\u001B[0m\u001B[1;33m]\u001B[0m\u001B[1;33m)\u001B[0m \u001B[1;33m+\u001B[0m \u001B[0mv\u001B[0m\u001B[1;33m\u001B[0m\u001B[1;33m\u001B[0m\u001B[0m\n\u001B[0m\u001B[0;32m    433\u001B[0m             \u001B[1;31m# specific_data split per 254 bytes\u001B[0m\u001B[1;33m\u001B[0m\u001B[1;33m\u001B[0m\u001B[1;33m\u001B[0m\u001B[0m\n\u001B[0;32m    434\u001B[0m             \u001B[0mb\u001B[0m \u001B[1;33m=\u001B[0m \u001B[1;34mb''\u001B[0m\u001B[1;33m\u001B[0m\u001B[1;33m\u001B[0m\u001B[0m\n",
      "\u001B[1;31mTypeError\u001B[0m: object of type 'NoneType' has no len()"
     ]
    }
   ],
   "source": [
    "conn = firebirdsql.connect(\n",
    "    host='localhost',\n",
    "    database=r'd:\\СЦБ\\ссс\\СЦБ\\с1\\Карьерная-2\\04-112_2-4681.gdb ',\n",
    "    port=3050\n",
    "\n",
    ")"
   ],
   "metadata": {
    "collapsed": false,
    "pycharm": {
     "name": "#%%\n"
    }
   }
  },
  {
   "cell_type": "code",
   "execution_count": 15,
   "outputs": [],
   "source": [
    "import configparser\n",
    "import os\n",
    "import sys\n",
    "import odbc"
   ],
   "metadata": {
    "collapsed": false,
    "pycharm": {
     "name": "#%%\n"
    }
   }
  },
  {
   "cell_type": "code",
   "execution_count": 16,
   "outputs": [
    {
     "name": "stdout",
     "output_type": "stream",
     "text": [
      "Файл кофигурации: d:\\it\\pr\\mypython\\venv\\lib\\site-packages\\connect.ini\n"
     ]
    }
   ],
   "source": [
    "ini_file = os.path.dirname(sys.argv[0]);\n",
    "if ini_file[-1] != os.sep:\n",
    "    ini_file = ini_file + os.sep\n",
    "ini_file = ini_file + 'connect.ini'\n",
    "\n",
    "print('Файл кофигурации: ' + ini_file)"
   ],
   "metadata": {
    "collapsed": false,
    "pycharm": {
     "name": "#%%\n"
    }
   }
  },
  {
   "cell_type": "code",
   "execution_count": 17,
   "outputs": [
    {
     "name": "stdout",
     "output_type": "stream",
     "text": [
      "!!! Файл конфигурации не найден.\n"
     ]
    },
    {
     "ename": "SystemExit",
     "evalue": "0",
     "output_type": "error",
     "traceback": [
      "An exception has occurred, use %tb to see the full traceback.\n",
      "\u001B[1;31mSystemExit\u001B[0m\u001B[1;31m:\u001B[0m 0\n"
     ]
    },
    {
     "name": "stderr",
     "output_type": "stream",
     "text": [
      "d:\\it\\pr\\mypython\\venv\\lib\\site-packages\\IPython\\core\\interactiveshell.py:3452: UserWarning: To exit: use 'exit', 'quit', or Ctrl-D.\n",
      "  warn(\"To exit: use 'exit', 'quit', or Ctrl-D.\", stacklevel=1)\n"
     ]
    }
   ],
   "source": [
    "if not os.path.exists(ini_file):\n",
    "    print('!!! Файл конфигурации не найден.')\n",
    "    sys.exit(0)\n",
    "\n",
    "try:\n",
    "    config = configparser.ConfigParser()\n",
    "    config.read(ini_file)\n",
    "\n",
    "    if not config.has_section('base'):\n",
    "        print('В ini файле не обнаружена секция \"Base\"')\n",
    "        sys.exit(0)\n",
    "\n",
    "    pBase = {}\n",
    "    list_key = config.options('base')\n",
    "    for key in list_key:\n",
    "        pBase[key] =config.get('base',key)\n",
    "\n",
    "except Exception as info:\n",
    "    print('!!! Ошибка чтения настроек: ' + str(info))\n",
    "    sys.exit(0)"
   ],
   "metadata": {
    "collapsed": false,
    "pycharm": {
     "name": "#%%\n"
    }
   }
  },
  {
   "cell_type": "code",
   "execution_count": null,
   "outputs": [],
   "source": [],
   "metadata": {
    "collapsed": false,
    "pycharm": {
     "name": "#%%\n"
    }
   }
  },
  {
   "cell_type": "code",
   "execution_count": null,
   "outputs": [],
   "source": [],
   "metadata": {
    "collapsed": false,
    "pycharm": {
     "name": "#%%\n"
    }
   }
  },
  {
   "cell_type": "code",
   "execution_count": null,
   "outputs": [],
   "source": [],
   "metadata": {
    "collapsed": false,
    "pycharm": {
     "name": "#%%\n"
    }
   }
  },
  {
   "cell_type": "code",
   "execution_count": null,
   "outputs": [],
   "source": [],
   "metadata": {
    "collapsed": false,
    "pycharm": {
     "name": "#%%\n"
    }
   }
  },
  {
   "cell_type": "code",
   "execution_count": null,
   "outputs": [],
   "source": [],
   "metadata": {
    "collapsed": false,
    "pycharm": {
     "name": "#%%\n"
    }
   }
  },
  {
   "cell_type": "code",
   "execution_count": null,
   "outputs": [],
   "source": [],
   "metadata": {
    "collapsed": false,
    "pycharm": {
     "name": "#%%\n"
    }
   }
  },
  {
   "cell_type": "code",
   "execution_count": null,
   "outputs": [],
   "source": [],
   "metadata": {
    "collapsed": false,
    "pycharm": {
     "name": "#%%\n"
    }
   }
  },
  {
   "cell_type": "code",
   "execution_count": null,
   "outputs": [],
   "source": [],
   "metadata": {
    "collapsed": false,
    "pycharm": {
     "name": "#%%\n"
    }
   }
  },
  {
   "cell_type": "code",
   "execution_count": null,
   "outputs": [],
   "source": [],
   "metadata": {
    "collapsed": false,
    "pycharm": {
     "name": "#%%\n"
    }
   }
  },
  {
   "cell_type": "code",
   "execution_count": null,
   "outputs": [],
   "source": [],
   "metadata": {
    "collapsed": false,
    "pycharm": {
     "name": "#%%\n"
    }
   }
  },
  {
   "cell_type": "code",
   "execution_count": 1,
   "outputs": [],
   "source": [
    "import dbf"
   ],
   "metadata": {
    "collapsed": false,
    "pycharm": {
     "name": "#%%\n"
    }
   }
  },
  {
   "cell_type": "code",
   "execution_count": 11,
   "outputs": [
    {
     "name": "stderr",
     "output_type": "stream",
     "text": [
      "Traceback (most recent call last):\n",
      "  File \"_pydevd_bundle\\pydevd_cython_win32_39_64.pyx\", line 1035, in _pydevd_bundle.pydevd_cython_win32_39_64.PyDBFrame.trace_dispatch\n",
      "  File \"C:\\Program Files\\JetBrains\\PyCharm 2021.3\\plugins\\python\\helpers-pro\\jupyter_debug\\pydev_jupyter_plugin.py\", line 144, in cmd_step_over\n",
      "    if _is_inside_jupyter_cell(frame, pydb):\n",
      "  File \"C:\\Program Files\\JetBrains\\PyCharm 2021.3\\plugins\\python\\helpers-pro\\jupyter_debug\\pydev_jupyter_plugin.py\", line 209, in _is_inside_jupyter_cell\n",
      "    if is_cell_filename(filename):\n",
      "  File \"C:\\Program Files\\JetBrains\\PyCharm 2021.3\\plugins\\python\\helpers-pro\\jupyter_debug\\pydev_jupyter_plugin.py\", line 220, in is_cell_filename\n",
      "    ipython_shell = get_ipython()\n",
      "NameError: name 'get_ipython' is not defined\n"
     ]
    }
   ],
   "source": [
    "filename = r\"c:\\ProgramData\\AVEVA Plant SCADA 2020 R2\\User\\test\\variable.DBF\"\n",
    "with dbf.Table(filename, codepage='cp1251') as tb:\n",
    "    tb.open(mode=dbf.READ_WRITE)\n",
    "    rec = tb[5]\n",
    "    val = rec['NAME'] + \"_nnnnnnnnnnnnn\"\n",
    "    with rec as r:\n",
    "        r['NAME'] = 'gfgnxnvnvf'\n",
    "    tb.pack()\n",
    "y=1"
   ],
   "metadata": {
    "collapsed": false,
    "pycharm": {
     "name": "#%%\n"
    }
   }
  },
  {
   "cell_type": "code",
   "execution_count": null,
   "outputs": [],
   "source": [],
   "metadata": {
    "collapsed": false,
    "pycharm": {
     "name": "#%%\n"
    }
   }
  },
  {
   "cell_type": "code",
   "execution_count": null,
   "outputs": [],
   "source": [],
   "metadata": {
    "collapsed": false,
    "pycharm": {
     "name": "#%%\n"
    }
   }
  },
  {
   "cell_type": "code",
   "execution_count": null,
   "outputs": [],
   "source": [],
   "metadata": {
    "collapsed": false,
    "pycharm": {
     "name": "#%%\n"
    }
   }
  },
  {
   "cell_type": "code",
   "execution_count": null,
   "outputs": [],
   "source": [],
   "metadata": {
    "collapsed": false,
    "pycharm": {
     "name": "#%%\n"
    }
   }
  },
  {
   "cell_type": "code",
   "execution_count": null,
   "outputs": [],
   "source": [],
   "metadata": {
    "collapsed": false,
    "pycharm": {
     "name": "#%%\n"
    }
   }
  },
  {
   "cell_type": "code",
   "execution_count": 9,
   "outputs": [
    {
     "name": "stdout",
     "output_type": "stream",
     "text": [
      "'TAG': '',\n",
      "'NAME': '',\n",
      "'VAR': '',\n",
      "'SETPOINT': '',\n",
      "'HIGHHIGH': '',\n",
      "'HIGH': '',\n",
      "'LOW': '',\n",
      "'LOWLOW': '',\n",
      "'DEVIATION': '',\n",
      "'RATE': '',\n",
      "'DEADBAND': '',\n",
      "'FORMAT': '',\n",
      "'CATEGORY': '',\n",
      "'HELP': '',\n",
      "'PRIV': '',\n",
      "'AREA': '',\n",
      "'COMMENT': '',\n",
      "'SEQUENCE': '',\n",
      "'HHDELAY': '',\n",
      "'HDELAY': '',\n",
      "'LDELAY': '',\n",
      "'LLDELAY': '',\n",
      "'DEVDELAY': '',\n",
      "'CUSTOM1': '',\n",
      "'CUSTOM2': '',\n",
      "'CUSTOM3': '',\n",
      "'CUSTOM4': '',\n",
      "'CUSTOM5': '',\n",
      "'CUSTOM6': '',\n",
      "'CUSTOM7': '',\n",
      "'CUSTOM8': '',\n",
      "'CLUSTER': '',\n",
      "'TAGGENLINK': '',\n",
      "'PAGING': '',\n",
      "'PAGINGGRP': '',\n",
      "'EDITCODE': '',\n",
      "'LINKED': '',\n",
      "'HISTORIAN': '',\n",
      "'EQUIP': '',\n",
      "'ITEM\n",
      "': '',\n"
     ]
    },
    {
     "data": {
      "text/plain": "[None,\n None,\n None,\n None,\n None,\n None,\n None,\n None,\n None,\n None,\n None,\n None,\n None,\n None,\n None,\n None,\n None,\n None,\n None,\n None,\n None,\n None,\n None,\n None,\n None,\n None,\n None,\n None,\n None,\n None,\n None,\n None,\n None,\n None,\n None,\n None,\n None,\n None,\n None,\n None]"
     },
     "execution_count": 9,
     "metadata": {},
     "output_type": "execute_result"
    }
   ],
   "source": [
    "[print(f\"'{i}': '',\") for i in s1.split(',')]"
   ],
   "metadata": {
    "collapsed": false,
    "pycharm": {
     "name": "#%%\n"
    }
   }
  },
  {
   "cell_type": "code",
   "execution_count": null,
   "outputs": [],
   "source": [],
   "metadata": {
    "collapsed": false,
    "pycharm": {
     "name": "#%%\n"
    }
   }
  },
  {
   "cell_type": "code",
   "execution_count": 1,
   "outputs": [
    {
     "name": "stdout",
     "output_type": "stream",
     "text": [
      "pyperclip\n",
      "пойманное\n",
      "WebGL/Game1/Game_new.wasm\n",
      "Access to XMLHttpRequest at 'https://storage.googleapis.com/stateless_bucket/' from origin 'http://127.0.0.1:8000' has been blocked by CORS policy: No 'Access-Control-Allow-Origin' header is present on the requested resource.\r\n",
      "\r\n",
      "WebGL/Game1/Game_new.wasm\r\n",
      "\r\n",
      "<WSGIRequest: GET '/ru/projects/download/1/2/?obj=5'>\r\n",
      "content_type='application/wasm'\r\n",
      "\n"
     ]
    },
    {
     "ename": "KeyboardInterrupt",
     "evalue": "",
     "output_type": "error",
     "traceback": [
      "\u001B[1;31m---------------------------------------------------------------------------\u001B[0m",
      "\u001B[1;31mKeyboardInterrupt\u001B[0m                         Traceback (most recent call last)",
      "\u001B[1;32m~\\AppData\\Local\\Temp/ipykernel_24024/3002950116.py\u001B[0m in \u001B[0;36m<module>\u001B[1;34m\u001B[0m\n\u001B[0;32m     17\u001B[0m     \u001B[0mold\u001B[0m \u001B[1;33m=\u001B[0m \u001B[0ms\u001B[0m\u001B[1;33m\u001B[0m\u001B[1;33m\u001B[0m\u001B[0m\n\u001B[0;32m     18\u001B[0m \u001B[1;31m# В конце витка цикла делаем паузу в одну секунду, чтобы содержимое буфера обмена успело прогрузиться\u001B[0m\u001B[1;33m\u001B[0m\u001B[1;33m\u001B[0m\u001B[1;33m\u001B[0m\u001B[0m\n\u001B[1;32m---> 19\u001B[1;33m     \u001B[0mtime\u001B[0m\u001B[1;33m.\u001B[0m\u001B[0msleep\u001B[0m\u001B[1;33m(\u001B[0m\u001B[1;36m1\u001B[0m\u001B[1;33m)\u001B[0m\u001B[1;33m\u001B[0m\u001B[1;33m\u001B[0m\u001B[0m\n\u001B[0m",
      "\u001B[1;31mKeyboardInterrupt\u001B[0m: "
     ]
    }
   ],
   "source": [
    "# Подключим модуль для работы с буфером обмена\n",
    "import pyperclip\n",
    "import time\n",
    "\n",
    "old = ''\n",
    "while True:\n",
    "    s = pyperclip.paste()\n",
    "    if(s != old):\n",
    "        print(s)\n",
    "    old = s\n",
    "    time.sleep(1)"
   ],
   "metadata": {
    "collapsed": false,
    "pycharm": {
     "name": "#%%\n"
    }
   }
  },
  {
   "cell_type": "code",
   "execution_count": null,
   "outputs": [],
   "source": [],
   "metadata": {
    "collapsed": false,
    "pycharm": {
     "name": "#%%\n"
    }
   }
  },
  {
   "cell_type": "code",
   "execution_count": null,
   "outputs": [],
   "source": [],
   "metadata": {
    "collapsed": false,
    "pycharm": {
     "name": "#%%\n"
    }
   }
  },
  {
   "cell_type": "code",
   "execution_count": null,
   "outputs": [],
   "source": [],
   "metadata": {
    "collapsed": false,
    "pycharm": {
     "name": "#%%\n"
    }
   }
  },
  {
   "cell_type": "code",
   "execution_count": null,
   "outputs": [],
   "source": [],
   "metadata": {
    "collapsed": false,
    "pycharm": {
     "name": "#%%\n"
    }
   }
  },
  {
   "cell_type": "code",
   "execution_count": null,
   "outputs": [],
   "source": [],
   "metadata": {
    "collapsed": false,
    "pycharm": {
     "name": "#%%\n"
    }
   }
  },
  {
   "cell_type": "code",
   "execution_count": 1,
   "outputs": [],
   "source": [
    "import yaml"
   ],
   "metadata": {
    "collapsed": false,
    "pycharm": {
     "name": "#%%\n"
    }
   }
  },
  {
   "cell_type": "code",
   "execution_count": 3,
   "outputs": [],
   "source": [
    "trunk_template = [\n",
    "    'switchport trunk encapsulation dot1q', 'switchport mode trunk',\n",
    "    'switchport trunk native vlan 999', 'switchport trunk allowed vlan'\n",
    "]\n",
    "\n",
    "access_template = [\n",
    "    'switchport mode access', 'switchport access vlan',\n",
    "    'switchport nonegotiate', 'spanning-tree portfast',\n",
    "    'spanning-tree bpduguard enable'\n",
    "]\n",
    "\n",
    "to_yaml = {\n",
    "    'folderId': '45fsd4548sdd45',\n",
    "    'name': 'test-from-client',\n",
    "    'description': 'testing',\n",
    "    'zoneId': 'ru-central1-c',\n",
    "    'platformId': 'standard-v2',\n",
    "    'resourcesSpec': {\n",
    "        'memory': 2147483648,\n",
    "        'cores': 2,\n",
    "        'coreFraction': 50,\n",
    "    },\n",
    "    'metadata': {\n",
    "        'serial-port-enable': '1',\n",
    "        'user-data': '|',\n",
    "    },\n",
    "    'bootDiskSpec': {\n",
    "        'diskSpec': {\n",
    "            'typeId': 'network-hdd',\n",
    "            'size': 10737418240,\n",
    "            'imageId': 'fd8veme9fg6pbg5ost48',\n",
    "        },\n",
    "    },\n",
    "    'networkInterfaceSpecs': [{\n",
    "        'subnetId': 'gdf45554546dsg64',\n",
    "        'primaryV4AddressSpec': {\n",
    "            'address': '10.10.0.10',\n",
    "            'oneToOneNatSpec': {\n",
    "                'address': '84.XX.XX.XX',\n",
    "            },\n",
    "        },\n",
    "    }],\n",
    "    'schedulingPolicy': {\n",
    "        'preemptible': 'false',\n",
    "    },\n",
    "}\n",
    "\n",
    "with open('sw_templates.yaml', 'w') as f:\n",
    "    yaml.dump(to_yaml, f, default_flow_style=False)"
   ],
   "metadata": {
    "collapsed": false,
    "pycharm": {
     "name": "#%%\n"
    }
   }
  },
  {
   "cell_type": "code",
   "execution_count": 9,
   "outputs": [
    {
     "name": "stdout",
     "output_type": "stream",
     "text": [
      "{'bootDiskSpec': {'diskSpec': {'imageId': 'fd8veme9fg6pbg5ost48', 'size': 10737418240, 'typeId': 'network-hdd'}}, 'description': 'testing', 'folderId': 'dd877sgg7ahh', 'metadata': {'serial-port-enable': '1', 'user-data': '#cloud-config\\nusers:\\n- name: your-username\\n  sudo: ALL=(ALL) NOPASSWD:ALL\\n  shell: /bin/bash\\n  ssh-authorized-keys:\\n    - ssh-rsa AAAA....\\n'}, 'name': 'test-from-client', 'networkInterfaceSpecs': [{'primaryV4AddressSpec': {'address': '10.10.0.10', 'oneToOneNatSpec': {'address': '84.XX.XX.XX'}}, 'subnetId': 'your-subnet-id'}], 'platformId': 'standard-v2', 'resourcesSpec': {'coreFraction': 50, 'cores': 2, 'memory': 2147483648}, 'schedulingPolicy': {'preemptible': False}, 'zoneId': 'ru-central1-c'}\n"
     ]
    }
   ],
   "source": [
    "with open('instance_spec_example.yaml') as f:\n",
    "    documents = yaml.full_load(f)\n",
    "print(documents)\n"
   ],
   "metadata": {
    "collapsed": false,
    "pycharm": {
     "name": "#%%\n"
    }
   }
  },
  {
   "cell_type": "code",
   "execution_count": 8,
   "outputs": [],
   "source": [
    "documents['folderId'] = 'dd877sgg7ahh'\n",
    "with open('instance_spec_example.yaml', 'w') as f:\n",
    "    yaml.dump(documents, f, default_flow_style=False)"
   ],
   "metadata": {
    "collapsed": false,
    "pycharm": {
     "name": "#%%\n"
    }
   }
  },
  {
   "cell_type": "code",
   "execution_count": null,
   "outputs": [],
   "source": [],
   "metadata": {
    "collapsed": false,
    "pycharm": {
     "name": "#%%\n"
    }
   }
  },
  {
   "cell_type": "code",
   "execution_count": null,
   "outputs": [],
   "source": [],
   "metadata": {
    "collapsed": false,
    "pycharm": {
     "name": "#%%\n"
    }
   }
  },
  {
   "cell_type": "code",
   "execution_count": null,
   "outputs": [],
   "source": [],
   "metadata": {
    "collapsed": false,
    "pycharm": {
     "name": "#%%\n"
    }
   }
  },
  {
   "cell_type": "code",
   "execution_count": null,
   "outputs": [],
   "source": [],
   "metadata": {
    "collapsed": false,
    "pycharm": {
     "name": "#%%\n"
    }
   }
  },
  {
   "cell_type": "code",
   "execution_count": 1,
   "metadata": {
    "collapsed": true,
    "pycharm": {
     "name": "#%%\n"
    }
   },
   "outputs": [],
   "source": [
    "from yandex_cloud_client import ComputeClient, Instance\n",
    "from pprint import pprint\n",
    "import pandas as pd\n",
    "import yandex_cloud_client as ycc"
   ]
  },
  {
   "cell_type": "code",
   "execution_count": 2,
   "outputs": [],
   "source": [
    "# compute = ComputeClient(oauth_token='AQAAAAAZgw4sAATuwYVtsXTvX0Rivzzt8VMx3uw')\n",
    "compute = ComputeClient(oauth_token='AQAAAABaYBf5AATuwaA79ZYLMUPxvTrhPZ7w23c')"
   ],
   "metadata": {
    "collapsed": false,
    "pycharm": {
     "name": "#%%\n"
    }
   }
  },
  {
   "cell_type": "code",
   "execution_count": 3,
   "outputs": [
    {
     "data": {
      "text/plain": "('b1gh99bjjg7p3vn2arer',\n 'b1gq0rkg62avu3loh7ab',\n [{'id': 'fhm0v4qjsvu59pkgn0d1', 'folder_id': 'b1gq0rkg62avu3loh7ab', 'created_at': datetime.datetime(2021, 10, 11, 18, 45, 10), 'name': 'bee4', 'description': None, 'labels': {}, 'zone_id': 'ru-central1-a', 'platform_id': 'standard-v3', 'resources': {'memory': 4294967296, 'cores': 4, 'core_fraction': 20, 'gpus': None}, 'status': 'STOPPED', 'metadata': None, 'boot_disk': {'id': 'fhm805aa38q31f6khosm', 'disk_id': 'fhm805aa38q31f6khosm', 'folder_id': 'b1gq0rkg62avu3loh7ab', 'attached_to': 'fhm0v4qjsvu59pkgn0d1', 'mode': 'READ_WRITE', 'device_name': 'fhm805aa38q31f6khosm', 'auto_delete': True}, 'secondary_disks': [], 'network_interfaces': [{'index': '0', 'mac_address': 'd0:0d:f9:35:3e:7f', 'subnet_id': 'e9be0thico77frfcd5ut', 'primary_v4_address': {'address': '10.130.0.41', 'one_to_one_nat': {'address': None, 'ip_version': 'IPV4'}}, 'primary_v6_address': None}], 'fqdn': 'bee4.ru-central1.internal', 'scheduling_policy': {'preemptible': True}, 'service_account_id': None, 'network_settings': {'type': 'STANDARD'}},\n  {'id': 'fhmlvf1v40lp0pgnah3d', 'folder_id': 'b1gq0rkg62avu3loh7ab', 'created_at': datetime.datetime(2022, 1, 20, 21, 44, 3), 'name': 'cabinet', 'description': None, 'labels': {}, 'zone_id': 'ru-central1-a', 'platform_id': 'standard-v3', 'resources': {'memory': 4294967296, 'cores': 2, 'core_fraction': 20, 'gpus': None}, 'status': 'STOPPED', 'metadata': None, 'boot_disk': {'id': 'fhmp6f3b8njm5cnjesq6', 'disk_id': 'fhmp6f3b8njm5cnjesq6', 'folder_id': 'b1gq0rkg62avu3loh7ab', 'attached_to': 'fhmlvf1v40lp0pgnah3d', 'mode': 'READ_WRITE', 'device_name': 'fhmp6f3b8njm5cnjesq6', 'auto_delete': True}, 'secondary_disks': [], 'network_interfaces': [{'index': '0', 'mac_address': 'd0:0d:15:fb:c3:f2', 'subnet_id': 'e9be0thico77frfcd5ut', 'primary_v4_address': {'address': '10.130.0.37', 'one_to_one_nat': {'address': '84.201.187.178', 'ip_version': 'IPV4'}}, 'primary_v6_address': None}], 'fqdn': 'cabinet.ru-central1.internal', 'scheduling_policy': {'preemptible': False}, 'service_account_id': None, 'network_settings': {'type': 'STANDARD'}},\n  {'id': 'fhmmqejq9vlp9qhtdls6', 'folder_id': 'b1gq0rkg62avu3loh7ab', 'created_at': datetime.datetime(2021, 11, 3, 22, 42, 27), 'name': 'noda', 'description': None, 'labels': {}, 'zone_id': 'ru-central1-a', 'platform_id': 'standard-v3', 'resources': {'memory': 4294967296, 'cores': 2, 'core_fraction': 100, 'gpus': None}, 'status': 'STOPPED', 'metadata': None, 'boot_disk': {'id': 'fhmh2qp8u3i081m5tc15', 'disk_id': 'fhmh2qp8u3i081m5tc15', 'folder_id': 'b1gq0rkg62avu3loh7ab', 'attached_to': 'fhmmqejq9vlp9qhtdls6', 'mode': 'READ_WRITE', 'device_name': 'fhmh2qp8u3i081m5tc15', 'auto_delete': True}, 'secondary_disks': [], 'network_interfaces': [{'index': '0', 'mac_address': 'd0:0d:16:d3:a7:a4', 'subnet_id': 'e9be0thico77frfcd5ut', 'primary_v4_address': {'address': '10.130.0.24', 'one_to_one_nat': {'address': None, 'ip_version': 'IPV4'}}, 'primary_v6_address': None}], 'fqdn': 'noda.ru-central1.internal', 'scheduling_policy': {'preemptible': False}, 'service_account_id': 'aje1ffpef686b1e3bh22', 'network_settings': {'type': 'STANDARD'}},\n  {'id': 'fhmo3230a20b3egjqjdp', 'folder_id': 'b1gq0rkg62avu3loh7ab', 'created_at': datetime.datetime(2021, 5, 8, 19, 22, 3), 'name': 'openvpn', 'description': None, 'labels': {}, 'zone_id': 'ru-central1-a', 'platform_id': 'standard-v2', 'resources': {'memory': 1073741824, 'cores': 2, 'core_fraction': 20, 'gpus': None}, 'status': 'RUNNING', 'metadata': None, 'boot_disk': {'id': 'fhmj9aej79atrmqs1oho', 'disk_id': 'fhmj9aej79atrmqs1oho', 'folder_id': 'b1gq0rkg62avu3loh7ab', 'attached_to': 'fhmo3230a20b3egjqjdp', 'mode': 'READ_WRITE', 'device_name': 'fhmj9aej79atrmqs1oho', 'auto_delete': True}, 'secondary_disks': [], 'network_interfaces': [{'index': '0', 'mac_address': 'd0:0d:18:18:86:05', 'subnet_id': 'e9be0thico77frfcd5ut', 'primary_v4_address': {'address': '10.130.0.5', 'one_to_one_nat': {'address': '178.154.224.41', 'ip_version': 'IPV4'}}, 'primary_v6_address': None}], 'fqdn': 'openvpn.ru-central1.internal', 'scheduling_policy': {'preemptible': False}, 'service_account_id': 'aje1ffpef686b1e3bh22', 'network_settings': {'type': 'STANDARD'}},\n  {'id': 'fhmr4ho6660bq1aslkv3', 'folder_id': 'b1gq0rkg62avu3loh7ab', 'created_at': datetime.datetime(2021, 10, 11, 18, 2, 5), 'name': 'bee2', 'description': None, 'labels': {}, 'zone_id': 'ru-central1-a', 'platform_id': 'standard-v3', 'resources': {'memory': 4294967296, 'cores': 4, 'core_fraction': 50, 'gpus': None}, 'status': 'STOPPED', 'metadata': None, 'boot_disk': {'id': 'fhmhdoeq1tsvh6msvept', 'disk_id': 'fhmhdoeq1tsvh6msvept', 'folder_id': 'b1gq0rkg62avu3loh7ab', 'attached_to': 'fhmr4ho6660bq1aslkv3', 'mode': 'READ_WRITE', 'device_name': 'fhmhdoeq1tsvh6msvept', 'auto_delete': True}, 'secondary_disks': [], 'network_interfaces': [{'index': '0', 'mac_address': 'd0:0d:1b:24:70:63', 'subnet_id': 'e9be0thico77frfcd5ut', 'primary_v4_address': {'address': '10.130.0.36', 'one_to_one_nat': {'address': None, 'ip_version': 'IPV4'}}, 'primary_v6_address': None}], 'fqdn': 'bee2.ru-central1.internal', 'scheduling_policy': {'preemptible': True}, 'service_account_id': None, 'network_settings': {'type': 'STANDARD'}},\n  {'id': 'fhmrvh9gs4p9nujf27s5', 'folder_id': 'b1gq0rkg62avu3loh7ab', 'created_at': datetime.datetime(2020, 12, 28, 8, 10, 8), 'name': 'vm', 'description': None, 'labels': {}, 'zone_id': 'ru-central1-a', 'platform_id': 'standard-v2', 'resources': {'memory': 4294967296, 'cores': 4, 'core_fraction': 100, 'gpus': None}, 'status': 'RUNNING', 'metadata': None, 'boot_disk': {'id': 'fhm2v3o2legb0ng0nqn2', 'disk_id': 'fhm2v3o2legb0ng0nqn2', 'folder_id': 'b1gq0rkg62avu3loh7ab', 'attached_to': 'fhmrvh9gs4p9nujf27s5', 'mode': 'READ_WRITE', 'device_name': 'fhm2v3o2legb0ng0nqn2', 'auto_delete': True}, 'secondary_disks': [], 'network_interfaces': [{'index': '0', 'mac_address': 'd0:0d:1b:fc:53:0e', 'subnet_id': 'e9be0thico77frfcd5ut', 'primary_v4_address': {'address': '10.130.0.13', 'one_to_one_nat': {'address': '178.154.254.194', 'ip_version': 'IPV4'}}, 'primary_v6_address': None}], 'fqdn': 'vm.ru-central1.internal', 'scheduling_policy': {'preemptible': False}, 'service_account_id': 'aje1ffpef686b1e3bh22', 'network_settings': {'type': 'STANDARD'}},\n  {'id': 'fhmsc0ievkti0kj691nj', 'folder_id': 'b1gq0rkg62avu3loh7ab', 'created_at': datetime.datetime(2021, 10, 11, 18, 19, 18), 'name': 'bee3', 'description': None, 'labels': {}, 'zone_id': 'ru-central1-a', 'platform_id': 'standard-v3', 'resources': {'memory': 4294967296, 'cores': 4, 'core_fraction': 20, 'gpus': None}, 'status': 'STOPPED', 'metadata': None, 'boot_disk': {'id': 'fhm7kpee7fmmg2dq5tlk', 'disk_id': 'fhm7kpee7fmmg2dq5tlk', 'folder_id': 'b1gq0rkg62avu3loh7ab', 'attached_to': 'fhmsc0ievkti0kj691nj', 'mode': 'READ_WRITE', 'device_name': 'fhm7kpee7fmmg2dq5tlk', 'auto_delete': True}, 'secondary_disks': [], 'network_interfaces': [{'index': '0', 'mac_address': 'd0:0d:1c:60:24:ef', 'subnet_id': 'e9be0thico77frfcd5ut', 'primary_v4_address': {'address': '10.130.0.38', 'one_to_one_nat': {'address': None, 'ip_version': 'IPV4'}}, 'primary_v6_address': None}], 'fqdn': 'bee3.ru-central1.internal', 'scheduling_policy': {'preemptible': True}, 'service_account_id': None, 'network_settings': {'type': 'STANDARD'}},\n  {'id': 'fhmtpb6kl327noh0fero', 'folder_id': 'b1gq0rkg62avu3loh7ab', 'created_at': datetime.datetime(2021, 4, 29, 9, 3, 33), 'name': 'bee1', 'description': None, 'labels': {}, 'zone_id': 'ru-central1-a', 'platform_id': 'standard-v2', 'resources': {'memory': 4294967296, 'cores': 4, 'core_fraction': 20, 'gpus': None}, 'status': 'STOPPED', 'metadata': None, 'boot_disk': {'id': 'fhm82r01r6qmilttdhpf', 'disk_id': 'fhm82r01r6qmilttdhpf', 'folder_id': 'b1gq0rkg62avu3loh7ab', 'attached_to': 'fhmtpb6kl327noh0fero', 'mode': 'READ_WRITE', 'device_name': 'fhm82r01r6qmilttdhpf', 'auto_delete': True}, 'secondary_disks': [], 'network_interfaces': [{'index': '0', 'mac_address': 'd0:0d:1d:ca:cd:4a', 'subnet_id': 'e9be0thico77frfcd5ut', 'primary_v4_address': {'address': '10.130.0.22', 'one_to_one_nat': {'address': None, 'ip_version': 'IPV4'}}, 'primary_v6_address': None}], 'fqdn': 'bee1.ru-central1.internal', 'scheduling_policy': {'preemptible': True}, 'service_account_id': 'aje1ffpef686b1e3bh22', 'network_settings': {'type': 'STANDARD'}},\n  {'id': 'fhmvbkpsnu8knk9bto8l', 'folder_id': 'b1gq0rkg62avu3loh7ab', 'created_at': datetime.datetime(2021, 9, 29, 21, 3, 48), 'name': 'ad', 'description': None, 'labels': {}, 'zone_id': 'ru-central1-a', 'platform_id': 'standard-v3', 'resources': {'memory': 4294967296, 'cores': 4, 'core_fraction': 50, 'gpus': None}, 'status': 'RUNNING', 'metadata': None, 'boot_disk': {'id': 'fhm55pbf2fjnk367odrd', 'disk_id': 'fhm55pbf2fjnk367odrd', 'folder_id': 'b1gq0rkg62avu3loh7ab', 'attached_to': 'fhmvbkpsnu8knk9bto8l', 'mode': 'READ_WRITE', 'device_name': 'fhm55pbf2fjnk367odrd', 'auto_delete': True}, 'secondary_disks': [], 'network_interfaces': [{'index': '0', 'mac_address': 'd0:0d:1f:5d:33:cb', 'subnet_id': 'e9be0thico77frfcd5ut', 'primary_v4_address': {'address': '10.130.0.39', 'one_to_one_nat': {'address': '62.84.114.110', 'ip_version': 'IPV4'}}, 'primary_v6_address': None}], 'fqdn': 'ad.ru-central1.internal', 'scheduling_policy': {'preemptible': False}, 'service_account_id': 'aje1ffpef686b1e3bh22', 'network_settings': {'type': 'STANDARD'}}])"
     },
     "execution_count": 3,
     "metadata": {},
     "output_type": "execute_result"
    }
   ],
   "source": [
    "cloud_id = compute.available_clouds()[0]['id']\n",
    "folder_id = compute.folders_in_cloud(cloud_id)[0]['id']\n",
    "instances = compute.instances_in_folder(folder_id)\n",
    "cloud_id, folder_id, instances"
   ],
   "metadata": {
    "collapsed": false,
    "pycharm": {
     "name": "#%%\n"
    }
   }
  },
  {
   "cell_type": "code",
   "execution_count": 4,
   "outputs": [
    {
     "data": {
      "text/plain": "[{'id': 'b1gh99bjjg7p3vn2arer', 'created_at': datetime.datetime(2020, 5, 18, 21, 48, 38), 'name': 'cloud-v-grandru', 'description': None}]"
     },
     "execution_count": 4,
     "metadata": {},
     "output_type": "execute_result"
    }
   ],
   "source": [
    "compute.available_clouds()"
   ],
   "metadata": {
    "collapsed": false,
    "pycharm": {
     "name": "#%%\n"
    }
   }
  },
  {
   "cell_type": "code",
   "execution_count": null,
   "outputs": [],
   "source": [],
   "metadata": {
    "collapsed": false,
    "pycharm": {
     "name": "#%%\n"
    }
   }
  },
  {
   "cell_type": "code",
   "execution_count": null,
   "outputs": [],
   "source": [],
   "metadata": {
    "collapsed": false,
    "pycharm": {
     "name": "#%%\n"
    }
   }
  },
  {
   "cell_type": "code",
   "execution_count": 3,
   "outputs": [
    {
     "data": {
      "text/plain": "[{'id': 'b1gh99bjjg7p3vn2arer', 'created_at': datetime.datetime(2020, 5, 18, 21, 48, 38), 'name': 'cloud-v-grandru', 'description': None}]"
     },
     "execution_count": 3,
     "metadata": {},
     "output_type": "execute_result"
    }
   ],
   "source": [
    "compute.available_clouds()"
   ],
   "metadata": {
    "collapsed": false,
    "pycharm": {
     "name": "#%%\n"
    }
   }
  },
  {
   "cell_type": "code",
   "execution_count": 4,
   "outputs": [],
   "source": [
    "dsk = compute.disk('fhm805aa38q31f6khosm')"
   ],
   "metadata": {
    "collapsed": false,
    "pycharm": {
     "name": "#%%\n"
    }
   }
  },
  {
   "cell_type": "code",
   "execution_count": null,
   "outputs": [],
   "source": [
    "dsk.delete()"
   ],
   "metadata": {
    "collapsed": false,
    "pycharm": {
     "name": "#%%\n"
    }
   }
  },
  {
   "cell_type": "code",
   "execution_count": 45,
   "outputs": [
    {
     "data": {
      "text/plain": "13.0"
     },
     "execution_count": 45,
     "metadata": {},
     "output_type": "execute_result"
    }
   ],
   "source": [
    "dsk.size / 1073741824"
   ],
   "metadata": {
    "collapsed": false,
    "pycharm": {
     "name": "#%%\n"
    }
   }
  },
  {
   "cell_type": "code",
   "execution_count": 14,
   "outputs": [
    {
     "name": "stdout",
     "output_type": "stream",
     "text": [
      "{'id': 'fhm805aa38q31f6khosm', 'folder_id': 'b1gq0rkg62avu3loh7ab', 'created_at': datetime.datetime(2021, 10, 11, 18, 45, 15), 'name': 'disk-1633977873826', 'description': None, 'labels': {}, 'type_id': 'network-hdd', 'zone_id': 'ru-central1-a', 'size': 13958643712, 'product_ids': ['f2eil5udr0p4k13o7qc9'], 'status': 'READY', 'instance_ids': ['fhm0v4qjsvu59pkgn0d1'], 'source_image_id': 'fd81fjsm21c08qu3b13c', 'source_snapshot_id': None}\n"
     ]
    }
   ],
   "source": [
    "pprint(dsk)"
   ],
   "metadata": {
    "collapsed": false,
    "pycharm": {
     "name": "#%%\n"
    }
   }
  },
  {
   "cell_type": "code",
   "execution_count": 66,
   "outputs": [],
   "source": [
    "cld = compute.cloud('b1gh99bjjg7p3vn2arer')"
   ],
   "metadata": {
    "collapsed": false,
    "pycharm": {
     "name": "#%%\n"
    }
   }
  },
  {
   "cell_type": "code",
   "execution_count": 47,
   "outputs": [
    {
     "data": {
      "text/plain": "[{'id': 'b1gq0rkg62avu3loh7ab', 'cloud_id': 'b1gh99bjjg7p3vn2arer', 'created_at': datetime.datetime(2020, 5, 18, 21, 48, 38), 'name': 'default', 'description': None, 'labels': None, 'status': 'ACTIVE'}]"
     },
     "execution_count": 47,
     "metadata": {},
     "output_type": "execute_result"
    }
   ],
   "source": [
    "compute.folders_in_cloud('b1gh99bjjg7p3vn2arer')"
   ],
   "metadata": {
    "collapsed": false,
    "pycharm": {
     "name": "#%%\n"
    }
   }
  },
  {
   "cell_type": "code",
   "execution_count": 5,
   "outputs": [
    {
     "data": {
      "text/plain": "'b1gq0rkg62avu3loh7ab'"
     },
     "execution_count": 5,
     "metadata": {},
     "output_type": "execute_result"
    }
   ],
   "source": [
    "cloud_id = compute.available_clouds()[0]['id']\n",
    "folder_id = compute.folders_in_cloud(cloud_id)[0]['id']\n",
    "folder_id"
   ],
   "metadata": {
    "collapsed": false,
    "pycharm": {
     "name": "#%%\n"
    }
   }
  },
  {
   "cell_type": "code",
   "execution_count": 52,
   "outputs": [
    {
     "name": "stdout",
     "output_type": "stream",
     "text": [
      "{'bootDiskSpec': {'diskSpec': {'imageId': 'fd81fjsm21c08qu3b13c', 'size': 21474836480, 'typeId': 'network-hdd'}}, 'description': 'testing', 'folderId': 'b1gq0rkg62avu3loh7ab', 'metadata': {'serial-port-enable': '1'}, 'name': 'test-from-client', 'networkInterfaceSpecs': [{'primaryV4AddressSpec': {'address': '', 'oneToOneNatSpec': {'address': '', 'ipVersion': 'IPV4'}}, 'subnetId': 'e9be0thico77frfcd5ut'}], 'platformId': 'standard-v3', 'resourcesSpec': {'coreFraction': 50, 'cores': 2, 'memory': 2147483648}, 'schedulingPolicy': {'preemptible': True}, 'zoneId': 'ru-central1-a'}\n"
     ]
    }
   ],
   "source": [
    "with open('instance_spec_example.yaml') as f:\n",
    "    documents = yaml.full_load(f)\n",
    "print(documents)"
   ],
   "metadata": {
    "collapsed": false,
    "pycharm": {
     "name": "#%%\n"
    }
   }
  },
  {
   "cell_type": "code",
   "execution_count": 53,
   "outputs": [],
   "source": [
    "documents['folderId'] = folder_id\n",
    "documents['bootDiskSpec']['diskSpec']['size'] = 1073741824 * 20\n",
    "documents['platformId'] = 'standard-v3'\n",
    "documents['networkInterfaceSpecs'][0]['subnetId'] = 'e9be0thico77frfcd5ut'\n",
    "documents['schedulingPolicy']['preemptible'] = True\n",
    "documents['zoneId'] = 'ru-central1-a'"
   ],
   "metadata": {
    "collapsed": false,
    "pycharm": {
     "name": "#%%\n"
    }
   }
  },
  {
   "cell_type": "code",
   "execution_count": 68,
   "outputs": [
    {
     "data": {
      "text/plain": "2147483648"
     },
     "execution_count": 68,
     "metadata": {},
     "output_type": "execute_result"
    }
   ],
   "source": [
    "documents['resourcesSpec']['memory']"
   ],
   "metadata": {
    "collapsed": false,
    "pycharm": {
     "name": "#%%\n"
    }
   }
  },
  {
   "cell_type": "code",
   "execution_count": 54,
   "outputs": [],
   "source": [
    "with open('instance_spec_example.yaml', 'w') as f:\n",
    "    yaml.dump(documents, f, default_flow_style=False)"
   ],
   "metadata": {
    "collapsed": false,
    "pycharm": {
     "name": "#%%\n"
    }
   }
  },
  {
   "cell_type": "code",
   "execution_count": 55,
   "outputs": [],
   "source": [
    "yaml_spec = 'instance_spec_example.yaml'\n",
    "create_operation = compute.create_instance(yaml_spec)"
   ],
   "metadata": {
    "collapsed": false,
    "pycharm": {
     "name": "#%%\n"
    }
   }
  },
  {
   "cell_type": "code",
   "execution_count": 61,
   "outputs": [],
   "source": [
    "create_operation1 = compute.delete_instance('fhmqqj149ofe95mjkelr')"
   ],
   "metadata": {
    "collapsed": false,
    "pycharm": {
     "name": "#%%\n"
    }
   }
  },
  {
   "cell_type": "code",
   "execution_count": 27,
   "outputs": [
    {
     "data": {
      "text/plain": "False"
     },
     "execution_count": 27,
     "metadata": {},
     "output_type": "execute_result"
    }
   ],
   "source": [
    "documents['schedulingPolicy']['preemptible']"
   ],
   "metadata": {
    "collapsed": false,
    "pycharm": {
     "name": "#%%\n"
    }
   }
  },
  {
   "cell_type": "code",
   "execution_count": 6,
   "outputs": [],
   "source": [
    "ls = compute.instances_in_folder('b1gq0rkg62avu3loh7ab')"
   ],
   "metadata": {
    "collapsed": false,
    "pycharm": {
     "name": "#%%\n"
    }
   }
  },
  {
   "cell_type": "code",
   "execution_count": 7,
   "outputs": [
    {
     "data": {
      "text/plain": "{'id': 'fhmp09b3mcsobjleg7vb', 'folder_id': 'b1gq0rkg62avu3loh7ab', 'created_at': datetime.datetime(2021, 11, 29, 10, 10, 35), 'name': 'test1', 'description': 'testing', 'labels': {}, 'zone_id': 'ru-central1-a', 'platform_id': 'standard-v2', 'resources': {'memory': 2147483648, 'cores': 2, 'core_fraction': 20, 'gpus': None}, 'status': 'RUNNING', 'metadata': None, 'boot_disk': {'id': 'fhmisg1ks3gg7ns7e09k', 'disk_id': 'fhmisg1ks3gg7ns7e09k', 'folder_id': 'b1gq0rkg62avu3loh7ab', 'attached_to': 'fhmp09b3mcsobjleg7vb', 'mode': 'READ_WRITE', 'device_name': 'fhmisg1ks3gg7ns7e09k', 'auto_delete': False}, 'secondary_disks': [], 'network_interfaces': [{'index': '0', 'mac_address': 'd0:0d:19:02:56:3b', 'subnet_id': 'e9be0thico77frfcd5ut', 'primary_v4_address': {'address': '10.130.0.18', 'one_to_one_nat': {'address': '51.250.4.48', 'ip_version': 'IPV4'}}, 'primary_v6_address': None}], 'fqdn': 'fhmp09b3mcsobjleg7vb.auto.internal', 'scheduling_policy': {'preemptible': True}, 'service_account_id': None, 'network_settings': {'type': 'STANDARD'}}"
     },
     "execution_count": 7,
     "metadata": {},
     "output_type": "execute_result"
    }
   ],
   "source": [
    "ls[3]"
   ],
   "metadata": {
    "collapsed": false,
    "pycharm": {
     "name": "#%%\n"
    }
   }
  },
  {
   "cell_type": "code",
   "execution_count": 9,
   "outputs": [
    {
     "data": {
      "text/plain": "'fhmisg1ks3gg7ns7e09k'"
     },
     "execution_count": 9,
     "metadata": {},
     "output_type": "execute_result"
    }
   ],
   "source": [
    "ls[3]['boot_disk']['disk_id']"
   ],
   "metadata": {
    "collapsed": false,
    "pycharm": {
     "name": "#%%\n"
    }
   }
  },
  {
   "cell_type": "code",
   "execution_count": 21,
   "outputs": [
    {
     "data": {
      "text/plain": "{'id': 'fhm805aa38q31f6khosm', 'folder_id': 'b1gq0rkg62avu3loh7ab', 'created_at': datetime.datetime(2021, 10, 11, 18, 45, 15), 'name': 'disk-1633977873826', 'description': None, 'labels': {}, 'type_id': 'network-hdd', 'zone_id': 'ru-central1-a', 'size': 13958643712, 'product_ids': ['f2eil5udr0p4k13o7qc9'], 'status': 'READY', 'instance_ids': ['fhm0v4qjsvu59pkgn0d1'], 'source_image_id': 'fd81fjsm21c08qu3b13c', 'source_snapshot_id': None}"
     },
     "execution_count": 21,
     "metadata": {},
     "output_type": "execute_result"
    }
   ],
   "source": [
    "compute.disk('fhm805aa38q31f6khosm')"
   ],
   "metadata": {
    "collapsed": false,
    "pycharm": {
     "name": "#%%\n"
    }
   }
  },
  {
   "cell_type": "code",
   "execution_count": 48,
   "outputs": [
    {
     "data": {
      "text/plain": "13958643712"
     },
     "execution_count": 48,
     "metadata": {},
     "output_type": "execute_result"
    }
   ],
   "source": [
    "compute.disk(ls[0].boot_disk.disk_id).size"
   ],
   "metadata": {
    "collapsed": false,
    "pycharm": {
     "name": "#%%\n"
    }
   }
  },
  {
   "cell_type": "code",
   "execution_count": 6,
   "outputs": [
    {
     "data": {
      "text/plain": "['bee4', 'noda', 'openvpn', 'bee2', 'vm', 'bee3', 'bee1', 'ad']"
     },
     "execution_count": 6,
     "metadata": {},
     "output_type": "execute_result"
    }
   ],
   "source": [
    "[ins.name for ins in ls]"
   ],
   "metadata": {
    "collapsed": false,
    "pycharm": {
     "name": "#%%\n"
    }
   }
  },
  {
   "cell_type": "code",
   "execution_count": 17,
   "outputs": [
    {
     "data": {
      "text/plain": "{'id': 'fhm805aa38q31f6khosm', 'disk_id': 'fhm805aa38q31f6khosm', 'folder_id': None, 'attached_to': None, 'mode': None, 'device_name': None, 'auto_delete': None}"
     },
     "execution_count": 17,
     "metadata": {},
     "output_type": "execute_result"
    }
   ],
   "source": [
    "from yandex_cloud_client.client import"
   ],
   "metadata": {
    "collapsed": false,
    "pycharm": {
     "name": "#%%\n"
    }
   }
  },
  {
   "cell_type": "code",
   "execution_count": 54,
   "outputs": [
    {
     "data": {
      "text/plain": "'STOPPED'"
     },
     "execution_count": 54,
     "metadata": {},
     "output_type": "execute_result"
    }
   ],
   "source": [
    "instance = compute.instance('fhm0v4qjsvu59pkgn0d1', metadata=True)\n",
    "instance.to_dict()\n",
    "instance.de"
   ],
   "metadata": {
    "collapsed": false,
    "pycharm": {
     "name": "#%%\n"
    }
   }
  },
  {
   "cell_type": "code",
   "execution_count": 24,
   "outputs": [
    {
     "data": {
      "text/plain": "'4 GB'"
     },
     "execution_count": 24,
     "metadata": {},
     "output_type": "execute_result"
    }
   ],
   "source": [
    "instance.resources.human_readable_memory"
   ],
   "metadata": {
    "collapsed": false,
    "pycharm": {
     "name": "#%%\n"
    }
   }
  },
  {
   "cell_type": "code",
   "execution_count": 12,
   "outputs": [
    {
     "name": "stdout",
     "output_type": "stream",
     "text": [
      "{'boot_disk': {'attached_to': 'fhm0v4qjsvu59pkgn0d1',\n",
      "               'auto_delete': True,\n",
      "               'device_name': 'fhm805aa38q31f6khosm',\n",
      "               'disk_id': 'fhm805aa38q31f6khosm',\n",
      "               'folder_id': 'b1gq0rkg62avu3loh7ab',\n",
      "               'id': 'fhm805aa38q31f6khosm',\n",
      "               'mode': 'READ_WRITE'},\n",
      " 'created_at': datetime.datetime(2021, 10, 11, 18, 45, 10),\n",
      " 'description': None,\n",
      " 'folder_id': 'b1gq0rkg62avu3loh7ab',\n",
      " 'fqdn': 'bee4.ru-central1.internal',\n",
      " 'id': 'fhm0v4qjsvu59pkgn0d1',\n",
      " 'labels': {},\n",
      " 'metadata': None,\n",
      " 'name': 'bee4',\n",
      " 'network_interfaces': [{'index': '0',\n",
      "                         'mac_address': 'd0:0d:f9:35:3e:7f',\n",
      "                         'primary_v4_address': {'address': '10.130.0.41',\n",
      "                                                'one_to_one_nat': {'address': None,\n",
      "                                                                   'ip_version': 'IPV4'}},\n",
      "                         'primary_v6_address': None,\n",
      "                         'subnet_id': 'e9be0thico77frfcd5ut'}],\n",
      " 'network_settings': {'type': 'STANDARD'},\n",
      " 'platform_id': 'standard-v3',\n",
      " 'resources': {'core_fraction': 20,\n",
      "               'cores': 4,\n",
      "               'gpus': None,\n",
      "               'memory': 4294967296},\n",
      " 'scheduling_policy': {'preemptible': True},\n",
      " 'secondary_disks': [],\n",
      " 'service_account_id': None,\n",
      " 'status': 'STOPPED',\n",
      " 'zone_id': 'ru-central1-a'}\n"
     ]
    }
   ],
   "source": [
    "pprint(ls[0].to_dict())"
   ],
   "metadata": {
    "collapsed": false,
    "pycharm": {
     "name": "#%%\n"
    }
   }
  },
  {
   "cell_type": "code",
   "execution_count": 77,
   "outputs": [],
   "source": [
    "ls[0].network_interfaces[0].primary_v4_address.one_to_one_nat.address"
   ],
   "metadata": {
    "collapsed": false,
    "pycharm": {
     "name": "#%%\n"
    }
   }
  },
  {
   "cell_type": "code",
   "execution_count": 82,
   "outputs": [
    {
     "data": {
      "text/plain": "list"
     },
     "execution_count": 82,
     "metadata": {},
     "output_type": "execute_result"
    }
   ],
   "source": [
    "ls[0].network_interfaces."
   ],
   "metadata": {
    "collapsed": false,
    "pycharm": {
     "name": "#%%\n"
    }
   }
  },
  {
   "cell_type": "code",
   "execution_count": 83,
   "outputs": [
    {
     "ename": "AttributeError",
     "evalue": "'list' object has no attribute 'slice'",
     "output_type": "error",
     "traceback": [
      "\u001B[1;31m---------------------------------------------------------------------------\u001B[0m",
      "\u001B[1;31mAttributeError\u001B[0m                            Traceback (most recent call last)",
      "\u001B[1;32m~\\AppData\\Local\\Temp/ipykernel_12344/3518808933.py\u001B[0m in \u001B[0;36m<module>\u001B[1;34m\u001B[0m\n\u001B[0;32m      1\u001B[0m \u001B[0mx1\u001B[0m \u001B[1;33m=\u001B[0m \u001B[1;33m[\u001B[0m\u001B[1;36m1\u001B[0m\u001B[1;33m,\u001B[0m\u001B[1;36m2\u001B[0m\u001B[1;33m,\u001B[0m\u001B[1;36m3\u001B[0m\u001B[1;33m]\u001B[0m\u001B[1;33m\u001B[0m\u001B[1;33m\u001B[0m\u001B[0m\n\u001B[1;32m----> 2\u001B[1;33m \u001B[0mx1\u001B[0m\u001B[1;33m.\u001B[0m\u001B[0mslice\u001B[0m\u001B[1;33m(\u001B[0m\u001B[1;36m0\u001B[0m\u001B[1;33m,\u001B[0m\u001B[1;36m2\u001B[0m\u001B[1;33m)\u001B[0m\u001B[1;33m\u001B[0m\u001B[1;33m\u001B[0m\u001B[0m\n\u001B[0m",
      "\u001B[1;31mAttributeError\u001B[0m: 'list' object has no attribute 'slice'"
     ]
    }
   ],
   "source": [
    "x1 = [1, 2, 3]\n",
    "x1.slice(0, 2)"
   ],
   "metadata": {
    "collapsed": false,
    "pycharm": {
     "name": "#%%\n"
    }
   }
  },
  {
   "cell_type": "code",
   "execution_count": 63,
   "outputs": [],
   "source": [
    "ins = ycc.Instance('fhm0v4qjsvu59pkgn0d1')"
   ],
   "metadata": {
    "collapsed": false,
    "pycharm": {
     "name": "#%%\n"
    }
   }
  },
  {
   "cell_type": "code",
   "execution_count": 64,
   "outputs": [],
   "source": [
    "ins.metadata"
   ],
   "metadata": {
    "collapsed": false,
    "pycharm": {
     "name": "#%%\n"
    }
   }
  },
  {
   "cell_type": "code",
   "execution_count": 43,
   "outputs": [
    {
     "data": {
      "text/plain": "                     id             folder_id          created_at     name  \\\n0  fhm0v4qjsvu59pkgn0d1  b1gq0rkg62avu3loh7ab 2021-10-11 18:45:10     bee4   \n1  fhmmqejq9vlp9qhtdls6  b1gq0rkg62avu3loh7ab 2021-11-03 22:42:27     noda   \n2  fhmo3230a20b3egjqjdp  b1gq0rkg62avu3loh7ab 2021-05-08 19:22:03  openvpn   \n3  fhmr4ho6660bq1aslkv3  b1gq0rkg62avu3loh7ab 2021-10-11 18:02:05     bee2   \n4  fhmrvh9gs4p9nujf27s5  b1gq0rkg62avu3loh7ab 2020-12-28 08:10:08       vm   \n5  fhmsc0ievkti0kj691nj  b1gq0rkg62avu3loh7ab 2021-10-11 18:19:18     bee3   \n6  fhmtpb6kl327noh0fero  b1gq0rkg62avu3loh7ab 2021-04-29 09:03:33     bee1   \n7  fhmvbkpsnu8knk9bto8l  b1gq0rkg62avu3loh7ab 2021-09-29 21:03:48       ad   \n\n  description labels        zone_id  platform_id  \\\n0        None     {}  ru-central1-a  standard-v3   \n1        None     {}  ru-central1-a  standard-v3   \n2        None     {}  ru-central1-a  standard-v2   \n3        None     {}  ru-central1-a  standard-v3   \n4        None     {}  ru-central1-a  standard-v2   \n5        None     {}  ru-central1-a  standard-v3   \n6        None     {}  ru-central1-a  standard-v2   \n7        None     {}  ru-central1-a  standard-v3   \n\n                                           resources   status metadata  \\\n0  {'memory': 4294967296, 'cores': 4, 'core_fract...  STOPPED     None   \n1  {'memory': 4294967296, 'cores': 2, 'core_fract...  STOPPED     None   \n2  {'memory': 1073741824, 'cores': 2, 'core_fract...  RUNNING     None   \n3  {'memory': 4294967296, 'cores': 4, 'core_fract...  STOPPED     None   \n4  {'memory': 4294967296, 'cores': 4, 'core_fract...  RUNNING     None   \n5  {'memory': 4294967296, 'cores': 4, 'core_fract...  STOPPED     None   \n6  {'memory': 4294967296, 'cores': 4, 'core_fract...  STOPPED     None   \n7  {'memory': 4294967296, 'cores': 4, 'core_fract...  STOPPED     None   \n\n                                           boot_disk secondary_disks  \\\n0  {'id': 'fhm805aa38q31f6khosm', 'disk_id': 'fhm...              []   \n1  {'id': 'fhmh2qp8u3i081m5tc15', 'disk_id': 'fhm...              []   \n2  {'id': 'fhmj9aej79atrmqs1oho', 'disk_id': 'fhm...              []   \n3  {'id': 'fhmhdoeq1tsvh6msvept', 'disk_id': 'fhm...              []   \n4  {'id': 'fhm2v3o2legb0ng0nqn2', 'disk_id': 'fhm...              []   \n5  {'id': 'fhm7kpee7fmmg2dq5tlk', 'disk_id': 'fhm...              []   \n6  {'id': 'fhm82r01r6qmilttdhpf', 'disk_id': 'fhm...              []   \n7  {'id': 'fhm55pbf2fjnk367odrd', 'disk_id': 'fhm...              []   \n\n                                  network_interfaces  \\\n0  [{'index': '0', 'mac_address': 'd0:0d:f9:35:3e...   \n1  [{'index': '0', 'mac_address': 'd0:0d:16:d3:a7...   \n2  [{'index': '0', 'mac_address': 'd0:0d:18:18:86...   \n3  [{'index': '0', 'mac_address': 'd0:0d:1b:24:70...   \n4  [{'index': '0', 'mac_address': 'd0:0d:1b:fc:53...   \n5  [{'index': '0', 'mac_address': 'd0:0d:1c:60:24...   \n6  [{'index': '0', 'mac_address': 'd0:0d:1d:ca:cd...   \n7  [{'index': '0', 'mac_address': 'd0:0d:1f:5d:33...   \n\n                           fqdn       scheduling_policy    service_account_id  \\\n0     bee4.ru-central1.internal   {'preemptible': True}                  None   \n1     noda.ru-central1.internal  {'preemptible': False}  aje1ffpef686b1e3bh22   \n2  openvpn.ru-central1.internal  {'preemptible': False}  aje1ffpef686b1e3bh22   \n3     bee2.ru-central1.internal   {'preemptible': True}                  None   \n4       vm.ru-central1.internal  {'preemptible': False}  aje1ffpef686b1e3bh22   \n5     bee3.ru-central1.internal   {'preemptible': True}                  None   \n6     bee1.ru-central1.internal   {'preemptible': True}  aje1ffpef686b1e3bh22   \n7       ad.ru-central1.internal  {'preemptible': False}  aje1ffpef686b1e3bh22   \n\n       network_settings  \n0  {'type': 'STANDARD'}  \n1  {'type': 'STANDARD'}  \n2  {'type': 'STANDARD'}  \n3  {'type': 'STANDARD'}  \n4  {'type': 'STANDARD'}  \n5  {'type': 'STANDARD'}  \n6  {'type': 'STANDARD'}  \n7  {'type': 'STANDARD'}  ",
      "text/html": "<div>\n<style scoped>\n    .dataframe tbody tr th:only-of-type {\n        vertical-align: middle;\n    }\n\n    .dataframe tbody tr th {\n        vertical-align: top;\n    }\n\n    .dataframe thead th {\n        text-align: right;\n    }\n</style>\n<table border=\"1\" class=\"dataframe\">\n  <thead>\n    <tr style=\"text-align: right;\">\n      <th></th>\n      <th>id</th>\n      <th>folder_id</th>\n      <th>created_at</th>\n      <th>name</th>\n      <th>description</th>\n      <th>labels</th>\n      <th>zone_id</th>\n      <th>platform_id</th>\n      <th>resources</th>\n      <th>status</th>\n      <th>metadata</th>\n      <th>boot_disk</th>\n      <th>secondary_disks</th>\n      <th>network_interfaces</th>\n      <th>fqdn</th>\n      <th>scheduling_policy</th>\n      <th>service_account_id</th>\n      <th>network_settings</th>\n    </tr>\n  </thead>\n  <tbody>\n    <tr>\n      <th>0</th>\n      <td>fhm0v4qjsvu59pkgn0d1</td>\n      <td>b1gq0rkg62avu3loh7ab</td>\n      <td>2021-10-11 18:45:10</td>\n      <td>bee4</td>\n      <td>None</td>\n      <td>{}</td>\n      <td>ru-central1-a</td>\n      <td>standard-v3</td>\n      <td>{'memory': 4294967296, 'cores': 4, 'core_fract...</td>\n      <td>STOPPED</td>\n      <td>None</td>\n      <td>{'id': 'fhm805aa38q31f6khosm', 'disk_id': 'fhm...</td>\n      <td>[]</td>\n      <td>[{'index': '0', 'mac_address': 'd0:0d:f9:35:3e...</td>\n      <td>bee4.ru-central1.internal</td>\n      <td>{'preemptible': True}</td>\n      <td>None</td>\n      <td>{'type': 'STANDARD'}</td>\n    </tr>\n    <tr>\n      <th>1</th>\n      <td>fhmmqejq9vlp9qhtdls6</td>\n      <td>b1gq0rkg62avu3loh7ab</td>\n      <td>2021-11-03 22:42:27</td>\n      <td>noda</td>\n      <td>None</td>\n      <td>{}</td>\n      <td>ru-central1-a</td>\n      <td>standard-v3</td>\n      <td>{'memory': 4294967296, 'cores': 2, 'core_fract...</td>\n      <td>STOPPED</td>\n      <td>None</td>\n      <td>{'id': 'fhmh2qp8u3i081m5tc15', 'disk_id': 'fhm...</td>\n      <td>[]</td>\n      <td>[{'index': '0', 'mac_address': 'd0:0d:16:d3:a7...</td>\n      <td>noda.ru-central1.internal</td>\n      <td>{'preemptible': False}</td>\n      <td>aje1ffpef686b1e3bh22</td>\n      <td>{'type': 'STANDARD'}</td>\n    </tr>\n    <tr>\n      <th>2</th>\n      <td>fhmo3230a20b3egjqjdp</td>\n      <td>b1gq0rkg62avu3loh7ab</td>\n      <td>2021-05-08 19:22:03</td>\n      <td>openvpn</td>\n      <td>None</td>\n      <td>{}</td>\n      <td>ru-central1-a</td>\n      <td>standard-v2</td>\n      <td>{'memory': 1073741824, 'cores': 2, 'core_fract...</td>\n      <td>RUNNING</td>\n      <td>None</td>\n      <td>{'id': 'fhmj9aej79atrmqs1oho', 'disk_id': 'fhm...</td>\n      <td>[]</td>\n      <td>[{'index': '0', 'mac_address': 'd0:0d:18:18:86...</td>\n      <td>openvpn.ru-central1.internal</td>\n      <td>{'preemptible': False}</td>\n      <td>aje1ffpef686b1e3bh22</td>\n      <td>{'type': 'STANDARD'}</td>\n    </tr>\n    <tr>\n      <th>3</th>\n      <td>fhmr4ho6660bq1aslkv3</td>\n      <td>b1gq0rkg62avu3loh7ab</td>\n      <td>2021-10-11 18:02:05</td>\n      <td>bee2</td>\n      <td>None</td>\n      <td>{}</td>\n      <td>ru-central1-a</td>\n      <td>standard-v3</td>\n      <td>{'memory': 4294967296, 'cores': 4, 'core_fract...</td>\n      <td>STOPPED</td>\n      <td>None</td>\n      <td>{'id': 'fhmhdoeq1tsvh6msvept', 'disk_id': 'fhm...</td>\n      <td>[]</td>\n      <td>[{'index': '0', 'mac_address': 'd0:0d:1b:24:70...</td>\n      <td>bee2.ru-central1.internal</td>\n      <td>{'preemptible': True}</td>\n      <td>None</td>\n      <td>{'type': 'STANDARD'}</td>\n    </tr>\n    <tr>\n      <th>4</th>\n      <td>fhmrvh9gs4p9nujf27s5</td>\n      <td>b1gq0rkg62avu3loh7ab</td>\n      <td>2020-12-28 08:10:08</td>\n      <td>vm</td>\n      <td>None</td>\n      <td>{}</td>\n      <td>ru-central1-a</td>\n      <td>standard-v2</td>\n      <td>{'memory': 4294967296, 'cores': 4, 'core_fract...</td>\n      <td>RUNNING</td>\n      <td>None</td>\n      <td>{'id': 'fhm2v3o2legb0ng0nqn2', 'disk_id': 'fhm...</td>\n      <td>[]</td>\n      <td>[{'index': '0', 'mac_address': 'd0:0d:1b:fc:53...</td>\n      <td>vm.ru-central1.internal</td>\n      <td>{'preemptible': False}</td>\n      <td>aje1ffpef686b1e3bh22</td>\n      <td>{'type': 'STANDARD'}</td>\n    </tr>\n    <tr>\n      <th>5</th>\n      <td>fhmsc0ievkti0kj691nj</td>\n      <td>b1gq0rkg62avu3loh7ab</td>\n      <td>2021-10-11 18:19:18</td>\n      <td>bee3</td>\n      <td>None</td>\n      <td>{}</td>\n      <td>ru-central1-a</td>\n      <td>standard-v3</td>\n      <td>{'memory': 4294967296, 'cores': 4, 'core_fract...</td>\n      <td>STOPPED</td>\n      <td>None</td>\n      <td>{'id': 'fhm7kpee7fmmg2dq5tlk', 'disk_id': 'fhm...</td>\n      <td>[]</td>\n      <td>[{'index': '0', 'mac_address': 'd0:0d:1c:60:24...</td>\n      <td>bee3.ru-central1.internal</td>\n      <td>{'preemptible': True}</td>\n      <td>None</td>\n      <td>{'type': 'STANDARD'}</td>\n    </tr>\n    <tr>\n      <th>6</th>\n      <td>fhmtpb6kl327noh0fero</td>\n      <td>b1gq0rkg62avu3loh7ab</td>\n      <td>2021-04-29 09:03:33</td>\n      <td>bee1</td>\n      <td>None</td>\n      <td>{}</td>\n      <td>ru-central1-a</td>\n      <td>standard-v2</td>\n      <td>{'memory': 4294967296, 'cores': 4, 'core_fract...</td>\n      <td>STOPPED</td>\n      <td>None</td>\n      <td>{'id': 'fhm82r01r6qmilttdhpf', 'disk_id': 'fhm...</td>\n      <td>[]</td>\n      <td>[{'index': '0', 'mac_address': 'd0:0d:1d:ca:cd...</td>\n      <td>bee1.ru-central1.internal</td>\n      <td>{'preemptible': True}</td>\n      <td>aje1ffpef686b1e3bh22</td>\n      <td>{'type': 'STANDARD'}</td>\n    </tr>\n    <tr>\n      <th>7</th>\n      <td>fhmvbkpsnu8knk9bto8l</td>\n      <td>b1gq0rkg62avu3loh7ab</td>\n      <td>2021-09-29 21:03:48</td>\n      <td>ad</td>\n      <td>None</td>\n      <td>{}</td>\n      <td>ru-central1-a</td>\n      <td>standard-v3</td>\n      <td>{'memory': 4294967296, 'cores': 4, 'core_fract...</td>\n      <td>STOPPED</td>\n      <td>None</td>\n      <td>{'id': 'fhm55pbf2fjnk367odrd', 'disk_id': 'fhm...</td>\n      <td>[]</td>\n      <td>[{'index': '0', 'mac_address': 'd0:0d:1f:5d:33...</td>\n      <td>ad.ru-central1.internal</td>\n      <td>{'preemptible': False}</td>\n      <td>aje1ffpef686b1e3bh22</td>\n      <td>{'type': 'STANDARD'}</td>\n    </tr>\n  </tbody>\n</table>\n</div>"
     },
     "execution_count": 43,
     "metadata": {},
     "output_type": "execute_result"
    }
   ],
   "source": [
    "df = pd.DataFrame([t.to_dict() for t in ls])\n",
    "df"
   ],
   "metadata": {
    "collapsed": false,
    "pycharm": {
     "name": "#%%\n"
    }
   }
  },
  {
   "cell_type": "code",
   "execution_count": 25,
   "outputs": [],
   "source": [
    "from yandex_cloud_client import YandexCloudClient"
   ],
   "metadata": {
    "collapsed": false,
    "pycharm": {
     "name": "#%%\n"
    }
   }
  },
  {
   "cell_type": "code",
   "execution_count": 26,
   "outputs": [],
   "source": [
    "# cl = YandexCloudClient(oauth_token='AQAAAAAZgw4sAATuwYVtsXTvX0Rivzzt8VMx3uw')\n",
    "cl = YandexCloudClient(oauth_token='AQAAAABaYBf5AATuwaA79ZYLMUPxvTrhPZ7w23c')"
   ],
   "metadata": {
    "collapsed": false,
    "pycharm": {
     "name": "#%%\n"
    }
   }
  },
  {
   "cell_type": "code",
   "execution_count": 9,
   "outputs": [
    {
     "data": {
      "text/plain": "[{'id': 'b1gq0rkg62avu3loh7ab', 'cloud_id': 'b1gh99bjjg7p3vn2arer', 'created_at': datetime.datetime(2020, 5, 18, 21, 48, 38), 'name': 'default', 'description': None, 'labels': None, 'status': 'ACTIVE'}]"
     },
     "execution_count": 9,
     "metadata": {},
     "output_type": "execute_result"
    }
   ],
   "source": [
    "cl.folders_in_cloud('b1gh99bjjg7p3vn2arer')"
   ],
   "metadata": {
    "collapsed": false,
    "pycharm": {
     "name": "#%%\n"
    }
   }
  },
  {
   "cell_type": "code",
   "execution_count": 29,
   "outputs": [
    {
     "data": {
      "text/plain": "{'id': 'b1gh99bjjg7p3vn2arer', 'created_at': datetime.datetime(2020, 5, 18, 21, 48, 38), 'name': 'cloud-v-grandru', 'description': None}"
     },
     "execution_count": 29,
     "metadata": {},
     "output_type": "execute_result"
    }
   ],
   "source": [
    "cl.cloud('b1gh99bjjg7p3vn2arer')"
   ],
   "metadata": {
    "collapsed": false,
    "pycharm": {
     "name": "#%%\n"
    }
   }
  },
  {
   "cell_type": "code",
   "execution_count": 11,
   "outputs": [],
   "source": [
    "inst = Instance('fhm0v4qjsvu59pkgn0d1')"
   ],
   "metadata": {
    "collapsed": false,
    "pycharm": {
     "name": "#%%\n"
    }
   }
  },
  {
   "cell_type": "code",
   "execution_count": 17,
   "outputs": [
    {
     "name": "stdout",
     "output_type": "stream",
     "text": [
      "None\n"
     ]
    }
   ],
   "source": [
    "print(inst.name)"
   ],
   "metadata": {
    "collapsed": false,
    "pycharm": {
     "name": "#%%\n"
    }
   }
  },
  {
   "cell_type": "code",
   "execution_count": null,
   "outputs": [],
   "source": [],
   "metadata": {
    "collapsed": false,
    "pycharm": {
     "name": "#%%\n"
    }
   }
  },
  {
   "cell_type": "code",
   "execution_count": 43,
   "outputs": [
    {
     "data": {
      "text/plain": "dict"
     },
     "execution_count": 43,
     "metadata": {},
     "output_type": "execute_result"
    }
   ],
   "source": [
    "type({1: 2, 3: 4})"
   ],
   "metadata": {
    "collapsed": false,
    "pycharm": {
     "name": "#%%\n"
    }
   }
  },
  {
   "cell_type": "code",
   "execution_count": 53,
   "outputs": [
    {
     "data": {
      "text/plain": "5"
     },
     "execution_count": 53,
     "metadata": {},
     "output_type": "execute_result"
    }
   ],
   "source": [
    "dt = {'a': 1, 'b': 2}\n",
    "dt.get('as', 5)"
   ],
   "metadata": {
    "collapsed": false,
    "pycharm": {
     "name": "#%%\n"
    }
   }
  },
  {
   "cell_type": "code",
   "execution_count": 65,
   "outputs": [
    {
     "data": {
      "text/plain": "4"
     },
     "execution_count": 65,
     "metadata": {},
     "output_type": "execute_result"
    }
   ],
   "source": [
    "int('4 ГБ'[:-3])"
   ],
   "metadata": {
    "collapsed": false,
    "pycharm": {
     "name": "#%%\n"
    }
   }
  },
  {
   "cell_type": "code",
   "execution_count": null,
   "outputs": [],
   "source": [],
   "metadata": {
    "collapsed": false,
    "pycharm": {
     "name": "#%%\n"
    }
   }
  },
  {
   "cell_type": "code",
   "execution_count": null,
   "outputs": [],
   "source": [],
   "metadata": {
    "collapsed": false,
    "pycharm": {
     "name": "#%%\n"
    }
   }
  }
 ],
 "metadata": {
  "kernelspec": {
   "display_name": "Python 3",
   "language": "python",
   "name": "python3"
  },
  "language_info": {
   "codemirror_mode": {
    "name": "ipython",
    "version": 2
   },
   "file_extension": ".py",
   "mimetype": "text/x-python",
   "name": "python",
   "nbconvert_exporter": "python",
   "pygments_lexer": "ipython2",
   "version": "2.7.6"
  }
 },
 "nbformat": 4,
 "nbformat_minor": 0
}