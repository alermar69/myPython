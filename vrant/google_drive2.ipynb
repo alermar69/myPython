{
 "cells": [
  {
   "cell_type": "code",
   "execution_count": 11,
   "outputs": [],
   "source": [
    "from google.auth.transport import requests\n",
    "from googleapiclient import discovery\n",
    "from google.oauth2 import service_account\n",
    "from google.cloud import storage\n",
    "from googleapiclient.http import MediaIoBaseDownload\n",
    "import io\n",
    "import threading\n",
    "from time import sleep\n",
    "import os\n",
    "import pandas as pd\n",
    "\n",
    "from pydrive.auth import GoogleAuth\n",
    "from pydrive.drive import GoogleDrive, GoogleDriveFile\n",
    "from oauth2client.service_account import ServiceAccountCredentials\n",
    "\n",
    "from datetime import time\n",
    "\n",
    "drivers_check_list = []\n",
    "drivers_checked_list = []\n",
    "ls_threads = []\n",
    "ls_tmp = []\n",
    "ls_error = []\n",
    "ls_error_files = []\n",
    "ls_files_to_download = []\n",
    "count_files_checked = 0\n",
    "count_files_down = 0\n",
    "count_files_error = 0\n",
    "file_down_parms = []\n",
    "status = None\n",
    "\n",
    "drivers = [\n",
    "            ['Ci', '0AHj-PRcbOxSWUk9PVA'],\n",
    "           ['Managment 2', '0AE3Z9Ox2YaurUk9PVA'],\n",
    "           ['VG.COM', '0AElRg0lTw8iIUk9PVA'],\n",
    "           ['Архив', '0AOP_oKFy4oGJUk9PVA'],\n",
    "           ['Винный парк', '0ANhu4lfOrlBiUk9PVA'],\n",
    "           ['Контент_VG', '0AN6chrg4ApnnUk9PVA'],\n",
    "           ['Контент', '0ANf3LpamTrsTUk9PVA'],\n",
    "           ['Лобня', '0AIQWy4IyyeaIUk9PVA'],\n",
    "           ['Объединенная пивоварня', '0AELFNnmNadJqUk9PVA'],\n",
    "           ['ОСК Шереметьево', '0ALRUo2DlF1YmUk9PVA'],\n",
    "           ['Мой Диск _', '0AHpbUawYyiEZUk9PVA'],\n",
    "    ['BackOffice', '0AKtafUCJJsjKUk9PVA'],\n",
    " ['Grand_Engineering', '0APOKU4PVLZwMUk9PVA'],\n",
    " ['Human Resources', '0AJsRKr2Ba6TwUk9PVA'],\n",
    " ['IT-ОТДЕЛ', '0AI62IGV_POEcUk9PVA'],\n",
    " ['Managment 1', '0AJZoXjxIBMXRUk9PVA'],\n",
    " ['Titov Maksim', '0AAMdn20RTshcUk9PVA'],\n",
    " ['V-CLOUD24', '0AAUYrEjNjV5MUk9PVA'],\n",
    " ['Адвокатский кабинет', '0AHO8xAl6v2r5Uk9PVA'],\n",
    " ['Бухгалтер RUS', '0AKfDR0IMw1bPUk9PVA'],\n",
    " ['Бухгалтер UA', '0AGTAjdcjx6f-Uk9PVA'],\n",
    " ['ВДНХ_Колесо обозрения', '0ANw1UacIVifyUk9PVA'],\n",
    " ['ГипроМез', '0AKn-9Bj7NmNxUk9PVA'],\n",
    " ['ДОУ 360 Выпуск', '0AC2GUgCN9wcWUk9PVA'],\n",
    " ['ДОУ 360', '0ALpJRBJkrtVGUk9PVA'],\n",
    " ['Лио-Продукт', '0AHUPdJVPtsQaUk9PVA'],\n",
    " ['НКВЗ ремонт АвтоТехники', '0ADgaxv8NdpTkUk9PVA'],\n",
    " ['Объекты в работе', '0AOxaPQRooOk2Uk9PVA'],\n",
    " ['Остров мечты ППР', '0AImPD4jQdMXJUk9PVA'],\n",
    " ['Пекарня', '0AIWIhafOWgmHUk9PVA'],\n",
    " ['ПОДРЯДЧИКИ', '0ALnZgMLQFfrtUk9PVA'],\n",
    " ['СТО ГБО', '0AF2NtBbx_XvYUk9PVA'],\n",
    " ['ТЕХВАГОНМАШ', '0AAAyvFQMbstZUk9PVA'],\n",
    " ['Транспроект', '0ADKHIbPu575TUk9PVA'],\n",
    " ['ФосАгро', '0AD-4c3pLaBV5Uk9PVA'],\n",
    " ['ФРАКДЖЕТ-ТУЛЗ', '0ACjAWTbTqvESUk9PVA'],\n",
    " ['Холодный склад', '0ALT2Y1wkG7vCUk9PVA'],\n",
    " ['Чайка Лаб', '0APbGeMNQtN3MUk9PVA'],\n",
    " ['Читинские ключи', '0AA9gFHffXEitUk9PVA'],\n",
    " ['Юрист UA', '0AGg7JoJwa_8nUk9PVA']\n",
    "           ]\n",
    "\n",
    "storage.blob._DEFAULT_CHUNKSIZE = 10 * 1024* 1024  # 5 MB\n",
    "storage.blob._MAX_MULTIPART_SIZE = 5 * 1024* 1024  # 5 MB\n",
    "\n",
    "\n",
    "def transfer_drive(drive_name_id):\n",
    "    global count_files_down, count_files_error, count_files_checked\n",
    "    while True:\n",
    "        driv = GDrive(drive_name_id[0], drive_name_id[1])\n",
    "        done = driv.download_files()\n",
    "        if done:\n",
    "            break\n",
    "\n",
    "\n",
    "def transfer_drive_thread():\n",
    "    while True:\n",
    "        try:\n",
    "            # service, bucket = get_client()\n",
    "            # ls_drives = get_list_of_drives(service)\n",
    "            s_drives = 'TT '\n",
    "\n",
    "            for drive in drivers:\n",
    "                if drive[1] not in drivers_check_list and drive[1] not in drivers_checked_list:\n",
    "                    drivers_check_list.append(drive[1])\n",
    "                    t = threading.Thread(target=transfer_drive, args=(drive,))\n",
    "                    t.start()\n",
    "                    ls_threads.append(t)\n",
    "                    s_drives += drive[0] + ', '\n",
    "        except Exception as e:\n",
    "            ls_error.append(['get_list_of_drives', e])\n",
    "        ls_tmp.append(f'Завершено------------------------{s_drives}')\n",
    "\n",
    "        sleep(60*30)\n",
    "\n",
    "\n",
    "\n",
    "def transfer_drives_thread():\n",
    "    t = threading.Thread(target=transfer_drive_thread)\n",
    "    ls_threads.append(t)\n",
    "    t.start()\n",
    "\n",
    "    return t\n",
    "\n",
    "\n",
    "def get_client():\n",
    "    # Google Drive\n",
    "    gauth = GoogleAuth()\n",
    "    scope = [\"https://www.googleapis.com/auth/drive\"]\n",
    "    gauth.credentials = ServiceAccountCredentials.from_json_keyfile_name('savvy-concord-374520-bbbb0e3c73c3.json', scope)\n",
    "    drive = GoogleDrive(gauth)\n",
    "\n",
    "    credentials_drive = service_account.Credentials.from_service_account_file(\n",
    "        filename='savvy-concord-374520-bbbb0e3c73c3.json',\n",
    "        scopes=['https://www.googleapis.com/auth/drive'],\n",
    "    )\n",
    "    session = requests.AuthorizedSession(credentials_drive)\n",
    "    service = discovery.build('drive', 'v3', credentials=credentials_drive)\n",
    "\n",
    "    #Google Storage\n",
    "    credentials_storage = service_account.Credentials.from_service_account_file(\n",
    "        filename='credentials.json',\n",
    "        scopes=['https://www.googleapis.com/auth/devstorage.full_control'],\n",
    "    )\n",
    "    client = storage.Client(credentials=credentials_storage)\n",
    "    bucket = client.get_bucket('cabinet_bucket')\n",
    "\n",
    "    return service, drive, bucket\n",
    "\n",
    "\n",
    "# Общие диски\n",
    "def get_list_of_drives(service):\n",
    "    response = service.drives().list(pageSize=100).execute()\n",
    "    ids = []\n",
    "    for drive in response['drives']:\n",
    "        ids.append([drive['name'], drive['id']])\n",
    "    return ids\n",
    "\n",
    "\n",
    "class GDrive:\n",
    "    def __init__(self,  drive_name, drive_id, get_files_folders=True, get_files_fullname=True):\n",
    "        self.drive_name = drive_name\n",
    "        self.drive_id = drive_id\n",
    "\n",
    "        self.drive = None\n",
    "        self.service = None\n",
    "        self.bucket = None\n",
    "\n",
    "        self.get_client()\n",
    "\n",
    "        self.bucet_main_folder = 'GoogleDriveTransfer'\n",
    "\n",
    "        self.dict_files = {}\n",
    "        self.dict_files_fullname = {}\n",
    "        self.dict_folders = {}\n",
    "\n",
    "        if get_files_folders:\n",
    "            self.get_files_folders()\n",
    "            if get_files_fullname:\n",
    "                self.get_files_fullname()\n",
    "\n",
    "        blobs = self.bucket.list_blobs(prefix=f'GoogleDriveTransfer/{drive_name}')\n",
    "        self.files_blobs = [blob.name for blob in blobs]\n",
    "\n",
    "    def get_client(self):\n",
    "        # Google Drive\n",
    "        gauth = GoogleAuth()\n",
    "        scope = [\"https://www.googleapis.com/auth/drive\"]\n",
    "        gauth.credentials = ServiceAccountCredentials.from_json_keyfile_name('savvy-concord-374520-bbbb0e3c73c3.json', scope)\n",
    "        self.drive = GoogleDrive(gauth)\n",
    "\n",
    "        credentials_drive = service_account.Credentials.from_service_account_file(\n",
    "            filename='savvy-concord-374520-bbbb0e3c73c3.json',\n",
    "            scopes=['https://www.googleapis.com/auth/drive'],\n",
    "        )\n",
    "        session = requests.AuthorizedSession(credentials_drive)\n",
    "        self.service = discovery.build('drive', 'v3', credentials=credentials_drive)\n",
    "\n",
    "        #Google Storage\n",
    "        credentials_storage = service_account.Credentials.from_service_account_file(\n",
    "            filename='credentials.json',\n",
    "            scopes=['https://www.googleapis.com/auth/devstorage.full_control'],\n",
    "        )\n",
    "        client = storage.Client(credentials=credentials_storage)\n",
    "        self.bucket = client.get_bucket('cabinet_bucket')\n",
    "\n",
    "\n",
    "    def get_files_folders(self):\n",
    "        self.get_files()\n",
    "        self.get_folders()\n",
    "\n",
    "    def get_folders(self):\n",
    "        self.dict_folders = {}\n",
    "        ls_folders = self.drive.ListFile(\n",
    "            {\n",
    "                'q': \"mimeType='application/vnd.google-apps.folder'\",\n",
    "                'corpora': 'drive',\n",
    "                'driveId': self.drive_id,\n",
    "                'includeItemsFromAllDrives': True,\n",
    "                'supportsAllDrives': True,\n",
    "            }\n",
    "        ).GetList()\n",
    "        for folder in ls_folders:\n",
    "            self.dict_folders[folder['id']] = folder\n",
    "\n",
    "    def get_files(self):\n",
    "        self.dict_files = {}\n",
    "        ls_files = self.drive.ListFile(\n",
    "            {\n",
    "                'q': \"mimeType!='application/vnd.google-apps.folder'\",\n",
    "                'corpora': 'drive',\n",
    "                'driveId': self.drive_id,\n",
    "                'includeItemsFromAllDrives': True,\n",
    "                'supportsAllDrives': True,\n",
    "            }\n",
    "        ).GetList()\n",
    "        for file in ls_files:\n",
    "            self.dict_files[file['id']] = file\n",
    "\n",
    "    def get_files_fullname(self):\n",
    "        self.dict_files_fullname = {}\n",
    "        for file in self.dict_files.values():\n",
    "            parent_id = file['parents'][0]['id']\n",
    "            name_full = self.get_full_path(file['title'], parent_id)\n",
    "            self.dict_files_fullname[file['id']] = name_full\n",
    "\n",
    "    def get_full_path(self, file_name, parent_id):\n",
    "        tree = [file_name]\n",
    "        folder_id = parent_id\n",
    "\n",
    "        while folder_id != self.drive_id:\n",
    "            folder = self.dict_folders[folder_id]\n",
    "            tree.append(folder['title'])\n",
    "            folder_id = folder['parents'][0]['id']\n",
    "\n",
    "        tree.append(self.drive_name)\n",
    "        tree.append(self.bucet_main_folder)\n",
    "\n",
    "        tree.reverse()\n",
    "        return '/'.join(tree)\n",
    "\n",
    "    def download_files(self):\n",
    "        global count_files_down, count_files_error, count_files_checked\n",
    "        is_download_files = True\n",
    "\n",
    "        try:\n",
    "            for file_id in self.dict_files.keys():\n",
    "                count_files_checked += 1\n",
    "                done = self.download_file(file_id)\n",
    "                if done:\n",
    "                    is_download_files = False\n",
    "\n",
    "            ls_tmp.append(f'{self.drive_name}  - Завершено  - {is_download_files}')\n",
    "\n",
    "            if is_download_files:\n",
    "                drivers_checked_list.append(self.drive_id)\n",
    "\n",
    "        except Exception as e:\n",
    "            ls_error.append([self.drive_name, 'Ошибка', e])\n",
    "            is_download_files = False\n",
    "\n",
    "        return is_download_files\n",
    "\n",
    "    def download_file(self, file_id):\n",
    "        par = self.get_params_down(file_id)\n",
    "\n",
    "        try:\n",
    "            if par['fullname'] not in self.files_blobs:\n",
    "                if not par['is_propusk']:\n",
    "                    gdfile = self.dict_files[file_id]\n",
    "                    size = int(gdfile['fileSize']) / 1024 / 1024\n",
    "                    if size < 7000:\n",
    "                        file_down_parms.append([size, par['fullname'], gdfile])\n",
    "                        if par['is_google_apps']:\n",
    "                            self.download_file_google_apps(file_id, par)\n",
    "                        else:\n",
    "                            self.download_file_no_google_apps(file_id, par)\n",
    "                        ls_files_to_download.append([size, par['fullname'], gdfile])\n",
    "                        return True\n",
    "        except Exception as e:\n",
    "            ls_error_files.append([size, par['fullname'], gdfile, e])\n",
    "            return False\n",
    "        return False\n",
    "\n",
    "    def download_file_no_google_apps(self, file_id, par):\n",
    "        global status\n",
    "        request = self.service.files().get_media(fileId=file_id)\n",
    "        fh = io.BytesIO()\n",
    "        downloader = MediaIoBaseDownload(fh, request)\n",
    "        done = False\n",
    "        while done is False:\n",
    "            status, done = downloader.next_chunk()\n",
    "\n",
    "        blob = self.bucket.blob(par['fullname'])\n",
    "        blob.upload_from_string(fh.getvalue(), timeout=300)\n",
    "        fh.close()\n",
    "\n",
    "    def download_file_google_apps(self, file_id, par):\n",
    "        gdfile = self.dict_files[file_id]\n",
    "\n",
    "        gdfile.GetContentFile(par['namefile'], mimetype=par['mimeType'])\n",
    "\n",
    "        blob = self.bucket.blob(par['fullname'])\n",
    "        blob.upload_from_filename(par['namefile'])\n",
    "\n",
    "        os.remove(par['namefile'])\n",
    "\n",
    "    def get_params_down(self, file_id):\n",
    "        gdfile = self.dict_files[file_id]\n",
    "        mimeType = gdfile['mimeType']\n",
    "        namefile = gdfile['title']\n",
    "        fullname = self.dict_files_fullname[file_id]\n",
    "\n",
    "        is_google_apps = False\n",
    "        is_propusk = False\n",
    "\n",
    "        ls_mime_google_apps = ['application/vnd.google-apps.document', 'application/vnd.google-apps.spreadsheet',\n",
    "                               'application/vnd.google-apps.presentation', 'application/vnd.google-apps.site',\n",
    "                               'application/vnd.google-apps.shortcut']\n",
    "\n",
    "        if mimeType in ls_mime_google_apps:\n",
    "            is_google_apps = True\n",
    "            if mimeType == 'application/vnd.google-apps.document':\n",
    "                mimeType = 'application/vnd.openxmlformats-officedocument.wordprocessingml.document'\n",
    "                namefile = namefile + '.docx'\n",
    "                fullname = fullname + '.docx'\n",
    "            elif mimeType == 'application/vnd.google-apps.spreadsheet':\n",
    "                mimeType = 'application/vnd.openxmlformats-officedocument.spreadsheetml.sheet'\n",
    "                namefile = namefile + '.xlsx'\n",
    "                fullname = fullname + '.xlsx'\n",
    "            else:\n",
    "                is_propusk = True\n",
    "\n",
    "\n",
    "\n",
    "        res = {\n",
    "            'namefile': namefile,\n",
    "            'fullname': fullname,\n",
    "            'mimeType': mimeType,\n",
    "            'is_google_apps': is_google_apps,\n",
    "            'is_propusk': is_propusk,\n",
    "        }\n",
    "\n",
    "        return res\n",
    "\n",
    "\n",
    "\n",
    "\n",
    "\n",
    "\n"
   ],
   "metadata": {
    "collapsed": false,
    "pycharm": {
     "name": "#%%\n"
    }
   }
  },
  {
   "cell_type": "code",
   "execution_count": 2,
   "outputs": [],
   "source": [
    "t = transfer_drives_thread()"
   ],
   "metadata": {
    "collapsed": false,
    "pycharm": {
     "name": "#%%\n"
    }
   }
  },
  {
   "cell_type": "code",
   "execution_count": 3,
   "outputs": [
    {
     "data": {
      "text/plain": "(1.0, 213.78704929351807, 213.78704929351807)"
     },
     "execution_count": 3,
     "metadata": {},
     "output_type": "execute_result"
    }
   ],
   "source": [
    "status.progress(), status.resumable_progress / 1024 / 1024, status.total_size / 1024 / 1024"
   ],
   "metadata": {
    "collapsed": false,
    "pycharm": {
     "name": "#%%\n"
    }
   }
  },
  {
   "cell_type": "code",
   "execution_count": 4,
   "outputs": [],
   "source": [
    "import numpy as np"
   ],
   "metadata": {
    "collapsed": false,
    "pycharm": {
     "name": "#%%\n"
    }
   }
  },
  {
   "cell_type": "code",
   "execution_count": 13,
   "outputs": [
    {
     "data": {
      "text/plain": "160020.3207464218"
     },
     "execution_count": 13,
     "metadata": {},
     "output_type": "execute_result"
    }
   ],
   "source": [
    "sum([i[0] for i in ls_files_to_download])"
   ],
   "metadata": {
    "collapsed": false,
    "pycharm": {
     "name": "#%%\n"
    }
   }
  },
  {
   "cell_type": "code",
   "execution_count": 12,
   "outputs": [
    {
     "data": {
      "text/plain": "[(0.08063697814941406,\n  'GoogleDriveTransfer/Архив/Пром/Пищевая/РусТомат/Рабочая документация/Разработка/240417-КМ/240417-КМ.1/РАСЧЕТ/Файлы расчета_примежуточные/ПК_Rev17_Назначение груп.SPR'),\n (0.06858158111572266,\n  'GoogleDriveTransfer/Архив/Пром/Пищевая/РусТомат/Рабочая документация/Разработка/240417-КМ/240417-КМ.1/РАСЧЕТ/Файлы расчета_примежуточные/ПК_Rev16_Комбинации загружений.SPR'),\n (0.06699275970458984,\n  'GoogleDriveTransfer/Архив/Пром/Пищевая/РусТомат/Рабочая документация/Разработка/240417-КМ/240417-КМ.1/РАСЧЕТ/Файлы расчета_примежуточные/ПК_Rev14_Снег.SPR'),\n (2.832662582397461,\n  'GoogleDriveTransfer/Архив/Пром/Пищевая/РусТомат/Рабочая документация/Архив/КМ/240417-КМ.1_Производственный корпус.pdf'),\n (0.30265045166015625,\n  'GoogleDriveTransfer/Архив/Пром/Пищевая/РусТомат/Проект/Разработка/1412_16-КР/DWG старое/Л-5 !22,02,17м БУФЕТ с сизм по 1-му этажу-Лист - 11 - Буфет со встроенным КПП- План 1-го и 2-го этажей- Разрез 1-1- Фасад 2-1.dwg'),\n (0.8220052719116211,\n  'GoogleDriveTransfer/Архив/Пром/Пищевая/РусТомат/Проект/Разработка/1412_16-КР/КЖ/НАСОСНАЯ.bak'),\n (0.47525882720947266,\n  'GoogleDriveTransfer/Архив/Пром/Пищевая/РусТомат/Проект/Разработка/1412_16-КР/КЖ/РЕЗЕРВУАР.dwg'),\n (40.3392333984375,\n  'GoogleDriveTransfer/Архив/Доу 360/Исходные данные/Рабочка аналог/ДОО_3/ГП/1.2 ГП/8 благоустройство Лесное.dwg'),\n (1765.9880819320679, 'GoogleDriveTransfer/Архив/BIM/REVIT.7z'),\n (0.017534255981445312,\n  'GoogleDriveTransfer/Архив/Без названия/Ольга Задоркина 2018/From D/мое/WUDownloadCache/9eaee87abab23b313c5b7697b9a103ad/Metadata/DesktopTargetCompDB_PROFESSIONAL_uk-ua.xml.cab')]"
     },
     "execution_count": 12,
     "metadata": {},
     "output_type": "execute_result"
    }
   ],
   "source": [
    "[(i[0],i[1]) for i in ls_files_to_download[-10:]]"
   ],
   "metadata": {
    "collapsed": false,
    "pycharm": {
     "name": "#%%\n"
    }
   }
  },
  {
   "cell_type": "code",
   "execution_count": 3,
   "outputs": [
    {
     "data": {
      "text/plain": "True"
     },
     "execution_count": 3,
     "metadata": {},
     "output_type": "execute_result"
    }
   ],
   "source": [
    "5<7<9"
   ],
   "metadata": {
    "collapsed": false,
    "pycharm": {
     "name": "#%%\n"
    }
   }
  },
  {
   "cell_type": "code",
   "execution_count": 4,
   "outputs": [
    {
     "data": {
      "text/plain": "['Юрист UA', '0AGg7JoJwa_8nUk9PVA']"
     },
     "execution_count": 4,
     "metadata": {},
     "output_type": "execute_result"
    }
   ],
   "source": [
    "drive_name_id = drivers[-1]\n",
    "drive_name_id"
   ],
   "metadata": {
    "collapsed": false,
    "pycharm": {
     "name": "#%%\n"
    }
   }
  },
  {
   "cell_type": "code",
   "execution_count": 5,
   "outputs": [],
   "source": [
    "driv = GDrive(drive_name_id[0], drive_name_id[1])\n"
   ],
   "metadata": {
    "collapsed": false,
    "pycharm": {
     "name": "#%%\n"
    }
   }
  },
  {
   "cell_type": "code",
   "execution_count": 6,
   "outputs": [
    {
     "data": {
      "text/plain": "12"
     },
     "execution_count": 6,
     "metadata": {},
     "output_type": "execute_result"
    }
   ],
   "source": [
    "len(driv.dict_files)"
   ],
   "metadata": {
    "collapsed": false,
    "pycharm": {
     "name": "#%%\n"
    }
   }
  },
  {
   "cell_type": "code",
   "execution_count": 7,
   "outputs": [
    {
     "data": {
      "text/plain": "12"
     },
     "execution_count": 7,
     "metadata": {},
     "output_type": "execute_result"
    }
   ],
   "source": [
    "len(driv.files_blobs)"
   ],
   "metadata": {
    "collapsed": false,
    "pycharm": {
     "name": "#%%\n"
    }
   }
  },
  {
   "cell_type": "code",
   "execution_count": 12,
   "outputs": [],
   "source": [
    "ls = []\n",
    "for d in drivers:\n",
    "    driv = GDrive(d[0], d[1])\n",
    "    for i in driv.dict_files_fullname.values():\n",
    "        if i not in driv.files_blobs:\n",
    "            ls.append(i)"
   ],
   "metadata": {
    "collapsed": false,
    "pycharm": {
     "name": "#%%\n"
    }
   }
  },
  {
   "cell_type": "code",
   "execution_count": null,
   "outputs": [],
   "source": [],
   "metadata": {
    "collapsed": false,
    "pycharm": {
     "name": "#%%\n"
    }
   }
  },
  {
   "cell_type": "code",
   "execution_count": null,
   "outputs": [],
   "source": [],
   "metadata": {
    "collapsed": false,
    "pycharm": {
     "name": "#%%\n"
    }
   }
  },
  {
   "cell_type": "code",
   "execution_count": 2,
   "outputs": [],
   "source": [
    "def ff1():\n",
    "    d = {\n",
    "        '<1000': 0,\n",
    "        '1000-2000': 0,\n",
    "        '2000-3000': 0,\n",
    "        '3000-4000': 0,\n",
    "        '4000-5000': 0,\n",
    "        '5000-6000': 0,\n",
    "        '6000-7000': 0,\n",
    "        '7000-8000': 0,\n",
    "        '8000-9000': 0,\n",
    "        '9000-10000': 0,\n",
    "        '>10000': 0,\n",
    "    }\n",
    "    ls2 = []\n",
    "    for i in driv.dict_files.values():\n",
    "        fileSize = int(i.get('fileSize', 0))\n",
    "        size = fileSize / 1024 / 1024\n",
    "        if size < 1000:\n",
    "            d['<1000'] += 1\n",
    "        elif size < 2000:\n",
    "            d['1000-2000'] += 1\n",
    "        elif size < 3000:\n",
    "            d['2000-3000'] += 1\n",
    "        elif size < 4000:\n",
    "            d['3000-4000'] += 1\n",
    "        elif size < 5000:\n",
    "            d['4000-5000'] += 1\n",
    "        elif size < 6000:\n",
    "            d['5000-6000'] += 1\n",
    "        elif size < 7000:\n",
    "            d['6000-7000'] += 1\n",
    "        elif size < 8000:\n",
    "            d['7000-8000'] += 1\n",
    "        elif size < 9000:\n",
    "            d['8000-9000'] += 1\n",
    "        elif size < 10000:\n",
    "            d['9000-10000'] += 1\n",
    "        else:\n",
    "            d['>10000'] += 1\n",
    "\n",
    "        if size > 2000:\n",
    "            ls2.append([size, driv.dict_files_fullname[i['id']]])\n",
    "\n",
    "        d['ls_files>5000'] = ls2\n",
    "    return d"
   ],
   "metadata": {
    "collapsed": false,
    "pycharm": {
     "name": "#%%\n"
    }
   }
  },
  {
   "cell_type": "code",
   "execution_count": 3,
   "outputs": [
    {
     "data": {
      "text/plain": "[['Ci',\n  {'<1000': 7949,\n   '1000-2000': 1,\n   '2000-3000': 0,\n   '3000-4000': 0,\n   '4000-5000': 0,\n   '5000-6000': 0,\n   '6000-7000': 0,\n   '7000-8000': 0,\n   '8000-9000': 0,\n   '9000-10000': 1,\n   '>10000': 2,\n   'ls_files>5000': [[30767.619193077087,\n     'GoogleDriveTransfer/Ci/!MSSQL_Backup/InputIntS1.csv'],\n    [48413.28955078125,\n     'GoogleDriveTransfer/Ci/!MSSQL_Backup/MT_Input_History.bak'],\n    [9358.09619140625,\n     'GoogleDriveTransfer/Ci/!MSSQL_Backup/All_Int_2013.bak']]}],\n ['Managment 2',\n  {'<1000': 21678,\n   '1000-2000': 7,\n   '2000-3000': 3,\n   '3000-4000': 0,\n   '4000-5000': 0,\n   '5000-6000': 0,\n   '6000-7000': 0,\n   '7000-8000': 0,\n   '8000-9000': 0,\n   '9000-10000': 0,\n   '>10000': 0,\n   'ls_files>5000': [[2067.038091659546,\n     'GoogleDriveTransfer/Managment 2/Р1/ЖК Питер 1353/Тех  часть/Аналог/ЭОМ.zip'],\n    [2199.2690563201904,\n     'GoogleDriveTransfer/Managment 2/ИНПИ/ЖК Мукомольный/Тех часть/2. РД 1 этап (03.07.20)/2. РД 1 этап (03.07.20)/I этап.zip'],\n    [2734.3365545272827,\n     'GoogleDriveTransfer/Managment 2/Балтийский вагоноремонтный завод «Новотранс» (БВРЗ)/Тех часть/Проектная документация PDF_DWG.zip']]}],\n ['Архив',\n  {'<1000': 34638,\n   '1000-2000': 19,\n   '2000-3000': 1,\n   '3000-4000': 0,\n   '4000-5000': 3,\n   '5000-6000': 0,\n   '6000-7000': 1,\n   '7000-8000': 0,\n   '8000-9000': 0,\n   '9000-10000': 0,\n   '>10000': 0,\n   'ls_files>5000': [[4035.7817211151123,\n     'GoogleDriveTransfer/Архив/idmitrieva/RENDERS/аттракцион_молот_судьбы.rar'],\n    [4110.618448257446,\n     'GoogleDriveTransfer/Архив/idmitrieva/RENDERS/Lobnya/facad/render/1.cxr'],\n    [4110.618448257446,\n     'GoogleDriveTransfer/Архив/idmitrieva/RENDERS/Lobnya/panorama/1.cxr'],\n    [2640.7392950057983,\n     'GoogleDriveTransfer/Архив/Граждан/ВДНХ/Контент для сайта/DropMeFiles_8Oj4R.zip'],\n    [6049.399415969849, 'GoogleDriveTransfer/Архив/Пром/Тяж маш/НКВЗ.zip']]}],\n ['Винный парк',\n  {'<1000': 7755,\n   '1000-2000': 5,\n   '2000-3000': 1,\n   '3000-4000': 0,\n   '4000-5000': 0,\n   '5000-6000': 0,\n   '6000-7000': 0,\n   '7000-8000': 0,\n   '8000-9000': 0,\n   '9000-10000': 0,\n   '>10000': 0,\n   'ls_files>5000': [[2536.0197381973267,\n     'GoogleDriveTransfer/Винный парк/Исходные данные/РД смежников/Разделы ОВ, ВК, ЭОМ.zip']]}]]"
     },
     "execution_count": 3,
     "metadata": {},
     "output_type": "execute_result"
    }
   ],
   "source": [
    "drivers = [\n",
    "            ['Ci', '0AHj-PRcbOxSWUk9PVA'],\n",
    "           ['Managment 2', '0AE3Z9Ox2YaurUk9PVA'],\n",
    "           ['Архив', '0AOP_oKFy4oGJUk9PVA'],\n",
    "           ['Винный парк', '0ANhu4lfOrlBiUk9PVA'],\n",
    "           ]\n",
    "ls = []\n",
    "for d in drivers:\n",
    "    driv = GDrive(d[0], d[1])\n",
    "    ls.append([d[0], ff1()])\n",
    "ls"
   ],
   "metadata": {
    "collapsed": false,
    "pycharm": {
     "name": "#%%\n"
    }
   }
  },
  {
   "cell_type": "code",
   "execution_count": 9,
   "outputs": [
    {
     "data": {
      "text/plain": "[[30767.619193077087, 'GoogleDriveTransfer/Ci/!MSSQL_Backup/InputIntS1.csv'],\n [48413.28955078125,\n  'GoogleDriveTransfer/Ci/!MSSQL_Backup/MT_Input_History.bak'],\n [9358.09619140625, 'GoogleDriveTransfer/Ci/!MSSQL_Backup/All_Int_2013.bak'],\n [2067.038091659546,\n  'GoogleDriveTransfer/Managment 2/Р1/ЖК Питер 1353/Тех  часть/Аналог/ЭОМ.zip'],\n [2199.2690563201904,\n  'GoogleDriveTransfer/Managment 2/ИНПИ/ЖК Мукомольный/Тех часть/2. РД 1 этап (03.07.20)/2. РД 1 этап (03.07.20)/I этап.zip'],\n [2734.3365545272827,\n  'GoogleDriveTransfer/Managment 2/Балтийский вагоноремонтный завод «Новотранс» (БВРЗ)/Тех часть/Проектная документация PDF_DWG.zip'],\n [4035.7817211151123,\n  'GoogleDriveTransfer/Архив/idmitrieva/RENDERS/аттракцион_молот_судьбы.rar'],\n [4110.618448257446,\n  'GoogleDriveTransfer/Архив/idmitrieva/RENDERS/Lobnya/facad/render/1.cxr'],\n [4110.618448257446,\n  'GoogleDriveTransfer/Архив/idmitrieva/RENDERS/Lobnya/panorama/1.cxr'],\n [2640.7392950057983,\n  'GoogleDriveTransfer/Архив/Граждан/ВДНХ/Контент для сайта/DropMeFiles_8Oj4R.zip'],\n [6049.399415969849, 'GoogleDriveTransfer/Архив/Пром/Тяж маш/НКВЗ.zip'],\n [2536.0197381973267,\n  'GoogleDriveTransfer/Винный парк/Исходные данные/РД смежников/Разделы ОВ, ВК, ЭОМ.zip']]"
     },
     "execution_count": 9,
     "metadata": {},
     "output_type": "execute_result"
    }
   ],
   "source": [
    "# [i[1]['ls_files>5000'] for i in ls]\n",
    "ls1 = []\n",
    "for i in ls:\n",
    "    ls1.extend(i[1]['ls_files>5000'])\n",
    "ls1"
   ],
   "metadata": {
    "collapsed": false,
    "pycharm": {
     "name": "#%%\n"
    }
   }
  },
  {
   "cell_type": "code",
   "execution_count": 29,
   "outputs": [
    {
     "data": {
      "text/plain": "[[30767.619193077087, 'GoogleDriveTransfer/Ci/!MSSQL_Backup/InputIntS1.csv'],\n [48413.28955078125,\n  'GoogleDriveTransfer/Ci/!MSSQL_Backup/MT_Input_History.bak'],\n [9358.09619140625, 'GoogleDriveTransfer/Ci/!MSSQL_Backup/All_Int_2013.bak']]"
     },
     "execution_count": 29,
     "metadata": {},
     "output_type": "execute_result"
    }
   ],
   "source": [
    "ls[0][1]['ls_files>5000']"
   ],
   "metadata": {
    "collapsed": false,
    "pycharm": {
     "name": "#%%\n"
    }
   }
  },
  {
   "cell_type": "code",
   "execution_count": 20,
   "outputs": [
    {
     "name": "stdout",
     "output_type": "stream",
     "text": [
      "{'<1000': 7949, '1000-2000': 1, '2000-3000': 0, '3000-4000': 0, '4000-5000': 0, '5000-6000': 0, '6000-7000': 0, '7000-8000': 0, '8000-9000': 0, '9000-10000': 1}\n"
     ]
    }
   ],
   "source": [
    "print(d)"
   ],
   "metadata": {
    "collapsed": false,
    "pycharm": {
     "name": "#%%\n"
    }
   }
  },
  {
   "cell_type": "code",
   "execution_count": null,
   "outputs": [],
   "source": [],
   "metadata": {
    "collapsed": false,
    "pycharm": {
     "name": "#%%\n"
    }
   }
  },
  {
   "cell_type": "code",
   "execution_count": 6,
   "outputs": [
    {
     "data": {
      "text/plain": "[['Ci', 7953, 3998],\n ['Managment 2', 21688, 18406],\n ['Архив', 34662, 4652],\n ['Винный парк', 7761, 3222],\n ['ОСК Шереметьево', 1094, 1000]]"
     },
     "execution_count": 6,
     "metadata": {},
     "output_type": "execute_result"
    }
   ],
   "source": [
    "ls = []\n",
    "for d in drivers:\n",
    "    driv = GDrive(d[0], d[1])\n",
    "    ls.append([d[0], len(driv.dict_files), len(driv.files_blobs)])\n",
    "ls"
   ],
   "metadata": {
    "collapsed": false,
    "pycharm": {
     "name": "#%%\n"
    }
   }
  },
  {
   "cell_type": "code",
   "execution_count": 4,
   "outputs": [
    {
     "data": {
      "text/plain": "0.28258539784862924"
     },
     "execution_count": 4,
     "metadata": {},
     "output_type": "execute_result"
    }
   ],
   "source": [
    "status.progress()"
   ],
   "metadata": {
    "collapsed": false,
    "pycharm": {
     "name": "#%%\n"
    }
   }
  },
  {
   "cell_type": "code",
   "execution_count": 8,
   "outputs": [
    {
     "data": {
      "text/plain": "(1.0, 4246.50396156311, 4246.50396156311)"
     },
     "execution_count": 8,
     "metadata": {},
     "output_type": "execute_result"
    }
   ],
   "source": [
    "status.progress(), status.resumable_progress / 1024 / 1024, status.total_size / 1024 / 1024"
   ],
   "metadata": {
    "collapsed": false,
    "pycharm": {
     "name": "#%%\n"
    }
   }
  },
  {
   "cell_type": "code",
   "execution_count": 4,
   "outputs": [
    {
     "ename": "KeyboardInterrupt",
     "evalue": "",
     "output_type": "error",
     "traceback": [
      "\u001B[1;31m---------------------------------------------------------------------------\u001B[0m",
      "\u001B[1;31mTypeError\u001B[0m                                 Traceback (most recent call last)",
      "\u001B[1;32m~\\AppData\\Local\\Temp/ipykernel_4880/191605479.py\u001B[0m in \u001B[0;36mdownload_file\u001B[1;34m(self, file_id)\u001B[0m\n\u001B[0;32m    279\u001B[0m                     \u001B[0mgdfile\u001B[0m \u001B[1;33m=\u001B[0m \u001B[0mself\u001B[0m\u001B[1;33m.\u001B[0m\u001B[0mdict_files\u001B[0m\u001B[1;33m[\u001B[0m\u001B[0mfile_id\u001B[0m\u001B[1;33m]\u001B[0m\u001B[1;33m\u001B[0m\u001B[1;33m\u001B[0m\u001B[0m\n\u001B[1;32m--> 280\u001B[1;33m                     \u001B[0msize\u001B[0m \u001B[1;33m=\u001B[0m \u001B[0mgdfile\u001B[0m\u001B[1;33m[\u001B[0m\u001B[1;34m'fileSize'\u001B[0m\u001B[1;33m]\u001B[0m \u001B[1;33m/\u001B[0m \u001B[1;36m1024\u001B[0m \u001B[1;33m/\u001B[0m \u001B[1;36m1024\u001B[0m\u001B[1;33m\u001B[0m\u001B[1;33m\u001B[0m\u001B[0m\n\u001B[0m\u001B[0;32m    281\u001B[0m                     \u001B[0mfile_down_parms\u001B[0m\u001B[1;33m.\u001B[0m\u001B[0mappend\u001B[0m\u001B[1;33m(\u001B[0m\u001B[1;33m[\u001B[0m\u001B[0msize\u001B[0m\u001B[1;33m,\u001B[0m \u001B[0mpar\u001B[0m\u001B[1;33m[\u001B[0m\u001B[1;34m'fullname'\u001B[0m\u001B[1;33m]\u001B[0m\u001B[1;33m,\u001B[0m \u001B[0mgdfile\u001B[0m\u001B[1;33m]\u001B[0m\u001B[1;33m)\u001B[0m\u001B[1;33m\u001B[0m\u001B[1;33m\u001B[0m\u001B[0m\n",
      "\u001B[1;31mTypeError\u001B[0m: unsupported operand type(s) for /: 'str' and 'int'",
      "\nDuring handling of the above exception, another exception occurred:\n",
      "\u001B[1;31mKeyboardInterrupt\u001B[0m                         Traceback (most recent call last)",
      "\u001B[1;32m~\\AppData\\Local\\Temp/ipykernel_4880/760632843.py\u001B[0m in \u001B[0;36m<module>\u001B[1;34m\u001B[0m\n\u001B[1;32m----> 1\u001B[1;33m \u001B[0mdone\u001B[0m \u001B[1;33m=\u001B[0m \u001B[0mdriv\u001B[0m\u001B[1;33m.\u001B[0m\u001B[0mdownload_files\u001B[0m\u001B[1;33m(\u001B[0m\u001B[1;33m)\u001B[0m\u001B[1;33m\u001B[0m\u001B[1;33m\u001B[0m\u001B[0m\n\u001B[0m",
      "\u001B[1;32m~\\AppData\\Local\\Temp/ipykernel_4880/191605479.py\u001B[0m in \u001B[0;36mdownload_files\u001B[1;34m(self)\u001B[0m\n\u001B[0;32m    256\u001B[0m             \u001B[1;32mfor\u001B[0m \u001B[0mfile_id\u001B[0m \u001B[1;32min\u001B[0m \u001B[0mself\u001B[0m\u001B[1;33m.\u001B[0m\u001B[0mdict_files\u001B[0m\u001B[1;33m.\u001B[0m\u001B[0mkeys\u001B[0m\u001B[1;33m(\u001B[0m\u001B[1;33m)\u001B[0m\u001B[1;33m:\u001B[0m\u001B[1;33m\u001B[0m\u001B[1;33m\u001B[0m\u001B[0m\n\u001B[0;32m    257\u001B[0m                 \u001B[0mcount_files_checked\u001B[0m \u001B[1;33m+=\u001B[0m \u001B[1;36m1\u001B[0m\u001B[1;33m\u001B[0m\u001B[1;33m\u001B[0m\u001B[0m\n\u001B[1;32m--> 258\u001B[1;33m                 \u001B[0mdone\u001B[0m \u001B[1;33m=\u001B[0m \u001B[0mself\u001B[0m\u001B[1;33m.\u001B[0m\u001B[0mdownload_file\u001B[0m\u001B[1;33m(\u001B[0m\u001B[0mfile_id\u001B[0m\u001B[1;33m)\u001B[0m\u001B[1;33m\u001B[0m\u001B[1;33m\u001B[0m\u001B[0m\n\u001B[0m\u001B[0;32m    259\u001B[0m                 \u001B[1;32mif\u001B[0m \u001B[0mdone\u001B[0m\u001B[1;33m:\u001B[0m\u001B[1;33m\u001B[0m\u001B[1;33m\u001B[0m\u001B[0m\n\u001B[0;32m    260\u001B[0m                     \u001B[0mis_download_files\u001B[0m \u001B[1;33m=\u001B[0m \u001B[1;32mFalse\u001B[0m\u001B[1;33m\u001B[0m\u001B[1;33m\u001B[0m\u001B[0m\n",
      "\u001B[1;32m~\\AppData\\Local\\Temp/ipykernel_4880/191605479.py\u001B[0m in \u001B[0;36mdownload_file\u001B[1;34m(self, file_id)\u001B[0m\n\u001B[0;32m    287\u001B[0m                     \u001B[1;32mreturn\u001B[0m \u001B[1;32mTrue\u001B[0m\u001B[1;33m\u001B[0m\u001B[1;33m\u001B[0m\u001B[0m\n\u001B[0;32m    288\u001B[0m         \u001B[1;32mexcept\u001B[0m \u001B[0mException\u001B[0m \u001B[1;32mas\u001B[0m \u001B[0me\u001B[0m\u001B[1;33m:\u001B[0m\u001B[1;33m\u001B[0m\u001B[1;33m\u001B[0m\u001B[0m\n\u001B[1;32m--> 289\u001B[1;33m             \u001B[0mls_error_files\u001B[0m\u001B[1;33m.\u001B[0m\u001B[0mappend\u001B[0m\u001B[1;33m(\u001B[0m\u001B[1;33m[\u001B[0m\u001B[0mself\u001B[0m\u001B[1;33m.\u001B[0m\u001B[0mdrive_name\u001B[0m\u001B[1;33m,\u001B[0m \u001B[0mfile_id\u001B[0m\u001B[1;33m,\u001B[0m \u001B[0me\u001B[0m\u001B[1;33m]\u001B[0m\u001B[1;33m)\u001B[0m\u001B[1;33m\u001B[0m\u001B[1;33m\u001B[0m\u001B[0m\n\u001B[0m\u001B[0;32m    290\u001B[0m             \u001B[1;32mreturn\u001B[0m \u001B[1;32mFalse\u001B[0m\u001B[1;33m\u001B[0m\u001B[1;33m\u001B[0m\u001B[0m\n\u001B[0;32m    291\u001B[0m         \u001B[1;32mreturn\u001B[0m \u001B[1;32mFalse\u001B[0m\u001B[1;33m\u001B[0m\u001B[1;33m\u001B[0m\u001B[0m\n",
      "\u001B[1;32m~\\AppData\\Local\\Temp/ipykernel_4880/191605479.py\u001B[0m in \u001B[0;36mdownload_file\u001B[1;34m(self, file_id)\u001B[0m\n\u001B[0;32m    287\u001B[0m                     \u001B[1;32mreturn\u001B[0m \u001B[1;32mTrue\u001B[0m\u001B[1;33m\u001B[0m\u001B[1;33m\u001B[0m\u001B[0m\n\u001B[0;32m    288\u001B[0m         \u001B[1;32mexcept\u001B[0m \u001B[0mException\u001B[0m \u001B[1;32mas\u001B[0m \u001B[0me\u001B[0m\u001B[1;33m:\u001B[0m\u001B[1;33m\u001B[0m\u001B[1;33m\u001B[0m\u001B[0m\n\u001B[1;32m--> 289\u001B[1;33m             \u001B[0mls_error_files\u001B[0m\u001B[1;33m.\u001B[0m\u001B[0mappend\u001B[0m\u001B[1;33m(\u001B[0m\u001B[1;33m[\u001B[0m\u001B[0mself\u001B[0m\u001B[1;33m.\u001B[0m\u001B[0mdrive_name\u001B[0m\u001B[1;33m,\u001B[0m \u001B[0mfile_id\u001B[0m\u001B[1;33m,\u001B[0m \u001B[0me\u001B[0m\u001B[1;33m]\u001B[0m\u001B[1;33m)\u001B[0m\u001B[1;33m\u001B[0m\u001B[1;33m\u001B[0m\u001B[0m\n\u001B[0m\u001B[0;32m    290\u001B[0m             \u001B[1;32mreturn\u001B[0m \u001B[1;32mFalse\u001B[0m\u001B[1;33m\u001B[0m\u001B[1;33m\u001B[0m\u001B[0m\n\u001B[0;32m    291\u001B[0m         \u001B[1;32mreturn\u001B[0m \u001B[1;32mFalse\u001B[0m\u001B[1;33m\u001B[0m\u001B[1;33m\u001B[0m\u001B[0m\n",
      "\u001B[1;32m_pydevd_bundle\\pydevd_cython_win32_39_64.pyx\u001B[0m in \u001B[0;36m_pydevd_bundle.pydevd_cython_win32_39_64.SafeCallWrapper.__call__\u001B[1;34m()\u001B[0m\n",
      "\u001B[1;32m_pydevd_bundle\\pydevd_cython_win32_39_64.pyx\u001B[0m in \u001B[0;36m_pydevd_bundle.pydevd_cython_win32_39_64.PyDBFrame.trace_dispatch\u001B[1;34m()\u001B[0m\n",
      "\u001B[1;32m_pydevd_bundle\\pydevd_cython_win32_39_64.pyx\u001B[0m in \u001B[0;36m_pydevd_bundle.pydevd_cython_win32_39_64.PyDBFrame.trace_dispatch\u001B[1;34m()\u001B[0m\n",
      "\u001B[1;32m_pydevd_bundle\\pydevd_cython_win32_39_64.pyx\u001B[0m in \u001B[0;36m_pydevd_bundle.pydevd_cython_win32_39_64.PyDBFrame.trace_dispatch\u001B[1;34m()\u001B[0m\n",
      "\u001B[1;32mC:\\Program Files\\JetBrains\\PyCharm 2022.1.3\\plugins\\python\\helpers-pro\\jupyter_debug\\pydev_jupyter_plugin.py\u001B[0m in \u001B[0;36mstop\u001B[1;34m(plugin, pydb, frame, event, args, stop_info, arg, step_cmd)\u001B[0m\n\u001B[0;32m    167\u001B[0m         \u001B[0mframe\u001B[0m \u001B[1;33m=\u001B[0m \u001B[0msuspend_jupyter\u001B[0m\u001B[1;33m(\u001B[0m\u001B[0mmain_debugger\u001B[0m\u001B[1;33m,\u001B[0m \u001B[0mthread\u001B[0m\u001B[1;33m,\u001B[0m \u001B[0mframe\u001B[0m\u001B[1;33m,\u001B[0m \u001B[0mstep_cmd\u001B[0m\u001B[1;33m)\u001B[0m\u001B[1;33m\u001B[0m\u001B[1;33m\u001B[0m\u001B[0m\n\u001B[0;32m    168\u001B[0m         \u001B[1;32mif\u001B[0m \u001B[0mframe\u001B[0m\u001B[1;33m:\u001B[0m\u001B[1;33m\u001B[0m\u001B[1;33m\u001B[0m\u001B[0m\n\u001B[1;32m--> 169\u001B[1;33m             \u001B[0mmain_debugger\u001B[0m\u001B[1;33m.\u001B[0m\u001B[0mdo_wait_suspend\u001B[0m\u001B[1;33m(\u001B[0m\u001B[0mthread\u001B[0m\u001B[1;33m,\u001B[0m \u001B[0mframe\u001B[0m\u001B[1;33m,\u001B[0m \u001B[0mevent\u001B[0m\u001B[1;33m,\u001B[0m \u001B[0marg\u001B[0m\u001B[1;33m)\u001B[0m\u001B[1;33m\u001B[0m\u001B[1;33m\u001B[0m\u001B[0m\n\u001B[0m\u001B[0;32m    170\u001B[0m             \u001B[1;32mreturn\u001B[0m \u001B[1;32mTrue\u001B[0m\u001B[1;33m\u001B[0m\u001B[1;33m\u001B[0m\u001B[0m\n\u001B[0;32m    171\u001B[0m     \u001B[1;32mreturn\u001B[0m \u001B[1;32mFalse\u001B[0m\u001B[1;33m\u001B[0m\u001B[1;33m\u001B[0m\u001B[0m\n",
      "\u001B[1;32mC:\\Program Files\\JetBrains\\PyCharm 2022.1.3\\plugins\\python\\helpers\\pydev\\pydevd.py\u001B[0m in \u001B[0;36mdo_wait_suspend\u001B[1;34m(self, thread, frame, event, arg, send_suspend_message, is_unhandled_exception)\u001B[0m\n\u001B[0;32m   1153\u001B[0m \u001B[1;33m\u001B[0m\u001B[0m\n\u001B[0;32m   1154\u001B[0m         \u001B[1;32mwith\u001B[0m \u001B[0mself\u001B[0m\u001B[1;33m.\u001B[0m\u001B[0m_threads_suspended_single_notification\u001B[0m\u001B[1;33m.\u001B[0m\u001B[0mnotify_thread_suspended\u001B[0m\u001B[1;33m(\u001B[0m\u001B[0mthread_id\u001B[0m\u001B[1;33m,\u001B[0m \u001B[0mstop_reason\u001B[0m\u001B[1;33m)\u001B[0m\u001B[1;33m:\u001B[0m\u001B[1;33m\u001B[0m\u001B[1;33m\u001B[0m\u001B[0m\n\u001B[1;32m-> 1155\u001B[1;33m             \u001B[0mself\u001B[0m\u001B[1;33m.\u001B[0m\u001B[0m_do_wait_suspend\u001B[0m\u001B[1;33m(\u001B[0m\u001B[0mthread\u001B[0m\u001B[1;33m,\u001B[0m \u001B[0mframe\u001B[0m\u001B[1;33m,\u001B[0m \u001B[0mevent\u001B[0m\u001B[1;33m,\u001B[0m \u001B[0marg\u001B[0m\u001B[1;33m,\u001B[0m \u001B[0msuspend_type\u001B[0m\u001B[1;33m,\u001B[0m \u001B[0mfrom_this_thread\u001B[0m\u001B[1;33m)\u001B[0m\u001B[1;33m\u001B[0m\u001B[1;33m\u001B[0m\u001B[0m\n\u001B[0m\u001B[0;32m   1156\u001B[0m \u001B[1;33m\u001B[0m\u001B[0m\n\u001B[0;32m   1157\u001B[0m     \u001B[1;32mdef\u001B[0m \u001B[0m_do_wait_suspend\u001B[0m\u001B[1;33m(\u001B[0m\u001B[0mself\u001B[0m\u001B[1;33m,\u001B[0m \u001B[0mthread\u001B[0m\u001B[1;33m,\u001B[0m \u001B[0mframe\u001B[0m\u001B[1;33m,\u001B[0m \u001B[0mevent\u001B[0m\u001B[1;33m,\u001B[0m \u001B[0marg\u001B[0m\u001B[1;33m,\u001B[0m \u001B[0msuspend_type\u001B[0m\u001B[1;33m,\u001B[0m \u001B[0mfrom_this_thread\u001B[0m\u001B[1;33m)\u001B[0m\u001B[1;33m:\u001B[0m\u001B[1;33m\u001B[0m\u001B[1;33m\u001B[0m\u001B[0m\n",
      "\u001B[1;32mC:\\Program Files\\JetBrains\\PyCharm 2022.1.3\\plugins\\python\\helpers\\pydev\\pydevd.py\u001B[0m in \u001B[0;36m_do_wait_suspend\u001B[1;34m(self, thread, frame, event, arg, suspend_type, from_this_thread)\u001B[0m\n\u001B[0;32m   1168\u001B[0m \u001B[1;33m\u001B[0m\u001B[0m\n\u001B[0;32m   1169\u001B[0m                 \u001B[0mself\u001B[0m\u001B[1;33m.\u001B[0m\u001B[0mprocess_internal_commands\u001B[0m\u001B[1;33m(\u001B[0m\u001B[1;33m)\u001B[0m\u001B[1;33m\u001B[0m\u001B[1;33m\u001B[0m\u001B[0m\n\u001B[1;32m-> 1170\u001B[1;33m                 \u001B[0mtime\u001B[0m\u001B[1;33m.\u001B[0m\u001B[0msleep\u001B[0m\u001B[1;33m(\u001B[0m\u001B[1;36m0.01\u001B[0m\u001B[1;33m)\u001B[0m\u001B[1;33m\u001B[0m\u001B[1;33m\u001B[0m\u001B[0m\n\u001B[0m\u001B[0;32m   1171\u001B[0m \u001B[1;33m\u001B[0m\u001B[0m\n\u001B[0;32m   1172\u001B[0m         \u001B[0mself\u001B[0m\u001B[1;33m.\u001B[0m\u001B[0mcancel_async_evaluation\u001B[0m\u001B[1;33m(\u001B[0m\u001B[0mget_current_thread_id\u001B[0m\u001B[1;33m(\u001B[0m\u001B[0mthread\u001B[0m\u001B[1;33m)\u001B[0m\u001B[1;33m,\u001B[0m \u001B[0mstr\u001B[0m\u001B[1;33m(\u001B[0m\u001B[0mid\u001B[0m\u001B[1;33m(\u001B[0m\u001B[0mframe\u001B[0m\u001B[1;33m)\u001B[0m\u001B[1;33m)\u001B[0m\u001B[1;33m)\u001B[0m\u001B[1;33m\u001B[0m\u001B[1;33m\u001B[0m\u001B[0m\n",
      "\u001B[1;31mKeyboardInterrupt\u001B[0m: "
     ]
    }
   ],
   "source": [
    "done = driv.download_files()"
   ],
   "metadata": {
    "collapsed": false,
    "pycharm": {
     "name": "#%%\n"
    }
   }
  },
  {
   "cell_type": "code",
   "execution_count": 6,
   "outputs": [],
   "source": [
    "blobs = driv.bucket.list_blobs(prefix='GoogleDriveTransfer/BackOffice')\n",
    "files = [blob.name for blob in blobs]"
   ],
   "metadata": {
    "collapsed": false,
    "pycharm": {
     "name": "#%%\n"
    }
   }
  },
  {
   "cell_type": "code",
   "execution_count": 6,
   "outputs": [],
   "source": [
    "gdf = driv.dict_files['1r5nHAOkTw5980x2shpleprf8hBJRHudm']"
   ],
   "metadata": {
    "collapsed": false,
    "pycharm": {
     "name": "#%%\n"
    }
   }
  },
  {
   "cell_type": "code",
   "execution_count": null,
   "outputs": [],
   "source": [],
   "metadata": {
    "collapsed": false,
    "pycharm": {
     "name": "#%%\n"
    }
   }
  },
  {
   "cell_type": "code",
   "execution_count": 184,
   "outputs": [],
   "source": [
    "service, drive, bucket = get_client()"
   ],
   "metadata": {
    "collapsed": false,
    "pycharm": {
     "name": "#%%\n"
    }
   }
  },
  {
   "cell_type": "code",
   "execution_count": 87,
   "outputs": [
    {
     "ename": "AttributeError",
     "evalue": "'GoogleDrive' object has no attribute 'drives'",
     "output_type": "error",
     "traceback": [
      "\u001B[1;31m---------------------------------------------------------------------------\u001B[0m",
      "\u001B[1;31mAttributeError\u001B[0m                            Traceback (most recent call last)",
      "\u001B[1;32m~\\AppData\\Local\\Temp/ipykernel_16872/1240562265.py\u001B[0m in \u001B[0;36m<module>\u001B[1;34m\u001B[0m\n\u001B[1;32m----> 1\u001B[1;33m \u001B[0mresponse\u001B[0m \u001B[1;33m=\u001B[0m \u001B[0mservice\u001B[0m\u001B[1;33m.\u001B[0m\u001B[0mdrives\u001B[0m\u001B[1;33m\u001B[0m\u001B[1;33m\u001B[0m\u001B[0m\n\u001B[0m",
      "\u001B[1;31mAttributeError\u001B[0m: 'GoogleDrive' object has no attribute 'drives'"
     ]
    }
   ],
   "source": [],
   "metadata": {
    "collapsed": false,
    "pycharm": {
     "name": "#%%\n"
    }
   }
  },
  {
   "cell_type": "code",
   "execution_count": 148,
   "outputs": [],
   "source": [
    "ls_drives = get_list_of_drives(service)"
   ],
   "metadata": {
    "collapsed": false,
    "pycharm": {
     "name": "#%%\n"
    }
   }
  },
  {
   "cell_type": "code",
   "execution_count": 185,
   "outputs": [
    {
     "data": {
      "text/plain": "['Мой Диск _', '0AHpbUawYyiEZUk9PVA']"
     },
     "execution_count": 185,
     "metadata": {},
     "output_type": "execute_result"
    }
   ],
   "source": [
    "drive_name_id = ls_drives[23]\n",
    "drive_name_id"
   ],
   "metadata": {
    "collapsed": false,
    "pycharm": {
     "name": "#%%\n"
    }
   }
  },
  {
   "cell_type": "code",
   "execution_count": 186,
   "outputs": [],
   "source": [
    "gd1 = GDrive(drive, bucket, drive_name_id[0], drive_name_id[1])"
   ],
   "metadata": {
    "collapsed": false,
    "pycharm": {
     "name": "#%%\n"
    }
   }
  },
  {
   "cell_type": "code",
   "execution_count": 109,
   "outputs": [
    {
     "data": {
      "text/plain": "'1SKwTfRGC4Td_4K5ClSIlOLRsiE59vLIwSegzgovQOGw'"
     },
     "execution_count": 109,
     "metadata": {},
     "output_type": "execute_result"
    }
   ],
   "source": [
    "list(gd1.dict_files.keys())[0]"
   ],
   "metadata": {
    "collapsed": false,
    "pycharm": {
     "name": "#%%\n"
    }
   }
  },
  {
   "cell_type": "code",
   "execution_count": 110,
   "outputs": [],
   "source": [
    "def dict_num(dict, number):\n",
    "    return list(dict.keys())[number]"
   ],
   "metadata": {
    "collapsed": false,
    "pycharm": {
     "name": "#%%\n"
    }
   }
  },
  {
   "cell_type": "code",
   "execution_count": 187,
   "outputs": [
    {
     "data": {
      "text/plain": "'1u6CvHnjuyklQqQ4uuxkVNq9ehxv74MrL'"
     },
     "execution_count": 187,
     "metadata": {},
     "output_type": "execute_result"
    }
   ],
   "source": [
    "file_id = dict_num(gd1.dict_files, 820)\n",
    "file_id"
   ],
   "metadata": {
    "collapsed": false,
    "pycharm": {
     "name": "#%%\n"
    }
   }
  },
  {
   "cell_type": "code",
   "execution_count": 188,
   "outputs": [],
   "source": [
    "gdfile = gd1.dict_files[file_id]"
   ],
   "metadata": {
    "collapsed": false,
    "pycharm": {
     "name": "#%%\n"
    }
   }
  },
  {
   "cell_type": "code",
   "execution_count": 189,
   "outputs": [],
   "source": [
    "namefile = gdfile['title']\n",
    "fullname = gd1.dict_files_fullname[file_id]"
   ],
   "metadata": {
    "collapsed": false,
    "pycharm": {
     "name": "#%%\n"
    }
   }
  },
  {
   "cell_type": "code",
   "execution_count": 190,
   "outputs": [
    {
     "data": {
      "text/plain": "'GoogleDriveTransfer/Мой Диск _/Юляша/IMG_20180628_193304.jpg'"
     },
     "execution_count": 190,
     "metadata": {},
     "output_type": "execute_result"
    }
   ],
   "source": [
    "fullname"
   ],
   "metadata": {
    "collapsed": false,
    "pycharm": {
     "name": "#%%\n"
    }
   }
  },
  {
   "cell_type": "code",
   "execution_count": 175,
   "outputs": [],
   "source": [
    "file = drive.CreateFile({'id': file_id})"
   ],
   "metadata": {
    "collapsed": false,
    "pycharm": {
     "name": "#%%\n"
    }
   }
  },
  {
   "cell_type": "code",
   "execution_count": 178,
   "outputs": [
    {
     "ename": "ApiRequestError",
     "evalue": "<HttpError 404 when requesting https://www.googleapis.com/drive/v2/files/1r82ugqPAlo2y3QwIBC1HvtS5TlG8iZcC?alt=json returned \"File not found: 1r82ugqPAlo2y3QwIBC1HvtS5TlG8iZcC\". Details: \"File not found: 1r82ugqPAlo2y3QwIBC1HvtS5TlG8iZcC\">",
     "output_type": "error",
     "traceback": [
      "\u001B[1;31m---------------------------------------------------------------------------\u001B[0m",
      "\u001B[1;31mHttpError\u001B[0m                                 Traceback (most recent call last)",
      "\u001B[1;32md:\\it\\pr\\mypython\\venv\\lib\\site-packages\\pydrive\\files.py\u001B[0m in \u001B[0;36mFetchMetadata\u001B[1;34m(self, fields, fetch_all)\u001B[0m\n\u001B[0;32m    234\u001B[0m       \u001B[1;32mtry\u001B[0m\u001B[1;33m:\u001B[0m\u001B[1;33m\u001B[0m\u001B[1;33m\u001B[0m\u001B[0m\n\u001B[1;32m--> 235\u001B[1;33m         metadata = self.auth.service.files().get(fileId=file_id,\n\u001B[0m\u001B[0;32m    236\u001B[0m                                                  fields=fields)\\\n",
      "\u001B[1;32md:\\it\\pr\\mypython\\venv\\lib\\site-packages\\googleapiclient\\_helpers.py\u001B[0m in \u001B[0;36mpositional_wrapper\u001B[1;34m(*args, **kwargs)\u001B[0m\n\u001B[0;32m    133\u001B[0m                     \u001B[0mlogger\u001B[0m\u001B[1;33m.\u001B[0m\u001B[0mwarning\u001B[0m\u001B[1;33m(\u001B[0m\u001B[0mmessage\u001B[0m\u001B[1;33m)\u001B[0m\u001B[1;33m\u001B[0m\u001B[1;33m\u001B[0m\u001B[0m\n\u001B[1;32m--> 134\u001B[1;33m             \u001B[1;32mreturn\u001B[0m \u001B[0mwrapped\u001B[0m\u001B[1;33m(\u001B[0m\u001B[1;33m*\u001B[0m\u001B[0margs\u001B[0m\u001B[1;33m,\u001B[0m \u001B[1;33m**\u001B[0m\u001B[0mkwargs\u001B[0m\u001B[1;33m)\u001B[0m\u001B[1;33m\u001B[0m\u001B[1;33m\u001B[0m\u001B[0m\n\u001B[0m\u001B[0;32m    135\u001B[0m \u001B[1;33m\u001B[0m\u001B[0m\n",
      "\u001B[1;32md:\\it\\pr\\mypython\\venv\\lib\\site-packages\\googleapiclient\\http.py\u001B[0m in \u001B[0;36mexecute\u001B[1;34m(self, http, num_retries)\u001B[0m\n\u001B[0;32m    914\u001B[0m         \u001B[1;32mif\u001B[0m \u001B[0mresp\u001B[0m\u001B[1;33m.\u001B[0m\u001B[0mstatus\u001B[0m \u001B[1;33m>=\u001B[0m \u001B[1;36m300\u001B[0m\u001B[1;33m:\u001B[0m\u001B[1;33m\u001B[0m\u001B[1;33m\u001B[0m\u001B[0m\n\u001B[1;32m--> 915\u001B[1;33m             \u001B[1;32mraise\u001B[0m \u001B[0mHttpError\u001B[0m\u001B[1;33m(\u001B[0m\u001B[0mresp\u001B[0m\u001B[1;33m,\u001B[0m \u001B[0mcontent\u001B[0m\u001B[1;33m,\u001B[0m \u001B[0muri\u001B[0m\u001B[1;33m=\u001B[0m\u001B[0mself\u001B[0m\u001B[1;33m.\u001B[0m\u001B[0muri\u001B[0m\u001B[1;33m)\u001B[0m\u001B[1;33m\u001B[0m\u001B[1;33m\u001B[0m\u001B[0m\n\u001B[0m\u001B[0;32m    916\u001B[0m         \u001B[1;32mreturn\u001B[0m \u001B[0mself\u001B[0m\u001B[1;33m.\u001B[0m\u001B[0mpostproc\u001B[0m\u001B[1;33m(\u001B[0m\u001B[0mresp\u001B[0m\u001B[1;33m,\u001B[0m \u001B[0mcontent\u001B[0m\u001B[1;33m)\u001B[0m\u001B[1;33m\u001B[0m\u001B[1;33m\u001B[0m\u001B[0m\n",
      "\u001B[1;31mHttpError\u001B[0m: <HttpError 404 when requesting https://www.googleapis.com/drive/v2/files/1r82ugqPAlo2y3QwIBC1HvtS5TlG8iZcC?alt=json returned \"File not found: 1r82ugqPAlo2y3QwIBC1HvtS5TlG8iZcC\". Details: \"File not found: 1r82ugqPAlo2y3QwIBC1HvtS5TlG8iZcC\">",
      "\nDuring handling of the above exception, another exception occurred:\n",
      "\u001B[1;31mApiRequestError\u001B[0m                           Traceback (most recent call last)",
      "\u001B[1;32m~\\AppData\\Local\\Temp/ipykernel_16872/2559800188.py\u001B[0m in \u001B[0;36m<module>\u001B[1;34m\u001B[0m\n\u001B[1;32m----> 1\u001B[1;33m \u001B[0mfile\u001B[0m\u001B[1;33m.\u001B[0m\u001B[0mGetContentFile\u001B[0m\u001B[1;33m(\u001B[0m\u001B[0mnamefile\u001B[0m\u001B[1;33m)\u001B[0m\u001B[1;33m\u001B[0m\u001B[1;33m\u001B[0m\u001B[0m\n\u001B[0m",
      "\u001B[1;32md:\\it\\pr\\mypython\\venv\\lib\\site-packages\\pydrive\\files.py\u001B[0m in \u001B[0;36mGetContentFile\u001B[1;34m(self, filename, mimetype, remove_bom)\u001B[0m\n\u001B[0;32m    208\u001B[0m                     \u001B[0mtype\u001B[0m\u001B[1;33m(\u001B[0m\u001B[0mself\u001B[0m\u001B[1;33m.\u001B[0m\u001B[0mcontent\u001B[0m\u001B[1;33m)\u001B[0m \u001B[1;32mis\u001B[0m \u001B[1;32mnot\u001B[0m \u001B[0mio\u001B[0m\u001B[1;33m.\u001B[0m\u001B[0mBytesIO\u001B[0m \u001B[1;32mor\u001B[0m\u001B[0;31m \u001B[0m\u001B[0;31m\\\u001B[0m\u001B[1;33m\u001B[0m\u001B[1;33m\u001B[0m\u001B[0m\n\u001B[0;32m    209\u001B[0m                     \u001B[0mself\u001B[0m\u001B[1;33m.\u001B[0m\u001B[0mhas_bom\u001B[0m \u001B[1;33m==\u001B[0m \u001B[0mremove_bom\u001B[0m\u001B[1;33m:\u001B[0m\u001B[1;33m\u001B[0m\u001B[1;33m\u001B[0m\u001B[0m\n\u001B[1;32m--> 210\u001B[1;33m       \u001B[0mself\u001B[0m\u001B[1;33m.\u001B[0m\u001B[0mFetchContent\u001B[0m\u001B[1;33m(\u001B[0m\u001B[0mmimetype\u001B[0m\u001B[1;33m,\u001B[0m \u001B[0mremove_bom\u001B[0m\u001B[1;33m)\u001B[0m\u001B[1;33m\u001B[0m\u001B[1;33m\u001B[0m\u001B[0m\n\u001B[0m\u001B[0;32m    211\u001B[0m     \u001B[0mf\u001B[0m \u001B[1;33m=\u001B[0m \u001B[0mopen\u001B[0m\u001B[1;33m(\u001B[0m\u001B[0mfilename\u001B[0m\u001B[1;33m,\u001B[0m \u001B[1;34m'wb'\u001B[0m\u001B[1;33m)\u001B[0m\u001B[1;33m\u001B[0m\u001B[1;33m\u001B[0m\u001B[0m\n\u001B[0;32m    212\u001B[0m     \u001B[0mf\u001B[0m\u001B[1;33m.\u001B[0m\u001B[0mwrite\u001B[0m\u001B[1;33m(\u001B[0m\u001B[0mself\u001B[0m\u001B[1;33m.\u001B[0m\u001B[0mcontent\u001B[0m\u001B[1;33m.\u001B[0m\u001B[0mgetvalue\u001B[0m\u001B[1;33m(\u001B[0m\u001B[1;33m)\u001B[0m\u001B[1;33m)\u001B[0m\u001B[1;33m\u001B[0m\u001B[1;33m\u001B[0m\u001B[0m\n",
      "\u001B[1;32md:\\it\\pr\\mypython\\venv\\lib\\site-packages\\pydrive\\files.py\u001B[0m in \u001B[0;36m_decorated\u001B[1;34m(self, *args, **kwargs)\u001B[0m\n\u001B[0;32m     40\u001B[0m   \u001B[1;32mdef\u001B[0m \u001B[0m_decorated\u001B[0m\u001B[1;33m(\u001B[0m\u001B[0mself\u001B[0m\u001B[1;33m,\u001B[0m \u001B[1;33m*\u001B[0m\u001B[0margs\u001B[0m\u001B[1;33m,\u001B[0m \u001B[1;33m**\u001B[0m\u001B[0mkwargs\u001B[0m\u001B[1;33m)\u001B[0m\u001B[1;33m:\u001B[0m\u001B[1;33m\u001B[0m\u001B[1;33m\u001B[0m\u001B[0m\n\u001B[0;32m     41\u001B[0m     \u001B[1;32mif\u001B[0m \u001B[1;32mnot\u001B[0m \u001B[0mself\u001B[0m\u001B[1;33m.\u001B[0m\u001B[0muploaded\u001B[0m\u001B[1;33m:\u001B[0m\u001B[1;33m\u001B[0m\u001B[1;33m\u001B[0m\u001B[0m\n\u001B[1;32m---> 42\u001B[1;33m       \u001B[0mself\u001B[0m\u001B[1;33m.\u001B[0m\u001B[0mFetchMetadata\u001B[0m\u001B[1;33m(\u001B[0m\u001B[1;33m)\u001B[0m\u001B[1;33m\u001B[0m\u001B[1;33m\u001B[0m\u001B[0m\n\u001B[0m\u001B[0;32m     43\u001B[0m     \u001B[1;32mreturn\u001B[0m \u001B[0mdecoratee\u001B[0m\u001B[1;33m(\u001B[0m\u001B[0mself\u001B[0m\u001B[1;33m,\u001B[0m \u001B[1;33m*\u001B[0m\u001B[0margs\u001B[0m\u001B[1;33m,\u001B[0m \u001B[1;33m**\u001B[0m\u001B[0mkwargs\u001B[0m\u001B[1;33m)\u001B[0m\u001B[1;33m\u001B[0m\u001B[1;33m\u001B[0m\u001B[0m\n\u001B[0;32m     44\u001B[0m   \u001B[1;32mreturn\u001B[0m \u001B[0m_decorated\u001B[0m\u001B[1;33m\u001B[0m\u001B[1;33m\u001B[0m\u001B[0m\n",
      "\u001B[1;32md:\\it\\pr\\mypython\\venv\\lib\\site-packages\\pydrive\\auth.py\u001B[0m in \u001B[0;36m_decorated\u001B[1;34m(self, *args, **kwargs)\u001B[0m\n\u001B[0;32m     73\u001B[0m       \u001B[0mself\u001B[0m\u001B[1;33m.\u001B[0m\u001B[0mhttp\u001B[0m \u001B[1;33m=\u001B[0m \u001B[0mself\u001B[0m\u001B[1;33m.\u001B[0m\u001B[0mauth\u001B[0m\u001B[1;33m.\u001B[0m\u001B[0mGet_Http_Object\u001B[0m\u001B[1;33m(\u001B[0m\u001B[1;33m)\u001B[0m\u001B[1;33m\u001B[0m\u001B[1;33m\u001B[0m\u001B[0m\n\u001B[0;32m     74\u001B[0m \u001B[1;33m\u001B[0m\u001B[0m\n\u001B[1;32m---> 75\u001B[1;33m     \u001B[1;32mreturn\u001B[0m \u001B[0mdecoratee\u001B[0m\u001B[1;33m(\u001B[0m\u001B[0mself\u001B[0m\u001B[1;33m,\u001B[0m \u001B[1;33m*\u001B[0m\u001B[0margs\u001B[0m\u001B[1;33m,\u001B[0m \u001B[1;33m**\u001B[0m\u001B[0mkwargs\u001B[0m\u001B[1;33m)\u001B[0m\u001B[1;33m\u001B[0m\u001B[1;33m\u001B[0m\u001B[0m\n\u001B[0m\u001B[0;32m     76\u001B[0m   \u001B[1;32mreturn\u001B[0m \u001B[0m_decorated\u001B[0m\u001B[1;33m\u001B[0m\u001B[1;33m\u001B[0m\u001B[0m\n\u001B[0;32m     77\u001B[0m \u001B[1;33m\u001B[0m\u001B[0m\n",
      "\u001B[1;32md:\\it\\pr\\mypython\\venv\\lib\\site-packages\\pydrive\\files.py\u001B[0m in \u001B[0;36mFetchMetadata\u001B[1;34m(self, fields, fetch_all)\u001B[0m\n\u001B[0;32m    237\u001B[0m           \u001B[1;33m.\u001B[0m\u001B[0mexecute\u001B[0m\u001B[1;33m(\u001B[0m\u001B[0mhttp\u001B[0m\u001B[1;33m=\u001B[0m\u001B[0mself\u001B[0m\u001B[1;33m.\u001B[0m\u001B[0mhttp\u001B[0m\u001B[1;33m)\u001B[0m\u001B[1;33m\u001B[0m\u001B[1;33m\u001B[0m\u001B[0m\n\u001B[0;32m    238\u001B[0m       \u001B[1;32mexcept\u001B[0m \u001B[0merrors\u001B[0m\u001B[1;33m.\u001B[0m\u001B[0mHttpError\u001B[0m \u001B[1;32mas\u001B[0m \u001B[0merror\u001B[0m\u001B[1;33m:\u001B[0m\u001B[1;33m\u001B[0m\u001B[1;33m\u001B[0m\u001B[0m\n\u001B[1;32m--> 239\u001B[1;33m         \u001B[1;32mraise\u001B[0m \u001B[0mApiRequestError\u001B[0m\u001B[1;33m(\u001B[0m\u001B[0merror\u001B[0m\u001B[1;33m)\u001B[0m\u001B[1;33m\u001B[0m\u001B[1;33m\u001B[0m\u001B[0m\n\u001B[0m\u001B[0;32m    240\u001B[0m       \u001B[1;32melse\u001B[0m\u001B[1;33m:\u001B[0m\u001B[1;33m\u001B[0m\u001B[1;33m\u001B[0m\u001B[0m\n\u001B[0;32m    241\u001B[0m         \u001B[0mself\u001B[0m\u001B[1;33m.\u001B[0m\u001B[0muploaded\u001B[0m \u001B[1;33m=\u001B[0m \u001B[1;32mTrue\u001B[0m\u001B[1;33m\u001B[0m\u001B[1;33m\u001B[0m\u001B[0m\n",
      "\u001B[1;31mApiRequestError\u001B[0m: <HttpError 404 when requesting https://www.googleapis.com/drive/v2/files/1r82ugqPAlo2y3QwIBC1HvtS5TlG8iZcC?alt=json returned \"File not found: 1r82ugqPAlo2y3QwIBC1HvtS5TlG8iZcC\". Details: \"File not found: 1r82ugqPAlo2y3QwIBC1HvtS5TlG8iZcC\">"
     ]
    }
   ],
   "source": [
    "file.GetContentFile(namefile)"
   ],
   "metadata": {
    "collapsed": false,
    "pycharm": {
     "name": "#%%\n"
    }
   }
  },
  {
   "cell_type": "code",
   "execution_count": 167,
   "outputs": [],
   "source": [
    "gdfile = gd1.dict_files[file_id]"
   ],
   "metadata": {
    "collapsed": false,
    "pycharm": {
     "name": "#%%\n"
    }
   }
  },
  {
   "cell_type": "code",
   "execution_count": 168,
   "outputs": [
    {
     "data": {
      "text/plain": "'image/jpeg'"
     },
     "execution_count": 168,
     "metadata": {},
     "output_type": "execute_result"
    }
   ],
   "source": [
    "mimeType = gdfile['mimeType']\n",
    "mimeType"
   ],
   "metadata": {
    "collapsed": false,
    "pycharm": {
     "name": "#%%\n"
    }
   }
  },
  {
   "cell_type": "code",
   "execution_count": 169,
   "outputs": [
    {
     "data": {
      "text/plain": "('015.jpg',\n 'GoogleDriveTransfer/BackOffice/Регламенты/Стандарт предприятия проектного института/Стандарт предприятия проектного института/Задание на проектирование/015.jpg')"
     },
     "execution_count": 169,
     "metadata": {},
     "output_type": "execute_result"
    }
   ],
   "source": [
    "namefile = gdfile['title']\n",
    "fullname = gd1.dict_files_fullname[file_id]\n",
    "# namefile = f\"{namefile}.docx\"\n",
    "# fullname = f\"{fullname}.docx\"\n",
    "namefile, fullname"
   ],
   "metadata": {
    "collapsed": false,
    "pycharm": {
     "name": "#%%\n"
    }
   }
  },
  {
   "cell_type": "code",
   "execution_count": 193,
   "outputs": [],
   "source": [
    "blob = bucket.blob(fullname)"
   ],
   "metadata": {
    "collapsed": false,
    "pycharm": {
     "name": "#%%\n"
    }
   }
  },
  {
   "cell_type": "code",
   "execution_count": 194,
   "outputs": [
    {
     "data": {
      "text/plain": "False"
     },
     "execution_count": 194,
     "metadata": {},
     "output_type": "execute_result"
    }
   ],
   "source": [
    "blob.exists()"
   ],
   "metadata": {
    "collapsed": false,
    "pycharm": {
     "name": "#%%\n"
    }
   }
  },
  {
   "cell_type": "code",
   "execution_count": 174,
   "outputs": [
    {
     "ename": "UnicodeDecodeError",
     "evalue": "'utf-8' codec can't decode byte 0xff in position 0: invalid start byte",
     "output_type": "error",
     "traceback": [
      "\u001B[1;31m---------------------------------------------------------------------------\u001B[0m",
      "\u001B[1;31mUnicodeDecodeError\u001B[0m                        Traceback (most recent call last)",
      "\u001B[1;32m~\\AppData\\Local\\Temp/ipykernel_16872/1223103733.py\u001B[0m in \u001B[0;36m<module>\u001B[1;34m\u001B[0m\n\u001B[1;32m----> 1\u001B[1;33m \u001B[0ms1\u001B[0m \u001B[1;33m=\u001B[0m \u001B[0mgdfile\u001B[0m\u001B[1;33m.\u001B[0m\u001B[0mGetContentString\u001B[0m\u001B[1;33m(\u001B[0m\u001B[1;33m)\u001B[0m\u001B[1;33m\u001B[0m\u001B[1;33m\u001B[0m\u001B[0m\n\u001B[0m",
      "\u001B[1;32md:\\it\\pr\\mypython\\venv\\lib\\site-packages\\pydrive\\files.py\u001B[0m in \u001B[0;36mGetContentString\u001B[1;34m(self, mimetype, encoding, remove_bom)\u001B[0m\n\u001B[0;32m    192\u001B[0m                     \u001B[0mself\u001B[0m\u001B[1;33m.\u001B[0m\u001B[0mhas_bom\u001B[0m \u001B[1;33m==\u001B[0m \u001B[0mremove_bom\u001B[0m\u001B[1;33m:\u001B[0m\u001B[1;33m\u001B[0m\u001B[1;33m\u001B[0m\u001B[0m\n\u001B[0;32m    193\u001B[0m       \u001B[0mself\u001B[0m\u001B[1;33m.\u001B[0m\u001B[0mFetchContent\u001B[0m\u001B[1;33m(\u001B[0m\u001B[0mmimetype\u001B[0m\u001B[1;33m,\u001B[0m \u001B[0mremove_bom\u001B[0m\u001B[1;33m)\u001B[0m\u001B[1;33m\u001B[0m\u001B[1;33m\u001B[0m\u001B[0m\n\u001B[1;32m--> 194\u001B[1;33m     \u001B[1;32mreturn\u001B[0m \u001B[0mself\u001B[0m\u001B[1;33m.\u001B[0m\u001B[0mcontent\u001B[0m\u001B[1;33m.\u001B[0m\u001B[0mgetvalue\u001B[0m\u001B[1;33m(\u001B[0m\u001B[1;33m)\u001B[0m\u001B[1;33m.\u001B[0m\u001B[0mdecode\u001B[0m\u001B[1;33m(\u001B[0m\u001B[0mencoding\u001B[0m\u001B[1;33m)\u001B[0m\u001B[1;33m\u001B[0m\u001B[1;33m\u001B[0m\u001B[0m\n\u001B[0m\u001B[0;32m    195\u001B[0m \u001B[1;33m\u001B[0m\u001B[0m\n\u001B[0;32m    196\u001B[0m   \u001B[1;32mdef\u001B[0m \u001B[0mGetContentFile\u001B[0m\u001B[1;33m(\u001B[0m\u001B[0mself\u001B[0m\u001B[1;33m,\u001B[0m \u001B[0mfilename\u001B[0m\u001B[1;33m,\u001B[0m \u001B[0mmimetype\u001B[0m\u001B[1;33m=\u001B[0m\u001B[1;32mNone\u001B[0m\u001B[1;33m,\u001B[0m \u001B[0mremove_bom\u001B[0m\u001B[1;33m=\u001B[0m\u001B[1;32mFalse\u001B[0m\u001B[1;33m)\u001B[0m\u001B[1;33m:\u001B[0m\u001B[1;33m\u001B[0m\u001B[1;33m\u001B[0m\u001B[0m\n",
      "\u001B[1;31mUnicodeDecodeError\u001B[0m: 'utf-8' codec can't decode byte 0xff in position 0: invalid start byte"
     ]
    }
   ],
   "source": [
    "s1 = gdfile.GetContentString()"
   ],
   "metadata": {
    "collapsed": false,
    "pycharm": {
     "name": "#%%\n"
    }
   }
  },
  {
   "cell_type": "code",
   "execution_count": 162,
   "outputs": [],
   "source": [
    "gdfile.GetContentFile(namefile, mimetype='application/vnd.openxmlformats-officedocument.wordprocessingml.document')"
   ],
   "metadata": {
    "collapsed": false,
    "pycharm": {
     "name": "#%%\n"
    }
   }
  },
  {
   "cell_type": "code",
   "execution_count": 163,
   "outputs": [],
   "source": [
    "import os\n",
    "\n",
    "# удалить файл\n",
    "os.remove(namefile)"
   ],
   "metadata": {
    "collapsed": false,
    "pycharm": {
     "name": "#%%\n"
    }
   }
  },
  {
   "cell_type": "code",
   "execution_count": 138,
   "outputs": [
    {
     "ename": "FileNotDownloadableError",
     "evalue": "No downloadLink/exportLinks for mimetype found in metadata",
     "output_type": "error",
     "traceback": [
      "\u001B[1;31m---------------------------------------------------------------------------\u001B[0m",
      "\u001B[1;31mFileNotDownloadableError\u001B[0m                  Traceback (most recent call last)",
      "\u001B[1;32m~\\AppData\\Local\\Temp/ipykernel_16872/3075259327.py\u001B[0m in \u001B[0;36m<module>\u001B[1;34m\u001B[0m\n\u001B[1;32m----> 1\u001B[1;33m \u001B[0mf\u001B[0m \u001B[1;33m=\u001B[0m \u001B[0mgdfile\u001B[0m\u001B[1;33m.\u001B[0m\u001B[0mGetContentFile\u001B[0m\u001B[1;33m(\u001B[0m\u001B[1;34mf\"{namefile}, mimetype='application/vnd.openxmlformats-officedocument.wordprocessingml.document'\"\u001B[0m\u001B[1;33m)\u001B[0m\u001B[1;33m\u001B[0m\u001B[1;33m\u001B[0m\u001B[0m\n\u001B[0m",
      "\u001B[1;32md:\\it\\pr\\mypython\\venv\\lib\\site-packages\\pydrive\\files.py\u001B[0m in \u001B[0;36mGetContentFile\u001B[1;34m(self, filename, mimetype, remove_bom)\u001B[0m\n\u001B[0;32m    208\u001B[0m                     \u001B[0mtype\u001B[0m\u001B[1;33m(\u001B[0m\u001B[0mself\u001B[0m\u001B[1;33m.\u001B[0m\u001B[0mcontent\u001B[0m\u001B[1;33m)\u001B[0m \u001B[1;32mis\u001B[0m \u001B[1;32mnot\u001B[0m \u001B[0mio\u001B[0m\u001B[1;33m.\u001B[0m\u001B[0mBytesIO\u001B[0m \u001B[1;32mor\u001B[0m\u001B[0;31m \u001B[0m\u001B[0;31m\\\u001B[0m\u001B[1;33m\u001B[0m\u001B[1;33m\u001B[0m\u001B[0m\n\u001B[0;32m    209\u001B[0m                     \u001B[0mself\u001B[0m\u001B[1;33m.\u001B[0m\u001B[0mhas_bom\u001B[0m \u001B[1;33m==\u001B[0m \u001B[0mremove_bom\u001B[0m\u001B[1;33m:\u001B[0m\u001B[1;33m\u001B[0m\u001B[1;33m\u001B[0m\u001B[0m\n\u001B[1;32m--> 210\u001B[1;33m       \u001B[0mself\u001B[0m\u001B[1;33m.\u001B[0m\u001B[0mFetchContent\u001B[0m\u001B[1;33m(\u001B[0m\u001B[0mmimetype\u001B[0m\u001B[1;33m,\u001B[0m \u001B[0mremove_bom\u001B[0m\u001B[1;33m)\u001B[0m\u001B[1;33m\u001B[0m\u001B[1;33m\u001B[0m\u001B[0m\n\u001B[0m\u001B[0;32m    211\u001B[0m     \u001B[0mf\u001B[0m \u001B[1;33m=\u001B[0m \u001B[0mopen\u001B[0m\u001B[1;33m(\u001B[0m\u001B[0mfilename\u001B[0m\u001B[1;33m,\u001B[0m \u001B[1;34m'wb'\u001B[0m\u001B[1;33m)\u001B[0m\u001B[1;33m\u001B[0m\u001B[1;33m\u001B[0m\u001B[0m\n\u001B[0;32m    212\u001B[0m     \u001B[0mf\u001B[0m\u001B[1;33m.\u001B[0m\u001B[0mwrite\u001B[0m\u001B[1;33m(\u001B[0m\u001B[0mself\u001B[0m\u001B[1;33m.\u001B[0m\u001B[0mcontent\u001B[0m\u001B[1;33m.\u001B[0m\u001B[0mgetvalue\u001B[0m\u001B[1;33m(\u001B[0m\u001B[1;33m)\u001B[0m\u001B[1;33m)\u001B[0m\u001B[1;33m\u001B[0m\u001B[1;33m\u001B[0m\u001B[0m\n",
      "\u001B[1;32md:\\it\\pr\\mypython\\venv\\lib\\site-packages\\pydrive\\files.py\u001B[0m in \u001B[0;36m_decorated\u001B[1;34m(self, *args, **kwargs)\u001B[0m\n\u001B[0;32m     41\u001B[0m     \u001B[1;32mif\u001B[0m \u001B[1;32mnot\u001B[0m \u001B[0mself\u001B[0m\u001B[1;33m.\u001B[0m\u001B[0muploaded\u001B[0m\u001B[1;33m:\u001B[0m\u001B[1;33m\u001B[0m\u001B[1;33m\u001B[0m\u001B[0m\n\u001B[0;32m     42\u001B[0m       \u001B[0mself\u001B[0m\u001B[1;33m.\u001B[0m\u001B[0mFetchMetadata\u001B[0m\u001B[1;33m(\u001B[0m\u001B[1;33m)\u001B[0m\u001B[1;33m\u001B[0m\u001B[1;33m\u001B[0m\u001B[0m\n\u001B[1;32m---> 43\u001B[1;33m     \u001B[1;32mreturn\u001B[0m \u001B[0mdecoratee\u001B[0m\u001B[1;33m(\u001B[0m\u001B[0mself\u001B[0m\u001B[1;33m,\u001B[0m \u001B[1;33m*\u001B[0m\u001B[0margs\u001B[0m\u001B[1;33m,\u001B[0m \u001B[1;33m**\u001B[0m\u001B[0mkwargs\u001B[0m\u001B[1;33m)\u001B[0m\u001B[1;33m\u001B[0m\u001B[1;33m\u001B[0m\u001B[0m\n\u001B[0m\u001B[0;32m     44\u001B[0m   \u001B[1;32mreturn\u001B[0m \u001B[0m_decorated\u001B[0m\u001B[1;33m\u001B[0m\u001B[1;33m\u001B[0m\u001B[0m\n\u001B[0;32m     45\u001B[0m \u001B[1;33m\u001B[0m\u001B[0m\n",
      "\u001B[1;32md:\\it\\pr\\mypython\\venv\\lib\\site-packages\\pydrive\\files.py\u001B[0m in \u001B[0;36mFetchContent\u001B[1;34m(self, mimetype, remove_bom)\u001B[0m\n\u001B[0;32m    262\u001B[0m \u001B[1;33m\u001B[0m\u001B[0m\n\u001B[0;32m    263\u001B[0m     \u001B[1;32melse\u001B[0m\u001B[1;33m:\u001B[0m\u001B[1;33m\u001B[0m\u001B[1;33m\u001B[0m\u001B[0m\n\u001B[1;32m--> 264\u001B[1;33m       raise FileNotDownloadableError(\n\u001B[0m\u001B[0;32m    265\u001B[0m         'No downloadLink/exportLinks for mimetype found in metadata')\n\u001B[0;32m    266\u001B[0m \u001B[1;33m\u001B[0m\u001B[0m\n",
      "\u001B[1;31mFileNotDownloadableError\u001B[0m: No downloadLink/exportLinks for mimetype found in metadata"
     ]
    }
   ],
   "source": [
    "f = gdfile.GetContentFile(\n",
    "    f\"{namefile}, mimetype='application/vnd.openxmlformats-officedocument.wordprocessingml.document'\")"
   ],
   "metadata": {
    "collapsed": false,
    "pycharm": {
     "name": "#%%\n"
    }
   }
  },
  {
   "cell_type": "code",
   "execution_count": null,
   "outputs": [],
   "source": [
    "f = gdfile.GetContentFile(f\"'{namefile}', mimetype='{mimeType}'\")"
   ],
   "metadata": {
    "collapsed": false,
    "pycharm": {
     "name": "#%%\n"
    }
   }
  },
  {
   "cell_type": "code",
   "execution_count": null,
   "outputs": [],
   "source": [],
   "metadata": {
    "collapsed": false,
    "pycharm": {
     "name": "#%%\n"
    }
   }
  },
  {
   "cell_type": "code",
   "execution_count": null,
   "outputs": [],
   "source": [
    "def download_file(file_id):\n",
    "    gdfile = gd1.dict_files[file_id]\n",
    "    mimeType = gdfile['mimeType']\n",
    "    namefile = gdfile['title']\n",
    "    fullname = gd1.dict_files_fullname[file_id]\n",
    "\n",
    "    if mimeType == 'application/vnd.google-apps.document':\n",
    "        namefile = f\"{namefile}.docx\"\n",
    "        fullname = f\"{fullname}.docx\"\n",
    "        gdfile.GetContentFile(namefile,\n",
    "                              mimetype='application/vnd.openxmlformats-officedocument.wordprocessingml.document')\n",
    "\n",
    "    elif mimeType == 'application/vnd.google-apps.spreadsheet':\n",
    "        namefile = f\"{namefile}.xlsx\"\n",
    "        fullname = f\"{fullname}.xlsx\"\n",
    "        gdfile.GetContentFile(namefile, mimetype='application/vnd.openxmlformats-officedocument.spreadsheetml.sheet')\n",
    "\n",
    "    elif mimeType == 'application/vnd.google-apps.presentation':\n",
    "        namefile = f\"{namefile}.pptx\"\n",
    "        fullname = f\"{fullname}.pptx\"\n",
    "        gdfile.GetContentFile(namefile,\n",
    "                              mimetype='application/vnd.openxmlformats-officedocument.presentationml.presentation')\n",
    "\n",
    "    elif mimeType == 'application/vnd.google-apps.shortcut':\n",
    "        namefile = f\"{namefile}.url\"\n",
    "        fullname = f\"{fullname}.url\"\n",
    "        gdfile.GetContentFile(namefile, mimetype='application/x-ms-shortcut')\n",
    "\n",
    "    elif mimeType == 'application/vnd.google-apps.site':\n",
    "        namefile = f\"{namefile}.html\"\n",
    "        fullname = f\"{fullname}.html\"\n",
    "        gdfile.GetContentFile(namefile, mimetype='text/html')\n",
    "\n",
    "    blob = bucket.blob(fullname)\n",
    "    blob.upload_from_filename(namefile)\n",
    "\n",
    "    os.remove(namefile)\n"
   ],
   "metadata": {
    "collapsed": false,
    "pycharm": {
     "name": "#%%\n"
    }
   }
  },
  {
   "cell_type": "code",
   "execution_count": 154,
   "outputs": [
    {
     "data": {
      "text/plain": "'Должностная инструкция инженера'"
     },
     "execution_count": 154,
     "metadata": {},
     "output_type": "execute_result"
    }
   ],
   "source": [
    "gdfile['title']"
   ],
   "metadata": {
    "collapsed": false,
    "pycharm": {
     "name": "#%%\n"
    }
   }
  },
  {
   "cell_type": "code",
   "execution_count": 155,
   "outputs": [],
   "source": [
    "gdfile.GetContentFile(f\"{gdfile['title']}.docx\",\n",
    "                      mimetype='application/vnd.openxmlformats-officedocument.wordprocessingml.document')"
   ],
   "metadata": {
    "collapsed": false,
    "pycharm": {
     "name": "#%%\n"
    }
   }
  },
  {
   "cell_type": "code",
   "execution_count": 127,
   "outputs": [
    {
     "data": {
      "text/plain": "('Учет рабочего времени. Методика работы по Тайм трекингу CRM системы.docx',\n 'GoogleDriveTransfer/BackOffice/СТП_2022/Учет рабочего времени. Методика работы по Тайм трекингу CRM системы.docx')"
     },
     "execution_count": 127,
     "metadata": {},
     "output_type": "execute_result"
    }
   ],
   "source": [
    "namefile = f\"{gdfile['title']}.docx\"\n",
    "fullname = f\"{gd1.dict_files_fullname[file_id]}.docx\"\n",
    "namefile, fullname"
   ],
   "metadata": {
    "collapsed": false,
    "pycharm": {
     "name": "#%%\n"
    }
   }
  },
  {
   "cell_type": "code",
   "execution_count": 129,
   "outputs": [],
   "source": [
    "\n",
    "namefile = f\"{gdfile['title']}.docx\"\n",
    "fullname = f\"{gd1.dict_files_fullname[file_id]}.docx\"\n",
    "\n",
    "blob = bucket.blob(fullname)\n",
    "blob.upload_from_filename(namefile)"
   ],
   "metadata": {
    "collapsed": false,
    "pycharm": {
     "name": "#%%\n"
    }
   }
  },
  {
   "cell_type": "code",
   "execution_count": 128,
   "outputs": [
    {
     "ename": "NameError",
     "evalue": "name 'blob' is not defined",
     "output_type": "error",
     "traceback": [
      "\u001B[1;31m---------------------------------------------------------------------------\u001B[0m",
      "\u001B[1;31mNameError\u001B[0m                                 Traceback (most recent call last)",
      "\u001B[1;32m~\\AppData\\Local\\Temp/ipykernel_16872/2896734230.py\u001B[0m in \u001B[0;36m<module>\u001B[1;34m\u001B[0m\n\u001B[1;32m----> 1\u001B[1;33m \u001B[0mblob\u001B[0m\u001B[1;33m.\u001B[0m\u001B[0mupload_from_filename\u001B[0m\u001B[1;33m(\u001B[0m\u001B[0mnamefile\u001B[0m\u001B[1;33m)\u001B[0m\u001B[1;33m\u001B[0m\u001B[1;33m\u001B[0m\u001B[0m\n\u001B[0m",
      "\u001B[1;31mNameError\u001B[0m: name 'blob' is not defined"
     ]
    }
   ],
   "source": [
    "blob.upload_from_filename(namefile)"
   ],
   "metadata": {
    "collapsed": false,
    "pycharm": {
     "name": "#%%\n"
    }
   }
  },
  {
   "cell_type": "code",
   "execution_count": null,
   "outputs": [],
   "source": [],
   "metadata": {
    "collapsed": false,
    "pycharm": {
     "name": "#%%\n"
    }
   }
  },
  {
   "cell_type": "code",
   "execution_count": 75,
   "outputs": [
    {
     "data": {
      "text/plain": "['Ci', '0AHj-PRcbOxSWUk9PVA']"
     },
     "execution_count": 75,
     "metadata": {},
     "output_type": "execute_result"
    }
   ],
   "source": [
    "drive_name_id = ls_drives[1]\n",
    "drive_name_id"
   ],
   "metadata": {
    "collapsed": false,
    "pycharm": {
     "name": "#%%\n"
    }
   }
  },
  {
   "cell_type": "code",
   "execution_count": 76,
   "outputs": [
    {
     "name": "stdout",
     "output_type": "stream",
     "text": [
      "Время выполнения:  57.646464586257935\n"
     ]
    }
   ],
   "source": [
    "start_time = time.time()\n",
    "ls_files = get_list_of_files_in_drive(service, drive_name_id)\n",
    "end_time = time.time()\n",
    "\n",
    "print('Время выполнения: ', end_time - start_time)"
   ],
   "metadata": {
    "collapsed": false,
    "pycharm": {
     "name": "#%%\n"
    }
   }
  },
  {
   "cell_type": "code",
   "execution_count": 27,
   "outputs": [],
   "source": [
    "ls1 = []\n",
    "for file in ls_files:\n",
    "    ls1.append(get_full_path_to_file(service, drive_name_id, file['id']))"
   ],
   "metadata": {
    "collapsed": false,
    "pycharm": {
     "name": "#%%\n"
    }
   }
  },
  {
   "cell_type": "code",
   "execution_count": null,
   "outputs": [],
   "source": [
    "response = service.files().list(\n",
    "    q=\"mimeType!='application/vnd.google-apps.folder'\",\n",
    "    corpora='drive',\n",
    "    driveId=drive_name_id[1],\n",
    "    includeItemsFromAllDrives=True,\n",
    "    supportsAllDrives=True,\n",
    "    fields='nextPageToken, files(id, name, mimeType)').execute()"
   ],
   "metadata": {
    "collapsed": false,
    "pycharm": {
     "name": "#%%\n"
    }
   }
  },
  {
   "cell_type": "code",
   "execution_count": null,
   "outputs": [],
   "source": [],
   "metadata": {
    "collapsed": false,
    "pycharm": {
     "name": "#%%\n"
    }
   }
  },
  {
   "cell_type": "code",
   "execution_count": null,
   "outputs": [],
   "source": [],
   "metadata": {
    "collapsed": false,
    "pycharm": {
     "name": "#%%\n"
    }
   }
  },
  {
   "cell_type": "code",
   "execution_count": 34,
   "outputs": [],
   "source": [
    "from pydrive.auth import GoogleAuth\n",
    "from pydrive.drive import GoogleDrive\n",
    "from oauth2client.service_account import ServiceAccountCredentials"
   ],
   "metadata": {
    "collapsed": false,
    "pycharm": {
     "name": "#%%\n"
    }
   }
  },
  {
   "cell_type": "code",
   "execution_count": 72,
   "outputs": [],
   "source": [
    "import time"
   ],
   "metadata": {
    "collapsed": false,
    "pycharm": {
     "name": "#%%\n"
    }
   }
  },
  {
   "cell_type": "code",
   "execution_count": 29,
   "outputs": [
    {
     "ename": "KeyError",
     "evalue": "'client_config_file'",
     "output_type": "error",
     "traceback": [
      "\u001B[1;31m---------------------------------------------------------------------------\u001B[0m",
      "\u001B[1;31mKeyError\u001B[0m                                  Traceback (most recent call last)",
      "\u001B[1;32m~\\AppData\\Local\\Temp/ipykernel_16872/518563597.py\u001B[0m in \u001B[0;36m<module>\u001B[1;34m\u001B[0m\n\u001B[0;32m      1\u001B[0m \u001B[0mgauth\u001B[0m \u001B[1;33m=\u001B[0m \u001B[0mGoogleAuth\u001B[0m\u001B[1;33m(\u001B[0m\u001B[1;34m'savvy-concord-374520-bbbb0e3c73c3.json'\u001B[0m\u001B[1;33m)\u001B[0m\u001B[1;33m\u001B[0m\u001B[1;33m\u001B[0m\u001B[0m\n\u001B[1;32m----> 2\u001B[1;33m \u001B[0mgauth\u001B[0m\u001B[1;33m.\u001B[0m\u001B[0mLocalWebserverAuth\u001B[0m\u001B[1;33m(\u001B[0m\u001B[1;33m)\u001B[0m\u001B[1;33m\u001B[0m\u001B[1;33m\u001B[0m\u001B[0m\n\u001B[0m\u001B[0;32m      3\u001B[0m \u001B[1;33m\u001B[0m\u001B[0m\n\u001B[0;32m      4\u001B[0m \u001B[0mdrive\u001B[0m \u001B[1;33m=\u001B[0m \u001B[0mGoogleDrive\u001B[0m\u001B[1;33m(\u001B[0m\u001B[0mgauth\u001B[0m\u001B[1;33m)\u001B[0m\u001B[1;33m\u001B[0m\u001B[1;33m\u001B[0m\u001B[0m\n",
      "\u001B[1;32md:\\it\\pr\\mypython\\venv\\lib\\site-packages\\pydrive\\auth.py\u001B[0m in \u001B[0;36m_decorated\u001B[1;34m(self, *args, **kwargs)\u001B[0m\n\u001B[0;32m    111\u001B[0m       \u001B[0mself\u001B[0m\u001B[1;33m.\u001B[0m\u001B[0mLoadCredentials\u001B[0m\u001B[1;33m(\u001B[0m\u001B[1;33m)\u001B[0m\u001B[1;33m\u001B[0m\u001B[1;33m\u001B[0m\u001B[0m\n\u001B[0;32m    112\u001B[0m     \u001B[1;32mif\u001B[0m \u001B[0mself\u001B[0m\u001B[1;33m.\u001B[0m\u001B[0mflow\u001B[0m \u001B[1;32mis\u001B[0m \u001B[1;32mNone\u001B[0m\u001B[1;33m:\u001B[0m\u001B[1;33m\u001B[0m\u001B[1;33m\u001B[0m\u001B[0m\n\u001B[1;32m--> 113\u001B[1;33m       \u001B[0mself\u001B[0m\u001B[1;33m.\u001B[0m\u001B[0mGetFlow\u001B[0m\u001B[1;33m(\u001B[0m\u001B[1;33m)\u001B[0m\u001B[1;33m\u001B[0m\u001B[1;33m\u001B[0m\u001B[0m\n\u001B[0m\u001B[0;32m    114\u001B[0m     \u001B[1;32mif\u001B[0m \u001B[0mself\u001B[0m\u001B[1;33m.\u001B[0m\u001B[0mcredentials\u001B[0m \u001B[1;32mis\u001B[0m \u001B[1;32mNone\u001B[0m\u001B[1;33m:\u001B[0m\u001B[1;33m\u001B[0m\u001B[1;33m\u001B[0m\u001B[0m\n\u001B[0;32m    115\u001B[0m       \u001B[0mcode\u001B[0m \u001B[1;33m=\u001B[0m \u001B[0mdecoratee\u001B[0m\u001B[1;33m(\u001B[0m\u001B[0mself\u001B[0m\u001B[1;33m,\u001B[0m \u001B[1;33m*\u001B[0m\u001B[0margs\u001B[0m\u001B[1;33m,\u001B[0m \u001B[1;33m**\u001B[0m\u001B[0mkwargs\u001B[0m\u001B[1;33m)\u001B[0m\u001B[1;33m\u001B[0m\u001B[1;33m\u001B[0m\u001B[0m\n",
      "\u001B[1;32md:\\it\\pr\\mypython\\venv\\lib\\site-packages\\pydrive\\auth.py\u001B[0m in \u001B[0;36mGetFlow\u001B[1;34m(self)\u001B[0m\n\u001B[0;32m    441\u001B[0m     if not all(config in self.client_config \\\n\u001B[0;32m    442\u001B[0m                for config in self.CLIENT_CONFIGS_LIST):\n\u001B[1;32m--> 443\u001B[1;33m       \u001B[0mself\u001B[0m\u001B[1;33m.\u001B[0m\u001B[0mLoadClientConfig\u001B[0m\u001B[1;33m(\u001B[0m\u001B[1;33m)\u001B[0m\u001B[1;33m\u001B[0m\u001B[1;33m\u001B[0m\u001B[0m\n\u001B[0m\u001B[0;32m    444\u001B[0m     constructor_kwargs = {\n\u001B[0;32m    445\u001B[0m         \u001B[1;34m'redirect_uri'\u001B[0m\u001B[1;33m:\u001B[0m \u001B[0mself\u001B[0m\u001B[1;33m.\u001B[0m\u001B[0mclient_config\u001B[0m\u001B[1;33m[\u001B[0m\u001B[1;34m'redirect_uri'\u001B[0m\u001B[1;33m]\u001B[0m\u001B[1;33m,\u001B[0m\u001B[1;33m\u001B[0m\u001B[1;33m\u001B[0m\u001B[0m\n",
      "\u001B[1;32md:\\it\\pr\\mypython\\venv\\lib\\site-packages\\pydrive\\auth.py\u001B[0m in \u001B[0;36mLoadClientConfig\u001B[1;34m(self, backend)\u001B[0m\n\u001B[0;32m    364\u001B[0m         \u001B[1;32mraise\u001B[0m \u001B[0mInvalidConfigError\u001B[0m\u001B[1;33m(\u001B[0m\u001B[1;34m'Please specify client config backend'\u001B[0m\u001B[1;33m)\u001B[0m\u001B[1;33m\u001B[0m\u001B[1;33m\u001B[0m\u001B[0m\n\u001B[0;32m    365\u001B[0m     \u001B[1;32mif\u001B[0m \u001B[0mbackend\u001B[0m \u001B[1;33m==\u001B[0m \u001B[1;34m'file'\u001B[0m\u001B[1;33m:\u001B[0m\u001B[1;33m\u001B[0m\u001B[1;33m\u001B[0m\u001B[0m\n\u001B[1;32m--> 366\u001B[1;33m       \u001B[0mself\u001B[0m\u001B[1;33m.\u001B[0m\u001B[0mLoadClientConfigFile\u001B[0m\u001B[1;33m(\u001B[0m\u001B[1;33m)\u001B[0m\u001B[1;33m\u001B[0m\u001B[1;33m\u001B[0m\u001B[0m\n\u001B[0m\u001B[0;32m    367\u001B[0m     \u001B[1;32melif\u001B[0m \u001B[0mbackend\u001B[0m \u001B[1;33m==\u001B[0m \u001B[1;34m'settings'\u001B[0m\u001B[1;33m:\u001B[0m\u001B[1;33m\u001B[0m\u001B[1;33m\u001B[0m\u001B[0m\n\u001B[0;32m    368\u001B[0m       \u001B[0mself\u001B[0m\u001B[1;33m.\u001B[0m\u001B[0mLoadClientConfigSettings\u001B[0m\u001B[1;33m(\u001B[0m\u001B[1;33m)\u001B[0m\u001B[1;33m\u001B[0m\u001B[1;33m\u001B[0m\u001B[0m\n",
      "\u001B[1;32md:\\it\\pr\\mypython\\venv\\lib\\site-packages\\pydrive\\auth.py\u001B[0m in \u001B[0;36mLoadClientConfigFile\u001B[1;34m(self, client_config_file)\u001B[0m\n\u001B[0;32m    382\u001B[0m     \"\"\"\n\u001B[0;32m    383\u001B[0m     \u001B[1;32mif\u001B[0m \u001B[0mclient_config_file\u001B[0m \u001B[1;32mis\u001B[0m \u001B[1;32mNone\u001B[0m\u001B[1;33m:\u001B[0m\u001B[1;33m\u001B[0m\u001B[1;33m\u001B[0m\u001B[0m\n\u001B[1;32m--> 384\u001B[1;33m       \u001B[0mclient_config_file\u001B[0m \u001B[1;33m=\u001B[0m \u001B[0mself\u001B[0m\u001B[1;33m.\u001B[0m\u001B[0msettings\u001B[0m\u001B[1;33m[\u001B[0m\u001B[1;34m'client_config_file'\u001B[0m\u001B[1;33m]\u001B[0m\u001B[1;33m\u001B[0m\u001B[1;33m\u001B[0m\u001B[0m\n\u001B[0m\u001B[0;32m    385\u001B[0m     \u001B[1;32mtry\u001B[0m\u001B[1;33m:\u001B[0m\u001B[1;33m\u001B[0m\u001B[1;33m\u001B[0m\u001B[0m\n\u001B[0;32m    386\u001B[0m       \u001B[0mclient_type\u001B[0m\u001B[1;33m,\u001B[0m \u001B[0mclient_info\u001B[0m \u001B[1;33m=\u001B[0m \u001B[0mclientsecrets\u001B[0m\u001B[1;33m.\u001B[0m\u001B[0mloadfile\u001B[0m\u001B[1;33m(\u001B[0m\u001B[0mclient_config_file\u001B[0m\u001B[1;33m)\u001B[0m\u001B[1;33m\u001B[0m\u001B[1;33m\u001B[0m\u001B[0m\n",
      "\u001B[1;31mKeyError\u001B[0m: 'client_config_file'"
     ]
    }
   ],
   "source": [
    "gauth = GoogleAuth('savvy-concord-374520-bbbb0e3c73c3.json')\n",
    "gauth.LocalWebserverAuth()\n",
    "\n",
    "drive = GoogleDrive(gauth)"
   ],
   "metadata": {
    "collapsed": false,
    "pycharm": {
     "name": "#%%\n"
    }
   }
  },
  {
   "cell_type": "code",
   "execution_count": 30,
   "outputs": [],
   "source": [
    "gauth = GoogleAuth()"
   ],
   "metadata": {
    "collapsed": false,
    "pycharm": {
     "name": "#%%\n"
    }
   }
  },
  {
   "cell_type": "code",
   "execution_count": 33,
   "outputs": [
    {
     "ename": "KeyError",
     "evalue": "'_module'",
     "output_type": "error",
     "traceback": [
      "\u001B[1;31m---------------------------------------------------------------------------\u001B[0m",
      "\u001B[1;31mKeyError\u001B[0m                                  Traceback (most recent call last)",
      "\u001B[1;32m~\\AppData\\Local\\Temp/ipykernel_16872/643057646.py\u001B[0m in \u001B[0;36m<module>\u001B[1;34m\u001B[0m\n\u001B[1;32m----> 1\u001B[1;33m \u001B[0mgauth\u001B[0m\u001B[1;33m.\u001B[0m\u001B[0mLoadCredentialsFile\u001B[0m\u001B[1;33m(\u001B[0m\u001B[1;34m'savvy-concord-374520-bbbb0e3c73c3.json'\u001B[0m\u001B[1;33m)\u001B[0m\u001B[1;33m\u001B[0m\u001B[1;33m\u001B[0m\u001B[0m\n\u001B[0m",
      "\u001B[1;32md:\\it\\pr\\mypython\\venv\\lib\\site-packages\\pydrive\\auth.py\u001B[0m in \u001B[0;36mLoadCredentialsFile\u001B[1;34m(self, credentials_file)\u001B[0m\n\u001B[0;32m    306\u001B[0m     \u001B[1;32mtry\u001B[0m\u001B[1;33m:\u001B[0m\u001B[1;33m\u001B[0m\u001B[1;33m\u001B[0m\u001B[0m\n\u001B[0;32m    307\u001B[0m       \u001B[0mstorage\u001B[0m \u001B[1;33m=\u001B[0m \u001B[0mStorage\u001B[0m\u001B[1;33m(\u001B[0m\u001B[0mcredentials_file\u001B[0m\u001B[1;33m)\u001B[0m\u001B[1;33m\u001B[0m\u001B[1;33m\u001B[0m\u001B[0m\n\u001B[1;32m--> 308\u001B[1;33m       \u001B[0mself\u001B[0m\u001B[1;33m.\u001B[0m\u001B[0mcredentials\u001B[0m \u001B[1;33m=\u001B[0m \u001B[0mstorage\u001B[0m\u001B[1;33m.\u001B[0m\u001B[0mget\u001B[0m\u001B[1;33m(\u001B[0m\u001B[1;33m)\u001B[0m\u001B[1;33m\u001B[0m\u001B[1;33m\u001B[0m\u001B[0m\n\u001B[0m\u001B[0;32m    309\u001B[0m     \u001B[1;32mexcept\u001B[0m \u001B[0mIOError\u001B[0m\u001B[1;33m:\u001B[0m\u001B[1;33m\u001B[0m\u001B[1;33m\u001B[0m\u001B[0m\n\u001B[0;32m    310\u001B[0m       \u001B[1;32mraise\u001B[0m \u001B[0mInvalidCredentialsError\u001B[0m\u001B[1;33m(\u001B[0m\u001B[1;34m'Credentials file cannot be symbolic link'\u001B[0m\u001B[1;33m)\u001B[0m\u001B[1;33m\u001B[0m\u001B[1;33m\u001B[0m\u001B[0m\n",
      "\u001B[1;32md:\\it\\pr\\mypython\\venv\\lib\\site-packages\\oauth2client\\client.py\u001B[0m in \u001B[0;36mget\u001B[1;34m(self)\u001B[0m\n\u001B[0;32m    405\u001B[0m         \u001B[0mself\u001B[0m\u001B[1;33m.\u001B[0m\u001B[0macquire_lock\u001B[0m\u001B[1;33m(\u001B[0m\u001B[1;33m)\u001B[0m\u001B[1;33m\u001B[0m\u001B[1;33m\u001B[0m\u001B[0m\n\u001B[0;32m    406\u001B[0m         \u001B[1;32mtry\u001B[0m\u001B[1;33m:\u001B[0m\u001B[1;33m\u001B[0m\u001B[1;33m\u001B[0m\u001B[0m\n\u001B[1;32m--> 407\u001B[1;33m             \u001B[1;32mreturn\u001B[0m \u001B[0mself\u001B[0m\u001B[1;33m.\u001B[0m\u001B[0mlocked_get\u001B[0m\u001B[1;33m(\u001B[0m\u001B[1;33m)\u001B[0m\u001B[1;33m\u001B[0m\u001B[1;33m\u001B[0m\u001B[0m\n\u001B[0m\u001B[0;32m    408\u001B[0m         \u001B[1;32mfinally\u001B[0m\u001B[1;33m:\u001B[0m\u001B[1;33m\u001B[0m\u001B[1;33m\u001B[0m\u001B[0m\n\u001B[0;32m    409\u001B[0m             \u001B[0mself\u001B[0m\u001B[1;33m.\u001B[0m\u001B[0mrelease_lock\u001B[0m\u001B[1;33m(\u001B[0m\u001B[1;33m)\u001B[0m\u001B[1;33m\u001B[0m\u001B[1;33m\u001B[0m\u001B[0m\n",
      "\u001B[1;32md:\\it\\pr\\mypython\\venv\\lib\\site-packages\\oauth2client\\file.py\u001B[0m in \u001B[0;36mlocked_get\u001B[1;34m(self)\u001B[0m\n\u001B[0;32m     52\u001B[0m \u001B[1;33m\u001B[0m\u001B[0m\n\u001B[0;32m     53\u001B[0m         \u001B[1;32mtry\u001B[0m\u001B[1;33m:\u001B[0m\u001B[1;33m\u001B[0m\u001B[1;33m\u001B[0m\u001B[0m\n\u001B[1;32m---> 54\u001B[1;33m             \u001B[0mcredentials\u001B[0m \u001B[1;33m=\u001B[0m \u001B[0mclient\u001B[0m\u001B[1;33m.\u001B[0m\u001B[0mCredentials\u001B[0m\u001B[1;33m.\u001B[0m\u001B[0mnew_from_json\u001B[0m\u001B[1;33m(\u001B[0m\u001B[0mcontent\u001B[0m\u001B[1;33m)\u001B[0m\u001B[1;33m\u001B[0m\u001B[1;33m\u001B[0m\u001B[0m\n\u001B[0m\u001B[0;32m     55\u001B[0m             \u001B[0mcredentials\u001B[0m\u001B[1;33m.\u001B[0m\u001B[0mset_store\u001B[0m\u001B[1;33m(\u001B[0m\u001B[0mself\u001B[0m\u001B[1;33m)\u001B[0m\u001B[1;33m\u001B[0m\u001B[1;33m\u001B[0m\u001B[0m\n\u001B[0;32m     56\u001B[0m         \u001B[1;32mexcept\u001B[0m \u001B[0mValueError\u001B[0m\u001B[1;33m:\u001B[0m\u001B[1;33m\u001B[0m\u001B[1;33m\u001B[0m\u001B[0m\n",
      "\u001B[1;32md:\\it\\pr\\mypython\\venv\\lib\\site-packages\\oauth2client\\client.py\u001B[0m in \u001B[0;36mnew_from_json\u001B[1;34m(cls, json_data)\u001B[0m\n\u001B[0;32m    300\u001B[0m         \u001B[1;31m# Find and call the right classmethod from_json() to restore\u001B[0m\u001B[1;33m\u001B[0m\u001B[1;33m\u001B[0m\u001B[1;33m\u001B[0m\u001B[0m\n\u001B[0;32m    301\u001B[0m         \u001B[1;31m# the object.\u001B[0m\u001B[1;33m\u001B[0m\u001B[1;33m\u001B[0m\u001B[1;33m\u001B[0m\u001B[0m\n\u001B[1;32m--> 302\u001B[1;33m         \u001B[0mmodule_name\u001B[0m \u001B[1;33m=\u001B[0m \u001B[0mdata\u001B[0m\u001B[1;33m[\u001B[0m\u001B[1;34m'_module'\u001B[0m\u001B[1;33m]\u001B[0m\u001B[1;33m\u001B[0m\u001B[1;33m\u001B[0m\u001B[0m\n\u001B[0m\u001B[0;32m    303\u001B[0m         \u001B[1;32mtry\u001B[0m\u001B[1;33m:\u001B[0m\u001B[1;33m\u001B[0m\u001B[1;33m\u001B[0m\u001B[0m\n\u001B[0;32m    304\u001B[0m             \u001B[0mmodule_obj\u001B[0m \u001B[1;33m=\u001B[0m \u001B[0m__import__\u001B[0m\u001B[1;33m(\u001B[0m\u001B[0mmodule_name\u001B[0m\u001B[1;33m)\u001B[0m\u001B[1;33m\u001B[0m\u001B[1;33m\u001B[0m\u001B[0m\n",
      "\u001B[1;31mKeyError\u001B[0m: '_module'"
     ]
    }
   ],
   "source": [
    "gauth.LoadCredentialsFile('savvy-concord-374520-bbbb0e3c73c3.json')"
   ],
   "metadata": {
    "collapsed": false,
    "pycharm": {
     "name": "#%%\n"
    }
   }
  },
  {
   "cell_type": "code",
   "execution_count": 35,
   "outputs": [],
   "source": [
    "gauth = GoogleAuth()\n",
    "scope = [\"https://www.googleapis.com/auth/drive\"]\n",
    "gauth.credentials = ServiceAccountCredentials.from_json_keyfile_name('savvy-concord-374520-bbbb0e3c73c3.json', scope)\n",
    "drive = GoogleDrive(gauth)"
   ],
   "metadata": {
    "collapsed": false,
    "pycharm": {
     "name": "#%%\n"
    }
   }
  },
  {
   "cell_type": "code",
   "execution_count": 73,
   "outputs": [
    {
     "data": {
      "text/plain": "['Ci', '0AHj-PRcbOxSWUk9PVA']"
     },
     "execution_count": 73,
     "metadata": {},
     "output_type": "execute_result"
    }
   ],
   "source": [
    "drive_name_id = ls_drives[1]\n",
    "drive_name_id"
   ],
   "metadata": {
    "collapsed": false,
    "pycharm": {
     "name": "#%%\n"
    }
   }
  },
  {
   "cell_type": "code",
   "execution_count": 74,
   "outputs": [
    {
     "name": "stdout",
     "output_type": "stream",
     "text": [
      "Время выполнения:  55.648189544677734\n"
     ]
    }
   ],
   "source": [
    "\n",
    "\n",
    "file_list = drive.ListFile(\n",
    "    {\n",
    "        'q': \"mimeType!='application/vnd.google-apps.folder'\",\n",
    "        'corpora': 'drive',\n",
    "        'driveId': drive_name_id[1],\n",
    "        'includeItemsFromAllDrives': True,\n",
    "        'supportsAllDrives': True,\n",
    "    }\n",
    ").GetList()\n",
    "\n",
    "\n"
   ],
   "metadata": {
    "collapsed": false,
    "pycharm": {
     "name": "#%%\n"
    }
   }
  },
  {
   "cell_type": "code",
   "execution_count": 60,
   "outputs": [],
   "source": [
    "folder_list = drive.ListFile(\n",
    "    {\n",
    "        'q': \"mimeType='application/vnd.google-apps.folder'\",\n",
    "        'corpora': 'drive',\n",
    "        'driveId': drive_name_id[1],\n",
    "        'includeItemsFromAllDrives': True,\n",
    "        'supportsAllDrives': True,\n",
    "    }\n",
    ").GetList()"
   ],
   "metadata": {
    "collapsed": false,
    "pycharm": {
     "name": "#%%\n"
    }
   }
  },
  {
   "cell_type": "code",
   "execution_count": 63,
   "outputs": [],
   "source": [
    "fd = {}\n",
    "for folder in folder_list:\n",
    "    fd[folder['id']] = [folder['title'], folder['parents'][0]['id']]"
   ],
   "metadata": {
    "collapsed": false,
    "pycharm": {
     "name": "#%%\n"
    }
   }
  },
  {
   "cell_type": "code",
   "execution_count": 69,
   "outputs": [
    {
     "data": {
      "text/plain": "'1ms7iki5PrYI6hPLIT1yqupxa-NmUv4T_'"
     },
     "execution_count": 69,
     "metadata": {},
     "output_type": "execute_result"
    }
   ],
   "source": [
    "file_id = file_list[0]['parents'][0]['id']\n",
    "file_id"
   ],
   "metadata": {
    "collapsed": false,
    "pycharm": {
     "name": "#%%\n"
    }
   }
  },
  {
   "cell_type": "code",
   "execution_count": 64,
   "outputs": [
    {
     "data": {
      "text/plain": "'0AA9gFHffXEitUk9PVA'"
     },
     "execution_count": 64,
     "metadata": {},
     "output_type": "execute_result"
    }
   ],
   "source": [
    "drive_name_id[1]"
   ],
   "metadata": {
    "collapsed": false,
    "pycharm": {
     "name": "#%%\n"
    }
   }
  },
  {
   "cell_type": "code",
   "execution_count": 70,
   "outputs": [],
   "source": [
    "def get_full_path(file_id):\n",
    "    global fd\n",
    "    tree = []\n",
    "    while file_id != drive_name_id[1]:\n",
    "        tree.append(fd[file_id][0])\n",
    "        file_id = fd[file_id][1]\n",
    "    tree.reverse()\n",
    "    return '/'.join(tree)"
   ],
   "metadata": {
    "collapsed": false,
    "pycharm": {
     "name": "#%%\n"
    }
   }
  },
  {
   "cell_type": "code",
   "execution_count": 71,
   "outputs": [
    {
     "data": {
      "text/plain": "'Разработка/Смета/Сводный смета'"
     },
     "execution_count": 71,
     "metadata": {},
     "output_type": "execute_result"
    }
   ],
   "source": [
    "get_full_path(file_id)"
   ],
   "metadata": {
    "collapsed": false,
    "pycharm": {
     "name": "#%%\n"
    }
   }
  },
  {
   "cell_type": "code",
   "execution_count": null,
   "outputs": [],
   "source": [],
   "metadata": {
    "collapsed": false,
    "pycharm": {
     "name": "#%%\n"
    }
   }
  },
  {
   "cell_type": "code",
   "execution_count": 45,
   "outputs": [],
   "source": [
    "d = {}\n",
    "\n",
    "for file in file_list:\n",
    "    d[file['id']] = file['title']"
   ],
   "metadata": {
    "collapsed": false,
    "pycharm": {
     "name": "#%%\n"
    }
   }
  },
  {
   "cell_type": "code",
   "execution_count": null,
   "outputs": [],
   "source": [
    "file."
   ],
   "metadata": {
    "collapsed": false,
    "pycharm": {
     "name": "#%%\n"
    }
   }
  },
  {
   "cell_type": "code",
   "execution_count": 40,
   "outputs": [
    {
     "name": "stdout",
     "output_type": "stream",
     "text": [
      "GoogleDriveFile({'kind': 'drive#file', 'userPermission': {'id': 'me', 'type': 'user', 'role': 'fileOrganizer', 'kind': 'drive#permission', 'selfLink': 'https://www.googleapis.com/drive/v2/files/1Mrgtkgj1lYmBpmeyC6FSy3mUjHaAc5OT/permissions/me', 'etag': '\"UnbmHQEv3L_pEM_YCAGzZyrISSg\"'}, 'fileExtension': 'pdf', 'md5Checksum': 'a8bac911882f1cbba4cdbf12e6567346', 'selfLink': 'https://www.googleapis.com/drive/v2/files/1Mrgtkgj1lYmBpmeyC6FSy3mUjHaAc5OT', 'lastModifyingUserName': '', 'editable': True, 'downloadUrl': 'https://www.googleapis.com/drive/v2/files/1Mrgtkgj1lYmBpmeyC6FSy3mUjHaAc5OT?alt=media&source=downloadUrl', 'mimeType': 'application/pdf', 'driveId': '0AA9gFHffXEitUk9PVA', 'parents': [{'selfLink': 'https://www.googleapis.com/drive/v2/files/1Mrgtkgj1lYmBpmeyC6FSy3mUjHaAc5OT/parents/1ms7iki5PrYI6hPLIT1yqupxa-NmUv4T_', 'id': '1ms7iki5PrYI6hPLIT1yqupxa-NmUv4T_', 'isRoot': False, 'kind': 'drive#parentReference', 'parentLink': 'https://www.googleapis.com/drive/v2/files/1ms7iki5PrYI6hPLIT1yqupxa-NmUv4T_'}], 'thumbnailLink': 'https://lh3.googleusercontent.com/ePgK7rZnJzZqNMQTlWSITjI10h1Meau3ugFknbyI6lrCjVyO1Nu6vHCIWPg9whrlhZQxdeov9N05Zxc=s220', 'appDataContents': False, 'iconLink': 'https://drive-thirdparty.googleusercontent.com/16/type/application/pdf', 'lastModifyingUser': {'displayName': '', 'kind': 'drive#user', 'isAuthenticatedUser': False}, 'headRevisionId': '0B0_A2b8MetChaTdGcW4xSTFrbkNHQ0pPZ3JFUlBKRFNEd2NBPQ', 'copyable': True, 'etag': '\"MTYwNTExMDMyNzM1MA\"', 'alternateLink': 'https://drive.google.com/file/d/1Mrgtkgj1lYmBpmeyC6FSy3mUjHaAc5OT/view?usp=drivesdk', 'embedLink': 'https://drive.google.com/file/d/1Mrgtkgj1lYmBpmeyC6FSy3mUjHaAc5OT/preview?usp=drivesdk', 'webContentLink': 'https://drive.google.com/uc?id=1Mrgtkgj1lYmBpmeyC6FSy3mUjHaAc5OT&export=download', 'fileSize': '268958', 'copyRequiresWriterPermission': False, 'spaces': ['drive'], 'id': '1Mrgtkgj1lYmBpmeyC6FSy3mUjHaAc5OT', 'title': 'C__Users_ozadorkina_Desktop_Проект1.pdf', 'labels': {'viewed': False, 'restricted': False, 'starred': False, 'hidden': False, 'trashed': False}, 'explicitlyTrashed': False, 'createdDate': '2020-11-11T15:58:47.627Z', 'modifiedDate': '2020-11-11T15:58:47.350Z', 'markedViewedByMeDate': '1970-01-01T00:00:00.000Z', 'quotaBytesUsed': '268958', 'version': '5', 'originalFilename': 'C__Users_ozadorkina_Desktop_Проект1.pdf', 'teamDriveId': '0AA9gFHffXEitUk9PVA', 'capabilities': {'canEdit': True, 'canCopy': True}})\n"
     ]
    }
   ],
   "source": [
    "print(file_list[0])"
   ],
   "metadata": {
    "collapsed": false,
    "pycharm": {
     "name": "#%%\n"
    }
   }
  },
  {
   "cell_type": "code",
   "execution_count": 49,
   "outputs": [],
   "source": [
    "### Some basic helper functions ###\n",
    "def get_children(root_folder_id):\n",
    "    str = \"\\'\" + root_folder_id + \"\\'\" + \" in parents and trashed=false\"\n",
    "    file_list = drive.ListFile(\n",
    "        {\n",
    "            'q': str,\n",
    "            'corpora': 'drive',\n",
    "            'driveId': drive_name_id[1],\n",
    "            'includeItemsFromAllDrives': True,\n",
    "            'supportsAllDrives': True,\n",
    "        }).GetList()\n",
    "    return file_list\n",
    "\n",
    "\n",
    "def get_folder_id(root_folder_id, root_folder_title):\n",
    "    file_list = get_children(root_folder_id)\n",
    "    for file in file_list:\n",
    "        if (file['title'] == root_folder_title):\n",
    "            return file['id']\n",
    "\n",
    "\n",
    "def add_children_to_tree(tree, file_list, parent_id):\n",
    "    for file in file_list:\n",
    "        tree.create_node(file['title'], file['id'], parent=parent_id)\n",
    "        # For debugging\n",
    "        # print('parent: %s, title: %s, id: %s' % (parent_id, file['title'], file['id']))\n",
    "\n",
    "\n",
    "### Go down the tree until you reach a leaf ###\n",
    "def populate_tree_recursively(tree, parent_id):\n",
    "    children = get_children(parent_id)\n",
    "    add_children_to_tree(tree, children, parent_id)\n",
    "    if (len(children) > 0):\n",
    "        for child in children:\n",
    "            populate_tree_recursively(tree, child['id'])\n"
   ],
   "metadata": {
    "collapsed": false,
    "pycharm": {
     "name": "#%%\n"
    }
   }
  },
  {
   "cell_type": "code",
   "execution_count": 54,
   "outputs": [],
   "source": [
    "from treelib import Node, Tree"
   ],
   "metadata": {
    "collapsed": false,
    "pycharm": {
     "name": "#%%\n"
    }
   }
  },
  {
   "cell_type": "code",
   "execution_count": null,
   "outputs": [],
   "source": [],
   "metadata": {
    "collapsed": false,
    "pycharm": {
     "name": "#%%\n"
    }
   }
  },
  {
   "cell_type": "code",
   "execution_count": 52,
   "outputs": [],
   "source": [
    "root_folder_title = \"КП\"\n",
    "root_folder_id = get_folder_id(drive_name_id[1], root_folder_title)"
   ],
   "metadata": {
    "collapsed": false,
    "pycharm": {
     "name": "#%%\n"
    }
   }
  },
  {
   "cell_type": "code",
   "execution_count": 55,
   "outputs": [],
   "source": [
    "tree = Tree()"
   ],
   "metadata": {
    "collapsed": false,
    "pycharm": {
     "name": "#%%\n"
    }
   }
  },
  {
   "cell_type": "code",
   "execution_count": 56,
   "outputs": [
    {
     "data": {
      "text/plain": "Node(tag=КП, identifier=1qO9iScUkSJVE0L2rs-dd4C1aNyJ9CzbI, data=None)"
     },
     "execution_count": 56,
     "metadata": {},
     "output_type": "execute_result"
    }
   ],
   "source": [
    "tree.create_node(root_folder_title, root_folder_id)"
   ],
   "metadata": {
    "collapsed": false,
    "pycharm": {
     "name": "#%%\n"
    }
   }
  },
  {
   "cell_type": "code",
   "execution_count": 57,
   "outputs": [],
   "source": [
    "populate_tree_recursively(tree, root_folder_id)"
   ],
   "metadata": {
    "collapsed": false,
    "pycharm": {
     "name": "#%%\n"
    }
   }
  },
  {
   "cell_type": "code",
   "execution_count": 58,
   "outputs": [
    {
     "name": "stdout",
     "output_type": "stream",
     "text": [
      "КП\n",
      "├── Волжский Композит - 3920-РАВ798-1-1 ТКП Ви-Гранд.pdf\n",
      "├── Экополимер\n",
      "│   ├── Буклет_Пром.предприятия.pdf\n",
      "│   ├── Ситуационный план сооружений Model (1).pdf\n",
      "│   └── ТКП № 100-20 ЗАО Читинские ключи_Анаэроб.pdf\n",
      "└── Экополимер.rar\n",
      "\n"
     ]
    }
   ],
   "source": [
    "tree.show()"
   ],
   "metadata": {
    "collapsed": false,
    "pycharm": {
     "name": "#%%\n"
    }
   }
  },
  {
   "cell_type": "code",
   "execution_count": null,
   "outputs": [],
   "source": [
    "\n",
    "### Create the tree and the top level node ###\n",
    "def main():\n",
    "    root_folder_title = \"my-top-level-root-folder-name\"\n",
    "    root_folder_id = get_folder_id(\"root\", root_folder_title)\n",
    "\n",
    "    tree = Tree()\n",
    "    tree.create_node(root_folder_title, root_folder_id)\n",
    "    populate_tree_recursively(tree, root_folder_id)\n",
    "    tree.show()"
   ],
   "metadata": {
    "collapsed": false,
    "pycharm": {
     "name": "#%%\n"
    }
   }
  },
  {
   "cell_type": "code",
   "execution_count": null,
   "outputs": [],
   "source": [],
   "metadata": {
    "collapsed": false,
    "pycharm": {
     "name": "#%%\n"
    }
   }
  },
  {
   "cell_type": "code",
   "execution_count": null,
   "outputs": [],
   "source": [
    "# 1) Choose your starting point by inserting file name\n",
    "folder_title = \"КП\"\n",
    "folder_id = ''"
   ],
   "metadata": {
    "collapsed": false,
    "pycharm": {
     "name": "#%%\n"
    }
   }
  },
  {
   "cell_type": "code",
   "execution_count": 195,
   "outputs": [
    {
     "data": {
      "text/plain": "29"
     },
     "execution_count": 195,
     "metadata": {},
     "output_type": "execute_result"
    }
   ],
   "source": [
    "drivers = [['BackOffice', '0AKtafUCJJsjKUk9PVA'],\n",
    " ['Grand_Engineering', '0APOKU4PVLZwMUk9PVA'],\n",
    " ['Human Resources', '0AJsRKr2Ba6TwUk9PVA'],\n",
    " ['IT-ОТДЕЛ', '0AI62IGV_POEcUk9PVA'],\n",
    " ['Managment 1', '0AJZoXjxIBMXRUk9PVA'],\n",
    " ['Titov Maksim', '0AAMdn20RTshcUk9PVA'],\n",
    " ['V-CLOUD24', '0AAUYrEjNjV5MUk9PVA'],\n",
    " ['Адвокатский кабинет', '0AHO8xAl6v2r5Uk9PVA'],\n",
    " ['Бухгалтер RUS', '0AKfDR0IMw1bPUk9PVA'],\n",
    " ['Бухгалтер UA', '0AGTAjdcjx6f-Uk9PVA'],\n",
    " ['ВДНХ_Колесо обозрения', '0ANw1UacIVifyUk9PVA'],\n",
    " ['ГипроМез', '0AKn-9Bj7NmNxUk9PVA'],\n",
    " ['ДОУ 360 Выпуск', '0AC2GUgCN9wcWUk9PVA'],\n",
    " ['ДОУ 360', '0ALpJRBJkrtVGUk9PVA'],\n",
    " ['Лио-Продукт', '0AHUPdJVPtsQaUk9PVA'],\n",
    " ['НКВЗ ремонт АвтоТехники', '0ADgaxv8NdpTkUk9PVA'],\n",
    " ['Объекты в работе', '0AOxaPQRooOk2Uk9PVA'],\n",
    " ['Остров мечты ППР', '0AImPD4jQdMXJUk9PVA'],\n",
    " ['Пекарня', '0AIWIhafOWgmHUk9PVA'],\n",
    " ['ПОДРЯДЧИКИ', '0ALnZgMLQFfrtUk9PVA'],\n",
    " ['СТО ГБО', '0AF2NtBbx_XvYUk9PVA'],\n",
    " ['ТЕХВАГОНМАШ', '0AAAyvFQMbstZUk9PVA'],\n",
    " ['Транспроект', '0ADKHIbPu575TUk9PVA'],\n",
    " ['ФосАгро', '0AD-4c3pLaBV5Uk9PVA'],\n",
    " ['ФРАКДЖЕТ-ТУЛЗ', '0ACjAWTbTqvESUk9PVA'],\n",
    " ['Холодный склад', '0ALT2Y1wkG7vCUk9PVA'],\n",
    " ['Чайка Лаб', '0APbGeMNQtN3MUk9PVA'],\n",
    " ['Читинские ключи', '0AA9gFHffXEitUk9PVA'],\n",
    " ['Юрист UA', '0AGg7JoJwa_8nUk9PVA']]\n",
    "len(drivers)"
   ],
   "metadata": {
    "collapsed": false,
    "pycharm": {
     "name": "#%%\n"
    }
   }
  },
  {
   "cell_type": "code",
   "execution_count": 199,
   "outputs": [
    {
     "data": {
      "text/plain": "11"
     },
     "execution_count": 199,
     "metadata": {},
     "output_type": "execute_result"
    }
   ],
   "source": [
    "drivers1 = [['Ci', '0AHj-PRcbOxSWUk9PVA'],\n",
    "           ['Managment 2', '0AE3Z9Ox2YaurUk9PVA'],\n",
    "           ['VG.COM', '0AElRg0lTw8iIUk9PVA'],\n",
    "           ['Архив', '0AOP_oKFy4oGJUk9PVA'],\n",
    "           ['Винный парк', '0ANhu4lfOrlBiUk9PVA'],\n",
    "           ['Контент_VG', '0AN6chrg4ApnnUk9PVA'],\n",
    "           ['Контент', '0ANf3LpamTrsTUk9PVA'],\n",
    "           ['Лобня', '0AIQWy4IyyeaIUk9PVA'],\n",
    "           ['Объединенная пивоварня', '0AELFNnmNadJqUk9PVA'],\n",
    "           ['ОСК Шереметьево', '0ALRUo2DlF1YmUk9PVA'],\n",
    "           ['Мой Диск _', '0AHpbUawYyiEZUk9PVA']\n",
    "           ]\n",
    "len(drivers1)"
   ],
   "metadata": {
    "collapsed": false,
    "pycharm": {
     "name": "#%%\n"
    }
   }
  },
  {
   "cell_type": "code",
   "execution_count": 198,
   "outputs": [
    {
     "data": {
      "text/plain": "40"
     },
     "execution_count": 198,
     "metadata": {},
     "output_type": "execute_result"
    }
   ],
   "source": [
    "len(ls_drives)"
   ],
   "metadata": {
    "collapsed": false,
    "pycharm": {
     "name": "#%%\n"
    }
   }
  },
  {
   "cell_type": "code",
   "execution_count": null,
   "outputs": [],
   "source": [],
   "metadata": {
    "collapsed": false,
    "pycharm": {
     "name": "#%%\n"
    }
   }
  }
 ],
 "metadata": {
  "kernelspec": {
   "display_name": "Python 3",
   "language": "python",
   "name": "python3"
  },
  "language_info": {
   "codemirror_mode": {
    "name": "ipython",
    "version": 2
   },
   "file_extension": ".py",
   "mimetype": "text/x-python",
   "name": "python",
   "nbconvert_exporter": "python",
   "pygments_lexer": "ipython2",
   "version": "2.7.6"
  }
 },
 "nbformat": 4,
 "nbformat_minor": 0
}