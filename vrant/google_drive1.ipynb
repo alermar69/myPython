{
 "cells": [
  {
   "cell_type": "code",
   "execution_count": 1,
   "outputs": [],
   "source": [
    "from google.auth.transport import requests\n",
    "from googleapiclient import discovery\n",
    "from google.oauth2 import service_account\n",
    "from google.cloud import storage\n",
    "from googleapiclient.http import MediaIoBaseDownload\n",
    "import io\n",
    "import threading\n",
    "from time import sleep\n",
    "import pandas as pd"
   ],
   "metadata": {
    "collapsed": false,
    "pycharm": {
     "name": "#%%\n"
    }
   }
  },
  {
   "cell_type": "code",
   "execution_count": 2,
   "outputs": [],
   "source": [
    "from datetime import time\n",
    "\n",
    "drivers_check_list = []\n",
    "drivers_checked_list = []\n",
    "ls_threads = []\n",
    "ls_tmp = []\n",
    "ls_error = []\n",
    "ls_error_files = []\n",
    "ls_files_to_download = []\n",
    "count_files_checked = 0\n",
    "count_files_down = 0\n",
    "count_files_error = 0\n",
    "\n",
    "drivers = [['Ci', '0AHj-PRcbOxSWUk9PVA'],\n",
    "             ['Managment 2', '0AE3Z9Ox2YaurUk9PVA'],\n",
    "             # ['VG.COM', '0AElRg0lTw8iIUk9PVA'],\n",
    "             ['Архив', '0AOP_oKFy4oGJUk9PVA'],\n",
    "             ['Винный парк', '0ANhu4lfOrlBiUk9PVA'],\n",
    "             ['Контент_VG', '0AN6chrg4ApnnUk9PVA'],\n",
    "             # ['Контент', '0ANf3LpamTrsTUk9PVA'],\n",
    "             # ['Лобня', '0AIQWy4IyyeaIUk9PVA'],\n",
    "             ['Объединенная пивоварня', '0AELFNnmNadJqUk9PVA'],\n",
    "             ['ОСК Шереметьево', '0ALRUo2DlF1YmUk9PVA'],\n",
    "             ['Мой Диск _', '0AHpbUawYyiEZUk9PVA']\n",
    "           ]\n",
    "\n",
    "def transfer_drive(drive_name_id):\n",
    "    global count_files_down, count_files_error, count_files_checked\n",
    "    while True:\n",
    "        is_download_files = True\n",
    "\n",
    "        try:\n",
    "            service, bucket = get_client()\n",
    "            ls_files = get_list_of_files_in_drive(service, drive_name_id)\n",
    "            for file in ls_files:\n",
    "                count_files_checked += 1\n",
    "                done = download_file(service, bucket, drive_name_id, file)\n",
    "                if done == 1:\n",
    "                    is_download_files = False\n",
    "                # try:\n",
    "                #     done = download_file(service, bucket, drive_name_id, file)\n",
    "                #     if done == 1:\n",
    "                #         is_download_files = False\n",
    "                # except Exception as e:\n",
    "                #     ls_error.append([drive_name_id, get_full_path_to_file(service, drive_name_id,file), e])\n",
    "\n",
    "            ls_tmp.append(f'{drive_name_id[0]}  - Завершено  - {is_download_files}')\n",
    "\n",
    "            if is_download_files:\n",
    "                drivers_checked_list.append(drive_name_id[1])\n",
    "                break\n",
    "\n",
    "        except Exception as e:\n",
    "            ls_error.append([drive_name_id, 'Ошибка', e])\n",
    "\n",
    "\n",
    "\n",
    "\n",
    "\n",
    "def transfer_drive_thread():\n",
    "    while True:\n",
    "        try:\n",
    "            service, bucket = get_client()\n",
    "            ls_drives = get_list_of_drives(service)\n",
    "            s_drives = 'TT '\n",
    "            drivers1 = []\n",
    "            for l in ls_drives:\n",
    "                for d in drivers:\n",
    "                    if l[0] == d[0]:\n",
    "                        drivers1.append(l)\n",
    "\n",
    "            for drive in drivers1:\n",
    "                if drive[1] not in drivers_check_list and drive[1] not in drivers_checked_list:\n",
    "                    drivers_check_list.append(drive[1])\n",
    "                    t = threading.Thread(target=transfer_drive, args=(drive,))\n",
    "                    t.start()\n",
    "                    ls_threads.append(t)\n",
    "                    s_drives += drive[0] + ', '\n",
    "        except Exception as e:\n",
    "            ls_error.append(['get_list_of_drives', e])\n",
    "        ls_tmp.append(f'Завершено------------------------{s_drives}')\n",
    "\n",
    "        try:\n",
    "            sleep(60*10)\n",
    "        except Exception as e:\n",
    "            ls_error.append(e)\n",
    "\n",
    "\n",
    "\n",
    "def transfer_drives_thread():\n",
    "    t = threading.Thread(target=transfer_drive_thread)\n",
    "    ls_threads.append(t)\n",
    "    t.start()\n",
    "\n",
    "    return t\n",
    "\n",
    "\n",
    "def get_client():\n",
    "    # Google Drive\n",
    "    credentials_drive = service_account.Credentials.from_service_account_file(\n",
    "        filename='savvy-concord-374520-bbbb0e3c73c3.json',\n",
    "        scopes=['https://www.googleapis.com/auth/drive'],\n",
    "    )\n",
    "    session = requests.AuthorizedSession(credentials_drive)\n",
    "    service = discovery.build('drive', 'v3', credentials=credentials_drive)\n",
    "\n",
    "    #Google Storage\n",
    "    credentials_storage = service_account.Credentials.from_service_account_file(\n",
    "        filename='credentials.json',\n",
    "        scopes=['https://www.googleapis.com/auth/devstorage.full_control'],\n",
    "    )\n",
    "    client = storage.Client(credentials=credentials_storage)\n",
    "    bucket = client.get_bucket('cabinet_bucket')\n",
    "\n",
    "    return service, bucket\n",
    "\n",
    "# Общие диски\n",
    "def get_list_of_drives(service):\n",
    "    response = service.drives().list(pageSize=100).execute()\n",
    "    ids = []\n",
    "    for drive in response['drives']:\n",
    "        ids.append([drive['name'], drive['id']])\n",
    "    return ids\n",
    "\n",
    "def get_list_of_files_in_drive(service, drive_name_id):\n",
    "    ls_files = []\n",
    "\n",
    "    response = service.files().list(\n",
    "        q=\"mimeType!='application/vnd.google-apps.folder'\",\n",
    "        corpora='drive',\n",
    "        driveId=drive_name_id[1],\n",
    "        includeItemsFromAllDrives=True,\n",
    "        supportsAllDrives=True,\n",
    "        fields='nextPageToken, files(id, name, mimeType)').execute()\n",
    "\n",
    "\n",
    "    while response:\n",
    "        for file in response.get('files', []):\n",
    "            # s_path =get_full_path_to_file(drive_name_id, file.get('id'))\n",
    "            # ls_files.append(file.get('id'))\n",
    "            if file['mimeType'] != 'application/vnd.google-apps.document' and file['mimeType'] != 'application/vnd.google-apps.spreadsheet':\n",
    "                ls_files.append(file.get('id'))\n",
    "\n",
    "\n",
    "        page_token = response.get('nextPageToken', None)\n",
    "\n",
    "        if page_token is None:\n",
    "            break\n",
    "\n",
    "        response = service.files().list(\n",
    "            q=\"mimeType!='application/vnd.google-apps.folder'\",\n",
    "            corpora='drive',\n",
    "            driveId=drive_name_id[1],\n",
    "            includeItemsFromAllDrives=True,\n",
    "            supportsAllDrives=True,\n",
    "            fields='nextPageToken, files(id, name, mimeType)',\n",
    "            pageToken=page_token).execute()\n",
    "    return ls_files\n",
    "\n",
    "\n",
    "# Полный путь к файлу\n",
    "def get_full_path_to_file(service, drive_name_id, file_id):\n",
    "    s_main_folder = 'GoogleDriveTransfer/'\n",
    "    ls = get_full_path_to_file_list(service, drive_name_id[1], file_id, [])\n",
    "    ls.reverse()\n",
    "    ls[0] = drive_name_id[0]\n",
    "    s_path = s_main_folder + '/'.join(ls)\n",
    "    return s_path\n",
    "\n",
    "\n",
    "def get_full_path_to_file_list(service, drive_id, file_id, ls):\n",
    "    response = service.files().get(\n",
    "        fileId=file_id,\n",
    "        fields='id, name, parents',\n",
    "        supportsAllDrives=True).execute()\n",
    "    file = response\n",
    "    # print(file['name'])\n",
    "    ls.append(file['name'])\n",
    "    if file.get('parents') is not None:\n",
    "        for parent in file['parents']:\n",
    "            get_full_path_to_file_list(service, drive_id, parent, ls)\n",
    "    return ls\n",
    "\n",
    "# Скачать файл\n",
    "def download_file(service, bucket, drive_name_id, file_id):\n",
    "    global count_files_error, count_files_down\n",
    "    file_path = get_full_path_to_file(service, drive_name_id, file_id)\n",
    "\n",
    "    try:\n",
    "        blobs = bucket.list_blobs(prefix=file_path)\n",
    "        files = [blob.name for blob in blobs]\n",
    "        if file_path in files:\n",
    "            # print('Файл уже существует')\n",
    "            return 0\n",
    "\n",
    "         # request = service.files().get_media(fileId=file_id).execute()\n",
    "        request = service.files().get_media(fileId=file_id)\n",
    "        fh = io.BytesIO()\n",
    "        downloader = MediaIoBaseDownload(fh, request)\n",
    "        done = False\n",
    "        while done is False:\n",
    "            status, done = downloader.next_chunk()\n",
    "            print(\"Download %d%%.\" % int(status.progress() * 100))\n",
    "\n",
    "        blob = bucket.blob(file_path)\n",
    "        blob.upload_from_string(fh.getvalue())\n",
    "        # blob.upload_from_string(request)\n",
    "        ls_files_to_download.append(file_path)\n",
    "        count_files_down += 1\n",
    "    except Exception as e:\n",
    "        ls_error_files.append([drive_name_id, file_path, file_id, 'Ошибка при скачивании', e])\n",
    "        count_files_error += 1\n",
    "        return 0\n",
    "\n",
    "    return 1"
   ],
   "metadata": {
    "collapsed": false,
    "pycharm": {
     "name": "#%%\n"
    }
   }
  },
  {
   "cell_type": "code",
   "execution_count": 3,
   "outputs": [],
   "source": [
    "t = transfer_drives_thread()"
   ],
   "metadata": {
    "collapsed": false,
    "pycharm": {
     "name": "#%%\n"
    }
   }
  },
  {
   "cell_type": "code",
   "execution_count": null,
   "outputs": [],
   "source": [],
   "metadata": {
    "collapsed": false,
    "pycharm": {
     "name": "#%%\n"
    }
   }
  },
  {
   "cell_type": "code",
   "execution_count": 4,
   "outputs": [],
   "source": [
    "service, bucket = get_client()"
   ],
   "metadata": {
    "collapsed": false,
    "pycharm": {
     "name": "#%%\n"
    }
   }
  },
  {
   "cell_type": "code",
   "execution_count": 17,
   "outputs": [],
   "source": [
    "def get_list_of_files_in_drive1(service, drive_name_id):\n",
    "    ls_files = []\n",
    "\n",
    "    response = service.files().list(\n",
    "        q=\"mimeType='application/vnd.google-apps.document'\",\n",
    "        corpora='drive',\n",
    "        driveId=drive_name_id[1],\n",
    "        includeItemsFromAllDrives=True,\n",
    "        supportsAllDrives=True,\n",
    "        fields='nextPageToken, files(id, name, mimeType)').execute()\n",
    "\n",
    "\n",
    "    while response:\n",
    "        for file in response.get('files', []):\n",
    "            ls_files.append([file.get('id'), file.get('name'), file.get('mimeType')])\n",
    "\n",
    "\n",
    "        page_token = response.get('nextPageToken', None)\n",
    "\n",
    "        if page_token is None:\n",
    "            break\n",
    "\n",
    "        response = service.files().list(\n",
    "            q=\"mimeType='application/vnd.google-apps.document'\",\n",
    "            corpora='drive',\n",
    "            driveId=drive_name_id[1],\n",
    "            includeItemsFromAllDrives=True,\n",
    "            supportsAllDrives=True,\n",
    "            fields='nextPageToken, files(id, name, mimeType)',\n",
    "            pageToken=page_token).execute()\n",
    "    return ls_files"
   ],
   "metadata": {
    "collapsed": false,
    "pycharm": {
     "name": "#%%\n"
    }
   }
  },
  {
   "cell_type": "code",
   "execution_count": 5,
   "outputs": [],
   "source": [
    "ls_drives = get_list_of_drives(service)"
   ],
   "metadata": {
    "collapsed": false,
    "pycharm": {
     "name": "#%%\n"
    }
   }
  },
  {
   "cell_type": "code",
   "execution_count": 10,
   "outputs": [
    {
     "name": "stdout",
     "output_type": "stream",
     "text": [
      "Download 100%.\n"
     ]
    }
   ],
   "source": [
    "drive_name_id = ls_drives[-1]"
   ],
   "metadata": {
    "collapsed": false,
    "pycharm": {
     "name": "#%%\n"
    }
   }
  },
  {
   "cell_type": "code",
   "execution_count": 13,
   "outputs": [
    {
     "name": "stdout",
     "output_type": "stream",
     "text": [
      "Download 100%.\n"
     ]
    }
   ],
   "source": [
    "response = service.files().list(\n",
    "\n",
    "        corpora='drive',\n",
    "        driveId=drive_name_id[1],\n",
    "        includeItemsFromAllDrives=True,\n",
    "        supportsAllDrives=True,\n",
    "        fields='files(id, name, mimeType, parents)').execute()"
   ],
   "metadata": {
    "collapsed": false,
    "pycharm": {
     "name": "#%%\n"
    }
   }
  },
  {
   "cell_type": "code",
   "execution_count": null,
   "outputs": [],
   "source": [],
   "metadata": {
    "collapsed": false,
    "pycharm": {
     "name": "#%%\n"
    }
   }
  },
  {
   "cell_type": "code",
   "execution_count": 44,
   "outputs": [],
   "source": [
    "drivers = [['BackOffice', '0AKtafUCJJsjKUk9PVA'],\n",
    " ['Grand_Engineering', '0APOKU4PVLZwMUk9PVA'],\n",
    " ['Human Resources', '0AJsRKr2Ba6TwUk9PVA'],\n",
    " ['IT-ОТДЕЛ', '0AI62IGV_POEcUk9PVA'],\n",
    " ['Managment 1', '0AJZoXjxIBMXRUk9PVA'],\n",
    " ['Titov Maksim', '0AAMdn20RTshcUk9PVA'],\n",
    " ['V-CLOUD24', '0AAUYrEjNjV5MUk9PVA'],\n",
    " ['Адвокатский кабинет', '0AHO8xAl6v2r5Uk9PVA'],\n",
    " ['Бухгалтер RUS', '0AKfDR0IMw1bPUk9PVA'],\n",
    " ['Бухгалтер UA', '0AGTAjdcjx6f-Uk9PVA'],\n",
    " ['ВДНХ_Колесо обозрения', '0ANw1UacIVifyUk9PVA'],\n",
    " ['ГипроМез', '0AKn-9Bj7NmNxUk9PVA'],\n",
    " ['ДОУ 360 Выпуск', '0AC2GUgCN9wcWUk9PVA'],\n",
    " ['ДОУ 360', '0ALpJRBJkrtVGUk9PVA'],\n",
    " ['Лио-Продукт', '0AHUPdJVPtsQaUk9PVA'],\n",
    " ['НКВЗ ремонт АвтоТехники', '0ADgaxv8NdpTkUk9PVA'],\n",
    " ['Объекты в работе', '0AOxaPQRooOk2Uk9PVA'],\n",
    " ['Остров мечты ППР', '0AImPD4jQdMXJUk9PVA'],\n",
    " ['Пекарня', '0AIWIhafOWgmHUk9PVA'],\n",
    " ['ПОДРЯДЧИКИ', '0ALnZgMLQFfrtUk9PVA'],\n",
    " ['СТО ГБО', '0AF2NtBbx_XvYUk9PVA'],\n",
    " ['ТЕХВАГОНМАШ', '0AAAyvFQMbstZUk9PVA'],\n",
    " ['Транспроект', '0ADKHIbPu575TUk9PVA'],\n",
    " ['ФосАгро', '0AD-4c3pLaBV5Uk9PVA'],\n",
    " ['ФРАКДЖЕТ-ТУЛЗ', '0ACjAWTbTqvESUk9PVA'],\n",
    " ['Холодный склад', '0ALT2Y1wkG7vCUk9PVA'],\n",
    " ['Чайка Лаб', '0APbGeMNQtN3MUk9PVA'],\n",
    " ['Читинские ключи', '0AA9gFHffXEitUk9PVA'],\n",
    " ['Юрист UA', '0AGg7JoJwa_8nUk9PVA']]"
   ],
   "metadata": {
    "collapsed": false,
    "pycharm": {
     "name": "#%%\n"
    }
   }
  },
  {
   "cell_type": "code",
   "execution_count": 45,
   "outputs": [
    {
     "name": "stdout",
     "output_type": "stream",
     "text": [
      "['Ci', '0AHj-PRcbOxSWUk9PVA']\n",
      "['Managment 2', '0AE3Z9Ox2YaurUk9PVA']\n",
      "['VG.COM', '0AElRg0lTw8iIUk9PVA']\n",
      "['Архив', '0AOP_oKFy4oGJUk9PVA']\n",
      "['Винный парк', '0ANhu4lfOrlBiUk9PVA']\n",
      "['Контент_VG', '0AN6chrg4ApnnUk9PVA']\n",
      "['Контент', '0ANf3LpamTrsTUk9PVA']\n",
      "['Лобня', '0AIQWy4IyyeaIUk9PVA']\n",
      "['Мой Диск _', '0AHpbUawYyiEZUk9PVA']\n",
      "['Объединенная пивоварня', '0AELFNnmNadJqUk9PVA']\n",
      "['ОСК Шереметьево', '0ALRUo2DlF1YmUk9PVA']\n"
     ]
    }
   ],
   "source": [
    "for dr in ls_drives:\n",
    "    if dr not in drivers:\n",
    "        print(dr)"
   ],
   "metadata": {
    "collapsed": false,
    "pycharm": {
     "name": "#%%\n"
    }
   }
  },
  {
   "cell_type": "code",
   "execution_count": 6,
   "outputs": [],
   "source": [
    "drive_name_id = ls_drives[0]"
   ],
   "metadata": {
    "collapsed": false,
    "pycharm": {
     "name": "#%%\n"
    }
   }
  },
  {
   "cell_type": "code",
   "execution_count": 18,
   "outputs": [],
   "source": [
    "ls_files = get_list_of_files_in_drive1(service, drive_name_id)"
   ],
   "metadata": {
    "collapsed": false,
    "pycharm": {
     "name": "#%%\n"
    }
   }
  },
  {
   "cell_type": "code",
   "execution_count": 21,
   "outputs": [
    {
     "data": {
      "text/plain": "['1SKwTfRGC4Td_4K5ClSIlOLRsiE59vLIwSegzgovQOGw',\n 'Учет рабочего времени. Методика работы по Тайм трекингу CRM системы',\n 'application/vnd.google-apps.document']"
     },
     "execution_count": 21,
     "metadata": {},
     "output_type": "execute_result"
    }
   ],
   "source": [
    "fl1 = ls_files[0]\n",
    "fl1_id = fl1[0]\n",
    "fl1_mime = fl1[2]\n",
    "fl1"
   ],
   "metadata": {
    "collapsed": false,
    "pycharm": {
     "name": "#%%\n"
    }
   }
  },
  {
   "cell_type": "code",
   "execution_count": 43,
   "outputs": [],
   "source": [
    "request = service.files().export(fileId=fl1_id, mimeType=fl1_mime)"
   ],
   "metadata": {
    "collapsed": false,
    "pycharm": {
     "name": "#%%\n"
    }
   }
  },
  {
   "cell_type": "code",
   "execution_count": null,
   "outputs": [],
   "source": [
    "resp = request.execute(http=http)"
   ],
   "metadata": {
    "collapsed": false,
    "pycharm": {
     "name": "#%%\n"
    }
   }
  },
  {
   "cell_type": "code",
   "execution_count": 25,
   "outputs": [],
   "source": [
    "mime_types = [\n",
    "    'application/vnd.google-apps.audio',\n",
    "    'application/vnd.google-apps.document',\n",
    "    'application/vnd.google-apps.drive-sdk',\n",
    "    'application/vnd.google-apps.drawing',\n",
    "    'application/vnd.google-apps.file',\n",
    "    'application/vnd.google-apps.form',\n",
    "    'application/vnd.google-apps.fusiontable',\n",
    "    'application/vnd.google-apps.jam',\n",
    "    'application/vnd.google-apps.map',\n",
    "    'application/vnd.google-apps.photo',\n",
    "    'application/vnd.google-apps.presentation',\n",
    "    'application/vnd.google-apps.script',\n",
    "    'application/vnd.google-apps.shortcut',\n",
    "    'application/vnd.google-apps.site',\n",
    "    'application/vnd.google-apps.spreadsheet',\n",
    "    'application/vnd.google-apps.unknown',\n",
    "    'application/vnd.google-apps.video'\n",
    "]"
   ],
   "metadata": {
    "collapsed": false,
    "pycharm": {
     "name": "#%%\n"
    }
   }
  },
  {
   "cell_type": "code",
   "execution_count": 7,
   "outputs": [
    {
     "name": "stdout",
     "output_type": "stream",
     "text": [
      "Download 100%.\n"
     ]
    }
   ],
   "source": [
    "response = service.files().list(\n",
    "        q=f\"mimeType='application/vnd.google-apps.document' or mimeType='application/vnd.google-apps.spreadsheet'\",\n",
    "        corpora='drive',\n",
    "        driveId=drive_name_id[1],\n",
    "        includeItemsFromAllDrives=True,\n",
    "        supportsAllDrives=True,\n",
    "        fields='files(id, name, mimeType)').execute()"
   ],
   "metadata": {
    "collapsed": false,
    "pycharm": {
     "name": "#%%\n"
    }
   }
  },
  {
   "cell_type": "code",
   "execution_count": 8,
   "outputs": [],
   "source": [
    "files = response.get('files', [])"
   ],
   "metadata": {
    "collapsed": false,
    "pycharm": {
     "name": "#%%\n"
    }
   }
  },
  {
   "cell_type": "code",
   "execution_count": 9,
   "outputs": [],
   "source": [
    "ls4 = []\n",
    "ls4 += files\n",
    "ls4 += files\n"
   ],
   "metadata": {
    "collapsed": false,
    "pycharm": {
     "name": "#%%\n"
    }
   }
  },
  {
   "cell_type": "code",
   "execution_count": 37,
   "outputs": [],
   "source": [
    "ls1 = {}\n",
    "for drive_name_id in ls_drives:\n",
    "    ls2 = []\n",
    "    for mime_type in mime_types:\n",
    "        response = service.files().list(\n",
    "            q=f\"mimeType='{mime_type}'\",\n",
    "            corpora='drive',\n",
    "            driveId=drive_name_id[1],\n",
    "            includeItemsFromAllDrives=True,\n",
    "            supportsAllDrives=True,\n",
    "            fields='files(id, name, mimeType)').execute()\n",
    "        ls2.append([mime_type, len(response.get('files', []))])\n",
    "    ls1[drive_name_id[0]] = ls2"
   ],
   "metadata": {
    "collapsed": false,
    "pycharm": {
     "name": "#%%\n"
    }
   }
  },
  {
   "cell_type": "code",
   "execution_count": 42,
   "outputs": [
    {
     "name": "stdout",
     "output_type": "stream",
     "text": [
      "BackOffice ['application/vnd.google-apps.document', 30]\n",
      "BackOffice ['application/vnd.google-apps.spreadsheet', 1]\n",
      "Ci ['application/vnd.google-apps.document', 1]\n",
      "Human Resources ['application/vnd.google-apps.document', 1]\n",
      "Human Resources ['application/vnd.google-apps.spreadsheet', 1]\n",
      "IT-ОТДЕЛ ['application/vnd.google-apps.spreadsheet', 1]\n",
      "Managment 2 ['application/vnd.google-apps.document', 1]\n",
      "Managment 2 ['application/vnd.google-apps.shortcut', 1]\n",
      "V-CLOUD24 ['application/vnd.google-apps.site', 1]\n",
      "VG.COM ['application/vnd.google-apps.spreadsheet', 1]\n",
      "Архив ['application/vnd.google-apps.document', 1]\n",
      "Бухгалтер RUS ['application/vnd.google-apps.document', 11]\n",
      "Бухгалтер RUS ['application/vnd.google-apps.spreadsheet', 2]\n",
      "ВДНХ_Колесо обозрения ['application/vnd.google-apps.document', 1]\n",
      "ВДНХ_Колесо обозрения ['application/vnd.google-apps.shortcut', 15]\n",
      "Контент ['application/vnd.google-apps.document', 64]\n",
      "Контент ['application/vnd.google-apps.spreadsheet', 7]\n",
      "Лобня ['application/vnd.google-apps.document', 1]\n",
      "Лобня ['application/vnd.google-apps.shortcut', 2]\n",
      "Лобня ['application/vnd.google-apps.spreadsheet', 1]\n",
      "ОСК Шереметьево ['application/vnd.google-apps.shortcut', 1]\n",
      "Пекарня ['application/vnd.google-apps.document', 2]\n",
      "ПОДРЯДЧИКИ ['application/vnd.google-apps.document', 1]\n",
      "ФРАКДЖЕТ-ТУЛЗ ['application/vnd.google-apps.document', 2]\n",
      "ФРАКДЖЕТ-ТУЛЗ ['application/vnd.google-apps.shortcut', 1]\n"
     ]
    }
   ],
   "source": [
    "ls3 = {}\n",
    "for key, val in ls1.items():\n",
    "    for i in val:\n",
    "       if i[1] != 0:\n",
    "           print(key, i)"
   ],
   "metadata": {
    "collapsed": false,
    "pycharm": {
     "name": "#%%\n"
    }
   }
  },
  {
   "cell_type": "code",
   "execution_count": 28,
   "outputs": [],
   "source": [
    "mime_type = 'application/vnd.google-apps.document'\n",
    "response = service.files().list(\n",
    "        q=f\"mimeType='{mime_type}'\",\n",
    "        corpora='drive',\n",
    "        driveId=drive_name_id[1],\n",
    "        includeItemsFromAllDrives=True,\n",
    "        supportsAllDrives=True,\n",
    "        fields='files(id, name, mimeType)').execute()"
   ],
   "metadata": {
    "collapsed": false,
    "pycharm": {
     "name": "#%%\n"
    }
   }
  },
  {
   "cell_type": "code",
   "execution_count": 24,
   "outputs": [
    {
     "data": {
      "text/plain": "30"
     },
     "execution_count": 24,
     "metadata": {},
     "output_type": "execute_result"
    }
   ],
   "source": [
    "len(fl)"
   ],
   "metadata": {
    "collapsed": false,
    "pycharm": {
     "name": "#%%\n"
    }
   }
  },
  {
   "cell_type": "code",
   "execution_count": 7,
   "outputs": [],
   "source": [
    "ls1 = []\n",
    "for file in response.get('files', []):\n",
    "    ls1.append([file.get('id'), file.get('name'), file.get('mimeType')])"
   ],
   "metadata": {
    "collapsed": false,
    "pycharm": {
     "name": "#%%\n"
    }
   }
  },
  {
   "cell_type": "code",
   "execution_count": null,
   "outputs": [],
   "source": [],
   "metadata": {
    "collapsed": false,
    "pycharm": {
     "name": "#%%\n"
    }
   }
  },
  {
   "cell_type": "code",
   "execution_count": 44,
   "outputs": [],
   "source": [
    "def downloadFile(file_name, file_id, mimeType, service):\n",
    "    request = service.files().get_media(fileId=file_id)\n",
    "    if \"application/vnd.google-apps\" in mimeType:\n",
    "        if \"document\" in mimeType:\n",
    "            request = service.files().export_media(fileId=file_id, mimeType='application/vnd.openxmlformats-officedocument.wordprocessingml.document')\n",
    "            file_name = file_name + \".docx\"\n",
    "        else:\n",
    "            request = service.files().export_media(fileId=file_id, mimeType='application/pdf')\n",
    "            file_name = file_name + \".pdf\"\n",
    "    print(\"Downloading -- \" + file_name)\n",
    "    response = request.execute()\n",
    "    with open(file_name, \"wb\") as wer:\n",
    "        wer.write(response)"
   ],
   "metadata": {
    "collapsed": false,
    "pycharm": {
     "name": "#%%\n"
    }
   }
  },
  {
   "cell_type": "code",
   "execution_count": 45,
   "outputs": [
    {
     "name": "stdout",
     "output_type": "stream",
     "text": [
      "Downloading -- Учет рабочего времени. Методика работы по Тайм трекингу CRM системы.docx\n"
     ]
    }
   ],
   "source": [
    "downloadFile(fl1[1], fl1[0], fl1[2], service)"
   ],
   "metadata": {
    "collapsed": false,
    "pycharm": {
     "name": "#%%\n"
    }
   }
  },
  {
   "cell_type": "code",
   "execution_count": null,
   "outputs": [],
   "source": [],
   "metadata": {
    "collapsed": false,
    "pycharm": {
     "name": "#%%\n"
    }
   }
  },
  {
   "cell_type": "code",
   "execution_count": 42,
   "outputs": [
    {
     "ename": "HttpError",
     "evalue": "<HttpError 403 when requesting https://www.googleapis.com/drive/v3/files/1SKwTfRGC4Td_4K5ClSIlOLRsiE59vLIwSegzgovQOGw?alt=media returned \"Only files with binary content can be downloaded. Use Export with Docs Editors files.\". Details: \"Only files with binary content can be downloaded. Use Export with Docs Editors files.\">",
     "output_type": "error",
     "traceback": [
      "\u001B[1;31m---------------------------------------------------------------------------\u001B[0m",
      "\u001B[1;31mHttpError\u001B[0m                                 Traceback (most recent call last)",
      "\u001B[1;32m~\\AppData\\Local\\Temp/ipykernel_16908/2602124510.py\u001B[0m in \u001B[0;36m<module>\u001B[1;34m\u001B[0m\n\u001B[0;32m      3\u001B[0m \u001B[0mdone\u001B[0m \u001B[1;33m=\u001B[0m \u001B[1;32mFalse\u001B[0m\u001B[1;33m\u001B[0m\u001B[1;33m\u001B[0m\u001B[0m\n\u001B[0;32m      4\u001B[0m \u001B[1;32mwhile\u001B[0m \u001B[0mdone\u001B[0m \u001B[1;32mis\u001B[0m \u001B[1;32mFalse\u001B[0m\u001B[1;33m:\u001B[0m\u001B[1;33m\u001B[0m\u001B[1;33m\u001B[0m\u001B[0m\n\u001B[1;32m----> 5\u001B[1;33m     \u001B[0mstatus\u001B[0m\u001B[1;33m,\u001B[0m \u001B[0mdone\u001B[0m \u001B[1;33m=\u001B[0m \u001B[0mdownloader\u001B[0m\u001B[1;33m.\u001B[0m\u001B[0mnext_chunk\u001B[0m\u001B[1;33m(\u001B[0m\u001B[1;33m)\u001B[0m\u001B[1;33m\u001B[0m\u001B[1;33m\u001B[0m\u001B[0m\n\u001B[0m\u001B[0;32m      6\u001B[0m     \u001B[0mprint\u001B[0m\u001B[1;33m(\u001B[0m\u001B[1;34m'Download %d%%.'\u001B[0m \u001B[1;33m%\u001B[0m \u001B[0mint\u001B[0m\u001B[1;33m(\u001B[0m\u001B[0mstatus\u001B[0m\u001B[1;33m.\u001B[0m\u001B[0mprogress\u001B[0m\u001B[1;33m(\u001B[0m\u001B[1;33m)\u001B[0m \u001B[1;33m*\u001B[0m \u001B[1;36m100\u001B[0m\u001B[1;33m)\u001B[0m\u001B[1;33m)\u001B[0m\u001B[1;33m\u001B[0m\u001B[1;33m\u001B[0m\u001B[0m\n\u001B[0;32m      7\u001B[0m \u001B[1;33m\u001B[0m\u001B[0m\n",
      "\u001B[1;32md:\\it\\pr\\mypython\\venv\\lib\\site-packages\\googleapiclient\\_helpers.py\u001B[0m in \u001B[0;36mpositional_wrapper\u001B[1;34m(*args, **kwargs)\u001B[0m\n\u001B[0;32m    132\u001B[0m                 \u001B[1;32melif\u001B[0m \u001B[0mpositional_parameters_enforcement\u001B[0m \u001B[1;33m==\u001B[0m \u001B[0mPOSITIONAL_WARNING\u001B[0m\u001B[1;33m:\u001B[0m\u001B[1;33m\u001B[0m\u001B[1;33m\u001B[0m\u001B[0m\n\u001B[0;32m    133\u001B[0m                     \u001B[0mlogger\u001B[0m\u001B[1;33m.\u001B[0m\u001B[0mwarning\u001B[0m\u001B[1;33m(\u001B[0m\u001B[0mmessage\u001B[0m\u001B[1;33m)\u001B[0m\u001B[1;33m\u001B[0m\u001B[1;33m\u001B[0m\u001B[0m\n\u001B[1;32m--> 134\u001B[1;33m             \u001B[1;32mreturn\u001B[0m \u001B[0mwrapped\u001B[0m\u001B[1;33m(\u001B[0m\u001B[1;33m*\u001B[0m\u001B[0margs\u001B[0m\u001B[1;33m,\u001B[0m \u001B[1;33m**\u001B[0m\u001B[0mkwargs\u001B[0m\u001B[1;33m)\u001B[0m\u001B[1;33m\u001B[0m\u001B[1;33m\u001B[0m\u001B[0m\n\u001B[0m\u001B[0;32m    135\u001B[0m \u001B[1;33m\u001B[0m\u001B[0m\n\u001B[0;32m    136\u001B[0m         \u001B[1;32mreturn\u001B[0m \u001B[0mpositional_wrapper\u001B[0m\u001B[1;33m\u001B[0m\u001B[1;33m\u001B[0m\u001B[0m\n",
      "\u001B[1;32md:\\it\\pr\\mypython\\venv\\lib\\site-packages\\googleapiclient\\http.py\u001B[0m in \u001B[0;36mnext_chunk\u001B[1;34m(self, num_retries)\u001B[0m\n\u001B[0;32m    755\u001B[0m                 \u001B[0mself\u001B[0m\u001B[1;33m.\u001B[0m\u001B[0m_done\u001B[0m \u001B[1;33m=\u001B[0m \u001B[1;32mTrue\u001B[0m\u001B[1;33m\u001B[0m\u001B[1;33m\u001B[0m\u001B[0m\n\u001B[0;32m    756\u001B[0m                 \u001B[1;32mreturn\u001B[0m \u001B[0mMediaDownloadProgress\u001B[0m\u001B[1;33m(\u001B[0m\u001B[0mself\u001B[0m\u001B[1;33m.\u001B[0m\u001B[0m_progress\u001B[0m\u001B[1;33m,\u001B[0m \u001B[0mself\u001B[0m\u001B[1;33m.\u001B[0m\u001B[0m_total_size\u001B[0m\u001B[1;33m)\u001B[0m\u001B[1;33m,\u001B[0m \u001B[0mself\u001B[0m\u001B[1;33m.\u001B[0m\u001B[0m_done\u001B[0m\u001B[1;33m\u001B[0m\u001B[1;33m\u001B[0m\u001B[0m\n\u001B[1;32m--> 757\u001B[1;33m         \u001B[1;32mraise\u001B[0m \u001B[0mHttpError\u001B[0m\u001B[1;33m(\u001B[0m\u001B[0mresp\u001B[0m\u001B[1;33m,\u001B[0m \u001B[0mcontent\u001B[0m\u001B[1;33m,\u001B[0m \u001B[0muri\u001B[0m\u001B[1;33m=\u001B[0m\u001B[0mself\u001B[0m\u001B[1;33m.\u001B[0m\u001B[0m_uri\u001B[0m\u001B[1;33m)\u001B[0m\u001B[1;33m\u001B[0m\u001B[1;33m\u001B[0m\u001B[0m\n\u001B[0m\u001B[0;32m    758\u001B[0m \u001B[1;33m\u001B[0m\u001B[0m\n\u001B[0;32m    759\u001B[0m \u001B[1;33m\u001B[0m\u001B[0m\n",
      "\u001B[1;31mHttpError\u001B[0m: <HttpError 403 when requesting https://www.googleapis.com/drive/v3/files/1SKwTfRGC4Td_4K5ClSIlOLRsiE59vLIwSegzgovQOGw?alt=media returned \"Only files with binary content can be downloaded. Use Export with Docs Editors files.\". Details: \"Only files with binary content can be downloaded. Use Export with Docs Editors files.\">"
     ]
    }
   ],
   "source": [
    "fh = io.BytesIO()\n",
    "downloader = MediaIoBaseDownload(fh, request)\n",
    "done = False\n",
    "while done is False:\n",
    "    status, done = downloader.next_chunk()\n",
    "    print('Download %d%%.' % int(status.progress() * 100))\n"
   ],
   "metadata": {
    "collapsed": false,
    "pycharm": {
     "name": "#%%\n"
    }
   }
  },
  {
   "cell_type": "code",
   "execution_count": 41,
   "outputs": [
    {
     "ename": "HttpError",
     "evalue": "<HttpError 403 when requesting https://www.googleapis.com/drive/v3/files/1SKwTfRGC4Td_4K5ClSIlOLRsiE59vLIwSegzgovQOGw?alt=media returned \"Only files with binary content can be downloaded. Use Export with Docs Editors files.\". Details: \"Only files with binary content can be downloaded. Use Export with Docs Editors files.\">",
     "output_type": "error",
     "traceback": [
      "\u001B[1;31m---------------------------------------------------------------------------\u001B[0m",
      "\u001B[1;31mHttpError\u001B[0m                                 Traceback (most recent call last)",
      "\u001B[1;32m~\\AppData\\Local\\Temp/ipykernel_16908/1630016406.py\u001B[0m in \u001B[0;36m<module>\u001B[1;34m\u001B[0m\n\u001B[0;32m      3\u001B[0m \u001B[0mdone\u001B[0m \u001B[1;33m=\u001B[0m \u001B[1;32mFalse\u001B[0m\u001B[1;33m\u001B[0m\u001B[1;33m\u001B[0m\u001B[0m\n\u001B[0;32m      4\u001B[0m \u001B[1;32mwhile\u001B[0m \u001B[0mdone\u001B[0m \u001B[1;32mis\u001B[0m \u001B[1;32mFalse\u001B[0m\u001B[1;33m:\u001B[0m\u001B[1;33m\u001B[0m\u001B[1;33m\u001B[0m\u001B[0m\n\u001B[1;32m----> 5\u001B[1;33m     \u001B[0mstatus\u001B[0m\u001B[1;33m,\u001B[0m \u001B[0mdone\u001B[0m \u001B[1;33m=\u001B[0m \u001B[0mdownloader\u001B[0m\u001B[1;33m.\u001B[0m\u001B[0mnext_chunk\u001B[0m\u001B[1;33m(\u001B[0m\u001B[1;33m)\u001B[0m\u001B[1;33m\u001B[0m\u001B[1;33m\u001B[0m\u001B[0m\n\u001B[0m\u001B[0;32m      6\u001B[0m     \u001B[0mprint\u001B[0m\u001B[1;33m(\u001B[0m\u001B[1;34m'Download %d%%.'\u001B[0m \u001B[1;33m%\u001B[0m \u001B[0mint\u001B[0m\u001B[1;33m(\u001B[0m\u001B[0mstatus\u001B[0m\u001B[1;33m.\u001B[0m\u001B[0mprogress\u001B[0m\u001B[1;33m(\u001B[0m\u001B[1;33m)\u001B[0m \u001B[1;33m*\u001B[0m \u001B[1;36m100\u001B[0m\u001B[1;33m)\u001B[0m\u001B[1;33m)\u001B[0m\u001B[1;33m\u001B[0m\u001B[1;33m\u001B[0m\u001B[0m\n",
      "\u001B[1;32md:\\it\\pr\\mypython\\venv\\lib\\site-packages\\googleapiclient\\_helpers.py\u001B[0m in \u001B[0;36mpositional_wrapper\u001B[1;34m(*args, **kwargs)\u001B[0m\n\u001B[0;32m    132\u001B[0m                 \u001B[1;32melif\u001B[0m \u001B[0mpositional_parameters_enforcement\u001B[0m \u001B[1;33m==\u001B[0m \u001B[0mPOSITIONAL_WARNING\u001B[0m\u001B[1;33m:\u001B[0m\u001B[1;33m\u001B[0m\u001B[1;33m\u001B[0m\u001B[0m\n\u001B[0;32m    133\u001B[0m                     \u001B[0mlogger\u001B[0m\u001B[1;33m.\u001B[0m\u001B[0mwarning\u001B[0m\u001B[1;33m(\u001B[0m\u001B[0mmessage\u001B[0m\u001B[1;33m)\u001B[0m\u001B[1;33m\u001B[0m\u001B[1;33m\u001B[0m\u001B[0m\n\u001B[1;32m--> 134\u001B[1;33m             \u001B[1;32mreturn\u001B[0m \u001B[0mwrapped\u001B[0m\u001B[1;33m(\u001B[0m\u001B[1;33m*\u001B[0m\u001B[0margs\u001B[0m\u001B[1;33m,\u001B[0m \u001B[1;33m**\u001B[0m\u001B[0mkwargs\u001B[0m\u001B[1;33m)\u001B[0m\u001B[1;33m\u001B[0m\u001B[1;33m\u001B[0m\u001B[0m\n\u001B[0m\u001B[0;32m    135\u001B[0m \u001B[1;33m\u001B[0m\u001B[0m\n\u001B[0;32m    136\u001B[0m         \u001B[1;32mreturn\u001B[0m \u001B[0mpositional_wrapper\u001B[0m\u001B[1;33m\u001B[0m\u001B[1;33m\u001B[0m\u001B[0m\n",
      "\u001B[1;32md:\\it\\pr\\mypython\\venv\\lib\\site-packages\\googleapiclient\\http.py\u001B[0m in \u001B[0;36mnext_chunk\u001B[1;34m(self, num_retries)\u001B[0m\n\u001B[0;32m    755\u001B[0m                 \u001B[0mself\u001B[0m\u001B[1;33m.\u001B[0m\u001B[0m_done\u001B[0m \u001B[1;33m=\u001B[0m \u001B[1;32mTrue\u001B[0m\u001B[1;33m\u001B[0m\u001B[1;33m\u001B[0m\u001B[0m\n\u001B[0;32m    756\u001B[0m                 \u001B[1;32mreturn\u001B[0m \u001B[0mMediaDownloadProgress\u001B[0m\u001B[1;33m(\u001B[0m\u001B[0mself\u001B[0m\u001B[1;33m.\u001B[0m\u001B[0m_progress\u001B[0m\u001B[1;33m,\u001B[0m \u001B[0mself\u001B[0m\u001B[1;33m.\u001B[0m\u001B[0m_total_size\u001B[0m\u001B[1;33m)\u001B[0m\u001B[1;33m,\u001B[0m \u001B[0mself\u001B[0m\u001B[1;33m.\u001B[0m\u001B[0m_done\u001B[0m\u001B[1;33m\u001B[0m\u001B[1;33m\u001B[0m\u001B[0m\n\u001B[1;32m--> 757\u001B[1;33m         \u001B[1;32mraise\u001B[0m \u001B[0mHttpError\u001B[0m\u001B[1;33m(\u001B[0m\u001B[0mresp\u001B[0m\u001B[1;33m,\u001B[0m \u001B[0mcontent\u001B[0m\u001B[1;33m,\u001B[0m \u001B[0muri\u001B[0m\u001B[1;33m=\u001B[0m\u001B[0mself\u001B[0m\u001B[1;33m.\u001B[0m\u001B[0m_uri\u001B[0m\u001B[1;33m)\u001B[0m\u001B[1;33m\u001B[0m\u001B[1;33m\u001B[0m\u001B[0m\n\u001B[0m\u001B[0;32m    758\u001B[0m \u001B[1;33m\u001B[0m\u001B[0m\n\u001B[0;32m    759\u001B[0m \u001B[1;33m\u001B[0m\u001B[0m\n",
      "\u001B[1;31mHttpError\u001B[0m: <HttpError 403 when requesting https://www.googleapis.com/drive/v3/files/1SKwTfRGC4Td_4K5ClSIlOLRsiE59vLIwSegzgovQOGw?alt=media returned \"Only files with binary content can be downloaded. Use Export with Docs Editors files.\". Details: \"Only files with binary content can be downloaded. Use Export with Docs Editors files.\">"
     ]
    }
   ],
   "source": [
    "fh = io.FileIO(fl1[1] + '.docx', mode='wb')\n",
    "downloader = MediaIoBaseDownload(fh, request)\n",
    "done = False\n",
    "while done is False:\n",
    "    status, done = downloader.next_chunk()\n",
    "    print('Download %d%%.' % int(status.progress() * 100))"
   ],
   "metadata": {
    "collapsed": false,
    "pycharm": {
     "name": "#%%\n"
    }
   }
  },
  {
   "cell_type": "code",
   "execution_count": null,
   "outputs": [],
   "source": [],
   "metadata": {
    "collapsed": false,
    "pycharm": {
     "name": "#%%\n"
    }
   }
  },
  {
   "cell_type": "code",
   "execution_count": null,
   "outputs": [],
   "source": [],
   "metadata": {
    "collapsed": false,
    "pycharm": {
     "name": "#%%\n"
    }
   }
  },
  {
   "cell_type": "code",
   "execution_count": null,
   "outputs": [],
   "source": [],
   "metadata": {
    "collapsed": false,
    "pycharm": {
     "name": "#%%\n"
    }
   }
  },
  {
   "cell_type": "code",
   "execution_count": null,
   "outputs": [],
   "source": [],
   "metadata": {
    "collapsed": false,
    "pycharm": {
     "name": "#%%\n"
    }
   }
  },
  {
   "cell_type": "code",
   "execution_count": 33,
   "outputs": [
    {
     "ename": "TypeError",
     "evalue": "a bytes-like object is required, not 'HttpRequest'",
     "output_type": "error",
     "traceback": [
      "\u001B[1;31m---------------------------------------------------------------------------\u001B[0m",
      "\u001B[1;31mTypeError\u001B[0m                                 Traceback (most recent call last)",
      "\u001B[1;32m~\\AppData\\Local\\Temp/ipykernel_16908/2191903273.py\u001B[0m in \u001B[0;36m<module>\u001B[1;34m\u001B[0m\n\u001B[0;32m      2\u001B[0m     \u001B[0mfilename\u001B[0m \u001B[1;33m=\u001B[0m \u001B[1;34m'your-file-name.docx'\u001B[0m\u001B[1;33m\u001B[0m\u001B[1;33m\u001B[0m\u001B[0m\n\u001B[0;32m      3\u001B[0m     \u001B[1;32mwith\u001B[0m \u001B[0mopen\u001B[0m\u001B[1;33m(\u001B[0m\u001B[0mfilename\u001B[0m\u001B[1;33m,\u001B[0m \u001B[1;34m'wb'\u001B[0m\u001B[1;33m)\u001B[0m \u001B[1;32mas\u001B[0m \u001B[0mpdf_file\u001B[0m\u001B[1;33m:\u001B[0m\u001B[1;33m\u001B[0m\u001B[1;33m\u001B[0m\u001B[0m\n\u001B[1;32m----> 4\u001B[1;33m         \u001B[0mpdf_file\u001B[0m\u001B[1;33m.\u001B[0m\u001B[0mwrite\u001B[0m\u001B[1;33m(\u001B[0m\u001B[0mrequest\u001B[0m\u001B[1;33m)\u001B[0m\u001B[1;33m\u001B[0m\u001B[1;33m\u001B[0m\u001B[0m\n\u001B[0m",
      "\u001B[1;31mTypeError\u001B[0m: a bytes-like object is required, not 'HttpRequest'"
     ]
    }
   ],
   "source": [
    "if request:\n",
    "    filename = 'your-file-name.docx'\n",
    "    with open(filename, 'wb') as pdf_file:\n",
    "        pdf_file.write(request)"
   ],
   "metadata": {
    "collapsed": false,
    "pycharm": {
     "name": "#%%\n"
    }
   }
  },
  {
   "cell_type": "code",
   "execution_count": 22,
   "outputs": [],
   "source": [
    "request = service.files().export_media(fileId=fl1_id,\n",
    "                                             mimeType=fl1_mime)"
   ],
   "metadata": {
    "collapsed": false,
    "pycharm": {
     "name": "#%%\n"
    }
   }
  },
  {
   "cell_type": "code",
   "execution_count": 30,
   "outputs": [
    {
     "ename": "HttpError",
     "evalue": "<HttpError 400 when requesting https://www.googleapis.com/drive/v3/files/1SKwTfRGC4Td_4K5ClSIlOLRsiE59vLIwSegzgovQOGw/export?mimeType=application%2Fvnd.google-apps.document returned \"The requested conversion is not supported.\". Details: \"The requested conversion is not supported.\">",
     "output_type": "error",
     "traceback": [
      "\u001B[1;31m---------------------------------------------------------------------------\u001B[0m",
      "\u001B[1;31mHttpError\u001B[0m                                 Traceback (most recent call last)",
      "\u001B[1;32m~\\AppData\\Local\\Temp/ipykernel_16908/205152475.py\u001B[0m in \u001B[0;36m<module>\u001B[1;34m\u001B[0m\n\u001B[0;32m      3\u001B[0m \u001B[0mdone\u001B[0m \u001B[1;33m=\u001B[0m \u001B[1;32mFalse\u001B[0m\u001B[1;33m\u001B[0m\u001B[1;33m\u001B[0m\u001B[0m\n\u001B[0;32m      4\u001B[0m \u001B[1;32mwhile\u001B[0m \u001B[0mdone\u001B[0m \u001B[1;32mis\u001B[0m \u001B[1;32mFalse\u001B[0m\u001B[1;33m:\u001B[0m\u001B[1;33m\u001B[0m\u001B[1;33m\u001B[0m\u001B[0m\n\u001B[1;32m----> 5\u001B[1;33m     \u001B[0mstatus\u001B[0m\u001B[1;33m,\u001B[0m \u001B[0mdone\u001B[0m \u001B[1;33m=\u001B[0m \u001B[0mdownloader\u001B[0m\u001B[1;33m.\u001B[0m\u001B[0mnext_chunk\u001B[0m\u001B[1;33m(\u001B[0m\u001B[1;33m)\u001B[0m\u001B[1;33m\u001B[0m\u001B[1;33m\u001B[0m\u001B[0m\n\u001B[0m\u001B[0;32m      6\u001B[0m     \u001B[0mprint\u001B[0m \u001B[1;33m(\u001B[0m\u001B[1;34m\"Download %d%%.\"\u001B[0m \u001B[1;33m%\u001B[0m \u001B[0mint\u001B[0m\u001B[1;33m(\u001B[0m\u001B[0mstatus\u001B[0m\u001B[1;33m.\u001B[0m\u001B[0mprogress\u001B[0m\u001B[1;33m(\u001B[0m\u001B[1;33m)\u001B[0m \u001B[1;33m*\u001B[0m \u001B[1;36m100\u001B[0m\u001B[1;33m)\u001B[0m\u001B[1;33m)\u001B[0m\u001B[1;33m\u001B[0m\u001B[1;33m\u001B[0m\u001B[0m\n",
      "\u001B[1;32md:\\it\\pr\\mypython\\venv\\lib\\site-packages\\googleapiclient\\_helpers.py\u001B[0m in \u001B[0;36mpositional_wrapper\u001B[1;34m(*args, **kwargs)\u001B[0m\n\u001B[0;32m    132\u001B[0m                 \u001B[1;32melif\u001B[0m \u001B[0mpositional_parameters_enforcement\u001B[0m \u001B[1;33m==\u001B[0m \u001B[0mPOSITIONAL_WARNING\u001B[0m\u001B[1;33m:\u001B[0m\u001B[1;33m\u001B[0m\u001B[1;33m\u001B[0m\u001B[0m\n\u001B[0;32m    133\u001B[0m                     \u001B[0mlogger\u001B[0m\u001B[1;33m.\u001B[0m\u001B[0mwarning\u001B[0m\u001B[1;33m(\u001B[0m\u001B[0mmessage\u001B[0m\u001B[1;33m)\u001B[0m\u001B[1;33m\u001B[0m\u001B[1;33m\u001B[0m\u001B[0m\n\u001B[1;32m--> 134\u001B[1;33m             \u001B[1;32mreturn\u001B[0m \u001B[0mwrapped\u001B[0m\u001B[1;33m(\u001B[0m\u001B[1;33m*\u001B[0m\u001B[0margs\u001B[0m\u001B[1;33m,\u001B[0m \u001B[1;33m**\u001B[0m\u001B[0mkwargs\u001B[0m\u001B[1;33m)\u001B[0m\u001B[1;33m\u001B[0m\u001B[1;33m\u001B[0m\u001B[0m\n\u001B[0m\u001B[0;32m    135\u001B[0m \u001B[1;33m\u001B[0m\u001B[0m\n\u001B[0;32m    136\u001B[0m         \u001B[1;32mreturn\u001B[0m \u001B[0mpositional_wrapper\u001B[0m\u001B[1;33m\u001B[0m\u001B[1;33m\u001B[0m\u001B[0m\n",
      "\u001B[1;32md:\\it\\pr\\mypython\\venv\\lib\\site-packages\\googleapiclient\\http.py\u001B[0m in \u001B[0;36mnext_chunk\u001B[1;34m(self, num_retries)\u001B[0m\n\u001B[0;32m    755\u001B[0m                 \u001B[0mself\u001B[0m\u001B[1;33m.\u001B[0m\u001B[0m_done\u001B[0m \u001B[1;33m=\u001B[0m \u001B[1;32mTrue\u001B[0m\u001B[1;33m\u001B[0m\u001B[1;33m\u001B[0m\u001B[0m\n\u001B[0;32m    756\u001B[0m                 \u001B[1;32mreturn\u001B[0m \u001B[0mMediaDownloadProgress\u001B[0m\u001B[1;33m(\u001B[0m\u001B[0mself\u001B[0m\u001B[1;33m.\u001B[0m\u001B[0m_progress\u001B[0m\u001B[1;33m,\u001B[0m \u001B[0mself\u001B[0m\u001B[1;33m.\u001B[0m\u001B[0m_total_size\u001B[0m\u001B[1;33m)\u001B[0m\u001B[1;33m,\u001B[0m \u001B[0mself\u001B[0m\u001B[1;33m.\u001B[0m\u001B[0m_done\u001B[0m\u001B[1;33m\u001B[0m\u001B[1;33m\u001B[0m\u001B[0m\n\u001B[1;32m--> 757\u001B[1;33m         \u001B[1;32mraise\u001B[0m \u001B[0mHttpError\u001B[0m\u001B[1;33m(\u001B[0m\u001B[0mresp\u001B[0m\u001B[1;33m,\u001B[0m \u001B[0mcontent\u001B[0m\u001B[1;33m,\u001B[0m \u001B[0muri\u001B[0m\u001B[1;33m=\u001B[0m\u001B[0mself\u001B[0m\u001B[1;33m.\u001B[0m\u001B[0m_uri\u001B[0m\u001B[1;33m)\u001B[0m\u001B[1;33m\u001B[0m\u001B[1;33m\u001B[0m\u001B[0m\n\u001B[0m\u001B[0;32m    758\u001B[0m \u001B[1;33m\u001B[0m\u001B[0m\n\u001B[0;32m    759\u001B[0m \u001B[1;33m\u001B[0m\u001B[0m\n",
      "\u001B[1;31mHttpError\u001B[0m: <HttpError 400 when requesting https://www.googleapis.com/drive/v3/files/1SKwTfRGC4Td_4K5ClSIlOLRsiE59vLIwSegzgovQOGw/export?mimeType=application%2Fvnd.google-apps.document returned \"The requested conversion is not supported.\". Details: \"The requested conversion is not supported.\">"
     ]
    }
   ],
   "source": [
    "fh = io.BytesIO()\n",
    "downloader = MediaIoBaseDownload(fh, request)\n",
    "done = False\n",
    "while done is False:\n",
    "    status, done = downloader.next_chunk()\n",
    "    print (\"Download %d%%.\" % int(status.progress() * 100))"
   ],
   "metadata": {
    "collapsed": false,
    "pycharm": {
     "name": "#%%\n"
    }
   }
  },
  {
   "cell_type": "code",
   "execution_count": null,
   "outputs": [],
   "source": [],
   "metadata": {
    "collapsed": false,
    "pycharm": {
     "name": "#%%\n"
    }
   }
  },
  {
   "cell_type": "code",
   "execution_count": 28,
   "outputs": [
    {
     "data": {
      "text/plain": "'1tCX9WLNqv_Cp8HoBzcN67yL_g5mUOWcC'"
     },
     "execution_count": 28,
     "metadata": {},
     "output_type": "execute_result"
    }
   ],
   "source": [
    "fil_id = ls_files[-1]\n",
    "fil_id"
   ],
   "metadata": {
    "collapsed": false,
    "pycharm": {
     "name": "#%%\n"
    }
   }
  },
  {
   "cell_type": "code",
   "execution_count": 29,
   "outputs": [
    {
     "data": {
      "text/plain": "'GoogleDriveTransfer/BackOffice/Регламенты/СТП/Утвержденные/Утвержденные/Рабочие инструкции/РИ 05.13/Листок учёта.xlsx'"
     },
     "execution_count": 29,
     "metadata": {},
     "output_type": "execute_result"
    }
   ],
   "source": [
    "file_path = get_full_path_to_file(service, drive_name_id, fil_id)\n",
    "file_path"
   ],
   "metadata": {
    "collapsed": false,
    "pycharm": {
     "name": "#%%\n"
    }
   }
  },
  {
   "cell_type": "code",
   "execution_count": 24,
   "outputs": [],
   "source": [
    "data = service.files().get_media(fileId=fil_id).execute()"
   ],
   "metadata": {
    "collapsed": false,
    "pycharm": {
     "name": "#%%\n"
    }
   }
  },
  {
   "cell_type": "code",
   "execution_count": 11,
   "outputs": [],
   "source": [
    "blobs = bucket.list_blobs(prefix='GoogleDriveTransfer/BackOffice')"
   ],
   "metadata": {
    "collapsed": false,
    "pycharm": {
     "name": "#%%\n"
    }
   }
  },
  {
   "cell_type": "code",
   "execution_count": 12,
   "outputs": [],
   "source": [
    "files = [blob.name for blob in blobs]"
   ],
   "metadata": {
    "collapsed": false,
    "pycharm": {
     "name": "#%%\n"
    }
   }
  },
  {
   "cell_type": "code",
   "execution_count": 7,
   "outputs": [],
   "source": [
    "ls1 =  []\n",
    "for driver in drivers:\n",
    "    ls_files = get_list_of_files_in_drive(service, driver)\n",
    "    ls1.append([driver[0], len(ls_files)])"
   ],
   "metadata": {
    "collapsed": false,
    "pycharm": {
     "name": "#%%\n"
    }
   }
  },
  {
   "cell_type": "code",
   "execution_count": 8,
   "outputs": [],
   "source": [
    "ls2 = []\n",
    "for driver in drivers:\n",
    "    blobs = bucket.list_blobs(prefix=f'GoogleDriveTransfer/{driver[0]}')\n",
    "    files = [blob.name for blob in blobs]\n",
    "    ls2.append([driver[0], len(files)])"
   ],
   "metadata": {
    "collapsed": false,
    "pycharm": {
     "name": "#%%\n"
    }
   }
  },
  {
   "cell_type": "code",
   "execution_count": 9,
   "outputs": [
    {
     "data": {
      "text/plain": "[['Ci', 7952],\n ['Managment 2', 21687],\n ['VG.COM', 16407],\n ['Архив', 34661],\n ['Винный парк', 7761],\n ['Контент_VG', 2845],\n ['Контент', 9500],\n ['Лобня', 5584],\n ['Объединенная пивоварня', 14814],\n ['ОСК Шереметьево', 1094]]"
     },
     "execution_count": 9,
     "metadata": {},
     "output_type": "execute_result"
    }
   ],
   "source": [
    "ls1"
   ],
   "metadata": {
    "collapsed": false,
    "pycharm": {
     "name": "#%%\n"
    }
   }
  },
  {
   "cell_type": "code",
   "execution_count": 10,
   "outputs": [
    {
     "data": {
      "text/plain": "[['Ci', 2345],\n ['Managment 2', 14070],\n ['VG.COM', 16395],\n ['Архив', 1020],\n ['Винный парк', 1217],\n ['Контент_VG', 2531],\n ['Контент', 12029],\n ['Лобня', 5575],\n ['Объединенная пивоварня', 14772],\n ['ОСК Шереметьево', 718]]"
     },
     "execution_count": 10,
     "metadata": {},
     "output_type": "execute_result"
    }
   ],
   "source": [
    "ls2"
   ],
   "metadata": {
    "collapsed": false,
    "pycharm": {
     "name": "#%%\n"
    }
   }
  },
  {
   "cell_type": "code",
   "execution_count": 8,
   "outputs": [],
   "source": [
    "blobs = bucket.list_blobs(prefix=f'GoogleDriveTransfer/{drivers[0][0]}')"
   ],
   "metadata": {
    "collapsed": false,
    "pycharm": {
     "name": "#%%\n"
    }
   }
  },
  {
   "cell_type": "code",
   "execution_count": 9,
   "outputs": [],
   "source": [
    "files = [blob.name for blob in blobs]"
   ],
   "metadata": {
    "collapsed": false,
    "pycharm": {
     "name": "#%%\n"
    }
   }
  },
  {
   "cell_type": "code",
   "execution_count": 10,
   "outputs": [
    {
     "data": {
      "text/plain": "'BackOffice'"
     },
     "execution_count": 10,
     "metadata": {},
     "output_type": "execute_result"
    }
   ],
   "source": [
    "drivers[0][0]"
   ],
   "metadata": {
    "collapsed": false,
    "pycharm": {
     "name": "#%%\n"
    }
   }
  },
  {
   "cell_type": "code",
   "execution_count": 5,
   "outputs": [
    {
     "data": {
      "text/plain": "[['BackOffice', 1005],\n ['Grand_Engineering', 69],\n ['Human Resources', 1932],\n ['IT-ОТДЕЛ', 47],\n ['Managment 1', 7856],\n ['Titov Maksim', 93],\n ['V-CLOUD24', 27],\n ['Адвокатский кабинет', 857],\n ['Бухгалтер RUS', 8979],\n ['Бухгалтер UA', 1984],\n ['ВДНХ_Колесо обозрения', 809],\n ['ГипроМез', 2902],\n ['ДОУ 360 Выпуск', 164],\n ['ДОУ 360', 2829],\n ['Лио-Продукт', 575]]"
     },
     "execution_count": 5,
     "metadata": {},
     "output_type": "execute_result"
    }
   ],
   "source": [
    "ls1"
   ],
   "metadata": {
    "collapsed": false,
    "pycharm": {
     "name": "#%%\n"
    }
   }
  }
 ],
 "metadata": {
  "kernelspec": {
   "display_name": "Python 3",
   "language": "python",
   "name": "python3"
  },
  "language_info": {
   "codemirror_mode": {
    "name": "ipython",
    "version": 2
   },
   "file_extension": ".py",
   "mimetype": "text/x-python",
   "name": "python",
   "nbconvert_exporter": "python",
   "pygments_lexer": "ipython2",
   "version": "2.7.6"
  }
 },
 "nbformat": 4,
 "nbformat_minor": 0
}