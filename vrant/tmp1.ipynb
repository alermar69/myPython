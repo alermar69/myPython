{
 "cells": [
  {
   "cell_type": "code",
   "execution_count": 1,
   "metadata": {
    "collapsed": true,
    "pycharm": {
     "name": "#%%\n"
    }
   },
   "outputs": [],
   "source": [
    "from google.auth.transport import requests\n",
    "from googleapiclient import discovery\n",
    "from google.oauth2 import service_account"
   ]
  },
  {
   "cell_type": "code",
   "execution_count": 1,
   "outputs": [],
   "source": [
    "import lib_pyt"
   ],
   "metadata": {
    "collapsed": false,
    "pycharm": {
     "name": "#%%\n"
    }
   }
  },
  {
   "cell_type": "code",
   "execution_count": 2,
   "outputs": [
    {
     "data": {
      "text/plain": "12"
     },
     "execution_count": 2,
     "metadata": {},
     "output_type": "execute_result"
    }
   ],
   "source": [
    "lib_pyt.plus(5, 7)"
   ],
   "metadata": {
    "collapsed": false,
    "pycharm": {
     "name": "#%%\n"
    }
   }
  },
  {
   "cell_type": "code",
   "execution_count": null,
   "outputs": [],
   "source": [],
   "metadata": {
    "collapsed": false,
    "pycharm": {
     "name": "#%%\n"
    }
   }
  },
  {
   "cell_type": "code",
   "execution_count": null,
   "outputs": [],
   "source": [],
   "metadata": {
    "collapsed": false,
    "pycharm": {
     "name": "#%%\n"
    }
   }
  },
  {
   "cell_type": "code",
   "execution_count": 6,
   "outputs": [],
   "source": [
    "credentials = service_account.Credentials.from_service_account_file(\n",
    "            filename='credentials_compute.json',\n",
    "        )\n",
    "session = requests.AuthorizedSession(credentials)\n",
    "service = discovery.build('compute', 'v1', credentials=credentials)"
   ],
   "metadata": {
    "collapsed": false,
    "pycharm": {
     "name": "#%%\n"
    }
   }
  },
  {
   "cell_type": "code",
   "execution_count": 3,
   "outputs": [],
   "source": [
    "project = 'grand-358005'\n",
    "zone = 'us-central1-a'\n",
    "cpu_count = 0\n",
    "ram = 0\n"
   ],
   "metadata": {
    "collapsed": false,
    "pycharm": {
     "name": "#%%\n"
    }
   }
  },
  {
   "cell_type": "code",
   "execution_count": 10,
   "outputs": [
    {
     "data": {
      "text/plain": "'instance-1'"
     },
     "execution_count": 10,
     "metadata": {},
     "output_type": "execute_result"
    }
   ],
   "source": [
    "request = service.instances().list(project=project, zone=zone)\n",
    "response = request.execute()\n",
    "vm1 = response['items'][0]\n",
    "vm1.get('name')"
   ],
   "metadata": {
    "collapsed": false,
    "pycharm": {
     "name": "#%%\n"
    }
   }
  },
  {
   "cell_type": "code",
   "execution_count": 13,
   "outputs": [
    {
     "data": {
      "text/plain": "{'kind': 'compute#operation',\n 'id': '1592183081755957452',\n 'name': 'operation-1675552291002-5f3e7eb1b96f1-2536257c-423ba90e',\n 'zone': 'https://www.googleapis.com/compute/v1/projects/grand-358005/zones/us-central1-a',\n 'operationType': 'stop',\n 'targetLink': 'https://www.googleapis.com/compute/v1/projects/grand-358005/zones/us-central1-a/instances/instance-1',\n 'targetId': '1929571780952291978',\n 'status': 'RUNNING',\n 'user': '714818301993-compute@developer.gserviceaccount.com',\n 'progress': 0,\n 'insertTime': '2023-02-04T15:11:31.299-08:00',\n 'startTime': '2023-02-04T15:11:31.317-08:00',\n 'selfLink': 'https://www.googleapis.com/compute/v1/projects/grand-358005/zones/us-central1-a/operations/operation-1675552291002-5f3e7eb1b96f1-2536257c-423ba90e'}"
     },
     "execution_count": 13,
     "metadata": {},
     "output_type": "execute_result"
    }
   ],
   "source": [
    "service.instances().stop(project=project, zone=zone, instance=vm1.get('name')).execute()"
   ],
   "metadata": {
    "collapsed": false,
    "pycharm": {
     "name": "#%%\n"
    }
   }
  },
  {
   "cell_type": "code",
   "execution_count": 14,
   "outputs": [
    {
     "data": {
      "text/plain": "{'kind': 'compute#operation',\n 'id': '241882721519098161',\n 'name': 'operation-1675552733992-5f3e8058314e5-327d07f9-e81352f8',\n 'zone': 'https://www.googleapis.com/compute/v1/projects/grand-358005/zones/us-central1-a',\n 'operationType': 'start',\n 'targetLink': 'https://www.googleapis.com/compute/v1/projects/grand-358005/zones/us-central1-a/instances/instance-1',\n 'targetId': '1929571780952291978',\n 'status': 'RUNNING',\n 'user': '714818301993-compute@developer.gserviceaccount.com',\n 'progress': 0,\n 'insertTime': '2023-02-04T15:18:54.525-08:00',\n 'startTime': '2023-02-04T15:18:54.545-08:00',\n 'selfLink': 'https://www.googleapis.com/compute/v1/projects/grand-358005/zones/us-central1-a/operations/operation-1675552733992-5f3e8058314e5-327d07f9-e81352f8'}"
     },
     "execution_count": 14,
     "metadata": {},
     "output_type": "execute_result"
    }
   ],
   "source": [
    "service.instances().start(project=project, zone=zone, instance=vm1.get('name')).execute()"
   ],
   "metadata": {
    "collapsed": false,
    "pycharm": {
     "name": "#%%\n"
    }
   }
  }
 ],
 "metadata": {
  "kernelspec": {
   "display_name": "Python 3",
   "language": "python",
   "name": "python3"
  },
  "language_info": {
   "codemirror_mode": {
    "name": "ipython",
    "version": 2
   },
   "file_extension": ".py",
   "mimetype": "text/x-python",
   "name": "python",
   "nbconvert_exporter": "python",
   "pygments_lexer": "ipython2",
   "version": "2.7.6"
  }
 },
 "nbformat": 4,
 "nbformat_minor": 0
}