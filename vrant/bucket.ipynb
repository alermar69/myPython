{
 "cells": [
  {
   "cell_type": "code",
   "execution_count": 1,
   "outputs": [],
   "source": [
    "from google.auth.transport import requests\n",
    "from googleapiclient import discovery\n",
    "from google.oauth2 import service_account\n",
    "from google.cloud import storage\n",
    "from googleapiclient.http import MediaIoBaseDownload\n",
    "import io\n",
    "import threading\n",
    "from time import sleep\n",
    "import pandas as pd"
   ],
   "metadata": {
    "collapsed": false,
    "pycharm": {
     "name": "#%%\n"
    }
   }
  },
  {
   "cell_type": "code",
   "execution_count": 2,
   "metadata": {
    "collapsed": true,
    "pycharm": {
     "name": "#%%\n"
    }
   },
   "outputs": [],
   "source": [
    "def get_client():\n",
    "    #Google Storage\n",
    "    credentials_storage = service_account.Credentials.from_service_account_file(\n",
    "        filename='credentials.json',\n",
    "        scopes=['https://www.googleapis.com/auth/devstorage.full_control'],\n",
    "    )\n",
    "    client = storage.Client(credentials=credentials_storage)\n",
    "    bucket = client.get_bucket('cabinet_bucket')\n",
    "\n",
    "    return bucket"
   ]
  },
  {
   "cell_type": "code",
   "execution_count": 3,
   "outputs": [],
   "source": [
    "bucket = get_client()"
   ],
   "metadata": {
    "collapsed": false,
    "pycharm": {
     "name": "#%%\n"
    }
   }
  },
  {
   "cell_type": "code",
   "execution_count": 6,
   "outputs": [],
   "source": [
    "path = '3/21/test.docx'"
   ],
   "metadata": {
    "collapsed": false,
    "pycharm": {
     "name": "#%%\n"
    }
   }
  },
  {
   "cell_type": "code",
   "execution_count": 19,
   "outputs": [],
   "source": [
    "blob = bucket.blob(path)\n",
    "blob.upload_from_filename('test.docx')"
   ],
   "metadata": {
    "collapsed": false,
    "pycharm": {
     "name": "#%%\n"
    }
   }
  },
  {
   "cell_type": "code",
   "execution_count": 16,
   "outputs": [
    {
     "data": {
      "text/plain": "True"
     },
     "execution_count": 16,
     "metadata": {},
     "output_type": "execute_result"
    }
   ],
   "source": [
    "bucket.versioning_enabled"
   ],
   "metadata": {
    "collapsed": false,
    "pycharm": {
     "name": "#%%\n"
    }
   }
  },
  {
   "cell_type": "code",
   "execution_count": 15,
   "outputs": [],
   "source": [
    "bucket.versioning_enabled = True"
   ],
   "metadata": {
    "collapsed": false,
    "pycharm": {
     "name": "#%%\n"
    }
   }
  },
  {
   "cell_type": "code",
   "execution_count": 18,
   "outputs": [],
   "source": [
    "bucket.patch()"
   ],
   "metadata": {
    "collapsed": false,
    "pycharm": {
     "name": "#%%\n"
    }
   }
  },
  {
   "cell_type": "code",
   "execution_count": 9,
   "outputs": [
    {
     "data": {
      "text/plain": "1680111505130905"
     },
     "execution_count": 9,
     "metadata": {},
     "output_type": "execute_result"
    }
   ],
   "source": [
    "blob.generation"
   ],
   "metadata": {
    "collapsed": false,
    "pycharm": {
     "name": "#%%\n"
    }
   }
  },
  {
   "cell_type": "code",
   "execution_count": 13,
   "outputs": [
    {
     "data": {
      "text/plain": "1680113183422467"
     },
     "execution_count": 13,
     "metadata": {},
     "output_type": "execute_result"
    }
   ],
   "source": [
    "blob.generation"
   ],
   "metadata": {
    "collapsed": false,
    "pycharm": {
     "name": "#%%\n"
    }
   }
  },
  {
   "cell_type": "code",
   "execution_count": 14,
   "outputs": [
    {
     "data": {
      "text/plain": "1"
     },
     "execution_count": 14,
     "metadata": {},
     "output_type": "execute_result"
    }
   ],
   "source": [
    "blob.metageneration"
   ],
   "metadata": {
    "collapsed": false,
    "pycharm": {
     "name": "#%%\n"
    }
   }
  },
  {
   "cell_type": "code",
   "execution_count": 11,
   "outputs": [],
   "source": [
    "ls = []\n",
    "for blob in bucket.list_blobs(prefix='3/21/', versions=True):\n",
    "    ls.append([blob.name, blob.generation])"
   ],
   "metadata": {
    "collapsed": false,
    "pycharm": {
     "name": "#%%\n"
    }
   }
  },
  {
   "cell_type": "code",
   "execution_count": null,
   "outputs": [],
   "source": [],
   "metadata": {
    "collapsed": false,
    "pycharm": {
     "name": "#%%\n"
    }
   }
  },
  {
   "cell_type": "code",
   "execution_count": null,
   "outputs": [],
   "source": [],
   "metadata": {
    "collapsed": false,
    "pycharm": {
     "name": "#%%\n"
    }
   }
  },
  {
   "cell_type": "code",
   "execution_count": null,
   "outputs": [],
   "source": [],
   "metadata": {
    "collapsed": false,
    "pycharm": {
     "name": "#%%\n"
    }
   }
  },
  {
   "cell_type": "code",
   "execution_count": null,
   "outputs": [],
   "source": [],
   "metadata": {
    "collapsed": false,
    "pycharm": {
     "name": "#%%\n"
    }
   }
  },
  {
   "cell_type": "code",
   "execution_count": 63,
   "outputs": [],
   "source": [
    "# path = 'GoogleDriveTransfer/Ci/1.csv'\n",
    "path = 'test6/tmp/MT4/libs.min.css'\n",
    "blob = bucket.get_blob(path)"
   ],
   "metadata": {
    "collapsed": false,
    "pycharm": {
     "name": "#%%\n"
    }
   }
  },
  {
   "cell_type": "code",
   "execution_count": 64,
   "outputs": [],
   "source": [
    "path2 = 'test6/3/4/libs.min.css'"
   ],
   "metadata": {
    "collapsed": false,
    "pycharm": {
     "name": "#%%\n"
    }
   }
  },
  {
   "cell_type": "code",
   "execution_count": 65,
   "outputs": [
    {
     "data": {
      "text/plain": "<Blob: cabinet_bucket, test6/3/4/libs.min.css, 1678724826350603>"
     },
     "execution_count": 65,
     "metadata": {},
     "output_type": "execute_result"
    }
   ],
   "source": [
    "bucket.rename_blob(blob, path2)"
   ],
   "metadata": {
    "collapsed": false,
    "pycharm": {
     "name": "#%%\n"
    }
   }
  },
  {
   "cell_type": "code",
   "execution_count": 66,
   "outputs": [
    {
     "ename": "NotFound",
     "evalue": "404 DELETE https://storage.googleapis.com/storage/v1/b/cabinet_bucket/o/test6%2Ftmp%2FMT4%2Flibs.min.css?prettyPrint=false: No such object: cabinet_bucket/test6/tmp/MT4/libs.min.css",
     "output_type": "error",
     "traceback": [
      "\u001B[1;31m---------------------------------------------------------------------------\u001B[0m",
      "\u001B[1;31mNotFound\u001B[0m                                  Traceback (most recent call last)",
      "\u001B[1;32m~\\AppData\\Local\\Temp/ipykernel_16700/2383663901.py\u001B[0m in \u001B[0;36m<module>\u001B[1;34m\u001B[0m\n\u001B[1;32m----> 1\u001B[1;33m \u001B[0mbucket\u001B[0m\u001B[1;33m.\u001B[0m\u001B[0mdelete_blob\u001B[0m\u001B[1;33m(\u001B[0m\u001B[0mpath\u001B[0m\u001B[1;33m)\u001B[0m\u001B[1;33m\u001B[0m\u001B[1;33m\u001B[0m\u001B[0m\n\u001B[0m",
      "\u001B[1;32md:\\it\\pr\\mypython\\venv\\lib\\site-packages\\google\\cloud\\storage\\bucket.py\u001B[0m in \u001B[0;36mdelete_blob\u001B[1;34m(self, blob_name, client, generation, timeout, if_generation_match, if_generation_not_match, if_metageneration_match, if_metageneration_not_match, retry)\u001B[0m\n\u001B[0;32m   1674\u001B[0m         \u001B[1;31m# request has no response value (whether in a standard request or\u001B[0m\u001B[1;33m\u001B[0m\u001B[1;33m\u001B[0m\u001B[1;33m\u001B[0m\u001B[0m\n\u001B[0;32m   1675\u001B[0m         \u001B[1;31m# in a batch request).\u001B[0m\u001B[1;33m\u001B[0m\u001B[1;33m\u001B[0m\u001B[1;33m\u001B[0m\u001B[0m\n\u001B[1;32m-> 1676\u001B[1;33m         client._connection.api_request(\n\u001B[0m\u001B[0;32m   1677\u001B[0m             \u001B[0mmethod\u001B[0m\u001B[1;33m=\u001B[0m\u001B[1;34m\"DELETE\"\u001B[0m\u001B[1;33m,\u001B[0m\u001B[1;33m\u001B[0m\u001B[1;33m\u001B[0m\u001B[0m\n\u001B[0;32m   1678\u001B[0m             \u001B[0mpath\u001B[0m\u001B[1;33m=\u001B[0m\u001B[0mblob\u001B[0m\u001B[1;33m.\u001B[0m\u001B[0mpath\u001B[0m\u001B[1;33m,\u001B[0m\u001B[1;33m\u001B[0m\u001B[1;33m\u001B[0m\u001B[0m\n",
      "\u001B[1;32md:\\it\\pr\\mypython\\venv\\lib\\site-packages\\google\\cloud\\storage\\_http.py\u001B[0m in \u001B[0;36mapi_request\u001B[1;34m(self, *args, **kwargs)\u001B[0m\n\u001B[0;32m     76\u001B[0m             \u001B[1;32mif\u001B[0m \u001B[0mretry\u001B[0m\u001B[1;33m:\u001B[0m\u001B[1;33m\u001B[0m\u001B[1;33m\u001B[0m\u001B[0m\n\u001B[0;32m     77\u001B[0m                 \u001B[0mcall\u001B[0m \u001B[1;33m=\u001B[0m \u001B[0mretry\u001B[0m\u001B[1;33m(\u001B[0m\u001B[0mcall\u001B[0m\u001B[1;33m)\u001B[0m\u001B[1;33m\u001B[0m\u001B[1;33m\u001B[0m\u001B[0m\n\u001B[1;32m---> 78\u001B[1;33m         \u001B[1;32mreturn\u001B[0m \u001B[0mcall\u001B[0m\u001B[1;33m(\u001B[0m\u001B[1;33m)\u001B[0m\u001B[1;33m\u001B[0m\u001B[1;33m\u001B[0m\u001B[0m\n\u001B[0m",
      "\u001B[1;32md:\\it\\pr\\mypython\\venv\\lib\\site-packages\\google\\cloud\\_http.py\u001B[0m in \u001B[0;36mapi_request\u001B[1;34m(self, method, path, query_params, data, content_type, headers, api_base_url, api_version, expect_json, _target_object, timeout)\u001B[0m\n\u001B[0;32m    481\u001B[0m \u001B[1;33m\u001B[0m\u001B[0m\n\u001B[0;32m    482\u001B[0m         \u001B[1;32mif\u001B[0m \u001B[1;32mnot\u001B[0m \u001B[1;36m200\u001B[0m \u001B[1;33m<=\u001B[0m \u001B[0mresponse\u001B[0m\u001B[1;33m.\u001B[0m\u001B[0mstatus_code\u001B[0m \u001B[1;33m<\u001B[0m \u001B[1;36m300\u001B[0m\u001B[1;33m:\u001B[0m\u001B[1;33m\u001B[0m\u001B[1;33m\u001B[0m\u001B[0m\n\u001B[1;32m--> 483\u001B[1;33m             \u001B[1;32mraise\u001B[0m \u001B[0mexceptions\u001B[0m\u001B[1;33m.\u001B[0m\u001B[0mfrom_http_response\u001B[0m\u001B[1;33m(\u001B[0m\u001B[0mresponse\u001B[0m\u001B[1;33m)\u001B[0m\u001B[1;33m\u001B[0m\u001B[1;33m\u001B[0m\u001B[0m\n\u001B[0m\u001B[0;32m    484\u001B[0m \u001B[1;33m\u001B[0m\u001B[0m\n\u001B[0;32m    485\u001B[0m         \u001B[1;32mif\u001B[0m \u001B[0mexpect_json\u001B[0m \u001B[1;32mand\u001B[0m \u001B[0mresponse\u001B[0m\u001B[1;33m.\u001B[0m\u001B[0mcontent\u001B[0m\u001B[1;33m:\u001B[0m\u001B[1;33m\u001B[0m\u001B[1;33m\u001B[0m\u001B[0m\n",
      "\u001B[1;31mNotFound\u001B[0m: 404 DELETE https://storage.googleapis.com/storage/v1/b/cabinet_bucket/o/test6%2Ftmp%2FMT4%2Flibs.min.css?prettyPrint=false: No such object: cabinet_bucket/test6/tmp/MT4/libs.min.css"
     ]
    }
   ],
   "source": [
    "bucket.delete_blob(path)"
   ],
   "metadata": {
    "collapsed": false,
    "pycharm": {
     "name": "#%%\n"
    }
   }
  },
  {
   "cell_type": "code",
   "execution_count": 22,
   "outputs": [],
   "source": [
    "# path = 'GoogleDriveTransfer/Ci/1.csv'\n",
    "path2 = 'GoogleDriveTransfer/Ci/'\n",
    "blob2 = bucket.get_blob(path2)"
   ],
   "metadata": {
    "collapsed": false,
    "pycharm": {
     "name": "#%%\n"
    }
   }
  },
  {
   "cell_type": "code",
   "execution_count": null,
   "outputs": [],
   "source": [],
   "metadata": {
    "collapsed": false,
    "pycharm": {
     "name": "#%%\n"
    }
   }
  },
  {
   "cell_type": "code",
   "execution_count": 13,
   "outputs": [
    {
     "ename": "KeyboardInterrupt",
     "evalue": "",
     "output_type": "error",
     "traceback": [
      "\u001B[1;31m---------------------------------------------------------------------------\u001B[0m",
      "\u001B[1;31mKeyboardInterrupt\u001B[0m                         Traceback (most recent call last)",
      "\u001B[1;32m~\\AppData\\Local\\Temp/ipykernel_13360/4254864683.py\u001B[0m in \u001B[0;36m<module>\u001B[1;34m\u001B[0m\n\u001B[0;32m      1\u001B[0m \u001B[1;32mfor\u001B[0m \u001B[0mblob\u001B[0m \u001B[1;32min\u001B[0m \u001B[0mbucket\u001B[0m\u001B[1;33m.\u001B[0m\u001B[0mlist_blobs\u001B[0m\u001B[1;33m(\u001B[0m\u001B[0mprefix\u001B[0m\u001B[1;33m=\u001B[0m\u001B[1;34m'GoogleDriveTransfer/'\u001B[0m\u001B[1;33m)\u001B[0m\u001B[1;33m:\u001B[0m\u001B[1;33m\u001B[0m\u001B[1;33m\u001B[0m\u001B[0m\n\u001B[1;32m----> 2\u001B[1;33m     \u001B[0mprint\u001B[0m\u001B[1;33m(\u001B[0m\u001B[0mblob\u001B[0m\u001B[1;33m.\u001B[0m\u001B[0mname\u001B[0m\u001B[1;33m)\u001B[0m\u001B[1;33m\u001B[0m\u001B[1;33m\u001B[0m\u001B[0m\n\u001B[0m",
      "\u001B[1;32m~\\AppData\\Local\\Temp/ipykernel_13360/4254864683.py\u001B[0m in \u001B[0;36m<module>\u001B[1;34m\u001B[0m\n\u001B[0;32m      1\u001B[0m \u001B[1;32mfor\u001B[0m \u001B[0mblob\u001B[0m \u001B[1;32min\u001B[0m \u001B[0mbucket\u001B[0m\u001B[1;33m.\u001B[0m\u001B[0mlist_blobs\u001B[0m\u001B[1;33m(\u001B[0m\u001B[0mprefix\u001B[0m\u001B[1;33m=\u001B[0m\u001B[1;34m'GoogleDriveTransfer/'\u001B[0m\u001B[1;33m)\u001B[0m\u001B[1;33m:\u001B[0m\u001B[1;33m\u001B[0m\u001B[1;33m\u001B[0m\u001B[0m\n\u001B[1;32m----> 2\u001B[1;33m     \u001B[0mprint\u001B[0m\u001B[1;33m(\u001B[0m\u001B[0mblob\u001B[0m\u001B[1;33m.\u001B[0m\u001B[0mname\u001B[0m\u001B[1;33m)\u001B[0m\u001B[1;33m\u001B[0m\u001B[1;33m\u001B[0m\u001B[0m\n\u001B[0m",
      "\u001B[1;32m_pydevd_bundle\\pydevd_cython_win32_39_64.pyx\u001B[0m in \u001B[0;36m_pydevd_bundle.pydevd_cython_win32_39_64.SafeCallWrapper.__call__\u001B[1;34m()\u001B[0m\n",
      "\u001B[1;32m_pydevd_bundle\\pydevd_cython_win32_39_64.pyx\u001B[0m in \u001B[0;36m_pydevd_bundle.pydevd_cython_win32_39_64.PyDBFrame.trace_dispatch\u001B[1;34m()\u001B[0m\n",
      "\u001B[1;32m_pydevd_bundle\\pydevd_cython_win32_39_64.pyx\u001B[0m in \u001B[0;36m_pydevd_bundle.pydevd_cython_win32_39_64.PyDBFrame.trace_dispatch\u001B[1;34m()\u001B[0m\n",
      "\u001B[1;32m_pydevd_bundle\\pydevd_cython_win32_39_64.pyx\u001B[0m in \u001B[0;36m_pydevd_bundle.pydevd_cython_win32_39_64.PyDBFrame.trace_dispatch\u001B[1;34m()\u001B[0m\n",
      "\u001B[1;32m_pydevd_bundle\\pydevd_cython_win32_39_64.pyx\u001B[0m in \u001B[0;36m_pydevd_bundle.pydevd_cython_win32_39_64.PyDBFrame.do_wait_suspend\u001B[1;34m()\u001B[0m\n",
      "\u001B[1;32mC:\\Program Files\\JetBrains\\PyCharm 2022.1.3\\plugins\\python\\helpers\\pydev\\pydevd.py\u001B[0m in \u001B[0;36mdo_wait_suspend\u001B[1;34m(self, thread, frame, event, arg, send_suspend_message, is_unhandled_exception)\u001B[0m\n\u001B[0;32m   1153\u001B[0m \u001B[1;33m\u001B[0m\u001B[0m\n\u001B[0;32m   1154\u001B[0m         \u001B[1;32mwith\u001B[0m \u001B[0mself\u001B[0m\u001B[1;33m.\u001B[0m\u001B[0m_threads_suspended_single_notification\u001B[0m\u001B[1;33m.\u001B[0m\u001B[0mnotify_thread_suspended\u001B[0m\u001B[1;33m(\u001B[0m\u001B[0mthread_id\u001B[0m\u001B[1;33m,\u001B[0m \u001B[0mstop_reason\u001B[0m\u001B[1;33m)\u001B[0m\u001B[1;33m:\u001B[0m\u001B[1;33m\u001B[0m\u001B[1;33m\u001B[0m\u001B[0m\n\u001B[1;32m-> 1155\u001B[1;33m             \u001B[0mself\u001B[0m\u001B[1;33m.\u001B[0m\u001B[0m_do_wait_suspend\u001B[0m\u001B[1;33m(\u001B[0m\u001B[0mthread\u001B[0m\u001B[1;33m,\u001B[0m \u001B[0mframe\u001B[0m\u001B[1;33m,\u001B[0m \u001B[0mevent\u001B[0m\u001B[1;33m,\u001B[0m \u001B[0marg\u001B[0m\u001B[1;33m,\u001B[0m \u001B[0msuspend_type\u001B[0m\u001B[1;33m,\u001B[0m \u001B[0mfrom_this_thread\u001B[0m\u001B[1;33m)\u001B[0m\u001B[1;33m\u001B[0m\u001B[1;33m\u001B[0m\u001B[0m\n\u001B[0m\u001B[0;32m   1156\u001B[0m \u001B[1;33m\u001B[0m\u001B[0m\n\u001B[0;32m   1157\u001B[0m     \u001B[1;32mdef\u001B[0m \u001B[0m_do_wait_suspend\u001B[0m\u001B[1;33m(\u001B[0m\u001B[0mself\u001B[0m\u001B[1;33m,\u001B[0m \u001B[0mthread\u001B[0m\u001B[1;33m,\u001B[0m \u001B[0mframe\u001B[0m\u001B[1;33m,\u001B[0m \u001B[0mevent\u001B[0m\u001B[1;33m,\u001B[0m \u001B[0marg\u001B[0m\u001B[1;33m,\u001B[0m \u001B[0msuspend_type\u001B[0m\u001B[1;33m,\u001B[0m \u001B[0mfrom_this_thread\u001B[0m\u001B[1;33m)\u001B[0m\u001B[1;33m:\u001B[0m\u001B[1;33m\u001B[0m\u001B[1;33m\u001B[0m\u001B[0m\n",
      "\u001B[1;32mC:\\Program Files\\JetBrains\\PyCharm 2022.1.3\\plugins\\python\\helpers\\pydev\\pydevd.py\u001B[0m in \u001B[0;36m_do_wait_suspend\u001B[1;34m(self, thread, frame, event, arg, suspend_type, from_this_thread)\u001B[0m\n\u001B[0;32m   1168\u001B[0m \u001B[1;33m\u001B[0m\u001B[0m\n\u001B[0;32m   1169\u001B[0m                 \u001B[0mself\u001B[0m\u001B[1;33m.\u001B[0m\u001B[0mprocess_internal_commands\u001B[0m\u001B[1;33m(\u001B[0m\u001B[1;33m)\u001B[0m\u001B[1;33m\u001B[0m\u001B[1;33m\u001B[0m\u001B[0m\n\u001B[1;32m-> 1170\u001B[1;33m                 \u001B[0mtime\u001B[0m\u001B[1;33m.\u001B[0m\u001B[0msleep\u001B[0m\u001B[1;33m(\u001B[0m\u001B[1;36m0.01\u001B[0m\u001B[1;33m)\u001B[0m\u001B[1;33m\u001B[0m\u001B[1;33m\u001B[0m\u001B[0m\n\u001B[0m\u001B[0;32m   1171\u001B[0m \u001B[1;33m\u001B[0m\u001B[0m\n\u001B[0;32m   1172\u001B[0m         \u001B[0mself\u001B[0m\u001B[1;33m.\u001B[0m\u001B[0mcancel_async_evaluation\u001B[0m\u001B[1;33m(\u001B[0m\u001B[0mget_current_thread_id\u001B[0m\u001B[1;33m(\u001B[0m\u001B[0mthread\u001B[0m\u001B[1;33m)\u001B[0m\u001B[1;33m,\u001B[0m \u001B[0mstr\u001B[0m\u001B[1;33m(\u001B[0m\u001B[0mid\u001B[0m\u001B[1;33m(\u001B[0m\u001B[0mframe\u001B[0m\u001B[1;33m)\u001B[0m\u001B[1;33m)\u001B[0m\u001B[1;33m)\u001B[0m\u001B[1;33m\u001B[0m\u001B[1;33m\u001B[0m\u001B[0m\n",
      "\u001B[1;31mKeyboardInterrupt\u001B[0m: "
     ]
    }
   ],
   "source": [
    "for blob in bucket.list_blobs(prefix='GoogleDriveTransfer/'):\n",
    "    print(blob.name)"
   ],
   "metadata": {
    "collapsed": false,
    "pycharm": {
     "name": "#%%\n"
    }
   }
  },
  {
   "cell_type": "code",
   "execution_count": 4,
   "outputs": [
    {
     "data": {
      "text/plain": "                                                    0\n0                    36/463/464/465/466/STP_2_02.docx\n1                    36/463/464/465/466/STP_2_03.docx\n2               36/463/464/465/466/STP_2_11_изм1.docx\n3                      36/463/464/465/466/desktop.ini\n4                  36/463/464/465/466/СоДЕРЖАНИЕ.docx\n..                                                ...\n61                             36/463/464/desktop.ini\n62                     36/463/464/Ведение продаж.docx\n63                     36/463/464/Новый документ.docx\n64  36/463/464/Правила формирования_ отправки закр...\n65                                        36/test.txt\n\n[66 rows x 1 columns]",
      "text/html": "<div>\n<style scoped>\n    .dataframe tbody tr th:only-of-type {\n        vertical-align: middle;\n    }\n\n    .dataframe tbody tr th {\n        vertical-align: top;\n    }\n\n    .dataframe thead th {\n        text-align: right;\n    }\n</style>\n<table border=\"1\" class=\"dataframe\">\n  <thead>\n    <tr style=\"text-align: right;\">\n      <th></th>\n      <th>0</th>\n    </tr>\n  </thead>\n  <tbody>\n    <tr>\n      <th>0</th>\n      <td>36/463/464/465/466/STP_2_02.docx</td>\n    </tr>\n    <tr>\n      <th>1</th>\n      <td>36/463/464/465/466/STP_2_03.docx</td>\n    </tr>\n    <tr>\n      <th>2</th>\n      <td>36/463/464/465/466/STP_2_11_изм1.docx</td>\n    </tr>\n    <tr>\n      <th>3</th>\n      <td>36/463/464/465/466/desktop.ini</td>\n    </tr>\n    <tr>\n      <th>4</th>\n      <td>36/463/464/465/466/СоДЕРЖАНИЕ.docx</td>\n    </tr>\n    <tr>\n      <th>...</th>\n      <td>...</td>\n    </tr>\n    <tr>\n      <th>61</th>\n      <td>36/463/464/desktop.ini</td>\n    </tr>\n    <tr>\n      <th>62</th>\n      <td>36/463/464/Ведение продаж.docx</td>\n    </tr>\n    <tr>\n      <th>63</th>\n      <td>36/463/464/Новый документ.docx</td>\n    </tr>\n    <tr>\n      <th>64</th>\n      <td>36/463/464/Правила формирования_ отправки закр...</td>\n    </tr>\n    <tr>\n      <th>65</th>\n      <td>36/test.txt</td>\n    </tr>\n  </tbody>\n</table>\n<p>66 rows × 1 columns</p>\n</div>"
     },
     "execution_count": 4,
     "metadata": {},
     "output_type": "execute_result"
    }
   ],
   "source": [
    "folders4 = [blob.name for blob in bucket.list_blobs(prefix='36/') if not blob.name.endswith('/')]\n",
    "df4 = pd.DataFrame(folders4)\n",
    "df4"
   ],
   "metadata": {
    "collapsed": false,
    "pycharm": {
     "name": "#%%\n"
    }
   }
  },
  {
   "cell_type": "code",
   "execution_count": 16,
   "outputs": [
    {
     "data": {
      "text/plain": "                                                       0\n0      36/11713/11714/11715/отчет о проделанной работ...\n1        36/11713/11714/11715/претензия по договору .doc\n2              36/11713/11714/11716/Смета ДОУ 360 АР.pdf\n3      36/11713/11714/kopiya_reestr_advokatov_na_24.0...\n4            36/11713/11714/Претензия МПК_07.08.2019.pdf\n...                                                  ...\n86631   36/8827/9978/9979/9980/9998/трудозатраты js.xlsx\n86632                                  36/8827/Архив.zip\n86633             36/8827/Двухэтапная аутентификация.pdf\n86634             36/8827/Подключение ключей контур.docx\n86635                                        36/test.txt\n\n[86636 rows x 1 columns]",
      "text/html": "<div>\n<style scoped>\n    .dataframe tbody tr th:only-of-type {\n        vertical-align: middle;\n    }\n\n    .dataframe tbody tr th {\n        vertical-align: top;\n    }\n\n    .dataframe thead th {\n        text-align: right;\n    }\n</style>\n<table border=\"1\" class=\"dataframe\">\n  <thead>\n    <tr style=\"text-align: right;\">\n      <th></th>\n      <th>0</th>\n    </tr>\n  </thead>\n  <tbody>\n    <tr>\n      <th>0</th>\n      <td>36/11713/11714/11715/отчет о проделанной работ...</td>\n    </tr>\n    <tr>\n      <th>1</th>\n      <td>36/11713/11714/11715/претензия по договору .doc</td>\n    </tr>\n    <tr>\n      <th>2</th>\n      <td>36/11713/11714/11716/Смета ДОУ 360 АР.pdf</td>\n    </tr>\n    <tr>\n      <th>3</th>\n      <td>36/11713/11714/kopiya_reestr_advokatov_na_24.0...</td>\n    </tr>\n    <tr>\n      <th>4</th>\n      <td>36/11713/11714/Претензия МПК_07.08.2019.pdf</td>\n    </tr>\n    <tr>\n      <th>...</th>\n      <td>...</td>\n    </tr>\n    <tr>\n      <th>86631</th>\n      <td>36/8827/9978/9979/9980/9998/трудозатраты js.xlsx</td>\n    </tr>\n    <tr>\n      <th>86632</th>\n      <td>36/8827/Архив.zip</td>\n    </tr>\n    <tr>\n      <th>86633</th>\n      <td>36/8827/Двухэтапная аутентификация.pdf</td>\n    </tr>\n    <tr>\n      <th>86634</th>\n      <td>36/8827/Подключение ключей контур.docx</td>\n    </tr>\n    <tr>\n      <th>86635</th>\n      <td>36/test.txt</td>\n    </tr>\n  </tbody>\n</table>\n<p>86636 rows × 1 columns</p>\n</div>"
     },
     "execution_count": 16,
     "metadata": {},
     "output_type": "execute_result"
    }
   ],
   "source": [
    "folders4 = [blob.name for blob in bucket.list_blobs(prefix='36/') if not blob.name.endswith('/')]\n",
    "df4 = pd.DataFrame(folders4)\n",
    "df4"
   ],
   "metadata": {
    "collapsed": false,
    "pycharm": {
     "name": "#%%\n"
    }
   }
  },
  {
   "cell_type": "code",
   "execution_count": null,
   "outputs": [],
   "source": [
    "'ВДНХ_Колесо обозрения', 'Винный парк', 'ГипроМез',\n",
    "       'ДОУ 360 Выпуск', 'ДОУ 360', 'Контент', 'Контент_VG'"
   ],
   "metadata": {
    "collapsed": false,
    "pycharm": {
     "name": "#%%\n"
    }
   }
  },
  {
   "cell_type": "code",
   "execution_count": null,
   "outputs": [],
   "source": [
    "'Лио-Продукт', 'Лобня', 'Мой Диск _', 'НКВЗ ремонт АвтоТехники',\n",
    "\n",
    "       'ОСК Шереметьево', 'Объединенная пивоварня', 'Объекты в работе',\n",
    "\n",
    "       'Остров мечты ППР', 'ПОДРЯДЧИКИ', 'Пекарня', 'СТО ГБО',\n",
    "\n",
    "       'ТЕХВАГОНМАШ', 'Транспроект', 'ФРАКДЖЕТ-ТУЛЗ', 'ФосАгро',\n",
    "\n",
    "       'Холодный склад', 'Чайка Лаб', 'Читинские ключи', 'Юрист UA'"
   ],
   "metadata": {
    "collapsed": false,
    "pycharm": {
     "name": "#%%\n"
    }
   }
  },
  {
   "cell_type": "code",
   "execution_count": 9,
   "outputs": [
    {
     "data": {
      "text/plain": "Empty DataFrame\nColumns: []\nIndex: []",
      "text/html": "<div>\n<style scoped>\n    .dataframe tbody tr th:only-of-type {\n        vertical-align: middle;\n    }\n\n    .dataframe tbody tr th {\n        vertical-align: top;\n    }\n\n    .dataframe thead th {\n        text-align: right;\n    }\n</style>\n<table border=\"1\" class=\"dataframe\">\n  <thead>\n    <tr style=\"text-align: right;\">\n      <th></th>\n    </tr>\n  </thead>\n  <tbody>\n  </tbody>\n</table>\n</div>"
     },
     "execution_count": 9,
     "metadata": {},
     "output_type": "execute_result"
    }
   ],
   "source": [
    "# folders = [blob.name for blob in bucket.list_blobs(prefix='GoogleDriveTransfer/Архив/')]\n",
    "folders = [blob.name for blob in bucket.list_blobs(prefix='GoogleDriveTransfer/Мой Диск _/')]\n",
    "df = pd.DataFrame(folders)\n",
    "df"
   ],
   "metadata": {
    "collapsed": false,
    "pycharm": {
     "name": "#%%\n"
    }
   }
  },
  {
   "cell_type": "code",
   "execution_count": 4,
   "outputs": [
    {
     "data": {
      "text/plain": "                                                     0\n0    GoogleDriveTransfer/Лобня/Разное/ГП+АР_промежу...\n1    GoogleDriveTransfer/Лобня/Разное/ГП+АР_промежу...\n2    GoogleDriveTransfer/Лобня/Разное/ГП+АР_промежу...\n3    GoogleDriveTransfer/Лобня/Разное/ГП+АР_промежу...\n4    GoogleDriveTransfer/Лобня/Разное/ГП+АР_промежу...\n..                                                 ...\n429  GoogleDriveTransfer/Лобня/Экспертиза/замечания...\n430  GoogleDriveTransfer/Лобня/Экспертиза/замечания...\n431  GoogleDriveTransfer/Лобня/Экспертиза/замечания...\n432  GoogleDriveTransfer/Лобня/Экспертиза/замечания...\n433  GoogleDriveTransfer/Лобня/Экспертиза/протокол ...\n\n[434 rows x 1 columns]",
      "text/html": "<div>\n<style scoped>\n    .dataframe tbody tr th:only-of-type {\n        vertical-align: middle;\n    }\n\n    .dataframe tbody tr th {\n        vertical-align: top;\n    }\n\n    .dataframe thead th {\n        text-align: right;\n    }\n</style>\n<table border=\"1\" class=\"dataframe\">\n  <thead>\n    <tr style=\"text-align: right;\">\n      <th></th>\n      <th>0</th>\n    </tr>\n  </thead>\n  <tbody>\n    <tr>\n      <th>0</th>\n      <td>GoogleDriveTransfer/Лобня/Разное/ГП+АР_промежу...</td>\n    </tr>\n    <tr>\n      <th>1</th>\n      <td>GoogleDriveTransfer/Лобня/Разное/ГП+АР_промежу...</td>\n    </tr>\n    <tr>\n      <th>2</th>\n      <td>GoogleDriveTransfer/Лобня/Разное/ГП+АР_промежу...</td>\n    </tr>\n    <tr>\n      <th>3</th>\n      <td>GoogleDriveTransfer/Лобня/Разное/ГП+АР_промежу...</td>\n    </tr>\n    <tr>\n      <th>4</th>\n      <td>GoogleDriveTransfer/Лобня/Разное/ГП+АР_промежу...</td>\n    </tr>\n    <tr>\n      <th>...</th>\n      <td>...</td>\n    </tr>\n    <tr>\n      <th>429</th>\n      <td>GoogleDriveTransfer/Лобня/Экспертиза/замечания...</td>\n    </tr>\n    <tr>\n      <th>430</th>\n      <td>GoogleDriveTransfer/Лобня/Экспертиза/замечания...</td>\n    </tr>\n    <tr>\n      <th>431</th>\n      <td>GoogleDriveTransfer/Лобня/Экспертиза/замечания...</td>\n    </tr>\n    <tr>\n      <th>432</th>\n      <td>GoogleDriveTransfer/Лобня/Экспертиза/замечания...</td>\n    </tr>\n    <tr>\n      <th>433</th>\n      <td>GoogleDriveTransfer/Лобня/Экспертиза/протокол ...</td>\n    </tr>\n  </tbody>\n</table>\n<p>434 rows × 1 columns</p>\n</div>"
     },
     "execution_count": 4,
     "metadata": {},
     "output_type": "execute_result"
    }
   ],
   "source": [
    "folders = [blob.name for blob in bucket.list_blobs(prefix='GoogleDriveTransfer/Лобня/')]\n",
    "# folders = [blob.name for blob in bucket.list_blobs(prefix='GoogleDriveTransfer/Бухгалтер RUS/')]\n",
    "df = pd.DataFrame(folders)\n",
    "df"
   ],
   "metadata": {
    "collapsed": false,
    "pycharm": {
     "name": "#%%\n"
    }
   }
  },
  {
   "cell_type": "code",
   "execution_count": 16,
   "outputs": [],
   "source": [
    "ls = df4[0].tolist()"
   ],
   "metadata": {
    "collapsed": false,
    "pycharm": {
     "name": "#%%\n"
    }
   }
  },
  {
   "cell_type": "code",
   "execution_count": 17,
   "outputs": [],
   "source": [
    "ls1 = []\n",
    "for x in ls:\n",
    "    x1 = x.split('/')[1:-1]\n",
    "    for x2 in x1:\n",
    "        if x2 not in ls1:\n",
    "            ls1.append(x2)"
   ],
   "metadata": {
    "collapsed": false,
    "pycharm": {
     "name": "#%%\n"
    }
   }
  },
  {
   "cell_type": "code",
   "execution_count": 18,
   "outputs": [
    {
     "data": {
      "text/plain": "           0\n0      11713\n1      11714\n2      11715\n3      11716\n4      11717\n...      ...\n12398   9997\n12399   9998\n12400   9999\n12401  10000\n12402  10001\n\n[12403 rows x 1 columns]",
      "text/html": "<div>\n<style scoped>\n    .dataframe tbody tr th:only-of-type {\n        vertical-align: middle;\n    }\n\n    .dataframe tbody tr th {\n        vertical-align: top;\n    }\n\n    .dataframe thead th {\n        text-align: right;\n    }\n</style>\n<table border=\"1\" class=\"dataframe\">\n  <thead>\n    <tr style=\"text-align: right;\">\n      <th></th>\n      <th>0</th>\n    </tr>\n  </thead>\n  <tbody>\n    <tr>\n      <th>0</th>\n      <td>11713</td>\n    </tr>\n    <tr>\n      <th>1</th>\n      <td>11714</td>\n    </tr>\n    <tr>\n      <th>2</th>\n      <td>11715</td>\n    </tr>\n    <tr>\n      <th>3</th>\n      <td>11716</td>\n    </tr>\n    <tr>\n      <th>4</th>\n      <td>11717</td>\n    </tr>\n    <tr>\n      <th>...</th>\n      <td>...</td>\n    </tr>\n    <tr>\n      <th>12398</th>\n      <td>9997</td>\n    </tr>\n    <tr>\n      <th>12399</th>\n      <td>9998</td>\n    </tr>\n    <tr>\n      <th>12400</th>\n      <td>9999</td>\n    </tr>\n    <tr>\n      <th>12401</th>\n      <td>10000</td>\n    </tr>\n    <tr>\n      <th>12402</th>\n      <td>10001</td>\n    </tr>\n  </tbody>\n</table>\n<p>12403 rows × 1 columns</p>\n</div>"
     },
     "execution_count": 18,
     "metadata": {},
     "output_type": "execute_result"
    }
   ],
   "source": [
    "df6 = pd.DataFrame(ls1)\n",
    "df6"
   ],
   "metadata": {
    "collapsed": false,
    "pycharm": {
     "name": "#%%\n"
    }
   }
  },
  {
   "cell_type": "code",
   "execution_count": 19,
   "outputs": [],
   "source": [
    "# поменять тип на int\n",
    "df6[0] = df6[0].astype(int)"
   ],
   "metadata": {
    "collapsed": false,
    "pycharm": {
     "name": "#%%\n"
    }
   }
  },
  {
   "cell_type": "code",
   "execution_count": 20,
   "outputs": [
    {
     "data": {
      "text/plain": "11713    1\n1569     1\n1595     1\n1596     1\n1597     1\n        ..\n4810     1\n4811     1\n4812     1\n4813     1\n10001    1\nName: 0, Length: 12403, dtype: int64"
     },
     "execution_count": 20,
     "metadata": {},
     "output_type": "execute_result"
    }
   ],
   "source": [
    "df6[0].value_counts()"
   ],
   "metadata": {
    "collapsed": false,
    "pycharm": {
     "name": "#%%\n"
    }
   }
  },
  {
   "cell_type": "code",
   "execution_count": 6,
   "outputs": [
    {
     "data": {
      "text/plain": "['36/463/464/465/466/STP_2_02.docx',\n '36/463/464/465/466/STP_2_03.docx',\n '36/463/464/465/466/STP_2_11_изм1.docx',\n '36/463/464/465/466/desktop.ini',\n '36/463/464/465/466/СоДЕРЖАНИЕ.docx',\n '36/463/464/465/467/468/469/470/Перечни ИД.xlsx',\n '36/463/464/465/467/468/469/470/РИ 03.12-2013 версия 1.docx',\n '36/463/464/465/467/468/469/471/Пример оформления расчета.docx',\n '36/463/464/465/467/468/469/471/РИ 04.12-2008 версия 1 изм.5.docx',\n '36/463/464/465/467/468/469/472/РИ 04.14-2013 версия 1 изм.1.doc',\n '36/463/464/465/467/468/469/472/таблицы РИ-04.14-2013 версия 1 изм.1.dwg',\n '36/463/464/465/467/468/469/473/Перечень ПО.pdf',\n '36/463/464/465/467/468/469/473/Перечень разрешённого ПО 2013.xlsx',\n '36/463/464/465/467/468/469/473/РИ 05.12-2010 изм.4.docx',\n '36/463/464/465/467/468/469/474/Листок учёта.xlsx',\n '36/463/464/465/467/468/469/474/Накладная.xlsx',\n '36/463/464/465/467/468/469/474/Наряд-заказ на архивирование.xlsx',\n '36/463/464/465/467/468/469/474/Наряд-заказ на печать.xlsx',\n '36/463/464/465/467/468/469/474/РИ 05.13-2010 изм.2.docx',\n '36/463/464/465/467/468/469/РИ 03.13-2013 версия 1.docx',\n '36/463/464/465/467/468/469/РИ 05.11-2008 версия 1 изм.3.docx',\n '36/463/464/465/467/468/475/Акт об изъятии и уничтожении документов.docx',\n '36/463/464/465/467/468/475/Акт приема передачи документов в архив.docx',\n '36/463/464/465/467/468/475/СТП 01.01-2008 версия 1 изм.1.docx',\n '36/463/464/465/467/468/476/ДИ инж.-п. 3 кат индивидуальная.docx',\n '36/463/464/465/467/468/476/ДИ инж_1 кат.doc',\n '36/463/464/465/467/468/476/Положение о директоре техническом.doc',\n '36/463/464/465/467/468/476/Положение об отделе ОАСУ.docx',\n '36/463/464/465/467/468/476/Раб.инструкция уборщ.doc',\n '36/463/464/465/467/468/476/СТП  01.02-2011 изм 2.docx',\n '36/463/464/465/467/468/477/Извещение о внесении изменений.docx',\n '36/463/464/465/467/468/477/СТП 02.03-2007 версия 1 изм.1.docx',\n '36/463/464/465/467/468/478/СТП 04.01-2014 версия 1 изм.3.doc',\n '36/463/464/465/467/468/478/СТП 04.01-2014 версия 1 приложения Б л.22-31_Е_Ж л.44-53 изм.2.dwg',\n '36/463/464/465/467/468/479/СТП 04.03-2015 версия 1.docx',\n '36/463/464/465/467/468/479/ТЭС Полярная. Главный корпус. Комплексное задание на каркас.pdf',\n '36/463/464/465/467/468/480/Отчет аудита отдела.docx',\n '36/463/464/465/467/468/480/Отчет о несоответствии.docx',\n '36/463/464/465/467/468/480/План аудита.docx',\n '36/463/464/465/467/468/480/СТП 06.02-2014 версия 2.docx',\n '36/463/464/465/467/468/481/ИНСТРУКЦИЯ ПО СОСТАВЛЕНИЮ СМЕТЫ ПО ФОРМЕ 3.docx',\n '36/463/464/465/467/468/481/Лист согласования к договору.docx',\n '36/463/464/465/467/468/481/Отчет по сметам сводный.xlsx',\n '36/463/464/465/467/468/481/СТП 06.05-2015 версия 2.doc',\n '36/463/464/465/467/468/481/Содержание служебной записки на оформление договора с субподрядной организацией.docx',\n '36/463/464/465/467/468/РК 00.01-2009 версия 1изм 8.doc',\n '36/463/464/465/467/468/Разделение проектирования между специальностями.docx',\n '36/463/464/465/467/468/СТП 02.01-2008_изм.2.doc',\n '36/463/464/465/467/468/СТП 02.02-2008_изм.3.doc',\n '36/463/464/465/467/468/СТП 03.01-2009 изм.2.docx',\n '36/463/464/465/467/468/СТП 03.03-2014 версия 1_Разделение проектирования между специальностями.docx',\n '36/463/464/465/467/468/СТП 03.06-2014 версия 1.docx',\n '36/463/464/465/467/468/СТП 04.02-2013 версия 1.doc',\n '36/463/464/465/467/468/СТП 04.04-2007 версия 1_изм.1.docx',\n '36/463/464/465/467/468/СТП 06.01-2008 изм.1.docx',\n '36/463/464/465/467/468/СТП 06.01-2008 изм.2.docx',\n '36/463/464/465/467/468/СТП 06.03-2014 версия 3.docx',\n '36/463/464/465/467/468/СТП 06.04-2007 изм.2.docx',\n '36/463/464/465/desktop.ini',\n '36/463/464/465/Перечень СТП и РИ.xlsx',\n '36/463/464/465/Утвержденные.rar',\n '36/463/464/desktop.ini',\n '36/463/464/Ведение продаж.docx',\n '36/463/464/Новый документ.docx',\n '36/463/464/Правила формирования_ отправки закр. док._договоров.docx',\n '36/test.txt']"
     },
     "execution_count": 6,
     "metadata": {},
     "output_type": "execute_result"
    }
   ],
   "source": [
    "ls = df4[0].tolist()\n",
    "ls"
   ],
   "metadata": {
    "collapsed": false,
    "pycharm": {
     "name": "#%%\n"
    }
   }
  },
  {
   "cell_type": "code",
   "execution_count": 7,
   "outputs": [
    {
     "data": {
      "text/plain": "[['463', '464', '465', '466'],\n ['463', '464', '465', '466'],\n ['463', '464', '465', '466'],\n ['463', '464', '465', '466'],\n ['463', '464', '465', '466'],\n ['463', '464', '465', '467', '468', '469', '470'],\n ['463', '464', '465', '467', '468', '469', '470'],\n ['463', '464', '465', '467', '468', '469', '471'],\n ['463', '464', '465', '467', '468', '469', '471'],\n ['463', '464', '465', '467', '468', '469', '472'],\n ['463', '464', '465', '467', '468', '469', '472'],\n ['463', '464', '465', '467', '468', '469', '473'],\n ['463', '464', '465', '467', '468', '469', '473'],\n ['463', '464', '465', '467', '468', '469', '473'],\n ['463', '464', '465', '467', '468', '469', '474'],\n ['463', '464', '465', '467', '468', '469', '474'],\n ['463', '464', '465', '467', '468', '469', '474'],\n ['463', '464', '465', '467', '468', '469', '474'],\n ['463', '464', '465', '467', '468', '469', '474'],\n ['463', '464', '465', '467', '468', '469'],\n ['463', '464', '465', '467', '468', '469'],\n ['463', '464', '465', '467', '468', '475'],\n ['463', '464', '465', '467', '468', '475'],\n ['463', '464', '465', '467', '468', '475'],\n ['463', '464', '465', '467', '468', '476'],\n ['463', '464', '465', '467', '468', '476'],\n ['463', '464', '465', '467', '468', '476'],\n ['463', '464', '465', '467', '468', '476'],\n ['463', '464', '465', '467', '468', '476'],\n ['463', '464', '465', '467', '468', '476'],\n ['463', '464', '465', '467', '468', '477'],\n ['463', '464', '465', '467', '468', '477'],\n ['463', '464', '465', '467', '468', '478'],\n ['463', '464', '465', '467', '468', '478'],\n ['463', '464', '465', '467', '468', '479'],\n ['463', '464', '465', '467', '468', '479'],\n ['463', '464', '465', '467', '468', '480'],\n ['463', '464', '465', '467', '468', '480'],\n ['463', '464', '465', '467', '468', '480'],\n ['463', '464', '465', '467', '468', '480'],\n ['463', '464', '465', '467', '468', '481'],\n ['463', '464', '465', '467', '468', '481'],\n ['463', '464', '465', '467', '468', '481'],\n ['463', '464', '465', '467', '468', '481'],\n ['463', '464', '465', '467', '468', '481'],\n ['463', '464', '465', '467', '468'],\n ['463', '464', '465', '467', '468'],\n ['463', '464', '465', '467', '468'],\n ['463', '464', '465', '467', '468'],\n ['463', '464', '465', '467', '468'],\n ['463', '464', '465', '467', '468'],\n ['463', '464', '465', '467', '468'],\n ['463', '464', '465', '467', '468'],\n ['463', '464', '465', '467', '468'],\n ['463', '464', '465', '467', '468'],\n ['463', '464', '465', '467', '468'],\n ['463', '464', '465', '467', '468'],\n ['463', '464', '465', '467', '468'],\n ['463', '464', '465'],\n ['463', '464', '465'],\n ['463', '464', '465'],\n ['463', '464'],\n ['463', '464'],\n ['463', '464'],\n ['463', '464'],\n []]"
     },
     "execution_count": 7,
     "metadata": {},
     "output_type": "execute_result"
    }
   ],
   "source": [
    "ls1 = [x.split('/')[1:-1] for x in ls]\n",
    "ls1"
   ],
   "metadata": {
    "collapsed": false,
    "pycharm": {
     "name": "#%%\n"
    }
   }
  },
  {
   "cell_type": "code",
   "execution_count": 8,
   "outputs": [
    {
     "data": {
      "text/plain": "['463', '464', '465', '466']"
     },
     "execution_count": 8,
     "metadata": {},
     "output_type": "execute_result"
    }
   ],
   "source": [
    "x1 = ls1[0]\n",
    "x1"
   ],
   "metadata": {
    "collapsed": false,
    "pycharm": {
     "name": "#%%\n"
    }
   }
  },
  {
   "cell_type": "code",
   "execution_count": 5,
   "outputs": [
    {
     "data": {
      "text/plain": "                                                      0\n0     GoogleDriveTransfer/Архив/Пром/Тяж маш/НКВЗ/ПП...\n1     GoogleDriveTransfer/Архив/Пром/Тяж маш/НКВЗ/ПП...\n2     GoogleDriveTransfer/Архив/Пром/Тяж маш/НКВЗ/ПП...\n3     GoogleDriveTransfer/Архив/Пром/Тяж маш/НКВЗ/ПП...\n4     GoogleDriveTransfer/Архив/Пром/Тяж маш/НКВЗ/ПП...\n...                                                 ...\n8885  GoogleDriveTransfer/Архив/Пром/Тяж маш/ТВСЗ/ЭП...\n8886  GoogleDriveTransfer/Архив/Пром/Тяж маш/ТВСЗ/ЭП...\n8887  GoogleDriveTransfer/Архив/Пром/Тяж маш/ТВСЗ/ЭП...\n8888  GoogleDriveTransfer/Архив/Резервная_копия_през...\n8889          GoogleDriveTransfer/Архив/презентация.cdr\n\n[8890 rows x 1 columns]",
      "text/html": "<div>\n<style scoped>\n    .dataframe tbody tr th:only-of-type {\n        vertical-align: middle;\n    }\n\n    .dataframe tbody tr th {\n        vertical-align: top;\n    }\n\n    .dataframe thead th {\n        text-align: right;\n    }\n</style>\n<table border=\"1\" class=\"dataframe\">\n  <thead>\n    <tr style=\"text-align: right;\">\n      <th></th>\n      <th>0</th>\n    </tr>\n  </thead>\n  <tbody>\n    <tr>\n      <th>0</th>\n      <td>GoogleDriveTransfer/Архив/Пром/Тяж маш/НКВЗ/ПП...</td>\n    </tr>\n    <tr>\n      <th>1</th>\n      <td>GoogleDriveTransfer/Архив/Пром/Тяж маш/НКВЗ/ПП...</td>\n    </tr>\n    <tr>\n      <th>2</th>\n      <td>GoogleDriveTransfer/Архив/Пром/Тяж маш/НКВЗ/ПП...</td>\n    </tr>\n    <tr>\n      <th>3</th>\n      <td>GoogleDriveTransfer/Архив/Пром/Тяж маш/НКВЗ/ПП...</td>\n    </tr>\n    <tr>\n      <th>4</th>\n      <td>GoogleDriveTransfer/Архив/Пром/Тяж маш/НКВЗ/ПП...</td>\n    </tr>\n    <tr>\n      <th>...</th>\n      <td>...</td>\n    </tr>\n    <tr>\n      <th>8885</th>\n      <td>GoogleDriveTransfer/Архив/Пром/Тяж маш/ТВСЗ/ЭП...</td>\n    </tr>\n    <tr>\n      <th>8886</th>\n      <td>GoogleDriveTransfer/Архив/Пром/Тяж маш/ТВСЗ/ЭП...</td>\n    </tr>\n    <tr>\n      <th>8887</th>\n      <td>GoogleDriveTransfer/Архив/Пром/Тяж маш/ТВСЗ/ЭП...</td>\n    </tr>\n    <tr>\n      <th>8888</th>\n      <td>GoogleDriveTransfer/Архив/Резервная_копия_през...</td>\n    </tr>\n    <tr>\n      <th>8889</th>\n      <td>GoogleDriveTransfer/Архив/презентация.cdr</td>\n    </tr>\n  </tbody>\n</table>\n<p>8890 rows × 1 columns</p>\n</div>"
     },
     "execution_count": 5,
     "metadata": {},
     "output_type": "execute_result"
    }
   ],
   "source": [
    "folders = [blob.name for blob in bucket.list_blobs(prefix='GoogleDriveTransfer/Архив/')]\n",
    "df = pd.DataFrame(folders)\n",
    "df"
   ],
   "metadata": {
    "collapsed": false,
    "pycharm": {
     "name": "#%%\n"
    }
   }
  },
  {
   "cell_type": "code",
   "execution_count": 13,
   "outputs": [
    {
     "data": {
      "text/plain": "['5899-ОВ1_.pdf',\n '5899-ОВ1_С1_встроенные_корр.pdf',\n '5899-ОВ1_С2_жилые_корр.pdf',\n '5899-ОВ1_Титул__.pdf',\n '5899-ОВ1_вент планы-л2.pdf',\n '5899-ОВ1_вент планы-л3.pdf',\n '5899-ОВ1_вент планы-л4.pdf',\n '5899-ОВ1_вент планы-л5.pdf',\n '5899-ОВ1_вент планы-л6.pdf',\n '5899-ОВ1_вент планы-л7.pdf',\n '5899-ОВ1_л12,13-л12.pdf',\n '5899-ОВ1_л12,13-л13.pdf',\n '5899-ОВ1_л14-19_отопление планы-л14.pdf',\n '5899-ОВ1_л14-19_отопление планы-л15.pdf',\n '5899-ОВ1_л14-19_отопление планы-л16.pdf',\n '5899-ОВ1_л14-19_отопление планы-л17.pdf',\n '5899-ОВ1_л14-19_отопление планы-л18.pdf',\n '5899-ОВ1_л14-19_отопление планы-л19.pdf',\n '5899-ОВ1_л1_ОД-л1.pdf',\n '5899-ОВ1_л20_схема_от.1-л20.pdf',\n '5899-ОВ1_л21_схема2.1-21.pdf',\n '5899-ОВ1_л22_схема_2.2-22.pdf',\n '5899-ОВ1_л23_схема3_1-23.pdf',\n '5899-ОВ1_л24_схема 3.2-24.pdf',\n '5899-ОВ1_л25,26_ теплоснабжение-л25.pdf',\n '5899-ОВ1_л25,26_ теплоснабжение-л26.pdf',\n '5899-ОВ1_л27_теплоснабж схема-л27.pdf',\n '5899-ОВ1_л8-11_вент схемы-л10.pdf',\n '5899-ОВ1_л8-11_вент схемы-л11.pdf',\n '5899-ОВ1_л8-11_вент схемы-л8.pdf',\n '5899-ОВ1_л8-11_вент схемы-л9.pdf',\n 'desktop.ini',\n 'plot.log',\n '1.pdf',\n '10.pdf',\n '11.pdf',\n '12.pdf',\n '13.pdf',\n '14.pdf',\n '2.pdf',\n '3.pdf',\n '4.pdf',\n '5.pdf',\n '6.pdf',\n '7.pdf',\n '8.pdf',\n '9.pdf',\n 'desktop.ini',\n 'plot.log']"
     },
     "execution_count": 13,
     "metadata": {},
     "output_type": "execute_result"
    }
   ],
   "source": [
    "[x.split('/')[-1] for x in folders]"
   ],
   "metadata": {
    "collapsed": false,
    "pycharm": {
     "name": "#%%\n"
    }
   }
  },
  {
   "cell_type": "code",
   "execution_count": 11,
   "outputs": [],
   "source": [
    "# folders = [blob.name for blob in bucket.list_blobs(prefix='GoogleDriveTransfer/VG.COM/')]\n",
    "\n",
    "for path in folders:\n",
    "    blob = bucket.get_blob(path)\n",
    "    filename = path.split('/')[-1]\n",
    "    blob.download_to_filename(f'data/{filename}')"
   ],
   "metadata": {
    "collapsed": false,
    "pycharm": {
     "name": "#%%\n"
    }
   }
  },
  {
   "cell_type": "code",
   "execution_count": 7,
   "outputs": [
    {
     "data": {
      "text/plain": "'GoogleDriveTransfer/VG.COM/Сотрудники/mdomanova@v-grand.ru/audovikov@v-grand.ru/Удовиков/Компании/ЛЕНПРОМТРАНСПРОЕКТ/ОВ в ЖК/Проектирование многоквартирного дома/Корректировка/5899-ОВ1 корректировка/по замечаниям/пдф/5899-ОВ1_.pdf'"
     },
     "execution_count": 7,
     "metadata": {},
     "output_type": "execute_result"
    }
   ],
   "source": [
    "filepath = df.iloc[0, 0]\n",
    "blob = bucket.get_blob(filepath)"
   ],
   "metadata": {
    "collapsed": false,
    "pycharm": {
     "name": "#%%\n"
    }
   }
  },
  {
   "cell_type": "code",
   "execution_count": 9,
   "outputs": [
    {
     "data": {
      "text/plain": "'5899-ОВ1_.pdf'"
     },
     "execution_count": 9,
     "metadata": {},
     "output_type": "execute_result"
    }
   ],
   "source": [
    "filename = filepath.split('/')[-1]\n",
    "filename"
   ],
   "metadata": {
    "collapsed": false,
    "pycharm": {
     "name": "#%%\n"
    }
   }
  },
  {
   "cell_type": "code",
   "execution_count": 6,
   "outputs": [],
   "source": [],
   "metadata": {
    "collapsed": false,
    "pycharm": {
     "name": "#%%\n"
    }
   }
  },
  {
   "cell_type": "code",
   "execution_count": null,
   "outputs": [],
   "source": [],
   "metadata": {
    "collapsed": false,
    "pycharm": {
     "name": "#%%\n"
    }
   }
  },
  {
   "cell_type": "code",
   "execution_count": 10,
   "outputs": [],
   "source": [
    "blob.download_to_filename(f'data/{filename}')"
   ],
   "metadata": {
    "collapsed": false,
    "pycharm": {
     "name": "#%%\n"
    }
   }
  },
  {
   "cell_type": "code",
   "execution_count": null,
   "outputs": [],
   "source": [],
   "metadata": {
    "collapsed": false,
    "pycharm": {
     "name": "#%%\n"
    }
   }
  },
  {
   "cell_type": "code",
   "execution_count": null,
   "outputs": [],
   "source": [],
   "metadata": {
    "collapsed": false,
    "pycharm": {
     "name": "#%%\n"
    }
   }
  },
  {
   "cell_type": "code",
   "execution_count": null,
   "outputs": [],
   "source": [],
   "metadata": {
    "collapsed": false,
    "pycharm": {
     "name": "#%%\n"
    }
   }
  },
  {
   "cell_type": "code",
   "execution_count": 5,
   "outputs": [
    {
     "data": {
      "text/plain": "Empty DataFrame\nColumns: []\nIndex: []",
      "text/html": "<div>\n<style scoped>\n    .dataframe tbody tr th:only-of-type {\n        vertical-align: middle;\n    }\n\n    .dataframe tbody tr th {\n        vertical-align: top;\n    }\n\n    .dataframe thead th {\n        text-align: right;\n    }\n</style>\n<table border=\"1\" class=\"dataframe\">\n  <thead>\n    <tr style=\"text-align: right;\">\n      <th></th>\n    </tr>\n  </thead>\n  <tbody>\n  </tbody>\n</table>\n</div>"
     },
     "execution_count": 5,
     "metadata": {},
     "output_type": "execute_result"
    }
   ],
   "source": [
    "folders5 = [blob.name for blob in bucket.list_blobs(prefix='36/') if blob.name.endswith('/')]\n",
    "df5 = pd.DataFrame(folders5)\n",
    "df5"
   ],
   "metadata": {
    "collapsed": false,
    "pycharm": {
     "name": "#%%\n"
    }
   }
  },
  {
   "cell_type": "code",
   "execution_count": 143,
   "outputs": [
    {
     "data": {
      "text/plain": "'test6/tmp/MT4/'"
     },
     "execution_count": 143,
     "metadata": {},
     "output_type": "execute_result"
    }
   ],
   "source": [
    "x1 = df4.iloc[2, 0]\n",
    "x1"
   ],
   "metadata": {
    "collapsed": false,
    "pycharm": {
     "name": "#%%\n"
    }
   }
  },
  {
   "cell_type": "code",
   "execution_count": 145,
   "outputs": [
    {
     "data": {
      "text/plain": "True"
     },
     "execution_count": 145,
     "metadata": {},
     "output_type": "execute_result"
    }
   ],
   "source": [
    "x1.endswith('/')"
   ],
   "metadata": {
    "collapsed": false,
    "pycharm": {
     "name": "#%%\n"
    }
   }
  },
  {
   "cell_type": "code",
   "execution_count": 146,
   "outputs": [
    {
     "data": {
      "text/plain": "                                               0                         1\n3                         test6/tmp/MT4/test.pyw                text/plain\n4                         test6/tmp/MT4/test.txt                text/plain\n5                       test6/tmp/MT4/Сборка.a3d  application/octet-stream\n8                      test6/tmp1/TRW/beetest.py                text/plain\n9                        test6/tmp1/TRW/pybee.py                text/plain\n10    test6/tmp1/locale/en/LC_MESSAGES/django.po  application/octet-stream\n11  test6/tmp1/locale/en/LC_MESSAGES/djangojs.po  application/octet-stream",
      "text/html": "<div>\n<style scoped>\n    .dataframe tbody tr th:only-of-type {\n        vertical-align: middle;\n    }\n\n    .dataframe tbody tr th {\n        vertical-align: top;\n    }\n\n    .dataframe thead th {\n        text-align: right;\n    }\n</style>\n<table border=\"1\" class=\"dataframe\">\n  <thead>\n    <tr style=\"text-align: right;\">\n      <th></th>\n      <th>0</th>\n      <th>1</th>\n    </tr>\n  </thead>\n  <tbody>\n    <tr>\n      <th>3</th>\n      <td>test6/tmp/MT4/test.pyw</td>\n      <td>text/plain</td>\n    </tr>\n    <tr>\n      <th>4</th>\n      <td>test6/tmp/MT4/test.txt</td>\n      <td>text/plain</td>\n    </tr>\n    <tr>\n      <th>5</th>\n      <td>test6/tmp/MT4/Сборка.a3d</td>\n      <td>application/octet-stream</td>\n    </tr>\n    <tr>\n      <th>8</th>\n      <td>test6/tmp1/TRW/beetest.py</td>\n      <td>text/plain</td>\n    </tr>\n    <tr>\n      <th>9</th>\n      <td>test6/tmp1/TRW/pybee.py</td>\n      <td>text/plain</td>\n    </tr>\n    <tr>\n      <th>10</th>\n      <td>test6/tmp1/locale/en/LC_MESSAGES/django.po</td>\n      <td>application/octet-stream</td>\n    </tr>\n    <tr>\n      <th>11</th>\n      <td>test6/tmp1/locale/en/LC_MESSAGES/djangojs.po</td>\n      <td>application/octet-stream</td>\n    </tr>\n  </tbody>\n</table>\n</div>"
     },
     "execution_count": 146,
     "metadata": {},
     "output_type": "execute_result"
    }
   ],
   "source": [
    "df4[~df4[0].str.endswith('/')]"
   ],
   "metadata": {
    "collapsed": false,
    "pycharm": {
     "name": "#%%\n"
    }
   }
  },
  {
   "cell_type": "markdown",
   "source": [],
   "metadata": {
    "collapsed": false,
    "pycharm": {
     "name": "#%% md\n"
    }
   }
  },
  {
   "cell_type": "code",
   "execution_count": 14,
   "outputs": [
    {
     "data": {
      "text/plain": "                                                        0\n0       GoogleDriveTransfer/VG.COM/Сотрудники/mdomanov...\n1       GoogleDriveTransfer/VG.COM/Сотрудники/mdomanov...\n2       GoogleDriveTransfer/VG.COM/Сотрудники/mdomanov...\n3       GoogleDriveTransfer/VG.COM/Сотрудники/mdomanov...\n4       GoogleDriveTransfer/VG.COM/Сотрудники/mdomanov...\n...                                                   ...\n113738  GoogleDriveTransfer/Юрист UA/Укр Суд/Опекунски...\n113739  GoogleDriveTransfer/Юрист UA/Укр Суд/Ответ в о...\n113740  GoogleDriveTransfer/Юрист UA/Укр Суд/Прокурату...\n113741  GoogleDriveTransfer/Юрист UA/договір коворкінг...\n113742  GoogleDriveTransfer/Юрист UA/правила роботи ко...\n\n[113743 rows x 1 columns]",
      "text/html": "<div>\n<style scoped>\n    .dataframe tbody tr th:only-of-type {\n        vertical-align: middle;\n    }\n\n    .dataframe tbody tr th {\n        vertical-align: top;\n    }\n\n    .dataframe thead th {\n        text-align: right;\n    }\n</style>\n<table border=\"1\" class=\"dataframe\">\n  <thead>\n    <tr style=\"text-align: right;\">\n      <th></th>\n      <th>0</th>\n    </tr>\n  </thead>\n  <tbody>\n    <tr>\n      <th>0</th>\n      <td>GoogleDriveTransfer/VG.COM/Сотрудники/mdomanov...</td>\n    </tr>\n    <tr>\n      <th>1</th>\n      <td>GoogleDriveTransfer/VG.COM/Сотрудники/mdomanov...</td>\n    </tr>\n    <tr>\n      <th>2</th>\n      <td>GoogleDriveTransfer/VG.COM/Сотрудники/mdomanov...</td>\n    </tr>\n    <tr>\n      <th>3</th>\n      <td>GoogleDriveTransfer/VG.COM/Сотрудники/mdomanov...</td>\n    </tr>\n    <tr>\n      <th>4</th>\n      <td>GoogleDriveTransfer/VG.COM/Сотрудники/mdomanov...</td>\n    </tr>\n    <tr>\n      <th>...</th>\n      <td>...</td>\n    </tr>\n    <tr>\n      <th>113738</th>\n      <td>GoogleDriveTransfer/Юрист UA/Укр Суд/Опекунски...</td>\n    </tr>\n    <tr>\n      <th>113739</th>\n      <td>GoogleDriveTransfer/Юрист UA/Укр Суд/Ответ в о...</td>\n    </tr>\n    <tr>\n      <th>113740</th>\n      <td>GoogleDriveTransfer/Юрист UA/Укр Суд/Прокурату...</td>\n    </tr>\n    <tr>\n      <th>113741</th>\n      <td>GoogleDriveTransfer/Юрист UA/договір коворкінг...</td>\n    </tr>\n    <tr>\n      <th>113742</th>\n      <td>GoogleDriveTransfer/Юрист UA/правила роботи ко...</td>\n    </tr>\n  </tbody>\n</table>\n<p>113743 rows × 1 columns</p>\n</div>"
     },
     "execution_count": 14,
     "metadata": {},
     "output_type": "execute_result"
    }
   ],
   "source": [
    "folders = [blob.name for blob in bucket.list_blobs(prefix='GoogleDriveTransfer/')]\n",
    "df = pd.DataFrame(folders)\n",
    "df"
   ],
   "metadata": {
    "collapsed": false,
    "pycharm": {
     "name": "#%%\n"
    }
   }
  },
  {
   "cell_type": "code",
   "execution_count": 8,
   "outputs": [],
   "source": [
    "paths = [blob.name for blob in bucket.list_blobs(prefix='GoogleDriveTransfer/') if not blob.name.endswith('/')]\n"
   ],
   "metadata": {
    "collapsed": false,
    "pycharm": {
     "name": "#%%\n"
    }
   }
  },
  {
   "cell_type": "code",
   "execution_count": 14,
   "outputs": [],
   "source": [
    "ls = ['Бухгалтер RUS', 'Бухгалтер UA']"
   ],
   "metadata": {
    "collapsed": false,
    "pycharm": {
     "name": "#%%\n"
    }
   }
  },
  {
   "cell_type": "code",
   "execution_count": 15,
   "outputs": [],
   "source": [
    "ls1 = [x for x in paths if x.split('/')[1] in ls]"
   ],
   "metadata": {
    "collapsed": false,
    "pycharm": {
     "name": "#%%\n"
    }
   }
  },
  {
   "cell_type": "code",
   "execution_count": null,
   "outputs": [],
   "source": [
    "x1 = [x for x in paths if x.]"
   ],
   "metadata": {
    "collapsed": false,
    "pycharm": {
     "name": "#%%\n"
    }
   }
  },
  {
   "cell_type": "code",
   "execution_count": 12,
   "outputs": [],
   "source": [
    "x1 = 'hfgh/fh/gfd/dfhgdf'"
   ],
   "metadata": {
    "collapsed": false,
    "pycharm": {
     "name": "#%%\n"
    }
   }
  },
  {
   "cell_type": "code",
   "execution_count": 13,
   "outputs": [
    {
     "data": {
      "text/plain": "True"
     },
     "execution_count": 13,
     "metadata": {},
     "output_type": "execute_result"
    }
   ],
   "source": [
    "x1.startswith('hfgh/fh/')"
   ],
   "metadata": {
    "collapsed": false,
    "pycharm": {
     "name": "#%%\n"
    }
   }
  },
  {
   "cell_type": "code",
   "execution_count": 8,
   "outputs": [],
   "source": [
    "paths1 = [x.split('/')[1] for x in paths]"
   ],
   "metadata": {
    "collapsed": false,
    "pycharm": {
     "name": "#%%\n"
    }
   }
  },
  {
   "cell_type": "code",
   "execution_count": 9,
   "outputs": [],
   "source": [
    "paths2 = list(set(paths1))"
   ],
   "metadata": {
    "collapsed": false,
    "pycharm": {
     "name": "#%%\n"
    }
   }
  },
  {
   "cell_type": "code",
   "execution_count": 11,
   "outputs": [
    {
     "data": {
      "text/plain": "True"
     },
     "execution_count": 11,
     "metadata": {},
     "output_type": "execute_result"
    }
   ],
   "source": [
    "'Холодный склад' in paths2"
   ],
   "metadata": {
    "collapsed": false,
    "pycharm": {
     "name": "#%%\n"
    }
   }
  },
  {
   "cell_type": "code",
   "execution_count": 14,
   "outputs": [
    {
     "data": {
      "text/plain": "                                                        0  \\\n0       GoogleDriveTransfer/VG.COM/Сотрудники/mdomanov...   \n1       GoogleDriveTransfer/VG.COM/Сотрудники/mdomanov...   \n2       GoogleDriveTransfer/VG.COM/Сотрудники/mdomanov...   \n3       GoogleDriveTransfer/VG.COM/Сотрудники/mdomanov...   \n4       GoogleDriveTransfer/VG.COM/Сотрудники/mdomanov...   \n...                                                   ...   \n128263  GoogleDriveTransfer/Юрист UA/Укр Суд/Опекунски...   \n128264  GoogleDriveTransfer/Юрист UA/Укр Суд/Ответ в о...   \n128265  GoogleDriveTransfer/Юрист UA/Укр Суд/Прокурату...   \n128266  GoogleDriveTransfer/Юрист UA/договір коворкінг...   \n128267  GoogleDriveTransfer/Юрист UA/правила роботи ко...   \n\n                                                path_list  \n0       [GoogleDriveTransfer, VG.COM, Сотрудники, mdom...  \n1       [GoogleDriveTransfer, VG.COM, Сотрудники, mdom...  \n2       [GoogleDriveTransfer, VG.COM, Сотрудники, mdom...  \n3       [GoogleDriveTransfer, VG.COM, Сотрудники, mdom...  \n4       [GoogleDriveTransfer, VG.COM, Сотрудники, mdom...  \n...                                                   ...  \n128263  [GoogleDriveTransfer, Юрист UA, Укр Суд, Опеку...  \n128264  [GoogleDriveTransfer, Юрист UA, Укр Суд, Ответ...  \n128265  [GoogleDriveTransfer, Юрист UA, Укр Суд, Проку...  \n128266  [GoogleDriveTransfer, Юрист UA, договір коворк...  \n128267  [GoogleDriveTransfer, Юрист UA, правила роботи...  \n\n[128268 rows x 2 columns]",
      "text/html": "<div>\n<style scoped>\n    .dataframe tbody tr th:only-of-type {\n        vertical-align: middle;\n    }\n\n    .dataframe tbody tr th {\n        vertical-align: top;\n    }\n\n    .dataframe thead th {\n        text-align: right;\n    }\n</style>\n<table border=\"1\" class=\"dataframe\">\n  <thead>\n    <tr style=\"text-align: right;\">\n      <th></th>\n      <th>0</th>\n      <th>path_list</th>\n    </tr>\n  </thead>\n  <tbody>\n    <tr>\n      <th>0</th>\n      <td>GoogleDriveTransfer/VG.COM/Сотрудники/mdomanov...</td>\n      <td>[GoogleDriveTransfer, VG.COM, Сотрудники, mdom...</td>\n    </tr>\n    <tr>\n      <th>1</th>\n      <td>GoogleDriveTransfer/VG.COM/Сотрудники/mdomanov...</td>\n      <td>[GoogleDriveTransfer, VG.COM, Сотрудники, mdom...</td>\n    </tr>\n    <tr>\n      <th>2</th>\n      <td>GoogleDriveTransfer/VG.COM/Сотрудники/mdomanov...</td>\n      <td>[GoogleDriveTransfer, VG.COM, Сотрудники, mdom...</td>\n    </tr>\n    <tr>\n      <th>3</th>\n      <td>GoogleDriveTransfer/VG.COM/Сотрудники/mdomanov...</td>\n      <td>[GoogleDriveTransfer, VG.COM, Сотрудники, mdom...</td>\n    </tr>\n    <tr>\n      <th>4</th>\n      <td>GoogleDriveTransfer/VG.COM/Сотрудники/mdomanov...</td>\n      <td>[GoogleDriveTransfer, VG.COM, Сотрудники, mdom...</td>\n    </tr>\n    <tr>\n      <th>...</th>\n      <td>...</td>\n      <td>...</td>\n    </tr>\n    <tr>\n      <th>128263</th>\n      <td>GoogleDriveTransfer/Юрист UA/Укр Суд/Опекунски...</td>\n      <td>[GoogleDriveTransfer, Юрист UA, Укр Суд, Опеку...</td>\n    </tr>\n    <tr>\n      <th>128264</th>\n      <td>GoogleDriveTransfer/Юрист UA/Укр Суд/Ответ в о...</td>\n      <td>[GoogleDriveTransfer, Юрист UA, Укр Суд, Ответ...</td>\n    </tr>\n    <tr>\n      <th>128265</th>\n      <td>GoogleDriveTransfer/Юрист UA/Укр Суд/Прокурату...</td>\n      <td>[GoogleDriveTransfer, Юрист UA, Укр Суд, Проку...</td>\n    </tr>\n    <tr>\n      <th>128266</th>\n      <td>GoogleDriveTransfer/Юрист UA/договір коворкінг...</td>\n      <td>[GoogleDriveTransfer, Юрист UA, договір коворк...</td>\n    </tr>\n    <tr>\n      <th>128267</th>\n      <td>GoogleDriveTransfer/Юрист UA/правила роботи ко...</td>\n      <td>[GoogleDriveTransfer, Юрист UA, правила роботи...</td>\n    </tr>\n  </tbody>\n</table>\n<p>128268 rows × 2 columns</p>\n</div>"
     },
     "execution_count": 14,
     "metadata": {},
     "output_type": "execute_result"
    }
   ],
   "source": [
    "df['path_list'] = df[0].str.split('/')\n",
    "df"
   ],
   "metadata": {
    "collapsed": false,
    "pycharm": {
     "name": "#%%\n"
    }
   }
  },
  {
   "cell_type": "code",
   "execution_count": 15,
   "outputs": [
    {
     "data": {
      "text/plain": "                                                        0  \\\n0       GoogleDriveTransfer/VG.COM/Сотрудники/mdomanov...   \n1       GoogleDriveTransfer/VG.COM/Сотрудники/mdomanov...   \n2       GoogleDriveTransfer/VG.COM/Сотрудники/mdomanov...   \n3       GoogleDriveTransfer/VG.COM/Сотрудники/mdomanov...   \n4       GoogleDriveTransfer/VG.COM/Сотрудники/mdomanov...   \n...                                                   ...   \n128263  GoogleDriveTransfer/Юрист UA/Укр Суд/Опекунски...   \n128264  GoogleDriveTransfer/Юрист UA/Укр Суд/Ответ в о...   \n128265  GoogleDriveTransfer/Юрист UA/Укр Суд/Прокурату...   \n128266  GoogleDriveTransfer/Юрист UA/договір коворкінг...   \n128267  GoogleDriveTransfer/Юрист UA/правила роботи ко...   \n\n                                                path_list      proj  \n0       [GoogleDriveTransfer, VG.COM, Сотрудники, mdom...    VG.COM  \n1       [GoogleDriveTransfer, VG.COM, Сотрудники, mdom...    VG.COM  \n2       [GoogleDriveTransfer, VG.COM, Сотрудники, mdom...    VG.COM  \n3       [GoogleDriveTransfer, VG.COM, Сотрудники, mdom...    VG.COM  \n4       [GoogleDriveTransfer, VG.COM, Сотрудники, mdom...    VG.COM  \n...                                                   ...       ...  \n128263  [GoogleDriveTransfer, Юрист UA, Укр Суд, Опеку...  Юрист UA  \n128264  [GoogleDriveTransfer, Юрист UA, Укр Суд, Ответ...  Юрист UA  \n128265  [GoogleDriveTransfer, Юрист UA, Укр Суд, Проку...  Юрист UA  \n128266  [GoogleDriveTransfer, Юрист UA, договір коворк...  Юрист UA  \n128267  [GoogleDriveTransfer, Юрист UA, правила роботи...  Юрист UA  \n\n[128268 rows x 3 columns]",
      "text/html": "<div>\n<style scoped>\n    .dataframe tbody tr th:only-of-type {\n        vertical-align: middle;\n    }\n\n    .dataframe tbody tr th {\n        vertical-align: top;\n    }\n\n    .dataframe thead th {\n        text-align: right;\n    }\n</style>\n<table border=\"1\" class=\"dataframe\">\n  <thead>\n    <tr style=\"text-align: right;\">\n      <th></th>\n      <th>0</th>\n      <th>path_list</th>\n      <th>proj</th>\n    </tr>\n  </thead>\n  <tbody>\n    <tr>\n      <th>0</th>\n      <td>GoogleDriveTransfer/VG.COM/Сотрудники/mdomanov...</td>\n      <td>[GoogleDriveTransfer, VG.COM, Сотрудники, mdom...</td>\n      <td>VG.COM</td>\n    </tr>\n    <tr>\n      <th>1</th>\n      <td>GoogleDriveTransfer/VG.COM/Сотрудники/mdomanov...</td>\n      <td>[GoogleDriveTransfer, VG.COM, Сотрудники, mdom...</td>\n      <td>VG.COM</td>\n    </tr>\n    <tr>\n      <th>2</th>\n      <td>GoogleDriveTransfer/VG.COM/Сотрудники/mdomanov...</td>\n      <td>[GoogleDriveTransfer, VG.COM, Сотрудники, mdom...</td>\n      <td>VG.COM</td>\n    </tr>\n    <tr>\n      <th>3</th>\n      <td>GoogleDriveTransfer/VG.COM/Сотрудники/mdomanov...</td>\n      <td>[GoogleDriveTransfer, VG.COM, Сотрудники, mdom...</td>\n      <td>VG.COM</td>\n    </tr>\n    <tr>\n      <th>4</th>\n      <td>GoogleDriveTransfer/VG.COM/Сотрудники/mdomanov...</td>\n      <td>[GoogleDriveTransfer, VG.COM, Сотрудники, mdom...</td>\n      <td>VG.COM</td>\n    </tr>\n    <tr>\n      <th>...</th>\n      <td>...</td>\n      <td>...</td>\n      <td>...</td>\n    </tr>\n    <tr>\n      <th>128263</th>\n      <td>GoogleDriveTransfer/Юрист UA/Укр Суд/Опекунски...</td>\n      <td>[GoogleDriveTransfer, Юрист UA, Укр Суд, Опеку...</td>\n      <td>Юрист UA</td>\n    </tr>\n    <tr>\n      <th>128264</th>\n      <td>GoogleDriveTransfer/Юрист UA/Укр Суд/Ответ в о...</td>\n      <td>[GoogleDriveTransfer, Юрист UA, Укр Суд, Ответ...</td>\n      <td>Юрист UA</td>\n    </tr>\n    <tr>\n      <th>128265</th>\n      <td>GoogleDriveTransfer/Юрист UA/Укр Суд/Прокурату...</td>\n      <td>[GoogleDriveTransfer, Юрист UA, Укр Суд, Проку...</td>\n      <td>Юрист UA</td>\n    </tr>\n    <tr>\n      <th>128266</th>\n      <td>GoogleDriveTransfer/Юрист UA/договір коворкінг...</td>\n      <td>[GoogleDriveTransfer, Юрист UA, договір коворк...</td>\n      <td>Юрист UA</td>\n    </tr>\n    <tr>\n      <th>128267</th>\n      <td>GoogleDriveTransfer/Юрист UA/правила роботи ко...</td>\n      <td>[GoogleDriveTransfer, Юрист UA, правила роботи...</td>\n      <td>Юрист UA</td>\n    </tr>\n  </tbody>\n</table>\n<p>128268 rows × 3 columns</p>\n</div>"
     },
     "execution_count": 15,
     "metadata": {},
     "output_type": "execute_result"
    }
   ],
   "source": [
    "df['proj'] = df['path_list'].apply(lambda x: x[1])\n",
    "df"
   ],
   "metadata": {
    "collapsed": false,
    "pycharm": {
     "name": "#%%\n"
    }
   }
  },
  {
   "cell_type": "code",
   "execution_count": 16,
   "outputs": [
    {
     "data": {
      "text/plain": "array(['VG.COM', 'Адвокатский кабинет', 'Архив', 'Бухгалтер RUS',\n       'Бухгалтер UA', 'ВДНХ_Колесо обозрения', 'Винный парк', 'ГипроМез',\n       'ДОУ 360 Выпуск', 'ДОУ 360', 'Контент', 'Контент_VG',\n       'Лио-Продукт', 'Лобня', 'Мой Диск _', 'НКВЗ ремонт АвтоТехники',\n       'ОСК Шереметьево', 'Объединенная пивоварня', 'Объекты в работе',\n       'Остров мечты ППР', 'ПОДРЯДЧИКИ', 'Пекарня', 'СТО ГБО',\n       'ТЕХВАГОНМАШ', 'Транспроект', 'ФРАКДЖЕТ-ТУЛЗ', 'ФосАгро',\n       'Холодный склад', 'Чайка Лаб', 'Читинские ключи', 'Юрист UA'],\n      dtype=object)"
     },
     "execution_count": 16,
     "metadata": {},
     "output_type": "execute_result"
    }
   ],
   "source": [
    "df['proj'].unique()"
   ],
   "metadata": {
    "collapsed": false,
    "pycharm": {
     "name": "#%%\n"
    }
   }
  },
  {
   "cell_type": "code",
   "execution_count": 11,
   "outputs": [
    {
     "data": {
      "text/plain": "                                                        0  \\\n0       GoogleDriveTransfer/BackOffice/Регламенты/desk...   \n1       GoogleDriveTransfer/BackOffice/Регламенты/Веде...   \n2       GoogleDriveTransfer/BackOffice/Регламенты/Новы...   \n3       GoogleDriveTransfer/BackOffice/Регламенты/Прав...   \n4       GoogleDriveTransfer/BackOffice/Регламенты/СТП/...   \n...                                                   ...   \n179046  GoogleDriveTransfer/Юрист UA/Укр Суд/Опекунски...   \n179047  GoogleDriveTransfer/Юрист UA/Укр Суд/Ответ в о...   \n179048  GoogleDriveTransfer/Юрист UA/Укр Суд/Прокурату...   \n179049  GoogleDriveTransfer/Юрист UA/договір коворкінг...   \n179050  GoogleDriveTransfer/Юрист UA/правила роботи ко...   \n\n                                                        1  \n0                                              text/plain  \n1       application/vnd.openxmlformats-officedocument....  \n2       application/vnd.openxmlformats-officedocument....  \n3       application/vnd.openxmlformats-officedocument....  \n4       application/vnd.openxmlformats-officedocument....  \n...                                                   ...  \n179046                                         text/plain  \n179047                                         text/plain  \n179048                                         text/plain  \n179049                                         text/plain  \n179050                                         text/plain  \n\n[179051 rows x 2 columns]",
      "text/html": "<div>\n<style scoped>\n    .dataframe tbody tr th:only-of-type {\n        vertical-align: middle;\n    }\n\n    .dataframe tbody tr th {\n        vertical-align: top;\n    }\n\n    .dataframe thead th {\n        text-align: right;\n    }\n</style>\n<table border=\"1\" class=\"dataframe\">\n  <thead>\n    <tr style=\"text-align: right;\">\n      <th></th>\n      <th>0</th>\n      <th>1</th>\n    </tr>\n  </thead>\n  <tbody>\n    <tr>\n      <th>0</th>\n      <td>GoogleDriveTransfer/BackOffice/Регламенты/desk...</td>\n      <td>text/plain</td>\n    </tr>\n    <tr>\n      <th>1</th>\n      <td>GoogleDriveTransfer/BackOffice/Регламенты/Веде...</td>\n      <td>application/vnd.openxmlformats-officedocument....</td>\n    </tr>\n    <tr>\n      <th>2</th>\n      <td>GoogleDriveTransfer/BackOffice/Регламенты/Новы...</td>\n      <td>application/vnd.openxmlformats-officedocument....</td>\n    </tr>\n    <tr>\n      <th>3</th>\n      <td>GoogleDriveTransfer/BackOffice/Регламенты/Прав...</td>\n      <td>application/vnd.openxmlformats-officedocument....</td>\n    </tr>\n    <tr>\n      <th>4</th>\n      <td>GoogleDriveTransfer/BackOffice/Регламенты/СТП/...</td>\n      <td>application/vnd.openxmlformats-officedocument....</td>\n    </tr>\n    <tr>\n      <th>...</th>\n      <td>...</td>\n      <td>...</td>\n    </tr>\n    <tr>\n      <th>179046</th>\n      <td>GoogleDriveTransfer/Юрист UA/Укр Суд/Опекунски...</td>\n      <td>text/plain</td>\n    </tr>\n    <tr>\n      <th>179047</th>\n      <td>GoogleDriveTransfer/Юрист UA/Укр Суд/Ответ в о...</td>\n      <td>text/plain</td>\n    </tr>\n    <tr>\n      <th>179048</th>\n      <td>GoogleDriveTransfer/Юрист UA/Укр Суд/Прокурату...</td>\n      <td>text/plain</td>\n    </tr>\n    <tr>\n      <th>179049</th>\n      <td>GoogleDriveTransfer/Юрист UA/договір коворкінг...</td>\n      <td>text/plain</td>\n    </tr>\n    <tr>\n      <th>179050</th>\n      <td>GoogleDriveTransfer/Юрист UA/правила роботи ко...</td>\n      <td>text/plain</td>\n    </tr>\n  </tbody>\n</table>\n<p>179051 rows × 2 columns</p>\n</div>"
     },
     "execution_count": 11,
     "metadata": {},
     "output_type": "execute_result"
    }
   ],
   "source": [
    "# folders = [(blob.name, blob.content_type) for blob in bucket.list_blobs()]\n",
    "folders = [(blob.name, blob.content_type) for blob in bucket.list_blobs(prefix='GoogleDriveTransfer/')]\n",
    "df = pd.DataFrame(folders)\n",
    "df"
   ],
   "metadata": {
    "collapsed": false,
    "pycharm": {
     "name": "#%%\n"
    }
   }
  },
  {
   "cell_type": "code",
   "execution_count": 12,
   "outputs": [
    {
     "data": {
      "text/plain": "                                                     path  \\\n0       GoogleDriveTransfer/BackOffice/Регламенты/desk...   \n1       GoogleDriveTransfer/BackOffice/Регламенты/Веде...   \n2       GoogleDriveTransfer/BackOffice/Регламенты/Новы...   \n3       GoogleDriveTransfer/BackOffice/Регламенты/Прав...   \n4       GoogleDriveTransfer/BackOffice/Регламенты/СТП/...   \n...                                                   ...   \n179046  GoogleDriveTransfer/Юрист UA/Укр Суд/Опекунски...   \n179047  GoogleDriveTransfer/Юрист UA/Укр Суд/Ответ в о...   \n179048  GoogleDriveTransfer/Юрист UA/Укр Суд/Прокурату...   \n179049  GoogleDriveTransfer/Юрист UA/договір коворкінг...   \n179050  GoogleDriveTransfer/Юрист UA/правила роботи ко...   \n\n                                             content_type  \n0                                              text/plain  \n1       application/vnd.openxmlformats-officedocument....  \n2       application/vnd.openxmlformats-officedocument....  \n3       application/vnd.openxmlformats-officedocument....  \n4       application/vnd.openxmlformats-officedocument....  \n...                                                   ...  \n179046                                         text/plain  \n179047                                         text/plain  \n179048                                         text/plain  \n179049                                         text/plain  \n179050                                         text/plain  \n\n[179051 rows x 2 columns]",
      "text/html": "<div>\n<style scoped>\n    .dataframe tbody tr th:only-of-type {\n        vertical-align: middle;\n    }\n\n    .dataframe tbody tr th {\n        vertical-align: top;\n    }\n\n    .dataframe thead th {\n        text-align: right;\n    }\n</style>\n<table border=\"1\" class=\"dataframe\">\n  <thead>\n    <tr style=\"text-align: right;\">\n      <th></th>\n      <th>path</th>\n      <th>content_type</th>\n    </tr>\n  </thead>\n  <tbody>\n    <tr>\n      <th>0</th>\n      <td>GoogleDriveTransfer/BackOffice/Регламенты/desk...</td>\n      <td>text/plain</td>\n    </tr>\n    <tr>\n      <th>1</th>\n      <td>GoogleDriveTransfer/BackOffice/Регламенты/Веде...</td>\n      <td>application/vnd.openxmlformats-officedocument....</td>\n    </tr>\n    <tr>\n      <th>2</th>\n      <td>GoogleDriveTransfer/BackOffice/Регламенты/Новы...</td>\n      <td>application/vnd.openxmlformats-officedocument....</td>\n    </tr>\n    <tr>\n      <th>3</th>\n      <td>GoogleDriveTransfer/BackOffice/Регламенты/Прав...</td>\n      <td>application/vnd.openxmlformats-officedocument....</td>\n    </tr>\n    <tr>\n      <th>4</th>\n      <td>GoogleDriveTransfer/BackOffice/Регламенты/СТП/...</td>\n      <td>application/vnd.openxmlformats-officedocument....</td>\n    </tr>\n    <tr>\n      <th>...</th>\n      <td>...</td>\n      <td>...</td>\n    </tr>\n    <tr>\n      <th>179046</th>\n      <td>GoogleDriveTransfer/Юрист UA/Укр Суд/Опекунски...</td>\n      <td>text/plain</td>\n    </tr>\n    <tr>\n      <th>179047</th>\n      <td>GoogleDriveTransfer/Юрист UA/Укр Суд/Ответ в о...</td>\n      <td>text/plain</td>\n    </tr>\n    <tr>\n      <th>179048</th>\n      <td>GoogleDriveTransfer/Юрист UA/Укр Суд/Прокурату...</td>\n      <td>text/plain</td>\n    </tr>\n    <tr>\n      <th>179049</th>\n      <td>GoogleDriveTransfer/Юрист UA/договір коворкінг...</td>\n      <td>text/plain</td>\n    </tr>\n    <tr>\n      <th>179050</th>\n      <td>GoogleDriveTransfer/Юрист UA/правила роботи ко...</td>\n      <td>text/plain</td>\n    </tr>\n  </tbody>\n</table>\n<p>179051 rows × 2 columns</p>\n</div>"
     },
     "execution_count": 12,
     "metadata": {},
     "output_type": "execute_result"
    }
   ],
   "source": [
    "df.columns = ['path', 'content_type']\n",
    "df"
   ],
   "metadata": {
    "collapsed": false,
    "pycharm": {
     "name": "#%%\n"
    }
   }
  },
  {
   "cell_type": "code",
   "execution_count": 13,
   "outputs": [
    {
     "data": {
      "text/plain": "                                                     path  \\\n0       GoogleDriveTransfer/BackOffice/Регламенты/desk...   \n1       GoogleDriveTransfer/BackOffice/Регламенты/Веде...   \n2       GoogleDriveTransfer/BackOffice/Регламенты/Новы...   \n3       GoogleDriveTransfer/BackOffice/Регламенты/Прав...   \n4       GoogleDriveTransfer/BackOffice/Регламенты/СТП/...   \n...                                                   ...   \n179046  GoogleDriveTransfer/Юрист UA/Укр Суд/Опекунски...   \n179047  GoogleDriveTransfer/Юрист UA/Укр Суд/Ответ в о...   \n179048  GoogleDriveTransfer/Юрист UA/Укр Суд/Прокурату...   \n179049  GoogleDriveTransfer/Юрист UA/договір коворкінг...   \n179050  GoogleDriveTransfer/Юрист UA/правила роботи ко...   \n\n                                             content_type  \\\n0                                              text/plain   \n1       application/vnd.openxmlformats-officedocument....   \n2       application/vnd.openxmlformats-officedocument....   \n3       application/vnd.openxmlformats-officedocument....   \n4       application/vnd.openxmlformats-officedocument....   \n...                                                   ...   \n179046                                         text/plain   \n179047                                         text/plain   \n179048                                         text/plain   \n179049                                         text/plain   \n179050                                         text/plain   \n\n                                                path_list  \n0       [GoogleDriveTransfer, BackOffice, Регламенты, ...  \n1       [GoogleDriveTransfer, BackOffice, Регламенты, ...  \n2       [GoogleDriveTransfer, BackOffice, Регламенты, ...  \n3       [GoogleDriveTransfer, BackOffice, Регламенты, ...  \n4       [GoogleDriveTransfer, BackOffice, Регламенты, ...  \n...                                                   ...  \n179046  [GoogleDriveTransfer, Юрист UA, Укр Суд, Опеку...  \n179047  [GoogleDriveTransfer, Юрист UA, Укр Суд, Ответ...  \n179048  [GoogleDriveTransfer, Юрист UA, Укр Суд, Проку...  \n179049  [GoogleDriveTransfer, Юрист UA, договір коворк...  \n179050  [GoogleDriveTransfer, Юрист UA, правила роботи...  \n\n[179051 rows x 3 columns]",
      "text/html": "<div>\n<style scoped>\n    .dataframe tbody tr th:only-of-type {\n        vertical-align: middle;\n    }\n\n    .dataframe tbody tr th {\n        vertical-align: top;\n    }\n\n    .dataframe thead th {\n        text-align: right;\n    }\n</style>\n<table border=\"1\" class=\"dataframe\">\n  <thead>\n    <tr style=\"text-align: right;\">\n      <th></th>\n      <th>path</th>\n      <th>content_type</th>\n      <th>path_list</th>\n    </tr>\n  </thead>\n  <tbody>\n    <tr>\n      <th>0</th>\n      <td>GoogleDriveTransfer/BackOffice/Регламенты/desk...</td>\n      <td>text/plain</td>\n      <td>[GoogleDriveTransfer, BackOffice, Регламенты, ...</td>\n    </tr>\n    <tr>\n      <th>1</th>\n      <td>GoogleDriveTransfer/BackOffice/Регламенты/Веде...</td>\n      <td>application/vnd.openxmlformats-officedocument....</td>\n      <td>[GoogleDriveTransfer, BackOffice, Регламенты, ...</td>\n    </tr>\n    <tr>\n      <th>2</th>\n      <td>GoogleDriveTransfer/BackOffice/Регламенты/Новы...</td>\n      <td>application/vnd.openxmlformats-officedocument....</td>\n      <td>[GoogleDriveTransfer, BackOffice, Регламенты, ...</td>\n    </tr>\n    <tr>\n      <th>3</th>\n      <td>GoogleDriveTransfer/BackOffice/Регламенты/Прав...</td>\n      <td>application/vnd.openxmlformats-officedocument....</td>\n      <td>[GoogleDriveTransfer, BackOffice, Регламенты, ...</td>\n    </tr>\n    <tr>\n      <th>4</th>\n      <td>GoogleDriveTransfer/BackOffice/Регламенты/СТП/...</td>\n      <td>application/vnd.openxmlformats-officedocument....</td>\n      <td>[GoogleDriveTransfer, BackOffice, Регламенты, ...</td>\n    </tr>\n    <tr>\n      <th>...</th>\n      <td>...</td>\n      <td>...</td>\n      <td>...</td>\n    </tr>\n    <tr>\n      <th>179046</th>\n      <td>GoogleDriveTransfer/Юрист UA/Укр Суд/Опекунски...</td>\n      <td>text/plain</td>\n      <td>[GoogleDriveTransfer, Юрист UA, Укр Суд, Опеку...</td>\n    </tr>\n    <tr>\n      <th>179047</th>\n      <td>GoogleDriveTransfer/Юрист UA/Укр Суд/Ответ в о...</td>\n      <td>text/plain</td>\n      <td>[GoogleDriveTransfer, Юрист UA, Укр Суд, Ответ...</td>\n    </tr>\n    <tr>\n      <th>179048</th>\n      <td>GoogleDriveTransfer/Юрист UA/Укр Суд/Прокурату...</td>\n      <td>text/plain</td>\n      <td>[GoogleDriveTransfer, Юрист UA, Укр Суд, Проку...</td>\n    </tr>\n    <tr>\n      <th>179049</th>\n      <td>GoogleDriveTransfer/Юрист UA/договір коворкінг...</td>\n      <td>text/plain</td>\n      <td>[GoogleDriveTransfer, Юрист UA, договір коворк...</td>\n    </tr>\n    <tr>\n      <th>179050</th>\n      <td>GoogleDriveTransfer/Юрист UA/правила роботи ко...</td>\n      <td>text/plain</td>\n      <td>[GoogleDriveTransfer, Юрист UA, правила роботи...</td>\n    </tr>\n  </tbody>\n</table>\n<p>179051 rows × 3 columns</p>\n</div>"
     },
     "execution_count": 13,
     "metadata": {},
     "output_type": "execute_result"
    }
   ],
   "source": [
    "df['path_list'] = df['path'].str.split('/')\n",
    "df"
   ],
   "metadata": {
    "collapsed": false,
    "pycharm": {
     "name": "#%%\n"
    }
   }
  },
  {
   "cell_type": "code",
   "execution_count": 14,
   "outputs": [
    {
     "data": {
      "text/plain": "                                                     path  \\\n0       GoogleDriveTransfer/BackOffice/Регламенты/desk...   \n1       GoogleDriveTransfer/BackOffice/Регламенты/Веде...   \n2       GoogleDriveTransfer/BackOffice/Регламенты/Новы...   \n3       GoogleDriveTransfer/BackOffice/Регламенты/Прав...   \n4       GoogleDriveTransfer/BackOffice/Регламенты/СТП/...   \n...                                                   ...   \n179046  GoogleDriveTransfer/Юрист UA/Укр Суд/Опекунски...   \n179047  GoogleDriveTransfer/Юрист UA/Укр Суд/Ответ в о...   \n179048  GoogleDriveTransfer/Юрист UA/Укр Суд/Прокурату...   \n179049  GoogleDriveTransfer/Юрист UA/договір коворкінг...   \n179050  GoogleDriveTransfer/Юрист UA/правила роботи ко...   \n\n                                             content_type  \\\n0                                              text/plain   \n1       application/vnd.openxmlformats-officedocument....   \n2       application/vnd.openxmlformats-officedocument....   \n3       application/vnd.openxmlformats-officedocument....   \n4       application/vnd.openxmlformats-officedocument....   \n...                                                   ...   \n179046                                         text/plain   \n179047                                         text/plain   \n179048                                         text/plain   \n179049                                         text/plain   \n179050                                         text/plain   \n\n                                                path_list  \\\n0       [GoogleDriveTransfer, BackOffice, Регламенты, ...   \n1       [GoogleDriveTransfer, BackOffice, Регламенты, ...   \n2       [GoogleDriveTransfer, BackOffice, Регламенты, ...   \n3       [GoogleDriveTransfer, BackOffice, Регламенты, ...   \n4       [GoogleDriveTransfer, BackOffice, Регламенты, ...   \n...                                                   ...   \n179046  [GoogleDriveTransfer, Юрист UA, Укр Суд, Опеку...   \n179047  [GoogleDriveTransfer, Юрист UA, Укр Суд, Ответ...   \n179048  [GoogleDriveTransfer, Юрист UA, Укр Суд, Проку...   \n179049  [GoogleDriveTransfer, Юрист UA, договір коворк...   \n179050  [GoogleDriveTransfer, Юрист UA, правила роботи...   \n\n                                                     file  \n0                                             desktop.ini  \n1                                     Ведение продаж.docx  \n2                                     Новый документ.docx  \n3       Правила формирования_ отправки закр. док._дого...  \n4                                           STP_2_02.docx  \n...                                                   ...  \n179046                              Опекунский совет.docx  \n179047                             Ответ в опекнский.docx  \n179048                  Прокуратура московского р-на.docx  \n179049                            договір коворкінгу.docx  \n179050                     правила роботи коворкінгу.docx  \n\n[179051 rows x 4 columns]",
      "text/html": "<div>\n<style scoped>\n    .dataframe tbody tr th:only-of-type {\n        vertical-align: middle;\n    }\n\n    .dataframe tbody tr th {\n        vertical-align: top;\n    }\n\n    .dataframe thead th {\n        text-align: right;\n    }\n</style>\n<table border=\"1\" class=\"dataframe\">\n  <thead>\n    <tr style=\"text-align: right;\">\n      <th></th>\n      <th>path</th>\n      <th>content_type</th>\n      <th>path_list</th>\n      <th>file</th>\n    </tr>\n  </thead>\n  <tbody>\n    <tr>\n      <th>0</th>\n      <td>GoogleDriveTransfer/BackOffice/Регламенты/desk...</td>\n      <td>text/plain</td>\n      <td>[GoogleDriveTransfer, BackOffice, Регламенты, ...</td>\n      <td>desktop.ini</td>\n    </tr>\n    <tr>\n      <th>1</th>\n      <td>GoogleDriveTransfer/BackOffice/Регламенты/Веде...</td>\n      <td>application/vnd.openxmlformats-officedocument....</td>\n      <td>[GoogleDriveTransfer, BackOffice, Регламенты, ...</td>\n      <td>Ведение продаж.docx</td>\n    </tr>\n    <tr>\n      <th>2</th>\n      <td>GoogleDriveTransfer/BackOffice/Регламенты/Новы...</td>\n      <td>application/vnd.openxmlformats-officedocument....</td>\n      <td>[GoogleDriveTransfer, BackOffice, Регламенты, ...</td>\n      <td>Новый документ.docx</td>\n    </tr>\n    <tr>\n      <th>3</th>\n      <td>GoogleDriveTransfer/BackOffice/Регламенты/Прав...</td>\n      <td>application/vnd.openxmlformats-officedocument....</td>\n      <td>[GoogleDriveTransfer, BackOffice, Регламенты, ...</td>\n      <td>Правила формирования_ отправки закр. док._дого...</td>\n    </tr>\n    <tr>\n      <th>4</th>\n      <td>GoogleDriveTransfer/BackOffice/Регламенты/СТП/...</td>\n      <td>application/vnd.openxmlformats-officedocument....</td>\n      <td>[GoogleDriveTransfer, BackOffice, Регламенты, ...</td>\n      <td>STP_2_02.docx</td>\n    </tr>\n    <tr>\n      <th>...</th>\n      <td>...</td>\n      <td>...</td>\n      <td>...</td>\n      <td>...</td>\n    </tr>\n    <tr>\n      <th>179046</th>\n      <td>GoogleDriveTransfer/Юрист UA/Укр Суд/Опекунски...</td>\n      <td>text/plain</td>\n      <td>[GoogleDriveTransfer, Юрист UA, Укр Суд, Опеку...</td>\n      <td>Опекунский совет.docx</td>\n    </tr>\n    <tr>\n      <th>179047</th>\n      <td>GoogleDriveTransfer/Юрист UA/Укр Суд/Ответ в о...</td>\n      <td>text/plain</td>\n      <td>[GoogleDriveTransfer, Юрист UA, Укр Суд, Ответ...</td>\n      <td>Ответ в опекнский.docx</td>\n    </tr>\n    <tr>\n      <th>179048</th>\n      <td>GoogleDriveTransfer/Юрист UA/Укр Суд/Прокурату...</td>\n      <td>text/plain</td>\n      <td>[GoogleDriveTransfer, Юрист UA, Укр Суд, Проку...</td>\n      <td>Прокуратура московского р-на.docx</td>\n    </tr>\n    <tr>\n      <th>179049</th>\n      <td>GoogleDriveTransfer/Юрист UA/договір коворкінг...</td>\n      <td>text/plain</td>\n      <td>[GoogleDriveTransfer, Юрист UA, договір коворк...</td>\n      <td>договір коворкінгу.docx</td>\n    </tr>\n    <tr>\n      <th>179050</th>\n      <td>GoogleDriveTransfer/Юрист UA/правила роботи ко...</td>\n      <td>text/plain</td>\n      <td>[GoogleDriveTransfer, Юрист UA, правила роботи...</td>\n      <td>правила роботи коворкінгу.docx</td>\n    </tr>\n  </tbody>\n</table>\n<p>179051 rows × 4 columns</p>\n</div>"
     },
     "execution_count": 14,
     "metadata": {},
     "output_type": "execute_result"
    }
   ],
   "source": [
    "df['file'] = df['path_list'].apply(lambda x: x[-1])\n",
    "df"
   ],
   "metadata": {
    "collapsed": false,
    "pycharm": {
     "name": "#%%\n"
    }
   }
  },
  {
   "cell_type": "code",
   "execution_count": 15,
   "outputs": [
    {
     "data": {
      "text/plain": "                                                     path  \\\n0       GoogleDriveTransfer/BackOffice/Регламенты/desk...   \n1       GoogleDriveTransfer/BackOffice/Регламенты/Веде...   \n2       GoogleDriveTransfer/BackOffice/Регламенты/Новы...   \n3       GoogleDriveTransfer/BackOffice/Регламенты/Прав...   \n4       GoogleDriveTransfer/BackOffice/Регламенты/СТП/...   \n...                                                   ...   \n179046  GoogleDriveTransfer/Юрист UA/Укр Суд/Опекунски...   \n179047  GoogleDriveTransfer/Юрист UA/Укр Суд/Ответ в о...   \n179048  GoogleDriveTransfer/Юрист UA/Укр Суд/Прокурату...   \n179049  GoogleDriveTransfer/Юрист UA/договір коворкінг...   \n179050  GoogleDriveTransfer/Юрист UA/правила роботи ко...   \n\n                                             content_type  \\\n0                                              text/plain   \n1       application/vnd.openxmlformats-officedocument....   \n2       application/vnd.openxmlformats-officedocument....   \n3       application/vnd.openxmlformats-officedocument....   \n4       application/vnd.openxmlformats-officedocument....   \n...                                                   ...   \n179046                                         text/plain   \n179047                                         text/plain   \n179048                                         text/plain   \n179049                                         text/plain   \n179050                                         text/plain   \n\n                                                path_list  \\\n0       [GoogleDriveTransfer, BackOffice, Регламенты, ...   \n1       [GoogleDriveTransfer, BackOffice, Регламенты, ...   \n2       [GoogleDriveTransfer, BackOffice, Регламенты, ...   \n3       [GoogleDriveTransfer, BackOffice, Регламенты, ...   \n4       [GoogleDriveTransfer, BackOffice, Регламенты, ...   \n...                                                   ...   \n179046  [GoogleDriveTransfer, Юрист UA, Укр Суд, Опеку...   \n179047  [GoogleDriveTransfer, Юрист UA, Укр Суд, Ответ...   \n179048  [GoogleDriveTransfer, Юрист UA, Укр Суд, Проку...   \n179049  [GoogleDriveTransfer, Юрист UA, договір коворк...   \n179050  [GoogleDriveTransfer, Юрист UA, правила роботи...   \n\n                                                     file  \\\n0                                             desktop.ini   \n1                                     Ведение продаж.docx   \n2                                     Новый документ.docx   \n3       Правила формирования_ отправки закр. док._дого...   \n4                                           STP_2_02.docx   \n...                                                   ...   \n179046                              Опекунский совет.docx   \n179047                             Ответ в опекнский.docx   \n179048                  Прокуратура московского р-на.docx   \n179049                            договір коворкінгу.docx   \n179050                     правила роботи коворкінгу.docx   \n\n                                                path_name  \n0               GoogleDriveTransfer/BackOffice/Регламенты  \n1               GoogleDriveTransfer/BackOffice/Регламенты  \n2               GoogleDriveTransfer/BackOffice/Регламенты  \n3               GoogleDriveTransfer/BackOffice/Регламенты  \n4       GoogleDriveTransfer/BackOffice/Регламенты/СТП/STP  \n...                                                   ...  \n179046               GoogleDriveTransfer/Юрист UA/Укр Суд  \n179047               GoogleDriveTransfer/Юрист UA/Укр Суд  \n179048               GoogleDriveTransfer/Юрист UA/Укр Суд  \n179049                       GoogleDriveTransfer/Юрист UA  \n179050                       GoogleDriveTransfer/Юрист UA  \n\n[179051 rows x 5 columns]",
      "text/html": "<div>\n<style scoped>\n    .dataframe tbody tr th:only-of-type {\n        vertical-align: middle;\n    }\n\n    .dataframe tbody tr th {\n        vertical-align: top;\n    }\n\n    .dataframe thead th {\n        text-align: right;\n    }\n</style>\n<table border=\"1\" class=\"dataframe\">\n  <thead>\n    <tr style=\"text-align: right;\">\n      <th></th>\n      <th>path</th>\n      <th>content_type</th>\n      <th>path_list</th>\n      <th>file</th>\n      <th>path_name</th>\n    </tr>\n  </thead>\n  <tbody>\n    <tr>\n      <th>0</th>\n      <td>GoogleDriveTransfer/BackOffice/Регламенты/desk...</td>\n      <td>text/plain</td>\n      <td>[GoogleDriveTransfer, BackOffice, Регламенты, ...</td>\n      <td>desktop.ini</td>\n      <td>GoogleDriveTransfer/BackOffice/Регламенты</td>\n    </tr>\n    <tr>\n      <th>1</th>\n      <td>GoogleDriveTransfer/BackOffice/Регламенты/Веде...</td>\n      <td>application/vnd.openxmlformats-officedocument....</td>\n      <td>[GoogleDriveTransfer, BackOffice, Регламенты, ...</td>\n      <td>Ведение продаж.docx</td>\n      <td>GoogleDriveTransfer/BackOffice/Регламенты</td>\n    </tr>\n    <tr>\n      <th>2</th>\n      <td>GoogleDriveTransfer/BackOffice/Регламенты/Новы...</td>\n      <td>application/vnd.openxmlformats-officedocument....</td>\n      <td>[GoogleDriveTransfer, BackOffice, Регламенты, ...</td>\n      <td>Новый документ.docx</td>\n      <td>GoogleDriveTransfer/BackOffice/Регламенты</td>\n    </tr>\n    <tr>\n      <th>3</th>\n      <td>GoogleDriveTransfer/BackOffice/Регламенты/Прав...</td>\n      <td>application/vnd.openxmlformats-officedocument....</td>\n      <td>[GoogleDriveTransfer, BackOffice, Регламенты, ...</td>\n      <td>Правила формирования_ отправки закр. док._дого...</td>\n      <td>GoogleDriveTransfer/BackOffice/Регламенты</td>\n    </tr>\n    <tr>\n      <th>4</th>\n      <td>GoogleDriveTransfer/BackOffice/Регламенты/СТП/...</td>\n      <td>application/vnd.openxmlformats-officedocument....</td>\n      <td>[GoogleDriveTransfer, BackOffice, Регламенты, ...</td>\n      <td>STP_2_02.docx</td>\n      <td>GoogleDriveTransfer/BackOffice/Регламенты/СТП/STP</td>\n    </tr>\n    <tr>\n      <th>...</th>\n      <td>...</td>\n      <td>...</td>\n      <td>...</td>\n      <td>...</td>\n      <td>...</td>\n    </tr>\n    <tr>\n      <th>179046</th>\n      <td>GoogleDriveTransfer/Юрист UA/Укр Суд/Опекунски...</td>\n      <td>text/plain</td>\n      <td>[GoogleDriveTransfer, Юрист UA, Укр Суд, Опеку...</td>\n      <td>Опекунский совет.docx</td>\n      <td>GoogleDriveTransfer/Юрист UA/Укр Суд</td>\n    </tr>\n    <tr>\n      <th>179047</th>\n      <td>GoogleDriveTransfer/Юрист UA/Укр Суд/Ответ в о...</td>\n      <td>text/plain</td>\n      <td>[GoogleDriveTransfer, Юрист UA, Укр Суд, Ответ...</td>\n      <td>Ответ в опекнский.docx</td>\n      <td>GoogleDriveTransfer/Юрист UA/Укр Суд</td>\n    </tr>\n    <tr>\n      <th>179048</th>\n      <td>GoogleDriveTransfer/Юрист UA/Укр Суд/Прокурату...</td>\n      <td>text/plain</td>\n      <td>[GoogleDriveTransfer, Юрист UA, Укр Суд, Проку...</td>\n      <td>Прокуратура московского р-на.docx</td>\n      <td>GoogleDriveTransfer/Юрист UA/Укр Суд</td>\n    </tr>\n    <tr>\n      <th>179049</th>\n      <td>GoogleDriveTransfer/Юрист UA/договір коворкінг...</td>\n      <td>text/plain</td>\n      <td>[GoogleDriveTransfer, Юрист UA, договір коворк...</td>\n      <td>договір коворкінгу.docx</td>\n      <td>GoogleDriveTransfer/Юрист UA</td>\n    </tr>\n    <tr>\n      <th>179050</th>\n      <td>GoogleDriveTransfer/Юрист UA/правила роботи ко...</td>\n      <td>text/plain</td>\n      <td>[GoogleDriveTransfer, Юрист UA, правила роботи...</td>\n      <td>правила роботи коворкінгу.docx</td>\n      <td>GoogleDriveTransfer/Юрист UA</td>\n    </tr>\n  </tbody>\n</table>\n<p>179051 rows × 5 columns</p>\n</div>"
     },
     "execution_count": 15,
     "metadata": {},
     "output_type": "execute_result"
    }
   ],
   "source": [
    "df['path_name'] = df['path_list'].apply(lambda x: '/'.join(x[:-1]))\n",
    "df"
   ],
   "metadata": {
    "collapsed": false,
    "pycharm": {
     "name": "#%%\n"
    }
   }
  },
  {
   "cell_type": "code",
   "execution_count": 16,
   "outputs": [
    {
     "data": {
      "text/plain": "                                                     path  \\\n0       GoogleDriveTransfer/BackOffice/Регламенты/desk...   \n1       GoogleDriveTransfer/BackOffice/Регламенты/Веде...   \n2       GoogleDriveTransfer/BackOffice/Регламенты/Новы...   \n3       GoogleDriveTransfer/BackOffice/Регламенты/Прав...   \n4       GoogleDriveTransfer/BackOffice/Регламенты/СТП/...   \n...                                                   ...   \n179046  GoogleDriveTransfer/Юрист UA/Укр Суд/Опекунски...   \n179047  GoogleDriveTransfer/Юрист UA/Укр Суд/Ответ в о...   \n179048  GoogleDriveTransfer/Юрист UA/Укр Суд/Прокурату...   \n179049  GoogleDriveTransfer/Юрист UA/договір коворкінг...   \n179050  GoogleDriveTransfer/Юрист UA/правила роботи ко...   \n\n                                             content_type  \\\n0                                              text/plain   \n1       application/vnd.openxmlformats-officedocument....   \n2       application/vnd.openxmlformats-officedocument....   \n3       application/vnd.openxmlformats-officedocument....   \n4       application/vnd.openxmlformats-officedocument....   \n...                                                   ...   \n179046                                         text/plain   \n179047                                         text/plain   \n179048                                         text/plain   \n179049                                         text/plain   \n179050                                         text/plain   \n\n                                                path_list  \\\n0       [GoogleDriveTransfer, BackOffice, Регламенты, ...   \n1       [GoogleDriveTransfer, BackOffice, Регламенты, ...   \n2       [GoogleDriveTransfer, BackOffice, Регламенты, ...   \n3       [GoogleDriveTransfer, BackOffice, Регламенты, ...   \n4       [GoogleDriveTransfer, BackOffice, Регламенты, ...   \n...                                                   ...   \n179046  [GoogleDriveTransfer, Юрист UA, Укр Суд, Опеку...   \n179047  [GoogleDriveTransfer, Юрист UA, Укр Суд, Ответ...   \n179048  [GoogleDriveTransfer, Юрист UA, Укр Суд, Проку...   \n179049  [GoogleDriveTransfer, Юрист UA, договір коворк...   \n179050  [GoogleDriveTransfer, Юрист UA, правила роботи...   \n\n                                                     file  \\\n0                                             desktop.ini   \n1                                     Ведение продаж.docx   \n2                                     Новый документ.docx   \n3       Правила формирования_ отправки закр. док._дого...   \n4                                           STP_2_02.docx   \n...                                                   ...   \n179046                              Опекунский совет.docx   \n179047                             Ответ в опекнский.docx   \n179048                  Прокуратура московского р-на.docx   \n179049                            договір коворкінгу.docx   \n179050                     правила роботи коворкінгу.docx   \n\n                                                path_name    ex  \n0               GoogleDriveTransfer/BackOffice/Регламенты   ini  \n1               GoogleDriveTransfer/BackOffice/Регламенты  docx  \n2               GoogleDriveTransfer/BackOffice/Регламенты  docx  \n3               GoogleDriveTransfer/BackOffice/Регламенты  docx  \n4       GoogleDriveTransfer/BackOffice/Регламенты/СТП/STP  docx  \n...                                                   ...   ...  \n179046               GoogleDriveTransfer/Юрист UA/Укр Суд  docx  \n179047               GoogleDriveTransfer/Юрист UA/Укр Суд  docx  \n179048               GoogleDriveTransfer/Юрист UA/Укр Суд  docx  \n179049                       GoogleDriveTransfer/Юрист UA  docx  \n179050                       GoogleDriveTransfer/Юрист UA  docx  \n\n[179051 rows x 6 columns]",
      "text/html": "<div>\n<style scoped>\n    .dataframe tbody tr th:only-of-type {\n        vertical-align: middle;\n    }\n\n    .dataframe tbody tr th {\n        vertical-align: top;\n    }\n\n    .dataframe thead th {\n        text-align: right;\n    }\n</style>\n<table border=\"1\" class=\"dataframe\">\n  <thead>\n    <tr style=\"text-align: right;\">\n      <th></th>\n      <th>path</th>\n      <th>content_type</th>\n      <th>path_list</th>\n      <th>file</th>\n      <th>path_name</th>\n      <th>ex</th>\n    </tr>\n  </thead>\n  <tbody>\n    <tr>\n      <th>0</th>\n      <td>GoogleDriveTransfer/BackOffice/Регламенты/desk...</td>\n      <td>text/plain</td>\n      <td>[GoogleDriveTransfer, BackOffice, Регламенты, ...</td>\n      <td>desktop.ini</td>\n      <td>GoogleDriveTransfer/BackOffice/Регламенты</td>\n      <td>ini</td>\n    </tr>\n    <tr>\n      <th>1</th>\n      <td>GoogleDriveTransfer/BackOffice/Регламенты/Веде...</td>\n      <td>application/vnd.openxmlformats-officedocument....</td>\n      <td>[GoogleDriveTransfer, BackOffice, Регламенты, ...</td>\n      <td>Ведение продаж.docx</td>\n      <td>GoogleDriveTransfer/BackOffice/Регламенты</td>\n      <td>docx</td>\n    </tr>\n    <tr>\n      <th>2</th>\n      <td>GoogleDriveTransfer/BackOffice/Регламенты/Новы...</td>\n      <td>application/vnd.openxmlformats-officedocument....</td>\n      <td>[GoogleDriveTransfer, BackOffice, Регламенты, ...</td>\n      <td>Новый документ.docx</td>\n      <td>GoogleDriveTransfer/BackOffice/Регламенты</td>\n      <td>docx</td>\n    </tr>\n    <tr>\n      <th>3</th>\n      <td>GoogleDriveTransfer/BackOffice/Регламенты/Прав...</td>\n      <td>application/vnd.openxmlformats-officedocument....</td>\n      <td>[GoogleDriveTransfer, BackOffice, Регламенты, ...</td>\n      <td>Правила формирования_ отправки закр. док._дого...</td>\n      <td>GoogleDriveTransfer/BackOffice/Регламенты</td>\n      <td>docx</td>\n    </tr>\n    <tr>\n      <th>4</th>\n      <td>GoogleDriveTransfer/BackOffice/Регламенты/СТП/...</td>\n      <td>application/vnd.openxmlformats-officedocument....</td>\n      <td>[GoogleDriveTransfer, BackOffice, Регламенты, ...</td>\n      <td>STP_2_02.docx</td>\n      <td>GoogleDriveTransfer/BackOffice/Регламенты/СТП/STP</td>\n      <td>docx</td>\n    </tr>\n    <tr>\n      <th>...</th>\n      <td>...</td>\n      <td>...</td>\n      <td>...</td>\n      <td>...</td>\n      <td>...</td>\n      <td>...</td>\n    </tr>\n    <tr>\n      <th>179046</th>\n      <td>GoogleDriveTransfer/Юрист UA/Укр Суд/Опекунски...</td>\n      <td>text/plain</td>\n      <td>[GoogleDriveTransfer, Юрист UA, Укр Суд, Опеку...</td>\n      <td>Опекунский совет.docx</td>\n      <td>GoogleDriveTransfer/Юрист UA/Укр Суд</td>\n      <td>docx</td>\n    </tr>\n    <tr>\n      <th>179047</th>\n      <td>GoogleDriveTransfer/Юрист UA/Укр Суд/Ответ в о...</td>\n      <td>text/plain</td>\n      <td>[GoogleDriveTransfer, Юрист UA, Укр Суд, Ответ...</td>\n      <td>Ответ в опекнский.docx</td>\n      <td>GoogleDriveTransfer/Юрист UA/Укр Суд</td>\n      <td>docx</td>\n    </tr>\n    <tr>\n      <th>179048</th>\n      <td>GoogleDriveTransfer/Юрист UA/Укр Суд/Прокурату...</td>\n      <td>text/plain</td>\n      <td>[GoogleDriveTransfer, Юрист UA, Укр Суд, Проку...</td>\n      <td>Прокуратура московского р-на.docx</td>\n      <td>GoogleDriveTransfer/Юрист UA/Укр Суд</td>\n      <td>docx</td>\n    </tr>\n    <tr>\n      <th>179049</th>\n      <td>GoogleDriveTransfer/Юрист UA/договір коворкінг...</td>\n      <td>text/plain</td>\n      <td>[GoogleDriveTransfer, Юрист UA, договір коворк...</td>\n      <td>договір коворкінгу.docx</td>\n      <td>GoogleDriveTransfer/Юрист UA</td>\n      <td>docx</td>\n    </tr>\n    <tr>\n      <th>179050</th>\n      <td>GoogleDriveTransfer/Юрист UA/правила роботи ко...</td>\n      <td>text/plain</td>\n      <td>[GoogleDriveTransfer, Юрист UA, правила роботи...</td>\n      <td>правила роботи коворкінгу.docx</td>\n      <td>GoogleDriveTransfer/Юрист UA</td>\n      <td>docx</td>\n    </tr>\n  </tbody>\n</table>\n<p>179051 rows × 6 columns</p>\n</div>"
     },
     "execution_count": 16,
     "metadata": {},
     "output_type": "execute_result"
    }
   ],
   "source": [
    "def get_ex1(row):\n",
    "    try:\n",
    "        s1 = row\n",
    "        ex = s1.rsplit('.', 1)\n",
    "        return ex[1]\n",
    "    except:\n",
    "        return 'None'\n",
    "df['ex'] = df['file'].apply(get_ex1)\n",
    "df"
   ],
   "metadata": {
    "collapsed": false,
    "pycharm": {
     "name": "#%%\n"
    }
   }
  },
  {
   "cell_type": "code",
   "execution_count": null,
   "outputs": [],
   "source": [],
   "metadata": {
    "collapsed": false,
    "pycharm": {
     "name": "#%%\n"
    }
   }
  },
  {
   "cell_type": "code",
   "execution_count": null,
   "outputs": [],
   "source": [],
   "metadata": {
    "collapsed": false,
    "pycharm": {
     "name": "#%%\n"
    }
   }
  },
  {
   "cell_type": "code",
   "execution_count": 46,
   "outputs": [
    {
     "data": {
      "text/plain": "                                                        0  \\\n0                                               1/tmp.txt   \n1                                              1/trt1.txt   \n2       10/275/03_Чертеж_планировки_территории_М_1_500...   \n3       10/275/276/Загрузка_тележки_в_нагревательную_к...   \n4       10/275/276/Нагревательный_блок_с_возможностью_...   \n...                                                   ...   \n184647                    test5/WebGL/Game1/Game_new.wasm   \n184648            test5/WebGL/Game2/Running in zavod.data   \n184649    test5/WebGL/Game2/Running in zavod.framework.js   \n184650       test5/WebGL/Game2/Running in zavod.loader.js   \n184651            test5/WebGL/Game2/Running in zavod.wasm   \n\n                               1  \n0                     text/plain  \n1                     text/plain  \n2                application/pdf  \n3                      video/mp4  \n4                     image/jpeg  \n...                          ...  \n184647          application/wasm  \n184648  application/octet-stream  \n184649    application/javascript  \n184650    application/javascript  \n184651          application/wasm  \n\n[184652 rows x 2 columns]",
      "text/html": "<div>\n<style scoped>\n    .dataframe tbody tr th:only-of-type {\n        vertical-align: middle;\n    }\n\n    .dataframe tbody tr th {\n        vertical-align: top;\n    }\n\n    .dataframe thead th {\n        text-align: right;\n    }\n</style>\n<table border=\"1\" class=\"dataframe\">\n  <thead>\n    <tr style=\"text-align: right;\">\n      <th></th>\n      <th>0</th>\n      <th>1</th>\n    </tr>\n  </thead>\n  <tbody>\n    <tr>\n      <th>0</th>\n      <td>1/tmp.txt</td>\n      <td>text/plain</td>\n    </tr>\n    <tr>\n      <th>1</th>\n      <td>1/trt1.txt</td>\n      <td>text/plain</td>\n    </tr>\n    <tr>\n      <th>2</th>\n      <td>10/275/03_Чертеж_планировки_территории_М_1_500...</td>\n      <td>application/pdf</td>\n    </tr>\n    <tr>\n      <th>3</th>\n      <td>10/275/276/Загрузка_тележки_в_нагревательную_к...</td>\n      <td>video/mp4</td>\n    </tr>\n    <tr>\n      <th>4</th>\n      <td>10/275/276/Нагревательный_блок_с_возможностью_...</td>\n      <td>image/jpeg</td>\n    </tr>\n    <tr>\n      <th>...</th>\n      <td>...</td>\n      <td>...</td>\n    </tr>\n    <tr>\n      <th>184647</th>\n      <td>test5/WebGL/Game1/Game_new.wasm</td>\n      <td>application/wasm</td>\n    </tr>\n    <tr>\n      <th>184648</th>\n      <td>test5/WebGL/Game2/Running in zavod.data</td>\n      <td>application/octet-stream</td>\n    </tr>\n    <tr>\n      <th>184649</th>\n      <td>test5/WebGL/Game2/Running in zavod.framework.js</td>\n      <td>application/javascript</td>\n    </tr>\n    <tr>\n      <th>184650</th>\n      <td>test5/WebGL/Game2/Running in zavod.loader.js</td>\n      <td>application/javascript</td>\n    </tr>\n    <tr>\n      <th>184651</th>\n      <td>test5/WebGL/Game2/Running in zavod.wasm</td>\n      <td>application/wasm</td>\n    </tr>\n  </tbody>\n</table>\n<p>184652 rows × 2 columns</p>\n</div>"
     },
     "execution_count": 46,
     "metadata": {},
     "output_type": "execute_result"
    }
   ],
   "source": [
    "# folders = [(blob.name, blob.content_type) for blob in bucket.list_blobs()]\n",
    "folders = [(blob.name, blob.content_type) for blob in bucket.list_blobs()]\n",
    "df1 = pd.DataFrame(folders)\n",
    "df1"
   ],
   "metadata": {
    "collapsed": false,
    "pycharm": {
     "name": "#%%\n"
    }
   }
  },
  {
   "cell_type": "code",
   "execution_count": 48,
   "outputs": [],
   "source": [
    "df1.columns = ['path', 'content_type']"
   ],
   "metadata": {
    "collapsed": false,
    "pycharm": {
     "name": "#%%\n"
    }
   }
  },
  {
   "cell_type": "code",
   "execution_count": 49,
   "outputs": [
    {
     "data": {
      "text/plain": "                                                     path  \\\n0                                               1/tmp.txt   \n1                                              1/trt1.txt   \n2       10/275/03_Чертеж_планировки_территории_М_1_500...   \n3       10/275/276/Загрузка_тележки_в_нагревательную_к...   \n4       10/275/276/Нагревательный_блок_с_возможностью_...   \n...                                                   ...   \n184647                    test5/WebGL/Game1/Game_new.wasm   \n184648            test5/WebGL/Game2/Running in zavod.data   \n184649    test5/WebGL/Game2/Running in zavod.framework.js   \n184650       test5/WebGL/Game2/Running in zavod.loader.js   \n184651            test5/WebGL/Game2/Running in zavod.wasm   \n\n                    content_type  \n0                     text/plain  \n1                     text/plain  \n2                application/pdf  \n3                      video/mp4  \n4                     image/jpeg  \n...                          ...  \n184647          application/wasm  \n184648  application/octet-stream  \n184649    application/javascript  \n184650    application/javascript  \n184651          application/wasm  \n\n[5601 rows x 2 columns]",
      "text/html": "<div>\n<style scoped>\n    .dataframe tbody tr th:only-of-type {\n        vertical-align: middle;\n    }\n\n    .dataframe tbody tr th {\n        vertical-align: top;\n    }\n\n    .dataframe thead th {\n        text-align: right;\n    }\n</style>\n<table border=\"1\" class=\"dataframe\">\n  <thead>\n    <tr style=\"text-align: right;\">\n      <th></th>\n      <th>path</th>\n      <th>content_type</th>\n    </tr>\n  </thead>\n  <tbody>\n    <tr>\n      <th>0</th>\n      <td>1/tmp.txt</td>\n      <td>text/plain</td>\n    </tr>\n    <tr>\n      <th>1</th>\n      <td>1/trt1.txt</td>\n      <td>text/plain</td>\n    </tr>\n    <tr>\n      <th>2</th>\n      <td>10/275/03_Чертеж_планировки_территории_М_1_500...</td>\n      <td>application/pdf</td>\n    </tr>\n    <tr>\n      <th>3</th>\n      <td>10/275/276/Загрузка_тележки_в_нагревательную_к...</td>\n      <td>video/mp4</td>\n    </tr>\n    <tr>\n      <th>4</th>\n      <td>10/275/276/Нагревательный_блок_с_возможностью_...</td>\n      <td>image/jpeg</td>\n    </tr>\n    <tr>\n      <th>...</th>\n      <td>...</td>\n      <td>...</td>\n    </tr>\n    <tr>\n      <th>184647</th>\n      <td>test5/WebGL/Game1/Game_new.wasm</td>\n      <td>application/wasm</td>\n    </tr>\n    <tr>\n      <th>184648</th>\n      <td>test5/WebGL/Game2/Running in zavod.data</td>\n      <td>application/octet-stream</td>\n    </tr>\n    <tr>\n      <th>184649</th>\n      <td>test5/WebGL/Game2/Running in zavod.framework.js</td>\n      <td>application/javascript</td>\n    </tr>\n    <tr>\n      <th>184650</th>\n      <td>test5/WebGL/Game2/Running in zavod.loader.js</td>\n      <td>application/javascript</td>\n    </tr>\n    <tr>\n      <th>184651</th>\n      <td>test5/WebGL/Game2/Running in zavod.wasm</td>\n      <td>application/wasm</td>\n    </tr>\n  </tbody>\n</table>\n<p>5601 rows × 2 columns</p>\n</div>"
     },
     "execution_count": 49,
     "metadata": {},
     "output_type": "execute_result"
    }
   ],
   "source": [
    "df1 = df1[~df1['path'].str.startswith('GoogleDriveTransfer/')]\n",
    "df1"
   ],
   "metadata": {
    "collapsed": false,
    "pycharm": {
     "name": "#%%\n"
    }
   }
  },
  {
   "cell_type": "code",
   "execution_count": 4,
   "outputs": [
    {
     "ename": "NameError",
     "evalue": "name 'df1' is not defined",
     "output_type": "error",
     "traceback": [
      "\u001B[1;31m---------------------------------------------------------------------------\u001B[0m",
      "\u001B[1;31mNameError\u001B[0m                                 Traceback (most recent call last)",
      "\u001B[1;32m~\\AppData\\Local\\Temp/ipykernel_16700/2693713277.py\u001B[0m in \u001B[0;36m<module>\u001B[1;34m\u001B[0m\n\u001B[1;32m----> 1\u001B[1;33m \u001B[0mdf1\u001B[0m\u001B[1;33m.\u001B[0m\u001B[0mto_csv\u001B[0m\u001B[1;33m(\u001B[0m\u001B[1;34m'files_bucket_all.csv'\u001B[0m\u001B[1;33m,\u001B[0m \u001B[0mindex\u001B[0m\u001B[1;33m=\u001B[0m\u001B[1;32mFalse\u001B[0m\u001B[1;33m)\u001B[0m\u001B[1;33m\u001B[0m\u001B[1;33m\u001B[0m\u001B[0m\n\u001B[0m",
      "\u001B[1;31mNameError\u001B[0m: name 'df1' is not defined"
     ]
    }
   ],
   "source": [
    "df1.to_csv('files_bucket_all.csv', index=False)"
   ],
   "metadata": {
    "collapsed": false,
    "pycharm": {
     "name": "#%%\n"
    }
   }
  },
  {
   "cell_type": "code",
   "execution_count": 5,
   "outputs": [
    {
     "data": {
      "text/plain": "                                                   path  \\\n0                                             1/tmp.txt   \n1                                            1/trt1.txt   \n2     10/275/03_Чертеж_планировки_территории_М_1_500...   \n3     10/275/276/Загрузка_тележки_в_нагревательную_к...   \n4     10/275/276/Нагревательный_блок_с_возможностью_...   \n...                                                 ...   \n5596                    test5/WebGL/Game1/Game_new.wasm   \n5597            test5/WebGL/Game2/Running in zavod.data   \n5598    test5/WebGL/Game2/Running in zavod.framework.js   \n5599       test5/WebGL/Game2/Running in zavod.loader.js   \n5600            test5/WebGL/Game2/Running in zavod.wasm   \n\n                  content_type  \n0                   text/plain  \n1                   text/plain  \n2              application/pdf  \n3                    video/mp4  \n4                   image/jpeg  \n...                        ...  \n5596          application/wasm  \n5597  application/octet-stream  \n5598    application/javascript  \n5599    application/javascript  \n5600          application/wasm  \n\n[5601 rows x 2 columns]",
      "text/html": "<div>\n<style scoped>\n    .dataframe tbody tr th:only-of-type {\n        vertical-align: middle;\n    }\n\n    .dataframe tbody tr th {\n        vertical-align: top;\n    }\n\n    .dataframe thead th {\n        text-align: right;\n    }\n</style>\n<table border=\"1\" class=\"dataframe\">\n  <thead>\n    <tr style=\"text-align: right;\">\n      <th></th>\n      <th>path</th>\n      <th>content_type</th>\n    </tr>\n  </thead>\n  <tbody>\n    <tr>\n      <th>0</th>\n      <td>1/tmp.txt</td>\n      <td>text/plain</td>\n    </tr>\n    <tr>\n      <th>1</th>\n      <td>1/trt1.txt</td>\n      <td>text/plain</td>\n    </tr>\n    <tr>\n      <th>2</th>\n      <td>10/275/03_Чертеж_планировки_территории_М_1_500...</td>\n      <td>application/pdf</td>\n    </tr>\n    <tr>\n      <th>3</th>\n      <td>10/275/276/Загрузка_тележки_в_нагревательную_к...</td>\n      <td>video/mp4</td>\n    </tr>\n    <tr>\n      <th>4</th>\n      <td>10/275/276/Нагревательный_блок_с_возможностью_...</td>\n      <td>image/jpeg</td>\n    </tr>\n    <tr>\n      <th>...</th>\n      <td>...</td>\n      <td>...</td>\n    </tr>\n    <tr>\n      <th>5596</th>\n      <td>test5/WebGL/Game1/Game_new.wasm</td>\n      <td>application/wasm</td>\n    </tr>\n    <tr>\n      <th>5597</th>\n      <td>test5/WebGL/Game2/Running in zavod.data</td>\n      <td>application/octet-stream</td>\n    </tr>\n    <tr>\n      <th>5598</th>\n      <td>test5/WebGL/Game2/Running in zavod.framework.js</td>\n      <td>application/javascript</td>\n    </tr>\n    <tr>\n      <th>5599</th>\n      <td>test5/WebGL/Game2/Running in zavod.loader.js</td>\n      <td>application/javascript</td>\n    </tr>\n    <tr>\n      <th>5600</th>\n      <td>test5/WebGL/Game2/Running in zavod.wasm</td>\n      <td>application/wasm</td>\n    </tr>\n  </tbody>\n</table>\n<p>5601 rows × 2 columns</p>\n</div>"
     },
     "execution_count": 5,
     "metadata": {},
     "output_type": "execute_result"
    }
   ],
   "source": [
    "df1 = pd.read_csv('files_bucket_all.csv')\n",
    "df1"
   ],
   "metadata": {
    "collapsed": false,
    "pycharm": {
     "name": "#%%\n"
    }
   }
  },
  {
   "cell_type": "code",
   "execution_count": 33,
   "outputs": [
    {
     "data": {
      "text/plain": "                                                     path\n0                                               1/tmp.txt\n1                                              1/trt1.txt\n2       10/275/03_Чертеж_планировки_территории_М_1_500...\n3       10/275/276/Загрузка_тележки_в_нагревательную_к...\n4       10/275/276/Нагревательный_блок_с_возможностью_...\n...                                                   ...\n184633                    test5/WebGL/Game1/Game_new.wasm\n184634            test5/WebGL/Game2/Running in zavod.data\n184635    test5/WebGL/Game2/Running in zavod.framework.js\n184636       test5/WebGL/Game2/Running in zavod.loader.js\n184637            test5/WebGL/Game2/Running in zavod.wasm\n\n[5587 rows x 1 columns]",
      "text/html": "<div>\n<style scoped>\n    .dataframe tbody tr th:only-of-type {\n        vertical-align: middle;\n    }\n\n    .dataframe tbody tr th {\n        vertical-align: top;\n    }\n\n    .dataframe thead th {\n        text-align: right;\n    }\n</style>\n<table border=\"1\" class=\"dataframe\">\n  <thead>\n    <tr style=\"text-align: right;\">\n      <th></th>\n      <th>path</th>\n    </tr>\n  </thead>\n  <tbody>\n    <tr>\n      <th>0</th>\n      <td>1/tmp.txt</td>\n    </tr>\n    <tr>\n      <th>1</th>\n      <td>1/trt1.txt</td>\n    </tr>\n    <tr>\n      <th>2</th>\n      <td>10/275/03_Чертеж_планировки_территории_М_1_500...</td>\n    </tr>\n    <tr>\n      <th>3</th>\n      <td>10/275/276/Загрузка_тележки_в_нагревательную_к...</td>\n    </tr>\n    <tr>\n      <th>4</th>\n      <td>10/275/276/Нагревательный_блок_с_возможностью_...</td>\n    </tr>\n    <tr>\n      <th>...</th>\n      <td>...</td>\n    </tr>\n    <tr>\n      <th>184633</th>\n      <td>test5/WebGL/Game1/Game_new.wasm</td>\n    </tr>\n    <tr>\n      <th>184634</th>\n      <td>test5/WebGL/Game2/Running in zavod.data</td>\n    </tr>\n    <tr>\n      <th>184635</th>\n      <td>test5/WebGL/Game2/Running in zavod.framework.js</td>\n    </tr>\n    <tr>\n      <th>184636</th>\n      <td>test5/WebGL/Game2/Running in zavod.loader.js</td>\n    </tr>\n    <tr>\n      <th>184637</th>\n      <td>test5/WebGL/Game2/Running in zavod.wasm</td>\n    </tr>\n  </tbody>\n</table>\n<p>5587 rows × 1 columns</p>\n</div>"
     },
     "execution_count": 33,
     "metadata": {},
     "output_type": "execute_result"
    }
   ],
   "source": [
    "df3 = df1[~df1['path'].str.startswith('GoogleDriveTransfer/')]\n",
    "df3"
   ],
   "metadata": {
    "collapsed": false,
    "pycharm": {
     "name": "#%%\n"
    }
   }
  },
  {
   "cell_type": "code",
   "execution_count": 6,
   "outputs": [],
   "source": [
    "ls = []\n",
    "def get_ex(row):\n",
    "    try:\n",
    "        s1 = row[0]\n",
    "        l1 = s1.split('/')\n",
    "        ex = l1[-1].rsplit('.', 1)\n",
    "        return ex[1]\n",
    "    except:\n",
    "        ls.append(row[0])\n",
    "        return 'None'"
   ],
   "metadata": {
    "collapsed": false,
    "pycharm": {
     "name": "#%%\n"
    }
   }
  },
  {
   "cell_type": "code",
   "execution_count": 7,
   "outputs": [],
   "source": [
    "df3 = df1.copy()"
   ],
   "metadata": {
    "collapsed": false,
    "pycharm": {
     "name": "#%%\n"
    }
   }
  },
  {
   "cell_type": "code",
   "execution_count": 8,
   "outputs": [
    {
     "data": {
      "text/plain": "                                                   path  \\\n0                                             1/tmp.txt   \n1                                            1/trt1.txt   \n2     10/275/03_Чертеж_планировки_территории_М_1_500...   \n3     10/275/276/Загрузка_тележки_в_нагревательную_к...   \n4     10/275/276/Нагревательный_блок_с_возможностью_...   \n...                                                 ...   \n5596                    test5/WebGL/Game1/Game_new.wasm   \n5597            test5/WebGL/Game2/Running in zavod.data   \n5598    test5/WebGL/Game2/Running in zavod.framework.js   \n5599       test5/WebGL/Game2/Running in zavod.loader.js   \n5600            test5/WebGL/Game2/Running in zavod.wasm   \n\n                  content_type    ex  \n0                   text/plain   txt  \n1                   text/plain   txt  \n2              application/pdf   pdf  \n3                    video/mp4   mp4  \n4                   image/jpeg  jpeg  \n...                        ...   ...  \n5596          application/wasm  wasm  \n5597  application/octet-stream  data  \n5598    application/javascript    js  \n5599    application/javascript    js  \n5600          application/wasm  wasm  \n\n[5601 rows x 3 columns]",
      "text/html": "<div>\n<style scoped>\n    .dataframe tbody tr th:only-of-type {\n        vertical-align: middle;\n    }\n\n    .dataframe tbody tr th {\n        vertical-align: top;\n    }\n\n    .dataframe thead th {\n        text-align: right;\n    }\n</style>\n<table border=\"1\" class=\"dataframe\">\n  <thead>\n    <tr style=\"text-align: right;\">\n      <th></th>\n      <th>path</th>\n      <th>content_type</th>\n      <th>ex</th>\n    </tr>\n  </thead>\n  <tbody>\n    <tr>\n      <th>0</th>\n      <td>1/tmp.txt</td>\n      <td>text/plain</td>\n      <td>txt</td>\n    </tr>\n    <tr>\n      <th>1</th>\n      <td>1/trt1.txt</td>\n      <td>text/plain</td>\n      <td>txt</td>\n    </tr>\n    <tr>\n      <th>2</th>\n      <td>10/275/03_Чертеж_планировки_территории_М_1_500...</td>\n      <td>application/pdf</td>\n      <td>pdf</td>\n    </tr>\n    <tr>\n      <th>3</th>\n      <td>10/275/276/Загрузка_тележки_в_нагревательную_к...</td>\n      <td>video/mp4</td>\n      <td>mp4</td>\n    </tr>\n    <tr>\n      <th>4</th>\n      <td>10/275/276/Нагревательный_блок_с_возможностью_...</td>\n      <td>image/jpeg</td>\n      <td>jpeg</td>\n    </tr>\n    <tr>\n      <th>...</th>\n      <td>...</td>\n      <td>...</td>\n      <td>...</td>\n    </tr>\n    <tr>\n      <th>5596</th>\n      <td>test5/WebGL/Game1/Game_new.wasm</td>\n      <td>application/wasm</td>\n      <td>wasm</td>\n    </tr>\n    <tr>\n      <th>5597</th>\n      <td>test5/WebGL/Game2/Running in zavod.data</td>\n      <td>application/octet-stream</td>\n      <td>data</td>\n    </tr>\n    <tr>\n      <th>5598</th>\n      <td>test5/WebGL/Game2/Running in zavod.framework.js</td>\n      <td>application/javascript</td>\n      <td>js</td>\n    </tr>\n    <tr>\n      <th>5599</th>\n      <td>test5/WebGL/Game2/Running in zavod.loader.js</td>\n      <td>application/javascript</td>\n      <td>js</td>\n    </tr>\n    <tr>\n      <th>5600</th>\n      <td>test5/WebGL/Game2/Running in zavod.wasm</td>\n      <td>application/wasm</td>\n      <td>wasm</td>\n    </tr>\n  </tbody>\n</table>\n<p>5601 rows × 3 columns</p>\n</div>"
     },
     "execution_count": 8,
     "metadata": {},
     "output_type": "execute_result"
    }
   ],
   "source": [
    "df3['ex'] = df1.apply(get_ex, axis=1)\n",
    "df3"
   ],
   "metadata": {
    "collapsed": false,
    "pycharm": {
     "name": "#%%\n"
    }
   }
  },
  {
   "cell_type": "code",
   "execution_count": 9,
   "outputs": [
    {
     "data": {
      "text/plain": "                                                   path  \\\n0                                             1/tmp.txt   \n2     10/275/03_Чертеж_планировки_территории_М_1_500...   \n3     10/275/276/Загрузка_тележки_в_нагревательную_к...   \n4     10/275/276/Нагревательный_блок_с_возможностью_...   \n11                            10/275/277/Замечания.docx   \n...                                                 ...   \n5101                static/cms/fonts/src/_template.svgz   \n5243  static/cms/js/select2/select2_locale_en.js.tem...   \n5288                      static/cms/sass/cms.base.scss   \n5454          static/filer/css/maps/admin_filer.css.map   \n5455                 static/filer/fonts/FontAwesome.otf   \n\n                                           content_type        ex  \n0                                            text/plain       txt  \n2                                       application/pdf       pdf  \n3                                             video/mp4       mp4  \n4                                            image/jpeg      jpeg  \n11    application/vnd.openxmlformats-officedocument....      docx  \n...                                                 ...       ...  \n5101                                      image/svg+xml      svgz  \n5243                           application/octet-stream  template  \n5288                           application/octet-stream      scss  \n5454                                         text/plain       map  \n5455                           application/octet-stream       otf  \n\n[80 rows x 3 columns]",
      "text/html": "<div>\n<style scoped>\n    .dataframe tbody tr th:only-of-type {\n        vertical-align: middle;\n    }\n\n    .dataframe tbody tr th {\n        vertical-align: top;\n    }\n\n    .dataframe thead th {\n        text-align: right;\n    }\n</style>\n<table border=\"1\" class=\"dataframe\">\n  <thead>\n    <tr style=\"text-align: right;\">\n      <th></th>\n      <th>path</th>\n      <th>content_type</th>\n      <th>ex</th>\n    </tr>\n  </thead>\n  <tbody>\n    <tr>\n      <th>0</th>\n      <td>1/tmp.txt</td>\n      <td>text/plain</td>\n      <td>txt</td>\n    </tr>\n    <tr>\n      <th>2</th>\n      <td>10/275/03_Чертеж_планировки_территории_М_1_500...</td>\n      <td>application/pdf</td>\n      <td>pdf</td>\n    </tr>\n    <tr>\n      <th>3</th>\n      <td>10/275/276/Загрузка_тележки_в_нагревательную_к...</td>\n      <td>video/mp4</td>\n      <td>mp4</td>\n    </tr>\n    <tr>\n      <th>4</th>\n      <td>10/275/276/Нагревательный_блок_с_возможностью_...</td>\n      <td>image/jpeg</td>\n      <td>jpeg</td>\n    </tr>\n    <tr>\n      <th>11</th>\n      <td>10/275/277/Замечания.docx</td>\n      <td>application/vnd.openxmlformats-officedocument....</td>\n      <td>docx</td>\n    </tr>\n    <tr>\n      <th>...</th>\n      <td>...</td>\n      <td>...</td>\n      <td>...</td>\n    </tr>\n    <tr>\n      <th>5101</th>\n      <td>static/cms/fonts/src/_template.svgz</td>\n      <td>image/svg+xml</td>\n      <td>svgz</td>\n    </tr>\n    <tr>\n      <th>5243</th>\n      <td>static/cms/js/select2/select2_locale_en.js.tem...</td>\n      <td>application/octet-stream</td>\n      <td>template</td>\n    </tr>\n    <tr>\n      <th>5288</th>\n      <td>static/cms/sass/cms.base.scss</td>\n      <td>application/octet-stream</td>\n      <td>scss</td>\n    </tr>\n    <tr>\n      <th>5454</th>\n      <td>static/filer/css/maps/admin_filer.css.map</td>\n      <td>text/plain</td>\n      <td>map</td>\n    </tr>\n    <tr>\n      <th>5455</th>\n      <td>static/filer/fonts/FontAwesome.otf</td>\n      <td>application/octet-stream</td>\n      <td>otf</td>\n    </tr>\n  </tbody>\n</table>\n<p>80 rows × 3 columns</p>\n</div>"
     },
     "execution_count": 9,
     "metadata": {},
     "output_type": "execute_result"
    }
   ],
   "source": [
    "# исключить строки дубликаты в колонке ex\n",
    "df3 = df3.drop_duplicates(subset='ex')\n",
    "df3"
   ],
   "metadata": {
    "collapsed": false,
    "pycharm": {
     "name": "#%%\n"
    }
   }
  },
  {
   "cell_type": "code",
   "execution_count": 10,
   "outputs": [
    {
     "data": {
      "text/plain": "{'txt': 'text/plain',\n 'pdf': 'application/pdf',\n 'mp4': 'video/mp4',\n 'jpeg': 'image/jpeg',\n 'docx': 'application/vnd.openxmlformats-officedocument.wordprocessingml.document',\n 'dwg': 'image/vnd.dwg',\n 'bak': 'application/x-trash',\n 'xlsx': 'application/vnd.openxmlformats-officedocument.spreadsheetml.sheet',\n 'dwl': 'application/octet-stream',\n 'dwl2': 'application/octet-stream',\n 'jpg': 'image/jpeg',\n 'doc': 'application/msword',\n 'tmp': 'application/octet-stream',\n 'xls': 'application/vnd.ms-excel',\n 'zip': 'application/zip',\n 'mpp': 'application/vnd.ms-project',\n 'cdr': 'image/x-coreldraw',\n 'cdw': 'application/octet-stream',\n 'rvt': 'application/octet-stream',\n 'frw': 'application/octet-stream',\n 'rar': 'application/vnd.rar',\n 'JPG': 'image/jpeg',\n 'DOC': 'application/msword',\n 'data': 'application/octet-stream',\n 'js': 'application/javascript',\n 'wasm': 'application/wasm',\n 'png': 'image/png',\n 'PDF': 'application/pdf',\n 'ico': 'image/vnd.microsoft.icon',\n 'css': 'text/css',\n 'html': 'text/html',\n 'svg': 'image/svg+xml',\n 'p7s': 'application/pkcs7-signature',\n 'None': 'application/octet-stream',\n 'json': 'application/json',\n 'storage': 'application/octet-stream',\n 'spec': 'application/octet-stream',\n 'rte': 'application/octet-stream',\n 'err': 'application/octet-stream',\n 'LOG': 'application/octet-stream',\n 'ifc': 'application/octet-stream',\n 'RVT': 'application/octet-stream',\n 'mdf': 'application/octet-stream',\n 'ldf': 'application/octet-stream',\n 'log': 'application/octet-stream',\n 'nwc': 'application/x-nwc',\n 'sxml': 'application/octet-stream',\n 'db1': 'application/octet-stream',\n 'db2': 'application/octet-stream',\n '7z': 'application/x-7z-compressed',\n 'nwd': 'application/octet-stream',\n 'TXT': 'text/plain',\n 'DOCX': 'application/vnd.openxmlformats-officedocument.wordprocessingml.document',\n 'bmp': 'image/bmp',\n 'nwf': 'application/octet-stream',\n 'avi': 'video/x-msvideo',\n 'xlsm': 'application/vnd.ms-excel.sheet.macroEnabled.12',\n 'pc3': 'application/octet-stream',\n 'xml': 'application/xml',\n 'PNG': 'image/png',\n 'lir': 'application/octet-stream',\n 'shx': 'application/x-qgis',\n 'm4v': 'video/mp4',\n 'mqh': 'application/octet-stream',\n 'ex5': 'application/octet-stream',\n 'mq5': 'application/octet-stream',\n 'sig': 'application/pgp-signature',\n 'drawio': 'application/octet-stream',\n 'tif': 'image/tiff',\n 'md': 'application/octet-stream',\n 'woff': 'application/font-woff',\n 'gif': 'image/gif',\n 'eot': 'application/octet-stream',\n 'ttf': 'application/octet-stream',\n 'woff2': 'application/octet-stream',\n 'svgz': 'image/svg+xml',\n 'template': 'application/octet-stream',\n 'scss': 'application/octet-stream',\n 'map': 'text/plain',\n 'otf': 'application/octet-stream'}"
     },
     "execution_count": 10,
     "metadata": {},
     "output_type": "execute_result"
    }
   ],
   "source": [
    "# df3[['ex', 'content_type']].to_dict()\n",
    "\n",
    "# создать словарь где ключ - это расширение файла, а значение - это тип файла\n",
    "dict_ex = dict(zip(df3['ex'], df3['content_type']))\n",
    "dict_ex"
   ],
   "metadata": {
    "collapsed": false,
    "pycharm": {
     "name": "#%%\n"
    }
   }
  },
  {
   "cell_type": "code",
   "execution_count": 63,
   "outputs": [
    {
     "data": {
      "text/plain": "'ini'"
     },
     "execution_count": 63,
     "metadata": {},
     "output_type": "execute_result"
    }
   ],
   "source": [
    "x1 = df['ex'][0]\n",
    "x1"
   ],
   "metadata": {
    "collapsed": false,
    "pycharm": {
     "name": "#%%\n"
    }
   }
  },
  {
   "cell_type": "code",
   "execution_count": 65,
   "outputs": [
    {
     "data": {
      "text/plain": "'text/plain'"
     },
     "execution_count": 65,
     "metadata": {},
     "output_type": "execute_result"
    }
   ],
   "source": [
    "dict_ex.get(x1, 'text/plain')"
   ],
   "metadata": {
    "collapsed": false,
    "pycharm": {
     "name": "#%%\n"
    }
   }
  },
  {
   "cell_type": "code",
   "execution_count": 23,
   "outputs": [
    {
     "data": {
      "text/plain": "                                                     path  \\\n0       GoogleDriveTransfer/BackOffice/Регламенты/desk...   \n1       GoogleDriveTransfer/BackOffice/Регламенты/Веде...   \n2       GoogleDriveTransfer/BackOffice/Регламенты/Новы...   \n3       GoogleDriveTransfer/BackOffice/Регламенты/Прав...   \n4       GoogleDriveTransfer/BackOffice/Регламенты/СТП/...   \n...                                                   ...   \n179046  GoogleDriveTransfer/Юрист UA/Укр Суд/Опекунски...   \n179047  GoogleDriveTransfer/Юрист UA/Укр Суд/Ответ в о...   \n179048  GoogleDriveTransfer/Юрист UA/Укр Суд/Прокурату...   \n179049  GoogleDriveTransfer/Юрист UA/договір коворкінг...   \n179050  GoogleDriveTransfer/Юрист UA/правила роботи ко...   \n\n                                             content_type  \\\n0                                              text/plain   \n1       application/vnd.openxmlformats-officedocument....   \n2       application/vnd.openxmlformats-officedocument....   \n3       application/vnd.openxmlformats-officedocument....   \n4       application/vnd.openxmlformats-officedocument....   \n...                                                   ...   \n179046                                         text/plain   \n179047                                         text/plain   \n179048                                         text/plain   \n179049                                         text/plain   \n179050                                         text/plain   \n\n                                                path_list  \\\n0       [GoogleDriveTransfer, BackOffice, Регламенты, ...   \n1       [GoogleDriveTransfer, BackOffice, Регламенты, ...   \n2       [GoogleDriveTransfer, BackOffice, Регламенты, ...   \n3       [GoogleDriveTransfer, BackOffice, Регламенты, ...   \n4       [GoogleDriveTransfer, BackOffice, Регламенты, ...   \n...                                                   ...   \n179046  [GoogleDriveTransfer, Юрист UA, Укр Суд, Опеку...   \n179047  [GoogleDriveTransfer, Юрист UA, Укр Суд, Ответ...   \n179048  [GoogleDriveTransfer, Юрист UA, Укр Суд, Проку...   \n179049  [GoogleDriveTransfer, Юрист UA, договір коворк...   \n179050  [GoogleDriveTransfer, Юрист UA, правила роботи...   \n\n                                                     file  \\\n0                                             desktop.ini   \n1                                     Ведение продаж.docx   \n2                                     Новый документ.docx   \n3       Правила формирования_ отправки закр. док._дого...   \n4                                           STP_2_02.docx   \n...                                                   ...   \n179046                              Опекунский совет.docx   \n179047                             Ответ в опекнский.docx   \n179048                  Прокуратура московского р-на.docx   \n179049                            договір коворкінгу.docx   \n179050                     правила роботи коворкінгу.docx   \n\n                                                path_name    ex  \n0               GoogleDriveTransfer/BackOffice/Регламенты   ini  \n1               GoogleDriveTransfer/BackOffice/Регламенты  docx  \n2               GoogleDriveTransfer/BackOffice/Регламенты  docx  \n3               GoogleDriveTransfer/BackOffice/Регламенты  docx  \n4       GoogleDriveTransfer/BackOffice/Регламенты/СТП/STP  docx  \n...                                                   ...   ...  \n179046               GoogleDriveTransfer/Юрист UA/Укр Суд  docx  \n179047               GoogleDriveTransfer/Юрист UA/Укр Суд  docx  \n179048               GoogleDriveTransfer/Юрист UA/Укр Суд  docx  \n179049                       GoogleDriveTransfer/Юрист UA  docx  \n179050                       GoogleDriveTransfer/Юрист UA  docx  \n\n[179051 rows x 6 columns]",
      "text/html": "<div>\n<style scoped>\n    .dataframe tbody tr th:only-of-type {\n        vertical-align: middle;\n    }\n\n    .dataframe tbody tr th {\n        vertical-align: top;\n    }\n\n    .dataframe thead th {\n        text-align: right;\n    }\n</style>\n<table border=\"1\" class=\"dataframe\">\n  <thead>\n    <tr style=\"text-align: right;\">\n      <th></th>\n      <th>path</th>\n      <th>content_type</th>\n      <th>path_list</th>\n      <th>file</th>\n      <th>path_name</th>\n      <th>ex</th>\n    </tr>\n  </thead>\n  <tbody>\n    <tr>\n      <th>0</th>\n      <td>GoogleDriveTransfer/BackOffice/Регламенты/desk...</td>\n      <td>text/plain</td>\n      <td>[GoogleDriveTransfer, BackOffice, Регламенты, ...</td>\n      <td>desktop.ini</td>\n      <td>GoogleDriveTransfer/BackOffice/Регламенты</td>\n      <td>ini</td>\n    </tr>\n    <tr>\n      <th>1</th>\n      <td>GoogleDriveTransfer/BackOffice/Регламенты/Веде...</td>\n      <td>application/vnd.openxmlformats-officedocument....</td>\n      <td>[GoogleDriveTransfer, BackOffice, Регламенты, ...</td>\n      <td>Ведение продаж.docx</td>\n      <td>GoogleDriveTransfer/BackOffice/Регламенты</td>\n      <td>docx</td>\n    </tr>\n    <tr>\n      <th>2</th>\n      <td>GoogleDriveTransfer/BackOffice/Регламенты/Новы...</td>\n      <td>application/vnd.openxmlformats-officedocument....</td>\n      <td>[GoogleDriveTransfer, BackOffice, Регламенты, ...</td>\n      <td>Новый документ.docx</td>\n      <td>GoogleDriveTransfer/BackOffice/Регламенты</td>\n      <td>docx</td>\n    </tr>\n    <tr>\n      <th>3</th>\n      <td>GoogleDriveTransfer/BackOffice/Регламенты/Прав...</td>\n      <td>application/vnd.openxmlformats-officedocument....</td>\n      <td>[GoogleDriveTransfer, BackOffice, Регламенты, ...</td>\n      <td>Правила формирования_ отправки закр. док._дого...</td>\n      <td>GoogleDriveTransfer/BackOffice/Регламенты</td>\n      <td>docx</td>\n    </tr>\n    <tr>\n      <th>4</th>\n      <td>GoogleDriveTransfer/BackOffice/Регламенты/СТП/...</td>\n      <td>application/vnd.openxmlformats-officedocument....</td>\n      <td>[GoogleDriveTransfer, BackOffice, Регламенты, ...</td>\n      <td>STP_2_02.docx</td>\n      <td>GoogleDriveTransfer/BackOffice/Регламенты/СТП/STP</td>\n      <td>docx</td>\n    </tr>\n    <tr>\n      <th>...</th>\n      <td>...</td>\n      <td>...</td>\n      <td>...</td>\n      <td>...</td>\n      <td>...</td>\n      <td>...</td>\n    </tr>\n    <tr>\n      <th>179046</th>\n      <td>GoogleDriveTransfer/Юрист UA/Укр Суд/Опекунски...</td>\n      <td>text/plain</td>\n      <td>[GoogleDriveTransfer, Юрист UA, Укр Суд, Опеку...</td>\n      <td>Опекунский совет.docx</td>\n      <td>GoogleDriveTransfer/Юрист UA/Укр Суд</td>\n      <td>docx</td>\n    </tr>\n    <tr>\n      <th>179047</th>\n      <td>GoogleDriveTransfer/Юрист UA/Укр Суд/Ответ в о...</td>\n      <td>text/plain</td>\n      <td>[GoogleDriveTransfer, Юрист UA, Укр Суд, Ответ...</td>\n      <td>Ответ в опекнский.docx</td>\n      <td>GoogleDriveTransfer/Юрист UA/Укр Суд</td>\n      <td>docx</td>\n    </tr>\n    <tr>\n      <th>179048</th>\n      <td>GoogleDriveTransfer/Юрист UA/Укр Суд/Прокурату...</td>\n      <td>text/plain</td>\n      <td>[GoogleDriveTransfer, Юрист UA, Укр Суд, Проку...</td>\n      <td>Прокуратура московского р-на.docx</td>\n      <td>GoogleDriveTransfer/Юрист UA/Укр Суд</td>\n      <td>docx</td>\n    </tr>\n    <tr>\n      <th>179049</th>\n      <td>GoogleDriveTransfer/Юрист UA/договір коворкінг...</td>\n      <td>text/plain</td>\n      <td>[GoogleDriveTransfer, Юрист UA, договір коворк...</td>\n      <td>договір коворкінгу.docx</td>\n      <td>GoogleDriveTransfer/Юрист UA</td>\n      <td>docx</td>\n    </tr>\n    <tr>\n      <th>179050</th>\n      <td>GoogleDriveTransfer/Юрист UA/правила роботи ко...</td>\n      <td>text/plain</td>\n      <td>[GoogleDriveTransfer, Юрист UA, правила роботи...</td>\n      <td>правила роботи коворкінгу.docx</td>\n      <td>GoogleDriveTransfer/Юрист UA</td>\n      <td>docx</td>\n    </tr>\n  </tbody>\n</table>\n<p>179051 rows × 6 columns</p>\n</div>"
     },
     "execution_count": 23,
     "metadata": {},
     "output_type": "execute_result"
    }
   ],
   "source": [
    "df"
   ],
   "metadata": {
    "collapsed": false,
    "pycharm": {
     "name": "#%%\n"
    }
   }
  },
  {
   "cell_type": "code",
   "execution_count": null,
   "outputs": [],
   "source": [],
   "metadata": {
    "collapsed": false,
    "pycharm": {
     "name": "#%%\n"
    }
   }
  },
  {
   "cell_type": "code",
   "execution_count": 33,
   "outputs": [],
   "source": [
    "dict_files = {}\n",
    "folder_id = 11"
   ],
   "metadata": {
    "collapsed": false,
    "pycharm": {
     "name": "#%%\n"
    }
   }
  },
  {
   "cell_type": "code",
   "execution_count": null,
   "outputs": [],
   "source": [
    "for idx, row in df.iterrows():\n",
    "    path1 = row['path']\n"
   ],
   "metadata": {
    "collapsed": false,
    "pycharm": {
     "name": "#%%\n"
    }
   }
  },
  {
   "cell_type": "code",
   "execution_count": 25,
   "outputs": [
    {
     "data": {
      "text/plain": "['GoogleDriveTransfer', 'BackOffice', 'Регламенты', 'desktop.ini']"
     },
     "execution_count": 25,
     "metadata": {},
     "output_type": "execute_result"
    }
   ],
   "source": [
    "t1 = df['path_list'][0]\n",
    "t1"
   ],
   "metadata": {
    "collapsed": false,
    "pycharm": {
     "name": "#%%\n"
    }
   }
  },
  {
   "cell_type": "code",
   "execution_count": 26,
   "outputs": [
    {
     "data": {
      "text/plain": "['GoogleDriveTransfer', 'BackOffice', 'Регламенты']"
     },
     "execution_count": 26,
     "metadata": {},
     "output_type": "execute_result"
    }
   ],
   "source": [
    "t1[:-1]"
   ],
   "metadata": {
    "collapsed": false,
    "pycharm": {
     "name": "#%%\n"
    }
   }
  },
  {
   "cell_type": "code",
   "execution_count": 88,
   "outputs": [],
   "source": [
    "ls = df['path'].tolist()"
   ],
   "metadata": {
    "collapsed": false,
    "pycharm": {
     "name": "#%%\n"
    }
   }
  },
  {
   "cell_type": "code",
   "execution_count": 92,
   "outputs": [
    {
     "data": {
      "text/plain": "'GoogleDriveTransfer/BackOffice/Регламенты/desktop.ini'"
     },
     "execution_count": 92,
     "metadata": {},
     "output_type": "execute_result"
    }
   ],
   "source": [
    "path = ls[0]\n",
    "path"
   ],
   "metadata": {
    "collapsed": false,
    "pycharm": {
     "name": "#%%\n"
    }
   }
  },
  {
   "cell_type": "code",
   "execution_count": 28,
   "outputs": [
    {
     "data": {
      "text/plain": "('GoogleDriveTransfer/BackOffice/Регламенты',\n 'desktop.ini',\n ['GoogleDriveTransfer', 'BackOffice', 'Регламенты'])"
     },
     "execution_count": 28,
     "metadata": {},
     "output_type": "execute_result"
    }
   ],
   "source": [
    "p1 = df['path_name'][0]\n",
    "f1 = df['file'][0]\n",
    "t1 = df['path_list'][0][:-1]\n",
    "p1, f1, t1"
   ],
   "metadata": {
    "collapsed": false,
    "pycharm": {
     "name": "#%%\n"
    }
   }
  },
  {
   "cell_type": "code",
   "execution_count": 125,
   "outputs": [],
   "source": [
    "# path = df['path_name'][0]\n",
    "# file = df['file'][0]\n",
    "path = ls[20]\n",
    "# ds_path = {}\n",
    "# folder_id = 11"
   ],
   "metadata": {
    "collapsed": false,
    "pycharm": {
     "name": "#%%\n"
    }
   }
  },
  {
   "cell_type": "code",
   "execution_count": 122,
   "outputs": [],
   "source": [
    "\n",
    "def create_folder(bucket, path, ds_path):\n",
    "    global folder_id\n",
    "\n",
    "    ls_path = path.split('/')\n",
    "    file = ls_path[-1]\n",
    "    ls_folder = ls_path[1:-1]\n",
    "\n",
    "    ls_folder_id = ['GoogleDriveTransfer']\n",
    "    folder_path_current = 'GoogleDriveTransfer'\n",
    "\n",
    "    project_id = 2\n",
    "\n",
    "    for folder_name in ls_folder:\n",
    "        folder_path_current += '/' + folder_name\n",
    "        ls_folder_id_current = ds_path.get(folder_path_current)\n",
    "        if not ls_folder_id_current:\n",
    "            folder_id += 1\n",
    "            ls_folder_id_current = ls_folder_id[:]\n",
    "            ls_folder_id_current.append(str(folder_id))\n",
    "            ds_path[folder_path_current] = ls_folder_id_current\n",
    "\n",
    "        ls_folder_id = ls_folder_id_current[:]\n",
    "\n",
    "    path_new = str(project_id) + '/' +  '/'.join(ls_folder_id_current[1:]) + '/' + file\n",
    "    return path_new\n"
   ],
   "metadata": {
    "collapsed": false,
    "pycharm": {
     "name": "#%%\n"
    }
   }
  },
  {
   "cell_type": "code",
   "execution_count": 134,
   "outputs": [
    {
     "data": {
      "text/plain": "'2/22/23/24/25/26/27/Юрий Иванович 76 руковод проектиров (1).doc'"
     },
     "execution_count": 134,
     "metadata": {},
     "output_type": "execute_result"
    }
   ],
   "source": [
    "path = ls[10000]\n",
    "create_folder(bucket, path, ds_path)"
   ],
   "metadata": {
    "collapsed": false,
    "pycharm": {
     "name": "#%%\n"
    }
   }
  },
  {
   "cell_type": "code",
   "execution_count": 135,
   "outputs": [
    {
     "data": {
      "text/plain": "'GoogleDriveTransfer/Human Resources/Human Resources/Персонал/персонал РФ/РЕЗЮМЕ РФ/ГИП/Юрий Иванович 76 руковод проектиров (1).doc'"
     },
     "execution_count": 135,
     "metadata": {},
     "output_type": "execute_result"
    }
   ],
   "source": [
    "path"
   ],
   "metadata": {
    "collapsed": false,
    "pycharm": {
     "name": "#%%\n"
    }
   }
  },
  {
   "cell_type": "code",
   "execution_count": 131,
   "outputs": [
    {
     "data": {
      "text/plain": "{'GoogleDriveTransfer/BackOffice': ['GoogleDriveTransfer', '12'],\n 'GoogleDriveTransfer/BackOffice/Регламенты': ['GoogleDriveTransfer',\n  '12',\n  '13'],\n 'GoogleDriveTransfer/BackOffice/Регламенты/СТП': ['GoogleDriveTransfer',\n  '12',\n  '13',\n  '14'],\n 'GoogleDriveTransfer/BackOffice/Регламенты/СТП/Утвержденные': ['GoogleDriveTransfer',\n  '12',\n  '13',\n  '14',\n  '15'],\n 'GoogleDriveTransfer/BackOffice/Регламенты/СТП/Утвержденные/Утвержденные': ['GoogleDriveTransfer',\n  '12',\n  '13',\n  '14',\n  '15',\n  '16'],\n 'GoogleDriveTransfer/BackOffice/Регламенты/СТП/Утвержденные/Утвержденные/Рабочие инструкции': ['GoogleDriveTransfer',\n  '12',\n  '13',\n  '14',\n  '15',\n  '16',\n  '17'],\n 'GoogleDriveTransfer/BackOffice/Регламенты/Стандарт предприятия проектного института': ['GoogleDriveTransfer',\n  '12',\n  '13',\n  '18'],\n 'GoogleDriveTransfer/BackOffice/Регламенты/Стандарт предприятия проектного института/Стандарт предприятия проектного института': ['GoogleDriveTransfer',\n  '12',\n  '13',\n  '18',\n  '19'],\n 'GoogleDriveTransfer/BackOffice/Регламенты/Стандарт предприятия проектного института/Стандарт предприятия проектного института/Задание на проектирование': ['GoogleDriveTransfer',\n  '12',\n  '13',\n  '18',\n  '19',\n  '20']}"
     },
     "execution_count": 131,
     "metadata": {},
     "output_type": "execute_result"
    }
   ],
   "source": [
    "ds_path"
   ],
   "metadata": {
    "collapsed": false,
    "pycharm": {
     "name": "#%%\n"
    }
   }
  },
  {
   "cell_type": "code",
   "execution_count": 82,
   "outputs": [],
   "source": [
    "df.to_csv('files_bucket_GoogleDriveTransfer.csv', index=False)"
   ],
   "metadata": {
    "collapsed": false,
    "pycharm": {
     "name": "#%%\n"
    }
   }
  },
  {
   "cell_type": "code",
   "execution_count": 85,
   "outputs": [
    {
     "data": {
      "text/plain": "                                                     path  \\\n0       GoogleDriveTransfer/BackOffice/Регламенты/desk...   \n1       GoogleDriveTransfer/BackOffice/Регламенты/Веде...   \n2       GoogleDriveTransfer/BackOffice/Регламенты/Новы...   \n3       GoogleDriveTransfer/BackOffice/Регламенты/Прав...   \n4       GoogleDriveTransfer/BackOffice/Регламенты/СТП/...   \n...                                                   ...   \n179046  GoogleDriveTransfer/Юрист UA/Укр Суд/Опекунски...   \n179047  GoogleDriveTransfer/Юрист UA/Укр Суд/Ответ в о...   \n179048  GoogleDriveTransfer/Юрист UA/Укр Суд/Прокурату...   \n179049  GoogleDriveTransfer/Юрист UA/договір коворкінг...   \n179050  GoogleDriveTransfer/Юрист UA/правила роботи ко...   \n\n                                             content_type  \\\n0                                              text/plain   \n1       application/vnd.openxmlformats-officedocument....   \n2       application/vnd.openxmlformats-officedocument....   \n3       application/vnd.openxmlformats-officedocument....   \n4       application/vnd.openxmlformats-officedocument....   \n...                                                   ...   \n179046                                         text/plain   \n179047                                         text/plain   \n179048                                         text/plain   \n179049                                         text/plain   \n179050                                         text/plain   \n\n                                                path_list  \\\n0       [GoogleDriveTransfer, BackOffice, Регламенты, ...   \n1       [GoogleDriveTransfer, BackOffice, Регламенты, ...   \n2       [GoogleDriveTransfer, BackOffice, Регламенты, ...   \n3       [GoogleDriveTransfer, BackOffice, Регламенты, ...   \n4       [GoogleDriveTransfer, BackOffice, Регламенты, ...   \n...                                                   ...   \n179046  [GoogleDriveTransfer, Юрист UA, Укр Суд, Опеку...   \n179047  [GoogleDriveTransfer, Юрист UA, Укр Суд, Ответ...   \n179048  [GoogleDriveTransfer, Юрист UA, Укр Суд, Проку...   \n179049  [GoogleDriveTransfer, Юрист UA, договір коворк...   \n179050  [GoogleDriveTransfer, Юрист UA, правила роботи...   \n\n                                                     file  \\\n0                                             desktop.ini   \n1                                     Ведение продаж.docx   \n2                                     Новый документ.docx   \n3       Правила формирования_ отправки закр. док._дого...   \n4                                           STP_2_02.docx   \n...                                                   ...   \n179046                              Опекунский совет.docx   \n179047                             Ответ в опекнский.docx   \n179048                  Прокуратура московского р-на.docx   \n179049                            договір коворкінгу.docx   \n179050                     правила роботи коворкінгу.docx   \n\n                                                path_name    ex  \n0               GoogleDriveTransfer/BackOffice/Регламенты   ini  \n1               GoogleDriveTransfer/BackOffice/Регламенты  docx  \n2               GoogleDriveTransfer/BackOffice/Регламенты  docx  \n3               GoogleDriveTransfer/BackOffice/Регламенты  docx  \n4       GoogleDriveTransfer/BackOffice/Регламенты/СТП/STP  docx  \n...                                                   ...   ...  \n179046               GoogleDriveTransfer/Юрист UA/Укр Суд  docx  \n179047               GoogleDriveTransfer/Юрист UA/Укр Суд  docx  \n179048               GoogleDriveTransfer/Юрист UA/Укр Суд  docx  \n179049                       GoogleDriveTransfer/Юрист UA  docx  \n179050                       GoogleDriveTransfer/Юрист UA  docx  \n\n[179051 rows x 6 columns]",
      "text/html": "<div>\n<style scoped>\n    .dataframe tbody tr th:only-of-type {\n        vertical-align: middle;\n    }\n\n    .dataframe tbody tr th {\n        vertical-align: top;\n    }\n\n    .dataframe thead th {\n        text-align: right;\n    }\n</style>\n<table border=\"1\" class=\"dataframe\">\n  <thead>\n    <tr style=\"text-align: right;\">\n      <th></th>\n      <th>path</th>\n      <th>content_type</th>\n      <th>path_list</th>\n      <th>file</th>\n      <th>path_name</th>\n      <th>ex</th>\n    </tr>\n  </thead>\n  <tbody>\n    <tr>\n      <th>0</th>\n      <td>GoogleDriveTransfer/BackOffice/Регламенты/desk...</td>\n      <td>text/plain</td>\n      <td>[GoogleDriveTransfer, BackOffice, Регламенты, ...</td>\n      <td>desktop.ini</td>\n      <td>GoogleDriveTransfer/BackOffice/Регламенты</td>\n      <td>ini</td>\n    </tr>\n    <tr>\n      <th>1</th>\n      <td>GoogleDriveTransfer/BackOffice/Регламенты/Веде...</td>\n      <td>application/vnd.openxmlformats-officedocument....</td>\n      <td>[GoogleDriveTransfer, BackOffice, Регламенты, ...</td>\n      <td>Ведение продаж.docx</td>\n      <td>GoogleDriveTransfer/BackOffice/Регламенты</td>\n      <td>docx</td>\n    </tr>\n    <tr>\n      <th>2</th>\n      <td>GoogleDriveTransfer/BackOffice/Регламенты/Новы...</td>\n      <td>application/vnd.openxmlformats-officedocument....</td>\n      <td>[GoogleDriveTransfer, BackOffice, Регламенты, ...</td>\n      <td>Новый документ.docx</td>\n      <td>GoogleDriveTransfer/BackOffice/Регламенты</td>\n      <td>docx</td>\n    </tr>\n    <tr>\n      <th>3</th>\n      <td>GoogleDriveTransfer/BackOffice/Регламенты/Прав...</td>\n      <td>application/vnd.openxmlformats-officedocument....</td>\n      <td>[GoogleDriveTransfer, BackOffice, Регламенты, ...</td>\n      <td>Правила формирования_ отправки закр. док._дого...</td>\n      <td>GoogleDriveTransfer/BackOffice/Регламенты</td>\n      <td>docx</td>\n    </tr>\n    <tr>\n      <th>4</th>\n      <td>GoogleDriveTransfer/BackOffice/Регламенты/СТП/...</td>\n      <td>application/vnd.openxmlformats-officedocument....</td>\n      <td>[GoogleDriveTransfer, BackOffice, Регламенты, ...</td>\n      <td>STP_2_02.docx</td>\n      <td>GoogleDriveTransfer/BackOffice/Регламенты/СТП/STP</td>\n      <td>docx</td>\n    </tr>\n    <tr>\n      <th>...</th>\n      <td>...</td>\n      <td>...</td>\n      <td>...</td>\n      <td>...</td>\n      <td>...</td>\n      <td>...</td>\n    </tr>\n    <tr>\n      <th>179046</th>\n      <td>GoogleDriveTransfer/Юрист UA/Укр Суд/Опекунски...</td>\n      <td>text/plain</td>\n      <td>[GoogleDriveTransfer, Юрист UA, Укр Суд, Опеку...</td>\n      <td>Опекунский совет.docx</td>\n      <td>GoogleDriveTransfer/Юрист UA/Укр Суд</td>\n      <td>docx</td>\n    </tr>\n    <tr>\n      <th>179047</th>\n      <td>GoogleDriveTransfer/Юрист UA/Укр Суд/Ответ в о...</td>\n      <td>text/plain</td>\n      <td>[GoogleDriveTransfer, Юрист UA, Укр Суд, Ответ...</td>\n      <td>Ответ в опекнский.docx</td>\n      <td>GoogleDriveTransfer/Юрист UA/Укр Суд</td>\n      <td>docx</td>\n    </tr>\n    <tr>\n      <th>179048</th>\n      <td>GoogleDriveTransfer/Юрист UA/Укр Суд/Прокурату...</td>\n      <td>text/plain</td>\n      <td>[GoogleDriveTransfer, Юрист UA, Укр Суд, Проку...</td>\n      <td>Прокуратура московского р-на.docx</td>\n      <td>GoogleDriveTransfer/Юрист UA/Укр Суд</td>\n      <td>docx</td>\n    </tr>\n    <tr>\n      <th>179049</th>\n      <td>GoogleDriveTransfer/Юрист UA/договір коворкінг...</td>\n      <td>text/plain</td>\n      <td>[GoogleDriveTransfer, Юрист UA, договір коворк...</td>\n      <td>договір коворкінгу.docx</td>\n      <td>GoogleDriveTransfer/Юрист UA</td>\n      <td>docx</td>\n    </tr>\n    <tr>\n      <th>179050</th>\n      <td>GoogleDriveTransfer/Юрист UA/правила роботи ко...</td>\n      <td>text/plain</td>\n      <td>[GoogleDriveTransfer, Юрист UA, правила роботи...</td>\n      <td>правила роботи коворкінгу.docx</td>\n      <td>GoogleDriveTransfer/Юрист UA</td>\n      <td>docx</td>\n    </tr>\n  </tbody>\n</table>\n<p>179051 rows × 6 columns</p>\n</div>"
     },
     "execution_count": 85,
     "metadata": {},
     "output_type": "execute_result"
    }
   ],
   "source": [
    "df1 = df.copy()\n",
    "df1"
   ],
   "metadata": {
    "collapsed": false,
    "pycharm": {
     "name": "#%%\n"
    }
   }
  },
  {
   "cell_type": "code",
   "execution_count": 86,
   "outputs": [
    {
     "data": {
      "text/plain": "                                                     path\n0       GoogleDriveTransfer/BackOffice/Регламенты/desk...\n1       GoogleDriveTransfer/BackOffice/Регламенты/Веде...\n2       GoogleDriveTransfer/BackOffice/Регламенты/Новы...\n3       GoogleDriveTransfer/BackOffice/Регламенты/Прав...\n4       GoogleDriveTransfer/BackOffice/Регламенты/СТП/...\n...                                                   ...\n179046  GoogleDriveTransfer/Юрист UA/Укр Суд/Опекунски...\n179047  GoogleDriveTransfer/Юрист UA/Укр Суд/Ответ в о...\n179048  GoogleDriveTransfer/Юрист UA/Укр Суд/Прокурату...\n179049  GoogleDriveTransfer/Юрист UA/договір коворкінг...\n179050  GoogleDriveTransfer/Юрист UA/правила роботи ко...\n\n[179051 rows x 1 columns]",
      "text/html": "<div>\n<style scoped>\n    .dataframe tbody tr th:only-of-type {\n        vertical-align: middle;\n    }\n\n    .dataframe tbody tr th {\n        vertical-align: top;\n    }\n\n    .dataframe thead th {\n        text-align: right;\n    }\n</style>\n<table border=\"1\" class=\"dataframe\">\n  <thead>\n    <tr style=\"text-align: right;\">\n      <th></th>\n      <th>path</th>\n    </tr>\n  </thead>\n  <tbody>\n    <tr>\n      <th>0</th>\n      <td>GoogleDriveTransfer/BackOffice/Регламенты/desk...</td>\n    </tr>\n    <tr>\n      <th>1</th>\n      <td>GoogleDriveTransfer/BackOffice/Регламенты/Веде...</td>\n    </tr>\n    <tr>\n      <th>2</th>\n      <td>GoogleDriveTransfer/BackOffice/Регламенты/Новы...</td>\n    </tr>\n    <tr>\n      <th>3</th>\n      <td>GoogleDriveTransfer/BackOffice/Регламенты/Прав...</td>\n    </tr>\n    <tr>\n      <th>4</th>\n      <td>GoogleDriveTransfer/BackOffice/Регламенты/СТП/...</td>\n    </tr>\n    <tr>\n      <th>...</th>\n      <td>...</td>\n    </tr>\n    <tr>\n      <th>179046</th>\n      <td>GoogleDriveTransfer/Юрист UA/Укр Суд/Опекунски...</td>\n    </tr>\n    <tr>\n      <th>179047</th>\n      <td>GoogleDriveTransfer/Юрист UA/Укр Суд/Ответ в о...</td>\n    </tr>\n    <tr>\n      <th>179048</th>\n      <td>GoogleDriveTransfer/Юрист UA/Укр Суд/Прокурату...</td>\n    </tr>\n    <tr>\n      <th>179049</th>\n      <td>GoogleDriveTransfer/Юрист UA/договір коворкінг...</td>\n    </tr>\n    <tr>\n      <th>179050</th>\n      <td>GoogleDriveTransfer/Юрист UA/правила роботи ко...</td>\n    </tr>\n  </tbody>\n</table>\n<p>179051 rows × 1 columns</p>\n</div>"
     },
     "execution_count": 86,
     "metadata": {},
     "output_type": "execute_result"
    }
   ],
   "source": [
    "df1 = df1[['path']]\n",
    "df1"
   ],
   "metadata": {
    "collapsed": false,
    "pycharm": {
     "name": "#%%\n"
    }
   }
  },
  {
   "cell_type": "code",
   "execution_count": 87,
   "outputs": [],
   "source": [
    "df1.to_csv('files_bucket_GoogleDriveTransfer.csv', index=False)"
   ],
   "metadata": {
    "collapsed": false,
    "pycharm": {
     "name": "#%%\n"
    }
   }
  },
  {
   "cell_type": "code",
   "execution_count": 68,
   "outputs": [
    {
     "data": {
      "text/plain": "['BackOffice', 'Регламенты']"
     },
     "execution_count": 68,
     "metadata": {},
     "output_type": "execute_result"
    }
   ],
   "source": [
    "path.split('/')[1:]"
   ],
   "metadata": {
    "collapsed": false,
    "pycharm": {
     "name": "#%%\n"
    }
   }
  },
  {
   "cell_type": "code",
   "execution_count": 75,
   "outputs": [
    {
     "data": {
      "text/plain": "[1, 2]"
     },
     "execution_count": 75,
     "metadata": {},
     "output_type": "execute_result"
    }
   ],
   "source": [
    "list(range(1, len(t1)))"
   ],
   "metadata": {
    "collapsed": false,
    "pycharm": {
     "name": "#%%\n"
    }
   }
  },
  {
   "cell_type": "code",
   "execution_count": 41,
   "outputs": [],
   "source": [
    "dict_files.get(p1)"
   ],
   "metadata": {
    "collapsed": false,
    "pycharm": {
     "name": "#%%\n"
    }
   }
  },
  {
   "cell_type": "code",
   "execution_count": 69,
   "outputs": [
    {
     "data": {
      "text/plain": "[2, 3]"
     },
     "execution_count": 69,
     "metadata": {},
     "output_type": "execute_result"
    }
   ],
   "source": [
    "ls1 = [2,3]\n",
    "ls1"
   ],
   "metadata": {
    "collapsed": false,
    "pycharm": {
     "name": "#%%\n"
    }
   }
  },
  {
   "cell_type": "code",
   "execution_count": 70,
   "outputs": [
    {
     "data": {
      "text/plain": "[2, 3]"
     },
     "execution_count": 70,
     "metadata": {},
     "output_type": "execute_result"
    }
   ],
   "source": [
    "ls2 = ls1[:]\n",
    "ls2"
   ],
   "metadata": {
    "collapsed": false,
    "pycharm": {
     "name": "#%%\n"
    }
   }
  },
  {
   "cell_type": "code",
   "execution_count": 71,
   "outputs": [
    {
     "data": {
      "text/plain": "(2349489694080, 2349490312192)"
     },
     "execution_count": 71,
     "metadata": {},
     "output_type": "execute_result"
    }
   ],
   "source": [
    "id(ls1), id(ls2)"
   ],
   "metadata": {
    "collapsed": false,
    "pycharm": {
     "name": "#%%\n"
    }
   }
  },
  {
   "cell_type": "code",
   "execution_count": null,
   "outputs": [],
   "source": [],
   "metadata": {
    "collapsed": false,
    "pycharm": {
     "name": "#%%\n"
    }
   }
  },
  {
   "cell_type": "code",
   "execution_count": 45,
   "outputs": [],
   "source": [
    "offset = 2"
   ],
   "metadata": {
    "collapsed": false,
    "pycharm": {
     "name": "#%%\n"
    }
   }
  },
  {
   "cell_type": "code",
   "execution_count": 48,
   "outputs": [
    {
     "data": {
      "text/plain": "'GoogleDriveTransfer/BackOffice'"
     },
     "execution_count": 48,
     "metadata": {},
     "output_type": "execute_result"
    }
   ],
   "source": [
    "p2 = '/'.join(t1[:offset])\n",
    "p2"
   ],
   "metadata": {
    "collapsed": false,
    "pycharm": {
     "name": "#%%\n"
    }
   }
  },
  {
   "cell_type": "code",
   "execution_count": 49,
   "outputs": [],
   "source": [
    "dict_files.get(p2)"
   ],
   "metadata": {
    "collapsed": false,
    "pycharm": {
     "name": "#%%\n"
    }
   }
  },
  {
   "cell_type": "code",
   "execution_count": 56,
   "outputs": [
    {
     "data": {
      "text/plain": "'BackOffice'"
     },
     "execution_count": 56,
     "metadata": {},
     "output_type": "execute_result"
    }
   ],
   "source": [
    "folder_name = t1[offset-1]\n",
    "folder_name"
   ],
   "metadata": {
    "collapsed": false,
    "pycharm": {
     "name": "#%%\n"
    }
   }
  },
  {
   "cell_type": "code",
   "execution_count": null,
   "outputs": [],
   "source": [
    "folder_id += 1"
   ],
   "metadata": {
    "collapsed": false,
    "pycharm": {
     "name": "#%%\n"
    }
   }
  },
  {
   "cell_type": "code",
   "execution_count": 52,
   "outputs": [
    {
     "data": {
      "text/plain": "['GoogleDriveTransfer', '11']"
     },
     "execution_count": 52,
     "metadata": {},
     "output_type": "execute_result"
    }
   ],
   "source": [
    "ls_path = ['GoogleDriveTransfer']\n",
    "ls_path.append(str(folder_id))\n",
    "ls_path"
   ],
   "metadata": {
    "collapsed": false,
    "pycharm": {
     "name": "#%%\n"
    }
   }
  },
  {
   "cell_type": "code",
   "execution_count": 54,
   "outputs": [],
   "source": [
    "dict_files[p2] = ls_path"
   ],
   "metadata": {
    "collapsed": false,
    "pycharm": {
     "name": "#%%\n"
    }
   }
  },
  {
   "cell_type": "code",
   "execution_count": 57,
   "outputs": [
    {
     "data": {
      "text/plain": "{'GoogleDriveTransfer/BackOffice': ['GoogleDriveTransfer', '11']}"
     },
     "execution_count": 57,
     "metadata": {},
     "output_type": "execute_result"
    }
   ],
   "source": [
    "dict_files"
   ],
   "metadata": {
    "collapsed": false,
    "pycharm": {
     "name": "#%%\n"
    }
   }
  },
  {
   "cell_type": "code",
   "execution_count": 58,
   "outputs": [
    {
     "data": {
      "text/plain": "'GoogleDriveTransfer/BackOffice/Регламенты'"
     },
     "execution_count": 58,
     "metadata": {},
     "output_type": "execute_result"
    }
   ],
   "source": [
    "offset += 1\n",
    "p2 = '/'.join(t1[:offset])\n",
    "p2"
   ],
   "metadata": {
    "collapsed": false,
    "pycharm": {
     "name": "#%%\n"
    }
   }
  },
  {
   "cell_type": "code",
   "execution_count": 59,
   "outputs": [
    {
     "data": {
      "text/plain": "'Регламенты'"
     },
     "execution_count": 59,
     "metadata": {},
     "output_type": "execute_result"
    }
   ],
   "source": [
    "folder_name = t1[offset-1]\n",
    "folder_name"
   ],
   "metadata": {
    "collapsed": false,
    "pycharm": {
     "name": "#%%\n"
    }
   }
  },
  {
   "cell_type": "code",
   "execution_count": 60,
   "outputs": [],
   "source": [
    "folder_id += 1"
   ],
   "metadata": {
    "collapsed": false,
    "pycharm": {
     "name": "#%%\n"
    }
   }
  },
  {
   "cell_type": "code",
   "execution_count": 61,
   "outputs": [
    {
     "data": {
      "text/plain": "['GoogleDriveTransfer', '11', '12']"
     },
     "execution_count": 61,
     "metadata": {},
     "output_type": "execute_result"
    }
   ],
   "source": [
    "ls_path.append(str(folder_id))\n",
    "ls_path"
   ],
   "metadata": {
    "collapsed": false,
    "pycharm": {
     "name": "#%%\n"
    }
   }
  },
  {
   "cell_type": "code",
   "execution_count": 62,
   "outputs": [
    {
     "data": {
      "text/plain": "{'GoogleDriveTransfer/BackOffice': ['GoogleDriveTransfer', '11', '12'],\n 'GoogleDriveTransfer/BackOffice/Регламенты': ['GoogleDriveTransfer',\n  '11',\n  '12']}"
     },
     "execution_count": 62,
     "metadata": {},
     "output_type": "execute_result"
    }
   ],
   "source": [
    "dict_files[p2] = ls_path\n",
    "dict_files"
   ],
   "metadata": {
    "collapsed": false,
    "pycharm": {
     "name": "#%%\n"
    }
   }
  },
  {
   "cell_type": "code",
   "execution_count": null,
   "outputs": [],
   "source": [],
   "metadata": {
    "collapsed": false,
    "pycharm": {
     "name": "#%%\n"
    }
   }
  },
  {
   "cell_type": "code",
   "execution_count": 29,
   "outputs": [
    {
     "data": {
      "text/plain": "'GoogleDriveTransfer/BackOffice'"
     },
     "execution_count": 29,
     "metadata": {},
     "output_type": "execute_result"
    }
   ],
   "source": [
    "t2 = '/'.join(t1[:-1])\n",
    "t2"
   ],
   "metadata": {
    "collapsed": false,
    "pycharm": {
     "name": "#%%\n"
    }
   }
  },
  {
   "cell_type": "code",
   "execution_count": 34,
   "outputs": [
    {
     "data": {
      "text/plain": "'Регламенты'"
     },
     "execution_count": 34,
     "metadata": {},
     "output_type": "execute_result"
    }
   ],
   "source": [
    "folder_name = t1[-1]\n",
    "folder_name"
   ],
   "metadata": {
    "collapsed": false,
    "pycharm": {
     "name": "#%%\n"
    }
   }
  },
  {
   "cell_type": "code",
   "execution_count": 32,
   "outputs": [],
   "source": [
    "t3 = dict_files.get(p1)\n",
    "if t3:\n",
    "    t3.append(f1)\n",
    "else:\n",
    "    folder_name = t1[-1]\n",
    "    folder_id += 1\n",
    "    dict_files[t2] = [f1]"
   ],
   "metadata": {
    "collapsed": false,
    "pycharm": {
     "name": "#%%\n"
    }
   }
  },
  {
   "cell_type": "code",
   "execution_count": null,
   "outputs": [],
   "source": [],
   "metadata": {
    "collapsed": false,
    "pycharm": {
     "name": "#%%\n"
    }
   }
  },
  {
   "cell_type": "code",
   "execution_count": null,
   "outputs": [],
   "source": [],
   "metadata": {
    "collapsed": false,
    "pycharm": {
     "name": "#%%\n"
    }
   }
  },
  {
   "cell_type": "code",
   "execution_count": null,
   "outputs": [],
   "source": [],
   "metadata": {
    "collapsed": false,
    "pycharm": {
     "name": "#%%\n"
    }
   }
  },
  {
   "cell_type": "code",
   "execution_count": null,
   "outputs": [],
   "source": [],
   "metadata": {
    "collapsed": false,
    "pycharm": {
     "name": "#%%\n"
    }
   }
  },
  {
   "cell_type": "code",
   "execution_count": null,
   "outputs": [],
   "source": [],
   "metadata": {
    "collapsed": false,
    "pycharm": {
     "name": "#%%\n"
    }
   }
  },
  {
   "cell_type": "code",
   "execution_count": null,
   "outputs": [],
   "source": [],
   "metadata": {
    "collapsed": false,
    "pycharm": {
     "name": "#%%\n"
    }
   }
  },
  {
   "cell_type": "code",
   "execution_count": null,
   "outputs": [],
   "source": [],
   "metadata": {
    "collapsed": false,
    "pycharm": {
     "name": "#%%\n"
    }
   }
  },
  {
   "cell_type": "code",
   "execution_count": null,
   "outputs": [],
   "source": [],
   "metadata": {
    "collapsed": false,
    "pycharm": {
     "name": "#%%\n"
    }
   }
  },
  {
   "cell_type": "code",
   "execution_count": null,
   "outputs": [],
   "source": [],
   "metadata": {
    "collapsed": false,
    "pycharm": {
     "name": "#%%\n"
    }
   }
  },
  {
   "cell_type": "code",
   "execution_count": null,
   "outputs": [],
   "source": [],
   "metadata": {
    "collapsed": false,
    "pycharm": {
     "name": "#%%\n"
    }
   }
  },
  {
   "cell_type": "code",
   "execution_count": 70,
   "outputs": [
    {
     "data": {
      "text/plain": "('GoogleDriveTransfer/BackOffice/Регламенты/Ведение продаж.docx', 'docx')"
     },
     "execution_count": 70,
     "metadata": {},
     "output_type": "execute_result"
    }
   ],
   "source": [
    "path1 = df['path'][1]\n",
    "ex1 = df['ex'][1]\n",
    "path1, ex1"
   ],
   "metadata": {
    "collapsed": false,
    "pycharm": {
     "name": "#%%\n"
    }
   }
  },
  {
   "cell_type": "code",
   "execution_count": 71,
   "outputs": [
    {
     "data": {
      "text/plain": "'application/vnd.openxmlformats-officedocument.wordprocessingml.document'"
     },
     "execution_count": 71,
     "metadata": {},
     "output_type": "execute_result"
    }
   ],
   "source": [
    "ex2 = dict_ex.get(ex1, 'text/plain')\n",
    "ex2"
   ],
   "metadata": {
    "collapsed": false,
    "pycharm": {
     "name": "#%%\n"
    }
   }
  },
  {
   "cell_type": "code",
   "execution_count": 68,
   "outputs": [],
   "source": [
    "blob = bucket.get_blob(path1)"
   ],
   "metadata": {
    "collapsed": false,
    "pycharm": {
     "name": "#%%\n"
    }
   }
  },
  {
   "cell_type": "code",
   "execution_count": 72,
   "outputs": [],
   "source": [
    "blob.content_type = ex2"
   ],
   "metadata": {
    "collapsed": false,
    "pycharm": {
     "name": "#%%\n"
    }
   }
  },
  {
   "cell_type": "code",
   "execution_count": 73,
   "outputs": [],
   "source": [
    "blob.update()"
   ],
   "metadata": {
    "collapsed": false,
    "pycharm": {
     "name": "#%%\n"
    }
   }
  },
  {
   "cell_type": "code",
   "execution_count": 74,
   "outputs": [
    {
     "ename": "KeyboardInterrupt",
     "evalue": "",
     "output_type": "error",
     "traceback": [
      "\u001B[1;31m---------------------------------------------------------------------------\u001B[0m",
      "\u001B[1;31mKeyboardInterrupt\u001B[0m                         Traceback (most recent call last)",
      "\u001B[1;32m~\\AppData\\Local\\Temp/ipykernel_4920/1380272726.py\u001B[0m in \u001B[0;36m<module>\u001B[1;34m\u001B[0m\n\u001B[0;32m      1\u001B[0m \u001B[1;32mfor\u001B[0m \u001B[0mx\u001B[0m \u001B[1;32min\u001B[0m \u001B[0mdf\u001B[0m\u001B[1;33m.\u001B[0m\u001B[0mitems\u001B[0m\u001B[1;33m(\u001B[0m\u001B[1;33m)\u001B[0m\u001B[1;33m:\u001B[0m\u001B[1;33m\u001B[0m\u001B[1;33m\u001B[0m\u001B[0m\n\u001B[1;32m----> 2\u001B[1;33m     \u001B[0mprint\u001B[0m\u001B[1;33m(\u001B[0m\u001B[0mx\u001B[0m\u001B[1;33m)\u001B[0m\u001B[1;33m\u001B[0m\u001B[1;33m\u001B[0m\u001B[0m\n\u001B[0m",
      "\u001B[1;32m~\\AppData\\Local\\Temp/ipykernel_4920/1380272726.py\u001B[0m in \u001B[0;36m<module>\u001B[1;34m\u001B[0m\n\u001B[0;32m      1\u001B[0m \u001B[1;32mfor\u001B[0m \u001B[0mx\u001B[0m \u001B[1;32min\u001B[0m \u001B[0mdf\u001B[0m\u001B[1;33m.\u001B[0m\u001B[0mitems\u001B[0m\u001B[1;33m(\u001B[0m\u001B[1;33m)\u001B[0m\u001B[1;33m:\u001B[0m\u001B[1;33m\u001B[0m\u001B[1;33m\u001B[0m\u001B[0m\n\u001B[1;32m----> 2\u001B[1;33m     \u001B[0mprint\u001B[0m\u001B[1;33m(\u001B[0m\u001B[0mx\u001B[0m\u001B[1;33m)\u001B[0m\u001B[1;33m\u001B[0m\u001B[1;33m\u001B[0m\u001B[0m\n\u001B[0m",
      "\u001B[1;32m_pydevd_bundle\\pydevd_cython_win32_39_64.pyx\u001B[0m in \u001B[0;36m_pydevd_bundle.pydevd_cython_win32_39_64.SafeCallWrapper.__call__\u001B[1;34m()\u001B[0m\n",
      "\u001B[1;32m_pydevd_bundle\\pydevd_cython_win32_39_64.pyx\u001B[0m in \u001B[0;36m_pydevd_bundle.pydevd_cython_win32_39_64.PyDBFrame.trace_dispatch\u001B[1;34m()\u001B[0m\n",
      "\u001B[1;32m_pydevd_bundle\\pydevd_cython_win32_39_64.pyx\u001B[0m in \u001B[0;36m_pydevd_bundle.pydevd_cython_win32_39_64.PyDBFrame.trace_dispatch\u001B[1;34m()\u001B[0m\n",
      "\u001B[1;32m_pydevd_bundle\\pydevd_cython_win32_39_64.pyx\u001B[0m in \u001B[0;36m_pydevd_bundle.pydevd_cython_win32_39_64.PyDBFrame.trace_dispatch\u001B[1;34m()\u001B[0m\n",
      "\u001B[1;32m_pydevd_bundle\\pydevd_cython_win32_39_64.pyx\u001B[0m in \u001B[0;36m_pydevd_bundle.pydevd_cython_win32_39_64.PyDBFrame.do_wait_suspend\u001B[1;34m()\u001B[0m\n",
      "\u001B[1;32mC:\\Program Files\\JetBrains\\PyCharm 2022.1.3\\plugins\\python\\helpers\\pydev\\pydevd.py\u001B[0m in \u001B[0;36mdo_wait_suspend\u001B[1;34m(self, thread, frame, event, arg, send_suspend_message, is_unhandled_exception)\u001B[0m\n\u001B[0;32m   1153\u001B[0m \u001B[1;33m\u001B[0m\u001B[0m\n\u001B[0;32m   1154\u001B[0m         \u001B[1;32mwith\u001B[0m \u001B[0mself\u001B[0m\u001B[1;33m.\u001B[0m\u001B[0m_threads_suspended_single_notification\u001B[0m\u001B[1;33m.\u001B[0m\u001B[0mnotify_thread_suspended\u001B[0m\u001B[1;33m(\u001B[0m\u001B[0mthread_id\u001B[0m\u001B[1;33m,\u001B[0m \u001B[0mstop_reason\u001B[0m\u001B[1;33m)\u001B[0m\u001B[1;33m:\u001B[0m\u001B[1;33m\u001B[0m\u001B[1;33m\u001B[0m\u001B[0m\n\u001B[1;32m-> 1155\u001B[1;33m             \u001B[0mself\u001B[0m\u001B[1;33m.\u001B[0m\u001B[0m_do_wait_suspend\u001B[0m\u001B[1;33m(\u001B[0m\u001B[0mthread\u001B[0m\u001B[1;33m,\u001B[0m \u001B[0mframe\u001B[0m\u001B[1;33m,\u001B[0m \u001B[0mevent\u001B[0m\u001B[1;33m,\u001B[0m \u001B[0marg\u001B[0m\u001B[1;33m,\u001B[0m \u001B[0msuspend_type\u001B[0m\u001B[1;33m,\u001B[0m \u001B[0mfrom_this_thread\u001B[0m\u001B[1;33m)\u001B[0m\u001B[1;33m\u001B[0m\u001B[1;33m\u001B[0m\u001B[0m\n\u001B[0m\u001B[0;32m   1156\u001B[0m \u001B[1;33m\u001B[0m\u001B[0m\n\u001B[0;32m   1157\u001B[0m     \u001B[1;32mdef\u001B[0m \u001B[0m_do_wait_suspend\u001B[0m\u001B[1;33m(\u001B[0m\u001B[0mself\u001B[0m\u001B[1;33m,\u001B[0m \u001B[0mthread\u001B[0m\u001B[1;33m,\u001B[0m \u001B[0mframe\u001B[0m\u001B[1;33m,\u001B[0m \u001B[0mevent\u001B[0m\u001B[1;33m,\u001B[0m \u001B[0marg\u001B[0m\u001B[1;33m,\u001B[0m \u001B[0msuspend_type\u001B[0m\u001B[1;33m,\u001B[0m \u001B[0mfrom_this_thread\u001B[0m\u001B[1;33m)\u001B[0m\u001B[1;33m:\u001B[0m\u001B[1;33m\u001B[0m\u001B[1;33m\u001B[0m\u001B[0m\n",
      "\u001B[1;32mC:\\Program Files\\JetBrains\\PyCharm 2022.1.3\\plugins\\python\\helpers\\pydev\\pydevd.py\u001B[0m in \u001B[0;36m_do_wait_suspend\u001B[1;34m(self, thread, frame, event, arg, suspend_type, from_this_thread)\u001B[0m\n\u001B[0;32m   1168\u001B[0m \u001B[1;33m\u001B[0m\u001B[0m\n\u001B[0;32m   1169\u001B[0m                 \u001B[0mself\u001B[0m\u001B[1;33m.\u001B[0m\u001B[0mprocess_internal_commands\u001B[0m\u001B[1;33m(\u001B[0m\u001B[1;33m)\u001B[0m\u001B[1;33m\u001B[0m\u001B[1;33m\u001B[0m\u001B[0m\n\u001B[1;32m-> 1170\u001B[1;33m                 \u001B[0mtime\u001B[0m\u001B[1;33m.\u001B[0m\u001B[0msleep\u001B[0m\u001B[1;33m(\u001B[0m\u001B[1;36m0.01\u001B[0m\u001B[1;33m)\u001B[0m\u001B[1;33m\u001B[0m\u001B[1;33m\u001B[0m\u001B[0m\n\u001B[0m\u001B[0;32m   1171\u001B[0m \u001B[1;33m\u001B[0m\u001B[0m\n\u001B[0;32m   1172\u001B[0m         \u001B[0mself\u001B[0m\u001B[1;33m.\u001B[0m\u001B[0mcancel_async_evaluation\u001B[0m\u001B[1;33m(\u001B[0m\u001B[0mget_current_thread_id\u001B[0m\u001B[1;33m(\u001B[0m\u001B[0mthread\u001B[0m\u001B[1;33m)\u001B[0m\u001B[1;33m,\u001B[0m \u001B[0mstr\u001B[0m\u001B[1;33m(\u001B[0m\u001B[0mid\u001B[0m\u001B[1;33m(\u001B[0m\u001B[0mframe\u001B[0m\u001B[1;33m)\u001B[0m\u001B[1;33m)\u001B[0m\u001B[1;33m)\u001B[0m\u001B[1;33m\u001B[0m\u001B[1;33m\u001B[0m\u001B[0m\n",
      "\u001B[1;31mKeyboardInterrupt\u001B[0m: "
     ]
    }
   ],
   "source": [
    "for x in df.items():\n",
    "    print(x)"
   ],
   "metadata": {
    "collapsed": false,
    "pycharm": {
     "name": "#%%\n"
    }
   }
  },
  {
   "cell_type": "code",
   "execution_count": 19,
   "outputs": [],
   "source": [
    "from threading import Thread"
   ],
   "metadata": {
    "collapsed": false,
    "pycharm": {
     "name": "#%%\n"
    }
   }
  },
  {
   "cell_type": "code",
   "execution_count": 17,
   "outputs": [],
   "source": [
    "idx_tmp = 0\n",
    "idx1_tmp = 0\n",
    "def f1():\n",
    "    global idx_tmp, idx1_tmp\n",
    "    for idx, row in df.iterrows():\n",
    "        idx_tmp = idx\n",
    "        path1 = row['path']\n",
    "        blob = bucket.get_blob(path1)\n",
    "        if blob.content_type != 'text/plain':\n",
    "            continue\n",
    "        ex1 = row['ex']\n",
    "        ex2 = dict_ex.get(ex1, None)\n",
    "        if ex2 == 'text/plain':\n",
    "            continue\n",
    "        if ex2:\n",
    "            blob.content_type = ex2\n",
    "            blob.update()\n",
    "            idx1_tmp += 1\n"
   ],
   "metadata": {
    "collapsed": false,
    "pycharm": {
     "name": "#%%\n"
    }
   }
  },
  {
   "cell_type": "code",
   "execution_count": 20,
   "outputs": [],
   "source": [
    "t1 = Thread(target=f1)\n",
    "t1.start()"
   ],
   "metadata": {
    "collapsed": false,
    "pycharm": {
     "name": "#%%\n"
    }
   }
  },
  {
   "cell_type": "code",
   "execution_count": 78,
   "outputs": [
    {
     "data": {
      "text/plain": "                                                     path  \\\n0       GoogleDriveTransfer/BackOffice/Регламенты/desk...   \n1       GoogleDriveTransfer/BackOffice/Регламенты/Веде...   \n2       GoogleDriveTransfer/BackOffice/Регламенты/Новы...   \n3       GoogleDriveTransfer/BackOffice/Регламенты/Прав...   \n4       GoogleDriveTransfer/BackOffice/Регламенты/СТП/...   \n...                                                   ...   \n179046  GoogleDriveTransfer/Юрист UA/Укр Суд/Опекунски...   \n179047  GoogleDriveTransfer/Юрист UA/Укр Суд/Ответ в о...   \n179048  GoogleDriveTransfer/Юрист UA/Укр Суд/Прокурату...   \n179049  GoogleDriveTransfer/Юрист UA/договір коворкінг...   \n179050  GoogleDriveTransfer/Юрист UA/правила роботи ко...   \n\n                                             content_type  \\\n0                                              text/plain   \n1                                              text/plain   \n2       application/vnd.openxmlformats-officedocument....   \n3                                              text/plain   \n4                                              text/plain   \n...                                                   ...   \n179046                                         text/plain   \n179047                                         text/plain   \n179048                                         text/plain   \n179049                                         text/plain   \n179050                                         text/plain   \n\n                                                path_list  \\\n0       [GoogleDriveTransfer, BackOffice, Регламенты, ...   \n1       [GoogleDriveTransfer, BackOffice, Регламенты, ...   \n2       [GoogleDriveTransfer, BackOffice, Регламенты, ...   \n3       [GoogleDriveTransfer, BackOffice, Регламенты, ...   \n4       [GoogleDriveTransfer, BackOffice, Регламенты, ...   \n...                                                   ...   \n179046  [GoogleDriveTransfer, Юрист UA, Укр Суд, Опеку...   \n179047  [GoogleDriveTransfer, Юрист UA, Укр Суд, Ответ...   \n179048  [GoogleDriveTransfer, Юрист UA, Укр Суд, Проку...   \n179049  [GoogleDriveTransfer, Юрист UA, договір коворк...   \n179050  [GoogleDriveTransfer, Юрист UA, правила роботи...   \n\n                                                     file  \\\n0                                             desktop.ini   \n1                                     Ведение продаж.docx   \n2                                     Новый документ.docx   \n3       Правила формирования_ отправки закр. док._дого...   \n4                                           STP_2_02.docx   \n...                                                   ...   \n179046                              Опекунский совет.docx   \n179047                             Ответ в опекнский.docx   \n179048                  Прокуратура московского р-на.docx   \n179049                            договір коворкінгу.docx   \n179050                     правила роботи коворкінгу.docx   \n\n                                                path_name    ex  \n0               GoogleDriveTransfer/BackOffice/Регламенты   ini  \n1               GoogleDriveTransfer/BackOffice/Регламенты  docx  \n2               GoogleDriveTransfer/BackOffice/Регламенты  docx  \n3               GoogleDriveTransfer/BackOffice/Регламенты  docx  \n4       GoogleDriveTransfer/BackOffice/Регламенты/СТП/STP  docx  \n...                                                   ...   ...  \n179046               GoogleDriveTransfer/Юрист UA/Укр Суд  docx  \n179047               GoogleDriveTransfer/Юрист UA/Укр Суд  docx  \n179048               GoogleDriveTransfer/Юрист UA/Укр Суд  docx  \n179049                       GoogleDriveTransfer/Юрист UA  docx  \n179050                       GoogleDriveTransfer/Юрист UA  docx  \n\n[179051 rows x 6 columns]",
      "text/html": "<div>\n<style scoped>\n    .dataframe tbody tr th:only-of-type {\n        vertical-align: middle;\n    }\n\n    .dataframe tbody tr th {\n        vertical-align: top;\n    }\n\n    .dataframe thead th {\n        text-align: right;\n    }\n</style>\n<table border=\"1\" class=\"dataframe\">\n  <thead>\n    <tr style=\"text-align: right;\">\n      <th></th>\n      <th>path</th>\n      <th>content_type</th>\n      <th>path_list</th>\n      <th>file</th>\n      <th>path_name</th>\n      <th>ex</th>\n    </tr>\n  </thead>\n  <tbody>\n    <tr>\n      <th>0</th>\n      <td>GoogleDriveTransfer/BackOffice/Регламенты/desk...</td>\n      <td>text/plain</td>\n      <td>[GoogleDriveTransfer, BackOffice, Регламенты, ...</td>\n      <td>desktop.ini</td>\n      <td>GoogleDriveTransfer/BackOffice/Регламенты</td>\n      <td>ini</td>\n    </tr>\n    <tr>\n      <th>1</th>\n      <td>GoogleDriveTransfer/BackOffice/Регламенты/Веде...</td>\n      <td>text/plain</td>\n      <td>[GoogleDriveTransfer, BackOffice, Регламенты, ...</td>\n      <td>Ведение продаж.docx</td>\n      <td>GoogleDriveTransfer/BackOffice/Регламенты</td>\n      <td>docx</td>\n    </tr>\n    <tr>\n      <th>2</th>\n      <td>GoogleDriveTransfer/BackOffice/Регламенты/Новы...</td>\n      <td>application/vnd.openxmlformats-officedocument....</td>\n      <td>[GoogleDriveTransfer, BackOffice, Регламенты, ...</td>\n      <td>Новый документ.docx</td>\n      <td>GoogleDriveTransfer/BackOffice/Регламенты</td>\n      <td>docx</td>\n    </tr>\n    <tr>\n      <th>3</th>\n      <td>GoogleDriveTransfer/BackOffice/Регламенты/Прав...</td>\n      <td>text/plain</td>\n      <td>[GoogleDriveTransfer, BackOffice, Регламенты, ...</td>\n      <td>Правила формирования_ отправки закр. док._дого...</td>\n      <td>GoogleDriveTransfer/BackOffice/Регламенты</td>\n      <td>docx</td>\n    </tr>\n    <tr>\n      <th>4</th>\n      <td>GoogleDriveTransfer/BackOffice/Регламенты/СТП/...</td>\n      <td>text/plain</td>\n      <td>[GoogleDriveTransfer, BackOffice, Регламенты, ...</td>\n      <td>STP_2_02.docx</td>\n      <td>GoogleDriveTransfer/BackOffice/Регламенты/СТП/STP</td>\n      <td>docx</td>\n    </tr>\n    <tr>\n      <th>...</th>\n      <td>...</td>\n      <td>...</td>\n      <td>...</td>\n      <td>...</td>\n      <td>...</td>\n      <td>...</td>\n    </tr>\n    <tr>\n      <th>179046</th>\n      <td>GoogleDriveTransfer/Юрист UA/Укр Суд/Опекунски...</td>\n      <td>text/plain</td>\n      <td>[GoogleDriveTransfer, Юрист UA, Укр Суд, Опеку...</td>\n      <td>Опекунский совет.docx</td>\n      <td>GoogleDriveTransfer/Юрист UA/Укр Суд</td>\n      <td>docx</td>\n    </tr>\n    <tr>\n      <th>179047</th>\n      <td>GoogleDriveTransfer/Юрист UA/Укр Суд/Ответ в о...</td>\n      <td>text/plain</td>\n      <td>[GoogleDriveTransfer, Юрист UA, Укр Суд, Ответ...</td>\n      <td>Ответ в опекнский.docx</td>\n      <td>GoogleDriveTransfer/Юрист UA/Укр Суд</td>\n      <td>docx</td>\n    </tr>\n    <tr>\n      <th>179048</th>\n      <td>GoogleDriveTransfer/Юрист UA/Укр Суд/Прокурату...</td>\n      <td>text/plain</td>\n      <td>[GoogleDriveTransfer, Юрист UA, Укр Суд, Проку...</td>\n      <td>Прокуратура московского р-на.docx</td>\n      <td>GoogleDriveTransfer/Юрист UA/Укр Суд</td>\n      <td>docx</td>\n    </tr>\n    <tr>\n      <th>179049</th>\n      <td>GoogleDriveTransfer/Юрист UA/договір коворкінг...</td>\n      <td>text/plain</td>\n      <td>[GoogleDriveTransfer, Юрист UA, договір коворк...</td>\n      <td>договір коворкінгу.docx</td>\n      <td>GoogleDriveTransfer/Юрист UA</td>\n      <td>docx</td>\n    </tr>\n    <tr>\n      <th>179050</th>\n      <td>GoogleDriveTransfer/Юрист UA/правила роботи ко...</td>\n      <td>text/plain</td>\n      <td>[GoogleDriveTransfer, Юрист UA, правила роботи...</td>\n      <td>правила роботи коворкінгу.docx</td>\n      <td>GoogleDriveTransfer/Юрист UA</td>\n      <td>docx</td>\n    </tr>\n  </tbody>\n</table>\n<p>179051 rows × 6 columns</p>\n</div>"
     },
     "execution_count": 78,
     "metadata": {},
     "output_type": "execute_result"
    }
   ],
   "source": [
    "df"
   ],
   "metadata": {
    "collapsed": false,
    "pycharm": {
     "name": "#%%\n"
    }
   }
  },
  {
   "cell_type": "code",
   "execution_count": 39,
   "outputs": [
    {
     "data": {
      "text/plain": "['txt',\n 'pdf',\n 'mp4',\n 'jpeg',\n 'docx',\n 'dwg',\n 'bak',\n 'xlsx',\n 'dwl',\n 'dwl2',\n 'jpg',\n 'doc',\n 'tmp',\n 'xls',\n 'zip',\n 'mpp',\n 'cdr',\n 'cdw',\n 'rvt',\n 'frw',\n 'rar',\n 'JPG',\n 'DOC',\n 'data',\n 'js',\n 'wasm',\n 'png',\n 'PDF',\n 'ico',\n 'css',\n 'html',\n 'svg',\n 'p7s',\n 'None',\n 'json',\n 'storage',\n 'spec',\n 'rte',\n 'err',\n 'LOG',\n 'ifc',\n 'RVT',\n 'mdf',\n 'ldf',\n 'log',\n 'nwc',\n 'sxml',\n 'db1',\n 'db2',\n '7z',\n 'nwd',\n 'TXT',\n 'DOCX',\n 'bmp',\n 'nwf',\n 'avi',\n 'xlsm',\n 'pc3',\n 'xml',\n 'PNG',\n 'lir',\n 'shx',\n 'm4v',\n 'mqh',\n 'ex5',\n 'mq5',\n 'sig',\n 'drawio',\n 'tif',\n 'md',\n 'woff',\n 'gif',\n 'eot',\n 'ttf',\n 'woff2',\n 'svgz',\n 'template',\n 'scss',\n 'map',\n 'otf']"
     },
     "execution_count": 39,
     "metadata": {},
     "output_type": "execute_result"
    }
   ],
   "source": [
    "ls_ex = df3['ex'].values.tolist()\n",
    "ls_ex"
   ],
   "metadata": {
    "collapsed": false,
    "pycharm": {
     "name": "#%%\n"
    }
   }
  },
  {
   "cell_type": "code",
   "execution_count": 44,
   "outputs": [
    {
     "data": {
      "text/plain": "'docx'"
     },
     "execution_count": 44,
     "metadata": {},
     "output_type": "execute_result"
    }
   ],
   "source": [
    "x1 = df['ex'][1]\n",
    "x1"
   ],
   "metadata": {
    "collapsed": false,
    "pycharm": {
     "name": "#%%\n"
    }
   }
  },
  {
   "cell_type": "code",
   "execution_count": 45,
   "outputs": [
    {
     "data": {
      "text/plain": "True"
     },
     "execution_count": 45,
     "metadata": {},
     "output_type": "execute_result"
    }
   ],
   "source": [
    "x1 in ls_ex"
   ],
   "metadata": {
    "collapsed": false,
    "pycharm": {
     "name": "#%%\n"
    }
   }
  },
  {
   "cell_type": "code",
   "execution_count": null,
   "outputs": [],
   "source": [],
   "metadata": {
    "collapsed": false,
    "pycharm": {
     "name": "#%%\n"
    }
   }
  },
  {
   "cell_type": "code",
   "execution_count": null,
   "outputs": [],
   "source": [],
   "metadata": {
    "collapsed": false,
    "pycharm": {
     "name": "#%%\n"
    }
   }
  },
  {
   "cell_type": "code",
   "execution_count": null,
   "outputs": [],
   "source": [],
   "metadata": {
    "collapsed": false,
    "pycharm": {
     "name": "#%%\n"
    }
   }
  },
  {
   "cell_type": "code",
   "execution_count": null,
   "outputs": [],
   "source": [],
   "metadata": {
    "collapsed": false,
    "pycharm": {
     "name": "#%%\n"
    }
   }
  },
  {
   "cell_type": "code",
   "execution_count": null,
   "outputs": [],
   "source": [],
   "metadata": {
    "collapsed": false,
    "pycharm": {
     "name": "#%%\n"
    }
   }
  },
  {
   "cell_type": "code",
   "execution_count": null,
   "outputs": [],
   "source": [],
   "metadata": {
    "collapsed": false,
    "pycharm": {
     "name": "#%%\n"
    }
   }
  },
  {
   "cell_type": "code",
   "execution_count": 53,
   "outputs": [
    {
     "data": {
      "text/plain": "1116    application/octet-stream\nName: 1, dtype: object"
     },
     "execution_count": 53,
     "metadata": {},
     "output_type": "execute_result"
    }
   ],
   "source": [
    "df3[df3['ex'] == 'dwg'][1]"
   ],
   "metadata": {
    "collapsed": false,
    "pycharm": {
     "name": "#%%\n"
    }
   }
  },
  {
   "cell_type": "code",
   "execution_count": null,
   "outputs": [],
   "source": [],
   "metadata": {
    "collapsed": false,
    "pycharm": {
     "name": "#%%\n"
    }
   }
  },
  {
   "cell_type": "code",
   "execution_count": 49,
   "outputs": [
    {
     "data": {
      "text/plain": "array(['txt', 'pdf', 'mp4', 'jpeg', 'docx', 'dwg', 'bak', 'xlsx', 'dwl',\n       'dwl2', 'jpg', 'doc', 'tmp', 'xls', 'zip', 'mpp', 'cdr', 'cdw',\n       'rvt', 'frw', 'rar', 'JPG', 'DOC', 'data', 'js', 'wasm', 'png',\n       'PDF', 'ico', 'css', 'html', 'svg', 'p7s', 'None', 'json',\n       'storage', 'spec', 'rte', 'err', 'LOG', 'ifc', 'RVT', 'mdf', 'ldf',\n       'log', 'nwc', 'sxml', 'db1', 'db2', '7z', 'nwd', 'TXT', 'DOCX',\n       'bmp', 'nwf', 'avi', 'xlsm', 'pc3', 'xml', 'PNG', 'lir', 'shx',\n       'm4v', 'mqh', 'ex5', 'mq5', 'sig', 'drawio', 'tif', 'md', 'woff',\n       'gif', 'eot', 'ttf', 'woff2', 'svgz', 'template', 'scss', 'map',\n       'otf'], dtype=object)"
     },
     "execution_count": 49,
     "metadata": {},
     "output_type": "execute_result"
    }
   ],
   "source": [
    "df3['ex'].unique()"
   ],
   "metadata": {
    "collapsed": false,
    "pycharm": {
     "name": "#%%\n"
    }
   }
  },
  {
   "cell_type": "code",
   "execution_count": 4,
   "outputs": [
    {
     "data": {
      "text/plain": "        Unnamed: 0                                                  0\n0             3618  GoogleDriveTransfer/BackOffice/Регламенты/desk...\n1             3619  GoogleDriveTransfer/BackOffice/Регламенты/Веде...\n2             3620  GoogleDriveTransfer/BackOffice/Регламенты/Новы...\n3             3621  GoogleDriveTransfer/BackOffice/Регламенты/Прав...\n4             3622  GoogleDriveTransfer/BackOffice/Регламенты/СТП/...\n...            ...                                                ...\n179046      182664  GoogleDriveTransfer/Юрист UA/Укр Суд/Опекунски...\n179047      182665  GoogleDriveTransfer/Юрист UA/Укр Суд/Ответ в о...\n179048      182666  GoogleDriveTransfer/Юрист UA/Укр Суд/Прокурату...\n179049      182667  GoogleDriveTransfer/Юрист UA/договір коворкінг...\n179050      182668  GoogleDriveTransfer/Юрист UA/правила роботи ко...\n\n[179051 rows x 2 columns]",
      "text/html": "<div>\n<style scoped>\n    .dataframe tbody tr th:only-of-type {\n        vertical-align: middle;\n    }\n\n    .dataframe tbody tr th {\n        vertical-align: top;\n    }\n\n    .dataframe thead th {\n        text-align: right;\n    }\n</style>\n<table border=\"1\" class=\"dataframe\">\n  <thead>\n    <tr style=\"text-align: right;\">\n      <th></th>\n      <th>Unnamed: 0</th>\n      <th>0</th>\n    </tr>\n  </thead>\n  <tbody>\n    <tr>\n      <th>0</th>\n      <td>3618</td>\n      <td>GoogleDriveTransfer/BackOffice/Регламенты/desk...</td>\n    </tr>\n    <tr>\n      <th>1</th>\n      <td>3619</td>\n      <td>GoogleDriveTransfer/BackOffice/Регламенты/Веде...</td>\n    </tr>\n    <tr>\n      <th>2</th>\n      <td>3620</td>\n      <td>GoogleDriveTransfer/BackOffice/Регламенты/Новы...</td>\n    </tr>\n    <tr>\n      <th>3</th>\n      <td>3621</td>\n      <td>GoogleDriveTransfer/BackOffice/Регламенты/Прав...</td>\n    </tr>\n    <tr>\n      <th>4</th>\n      <td>3622</td>\n      <td>GoogleDriveTransfer/BackOffice/Регламенты/СТП/...</td>\n    </tr>\n    <tr>\n      <th>...</th>\n      <td>...</td>\n      <td>...</td>\n    </tr>\n    <tr>\n      <th>179046</th>\n      <td>182664</td>\n      <td>GoogleDriveTransfer/Юрист UA/Укр Суд/Опекунски...</td>\n    </tr>\n    <tr>\n      <th>179047</th>\n      <td>182665</td>\n      <td>GoogleDriveTransfer/Юрист UA/Укр Суд/Ответ в о...</td>\n    </tr>\n    <tr>\n      <th>179048</th>\n      <td>182666</td>\n      <td>GoogleDriveTransfer/Юрист UA/Укр Суд/Прокурату...</td>\n    </tr>\n    <tr>\n      <th>179049</th>\n      <td>182667</td>\n      <td>GoogleDriveTransfer/Юрист UA/договір коворкінг...</td>\n    </tr>\n    <tr>\n      <th>179050</th>\n      <td>182668</td>\n      <td>GoogleDriveTransfer/Юрист UA/правила роботи ко...</td>\n    </tr>\n  </tbody>\n</table>\n<p>179051 rows × 2 columns</p>\n</div>"
     },
     "execution_count": 4,
     "metadata": {},
     "output_type": "execute_result"
    }
   ],
   "source": [
    "df = pd.read_csv('files_bucket_GoogleDriveTransfer.csv')\n",
    "df"
   ],
   "metadata": {
    "collapsed": false,
    "pycharm": {
     "name": "#%%\n"
    }
   }
  },
  {
   "cell_type": "code",
   "execution_count": null,
   "outputs": [],
   "source": [],
   "metadata": {
    "collapsed": false,
    "pycharm": {
     "name": "#%%\n"
    }
   }
  },
  {
   "cell_type": "code",
   "execution_count": 17,
   "outputs": [],
   "source": [
    "folders = [(blob.name, blob.content_type) for blob in bucket.list_blobs(prefix='GoogleDriveTransfer/')]"
   ],
   "metadata": {
    "collapsed": false,
    "pycharm": {
     "name": "#%%\n"
    }
   }
  },
  {
   "cell_type": "code",
   "execution_count": 18,
   "outputs": [
    {
     "data": {
      "text/plain": "                                                        0  \\\n0       GoogleDriveTransfer/BackOffice/Регламенты/desk...   \n1       GoogleDriveTransfer/BackOffice/Регламенты/Веде...   \n2       GoogleDriveTransfer/BackOffice/Регламенты/Новы...   \n3       GoogleDriveTransfer/BackOffice/Регламенты/Прав...   \n4       GoogleDriveTransfer/BackOffice/Регламенты/СТП/...   \n...                                                   ...   \n179046  GoogleDriveTransfer/Юрист UA/Укр Суд/Опекунски...   \n179047  GoogleDriveTransfer/Юрист UA/Укр Суд/Ответ в о...   \n179048  GoogleDriveTransfer/Юрист UA/Укр Суд/Прокурату...   \n179049  GoogleDriveTransfer/Юрист UA/договір коворкінг...   \n179050  GoogleDriveTransfer/Юрист UA/правила роботи ко...   \n\n                                                        1  \n0                                              text/plain  \n1                                              text/plain  \n2       application/vnd.openxmlformats-officedocument....  \n3                                              text/plain  \n4                                              text/plain  \n...                                                   ...  \n179046                                         text/plain  \n179047                                         text/plain  \n179048                                         text/plain  \n179049                                         text/plain  \n179050                                         text/plain  \n\n[179051 rows x 2 columns]",
      "text/html": "<div>\n<style scoped>\n    .dataframe tbody tr th:only-of-type {\n        vertical-align: middle;\n    }\n\n    .dataframe tbody tr th {\n        vertical-align: top;\n    }\n\n    .dataframe thead th {\n        text-align: right;\n    }\n</style>\n<table border=\"1\" class=\"dataframe\">\n  <thead>\n    <tr style=\"text-align: right;\">\n      <th></th>\n      <th>0</th>\n      <th>1</th>\n    </tr>\n  </thead>\n  <tbody>\n    <tr>\n      <th>0</th>\n      <td>GoogleDriveTransfer/BackOffice/Регламенты/desk...</td>\n      <td>text/plain</td>\n    </tr>\n    <tr>\n      <th>1</th>\n      <td>GoogleDriveTransfer/BackOffice/Регламенты/Веде...</td>\n      <td>text/plain</td>\n    </tr>\n    <tr>\n      <th>2</th>\n      <td>GoogleDriveTransfer/BackOffice/Регламенты/Новы...</td>\n      <td>application/vnd.openxmlformats-officedocument....</td>\n    </tr>\n    <tr>\n      <th>3</th>\n      <td>GoogleDriveTransfer/BackOffice/Регламенты/Прав...</td>\n      <td>text/plain</td>\n    </tr>\n    <tr>\n      <th>4</th>\n      <td>GoogleDriveTransfer/BackOffice/Регламенты/СТП/...</td>\n      <td>text/plain</td>\n    </tr>\n    <tr>\n      <th>...</th>\n      <td>...</td>\n      <td>...</td>\n    </tr>\n    <tr>\n      <th>179046</th>\n      <td>GoogleDriveTransfer/Юрист UA/Укр Суд/Опекунски...</td>\n      <td>text/plain</td>\n    </tr>\n    <tr>\n      <th>179047</th>\n      <td>GoogleDriveTransfer/Юрист UA/Укр Суд/Ответ в о...</td>\n      <td>text/plain</td>\n    </tr>\n    <tr>\n      <th>179048</th>\n      <td>GoogleDriveTransfer/Юрист UA/Укр Суд/Прокурату...</td>\n      <td>text/plain</td>\n    </tr>\n    <tr>\n      <th>179049</th>\n      <td>GoogleDriveTransfer/Юрист UA/договір коворкінг...</td>\n      <td>text/plain</td>\n    </tr>\n    <tr>\n      <th>179050</th>\n      <td>GoogleDriveTransfer/Юрист UA/правила роботи ко...</td>\n      <td>text/plain</td>\n    </tr>\n  </tbody>\n</table>\n<p>179051 rows × 2 columns</p>\n</div>"
     },
     "execution_count": 18,
     "metadata": {},
     "output_type": "execute_result"
    }
   ],
   "source": [
    "df = pd.DataFrame(folders)\n",
    "df"
   ],
   "metadata": {
    "collapsed": false,
    "pycharm": {
     "name": "#%%\n"
    }
   }
  },
  {
   "cell_type": "code",
   "execution_count": 19,
   "outputs": [
    {
     "data": {
      "text/plain": "text/plain                                                                 178906\napplication/vnd.openxmlformats-officedocument.wordprocessingml.document       118\napplication/vnd.openxmlformats-officedocument.spreadsheetml.sheet              22\napplication/pdf                                                                 3\napplication/octet-stream                                                        1\napplication/x-zip-compressed                                                    1\nName: 1, dtype: int64"
     },
     "execution_count": 19,
     "metadata": {},
     "output_type": "execute_result"
    }
   ],
   "source": [
    "ct = df[1].value_counts()\n",
    "ct"
   ],
   "metadata": {
    "collapsed": false,
    "pycharm": {
     "name": "#%%\n"
    }
   }
  },
  {
   "cell_type": "code",
   "execution_count": 35,
   "outputs": [],
   "source": [
    "ls = []\n",
    "def get_ex(row):\n",
    "    try:\n",
    "        s1 = row[0]\n",
    "        l1 = s1.split('/')\n",
    "        ex = l1[-1].rsplit('.', 1)\n",
    "        return ex[1]\n",
    "    except:\n",
    "        ls.append(row[0])\n",
    "        return 'None'"
   ],
   "metadata": {
    "collapsed": false,
    "pycharm": {
     "name": "#%%\n"
    }
   }
  },
  {
   "cell_type": "code",
   "execution_count": 24,
   "outputs": [],
   "source": [
    "df1 = df.copy()"
   ],
   "metadata": {
    "collapsed": false,
    "pycharm": {
     "name": "#%%\n"
    }
   }
  },
  {
   "cell_type": "code",
   "execution_count": 36,
   "outputs": [
    {
     "data": {
      "text/plain": "                                                        0  \\\n0       GoogleDriveTransfer/BackOffice/Регламенты/desk...   \n1       GoogleDriveTransfer/BackOffice/Регламенты/Веде...   \n2       GoogleDriveTransfer/BackOffice/Регламенты/Новы...   \n3       GoogleDriveTransfer/BackOffice/Регламенты/Прав...   \n4       GoogleDriveTransfer/BackOffice/Регламенты/СТП/...   \n...                                                   ...   \n179046  GoogleDriveTransfer/Юрист UA/Укр Суд/Опекунски...   \n179047  GoogleDriveTransfer/Юрист UA/Укр Суд/Ответ в о...   \n179048  GoogleDriveTransfer/Юрист UA/Укр Суд/Прокурату...   \n179049  GoogleDriveTransfer/Юрист UA/договір коворкінг...   \n179050  GoogleDriveTransfer/Юрист UA/правила роботи ко...   \n\n                                                        1    ex  \n0                                              text/plain   ini  \n1                                              text/plain  docx  \n2       application/vnd.openxmlformats-officedocument....  docx  \n3                                              text/plain  docx  \n4                                              text/plain  docx  \n...                                                   ...   ...  \n179046                                         text/plain  docx  \n179047                                         text/plain  docx  \n179048                                         text/plain  docx  \n179049                                         text/plain  docx  \n179050                                         text/plain  docx  \n\n[179051 rows x 3 columns]",
      "text/html": "<div>\n<style scoped>\n    .dataframe tbody tr th:only-of-type {\n        vertical-align: middle;\n    }\n\n    .dataframe tbody tr th {\n        vertical-align: top;\n    }\n\n    .dataframe thead th {\n        text-align: right;\n    }\n</style>\n<table border=\"1\" class=\"dataframe\">\n  <thead>\n    <tr style=\"text-align: right;\">\n      <th></th>\n      <th>0</th>\n      <th>1</th>\n      <th>ex</th>\n    </tr>\n  </thead>\n  <tbody>\n    <tr>\n      <th>0</th>\n      <td>GoogleDriveTransfer/BackOffice/Регламенты/desk...</td>\n      <td>text/plain</td>\n      <td>ini</td>\n    </tr>\n    <tr>\n      <th>1</th>\n      <td>GoogleDriveTransfer/BackOffice/Регламенты/Веде...</td>\n      <td>text/plain</td>\n      <td>docx</td>\n    </tr>\n    <tr>\n      <th>2</th>\n      <td>GoogleDriveTransfer/BackOffice/Регламенты/Новы...</td>\n      <td>application/vnd.openxmlformats-officedocument....</td>\n      <td>docx</td>\n    </tr>\n    <tr>\n      <th>3</th>\n      <td>GoogleDriveTransfer/BackOffice/Регламенты/Прав...</td>\n      <td>text/plain</td>\n      <td>docx</td>\n    </tr>\n    <tr>\n      <th>4</th>\n      <td>GoogleDriveTransfer/BackOffice/Регламенты/СТП/...</td>\n      <td>text/plain</td>\n      <td>docx</td>\n    </tr>\n    <tr>\n      <th>...</th>\n      <td>...</td>\n      <td>...</td>\n      <td>...</td>\n    </tr>\n    <tr>\n      <th>179046</th>\n      <td>GoogleDriveTransfer/Юрист UA/Укр Суд/Опекунски...</td>\n      <td>text/plain</td>\n      <td>docx</td>\n    </tr>\n    <tr>\n      <th>179047</th>\n      <td>GoogleDriveTransfer/Юрист UA/Укр Суд/Ответ в о...</td>\n      <td>text/plain</td>\n      <td>docx</td>\n    </tr>\n    <tr>\n      <th>179048</th>\n      <td>GoogleDriveTransfer/Юрист UA/Укр Суд/Прокурату...</td>\n      <td>text/plain</td>\n      <td>docx</td>\n    </tr>\n    <tr>\n      <th>179049</th>\n      <td>GoogleDriveTransfer/Юрист UA/договір коворкінг...</td>\n      <td>text/plain</td>\n      <td>docx</td>\n    </tr>\n    <tr>\n      <th>179050</th>\n      <td>GoogleDriveTransfer/Юрист UA/правила роботи ко...</td>\n      <td>text/plain</td>\n      <td>docx</td>\n    </tr>\n  </tbody>\n</table>\n<p>179051 rows × 3 columns</p>\n</div>"
     },
     "execution_count": 36,
     "metadata": {},
     "output_type": "execute_result"
    }
   ],
   "source": [
    "df1['ex'] = df1.apply(get_ex, axis=1)\n",
    "df1"
   ],
   "metadata": {
    "collapsed": false,
    "pycharm": {
     "name": "#%%\n"
    }
   }
  },
  {
   "cell_type": "code",
   "execution_count": 37,
   "outputs": [
    {
     "data": {
      "text/plain": "['GoogleDriveTransfer/Ci/007/DemoCrypto/packages/Castle.Core.4.2.1/LICENSE',\n 'GoogleDriveTransfer/Ci/mt45mssql.src/mt45mssql.src/files',\n 'GoogleDriveTransfer/Managment 1/Project JS/ВДНХ/Сети/Исходные данные/=utf-8B0K3Qu9C10LrRgtGA0LjQutCwINC+0YIg= =utf-8B0YTRgNCw0L3RhtGD0LfQvtCyLnBuZw===',\n 'GoogleDriveTransfer/Managment 1/Project JS/ВДНХ/Сети/Исходные данные/=utf-8B0KLQrdCf0Ksg0JQniDQn9CQ0KDQmtCjINCR0KM== =utf-8B0JTQo9Cp0JXQk9CeX9Ce0JHQqdCV0JUuZG9jeA===',\n 'GoogleDriveTransfer/Managment 1/Project JS/ВДНХ/Сети/Исходные данные/=utf-8B0KLQrdCf0Ksg0JQniDQn9CQ0KDQmtCjINCR0KPQlNCj0KnQlQ=== =utf-8B0JPQnlRg9GH0LDRgdGC0L7QuiA0ICgxKS5kb2N4=',\n 'GoogleDriveTransfer/Managment 1/Project JS/ВДНХ/Сети/Исходные данные/=utf-8B0KLQrdCf0Ksg0JQniDQn9CQ0KDQmtCjINCR0KPQlNCj0KnQlQ=== =utf-8B0JPQnlRg9GH0LDRgdGC0L7QuiA3ICgxKS5kb2N4=',\n 'GoogleDriveTransfer/Managment 1/Project JS/ВДНХ/Сети/Исходные данные/=utf-8B0KLQrdCf0Ksg0JQniDQn9CQ0KDQmtCjINCR0KPQlNCj0KnQlQ=== =utf-8B0JPQnlRg9GH0LDRgdGC0L7QuiAzICgxKS5kb2N4=',\n 'GoogleDriveTransfer/Managment 1/Project JS/ВДНХ/Сети/Исходные данные/=utf-8B0KLQsNCx0LvQuNGG0LAg0L7RgiDRhNGA0LDQvdGG0YPQt9C+0LIucG5n=',\n 'GoogleDriveTransfer/Managment 1/Project JS/ОКБ СУхой (1)/Эскизы_1480590865650',\n 'GoogleDriveTransfer/Managment 1/Компании/Уралгипромез АО, Екатеринбург/ПО ЗАПРОСУ НДС/ндс 3 кв 2017/подтверждение ндс',\n 'GoogleDriveTransfer/Managment 1/Тендер/01752B80',\n 'GoogleDriveTransfer/Managment 1/Тендер/01AEA410',\n 'GoogleDriveTransfer/Managment 1/Тендер/062D2000',\n 'GoogleDriveTransfer/Managment 1/Тендер/17F76340',\n 'GoogleDriveTransfer/Managment 1/Тендер/19286E10',\n 'GoogleDriveTransfer/Managment 1/Тендер/1D7E2F10',\n 'GoogleDriveTransfer/Managment 1/Тендер/2FEA7910',\n 'GoogleDriveTransfer/Managment 1/Тендер/35CCB500',\n 'GoogleDriveTransfer/Managment 1/Тендер/3B77A840',\n 'GoogleDriveTransfer/Managment 1/Тендер/3E8B4330',\n 'GoogleDriveTransfer/Managment 1/Тендер/3F1F4A10',\n 'GoogleDriveTransfer/Managment 1/Тендер/5347B410',\n 'GoogleDriveTransfer/Managment 1/Тендер/54C4EA00',\n 'GoogleDriveTransfer/Managment 1/Тендер/5D073350',\n 'GoogleDriveTransfer/Managment 1/Тендер/62B8F320',\n 'GoogleDriveTransfer/Managment 1/Тендер/661B0100',\n 'GoogleDriveTransfer/Managment 1/Тендер/68F11000',\n 'GoogleDriveTransfer/Managment 1/Тендер/79DA7E20',\n 'GoogleDriveTransfer/Managment 1/Тендер/8611E320',\n 'GoogleDriveTransfer/Managment 1/Тендер/88EB7000',\n 'GoogleDriveTransfer/Managment 1/Тендер/8A16CD30',\n 'GoogleDriveTransfer/Managment 1/Тендер/8DB58F00',\n 'GoogleDriveTransfer/Managment 1/Тендер/9783AF80',\n 'GoogleDriveTransfer/Managment 1/Тендер/B4468500',\n 'GoogleDriveTransfer/Managment 1/Тендер/B5566C70',\n 'GoogleDriveTransfer/Managment 1/Тендер/B5C99910',\n 'GoogleDriveTransfer/Managment 1/Тендер/BD212410',\n 'GoogleDriveTransfer/Managment 1/Тендер/BE012500',\n 'GoogleDriveTransfer/Managment 1/Тендер/CD79FE10',\n 'GoogleDriveTransfer/Managment 1/Тендер/D5F2FE10',\n 'GoogleDriveTransfer/Managment 1/Тендер/D6EF6420',\n 'GoogleDriveTransfer/Managment 1/Тендер/DC16B900',\n 'GoogleDriveTransfer/Managment 1/Тендер/EDF30F10',\n 'GoogleDriveTransfer/Managment 1/Тендер/FD20A830',\n 'GoogleDriveTransfer/Managment 2/Project JS/Архыз/490FB400',\n 'GoogleDriveTransfer/Managment 2/Project JS/Архыз/84C21000',\n 'GoogleDriveTransfer/Managment 2/КОМПАНИИ/силикат/ООО _Силикат+_, Новоспасское (ИНН 7313004278, ОГРН 1057313008268)_files/y300',\n 'GoogleDriveTransfer/Managment 2/КОМПАНИИ/силикат/ООО _Силикат+_, Новоспасское (ИНН 7313004278, ОГРН 1057313008268)_files/y300(1)',\n 'GoogleDriveTransfer/Managment 2/Октябрь/Ком. часть/Тендер/Доки',\n 'GoogleDriveTransfer/Managment 2/Р1/ЖК Питер 1353/Тех  часть/ИОС ГС9/5.2.2_GC2017-9-ИОС2.2_Наружные сети водоснабжения/2020.09.30_Rev.00/note+dwg/В-титул',\n 'GoogleDriveTransfer/Managment 2/Хейнекен/байкал/тех.часть/запрос на предоставление технического задания _ info _ Управление _ v-grand_files/css',\n 'GoogleDriveTransfer/Managment 2/Хейнекен/байкал/тех.часть/запрос на предоставление технического задания _ info _ Управление _ v-grand_files/saved_resource',\n 'GoogleDriveTransfer/Managment 2/Хейнекен/байкал/тех.часть/запрос на предоставление технического задания _ info _ Управление _ v-grand_files/saved_resource(1)',\n 'GoogleDriveTransfer/Managment 2/Юг Руси/Хлебзавод Юг Руси/Тех часть/Доки/Схема генплана хлебозавода-Model1',\n 'GoogleDriveTransfer/VG.COM/Project/Project JS/Архыз/490FB400',\n 'GoogleDriveTransfer/VG.COM/Project/Project JS/Архыз/84C21000',\n 'GoogleDriveTransfer/VG.COM/Project/Project JS/ВДНХ/Сети/Исходные данные/=utf-8B0K3Qu9C10LrRgtGA0LjQutCwINC+0YIg= =utf-8B0YTRgNCw0L3RhtGD0LfQvtCyLnBuZw===',\n 'GoogleDriveTransfer/VG.COM/Project/Project JS/ВДНХ/Сети/Исходные данные/=utf-8B0KLQrdCf0Ksg0JQniDQn9CQ0KDQmtCjINCR0KM== =utf-8B0JTQo9Cp0JXQk9CeX9Ce0JHQqdCV0JUuZG9jeA===',\n 'GoogleDriveTransfer/VG.COM/Project/Project JS/ВДНХ/Сети/Исходные данные/=utf-8B0KLQrdCf0Ksg0JQniDQn9CQ0KDQmtCjINCR0KPQlNCj0KnQlQ=== =utf-8B0JPQnlRg9GH0LDRgdGC0L7QuiA0ICgxKS5kb2N4=',\n 'GoogleDriveTransfer/VG.COM/Project/Project JS/ВДНХ/Сети/Исходные данные/=utf-8B0KLQrdCf0Ksg0JQniDQn9CQ0KDQmtCjINCR0KPQlNCj0KnQlQ=== =utf-8B0JPQnlRg9GH0LDRgdGC0L7QuiA3ICgxKS5kb2N4=',\n 'GoogleDriveTransfer/VG.COM/Project/Project JS/ВДНХ/Сети/Исходные данные/=utf-8B0KLQrdCf0Ksg0JQniDQn9CQ0KDQmtCjINCR0KPQlNCj0KnQlQ=== =utf-8B0JPQnlRg9GH0LDRgdGC0L7QuiAzICgxKS5kb2N4=',\n 'GoogleDriveTransfer/VG.COM/Project/Project JS/ВДНХ/Сети/Исходные данные/=utf-8B0KLQsNCx0LvQuNGG0LAg0L7RgiDRhNGA0LDQvdGG0YPQt9C+0LIucG5n=',\n 'GoogleDriveTransfer/VG.COM/Project/Project JS/Лакталис/Очистные ИРД/unknown',\n 'GoogleDriveTransfer/VG.COM/Project/Project JS/ОКБ СУхой (1)/Эскизы_1480590865650',\n 'GoogleDriveTransfer/VG.COM/Project/Project JS/Сборники цен/.svn/all-wcprops',\n 'GoogleDriveTransfer/VG.COM/Project/Project JS/Сборники цен/.svn/entries',\n 'GoogleDriveTransfer/VG.COM/Project/Project JS/Тендер/01752B80',\n 'GoogleDriveTransfer/VG.COM/Project/Project JS/Тендер/01AEA410',\n 'GoogleDriveTransfer/VG.COM/Project/Project JS/Тендер/062D2000',\n 'GoogleDriveTransfer/VG.COM/Project/Project JS/Тендер/17F76340',\n 'GoogleDriveTransfer/VG.COM/Project/Project JS/Тендер/19286E10',\n 'GoogleDriveTransfer/VG.COM/Project/Project JS/Тендер/1D7E2F10',\n 'GoogleDriveTransfer/VG.COM/Project/Project JS/Тендер/2FEA7910',\n 'GoogleDriveTransfer/VG.COM/Project/Project JS/Тендер/35CCB500',\n 'GoogleDriveTransfer/VG.COM/Project/Project JS/Тендер/3B77A840',\n 'GoogleDriveTransfer/VG.COM/Project/Project JS/Тендер/3E8B4330',\n 'GoogleDriveTransfer/VG.COM/Project/Project JS/Тендер/3F1F4A10',\n 'GoogleDriveTransfer/VG.COM/Project/Project JS/Тендер/5347B410',\n 'GoogleDriveTransfer/VG.COM/Project/Project JS/Тендер/54C4EA00',\n 'GoogleDriveTransfer/VG.COM/Project/Project JS/Тендер/5D073350',\n 'GoogleDriveTransfer/VG.COM/Project/Project JS/Тендер/62B8F320',\n 'GoogleDriveTransfer/VG.COM/Project/Project JS/Тендер/661B0100',\n 'GoogleDriveTransfer/VG.COM/Project/Project JS/Тендер/68F11000',\n 'GoogleDriveTransfer/VG.COM/Project/Project JS/Тендер/79DA7E20',\n 'GoogleDriveTransfer/VG.COM/Project/Project JS/Тендер/8611E320',\n 'GoogleDriveTransfer/VG.COM/Project/Project JS/Тендер/88EB7000',\n 'GoogleDriveTransfer/VG.COM/Project/Project JS/Тендер/8A16CD30',\n 'GoogleDriveTransfer/VG.COM/Project/Project JS/Тендер/8DB58F00',\n 'GoogleDriveTransfer/VG.COM/Project/Project JS/Тендер/9783AF80',\n 'GoogleDriveTransfer/VG.COM/Project/Project JS/Тендер/B4468500',\n 'GoogleDriveTransfer/VG.COM/Project/Project JS/Тендер/B5566C70',\n 'GoogleDriveTransfer/VG.COM/Project/Project JS/Тендер/B5C99910',\n 'GoogleDriveTransfer/VG.COM/Project/Project JS/Тендер/BD212410',\n 'GoogleDriveTransfer/VG.COM/Project/Project JS/Тендер/BE012500',\n 'GoogleDriveTransfer/VG.COM/Project/Project JS/Тендер/CD79FE10',\n 'GoogleDriveTransfer/VG.COM/Project/Project JS/Тендер/D5F2FE10',\n 'GoogleDriveTransfer/VG.COM/Project/Project JS/Тендер/D6EF6420',\n 'GoogleDriveTransfer/VG.COM/Project/Project JS/Тендер/DC16B900',\n 'GoogleDriveTransfer/VG.COM/Project/Project JS/Тендер/EDF30F10',\n 'GoogleDriveTransfer/VG.COM/Project/Project JS/Тендер/FD20A830',\n 'GoogleDriveTransfer/VG.COM/Бюджет/Мотивация сотрудников/архив/Замбрибор/0ABB3C60',\n 'GoogleDriveTransfer/VG.COM/Бюджет/Учет времени/Чек по операции',\n 'GoogleDriveTransfer/VG.COM/Бюджет/Учет времени/Чек по операции (1)',\n 'GoogleDriveTransfer/VG.COM/Бюджет/Чеки/Чек по операции',\n 'GoogleDriveTransfer/VG.COM/Бюджет/Чеки/Чек по операции (1)',\n 'GoogleDriveTransfer/VG.COM/Бюджет/Чеки/Чек по операции (10)',\n 'GoogleDriveTransfer/VG.COM/Бюджет/Чеки/Чек по операции (2)',\n 'GoogleDriveTransfer/VG.COM/Бюджет/Чеки/Чек по операции (3)',\n 'GoogleDriveTransfer/VG.COM/Бюджет/Чеки/Чек по операции (4)',\n 'GoogleDriveTransfer/VG.COM/Бюджет/Чеки/Чек по операции (5)',\n 'GoogleDriveTransfer/VG.COM/Бюджет/Чеки/Чек по операции (6)',\n 'GoogleDriveTransfer/VG.COM/Бюджет/Чеки/Чек по операции (7)',\n 'GoogleDriveTransfer/VG.COM/Бюджет/Чеки/Чек по операции (8)',\n 'GoogleDriveTransfer/VG.COM/Бюджет/Чеки/Чек по операции (9)',\n 'GoogleDriveTransfer/VG.COM/Бюджет/Чеки/Эскизы_1492683009127',\n 'GoogleDriveTransfer/VG.COM/Сотрудники/mdomanova@v-grand.ru/audovikov@v-grand.ru/ВСЯЧИНА/лого',\n 'GoogleDriveTransfer/VG.COM/Сотрудники/mdomanova@v-grand.ru/audovikov@v-grand.ru/Удовиков/Компании/Уралгипромез АО, Екатеринбург/ПО ЗАПРОСУ НДС/ндс 3 кв 2017/подтверждение ндс',\n 'GoogleDriveTransfer/Адвокатский кабинет/МПК/Исполнительный лист/Исп 1',\n 'GoogleDriveTransfer/Адвокатский кабинет/МПК/Исполнительный лист/исп 2',\n 'GoogleDriveTransfer/Архив/BIM/Шаблон 2021/Шаблон АР/Текстуры/p0l3r41',\n 'GoogleDriveTransfer/Архив/Без названия/Ольга Задоркина 2018/авто/Пеликан/.svn/all-wcprops',\n 'GoogleDriveTransfer/Архив/Без названия/Ольга Задоркина 2018/авто/Пеликан/.svn/entries',\n 'GoogleDriveTransfer/Архив/Без названия/Ольга Задоркина 2018/авто/Пеликан/АР/.svn/all-wcprops',\n 'GoogleDriveTransfer/Архив/Без названия/Ольга Задоркина 2018/авто/Пеликан/АР/.svn/entries',\n 'GoogleDriveTransfer/Архив/Без названия/Ольга Задоркина 2018/авто/Пеликан/АР/2011_06_30 I Корпус выдача после замечаний заказчика/.svn/all-wcprops',\n 'GoogleDriveTransfer/Архив/Без названия/Ольга Задоркина 2018/авто/Пеликан/АР/2011_06_30 I Корпус выдача после замечаний заказчика/.svn/entries',\n 'GoogleDriveTransfer/Архив/Без названия/Ольга Задоркина 2018/авто/Пеликан/АР/2011_07_02 II корпус АР с учетом замечаний/.svn/all-wcprops',\n 'GoogleDriveTransfer/Архив/Без названия/Ольга Задоркина 2018/авто/Пеликан/АР/2011_07_02 II корпус АР с учетом замечаний/.svn/entries',\n 'GoogleDriveTransfer/Архив/Без названия/Ольга Задоркина 2018/авто/Пеликан/АР/2011_07_04 III Корпус АР с учетом замечаний/.svn/all-wcprops',\n 'GoogleDriveTransfer/Архив/Без названия/Ольга Задоркина 2018/авто/Пеликан/АР/2011_07_04 III Корпус АР с учетом замечаний/.svn/entries',\n 'GoogleDriveTransfer/Архив/Без названия/Ольга Задоркина 2018/авто/Пеликан/Инженерные системы/.svn/all-wcprops',\n 'GoogleDriveTransfer/Архив/Без названия/Ольга Задоркина 2018/авто/Пеликан/Инженерные системы/.svn/entries',\n 'GoogleDriveTransfer/Архив/Без названия/Ольга Задоркина 2018/авто/Пеликан/Инженерные системы/ВК/.svn/all-wcprops',\n 'GoogleDriveTransfer/Архив/Без названия/Ольга Задоркина 2018/авто/Пеликан/Инженерные системы/ВК/.svn/entries',\n 'GoogleDriveTransfer/Архив/Без названия/Ольга Задоркина 2018/авто/Пеликан/Инженерные системы/ВК/К 2-изм.2/.svn/all-wcprops',\n 'GoogleDriveTransfer/Архив/Без названия/Ольга Задоркина 2018/авто/Пеликан/Инженерные системы/ВК/К 2-изм.2/.svn/entries',\n 'GoogleDriveTransfer/Архив/Без названия/Ольга Задоркина 2018/авто/Пеликан/Инженерные системы/ВК/К1-изм.3/.svn/all-wcprops',\n 'GoogleDriveTransfer/Архив/Без названия/Ольга Задоркина 2018/авто/Пеликан/Инженерные системы/ВК/К1-изм.3/.svn/entries',\n 'GoogleDriveTransfer/Архив/Без названия/Ольга Задоркина 2018/авто/Пеликан/Инженерные системы/ВК/К3-изм.3/.svn/all-wcprops',\n 'GoogleDriveTransfer/Архив/Без названия/Ольга Задоркина 2018/авто/Пеликан/Инженерные системы/ВК/К3-изм.3/.svn/entries',\n 'GoogleDriveTransfer/Архив/Без названия/Ольга Задоркина 2018/авто/Пеликан/Инженерные системы/ОВ/.svn/all-wcprops',\n 'GoogleDriveTransfer/Архив/Без названия/Ольга Задоркина 2018/авто/Пеликан/Инженерные системы/ОВ/.svn/entries',\n 'GoogleDriveTransfer/Архив/Без названия/Ольга Задоркина 2018/авто/Пеликан/Инженерные системы/ОВ/1 корпус/.svn/all-wcprops',\n 'GoogleDriveTransfer/Архив/Без названия/Ольга Задоркина 2018/авто/Пеликан/Инженерные системы/ОВ/1 корпус/.svn/entries',\n 'GoogleDriveTransfer/Архив/Без названия/Ольга Задоркина 2018/авто/Пеликан/Инженерные системы/ОВ/1 корпус/Вентиляция от 12.07/.svn/all-wcprops',\n 'GoogleDriveTransfer/Архив/Без названия/Ольга Задоркина 2018/авто/Пеликан/Инженерные системы/ОВ/1 корпус/Вентиляция от 12.07/.svn/entries',\n 'GoogleDriveTransfer/Архив/Без названия/Ольга Задоркина 2018/авто/Пеликан/Инженерные системы/ОВ/1 корпус/Спецификация/.svn/all-wcprops',\n 'GoogleDriveTransfer/Архив/Без названия/Ольга Задоркина 2018/авто/Пеликан/Инженерные системы/ОВ/1 корпус/Спецификация/.svn/entries',\n 'GoogleDriveTransfer/Архив/Без названия/Ольга Задоркина 2018/авто/Пеликан/Инженерные системы/ОВ/1 корпус/Холодоснабжение Выпуск 2/.svn/all-wcprops',\n 'GoogleDriveTransfer/Архив/Без названия/Ольга Задоркина 2018/авто/Пеликан/Инженерные системы/ОВ/1 корпус/Холодоснабжение Выпуск 2/.svn/entries',\n 'GoogleDriveTransfer/Архив/Без названия/Ольга Задоркина 2018/авто/Пеликан/Инженерные системы/ОВ/1 корпус/Холодоснабжение Выпуск 2/Корпус 1. БМВ/.svn/all-wcprops',\n 'GoogleDriveTransfer/Архив/Без названия/Ольга Задоркина 2018/авто/Пеликан/Инженерные системы/ОВ/1 корпус/Холодоснабжение Выпуск 2/Корпус 1. БМВ/.svn/entries',\n 'GoogleDriveTransfer/Архив/Без названия/Ольга Задоркина 2018/авто/Пеликан/Инженерные системы/ОВ/1 корпус/Холодоснабжение Выпуск 2/Корпус 1. БМВ/ЗАДАНИЯ на Корпус 1/.svn/all-wcprops',\n 'GoogleDriveTransfer/Архив/Без названия/Ольга Задоркина 2018/авто/Пеликан/Инженерные системы/ОВ/1 корпус/Холодоснабжение Выпуск 2/Корпус 1. БМВ/ЗАДАНИЯ на Корпус 1/.svn/entries',\n 'GoogleDriveTransfer/Архив/Без названия/Ольга Задоркина 2018/авто/Пеликан/Инженерные системы/ОВ/1 корпус/Холодоснабжение Выпуск 2/Корпус 1. БМВ/Оборудование/.svn/all-wcprops',\n 'GoogleDriveTransfer/Архив/Без названия/Ольга Задоркина 2018/авто/Пеликан/Инженерные системы/ОВ/1 корпус/Холодоснабжение Выпуск 2/Корпус 1. БМВ/Оборудование/.svn/entries',\n 'GoogleDriveTransfer/Архив/Без названия/Ольга Задоркина 2018/авто/Пеликан/Инженерные системы/ОВ/1 корпус/Холодоснабжение Выпуск 2/Корпус 1. БМВ/Оборудование/Гидромодуль/.svn/all-wcprops',\n 'GoogleDriveTransfer/Архив/Без названия/Ольга Задоркина 2018/авто/Пеликан/Инженерные системы/ОВ/1 корпус/Холодоснабжение Выпуск 2/Корпус 1. БМВ/Оборудование/Гидромодуль/.svn/entries',\n 'GoogleDriveTransfer/Архив/Без названия/Ольга Задоркина 2018/авто/Пеликан/Инженерные системы/ОВ/1 корпус/Холодоснабжение Выпуск 2/Корпус 1. БМВ/Оборудование/Насос/.svn/all-wcprops',\n 'GoogleDriveTransfer/Архив/Без названия/Ольга Задоркина 2018/авто/Пеликан/Инженерные системы/ОВ/1 корпус/Холодоснабжение Выпуск 2/Корпус 1. БМВ/Оборудование/Насос/.svn/entries',\n 'GoogleDriveTransfer/Архив/Без названия/Ольга Задоркина 2018/авто/Пеликан/Инженерные системы/ОВ/1 корпус/Холодоснабжение Выпуск 2/Корпус 1. БМВ/Оборудование/Теплообменники/.svn/all-wcprops',\n 'GoogleDriveTransfer/Архив/Без названия/Ольга Задоркина 2018/авто/Пеликан/Инженерные системы/ОВ/1 корпус/Холодоснабжение Выпуск 2/Корпус 1. БМВ/Оборудование/Теплообменники/.svn/entries',\n 'GoogleDriveTransfer/Архив/Без названия/Ольга Задоркина 2018/авто/Пеликан/Инженерные системы/ОВ/1 корпус/Холодоснабжение Выпуск 2/Корпус 1. БМВ/Оборудование/Чиллеры/.svn/all-wcprops',\n 'GoogleDriveTransfer/Архив/Без названия/Ольга Задоркина 2018/авто/Пеликан/Инженерные системы/ОВ/1 корпус/Холодоснабжение Выпуск 2/Корпус 1. БМВ/Оборудование/Чиллеры/.svn/entries',\n 'GoogleDriveTransfer/Архив/Без названия/Ольга Задоркина 2018/авто/Пеликан/Инженерные системы/ОВ/1 корпус/Холодоснабжение Выпуск 2/Корпус 1. БМВ/Чертежи Корпус. 1/.svn/all-wcprops',\n 'GoogleDriveTransfer/Архив/Без названия/Ольга Задоркина 2018/авто/Пеликан/Инженерные системы/ОВ/1 корпус/Холодоснабжение Выпуск 2/Корпус 1. БМВ/Чертежи Корпус. 1/.svn/entries',\n 'GoogleDriveTransfer/Архив/Без названия/Ольга Задоркина 2018/авто/Пеликан/Инженерные системы/ОВ/1 корпус/Холодоснабжение Выпуск 2/Оборудование/.svn/all-wcprops',\n 'GoogleDriveTransfer/Архив/Без названия/Ольга Задоркина 2018/авто/Пеликан/Инженерные системы/ОВ/1 корпус/Холодоснабжение Выпуск 2/Оборудование/.svn/entries',\n 'GoogleDriveTransfer/Архив/Без названия/Ольга Задоркина 2018/авто/Пеликан/Инженерные системы/ОВ/1 корпус/Холодоснабжение Выпуск 2/Оборудование/Гидромодуль/.svn/all-wcprops',\n 'GoogleDriveTransfer/Архив/Без названия/Ольга Задоркина 2018/авто/Пеликан/Инженерные системы/ОВ/1 корпус/Холодоснабжение Выпуск 2/Оборудование/Гидромодуль/.svn/entries',\n 'GoogleDriveTransfer/Архив/Без названия/Ольга Задоркина 2018/авто/Пеликан/Инженерные системы/ОВ/1 корпус/Холодоснабжение Выпуск 2/Оборудование/Насос/.svn/all-wcprops',\n 'GoogleDriveTransfer/Архив/Без названия/Ольга Задоркина 2018/авто/Пеликан/Инженерные системы/ОВ/1 корпус/Холодоснабжение Выпуск 2/Оборудование/Насос/.svn/entries',\n 'GoogleDriveTransfer/Архив/Без названия/Ольга Задоркина 2018/авто/Пеликан/Инженерные системы/ОВ/1 корпус/Холодоснабжение Выпуск 2/Оборудование/Теплообменники/.svn/all-wcprops',\n 'GoogleDriveTransfer/Архив/Без названия/Ольга Задоркина 2018/авто/Пеликан/Инженерные системы/ОВ/1 корпус/Холодоснабжение Выпуск 2/Оборудование/Теплообменники/.svn/entries',\n 'GoogleDriveTransfer/Архив/Без названия/Ольга Задоркина 2018/авто/Пеликан/Инженерные системы/ОВ/1 корпус/Холодоснабжение Выпуск 2/Оборудование/Чиллеры/.svn/all-wcprops',\n 'GoogleDriveTransfer/Архив/Без названия/Ольга Задоркина 2018/авто/Пеликан/Инженерные системы/ОВ/1 корпус/Холодоснабжение Выпуск 2/Оборудование/Чиллеры/.svn/entries',\n 'GoogleDriveTransfer/Архив/Без названия/Ольга Задоркина 2018/авто/Пеликан/Инженерные системы/ОВ/2 корпус/.svn/all-wcprops',\n 'GoogleDriveTransfer/Архив/Без названия/Ольга Задоркина 2018/авто/Пеликан/Инженерные системы/ОВ/2 корпус/.svn/entries',\n 'GoogleDriveTransfer/Архив/Без названия/Ольга Задоркина 2018/авто/Пеликан/Инженерные системы/ОВ/2 корпус/Ниссан на печать заказчику Август/.svn/all-wcprops',\n 'GoogleDriveTransfer/Архив/Без названия/Ольга Задоркина 2018/авто/Пеликан/Инженерные системы/ОВ/2 корпус/Ниссан на печать заказчику Август/.svn/entries',\n 'GoogleDriveTransfer/Архив/Без названия/Ольга Задоркина 2018/авто/Пеликан/Инженерные системы/ОВ/2 корпус/Холодоснабжение Выпуск 2/.svn/all-wcprops',\n 'GoogleDriveTransfer/Архив/Без названия/Ольга Задоркина 2018/авто/Пеликан/Инженерные системы/ОВ/2 корпус/Холодоснабжение Выпуск 2/.svn/entries',\n 'GoogleDriveTransfer/Архив/Без названия/Ольга Задоркина 2018/авто/Пеликан/Инженерные системы/ОВ/2 корпус/Холодоснабжение Выпуск 2/Оборудования/.svn/all-wcprops',\n 'GoogleDriveTransfer/Архив/Без названия/Ольга Задоркина 2018/авто/Пеликан/Инженерные системы/ОВ/2 корпус/Холодоснабжение Выпуск 2/Оборудования/.svn/entries',\n 'GoogleDriveTransfer/Архив/Без названия/Ольга Задоркина 2018/авто/Пеликан/Инженерные системы/ОВ/2 корпус/Холодоснабжение Выпуск 2/Оборудования/Насос/.svn/all-wcprops',\n 'GoogleDriveTransfer/Архив/Без названия/Ольга Задоркина 2018/авто/Пеликан/Инженерные системы/ОВ/2 корпус/Холодоснабжение Выпуск 2/Оборудования/Насос/.svn/entries',\n 'GoogleDriveTransfer/Архив/Без названия/Ольга Задоркина 2018/авто/Пеликан/Инженерные системы/ОВ/2 корпус/Холодоснабжение Выпуск 2/Оборудования/Теплообменник/.svn/all-wcprops',\n 'GoogleDriveTransfer/Архив/Без названия/Ольга Задоркина 2018/авто/Пеликан/Инженерные системы/ОВ/2 корпус/Холодоснабжение Выпуск 2/Оборудования/Теплообменник/.svn/entries',\n 'GoogleDriveTransfer/Архив/Без названия/Ольга Задоркина 2018/авто/Пеликан/Инженерные системы/ОВ/2 корпус/Холодоснабжение Выпуск 2/Оборудования/Чиллер/.svn/all-wcprops',\n 'GoogleDriveTransfer/Архив/Без названия/Ольга Задоркина 2018/авто/Пеликан/Инженерные системы/ОВ/2 корпус/Холодоснабжение Выпуск 2/Оборудования/Чиллер/.svn/entries',\n 'GoogleDriveTransfer/Архив/Без названия/Ольга Задоркина 2018/авто/Пеликан/Инженерные системы/ОВ/3 корпус/.svn/all-wcprops',\n 'GoogleDriveTransfer/Архив/Без названия/Ольга Задоркина 2018/авто/Пеликан/Инженерные системы/ОВ/3 корпус/.svn/entries',\n 'GoogleDriveTransfer/Архив/Без названия/Ольга Задоркина 2018/авто/Пеликан/Инженерные системы/ОВ/3 корпус/Вентиляция От 13.07/.svn/all-wcprops',\n 'GoogleDriveTransfer/Архив/Без названия/Ольга Задоркина 2018/авто/Пеликан/Инженерные системы/ОВ/3 корпус/Вентиляция От 13.07/.svn/entries',\n 'GoogleDriveTransfer/Архив/Без названия/Ольга Задоркина 2018/авто/Пеликан/Инженерные системы/ОВ/3 корпус/Холодоснабжение Выпуск 2/.svn/all-wcprops',\n 'GoogleDriveTransfer/Архив/Без названия/Ольга Задоркина 2018/авто/Пеликан/Инженерные системы/ОВ/3 корпус/Холодоснабжение Выпуск 2/.svn/entries',\n 'GoogleDriveTransfer/Архив/Без названия/Ольга Задоркина 2018/авто/Пеликан/Инженерные системы/ОВ/3 корпус/Холодоснабжение Выпуск 2/Оборудование/.svn/all-wcprops',\n 'GoogleDriveTransfer/Архив/Без названия/Ольга Задоркина 2018/авто/Пеликан/Инженерные системы/ОВ/3 корпус/Холодоснабжение Выпуск 2/Оборудование/.svn/entries',\n 'GoogleDriveTransfer/Архив/Без названия/Ольга Задоркина 2018/авто/Пеликан/Инженерные системы/ОВ/3 корпус/Холодоснабжение Выпуск 2/Оборудование/Насос/.svn/all-wcprops',\n 'GoogleDriveTransfer/Архив/Без названия/Ольга Задоркина 2018/авто/Пеликан/Инженерные системы/ОВ/3 корпус/Холодоснабжение Выпуск 2/Оборудование/Насос/.svn/entries',\n 'GoogleDriveTransfer/Архив/Без названия/Ольга Задоркина 2018/авто/Пеликан/Инженерные системы/ОВ/3 корпус/Холодоснабжение Выпуск 2/Оборудование/Теплообменник/.svn/all-wcprops',\n 'GoogleDriveTransfer/Архив/Без названия/Ольга Задоркина 2018/авто/Пеликан/Инженерные системы/ОВ/3 корпус/Холодоснабжение Выпуск 2/Оборудование/Теплообменник/.svn/entries',\n 'GoogleDriveTransfer/Архив/Без названия/Ольга Задоркина 2018/авто/Пеликан/Инженерные системы/ОВ/3 корпус/Холодоснабжение Выпуск 2/Оборудование/Чиллер/.svn/all-wcprops',\n 'GoogleDriveTransfer/Архив/Без названия/Ольга Задоркина 2018/авто/Пеликан/Инженерные системы/ОВ/3 корпус/Холодоснабжение Выпуск 2/Оборудование/Чиллер/.svn/entries',\n 'GoogleDriveTransfer/Архив/Без названия/Ольга Задоркина 2018/авто/Пеликан/Инженерные системы/ОВ/Отопление, ВТЗ/.svn/all-wcprops',\n 'GoogleDriveTransfer/Архив/Без названия/Ольга Задоркина 2018/авто/Пеликан/Инженерные системы/ОВ/Отопление, ВТЗ/.svn/entries',\n 'GoogleDriveTransfer/Архив/Без названия/Ольга Задоркина 2018/авто/Пеликан/Инженерные системы/ОВ/Отопление, ВТЗ/ВТЗ/.svn/all-wcprops',\n 'GoogleDriveTransfer/Архив/Без названия/Ольга Задоркина 2018/авто/Пеликан/Инженерные системы/ОВ/Отопление, ВТЗ/ВТЗ/.svn/entries',\n 'GoogleDriveTransfer/Архив/Без названия/Ольга Задоркина 2018/авто/Пеликан/Инженерные системы/ОВ/Отопление, ВТЗ/Отопление/.svn/all-wcprops',\n 'GoogleDriveTransfer/Архив/Без названия/Ольга Задоркина 2018/авто/Пеликан/Инженерные системы/ОВ/Отопление, ВТЗ/Отопление/.svn/entries',\n 'GoogleDriveTransfer/Архив/Без названия/Ольга Задоркина 2018/авто/Пеликан/Освещение/.svn/all-wcprops',\n 'GoogleDriveTransfer/Архив/Без названия/Ольга Задоркина 2018/авто/Пеликан/Освещение/.svn/entries',\n 'GoogleDriveTransfer/Архив/Без названия/Ольга Задоркина 2018/авто/Пеликан/ТХ_Выпуск_22.08.2011/.svn/all-wcprops',\n 'GoogleDriveTransfer/Архив/Без названия/Ольга Задоркина 2018/авто/Пеликан/ТХ_Выпуск_22.08.2011/.svn/entries',\n 'GoogleDriveTransfer/Архив/Без названия/Ольга Задоркина 2018/авто/Пеликан/ТХ_Выпуск_22.08.2011/01_БМВ/.svn/all-wcprops',\n 'GoogleDriveTransfer/Архив/Без названия/Ольга Задоркина 2018/авто/Пеликан/ТХ_Выпуск_22.08.2011/01_БМВ/.svn/entries',\n 'GoogleDriveTransfer/Архив/Без названия/Ольга Задоркина 2018/авто/Пеликан/ТХ_Выпуск_22.08.2011/01_БМВ/Склад/.svn/all-wcprops',\n 'GoogleDriveTransfer/Архив/Без названия/Ольга Задоркина 2018/авто/Пеликан/ТХ_Выпуск_22.08.2011/01_БМВ/Склад/.svn/entries',\n 'GoogleDriveTransfer/Архив/Без названия/Ольга Задоркина 2018/авто/Пеликан/ТХ_Выпуск_22.08.2011/01_БМВ/Слесарный цех/.svn/all-wcprops',\n 'GoogleDriveTransfer/Архив/Без названия/Ольга Задоркина 2018/авто/Пеликан/ТХ_Выпуск_22.08.2011/01_БМВ/Слесарный цех/.svn/entries',\n 'GoogleDriveTransfer/Архив/Без названия/Ольга Задоркина 2018/авто/Пеликан/ТХ_Выпуск_22.08.2011/01_БМВ/Слесарный цех/Слесарный цех 26.07.11/.svn/all-wcprops',\n 'GoogleDriveTransfer/Архив/Без названия/Ольга Задоркина 2018/авто/Пеликан/ТХ_Выпуск_22.08.2011/01_БМВ/Слесарный цех/Слесарный цех 26.07.11/.svn/entries',\n 'GoogleDriveTransfer/Архив/Без названия/Ольга Задоркина 2018/авто/Пеликан/ТХ_Выпуск_22.08.2011/01_БМВ/Слесарный цех/Слесарный цех 26.07.11/Задания по подъемникам/.svn/all-wcprops',\n 'GoogleDriveTransfer/Архив/Без названия/Ольга Задоркина 2018/авто/Пеликан/ТХ_Выпуск_22.08.2011/01_БМВ/Слесарный цех/Слесарный цех 26.07.11/Задания по подъемникам/.svn/entries',\n 'GoogleDriveTransfer/Архив/Без названия/Ольга Задоркина 2018/авто/Пеликан/ТХ_Выпуск_22.08.2011/01_БМВ/Шоу-рум/.svn/all-wcprops',\n 'GoogleDriveTransfer/Архив/Без названия/Ольга Задоркина 2018/авто/Пеликан/ТХ_Выпуск_22.08.2011/01_БМВ/Шоу-рум/.svn/entries',\n 'GoogleDriveTransfer/Архив/Без названия/Ольга Задоркина 2018/авто/Пеликан/ТХ_Выпуск_22.08.2011/02_Ниссан/.svn/all-wcprops',\n 'GoogleDriveTransfer/Архив/Без названия/Ольга Задоркина 2018/авто/Пеликан/ТХ_Выпуск_22.08.2011/02_Ниссан/.svn/entries',\n 'GoogleDriveTransfer/Архив/Без названия/Ольга Задоркина 2018/авто/Пеликан/ТХ_Выпуск_22.08.2011/02_Ниссан/Склад/.svn/all-wcprops',\n 'GoogleDriveTransfer/Архив/Без названия/Ольга Задоркина 2018/авто/Пеликан/ТХ_Выпуск_22.08.2011/02_Ниссан/Склад/.svn/entries',\n 'GoogleDriveTransfer/Архив/Без названия/Ольга Задоркина 2018/авто/Пеликан/ТХ_Выпуск_22.08.2011/02_Ниссан/Цех/.svn/all-wcprops',\n 'GoogleDriveTransfer/Архив/Без названия/Ольга Задоркина 2018/авто/Пеликан/ТХ_Выпуск_22.08.2011/02_Ниссан/Цех/.svn/entries',\n 'GoogleDriveTransfer/Архив/Без названия/Ольга Задоркина 2018/авто/Пеликан/ТХ_Выпуск_22.08.2011/02_Ниссан/Цех/Оборудование/.svn/all-wcprops',\n 'GoogleDriveTransfer/Архив/Без названия/Ольга Задоркина 2018/авто/Пеликан/ТХ_Выпуск_22.08.2011/02_Ниссан/Цех/Оборудование/.svn/entries',\n 'GoogleDriveTransfer/Архив/Без названия/Ольга Задоркина 2018/авто/Пеликан/ТХ_Выпуск_22.08.2011/02_Ниссан/Шоу-рум/.svn/all-wcprops',\n 'GoogleDriveTransfer/Архив/Без названия/Ольга Задоркина 2018/авто/Пеликан/ТХ_Выпуск_22.08.2011/02_Ниссан/Шоу-рум/.svn/entries',\n 'GoogleDriveTransfer/Архив/Без названия/Ольга Задоркина 2018/авто/Пеликан/ТХ_Выпуск_22.08.2011/03_Шкода/.svn/all-wcprops',\n 'GoogleDriveTransfer/Архив/Без названия/Ольга Задоркина 2018/авто/Пеликан/ТХ_Выпуск_22.08.2011/03_Шкода/.svn/entries',\n 'GoogleDriveTransfer/Архив/Без названия/Ольга Задоркина 2018/авто/Пеликан/ТХ_Выпуск_22.08.2011/03_Шкода/Склад/.svn/all-wcprops',\n 'GoogleDriveTransfer/Архив/Без названия/Ольга Задоркина 2018/авто/Пеликан/ТХ_Выпуск_22.08.2011/03_Шкода/Склад/.svn/entries',\n 'GoogleDriveTransfer/Архив/Без названия/Ольга Задоркина 2018/авто/Пеликан/ТХ_Выпуск_22.08.2011/03_Шкода/Цех/.svn/all-wcprops',\n 'GoogleDriveTransfer/Архив/Без названия/Ольга Задоркина 2018/авто/Пеликан/ТХ_Выпуск_22.08.2011/03_Шкода/Цех/.svn/entries',\n 'GoogleDriveTransfer/Архив/Без названия/Ольга Задоркина 2018/авто/Пеликан/ТХ_Выпуск_22.08.2011/03_Шкода/Шоу-рум/.svn/all-wcprops',\n 'GoogleDriveTransfer/Архив/Без названия/Ольга Задоркина 2018/авто/Пеликан/ТХ_Выпуск_22.08.2011/03_Шкода/Шоу-рум/.svn/entries',\n 'GoogleDriveTransfer/Архив/Без названия/Ольга Задоркина 2018/авто/Пеликан/ТХ_Выпуск_22.08.2011/Компрессора/.svn/all-wcprops',\n 'GoogleDriveTransfer/Архив/Без названия/Ольга Задоркина 2018/авто/Пеликан/ТХ_Выпуск_22.08.2011/Компрессора/.svn/entries',\n 'GoogleDriveTransfer/Архив/Без названия/Ольга Задоркина 2018/авто/Пеликан/ТХ_Выпуск_22.08.2011/Лифт для столовой/.svn/all-wcprops',\n 'GoogleDriveTransfer/Архив/Без названия/Ольга Задоркина 2018/авто/Пеликан/ТХ_Выпуск_22.08.2011/Лифт для столовой/.svn/entries',\n 'GoogleDriveTransfer/Архив/Без названия/Ольга Задоркина 2018/авто/Пеликан/ТХ_Выпуск_22.08.2011/Мойки/.svn/all-wcprops',\n 'GoogleDriveTransfer/Архив/Без названия/Ольга Задоркина 2018/авто/Пеликан/ТХ_Выпуск_22.08.2011/Мойки/.svn/entries',\n 'GoogleDriveTransfer/Архив/Без названия/Ольга Задоркина 2018/авто/Пеликан/ТХ_Выпуск_22.08.2011/Общепит/.svn/all-wcprops',\n 'GoogleDriveTransfer/Архив/Без названия/Ольга Задоркина 2018/авто/Пеликан/ТХ_Выпуск_22.08.2011/Общепит/.svn/entries',\n 'GoogleDriveTransfer/Архив/Без названия/Ольга Задоркина 2018/авто/Пеликан/ТХ_Выпуск_22.08.2011/Общепит/Бар БМВ/.svn/all-wcprops',\n 'GoogleDriveTransfer/Архив/Без названия/Ольга Задоркина 2018/авто/Пеликан/ТХ_Выпуск_22.08.2011/Общепит/Бар БМВ/.svn/entries',\n 'GoogleDriveTransfer/Архив/Без названия/Ольга Задоркина 2018/авто/Пеликан/ТХ_Выпуск_22.08.2011/Общепит/Бар Ниссан/.svn/all-wcprops',\n 'GoogleDriveTransfer/Архив/Без названия/Ольга Задоркина 2018/авто/Пеликан/ТХ_Выпуск_22.08.2011/Общепит/Бар Ниссан/.svn/entries',\n 'GoogleDriveTransfer/Архив/Без названия/Ольга Задоркина 2018/авто/Пеликан/ТХ_Выпуск_22.08.2011/Общепит/Бар Шкода/.svn/all-wcprops',\n 'GoogleDriveTransfer/Архив/Без названия/Ольга Задоркина 2018/авто/Пеликан/ТХ_Выпуск_22.08.2011/Общепит/Бар Шкода/.svn/entries',\n 'GoogleDriveTransfer/Архив/Без названия/Ольга Задоркина 2018/авто/Пеликан/ТХ_Выпуск_22.08.2011/Общепит/Столова БМВ/.svn/all-wcprops',\n 'GoogleDriveTransfer/Архив/Без названия/Ольга Задоркина 2018/авто/Пеликан/ТХ_Выпуск_22.08.2011/Общепит/Столова БМВ/.svn/entries',\n 'GoogleDriveTransfer/Архив/Без названия/Ольга Задоркина 2018/авто/Пеликан/ТХ_Выпуск_22.08.2011/Общепит/Столовая Ниссан/.svn/all-wcprops',\n 'GoogleDriveTransfer/Архив/Без названия/Ольга Задоркина 2018/авто/Пеликан/ТХ_Выпуск_22.08.2011/Общепит/Столовая Ниссан/.svn/entries',\n 'GoogleDriveTransfer/Архив/Без названия/Ольга Задоркина 2018/авто/Пеликан/ТХ_Выпуск_22.08.2011/Сбор масла/.svn/all-wcprops',\n 'GoogleDriveTransfer/Архив/Без названия/Ольга Задоркина 2018/авто/Пеликан/ТХ_Выпуск_22.08.2011/Сбор масла/.svn/entries',\n 'GoogleDriveTransfer/Архив/Без названия/Ольга Задоркина 2018/авто/Пеликан/ТХ_Выпуск_22.08.2011/ТХ_I Корпус Подъемники для инвалидов/.svn/all-wcprops',\n 'GoogleDriveTransfer/Архив/Без названия/Ольга Задоркина 2018/авто/Пеликан/ТХ_Выпуск_22.08.2011/ТХ_I Корпус Подъемники для инвалидов/.svn/entries',\n 'GoogleDriveTransfer/Архив/Без названия/Ольга Задоркина 2018/авто/Пеликан/Э/.svn/all-wcprops',\n 'GoogleDriveTransfer/Архив/Без названия/Ольга Задоркина 2018/авто/Пеликан/Э/.svn/entries',\n 'GoogleDriveTransfer/Архив/Без названия/Ольга Задоркина 2018/авто/Пеликан/Э/1 БМВ/.svn/all-wcprops',\n 'GoogleDriveTransfer/Архив/Без названия/Ольга Задоркина 2018/авто/Пеликан/Э/1 БМВ/.svn/entries',\n 'GoogleDriveTransfer/Архив/Без названия/Ольга Задоркина 2018/авто/Пеликан/Э/2 Ниссан/.svn/all-wcprops',\n 'GoogleDriveTransfer/Архив/Без названия/Ольга Задоркина 2018/авто/Пеликан/Э/2 Ниссан/.svn/entries',\n 'GoogleDriveTransfer/Архив/Без названия/Ольга Задоркина 2018/авто/Пеликан/Э/3 Шкода/.svn/all-wcprops',\n 'GoogleDriveTransfer/Архив/Без названия/Ольга Задоркина 2018/авто/Пеликан/Э/3 Шкода/.svn/entries',\n 'GoogleDriveTransfer/Архив/Пример-ПЗ-ОТР/.svn/all-wcprops',\n 'GoogleDriveTransfer/Архив/Пример-ПЗ-ОТР/.svn/entries',\n 'GoogleDriveTransfer/Архив/Пром/Пищевая/РусТомат/Рабочая документация/Разработка/240417-КМ/240417-КМ.1/atmp0868',\n 'GoogleDriveTransfer/Архив/Пром/Пищевая/РусТомат/Рабочая документация/Разработка/240417-КМ/240417-КМ.1/черновики/atmp8652',\n 'GoogleDriveTransfer/Архив/Пром/Пищевая/РусТомат/Рабочая документация/Разработка/240417-КМ/240417-км.2/atmp1771',\n 'GoogleDriveTransfer/Архив/Пром/Пищевая/РусТомат/Рабочая документация/Разработка/240417-КМ/240417-км.2/atmp2176',\n 'GoogleDriveTransfer/Архив/Пром/Тяж маш/НКВЗ/ПП1-ПП4/Исходные данные/Заключения, старые проекты/Скан2 эпб здания пп-4 (мех участок)    17-map-2017',\n 'GoogleDriveTransfer/Архив/Пром/Тяж маш/НКВЗ/ПП1-ПП4/Исходные данные/Информация ТХ/Крепи/F7078100',\n 'GoogleDriveTransfer/Архив/Пром/Тяж маш/ТВСЗ/Участок закалки литой консоли/Исходные данные/Оборудование/17.02.17/unknown',\n 'GoogleDriveTransfer/Архив/Пром/Тяж маш/ТВСЗ/Участок закалки литой консоли/Исходные данные/Оборудование/17.02.17/unknown (1)',\n 'GoogleDriveTransfer/Бухгалтер RUS/КАДРЫ/ЗАРПЛАТА/ЗП бухгалтер/Бухгалтер/Чек по операции',\n 'GoogleDriveTransfer/Бухгалтер RUS/КОНТРАГЕНТЫ/ПОСТАВЩИКИ/ПОДРЯДЧИКИ/2 Подрядчики/ООО Нетпик/Счета_ПП/Счет №183 ПФ.pdf_files/css',\n 'GoogleDriveTransfer/Бухгалтер RUS/КОНТРАГЕНТЫ/ПОСТАВЩИКИ/ПОДРЯДЧИКИ/2 Подрядчики/ООО Нетпик/Счета_ПП/Счет №183 ПФ.pdf_files/css(1)',\n 'GoogleDriveTransfer/Бухгалтер RUS/КОНТРАГЕНТЫ/ПОСТАВЩИКИ/ПОДРЯДЧИКИ/2 Подрядчики/ООО Нетпик/Счета_ПП/Счет №183 ПФ.pdf_files/saved_resource',\n 'GoogleDriveTransfer/Бухгалтер RUS/КОНТРАГЕНТЫ/ПОСТАВЩИКИ/ПОДРЯДЧИКИ/2 Подрядчики/ООО Нетпик/Счета_ПП/Счет №183 ПФ.pdf_files/saved_resource(1)',\n 'GoogleDriveTransfer/Бухгалтер RUS/КОНТРАГЕНТЫ/ПОСТАВЩИКИ/ПОДРЯДЧИКИ/2 Подрядчики/ООО Нетпик/Счета_ПП/Счет №183 ПФ.pdf_files/saved_resource(2)',\n 'GoogleDriveTransfer/Бухгалтер RUS/КОНТРАГЕНТЫ/ПОСТАВЩИКИ/ПОДРЯДЧИКИ/2 Подрядчики/ООО Нетпик/Счета_ПП/Счет №183 ПФ.pdf_files/saved_resource(3)',\n 'GoogleDriveTransfer/Бухгалтер RUS/КОНТРАГЕНТЫ/ПОСТАВЩИКИ/ПОДРЯДЧИКИ/2 Подрядчики/ООО Продвижение в интернете/Счета_ПП/Выписка счета_files/f8b32f5be9',\n 'GoogleDriveTransfer/Бухгалтер RUS/НА ОПЛАТУ/оплачено/01.09.21/Счёт Антей',\n 'GoogleDriveTransfer/Бухгалтер RUS/НА ОПЛАТУ/оплачено/Фото от Vitalii',\n 'GoogleDriveTransfer/Бухгалтер RUS/НА ОПЛАТУ/оплачено/оплачено/МПК аппеляция',\n 'GoogleDriveTransfer/Бухгалтер RUS/НА ОПЛАТУ/оплачено/оплачено/командировка Мск',\n 'GoogleDriveTransfer/Бухгалтер RUS/НАЛОГИ/2020/F848AB00',\n 'GoogleDriveTransfer/Бухгалтер RUS/ОТЧЕТЫ/2017/3 кв/ндс 3 кв 2017/подтверждение ндс',\n 'GoogleDriveTransfer/Бухгалтер UA/ЗП/Тинькофф/2020/Ноябрь 2020/Чек по операции Герюков',\n 'GoogleDriveTransfer/Бухгалтер UA/ЗП/Тинькофф/2020/Ноябрь 2020/Чек по операции Жиров',\n 'GoogleDriveTransfer/Бухгалтер UA/ЗП/Тинькофф/2020/Ноябрь 2020/Чек по операции Красовитова',\n 'GoogleDriveTransfer/Бухгалтер UA/ЗП/Тинькофф/2020/Ноябрь 2020/Чек по операции Фимушкин',\n 'GoogleDriveTransfer/Бухгалтер UA/ЗП/Тинькофф/2020/Октябрь 2020/Величко Виталий Андреевич - реквизиты',\n 'GoogleDriveTransfer/Бухгалтер UA/ЗП/Тинькофф/2020/Октябрь 2020/Справка по операции Плагин',\n 'GoogleDriveTransfer/Бухгалтер UA/ЗП/Тинькофф/2020/Октябрь 2020/Чек по операции',\n 'GoogleDriveTransfer/Бухгалтер UA/ЗП/Тинькофф/2020/Сентябрь 2020/Чек по операции',\n 'GoogleDriveTransfer/Бухгалтер UA/ЗП/Тинькофф/2021/Апрель 2021/Табачников',\n 'GoogleDriveTransfer/Бухгалтер UA/ЗП/Тинькофф/2021/Октябрь 2021/Jakovlev',\n 'GoogleDriveTransfer/Бухгалтер UA/ЗП/Тинькофф/2021/Февраль 2021/Выписка сбер',\n 'GoogleDriveTransfer/Бухгалтер UA/ЗП/Тинькофф/2021/Февраль 2021/Чек по операции Теткие',\n 'GoogleDriveTransfer/Бухгалтер UA/ЗП/Тинькофф/2021/Январь 2021/Чек по операции',\n 'GoogleDriveTransfer/Бухгалтер UA/ЗП/Тинькофф/2021/Январь 2021/Чек по операции Элла',\n 'GoogleDriveTransfer/Бухгалтер UA/ООО/ ооо фоп сравнение',\n 'GoogleDriveTransfer/Винный парк/Исходные данные/Сыроварня/Стадия_П_Винный парк_26.08.19/BasicFileInfo',\n 'GoogleDriveTransfer/Винный парк/Исходные данные/Сыроварня/Стадия_П_Винный парк_26.08.19/Contents',\n 'GoogleDriveTransfer/Винный парк/Исходные данные/Сыроварня/Стадия_П_Винный парк_26.08.19/Formats/Latest',\n 'GoogleDriveTransfer/Винный парк/Исходные данные/Сыроварня/Стадия_П_Винный парк_26.08.19/Global/ContentDocuments',\n 'GoogleDriveTransfer/Винный парк/Исходные данные/Сыроварня/Стадия_П_Винный парк_26.08.19/Global/DocumentIncrementTable',\n 'GoogleDriveTransfer/Винный парк/Исходные данные/Сыроварня/Стадия_П_Винный парк_26.08.19/Global/ElemTable',\n 'GoogleDriveTransfer/Винный парк/Исходные данные/Сыроварня/Стадия_П_Винный парк_26.08.19/Global/History',\n 'GoogleDriveTransfer/Винный парк/Исходные данные/Сыроварня/Стадия_П_Винный парк_26.08.19/Global/Latest',\n 'GoogleDriveTransfer/Винный парк/Исходные данные/Сыроварня/Стадия_П_Винный парк_26.08.19/Global/PartitionTable',\n 'GoogleDriveTransfer/Винный парк/Исходные данные/Сыроварня/Стадия_П_Винный парк_26.08.19/Partitions/0',\n 'GoogleDriveTransfer/Винный парк/Исходные данные/Сыроварня/Стадия_П_Винный парк_26.08.19/Partitions/1',\n 'GoogleDriveTransfer/Винный парк/Исходные данные/Сыроварня/Стадия_П_Винный парк_26.08.19/Partitions/2',\n 'GoogleDriveTransfer/Винный парк/Исходные данные/Сыроварня/Стадия_П_Винный парк_26.08.19/Partitions/3',\n 'GoogleDriveTransfer/Винный парк/Исходные данные/Сыроварня/Стадия_П_Винный парк_26.08.19/Partitions/4',\n 'GoogleDriveTransfer/Винный парк/Исходные данные/Сыроварня/Стадия_П_Винный парк_26.08.19/Partitions/5',\n 'GoogleDriveTransfer/Винный парк/Исходные данные/Сыроварня/Стадия_П_Винный парк_26.08.19/Partitions/6',\n 'GoogleDriveTransfer/Винный парк/Исходные данные/Сыроварня/Стадия_П_Винный парк_26.08.19/Partitions/7',\n 'GoogleDriveTransfer/Винный парк/Исходные данные/Сыроварня/Стадия_П_Винный парк_26.08.19/Partitions/8',\n 'GoogleDriveTransfer/Винный парк/Исходные данные/Сыроварня/Стадия_П_Винный парк_26.08.19/ProjectInformation',\n 'GoogleDriveTransfer/Винный парк/Исходные данные/Сыроварня/Стадия_П_Винный парк_26.08.19/TransmissionData',\n 'GoogleDriveTransfer/Винный парк/Проектная документация/Корректировка/ТХ1/Инструкция для корр ПД',\n 'GoogleDriveTransfer/Контент/Разработка/Разобрать!!!/vmagomedrasulov@v-grand.ru/DemoCrypto/packages/Castle.Core.4.2.1/LICENSE',\n 'GoogleDriveTransfer/Контент/УВЗ Балтия Визуализация/.svn/all-wcprops',\n 'GoogleDriveTransfer/Контент/УВЗ Балтия Визуализация/.svn/entries',\n 'GoogleDriveTransfer/Контент/Я делюсь с вами файлом grandstail_ru_organic_keywords_subdomains',\n 'GoogleDriveTransfer/Контент_VG/Италия/Италия',\n 'GoogleDriveTransfer/Контент_VG/Италия/Ню/Управление хранилищем Google One',\n 'GoogleDriveTransfer/Контент_VG/Италия/Управление хранилищем Google One',\n 'GoogleDriveTransfer/Контент_VG/Контент/Рабочий стол/hosts',\n 'GoogleDriveTransfer/Лобня/Авторский надзор/2020.07.22 Фото и протокол/2EE34000',\n 'GoogleDriveTransfer/Лобня/Проектная документация/Корректировка ПД в рамках строительства/Корректировка №2/Подтверждение, Акт устранения/0158e8be-6f00-47c5-9ed6-940f923f6868',\n 'GoogleDriveTransfer/Лобня/Проектная документация/Корректировка ПД в рамках строительства/Корректировка №2/Подтверждение, Акт устранения/022f0015-a23b-4f65-93c7-d7f31e2ad48e',\n 'GoogleDriveTransfer/Лобня/Проектная документация/Корректировка ПД в рамках строительства/Корректировка №2/Подтверждение, Акт устранения/025cfb68-5389-461c-ad72-35d1e2f6bc43',\n 'GoogleDriveTransfer/Лобня/Проектная документация/Корректировка ПД в рамках строительства/Корректировка №2/Подтверждение, Акт устранения/0279e8ae-af71-4cca-89a4-e1da0215adfa',\n 'GoogleDriveTransfer/Лобня/Проектная документация/Корректировка ПД в рамках строительства/Корректировка №2/Подтверждение, Акт устранения/03f3cde9-e9ef-4627-bbbc-55d8220cf98b',\n 'GoogleDriveTransfer/Лобня/Проектная документация/Корректировка ПД в рамках строительства/Корректировка №2/Подтверждение, Акт устранения/06132c73-23cf-421e-91d9-2472597cbb4b',\n 'GoogleDriveTransfer/Лобня/Проектная документация/Корректировка ПД в рамках строительства/Корректировка №2/Подтверждение, Акт устранения/0643cb45-1069-4c4d-87d2-600fec5f361e',\n 'GoogleDriveTransfer/Лобня/Проектная документация/Корректировка ПД в рамках строительства/Корректировка №2/Подтверждение, Акт устранения/064e7fef-3178-46da-adc1-24072934c926',\n 'GoogleDriveTransfer/Лобня/Проектная документация/Корректировка ПД в рамках строительства/Корректировка №2/Подтверждение, Акт устранения/0666ed34-8686-441a-b4fe-9a6f2ba9bb2e',\n 'GoogleDriveTransfer/Лобня/Проектная документация/Корректировка ПД в рамках строительства/Корректировка №2/Подтверждение, Акт устранения/070143d3-3592-400e-9070-9018162a5ea1',\n 'GoogleDriveTransfer/Лобня/Проектная документация/Корректировка ПД в рамках строительства/Корректировка №2/Подтверждение, Акт устранения/073ef484-7ffd-4efa-99be-a0764f37310f',\n 'GoogleDriveTransfer/Лобня/Проектная документация/Корректировка ПД в рамках строительства/Корректировка №2/Подтверждение, Акт устранения/082050dd-a303-4044-8c1d-feb251e11ab9',\n 'GoogleDriveTransfer/Лобня/Проектная документация/Корректировка ПД в рамках строительства/Корректировка №2/Подтверждение, Акт устранения/08458fd8-ddf0-4654-9b55-fabc04c1fb45',\n 'GoogleDriveTransfer/Лобня/Проектная документация/Корректировка ПД в рамках строительства/Корректировка №2/Подтверждение, Акт устранения/09429889-a88a-45a3-84d5-f82eeaa32552',\n 'GoogleDriveTransfer/Лобня/Проектная документация/Корректировка ПД в рамках строительства/Корректировка №2/Подтверждение, Акт устранения/0955a3c2-ec06-4568-9df2-51be979c839c',\n 'GoogleDriveTransfer/Лобня/Проектная документация/Корректировка ПД в рамках строительства/Корректировка №2/Подтверждение, Акт устранения/09dde433-7af1-4c48-a07b-6ad2965ac009',\n 'GoogleDriveTransfer/Лобня/Проектная документация/Корректировка ПД в рамках строительства/Корректировка №2/Подтверждение, Акт устранения/0ae4523e-b1b9-4b5a-b767-56d5bf024da5',\n 'GoogleDriveTransfer/Лобня/Проектная документация/Корректировка ПД в рамках строительства/Корректировка №2/Подтверждение, Акт устранения/0c49dccb-77a2-47ba-8950-6bf658940a29',\n 'GoogleDriveTransfer/Лобня/Проектная документация/Корректировка ПД в рамках строительства/Корректировка №2/Подтверждение, Акт устранения/0c4b09ed-2ba0-487c-acb8-2885cd687c42',\n 'GoogleDriveTransfer/Лобня/Проектная документация/Корректировка ПД в рамках строительства/Корректировка №2/Подтверждение, Акт устранения/0ca9ad26-a27a-4c11-b32a-022cc7f2c46b',\n 'GoogleDriveTransfer/Лобня/Проектная документация/Корректировка ПД в рамках строительства/Корректировка №2/Подтверждение, Акт устранения/0cf218c0-faa5-40b8-8725-6b77d44de5a3',\n 'GoogleDriveTransfer/Лобня/Проектная документация/Корректировка ПД в рамках строительства/Корректировка №2/Подтверждение, Акт устранения/0dec15a3-c422-46db-9486-1513b2a589ee',\n 'GoogleDriveTransfer/Лобня/Проектная документация/Корректировка ПД в рамках строительства/Корректировка №2/Подтверждение, Акт устранения/1050a9ba-f6c1-48e9-9308-75dd0c3e1ed0',\n 'GoogleDriveTransfer/Лобня/Проектная документация/Корректировка ПД в рамках строительства/Корректировка №2/Подтверждение, Акт устранения/1199365e-7052-45de-9cdd-f3b3353a3caa',\n 'GoogleDriveTransfer/Лобня/Проектная документация/Корректировка ПД в рамках строительства/Корректировка №2/Подтверждение, Акт устранения/12da25c7-805c-419e-b191-53004dd42460',\n 'GoogleDriveTransfer/Лобня/Проектная документация/Корректировка ПД в рамках строительства/Корректировка №2/Подтверждение, Акт устранения/147d3e80-6407-4cd2-8929-bf6b0dcb57d8',\n 'GoogleDriveTransfer/Лобня/Проектная документация/Корректировка ПД в рамках строительства/Корректировка №2/Подтверждение, Акт устранения/14ce3669-91f8-464e-a84a-ead86a29d734',\n 'GoogleDriveTransfer/Лобня/Проектная документация/Корректировка ПД в рамках строительства/Корректировка №2/Подтверждение, Акт устранения/15576927-c8ec-4590-967f-13b110d41db0',\n 'GoogleDriveTransfer/Лобня/Проектная документация/Корректировка ПД в рамках строительства/Корректировка №2/Подтверждение, Акт устранения/15a2973d-4af8-4ff6-abdf-952dbdc50a44',\n 'GoogleDriveTransfer/Лобня/Проектная документация/Корректировка ПД в рамках строительства/Корректировка №2/Подтверждение, Акт устранения/1625dc4b-9988-48c0-8fc3-880a59b126bb',\n 'GoogleDriveTransfer/Лобня/Проектная документация/Корректировка ПД в рамках строительства/Корректировка №2/Подтверждение, Акт устранения/173d4222-b0c5-4b10-b568-955212008e59',\n 'GoogleDriveTransfer/Лобня/Проектная документация/Корректировка ПД в рамках строительства/Корректировка №2/Подтверждение, Акт устранения/196b5928-8d67-4853-9013-8704da7aff65',\n 'GoogleDriveTransfer/Лобня/Проектная документация/Корректировка ПД в рамках строительства/Корректировка №2/Подтверждение, Акт устранения/1b291c03-c364-47f8-979a-e49a83b1b8fe',\n 'GoogleDriveTransfer/Лобня/Проектная документация/Корректировка ПД в рамках строительства/Корректировка №2/Подтверждение, Акт устранения/1c15de9f-9df7-477a-9659-531562ac1ec2',\n 'GoogleDriveTransfer/Лобня/Проектная документация/Корректировка ПД в рамках строительства/Корректировка №2/Подтверждение, Акт устранения/1c5509d7-423b-4cd5-ab71-cc1be196f0de',\n 'GoogleDriveTransfer/Лобня/Проектная документация/Корректировка ПД в рамках строительства/Корректировка №2/Подтверждение, Акт устранения/1cfb801a-aa36-47db-8f69-1892e72f19b0',\n 'GoogleDriveTransfer/Лобня/Проектная документация/Корректировка ПД в рамках строительства/Корректировка №2/Подтверждение, Акт устранения/1dfa299c-c020-4985-b042-996a9da52332',\n 'GoogleDriveTransfer/Лобня/Проектная документация/Корректировка ПД в рамках строительства/Корректировка №2/Подтверждение, Акт устранения/2063a933-2e18-4fc5-bdf3-401fdbe91ac2',\n 'GoogleDriveTransfer/Лобня/Проектная документация/Корректировка ПД в рамках строительства/Корректировка №2/Подтверждение, Акт устранения/212d2a64-c8ea-48b8-91be-0b91a1ede507',\n 'GoogleDriveTransfer/Лобня/Проектная документация/Корректировка ПД в рамках строительства/Корректировка №2/Подтверждение, Акт устранения/233f8fee-dbee-44a0-93c6-e531270287d8',\n 'GoogleDriveTransfer/Лобня/Проектная документация/Корректировка ПД в рамках строительства/Корректировка №2/Подтверждение, Акт устранения/24508cfc-3d14-46a5-893a-a24e9d06956e',\n 'GoogleDriveTransfer/Лобня/Проектная документация/Корректировка ПД в рамках строительства/Корректировка №2/Подтверждение, Акт устранения/24b632b2-3522-4276-ae72-9b38e756c9a0',\n 'GoogleDriveTransfer/Лобня/Проектная документация/Корректировка ПД в рамках строительства/Корректировка №2/Подтверждение, Акт устранения/26fcb26b-0d4a-4717-a983-73d0547c3a61',\n 'GoogleDriveTransfer/Лобня/Проектная документация/Корректировка ПД в рамках строительства/Корректировка №2/Подтверждение, Акт устранения/283ac69c-f99e-4029-bdd0-423044f67058',\n 'GoogleDriveTransfer/Лобня/Проектная документация/Корректировка ПД в рамках строительства/Корректировка №2/Подтверждение, Акт устранения/28c7d9a0-971e-4bb4-9e7c-c2b610d5d970',\n 'GoogleDriveTransfer/Лобня/Проектная документация/Корректировка ПД в рамках строительства/Корректировка №2/Подтверждение, Акт устранения/2efd864f-63ca-44ea-9cb5-58b9abe83b25',\n 'GoogleDriveTransfer/Лобня/Проектная документация/Корректировка ПД в рамках строительства/Корректировка №2/Подтверждение, Акт устранения/2f049e6c-0ea0-4c9d-bd24-b4186bef3ab2',\n 'GoogleDriveTransfer/Лобня/Проектная документация/Корректировка ПД в рамках строительства/Корректировка №2/Подтверждение, Акт устранения/3025d5f9-0b0d-4c5b-b31a-db3df0b5e7f6',\n 'GoogleDriveTransfer/Лобня/Проектная документация/Корректировка ПД в рамках строительства/Корректировка №2/Подтверждение, Акт устранения/34f7f596-266e-4652-a5c7-ba0aae710c18',\n 'GoogleDriveTransfer/Лобня/Проектная документация/Корректировка ПД в рамках строительства/Корректировка №2/Подтверждение, Акт устранения/35ff4b12-7689-4f81-8b03-72872a033283',\n 'GoogleDriveTransfer/Лобня/Проектная документация/Корректировка ПД в рамках строительства/Корректировка №2/Подтверждение, Акт устранения/3787d639-4033-462a-b829-ea12623c466c',\n 'GoogleDriveTransfer/Лобня/Проектная документация/Корректировка ПД в рамках строительства/Корректировка №2/Подтверждение, Акт устранения/3a8a849e-b3dd-4b0e-8b16-c17080f75175',\n 'GoogleDriveTransfer/Лобня/Проектная документация/Корректировка ПД в рамках строительства/Корректировка №2/Подтверждение, Акт устранения/3ba1e8b1-0832-4872-933d-ab933b1b262c',\n 'GoogleDriveTransfer/Лобня/Проектная документация/Корректировка ПД в рамках строительства/Корректировка №2/Подтверждение, Акт устранения/3f7f6a5c-9a5e-4165-b359-debd6d478940',\n 'GoogleDriveTransfer/Лобня/Проектная документация/Корректировка ПД в рамках строительства/Корректировка №2/Подтверждение, Акт устранения/40083f2e-9b3c-4cf3-a54b-158bd5ed8814',\n 'GoogleDriveTransfer/Лобня/Проектная документация/Корректировка ПД в рамках строительства/Корректировка №2/Подтверждение, Акт устранения/42c5c5e6-b2ac-47dd-a2d4-98353ba90f28',\n 'GoogleDriveTransfer/Лобня/Проектная документация/Корректировка ПД в рамках строительства/Корректировка №2/Подтверждение, Акт устранения/479e849d-27ee-4c00-829f-eb00f06bf48a',\n 'GoogleDriveTransfer/Лобня/Проектная документация/Корректировка ПД в рамках строительства/Корректировка №2/Подтверждение, Акт устранения/4889fc6f-7b7f-4673-8844-134c6392766a',\n 'GoogleDriveTransfer/Лобня/Проектная документация/Корректировка ПД в рамках строительства/Корректировка №2/Подтверждение, Акт устранения/4c451676-bfe2-4681-ad1a-8f2d76e1fb24',\n 'GoogleDriveTransfer/Лобня/Проектная документация/Корректировка ПД в рамках строительства/Корректировка №2/Подтверждение, Акт устранения/4d9cbdfd-8b19-4894-89dc-00ca06186c97',\n 'GoogleDriveTransfer/Лобня/Проектная документация/Корректировка ПД в рамках строительства/Корректировка №2/Подтверждение, Акт устранения/4e843c18-eaa9-493b-944e-eb2a3ce78f74',\n 'GoogleDriveTransfer/Лобня/Проектная документация/Корректировка ПД в рамках строительства/Корректировка №2/Подтверждение, Акт устранения/4f5e89fa-f30b-4d82-a02d-0d1234090cea',\n 'GoogleDriveTransfer/Лобня/Проектная документация/Корректировка ПД в рамках строительства/Корректировка №2/Подтверждение, Акт устранения/510e0c21-0bd1-4cda-a347-f4b0ca18e829',\n 'GoogleDriveTransfer/Лобня/Проектная документация/Корректировка ПД в рамках строительства/Корректировка №2/Подтверждение, Акт устранения/51ae2ded-a2d2-44e8-8804-f85da7d75225',\n 'GoogleDriveTransfer/Лобня/Проектная документация/Корректировка ПД в рамках строительства/Корректировка №2/Подтверждение, Акт устранения/51baa5ef-77c7-4660-a1f1-736ee7ac6f34',\n 'GoogleDriveTransfer/Лобня/Проектная документация/Корректировка ПД в рамках строительства/Корректировка №2/Подтверждение, Акт устранения/52a4da0f-e155-47f5-a1db-4a9218cbcf75',\n 'GoogleDriveTransfer/Лобня/Проектная документация/Корректировка ПД в рамках строительства/Корректировка №2/Подтверждение, Акт устранения/52d9a14a-13b1-4156-a36d-e259c7cb03c3',\n 'GoogleDriveTransfer/Лобня/Проектная документация/Корректировка ПД в рамках строительства/Корректировка №2/Подтверждение, Акт устранения/58c2aaf7-8e67-44db-a907-c6a95f8834de',\n 'GoogleDriveTransfer/Лобня/Проектная документация/Корректировка ПД в рамках строительства/Корректировка №2/Подтверждение, Акт устранения/5c409f24-851e-432b-9375-a4011a187899',\n 'GoogleDriveTransfer/Лобня/Проектная документация/Корректировка ПД в рамках строительства/Корректировка №2/Подтверждение, Акт устранения/5d272b3b-49c7-40a0-b668-1cdfa540f41b',\n 'GoogleDriveTransfer/Лобня/Проектная документация/Корректировка ПД в рамках строительства/Корректировка №2/Подтверждение, Акт устранения/5db06861-7540-4182-900d-d7618ba7c308',\n 'GoogleDriveTransfer/Лобня/Проектная документация/Корректировка ПД в рамках строительства/Корректировка №2/Подтверждение, Акт устранения/6100698e-e6dc-428c-967c-1e4268ffb24b',\n 'GoogleDriveTransfer/Лобня/Проектная документация/Корректировка ПД в рамках строительства/Корректировка №2/Подтверждение, Акт устранения/617b103f-4891-41bf-8c30-7ed73acd53b5',\n 'GoogleDriveTransfer/Лобня/Проектная документация/Корректировка ПД в рамках строительства/Корректировка №2/Подтверждение, Акт устранения/633f85cd-dc67-403c-bbf0-c2d350f4c7f4',\n 'GoogleDriveTransfer/Лобня/Проектная документация/Корректировка ПД в рамках строительства/Корректировка №2/Подтверждение, Акт устранения/667db91e-a641-4be3-a3e2-3513e72969b7',\n 'GoogleDriveTransfer/Лобня/Проектная документация/Корректировка ПД в рамках строительства/Корректировка №2/Подтверждение, Акт устранения/66ffb4b3-e398-42c7-b31b-103304f32560',\n 'GoogleDriveTransfer/Лобня/Проектная документация/Корректировка ПД в рамках строительства/Корректировка №2/Подтверждение, Акт устранения/67260a97-aa61-42dc-ba47-e1ea6d4e93c5',\n 'GoogleDriveTransfer/Лобня/Проектная документация/Корректировка ПД в рамках строительства/Корректировка №2/Подтверждение, Акт устранения/67a582ad-20d6-4ae9-b2f4-119705880118',\n 'GoogleDriveTransfer/Лобня/Проектная документация/Корректировка ПД в рамках строительства/Корректировка №2/Подтверждение, Акт устранения/67f53fd0-23e0-4b6a-b79c-0f719554e85f',\n 'GoogleDriveTransfer/Лобня/Проектная документация/Корректировка ПД в рамках строительства/Корректировка №2/Подтверждение, Акт устранения/67f5622d-e72f-462f-bccc-efd94ff1a557',\n 'GoogleDriveTransfer/Лобня/Проектная документация/Корректировка ПД в рамках строительства/Корректировка №2/Подтверждение, Акт устранения/68280e0d-a861-45e7-b665-4582b62d4323',\n 'GoogleDriveTransfer/Лобня/Проектная документация/Корректировка ПД в рамках строительства/Корректировка №2/Подтверждение, Акт устранения/6983d1c4-2d1e-466f-a984-5d33f6403d03',\n 'GoogleDriveTransfer/Лобня/Проектная документация/Корректировка ПД в рамках строительства/Корректировка №2/Подтверждение, Акт устранения/6c0fd65d-35c0-4e8a-8454-b8464b2d8b8c',\n 'GoogleDriveTransfer/Лобня/Проектная документация/Корректировка ПД в рамках строительства/Корректировка №2/Подтверждение, Акт устранения/6da96cbd-c7fc-4114-a5d0-4cc293877ef1',\n 'GoogleDriveTransfer/Лобня/Проектная документация/Корректировка ПД в рамках строительства/Корректировка №2/Подтверждение, Акт устранения/70b81b2f-cec1-4931-81c0-accf94f12d8f',\n 'GoogleDriveTransfer/Лобня/Проектная документация/Корректировка ПД в рамках строительства/Корректировка №2/Подтверждение, Акт устранения/7236c70e-e1ac-41f6-93d7-db74083e5719',\n 'GoogleDriveTransfer/Лобня/Проектная документация/Корректировка ПД в рамках строительства/Корректировка №2/Подтверждение, Акт устранения/7281dfb6-3122-471a-9121-abae48c56a86',\n 'GoogleDriveTransfer/Лобня/Проектная документация/Корректировка ПД в рамках строительства/Корректировка №2/Подтверждение, Акт устранения/72af9949-2af3-4bc1-a837-22679575580a',\n 'GoogleDriveTransfer/Лобня/Проектная документация/Корректировка ПД в рамках строительства/Корректировка №2/Подтверждение, Акт устранения/755dc122-1077-4653-b850-29ba80516b1c',\n 'GoogleDriveTransfer/Лобня/Проектная документация/Корректировка ПД в рамках строительства/Корректировка №2/Подтверждение, Акт устранения/77950ee1-0f85-429c-8a0c-d70872c2d757',\n 'GoogleDriveTransfer/Лобня/Проектная документация/Корректировка ПД в рамках строительства/Корректировка №2/Подтверждение, Акт устранения/7882f961-6ffa-4714-943c-4c4ec9cc3373',\n 'GoogleDriveTransfer/Лобня/Проектная документация/Корректировка ПД в рамках строительства/Корректировка №2/Подтверждение, Акт устранения/78b98f2e-1cc4-40a3-9b60-d8efba6d1364',\n 'GoogleDriveTransfer/Лобня/Проектная документация/Корректировка ПД в рамках строительства/Корректировка №2/Подтверждение, Акт устранения/7d25544c-6772-48c4-ac16-834456906198',\n 'GoogleDriveTransfer/Лобня/Проектная документация/Корректировка ПД в рамках строительства/Корректировка №2/Подтверждение, Акт устранения/7d77d0ae-a7d6-4940-b941-8480089c8724',\n 'GoogleDriveTransfer/Лобня/Проектная документация/Корректировка ПД в рамках строительства/Корректировка №2/Подтверждение, Акт устранения/80ec8e2f-1359-4bc7-ae8c-ab96422e3443',\n 'GoogleDriveTransfer/Лобня/Проектная документация/Корректировка ПД в рамках строительства/Корректировка №2/Подтверждение, Акт устранения/822243b2-33f5-4ead-960d-04b670f701ab',\n 'GoogleDriveTransfer/Лобня/Проектная документация/Корректировка ПД в рамках строительства/Корректировка №2/Подтверждение, Акт устранения/828a7458-f875-4429-b71f-95ff08c5f011',\n 'GoogleDriveTransfer/Лобня/Проектная документация/Корректировка ПД в рамках строительства/Корректировка №2/Подтверждение, Акт устранения/8430eeda-d401-44db-a70e-28cd8ffbbb13',\n 'GoogleDriveTransfer/Лобня/Проектная документация/Корректировка ПД в рамках строительства/Корректировка №2/Подтверждение, Акт устранения/8503e31c-138b-43e2-8e15-01aae91524d2',\n 'GoogleDriveTransfer/Лобня/Проектная документация/Корректировка ПД в рамках строительства/Корректировка №2/Подтверждение, Акт устранения/864fbd42-8808-4843-bea1-66fdab02d12f',\n 'GoogleDriveTransfer/Лобня/Проектная документация/Корректировка ПД в рамках строительства/Корректировка №2/Подтверждение, Акт устранения/86a87dae-75f4-40b6-bc85-324afdca40f0',\n 'GoogleDriveTransfer/Лобня/Проектная документация/Корректировка ПД в рамках строительства/Корректировка №2/Подтверждение, Акт устранения/86b92782-f198-42fc-920d-197e19e1da04',\n 'GoogleDriveTransfer/Лобня/Проектная документация/Корректировка ПД в рамках строительства/Корректировка №2/Подтверждение, Акт устранения/89f41056-2812-4e90-a546-792e815f44b2',\n 'GoogleDriveTransfer/Лобня/Проектная документация/Корректировка ПД в рамках строительства/Корректировка №2/Подтверждение, Акт устранения/8c149ed7-055c-4264-aa8e-0f774dee82d4',\n 'GoogleDriveTransfer/Лобня/Проектная документация/Корректировка ПД в рамках строительства/Корректировка №2/Подтверждение, Акт устранения/8c8f0bdb-a136-404e-8206-30b7061a5793',\n 'GoogleDriveTransfer/Лобня/Проектная документация/Корректировка ПД в рамках строительства/Корректировка №2/Подтверждение, Акт устранения/8df0fdcd-4b99-4986-8e29-cc8de4248d21',\n 'GoogleDriveTransfer/Лобня/Проектная документация/Корректировка ПД в рамках строительства/Корректировка №2/Подтверждение, Акт устранения/8e2210f3-aecf-44e6-a256-c56a9be62e27',\n 'GoogleDriveTransfer/Лобня/Проектная документация/Корректировка ПД в рамках строительства/Корректировка №2/Подтверждение, Акт устранения/8effac12-66e5-46db-8d0f-0cb4711c54e0',\n 'GoogleDriveTransfer/Лобня/Проектная документация/Корректировка ПД в рамках строительства/Корректировка №2/Подтверждение, Акт устранения/9047bd43-ac4f-48ac-9114-2a75d4e79ed5',\n 'GoogleDriveTransfer/Лобня/Проектная документация/Корректировка ПД в рамках строительства/Корректировка №2/Подтверждение, Акт устранения/922292ba-4114-46f8-98a9-254da3c0e91e',\n 'GoogleDriveTransfer/Лобня/Проектная документация/Корректировка ПД в рамках строительства/Корректировка №2/Подтверждение, Акт устранения/94166a0c-0a57-41d5-9a1a-658c269797a9',\n 'GoogleDriveTransfer/Лобня/Проектная документация/Корректировка ПД в рамках строительства/Корректировка №2/Подтверждение, Акт устранения/968f748f-9fed-407d-bde5-fdb0ac98862c',\n 'GoogleDriveTransfer/Лобня/Проектная документация/Корректировка ПД в рамках строительства/Корректировка №2/Подтверждение, Акт устранения/96cac884-1191-4f80-9f94-4e42b9696144',\n 'GoogleDriveTransfer/Лобня/Проектная документация/Корректировка ПД в рамках строительства/Корректировка №2/Подтверждение, Акт устранения/9c5972ee-dc52-48aa-b0ae-82740d8bc062',\n 'GoogleDriveTransfer/Лобня/Проектная документация/Корректировка ПД в рамках строительства/Корректировка №2/Подтверждение, Акт устранения/9c9c1815-84eb-44b5-b734-d5207fe9e85c',\n 'GoogleDriveTransfer/Лобня/Проектная документация/Корректировка ПД в рамках строительства/Корректировка №2/Подтверждение, Акт устранения/9dce0bad-c27e-4397-aff0-f280800230ab',\n 'GoogleDriveTransfer/Лобня/Проектная документация/Корректировка ПД в рамках строительства/Корректировка №2/Подтверждение, Акт устранения/9ee4b965-160a-4f73-a5ee-fdf7179cd612',\n 'GoogleDriveTransfer/Лобня/Проектная документация/Корректировка ПД в рамках строительства/Корректировка №2/Подтверждение, Акт устранения/9fcb8af9-6f54-44b6-9e8f-909bc64bcde5',\n 'GoogleDriveTransfer/Лобня/Проектная документация/Корректировка ПД в рамках строительства/Корректировка №2/Подтверждение, Акт устранения/a2150ef7-f667-41a5-b21b-f51b203a7388',\n 'GoogleDriveTransfer/Лобня/Проектная документация/Корректировка ПД в рамках строительства/Корректировка №2/Подтверждение, Акт устранения/a28fa00c-12ba-436a-a901-ff1ce9190dbd',\n 'GoogleDriveTransfer/Лобня/Проектная документация/Корректировка ПД в рамках строительства/Корректировка №2/Подтверждение, Акт устранения/a3925d47-e115-404b-b189-d81271b0b2ac',\n 'GoogleDriveTransfer/Лобня/Проектная документация/Корректировка ПД в рамках строительства/Корректировка №2/Подтверждение, Акт устранения/a43acf7f-e049-4417-8cf8-8512993568bb',\n 'GoogleDriveTransfer/Лобня/Проектная документация/Корректировка ПД в рамках строительства/Корректировка №2/Подтверждение, Акт устранения/a55365a8-c850-494e-a103-8bd3eb4ddab9',\n 'GoogleDriveTransfer/Лобня/Проектная документация/Корректировка ПД в рамках строительства/Корректировка №2/Подтверждение, Акт устранения/a6fa669d-a38e-4d79-96e2-84917a945195',\n 'GoogleDriveTransfer/Лобня/Проектная документация/Корректировка ПД в рамках строительства/Корректировка №2/Подтверждение, Акт устранения/a795ecf8-9c30-4404-b855-415e598cd930',\n 'GoogleDriveTransfer/Лобня/Проектная документация/Корректировка ПД в рамках строительства/Корректировка №2/Подтверждение, Акт устранения/a8a003a8-a673-4016-a768-b0250108c754',\n 'GoogleDriveTransfer/Лобня/Проектная документация/Корректировка ПД в рамках строительства/Корректировка №2/Подтверждение, Акт устранения/a94cb673-61d3-4da0-9ae4-564e302dd3b6',\n 'GoogleDriveTransfer/Лобня/Проектная документация/Корректировка ПД в рамках строительства/Корректировка №2/Подтверждение, Акт устранения/ac4c42f6-1558-467b-8c77-595f5429cb9c',\n 'GoogleDriveTransfer/Лобня/Проектная документация/Корректировка ПД в рамках строительства/Корректировка №2/Подтверждение, Акт устранения/ac8587d3-9f15-42f1-bade-f623ebc79a90',\n 'GoogleDriveTransfer/Лобня/Проектная документация/Корректировка ПД в рамках строительства/Корректировка №2/Подтверждение, Акт устранения/ad645e43-a8d5-48c9-88aa-e09d88a8a4ef',\n 'GoogleDriveTransfer/Лобня/Проектная документация/Корректировка ПД в рамках строительства/Корректировка №2/Подтверждение, Акт устранения/ae485f3e-b60b-4033-bdb2-288257bc0756',\n 'GoogleDriveTransfer/Лобня/Проектная документация/Корректировка ПД в рамках строительства/Корректировка №2/Подтверждение, Акт устранения/b5d681c1-a140-479d-bd3d-84499e95cec6',\n 'GoogleDriveTransfer/Лобня/Проектная документация/Корректировка ПД в рамках строительства/Корректировка №2/Подтверждение, Акт устранения/b5efb437-4cb2-40ba-b73e-6540bb9f818a',\n 'GoogleDriveTransfer/Лобня/Проектная документация/Корректировка ПД в рамках строительства/Корректировка №2/Подтверждение, Акт устранения/b7193671-50e3-470b-976b-9d66a23fdf2d',\n 'GoogleDriveTransfer/Лобня/Проектная документация/Корректировка ПД в рамках строительства/Корректировка №2/Подтверждение, Акт устранения/b9f32a8f-0f97-4ced-8a5f-46043d8844e1',\n 'GoogleDriveTransfer/Лобня/Проектная документация/Корректировка ПД в рамках строительства/Корректировка №2/Подтверждение, Акт устранения/ba2d32f1-4819-4227-b6d7-5f64ccf834c4',\n 'GoogleDriveTransfer/Лобня/Проектная документация/Корректировка ПД в рамках строительства/Корректировка №2/Подтверждение, Акт устранения/baf1144c-a29f-4ff7-9fcb-706330f97fb0',\n 'GoogleDriveTransfer/Лобня/Проектная документация/Корректировка ПД в рамках строительства/Корректировка №2/Подтверждение, Акт устранения/bc037820-fd52-4dd5-bd24-016ef50dce1f',\n 'GoogleDriveTransfer/Лобня/Проектная документация/Корректировка ПД в рамках строительства/Корректировка №2/Подтверждение, Акт устранения/bc2f172c-e68f-4aa3-9e2e-4253d08ed51a',\n 'GoogleDriveTransfer/Лобня/Проектная документация/Корректировка ПД в рамках строительства/Корректировка №2/Подтверждение, Акт устранения/bd2d53f1-de0b-40b9-9042-37b8f572d20a',\n 'GoogleDriveTransfer/Лобня/Проектная документация/Корректировка ПД в рамках строительства/Корректировка №2/Подтверждение, Акт устранения/be8a81db-6c45-4096-9dd2-da54a01bf793',\n 'GoogleDriveTransfer/Лобня/Проектная документация/Корректировка ПД в рамках строительства/Корректировка №2/Подтверждение, Акт устранения/bfb48dec-2652-4481-8eaf-bc764438f91c',\n 'GoogleDriveTransfer/Лобня/Проектная документация/Корректировка ПД в рамках строительства/Корректировка №2/Подтверждение, Акт устранения/bfeb10b3-c172-4319-abef-9efc6fd92d33',\n 'GoogleDriveTransfer/Лобня/Проектная документация/Корректировка ПД в рамках строительства/Корректировка №2/Подтверждение, Акт устранения/c0dba927-3ea6-423d-9eea-473817fde946',\n 'GoogleDriveTransfer/Лобня/Проектная документация/Корректировка ПД в рамках строительства/Корректировка №2/Подтверждение, Акт устранения/c0e42592-3d46-4d3d-b993-30e5671b7ac3',\n 'GoogleDriveTransfer/Лобня/Проектная документация/Корректировка ПД в рамках строительства/Корректировка №2/Подтверждение, Акт устранения/c5f4f5a4-dbc4-496a-a042-b27f6984e85a',\n 'GoogleDriveTransfer/Лобня/Проектная документация/Корректировка ПД в рамках строительства/Корректировка №2/Подтверждение, Акт устранения/c6d91e5d-7a50-4dbe-adf6-28a0a6e5746c',\n 'GoogleDriveTransfer/Лобня/Проектная документация/Корректировка ПД в рамках строительства/Корректировка №2/Подтверждение, Акт устранения/c7405fc6-84e9-49c3-8abd-078613d72308',\n 'GoogleDriveTransfer/Лобня/Проектная документация/Корректировка ПД в рамках строительства/Корректировка №2/Подтверждение, Акт устранения/c78befc6-5844-4265-9d93-0e398fd663be',\n 'GoogleDriveTransfer/Лобня/Проектная документация/Корректировка ПД в рамках строительства/Корректировка №2/Подтверждение, Акт устранения/c8da1612-eca2-4bcc-9c5a-c405f1becfe6',\n 'GoogleDriveTransfer/Лобня/Проектная документация/Корректировка ПД в рамках строительства/Корректировка №2/Подтверждение, Акт устранения/c9ba4b6c-6ef1-4f77-84a6-d9ba936d6524',\n 'GoogleDriveTransfer/Лобня/Проектная документация/Корректировка ПД в рамках строительства/Корректировка №2/Подтверждение, Акт устранения/caf3d20c-57a6-4446-ac34-0192d59de615',\n 'GoogleDriveTransfer/Лобня/Проектная документация/Корректировка ПД в рамках строительства/Корректировка №2/Подтверждение, Акт устранения/ce1b1149-3dd7-4cb9-a363-cfb8b5702a5b',\n 'GoogleDriveTransfer/Лобня/Проектная документация/Корректировка ПД в рамках строительства/Корректировка №2/Подтверждение, Акт устранения/cf0f4d12-60e1-44fb-987e-37207a92b79b',\n 'GoogleDriveTransfer/Лобня/Проектная документация/Корректировка ПД в рамках строительства/Корректировка №2/Подтверждение, Акт устранения/cf5e6946-feb4-4ed4-b80b-7ea5f045296f',\n 'GoogleDriveTransfer/Лобня/Проектная документация/Корректировка ПД в рамках строительства/Корректировка №2/Подтверждение, Акт устранения/d0c7e336-a362-4aa8-8c8b-8ceda545483d',\n 'GoogleDriveTransfer/Лобня/Проектная документация/Корректировка ПД в рамках строительства/Корректировка №2/Подтверждение, Акт устранения/d1c54d18-757f-45d6-9890-ed0699fe4679',\n 'GoogleDriveTransfer/Лобня/Проектная документация/Корректировка ПД в рамках строительства/Корректировка №2/Подтверждение, Акт устранения/d260345b-e861-45e3-bf85-5989567dc67b',\n 'GoogleDriveTransfer/Лобня/Проектная документация/Корректировка ПД в рамках строительства/Корректировка №2/Подтверждение, Акт устранения/d485aa56-f527-4bb8-9822-2669c072a4ad',\n 'GoogleDriveTransfer/Лобня/Проектная документация/Корректировка ПД в рамках строительства/Корректировка №2/Подтверждение, Акт устранения/d517fab9-07b5-4ba2-9775-5f55f11e4c94',\n 'GoogleDriveTransfer/Лобня/Проектная документация/Корректировка ПД в рамках строительства/Корректировка №2/Подтверждение, Акт устранения/d63b58f1-86ca-4121-8a47-b1256a01680e',\n 'GoogleDriveTransfer/Лобня/Проектная документация/Корректировка ПД в рамках строительства/Корректировка №2/Подтверждение, Акт устранения/d65d02dd-604f-4551-97a2-d55a82469a47',\n 'GoogleDriveTransfer/Лобня/Проектная документация/Корректировка ПД в рамках строительства/Корректировка №2/Подтверждение, Акт устранения/da42c5ca-9642-4e77-875a-70a8b64a2373',\n 'GoogleDriveTransfer/Лобня/Проектная документация/Корректировка ПД в рамках строительства/Корректировка №2/Подтверждение, Акт устранения/da983fed-8a77-44a2-94ff-3ab598a510a4',\n 'GoogleDriveTransfer/Лобня/Проектная документация/Корректировка ПД в рамках строительства/Корректировка №2/Подтверждение, Акт устранения/daf01444-6888-4336-9587-72d3e0ba5b03',\n 'GoogleDriveTransfer/Лобня/Проектная документация/Корректировка ПД в рамках строительства/Корректировка №2/Подтверждение, Акт устранения/db71a7b2-7e9a-4ed0-ab15-47720ef71bea',\n 'GoogleDriveTransfer/Лобня/Проектная документация/Корректировка ПД в рамках строительства/Корректировка №2/Подтверждение, Акт устранения/dd39ca83-9ffa-4be7-a250-3ab1339faa5c',\n 'GoogleDriveTransfer/Лобня/Проектная документация/Корректировка ПД в рамках строительства/Корректировка №2/Подтверждение, Акт устранения/dddd871a-f385-40f6-b2e2-6941507a2b29',\n 'GoogleDriveTransfer/Лобня/Проектная документация/Корректировка ПД в рамках строительства/Корректировка №2/Подтверждение, Акт устранения/de873f33-efd8-4663-b1f7-595a078e6e39',\n 'GoogleDriveTransfer/Лобня/Проектная документация/Корректировка ПД в рамках строительства/Корректировка №2/Подтверждение, Акт устранения/e41f9975-0fba-4a26-887f-456c47945830',\n 'GoogleDriveTransfer/Лобня/Проектная документация/Корректировка ПД в рамках строительства/Корректировка №2/Подтверждение, Акт устранения/e505cce4-3f23-44c0-be9b-3665d2e019bb',\n 'GoogleDriveTransfer/Лобня/Проектная документация/Корректировка ПД в рамках строительства/Корректировка №2/Подтверждение, Акт устранения/e5f3242d-b656-45c5-bffe-c53b25f6d446',\n 'GoogleDriveTransfer/Лобня/Проектная документация/Корректировка ПД в рамках строительства/Корректировка №2/Подтверждение, Акт устранения/e85f3aa2-f649-43b4-9cf7-85e5ad1421c8',\n 'GoogleDriveTransfer/Лобня/Проектная документация/Корректировка ПД в рамках строительства/Корректировка №2/Подтверждение, Акт устранения/eb703a11-1104-4495-8b50-a9ee9f257934',\n 'GoogleDriveTransfer/Лобня/Проектная документация/Корректировка ПД в рамках строительства/Корректировка №2/Подтверждение, Акт устранения/ec534c4e-0597-4405-913c-89c60dd4cc13',\n 'GoogleDriveTransfer/Лобня/Проектная документация/Корректировка ПД в рамках строительства/Корректировка №2/Подтверждение, Акт устранения/eebd7184-fed0-4f68-b70d-bee00abaa7de',\n 'GoogleDriveTransfer/Лобня/Проектная документация/Корректировка ПД в рамках строительства/Корректировка №2/Подтверждение, Акт устранения/ef2e73ff-75d0-4146-976a-b9bad3d69f5e',\n 'GoogleDriveTransfer/Лобня/Проектная документация/Корректировка ПД в рамках строительства/Корректировка №2/Подтверждение, Акт устранения/f290536b-8475-4a10-b5c2-b9b9719ac489',\n 'GoogleDriveTransfer/Лобня/Проектная документация/Корректировка ПД в рамках строительства/Корректировка №2/Подтверждение, Акт устранения/f36d9422-142a-494f-8654-3c8d4c1ef243',\n 'GoogleDriveTransfer/Лобня/Проектная документация/Корректировка ПД в рамках строительства/Корректировка №2/Подтверждение, Акт устранения/f5ce100f-0d66-4820-93c7-dab8ef7df8e5',\n 'GoogleDriveTransfer/Лобня/Проектная документация/Корректировка ПД в рамках строительства/Корректировка №2/Подтверждение, Акт устранения/f7aef0fb-9d5d-4830-b433-913780cfb602',\n 'GoogleDriveTransfer/Лобня/Проектная документация/Корректировка ПД в рамках строительства/Корректировка №2/Подтверждение, Акт устранения/f87c0599-f6d1-4115-9f7d-857b293b7760',\n 'GoogleDriveTransfer/Лобня/Проектная документация/Корректировка ПД в рамках строительства/Корректировка №2/Подтверждение, Акт устранения/f9d09fb2-2ff3-4328-8187-ead524602015',\n 'GoogleDriveTransfer/Лобня/Проектная документация/Корректировка ПД в рамках строительства/Корректировка №2/Подтверждение, Акт устранения/fa6114a0-4f0b-41fc-bf81-2228051afc40',\n 'GoogleDriveTransfer/Лобня/Проектная документация/Корректировка ПД в рамках строительства/Корректировка №2/Подтверждение, Акт устранения/fa64e77d-162e-41c0-8d3c-8ed38a34557a',\n 'GoogleDriveTransfer/Лобня/Проектная документация/Корректировка ПД в рамках строительства/Корректировка №2/Подтверждение, Акт устранения/fb306a1f-877d-4b19-94db-769a95608022',\n 'GoogleDriveTransfer/Лобня/Проектная документация/Корректировка ПД в рамках строительства/Корректировка №2/Подтверждение, Акт устранения/fc4a4e8f-d664-48b1-a21f-c0ba05b0fa57',\n 'GoogleDriveTransfer/Мой Диск _/Видео от Vitalii',\n 'GoogleDriveTransfer/Мой Диск _/Документ от Vitalii',\n 'GoogleDriveTransfer/Мой Диск _/Элла/паспотр',\n 'GoogleDriveTransfer/Мой Диск _/Элла/снилс',\n 'GoogleDriveTransfer/Мой Диск _/Юляша/Фото от Vitalii',\n 'GoogleDriveTransfer/Мой Диск _/Юляша/Фото от Vitalii (1)',\n 'GoogleDriveTransfer/Мой Диск _/Юляша/Фото от Vitalii (2)',\n 'GoogleDriveTransfer/Объединенная пивоварня/Нижний Новгород/разработка/01-11-33.1-КЖ/01-11-33.1-КЖ/.svn/all-wcprops',\n 'GoogleDriveTransfer/Объединенная пивоварня/Нижний Новгород/разработка/01-11-33.1-КЖ/01-11-33.1-КЖ/.svn/entries',\n 'GoogleDriveTransfer/Объекты в работе/БрянскАгрострой/Закрывающие док-ты/Сч-ф/Документ от Vitalii',\n 'GoogleDriveTransfer/Объекты в работе/Сибнефтехимтрейд/Закрывающие док-ты/Сч-ф/Документ от Vitalii',\n 'GoogleDriveTransfer/Объекты в работе/ФРАКДЖЕТ-ТУЛЗ/Документ от Vitalii',\n 'GoogleDriveTransfer/Объекты в работе/ФРАКДЖЕТ-ТУЛЗ/Документ от Vitalii (1)',\n 'GoogleDriveTransfer/ПОДРЯДЧИКИ/Подрядчики 2021-2022/Интерфакс Ди энд Би/Заявка на «Знак доверия» D-U-N-S® Registered™ _ Интерфакс − Ди энд Би_files/css',\n 'GoogleDriveTransfer/ПОДРЯДЧИКИ/Подрядчики 2021-2022/ООО Нетпик/Счета_ПП/Счет №183 ПФ.pdf_files/css',\n 'GoogleDriveTransfer/ПОДРЯДЧИКИ/Подрядчики 2021-2022/ООО Нетпик/Счета_ПП/Счет №183 ПФ.pdf_files/css(1)',\n 'GoogleDriveTransfer/ПОДРЯДЧИКИ/Подрядчики 2021-2022/ООО Нетпик/Счета_ПП/Счет №183 ПФ.pdf_files/saved_resource',\n 'GoogleDriveTransfer/ПОДРЯДЧИКИ/Подрядчики 2021-2022/ООО Нетпик/Счета_ПП/Счет №183 ПФ.pdf_files/saved_resource(1)',\n 'GoogleDriveTransfer/ПОДРЯДЧИКИ/Подрядчики 2021-2022/ООО Нетпик/Счета_ПП/Счет №183 ПФ.pdf_files/saved_resource(2)',\n 'GoogleDriveTransfer/ПОДРЯДЧИКИ/Подрядчики 2021-2022/ООО Нетпик/Счета_ПП/Счет №183 ПФ.pdf_files/saved_resource(3)',\n 'GoogleDriveTransfer/ПОДРЯДЧИКИ/Подрядчики 2021-2022/ООО Продвижение в интернете/Счета_ПП/Выписка счета_files/f8b32f5be9',\n 'GoogleDriveTransfer/СТО ГБО/Разработка/ОТР/ГП/посадка МФЦ.pdf_files/saved_resource',\n 'GoogleDriveTransfer/СТО ГБО/Разработка/ОТР/ГП/посадка МФЦ.pdf_files/saved_resource(1)',\n 'GoogleDriveTransfer/СТО ГБО/Разработка/ОТР/ТХ/Схема техпроцесса ТО и ТР кр.pdf _ v-grand_files/saved_resource',\n 'GoogleDriveTransfer/Транспроект/Архив/.svn/all-wcprops',\n 'GoogleDriveTransfer/Транспроект/Архив/.svn/entries',\n 'GoogleDriveTransfer/Транспроект/Архив/АЛЕКСАНДРОВ- ППП/.svn/all-wcprops',\n 'GoogleDriveTransfer/Транспроект/Архив/АЛЕКСАНДРОВ- ППП/.svn/entries',\n 'GoogleDriveTransfer/Транспроект/Архив/АЛЕКСАНДРОВ- ППП/Ведомость оборудования/.svn/all-wcprops',\n 'GoogleDriveTransfer/Транспроект/Архив/АЛЕКСАНДРОВ- ППП/Ведомость оборудования/.svn/entries',\n 'GoogleDriveTransfer/Транспроект/Архив/АЛЕКСАНДРОВ- ППП/Записка-12-08-ПЗ/.svn/all-wcprops',\n 'GoogleDriveTransfer/Транспроект/Архив/АЛЕКСАНДРОВ- ППП/Записка-12-08-ПЗ/.svn/entries',\n 'GoogleDriveTransfer/Транспроект/Архив/АЛЕКСАНДРОВ- ППП/Смета/.svn/all-wcprops',\n 'GoogleDriveTransfer/Транспроект/Архив/АЛЕКСАНДРОВ- ППП/Смета/.svn/entries',\n 'GoogleDriveTransfer/Транспроект/Архив/АЛЕКСАНДРОВ- ППП/Чертежи/.svn/all-wcprops',\n 'GoogleDriveTransfer/Транспроект/Архив/АЛЕКСАНДРОВ- ППП/Чертежи/.svn/entries',\n 'GoogleDriveTransfer/Транспроект/Архив/Александров РП/.svn/all-wcprops',\n 'GoogleDriveTransfer/Транспроект/Архив/Александров РП/.svn/entries',\n 'GoogleDriveTransfer/Транспроект/Архив/Александров РП/ЗАДАНИЯ/.svn/all-wcprops',\n 'GoogleDriveTransfer/Транспроект/Архив/Александров РП/ЗАДАНИЯ/.svn/entries',\n 'GoogleDriveTransfer/Транспроект/Архив/Александров РП/ЗАПИСКА-08-08-ПЗ/.svn/all-wcprops',\n 'GoogleDriveTransfer/Транспроект/Архив/Александров РП/ЗАПИСКА-08-08-ПЗ/.svn/entries',\n 'GoogleDriveTransfer/Транспроект/Архив/Александров РП/РАСЧЕТЫ/.svn/all-wcprops',\n 'GoogleDriveTransfer/Транспроект/Архив/Александров РП/РАСЧЕТЫ/.svn/entries',\n 'GoogleDriveTransfer/Транспроект/Архив/Александров РП/Спецификация/.svn/all-wcprops',\n 'GoogleDriveTransfer/Транспроект/Архив/Александров РП/Спецификация/.svn/entries',\n 'GoogleDriveTransfer/Транспроект/Архив/Александров РП/ЧЕРТЕЖИ/.svn/all-wcprops',\n 'GoogleDriveTransfer/Транспроект/Архив/Александров РП/ЧЕРТЕЖИ/.svn/entries',\n 'GoogleDriveTransfer/Транспроект/Архив/Базальт/.svn/all-wcprops',\n 'GoogleDriveTransfer/Транспроект/Архив/Базальт/.svn/entries',\n 'GoogleDriveTransfer/Транспроект/Архив/Базальт/ВЫПУСК/.svn/all-wcprops',\n 'GoogleDriveTransfer/Транспроект/Архив/Базальт/ВЫПУСК/.svn/entries',\n 'GoogleDriveTransfer/Транспроект/Архив/Вагонмаш Питер РП/.svn/all-wcprops',\n 'GoogleDriveTransfer/Транспроект/Архив/Вагонмаш Питер РП/.svn/entries',\n 'GoogleDriveTransfer/Транспроект/Архив/Вагонмаш Питер РП/05.2008-СУ03-СУ09-ТХ Кременчуг/.svn/all-wcprops',\n 'GoogleDriveTransfer/Транспроект/Архив/Вагонмаш Питер РП/05.2008-СУ03-СУ09-ТХ Кременчуг/.svn/entries',\n 'GoogleDriveTransfer/Транспроект/Архив/Вагонмаш Питер РП/2008.03-CIAS-BM-СУ03-СУ09-ТХ Питер/.svn/all-wcprops',\n 'GoogleDriveTransfer/Транспроект/Архив/Вагонмаш Питер РП/2008.03-CIAS-BM-СУ03-СУ09-ТХ Питер/.svn/entries',\n 'GoogleDriveTransfer/Транспроект/Архив/Вагонмаш Питер РП/Замечания ХемоПраг-15.12.09/.svn/all-wcprops',\n 'GoogleDriveTransfer/Транспроект/Архив/Вагонмаш Питер РП/Замечания ХемоПраг-15.12.09/.svn/entries',\n 'GoogleDriveTransfer/Транспроект/Архив/Вагонмаш Питер РП/Ответы на замечания-08.04.09/.svn/all-wcprops',\n 'GoogleDriveTransfer/Транспроект/Архив/Вагонмаш Питер РП/Ответы на замечания-08.04.09/.svn/entries',\n 'GoogleDriveTransfer/Транспроект/Архив/Вагонмаш Питер РП/ПЛАН+РАЗРЕЗЫ-Арх.-Чехия/.svn/all-wcprops',\n 'GoogleDriveTransfer/Транспроект/Архив/Вагонмаш Питер РП/ПЛАН+РАЗРЕЗЫ-Арх.-Чехия/.svn/entries',\n 'GoogleDriveTransfer/Транспроект/Архив/Вагонмаш Питер РП/Питер 01.12.09-КАМЕра.климат.-Привязки путей/.svn/all-wcprops',\n 'GoogleDriveTransfer/Транспроект/Архив/Вагонмаш Питер РП/Питер 01.12.09-КАМЕра.климат.-Привязки путей/.svn/entries',\n 'GoogleDriveTransfer/Транспроект/Архив/Вагонмаш Питер РП/Расчетные матералы/.svn/all-wcprops',\n 'GoogleDriveTransfer/Транспроект/Архив/Вагонмаш Питер РП/Расчетные матералы/.svn/entries',\n 'GoogleDriveTransfer/Транспроект/Архив/Вагонмаш Питер РП/Санк-Петербург-план, разр,вед.-19.07.09/.svn/all-wcprops',\n 'GoogleDriveTransfer/Транспроект/Архив/Вагонмаш Питер РП/Санк-Петербург-план, разр,вед.-19.07.09/.svn/entries',\n 'GoogleDriveTransfer/Транспроект/Архив/Вагонмаш Питер РП/задания/.svn/all-wcprops',\n 'GoogleDriveTransfer/Транспроект/Архив/Вагонмаш Питер РП/задания/.svn/entries',\n 'GoogleDriveTransfer/Транспроект/Архив/Вагонмаш Питер РП/склад/.svn/all-wcprops',\n 'GoogleDriveTransfer/Транспроект/Архив/Вагонмаш Питер РП/склад/.svn/entries',\n 'GoogleDriveTransfer/Транспроект/Архив/Вагонмаш Питер РП/согласование/.svn/all-wcprops',\n 'GoogleDriveTransfer/Транспроект/Архив/Вагонмаш Питер РП/согласование/.svn/entries',\n 'GoogleDriveTransfer/Транспроект/Архив/Гагарин выпуск РП/.svn/all-wcprops',\n 'GoogleDriveTransfer/Транспроект/Архив/Гагарин выпуск РП/.svn/entries',\n 'GoogleDriveTransfer/Транспроект/Архив/Гагарин выпуск РП/ЗАПИСКА-ВЫПУСК/.svn/all-wcprops',\n 'GoogleDriveTransfer/Транспроект/Архив/Гагарин выпуск РП/ЗАПИСКА-ВЫПУСК/.svn/entries',\n 'GoogleDriveTransfer/Транспроект/Архив/Гагарин выпуск РП/Комплект чертежей/.svn/all-wcprops',\n 'GoogleDriveTransfer/Транспроект/Архив/Гагарин выпуск РП/Комплект чертежей/.svn/entries',\n 'GoogleDriveTransfer/Транспроект/Архив/Гагарин выпуск РП/Сметы -для экспертизы Гагарин-сводная-19.12.08/.svn/all-wcprops',\n 'GoogleDriveTransfer/Транспроект/Архив/Гагарин выпуск РП/Сметы -для экспертизы Гагарин-сводная-19.12.08/.svn/entries',\n 'GoogleDriveTransfer/Транспроект/Архив/Гагарин выпуск РП/Сметы/.svn/all-wcprops',\n 'GoogleDriveTransfer/Транспроект/Архив/Гагарин выпуск РП/Сметы/.svn/entries',\n 'GoogleDriveTransfer/Транспроект/Архив/Грязи ВЫПУСК РП/.svn/all-wcprops',\n 'GoogleDriveTransfer/Транспроект/Архив/Грязи ВЫПУСК РП/.svn/entries',\n 'GoogleDriveTransfer/Транспроект/Архив/Грязи ВЫПУСК РП/Комплект для Москвы/.svn/all-wcprops',\n 'GoogleDriveTransfer/Транспроект/Архив/Грязи ВЫПУСК РП/Комплект для Москвы/.svn/entries',\n 'GoogleDriveTransfer/Транспроект/Архив/Грязи ВЫПУСК РП/Фундамент Трансбодер/.svn/all-wcprops',\n 'GoogleDriveTransfer/Транспроект/Архив/Грязи ВЫПУСК РП/Фундамент Трансбодер/.svn/entries',\n 'GoogleDriveTransfer/Транспроект/Архив/Грязи ВЫПУСК РП/исходные требования/.svn/all-wcprops',\n 'GoogleDriveTransfer/Транспроект/Архив/Грязи ВЫПУСК РП/исходные требования/.svn/entries',\n 'GoogleDriveTransfer/Транспроект/Архив/Грязи выпуск ОПР/.svn/all-wcprops',\n 'GoogleDriveTransfer/Транспроект/Архив/Грязи выпуск ОПР/.svn/entries',\n 'GoogleDriveTransfer/Транспроект/Архив/Грязи выпуск ОПР/01-07-ПЗ/.svn/all-wcprops',\n 'GoogleDriveTransfer/Транспроект/Архив/Грязи выпуск ОПР/01-07-ПЗ/.svn/entries',\n 'GoogleDriveTransfer/Транспроект/Архив/Грязи выпуск ОПР/01-07-ПЗ1 испр. 16.09.08/.svn/all-wcprops',\n 'GoogleDriveTransfer/Транспроект/Архив/Грязи выпуск ОПР/01-07-ПЗ1 испр. 16.09.08/.svn/entries',\n 'GoogleDriveTransfer/Транспроект/Архив/Грязи выпуск ОПР/01-07-ПЗ1/.svn/all-wcprops',\n 'GoogleDriveTransfer/Транспроект/Архив/Грязи выпуск ОПР/01-07-ПЗ1/.svn/entries',\n 'GoogleDriveTransfer/Транспроект/Архив/Грязи выпуск ОПР/Комплект чертежей/.svn/all-wcprops',\n 'GoogleDriveTransfer/Транспроект/Архив/Грязи выпуск ОПР/Комплект чертежей/.svn/entries',\n 'GoogleDriveTransfer/Транспроект/Архив/Грязи выпуск ОПР/Сметы/.svn/all-wcprops',\n 'GoogleDriveTransfer/Транспроект/Архив/Грязи выпуск ОПР/Сметы/.svn/entries',\n 'GoogleDriveTransfer/Транспроект/Архив/Грязи выпуск ОПР/Состав проекта,  график вып. работ, КП/.svn/all-wcprops',\n 'GoogleDriveTransfer/Транспроект/Архив/Грязи выпуск ОПР/Состав проекта,  график вып. работ, КП/.svn/entries',\n 'GoogleDriveTransfer/Транспроект/Архив/ДЗМК 01-06, 02-06/.svn/all-wcprops',\n 'GoogleDriveTransfer/Транспроект/Архив/ДЗМК 01-06, 02-06/.svn/entries',\n 'GoogleDriveTransfer/Транспроект/Архив/ДЗМК 01-06, 02-06/01-06-ПЗ/.svn/all-wcprops',\n 'GoogleDriveTransfer/Транспроект/Архив/ДЗМК 01-06, 02-06/01-06-ПЗ/.svn/entries',\n 'GoogleDriveTransfer/Транспроект/Архив/ДЗМК 01-06, 02-06/Комплект чертежей/.svn/all-wcprops',\n 'GoogleDriveTransfer/Транспроект/Архив/ДЗМК 01-06, 02-06/Комплект чертежей/.svn/entries',\n 'GoogleDriveTransfer/Транспроект/Архив/ДЗМК 01-06, 02-06/Сметы/.svn/all-wcprops',\n 'GoogleDriveTransfer/Транспроект/Архив/ДЗМК 01-06, 02-06/Сметы/.svn/entries',\n 'GoogleDriveTransfer/Транспроект/Архив/ДЗМК 01-06, 02-06/Спецификации/.svn/all-wcprops',\n 'GoogleDriveTransfer/Транспроект/Архив/ДЗМК 01-06, 02-06/Спецификации/.svn/entries',\n 'GoogleDriveTransfer/Транспроект/Архив/ДЗТО/.svn/all-wcprops',\n 'GoogleDriveTransfer/Транспроект/Архив/ДЗТО/.svn/entries',\n 'GoogleDriveTransfer/Транспроект/Архив/ДЗТО/Альт-Инвест/.svn/all-wcprops',\n 'GoogleDriveTransfer/Транспроект/Архив/ДЗТО/Альт-Инвест/.svn/entries',\n 'GoogleDriveTransfer/Транспроект/Архив/ДЗТО/Окраска/.svn/all-wcprops',\n 'GoogleDriveTransfer/Транспроект/Архив/ДЗТО/Окраска/.svn/entries',\n 'GoogleDriveTransfer/Транспроект/Архив/ДЗТО/ПЗ/.svn/all-wcprops',\n 'GoogleDriveTransfer/Транспроект/Архив/ДЗТО/ПЗ/.svn/entries',\n 'GoogleDriveTransfer/Транспроект/Архив/ДЗТО/Переписка/.svn/all-wcprops',\n 'GoogleDriveTransfer/Транспроект/Архив/ДЗТО/Переписка/.svn/entries',\n 'GoogleDriveTransfer/Транспроект/Архив/ДЗТО/План+Спецификация/.svn/all-wcprops',\n 'GoogleDriveTransfer/Транспроект/Архив/ДЗТО/План+Спецификация/.svn/entries',\n 'GoogleDriveTransfer/Транспроект/Архив/ДЗТО/Смета/.svn/all-wcprops',\n 'GoogleDriveTransfer/Транспроект/Архив/ДЗТО/Смета/.svn/entries',\n 'GoogleDriveTransfer/Транспроект/Архив/ДЗТО/Фото/.svn/all-wcprops',\n 'GoogleDriveTransfer/Транспроект/Архив/ДЗТО/Фото/.svn/entries',\n 'GoogleDriveTransfer/Транспроект/Архив/Депо Заринск 07-12/.svn/all-wcprops',\n 'GoogleDriveTransfer/Транспроект/Архив/Депо Заринск 07-12/.svn/entries',\n 'GoogleDriveTransfer/Транспроект/Архив/Депо Заринск 07-12/ПЗ/.svn/all-wcprops',\n 'GoogleDriveTransfer/Транспроект/Архив/Депо Заринск 07-12/ПЗ/.svn/entries',\n 'GoogleDriveTransfer/Транспроект/Архив/Депо Заринск 07-12/Сметы/.svn/all-wcprops',\n 'GoogleDriveTransfer/Транспроект/Архив/Депо Заринск 07-12/Сметы/.svn/entries',\n 'GoogleDriveTransfer/Транспроект/Архив/Донецксталь выпуск ППП/.svn/all-wcprops',\n 'GoogleDriveTransfer/Транспроект/Архив/Донецксталь выпуск ППП/.svn/entries',\n 'GoogleDriveTransfer/Транспроект/Архив/Донецксталь выпуск ППП/03-08-ПЗ 1 Альт инвест/.svn/all-wcprops',\n 'GoogleDriveTransfer/Транспроект/Архив/Донецксталь выпуск ППП/03-08-ПЗ 1 Альт инвест/.svn/entries',\n 'GoogleDriveTransfer/Транспроект/Архив/Донецксталь выпуск ППП/03-08-ПЗ-Общая/.svn/all-wcprops',\n 'GoogleDriveTransfer/Транспроект/Архив/Донецксталь выпуск ППП/03-08-ПЗ-Общая/.svn/entries',\n 'GoogleDriveTransfer/Транспроект/Архив/Донецксталь выпуск ППП/Сметы/.svn/all-wcprops',\n 'GoogleDriveTransfer/Транспроект/Архив/Донецксталь выпуск ППП/Сметы/.svn/entries',\n 'GoogleDriveTransfer/Транспроект/Архив/Донецксталь выпуск ППП/Чертежи ТХ/.svn/all-wcprops',\n 'GoogleDriveTransfer/Транспроект/Архив/Донецксталь выпуск ППП/Чертежи ТХ/.svn/entries',\n 'GoogleDriveTransfer/Транспроект/Архив/Запорожье трансформаторный выпуск РП/.svn/all-wcprops',\n 'GoogleDriveTransfer/Транспроект/Архив/Запорожье трансформаторный выпуск РП/.svn/entries',\n 'GoogleDriveTransfer/Транспроект/Архив/Запорожье трансформаторный выпуск РП/07.07-1-ВК изм.5  22.12.08/.svn/all-wcprops',\n 'GoogleDriveTransfer/Транспроект/Архив/Запорожье трансформаторный выпуск РП/07.07-1-ВК изм.5  22.12.08/.svn/entries',\n 'GoogleDriveTransfer/Транспроект/Архив/Запорожье трансформаторный выпуск РП/1-й ПУСКОВОЙ-03.04.09/.svn/all-wcprops',\n 'GoogleDriveTransfer/Транспроект/Архив/Запорожье трансформаторный выпуск РП/1-й ПУСКОВОЙ-03.04.09/.svn/entries',\n 'GoogleDriveTransfer/Транспроект/Архив/Запорожье трансформаторный выпуск РП/2-й ПУСКОВОЙ КОМПЛЕКС-18.05.09/.svn/all-wcprops',\n 'GoogleDriveTransfer/Транспроект/Архив/Запорожье трансформаторный выпуск РП/2-й ПУСКОВОЙ КОМПЛЕКС-18.05.09/.svn/entries',\n 'GoogleDriveTransfer/Транспроект/Архив/Запорожье трансформаторный выпуск РП/3-й ПУСКОВОЙ -25.05.09/.svn/all-wcprops',\n 'GoogleDriveTransfer/Транспроект/Архив/Запорожье трансформаторный выпуск РП/3-й ПУСКОВОЙ -25.05.09/.svn/entries',\n 'GoogleDriveTransfer/Транспроект/Архив/Запорожье трансформаторный выпуск РП/3-й ПУСКОВОЙ -25.05.09/Чертежи-3й ПК/.svn/all-wcprops',\n 'GoogleDriveTransfer/Транспроект/Архив/Запорожье трансформаторный выпуск РП/3-й ПУСКОВОЙ -25.05.09/Чертежи-3й ПК/.svn/entries',\n 'GoogleDriveTransfer/Транспроект/Архив/Запорожье трансформаторный выпуск РП/4-й ПУСКОВОЙ/.svn/all-wcprops',\n 'GoogleDriveTransfer/Транспроект/Архив/Запорожье трансформаторный выпуск РП/4-й ПУСКОВОЙ/.svn/entries',\n 'GoogleDriveTransfer/Транспроект/Архив/Запорожье трансформаторный выпуск РП/4-й ПУСКОВОЙ/АР/.svn/all-wcprops',\n 'GoogleDriveTransfer/Транспроект/Архив/Запорожье трансформаторный выпуск РП/4-й ПУСКОВОЙ/АР/.svn/entries',\n 'GoogleDriveTransfer/Транспроект/Архив/Запорожье трансформаторный выпуск РП/4-й ПУСКОВОЙ/ГСВ/.svn/all-wcprops',\n 'GoogleDriveTransfer/Транспроект/Архив/Запорожье трансформаторный выпуск РП/4-й ПУСКОВОЙ/ГСВ/.svn/entries',\n 'GoogleDriveTransfer/Транспроект/Архив/Запорожье трансформаторный выпуск РП/4-й ПУСКОВОЙ/ЗАПИСКА/.svn/all-wcprops',\n 'GoogleDriveTransfer/Транспроект/Архив/Запорожье трансформаторный выпуск РП/4-й ПУСКОВОЙ/ЗАПИСКА/.svn/entries',\n 'GoogleDriveTransfer/Транспроект/Архив/Запорожье трансформаторный выпуск РП/arhiv/.svn/all-wcprops',\n 'GoogleDriveTransfer/Транспроект/Архив/Запорожье трансформаторный выпуск РП/arhiv/.svn/entries',\n 'GoogleDriveTransfer/Транспроект/Архив/Запорожье трансформаторный выпуск РП/АГСВ/.svn/all-wcprops',\n 'GoogleDriveTransfer/Транспроект/Архив/Запорожье трансформаторный выпуск РП/АГСВ/.svn/entries',\n 'GoogleDriveTransfer/Транспроект/Архив/Запорожье трансформаторный выпуск РП/Академия ОВ/.svn/all-wcprops',\n 'GoogleDriveTransfer/Транспроект/Архив/Запорожье трансформаторный выпуск РП/Академия ОВ/.svn/entries',\n 'GoogleDriveTransfer/Транспроект/Архив/Запорожье трансформаторный выпуск РП/Академия ОВ/ОВ 24.04.09/.svn/all-wcprops',\n 'GoogleDriveTransfer/Транспроект/Архив/Запорожье трансформаторный выпуск РП/Академия ОВ/ОВ 24.04.09/.svn/entries',\n 'GoogleDriveTransfer/Транспроект/Архив/Запорожье трансформаторный выпуск РП/Академия ОВ/ОВ 3 июля/.svn/all-wcprops',\n 'GoogleDriveTransfer/Транспроект/Архив/Запорожье трансформаторный выпуск РП/Академия ОВ/ОВ 3 июля/.svn/entries',\n 'GoogleDriveTransfer/Транспроект/Архив/Запорожье трансформаторный выпуск РП/Академия ОВ/ОВ/.svn/all-wcprops',\n 'GoogleDriveTransfer/Транспроект/Архив/Запорожье трансформаторный выпуск РП/Академия ОВ/ОВ/.svn/entries',\n 'GoogleDriveTransfer/Транспроект/Архив/Запорожье трансформаторный выпуск РП/ГАЗОСНАБЖЕНИЕ/.svn/all-wcprops',\n 'GoogleDriveTransfer/Транспроект/Архив/Запорожье трансформаторный выпуск РП/ГАЗОСНАБЖЕНИЕ/.svn/entries',\n 'GoogleDriveTransfer/Транспроект/Архив/Запорожье трансформаторный выпуск РП/ГАЗОСНАБЖЕНИЕ/8.01.09-изм. лист 6,7/.svn/all-wcprops',\n 'GoogleDriveTransfer/Транспроект/Архив/Запорожье трансформаторный выпуск РП/ГАЗОСНАБЖЕНИЕ/8.01.09-изм. лист 6,7/.svn/entries',\n 'GoogleDriveTransfer/Транспроект/Архив/Запорожье трансформаторный выпуск РП/ГАЗОСНАБЖЕНИЕ/ГАЗ 10.06/.svn/all-wcprops',\n 'GoogleDriveTransfer/Транспроект/Архив/Запорожье трансформаторный выпуск РП/ГАЗОСНАБЖЕНИЕ/ГАЗ 10.06/.svn/entries',\n 'GoogleDriveTransfer/Транспроект/Архив/Запорожье трансформаторный выпуск РП/ГАЗОСНАБЖЕНИЕ/ГАЗОСНАБЖЕНИЕ принято/.svn/all-wcprops',\n 'GoogleDriveTransfer/Транспроект/Архив/Запорожье трансформаторный выпуск РП/ГАЗОСНАБЖЕНИЕ/ГАЗОСНАБЖЕНИЕ принято/.svn/entries',\n 'GoogleDriveTransfer/Транспроект/Архив/Запорожье трансформаторный выпуск РП/ГАЗОСНАБЖЕНИЕ/ГСВ 5.12.08 измен/.svn/all-wcprops',\n 'GoogleDriveTransfer/Транспроект/Архив/Запорожье трансформаторный выпуск РП/ГАЗОСНАБЖЕНИЕ/ГСВ 5.12.08 измен/.svn/entries',\n 'GoogleDriveTransfer/Транспроект/Архив/Запорожье трансформаторный выпуск РП/ГАЗОСНАБЖЕНИЕ/Газовый баланс/.svn/all-wcprops',\n 'GoogleDriveTransfer/Транспроект/Архив/Запорожье трансформаторный выпуск РП/ГАЗОСНАБЖЕНИЕ/Газовый баланс/.svn/entries',\n 'GoogleDriveTransfer/Транспроект/Архив/Запорожье трансформаторный выпуск РП/ГАЗОСНАБЖЕНИЕ/Газоснабжение ПОСЛЕДНИЙ 22.09.09/.svn/all-wcprops',\n 'GoogleDriveTransfer/Транспроект/Архив/Запорожье трансформаторный выпуск РП/ГАЗОСНАБЖЕНИЕ/Газоснабжение ПОСЛЕДНИЙ 22.09.09/.svn/entries',\n 'GoogleDriveTransfer/Транспроект/Архив/Запорожье трансформаторный выпуск РП/ГАЗОСНАБЖЕНИЕ/ЗАПИСКА-ГАЗ-ЗТР-18.06.08/.svn/all-wcprops',\n 'GoogleDriveTransfer/Транспроект/Архив/Запорожье трансформаторный выпуск РП/ГАЗОСНАБЖЕНИЕ/ЗАПИСКА-ГАЗ-ЗТР-18.06.08/.svn/entries',\n 'GoogleDriveTransfer/Транспроект/Архив/Запорожье трансформаторный выпуск РП/ГАЗОСНАБЖЕНИЕ/Запорожье-ГАЗ -8.01.08-новый/.svn/all-wcprops',\n 'GoogleDriveTransfer/Транспроект/Архив/Запорожье трансформаторный выпуск РП/ГАЗОСНАБЖЕНИЕ/Запорожье-ГАЗ -8.01.08-новый/.svn/entries',\n 'GoogleDriveTransfer/Транспроект/Архив/Запорожье трансформаторный выпуск РП/ГАЗОСНАБЖЕНИЕ/Изм.26.01.09/.svn/all-wcprops',\n 'GoogleDriveTransfer/Транспроект/Архив/Запорожье трансформаторный выпуск РП/ГАЗОСНАБЖЕНИЕ/Изм.26.01.09/.svn/entries',\n 'GoogleDriveTransfer/Транспроект/Архив/Запорожье трансформаторный выпуск РП/ГАЗОСНАБЖЕНИЕ/Исправления Газ Шаныгина 20.05.08/.svn/all-wcprops',\n 'GoogleDriveTransfer/Транспроект/Архив/Запорожье трансформаторный выпуск РП/ГАЗОСНАБЖЕНИЕ/Исправления Газ Шаныгина 20.05.08/.svn/entries',\n 'GoogleDriveTransfer/Транспроект/Архив/Запорожье трансформаторный выпуск РП/ГАЗОСНАБЖЕНИЕ/Новая папка/.svn/all-wcprops',\n 'GoogleDriveTransfer/Транспроект/Архив/Запорожье трансформаторный выпуск РП/ГАЗОСНАБЖЕНИЕ/Новая папка/.svn/entries',\n 'GoogleDriveTransfer/Транспроект/Архив/Запорожье трансформаторный выпуск РП/ГАЗОСНАБЖЕНИЕ/Расчет аварийного выброса газа/.svn/all-wcprops',\n 'GoogleDriveTransfer/Транспроект/Архив/Запорожье трансформаторный выпуск РП/ГАЗОСНАБЖЕНИЕ/Расчет аварийного выброса газа/.svn/entries',\n 'GoogleDriveTransfer/Транспроект/Архив/Запорожье трансформаторный выпуск РП/ГАЗОСНАБЖЕНИЕ/запорожье испр Газ 3.01.08/.svn/all-wcprops',\n 'GoogleDriveTransfer/Транспроект/Архив/Запорожье трансформаторный выпуск РП/ГАЗОСНАБЖЕНИЕ/запорожье испр Газ 3.01.08/.svn/entries',\n 'GoogleDriveTransfer/Транспроект/Архив/Запорожье трансформаторный выпуск РП/Дополнительная документация по охране труда/.svn/all-wcprops',\n 'GoogleDriveTransfer/Транспроект/Архив/Запорожье трансформаторный выпуск РП/Дополнительная документация по охране труда/.svn/entries',\n 'GoogleDriveTransfer/Транспроект/Архив/Запорожье трансформаторный выпуск РП/Дополнительная документация по охране труда/Расчеты энергетич блоковй аппар и свар/.svn/all-wcprops',\n 'GoogleDriveTransfer/Транспроект/Архив/Запорожье трансформаторный выпуск РП/Дополнительная документация по охране труда/Расчеты энергетич блоковй аппар и свар/.svn/entries',\n 'GoogleDriveTransfer/Транспроект/Архив/Запорожье трансформаторный выпуск РП/ЗТР-ограждения теплоген.-насосы-08.12.08/.svn/all-wcprops',\n 'GoogleDriveTransfer/Транспроект/Архив/Запорожье трансформаторный выпуск РП/ЗТР-ограждения теплоген.-насосы-08.12.08/.svn/entries',\n 'GoogleDriveTransfer/Транспроект/Архив/Запорожье трансформаторный выпуск РП/ЗТР-ограждения теплоген.-насосы-08.12.08/Ограждения-лист 9,10,11,12/.svn/all-wcprops',\n 'GoogleDriveTransfer/Транспроект/Архив/Запорожье трансформаторный выпуск РП/ЗТР-ограждения теплоген.-насосы-08.12.08/Ограждения-лист 9,10,11,12/.svn/entries',\n 'GoogleDriveTransfer/Транспроект/Архив/Запорожье трансформаторный выпуск РП/ИСПР. ДЛЯ МУХИНОЙ-24.12.08/.svn/all-wcprops',\n 'GoogleDriveTransfer/Транспроект/Архив/Запорожье трансформаторный выпуск РП/ИСПР. ДЛЯ МУХИНОЙ-24.12.08/.svn/entries',\n 'GoogleDriveTransfer/Транспроект/Архив/Запорожье трансформаторный выпуск РП/Изм.4.1,2-краскопригот.-тамбур-20.01.09/.svn/all-wcprops',\n 'GoogleDriveTransfer/Транспроект/Архив/Запорожье трансформаторный выпуск РП/Изм.4.1,2-краскопригот.-тамбур-20.01.09/.svn/entries',\n 'GoogleDriveTransfer/Транспроект/Архив/Запорожье трансформаторный выпуск РП/Исправлено Газ.ЭЛ/.svn/all-wcprops',\n 'GoogleDriveTransfer/Транспроект/Архив/Запорожье трансформаторный выпуск РП/Исправлено Газ.ЭЛ/.svn/entries',\n 'GoogleDriveTransfer/Транспроект/Архив/Запорожье трансформаторный выпуск РП/Исправлено Газ.ЭЛ/Запорожье испр/.svn/all-wcprops',\n 'GoogleDriveTransfer/Транспроект/Архив/Запорожье трансформаторный выпуск РП/Исправлено Газ.ЭЛ/Запорожье испр/.svn/entries',\n 'GoogleDriveTransfer/Транспроект/Архив/Запорожье трансформаторный выпуск РП/Исходные требования/.svn/all-wcprops',\n 'GoogleDriveTransfer/Транспроект/Архив/Запорожье трансформаторный выпуск РП/Исходные требования/.svn/entries',\n 'GoogleDriveTransfer/Транспроект/Архив/Запорожье трансформаторный выпуск РП/Исходные требования/аппар. цех/.svn/all-wcprops',\n 'GoogleDriveTransfer/Транспроект/Архив/Запорожье трансформаторный выпуск РП/Исходные требования/аппар. цех/.svn/entries',\n 'GoogleDriveTransfer/Транспроект/Архив/Запорожье трансформаторный выпуск РП/Исходные требования/сварочный цех/.svn/all-wcprops',\n 'GoogleDriveTransfer/Транспроект/Архив/Запорожье трансформаторный выпуск РП/Исходные требования/сварочный цех/.svn/entries',\n 'GoogleDriveTransfer/Транспроект/Архив/Запорожье трансформаторный выпуск РП/Линия раздачи растворителя/.svn/all-wcprops',\n 'GoogleDriveTransfer/Транспроект/Архив/Запорожье трансформаторный выпуск РП/Линия раздачи растворителя/.svn/entries',\n 'GoogleDriveTransfer/Транспроект/Архив/Запорожье трансформаторный выпуск РП/НАСОС/.svn/all-wcprops',\n 'GoogleDriveTransfer/Транспроект/Архив/Запорожье трансформаторный выпуск РП/НАСОС/.svn/entries',\n 'GoogleDriveTransfer/Транспроект/Архив/Запорожье трансформаторный выпуск РП/ОВ  вариант от 5.12.08/.svn/all-wcprops',\n 'GoogleDriveTransfer/Транспроект/Архив/Запорожье трансформаторный выпуск РП/ОВ  вариант от 5.12.08/.svn/entries',\n 'GoogleDriveTransfer/Транспроект/Архив/Запорожье трансформаторный выпуск РП/ОВ.1-Краскопригот-вып. ЗТР-09.12.08/.svn/all-wcprops',\n 'GoogleDriveTransfer/Транспроект/Архив/Запорожье трансформаторный выпуск РП/ОВ.1-Краскопригот-вып. ЗТР-09.12.08/.svn/entries',\n 'GoogleDriveTransfer/Транспроект/Архив/Запорожье трансформаторный выпуск РП/Обложки выпущ. нов-АКАДЕМИЯ/.svn/all-wcprops',\n 'GoogleDriveTransfer/Транспроект/Архив/Запорожье трансформаторный выпуск РП/Обложки выпущ. нов-АКАДЕМИЯ/.svn/entries',\n 'GoogleDriveTransfer/Транспроект/Архив/Запорожье трансформаторный выпуск РП/Отправка ЗТР ПДВ/.svn/all-wcprops',\n 'GoogleDriveTransfer/Транспроект/Архив/Запорожье трансформаторный выпуск РП/Отправка ЗТР ПДВ/.svn/entries',\n 'GoogleDriveTransfer/Транспроект/Архив/Запорожье трансформаторный выпуск РП/Отправка ЗТР ПДВ/Гофробаки/.svn/all-wcprops',\n 'GoogleDriveTransfer/Транспроект/Архив/Запорожье трансформаторный выпуск РП/Отправка ЗТР ПДВ/Гофробаки/.svn/entries',\n 'GoogleDriveTransfer/Транспроект/Архив/Запорожье трансформаторный выпуск РП/Отправка ЗТР ПДВ/Трансфрматоры/.svn/all-wcprops',\n 'GoogleDriveTransfer/Транспроект/Архив/Запорожье трансформаторный выпуск РП/Отправка ЗТР ПДВ/Трансфрматоры/.svn/entries',\n 'GoogleDriveTransfer/Транспроект/Архив/Запорожье трансформаторный выпуск РП/ПЕРВЫЙ ПУСКОВОЙ на одну камеру/.svn/all-wcprops',\n 'GoogleDriveTransfer/Транспроект/Архив/Запорожье трансформаторный выпуск РП/ПЕРВЫЙ ПУСКОВОЙ на одну камеру/.svn/entries',\n 'GoogleDriveTransfer/Транспроект/Архив/Запорожье трансформаторный выпуск РП/ПЕРВЫЙ ПУСКОВОЙ на одну камеру/АГСВ/.svn/all-wcprops',\n 'GoogleDriveTransfer/Транспроект/Архив/Запорожье трансформаторный выпуск РП/ПЕРВЫЙ ПУСКОВОЙ на одну камеру/АГСВ/.svn/entries',\n 'GoogleDriveTransfer/Транспроект/Архив/Запорожье трансформаторный выпуск РП/ПЕРВЫЙ ПУСКОВОЙ на одну камеру/Документация для экспертного центра по охране труда/.svn/all-wcprops',\n 'GoogleDriveTransfer/Транспроект/Архив/Запорожье трансформаторный выпуск РП/ПЕРВЫЙ ПУСКОВОЙ на одну камеру/Документация для экспертного центра по охране труда/.svn/entries',\n 'GoogleDriveTransfer/Транспроект/Архив/Запорожье трансформаторный выпуск РП/ПЕРВЫЙ ПУСКОВОЙ на одну камеру/Пояснительные записки/.svn/all-wcprops',\n 'GoogleDriveTransfer/Транспроект/Архив/Запорожье трансформаторный выпуск РП/ПЕРВЫЙ ПУСКОВОЙ на одну камеру/Пояснительные записки/.svn/entries',\n 'GoogleDriveTransfer/Транспроект/Архив/Запорожье трансформаторный выпуск РП/ПЕРВЫЙ ПУСКОВОЙ на одну камеру/СМЕТЫ/.svn/all-wcprops',\n 'GoogleDriveTransfer/Транспроект/Архив/Запорожье трансформаторный выпуск РП/ПЕРВЫЙ ПУСКОВОЙ на одну камеру/СМЕТЫ/.svn/entries',\n 'GoogleDriveTransfer/Транспроект/Архив/Запорожье трансформаторный выпуск РП/ПЕРВЫЙ ПУСКОВОЙ на одну камеру/ЧЕРТЕЖИ/.svn/all-wcprops',\n 'GoogleDriveTransfer/Транспроект/Архив/Запорожье трансформаторный выпуск РП/ПЕРВЫЙ ПУСКОВОЙ на одну камеру/ЧЕРТЕЖИ/.svn/entries',\n 'GoogleDriveTransfer/Транспроект/Архив/Запорожье трансформаторный выпуск РП/ПЕРВЫЙ ПУСКОВОЙ на одну камеру/ЭМО/.svn/all-wcprops',\n 'GoogleDriveTransfer/Транспроект/Архив/Запорожье трансформаторный выпуск РП/ПЕРВЫЙ ПУСКОВОЙ на одну камеру/ЭМО/.svn/entries',\n 'GoogleDriveTransfer/Транспроект/Архив/Запорожье трансформаторный выпуск РП/ПЗ дополн. данные энергосбер/.svn/all-wcprops',\n 'GoogleDriveTransfer/Транспроект/Архив/Запорожье трансформаторный выпуск РП/ПЗ дополн. данные энергосбер/.svn/entries',\n 'GoogleDriveTransfer/Транспроект/Архив/Запорожье трансформаторный выпуск РП/ПОЯСНИТЕЛЬНАЯ ЗАПИСКА/.svn/all-wcprops',\n 'GoogleDriveTransfer/Транспроект/Архив/Запорожье трансформаторный выпуск РП/ПОЯСНИТЕЛЬНАЯ ЗАПИСКА/.svn/entries',\n 'GoogleDriveTransfer/Транспроект/Архив/Запорожье трансформаторный выпуск РП/ПОЯСНИТЕЛЬНАЯ ЗАПИСКА/02-07- ПЗ Общая часть/.svn/all-wcprops',\n 'GoogleDriveTransfer/Транспроект/Архив/Запорожье трансформаторный выпуск РП/ПОЯСНИТЕЛЬНАЯ ЗАПИСКА/02-07- ПЗ Общая часть/.svn/entries',\n 'GoogleDriveTransfer/Транспроект/Архив/Запорожье трансформаторный выпуск РП/ПОЯСНИТЕЛЬНАЯ ЗАПИСКА/02-07-ПЗ 1 Технолог. решения/.svn/all-wcprops',\n 'GoogleDriveTransfer/Транспроект/Архив/Запорожье трансформаторный выпуск РП/ПОЯСНИТЕЛЬНАЯ ЗАПИСКА/02-07-ПЗ 1 Технолог. решения/.svn/entries',\n 'GoogleDriveTransfer/Транспроект/Архив/Запорожье трансформаторный выпуск РП/ПОЯСНИТЕЛЬНАЯ ЗАПИСКА/02-07-ПЗ 2 Охрана труда/.svn/all-wcprops',\n 'GoogleDriveTransfer/Транспроект/Архив/Запорожье трансформаторный выпуск РП/ПОЯСНИТЕЛЬНАЯ ЗАПИСКА/02-07-ПЗ 2 Охрана труда/.svn/entries',\n 'GoogleDriveTransfer/Транспроект/Архив/Запорожье трансформаторный выпуск РП/ПОЯСНИТЕЛЬНАЯ ЗАПИСКА/07.07-ПЗ1 Газ/.svn/all-wcprops',\n 'GoogleDriveTransfer/Транспроект/Архив/Запорожье трансформаторный выпуск РП/ПОЯСНИТЕЛЬНАЯ ЗАПИСКА/07.07-ПЗ1 Газ/.svn/entries',\n 'GoogleDriveTransfer/Транспроект/Архив/Запорожье трансформаторный выпуск РП/Площадка под теплогенератор/.svn/all-wcprops',\n 'GoogleDriveTransfer/Транспроект/Архив/Запорожье трансформаторный выпуск РП/Площадка под теплогенератор/.svn/entries',\n 'GoogleDriveTransfer/Транспроект/Архив/Запорожье трансформаторный выпуск РП/СМЕТЫ последн 26.03.08/.svn/all-wcprops',\n 'GoogleDriveTransfer/Транспроект/Архив/Запорожье трансформаторный выпуск РП/СМЕТЫ последн 26.03.08/.svn/entries',\n 'GoogleDriveTransfer/Транспроект/Архив/Запорожье трансформаторный выпуск РП/СМЕТЫ последн 26.03.08/07.07-1.1-ЛС краскоприг/.svn/all-wcprops',\n 'GoogleDriveTransfer/Транспроект/Архив/Запорожье трансформаторный выпуск РП/СМЕТЫ последн 26.03.08/07.07-1.1-ЛС краскоприг/.svn/entries',\n 'GoogleDriveTransfer/Транспроект/Архив/Запорожье трансформаторный выпуск РП/СМЕТЫ последн 26.03.08/Малярное отделение сварочного цеха/.svn/all-wcprops',\n 'GoogleDriveTransfer/Транспроект/Архив/Запорожье трансформаторный выпуск РП/СМЕТЫ последн 26.03.08/Малярное отделение сварочного цеха/.svn/entries',\n 'GoogleDriveTransfer/Транспроект/Архив/Запорожье трансформаторный выпуск РП/Смета на приобретение оборудования внешнее газоснабжение свар. цех/.svn/all-wcprops',\n 'GoogleDriveTransfer/Транспроект/Архив/Запорожье трансформаторный выпуск РП/Смета на приобретение оборудования внешнее газоснабжение свар. цех/.svn/entries',\n 'GoogleDriveTransfer/Транспроект/Архив/Запорожье трансформаторный выпуск РП/Смета на приобретение оборудования внешнее газоснабжение свар. цех/корректировка/.svn/all-wcprops',\n 'GoogleDriveTransfer/Транспроект/Архив/Запорожье трансформаторный выпуск РП/Смета на приобретение оборудования внешнее газоснабжение свар. цех/корректировка/.svn/entries',\n 'GoogleDriveTransfer/Транспроект/Архив/Запорожье трансформаторный выпуск РП/Сметы 31.03.09/.svn/all-wcprops',\n 'GoogleDriveTransfer/Транспроект/Архив/Запорожье трансформаторный выпуск РП/Сметы 31.03.09/.svn/entries',\n 'GoogleDriveTransfer/Транспроект/Архив/Запорожье трансформаторный выпуск РП/Спецификации/.svn/all-wcprops',\n 'GoogleDriveTransfer/Транспроект/Архив/Запорожье трансформаторный выпуск РП/Спецификации/.svn/entries',\n 'GoogleDriveTransfer/Транспроект/Архив/Запорожье трансформаторный выпуск РП/Спецификации/Аппаратный-изменения-12.05.08/.svn/all-wcprops',\n 'GoogleDriveTransfer/Транспроект/Архив/Запорожье трансформаторный выпуск РП/Спецификации/Аппаратный-изменения-12.05.08/.svn/entries',\n 'GoogleDriveTransfer/Транспроект/Архив/Запорожье трансформаторный выпуск РП/Спецификации/Аппаратный-изменения-24.03.08/.svn/all-wcprops',\n 'GoogleDriveTransfer/Транспроект/Архив/Запорожье трансформаторный выпуск РП/Спецификации/Аппаратный-изменения-24.03.08/.svn/entries',\n 'GoogleDriveTransfer/Транспроект/Архив/Запорожье трансформаторный выпуск РП/Спецификации/Аппаратный/.svn/all-wcprops',\n 'GoogleDriveTransfer/Транспроект/Архив/Запорожье трансформаторный выпуск РП/Спецификации/Аппаратный/.svn/entries',\n 'GoogleDriveTransfer/Транспроект/Архив/Запорожье трансформаторный выпуск РП/Спецификации/Сварочный-ИЗМЕНЕНИЯ с ТУ-12.05.08/.svn/all-wcprops',\n 'GoogleDriveTransfer/Транспроект/Архив/Запорожье трансформаторный выпуск РП/Спецификации/Сварочный-ИЗМЕНЕНИЯ с ТУ-12.05.08/.svn/entries',\n 'GoogleDriveTransfer/Транспроект/Архив/Запорожье трансформаторный выпуск РП/Спецификации/Сварочный-ИЗМЕНЕНИЯ с ТУ-24.03.08/.svn/all-wcprops',\n 'GoogleDriveTransfer/Транспроект/Архив/Запорожье трансформаторный выпуск РП/Спецификации/Сварочный-ИЗМЕНЕНИЯ с ТУ-24.03.08/.svn/entries',\n 'GoogleDriveTransfer/Транспроект/Архив/Запорожье трансформаторный выпуск РП/Спецификации/Сварочный-ИЗМЕНЕНИЯ с ТУ-Техвагонмаш-ИСХ.ТРЕБ/.svn/all-wcprops',\n 'GoogleDriveTransfer/Транспроект/Архив/Запорожье трансформаторный выпуск РП/Спецификации/Сварочный-ИЗМЕНЕНИЯ с ТУ-Техвагонмаш-ИСХ.ТРЕБ/.svn/entries',\n 'GoogleDriveTransfer/Транспроект/Архив/Запорожье трансформаторный выпуск РП/Спецификации/Сварочный/.svn/all-wcprops',\n 'GoogleDriveTransfer/Транспроект/Архив/Запорожье трансформаторный выпуск РП/Спецификации/Сварочный/.svn/entries',\n 'GoogleDriveTransfer/Транспроект/Архив/Запорожье трансформаторный выпуск РП/ТК 10.12.08/.svn/all-wcprops',\n 'GoogleDriveTransfer/Транспроект/Архив/Запорожье трансформаторный выпуск РП/ТК 10.12.08/.svn/entries',\n 'GoogleDriveTransfer/Транспроект/Архив/Запорожье трансформаторный выпуск РП/Тепловая мощность-расчеты/.svn/all-wcprops',\n 'GoogleDriveTransfer/Транспроект/Архив/Запорожье трансформаторный выпуск РП/Тепловая мощность-расчеты/.svn/entries',\n 'GoogleDriveTransfer/Транспроект/Архив/Запорожье трансформаторный выпуск РП/ФУНДАМЕНТЫ КАМЕР-ТЕПЛОМАШ/.svn/all-wcprops',\n 'GoogleDriveTransfer/Транспроект/Архив/Запорожье трансформаторный выпуск РП/ФУНДАМЕНТЫ КАМЕР-ТЕПЛОМАШ/.svn/entries',\n 'GoogleDriveTransfer/Транспроект/Архив/Запорожье трансформаторный выпуск РП/ФУНДАМЕНТЫ КАМЕР-ТЕПЛОМАШ/17 м-БЕЗ штампов/.svn/all-wcprops',\n 'GoogleDriveTransfer/Транспроект/Архив/Запорожье трансформаторный выпуск РП/ФУНДАМЕНТЫ КАМЕР-ТЕПЛОМАШ/17 м-БЕЗ штампов/.svn/entries',\n 'GoogleDriveTransfer/Транспроект/Архив/Запорожье трансформаторный выпуск РП/ФУНДАМЕНТЫ КАМЕР-ТЕПЛОМАШ/Камера -1.7-Днепр-14 м/.svn/all-wcprops',\n 'GoogleDriveTransfer/Транспроект/Архив/Запорожье трансформаторный выпуск РП/ФУНДАМЕНТЫ КАМЕР-ТЕПЛОМАШ/Камера -1.7-Днепр-14 м/.svn/entries',\n 'GoogleDriveTransfer/Транспроект/Архив/Запорожье трансформаторный выпуск РП/ФУНДАМЕНТЫ КАМЕР-ТЕПЛОМАШ/Фундамент Камеры 1.1-Днепр-17м/.svn/all-wcprops',\n 'GoogleDriveTransfer/Транспроект/Архив/Запорожье трансформаторный выпуск РП/ФУНДАМЕНТЫ КАМЕР-ТЕПЛОМАШ/Фундамент Камеры 1.1-Днепр-17м/.svn/entries',\n 'GoogleDriveTransfer/Транспроект/Архив/Запорожье трансформаторный выпуск РП/Фото/.svn/all-wcprops',\n 'GoogleDriveTransfer/Транспроект/Архив/Запорожье трансформаторный выпуск РП/Фото/.svn/entries',\n 'GoogleDriveTransfer/Транспроект/Архив/Запорожье трансформаторный выпуск РП/Чертежи/.svn/all-wcprops',\n 'GoogleDriveTransfer/Транспроект/Архив/Запорожье трансформаторный выпуск РП/Чертежи/.svn/entries',\n 'GoogleDriveTransfer/Транспроект/Архив/Запорожье трансформаторный выпуск РП/Чертежи/Аппаратный цех/.svn/all-wcprops',\n 'GoogleDriveTransfer/Транспроект/Архив/Запорожье трансформаторный выпуск РП/Чертежи/Аппаратный цех/.svn/entries',\n 'GoogleDriveTransfer/Транспроект/Архив/Запорожье трансформаторный выпуск РП/Чертежи/Сварочный цех/.svn/all-wcprops',\n 'GoogleDriveTransfer/Транспроект/Архив/Запорожье трансформаторный выпуск РП/Чертежи/Сварочный цех/.svn/entries',\n 'GoogleDriveTransfer/Транспроект/Архив/Запорожье трансформаторный выпуск РП/Чертежи/ТК лист4/.svn/all-wcprops',\n 'GoogleDriveTransfer/Транспроект/Архив/Запорожье трансформаторный выпуск РП/Чертежи/ТК лист4/.svn/entries',\n 'GoogleDriveTransfer/Транспроект/Архив/Запорожье трансформаторный выпуск РП/Чертежи/коректировка сметы/.svn/all-wcprops',\n 'GoogleDriveTransfer/Транспроект/Архив/Запорожье трансформаторный выпуск РП/Чертежи/коректировка сметы/.svn/entries',\n 'GoogleDriveTransfer/Транспроект/Архив/Запорожье трансформаторный выпуск РП/Экопом/.svn/all-wcprops',\n 'GoogleDriveTransfer/Транспроект/Архив/Запорожье трансформаторный выпуск РП/Экопом/.svn/entries',\n 'GoogleDriveTransfer/Транспроект/Архив/Запорожье трансформаторный выпуск РП/Экопом/02-07-ПЗ 2 Охрана труда/.svn/all-wcprops',\n 'GoogleDriveTransfer/Транспроект/Архив/Запорожье трансформаторный выпуск РП/Экопом/02-07-ПЗ 2 Охрана труда/.svn/entries',\n 'GoogleDriveTransfer/Транспроект/Архив/Запорожье трансформаторный выпуск РП/отправка/.svn/all-wcprops',\n 'GoogleDriveTransfer/Транспроект/Архив/Запорожье трансформаторный выпуск РП/отправка/.svn/entries',\n 'GoogleDriveTransfer/Транспроект/Архив/Запорожье трансформаторный выпуск РП/отправка/Аппаратный цех/.svn/all-wcprops',\n 'GoogleDriveTransfer/Транспроект/Архив/Запорожье трансформаторный выпуск РП/отправка/Аппаратный цех/.svn/entries',\n 'GoogleDriveTransfer/Транспроект/Архив/Запорожье трансформаторный выпуск РП/отправка/Сварочный цех/.svn/all-wcprops',\n 'GoogleDriveTransfer/Транспроект/Архив/Запорожье трансформаторный выпуск РП/отправка/Сварочный цех/.svn/entries',\n 'GoogleDriveTransfer/Транспроект/Архив/Запорожье трансформаторный выпуск РП/отправка/Спецификации/.svn/all-wcprops',\n 'GoogleDriveTransfer/Транспроект/Архив/Запорожье трансформаторный выпуск РП/отправка/Спецификации/.svn/entries',\n 'GoogleDriveTransfer/Транспроект/Архив/Запорожье трансформаторный выпуск РП/сметы/.svn/all-wcprops',\n 'GoogleDriveTransfer/Транспроект/Архив/Запорожье трансформаторный выпуск РП/сметы/.svn/entries',\n 'GoogleDriveTransfer/Транспроект/Архив/Запорожье трансформаторный выпуск РП/сметы/Внутриплощадочное дорожное покрытие/.svn/all-wcprops',\n 'GoogleDriveTransfer/Транспроект/Архив/Запорожье трансформаторный выпуск РП/сметы/Внутриплощадочное дорожное покрытие/.svn/entries',\n 'GoogleDriveTransfer/Транспроект/Архив/Запорожье трансформаторный выпуск РП/сметы/Краскопроготовительный участок сварочного цеха/.svn/all-wcprops',\n 'GoogleDriveTransfer/Транспроект/Архив/Запорожье трансформаторный выпуск РП/сметы/Краскопроготовительный участок сварочного цеха/.svn/entries',\n 'GoogleDriveTransfer/Транспроект/Архив/Запорожье трансформаторный выпуск РП/сметы/Малярное отделение аппаратного цеха/.svn/all-wcprops',\n 'GoogleDriveTransfer/Транспроект/Архив/Запорожье трансформаторный выпуск РП/сметы/Малярное отделение аппаратного цеха/.svn/entries',\n 'GoogleDriveTransfer/Транспроект/Архив/Запорожье трансформаторный выпуск РП/сметы/Малярное отделение сварочного цеха/.svn/all-wcprops',\n 'GoogleDriveTransfer/Транспроект/Архив/Запорожье трансформаторный выпуск РП/сметы/Малярное отделение сварочного цеха/.svn/entries',\n 'GoogleDriveTransfer/Транспроект/Архив/Запорожье трансформаторный выпуск РП/сметы/ОС,СС/.svn/all-wcprops',\n 'GoogleDriveTransfer/Транспроект/Архив/Запорожье трансформаторный выпуск РП/сметы/ОС,СС/.svn/entries',\n 'GoogleDriveTransfer/Транспроект/Архив/Запорожье трансформаторный выпуск РП/сметы/Сметы технологические/.svn/all-wcprops',\n 'GoogleDriveTransfer/Транспроект/Архив/Запорожье трансформаторный выпуск РП/сметы/Сметы технологические/.svn/entries',\n 'GoogleDriveTransfer/Транспроект/Архив/Запорожье трансформаторный выпуск РП/сметы/Участок окраски гофробаков малярного отделения сварочного цеха/.svn/all-wcprops',\n 'GoogleDriveTransfer/Транспроект/Архив/Запорожье трансформаторный выпуск РП/сметы/Участок окраски гофробаков малярного отделения сварочного цеха/.svn/entries',\n 'GoogleDriveTransfer/Транспроект/Архив/Запорожье трансформаторный выпуск РП/сметы/коректировка/.svn/all-wcprops',\n 'GoogleDriveTransfer/Транспроект/Архив/Запорожье трансформаторный выпуск РП/сметы/коректировка/.svn/entries',\n 'GoogleDriveTransfer/Транспроект/Архив/КР вагонов/.svn/all-wcprops',\n 'GoogleDriveTransfer/Транспроект/Архив/КР вагонов/.svn/entries',\n 'GoogleDriveTransfer/Транспроект/Архив/КРЕМЕНЧУГ ПРОЕКТ 10.08.2010  (без краскопр.)/.svn/all-wcprops',\n 'GoogleDriveTransfer/Транспроект/Архив/КРЕМЕНЧУГ ПРОЕКТ 10.08.2010  (без краскопр.)/.svn/entries',\n 'GoogleDriveTransfer/Транспроект/Архив/КРЕМЕНЧУГ ПРОЕКТ 10.08.2010  (без краскопр.)/02-10 ГП/.svn/all-wcprops',\n 'GoogleDriveTransfer/Транспроект/Архив/КРЕМЕНЧУГ ПРОЕКТ 10.08.2010  (без краскопр.)/02-10 ГП/.svn/entries',\n 'GoogleDriveTransfer/Транспроект/Архив/КРЕМЕНЧУГ ПРОЕКТ 10.08.2010  (без краскопр.)/02-10-2-3  -Термич., склад/.svn/all-wcprops',\n 'GoogleDriveTransfer/Транспроект/Архив/КРЕМЕНЧУГ ПРОЕКТ 10.08.2010  (без краскопр.)/02-10-2-3  -Термич., склад/.svn/entries',\n 'GoogleDriveTransfer/Транспроект/Архив/КРЕМЕНЧУГ ПРОЕКТ 10.08.2010  (без краскопр.)/02-10-2-3  -Термич., склад/02-10-2-3-ВК/.svn/all-wcprops',\n 'GoogleDriveTransfer/Транспроект/Архив/КРЕМЕНЧУГ ПРОЕКТ 10.08.2010  (без краскопр.)/02-10-2-3  -Термич., склад/02-10-2-3-ВК/.svn/entries',\n 'GoogleDriveTransfer/Транспроект/Архив/КРЕМЕНЧУГ ПРОЕКТ 10.08.2010  (без краскопр.)/02-10-2-3  -Термич., склад/02-10-2-3-ТХ/.svn/all-wcprops',\n 'GoogleDriveTransfer/Транспроект/Архив/КРЕМЕНЧУГ ПРОЕКТ 10.08.2010  (без краскопр.)/02-10-2-3  -Термич., склад/02-10-2-3-ТХ/.svn/entries',\n 'GoogleDriveTransfer/Транспроект/Архив/КРЕМЕНЧУГ ПРОЕКТ 10.08.2010  (без краскопр.)/02-10-5--Склад металла/.svn/all-wcprops',\n 'GoogleDriveTransfer/Транспроект/Архив/КРЕМЕНЧУГ ПРОЕКТ 10.08.2010  (без краскопр.)/02-10-5--Склад металла/.svn/entries',\n 'GoogleDriveTransfer/Транспроект/Архив/КРЕМЕНЧУГ ПРОЕКТ 10.08.2010  (без краскопр.)/02-10-5--Склад металла/02-10-5-КЖ/.svn/all-wcprops',\n 'GoogleDriveTransfer/Транспроект/Архив/КРЕМЕНЧУГ ПРОЕКТ 10.08.2010  (без краскопр.)/02-10-5--Склад металла/02-10-5-КЖ/.svn/entries',\n 'GoogleDriveTransfer/Транспроект/Архив/КРЕМЕНЧУГ ПРОЕКТ 10.08.2010  (без краскопр.)/02-10-5--Склад металла/02-10-5-КМ (л.22-л.39)/.svn/all-wcprops',\n 'GoogleDriveTransfer/Транспроект/Архив/КРЕМЕНЧУГ ПРОЕКТ 10.08.2010  (без краскопр.)/02-10-5--Склад металла/02-10-5-КМ (л.22-л.39)/.svn/entries',\n 'GoogleDriveTransfer/Транспроект/Архив/КРЕМЕНЧУГ ПРОЕКТ 10.08.2010  (без краскопр.)/02-10-5--Склад металла/02-10-5-ТХ/.svn/all-wcprops',\n 'GoogleDriveTransfer/Транспроект/Архив/КРЕМЕНЧУГ ПРОЕКТ 10.08.2010  (без краскопр.)/02-10-5--Склад металла/02-10-5-ТХ/.svn/entries',\n 'GoogleDriveTransfer/Транспроект/Архив/КРЕМЕНЧУГ ПРОЕКТ 10.08.2010  (без краскопр.)/02-10-7-8- ДОЦ, лаб. сварки/.svn/all-wcprops',\n 'GoogleDriveTransfer/Транспроект/Архив/КРЕМЕНЧУГ ПРОЕКТ 10.08.2010  (без краскопр.)/02-10-7-8- ДОЦ, лаб. сварки/.svn/entries',\n 'GoogleDriveTransfer/Транспроект/Архив/КРЕМЕНЧУГ ПРОЕКТ 10.08.2010  (без краскопр.)/02-10-7-8- ДОЦ, лаб. сварки/02-10-7-8-ВК/.svn/all-wcprops',\n 'GoogleDriveTransfer/Транспроект/Архив/КРЕМЕНЧУГ ПРОЕКТ 10.08.2010  (без краскопр.)/02-10-7-8- ДОЦ, лаб. сварки/02-10-7-8-ВК/.svn/entries',\n 'GoogleDriveTransfer/Транспроект/Архив/КРЕМЕНЧУГ ПРОЕКТ 10.08.2010  (без краскопр.)/02-10-7-8- ДОЦ, лаб. сварки/02-10-7-8-ТХ/.svn/all-wcprops',\n 'GoogleDriveTransfer/Транспроект/Архив/КРЕМЕНЧУГ ПРОЕКТ 10.08.2010  (без краскопр.)/02-10-7-8- ДОЦ, лаб. сварки/02-10-7-8-ТХ/.svn/entries',\n 'GoogleDriveTransfer/Транспроект/Архив/КРЕМЕНЧУГ ПРОЕКТ 10.08.2010  (без краскопр.)/02-10-НВК/.svn/all-wcprops',\n 'GoogleDriveTransfer/Транспроект/Архив/КРЕМЕНЧУГ ПРОЕКТ 10.08.2010  (без краскопр.)/02-10-НВК/.svn/entries',\n 'GoogleDriveTransfer/Транспроект/Архив/КРЕМЕНЧУГ ПРОЕКТ 10.08.2010  (без краскопр.)/02-10-ПОС-П/.svn/all-wcprops',\n 'GoogleDriveTransfer/Транспроект/Архив/КРЕМЕНЧУГ ПРОЕКТ 10.08.2010  (без краскопр.)/02-10-ПОС-П/.svn/entries',\n 'GoogleDriveTransfer/Транспроект/Архив/КРЕМЕНЧУГ ПРОЕКТ 10.08.2010  (без краскопр.)/ЗАПИСКИ/.svn/all-wcprops',\n 'GoogleDriveTransfer/Транспроект/Архив/КРЕМЕНЧУГ ПРОЕКТ 10.08.2010  (без краскопр.)/ЗАПИСКИ/.svn/entries',\n 'GoogleDriveTransfer/Транспроект/Архив/КРЕМЕНЧУГ ПРОЕКТ 10.08.2010  (без краскопр.)/ЗАПИСКИ/02-10-ПЗ-без. окр/.svn/all-wcprops',\n 'GoogleDriveTransfer/Транспроект/Архив/КРЕМЕНЧУГ ПРОЕКТ 10.08.2010  (без краскопр.)/ЗАПИСКИ/02-10-ПЗ-без. окр/.svn/entries',\n 'GoogleDriveTransfer/Транспроект/Архив/КРЕМЕНЧУГ ПРОЕКТ 10.08.2010  (без краскопр.)/ЗАПИСКИ/02-10-ПЗ1-без. окр/.svn/all-wcprops',\n 'GoogleDriveTransfer/Транспроект/Архив/КРЕМЕНЧУГ ПРОЕКТ 10.08.2010  (без краскопр.)/ЗАПИСКИ/02-10-ПЗ1-без. окр/.svn/entries',\n 'GoogleDriveTransfer/Транспроект/Архив/КРЕМЕНЧУГ ПРОЕКТ 10.08.2010  (без краскопр.)/Задание Пож.тушение+ сигнализация/.svn/all-wcprops',\n 'GoogleDriveTransfer/Транспроект/Архив/КРЕМЕНЧУГ ПРОЕКТ 10.08.2010  (без краскопр.)/Задание Пож.тушение+ сигнализация/.svn/entries',\n 'GoogleDriveTransfer/Транспроект/Архив/КРЕМЕНЧУГ ПРОЕКТ 10.08.2010  (без краскопр.)/ПДВ/.svn/all-wcprops',\n 'GoogleDriveTransfer/Транспроект/Архив/КРЕМЕНЧУГ ПРОЕКТ 10.08.2010  (без краскопр.)/ПДВ/.svn/entries',\n 'GoogleDriveTransfer/Транспроект/Архив/КРЕМЕНЧУГ ПРОЕКТ 10.08.2010  (без краскопр.)/Сводный см. расчет/.svn/all-wcprops',\n 'GoogleDriveTransfer/Транспроект/Архив/КРЕМЕНЧУГ ПРОЕКТ 10.08.2010  (без краскопр.)/Сводный см. расчет/.svn/entries',\n 'GoogleDriveTransfer/Транспроект/Архив/КРЕМЕНЧУГ-ДОЦ+Склады, термич/.svn/all-wcprops',\n 'GoogleDriveTransfer/Транспроект/Архив/КРЕМЕНЧУГ-ДОЦ+Склады, термич/.svn/entries',\n 'GoogleDriveTransfer/Транспроект/Архив/КРЕМЕНЧУГ-ДОЦ+Склады, термич/ЗАПИСКИ-02-10/.svn/all-wcprops',\n 'GoogleDriveTransfer/Транспроект/Архив/КРЕМЕНЧУГ-ДОЦ+Склады, термич/ЗАПИСКИ-02-10/.svn/entries',\n 'GoogleDriveTransfer/Транспроект/Архив/КРЕМЕНЧУГ-ДОЦ+Склады, термич/ЗАПИСКИ-02-10/02-10-ПЗ/.svn/all-wcprops',\n 'GoogleDriveTransfer/Транспроект/Архив/КРЕМЕНЧУГ-ДОЦ+Склады, термич/ЗАПИСКИ-02-10/02-10-ПЗ/.svn/entries',\n 'GoogleDriveTransfer/Транспроект/Архив/КРЕМЕНЧУГ-ДОЦ+Склады, термич/ЗАПИСКИ-02-10/02-10-ПЗ1/.svn/all-wcprops',\n 'GoogleDriveTransfer/Транспроект/Архив/КРЕМЕНЧУГ-ДОЦ+Склады, термич/ЗАПИСКИ-02-10/02-10-ПЗ1/.svn/entries',\n 'GoogleDriveTransfer/Транспроект/Архив/КРЕМЕНЧУГ-ДОЦ+Склады, термич/Расчеты задания/.svn/all-wcprops',\n 'GoogleDriveTransfer/Транспроект/Архив/КРЕМЕНЧУГ-ДОЦ+Склады, термич/Расчеты задания/.svn/entries',\n 'GoogleDriveTransfer/Транспроект/Архив/КРЕМЕНЧУГ-ДОЦ+Склады, термич/Расчеты задания/ЗАДАНИЯ/.svn/all-wcprops',\n 'GoogleDriveTransfer/Транспроект/Архив/КРЕМЕНЧУГ-ДОЦ+Склады, термич/Расчеты задания/ЗАДАНИЯ/.svn/entries',\n 'GoogleDriveTransfer/Транспроект/Архив/КРЕМЕНЧУГ-ДОЦ+Склады, термич/Расчеты задания/Задание Пож.тушение+ сигнализация/.svn/all-wcprops',\n 'GoogleDriveTransfer/Транспроект/Архив/КРЕМЕНЧУГ-ДОЦ+Склады, термич/Расчеты задания/Задание Пож.тушение+ сигнализация/.svn/entries',\n 'GoogleDriveTransfer/Транспроект/Архив/КРЕМЕНЧУГ-ДОЦ+Склады, термич/Расчеты задания/ПДВ/.svn/all-wcprops',\n 'GoogleDriveTransfer/Транспроект/Архив/КРЕМЕНЧУГ-ДОЦ+Склады, термич/Расчеты задания/ПДВ/.svn/entries',\n 'GoogleDriveTransfer/Транспроект/Архив/КРЕМЕНЧУГ-ДОЦ+Склады, термич/Техзаключения/.svn/all-wcprops',\n 'GoogleDriveTransfer/Транспроект/Архив/КРЕМЕНЧУГ-ДОЦ+Склады, термич/Техзаключения/.svn/entries',\n 'GoogleDriveTransfer/Транспроект/Архив/КРЕМЕНЧУГ-ДОЦ+Склады, термич/ЧЕРТЕЖИ--ПРОЕКТ/.svn/all-wcprops',\n 'GoogleDriveTransfer/Транспроект/Архив/КРЕМЕНЧУГ-ДОЦ+Склады, термич/ЧЕРТЕЖИ--ПРОЕКТ/.svn/entries',\n 'GoogleDriveTransfer/Транспроект/Архив/КРЕМЕНЧУГ-ДОЦ+Склады, термич/ЧЕРТЕЖИ--ПРОЕКТ/02-10 ГП/.svn/all-wcprops',\n 'GoogleDriveTransfer/Транспроект/Архив/КРЕМЕНЧУГ-ДОЦ+Склады, термич/ЧЕРТЕЖИ--ПРОЕКТ/02-10 ГП/.svn/entries',\n 'GoogleDriveTransfer/Транспроект/Архив/КРЕМЕНЧУГ-ДОЦ+Склады, термич/ЧЕРТЕЖИ--ПРОЕКТ/02-10-2-3-4  -Ттермич., склад,краскопригот/.svn/all-wcprops',\n 'GoogleDriveTransfer/Транспроект/Архив/КРЕМЕНЧУГ-ДОЦ+Склады, термич/ЧЕРТЕЖИ--ПРОЕКТ/02-10-2-3-4  -Ттермич., склад,краскопригот/.svn/entries',\n 'GoogleDriveTransfer/Транспроект/Архив/КРЕМЕНЧУГ-ДОЦ+Склады, термич/ЧЕРТЕЖИ--ПРОЕКТ/02-10-5--Склад металла/.svn/all-wcprops',\n 'GoogleDriveTransfer/Транспроект/Архив/КРЕМЕНЧУГ-ДОЦ+Склады, термич/ЧЕРТЕЖИ--ПРОЕКТ/02-10-5--Склад металла/.svn/entries',\n 'GoogleDriveTransfer/Транспроект/Архив/КРЕМЕНЧУГ-ДОЦ+Склады, термич/ЧЕРТЕЖИ--ПРОЕКТ/02-10-7-8- ДОЦ, лаб. сварки/.svn/all-wcprops',\n 'GoogleDriveTransfer/Транспроект/Архив/КРЕМЕНЧУГ-ДОЦ+Склады, термич/ЧЕРТЕЖИ--ПРОЕКТ/02-10-7-8- ДОЦ, лаб. сварки/.svn/entries',\n 'GoogleDriveTransfer/Транспроект/Архив/КРЕМЕНЧУГ-ДОЦ+Склады, термич/ЧЕРТЕЖИ--ПРОЕКТ/02-10-НВК/.svn/all-wcprops',\n 'GoogleDriveTransfer/Транспроект/Архив/КРЕМЕНЧУГ-ДОЦ+Склады, термич/ЧЕРТЕЖИ--ПРОЕКТ/02-10-НВК/.svn/entries',\n 'GoogleDriveTransfer/Транспроект/Архив/КРЕМЕНЧУГ-ДОЦ+Склады, термич/ЧЕРТЕЖИ--ПРОЕКТ/02-10-ПОС-П/.svn/all-wcprops',\n 'GoogleDriveTransfer/Транспроект/Архив/КРЕМЕНЧУГ-ДОЦ+Склады, термич/ЧЕРТЕЖИ--ПРОЕКТ/02-10-ПОС-П/.svn/entries',\n 'GoogleDriveTransfer/Транспроект/Архив/КРЕМЕНЧУГ-ДОЦ+Склады, термич/ЧЕРТЕЖИ--РД/.svn/all-wcprops',\n 'GoogleDriveTransfer/Транспроект/Архив/КРЕМЕНЧУГ-ДОЦ+Склады, термич/ЧЕРТЕЖИ--РД/.svn/entries',\n 'GoogleDriveTransfer/Транспроект/Архив/КРЕМЕНЧУГ-ДОЦ+Склады, термич/ЧЕРТЕЖИ--РД/02-10-НВК/.svn/all-wcprops',\n 'GoogleDriveTransfer/Транспроект/Архив/КРЕМЕНЧУГ-ДОЦ+Склады, термич/ЧЕРТЕЖИ--РД/02-10-НВК/.svn/entries',\n 'GoogleDriveTransfer/Транспроект/Архив/КРЕМЕНЧУГ-ДОЦ+Склады, термич/ЧЕРТЕЖИ--РД/02-10-ПОС-Р/.svn/all-wcprops',\n 'GoogleDriveTransfer/Транспроект/Архив/КРЕМЕНЧУГ-ДОЦ+Склады, термич/ЧЕРТЕЖИ--РД/02-10-ПОС-Р/.svn/entries',\n 'GoogleDriveTransfer/Транспроект/Архив/КРЕМЕНЧУГ-ДОЦ+Склады, термич/ЧЕРТЕЖИ--РД/Р--02-10-2-3-4  -Ттермич., склад,краскопригот/.svn/all-wcprops',\n 'GoogleDriveTransfer/Транспроект/Архив/КРЕМЕНЧУГ-ДОЦ+Склады, термич/ЧЕРТЕЖИ--РД/Р--02-10-2-3-4  -Ттермич., склад,краскопригот/.svn/entries',\n 'GoogleDriveTransfer/Транспроект/Архив/КРЕМЕНЧУГ-ДОЦ+Склады, термич/ЧЕРТЕЖИ--РД/Р--02-10-5--Склад металла/.svn/all-wcprops',\n 'GoogleDriveTransfer/Транспроект/Архив/КРЕМЕНЧУГ-ДОЦ+Склады, термич/ЧЕРТЕЖИ--РД/Р--02-10-5--Склад металла/.svn/entries',\n 'GoogleDriveTransfer/Транспроект/Архив/КРЕМЕНЧУГ-ДОЦ+Склады, термич/ЧЕРТЕЖИ--РД/Р--02-10-7-8- ДОЦ, лаб. сварки/.svn/all-wcprops',\n 'GoogleDriveTransfer/Транспроект/Архив/КРЕМЕНЧУГ-ДОЦ+Склады, термич/ЧЕРТЕЖИ--РД/Р--02-10-7-8- ДОЦ, лаб. сварки/.svn/entries',\n 'GoogleDriveTransfer/Транспроект/Архив/КРЕМЕНЧУГ-ДОЦ+Склады, термич/ЧЕРТЕЖИ--РД/стадия Р 02-10 ГП/.svn/all-wcprops',\n 'GoogleDriveTransfer/Транспроект/Архив/КРЕМЕНЧУГ-ДОЦ+Склады, термич/ЧЕРТЕЖИ--РД/стадия Р 02-10 ГП/.svn/entries',\n 'GoogleDriveTransfer/Транспроект/Архив/Кременчуг ТЕХВАГОНМАШ -Механический  выпуск РП/.svn/all-wcprops',\n 'GoogleDriveTransfer/Транспроект/Архив/Кременчуг ТЕХВАГОНМАШ -Механический  выпуск РП/.svn/entries',\n 'GoogleDriveTransfer/Транспроект/Архив/Кременчуг ТЕХВАГОНМАШ -Механический  выпуск РП/10-08-ПЗ-Записка общая-2009/.svn/all-wcprops',\n 'GoogleDriveTransfer/Транспроект/Архив/Кременчуг ТЕХВАГОНМАШ -Механический  выпуск РП/10-08-ПЗ-Записка общая-2009/.svn/entries',\n 'GoogleDriveTransfer/Транспроект/Архив/Кременчуг ТЕХВАГОНМАШ -Механический  выпуск РП/10-08-ПЗ1-ОХРАНА ТРУДА-2009/.svn/all-wcprops',\n 'GoogleDriveTransfer/Транспроект/Архив/Кременчуг ТЕХВАГОНМАШ -Механический  выпуск РП/10-08-ПЗ1-ОХРАНА ТРУДА-2009/.svn/entries',\n 'GoogleDriveTransfer/Транспроект/Архив/Кременчуг ТЕХВАГОНМАШ -Механический  выпуск РП/Графическая часть/.svn/all-wcprops',\n 'GoogleDriveTransfer/Транспроект/Архив/Кременчуг ТЕХВАГОНМАШ -Механический  выпуск РП/Графическая часть/.svn/entries',\n 'GoogleDriveTransfer/Транспроект/Архив/Кременчуг ТЕХВАГОНМАШ -Механический  выпуск РП/Графическая часть/10-08-1.3.3-1.3.3.1-АР/.svn/all-wcprops',\n 'GoogleDriveTransfer/Транспроект/Архив/Кременчуг ТЕХВАГОНМАШ -Механический  выпуск РП/Графическая часть/10-08-1.3.3-1.3.3.1-АР/.svn/entries',\n 'GoogleDriveTransfer/Транспроект/Архив/Кременчуг ТЕХВАГОНМАШ -Механический  выпуск РП/Графическая часть/10-08-1.3.3-В/.svn/all-wcprops',\n 'GoogleDriveTransfer/Транспроект/Архив/Кременчуг ТЕХВАГОНМАШ -Механический  выпуск РП/Графическая часть/10-08-1.3.3-В/.svn/entries',\n 'GoogleDriveTransfer/Транспроект/Архив/Кременчуг ТЕХВАГОНМАШ -Механический  выпуск РП/Графическая часть/10-08-1.3.3-ВК/.svn/all-wcprops',\n 'GoogleDriveTransfer/Транспроект/Архив/Кременчуг ТЕХВАГОНМАШ -Механический  выпуск РП/Графическая часть/10-08-1.3.3-ВК/.svn/entries',\n 'GoogleDriveTransfer/Транспроект/Архив/Кременчуг ТЕХВАГОНМАШ -Механический  выпуск РП/Графическая часть/10-08-1.3.3-КЖ/.svn/all-wcprops',\n 'GoogleDriveTransfer/Транспроект/Архив/Кременчуг ТЕХВАГОНМАШ -Механический  выпуск РП/Графическая часть/10-08-1.3.3-КЖ/.svn/entries',\n 'GoogleDriveTransfer/Транспроект/Архив/Кременчуг ТЕХВАГОНМАШ -Механический  выпуск РП/Графическая часть/10-08-1.3.3-КМ/.svn/all-wcprops',\n 'GoogleDriveTransfer/Транспроект/Архив/Кременчуг ТЕХВАГОНМАШ -Механический  выпуск РП/Графическая часть/10-08-1.3.3-КМ/.svn/entries',\n 'GoogleDriveTransfer/Транспроект/Архив/Кременчуг ТЕХВАГОНМАШ -Механический  выпуск РП/Графическая часть/10-08-1.3.3-НВК , июль 2009/.svn/all-wcprops',\n 'GoogleDriveTransfer/Транспроект/Архив/Кременчуг ТЕХВАГОНМАШ -Механический  выпуск РП/Графическая часть/10-08-1.3.3-НВК , июль 2009/.svn/entries',\n 'GoogleDriveTransfer/Транспроект/Архив/Кременчуг ТЕХВАГОНМАШ -Механический  выпуск РП/Графическая часть/10-08-1.3.3-ТХ/.svn/all-wcprops',\n 'GoogleDriveTransfer/Транспроект/Архив/Кременчуг ТЕХВАГОНМАШ -Механический  выпуск РП/Графическая часть/10-08-1.3.3-ТХ/.svn/entries',\n 'GoogleDriveTransfer/Транспроект/Архив/Кременчуг ТЕХВАГОНМАШ -Механический  выпуск РП/Графическая часть/10-08-1.3.3.1-АС/.svn/all-wcprops',\n 'GoogleDriveTransfer/Транспроект/Архив/Кременчуг ТЕХВАГОНМАШ -Механический  выпуск РП/Графическая часть/10-08-1.3.3.1-АС/.svn/entries',\n ...]"
     },
     "execution_count": 37,
     "metadata": {},
     "output_type": "execute_result"
    }
   ],
   "source": [
    "ls"
   ],
   "metadata": {
    "collapsed": false,
    "pycharm": {
     "name": "#%%\n"
    }
   }
  },
  {
   "cell_type": "code",
   "execution_count": 34,
   "outputs": [
    {
     "data": {
      "text/plain": "pdf         45509\ndwg         17708\njpg         16140\ndocx        11423\nini         10496\n            ...  \nDOCM            1\n_ВК, НВК        1\ndwt             1\nds$             1\nptn             1\nName: ex, Length: 618, dtype: int64"
     },
     "execution_count": 34,
     "metadata": {},
     "output_type": "execute_result"
    }
   ],
   "source": [
    "df1['ex'].value_counts()"
   ],
   "metadata": {
    "collapsed": false,
    "pycharm": {
     "name": "#%%\n"
    }
   }
  },
  {
   "cell_type": "code",
   "execution_count": 4,
   "outputs": [
    {
     "data": {
      "text/plain": "                                                        0\n0                                               1/tmp.txt\n1                                              1/trt1.txt\n2       10/275/03_Чертеж_планировки_территории_М_1_500...\n3       10/275/276/Загрузка_тележки_в_нагревательную_к...\n4       10/275/276/Нагревательный_блок_с_возможностью_...\n...                                                   ...\n184633                    test5/WebGL/Game1/Game_new.wasm\n184634            test5/WebGL/Game2/Running in zavod.data\n184635    test5/WebGL/Game2/Running in zavod.framework.js\n184636       test5/WebGL/Game2/Running in zavod.loader.js\n184637            test5/WebGL/Game2/Running in zavod.wasm\n\n[184638 rows x 1 columns]",
      "text/html": "<div>\n<style scoped>\n    .dataframe tbody tr th:only-of-type {\n        vertical-align: middle;\n    }\n\n    .dataframe tbody tr th {\n        vertical-align: top;\n    }\n\n    .dataframe thead th {\n        text-align: right;\n    }\n</style>\n<table border=\"1\" class=\"dataframe\">\n  <thead>\n    <tr style=\"text-align: right;\">\n      <th></th>\n      <th>0</th>\n    </tr>\n  </thead>\n  <tbody>\n    <tr>\n      <th>0</th>\n      <td>1/tmp.txt</td>\n    </tr>\n    <tr>\n      <th>1</th>\n      <td>1/trt1.txt</td>\n    </tr>\n    <tr>\n      <th>2</th>\n      <td>10/275/03_Чертеж_планировки_территории_М_1_500...</td>\n    </tr>\n    <tr>\n      <th>3</th>\n      <td>10/275/276/Загрузка_тележки_в_нагревательную_к...</td>\n    </tr>\n    <tr>\n      <th>4</th>\n      <td>10/275/276/Нагревательный_блок_с_возможностью_...</td>\n    </tr>\n    <tr>\n      <th>...</th>\n      <td>...</td>\n    </tr>\n    <tr>\n      <th>184633</th>\n      <td>test5/WebGL/Game1/Game_new.wasm</td>\n    </tr>\n    <tr>\n      <th>184634</th>\n      <td>test5/WebGL/Game2/Running in zavod.data</td>\n    </tr>\n    <tr>\n      <th>184635</th>\n      <td>test5/WebGL/Game2/Running in zavod.framework.js</td>\n    </tr>\n    <tr>\n      <th>184636</th>\n      <td>test5/WebGL/Game2/Running in zavod.loader.js</td>\n    </tr>\n    <tr>\n      <th>184637</th>\n      <td>test5/WebGL/Game2/Running in zavod.wasm</td>\n    </tr>\n  </tbody>\n</table>\n<p>184638 rows × 1 columns</p>\n</div>"
     },
     "execution_count": 4,
     "metadata": {},
     "output_type": "execute_result"
    }
   ],
   "source": [
    "\n",
    "blobs = bucket.list_blobs()\n",
    "folders = [blob.name for blob in bucket.list_blobs()]\n",
    "df = pd.DataFrame(folders)\n",
    "df"
   ],
   "metadata": {
    "collapsed": false,
    "pycharm": {
     "name": "#%%\n"
    }
   }
  },
  {
   "cell_type": "code",
   "execution_count": 5,
   "outputs": [
    {
     "data": {
      "text/plain": "                                                        0\n3618    GoogleDriveTransfer/BackOffice/Регламенты/desk...\n3619    GoogleDriveTransfer/BackOffice/Регламенты/Веде...\n3620    GoogleDriveTransfer/BackOffice/Регламенты/Новы...\n3621    GoogleDriveTransfer/BackOffice/Регламенты/Прав...\n3622    GoogleDriveTransfer/BackOffice/Регламенты/СТП/...\n...                                                   ...\n182664  GoogleDriveTransfer/Юрист UA/Укр Суд/Опекунски...\n182665  GoogleDriveTransfer/Юрист UA/Укр Суд/Ответ в о...\n182666  GoogleDriveTransfer/Юрист UA/Укр Суд/Прокурату...\n182667  GoogleDriveTransfer/Юрист UA/договір коворкінг...\n182668  GoogleDriveTransfer/Юрист UA/правила роботи ко...\n\n[179051 rows x 1 columns]",
      "text/html": "<div>\n<style scoped>\n    .dataframe tbody tr th:only-of-type {\n        vertical-align: middle;\n    }\n\n    .dataframe tbody tr th {\n        vertical-align: top;\n    }\n\n    .dataframe thead th {\n        text-align: right;\n    }\n</style>\n<table border=\"1\" class=\"dataframe\">\n  <thead>\n    <tr style=\"text-align: right;\">\n      <th></th>\n      <th>0</th>\n    </tr>\n  </thead>\n  <tbody>\n    <tr>\n      <th>3618</th>\n      <td>GoogleDriveTransfer/BackOffice/Регламенты/desk...</td>\n    </tr>\n    <tr>\n      <th>3619</th>\n      <td>GoogleDriveTransfer/BackOffice/Регламенты/Веде...</td>\n    </tr>\n    <tr>\n      <th>3620</th>\n      <td>GoogleDriveTransfer/BackOffice/Регламенты/Новы...</td>\n    </tr>\n    <tr>\n      <th>3621</th>\n      <td>GoogleDriveTransfer/BackOffice/Регламенты/Прав...</td>\n    </tr>\n    <tr>\n      <th>3622</th>\n      <td>GoogleDriveTransfer/BackOffice/Регламенты/СТП/...</td>\n    </tr>\n    <tr>\n      <th>...</th>\n      <td>...</td>\n    </tr>\n    <tr>\n      <th>182664</th>\n      <td>GoogleDriveTransfer/Юрист UA/Укр Суд/Опекунски...</td>\n    </tr>\n    <tr>\n      <th>182665</th>\n      <td>GoogleDriveTransfer/Юрист UA/Укр Суд/Ответ в о...</td>\n    </tr>\n    <tr>\n      <th>182666</th>\n      <td>GoogleDriveTransfer/Юрист UA/Укр Суд/Прокурату...</td>\n    </tr>\n    <tr>\n      <th>182667</th>\n      <td>GoogleDriveTransfer/Юрист UA/договір коворкінг...</td>\n    </tr>\n    <tr>\n      <th>182668</th>\n      <td>GoogleDriveTransfer/Юрист UA/правила роботи ко...</td>\n    </tr>\n  </tbody>\n</table>\n<p>179051 rows × 1 columns</p>\n</div>"
     },
     "execution_count": 5,
     "metadata": {},
     "output_type": "execute_result"
    }
   ],
   "source": [
    "df1 = df[df[0].str.startswith('GoogleDriveTransfer/')]\n",
    "df1"
   ],
   "metadata": {
    "collapsed": false,
    "pycharm": {
     "name": "#%%\n"
    }
   }
  },
  {
   "cell_type": "code",
   "execution_count": 6,
   "outputs": [],
   "source": [
    "df.to_csv('files_bucket_all.csv')\n",
    "df1.to_csv('files_bucket_GoogleDriveTransfer.csv')"
   ],
   "metadata": {
    "collapsed": false,
    "pycharm": {
     "name": "#%%\n"
    }
   }
  },
  {
   "cell_type": "code",
   "execution_count": null,
   "outputs": [],
   "source": [],
   "metadata": {
    "collapsed": false,
    "pycharm": {
     "name": "#%%\n"
    }
   }
  },
  {
   "cell_type": "code",
   "execution_count": 9,
   "outputs": [
    {
     "data": {
      "text/plain": "'GoogleDriveTransfer/BackOffice/Регламенты/desktop.ini'"
     },
     "execution_count": 9,
     "metadata": {},
     "output_type": "execute_result"
    }
   ],
   "source": [
    "x1 = df1.iloc[0,0]\n",
    "x1"
   ],
   "metadata": {
    "collapsed": false,
    "pycharm": {
     "name": "#%%\n"
    }
   }
  },
  {
   "cell_type": "code",
   "execution_count": 10,
   "outputs": [
    {
     "data": {
      "text/plain": "['GoogleDriveTransfer', 'BackOffice', 'Регламенты', 'desktop.ini']"
     },
     "execution_count": 10,
     "metadata": {},
     "output_type": "execute_result"
    }
   ],
   "source": [
    "x1.split('/')"
   ],
   "metadata": {
    "collapsed": false,
    "pycharm": {
     "name": "#%%\n"
    }
   }
  },
  {
   "cell_type": "code",
   "execution_count": null,
   "outputs": [],
   "source": [],
   "metadata": {
    "collapsed": false,
    "pycharm": {
     "name": "#%%\n"
    }
   }
  },
  {
   "cell_type": "code",
   "execution_count": null,
   "outputs": [],
   "source": [],
   "metadata": {
    "collapsed": false,
    "pycharm": {
     "name": "#%%\n"
    }
   }
  },
  {
   "cell_type": "code",
   "execution_count": null,
   "outputs": [],
   "source": [],
   "metadata": {
    "collapsed": false,
    "pycharm": {
     "name": "#%%\n"
    }
   }
  },
  {
   "cell_type": "code",
   "execution_count": null,
   "outputs": [],
   "source": [],
   "metadata": {
    "collapsed": false,
    "pycharm": {
     "name": "#%%\n"
    }
   }
  },
  {
   "cell_type": "code",
   "execution_count": null,
   "outputs": [],
   "source": [],
   "metadata": {
    "collapsed": false,
    "pycharm": {
     "name": "#%%\n"
    }
   }
  },
  {
   "cell_type": "code",
   "execution_count": null,
   "outputs": [],
   "source": [],
   "metadata": {
    "collapsed": false,
    "pycharm": {
     "name": "#%%\n"
    }
   }
  },
  {
   "cell_type": "code",
   "execution_count": null,
   "outputs": [],
   "source": [],
   "metadata": {
    "collapsed": false,
    "pycharm": {
     "name": "#%%\n"
    }
   }
  }
 ],
 "metadata": {
  "kernelspec": {
   "display_name": "Python 3",
   "language": "python",
   "name": "python3"
  },
  "language_info": {
   "codemirror_mode": {
    "name": "ipython",
    "version": 2
   },
   "file_extension": ".py",
   "mimetype": "text/x-python",
   "name": "python",
   "nbconvert_exporter": "python",
   "pygments_lexer": "ipython2",
   "version": "2.7.6"
  }
 },
 "nbformat": 4,
 "nbformat_minor": 0
}