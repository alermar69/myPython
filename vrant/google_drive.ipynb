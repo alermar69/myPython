{
 "cells": [
  {
   "cell_type": "code",
   "execution_count": 1,
   "metadata": {
    "collapsed": true,
    "pycharm": {
     "name": "#%%\n"
    }
   },
   "outputs": [],
   "source": [
    "from google.auth.transport import requests\n",
    "from googleapiclient import discovery\n",
    "from google.oauth2 import service_account\n",
    "from google.cloud import storage\n",
    "from googleapiclient.http import MediaIoBaseDownload\n",
    "import io\n",
    "import threading\n",
    "from time import sleep\n",
    "import pandas as pd"
   ]
  },
  {
   "cell_type": "code",
   "execution_count": 2,
   "outputs": [],
   "source": [
    "ls = []\n",
    "def f1():\n",
    "    i= 0\n",
    "    while True:\n",
    "        i += 1\n",
    "        ls.append(i)\n",
    "        time.sleep(5)"
   ],
   "metadata": {
    "collapsed": false,
    "pycharm": {
     "name": "#%%\n"
    }
   }
  },
  {
   "cell_type": "code",
   "execution_count": 3,
   "outputs": [],
   "source": [
    "\n",
    "t1 = threading.Thread(target=f1)\n",
    "t1.start()"
   ],
   "metadata": {
    "collapsed": false,
    "pycharm": {
     "name": "#%%\n"
    }
   }
  },
  {
   "cell_type": "code",
   "execution_count": 3,
   "outputs": [],
   "source": [
    "\n",
    "def get_client():\n",
    "    # Google Drive\n",
    "    credentials_drive = service_account.Credentials.from_service_account_file(\n",
    "        filename='savvy-concord-374520-bbbb0e3c73c3.json',\n",
    "        scopes=['https://www.googleapis.com/auth/drive'],\n",
    "    )\n",
    "    session = requests.AuthorizedSession(credentials_drive)\n",
    "    service = discovery.build('drive', 'v3', credentials=credentials_drive)\n",
    "\n",
    "    #Google Storage\n",
    "    credentials_storage = service_account.Credentials.from_service_account_file(\n",
    "        filename='credentials.json',\n",
    "        scopes=['https://www.googleapis.com/auth/devstorage.full_control'],\n",
    "    )\n",
    "    client = storage.Client(credentials=credentials_storage)\n",
    "    bucket = client.get_bucket('cabinet_bucket')\n",
    "\n",
    "    return service, bucket\n",
    "\n",
    "# Общие диски\n",
    "def get_list_of_drives(service):\n",
    "    response = service.drives().list(pageSize=100).execute()\n",
    "    ids = []\n",
    "    for drive in response['drives']:\n",
    "        ids.append([drive['name'], drive['id']])\n",
    "    return ids\n",
    "\n",
    "def get_list_of_files_in_drive(service, drive_name_id):\n",
    "    ls_files = []\n",
    "    ls_files_size = []\n",
    "\n",
    "    response = service.files().list(\n",
    "        q=\"mimeType!='application/vnd.google-apps.folder'\",\n",
    "        corpora='drive',\n",
    "        driveId=drive_name_id[1],\n",
    "        includeItemsFromAllDrives=True,\n",
    "        supportsAllDrives=True,\n",
    "\n",
    "        fields='nextPageToken, files(id, name, size)').execute()\n",
    "\n",
    "    while response:\n",
    "        for file in response.get('files', []):\n",
    "            # s_path =get_full_path_to_file(drive_name_id, file.get('id'))\n",
    "            ls_files.append(file.get('id'))\n",
    "            ls_files_size.append(file.get('size'))\n",
    "            # ls_files.append([file.get('name'),file.get('id')])\n",
    "\n",
    "        page_token = response.get('nextPageToken', None)\n",
    "\n",
    "        if page_token is None:\n",
    "            break\n",
    "\n",
    "        response = service.files().list(\n",
    "            q=\"mimeType!='application/vnd.google-apps.folder'\",\n",
    "            corpora='drive',\n",
    "            driveId=drive_name_id[1],\n",
    "            includeItemsFromAllDrives=True,\n",
    "            supportsAllDrives=True,\n",
    "            fields='nextPageToken, files(id, name, size)',\n",
    "            pageToken=page_token).execute()\n",
    "    return ls_files, ls_files_size\n",
    "\n",
    "\n",
    "# Полный путь к файлу\n",
    "def get_full_path_to_file(service, drive_name_id, file_id):\n",
    "    s_main_folder = 'GoogleDriveTransfer/'\n",
    "    ls = get_full_path_to_file_list(service, drive_name_id[1], file_id, [])\n",
    "    ls.reverse()\n",
    "    ls[0] = drive_name_id[0]\n",
    "    s_path = s_main_folder + '/'.join(ls)\n",
    "    return s_path\n",
    "\n",
    "\n",
    "def get_full_path_to_file_list(service, drive_id, file_id, ls):\n",
    "    response = service.files().get(\n",
    "        fileId=file_id,\n",
    "        fields='id, name, parents',\n",
    "        supportsAllDrives=True).execute()\n",
    "    file = response\n",
    "    # print(file['name'])\n",
    "    ls.append(file['name'])\n",
    "    if file.get('parents') is not None:\n",
    "        for parent in file['parents']:\n",
    "            get_full_path_to_file_list(service, drive_id, parent, ls)\n",
    "    return ls\n",
    "\n",
    "# Скачать файл\n",
    "def download_file(service, bucket, drive_name_id, file_id):\n",
    "    file_path = get_full_path_to_file(service, drive_name_id, file_id)\n",
    "\n",
    "    blobs = bucket.list_blobs(prefix=file_path)\n",
    "    files = [blob.name for blob in blobs]\n",
    "    if file_path in files:\n",
    "        # print('Файл уже существует')\n",
    "        return 0\n",
    "\n",
    "    try:\n",
    "        request = service.files().get_media(fileId=file_id)\n",
    "        fh = io.BytesIO()\n",
    "        downloader = MediaIoBaseDownload(fh, request)\n",
    "        done = False\n",
    "        while done is False:\n",
    "            status, done = downloader.next_chunk()\n",
    "            # print(\"Download %d%%.\" % int(status.progress() * 100))\n",
    "\n",
    "        blob = bucket.blob(file_path)\n",
    "        blob.upload_from_string(fh.getvalue())\n",
    "    except:\n",
    "        ls_error.append([file_path, 'Ошибка при скачивании'], e)\n",
    "        return 0\n",
    "\n",
    "    return 1"
   ],
   "metadata": {
    "collapsed": false,
    "pycharm": {
     "name": "#%%\n"
    }
   }
  },
  {
   "cell_type": "code",
   "execution_count": 3,
   "outputs": [],
   "source": [
    "from datetime import time\n",
    "\n",
    "drivers_check_list = []\n",
    "drivers_checked_list = []\n",
    "ls_threads = []\n",
    "ls_tmp = []\n",
    "ls_error = []\n",
    "drivers = [['BackOffice', '0AKtafUCJJsjKUk9PVA'],\n",
    " ['Grand_Engineering', '0APOKU4PVLZwMUk9PVA'],\n",
    " ['Human Resources', '0AJsRKr2Ba6TwUk9PVA'],\n",
    " ['IT-ОТДЕЛ', '0AI62IGV_POEcUk9PVA'],\n",
    " ['Managment 1', '0AJZoXjxIBMXRUk9PVA'],\n",
    " ['Titov Maksim', '0AAMdn20RTshcUk9PVA'],\n",
    " ['V-CLOUD24', '0AAUYrEjNjV5MUk9PVA'],\n",
    " ['Адвокатский кабинет', '0AHO8xAl6v2r5Uk9PVA'],\n",
    " ['Бухгалтер RUS', '0AKfDR0IMw1bPUk9PVA'],\n",
    " ['Бухгалтер UA', '0AGTAjdcjx6f-Uk9PVA'],\n",
    " ['ВДНХ_Колесо обозрения', '0ANw1UacIVifyUk9PVA'],\n",
    " ['ГипроМез', '0AKn-9Bj7NmNxUk9PVA'],\n",
    " ['ДОУ 360 Выпуск', '0AC2GUgCN9wcWUk9PVA'],\n",
    " ['ДОУ 360', '0ALpJRBJkrtVGUk9PVA'],\n",
    " ['Лио-Продукт', '0AHUPdJVPtsQaUk9PVA'],\n",
    "]\n",
    "\n",
    "def transfer_drive(drive_name_id):\n",
    "    while True:\n",
    "        is_download_files = True\n",
    "\n",
    "        try:\n",
    "            service, bucket = get_client()\n",
    "            ls_files = get_list_of_files_in_drive(service, drive_name_id)\n",
    "            for file in ls_files:\n",
    "                done = download_file(service, bucket, drive_name_id, file)\n",
    "                if done == 1:\n",
    "                    is_download_files = False\n",
    "                # try:\n",
    "                #     done = download_file(service, bucket, drive_name_id, file)\n",
    "                #     if done == 1:\n",
    "                #         is_download_files = False\n",
    "                # except Exception as e:\n",
    "                #     ls_error.append([drive_name_id, get_full_path_to_file(service, drive_name_id,file), e])\n",
    "\n",
    "            ls_tmp.append(f'{drive_name_id[0]}  - Завершено  - {is_download_files}')\n",
    "        except Exception as e:\n",
    "            ls_error.append([drive_name_id, 'Ошибка', e])\n",
    "\n",
    "        if is_download_files:\n",
    "            drivers_checked_list.append(drive_name_id[1])\n",
    "            break\n",
    "\n",
    "\n",
    "\n",
    "def transfer_drive_thread():\n",
    "    while True:\n",
    "        try:\n",
    "            service, bucket = get_client()\n",
    "            ls_drives = get_list_of_drives(service)\n",
    "            s_drives = 'TT '\n",
    "            drivers1 = []\n",
    "            for l in ls_drives:\n",
    "                for d in drivers:\n",
    "                    if l[0] == d[0]:\n",
    "                        drivers1.append(l)\n",
    "\n",
    "            for drive in drivers1:\n",
    "                if drive[1] not in drivers_check_list and drive[1] not in drivers_checked_list:\n",
    "                    drivers_check_list.append(drive[1])\n",
    "                    t = threading.Thread(target=transfer_drive, args=(drive,))\n",
    "                    t.start()\n",
    "                    ls_threads.append(t)\n",
    "                    s_drives += drive[0] + ', '\n",
    "        except Exception as e:\n",
    "            ls_error.append(['get_list_of_drives', e])\n",
    "        ls_tmp.append(f'Завершено------------------------{s_drives}')\n",
    "\n",
    "        try:\n",
    "            sleep(60*10)\n",
    "        except Exception as e:\n",
    "            ls_error.append(e)\n",
    "\n",
    "\n",
    "\n",
    "def transfer_drives_thread():\n",
    "    t = threading.Thread(target=transfer_drive_thread)\n",
    "    ls_threads.append(t)\n",
    "    t.start()\n",
    "\n",
    "    return t\n"
   ],
   "metadata": {
    "collapsed": false,
    "pycharm": {
     "name": "#%%\n"
    }
   }
  },
  {
   "cell_type": "code",
   "execution_count": 4,
   "outputs": [],
   "source": [
    "t = transfer_drives_thread()"
   ],
   "metadata": {
    "collapsed": false,
    "pycharm": {
     "name": "#%%\n"
    }
   }
  },
  {
   "cell_type": "code",
   "execution_count": null,
   "outputs": [],
   "source": [],
   "metadata": {
    "collapsed": false,
    "pycharm": {
     "name": "#%%\n"
    }
   }
  },
  {
   "cell_type": "code",
   "execution_count": 4,
   "outputs": [],
   "source": [
    "service, bucket = get_client()"
   ],
   "metadata": {
    "collapsed": false,
    "pycharm": {
     "name": "#%%\n"
    }
   }
  },
  {
   "cell_type": "markdown",
   "source": [],
   "metadata": {
    "collapsed": false,
    "pycharm": {
     "name": "#%% md\n"
    }
   }
  },
  {
   "cell_type": "code",
   "execution_count": null,
   "outputs": [],
   "source": [
    "blobs = bucket.list_blobs(prefix=file_path)"
   ],
   "metadata": {
    "collapsed": false,
    "pycharm": {
     "name": "#%%\n"
    }
   }
  },
  {
   "cell_type": "code",
   "execution_count": null,
   "outputs": [],
   "source": [],
   "metadata": {
    "collapsed": false,
    "pycharm": {
     "name": "#%%\n"
    }
   }
  },
  {
   "cell_type": "code",
   "execution_count": 5,
   "outputs": [],
   "source": [
    "ls_drives = get_list_of_drives(service)"
   ],
   "metadata": {
    "collapsed": false,
    "pycharm": {
     "name": "#%%\n"
    }
   }
  },
  {
   "cell_type": "code",
   "execution_count": 7,
   "outputs": [
    {
     "data": {
      "text/plain": "[['BackOffice', '0AKtafUCJJsjKUk9PVA'],\n ['Grand_Engineering', '0APOKU4PVLZwMUk9PVA'],\n ['Human Resources', '0AJsRKr2Ba6TwUk9PVA'],\n ['IT-ОТДЕЛ', '0AI62IGV_POEcUk9PVA'],\n ['Managment 1', '0AJZoXjxIBMXRUk9PVA'],\n ['Titov Maksim', '0AAMdn20RTshcUk9PVA'],\n ['V-CLOUD24', '0AAUYrEjNjV5MUk9PVA'],\n ['Адвокатский кабинет', '0AHO8xAl6v2r5Uk9PVA'],\n ['Бухгалтер RUS', '0AKfDR0IMw1bPUk9PVA'],\n ['Бухгалтер UA', '0AGTAjdcjx6f-Uk9PVA'],\n ['ВДНХ_Колесо обозрения', '0ANw1UacIVifyUk9PVA'],\n ['ГипроМез', '0AKn-9Bj7NmNxUk9PVA'],\n ['ДОУ 360 Выпуск', '0AC2GUgCN9wcWUk9PVA'],\n ['ДОУ 360', '0ALpJRBJkrtVGUk9PVA'],\n ['Лио-Продукт', '0AHUPdJVPtsQaUk9PVA']]"
     },
     "execution_count": 7,
     "metadata": {},
     "output_type": "execute_result"
    }
   ],
   "source": [
    "drivers"
   ],
   "metadata": {
    "collapsed": false,
    "pycharm": {
     "name": "#%%\n"
    }
   }
  },
  {
   "cell_type": "code",
   "execution_count": 6,
   "outputs": [
    {
     "data": {
      "text/plain": "[['BackOffice', '0AKtafUCJJsjKUk9PVA'],\n ['Ci', '0AHj-PRcbOxSWUk9PVA'],\n ['Grand_Engineering', '0APOKU4PVLZwMUk9PVA'],\n ['Human Resources', '0AJsRKr2Ba6TwUk9PVA'],\n ['IT-ОТДЕЛ', '0AI62IGV_POEcUk9PVA'],\n ['Managment 1', '0AJZoXjxIBMXRUk9PVA'],\n ['Managment 2', '0AE3Z9Ox2YaurUk9PVA'],\n ['Titov Maksim', '0AAMdn20RTshcUk9PVA'],\n ['V-CLOUD24', '0AAUYrEjNjV5MUk9PVA'],\n ['VG.COM', '0AElRg0lTw8iIUk9PVA'],\n ['Адвокатский кабинет', '0AHO8xAl6v2r5Uk9PVA'],\n ['Архив', '0AOP_oKFy4oGJUk9PVA'],\n ['Бухгалтер RUS', '0AKfDR0IMw1bPUk9PVA'],\n ['Бухгалтер UA', '0AGTAjdcjx6f-Uk9PVA'],\n ['ВДНХ_Колесо обозрения', '0ANw1UacIVifyUk9PVA'],\n ['Винный парк', '0ANhu4lfOrlBiUk9PVA'],\n ['ГипроМез', '0AKn-9Bj7NmNxUk9PVA'],\n ['ДОУ 360 Выпуск', '0AC2GUgCN9wcWUk9PVA'],\n ['ДОУ 360', '0ALpJRBJkrtVGUk9PVA'],\n ['Контент_VG', '0AN6chrg4ApnnUk9PVA'],\n ['Контент', '0ANf3LpamTrsTUk9PVA'],\n ['Лио-Продукт', '0AHUPdJVPtsQaUk9PVA'],\n ['Лобня', '0AIQWy4IyyeaIUk9PVA'],\n ['НКВЗ ремонт АвтоТехники', '0ADgaxv8NdpTkUk9PVA'],\n ['Объединенная пивоварня', '0AELFNnmNadJqUk9PVA'],\n ['Объекты в работе', '0AOxaPQRooOk2Uk9PVA'],\n ['ОСК Шереметьево', '0ALRUo2DlF1YmUk9PVA'],\n ['Остров мечты ППР', '0AImPD4jQdMXJUk9PVA'],\n ['Пекарня', '0AIWIhafOWgmHUk9PVA'],\n ['ПОДРЯДЧИКИ', '0ALnZgMLQFfrtUk9PVA'],\n ['СТО ГБО', '0AF2NtBbx_XvYUk9PVA'],\n ['ТЕХВАГОНМАШ', '0AAAyvFQMbstZUk9PVA'],\n ['Транспроект', '0ADKHIbPu575TUk9PVA'],\n ['ФосАгро', '0AD-4c3pLaBV5Uk9PVA'],\n ['ФРАКДЖЕТ-ТУЛЗ', '0ACjAWTbTqvESUk9PVA'],\n ['Холодный склад', '0ALT2Y1wkG7vCUk9PVA'],\n ['Чайка Лаб', '0APbGeMNQtN3MUk9PVA'],\n ['Читинские ключи', '0AA9gFHffXEitUk9PVA'],\n ['Юрист UA', '0AGg7JoJwa_8nUk9PVA']]"
     },
     "execution_count": 6,
     "metadata": {},
     "output_type": "execute_result"
    }
   ],
   "source": [
    "ls_drives"
   ],
   "metadata": {
    "collapsed": false,
    "pycharm": {
     "name": "#%%\n"
    }
   }
  },
  {
   "cell_type": "code",
   "execution_count": 9,
   "outputs": [
    {
     "data": {
      "text/plain": "'BackOffice'"
     },
     "execution_count": 9,
     "metadata": {},
     "output_type": "execute_result"
    }
   ],
   "source": [
    "drivers[0][0]"
   ],
   "metadata": {
    "collapsed": false,
    "pycharm": {
     "name": "#%%\n"
    }
   }
  },
  {
   "cell_type": "code",
   "execution_count": 12,
   "outputs": [
    {
     "data": {
      "text/plain": "[['BackOffice', '0AKtafUCJJsjKUk9PVA'],\n ['Grand_Engineering', '0APOKU4PVLZwMUk9PVA'],\n ['Human Resources', '0AJsRKr2Ba6TwUk9PVA'],\n ['IT-ОТДЕЛ', '0AI62IGV_POEcUk9PVA'],\n ['Managment 1', '0AJZoXjxIBMXRUk9PVA'],\n ['Titov Maksim', '0AAMdn20RTshcUk9PVA'],\n ['V-CLOUD24', '0AAUYrEjNjV5MUk9PVA'],\n ['Адвокатский кабинет', '0AHO8xAl6v2r5Uk9PVA'],\n ['Бухгалтер RUS', '0AKfDR0IMw1bPUk9PVA'],\n ['Бухгалтер UA', '0AGTAjdcjx6f-Uk9PVA'],\n ['ВДНХ_Колесо обозрения', '0ANw1UacIVifyUk9PVA'],\n ['ГипроМез', '0AKn-9Bj7NmNxUk9PVA'],\n ['ДОУ 360 Выпуск', '0AC2GUgCN9wcWUk9PVA'],\n ['ДОУ 360', '0ALpJRBJkrtVGUk9PVA'],\n ['Лио-Продукт', '0AHUPdJVPtsQaUk9PVA']]"
     },
     "execution_count": 12,
     "metadata": {},
     "output_type": "execute_result"
    }
   ],
   "source": [
    "drivers1 = []\n",
    "for l in ls_drives:\n",
    "    for d in drivers:\n",
    "        if l[0] == d[0]:\n",
    "            drivers1.append(l)\n",
    "drivers1"
   ],
   "metadata": {
    "collapsed": false,
    "pycharm": {
     "name": "#%%\n"
    }
   }
  },
  {
   "cell_type": "code",
   "execution_count": 19,
   "outputs": [],
   "source": [
    "# объем диска\n",
    "def get_size_of_drive(service, drive_name_id):\n",
    "    ls_files = get_list_of_files_in_drive(service, drive_name_id)\n",
    "    size = 0\n",
    "    for file in ls_files:\n",
    "        try:\n",
    "            file_info = service.files().get(fileId=file, fields='size').execute()\n",
    "            size += int(file_info.get('size'))\n",
    "        except Exception as e:\n",
    "            ls_error.append([drive_name_id, get_full_path_to_file(service, drive_name_id,file), e])\n",
    "    return size\n",
    "\n"
   ],
   "metadata": {
    "collapsed": false,
    "pycharm": {
     "name": "#%%\n"
    }
   }
  },
  {
   "cell_type": "code",
   "execution_count": 9,
   "outputs": [],
   "source": [
    "drive_name_id = ls_drives[1]"
   ],
   "metadata": {
    "collapsed": false,
    "pycharm": {
     "name": "#%%\n"
    }
   }
  },
  {
   "cell_type": "code",
   "execution_count": 24,
   "outputs": [],
   "source": [
    "def get_size_of_drive(service, drive_name_id):\n",
    "    ls_files = get_list_of_files_in_drive(service, drive_name_id)\n",
    "    size = 0\n",
    "    for file in ls_files[1]:\n",
    "        try:\n",
    "            size += int(file)\n",
    "        except Exception as e:\n",
    "            pass\n",
    "    size = size/1024/1024/1024\n",
    "    return size"
   ],
   "metadata": {
    "collapsed": false,
    "pycharm": {
     "name": "#%%\n"
    }
   }
  },
  {
   "cell_type": "code",
   "execution_count": 25,
   "outputs": [],
   "source": [
    "def get_size_of_drives(service):\n",
    "    ls_drives = get_list_of_drives(service)\n",
    "    ls_size = []\n",
    "    for drive in ls_drives:\n",
    "        ls_size.append([drive[0], get_size_of_drive(service, drive)])\n",
    "    return ls_size"
   ],
   "metadata": {
    "collapsed": false,
    "pycharm": {
     "name": "#%%\n"
    }
   }
  },
  {
   "cell_type": "code",
   "execution_count": 26,
   "outputs": [],
   "source": [
    "ls_size_drives = get_size_of_drives(service)"
   ],
   "metadata": {
    "collapsed": false,
    "pycharm": {
     "name": "#%%\n"
    }
   }
  },
  {
   "cell_type": "code",
   "execution_count": 46,
   "outputs": [],
   "source": [
    "drivers = [['BackOffice', '0AKtafUCJJsjKUk9PVA'],\n",
    " ['Grand_Engineering', '0APOKU4PVLZwMUk9PVA'],\n",
    " ['Human Resources', '0AJsRKr2Ba6TwUk9PVA'],\n",
    " ['IT-ОТДЕЛ', '0AI62IGV_POEcUk9PVA'],\n",
    " ['Managment 1', '0AJZoXjxIBMXRUk9PVA'],\n",
    " ['Titov Maksim', '0AAMdn20RTshcUk9PVA'],\n",
    " ['V-CLOUD24', '0AAUYrEjNjV5MUk9PVA'],\n",
    " ['Адвокатский кабинет', '0AHO8xAl6v2r5Uk9PVA'],\n",
    " ['Бухгалтер RUS', '0AKfDR0IMw1bPUk9PVA'],\n",
    " ['Бухгалтер UA', '0AGTAjdcjx6f-Uk9PVA'],\n",
    " ['ВДНХ_Колесо обозрения', '0ANw1UacIVifyUk9PVA'],\n",
    " ['ГипроМез', '0AKn-9Bj7NmNxUk9PVA'],\n",
    " ['ДОУ 360 Выпуск', '0AC2GUgCN9wcWUk9PVA'],\n",
    " ['ДОУ 360', '0ALpJRBJkrtVGUk9PVA'],\n",
    " ['Лио-Продукт', '0AHUPdJVPtsQaUk9PVA'],\n",
    " ['НКВЗ ремонт АвтоТехники', '0ADgaxv8NdpTkUk9PVA'],\n",
    " ['Объекты в работе', '0AOxaPQRooOk2Uk9PVA'],\n",
    " ['Остров мечты ППР', '0AImPD4jQdMXJUk9PVA'],\n",
    " ['Пекарня', '0AIWIhafOWgmHUk9PVA'],\n",
    " ['ПОДРЯДЧИКИ', '0ALnZgMLQFfrtUk9PVA'],\n",
    " ['СТО ГБО', '0AF2NtBbx_XvYUk9PVA'],\n",
    " ['ТЕХВАГОНМАШ', '0AAAyvFQMbstZUk9PVA'],\n",
    " ['Транспроект', '0ADKHIbPu575TUk9PVA'],\n",
    " ['ФосАгро', '0AD-4c3pLaBV5Uk9PVA'],\n",
    " ['ФРАКДЖЕТ-ТУЛЗ', '0ACjAWTbTqvESUk9PVA'],\n",
    " ['Холодный склад', '0ALT2Y1wkG7vCUk9PVA'],\n",
    " ['Чайка Лаб', '0APbGeMNQtN3MUk9PVA'],\n",
    " ['Читинские ключи', '0AA9gFHffXEitUk9PVA'],\n",
    " ['Юрист UA', '0AGg7JoJwa_8nUk9PVA']]"
   ],
   "metadata": {
    "collapsed": false,
    "pycharm": {
     "name": "#%%\n"
    }
   }
  },
  {
   "cell_type": "code",
   "execution_count": 47,
   "outputs": [],
   "source": [
    "drivers = [['BackOffice', '0AKtafUCJJsjKUk9PVA'],\n",
    " ['Grand_Engineering', '0APOKU4PVLZwMUk9PVA'],\n",
    " ['Human Resources', '0AJsRKr2Ba6TwUk9PVA'],\n",
    " ['IT-ОТДЕЛ', '0AI62IGV_POEcUk9PVA'],\n",
    " ['Managment 1', '0AJZoXjxIBMXRUk9PVA'],\n",
    " ['Titov Maksim', '0AAMdn20RTshcUk9PVA'],\n",
    " ['V-CLOUD24', '0AAUYrEjNjV5MUk9PVA'],\n",
    " ['Адвокатский кабинет', '0AHO8xAl6v2r5Uk9PVA'],\n",
    " ['Бухгалтер RUS', '0AKfDR0IMw1bPUk9PVA'],\n",
    " ['Бухгалтер UA', '0AGTAjdcjx6f-Uk9PVA'],\n",
    " ['ВДНХ_Колесо обозрения', '0ANw1UacIVifyUk9PVA'],\n",
    " ['ГипроМез', '0AKn-9Bj7NmNxUk9PVA'],\n",
    " ['ДОУ 360 Выпуск', '0AC2GUgCN9wcWUk9PVA'],\n",
    " ['ДОУ 360', '0ALpJRBJkrtVGUk9PVA'],\n",
    " ['Лио-Продукт', '0AHUPdJVPtsQaUk9PVA'],\n",
    "]"
   ],
   "metadata": {
    "collapsed": false,
    "pycharm": {
     "name": "#%%\n"
    }
   }
  },
  {
   "cell_type": "code",
   "execution_count": 54,
   "outputs": [
    {
     "data": {
      "text/plain": "[['BackOffice', '0AKtafUCJJsjKUk9PVA'],\n ['Ci', '0AHj-PRcbOxSWUk9PVA'],\n ['Grand_Engineering', '0APOKU4PVLZwMUk9PVA'],\n ['Human Resources', '0AJsRKr2Ba6TwUk9PVA'],\n ['IT-ОТДЕЛ', '0AI62IGV_POEcUk9PVA'],\n ['Managment 1', '0AJZoXjxIBMXRUk9PVA'],\n ['Managment 2', '0AE3Z9Ox2YaurUk9PVA'],\n ['Titov Maksim', '0AAMdn20RTshcUk9PVA'],\n ['V-CLOUD24', '0AAUYrEjNjV5MUk9PVA'],\n ['VG.COM', '0AElRg0lTw8iIUk9PVA'],\n ['Адвокатский кабинет', '0AHO8xAl6v2r5Uk9PVA'],\n ['Архив', '0AOP_oKFy4oGJUk9PVA'],\n ['Бухгалтер RUS', '0AKfDR0IMw1bPUk9PVA'],\n ['Бухгалтер UA', '0AGTAjdcjx6f-Uk9PVA'],\n ['ВДНХ_Колесо обозрения', '0ANw1UacIVifyUk9PVA'],\n ['Винный парк', '0ANhu4lfOrlBiUk9PVA'],\n ['ГипроМез', '0AKn-9Bj7NmNxUk9PVA'],\n ['ДОУ 360 Выпуск', '0AC2GUgCN9wcWUk9PVA'],\n ['ДОУ 360', '0ALpJRBJkrtVGUk9PVA'],\n ['Контент_VG', '0AN6chrg4ApnnUk9PVA'],\n ['Контент', '0ANf3LpamTrsTUk9PVA'],\n ['Лио-Продукт', '0AHUPdJVPtsQaUk9PVA'],\n ['Лобня', '0AIQWy4IyyeaIUk9PVA'],\n ['НКВЗ ремонт АвтоТехники', '0ADgaxv8NdpTkUk9PVA'],\n ['Объединенная пивоварня', '0AELFNnmNadJqUk9PVA'],\n ['Объекты в работе', '0AOxaPQRooOk2Uk9PVA'],\n ['ОСК Шереметьево', '0ALRUo2DlF1YmUk9PVA'],\n ['Остров мечты ППР', '0AImPD4jQdMXJUk9PVA'],\n ['Пекарня', '0AIWIhafOWgmHUk9PVA'],\n ['ПОДРЯДЧИКИ', '0ALnZgMLQFfrtUk9PVA'],\n ['СТО ГБО', '0AF2NtBbx_XvYUk9PVA'],\n ['ТЕХВАГОНМАШ', '0AAAyvFQMbstZUk9PVA'],\n ['Транспроект', '0ADKHIbPu575TUk9PVA'],\n ['ФосАгро', '0AD-4c3pLaBV5Uk9PVA'],\n ['ФРАКДЖЕТ-ТУЛЗ', '0ACjAWTbTqvESUk9PVA'],\n ['Холодный склад', '0ALT2Y1wkG7vCUk9PVA'],\n ['Чайка Лаб', '0APbGeMNQtN3MUk9PVA'],\n ['Читинские ключи', '0AA9gFHffXEitUk9PVA'],\n ['Юрист UA', '0AGg7JoJwa_8nUk9PVA']]"
     },
     "execution_count": 54,
     "metadata": {},
     "output_type": "execute_result"
    }
   ],
   "source": [
    "ls_drives = get_list_of_drives(service)\n",
    "ls_drives"
   ],
   "metadata": {
    "collapsed": false,
    "pycharm": {
     "name": "#%%\n"
    }
   }
  },
  {
   "cell_type": "code",
   "execution_count": null,
   "outputs": [],
   "source": [],
   "metadata": {
    "collapsed": false,
    "pycharm": {
     "name": "#%%\n"
    }
   }
  },
  {
   "cell_type": "code",
   "execution_count": 42,
   "outputs": [
    {
     "data": {
      "text/plain": "[['Юрист UA', 0.0033225594088435173],\n ['Grand_Engineering', 0.029934815131127834],\n ['ТЕХВАГОНМАШ', 0.0414497209712863],\n ['V-CLOUD24', 0.18407616019248962],\n ['Бухгалтер UA', 0.7236725864931941],\n ['Human Resources', 0.8235372556373477],\n ['Адвокатский кабинет', 0.8968739314004779],\n ['ДОУ 360 Выпуск', 0.9078069105744362],\n ['BackOffice', 1.165541491471231],\n ['ПОДРЯДЧИКИ', 1.380760551430285],\n ['Titov Maksim', 1.4614852871745825],\n ['Холодный склад', 1.6076131770387292],\n ['Объекты в работе', 2.2466243552044034],\n ['Читинские ключи', 2.868926392868161],\n ['ФосАгро', 3.8466863138601184],\n ['Лио-Продукт', 4.215722002089024],\n ['Бухгалтер RUS', 5.302054491825402],\n ['Транспроект', 6.9882554449141026],\n ['ФРАКДЖЕТ-ТУЛЗ', 7.858368532732129],\n ['ГипроМез', 8.09878805745393],\n ['СТО ГБО', 9.274343304336071],\n ['Пекарня', 10.64572879858315],\n ['ВДНХ_Колесо обозрения', 10.665728340856731],\n ['Managment 1', 12.608311027288437],\n ['IT-ОТДЕЛ', 14.269819112494588],\n ['ДОУ 360', 16.4524200335145],\n ['Остров мечты ППР', 16.474610432051122],\n ['НКВЗ ремонт АвтоТехники', 16.72192944958806],\n ['Чайка Лаб', 19.157956333830953],\n ['VG.COM', 33.50805039424449],\n ['ОСК Шереметьево', 36.87053349241614],\n ['Контент', 43.216087052598596],\n ['Лобня', 45.44711968488991],\n ['Винный парк', 70.22365504875779],\n ['Объединенная пивоварня', 79.06192125100642],\n ['Контент_VG', 82.2075148075819],\n ['Managment 2', 99.93364017829299],\n ['Ci', 159.5339870704338],\n ['Архив', 162.4900345178321]]"
     },
     "execution_count": 42,
     "metadata": {},
     "output_type": "execute_result"
    }
   ],
   "source": [
    "ls_size_drives"
   ],
   "metadata": {
    "collapsed": false,
    "pycharm": {
     "name": "#%%\n"
    }
   }
  },
  {
   "cell_type": "code",
   "execution_count": 28,
   "outputs": [],
   "source": [
    "ls_size_drives.sort(key=lambda x: x[1])"
   ],
   "metadata": {
    "collapsed": false,
    "pycharm": {
     "name": "#%%\n"
    }
   }
  },
  {
   "cell_type": "code",
   "execution_count": 43,
   "outputs": [
    {
     "data": {
      "text/plain": "[['Юрист UA', 0.0033225594088435173],\n ['Grand_Engineering', 0.029934815131127834],\n ['ТЕХВАГОНМАШ', 0.0414497209712863],\n ['V-CLOUD24', 0.18407616019248962],\n ['Бухгалтер UA', 0.7236725864931941],\n ['Human Resources', 0.8235372556373477],\n ['Адвокатский кабинет', 0.8968739314004779],\n ['ДОУ 360 Выпуск', 0.9078069105744362],\n ['BackOffice', 1.165541491471231],\n ['ПОДРЯДЧИКИ', 1.380760551430285],\n ['Titov Maksim', 1.4614852871745825],\n ['Холодный склад', 1.6076131770387292],\n ['Объекты в работе', 2.2466243552044034],\n ['Читинские ключи', 2.868926392868161],\n ['ФосАгро', 3.8466863138601184],\n ['Лио-Продукт', 4.215722002089024],\n ['Бухгалтер RUS', 5.302054491825402],\n ['Транспроект', 6.9882554449141026],\n ['ФРАКДЖЕТ-ТУЛЗ', 7.858368532732129],\n ['ГипроМез', 8.09878805745393],\n ['СТО ГБО', 9.274343304336071],\n ['Пекарня', 10.64572879858315],\n ['ВДНХ_Колесо обозрения', 10.665728340856731],\n ['Managment 1', 12.608311027288437],\n ['IT-ОТДЕЛ', 14.269819112494588],\n ['ДОУ 360', 16.4524200335145],\n ['Остров мечты ППР', 16.474610432051122],\n ['НКВЗ ремонт АвтоТехники', 16.72192944958806],\n ['Чайка Лаб', 19.157956333830953]]"
     },
     "execution_count": 43,
     "metadata": {},
     "output_type": "execute_result"
    }
   ],
   "source": [
    "ls_size_drives[:-10]"
   ],
   "metadata": {
    "collapsed": false,
    "pycharm": {
     "name": "#%%\n"
    }
   }
  },
  {
   "cell_type": "code",
   "execution_count": 44,
   "outputs": [
    {
     "data": {
      "text/plain": "[['VG.COM', 33.50805039424449],\n ['ОСК Шереметьево', 36.87053349241614],\n ['Контент', 43.216087052598596],\n ['Лобня', 45.44711968488991],\n ['Винный парк', 70.22365504875779],\n ['Объединенная пивоварня', 79.06192125100642],\n ['Контент_VG', 82.2075148075819],\n ['Managment 2', 99.93364017829299],\n ['Ci', 159.5339870704338],\n ['Архив', 162.4900345178321]]"
     },
     "execution_count": 44,
     "metadata": {},
     "output_type": "execute_result"
    }
   ],
   "source": [
    "ls_size_drives[-10:]"
   ],
   "metadata": {
    "collapsed": false,
    "pycharm": {
     "name": "#%%\n"
    }
   }
  },
  {
   "cell_type": "code",
   "execution_count": 45,
   "outputs": [
    {
     "data": {
      "text/plain": "[['Юрист UA', 0.0033225594088435173],\n ['Grand_Engineering', 0.029934815131127834],\n ['ТЕХВАГОНМАШ', 0.0414497209712863],\n ['V-CLOUD24', 0.18407616019248962],\n ['Бухгалтер UA', 0.7236725864931941],\n ['Human Resources', 0.8235372556373477],\n ['Адвокатский кабинет', 0.8968739314004779],\n ['ДОУ 360 Выпуск', 0.9078069105744362],\n ['BackOffice', 1.165541491471231],\n ['ПОДРЯДЧИКИ', 1.380760551430285],\n ['Titov Maksim', 1.4614852871745825],\n ['Холодный склад', 1.6076131770387292],\n ['Объекты в работе', 2.2466243552044034],\n ['Читинские ключи', 2.868926392868161],\n ['ФосАгро', 3.8466863138601184]]"
     },
     "execution_count": 45,
     "metadata": {},
     "output_type": "execute_result"
    }
   ],
   "source": [
    "ls_size_drives[:15]"
   ],
   "metadata": {
    "collapsed": false,
    "pycharm": {
     "name": "#%%\n"
    }
   }
  },
  {
   "cell_type": "code",
   "execution_count": null,
   "outputs": [],
   "source": [
    "ls_size_drives[:-10]"
   ],
   "metadata": {
    "collapsed": false,
    "pycharm": {
     "name": "#%%\n"
    }
   }
  },
  {
   "cell_type": "code",
   "execution_count": 41,
   "outputs": [
    {
     "data": {
      "text/plain": "[['BackOffice', '0AKtafUCJJsjKUk9PVA'],\n ['Grand_Engineering', '0APOKU4PVLZwMUk9PVA'],\n ['Human Resources', '0AJsRKr2Ba6TwUk9PVA'],\n ['IT-ОТДЕЛ', '0AI62IGV_POEcUk9PVA'],\n ['Managment 1', '0AJZoXjxIBMXRUk9PVA'],\n ['Titov Maksim', '0AAMdn20RTshcUk9PVA'],\n ['V-CLOUD24', '0AAUYrEjNjV5MUk9PVA'],\n ['Адвокатский кабинет', '0AHO8xAl6v2r5Uk9PVA'],\n ['Бухгалтер RUS', '0AKfDR0IMw1bPUk9PVA'],\n ['Бухгалтер UA', '0AGTAjdcjx6f-Uk9PVA'],\n ['ВДНХ_Колесо обозрения', '0ANw1UacIVifyUk9PVA'],\n ['ГипроМез', '0AKn-9Bj7NmNxUk9PVA'],\n ['ДОУ 360 Выпуск', '0AC2GUgCN9wcWUk9PVA'],\n ['ДОУ 360', '0ALpJRBJkrtVGUk9PVA'],\n ['Лио-Продукт', '0AHUPdJVPtsQaUk9PVA'],\n ['НКВЗ ремонт АвтоТехники', '0ADgaxv8NdpTkUk9PVA'],\n ['Объекты в работе', '0AOxaPQRooOk2Uk9PVA'],\n ['Остров мечты ППР', '0AImPD4jQdMXJUk9PVA'],\n ['Пекарня', '0AIWIhafOWgmHUk9PVA'],\n ['ПОДРЯДЧИКИ', '0ALnZgMLQFfrtUk9PVA'],\n ['СТО ГБО', '0AF2NtBbx_XvYUk9PVA'],\n ['ТЕХВАГОНМАШ', '0AAAyvFQMbstZUk9PVA'],\n ['Транспроект', '0ADKHIbPu575TUk9PVA'],\n ['ФосАгро', '0AD-4c3pLaBV5Uk9PVA'],\n ['ФРАКДЖЕТ-ТУЛЗ', '0ACjAWTbTqvESUk9PVA'],\n ['Холодный склад', '0ALT2Y1wkG7vCUk9PVA'],\n ['Чайка Лаб', '0APbGeMNQtN3MUk9PVA'],\n ['Читинские ключи', '0AA9gFHffXEitUk9PVA'],\n ['Юрист UA', '0AGg7JoJwa_8nUk9PVA']]"
     },
     "execution_count": 41,
     "metadata": {},
     "output_type": "execute_result"
    }
   ],
   "source": [
    "l1 = [l[0] for l in ls_size_drives[:-10]]\n",
    "[l for l in ls_drives if l[0] in l1]"
   ],
   "metadata": {
    "collapsed": false,
    "pycharm": {
     "name": "#%%\n"
    }
   }
  },
  {
   "cell_type": "code",
   "execution_count": 37,
   "outputs": [],
   "source": [
    "l1 = [l[0] for l in ls_size_drives[-10:]]"
   ],
   "metadata": {
    "collapsed": false,
    "pycharm": {
     "name": "#%%\n"
    }
   }
  },
  {
   "cell_type": "code",
   "execution_count": 40,
   "outputs": [
    {
     "data": {
      "text/plain": "['VG.COM',\n 'ОСК Шереметьево',\n 'Контент',\n 'Лобня',\n 'Винный парк',\n 'Объединенная пивоварня',\n 'Контент_VG',\n 'Managment 2',\n 'Ci',\n 'Архив']"
     },
     "execution_count": 40,
     "metadata": {},
     "output_type": "execute_result"
    }
   ],
   "source": [
    "l1"
   ],
   "metadata": {
    "collapsed": false,
    "pycharm": {
     "name": "#%%\n"
    }
   }
  },
  {
   "cell_type": "code",
   "execution_count": 39,
   "outputs": [
    {
     "data": {
      "text/plain": "[['Ci', '0AHj-PRcbOxSWUk9PVA'],\n ['Managment 2', '0AE3Z9Ox2YaurUk9PVA'],\n ['VG.COM', '0AElRg0lTw8iIUk9PVA'],\n ['Архив', '0AOP_oKFy4oGJUk9PVA'],\n ['Винный парк', '0ANhu4lfOrlBiUk9PVA'],\n ['Контент_VG', '0AN6chrg4ApnnUk9PVA'],\n ['Контент', '0ANf3LpamTrsTUk9PVA'],\n ['Лобня', '0AIQWy4IyyeaIUk9PVA'],\n ['Объединенная пивоварня', '0AELFNnmNadJqUk9PVA'],\n ['ОСК Шереметьево', '0ALRUo2DlF1YmUk9PVA']]"
     },
     "execution_count": 39,
     "metadata": {},
     "output_type": "execute_result"
    }
   ],
   "source": [
    "[l for l in ls_drives if l[0] in l1]"
   ],
   "metadata": {
    "collapsed": false,
    "pycharm": {
     "name": "#%%\n"
    }
   }
  },
  {
   "cell_type": "code",
   "execution_count": 31,
   "outputs": [
    {
     "data": {
      "text/plain": "[['BackOffice', '0AKtafUCJJsjKUk9PVA'],\n ['Ci', '0AHj-PRcbOxSWUk9PVA'],\n ['Grand_Engineering', '0APOKU4PVLZwMUk9PVA'],\n ['Human Resources', '0AJsRKr2Ba6TwUk9PVA'],\n ['IT-ОТДЕЛ', '0AI62IGV_POEcUk9PVA'],\n ['Managment 1', '0AJZoXjxIBMXRUk9PVA'],\n ['Managment 2', '0AE3Z9Ox2YaurUk9PVA'],\n ['Titov Maksim', '0AAMdn20RTshcUk9PVA'],\n ['V-CLOUD24', '0AAUYrEjNjV5MUk9PVA'],\n ['VG.COM', '0AElRg0lTw8iIUk9PVA'],\n ['Адвокатский кабинет', '0AHO8xAl6v2r5Uk9PVA'],\n ['Архив', '0AOP_oKFy4oGJUk9PVA'],\n ['Бухгалтер RUS', '0AKfDR0IMw1bPUk9PVA'],\n ['Бухгалтер UA', '0AGTAjdcjx6f-Uk9PVA'],\n ['ВДНХ_Колесо обозрения', '0ANw1UacIVifyUk9PVA'],\n ['Винный парк', '0ANhu4lfOrlBiUk9PVA'],\n ['ГипроМез', '0AKn-9Bj7NmNxUk9PVA'],\n ['ДОУ 360 Выпуск', '0AC2GUgCN9wcWUk9PVA'],\n ['ДОУ 360', '0ALpJRBJkrtVGUk9PVA'],\n ['Контент_VG', '0AN6chrg4ApnnUk9PVA'],\n ['Контент', '0ANf3LpamTrsTUk9PVA'],\n ['Лио-Продукт', '0AHUPdJVPtsQaUk9PVA'],\n ['Лобня', '0AIQWy4IyyeaIUk9PVA'],\n ['НКВЗ ремонт АвтоТехники', '0ADgaxv8NdpTkUk9PVA'],\n ['Объединенная пивоварня', '0AELFNnmNadJqUk9PVA'],\n ['Объекты в работе', '0AOxaPQRooOk2Uk9PVA'],\n ['ОСК Шереметьево', '0ALRUo2DlF1YmUk9PVA'],\n ['Остров мечты ППР', '0AImPD4jQdMXJUk9PVA'],\n ['Пекарня', '0AIWIhafOWgmHUk9PVA'],\n ['ПОДРЯДЧИКИ', '0ALnZgMLQFfrtUk9PVA'],\n ['СТО ГБО', '0AF2NtBbx_XvYUk9PVA'],\n ['ТЕХВАГОНМАШ', '0AAAyvFQMbstZUk9PVA'],\n ['Транспроект', '0ADKHIbPu575TUk9PVA'],\n ['ФосАгро', '0AD-4c3pLaBV5Uk9PVA'],\n ['ФРАКДЖЕТ-ТУЛЗ', '0ACjAWTbTqvESUk9PVA'],\n ['Холодный склад', '0ALT2Y1wkG7vCUk9PVA'],\n ['Чайка Лаб', '0APbGeMNQtN3MUk9PVA'],\n ['Читинские ключи', '0AA9gFHffXEitUk9PVA'],\n ['Юрист UA', '0AGg7JoJwa_8nUk9PVA']]"
     },
     "execution_count": 31,
     "metadata": {},
     "output_type": "execute_result"
    }
   ],
   "source": [
    "ls_drives"
   ],
   "metadata": {
    "collapsed": false,
    "pycharm": {
     "name": "#%%\n"
    }
   }
  },
  {
   "cell_type": "code",
   "execution_count": null,
   "outputs": [],
   "source": [
    "corpora='drive',\n",
    "            driveId=drive_name_id[1],\n",
    "            includeItemsFromAllDrives=True,\n",
    "            supportsAllDrives=True,\n",
    "            fields='nextPageToken, files(id, name)',"
   ],
   "metadata": {
    "collapsed": false,
    "pycharm": {
     "name": "#%%\n"
    }
   }
  },
  {
   "cell_type": "code",
   "execution_count": 8,
   "outputs": [],
   "source": [
    "# объем диска\n",
    "\n",
    "def get_size_of_drive(service, drive_id):\n",
    "    response = service.drives().get(\n",
    "        driveId=drive_id,\n",
    "        fields='id, name, size').execute()\n",
    "    return response['size']"
   ],
   "metadata": {
    "collapsed": false,
    "pycharm": {
     "name": "#%%\n"
    }
   }
  },
  {
   "cell_type": "code",
   "execution_count": 9,
   "outputs": [
    {
     "ename": "TypeError",
     "evalue": "Got an unexpected keyword argument \"corpora\"",
     "output_type": "error",
     "traceback": [
      "\u001B[1;31m---------------------------------------------------------------------------\u001B[0m",
      "\u001B[1;31mTypeError\u001B[0m                                 Traceback (most recent call last)",
      "\u001B[1;32m~\\AppData\\Local\\Temp/ipykernel_14164/634036744.py\u001B[0m in \u001B[0;36m<module>\u001B[1;34m\u001B[0m\n\u001B[1;32m----> 1\u001B[1;33m \u001B[0mget_size_of_drive\u001B[0m\u001B[1;33m(\u001B[0m\u001B[0mservice\u001B[0m\u001B[1;33m,\u001B[0m \u001B[0mls_drives\u001B[0m\u001B[1;33m[\u001B[0m\u001B[1;36m1\u001B[0m\u001B[1;33m]\u001B[0m\u001B[1;33m[\u001B[0m\u001B[1;36m1\u001B[0m\u001B[1;33m]\u001B[0m\u001B[1;33m)\u001B[0m\u001B[1;33m\u001B[0m\u001B[1;33m\u001B[0m\u001B[0m\n\u001B[0m",
      "\u001B[1;32m~\\AppData\\Local\\Temp/ipykernel_14164/1746500955.py\u001B[0m in \u001B[0;36mget_size_of_drive\u001B[1;34m(service, drive_id)\u001B[0m\n\u001B[0;32m      2\u001B[0m \u001B[1;33m\u001B[0m\u001B[0m\n\u001B[0;32m      3\u001B[0m \u001B[1;32mdef\u001B[0m \u001B[0mget_size_of_drive\u001B[0m\u001B[1;33m(\u001B[0m\u001B[0mservice\u001B[0m\u001B[1;33m,\u001B[0m \u001B[0mdrive_id\u001B[0m\u001B[1;33m)\u001B[0m\u001B[1;33m:\u001B[0m\u001B[1;33m\u001B[0m\u001B[1;33m\u001B[0m\u001B[0m\n\u001B[1;32m----> 4\u001B[1;33m     response = service.drives().get(\n\u001B[0m\u001B[0;32m      5\u001B[0m         \u001B[0mcorpora\u001B[0m\u001B[1;33m=\u001B[0m\u001B[1;34m'drive'\u001B[0m\u001B[1;33m,\u001B[0m\u001B[1;33m\u001B[0m\u001B[1;33m\u001B[0m\u001B[0m\n\u001B[0;32m      6\u001B[0m         \u001B[0mdriveId\u001B[0m\u001B[1;33m=\u001B[0m\u001B[0mdrive_id\u001B[0m\u001B[1;33m,\u001B[0m\u001B[1;33m\u001B[0m\u001B[1;33m\u001B[0m\u001B[0m\n",
      "\u001B[1;32md:\\it\\pr\\mypython\\venv\\lib\\site-packages\\googleapiclient\\discovery.py\u001B[0m in \u001B[0;36mmethod\u001B[1;34m(self, **kwargs)\u001B[0m\n\u001B[0;32m    955\u001B[0m         \u001B[1;32mfor\u001B[0m \u001B[0mname\u001B[0m \u001B[1;32min\u001B[0m \u001B[0msix\u001B[0m\u001B[1;33m.\u001B[0m\u001B[0miterkeys\u001B[0m\u001B[1;33m(\u001B[0m\u001B[0mkwargs\u001B[0m\u001B[1;33m)\u001B[0m\u001B[1;33m:\u001B[0m\u001B[1;33m\u001B[0m\u001B[1;33m\u001B[0m\u001B[0m\n\u001B[0;32m    956\u001B[0m             \u001B[1;32mif\u001B[0m \u001B[0mname\u001B[0m \u001B[1;32mnot\u001B[0m \u001B[1;32min\u001B[0m \u001B[0mparameters\u001B[0m\u001B[1;33m.\u001B[0m\u001B[0margmap\u001B[0m\u001B[1;33m:\u001B[0m\u001B[1;33m\u001B[0m\u001B[1;33m\u001B[0m\u001B[0m\n\u001B[1;32m--> 957\u001B[1;33m                 \u001B[1;32mraise\u001B[0m \u001B[0mTypeError\u001B[0m\u001B[1;33m(\u001B[0m\u001B[1;34m'Got an unexpected keyword argument \"%s\"'\u001B[0m \u001B[1;33m%\u001B[0m \u001B[0mname\u001B[0m\u001B[1;33m)\u001B[0m\u001B[1;33m\u001B[0m\u001B[1;33m\u001B[0m\u001B[0m\n\u001B[0m\u001B[0;32m    958\u001B[0m \u001B[1;33m\u001B[0m\u001B[0m\n\u001B[0;32m    959\u001B[0m         \u001B[1;31m# Remove args that have a value of None.\u001B[0m\u001B[1;33m\u001B[0m\u001B[1;33m\u001B[0m\u001B[1;33m\u001B[0m\u001B[0m\n",
      "\u001B[1;31mTypeError\u001B[0m: Got an unexpected keyword argument \"corpora\""
     ]
    }
   ],
   "source": [
    "get_size_of_drive(service, ls_drives[1][1])"
   ],
   "metadata": {
    "collapsed": false,
    "pycharm": {
     "name": "#%%\n"
    }
   }
  },
  {
   "cell_type": "code",
   "execution_count": 13,
   "outputs": [
    {
     "data": {
      "text/plain": "'0AHj-PRcbOxSWUk9PVA'"
     },
     "execution_count": 13,
     "metadata": {},
     "output_type": "execute_result"
    }
   ],
   "source": [
    "ls_drives[1][1]\n"
   ],
   "metadata": {
    "collapsed": false,
    "pycharm": {
     "name": "#%%\n"
    }
   }
  },
  {
   "cell_type": "code",
   "execution_count": 15,
   "outputs": [],
   "source": [
    "response = service.drives().get(\n",
    "        driveId= ls_drives[1][1]).execute()"
   ],
   "metadata": {
    "collapsed": false,
    "pycharm": {
     "name": "#%%\n"
    }
   }
  },
  {
   "cell_type": "code",
   "execution_count": 16,
   "outputs": [],
   "source": [
    "drive_id = ls_drives[1][1]"
   ],
   "metadata": {
    "collapsed": false,
    "pycharm": {
     "name": "#%%\n"
    }
   }
  },
  {
   "cell_type": "code",
   "execution_count": 17,
   "outputs": [
    {
     "ename": "HttpError",
     "evalue": "<HttpError 400 when requesting https://www.googleapis.com/drive/v3/drives/0AHj-PRcbOxSWUk9PVA?fields=name%2C+themeId%2C+backgroundImageLink%2C+backgroundImageFile%2C+capabilities%28canAddChildren%2C+canChangeCopyRequiresWriterPermissionRestriction%2C+canChangeDomainUsersOnlyRestriction%2C+canChangeDriveBackground%2C+canChangeDriveMembersOnlyRestriction%2C+canComment%2C+canCopy%2C+canDeleteChildren%2C+canDeleteDrive%2C+canDownload%2C+canEdit%2C+canListChildren%2C+canManageMembers%2C+canReadRevisions%2C+canRename%2C+canRenameDrive%2C+canShare%2C+canTrashChildren%2C+canTrashDrive%2C+canUntrashChildren%29%2C+colorRgb%2C+createdTime%2C+hidden%2C+id%2C+kind%2C+restrictions%28adminManagedRestrictions%2C+copyRequiresWriterPermission%2C+domainUsersOnly%2C+teamDriveMembersOnly%29%2C+themeId&alt=json returned \"Invalid field selection canTrashDrive\". Details: \"Invalid field selection canTrashDrive\">",
     "output_type": "error",
     "traceback": [
      "\u001B[1;31m---------------------------------------------------------------------------\u001B[0m",
      "\u001B[1;31mHttpError\u001B[0m                                 Traceback (most recent call last)",
      "\u001B[1;32m~\\AppData\\Local\\Temp/ipykernel_14164/2116777011.py\u001B[0m in \u001B[0;36m<module>\u001B[1;34m\u001B[0m\n\u001B[1;32m----> 1\u001B[1;33m response = service.drives().get(\n\u001B[0m\u001B[0;32m      2\u001B[0m         \u001B[0mdriveId\u001B[0m\u001B[1;33m=\u001B[0m\u001B[0mdrive_id\u001B[0m\u001B[1;33m,\u001B[0m\u001B[1;33m\u001B[0m\u001B[1;33m\u001B[0m\u001B[0m\n\u001B[0;32m      3\u001B[0m         fields='name, themeId, backgroundImageLink, backgroundImageFile, capabilities(canAddChildren, canChangeCopyRequiresWriterPermissionRestriction, canChangeDomainUsersOnlyRestriction, canChangeDriveBackground, canChangeDriveMembersOnlyRestriction, canComment, canCopy, canDeleteChildren, canDeleteDrive, canDownload, canEdit, canListChildren, canManageMembers, canReadRevisions, canRename, canRenameDrive, canShare, canTrashChildren, canTrashDrive, canUntrashChildren), colorRgb, createdTime, hidden, id, kind, restrictions(adminManagedRestrictions, copyRequiresWriterPermission, domainUsersOnly, teamDriveMembersOnly), themeId').execute()\n\u001B[0;32m      4\u001B[0m \u001B[1;33m\u001B[0m\u001B[0m\n\u001B[0;32m      5\u001B[0m \u001B[0mresponse\u001B[0m\u001B[1;33m[\u001B[0m\u001B[1;34m'capabilities'\u001B[0m\u001B[1;33m]\u001B[0m\u001B[1;33m[\u001B[0m\u001B[1;34m'canReadRevisions'\u001B[0m\u001B[1;33m]\u001B[0m\u001B[1;33m\u001B[0m\u001B[1;33m\u001B[0m\u001B[0m\n",
      "\u001B[1;32md:\\it\\pr\\mypython\\venv\\lib\\site-packages\\googleapiclient\\_helpers.py\u001B[0m in \u001B[0;36mpositional_wrapper\u001B[1;34m(*args, **kwargs)\u001B[0m\n\u001B[0;32m    132\u001B[0m                 \u001B[1;32melif\u001B[0m \u001B[0mpositional_parameters_enforcement\u001B[0m \u001B[1;33m==\u001B[0m \u001B[0mPOSITIONAL_WARNING\u001B[0m\u001B[1;33m:\u001B[0m\u001B[1;33m\u001B[0m\u001B[1;33m\u001B[0m\u001B[0m\n\u001B[0;32m    133\u001B[0m                     \u001B[0mlogger\u001B[0m\u001B[1;33m.\u001B[0m\u001B[0mwarning\u001B[0m\u001B[1;33m(\u001B[0m\u001B[0mmessage\u001B[0m\u001B[1;33m)\u001B[0m\u001B[1;33m\u001B[0m\u001B[1;33m\u001B[0m\u001B[0m\n\u001B[1;32m--> 134\u001B[1;33m             \u001B[1;32mreturn\u001B[0m \u001B[0mwrapped\u001B[0m\u001B[1;33m(\u001B[0m\u001B[1;33m*\u001B[0m\u001B[0margs\u001B[0m\u001B[1;33m,\u001B[0m \u001B[1;33m**\u001B[0m\u001B[0mkwargs\u001B[0m\u001B[1;33m)\u001B[0m\u001B[1;33m\u001B[0m\u001B[1;33m\u001B[0m\u001B[0m\n\u001B[0m\u001B[0;32m    135\u001B[0m \u001B[1;33m\u001B[0m\u001B[0m\n\u001B[0;32m    136\u001B[0m         \u001B[1;32mreturn\u001B[0m \u001B[0mpositional_wrapper\u001B[0m\u001B[1;33m\u001B[0m\u001B[1;33m\u001B[0m\u001B[0m\n",
      "\u001B[1;32md:\\it\\pr\\mypython\\venv\\lib\\site-packages\\googleapiclient\\http.py\u001B[0m in \u001B[0;36mexecute\u001B[1;34m(self, http, num_retries)\u001B[0m\n\u001B[0;32m    913\u001B[0m             \u001B[0mcallback\u001B[0m\u001B[1;33m(\u001B[0m\u001B[0mresp\u001B[0m\u001B[1;33m)\u001B[0m\u001B[1;33m\u001B[0m\u001B[1;33m\u001B[0m\u001B[0m\n\u001B[0;32m    914\u001B[0m         \u001B[1;32mif\u001B[0m \u001B[0mresp\u001B[0m\u001B[1;33m.\u001B[0m\u001B[0mstatus\u001B[0m \u001B[1;33m>=\u001B[0m \u001B[1;36m300\u001B[0m\u001B[1;33m:\u001B[0m\u001B[1;33m\u001B[0m\u001B[1;33m\u001B[0m\u001B[0m\n\u001B[1;32m--> 915\u001B[1;33m             \u001B[1;32mraise\u001B[0m \u001B[0mHttpError\u001B[0m\u001B[1;33m(\u001B[0m\u001B[0mresp\u001B[0m\u001B[1;33m,\u001B[0m \u001B[0mcontent\u001B[0m\u001B[1;33m,\u001B[0m \u001B[0muri\u001B[0m\u001B[1;33m=\u001B[0m\u001B[0mself\u001B[0m\u001B[1;33m.\u001B[0m\u001B[0muri\u001B[0m\u001B[1;33m)\u001B[0m\u001B[1;33m\u001B[0m\u001B[1;33m\u001B[0m\u001B[0m\n\u001B[0m\u001B[0;32m    916\u001B[0m         \u001B[1;32mreturn\u001B[0m \u001B[0mself\u001B[0m\u001B[1;33m.\u001B[0m\u001B[0mpostproc\u001B[0m\u001B[1;33m(\u001B[0m\u001B[0mresp\u001B[0m\u001B[1;33m,\u001B[0m \u001B[0mcontent\u001B[0m\u001B[1;33m)\u001B[0m\u001B[1;33m\u001B[0m\u001B[1;33m\u001B[0m\u001B[0m\n\u001B[0;32m    917\u001B[0m \u001B[1;33m\u001B[0m\u001B[0m\n",
      "\u001B[1;31mHttpError\u001B[0m: <HttpError 400 when requesting https://www.googleapis.com/drive/v3/drives/0AHj-PRcbOxSWUk9PVA?fields=name%2C+themeId%2C+backgroundImageLink%2C+backgroundImageFile%2C+capabilities%28canAddChildren%2C+canChangeCopyRequiresWriterPermissionRestriction%2C+canChangeDomainUsersOnlyRestriction%2C+canChangeDriveBackground%2C+canChangeDriveMembersOnlyRestriction%2C+canComment%2C+canCopy%2C+canDeleteChildren%2C+canDeleteDrive%2C+canDownload%2C+canEdit%2C+canListChildren%2C+canManageMembers%2C+canReadRevisions%2C+canRename%2C+canRenameDrive%2C+canShare%2C+canTrashChildren%2C+canTrashDrive%2C+canUntrashChildren%29%2C+colorRgb%2C+createdTime%2C+hidden%2C+id%2C+kind%2C+restrictions%28adminManagedRestrictions%2C+copyRequiresWriterPermission%2C+domainUsersOnly%2C+teamDriveMembersOnly%29%2C+themeId&alt=json returned \"Invalid field selection canTrashDrive\". Details: \"Invalid field selection canTrashDrive\">"
     ]
    }
   ],
   "source": [
    "response = service.drives().get(\n",
    "        driveId=drive_id,\n",
    "        fields='name, themeId, backgroundImageLink, backgroundImageFile, capabilities(canAddChildren, canChangeCopyRequiresWriterPermissionRestriction, canChangeDomainUsersOnlyRestriction, canChangeDriveBackground, canChangeDriveMembersOnlyRestriction, canComment, canCopy, canDeleteChildren, canDeleteDrive, canDownload, canEdit, canListChildren, canManageMembers, canReadRevisions, canRename, canRenameDrive, canShare, canTrashChildren, canTrashDrive, canUntrashChildren), colorRgb, createdTime, hidden, id, kind, restrictions(adminManagedRestrictions, copyRequiresWriterPermission, domainUsersOnly, teamDriveMembersOnly), themeId').execute()\n",
    "\n",
    "response['capabilities']['canReadRevisions']"
   ],
   "metadata": {
    "collapsed": false,
    "pycharm": {
     "name": "#%%\n"
    }
   }
  },
  {
   "cell_type": "code",
   "execution_count": 11,
   "outputs": [],
   "source": [
    "response = service.files().list(\n",
    "        q=\"mimeType!='application/vnd.google-apps.folder'\",\n",
    "        corpora='drive',\n",
    "        driveId=drive_name_id[1],\n",
    "        includeItemsFromAllDrives=True,\n",
    "        supportsAllDrives=True,\n",
    "\n",
    "        fields='nextPageToken, files(id, name, size)').execute()"
   ],
   "metadata": {
    "collapsed": false,
    "pycharm": {
     "name": "#%%\n"
    }
   }
  },
  {
   "cell_type": "code",
   "execution_count": null,
   "outputs": [],
   "source": [],
   "metadata": {
    "collapsed": false,
    "pycharm": {
     "name": "#%%\n"
    }
   }
  },
  {
   "cell_type": "code",
   "execution_count": 7,
   "outputs": [],
   "source": [
    "def f2(name):\n",
    "    x = bucket.list_blobs(prefix=f'GoogleDriveTransfer/{name}')\n",
    "    sz = 0\n",
    "    ls_dt = []\n",
    "    for blob in x:\n",
    "        sz += blob.size\n",
    "        ls_dt.append(blob.updated)\n",
    "    sz = sz/1024/1024/1024\n",
    "    df = pd.DataFrame(ls_dt)\n",
    "    count = len(df)\n",
    "    return [name, sz, count, df.min(), df.max()]"
   ],
   "metadata": {
    "collapsed": false,
    "pycharm": {
     "name": "#%%\n"
    }
   }
  },
  {
   "cell_type": "code",
   "execution_count": 8,
   "outputs": [],
   "source": [
    "ls1 = []\n",
    "for drive in ls_drives:\n",
    "    ls1.append(f2(drive[0]))\n",
    "\n",
    "df1 = pd.DataFrame(ls1, columns=['name', 'size', 'count', 'min', 'max'])"
   ],
   "metadata": {
    "collapsed": false,
    "pycharm": {
     "name": "#%%\n"
    }
   }
  },
  {
   "cell_type": "code",
   "execution_count": null,
   "outputs": [],
   "source": [],
   "metadata": {
    "collapsed": false,
    "pycharm": {
     "name": "#%%\n"
    }
   }
  },
  {
   "cell_type": "code",
   "execution_count": null,
   "outputs": [],
   "source": [],
   "metadata": {
    "collapsed": false,
    "pycharm": {
     "name": "#%%\n"
    }
   }
  },
  {
   "cell_type": "code",
   "execution_count": 20,
   "outputs": [],
   "source": [
    "response = service.drives().list(pageSize=100).execute()\n",
    "ids = []\n",
    "for drive in response['drives']:\n",
    "    ids.append([drive['name'], drive['id']])"
   ],
   "metadata": {
    "collapsed": false,
    "pycharm": {
     "name": "#%%\n"
    }
   }
  },
  {
   "cell_type": "code",
   "execution_count": null,
   "outputs": [],
   "source": [],
   "metadata": {
    "collapsed": false,
    "pycharm": {
     "name": "#%%\n"
    }
   }
  },
  {
   "cell_type": "code",
   "execution_count": 6,
   "outputs": [],
   "source": [
    "service.close()"
   ],
   "metadata": {
    "collapsed": false,
    "pycharm": {
     "name": "#%%\n"
    }
   }
  },
  {
   "cell_type": "code",
   "execution_count": 18,
   "outputs": [],
   "source": [
    "ls = get_list_of_drives(service)"
   ],
   "metadata": {
    "collapsed": false,
    "pycharm": {
     "name": "#%%\n"
    }
   }
  },
  {
   "cell_type": "markdown",
   "source": [],
   "metadata": {
    "collapsed": false,
    "pycharm": {
     "name": "#%% md\n"
    }
   }
  },
  {
   "cell_type": "code",
   "execution_count": 6,
   "outputs": [
    {
     "data": {
      "text/plain": "['Ci',\n 'Адвокатский кабинет',\n 'Архив',\n 'ВДНХ_Колесо обозрения',\n 'Винный парк',\n 'ГипроМез',\n 'ДОУ 360 Выпуск',\n 'ДОУ 360']"
     },
     "execution_count": 6,
     "metadata": {},
     "output_type": "execute_result"
    }
   ],
   "source": [
    "[i[0] for i in ls]"
   ],
   "metadata": {
    "collapsed": false,
    "pycharm": {
     "name": "#%%\n"
    }
   }
  },
  {
   "cell_type": "code",
   "execution_count": 12,
   "outputs": [],
   "source": [
    "credentials_drive = service_account.Credentials.from_service_account_file(\n",
    "        filename='savvy-concord-374520-bbbb0e3c73c3.json',\n",
    "        scopes=['https://www.googleapis.com/auth/drive'],\n",
    "    )\n",
    "session = requests.AuthorizedSession(credentials_drive)\n",
    "service = discovery.build('drive', 'v3', credentials=credentials_drive)"
   ],
   "metadata": {
    "collapsed": false,
    "pycharm": {
     "name": "#%%\n"
    }
   }
  },
  {
   "cell_type": "code",
   "execution_count": 14,
   "outputs": [],
   "source": [
    "page_token = None\n",
    "response = service.drives().list(\n",
    "            pageSize=100,\n",
    "            ).execute()"
   ],
   "metadata": {
    "collapsed": false,
    "pycharm": {
     "name": "#%%\n"
    }
   }
  },
  {
   "cell_type": "code",
   "execution_count": 35,
   "outputs": [],
   "source": [],
   "metadata": {
    "collapsed": false,
    "pycharm": {
     "name": "#%%\n"
    }
   }
  },
  {
   "cell_type": "code",
   "execution_count": 37,
   "outputs": [],
   "source": [
    "thr1 = threading.Thread(target=main)\n",
    "thr1.start()"
   ],
   "metadata": {
    "collapsed": false,
    "pycharm": {
     "name": "#%%\n"
    }
   }
  },
  {
   "cell_type": "code",
   "execution_count": 38,
   "outputs": [
    {
     "data": {
      "text/plain": "False"
     },
     "execution_count": 38,
     "metadata": {},
     "output_type": "execute_result"
    }
   ],
   "source": [
    "thr1.is_alive()"
   ],
   "metadata": {
    "collapsed": false,
    "pycharm": {
     "name": "#%%\n"
    }
   }
  },
  {
   "cell_type": "code",
   "execution_count": null,
   "outputs": [],
   "source": [],
   "metadata": {
    "collapsed": false,
    "pycharm": {
     "name": "#%%\n"
    }
   }
  },
  {
   "cell_type": "code",
   "execution_count": 26,
   "outputs": [
    {
     "data": {
      "text/plain": "'GoogleDriveTransfer/Ci/data_db_csv/2022_December/55_2022_12.csv'"
     },
     "execution_count": 26,
     "metadata": {},
     "output_type": "execute_result"
    }
   ],
   "source": [
    "file_id = ls_files[100]\n",
    "file_path = get_full_path_to_file(service, drive_ids[0], file_id)\n",
    "file_path"
   ],
   "metadata": {
    "collapsed": false,
    "pycharm": {
     "name": "#%%\n"
    }
   }
  },
  {
   "cell_type": "code",
   "execution_count": 30,
   "outputs": [],
   "source": [
    "blobs = bucket.list_blobs(prefix=file_path)\n",
    "folders = [blob.name for blob in blobs]"
   ],
   "metadata": {
    "collapsed": false,
    "pycharm": {
     "name": "#%%\n"
    }
   }
  },
  {
   "cell_type": "code",
   "execution_count": 32,
   "outputs": [
    {
     "data": {
      "text/plain": "1"
     },
     "execution_count": 32,
     "metadata": {},
     "output_type": "execute_result"
    }
   ],
   "source": [
    "len(folders)"
   ],
   "metadata": {
    "collapsed": false,
    "pycharm": {
     "name": "#%%\n"
    }
   }
  },
  {
   "cell_type": "code",
   "execution_count": 29,
   "outputs": [
    {
     "ename": "ValueError",
     "evalue": "('Iterator has already started', <google.api_core.page_iterator.HTTPIterator object at 0x000002C3ACD17490>)",
     "output_type": "error",
     "traceback": [
      "\u001B[1;31m---------------------------------------------------------------------------\u001B[0m",
      "\u001B[1;31mValueError\u001B[0m                                Traceback (most recent call last)",
      "\u001B[1;32m~\\AppData\\Local\\Temp/ipykernel_14284/2596483143.py\u001B[0m in \u001B[0;36m<module>\u001B[1;34m\u001B[0m\n\u001B[1;32m----> 1\u001B[1;33m \u001B[0mfolders\u001B[0m \u001B[1;33m=\u001B[0m \u001B[1;33m[\u001B[0m\u001B[0mblob\u001B[0m\u001B[1;33m.\u001B[0m\u001B[0mname\u001B[0m \u001B[1;32mfor\u001B[0m \u001B[0mblob\u001B[0m \u001B[1;32min\u001B[0m \u001B[0mblobs\u001B[0m\u001B[1;33m]\u001B[0m\u001B[1;33m\u001B[0m\u001B[1;33m\u001B[0m\u001B[0m\n\u001B[0m",
      "\u001B[1;32md:\\it\\pr\\mypython\\venv\\lib\\site-packages\\google\\api_core\\page_iterator.py\u001B[0m in \u001B[0;36m__iter__\u001B[1;34m(self)\u001B[0m\n\u001B[0;32m    225\u001B[0m         \"\"\"\n\u001B[0;32m    226\u001B[0m         \u001B[1;32mif\u001B[0m \u001B[0mself\u001B[0m\u001B[1;33m.\u001B[0m\u001B[0m_started\u001B[0m\u001B[1;33m:\u001B[0m\u001B[1;33m\u001B[0m\u001B[1;33m\u001B[0m\u001B[0m\n\u001B[1;32m--> 227\u001B[1;33m             \u001B[1;32mraise\u001B[0m \u001B[0mValueError\u001B[0m\u001B[1;33m(\u001B[0m\u001B[1;34m\"Iterator has already started\"\u001B[0m\u001B[1;33m,\u001B[0m \u001B[0mself\u001B[0m\u001B[1;33m)\u001B[0m\u001B[1;33m\u001B[0m\u001B[1;33m\u001B[0m\u001B[0m\n\u001B[0m\u001B[0;32m    228\u001B[0m         \u001B[0mself\u001B[0m\u001B[1;33m.\u001B[0m\u001B[0m_started\u001B[0m \u001B[1;33m=\u001B[0m \u001B[1;32mTrue\u001B[0m\u001B[1;33m\u001B[0m\u001B[1;33m\u001B[0m\u001B[0m\n\u001B[0;32m    229\u001B[0m         \u001B[1;32mreturn\u001B[0m \u001B[0mself\u001B[0m\u001B[1;33m.\u001B[0m\u001B[0m_items_iter\u001B[0m\u001B[1;33m(\u001B[0m\u001B[1;33m)\u001B[0m\u001B[1;33m\u001B[0m\u001B[1;33m\u001B[0m\u001B[0m\n",
      "\u001B[1;31mValueError\u001B[0m: ('Iterator has already started', <google.api_core.page_iterator.HTTPIterator object at 0x000002C3ACD17490>)"
     ]
    }
   ],
   "source": [
    "folders = [blob.name for blob in blobs]"
   ],
   "metadata": {
    "collapsed": false,
    "pycharm": {
     "name": "#%%\n"
    }
   }
  },
  {
   "cell_type": "code",
   "execution_count": null,
   "outputs": [],
   "source": [],
   "metadata": {
    "collapsed": false,
    "pycharm": {
     "name": "#%%\n"
    }
   }
  },
  {
   "cell_type": "code",
   "execution_count": null,
   "outputs": [],
   "source": [],
   "metadata": {
    "collapsed": false,
    "pycharm": {
     "name": "#%%\n"
    }
   }
  },
  {
   "cell_type": "code",
   "execution_count": null,
   "outputs": [],
   "source": [],
   "metadata": {
    "collapsed": false,
    "pycharm": {
     "name": "#%%\n"
    }
   }
  },
  {
   "cell_type": "code",
   "execution_count": 9,
   "outputs": [],
   "source": [
    "ls_files = get_list_of_files_in_drive(service, drive_ids[0])"
   ],
   "metadata": {
    "collapsed": false,
    "pycharm": {
     "name": "#%%\n"
    }
   }
  },
  {
   "cell_type": "code",
   "execution_count": null,
   "outputs": [],
   "source": [
    "credentials = service_account.Credentials.from_service_account_file(\n",
    "    filename='savvy-concord-374520-bbbb0e3c73c3.json',\n",
    "    scopes=['https://www.googleapis.com/auth/drive'],\n",
    ")\n",
    "session = requests.AuthorizedSession(credentials)\n",
    "service = discovery.build('drive', 'v3', credentials=credentials)"
   ],
   "metadata": {
    "collapsed": false,
    "pycharm": {
     "name": "#%%\n"
    }
   }
  },
  {
   "cell_type": "code",
   "execution_count": null,
   "outputs": [],
   "source": [
    "session.close()\n",
    "\n"
   ],
   "metadata": {
    "collapsed": false,
    "pycharm": {
     "name": "#%%\n"
    }
   }
  },
  {
   "cell_type": "code",
   "execution_count": 10,
   "outputs": [
    {
     "data": {
      "text/plain": "'1mYf4uSNIkQnA1aQ_hmwBtYzDVxNs-5Rq'"
     },
     "execution_count": 10,
     "metadata": {},
     "output_type": "execute_result"
    }
   ],
   "source": [
    "ls_files[100]"
   ],
   "metadata": {
    "collapsed": false,
    "pycharm": {
     "name": "#%%\n"
    }
   }
  },
  {
   "cell_type": "code",
   "execution_count": 16,
   "outputs": [
    {
     "data": {
      "text/plain": "'GoogleDriveTransfer/Ci/data_db_csv/2022_December/55_2022_12.csv'"
     },
     "execution_count": 16,
     "metadata": {},
     "output_type": "execute_result"
    }
   ],
   "source": [
    "get_full_path_to_file(service, drive_ids[0], ls_files[100])"
   ],
   "metadata": {
    "collapsed": false,
    "pycharm": {
     "name": "#%%\n"
    }
   }
  },
  {
   "cell_type": "code",
   "execution_count": null,
   "outputs": [],
   "source": [
    "\n",
    "\n",
    "\n",
    "\n",
    "\n",
    "\n",
    "\n",
    "credentials1 = service_account.Credentials.from_service_account_file(\n",
    "    filename='credentials.json',\n",
    "    scopes=['https://www.googleapis.com/auth/devstorage.full_control'],\n",
    ")\n",
    "client = storage.Client(credentials=credentials1)\n",
    "buckets = list(client.list_buckets())\n",
    "print(buckets)\n",
    "bucket = client.get_bucket('cabinet_bucket')\n",
    "blobs = bucket.list_blobs()\n",
    "#создание папки\n",
    "blob = bucket.blob('GoogleDriveTransfer/InsertInputCross_1.sql')\n",
    "blob.upload_from_file(fh)\n",
    "blob.make_public()\n",
    "blobs.pages\n",
    "folders = [blob.name for blob in blobs]\n",
    "\n",
    "bucket = client.get_bucket('test-bucket-123456')\n",
    "stream = io.BytesIO(fh.getbuffer())\n",
    "blob.upload_from_file(stream)"
   ],
   "metadata": {
    "collapsed": false,
    "pycharm": {
     "name": "#%%\n"
    }
   }
  },
  {
   "cell_type": "code",
   "execution_count": null,
   "outputs": [],
   "source": [],
   "metadata": {
    "collapsed": false,
    "pycharm": {
     "name": "#%%\n"
    }
   }
  },
  {
   "cell_type": "code",
   "execution_count": 5,
   "outputs": [],
   "source": [
    "path = 'GoogleDriveTransfer/Ci/1.csv'\n",
    "blob = bucket.blob(path)"
   ],
   "metadata": {
    "collapsed": false,
    "pycharm": {
     "name": "#%%\n"
    }
   }
  },
  {
   "cell_type": "code",
   "execution_count": 6,
   "outputs": [],
   "source": [
    "blobs = bucket.list_blobs()"
   ],
   "metadata": {
    "collapsed": false,
    "pycharm": {
     "name": "#%%\n"
    }
   }
  },
  {
   "cell_type": "code",
   "execution_count": 8,
   "outputs": [],
   "source": [
    "folders = [blob.name for blob in bucket.list_blobs()]"
   ],
   "metadata": {
    "collapsed": false,
    "pycharm": {
     "name": "#%%\n"
    }
   }
  },
  {
   "cell_type": "code",
   "execution_count": 9,
   "outputs": [
    {
     "data": {
      "text/plain": "                                                        0\n0                                               1/tmp.txt\n1                                              1/trt1.txt\n2       10/275/03_Чертеж_планировки_территории_М_1_500...\n3       10/275/276/Загрузка_тележки_в_нагревательную_к...\n4       10/275/276/Нагревательный_блок_с_возможностью_...\n...                                                   ...\n184502                    test5/WebGL/Game1/Game_new.wasm\n184503            test5/WebGL/Game2/Running in zavod.data\n184504    test5/WebGL/Game2/Running in zavod.framework.js\n184505       test5/WebGL/Game2/Running in zavod.loader.js\n184506            test5/WebGL/Game2/Running in zavod.wasm\n\n[184507 rows x 1 columns]",
      "text/html": "<div>\n<style scoped>\n    .dataframe tbody tr th:only-of-type {\n        vertical-align: middle;\n    }\n\n    .dataframe tbody tr th {\n        vertical-align: top;\n    }\n\n    .dataframe thead th {\n        text-align: right;\n    }\n</style>\n<table border=\"1\" class=\"dataframe\">\n  <thead>\n    <tr style=\"text-align: right;\">\n      <th></th>\n      <th>0</th>\n    </tr>\n  </thead>\n  <tbody>\n    <tr>\n      <th>0</th>\n      <td>1/tmp.txt</td>\n    </tr>\n    <tr>\n      <th>1</th>\n      <td>1/trt1.txt</td>\n    </tr>\n    <tr>\n      <th>2</th>\n      <td>10/275/03_Чертеж_планировки_территории_М_1_500...</td>\n    </tr>\n    <tr>\n      <th>3</th>\n      <td>10/275/276/Загрузка_тележки_в_нагревательную_к...</td>\n    </tr>\n    <tr>\n      <th>4</th>\n      <td>10/275/276/Нагревательный_блок_с_возможностью_...</td>\n    </tr>\n    <tr>\n      <th>...</th>\n      <td>...</td>\n    </tr>\n    <tr>\n      <th>184502</th>\n      <td>test5/WebGL/Game1/Game_new.wasm</td>\n    </tr>\n    <tr>\n      <th>184503</th>\n      <td>test5/WebGL/Game2/Running in zavod.data</td>\n    </tr>\n    <tr>\n      <th>184504</th>\n      <td>test5/WebGL/Game2/Running in zavod.framework.js</td>\n    </tr>\n    <tr>\n      <th>184505</th>\n      <td>test5/WebGL/Game2/Running in zavod.loader.js</td>\n    </tr>\n    <tr>\n      <th>184506</th>\n      <td>test5/WebGL/Game2/Running in zavod.wasm</td>\n    </tr>\n  </tbody>\n</table>\n<p>184507 rows × 1 columns</p>\n</div>"
     },
     "execution_count": 9,
     "metadata": {},
     "output_type": "execute_result"
    }
   ],
   "source": [
    "df = pd.DataFrame(folders)\n",
    "df"
   ],
   "metadata": {
    "collapsed": false,
    "pycharm": {
     "name": "#%%\n"
    }
   }
  },
  {
   "cell_type": "code",
   "execution_count": 13,
   "outputs": [],
   "source": [
    "df1 = df[df[0].str.startswith('GoogleDriveTransfer/')]"
   ],
   "metadata": {
    "collapsed": false,
    "pycharm": {
     "name": "#%%\n"
    }
   }
  },
  {
   "cell_type": "code",
   "execution_count": 14,
   "outputs": [
    {
     "data": {
      "text/plain": "                                                        0\n3570    GoogleDriveTransfer/BackOffice/Регламенты/desk...\n3571    GoogleDriveTransfer/BackOffice/Регламенты/Веде...\n3572    GoogleDriveTransfer/BackOffice/Регламенты/Новы...\n3573    GoogleDriveTransfer/BackOffice/Регламенты/Прав...\n3574    GoogleDriveTransfer/BackOffice/Регламенты/СТП/...\n...                                                   ...\n182533  GoogleDriveTransfer/Юрист UA/Укр Суд/Опекунски...\n182534  GoogleDriveTransfer/Юрист UA/Укр Суд/Ответ в о...\n182535  GoogleDriveTransfer/Юрист UA/Укр Суд/Прокурату...\n182536  GoogleDriveTransfer/Юрист UA/договір коворкінг...\n182537  GoogleDriveTransfer/Юрист UA/правила роботи ко...\n\n[178968 rows x 1 columns]",
      "text/html": "<div>\n<style scoped>\n    .dataframe tbody tr th:only-of-type {\n        vertical-align: middle;\n    }\n\n    .dataframe tbody tr th {\n        vertical-align: top;\n    }\n\n    .dataframe thead th {\n        text-align: right;\n    }\n</style>\n<table border=\"1\" class=\"dataframe\">\n  <thead>\n    <tr style=\"text-align: right;\">\n      <th></th>\n      <th>0</th>\n    </tr>\n  </thead>\n  <tbody>\n    <tr>\n      <th>3570</th>\n      <td>GoogleDriveTransfer/BackOffice/Регламенты/desk...</td>\n    </tr>\n    <tr>\n      <th>3571</th>\n      <td>GoogleDriveTransfer/BackOffice/Регламенты/Веде...</td>\n    </tr>\n    <tr>\n      <th>3572</th>\n      <td>GoogleDriveTransfer/BackOffice/Регламенты/Новы...</td>\n    </tr>\n    <tr>\n      <th>3573</th>\n      <td>GoogleDriveTransfer/BackOffice/Регламенты/Прав...</td>\n    </tr>\n    <tr>\n      <th>3574</th>\n      <td>GoogleDriveTransfer/BackOffice/Регламенты/СТП/...</td>\n    </tr>\n    <tr>\n      <th>...</th>\n      <td>...</td>\n    </tr>\n    <tr>\n      <th>182533</th>\n      <td>GoogleDriveTransfer/Юрист UA/Укр Суд/Опекунски...</td>\n    </tr>\n    <tr>\n      <th>182534</th>\n      <td>GoogleDriveTransfer/Юрист UA/Укр Суд/Ответ в о...</td>\n    </tr>\n    <tr>\n      <th>182535</th>\n      <td>GoogleDriveTransfer/Юрист UA/Укр Суд/Прокурату...</td>\n    </tr>\n    <tr>\n      <th>182536</th>\n      <td>GoogleDriveTransfer/Юрист UA/договір коворкінг...</td>\n    </tr>\n    <tr>\n      <th>182537</th>\n      <td>GoogleDriveTransfer/Юрист UA/правила роботи ко...</td>\n    </tr>\n  </tbody>\n</table>\n<p>178968 rows × 1 columns</p>\n</div>"
     },
     "execution_count": 14,
     "metadata": {},
     "output_type": "execute_result"
    }
   ],
   "source": [
    "df1"
   ],
   "metadata": {
    "collapsed": false,
    "pycharm": {
     "name": "#%%\n"
    }
   }
  },
  {
   "cell_type": "code",
   "execution_count": 15,
   "outputs": [],
   "source": [
    "df.to_csv('files_bucket_all.csv')"
   ],
   "metadata": {
    "collapsed": false,
    "pycharm": {
     "name": "#%%\n"
    }
   }
  },
  {
   "cell_type": "code",
   "execution_count": 16,
   "outputs": [],
   "source": [
    "df1.to_csv('files_bucket_GoogleDriveTransfer.csv')"
   ],
   "metadata": {
    "collapsed": false,
    "pycharm": {
     "name": "#%%\n"
    }
   }
  },
  {
   "cell_type": "code",
   "execution_count": null,
   "outputs": [],
   "source": [],
   "metadata": {
    "collapsed": false,
    "pycharm": {
     "name": "#%%\n"
    }
   }
  },
  {
   "cell_type": "code",
   "execution_count": 20,
   "outputs": [
    {
     "name": "stdout",
     "output_type": "stream",
     "text": [
      "Download 100%.\n"
     ]
    }
   ],
   "source": [
    "file_id = ls_files[101]\n",
    "file_path = get_full_path_to_file(service, drive_ids[0], file_id)\n",
    "\n",
    "request = service.files().get_media(fileId=file_id)\n",
    "fh = io.BytesIO()\n",
    "downloader = MediaIoBaseDownload(fh, request)\n",
    "done = False\n",
    "while done is False:\n",
    "    status, done = downloader.next_chunk()\n",
    "    print(\"Download %d%%.\" % int(status.progress() * 100))"
   ],
   "metadata": {
    "collapsed": false,
    "pycharm": {
     "name": "#%%\n"
    }
   }
  },
  {
   "cell_type": "code",
   "execution_count": 21,
   "outputs": [],
   "source": [
    "blob = bucket.blob(file_path)\n"
   ],
   "metadata": {
    "collapsed": false,
    "pycharm": {
     "name": "#%%\n"
    }
   }
  },
  {
   "cell_type": "code",
   "execution_count": 22,
   "outputs": [],
   "source": [
    "blob.upload_from_string(fh.getvalue())"
   ],
   "metadata": {
    "collapsed": false,
    "pycharm": {
     "name": "#%%\n"
    }
   }
  },
  {
   "cell_type": "code",
   "execution_count": null,
   "outputs": [],
   "source": [],
   "metadata": {
    "collapsed": false,
    "pycharm": {
     "name": "#%%\n"
    }
   }
  },
  {
   "cell_type": "code",
   "execution_count": 37,
   "outputs": [],
   "source": [
    "s_main_folder = 'GoogleDriveTransfer/'\n",
    "ls3 = get_full_path_to_file(drive_ids[0][1], ls_files[0][1], [])\n",
    "ls3.reverse()\n",
    "ls3[0] = drive_ids[0][0]\n",
    "s_path = s_main_folder + '/'.join(ls3)"
   ],
   "metadata": {
    "collapsed": false,
    "pycharm": {
     "name": "#%%\n"
    }
   }
  },
  {
   "cell_type": "code",
   "execution_count": 38,
   "outputs": [
    {
     "data": {
      "text/plain": "'GoogleDriveTransfer/Ci/data_db_csv/2021_January/71_2021_01.csv'"
     },
     "execution_count": 38,
     "metadata": {},
     "output_type": "execute_result"
    }
   ],
   "source": [
    "s_path"
   ],
   "metadata": {
    "collapsed": false,
    "pycharm": {
     "name": "#%%\n"
    }
   }
  },
  {
   "cell_type": "code",
   "execution_count": 30,
   "outputs": [
    {
     "data": {
      "text/plain": "['Drive', 'data_db_csv', '2021_January', '71_2021_01.csv']"
     },
     "execution_count": 30,
     "metadata": {},
     "output_type": "execute_result"
    }
   ],
   "source": [],
   "metadata": {
    "collapsed": false,
    "pycharm": {
     "name": "#%%\n"
    }
   }
  },
  {
   "cell_type": "code",
   "execution_count": 138,
   "outputs": [],
   "source": [
    "# Список файлов в диске\n",
    "def get_list_of_files_in_drive2(drive_id):\n",
    "    response = service.files().list(\n",
    "        corpora='drive',\n",
    "        driveId=drive_id,\n",
    "        includeItemsFromAllDrives=True,\n",
    "        supportsAllDrives=True,\n",
    "        fields='nextPageToken, files(id, name)').execute()\n",
    "    files1 = response.get('files', [])\n",
    "    # for file in files:\n",
    "    # print(file['name'], file['id'], file['mimeType'], file['parents'], file['size'], file['createdTime'], file['modifiedTime'])\n",
    "    return files1"
   ],
   "metadata": {
    "collapsed": false,
    "pycharm": {
     "name": "#%%\n"
    }
   }
  },
  {
   "cell_type": "code",
   "execution_count": 145,
   "outputs": [],
   "source": [
    " response = service.files().list(\n",
    "    corpora='drive',\n",
    "    driveId=drive_ids[0],\n",
    "    includeItemsFromAllDrives=True,\n",
    "    supportsAllDrives=True,\n",
    "    fields='nextPageToken, files(id, name)').execute()"
   ],
   "metadata": {
    "collapsed": false,
    "pycharm": {
     "name": "#%%\n"
    }
   }
  },
  {
   "cell_type": "code",
   "execution_count": 146,
   "outputs": [],
   "source": [
    "files = response.get('files', [])"
   ],
   "metadata": {
    "collapsed": false,
    "pycharm": {
     "name": "#%%\n"
    }
   }
  },
  {
   "cell_type": "code",
   "execution_count": 147,
   "outputs": [],
   "source": [
    "response = service.files().list(\n",
    "    corpora='drive',\n",
    "    driveId=drive_ids[0],\n",
    "    includeItemsFromAllDrives=True,\n",
    "    supportsAllDrives=True,\n",
    "    pageToken=response['nextPageToken'],\n",
    "    fields='nextPageToken, files(id, name)').execute()"
   ],
   "metadata": {
    "collapsed": false,
    "pycharm": {
     "name": "#%%\n"
    }
   }
  },
  {
   "cell_type": "code",
   "execution_count": 148,
   "outputs": [],
   "source": [
    "files += response.get('files', [])"
   ],
   "metadata": {
    "collapsed": false,
    "pycharm": {
     "name": "#%%\n"
    }
   }
  },
  {
   "cell_type": "code",
   "execution_count": null,
   "outputs": [],
   "source": [],
   "metadata": {
    "collapsed": false,
    "pycharm": {
     "name": "#%%\n"
    }
   }
  },
  {
   "cell_type": "code",
   "execution_count": 139,
   "outputs": [
    {
     "ename": "TypeError",
     "evalue": "Got an unexpected keyword argument \"incompleteSearch\"",
     "output_type": "error",
     "traceback": [
      "\u001B[1;31m---------------------------------------------------------------------------\u001B[0m",
      "\u001B[1;31mTypeError\u001B[0m                                 Traceback (most recent call last)",
      "\u001B[1;32m~\\AppData\\Local\\Temp/ipykernel_9840/861712762.py\u001B[0m in \u001B[0;36m<module>\u001B[1;34m\u001B[0m\n\u001B[1;32m----> 1\u001B[1;33m \u001B[0mfls\u001B[0m \u001B[1;33m=\u001B[0m \u001B[0mget_list_of_files_in_drive\u001B[0m\u001B[1;33m(\u001B[0m\u001B[0mdrive_ids\u001B[0m\u001B[1;33m[\u001B[0m\u001B[1;36m0\u001B[0m\u001B[1;33m]\u001B[0m\u001B[1;33m)\u001B[0m\u001B[1;33m\u001B[0m\u001B[1;33m\u001B[0m\u001B[0m\n\u001B[0m",
      "\u001B[1;32m~\\AppData\\Local\\Temp/ipykernel_9840/1953733165.py\u001B[0m in \u001B[0;36mget_list_of_files_in_drive\u001B[1;34m(drive_id)\u001B[0m\n\u001B[0;32m      1\u001B[0m \u001B[1;31m# Список файлов в диске\u001B[0m\u001B[1;33m\u001B[0m\u001B[1;33m\u001B[0m\u001B[1;33m\u001B[0m\u001B[0m\n\u001B[0;32m      2\u001B[0m \u001B[1;32mdef\u001B[0m \u001B[0mget_list_of_files_in_drive\u001B[0m\u001B[1;33m(\u001B[0m\u001B[0mdrive_id\u001B[0m\u001B[1;33m)\u001B[0m\u001B[1;33m:\u001B[0m\u001B[1;33m\u001B[0m\u001B[1;33m\u001B[0m\u001B[0m\n\u001B[1;32m----> 3\u001B[1;33m     response = service.files().list(\n\u001B[0m\u001B[0;32m      4\u001B[0m         \u001B[0mcorpora\u001B[0m\u001B[1;33m=\u001B[0m\u001B[1;34m'drive'\u001B[0m\u001B[1;33m,\u001B[0m\u001B[1;33m\u001B[0m\u001B[1;33m\u001B[0m\u001B[0m\n\u001B[0;32m      5\u001B[0m         \u001B[0mdriveId\u001B[0m\u001B[1;33m=\u001B[0m\u001B[0mdrive_id\u001B[0m\u001B[1;33m,\u001B[0m\u001B[1;33m\u001B[0m\u001B[1;33m\u001B[0m\u001B[0m\n",
      "\u001B[1;32md:\\it\\pr\\mypython\\venv\\lib\\site-packages\\googleapiclient\\discovery.py\u001B[0m in \u001B[0;36mmethod\u001B[1;34m(self, **kwargs)\u001B[0m\n\u001B[0;32m    955\u001B[0m         \u001B[1;32mfor\u001B[0m \u001B[0mname\u001B[0m \u001B[1;32min\u001B[0m \u001B[0msix\u001B[0m\u001B[1;33m.\u001B[0m\u001B[0miterkeys\u001B[0m\u001B[1;33m(\u001B[0m\u001B[0mkwargs\u001B[0m\u001B[1;33m)\u001B[0m\u001B[1;33m:\u001B[0m\u001B[1;33m\u001B[0m\u001B[1;33m\u001B[0m\u001B[0m\n\u001B[0;32m    956\u001B[0m             \u001B[1;32mif\u001B[0m \u001B[0mname\u001B[0m \u001B[1;32mnot\u001B[0m \u001B[1;32min\u001B[0m \u001B[0mparameters\u001B[0m\u001B[1;33m.\u001B[0m\u001B[0margmap\u001B[0m\u001B[1;33m:\u001B[0m\u001B[1;33m\u001B[0m\u001B[1;33m\u001B[0m\u001B[0m\n\u001B[1;32m--> 957\u001B[1;33m                 \u001B[1;32mraise\u001B[0m \u001B[0mTypeError\u001B[0m\u001B[1;33m(\u001B[0m\u001B[1;34m'Got an unexpected keyword argument \"%s\"'\u001B[0m \u001B[1;33m%\u001B[0m \u001B[0mname\u001B[0m\u001B[1;33m)\u001B[0m\u001B[1;33m\u001B[0m\u001B[1;33m\u001B[0m\u001B[0m\n\u001B[0m\u001B[0;32m    958\u001B[0m \u001B[1;33m\u001B[0m\u001B[0m\n\u001B[0;32m    959\u001B[0m         \u001B[1;31m# Remove args that have a value of None.\u001B[0m\u001B[1;33m\u001B[0m\u001B[1;33m\u001B[0m\u001B[1;33m\u001B[0m\u001B[0m\n",
      "\u001B[1;31mTypeError\u001B[0m: Got an unexpected keyword argument \"incompleteSearch\""
     ]
    }
   ],
   "source": [
    "fls = get_list_of_files_in_drive(drive_ids[0])"
   ],
   "metadata": {
    "collapsed": false,
    "pycharm": {
     "name": "#%%\n"
    }
   }
  },
  {
   "cell_type": "code",
   "execution_count": 79,
   "outputs": [],
   "source": [
    "# Список папок в диске\n",
    "def get_list_of_folders_in_drive(drive_id):\n",
    "    folders = []\n",
    "    response = service.files().list(\n",
    "        corpora='drive',\n",
    "        includeItemsFromAllDrives=True,\n",
    "        supportsAllDrives=True,\n",
    "        driveId=drive_id,\n",
    "        q=\"mimeType='application/vnd.google-apps.folder'\",\n",
    "        fields='nextPageToken, files(id, name)').execute()\n",
    "    files = response.get('files', [])\n",
    "    for file in files:\n",
    "        print(file['name'], file['id'])\n",
    "        folders.append(file['name'])\n",
    "    return folders"
   ],
   "metadata": {
    "collapsed": false,
    "pycharm": {
     "name": "#%%\n"
    }
   }
  },
  {
   "cell_type": "code",
   "execution_count": 80,
   "outputs": [
    {
     "name": "stdout",
     "output_type": "stream",
     "text": [
      "2022_December 1dDXFDiJDxZe1sITq7Qh2STHo6yH3xBUH\n",
      "2022_November 1dFNzmM2qk9BIJsuMcFFXh5foCji4J-e4\n",
      "2022_October 1YiojmLMfK4YIHSRWbsQpWKg1nQHLDJfH\n",
      "2022_September 1TQ1aNTFZtLAfBcpoY83_1N4TG5Sg5e1x\n",
      "2022_August 1MMHayPtR3lpLpbVKqSd2C45XMaOERUpE\n",
      "2022_July 1Jgz8BLvjes4QIAqmRZIzUCZIm0k8gCE1\n",
      "2022_June 1DfzdLYi6haE9fovoeXppYsWVvyBqF0-V\n",
      "2022_May 189cj8y-QJ1lY1oE5mI3OoNBQgmK7Tt0l\n",
      "2022_April 134n0mG4LMdF9k3pjF4V9P24rbQr0quwd\n",
      "2022_March 1yixtMsNRecY4CMqWfmnoelS4p_mFGgQ1\n",
      "2022_February 1sQMqeXxYTjyj9168VFzZgJ65Z_AHEBK8\n",
      "2022_January 1ozjOf9KRLgCKn9WubiEvOH9hhIyC2eKG\n",
      "2021_December 1jXnjjjqErUhr5W3cPK-BzVavpsFfv-qB\n",
      "2021_November 1e9XKd2_WVYGo8jYTiud6S_ZRlKXPFz6P\n",
      "2021_October 1a6ivUkBpiCLEO43lNBX6c_PqDaaX7gHb\n",
      "2021_September 1XjQSITcjuqhXEmwXw9VPyhq0xoTRay2y\n",
      "2021_August 1Tl_sRACI8vmeNr6P-LBJdeNwZbxuXglk\n",
      "2021_July 1OJSiA3Bo5zqMJe73QSbu_oQPdZrQnF9E\n",
      "2021_June 1KvNWRiwr3GG837pAtmzVgq47vIWuCCUB\n",
      "2021_May 1KYTE3D5ijNkKSY2DdrOW8JtzlJvFhNbt\n",
      "2021_April 1KVu8-LrtZym7OJlXZcA5h1Np7Y5fZOxb\n",
      "2021_Mach 1KL3oHd6ShaysScLrfnsEIaWofLsqLqxm\n",
      "2021_February 1KJpcZFoT5eol2hQ6d9X_VcCCxzWLh6y1\n",
      "2021_January 1C-bN4860sGaW5dbAngQKO0hZ8Z9BKmK5\n",
      "data_db_csv 1hWb4SgtNk95SmqYW23uh7yr3y-cGI9JD\n",
      "Double_Sint_All 1_a377cd1s-y7sTFF52G2w_xhJuf8LFS2\n",
      "Новая папка 1_WiFVR-6qn-8DunZIo8gA8--csgwFcHJ\n",
      "Moving Average 1S2seJFZDb12dQxweUexNtnMm4Sex-qx8\n",
      "Sets 1RiGmNIuQI9VZb-LmxcXSH_5qegSIOFY3\n",
      "Mean Reversion 1RhsoY-NxDsCDja_T5kVRSgRhuT-PF7Kk\n",
      "Textures 1RxIplhhIs8TWy-mQpPoa58f8_S-W7Flo\n",
      "Math 3D Morpher 1R1jq16NF9Wr61lFCjB3M2TnZq75D6FfR\n",
      "Sets 1Qh4otIL09BDBsB1apQqkhaV02MMwUUvi\n",
      "Math 3D 1QNF0ksRrLd-ERvl77E5QA45rkjWLGqRt\n",
      "MACD 1Puts4IJNm3ljei8L4QbaKdmitvqBUt4J\n",
      "Correlation Matrix 3D 1Pi5meuRER2G4VDxTbG_r-GSXrr7Vc3dP\n",
      "Controls 1PTWC1QsT2Qe7sUCjoJ4ow6cexf7a-ew2\n",
      "ChartInChart 1P_hoISgMUjsdwkokl9eg7EXj94VbMW1F\n",
      "Examples 1P7ZAhvq_xzazn1u-oPbmXSZVJiCNqi1m\n",
      "Advisors 1OLSHNAcgDoLHrFm8ig1xPbIRcBELA6WS\n",
      "Experts 1Nh-BOBrEZy3CfiJzeDg6RL2-GHdX1h3Q\n",
      "Libraries 1NdHWa6EGWejtf4muH6cgHBMXQOPNByQN\n",
      "WinAPI 1MPzcKCQizyKLNa9XCOduaNrwz9xvQW1T\n",
      "Trade 1KvLWSLKDg9qmHxBq18O4YJxMH2XUyebg\n",
      "Tools 1KwBFJZYhp7qMs17diHx-PLk4Z1QZ-Fa6\n",
      "Strings 1Kyx_CO6Zo1C2muN2z4r5Qi-WcpF8qnMg\n",
      "OpenCL 1LCz9OdAfl_512unyPOPgajZwMQ0mt8YI\n",
      "Stat 1Ipbc8M0h8pVqxezHz_2IdxVIwYk_sfTw\n",
      "Fuzzy 1I61O7hhbMlYqFeLHSSGdrmgJRkHSJOvT\n",
      "Alglib 1GxrP5_dBNdlHfmN9W6rjE10Rwn6-Tonf\n",
      "Math 1GNWESU6-rbBH1rBX9iGD1qpLUgzy9kMM\n",
      "Indicators 1Fo_iHioZAocEVeYDrrMP57vzP_kBD9Hh\n",
      "Graphics 1EU2MY7kyh5Ulu1z7vRchCRbKgi3yaf7J\n",
      "Internal 1DdTcT6YEhAeRF1b3BrMz7Mzv5JOXByEJ\n",
      "Interfaces 1DMMuphwDVDZ9yzeC56Jmlm_6-z2BrU5C\n",
      "Generic 1D4Z2k7R0OnROfeZJG6HIe3T_lkoCJh4H\n",
      "Files 1CrnNegMAMrmuDm1GNX3r-B6tzC3nHN4y\n",
      "Trailing 1CahcEob28A7qTO-8PIvCPcYssTiTT7tQ\n",
      "Signal 1BFO1PiJQzTVXuK6AerUH9rx2AxNE0Zjf\n",
      "Money 1AqNH5LyW9XRuHA5l5mZ-iTNb-hW38v4h\n",
      "Expert 1AYOyrzGdQUlASucCmaFtcj1Ekfo447IZ\n",
      "res 18CK0XJGahi9z_bOg4l3k6J9_8gMFmNnn\n",
      "Controls 17OHaZVJZxHT1kXOYbQO1n_qeWZv_6w-r\n",
      "Charts 177zc3e4etqaFIPzUHt88uCZ4XRvyuDd-\n",
      "ChartObjects 16RjV9WSIAzKab4mdZsWWNwUVM8NalSUG\n",
      "Shaders 15wryNb3F7ecWxrAjGquh5hZCfgFXTSLn\n",
      "DX 15N7abTC2hXi0wYqSUoVjRcGYRFGwq9ce\n",
      "Charts 15Cw_A0GLSCfPnhGeHe5IUfAj5_LLZ-00\n",
      "Canvas 15-TqjuWtzDJ71vEyQtt-Y84AGVtfZyw5\n",
      "Arrays 14CF6WNLybPLT0pnYqeOKFrydTvUU_fsO\n",
      "Include 14A1GOwtaqc9XIWzP6LtM8whP_FlIA3Lv\n",
      "v2 142oKF0aL-vQgO_RFXg6aqGs8DGhIh-lp\n",
      "v1 13yGC7J6Xc5M3eYkwdix1rN3HGNcvu45i\n",
      "007 1I2ym5GReGD8cbZTJTApUjZ5ClyUQa73b\n",
      "TempPE 1C68Ndc9d554VNhbjQ1zfEJTs9UyqCt9V\n",
      "Debug 1h5Z3gSxfYAEWM9nRVG6oZhm0lfQtbEmU\n",
      "Properties 1fvvOAKKbNMzEJTIVrmXomW5bNgYSjjYi\n",
      "obj 1S8pp36doa6B5USgkZhCGGp_PL-GfbBum\n",
      "bin 1hZDhl83JMBCEbi5GBhv26hvSXPBTj8Fc\n",
      "Service References 1U1DeUAo28Qm7WQIw8lXIv7LitpSZH_e8\n",
      "Debug 1LSLS3olyDG7BhP_qXqeo6un3fNbvf02R\n",
      "Service References 1iQnTP5lAPUVLxv_y12_oPnrKJ4M9pyDL\n",
      "MultiSystem 1yPNbaOID2qJjtfJhM-oilD9e9ahH19im\n",
      "Properties 1VIFKSow1CiPDNc_-w0MkUI6dHR13vCUt\n",
      "obj 1ZvdTBADjaBzxwPAE5Ae001zIrrap0qxh\n",
      "bin 1koq6EIAMchpF-KuYMdNfskgugqgrco7W\n",
      "MultiSystem 1Aqxuk6Ff-fsOY_MICkJ2JEMgttYk3obV\n",
      "Chek 1XCaAYpwepHCURDWZIYIRPCtcHjabhBpA\n",
      ".idea 1XWQNl2VOZsPCD0UlKej6vQOZjgQb6V9n\n",
      "GoOutput 16U2_lw_PvHcOFYv0XGqmLUvkAkKfehsI\n",
      "GoLang 1ehnaHvZpQ9Z2PGU7_FRqtx98MOrO-vPL\n",
      "SRC 1keL1zFi3xF3vIb9Qc7VG9TS_wvuc7cP-\n",
      "GoLand 1buUS78znKHryrmHHB28SlqHFLrQo0wlf\n",
      "Отчеты 1Wtnr5bV_RpKKqvZWuO_xtoUYIoEYadtE\n",
      "TempPE 1srL50Wcw1JjjGjxCqScWcEFWbDr-YIgR\n",
      "Debug 1F4uMImHFGFwMt2b4zzi8fkZgDFo0MHA7\n",
      "Debug 1OGiBkTPb0fShn94595m1nOqOgUSqNDfW\n",
      "bin 1RsXi50JRf584QZ2-OU1D6hW_jL4YfmAt\n",
      "Service References 1bZappRWmJTtRvHUE0iKsfYzZOCwFJOz3\n",
      "Properties 1ldMvxQTzgMWp2vrPtx5xqH2bo4Gyi5cc\n"
     ]
    }
   ],
   "source": [
    "fds = get_list_of_folders_in_drive(drive_ids[0])"
   ],
   "metadata": {
    "collapsed": false,
    "pycharm": {
     "name": "#%%\n"
    }
   }
  },
  {
   "cell_type": "code",
   "execution_count": 68,
   "outputs": [
    {
     "data": {
      "text/plain": "False"
     },
     "execution_count": 68,
     "metadata": {},
     "output_type": "execute_result"
    }
   ],
   "source": [
    "'Data Science (Coursera)' in fds"
   ],
   "metadata": {
    "collapsed": false,
    "pycharm": {
     "name": "#%%\n"
    }
   }
  },
  {
   "cell_type": "code",
   "execution_count": 81,
   "outputs": [],
   "source": [
    "# Список папок в папке\n",
    "def get_list_of_folders_in_folder(drive_id, folder_id):\n",
    "    response = service.files().list(\n",
    "        corpora='drive',\n",
    "        driveId=drive_id,\n",
    "        includeItemsFromAllDrives=True,\n",
    "        supportsAllDrives=True,\n",
    "        q=\"mimeType='application/vnd.google-apps.folder' and '{}' in parents\".format(folder_id),\n",
    "        fields='nextPageToken, files(id, name)').execute()\n",
    "    files = response.get('files', [])\n",
    "    for file in files:\n",
    "        print(file['name'], file['id'])"
   ],
   "metadata": {
    "collapsed": false,
    "pycharm": {
     "name": "#%%\n"
    }
   }
  },
  {
   "cell_type": "code",
   "execution_count": 82,
   "outputs": [
    {
     "name": "stdout",
     "output_type": "stream",
     "text": [
      "data_db_csv 1hWb4SgtNk95SmqYW23uh7yr3y-cGI9JD\n",
      "007 1I2ym5GReGD8cbZTJTApUjZ5ClyUQa73b\n",
      "Chek 1XCaAYpwepHCURDWZIYIRPCtcHjabhBpA\n",
      "GoLand 1buUS78znKHryrmHHB28SlqHFLrQo0wlf\n",
      "Data Science (Coursera) 1G8cpRJIhw-Fsa7c8JptrktScsIPor89G\n",
      "Опытное тестирование Demo 1KWKAyuskg_w_uuHjAHFLnZBhI-d64JqC\n",
      "Выпуск 143u95YaWoG4tCkchzg9PgOywZZWEVr4H\n",
      "MT5 19PktLd9uWtnkFQpa9GDEDIKi9rn18au8\n",
      "mt45mssql.src 1qZcM4uaYs-XWHPLLgE5hFZ-UJWC7dteo\n",
      "!MSSQL_Backup 1Fu5ZKM1hoqZVmC4cg0N7sKwF7avOLcvU\n",
      "Ci 1w1dp2v3-UnBeqR7ChDX6hvR_VTSqMW7B\n"
     ]
    }
   ],
   "source": [
    "get_list_of_folders_in_folder(drive_ids[0], drive_ids[0])"
   ],
   "metadata": {
    "collapsed": false,
    "pycharm": {
     "name": "#%%\n"
    }
   }
  },
  {
   "cell_type": "code",
   "execution_count": 84,
   "outputs": [
    {
     "name": "stdout",
     "output_type": "stream",
     "text": [
      "MT4_DLL 1lZBx5i9v_6a_d8197tWZPKWvQn1ZkqDp\n",
      "Experts 1PBBh9FPRnp6DnoWCu6M6zoijtzoXvcD3\n",
      "Project_MSSQL_DEMO 1LRgHBBcQoypcMthZOGVaa9dpfJ2Fn60D\n"
     ]
    }
   ],
   "source": [
    "get_list_of_folders_in_folder(drive_ids[0], '1w1dp2v3-UnBeqR7ChDX6hvR_VTSqMW7B')"
   ],
   "metadata": {
    "collapsed": false,
    "pycharm": {
     "name": "#%%\n"
    }
   }
  },
  {
   "cell_type": "code",
   "execution_count": null,
   "outputs": [],
   "source": [
    "from googleapiclient.http import MediaIoBaseDownload\n",
    "import io\n",
    "\n",
    "\n",
    "# Скачать файл\n",
    "def download_file(drive_id, file_id, file_name):\n",
    "    request = service.files().get_media(fileId=file_id)\n",
    "    fh = io.BytesIO()\n",
    "    downloader = MediaIoBaseDownload(fh, request)\n",
    "    done = False\n",
    "    while done is False:\n",
    "        status, done = downloader.next_chunk()\n",
    "        print(\"Download %d%%.\" % int(status.progress() * 100))\n",
    "    with open(file_name, 'wb') as f:\n",
    "        f.write(fh.getbuffer())"
   ],
   "metadata": {
    "collapsed": false,
    "pycharm": {
     "name": "#%%\n"
    }
   }
  },
  {
   "cell_type": "code",
   "execution_count": 89,
   "outputs": [],
   "source": [
    "from googleapiclient.http import MediaIoBaseDownload\n",
    "import io"
   ],
   "metadata": {
    "collapsed": false,
    "pycharm": {
     "name": "#%%\n"
    }
   }
  },
  {
   "cell_type": "code",
   "execution_count": 110,
   "outputs": [
    {
     "name": "stdout",
     "output_type": "stream",
     "text": [
      "Download 100%.\n"
     ]
    }
   ],
   "source": [
    "request = service.files().get_media(fileId='10mI1BsOnAY5IyBU3hYr05Jz2cPrBz6_f')\n",
    "fh = io.BytesIO()\n",
    "downloader = MediaIoBaseDownload(fh, request)\n",
    "done = False\n",
    "while done is False:\n",
    "    status, done = downloader.next_chunk()\n",
    "    print(\"Download %d%%.\" % int(status.progress() * 100))"
   ],
   "metadata": {
    "collapsed": false,
    "pycharm": {
     "name": "#%%\n"
    }
   }
  },
  {
   "cell_type": "code",
   "execution_count": 92,
   "outputs": [],
   "source": [
    "with open('InsertInputCross_1.sql', 'wb') as f:\n",
    "    f.write(fh.getbuffer())"
   ],
   "metadata": {
    "collapsed": false,
    "pycharm": {
     "name": "#%%\n"
    }
   }
  },
  {
   "cell_type": "code",
   "execution_count": null,
   "outputs": [],
   "source": [
    "# Список файлов в диске\n",
    "def get_list_of_files_in_drive1(drive_id):\n",
    "    response = service.files().list(\n",
    "        corpora='drive',\n",
    "        driveId=drive_id,\n",
    "        includeItemsFromAllDrives=True,\n",
    "        supportsAllDrives=True,\n",
    "        fields='nextPageToken, files(id, name, mimeType, parents, size, createdTime, modifiedTime, modifiedByMeTime, owners, shared, starred, trashed)').execute()\n",
    "    files = response.get('files', [])\n",
    "    for file in files:\n",
    "        print(file['name'], file['id'], file['mimeType'], file['parents'], file['size'], file['createdTime'],\n",
    "              file['modifiedTime'], file['modifiedByMeTime'], file['owners'], file['shared'], file['starred'],\n",
    "              file['trashed'])"
   ],
   "metadata": {
    "collapsed": false,
    "pycharm": {
     "name": "#%%\n"
    }
   }
  },
  {
   "cell_type": "code",
   "execution_count": 87,
   "outputs": [],
   "source": [
    "# Список файлов в папке\n",
    "def get_list_of_files_in_folder(drive_id, folder_id):\n",
    "    files = []\n",
    "    response = service.files().list(\n",
    "        corpora='drive',\n",
    "        driveId=drive_id,\n",
    "        includeItemsFromAllDrives=True,\n",
    "        supportsAllDrives=True,\n",
    "        q=\"'\" + folder_id + \"' in parents\",\n",
    "        fields='nextPageToken, files(id, name)').execute()\n",
    "    files = response.get('files', [])\n",
    "    for file in files:\n",
    "        print(file['name'], file['id'])\n",
    "        files.append((file['name'], file['id']))\n",
    "    return files"
   ],
   "metadata": {
    "collapsed": false,
    "pycharm": {
     "name": "#%%\n"
    }
   }
  },
  {
   "cell_type": "code",
   "execution_count": 88,
   "outputs": [
    {
     "name": "stdout",
     "output_type": "stream",
     "text": [
      "desktop.ini 1O3yMPs-g6IDxZHOUPTf7rbhFDZOhEbxt\n",
      "SymbolInfo.xlsx 1pMqFnTIdsSNRl4He9ER7cl10GbW1w5iQ\n",
      "ТЗ на НУ_ОТВЕТ.docx 11UBbbU4k816iy_XA9Nxhv-yDAWHVtne5\n",
      "ТЗ на НУ.docx 1qAn9hFqguhMK-V2nggvDuLZIw8PHZ72n\n",
      "MT5Dll.zip 1nE_S7oMEk9vKT_xPQNyma3i4m9H8E-4n\n",
      "Drawing1.vsd 1FpI2l9tT1CPrlmLGjn7hiSyDo6fkVret\n",
      "InsertInputCross_1.sql 10mI1BsOnAY5IyBU3hYr05Jz2cPrBz6_f\n",
      "InsertInputCross.sql 1O403xSWkNLTeZc7KBQu0Zw9gjxKyLbXz\n",
      "Project_MSSQL_SOURCE.zip 1VG_db2j1npX54n5837FFTkK3Al1fpdkN\n",
      "MT4_DLL 1lZBx5i9v_6a_d8197tWZPKWvQn1ZkqDp\n",
      "Experts 1PBBh9FPRnp6DnoWCu6M6zoijtzoXvcD3\n",
      "Project_MSSQL_DEMO 1LRgHBBcQoypcMthZOGVaa9dpfJ2Fn60D\n"
     ]
    },
    {
     "ename": "TypeError",
     "evalue": "tuple indices must be integers or slices, not str",
     "output_type": "error",
     "traceback": [
      "\u001B[1;31m---------------------------------------------------------------------------\u001B[0m",
      "\u001B[1;31mTypeError\u001B[0m                                 Traceback (most recent call last)",
      "\u001B[1;32m~\\AppData\\Local\\Temp/ipykernel_9840/2871832689.py\u001B[0m in \u001B[0;36m<module>\u001B[1;34m\u001B[0m\n\u001B[1;32m----> 1\u001B[1;33m \u001B[0mfls\u001B[0m \u001B[1;33m=\u001B[0m \u001B[0mget_list_of_files_in_folder\u001B[0m\u001B[1;33m(\u001B[0m\u001B[0mdrive_ids\u001B[0m\u001B[1;33m[\u001B[0m\u001B[1;36m0\u001B[0m\u001B[1;33m]\u001B[0m\u001B[1;33m,\u001B[0m\u001B[1;34m'1w1dp2v3-UnBeqR7ChDX6hvR_VTSqMW7B'\u001B[0m\u001B[1;33m)\u001B[0m\u001B[1;33m\u001B[0m\u001B[1;33m\u001B[0m\u001B[0m\n\u001B[0m",
      "\u001B[1;32m~\\AppData\\Local\\Temp/ipykernel_9840/2560444408.py\u001B[0m in \u001B[0;36mget_list_of_files_in_folder\u001B[1;34m(drive_id, folder_id)\u001B[0m\n\u001B[0;32m     11\u001B[0m     \u001B[0mfiles\u001B[0m \u001B[1;33m=\u001B[0m \u001B[0mresponse\u001B[0m\u001B[1;33m.\u001B[0m\u001B[0mget\u001B[0m\u001B[1;33m(\u001B[0m\u001B[1;34m'files'\u001B[0m\u001B[1;33m,\u001B[0m \u001B[1;33m[\u001B[0m\u001B[1;33m]\u001B[0m\u001B[1;33m)\u001B[0m\u001B[1;33m\u001B[0m\u001B[1;33m\u001B[0m\u001B[0m\n\u001B[0;32m     12\u001B[0m     \u001B[1;32mfor\u001B[0m \u001B[0mfile\u001B[0m \u001B[1;32min\u001B[0m \u001B[0mfiles\u001B[0m\u001B[1;33m:\u001B[0m\u001B[1;33m\u001B[0m\u001B[1;33m\u001B[0m\u001B[0m\n\u001B[1;32m---> 13\u001B[1;33m         \u001B[0mprint\u001B[0m\u001B[1;33m(\u001B[0m\u001B[0mfile\u001B[0m\u001B[1;33m[\u001B[0m\u001B[1;34m'name'\u001B[0m\u001B[1;33m]\u001B[0m\u001B[1;33m,\u001B[0m \u001B[0mfile\u001B[0m\u001B[1;33m[\u001B[0m\u001B[1;34m'id'\u001B[0m\u001B[1;33m]\u001B[0m\u001B[1;33m)\u001B[0m\u001B[1;33m\u001B[0m\u001B[1;33m\u001B[0m\u001B[0m\n\u001B[0m\u001B[0;32m     14\u001B[0m         \u001B[0mfiles\u001B[0m\u001B[1;33m.\u001B[0m\u001B[0mappend\u001B[0m\u001B[1;33m(\u001B[0m\u001B[1;33m(\u001B[0m\u001B[0mfile\u001B[0m\u001B[1;33m[\u001B[0m\u001B[1;34m'name'\u001B[0m\u001B[1;33m]\u001B[0m\u001B[1;33m,\u001B[0m \u001B[0mfile\u001B[0m\u001B[1;33m[\u001B[0m\u001B[1;34m'id'\u001B[0m\u001B[1;33m]\u001B[0m\u001B[1;33m)\u001B[0m\u001B[1;33m)\u001B[0m\u001B[1;33m\u001B[0m\u001B[1;33m\u001B[0m\u001B[0m\n\u001B[0;32m     15\u001B[0m     \u001B[1;32mreturn\u001B[0m \u001B[0mfiles\u001B[0m\u001B[1;33m\u001B[0m\u001B[1;33m\u001B[0m\u001B[0m\n",
      "\u001B[1;31mTypeError\u001B[0m: tuple indices must be integers or slices, not str"
     ]
    }
   ],
   "source": [
    "fls = get_list_of_files_in_folder(drive_ids[0], '1w1dp2v3-UnBeqR7ChDX6hvR_VTSqMW7B')"
   ],
   "metadata": {
    "collapsed": false,
    "pycharm": {
     "name": "#%%\n"
    }
   }
  },
  {
   "cell_type": "code",
   "execution_count": 133,
   "outputs": [],
   "source": [
    "# Полный путь к файлу\n",
    "def get_full_path_to_file(drive_id, file_id):\n",
    "    response = service.files().get(\n",
    "        fileId=file_id,\n",
    "        fields='id, name, parents, mimeType',\n",
    "        supportsAllDrives=True).execute()\n",
    "    file = response\n",
    "    # print(file['name'], file['id'], file['mimeType'], file['parents'])\n",
    "    print(file['name'])\n",
    "    if file.get('parents') is not None:\n",
    "        for parent in file['parents']:\n",
    "            get_full_path_to_file(drive_id, parent)"
   ],
   "metadata": {
    "collapsed": false,
    "pycharm": {
     "name": "#%%\n"
    }
   }
  },
  {
   "cell_type": "code",
   "execution_count": 135,
   "outputs": [
    {
     "name": "stdout",
     "output_type": "stream",
     "text": [
      "71_2021_01.csv\n",
      "2021_January\n",
      "data_db_csv\n",
      "Drive\n"
     ]
    }
   ],
   "source": [
    "get_full_path_to_file(drive_ids[0], '1surnjzxcGhE_azRpjmVY2_GsiBWeJdPx')"
   ],
   "metadata": {
    "collapsed": false,
    "pycharm": {
     "name": "#%%\n"
    }
   }
  },
  {
   "cell_type": "code",
   "execution_count": null,
   "outputs": [],
   "source": [
    "# Создание папки\n",
    "def create_folder(folder_name, parent_id):\n",
    "    file_metadata = {\n",
    "        'name': folder_name,\n",
    "        'mimeType': 'application/vnd.google-apps.folder',\n",
    "        'parents': [parent_id]\n",
    "    }\n",
    "    file = service.files().create(body=file_metadata,\n",
    "                                  fields='id').execute()\n",
    "    print('Folder ID: %s' % file.get('id'))"
   ],
   "metadata": {
    "collapsed": false,
    "pycharm": {
     "name": "#%%\n"
    }
   }
  },
  {
   "cell_type": "code",
   "execution_count": null,
   "outputs": [],
   "source": [],
   "metadata": {
    "collapsed": false,
    "pycharm": {
     "name": "#%%\n"
    }
   }
  },
  {
   "cell_type": "code",
   "execution_count": 35,
   "outputs": [],
   "source": [
    "results = service.files().list(\n",
    "    fields=\"nextPageToken, files(id, name)\").execute()\n",
    "items = results.get('files', [])"
   ],
   "metadata": {
    "collapsed": false,
    "pycharm": {
     "name": "#%%\n"
    }
   }
  },
  {
   "cell_type": "code",
   "execution_count": 36,
   "outputs": [
    {
     "name": "stdout",
     "output_type": "stream",
     "text": [
      "Files:\n",
      "Бренд бук (1lA813gD-q-Cp8B19KVWke_1LQ1SwCDMr)\n",
      "Шаблон 1 - светлый фон.docx (13o3cBN4jf8DSE3aH-dgUfEGjjI6yGFda)\n",
      "Шаблон 1 - светлый фон.pdf (1Q_6uZtHPhQFoi5xp_NNJPrRtjI9sAuTb)\n",
      "Шаблон 2 - светлый фон.pdf (1SGlTDRVaG4sT9iL3GqYVJiENcH6H7j3n)\n",
      "Шаблон 2 - светлый фон.docx (1vmCqosN50VTzJRzX_g2UpkutDZ2BXiey)\n",
      "Шаблон - темный фон.pdf (1T6cRNPcWR1l52QMswB7uc9Bl0bWLtzzL)\n",
      "Шаблон- темный фон.docx (1dE2rBfUUpdnpCbfrJMypLThcvHwriwZw)\n",
      "Визитка (1MQNg0lrgugPSjFWOXxKQ09lST090Rrhz)\n",
      "Реклама для раздачи (1Cd5khZUrjiPXdwIF3xK4w_DQEStdBPQH)\n",
      "Бланк КП (12ExvKVLD8Ng-WdGhxf8M3-q3iOYwMsE5)\n",
      "Шаблоны шапки для коммерческого (18eJlLBs5Z_nzywHm_D9rcxyVMWoIhBKR)\n",
      "GRAND ENGINEERING (BIM).pdf (1tkCvqjq3t2vtvKvY_iD4WYYHRLGNIRrX)\n",
      "V-GRAND_reference list_03.2022.docx (1GT9Bc9qLRskzqvJ6W-BjeFtGTK_XyJyS)\n",
      "подпись в почте.docx (1PUoVhlbcyasJrBcanFCI1XmeCmFuL55a)\n",
      "Этапы (1f8A4t885GE9LkGrETUvEOWSOQhoZMSWugp9cDlZaoPs)\n",
      "Презентация (1xLC0b5HiZFVKxD_bU9q5Rz4CLbWDC17D)\n",
      "Перечень выполненных объектов GRAND ENGINEERING.docx (1yTcSplXli0Fzuo_aZ3AboMSu32sApdYM)\n",
      "V-GRAND (ПИР, СМР).pdf (12IbZ1IknXIy97ykfE-BwEkHtx5sT9OFf)\n",
      "V-GRAND (BIM) 2 + winery+ bakery.pdf (11wwpg2298vQklGrOGHo3UhRSn0BXHnx3)\n"
     ]
    }
   ],
   "source": [
    "if not items:\n",
    "    print('No files found.')\n",
    "else:\n",
    "    print('Files:')\n",
    "    for item in items:\n",
    "        print(u'{0} ({1})'.format(item['name'], item['id']))"
   ],
   "metadata": {
    "collapsed": false,
    "pycharm": {
     "name": "#%%\n"
    }
   }
  },
  {
   "cell_type": "code",
   "execution_count": 93,
   "outputs": [],
   "source": [
    "from google.cloud import storage"
   ],
   "metadata": {
    "collapsed": false,
    "pycharm": {
     "name": "#%%\n"
    }
   }
  },
  {
   "cell_type": "code",
   "execution_count": 117,
   "outputs": [],
   "source": [
    "credentials1 = service_account.Credentials.from_service_account_file(\n",
    "    filename='credentials.json',\n",
    "    scopes=['https://www.googleapis.com/auth/devstorage.full_control'],\n",
    ")"
   ],
   "metadata": {
    "collapsed": false,
    "pycharm": {
     "name": "#%%\n"
    }
   }
  },
  {
   "cell_type": "code",
   "execution_count": 118,
   "outputs": [],
   "source": [
    "client = storage.Client(credentials=credentials1)"
   ],
   "metadata": {
    "collapsed": false,
    "pycharm": {
     "name": "#%%\n"
    }
   }
  },
  {
   "cell_type": "code",
   "execution_count": 119,
   "outputs": [],
   "source": [
    "buckets = list(client.list_buckets())"
   ],
   "metadata": {
    "collapsed": false,
    "pycharm": {
     "name": "#%%\n"
    }
   }
  },
  {
   "cell_type": "code",
   "execution_count": 120,
   "outputs": [
    {
     "name": "stdout",
     "output_type": "stream",
     "text": [
      "[<Bucket: artifacts.grand-358005.appspot.com>, <Bucket: cabinet_bucket>]\n"
     ]
    }
   ],
   "source": [
    "print(buckets)"
   ],
   "metadata": {
    "collapsed": false,
    "pycharm": {
     "name": "#%%\n"
    }
   }
  },
  {
   "cell_type": "code",
   "execution_count": 121,
   "outputs": [],
   "source": [
    "bucket = client.get_bucket('cabinet_bucket')"
   ],
   "metadata": {
    "collapsed": false,
    "pycharm": {
     "name": "#%%\n"
    }
   }
  },
  {
   "cell_type": "code",
   "execution_count": 122,
   "outputs": [],
   "source": [
    "blobs = bucket.list_blobs()"
   ],
   "metadata": {
    "collapsed": false,
    "pycharm": {
     "name": "#%%\n"
    }
   }
  },
  {
   "cell_type": "code",
   "execution_count": 123,
   "outputs": [],
   "source": [
    "#создание папки\n",
    "blob = bucket.blob('GoogleDriveTransfer/InsertInputCross_1.sql')"
   ],
   "metadata": {
    "collapsed": false,
    "pycharm": {
     "name": "#%%\n"
    }
   }
  },
  {
   "cell_type": "code",
   "execution_count": 124,
   "outputs": [
    {
     "ename": "ValueError",
     "evalue": "Stream must be at beginning.",
     "output_type": "error",
     "traceback": [
      "\u001B[1;31m---------------------------------------------------------------------------\u001B[0m",
      "\u001B[1;31mValueError\u001B[0m                                Traceback (most recent call last)",
      "\u001B[1;32m~\\AppData\\Local\\Temp/ipykernel_9840/339946542.py\u001B[0m in \u001B[0;36m<module>\u001B[1;34m\u001B[0m\n\u001B[1;32m----> 1\u001B[1;33m \u001B[0mblob\u001B[0m\u001B[1;33m.\u001B[0m\u001B[0mupload_from_file\u001B[0m\u001B[1;33m(\u001B[0m\u001B[0mfh\u001B[0m\u001B[1;33m)\u001B[0m\u001B[1;33m\u001B[0m\u001B[1;33m\u001B[0m\u001B[0m\n\u001B[0m",
      "\u001B[1;32md:\\it\\pr\\mypython\\venv\\lib\\site-packages\\google\\cloud\\storage\\blob.py\u001B[0m in \u001B[0;36mupload_from_file\u001B[1;34m(self, file_obj, rewind, size, content_type, num_retries, client, predefined_acl, if_generation_match, if_generation_not_match, if_metageneration_match, if_metageneration_not_match, timeout, checksum)\u001B[0m\n\u001B[0;32m   2346\u001B[0m \u001B[1;33m\u001B[0m\u001B[0m\n\u001B[0;32m   2347\u001B[0m         \u001B[1;32mtry\u001B[0m\u001B[1;33m:\u001B[0m\u001B[1;33m\u001B[0m\u001B[1;33m\u001B[0m\u001B[0m\n\u001B[1;32m-> 2348\u001B[1;33m             created_json = self._do_upload(\n\u001B[0m\u001B[0;32m   2349\u001B[0m                 \u001B[0mclient\u001B[0m\u001B[1;33m,\u001B[0m\u001B[1;33m\u001B[0m\u001B[1;33m\u001B[0m\u001B[0m\n\u001B[0;32m   2350\u001B[0m                 \u001B[0mfile_obj\u001B[0m\u001B[1;33m,\u001B[0m\u001B[1;33m\u001B[0m\u001B[1;33m\u001B[0m\u001B[0m\n",
      "\u001B[1;32md:\\it\\pr\\mypython\\venv\\lib\\site-packages\\google\\cloud\\storage\\blob.py\u001B[0m in \u001B[0;36m_do_upload\u001B[1;34m(self, client, stream, content_type, size, num_retries, predefined_acl, if_generation_match, if_generation_not_match, if_metageneration_match, if_metageneration_not_match, timeout, checksum)\u001B[0m\n\u001B[0;32m   2183\u001B[0m             )\n\u001B[0;32m   2184\u001B[0m         \u001B[1;32melse\u001B[0m\u001B[1;33m:\u001B[0m\u001B[1;33m\u001B[0m\u001B[1;33m\u001B[0m\u001B[0m\n\u001B[1;32m-> 2185\u001B[1;33m             response = self._do_resumable_upload(\n\u001B[0m\u001B[0;32m   2186\u001B[0m                 \u001B[0mclient\u001B[0m\u001B[1;33m,\u001B[0m\u001B[1;33m\u001B[0m\u001B[1;33m\u001B[0m\u001B[0m\n\u001B[0;32m   2187\u001B[0m                 \u001B[0mstream\u001B[0m\u001B[1;33m,\u001B[0m\u001B[1;33m\u001B[0m\u001B[1;33m\u001B[0m\u001B[0m\n",
      "\u001B[1;32md:\\it\\pr\\mypython\\venv\\lib\\site-packages\\google\\cloud\\storage\\blob.py\u001B[0m in \u001B[0;36m_do_resumable_upload\u001B[1;34m(self, client, stream, content_type, size, num_retries, predefined_acl, if_generation_match, if_generation_not_match, if_metageneration_match, if_metageneration_not_match, timeout, checksum)\u001B[0m\n\u001B[0;32m   2027\u001B[0m                   \u001B[1;32mis\u001B[0m \u001B[0muploaded\u001B[0m\u001B[1;33m.\u001B[0m\u001B[1;33m\u001B[0m\u001B[1;33m\u001B[0m\u001B[0m\n\u001B[0;32m   2028\u001B[0m         \"\"\"\n\u001B[1;32m-> 2029\u001B[1;33m         upload, transport = self._initiate_resumable_upload(\n\u001B[0m\u001B[0;32m   2030\u001B[0m             \u001B[0mclient\u001B[0m\u001B[1;33m,\u001B[0m\u001B[1;33m\u001B[0m\u001B[1;33m\u001B[0m\u001B[0m\n\u001B[0;32m   2031\u001B[0m             \u001B[0mstream\u001B[0m\u001B[1;33m,\u001B[0m\u001B[1;33m\u001B[0m\u001B[1;33m\u001B[0m\u001B[0m\n",
      "\u001B[1;32md:\\it\\pr\\mypython\\venv\\lib\\site-packages\\google\\cloud\\storage\\blob.py\u001B[0m in \u001B[0;36m_initiate_resumable_upload\u001B[1;34m(self, client, stream, content_type, size, num_retries, predefined_acl, extra_headers, chunk_size, if_generation_match, if_generation_not_match, if_metageneration_match, if_metageneration_not_match, timeout, checksum)\u001B[0m\n\u001B[0;32m   1914\u001B[0m             )\n\u001B[0;32m   1915\u001B[0m \u001B[1;33m\u001B[0m\u001B[0m\n\u001B[1;32m-> 1916\u001B[1;33m         upload.initiate(\n\u001B[0m\u001B[0;32m   1917\u001B[0m             \u001B[0mtransport\u001B[0m\u001B[1;33m,\u001B[0m\u001B[1;33m\u001B[0m\u001B[1;33m\u001B[0m\u001B[0m\n\u001B[0;32m   1918\u001B[0m             \u001B[0mstream\u001B[0m\u001B[1;33m,\u001B[0m\u001B[1;33m\u001B[0m\u001B[1;33m\u001B[0m\u001B[0m\n",
      "\u001B[1;32md:\\it\\pr\\mypython\\venv\\lib\\site-packages\\google\\resumable_media\\requests\\upload.py\u001B[0m in \u001B[0;36minitiate\u001B[1;34m(self, transport, stream, metadata, content_type, total_bytes, stream_final, timeout)\u001B[0m\n\u001B[0;32m    395\u001B[0m             \u001B[1;33m~\u001B[0m\u001B[0mrequests\u001B[0m\u001B[1;33m.\u001B[0m\u001B[0mResponse\u001B[0m\u001B[1;33m:\u001B[0m \u001B[0mThe\u001B[0m \u001B[0mHTTP\u001B[0m \u001B[0mresponse\u001B[0m \u001B[0mreturned\u001B[0m \u001B[0mby\u001B[0m\u001B[0;31m \u001B[0m\u001B[0;31m`\u001B[0m\u001B[0;31m`\u001B[0m\u001B[0mtransport\u001B[0m\u001B[0;31m`\u001B[0m\u001B[0;31m`\u001B[0m\u001B[1;33m.\u001B[0m\u001B[1;33m\u001B[0m\u001B[1;33m\u001B[0m\u001B[0m\n\u001B[0;32m    396\u001B[0m         \"\"\"\n\u001B[1;32m--> 397\u001B[1;33m         method, url, payload, headers = self._prepare_initiate_request(\n\u001B[0m\u001B[0;32m    398\u001B[0m             \u001B[0mstream\u001B[0m\u001B[1;33m,\u001B[0m\u001B[1;33m\u001B[0m\u001B[1;33m\u001B[0m\u001B[0m\n\u001B[0;32m    399\u001B[0m             \u001B[0mmetadata\u001B[0m\u001B[1;33m,\u001B[0m\u001B[1;33m\u001B[0m\u001B[1;33m\u001B[0m\u001B[0m\n",
      "\u001B[1;32md:\\it\\pr\\mypython\\venv\\lib\\site-packages\\google\\resumable_media\\_upload.py\u001B[0m in \u001B[0;36m_prepare_initiate_request\u001B[1;34m(self, stream, metadata, content_type, total_bytes, stream_final)\u001B[0m\n\u001B[0;32m    462\u001B[0m             \u001B[1;32mraise\u001B[0m \u001B[0mValueError\u001B[0m\u001B[1;33m(\u001B[0m\u001B[1;34mu\"This upload has already been initiated.\"\u001B[0m\u001B[1;33m)\u001B[0m\u001B[1;33m\u001B[0m\u001B[1;33m\u001B[0m\u001B[0m\n\u001B[0;32m    463\u001B[0m         \u001B[1;32mif\u001B[0m \u001B[0mstream\u001B[0m\u001B[1;33m.\u001B[0m\u001B[0mtell\u001B[0m\u001B[1;33m(\u001B[0m\u001B[1;33m)\u001B[0m \u001B[1;33m!=\u001B[0m \u001B[1;36m0\u001B[0m\u001B[1;33m:\u001B[0m\u001B[1;33m\u001B[0m\u001B[1;33m\u001B[0m\u001B[0m\n\u001B[1;32m--> 464\u001B[1;33m             \u001B[1;32mraise\u001B[0m \u001B[0mValueError\u001B[0m\u001B[1;33m(\u001B[0m\u001B[1;34mu\"Stream must be at beginning.\"\u001B[0m\u001B[1;33m)\u001B[0m\u001B[1;33m\u001B[0m\u001B[1;33m\u001B[0m\u001B[0m\n\u001B[0m\u001B[0;32m    465\u001B[0m \u001B[1;33m\u001B[0m\u001B[0m\n\u001B[0;32m    466\u001B[0m         \u001B[0mself\u001B[0m\u001B[1;33m.\u001B[0m\u001B[0m_stream\u001B[0m \u001B[1;33m=\u001B[0m \u001B[0mstream\u001B[0m\u001B[1;33m\u001B[0m\u001B[1;33m\u001B[0m\u001B[0m\n",
      "\u001B[1;31mValueError\u001B[0m: Stream must be at beginning."
     ]
    }
   ],
   "source": [
    "blob.upload_from_file(fh)"
   ],
   "metadata": {
    "collapsed": false,
    "pycharm": {
     "name": "#%%\n"
    }
   }
  },
  {
   "cell_type": "code",
   "execution_count": 114,
   "outputs": [
    {
     "ename": "BadRequest",
     "evalue": "400 GET https://storage.googleapis.com/storage/v1/b/cabinet_bucket/o/GoogleDriveTransfer%2F/acl?prettyPrint=false: Cannot get legacy ACL for an object when uniform bucket-level access is enabled. Read more at https://cloud.google.com/storage/docs/uniform-bucket-level-access",
     "output_type": "error",
     "traceback": [
      "\u001B[1;31m---------------------------------------------------------------------------\u001B[0m",
      "\u001B[1;31mBadRequest\u001B[0m                                Traceback (most recent call last)",
      "\u001B[1;32m~\\AppData\\Local\\Temp/ipykernel_9840/1387762629.py\u001B[0m in \u001B[0;36m<module>\u001B[1;34m\u001B[0m\n\u001B[1;32m----> 1\u001B[1;33m \u001B[0mblob\u001B[0m\u001B[1;33m.\u001B[0m\u001B[0mmake_public\u001B[0m\u001B[1;33m(\u001B[0m\u001B[1;33m)\u001B[0m\u001B[1;33m\u001B[0m\u001B[1;33m\u001B[0m\u001B[0m\n\u001B[0m",
      "\u001B[1;32md:\\it\\pr\\mypython\\venv\\lib\\site-packages\\google\\cloud\\storage\\blob.py\u001B[0m in \u001B[0;36mmake_public\u001B[1;34m(self, client)\u001B[0m\n\u001B[0;32m   2959\u001B[0m                        \u001B[0mto\u001B[0m \u001B[0mthe\u001B[0m\u001B[0;31m \u001B[0m\u001B[0;31m`\u001B[0m\u001B[0;31m`\u001B[0m\u001B[0mclient\u001B[0m\u001B[0;31m`\u001B[0m\u001B[0;31m`\u001B[0m \u001B[0mstored\u001B[0m \u001B[0mon\u001B[0m \u001B[0mthe\u001B[0m \u001B[0mblob\u001B[0m\u001B[0;31m'\u001B[0m\u001B[0ms\u001B[0m \u001B[0mbucket\u001B[0m\u001B[1;33m.\u001B[0m\u001B[1;33m\u001B[0m\u001B[1;33m\u001B[0m\u001B[0m\n\u001B[0;32m   2960\u001B[0m         \"\"\"\n\u001B[1;32m-> 2961\u001B[1;33m         \u001B[0mself\u001B[0m\u001B[1;33m.\u001B[0m\u001B[0macl\u001B[0m\u001B[1;33m.\u001B[0m\u001B[0mall\u001B[0m\u001B[1;33m(\u001B[0m\u001B[1;33m)\u001B[0m\u001B[1;33m.\u001B[0m\u001B[0mgrant_read\u001B[0m\u001B[1;33m(\u001B[0m\u001B[1;33m)\u001B[0m\u001B[1;33m\u001B[0m\u001B[1;33m\u001B[0m\u001B[0m\n\u001B[0m\u001B[0;32m   2962\u001B[0m         \u001B[0mself\u001B[0m\u001B[1;33m.\u001B[0m\u001B[0macl\u001B[0m\u001B[1;33m.\u001B[0m\u001B[0msave\u001B[0m\u001B[1;33m(\u001B[0m\u001B[0mclient\u001B[0m\u001B[1;33m=\u001B[0m\u001B[0mclient\u001B[0m\u001B[1;33m)\u001B[0m\u001B[1;33m\u001B[0m\u001B[1;33m\u001B[0m\u001B[0m\n\u001B[0;32m   2963\u001B[0m \u001B[1;33m\u001B[0m\u001B[0m\n",
      "\u001B[1;32md:\\it\\pr\\mypython\\venv\\lib\\site-packages\\google\\cloud\\storage\\acl.py\u001B[0m in \u001B[0;36mall\u001B[1;34m(self)\u001B[0m\n\u001B[0;32m    392\u001B[0m         \u001B[1;33m:\u001B[0m\u001B[0mreturns\u001B[0m\u001B[1;33m:\u001B[0m \u001B[0mAn\u001B[0m \u001B[0mentity\u001B[0m \u001B[0mrepresenting\u001B[0m \u001B[0mall\u001B[0m \u001B[0musers\u001B[0m\u001B[1;33m.\u001B[0m\u001B[1;33m\u001B[0m\u001B[1;33m\u001B[0m\u001B[0m\n\u001B[0;32m    393\u001B[0m         \"\"\"\n\u001B[1;32m--> 394\u001B[1;33m         \u001B[1;32mreturn\u001B[0m \u001B[0mself\u001B[0m\u001B[1;33m.\u001B[0m\u001B[0mentity\u001B[0m\u001B[1;33m(\u001B[0m\u001B[1;34m\"allUsers\"\u001B[0m\u001B[1;33m)\u001B[0m\u001B[1;33m\u001B[0m\u001B[1;33m\u001B[0m\u001B[0m\n\u001B[0m\u001B[0;32m    395\u001B[0m \u001B[1;33m\u001B[0m\u001B[0m\n\u001B[0;32m    396\u001B[0m     \u001B[1;32mdef\u001B[0m \u001B[0mall_authenticated\u001B[0m\u001B[1;33m(\u001B[0m\u001B[0mself\u001B[0m\u001B[1;33m)\u001B[0m\u001B[1;33m:\u001B[0m\u001B[1;33m\u001B[0m\u001B[1;33m\u001B[0m\u001B[0m\n",
      "\u001B[1;32md:\\it\\pr\\mypython\\venv\\lib\\site-packages\\google\\cloud\\storage\\acl.py\u001B[0m in \u001B[0;36mentity\u001B[1;34m(self, entity_type, identifier)\u001B[0m\n\u001B[0;32m    347\u001B[0m         \"\"\"\n\u001B[0;32m    348\u001B[0m         \u001B[0mentity\u001B[0m \u001B[1;33m=\u001B[0m \u001B[0m_ACLEntity\u001B[0m\u001B[1;33m(\u001B[0m\u001B[0mentity_type\u001B[0m\u001B[1;33m=\u001B[0m\u001B[0mentity_type\u001B[0m\u001B[1;33m,\u001B[0m \u001B[0midentifier\u001B[0m\u001B[1;33m=\u001B[0m\u001B[0midentifier\u001B[0m\u001B[1;33m)\u001B[0m\u001B[1;33m\u001B[0m\u001B[1;33m\u001B[0m\u001B[0m\n\u001B[1;32m--> 349\u001B[1;33m         \u001B[1;32mif\u001B[0m \u001B[0mself\u001B[0m\u001B[1;33m.\u001B[0m\u001B[0mhas_entity\u001B[0m\u001B[1;33m(\u001B[0m\u001B[0mentity\u001B[0m\u001B[1;33m)\u001B[0m\u001B[1;33m:\u001B[0m\u001B[1;33m\u001B[0m\u001B[1;33m\u001B[0m\u001B[0m\n\u001B[0m\u001B[0;32m    350\u001B[0m             \u001B[0mentity\u001B[0m \u001B[1;33m=\u001B[0m \u001B[0mself\u001B[0m\u001B[1;33m.\u001B[0m\u001B[0mget_entity\u001B[0m\u001B[1;33m(\u001B[0m\u001B[0mentity\u001B[0m\u001B[1;33m)\u001B[0m\u001B[1;33m\u001B[0m\u001B[1;33m\u001B[0m\u001B[0m\n\u001B[0;32m    351\u001B[0m         \u001B[1;32melse\u001B[0m\u001B[1;33m:\u001B[0m\u001B[1;33m\u001B[0m\u001B[1;33m\u001B[0m\u001B[0m\n",
      "\u001B[1;32md:\\it\\pr\\mypython\\venv\\lib\\site-packages\\google\\cloud\\storage\\acl.py\u001B[0m in \u001B[0;36mhas_entity\u001B[1;34m(self, entity)\u001B[0m\n\u001B[0;32m    298\u001B[0m         \u001B[1;33m:\u001B[0m\u001B[0mreturns\u001B[0m\u001B[1;33m:\u001B[0m \u001B[1;32mTrue\u001B[0m \u001B[0mof\u001B[0m \u001B[0mthe\u001B[0m \u001B[0mentity\u001B[0m \u001B[0mexists\u001B[0m \u001B[1;32min\u001B[0m \u001B[0mthe\u001B[0m \u001B[0mACL\u001B[0m\u001B[1;33m.\u001B[0m\u001B[1;33m\u001B[0m\u001B[1;33m\u001B[0m\u001B[0m\n\u001B[0;32m    299\u001B[0m         \"\"\"\n\u001B[1;32m--> 300\u001B[1;33m         \u001B[0mself\u001B[0m\u001B[1;33m.\u001B[0m\u001B[0m_ensure_loaded\u001B[0m\u001B[1;33m(\u001B[0m\u001B[1;33m)\u001B[0m\u001B[1;33m\u001B[0m\u001B[1;33m\u001B[0m\u001B[0m\n\u001B[0m\u001B[0;32m    301\u001B[0m         \u001B[1;32mreturn\u001B[0m \u001B[0mstr\u001B[0m\u001B[1;33m(\u001B[0m\u001B[0mentity\u001B[0m\u001B[1;33m)\u001B[0m \u001B[1;32min\u001B[0m \u001B[0mself\u001B[0m\u001B[1;33m.\u001B[0m\u001B[0mentities\u001B[0m\u001B[1;33m\u001B[0m\u001B[1;33m\u001B[0m\u001B[0m\n\u001B[0;32m    302\u001B[0m \u001B[1;33m\u001B[0m\u001B[0m\n",
      "\u001B[1;32md:\\it\\pr\\mypython\\venv\\lib\\site-packages\\google\\cloud\\storage\\acl.py\u001B[0m in \u001B[0;36m_ensure_loaded\u001B[1;34m(self, timeout)\u001B[0m\n\u001B[0;32m    225\u001B[0m         \"\"\"\n\u001B[0;32m    226\u001B[0m         \u001B[1;32mif\u001B[0m \u001B[1;32mnot\u001B[0m \u001B[0mself\u001B[0m\u001B[1;33m.\u001B[0m\u001B[0mloaded\u001B[0m\u001B[1;33m:\u001B[0m\u001B[1;33m\u001B[0m\u001B[1;33m\u001B[0m\u001B[0m\n\u001B[1;32m--> 227\u001B[1;33m             \u001B[0mself\u001B[0m\u001B[1;33m.\u001B[0m\u001B[0mreload\u001B[0m\u001B[1;33m(\u001B[0m\u001B[0mtimeout\u001B[0m\u001B[1;33m=\u001B[0m\u001B[0mtimeout\u001B[0m\u001B[1;33m)\u001B[0m\u001B[1;33m\u001B[0m\u001B[1;33m\u001B[0m\u001B[0m\n\u001B[0m\u001B[0;32m    228\u001B[0m \u001B[1;33m\u001B[0m\u001B[0m\n\u001B[0;32m    229\u001B[0m     \u001B[1;33m@\u001B[0m\u001B[0mclassmethod\u001B[0m\u001B[1;33m\u001B[0m\u001B[1;33m\u001B[0m\u001B[0m\n",
      "\u001B[1;32md:\\it\\pr\\mypython\\venv\\lib\\site-packages\\google\\cloud\\storage\\acl.py\u001B[0m in \u001B[0;36mreload\u001B[1;34m(self, client, timeout)\u001B[0m\n\u001B[0;32m    456\u001B[0m         \u001B[0mself\u001B[0m\u001B[1;33m.\u001B[0m\u001B[0mentities\u001B[0m\u001B[1;33m.\u001B[0m\u001B[0mclear\u001B[0m\u001B[1;33m(\u001B[0m\u001B[1;33m)\u001B[0m\u001B[1;33m\u001B[0m\u001B[1;33m\u001B[0m\u001B[0m\n\u001B[0;32m    457\u001B[0m \u001B[1;33m\u001B[0m\u001B[0m\n\u001B[1;32m--> 458\u001B[1;33m         found = client._connection.api_request(\n\u001B[0m\u001B[0;32m    459\u001B[0m             \u001B[0mmethod\u001B[0m\u001B[1;33m=\u001B[0m\u001B[1;34m\"GET\"\u001B[0m\u001B[1;33m,\u001B[0m \u001B[0mpath\u001B[0m\u001B[1;33m=\u001B[0m\u001B[0mpath\u001B[0m\u001B[1;33m,\u001B[0m \u001B[0mquery_params\u001B[0m\u001B[1;33m=\u001B[0m\u001B[0mquery_params\u001B[0m\u001B[1;33m,\u001B[0m \u001B[0mtimeout\u001B[0m\u001B[1;33m=\u001B[0m\u001B[0mtimeout\u001B[0m\u001B[1;33m,\u001B[0m\u001B[1;33m\u001B[0m\u001B[1;33m\u001B[0m\u001B[0m\n\u001B[0;32m    460\u001B[0m         )\n",
      "\u001B[1;32md:\\it\\pr\\mypython\\venv\\lib\\site-packages\\google\\cloud\\storage\\_http.py\u001B[0m in \u001B[0;36mapi_request\u001B[1;34m(self, *args, **kwargs)\u001B[0m\n\u001B[0;32m     76\u001B[0m             \u001B[1;32mif\u001B[0m \u001B[0mretry\u001B[0m\u001B[1;33m:\u001B[0m\u001B[1;33m\u001B[0m\u001B[1;33m\u001B[0m\u001B[0m\n\u001B[0;32m     77\u001B[0m                 \u001B[0mcall\u001B[0m \u001B[1;33m=\u001B[0m \u001B[0mretry\u001B[0m\u001B[1;33m(\u001B[0m\u001B[0mcall\u001B[0m\u001B[1;33m)\u001B[0m\u001B[1;33m\u001B[0m\u001B[1;33m\u001B[0m\u001B[0m\n\u001B[1;32m---> 78\u001B[1;33m         \u001B[1;32mreturn\u001B[0m \u001B[0mcall\u001B[0m\u001B[1;33m(\u001B[0m\u001B[1;33m)\u001B[0m\u001B[1;33m\u001B[0m\u001B[1;33m\u001B[0m\u001B[0m\n\u001B[0m",
      "\u001B[1;32md:\\it\\pr\\mypython\\venv\\lib\\site-packages\\google\\cloud\\_http.py\u001B[0m in \u001B[0;36mapi_request\u001B[1;34m(self, method, path, query_params, data, content_type, headers, api_base_url, api_version, expect_json, _target_object, timeout)\u001B[0m\n\u001B[0;32m    481\u001B[0m \u001B[1;33m\u001B[0m\u001B[0m\n\u001B[0;32m    482\u001B[0m         \u001B[1;32mif\u001B[0m \u001B[1;32mnot\u001B[0m \u001B[1;36m200\u001B[0m \u001B[1;33m<=\u001B[0m \u001B[0mresponse\u001B[0m\u001B[1;33m.\u001B[0m\u001B[0mstatus_code\u001B[0m \u001B[1;33m<\u001B[0m \u001B[1;36m300\u001B[0m\u001B[1;33m:\u001B[0m\u001B[1;33m\u001B[0m\u001B[1;33m\u001B[0m\u001B[0m\n\u001B[1;32m--> 483\u001B[1;33m             \u001B[1;32mraise\u001B[0m \u001B[0mexceptions\u001B[0m\u001B[1;33m.\u001B[0m\u001B[0mfrom_http_response\u001B[0m\u001B[1;33m(\u001B[0m\u001B[0mresponse\u001B[0m\u001B[1;33m)\u001B[0m\u001B[1;33m\u001B[0m\u001B[1;33m\u001B[0m\u001B[0m\n\u001B[0m\u001B[0;32m    484\u001B[0m \u001B[1;33m\u001B[0m\u001B[0m\n\u001B[0;32m    485\u001B[0m         \u001B[1;32mif\u001B[0m \u001B[0mexpect_json\u001B[0m \u001B[1;32mand\u001B[0m \u001B[0mresponse\u001B[0m\u001B[1;33m.\u001B[0m\u001B[0mcontent\u001B[0m\u001B[1;33m:\u001B[0m\u001B[1;33m\u001B[0m\u001B[1;33m\u001B[0m\u001B[0m\n",
      "\u001B[1;31mBadRequest\u001B[0m: 400 GET https://storage.googleapis.com/storage/v1/b/cabinet_bucket/o/GoogleDriveTransfer%2F/acl?prettyPrint=false: Cannot get legacy ACL for an object when uniform bucket-level access is enabled. Read more at https://cloud.google.com/storage/docs/uniform-bucket-level-access"
     ]
    }
   ],
   "source": [
    "blob.make_public()"
   ],
   "metadata": {
    "collapsed": false,
    "pycharm": {
     "name": "#%%\n"
    }
   }
  },
  {
   "cell_type": "code",
   "execution_count": 104,
   "outputs": [
    {
     "ename": "ValueError",
     "evalue": "('Iterator has already started', <google.api_core.page_iterator.HTTPIterator object at 0x00000141DA9D7FA0>)",
     "output_type": "error",
     "traceback": [
      "\u001B[1;31m---------------------------------------------------------------------------\u001B[0m",
      "\u001B[1;31mValueError\u001B[0m                                Traceback (most recent call last)",
      "\u001B[1;32m~\\AppData\\Local\\Temp/ipykernel_9840/343874726.py\u001B[0m in \u001B[0;36m<module>\u001B[1;34m\u001B[0m\n\u001B[1;32m----> 1\u001B[1;33m \u001B[0mblobs\u001B[0m\u001B[1;33m.\u001B[0m\u001B[0mpages\u001B[0m\u001B[1;33m\u001B[0m\u001B[1;33m\u001B[0m\u001B[0m\n\u001B[0m",
      "\u001B[1;32md:\\it\\pr\\mypython\\venv\\lib\\site-packages\\google\\api_core\\page_iterator.py\u001B[0m in \u001B[0;36mpages\u001B[1;34m(self)\u001B[0m\n\u001B[0;32m    204\u001B[0m         \"\"\"\n\u001B[0;32m    205\u001B[0m         \u001B[1;32mif\u001B[0m \u001B[0mself\u001B[0m\u001B[1;33m.\u001B[0m\u001B[0m_started\u001B[0m\u001B[1;33m:\u001B[0m\u001B[1;33m\u001B[0m\u001B[1;33m\u001B[0m\u001B[0m\n\u001B[1;32m--> 206\u001B[1;33m             \u001B[1;32mraise\u001B[0m \u001B[0mValueError\u001B[0m\u001B[1;33m(\u001B[0m\u001B[1;34m\"Iterator has already started\"\u001B[0m\u001B[1;33m,\u001B[0m \u001B[0mself\u001B[0m\u001B[1;33m)\u001B[0m\u001B[1;33m\u001B[0m\u001B[1;33m\u001B[0m\u001B[0m\n\u001B[0m\u001B[0;32m    207\u001B[0m         \u001B[0mself\u001B[0m\u001B[1;33m.\u001B[0m\u001B[0m_started\u001B[0m \u001B[1;33m=\u001B[0m \u001B[1;32mTrue\u001B[0m\u001B[1;33m\u001B[0m\u001B[1;33m\u001B[0m\u001B[0m\n\u001B[0;32m    208\u001B[0m         \u001B[1;32mreturn\u001B[0m \u001B[0mself\u001B[0m\u001B[1;33m.\u001B[0m\u001B[0m_page_iter\u001B[0m\u001B[1;33m(\u001B[0m\u001B[0mincrement\u001B[0m\u001B[1;33m=\u001B[0m\u001B[1;32mTrue\u001B[0m\u001B[1;33m)\u001B[0m\u001B[1;33m\u001B[0m\u001B[1;33m\u001B[0m\u001B[0m\n",
      "\u001B[1;31mValueError\u001B[0m: ('Iterator has already started', <google.api_core.page_iterator.HTTPIterator object at 0x00000141DA9D7FA0>)"
     ]
    }
   ],
   "source": [
    "blobs.pages"
   ],
   "metadata": {
    "collapsed": false,
    "pycharm": {
     "name": "#%%\n"
    }
   }
  },
  {
   "cell_type": "code",
   "execution_count": 107,
   "outputs": [],
   "source": [
    "folders = [blob.name for blob in blobs]"
   ],
   "metadata": {
    "collapsed": false,
    "pycharm": {
     "name": "#%%\n"
    }
   }
  },
  {
   "cell_type": "code",
   "execution_count": null,
   "outputs": [],
   "source": [],
   "metadata": {
    "collapsed": false,
    "pycharm": {
     "name": "#%%\n"
    }
   }
  },
  {
   "cell_type": "code",
   "execution_count": null,
   "outputs": [],
   "source": [
    "bucket = client.get_bucket('test-bucket-123456')"
   ],
   "metadata": {
    "collapsed": false,
    "pycharm": {
     "name": "#%%\n"
    }
   }
  },
  {
   "cell_type": "code",
   "execution_count": 127,
   "outputs": [],
   "source": [
    "stream = io.BytesIO(fh.getbuffer())"
   ],
   "metadata": {
    "collapsed": false,
    "pycharm": {
     "name": "#%%\n"
    }
   }
  },
  {
   "cell_type": "code",
   "execution_count": 128,
   "outputs": [],
   "source": [
    "blob.upload_from_file(stream)"
   ],
   "metadata": {
    "collapsed": false,
    "pycharm": {
     "name": "#%%\n"
    }
   }
  },
  {
   "cell_type": "code",
   "execution_count": null,
   "outputs": [],
   "source": [],
   "metadata": {
    "collapsed": false,
    "pycharm": {
     "name": "#%%\n"
    }
   }
  },
  {
   "cell_type": "code",
   "execution_count": null,
   "outputs": [],
   "source": [],
   "metadata": {
    "collapsed": false,
    "pycharm": {
     "name": "#%%\n"
    }
   }
  },
  {
   "cell_type": "code",
   "execution_count": null,
   "outputs": [],
   "source": [],
   "metadata": {
    "collapsed": false,
    "pycharm": {
     "name": "#%%\n"
    }
   }
  },
  {
   "cell_type": "code",
   "execution_count": null,
   "outputs": [],
   "source": [
    "import os"
   ],
   "metadata": {
    "collapsed": false,
    "pycharm": {
     "name": "#%%\n"
    }
   }
  },
  {
   "cell_type": "code",
   "execution_count": null,
   "outputs": [],
   "source": [
    "os.environ['GOOGLE_APPLICATION_CREDENTIALS'] = 'credentials.json'"
   ],
   "metadata": {
    "collapsed": false,
    "pycharm": {
     "name": "#%%\n"
    }
   }
  },
  {
   "cell_type": "code",
   "execution_count": null,
   "outputs": [],
   "source": [
    "from google.cloud import storage"
   ],
   "metadata": {
    "collapsed": false,
    "pycharm": {
     "name": "#%%\n"
    }
   }
  },
  {
   "cell_type": "code",
   "execution_count": null,
   "outputs": [],
   "source": [
    "storage_client = storage.Client()"
   ],
   "metadata": {
    "collapsed": false,
    "pycharm": {
     "name": "#%%\n"
    }
   }
  },
  {
   "cell_type": "code",
   "execution_count": null,
   "outputs": [],
   "source": [
    "buckets = list(storage_client.list_buckets())"
   ],
   "metadata": {
    "collapsed": false,
    "pycharm": {
     "name": "#%%\n"
    }
   }
  },
  {
   "cell_type": "code",
   "execution_count": null,
   "outputs": [],
   "source": [
    "print(buckets)"
   ],
   "metadata": {
    "collapsed": false,
    "pycharm": {
     "name": "#%%\n"
    }
   }
  },
  {
   "cell_type": "code",
   "execution_count": null,
   "outputs": [],
   "source": [
    "bucket = storage_client.get_bucket('my-bucket')"
   ],
   "metadata": {
    "collapsed": false,
    "pycharm": {
     "name": "#%%\n"
    }
   }
  },
  {
   "cell_type": "code",
   "execution_count": null,
   "outputs": [],
   "source": [
    "blob = bucket.blob('my-blob')"
   ],
   "metadata": {
    "collapsed": false,
    "pycharm": {
     "name": "#%%\n"
    }
   }
  },
  {
   "cell_type": "code",
   "execution_count": null,
   "outputs": [],
   "source": [
    "blob.upload_from_string('Hello, World!')"
   ],
   "metadata": {
    "collapsed": false,
    "pycharm": {
     "name": "#%%\n"
    }
   }
  },
  {
   "cell_type": "code",
   "execution_count": null,
   "outputs": [],
   "source": [
    "blob.download_as_string()"
   ],
   "metadata": {
    "collapsed": false,
    "pycharm": {
     "name": "#%%\n"
    }
   }
  },
  {
   "cell_type": "code",
   "execution_count": null,
   "outputs": [],
   "source": [
    "blob.make_public()"
   ],
   "metadata": {
    "collapsed": false,
    "pycharm": {
     "name": "#%%\n"
    }
   }
  },
  {
   "cell_type": "code",
   "execution_count": null,
   "outputs": [],
   "source": [
    "blob.public_url"
   ],
   "metadata": {
    "collapsed": false,
    "pycharm": {
     "name": "#%%\n"
    }
   }
  },
  {
   "cell_type": "code",
   "execution_count": null,
   "outputs": [],
   "source": [
    "blob.delete()\n"
   ],
   "metadata": {
    "collapsed": false,
    "pycharm": {
     "name": "#%%\n"
    }
   }
  },
  {
   "cell_type": "code",
   "execution_count": null,
   "outputs": [],
   "source": [
    "from google.cloud import storage"
   ],
   "metadata": {
    "collapsed": false,
    "pycharm": {
     "name": "#%%\n"
    }
   }
  },
  {
   "cell_type": "code",
   "execution_count": null,
   "outputs": [],
   "source": [
    "storage_client = storage.Client()"
   ],
   "metadata": {
    "collapsed": false,
    "pycharm": {
     "name": "#%%\n"
    }
   }
  },
  {
   "cell_type": "code",
   "execution_count": null,
   "outputs": [],
   "source": [
    "bucket = storage_client.get_bucket('my-bucket')"
   ],
   "metadata": {
    "collapsed": false,
    "pycharm": {
     "name": "#%%\n"
    }
   }
  },
  {
   "cell_type": "code",
   "execution_count": null,
   "outputs": [],
   "source": [
    "blob = bucket.blob('my-blob')"
   ],
   "metadata": {
    "collapsed": false,
    "pycharm": {
     "name": "#%%\n"
    }
   }
  },
  {
   "cell_type": "code",
   "execution_count": null,
   "outputs": [],
   "source": [
    "blob.upload_from_filename(filename='local/path/to/file.txt')"
   ],
   "metadata": {
    "collapsed": false,
    "pycharm": {
     "name": "#%%\n"
    }
   }
  },
  {
   "cell_type": "code",
   "execution_count": null,
   "outputs": [],
   "source": [
    "blob.download_to_filename(filename='local/path/to/file.txt')"
   ],
   "metadata": {
    "collapsed": false,
    "pycharm": {
     "name": "#%%\n"
    }
   }
  },
  {
   "cell_type": "code",
   "execution_count": null,
   "outputs": [],
   "source": [
    "blob.delete()\n"
   ],
   "metadata": {
    "collapsed": false,
    "pycharm": {
     "name": "#%%\n"
    }
   }
  },
  {
   "cell_type": "code",
   "execution_count": null,
   "outputs": [],
   "source": [
    "from google.cloud import storage"
   ],
   "metadata": {
    "collapsed": false,
    "pycharm": {
     "name": "#%%\n"
    }
   }
  },
  {
   "cell_type": "code",
   "execution_count": null,
   "outputs": [],
   "source": [
    "storage_client = storage.Client()"
   ],
   "metadata": {
    "collapsed": false,
    "pycharm": {
     "name": "#%%\n"
    }
   }
  },
  {
   "cell_type": "code",
   "execution_count": null,
   "outputs": [],
   "source": [
    "bucket = storage_client.get_bucket('my-bucket')"
   ],
   "metadata": {
    "collapsed": false,
    "pycharm": {
     "name": "#%%\n"
    }
   }
  },
  {
   "cell_type": "code",
   "execution_count": null,
   "outputs": [],
   "source": [
    "blob = bucket.blob('my-blob')"
   ],
   "metadata": {
    "collapsed": false,
    "pycharm": {
     "name": "#%%\n"
    }
   }
  },
  {
   "cell_type": "code",
   "execution_count": null,
   "outputs": [],
   "source": [
    "blob.upload_from_file(file_obj=my_file)"
   ],
   "metadata": {
    "collapsed": false,
    "pycharm": {
     "name": "#%%\n"
    }
   }
  },
  {
   "cell_type": "code",
   "execution_count": null,
   "outputs": [],
   "source": [
    "blob.download_to_file(file_obj=my_file)"
   ],
   "metadata": {
    "collapsed": false,
    "pycharm": {
     "name": "#%%\n"
    }
   }
  },
  {
   "cell_type": "code",
   "execution_count": null,
   "outputs": [],
   "source": [
    "blob.delete()\n"
   ],
   "metadata": {
    "collapsed": false,
    "pycharm": {
     "name": "#%%\n"
    }
   }
  },
  {
   "cell_type": "code",
   "execution_count": null,
   "outputs": [],
   "source": [
    "from google.cloud import storage"
   ],
   "metadata": {
    "collapsed": false,
    "pycharm": {
     "name": "#%%\n"
    }
   }
  },
  {
   "cell_type": "code",
   "execution_count": null,
   "outputs": [],
   "source": [
    "storage_client = storage.Client()"
   ],
   "metadata": {
    "collapsed": false,
    "pycharm": {
     "name": "#%%\n"
    }
   }
  },
  {
   "cell_type": "code",
   "execution_count": null,
   "outputs": [],
   "source": [
    "bucket = storage_client.get_bucket('my-bucket')"
   ],
   "metadata": {
    "collapsed": false,
    "pycharm": {
     "name": "#%%\n"
    }
   }
  },
  {
   "cell_type": "code",
   "execution_count": null,
   "outputs": [],
   "source": [
    "blob = bucket.blob('my-blob')"
   ],
   "metadata": {
    "collapsed": false,
    "pycharm": {
     "name": "#%%\n"
    }
   }
  },
  {
   "cell_type": "code",
   "execution_count": null,
   "outputs": [],
   "source": [
    "blob.upload_from_filename(filename='local/path/to/file.txt')"
   ],
   "metadata": {
    "collapsed": false,
    "pycharm": {
     "name": "#%%\n"
    }
   }
  },
  {
   "cell_type": "code",
   "execution_count": null,
   "outputs": [],
   "source": [
    "blob.download_to_filename(filename='local/path/to/file.txt')"
   ],
   "metadata": {
    "collapsed": false,
    "pycharm": {
     "name": "#%%\n"
    }
   }
  },
  {
   "cell_type": "code",
   "execution_count": null,
   "outputs": [],
   "source": [
    "blob.delete()\n"
   ],
   "metadata": {
    "collapsed": false,
    "pycharm": {
     "name": "#%%\n"
    }
   }
  },
  {
   "cell_type": "code",
   "execution_count": null,
   "outputs": [],
   "source": [
    "from google.cloud import storage"
   ],
   "metadata": {
    "collapsed": false,
    "pycharm": {
     "name": "#%%\n"
    }
   }
  },
  {
   "cell_type": "code",
   "execution_count": null,
   "outputs": [],
   "source": [
    "storage_client = storage.Client()"
   ],
   "metadata": {
    "collapsed": false,
    "pycharm": {
     "name": "#%%\n"
    }
   }
  },
  {
   "cell_type": "code",
   "execution_count": null,
   "outputs": [],
   "source": [
    "bucket = storage_client.get_bucket('my-bucket')"
   ],
   "metadata": {
    "collapsed": false,
    "pycharm": {
     "name": "#%%\n"
    }
   }
  },
  {
   "cell_type": "code",
   "execution_count": null,
   "outputs": [],
   "source": [
    "blob = bucket.blob('my-blob')"
   ],
   "metadata": {
    "collapsed": false,
    "pycharm": {
     "name": "#%%\n"
    }
   }
  },
  {
   "cell_type": "code",
   "execution_count": null,
   "outputs": [],
   "source": [
    "blob.upload_from_file(file_obj=my_file)"
   ],
   "metadata": {
    "collapsed": false,
    "pycharm": {
     "name": "#%%\n"
    }
   }
  },
  {
   "cell_type": "code",
   "execution_count": null,
   "outputs": [],
   "source": [
    "blob.download_to_file(file_obj=my_file)"
   ],
   "metadata": {
    "collapsed": false,
    "pycharm": {
     "name": "#%%\n"
    }
   }
  },
  {
   "cell_type": "code",
   "execution_count": null,
   "outputs": [],
   "source": [
    "blob.delete()\n"
   ],
   "metadata": {
    "collapsed": false,
    "pycharm": {
     "name": "#%%\n"
    }
   }
  },
  {
   "cell_type": "code",
   "execution_count": null,
   "outputs": [],
   "source": [
    "from google.cloud import storage"
   ],
   "metadata": {
    "collapsed": false,
    "pycharm": {
     "name": "#%%\n"
    }
   }
  },
  {
   "cell_type": "code",
   "execution_count": null,
   "outputs": [],
   "source": [
    "storage_client = storage.Client()"
   ],
   "metadata": {
    "collapsed": false,
    "pycharm": {
     "name": "#%%\n"
    }
   }
  },
  {
   "cell_type": "code",
   "execution_count": null,
   "outputs": [],
   "source": [
    "bucket = storage_client.get_bucket('my-bucket')"
   ],
   "metadata": {
    "collapsed": false,
    "pycharm": {
     "name": "#%%\n"
    }
   }
  },
  {
   "cell_type": "code",
   "execution_count": null,
   "outputs": [],
   "source": [
    "blob = bucket.blob\n",
    "pageSize = 10,\n",
    "fields = \"nextPageToken, files(id, name, mimeType, parents, createdTime)\",\n",
    "q = filter).execute()"
   ],
   "metadata": {
    "collapsed": false,
    "pycharm": {
     "name": "#%%\n"
    }
   }
  },
  {
   "cell_type": "code",
   "execution_count": null,
   "outputs": [],
   "source": [],
   "metadata": {
    "collapsed": false,
    "pycharm": {
     "name": "#%%\n"
    }
   }
  },
  {
   "cell_type": "code",
   "execution_count": null,
   "outputs": [],
   "source": [],
   "metadata": {
    "collapsed": false,
    "pycharm": {
     "name": "#%%\n"
    }
   }
  },
  {
   "cell_type": "code",
   "execution_count": null,
   "outputs": [],
   "source": [],
   "metadata": {
    "collapsed": false,
    "pycharm": {
     "name": "#%%\n"
    }
   }
  },
  {
   "cell_type": "code",
   "execution_count": null,
   "outputs": [],
   "source": [],
   "metadata": {
    "collapsed": false,
    "pycharm": {
     "name": "#%%\n"
    }
   }
  },
  {
   "cell_type": "code",
   "execution_count": null,
   "outputs": [],
   "source": [],
   "metadata": {
    "collapsed": false,
    "pycharm": {
     "name": "#%%\n"
    }
   }
  },
  {
   "cell_type": "code",
   "execution_count": null,
   "outputs": [],
   "source": [],
   "metadata": {
    "collapsed": false,
    "pycharm": {
     "name": "#%%\n"
    }
   }
  },
  {
   "cell_type": "code",
   "execution_count": null,
   "outputs": [],
   "source": [],
   "metadata": {
    "collapsed": false,
    "pycharm": {
     "name": "#%%\n"
    }
   }
  },
  {
   "cell_type": "code",
   "execution_count": null,
   "outputs": [],
   "source": [],
   "metadata": {
    "collapsed": false,
    "pycharm": {
     "name": "#%%\n"
    }
   }
  },
  {
   "cell_type": "code",
   "execution_count": null,
   "outputs": [],
   "source": [],
   "metadata": {
    "collapsed": false,
    "pycharm": {
     "name": "#%%\n"
    }
   }
  },
  {
   "cell_type": "code",
   "execution_count": null,
   "outputs": [],
   "source": [],
   "metadata": {
    "collapsed": false,
    "pycharm": {
     "name": "#%%\n"
    }
   }
  },
  {
   "cell_type": "code",
   "execution_count": null,
   "outputs": [],
   "source": [],
   "metadata": {
    "collapsed": false,
    "pycharm": {
     "name": "#%%\n"
    }
   }
  }
 ],
 "metadata": {
  "kernelspec": {
   "display_name": "Python 3",
   "language": "python",
   "name": "python3"
  },
  "language_info": {
   "codemirror_mode": {
    "name": "ipython",
    "version": 2
   },
   "file_extension": ".py",
   "mimetype": "text/x-python",
   "name": "python",
   "nbconvert_exporter": "python",
   "pygments_lexer": "ipython2",
   "version": "2.7.6"
  }
 },
 "nbformat": 4,
 "nbformat_minor": 0
}