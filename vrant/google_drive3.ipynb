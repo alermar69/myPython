{
 "cells": [
  {
   "cell_type": "code",
   "execution_count": 1,
   "metadata": {
    "collapsed": true,
    "pycharm": {
     "name": "#%%\n"
    }
   },
   "outputs": [],
   "source": [
    "from google.auth.transport import requests\n",
    "from googleapiclient import discovery\n",
    "from google.oauth2 import service_account\n",
    "from google.cloud import storage\n",
    "from googleapiclient.http import MediaIoBaseDownload\n",
    "import io\n",
    "import threading\n",
    "from time import sleep\n",
    "import os\n",
    "import pandas as pd\n",
    "\n",
    "from pydrive.auth import GoogleAuth\n",
    "from pydrive.drive import GoogleDrive, GoogleDriveFile\n",
    "from oauth2client.service_account import ServiceAccountCredentials\n",
    "\n",
    "from datetime import time, datetime, timedelta\n",
    "\n",
    "drivers_check_list = []\n",
    "drivers_checked_list = []\n",
    "ls_threads = []\n",
    "ls_tmp = []\n",
    "ls_error = []\n",
    "ls_error_files = []\n",
    "ls_files_to_download = []\n",
    "ls_files_to_download_tmp = []\n",
    "count_files_checked = 0\n",
    "count_files_down = 0\n",
    "count_files_error = 0\n",
    "file_down_parms = []\n",
    "status = None\n",
    "\n",
    "drivers = [\n",
    "            ['Ci', '0AHj-PRcbOxSWUk9PVA'],\n",
    "           ['Managment 2', '0AE3Z9Ox2YaurUk9PVA'],\n",
    "           ['VG.COM', '0AElRg0lTw8iIUk9PVA'],\n",
    "           ['Архив', '0AOP_oKFy4oGJUk9PVA'],\n",
    "           ['Винный парк', '0ANhu4lfOrlBiUk9PVA'],\n",
    "           ['Контент_VG', '0AN6chrg4ApnnUk9PVA'],\n",
    "           ['Контент', '0ANf3LpamTrsTUk9PVA'],\n",
    "           ['Лобня', '0AIQWy4IyyeaIUk9PVA'],\n",
    "           ['Объединенная пивоварня', '0AELFNnmNadJqUk9PVA'],\n",
    "           ['ОСК Шереметьево', '0ALRUo2DlF1YmUk9PVA'],\n",
    "           ['Мой Диск _', '0AHpbUawYyiEZUk9PVA'],\n",
    "    ['BackOffice', '0AKtafUCJJsjKUk9PVA'],\n",
    " ['Grand_Engineering', '0APOKU4PVLZwMUk9PVA'],\n",
    " ['Human Resources', '0AJsRKr2Ba6TwUk9PVA'],\n",
    " ['IT-ОТДЕЛ', '0AI62IGV_POEcUk9PVA'],\n",
    " ['Managment 1', '0AJZoXjxIBMXRUk9PVA'],\n",
    " ['Titov Maksim', '0AAMdn20RTshcUk9PVA'],\n",
    " ['V-CLOUD24', '0AAUYrEjNjV5MUk9PVA'],\n",
    " ['Адвокатский кабинет', '0AHO8xAl6v2r5Uk9PVA'],\n",
    " ['Бухгалтер RUS', '0AKfDR0IMw1bPUk9PVA'],\n",
    " ['Бухгалтер UA', '0AGTAjdcjx6f-Uk9PVA'],\n",
    " ['ВДНХ_Колесо обозрения', '0ANw1UacIVifyUk9PVA'],\n",
    " ['ГипроМез', '0AKn-9Bj7NmNxUk9PVA'],\n",
    " ['ДОУ 360 Выпуск', '0AC2GUgCN9wcWUk9PVA'],\n",
    " ['ДОУ 360', '0ALpJRBJkrtVGUk9PVA'],\n",
    " ['Лио-Продукт', '0AHUPdJVPtsQaUk9PVA'],\n",
    " ['НКВЗ ремонт АвтоТехники', '0ADgaxv8NdpTkUk9PVA'],\n",
    " ['Объекты в работе', '0AOxaPQRooOk2Uk9PVA'],\n",
    " ['Остров мечты ППР', '0AImPD4jQdMXJUk9PVA'],\n",
    " ['Пекарня', '0AIWIhafOWgmHUk9PVA'],\n",
    " ['ПОДРЯДЧИКИ', '0ALnZgMLQFfrtUk9PVA'],\n",
    " ['СТО ГБО', '0AF2NtBbx_XvYUk9PVA'],\n",
    " ['ТЕХВАГОНМАШ', '0AAAyvFQMbstZUk9PVA'],\n",
    " ['Транспроект', '0ADKHIbPu575TUk9PVA'],\n",
    " ['ФосАгро', '0AD-4c3pLaBV5Uk9PVA'],\n",
    " ['ФРАКДЖЕТ-ТУЛЗ', '0ACjAWTbTqvESUk9PVA'],\n",
    " ['Холодный склад', '0ALT2Y1wkG7vCUk9PVA'],\n",
    " ['Чайка Лаб', '0APbGeMNQtN3MUk9PVA'],\n",
    " ['Читинские ключи', '0AA9gFHffXEitUk9PVA'],\n",
    " ['Юрист UA', '0AGg7JoJwa_8nUk9PVA']\n",
    "           ]\n",
    "\n",
    "storage.blob._DEFAULT_CHUNKSIZE = 10 * 1024* 1024  # 5 MB\n",
    "storage.blob._MAX_MULTIPART_SIZE = 5 * 1024* 1024  # 5 MB\n",
    "\n",
    "\n",
    "class GDrive:\n",
    "    def __init__(self,  drive_name, drive_id, get_files_folders=True, get_files_fullname=True):\n",
    "        self.drive_name = drive_name\n",
    "        self.drive_id = drive_id\n",
    "\n",
    "        self.drive = None\n",
    "        self.service = None\n",
    "        self.bucket = None\n",
    "\n",
    "        self.get_client()\n",
    "\n",
    "        self.bucet_main_folder = 'GoogleDriveTransfer'\n",
    "\n",
    "        self.dict_files = {}\n",
    "        self.dict_files_fullname = {}\n",
    "        self.dict_folders = {}\n",
    "\n",
    "        if get_files_folders:\n",
    "            self.get_files_folders()\n",
    "            if get_files_fullname:\n",
    "                self.get_files_fullname()\n",
    "\n",
    "        blobs = self.bucket.list_blobs(prefix=f'GoogleDriveTransfer/{drive_name}')\n",
    "        self.files_blobs = [blob.name for blob in blobs]\n",
    "\n",
    "    def get_client(self):\n",
    "        # Google Drive\n",
    "        gauth = GoogleAuth()\n",
    "        scope = [\"https://www.googleapis.com/auth/drive\"]\n",
    "        gauth.credentials = ServiceAccountCredentials.from_json_keyfile_name('savvy-concord-374520-bbbb0e3c73c3.json', scope)\n",
    "        self.drive = GoogleDrive(gauth)\n",
    "\n",
    "        credentials_drive = service_account.Credentials.from_service_account_file(\n",
    "            filename='savvy-concord-374520-bbbb0e3c73c3.json',\n",
    "            scopes=['https://www.googleapis.com/auth/drive'],\n",
    "        )\n",
    "        session = requests.AuthorizedSession(credentials_drive)\n",
    "        self.service = discovery.build('drive', 'v3', credentials=credentials_drive)\n",
    "\n",
    "        #Google Storage\n",
    "        credentials_storage = service_account.Credentials.from_service_account_file(\n",
    "            filename='credentials.json',\n",
    "            scopes=['https://www.googleapis.com/auth/devstorage.full_control'],\n",
    "        )\n",
    "        client = storage.Client(credentials=credentials_storage)\n",
    "        self.bucket = client.get_bucket('cabinet_bucket')\n",
    "\n",
    "\n",
    "    def get_files_folders(self):\n",
    "        self.get_files()\n",
    "        self.get_folders()\n",
    "\n",
    "    def get_folders(self):\n",
    "        self.dict_folders = {}\n",
    "        ls_folders = self.drive.ListFile(\n",
    "            {\n",
    "                'q': \"mimeType='application/vnd.google-apps.folder'\",\n",
    "                'corpora': 'drive',\n",
    "                'driveId': self.drive_id,\n",
    "                'includeItemsFromAllDrives': True,\n",
    "                'supportsAllDrives': True,\n",
    "            }\n",
    "        ).GetList()\n",
    "        for folder in ls_folders:\n",
    "            self.dict_folders[folder['id']] = folder\n",
    "\n",
    "    def get_files(self):\n",
    "        self.dict_files = {}\n",
    "        ls_files = self.drive.ListFile(\n",
    "            {\n",
    "                'q': \"mimeType!='application/vnd.google-apps.folder'\",\n",
    "                'corpora': 'drive',\n",
    "                'driveId': self.drive_id,\n",
    "                'includeItemsFromAllDrives': True,\n",
    "                'supportsAllDrives': True,\n",
    "            }\n",
    "        ).GetList()\n",
    "        for file in ls_files:\n",
    "            self.dict_files[file['id']] = file\n",
    "\n",
    "    def get_files_fullname(self):\n",
    "        self.dict_files_fullname = {}\n",
    "        for file in self.dict_files.values():\n",
    "            parent_id = file['parents'][0]['id']\n",
    "            name_full = self.get_full_path(file['title'], parent_id)\n",
    "            self.dict_files_fullname[file['id']] = name_full\n",
    "\n",
    "    def get_full_path(self, file_name, parent_id):\n",
    "        tree = [file_name]\n",
    "        folder_id = parent_id\n",
    "\n",
    "        while folder_id != self.drive_id:\n",
    "            folder = self.dict_folders[folder_id]\n",
    "            tree.append(folder['title'])\n",
    "            folder_id = folder['parents'][0]['id']\n",
    "\n",
    "        tree.append(self.drive_name)\n",
    "        tree.append(self.bucet_main_folder)\n",
    "\n",
    "        tree.reverse()\n",
    "        return '/'.join(tree)\n",
    "\n",
    "    def get_files_to_download(self):\n",
    "        for file_id in self.dict_files.keys():\n",
    "            par = self.get_params_down(file_id)\n",
    "            if not par['is_propusk'] :\n",
    "                if par['fullname'] not in self.files_blobs:\n",
    "                    gdfile = self.dict_files[file_id]\n",
    "                    size = int(gdfile['fileSize']) / 1024 / 1024\n",
    "                    if size < 3000:\n",
    "                        ls_files_to_download.append([file_id,  par['fullname']])\n",
    "                        ls_files_to_download_tmp.append([file_id,  par['fullname'], size])\n",
    "\n",
    "\n",
    "    def get_params_down(self, file_id):\n",
    "        gdfile = self.dict_files[file_id]\n",
    "        mimeType = gdfile['mimeType']\n",
    "        namefile = gdfile['title']\n",
    "        fullname = self.dict_files_fullname[file_id]\n",
    "\n",
    "        is_google_apps = False\n",
    "        is_propusk = False\n",
    "\n",
    "        ls_mime_google_apps = ['application/vnd.google-apps.document', 'application/vnd.google-apps.spreadsheet',\n",
    "                               'application/vnd.google-apps.presentation', 'application/vnd.google-apps.site',\n",
    "                               'application/vnd.google-apps.shortcut']\n",
    "\n",
    "        if mimeType in ls_mime_google_apps:\n",
    "            is_propusk = True\n",
    "\n",
    "\n",
    "        res = {\n",
    "            'namefile': namefile,\n",
    "            'fullname': fullname,\n",
    "            'mimeType': mimeType,\n",
    "            'is_google_apps': is_google_apps,\n",
    "            'is_propusk': is_propusk,\n",
    "        }\n",
    "\n",
    "        return res"
   ]
  },
  {
   "cell_type": "code",
   "execution_count": null,
   "outputs": [],
   "source": [],
   "metadata": {
    "collapsed": false,
    "pycharm": {
     "name": "#%%\n"
    }
   }
  },
  {
   "cell_type": "code",
   "execution_count": 2,
   "outputs": [],
   "source": [
    "def f12():\n",
    "    for d in drivers:\n",
    "        driv = GDrive(d[0], d[1])\n",
    "        driv.get_files_to_download()\n",
    "\n",
    "t = threading.Thread(target=f12)\n",
    "t.start()"
   ],
   "metadata": {
    "collapsed": false,
    "pycharm": {
     "name": "#%%\n"
    }
   }
  },
  {
   "cell_type": "code",
   "execution_count": 2,
   "outputs": [
    {
     "data": {
      "text/plain": "'19/01/2023 18:43:28'"
     },
     "execution_count": 2,
     "metadata": {},
     "output_type": "execute_result"
    }
   ],
   "source": [
    "\n",
    "\n",
    "# текущее время\n",
    "now = datetime.now()\n",
    "now = now.strftime(\"%d/%m/%Y %H:%M:%S\")\n",
    "now"
   ],
   "metadata": {
    "collapsed": false,
    "pycharm": {
     "name": "#%%\n"
    }
   }
  },
  {
   "cell_type": "code",
   "execution_count": 2,
   "outputs": [],
   "source": [
    "ls_files_to_download1 = []\n",
    "ls_files_to_download_check = []\n",
    "def get_client():\n",
    "    # Google Drive\n",
    "    gauth = GoogleAuth()\n",
    "    scope = [\"https://www.googleapis.com/auth/drive\"]\n",
    "    gauth.credentials = ServiceAccountCredentials.from_json_keyfile_name('savvy-concord-374520-bbbb0e3c73c3.json', scope)\n",
    "    drive = GoogleDrive(gauth)\n",
    "\n",
    "    credentials_drive = service_account.Credentials.from_service_account_file(\n",
    "        filename='savvy-concord-374520-bbbb0e3c73c3.json',\n",
    "        scopes=['https://www.googleapis.com/auth/drive'],\n",
    "    )\n",
    "    session = requests.AuthorizedSession(credentials_drive)\n",
    "    service = discovery.build('drive', 'v3', credentials=credentials_drive)\n",
    "\n",
    "    #Google Storage\n",
    "    credentials_storage = service_account.Credentials.from_service_account_file(\n",
    "        filename='credentials.json',\n",
    "        scopes=['https://www.googleapis.com/auth/devstorage.full_control'],\n",
    "    )\n",
    "    client = storage.Client(credentials=credentials_storage)\n",
    "    bucket = client.get_bucket('cabinet_bucket')\n",
    "\n",
    "    return service, drive, bucket\n",
    "\n",
    "\n",
    "def download_files(ls_files_to_download2):\n",
    "    global count_files_checked\n",
    "    is_download_files = True\n",
    "\n",
    "    service, drive, bucket = get_client()\n",
    "\n",
    "    ls_files_to_download1.clear()\n",
    "\n",
    "    for file_id, fullname in ls_files_to_download2:\n",
    "        count_files_checked += 1\n",
    "        done = download_file(file_id, fullname, service, bucket)\n",
    "        if not done:\n",
    "            ls_files_to_download1.append([file_id, fullname])\n",
    "            is_download_files = False\n",
    "        else:\n",
    "            ls_files_to_download_check.append([file_id, fullname])\n",
    "\n",
    "    return is_download_files\n",
    "\n",
    "\n",
    "def download_file(file_id, fullname, service, bucket):\n",
    "    is_download = True\n",
    "    global count_files_down\n",
    "    try:\n",
    "        request = service.files().get_media(fileId=file_id)\n",
    "        fh = io.BytesIO()\n",
    "        downloader = MediaIoBaseDownload(fh, request)\n",
    "        done = False\n",
    "        while done is False:\n",
    "            status, done = downloader.next_chunk()\n",
    "\n",
    "        blob = bucket.blob(fullname)\n",
    "        if not blob.exists():\n",
    "            blob.upload_from_string(fh.getvalue(), timeout=300)\n",
    "            count_files_down += 1\n",
    "        is_download = True\n",
    "\n",
    "    except Exception as e:\n",
    "        ls_error.append([file_id, fullname, 'Ошибка', e])\n",
    "        is_download = False\n",
    "    finally:\n",
    "        fh.close()\n",
    "    return is_download\n",
    "\n",
    "def transfer_drive():\n",
    "    ls = ls_files_to_download\n",
    "    while True:\n",
    "        done = download_files(ls)\n",
    "\n",
    "        # текущее время\n",
    "        now = datetime.now()\n",
    "        now = now.strftime(\"%d/%m/%Y %H:%M:%S\")\n",
    "        ls_tmp.append(f'Завершено------------------------{done}__ {now}')\n",
    "\n",
    "        if done:\n",
    "            break\n",
    "\n",
    "        ls = ls_files_to_download1\n",
    "\n",
    "        sleep(60)\n",
    "\n",
    "def transfer_drives_thread():\n",
    "    t = threading.Thread(target=transfer_drive)\n",
    "    ls_threads.append(t)\n",
    "    t.start()\n",
    "\n",
    "    return t"
   ],
   "metadata": {
    "collapsed": false,
    "pycharm": {
     "name": "#%%\n"
    }
   }
  },
  {
   "cell_type": "code",
   "execution_count": 3,
   "outputs": [],
   "source": [
    "df1 = pd.read_csv('files_to_download.csv')\n",
    "ls_files_to_download = df1.values.tolist()\n",
    "\n",
    "t = transfer_drives_thread()"
   ],
   "metadata": {
    "collapsed": false,
    "pycharm": {
     "name": "#%%\n"
    }
   }
  },
  {
   "cell_type": "code",
   "execution_count": 7,
   "outputs": [],
   "source": [
    "df1 = pd.read_csv('files_to_download.csv')\n",
    "ls_files_to_download = df1.values.tolist()"
   ],
   "metadata": {
    "collapsed": false,
    "pycharm": {
     "name": "#%%\n"
    }
   }
  },
  {
   "cell_type": "code",
   "execution_count": 11,
   "outputs": [],
   "source": [
    "ls3 = df1.values.tolist()"
   ],
   "metadata": {
    "collapsed": false,
    "pycharm": {
     "name": "#%%\n"
    }
   }
  },
  {
   "cell_type": "code",
   "execution_count": null,
   "outputs": [],
   "source": [],
   "metadata": {
    "collapsed": false,
    "pycharm": {
     "name": "#%%\n"
    }
   }
  },
  {
   "cell_type": "code",
   "execution_count": 5,
   "outputs": [
    {
     "data": {
      "text/plain": "                               file_id  \\\n0    1kbkox1Q2F2mmLLLRDmJNN8Vqo32HziRv   \n1    1YaFZXs19Vt56KLlPRAJkaHWkw7Wxcw_x   \n2    1PeV17i0gFFPA_u6r3SaMnSmJbMU4C4V8   \n3    1VwI--l2Gwm9BmHXOPRWLvgeH6wWCmF5m   \n4    1NqyQk0pJt0Qh_FH0dtBJPIHDIuMqM0MF   \n..                                 ...   \n151  130siwH65a-lQESNb9fBHHGbbElbWsadB   \n152  1WPAjnS5to81VeRCOi-Rkte0OhoRYTYrA   \n153  13CKZJ5pBV3CZOjUn23z7VaKK4cnK98YL   \n154  1hrfZtzCh4jLvLnFeMGqnSiz4oIdjKd5q   \n155  1ZTKJOR6yTp4HeGp7APx9UdxcHRiZsZIm   \n\n                                              fullname  \n0    GoogleDriveTransfer/Ci/Выпуск/mt45mssql/mt45ms...  \n1    GoogleDriveTransfer/Ci/Выпуск/mt45mssql/mt45ms...  \n2    GoogleDriveTransfer/Ci/mt45mssql.src/mt45mssql...  \n3    GoogleDriveTransfer/Ci/Опытное тестирование De...  \n4    GoogleDriveTransfer/Ci/MT5/v2/Libraries/MsSql_...  \n..                                                 ...  \n151  GoogleDriveTransfer/ПОДРЯДЧИКИ/1 Подрядчики ПЛ...  \n152  GoogleDriveTransfer/Транспроект/Архив/Вагонмаш...  \n153  GoogleDriveTransfer/Транспроект/Архив/Попаснян...  \n154  GoogleDriveTransfer/Транспроект/Архив/Вагонмаш...  \n155  GoogleDriveTransfer/Транспроект/Архив/Попаснян...  \n\n[156 rows x 2 columns]",
      "text/html": "<div>\n<style scoped>\n    .dataframe tbody tr th:only-of-type {\n        vertical-align: middle;\n    }\n\n    .dataframe tbody tr th {\n        vertical-align: top;\n    }\n\n    .dataframe thead th {\n        text-align: right;\n    }\n</style>\n<table border=\"1\" class=\"dataframe\">\n  <thead>\n    <tr style=\"text-align: right;\">\n      <th></th>\n      <th>file_id</th>\n      <th>fullname</th>\n    </tr>\n  </thead>\n  <tbody>\n    <tr>\n      <th>0</th>\n      <td>1kbkox1Q2F2mmLLLRDmJNN8Vqo32HziRv</td>\n      <td>GoogleDriveTransfer/Ci/Выпуск/mt45mssql/mt45ms...</td>\n    </tr>\n    <tr>\n      <th>1</th>\n      <td>1YaFZXs19Vt56KLlPRAJkaHWkw7Wxcw_x</td>\n      <td>GoogleDriveTransfer/Ci/Выпуск/mt45mssql/mt45ms...</td>\n    </tr>\n    <tr>\n      <th>2</th>\n      <td>1PeV17i0gFFPA_u6r3SaMnSmJbMU4C4V8</td>\n      <td>GoogleDriveTransfer/Ci/mt45mssql.src/mt45mssql...</td>\n    </tr>\n    <tr>\n      <th>3</th>\n      <td>1VwI--l2Gwm9BmHXOPRWLvgeH6wWCmF5m</td>\n      <td>GoogleDriveTransfer/Ci/Опытное тестирование De...</td>\n    </tr>\n    <tr>\n      <th>4</th>\n      <td>1NqyQk0pJt0Qh_FH0dtBJPIHDIuMqM0MF</td>\n      <td>GoogleDriveTransfer/Ci/MT5/v2/Libraries/MsSql_...</td>\n    </tr>\n    <tr>\n      <th>...</th>\n      <td>...</td>\n      <td>...</td>\n    </tr>\n    <tr>\n      <th>151</th>\n      <td>130siwH65a-lQESNb9fBHHGbbElbWsadB</td>\n      <td>GoogleDriveTransfer/ПОДРЯДЧИКИ/1 Подрядчики ПЛ...</td>\n    </tr>\n    <tr>\n      <th>152</th>\n      <td>1WPAjnS5to81VeRCOi-Rkte0OhoRYTYrA</td>\n      <td>GoogleDriveTransfer/Транспроект/Архив/Вагонмаш...</td>\n    </tr>\n    <tr>\n      <th>153</th>\n      <td>13CKZJ5pBV3CZOjUn23z7VaKK4cnK98YL</td>\n      <td>GoogleDriveTransfer/Транспроект/Архив/Попаснян...</td>\n    </tr>\n    <tr>\n      <th>154</th>\n      <td>1hrfZtzCh4jLvLnFeMGqnSiz4oIdjKd5q</td>\n      <td>GoogleDriveTransfer/Транспроект/Архив/Вагонмаш...</td>\n    </tr>\n    <tr>\n      <th>155</th>\n      <td>1ZTKJOR6yTp4HeGp7APx9UdxcHRiZsZIm</td>\n      <td>GoogleDriveTransfer/Транспроект/Архив/Попаснян...</td>\n    </tr>\n  </tbody>\n</table>\n<p>156 rows × 2 columns</p>\n</div>"
     },
     "execution_count": 5,
     "metadata": {},
     "output_type": "execute_result"
    }
   ],
   "source": [
    "df = pd.DataFrame(ls_files_to_download, columns=['file_id', 'fullname'])\n",
    "df"
   ],
   "metadata": {
    "collapsed": false,
    "pycharm": {
     "name": "#%%\n"
    }
   }
  },
  {
   "cell_type": "code",
   "execution_count": 6,
   "outputs": [],
   "source": [
    "df.to_csv('files_to_download.csv', index=False)"
   ],
   "metadata": {
    "collapsed": false,
    "pycharm": {
     "name": "#%%\n"
    }
   }
  }
 ],
 "metadata": {
  "kernelspec": {
   "display_name": "Python 3",
   "language": "python",
   "name": "python3"
  },
  "language_info": {
   "codemirror_mode": {
    "name": "ipython",
    "version": 2
   },
   "file_extension": ".py",
   "mimetype": "text/x-python",
   "name": "python",
   "nbconvert_exporter": "python",
   "pygments_lexer": "ipython2",
   "version": "2.7.6"
  }
 },
 "nbformat": 4,
 "nbformat_minor": 0
}