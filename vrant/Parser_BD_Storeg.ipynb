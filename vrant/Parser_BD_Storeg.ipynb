{
 "cells": [
  {
   "cell_type": "code",
   "execution_count": 1,
   "metadata": {
    "collapsed": true,
    "pycharm": {
     "name": "#%%\n"
    }
   },
   "outputs": [],
   "source": [
    "import psycopg2\n",
    "import numpy as np\n",
    "import pandas as pd\n",
    "import os\n",
    "read_me=pd.DataFrame(columns = ['symbolname', 'file_name','date','counts', 'min_bid' , 'msx_ask'])\n",
    "list_month={1:'January',2:'February', 3:'March', 4:'April', 5:'May', 6: 'June',\n",
    "            7: 'July', 8: 'August', 9:'September', 10:'October', 11:'November', 12: 'December'}\n",
    "#print ( f'{year}_{list_month[month]}')"
   ]
  },
  {
   "cell_type": "code",
   "execution_count": 2,
   "outputs": [],
   "source": [
    "def load_infosymbol():\n",
    "    # Запрос infosymbol\n",
    "    try:\n",
    "        # connect to exist database\n",
    "        connection = psycopg2.connect(\n",
    "            host='35.184.100.252',\n",
    "            user='postgres',\n",
    "            password='jmgXK4xPXukY',\n",
    "            database='data_db'\n",
    "        )\n",
    "        connection.autocommit = True\n",
    "\n",
    "        cursor = connection.cursor()\n",
    "\n",
    "        cursor.execute('''SELECT symbolnum, sql_server_time, symbolname, digets, pips, weaght FROM current_mt_db.infosymbol\n",
    "        where symbolnum<100 order by symbolnum''')\n",
    "\n",
    "        date_select = cursor.fetchall()\n",
    "        infosymbols_array = np.asarray (date_select)\n",
    "        infosymbols_ds = pd.DataFrame(infosymbols_array, columns = ['symbolnum','sql_server_time','symbolname', 'digets', 'pips', 'weaght'])\n",
    "        return infosymbols_ds\n",
    "    except Exception as _ex:\n",
    "        print(\"[INFO] Error while working with PostgreSQL\", _ex)\n",
    "    finally:\n",
    "        if connection:\n",
    "            cursor.close()\n",
    "            connection.close()\n",
    "            print(\"[INFO] PostgreSQL connection closed\")\n",
    "\n",
    "\n",
    "#infosymbol"
   ],
   "metadata": {
    "collapsed": false,
    "pycharm": {
     "name": "#%%\n"
    }
   }
  },
  {
   "cell_type": "code",
   "execution_count": 3,
   "outputs": [],
   "source": [
    "def digets_norm(df_exit, symbol_num):\n",
    "    infosymbols_ds=load_infosymbol()\n",
    "    diget=int(infosymbols_ds[infosymbols_ds['symbolnum']==symbol_num]['digets'])\n",
    "    diget=pow(10,diget)\n",
    "\n",
    "    df=df_exit.copy()\n",
    "    df['open_bid']=df['open_bid']/diget\n",
    "    df['high_bid']=df['high_bid']/diget\n",
    "    df['low_bid']=df['low_bid']/diget\n",
    "    df['close_bid']=df['close_bid']/diget\n",
    "    df['open_ask']=df['open_ask']/diget\n",
    "    df['high_ask']=df['high_ask']/diget\n",
    "    df['low_ask']=df['low_ask']/diget\n",
    "    df['close_ask']=df['close_ask']/diget\n",
    "\n",
    "    return df"
   ],
   "metadata": {
    "collapsed": false,
    "pycharm": {
     "name": "#%%\n"
    }
   }
  },
  {
   "cell_type": "code",
   "execution_count": 4,
   "outputs": [],
   "source": [
    "def save_as(df_exit, symbol_num, year, month):\n",
    "\n",
    "    infosymbols_ds=load_infosymbol()\n",
    "\n",
    "    diget=int(infosymbols_ds[infosymbols_ds['symbolnum']==symbol_num]['digets'])\n",
    "    diget=pow(10,diget)\n",
    "\n",
    "    df=df_exit.copy()\n",
    "    df['open_bid']=df['open_bid']/diget\n",
    "    df['high_bid']=df['high_bid']/diget\n",
    "    df['low_bid']=df['low_bid']/diget\n",
    "    df['close_bid']=df['close_bid']/diget\n",
    "    df['open_ask']=df['open_ask']/diget\n",
    "    df['high_ask']=df['high_ask']/diget\n",
    "    df['low_ask']=df['low_ask']/diget\n",
    "    df['close_ask']=df['close_ask']/diget\n",
    "\n",
    "    if month<10:\n",
    "        month_str=f'0{str(month)}'\n",
    "    else:\n",
    "        month_str=f'{str(month)}'\n",
    "\n",
    "    #file_name=path\n",
    "    katalog=f'{year}_{list_month[month]}'\n",
    "    #symbolname=str(infosymbols_ds[infosymbols_ds['symbolnum']==symbol_num]['symbolname'])[5:11]\n",
    "    file_name=f\"{symbol_num}_{year}_{month_str}.csv\"\n",
    "    path = f\"G:\\\\Общие диски\\\\Ci\\\\data_db_csv\\\\{katalog}\\\\\"+file_name\n",
    "\n",
    "    df.to_csv(\n",
    "        path,  # шлях до файлу, в який робимо запис\n",
    "        sep=';',  # роздільник колонок\n",
    "        header=True,  # чи записувати імена колонок у файл (True - записувати, False - ні)\n",
    "        index=False,  # записувати індекс у файл (True - записувати, False - ні)\n",
    "    )\n",
    "    return file_name"
   ],
   "metadata": {
    "collapsed": false,
    "pycharm": {
     "name": "#%%\n"
    }
   }
  },
  {
   "cell_type": "code",
   "execution_count": 5,
   "outputs": [],
   "source": [
    "year=2021\n",
    "month=12\n",
    "#day=7\n",
    "symbol_num=1\n",
    "\n",
    "katalog=f'{year}_{list_month[month]}'\n",
    "path = fr\"G:\\Общие диски\\Ci\\data_db_csv\\{katalog}\""
   ],
   "metadata": {
    "collapsed": false,
    "pycharm": {
     "name": "#%%\n"
    }
   }
  },
  {
   "cell_type": "code",
   "execution_count": 19,
   "outputs": [
    {
     "ename": "FileNotFoundError",
     "evalue": "[Errno 2] No such file or directory: 'GoogleDriveTransfer/Ci/data_db_csv/2023_January/29_2023_01.csv'",
     "output_type": "error",
     "traceback": [
      "\u001B[1;31m---------------------------------------------------------------------------\u001B[0m",
      "\u001B[1;31mFileNotFoundError\u001B[0m                         Traceback (most recent call last)",
      "\u001B[1;32m~\\AppData\\Local\\Temp/ipykernel_17872/2986444602.py\u001B[0m in \u001B[0;36m<module>\u001B[1;34m\u001B[0m\n\u001B[1;32m----> 1\u001B[1;33m \u001B[0mdf\u001B[0m \u001B[1;33m=\u001B[0m \u001B[0mpd\u001B[0m\u001B[1;33m.\u001B[0m\u001B[0mread_csv\u001B[0m\u001B[1;33m(\u001B[0m\u001B[1;34m'GoogleDriveTransfer/Ci/data_db_csv/2023_January/29_2023_01.csv'\u001B[0m\u001B[1;33m,\u001B[0m \u001B[0msep\u001B[0m\u001B[1;33m=\u001B[0m\u001B[1;34m';'\u001B[0m\u001B[1;33m)\u001B[0m\u001B[1;33m\u001B[0m\u001B[1;33m\u001B[0m\u001B[0m\n\u001B[0m\u001B[0;32m      2\u001B[0m \u001B[0mdf\u001B[0m\u001B[1;33m\u001B[0m\u001B[1;33m\u001B[0m\u001B[0m\n",
      "\u001B[1;32md:\\it\\pr\\mypython\\venv\\lib\\site-packages\\pandas\\util\\_decorators.py\u001B[0m in \u001B[0;36mwrapper\u001B[1;34m(*args, **kwargs)\u001B[0m\n\u001B[0;32m    309\u001B[0m                     \u001B[0mstacklevel\u001B[0m\u001B[1;33m=\u001B[0m\u001B[0mstacklevel\u001B[0m\u001B[1;33m,\u001B[0m\u001B[1;33m\u001B[0m\u001B[1;33m\u001B[0m\u001B[0m\n\u001B[0;32m    310\u001B[0m                 )\n\u001B[1;32m--> 311\u001B[1;33m             \u001B[1;32mreturn\u001B[0m \u001B[0mfunc\u001B[0m\u001B[1;33m(\u001B[0m\u001B[1;33m*\u001B[0m\u001B[0margs\u001B[0m\u001B[1;33m,\u001B[0m \u001B[1;33m**\u001B[0m\u001B[0mkwargs\u001B[0m\u001B[1;33m)\u001B[0m\u001B[1;33m\u001B[0m\u001B[1;33m\u001B[0m\u001B[0m\n\u001B[0m\u001B[0;32m    312\u001B[0m \u001B[1;33m\u001B[0m\u001B[0m\n\u001B[0;32m    313\u001B[0m         \u001B[1;32mreturn\u001B[0m \u001B[0mwrapper\u001B[0m\u001B[1;33m\u001B[0m\u001B[1;33m\u001B[0m\u001B[0m\n",
      "\u001B[1;32md:\\it\\pr\\mypython\\venv\\lib\\site-packages\\pandas\\io\\parsers\\readers.py\u001B[0m in \u001B[0;36mread_csv\u001B[1;34m(filepath_or_buffer, sep, delimiter, header, names, index_col, usecols, squeeze, prefix, mangle_dupe_cols, dtype, engine, converters, true_values, false_values, skipinitialspace, skiprows, skipfooter, nrows, na_values, keep_default_na, na_filter, verbose, skip_blank_lines, parse_dates, infer_datetime_format, keep_date_col, date_parser, dayfirst, cache_dates, iterator, chunksize, compression, thousands, decimal, lineterminator, quotechar, quoting, doublequote, escapechar, comment, encoding, encoding_errors, dialect, error_bad_lines, warn_bad_lines, on_bad_lines, delim_whitespace, low_memory, memory_map, float_precision, storage_options)\u001B[0m\n\u001B[0;32m    584\u001B[0m     \u001B[0mkwds\u001B[0m\u001B[1;33m.\u001B[0m\u001B[0mupdate\u001B[0m\u001B[1;33m(\u001B[0m\u001B[0mkwds_defaults\u001B[0m\u001B[1;33m)\u001B[0m\u001B[1;33m\u001B[0m\u001B[1;33m\u001B[0m\u001B[0m\n\u001B[0;32m    585\u001B[0m \u001B[1;33m\u001B[0m\u001B[0m\n\u001B[1;32m--> 586\u001B[1;33m     \u001B[1;32mreturn\u001B[0m \u001B[0m_read\u001B[0m\u001B[1;33m(\u001B[0m\u001B[0mfilepath_or_buffer\u001B[0m\u001B[1;33m,\u001B[0m \u001B[0mkwds\u001B[0m\u001B[1;33m)\u001B[0m\u001B[1;33m\u001B[0m\u001B[1;33m\u001B[0m\u001B[0m\n\u001B[0m\u001B[0;32m    587\u001B[0m \u001B[1;33m\u001B[0m\u001B[0m\n\u001B[0;32m    588\u001B[0m \u001B[1;33m\u001B[0m\u001B[0m\n",
      "\u001B[1;32md:\\it\\pr\\mypython\\venv\\lib\\site-packages\\pandas\\io\\parsers\\readers.py\u001B[0m in \u001B[0;36m_read\u001B[1;34m(filepath_or_buffer, kwds)\u001B[0m\n\u001B[0;32m    480\u001B[0m \u001B[1;33m\u001B[0m\u001B[0m\n\u001B[0;32m    481\u001B[0m     \u001B[1;31m# Create the parser.\u001B[0m\u001B[1;33m\u001B[0m\u001B[1;33m\u001B[0m\u001B[1;33m\u001B[0m\u001B[0m\n\u001B[1;32m--> 482\u001B[1;33m     \u001B[0mparser\u001B[0m \u001B[1;33m=\u001B[0m \u001B[0mTextFileReader\u001B[0m\u001B[1;33m(\u001B[0m\u001B[0mfilepath_or_buffer\u001B[0m\u001B[1;33m,\u001B[0m \u001B[1;33m**\u001B[0m\u001B[0mkwds\u001B[0m\u001B[1;33m)\u001B[0m\u001B[1;33m\u001B[0m\u001B[1;33m\u001B[0m\u001B[0m\n\u001B[0m\u001B[0;32m    483\u001B[0m \u001B[1;33m\u001B[0m\u001B[0m\n\u001B[0;32m    484\u001B[0m     \u001B[1;32mif\u001B[0m \u001B[0mchunksize\u001B[0m \u001B[1;32mor\u001B[0m \u001B[0miterator\u001B[0m\u001B[1;33m:\u001B[0m\u001B[1;33m\u001B[0m\u001B[1;33m\u001B[0m\u001B[0m\n",
      "\u001B[1;32md:\\it\\pr\\mypython\\venv\\lib\\site-packages\\pandas\\io\\parsers\\readers.py\u001B[0m in \u001B[0;36m__init__\u001B[1;34m(self, f, engine, **kwds)\u001B[0m\n\u001B[0;32m    809\u001B[0m             \u001B[0mself\u001B[0m\u001B[1;33m.\u001B[0m\u001B[0moptions\u001B[0m\u001B[1;33m[\u001B[0m\u001B[1;34m\"has_index_names\"\u001B[0m\u001B[1;33m]\u001B[0m \u001B[1;33m=\u001B[0m \u001B[0mkwds\u001B[0m\u001B[1;33m[\u001B[0m\u001B[1;34m\"has_index_names\"\u001B[0m\u001B[1;33m]\u001B[0m\u001B[1;33m\u001B[0m\u001B[1;33m\u001B[0m\u001B[0m\n\u001B[0;32m    810\u001B[0m \u001B[1;33m\u001B[0m\u001B[0m\n\u001B[1;32m--> 811\u001B[1;33m         \u001B[0mself\u001B[0m\u001B[1;33m.\u001B[0m\u001B[0m_engine\u001B[0m \u001B[1;33m=\u001B[0m \u001B[0mself\u001B[0m\u001B[1;33m.\u001B[0m\u001B[0m_make_engine\u001B[0m\u001B[1;33m(\u001B[0m\u001B[0mself\u001B[0m\u001B[1;33m.\u001B[0m\u001B[0mengine\u001B[0m\u001B[1;33m)\u001B[0m\u001B[1;33m\u001B[0m\u001B[1;33m\u001B[0m\u001B[0m\n\u001B[0m\u001B[0;32m    812\u001B[0m \u001B[1;33m\u001B[0m\u001B[0m\n\u001B[0;32m    813\u001B[0m     \u001B[1;32mdef\u001B[0m \u001B[0mclose\u001B[0m\u001B[1;33m(\u001B[0m\u001B[0mself\u001B[0m\u001B[1;33m)\u001B[0m\u001B[1;33m:\u001B[0m\u001B[1;33m\u001B[0m\u001B[1;33m\u001B[0m\u001B[0m\n",
      "\u001B[1;32md:\\it\\pr\\mypython\\venv\\lib\\site-packages\\pandas\\io\\parsers\\readers.py\u001B[0m in \u001B[0;36m_make_engine\u001B[1;34m(self, engine)\u001B[0m\n\u001B[0;32m   1038\u001B[0m             )\n\u001B[0;32m   1039\u001B[0m         \u001B[1;31m# error: Too many arguments for \"ParserBase\"\u001B[0m\u001B[1;33m\u001B[0m\u001B[1;33m\u001B[0m\u001B[1;33m\u001B[0m\u001B[0m\n\u001B[1;32m-> 1040\u001B[1;33m         \u001B[1;32mreturn\u001B[0m \u001B[0mmapping\u001B[0m\u001B[1;33m[\u001B[0m\u001B[0mengine\u001B[0m\u001B[1;33m]\u001B[0m\u001B[1;33m(\u001B[0m\u001B[0mself\u001B[0m\u001B[1;33m.\u001B[0m\u001B[0mf\u001B[0m\u001B[1;33m,\u001B[0m \u001B[1;33m**\u001B[0m\u001B[0mself\u001B[0m\u001B[1;33m.\u001B[0m\u001B[0moptions\u001B[0m\u001B[1;33m)\u001B[0m  \u001B[1;31m# type: ignore[call-arg]\u001B[0m\u001B[1;33m\u001B[0m\u001B[1;33m\u001B[0m\u001B[0m\n\u001B[0m\u001B[0;32m   1041\u001B[0m \u001B[1;33m\u001B[0m\u001B[0m\n\u001B[0;32m   1042\u001B[0m     \u001B[1;32mdef\u001B[0m \u001B[0m_failover_to_python\u001B[0m\u001B[1;33m(\u001B[0m\u001B[0mself\u001B[0m\u001B[1;33m)\u001B[0m\u001B[1;33m:\u001B[0m\u001B[1;33m\u001B[0m\u001B[1;33m\u001B[0m\u001B[0m\n",
      "\u001B[1;32md:\\it\\pr\\mypython\\venv\\lib\\site-packages\\pandas\\io\\parsers\\c_parser_wrapper.py\u001B[0m in \u001B[0;36m__init__\u001B[1;34m(self, src, **kwds)\u001B[0m\n\u001B[0;32m     49\u001B[0m \u001B[1;33m\u001B[0m\u001B[0m\n\u001B[0;32m     50\u001B[0m         \u001B[1;31m# open handles\u001B[0m\u001B[1;33m\u001B[0m\u001B[1;33m\u001B[0m\u001B[1;33m\u001B[0m\u001B[0m\n\u001B[1;32m---> 51\u001B[1;33m         \u001B[0mself\u001B[0m\u001B[1;33m.\u001B[0m\u001B[0m_open_handles\u001B[0m\u001B[1;33m(\u001B[0m\u001B[0msrc\u001B[0m\u001B[1;33m,\u001B[0m \u001B[0mkwds\u001B[0m\u001B[1;33m)\u001B[0m\u001B[1;33m\u001B[0m\u001B[1;33m\u001B[0m\u001B[0m\n\u001B[0m\u001B[0;32m     52\u001B[0m         \u001B[1;32massert\u001B[0m \u001B[0mself\u001B[0m\u001B[1;33m.\u001B[0m\u001B[0mhandles\u001B[0m \u001B[1;32mis\u001B[0m \u001B[1;32mnot\u001B[0m \u001B[1;32mNone\u001B[0m\u001B[1;33m\u001B[0m\u001B[1;33m\u001B[0m\u001B[0m\n\u001B[0;32m     53\u001B[0m \u001B[1;33m\u001B[0m\u001B[0m\n",
      "\u001B[1;32md:\\it\\pr\\mypython\\venv\\lib\\site-packages\\pandas\\io\\parsers\\base_parser.py\u001B[0m in \u001B[0;36m_open_handles\u001B[1;34m(self, src, kwds)\u001B[0m\n\u001B[0;32m    220\u001B[0m         \u001B[0mLet\u001B[0m \u001B[0mthe\u001B[0m \u001B[0mreaders\u001B[0m \u001B[0mopen\u001B[0m \u001B[0mIOHandles\u001B[0m \u001B[0mafter\u001B[0m \u001B[0mthey\u001B[0m \u001B[0mare\u001B[0m \u001B[0mdone\u001B[0m \u001B[1;32mwith\u001B[0m \u001B[0mtheir\u001B[0m \u001B[0mpotential\u001B[0m \u001B[0mraises\u001B[0m\u001B[1;33m.\u001B[0m\u001B[1;33m\u001B[0m\u001B[1;33m\u001B[0m\u001B[0m\n\u001B[0;32m    221\u001B[0m         \"\"\"\n\u001B[1;32m--> 222\u001B[1;33m         self.handles = get_handle(\n\u001B[0m\u001B[0;32m    223\u001B[0m             \u001B[0msrc\u001B[0m\u001B[1;33m,\u001B[0m\u001B[1;33m\u001B[0m\u001B[1;33m\u001B[0m\u001B[0m\n\u001B[0;32m    224\u001B[0m             \u001B[1;34m\"r\"\u001B[0m\u001B[1;33m,\u001B[0m\u001B[1;33m\u001B[0m\u001B[1;33m\u001B[0m\u001B[0m\n",
      "\u001B[1;32md:\\it\\pr\\mypython\\venv\\lib\\site-packages\\pandas\\io\\common.py\u001B[0m in \u001B[0;36mget_handle\u001B[1;34m(path_or_buf, mode, encoding, compression, memory_map, is_text, errors, storage_options)\u001B[0m\n\u001B[0;32m    700\u001B[0m         \u001B[1;32mif\u001B[0m \u001B[0mioargs\u001B[0m\u001B[1;33m.\u001B[0m\u001B[0mencoding\u001B[0m \u001B[1;32mand\u001B[0m \u001B[1;34m\"b\"\u001B[0m \u001B[1;32mnot\u001B[0m \u001B[1;32min\u001B[0m \u001B[0mioargs\u001B[0m\u001B[1;33m.\u001B[0m\u001B[0mmode\u001B[0m\u001B[1;33m:\u001B[0m\u001B[1;33m\u001B[0m\u001B[1;33m\u001B[0m\u001B[0m\n\u001B[0;32m    701\u001B[0m             \u001B[1;31m# Encoding\u001B[0m\u001B[1;33m\u001B[0m\u001B[1;33m\u001B[0m\u001B[1;33m\u001B[0m\u001B[0m\n\u001B[1;32m--> 702\u001B[1;33m             handle = open(\n\u001B[0m\u001B[0;32m    703\u001B[0m                 \u001B[0mhandle\u001B[0m\u001B[1;33m,\u001B[0m\u001B[1;33m\u001B[0m\u001B[1;33m\u001B[0m\u001B[0m\n\u001B[0;32m    704\u001B[0m                 \u001B[0mioargs\u001B[0m\u001B[1;33m.\u001B[0m\u001B[0mmode\u001B[0m\u001B[1;33m,\u001B[0m\u001B[1;33m\u001B[0m\u001B[1;33m\u001B[0m\u001B[0m\n",
      "\u001B[1;31mFileNotFoundError\u001B[0m: [Errno 2] No such file or directory: 'GoogleDriveTransfer/Ci/data_db_csv/2023_January/29_2023_01.csv'"
     ]
    }
   ],
   "source": [
    "df = pd.read_csv('GoogleDriveTransfer_Ci_data_db_csv_2021_December_10_2021_12.csv', sep=';')\n",
    "df"
   ],
   "metadata": {
    "collapsed": false,
    "pycharm": {
     "name": "#%%\n"
    }
   }
  },
  {
   "cell_type": "code",
   "execution_count": 24,
   "outputs": [],
   "source": [
    "from google.auth.transport import requests\n",
    "from googleapiclient import discovery\n",
    "from google.oauth2 import service_account\n",
    "from google.cloud import storage\n",
    "from googleapiclient.http import MediaIoBaseDownload\n",
    "import io"
   ],
   "metadata": {
    "collapsed": false,
    "pycharm": {
     "name": "#%%\n"
    }
   }
  },
  {
   "cell_type": "code",
   "execution_count": 25,
   "outputs": [],
   "source": [
    "def get_client():\n",
    "    #Google Storage\n",
    "    credentials_storage = service_account.Credentials.from_service_account_file(\n",
    "        filename='credentials.json',\n",
    "        scopes=['https://www.googleapis.com/auth/devstorage.full_control'],\n",
    "    )\n",
    "    client = storage.Client(credentials=credentials_storage)\n",
    "    bucket = client.get_bucket('cabinet_bucket')\n",
    "\n",
    "    return bucket"
   ],
   "metadata": {
    "collapsed": false,
    "pycharm": {
     "name": "#%%\n"
    }
   }
  },
  {
   "cell_type": "code",
   "execution_count": 26,
   "outputs": [],
   "source": [
    "bucket = get_client()"
   ],
   "metadata": {
    "collapsed": false,
    "pycharm": {
     "name": "#%%\n"
    }
   }
  },
  {
   "cell_type": "code",
   "execution_count": 4,
   "outputs": [],
   "source": [
    "path = 'static/cms/js/dist/3.10.0/bundle.toolbar.min.js'\n",
    "blob = bucket.blob(path)"
   ],
   "metadata": {
    "collapsed": false,
    "pycharm": {
     "name": "#%%\n"
    }
   }
  },
  {
   "cell_type": "code",
   "execution_count": 5,
   "outputs": [],
   "source": [
    "blob_bytes_gen = blob.download_as_bytes()"
   ],
   "metadata": {
    "collapsed": false,
    "pycharm": {
     "name": "#%%\n"
    }
   }
  },
  {
   "cell_type": "code",
   "execution_count": null,
   "outputs": [],
   "source": [],
   "metadata": {
    "collapsed": false,
    "pycharm": {
     "name": "#%%\n"
    }
   }
  },
  {
   "cell_type": "code",
   "execution_count": 47,
   "outputs": [],
   "source": [
    "def upload_file_csv(bucket, df, path):\n",
    "    \"\"\"Uploads a csv file to the bucket.\"\"\"\n",
    "    blob = bucket.blob(path)\n",
    "    if blob.exists():\n",
    "        df_read = pd.read_csv(io.StringIO(blob.download_as_text()), sep=';')\n",
    "        df = df_read.append(df)\n",
    "    fh = io.BytesIO()\n",
    "    df.to_csv(fh, sep=';', header=True, index=False)\n",
    "    blob = bucket.blob(path)\n",
    "    blob.upload_from_string(fh.getvalue())\n",
    "    fh.close()"
   ],
   "metadata": {
    "collapsed": false,
    "pycharm": {
     "name": "#%%\n"
    }
   }
  },
  {
   "cell_type": "code",
   "execution_count": 40,
   "outputs": [],
   "source": [
    "df\n",
    "path = 'GoogleDriveTransfer/Ci/data_db_csv/2023_January/29_2023_01.csv'\n",
    "blob = bucket.blob(path)\n",
    "if blob.exists():\n",
    "    df_read = pd.read_csv(io.StringIO(blob.download_as_text()), sep=';')\n",
    "    df = df_read.append(df)\n",
    "\n",
    "upload_file_csv(bucket, df, path)\n"
   ],
   "metadata": {
    "collapsed": false,
    "pycharm": {
     "name": "#%%\n"
    }
   }
  },
  {
   "cell_type": "code",
   "execution_count": 52,
   "outputs": [],
   "source": [
    "df = pd.read_csv(io.StringIO(blob.download_as_text()), sep=';')"
   ],
   "metadata": {
    "collapsed": false,
    "pycharm": {
     "name": "#%%\n"
    }
   }
  },
  {
   "cell_type": "code",
   "execution_count": 27,
   "outputs": [
    {
     "data": {
      "text/plain": "        datetimesecond  open_bid  high_bid  low_bid  close_bid  open_ask  \\\n0  2023-01-06 23:54:59   0.58879   0.58879  0.58879    0.58879   0.58912   \n\n   high_ask  low_ask  close_ask  \n0   0.58912  0.58912    0.58912  ",
      "text/html": "<div>\n<style scoped>\n    .dataframe tbody tr th:only-of-type {\n        vertical-align: middle;\n    }\n\n    .dataframe tbody tr th {\n        vertical-align: top;\n    }\n\n    .dataframe thead th {\n        text-align: right;\n    }\n</style>\n<table border=\"1\" class=\"dataframe\">\n  <thead>\n    <tr style=\"text-align: right;\">\n      <th></th>\n      <th>datetimesecond</th>\n      <th>open_bid</th>\n      <th>high_bid</th>\n      <th>low_bid</th>\n      <th>close_bid</th>\n      <th>open_ask</th>\n      <th>high_ask</th>\n      <th>low_ask</th>\n      <th>close_ask</th>\n    </tr>\n  </thead>\n  <tbody>\n    <tr>\n      <th>0</th>\n      <td>2023-01-06 23:54:59</td>\n      <td>0.58879</td>\n      <td>0.58879</td>\n      <td>0.58879</td>\n      <td>0.58879</td>\n      <td>0.58912</td>\n      <td>0.58912</td>\n      <td>0.58912</td>\n      <td>0.58912</td>\n    </tr>\n  </tbody>\n</table>\n</div>"
     },
     "execution_count": 27,
     "metadata": {},
     "output_type": "execute_result"
    }
   ],
   "source": [
    "path = 'GoogleDriveTransfer/Ci/data_db_csv/2023_January/29_2023_01.csv'\n",
    "blob = bucket.blob(path)\n",
    "if blob.exists():\n",
    "    df = pd.read_csv(io.StringIO(blob.download_as_text()), sep=';')\n",
    "df"
   ],
   "metadata": {
    "collapsed": false,
    "pycharm": {
     "name": "#%%\n"
    }
   }
  },
  {
   "cell_type": "code",
   "execution_count": 1,
   "outputs": [],
   "source": [
    "ls =  [['1 2023 1', 0], ['1 2023 2', 154004, 154004], ['2 2023 1', 77, 77], ['2 2023 2', 137347, 137347], ['3 2023 1', 22, 22], ['3 2023 2', 201701, 201701], ['4 2023 1', 1, 1], ['4 2023 2', 164404, 164404], ['5 2023 1', 30, 30], ['5 2023 2', 33531, 33531], ['6 2023 1', 109, 109], ['6 2023 2', 186603, 186603], ['7 2023 1', 65, 65], ['7 2023 2', 124153, 124153], ['8 2023 1', 1, 1], ['8 2023 2', 248414, 248414], ['9 2023 1', 1, 1], ['9 2023 2', 85760, 85760], ['10 2023 1', 1, 1], ['10 2023 2', 1713, 1713], ['11 2023 1', 0], ['11 2023 2', 213426, 213426], ['12 2023 1', 0], ['12 2023 2', 161172, 161172], ['13 2023 1', 1, 1], ['13 2023 2', 13418, 13418], ['14 2023 1', 0], ['14 2023 2', 166330, 166330], ['15 2023 1', 186, 186], ['15 2023 2', 154765, 154765], ['16 2023 1', 220, 220], ['16 2023 2', 172424, 172424], ['17 2023 1', 0], ['17 2023 2', 211222, 211222], ['18 2023 1', 0], ['18 2023 2', 121281, 121281], ['19 2023 1', 0], ['19 2023 2', 224579, 224579], ['20 2023 1', 0], ['20 2023 2', 229362, 229362], ['21 2023 1', 0], ['21 2023 2', 262413, 262413], ['22 2023 1', 0], ['22 2023 2', 219923, 219923], ['23 2023 1', 0], ['23 2023 2', 242502, 242502], ['24 2023 1', 0], ['24 2023 2', 183081, 183081], ['25 2023 1', 0], ['25 2023 2', 160788, 160788], ['26 2023 1', 0], ['26 2023 2', 160251, 160251], ['27 2023 1', 0], ['27 2023 2', 145943, 145943], ['28 2023 1', 0], ['28 2023 2', 210583, 210583], ['29 2023 1', 0], ['29 2023 2', 169817, 169817], ['30 2023 1', 1, 1], ['30 2023 2', 25133, 25133], ['31 2023 1', 0], ['31 2023 2', 163213, 163213], ['32 2023 1', 0], ['32 2023 2', 228169, 228169], ['33 2023 1', 0], ['33 2023 2', 229855, 229855], ['34 2023 1', 0], ['34 2023 2', 225932, 225932], ['35 2023 1', 0], ['35 2023 2', 210704, 210704], ['36 2023 1', 0], ['36 2023 2', 243146, 243146], ['37 2023 1', 0], ['37 2023 2', 0], ['38 2023 1', 0], ['38 2023 2', 275996, 275996], ['39 2023 1', 0], ['39 2023 2', 4, 4], ['40 2023 1', 1, 1], ['40 2023 2', 210570, 210570], ['41 2023 1', 0], ['41 2023 2', 246903, 246903], ['42 2023 1', 0], ['42 2023 2', 215643, 215643], ['43 2023 1', 189, 189], ['43 2023 2', 176012, 176012], ['44 2023 1', 1, 1], ['44 2023 2', 57895, 57895], ['45 2023 1', 0], ['45 2023 2', 177310, 177310], ['46 2023 1', 0], ['46 2023 2', 0], ['47 2023 1', 0], ['47 2023 2', 4, 4], ['48 2023 1', 0], ['48 2023 2', 129631, 129631], ['49 2023 1', 72, 72], ['49 2023 2', 132153, 132153], ['50 2023 1', 0], ['50 2023 2', 137140, 137140], ['51 2023 1', 1, 1], ['51 2023 2', 62774, 62774], ['52 2023 1', 26, 26], ['52 2023 2', 142700, 142700], ['53 2023 1', 95, 95], ['53 2023 2', 232457, 232457], ['54 2023 1', 1, 1], ['54 2023 2', 122796, 122796], ['55 2023 1', 1, 1], ['55 2023 2', 131827, 131827], ['56 2023 1', 1, 1], ['56 2023 2', 51352, 51352], ['57 2023 1', 1, 1], ['57 2023 2', 69771, 69771], ['58 2023 1', 1, 1], ['58 2023 2', 162932, 162932], ['59 2023 1', 1, 1], ['59 2023 2', 40720, 40720], ['60 2023 1', 1, 1], ['60 2023 2', 238088, 238088], ['61 2023 1', 1, 1], ['61 2023 2', 96510, 96510], ['62 2023 1', 0], ['62 2023 2', 0], ['63 2023 1', 1, 1], ['63 2023 2', 106488, 106488], ['64 2023 1', 1, 1], ['64 2023 2', 55298, 55298], ['65 2023 1', 1, 1], ['65 2023 2', 63105, 63105], ['66 2023 1', 1, 1], ['66 2023 2', 124243, 124243], ['67 2023 1', 0], ['67 2023 2', 4, 4], ['68 2023 1', 0], ['68 2023 2', 4, 4], ['69 2023 1', 0], ['69 2023 2', 4, 4], ['70 2023 1', 0], ['70 2023 2', 0], ['71 2023 1', 0], ['71 2023 2', 4, 4], ['72 2023 1', 0], ['72 2023 2', 128624, 128624], ['73 2023 1', 0], ['73 2023 2', 190444, 190444], ['74 2023 1', 0], ['74 2023 2', 222257, 222257], ['75 2023 1', 0], ['75 2023 2', 87013, 87013], ['76 2023 1', 0], ['76 2023 2', 112202, 112202], ['77 2023 1', 0], ['77 2023 2', 193994, 193994], ['78 2023 1', 0], ['78 2023 2', 159567, 159567], ['79 2023 1', 0], ['79 2023 2', 101453, 101453], ['80 2023 1', 0], ['80 2023 2', 90443, 90443], ['81 2023 1', 0], ['81 2023 2', 331801, 331801], ['82 2023 1', 0], ['82 2023 2', 171044, 171044], ['83 2023 1', 0], ['83 2023 2', 182040, 182040], ['84 2023 1', 0], ['84 2023 2', 269154, 269154], ['85 2023 1', 0], ['85 2023 2', 124832, 124832], ['86 2023 1', 0], ['86 2023 2', 137538, 137538], ['87 2023 1', 0], ['87 2023 2', 123361, 123361], ['88 2023 1', 5, 5], ['88 2023 2', 17542, 17542], ['89 2023 1', 0], ['89 2023 2', 226, 226], ['90 2023 1', 0], ['90 2023 2', 117449, 117449], ['91 2023 1', 0], ['91 2023 2', 124477, 124477], ['92 2023 1', 0], ['92 2023 2', 522, 522], ['93 2023 1', 0], ['93 2023 2', 107919, 107919], ['94 2023 1', 0], ['94 2023 2', 67694, 67694], ['95 2023 1', 1, 1], ['95 2023 2', 139612, 139612], ['96 2023 1', 3, 3], ['96 2023 2', 2541, 2541], ['97 2023 1', 0], ['97 2023 2', 0], ['98 2023 1', 0], ['98 2023 2', 0], ['99 2023 1', 0], ['99 2023 2', 0]]\n"
   ],
   "metadata": {
    "collapsed": false,
    "pycharm": {
     "name": "#%%\n"
    }
   }
  },
  {
   "cell_type": "code",
   "execution_count": 50,
   "outputs": [
    {
     "data": {
      "text/plain": "         datetimesecond    open_bid  high_bid  low_bid  close_bid  open_ask  \\\n0   2021-12-01 09:00:01      73.947    73.947   73.947     73.947    73.990   \n1   2021-12-01 09:00:05      73.951    73.951   73.951     73.951    73.993   \n2   2021-12-01 09:00:07      73.949    73.949   73.949     73.949    73.989   \n3   2021-12-01 09:00:10      73.945    73.945   73.945     73.945    73.990   \n4   2021-12-01 09:00:11      73.946    73.946   73.946     73.946    73.988   \n5   2021-12-01 09:00:14      73.947    73.947   73.947     73.947    73.989   \n6   2021-12-01 09:00:15      73.949    73.949   73.949     73.949    73.989   \n7   2021-12-01 09:00:19      73.953    73.953   73.953     73.953    73.997   \n8   2021-12-01 09:00:21      73.951    73.951   73.951     73.951    73.992   \n9   2021-12-01 09:00:24      73.954    73.954   73.954     73.954    73.997   \n10  2021-12-01 09:00:01  739470.000    73.947   73.947     73.947    73.990   \n11  2021-12-01 09:00:05  739510.000    73.951   73.951     73.951    73.993   \n12  2021-12-01 09:00:07  739490.000    73.949   73.949     73.949    73.989   \n13  2021-12-01 09:00:10  739450.000    73.945   73.945     73.945    73.990   \n14  2021-12-01 09:00:11  739460.000    73.946   73.946     73.946    73.988   \n15  2021-12-01 09:00:14  739470.000    73.947   73.947     73.947    73.989   \n16  2021-12-01 09:00:15  739490.000    73.949   73.949     73.949    73.989   \n17  2021-12-01 09:00:19  739530.000    73.953   73.953     73.953    73.997   \n18  2021-12-01 09:00:21  739510.000    73.951   73.951     73.951    73.992   \n19  2021-12-01 09:00:24  739540.000    73.954   73.954     73.954    73.997   \n20  2021-12-01 09:00:01     739.470    73.947   73.947     73.947    73.990   \n21  2021-12-01 09:00:05     739.510    73.951   73.951     73.951    73.993   \n22  2021-12-01 09:00:07     739.490    73.949   73.949     73.949    73.989   \n23  2021-12-01 09:00:10     739.450    73.945   73.945     73.945    73.990   \n24  2021-12-01 09:00:11     739.460    73.946   73.946     73.946    73.988   \n\n    high_ask  low_ask  close_ask  \n0     73.990   73.990     73.990  \n1     73.993   73.993     73.993  \n2     73.989   73.989     73.989  \n3     73.990   73.990     73.990  \n4     73.988   73.988     73.988  \n5     73.989   73.989     73.989  \n6     73.989   73.989     73.989  \n7     73.997   73.997     73.997  \n8     73.992   73.992     73.992  \n9     73.997   73.997     73.997  \n10    73.990   73.990     73.990  \n11    73.993   73.993     73.993  \n12    73.989   73.989     73.989  \n13    73.990   73.990     73.990  \n14    73.988   73.988     73.988  \n15    73.989   73.989     73.989  \n16    73.989   73.989     73.989  \n17    73.997   73.997     73.997  \n18    73.992   73.992     73.992  \n19    73.997   73.997     73.997  \n20    73.990   73.990     73.990  \n21    73.993   73.993     73.993  \n22    73.989   73.989     73.989  \n23    73.990   73.990     73.990  \n24    73.988   73.988     73.988  ",
      "text/html": "<div>\n<style scoped>\n    .dataframe tbody tr th:only-of-type {\n        vertical-align: middle;\n    }\n\n    .dataframe tbody tr th {\n        vertical-align: top;\n    }\n\n    .dataframe thead th {\n        text-align: right;\n    }\n</style>\n<table border=\"1\" class=\"dataframe\">\n  <thead>\n    <tr style=\"text-align: right;\">\n      <th></th>\n      <th>datetimesecond</th>\n      <th>open_bid</th>\n      <th>high_bid</th>\n      <th>low_bid</th>\n      <th>close_bid</th>\n      <th>open_ask</th>\n      <th>high_ask</th>\n      <th>low_ask</th>\n      <th>close_ask</th>\n    </tr>\n  </thead>\n  <tbody>\n    <tr>\n      <th>0</th>\n      <td>2021-12-01 09:00:01</td>\n      <td>73.947</td>\n      <td>73.947</td>\n      <td>73.947</td>\n      <td>73.947</td>\n      <td>73.990</td>\n      <td>73.990</td>\n      <td>73.990</td>\n      <td>73.990</td>\n    </tr>\n    <tr>\n      <th>1</th>\n      <td>2021-12-01 09:00:05</td>\n      <td>73.951</td>\n      <td>73.951</td>\n      <td>73.951</td>\n      <td>73.951</td>\n      <td>73.993</td>\n      <td>73.993</td>\n      <td>73.993</td>\n      <td>73.993</td>\n    </tr>\n    <tr>\n      <th>2</th>\n      <td>2021-12-01 09:00:07</td>\n      <td>73.949</td>\n      <td>73.949</td>\n      <td>73.949</td>\n      <td>73.949</td>\n      <td>73.989</td>\n      <td>73.989</td>\n      <td>73.989</td>\n      <td>73.989</td>\n    </tr>\n    <tr>\n      <th>3</th>\n      <td>2021-12-01 09:00:10</td>\n      <td>73.945</td>\n      <td>73.945</td>\n      <td>73.945</td>\n      <td>73.945</td>\n      <td>73.990</td>\n      <td>73.990</td>\n      <td>73.990</td>\n      <td>73.990</td>\n    </tr>\n    <tr>\n      <th>4</th>\n      <td>2021-12-01 09:00:11</td>\n      <td>73.946</td>\n      <td>73.946</td>\n      <td>73.946</td>\n      <td>73.946</td>\n      <td>73.988</td>\n      <td>73.988</td>\n      <td>73.988</td>\n      <td>73.988</td>\n    </tr>\n    <tr>\n      <th>5</th>\n      <td>2021-12-01 09:00:14</td>\n      <td>73.947</td>\n      <td>73.947</td>\n      <td>73.947</td>\n      <td>73.947</td>\n      <td>73.989</td>\n      <td>73.989</td>\n      <td>73.989</td>\n      <td>73.989</td>\n    </tr>\n    <tr>\n      <th>6</th>\n      <td>2021-12-01 09:00:15</td>\n      <td>73.949</td>\n      <td>73.949</td>\n      <td>73.949</td>\n      <td>73.949</td>\n      <td>73.989</td>\n      <td>73.989</td>\n      <td>73.989</td>\n      <td>73.989</td>\n    </tr>\n    <tr>\n      <th>7</th>\n      <td>2021-12-01 09:00:19</td>\n      <td>73.953</td>\n      <td>73.953</td>\n      <td>73.953</td>\n      <td>73.953</td>\n      <td>73.997</td>\n      <td>73.997</td>\n      <td>73.997</td>\n      <td>73.997</td>\n    </tr>\n    <tr>\n      <th>8</th>\n      <td>2021-12-01 09:00:21</td>\n      <td>73.951</td>\n      <td>73.951</td>\n      <td>73.951</td>\n      <td>73.951</td>\n      <td>73.992</td>\n      <td>73.992</td>\n      <td>73.992</td>\n      <td>73.992</td>\n    </tr>\n    <tr>\n      <th>9</th>\n      <td>2021-12-01 09:00:24</td>\n      <td>73.954</td>\n      <td>73.954</td>\n      <td>73.954</td>\n      <td>73.954</td>\n      <td>73.997</td>\n      <td>73.997</td>\n      <td>73.997</td>\n      <td>73.997</td>\n    </tr>\n    <tr>\n      <th>10</th>\n      <td>2021-12-01 09:00:01</td>\n      <td>739470.000</td>\n      <td>73.947</td>\n      <td>73.947</td>\n      <td>73.947</td>\n      <td>73.990</td>\n      <td>73.990</td>\n      <td>73.990</td>\n      <td>73.990</td>\n    </tr>\n    <tr>\n      <th>11</th>\n      <td>2021-12-01 09:00:05</td>\n      <td>739510.000</td>\n      <td>73.951</td>\n      <td>73.951</td>\n      <td>73.951</td>\n      <td>73.993</td>\n      <td>73.993</td>\n      <td>73.993</td>\n      <td>73.993</td>\n    </tr>\n    <tr>\n      <th>12</th>\n      <td>2021-12-01 09:00:07</td>\n      <td>739490.000</td>\n      <td>73.949</td>\n      <td>73.949</td>\n      <td>73.949</td>\n      <td>73.989</td>\n      <td>73.989</td>\n      <td>73.989</td>\n      <td>73.989</td>\n    </tr>\n    <tr>\n      <th>13</th>\n      <td>2021-12-01 09:00:10</td>\n      <td>739450.000</td>\n      <td>73.945</td>\n      <td>73.945</td>\n      <td>73.945</td>\n      <td>73.990</td>\n      <td>73.990</td>\n      <td>73.990</td>\n      <td>73.990</td>\n    </tr>\n    <tr>\n      <th>14</th>\n      <td>2021-12-01 09:00:11</td>\n      <td>739460.000</td>\n      <td>73.946</td>\n      <td>73.946</td>\n      <td>73.946</td>\n      <td>73.988</td>\n      <td>73.988</td>\n      <td>73.988</td>\n      <td>73.988</td>\n    </tr>\n    <tr>\n      <th>15</th>\n      <td>2021-12-01 09:00:14</td>\n      <td>739470.000</td>\n      <td>73.947</td>\n      <td>73.947</td>\n      <td>73.947</td>\n      <td>73.989</td>\n      <td>73.989</td>\n      <td>73.989</td>\n      <td>73.989</td>\n    </tr>\n    <tr>\n      <th>16</th>\n      <td>2021-12-01 09:00:15</td>\n      <td>739490.000</td>\n      <td>73.949</td>\n      <td>73.949</td>\n      <td>73.949</td>\n      <td>73.989</td>\n      <td>73.989</td>\n      <td>73.989</td>\n      <td>73.989</td>\n    </tr>\n    <tr>\n      <th>17</th>\n      <td>2021-12-01 09:00:19</td>\n      <td>739530.000</td>\n      <td>73.953</td>\n      <td>73.953</td>\n      <td>73.953</td>\n      <td>73.997</td>\n      <td>73.997</td>\n      <td>73.997</td>\n      <td>73.997</td>\n    </tr>\n    <tr>\n      <th>18</th>\n      <td>2021-12-01 09:00:21</td>\n      <td>739510.000</td>\n      <td>73.951</td>\n      <td>73.951</td>\n      <td>73.951</td>\n      <td>73.992</td>\n      <td>73.992</td>\n      <td>73.992</td>\n      <td>73.992</td>\n    </tr>\n    <tr>\n      <th>19</th>\n      <td>2021-12-01 09:00:24</td>\n      <td>739540.000</td>\n      <td>73.954</td>\n      <td>73.954</td>\n      <td>73.954</td>\n      <td>73.997</td>\n      <td>73.997</td>\n      <td>73.997</td>\n      <td>73.997</td>\n    </tr>\n    <tr>\n      <th>20</th>\n      <td>2021-12-01 09:00:01</td>\n      <td>739.470</td>\n      <td>73.947</td>\n      <td>73.947</td>\n      <td>73.947</td>\n      <td>73.990</td>\n      <td>73.990</td>\n      <td>73.990</td>\n      <td>73.990</td>\n    </tr>\n    <tr>\n      <th>21</th>\n      <td>2021-12-01 09:00:05</td>\n      <td>739.510</td>\n      <td>73.951</td>\n      <td>73.951</td>\n      <td>73.951</td>\n      <td>73.993</td>\n      <td>73.993</td>\n      <td>73.993</td>\n      <td>73.993</td>\n    </tr>\n    <tr>\n      <th>22</th>\n      <td>2021-12-01 09:00:07</td>\n      <td>739.490</td>\n      <td>73.949</td>\n      <td>73.949</td>\n      <td>73.949</td>\n      <td>73.989</td>\n      <td>73.989</td>\n      <td>73.989</td>\n      <td>73.989</td>\n    </tr>\n    <tr>\n      <th>23</th>\n      <td>2021-12-01 09:00:10</td>\n      <td>739.450</td>\n      <td>73.945</td>\n      <td>73.945</td>\n      <td>73.945</td>\n      <td>73.990</td>\n      <td>73.990</td>\n      <td>73.990</td>\n      <td>73.990</td>\n    </tr>\n    <tr>\n      <th>24</th>\n      <td>2021-12-01 09:00:11</td>\n      <td>739.460</td>\n      <td>73.946</td>\n      <td>73.946</td>\n      <td>73.946</td>\n      <td>73.988</td>\n      <td>73.988</td>\n      <td>73.988</td>\n      <td>73.988</td>\n    </tr>\n  </tbody>\n</table>\n</div>"
     },
     "execution_count": 50,
     "metadata": {},
     "output_type": "execute_result"
    }
   ],
   "source": [
    "df"
   ],
   "metadata": {
    "collapsed": false,
    "pycharm": {
     "name": "#%%\n"
    }
   }
  },
  {
   "cell_type": "code",
   "execution_count": 45,
   "outputs": [
    {
     "name": "stderr",
     "output_type": "stream",
     "text": [
      "C:\\Users\\Alex\\AppData\\Local\\Temp/ipykernel_11568/2721496345.py:2: SettingWithCopyWarning: \n",
      "A value is trying to be set on a copy of a slice from a DataFrame.\n",
      "Try using .loc[row_indexer,col_indexer] = value instead\n",
      "\n",
      "See the caveats in the documentation: https://pandas.pydata.org/pandas-docs/stable/user_guide/indexing.html#returning-a-view-versus-a-copy\n",
      "  df['open_bid'] *= 10\n"
     ]
    }
   ],
   "source": [
    "df = df.head(5)\n",
    "df['open_bid'] *= 10"
   ],
   "metadata": {
    "collapsed": false,
    "pycharm": {
     "name": "#%%\n"
    }
   }
  },
  {
   "cell_type": "code",
   "execution_count": 48,
   "outputs": [],
   "source": [
    "upload_file_csv(bucket, df, path)"
   ],
   "metadata": {
    "collapsed": false,
    "pycharm": {
     "name": "#%%\n"
    }
   }
  },
  {
   "cell_type": "code",
   "execution_count": null,
   "outputs": [],
   "source": [],
   "metadata": {
    "collapsed": false,
    "pycharm": {
     "name": "#%%\n"
    }
   }
  },
  {
   "cell_type": "code",
   "execution_count": 42,
   "outputs": [
    {
     "data": {
      "text/plain": "         datetimesecond    open_bid  high_bid  low_bid  close_bid  open_ask  \\\n0   2021-12-01 09:00:01      73.947    73.947   73.947     73.947    73.990   \n1   2021-12-01 09:00:05      73.951    73.951   73.951     73.951    73.993   \n2   2021-12-01 09:00:07      73.949    73.949   73.949     73.949    73.989   \n3   2021-12-01 09:00:10      73.945    73.945   73.945     73.945    73.990   \n4   2021-12-01 09:00:11      73.946    73.946   73.946     73.946    73.988   \n5   2021-12-01 09:00:14      73.947    73.947   73.947     73.947    73.989   \n6   2021-12-01 09:00:15      73.949    73.949   73.949     73.949    73.989   \n7   2021-12-01 09:00:19      73.953    73.953   73.953     73.953    73.997   \n8   2021-12-01 09:00:21      73.951    73.951   73.951     73.951    73.992   \n9   2021-12-01 09:00:24      73.954    73.954   73.954     73.954    73.997   \n10  2021-12-01 09:00:01  739470.000    73.947   73.947     73.947    73.990   \n11  2021-12-01 09:00:05  739510.000    73.951   73.951     73.951    73.993   \n12  2021-12-01 09:00:07  739490.000    73.949   73.949     73.949    73.989   \n13  2021-12-01 09:00:10  739450.000    73.945   73.945     73.945    73.990   \n14  2021-12-01 09:00:11  739460.000    73.946   73.946     73.946    73.988   \n15  2021-12-01 09:00:14  739470.000    73.947   73.947     73.947    73.989   \n16  2021-12-01 09:00:15  739490.000    73.949   73.949     73.949    73.989   \n17  2021-12-01 09:00:19  739530.000    73.953   73.953     73.953    73.997   \n18  2021-12-01 09:00:21  739510.000    73.951   73.951     73.951    73.992   \n19  2021-12-01 09:00:24  739540.000    73.954   73.954     73.954    73.997   \n\n    high_ask  low_ask  close_ask  \n0     73.990   73.990     73.990  \n1     73.993   73.993     73.993  \n2     73.989   73.989     73.989  \n3     73.990   73.990     73.990  \n4     73.988   73.988     73.988  \n5     73.989   73.989     73.989  \n6     73.989   73.989     73.989  \n7     73.997   73.997     73.997  \n8     73.992   73.992     73.992  \n9     73.997   73.997     73.997  \n10    73.990   73.990     73.990  \n11    73.993   73.993     73.993  \n12    73.989   73.989     73.989  \n13    73.990   73.990     73.990  \n14    73.988   73.988     73.988  \n15    73.989   73.989     73.989  \n16    73.989   73.989     73.989  \n17    73.997   73.997     73.997  \n18    73.992   73.992     73.992  \n19    73.997   73.997     73.997  ",
      "text/html": "<div>\n<style scoped>\n    .dataframe tbody tr th:only-of-type {\n        vertical-align: middle;\n    }\n\n    .dataframe tbody tr th {\n        vertical-align: top;\n    }\n\n    .dataframe thead th {\n        text-align: right;\n    }\n</style>\n<table border=\"1\" class=\"dataframe\">\n  <thead>\n    <tr style=\"text-align: right;\">\n      <th></th>\n      <th>datetimesecond</th>\n      <th>open_bid</th>\n      <th>high_bid</th>\n      <th>low_bid</th>\n      <th>close_bid</th>\n      <th>open_ask</th>\n      <th>high_ask</th>\n      <th>low_ask</th>\n      <th>close_ask</th>\n    </tr>\n  </thead>\n  <tbody>\n    <tr>\n      <th>0</th>\n      <td>2021-12-01 09:00:01</td>\n      <td>73.947</td>\n      <td>73.947</td>\n      <td>73.947</td>\n      <td>73.947</td>\n      <td>73.990</td>\n      <td>73.990</td>\n      <td>73.990</td>\n      <td>73.990</td>\n    </tr>\n    <tr>\n      <th>1</th>\n      <td>2021-12-01 09:00:05</td>\n      <td>73.951</td>\n      <td>73.951</td>\n      <td>73.951</td>\n      <td>73.951</td>\n      <td>73.993</td>\n      <td>73.993</td>\n      <td>73.993</td>\n      <td>73.993</td>\n    </tr>\n    <tr>\n      <th>2</th>\n      <td>2021-12-01 09:00:07</td>\n      <td>73.949</td>\n      <td>73.949</td>\n      <td>73.949</td>\n      <td>73.949</td>\n      <td>73.989</td>\n      <td>73.989</td>\n      <td>73.989</td>\n      <td>73.989</td>\n    </tr>\n    <tr>\n      <th>3</th>\n      <td>2021-12-01 09:00:10</td>\n      <td>73.945</td>\n      <td>73.945</td>\n      <td>73.945</td>\n      <td>73.945</td>\n      <td>73.990</td>\n      <td>73.990</td>\n      <td>73.990</td>\n      <td>73.990</td>\n    </tr>\n    <tr>\n      <th>4</th>\n      <td>2021-12-01 09:00:11</td>\n      <td>73.946</td>\n      <td>73.946</td>\n      <td>73.946</td>\n      <td>73.946</td>\n      <td>73.988</td>\n      <td>73.988</td>\n      <td>73.988</td>\n      <td>73.988</td>\n    </tr>\n    <tr>\n      <th>5</th>\n      <td>2021-12-01 09:00:14</td>\n      <td>73.947</td>\n      <td>73.947</td>\n      <td>73.947</td>\n      <td>73.947</td>\n      <td>73.989</td>\n      <td>73.989</td>\n      <td>73.989</td>\n      <td>73.989</td>\n    </tr>\n    <tr>\n      <th>6</th>\n      <td>2021-12-01 09:00:15</td>\n      <td>73.949</td>\n      <td>73.949</td>\n      <td>73.949</td>\n      <td>73.949</td>\n      <td>73.989</td>\n      <td>73.989</td>\n      <td>73.989</td>\n      <td>73.989</td>\n    </tr>\n    <tr>\n      <th>7</th>\n      <td>2021-12-01 09:00:19</td>\n      <td>73.953</td>\n      <td>73.953</td>\n      <td>73.953</td>\n      <td>73.953</td>\n      <td>73.997</td>\n      <td>73.997</td>\n      <td>73.997</td>\n      <td>73.997</td>\n    </tr>\n    <tr>\n      <th>8</th>\n      <td>2021-12-01 09:00:21</td>\n      <td>73.951</td>\n      <td>73.951</td>\n      <td>73.951</td>\n      <td>73.951</td>\n      <td>73.992</td>\n      <td>73.992</td>\n      <td>73.992</td>\n      <td>73.992</td>\n    </tr>\n    <tr>\n      <th>9</th>\n      <td>2021-12-01 09:00:24</td>\n      <td>73.954</td>\n      <td>73.954</td>\n      <td>73.954</td>\n      <td>73.954</td>\n      <td>73.997</td>\n      <td>73.997</td>\n      <td>73.997</td>\n      <td>73.997</td>\n    </tr>\n    <tr>\n      <th>10</th>\n      <td>2021-12-01 09:00:01</td>\n      <td>739470.000</td>\n      <td>73.947</td>\n      <td>73.947</td>\n      <td>73.947</td>\n      <td>73.990</td>\n      <td>73.990</td>\n      <td>73.990</td>\n      <td>73.990</td>\n    </tr>\n    <tr>\n      <th>11</th>\n      <td>2021-12-01 09:00:05</td>\n      <td>739510.000</td>\n      <td>73.951</td>\n      <td>73.951</td>\n      <td>73.951</td>\n      <td>73.993</td>\n      <td>73.993</td>\n      <td>73.993</td>\n      <td>73.993</td>\n    </tr>\n    <tr>\n      <th>12</th>\n      <td>2021-12-01 09:00:07</td>\n      <td>739490.000</td>\n      <td>73.949</td>\n      <td>73.949</td>\n      <td>73.949</td>\n      <td>73.989</td>\n      <td>73.989</td>\n      <td>73.989</td>\n      <td>73.989</td>\n    </tr>\n    <tr>\n      <th>13</th>\n      <td>2021-12-01 09:00:10</td>\n      <td>739450.000</td>\n      <td>73.945</td>\n      <td>73.945</td>\n      <td>73.945</td>\n      <td>73.990</td>\n      <td>73.990</td>\n      <td>73.990</td>\n      <td>73.990</td>\n    </tr>\n    <tr>\n      <th>14</th>\n      <td>2021-12-01 09:00:11</td>\n      <td>739460.000</td>\n      <td>73.946</td>\n      <td>73.946</td>\n      <td>73.946</td>\n      <td>73.988</td>\n      <td>73.988</td>\n      <td>73.988</td>\n      <td>73.988</td>\n    </tr>\n    <tr>\n      <th>15</th>\n      <td>2021-12-01 09:00:14</td>\n      <td>739470.000</td>\n      <td>73.947</td>\n      <td>73.947</td>\n      <td>73.947</td>\n      <td>73.989</td>\n      <td>73.989</td>\n      <td>73.989</td>\n      <td>73.989</td>\n    </tr>\n    <tr>\n      <th>16</th>\n      <td>2021-12-01 09:00:15</td>\n      <td>739490.000</td>\n      <td>73.949</td>\n      <td>73.949</td>\n      <td>73.949</td>\n      <td>73.989</td>\n      <td>73.989</td>\n      <td>73.989</td>\n      <td>73.989</td>\n    </tr>\n    <tr>\n      <th>17</th>\n      <td>2021-12-01 09:00:19</td>\n      <td>739530.000</td>\n      <td>73.953</td>\n      <td>73.953</td>\n      <td>73.953</td>\n      <td>73.997</td>\n      <td>73.997</td>\n      <td>73.997</td>\n      <td>73.997</td>\n    </tr>\n    <tr>\n      <th>18</th>\n      <td>2021-12-01 09:00:21</td>\n      <td>739510.000</td>\n      <td>73.951</td>\n      <td>73.951</td>\n      <td>73.951</td>\n      <td>73.992</td>\n      <td>73.992</td>\n      <td>73.992</td>\n      <td>73.992</td>\n    </tr>\n    <tr>\n      <th>19</th>\n      <td>2021-12-01 09:00:24</td>\n      <td>739540.000</td>\n      <td>73.954</td>\n      <td>73.954</td>\n      <td>73.954</td>\n      <td>73.997</td>\n      <td>73.997</td>\n      <td>73.997</td>\n      <td>73.997</td>\n    </tr>\n  </tbody>\n</table>\n</div>"
     },
     "execution_count": 42,
     "metadata": {},
     "output_type": "execute_result"
    }
   ],
   "source": [
    "df_read"
   ],
   "metadata": {
    "collapsed": false,
    "pycharm": {
     "name": "#%%\n"
    }
   }
  },
  {
   "cell_type": "code",
   "execution_count": 18,
   "outputs": [],
   "source": [
    "df = df.head(10)"
   ],
   "metadata": {
    "collapsed": false,
    "pycharm": {
     "name": "#%%\n"
    }
   }
  },
  {
   "cell_type": "code",
   "execution_count": 6,
   "outputs": [
    {
     "data": {
      "text/plain": "             datetimesecond  open_bid  high_bid  low_bid  close_bid  open_ask  \\\n347557  2021-12-31 09:11:34    74.521    74.521   74.521     74.521    74.687   \n347558  2021-12-31 09:13:14    74.513    74.513   74.513     74.513    74.695   \n347559  2021-12-31 09:13:54    74.512    74.512   74.512     74.512    74.694   \n347560  2021-12-31 09:13:56    74.513    74.513   74.513     74.513    74.695   \n347561  2021-12-31 09:14:10    74.512    74.577   74.512     74.512    74.512   \n\n        high_ask  low_ask  close_ask  \n347557    74.687   74.687     74.687  \n347558    74.695   74.695     74.695  \n347559    74.694   74.694     74.694  \n347560    74.695   74.695     74.695  \n347561    74.694   74.599     74.694  ",
      "text/html": "<div>\n<style scoped>\n    .dataframe tbody tr th:only-of-type {\n        vertical-align: middle;\n    }\n\n    .dataframe tbody tr th {\n        vertical-align: top;\n    }\n\n    .dataframe thead th {\n        text-align: right;\n    }\n</style>\n<table border=\"1\" class=\"dataframe\">\n  <thead>\n    <tr style=\"text-align: right;\">\n      <th></th>\n      <th>datetimesecond</th>\n      <th>open_bid</th>\n      <th>high_bid</th>\n      <th>low_bid</th>\n      <th>close_bid</th>\n      <th>open_ask</th>\n      <th>high_ask</th>\n      <th>low_ask</th>\n      <th>close_ask</th>\n    </tr>\n  </thead>\n  <tbody>\n    <tr>\n      <th>347557</th>\n      <td>2021-12-31 09:11:34</td>\n      <td>74.521</td>\n      <td>74.521</td>\n      <td>74.521</td>\n      <td>74.521</td>\n      <td>74.687</td>\n      <td>74.687</td>\n      <td>74.687</td>\n      <td>74.687</td>\n    </tr>\n    <tr>\n      <th>347558</th>\n      <td>2021-12-31 09:13:14</td>\n      <td>74.513</td>\n      <td>74.513</td>\n      <td>74.513</td>\n      <td>74.513</td>\n      <td>74.695</td>\n      <td>74.695</td>\n      <td>74.695</td>\n      <td>74.695</td>\n    </tr>\n    <tr>\n      <th>347559</th>\n      <td>2021-12-31 09:13:54</td>\n      <td>74.512</td>\n      <td>74.512</td>\n      <td>74.512</td>\n      <td>74.512</td>\n      <td>74.694</td>\n      <td>74.694</td>\n      <td>74.694</td>\n      <td>74.694</td>\n    </tr>\n    <tr>\n      <th>347560</th>\n      <td>2021-12-31 09:13:56</td>\n      <td>74.513</td>\n      <td>74.513</td>\n      <td>74.513</td>\n      <td>74.513</td>\n      <td>74.695</td>\n      <td>74.695</td>\n      <td>74.695</td>\n      <td>74.695</td>\n    </tr>\n    <tr>\n      <th>347561</th>\n      <td>2021-12-31 09:14:10</td>\n      <td>74.512</td>\n      <td>74.577</td>\n      <td>74.512</td>\n      <td>74.512</td>\n      <td>74.512</td>\n      <td>74.694</td>\n      <td>74.599</td>\n      <td>74.694</td>\n    </tr>\n  </tbody>\n</table>\n</div>"
     },
     "execution_count": 6,
     "metadata": {},
     "output_type": "execute_result"
    }
   ],
   "source": [
    "df2 = df.tail(5).copy()\n",
    "df2"
   ],
   "metadata": {
    "collapsed": false,
    "pycharm": {
     "name": "#%%\n"
    }
   }
  },
  {
   "cell_type": "code",
   "execution_count": 3,
   "outputs": [
    {
     "data": {
      "text/plain": "        datetimesecond  open_bid  high_bid  low_bid  close_bid  open_ask  \\\n0  2021-12-01 09:00:01    73.947    73.947   73.947     73.947    73.990   \n1  2021-12-01 09:00:05    73.951    73.951   73.951     73.951    73.993   \n2  2021-12-01 09:00:07    73.949    73.949   73.949     73.949    73.989   \n3  2021-12-01 09:00:10    73.945    73.945   73.945     73.945    73.990   \n4  2021-12-01 09:00:11    73.946    73.946   73.946     73.946    73.988   \n\n   high_ask  low_ask  close_ask  \n0    73.990   73.990     73.990  \n1    73.993   73.993     73.993  \n2    73.989   73.989     73.989  \n3    73.990   73.990     73.990  \n4    73.988   73.988     73.988  ",
      "text/html": "<div>\n<style scoped>\n    .dataframe tbody tr th:only-of-type {\n        vertical-align: middle;\n    }\n\n    .dataframe tbody tr th {\n        vertical-align: top;\n    }\n\n    .dataframe thead th {\n        text-align: right;\n    }\n</style>\n<table border=\"1\" class=\"dataframe\">\n  <thead>\n    <tr style=\"text-align: right;\">\n      <th></th>\n      <th>datetimesecond</th>\n      <th>open_bid</th>\n      <th>high_bid</th>\n      <th>low_bid</th>\n      <th>close_bid</th>\n      <th>open_ask</th>\n      <th>high_ask</th>\n      <th>low_ask</th>\n      <th>close_ask</th>\n    </tr>\n  </thead>\n  <tbody>\n    <tr>\n      <th>0</th>\n      <td>2021-12-01 09:00:01</td>\n      <td>73.947</td>\n      <td>73.947</td>\n      <td>73.947</td>\n      <td>73.947</td>\n      <td>73.990</td>\n      <td>73.990</td>\n      <td>73.990</td>\n      <td>73.990</td>\n    </tr>\n    <tr>\n      <th>1</th>\n      <td>2021-12-01 09:00:05</td>\n      <td>73.951</td>\n      <td>73.951</td>\n      <td>73.951</td>\n      <td>73.951</td>\n      <td>73.993</td>\n      <td>73.993</td>\n      <td>73.993</td>\n      <td>73.993</td>\n    </tr>\n    <tr>\n      <th>2</th>\n      <td>2021-12-01 09:00:07</td>\n      <td>73.949</td>\n      <td>73.949</td>\n      <td>73.949</td>\n      <td>73.949</td>\n      <td>73.989</td>\n      <td>73.989</td>\n      <td>73.989</td>\n      <td>73.989</td>\n    </tr>\n    <tr>\n      <th>3</th>\n      <td>2021-12-01 09:00:10</td>\n      <td>73.945</td>\n      <td>73.945</td>\n      <td>73.945</td>\n      <td>73.945</td>\n      <td>73.990</td>\n      <td>73.990</td>\n      <td>73.990</td>\n      <td>73.990</td>\n    </tr>\n    <tr>\n      <th>4</th>\n      <td>2021-12-01 09:00:11</td>\n      <td>73.946</td>\n      <td>73.946</td>\n      <td>73.946</td>\n      <td>73.946</td>\n      <td>73.988</td>\n      <td>73.988</td>\n      <td>73.988</td>\n      <td>73.988</td>\n    </tr>\n  </tbody>\n</table>\n</div>"
     },
     "execution_count": 3,
     "metadata": {},
     "output_type": "execute_result"
    }
   ],
   "source": [
    "df1 = df.head(5).copy()\n",
    "df1"
   ],
   "metadata": {
    "collapsed": false,
    "pycharm": {
     "name": "#%%\n"
    }
   }
  },
  {
   "cell_type": "code",
   "execution_count": 7,
   "outputs": [
    {
     "data": {
      "text/plain": "        datetimesecond  open_bid  high_bid  low_bid  close_bid  open_ask  \\\n0  2021-12-01 09:00:01    73.947    73.947   73.947     73.947    73.990   \n1  2021-12-01 09:00:05    73.951    73.951   73.951     73.951    73.993   \n2  2021-12-01 09:00:07    73.949    73.949   73.949     73.949    73.989   \n3  2021-12-01 09:00:10    73.945    73.945   73.945     73.945    73.990   \n4  2021-12-01 09:00:11    73.946    73.946   73.946     73.946    73.988   \n5  2021-12-31 09:11:34    74.521    74.521   74.521     74.521    74.687   \n6  2021-12-31 09:13:14    74.513    74.513   74.513     74.513    74.695   \n7  2021-12-31 09:13:54    74.512    74.512   74.512     74.512    74.694   \n8  2021-12-31 09:13:56    74.513    74.513   74.513     74.513    74.695   \n9  2021-12-31 09:14:10    74.512    74.577   74.512     74.512    74.512   \n\n   high_ask  low_ask  close_ask  \n0    73.990   73.990     73.990  \n1    73.993   73.993     73.993  \n2    73.989   73.989     73.989  \n3    73.990   73.990     73.990  \n4    73.988   73.988     73.988  \n5    74.687   74.687     74.687  \n6    74.695   74.695     74.695  \n7    74.694   74.694     74.694  \n8    74.695   74.695     74.695  \n9    74.694   74.599     74.694  ",
      "text/html": "<div>\n<style scoped>\n    .dataframe tbody tr th:only-of-type {\n        vertical-align: middle;\n    }\n\n    .dataframe tbody tr th {\n        vertical-align: top;\n    }\n\n    .dataframe thead th {\n        text-align: right;\n    }\n</style>\n<table border=\"1\" class=\"dataframe\">\n  <thead>\n    <tr style=\"text-align: right;\">\n      <th></th>\n      <th>datetimesecond</th>\n      <th>open_bid</th>\n      <th>high_bid</th>\n      <th>low_bid</th>\n      <th>close_bid</th>\n      <th>open_ask</th>\n      <th>high_ask</th>\n      <th>low_ask</th>\n      <th>close_ask</th>\n    </tr>\n  </thead>\n  <tbody>\n    <tr>\n      <th>0</th>\n      <td>2021-12-01 09:00:01</td>\n      <td>73.947</td>\n      <td>73.947</td>\n      <td>73.947</td>\n      <td>73.947</td>\n      <td>73.990</td>\n      <td>73.990</td>\n      <td>73.990</td>\n      <td>73.990</td>\n    </tr>\n    <tr>\n      <th>1</th>\n      <td>2021-12-01 09:00:05</td>\n      <td>73.951</td>\n      <td>73.951</td>\n      <td>73.951</td>\n      <td>73.951</td>\n      <td>73.993</td>\n      <td>73.993</td>\n      <td>73.993</td>\n      <td>73.993</td>\n    </tr>\n    <tr>\n      <th>2</th>\n      <td>2021-12-01 09:00:07</td>\n      <td>73.949</td>\n      <td>73.949</td>\n      <td>73.949</td>\n      <td>73.949</td>\n      <td>73.989</td>\n      <td>73.989</td>\n      <td>73.989</td>\n      <td>73.989</td>\n    </tr>\n    <tr>\n      <th>3</th>\n      <td>2021-12-01 09:00:10</td>\n      <td>73.945</td>\n      <td>73.945</td>\n      <td>73.945</td>\n      <td>73.945</td>\n      <td>73.990</td>\n      <td>73.990</td>\n      <td>73.990</td>\n      <td>73.990</td>\n    </tr>\n    <tr>\n      <th>4</th>\n      <td>2021-12-01 09:00:11</td>\n      <td>73.946</td>\n      <td>73.946</td>\n      <td>73.946</td>\n      <td>73.946</td>\n      <td>73.988</td>\n      <td>73.988</td>\n      <td>73.988</td>\n      <td>73.988</td>\n    </tr>\n    <tr>\n      <th>5</th>\n      <td>2021-12-31 09:11:34</td>\n      <td>74.521</td>\n      <td>74.521</td>\n      <td>74.521</td>\n      <td>74.521</td>\n      <td>74.687</td>\n      <td>74.687</td>\n      <td>74.687</td>\n      <td>74.687</td>\n    </tr>\n    <tr>\n      <th>6</th>\n      <td>2021-12-31 09:13:14</td>\n      <td>74.513</td>\n      <td>74.513</td>\n      <td>74.513</td>\n      <td>74.513</td>\n      <td>74.695</td>\n      <td>74.695</td>\n      <td>74.695</td>\n      <td>74.695</td>\n    </tr>\n    <tr>\n      <th>7</th>\n      <td>2021-12-31 09:13:54</td>\n      <td>74.512</td>\n      <td>74.512</td>\n      <td>74.512</td>\n      <td>74.512</td>\n      <td>74.694</td>\n      <td>74.694</td>\n      <td>74.694</td>\n      <td>74.694</td>\n    </tr>\n    <tr>\n      <th>8</th>\n      <td>2021-12-31 09:13:56</td>\n      <td>74.513</td>\n      <td>74.513</td>\n      <td>74.513</td>\n      <td>74.513</td>\n      <td>74.695</td>\n      <td>74.695</td>\n      <td>74.695</td>\n      <td>74.695</td>\n    </tr>\n    <tr>\n      <th>9</th>\n      <td>2021-12-31 09:14:10</td>\n      <td>74.512</td>\n      <td>74.577</td>\n      <td>74.512</td>\n      <td>74.512</td>\n      <td>74.512</td>\n      <td>74.694</td>\n      <td>74.599</td>\n      <td>74.694</td>\n    </tr>\n  </tbody>\n</table>\n</div>"
     },
     "execution_count": 7,
     "metadata": {},
     "output_type": "execute_result"
    }
   ],
   "source": [
    "df3 = pd.concat([df1, df2], ignore_index=True)\n",
    "df3"
   ],
   "metadata": {
    "collapsed": false,
    "pycharm": {
     "name": "#%%\n"
    }
   }
  },
  {
   "cell_type": "code",
   "execution_count": null,
   "outputs": [],
   "source": [],
   "metadata": {
    "collapsed": false,
    "pycharm": {
     "name": "#%%\n"
    }
   }
  },
  {
   "cell_type": "code",
   "execution_count": 62,
   "outputs": [
    {
     "name": "stderr",
     "output_type": "stream",
     "text": [
      "d:\\it\\pr\\mypython\\venv\\lib\\site-packages\\pandas\\core\\indexing.py:1732: SettingWithCopyWarning: \n",
      "A value is trying to be set on a copy of a slice from a DataFrame\n",
      "\n",
      "See the caveats in the documentation: https://pandas.pydata.org/pandas-docs/stable/user_guide/indexing.html#returning-a-view-versus-a-copy\n",
      "  self._setitem_single_block(indexer, value, name)\n"
     ]
    }
   ],
   "source": [
    "df1['datetimesecond'].iloc[0] = '2021-12-02 09:00:01'"
   ],
   "metadata": {
    "collapsed": false,
    "pycharm": {
     "name": "#%%\n"
    }
   }
  },
  {
   "cell_type": "code",
   "execution_count": 4,
   "outputs": [],
   "source": [
    "# исключить из df1 строки, где datetimesecond в df есть\n",
    "df2 = df1[~df1['datetimesecond'].isin(df['datetimesecond'])]"
   ],
   "metadata": {
    "collapsed": false,
    "pycharm": {
     "name": "#%%\n"
    }
   }
  },
  {
   "cell_type": "code",
   "execution_count": 5,
   "outputs": [
    {
     "data": {
      "text/plain": "Empty DataFrame\nColumns: [datetimesecond, open_bid, high_bid, low_bid, close_bid, open_ask, high_ask, low_ask, close_ask]\nIndex: []",
      "text/html": "<div>\n<style scoped>\n    .dataframe tbody tr th:only-of-type {\n        vertical-align: middle;\n    }\n\n    .dataframe tbody tr th {\n        vertical-align: top;\n    }\n\n    .dataframe thead th {\n        text-align: right;\n    }\n</style>\n<table border=\"1\" class=\"dataframe\">\n  <thead>\n    <tr style=\"text-align: right;\">\n      <th></th>\n      <th>datetimesecond</th>\n      <th>open_bid</th>\n      <th>high_bid</th>\n      <th>low_bid</th>\n      <th>close_bid</th>\n      <th>open_ask</th>\n      <th>high_ask</th>\n      <th>low_ask</th>\n      <th>close_ask</th>\n    </tr>\n  </thead>\n  <tbody>\n  </tbody>\n</table>\n</div>"
     },
     "execution_count": 5,
     "metadata": {},
     "output_type": "execute_result"
    }
   ],
   "source": [
    "df2"
   ],
   "metadata": {
    "collapsed": false,
    "pycharm": {
     "name": "#%%\n"
    }
   }
  },
  {
   "cell_type": "code",
   "execution_count": 59,
   "outputs": [
    {
     "data": {
      "text/plain": "         datetimesecond    open_bid  high_bid  low_bid  close_bid  open_ask  \\\n0   2021-12-01 09:00:01      73.947    73.947   73.947     73.947    73.990   \n1   2021-12-01 09:00:05      73.951    73.951   73.951     73.951    73.993   \n2   2021-12-01 09:00:07      73.949    73.949   73.949     73.949    73.989   \n3   2021-12-01 09:00:10      73.945    73.945   73.945     73.945    73.990   \n4   2021-12-01 09:00:11      73.946    73.946   73.946     73.946    73.988   \n5   2021-12-01 09:00:14      73.947    73.947   73.947     73.947    73.989   \n6   2021-12-01 09:00:15      73.949    73.949   73.949     73.949    73.989   \n7   2021-12-01 09:00:19      73.953    73.953   73.953     73.953    73.997   \n8   2021-12-01 09:00:21      73.951    73.951   73.951     73.951    73.992   \n9   2021-12-01 09:00:24      73.954    73.954   73.954     73.954    73.997   \n10  2021-12-01 09:00:01  739470.000    73.947   73.947     73.947    73.990   \n11  2021-12-01 09:00:05  739510.000    73.951   73.951     73.951    73.993   \n12  2021-12-01 09:00:07  739490.000    73.949   73.949     73.949    73.989   \n13  2021-12-01 09:00:10  739450.000    73.945   73.945     73.945    73.990   \n14  2021-12-01 09:00:11  739460.000    73.946   73.946     73.946    73.988   \n15  2021-12-01 09:00:14  739470.000    73.947   73.947     73.947    73.989   \n16  2021-12-01 09:00:15  739490.000    73.949   73.949     73.949    73.989   \n17  2021-12-01 09:00:19  739530.000    73.953   73.953     73.953    73.997   \n18  2021-12-01 09:00:21  739510.000    73.951   73.951     73.951    73.992   \n19  2021-12-01 09:00:24  739540.000    73.954   73.954     73.954    73.997   \n20  2021-12-01 09:00:01     739.470    73.947   73.947     73.947    73.990   \n21  2021-12-01 09:00:05     739.510    73.951   73.951     73.951    73.993   \n22  2021-12-01 09:00:07     739.490    73.949   73.949     73.949    73.989   \n23  2021-12-01 09:00:10     739.450    73.945   73.945     73.945    73.990   \n24  2021-12-01 09:00:11     739.460    73.946   73.946     73.946    73.988   \n\n    high_ask  low_ask  close_ask  \n0     73.990   73.990     73.990  \n1     73.993   73.993     73.993  \n2     73.989   73.989     73.989  \n3     73.990   73.990     73.990  \n4     73.988   73.988     73.988  \n5     73.989   73.989     73.989  \n6     73.989   73.989     73.989  \n7     73.997   73.997     73.997  \n8     73.992   73.992     73.992  \n9     73.997   73.997     73.997  \n10    73.990   73.990     73.990  \n11    73.993   73.993     73.993  \n12    73.989   73.989     73.989  \n13    73.990   73.990     73.990  \n14    73.988   73.988     73.988  \n15    73.989   73.989     73.989  \n16    73.989   73.989     73.989  \n17    73.997   73.997     73.997  \n18    73.992   73.992     73.992  \n19    73.997   73.997     73.997  \n20    73.990   73.990     73.990  \n21    73.993   73.993     73.993  \n22    73.989   73.989     73.989  \n23    73.990   73.990     73.990  \n24    73.988   73.988     73.988  ",
      "text/html": "<div>\n<style scoped>\n    .dataframe tbody tr th:only-of-type {\n        vertical-align: middle;\n    }\n\n    .dataframe tbody tr th {\n        vertical-align: top;\n    }\n\n    .dataframe thead th {\n        text-align: right;\n    }\n</style>\n<table border=\"1\" class=\"dataframe\">\n  <thead>\n    <tr style=\"text-align: right;\">\n      <th></th>\n      <th>datetimesecond</th>\n      <th>open_bid</th>\n      <th>high_bid</th>\n      <th>low_bid</th>\n      <th>close_bid</th>\n      <th>open_ask</th>\n      <th>high_ask</th>\n      <th>low_ask</th>\n      <th>close_ask</th>\n    </tr>\n  </thead>\n  <tbody>\n    <tr>\n      <th>0</th>\n      <td>2021-12-01 09:00:01</td>\n      <td>73.947</td>\n      <td>73.947</td>\n      <td>73.947</td>\n      <td>73.947</td>\n      <td>73.990</td>\n      <td>73.990</td>\n      <td>73.990</td>\n      <td>73.990</td>\n    </tr>\n    <tr>\n      <th>1</th>\n      <td>2021-12-01 09:00:05</td>\n      <td>73.951</td>\n      <td>73.951</td>\n      <td>73.951</td>\n      <td>73.951</td>\n      <td>73.993</td>\n      <td>73.993</td>\n      <td>73.993</td>\n      <td>73.993</td>\n    </tr>\n    <tr>\n      <th>2</th>\n      <td>2021-12-01 09:00:07</td>\n      <td>73.949</td>\n      <td>73.949</td>\n      <td>73.949</td>\n      <td>73.949</td>\n      <td>73.989</td>\n      <td>73.989</td>\n      <td>73.989</td>\n      <td>73.989</td>\n    </tr>\n    <tr>\n      <th>3</th>\n      <td>2021-12-01 09:00:10</td>\n      <td>73.945</td>\n      <td>73.945</td>\n      <td>73.945</td>\n      <td>73.945</td>\n      <td>73.990</td>\n      <td>73.990</td>\n      <td>73.990</td>\n      <td>73.990</td>\n    </tr>\n    <tr>\n      <th>4</th>\n      <td>2021-12-01 09:00:11</td>\n      <td>73.946</td>\n      <td>73.946</td>\n      <td>73.946</td>\n      <td>73.946</td>\n      <td>73.988</td>\n      <td>73.988</td>\n      <td>73.988</td>\n      <td>73.988</td>\n    </tr>\n    <tr>\n      <th>5</th>\n      <td>2021-12-01 09:00:14</td>\n      <td>73.947</td>\n      <td>73.947</td>\n      <td>73.947</td>\n      <td>73.947</td>\n      <td>73.989</td>\n      <td>73.989</td>\n      <td>73.989</td>\n      <td>73.989</td>\n    </tr>\n    <tr>\n      <th>6</th>\n      <td>2021-12-01 09:00:15</td>\n      <td>73.949</td>\n      <td>73.949</td>\n      <td>73.949</td>\n      <td>73.949</td>\n      <td>73.989</td>\n      <td>73.989</td>\n      <td>73.989</td>\n      <td>73.989</td>\n    </tr>\n    <tr>\n      <th>7</th>\n      <td>2021-12-01 09:00:19</td>\n      <td>73.953</td>\n      <td>73.953</td>\n      <td>73.953</td>\n      <td>73.953</td>\n      <td>73.997</td>\n      <td>73.997</td>\n      <td>73.997</td>\n      <td>73.997</td>\n    </tr>\n    <tr>\n      <th>8</th>\n      <td>2021-12-01 09:00:21</td>\n      <td>73.951</td>\n      <td>73.951</td>\n      <td>73.951</td>\n      <td>73.951</td>\n      <td>73.992</td>\n      <td>73.992</td>\n      <td>73.992</td>\n      <td>73.992</td>\n    </tr>\n    <tr>\n      <th>9</th>\n      <td>2021-12-01 09:00:24</td>\n      <td>73.954</td>\n      <td>73.954</td>\n      <td>73.954</td>\n      <td>73.954</td>\n      <td>73.997</td>\n      <td>73.997</td>\n      <td>73.997</td>\n      <td>73.997</td>\n    </tr>\n    <tr>\n      <th>10</th>\n      <td>2021-12-01 09:00:01</td>\n      <td>739470.000</td>\n      <td>73.947</td>\n      <td>73.947</td>\n      <td>73.947</td>\n      <td>73.990</td>\n      <td>73.990</td>\n      <td>73.990</td>\n      <td>73.990</td>\n    </tr>\n    <tr>\n      <th>11</th>\n      <td>2021-12-01 09:00:05</td>\n      <td>739510.000</td>\n      <td>73.951</td>\n      <td>73.951</td>\n      <td>73.951</td>\n      <td>73.993</td>\n      <td>73.993</td>\n      <td>73.993</td>\n      <td>73.993</td>\n    </tr>\n    <tr>\n      <th>12</th>\n      <td>2021-12-01 09:00:07</td>\n      <td>739490.000</td>\n      <td>73.949</td>\n      <td>73.949</td>\n      <td>73.949</td>\n      <td>73.989</td>\n      <td>73.989</td>\n      <td>73.989</td>\n      <td>73.989</td>\n    </tr>\n    <tr>\n      <th>13</th>\n      <td>2021-12-01 09:00:10</td>\n      <td>739450.000</td>\n      <td>73.945</td>\n      <td>73.945</td>\n      <td>73.945</td>\n      <td>73.990</td>\n      <td>73.990</td>\n      <td>73.990</td>\n      <td>73.990</td>\n    </tr>\n    <tr>\n      <th>14</th>\n      <td>2021-12-01 09:00:11</td>\n      <td>739460.000</td>\n      <td>73.946</td>\n      <td>73.946</td>\n      <td>73.946</td>\n      <td>73.988</td>\n      <td>73.988</td>\n      <td>73.988</td>\n      <td>73.988</td>\n    </tr>\n    <tr>\n      <th>15</th>\n      <td>2021-12-01 09:00:14</td>\n      <td>739470.000</td>\n      <td>73.947</td>\n      <td>73.947</td>\n      <td>73.947</td>\n      <td>73.989</td>\n      <td>73.989</td>\n      <td>73.989</td>\n      <td>73.989</td>\n    </tr>\n    <tr>\n      <th>16</th>\n      <td>2021-12-01 09:00:15</td>\n      <td>739490.000</td>\n      <td>73.949</td>\n      <td>73.949</td>\n      <td>73.949</td>\n      <td>73.989</td>\n      <td>73.989</td>\n      <td>73.989</td>\n      <td>73.989</td>\n    </tr>\n    <tr>\n      <th>17</th>\n      <td>2021-12-01 09:00:19</td>\n      <td>739530.000</td>\n      <td>73.953</td>\n      <td>73.953</td>\n      <td>73.953</td>\n      <td>73.997</td>\n      <td>73.997</td>\n      <td>73.997</td>\n      <td>73.997</td>\n    </tr>\n    <tr>\n      <th>18</th>\n      <td>2021-12-01 09:00:21</td>\n      <td>739510.000</td>\n      <td>73.951</td>\n      <td>73.951</td>\n      <td>73.951</td>\n      <td>73.992</td>\n      <td>73.992</td>\n      <td>73.992</td>\n      <td>73.992</td>\n    </tr>\n    <tr>\n      <th>19</th>\n      <td>2021-12-01 09:00:24</td>\n      <td>739540.000</td>\n      <td>73.954</td>\n      <td>73.954</td>\n      <td>73.954</td>\n      <td>73.997</td>\n      <td>73.997</td>\n      <td>73.997</td>\n      <td>73.997</td>\n    </tr>\n    <tr>\n      <th>20</th>\n      <td>2021-12-01 09:00:01</td>\n      <td>739.470</td>\n      <td>73.947</td>\n      <td>73.947</td>\n      <td>73.947</td>\n      <td>73.990</td>\n      <td>73.990</td>\n      <td>73.990</td>\n      <td>73.990</td>\n    </tr>\n    <tr>\n      <th>21</th>\n      <td>2021-12-01 09:00:05</td>\n      <td>739.510</td>\n      <td>73.951</td>\n      <td>73.951</td>\n      <td>73.951</td>\n      <td>73.993</td>\n      <td>73.993</td>\n      <td>73.993</td>\n      <td>73.993</td>\n    </tr>\n    <tr>\n      <th>22</th>\n      <td>2021-12-01 09:00:07</td>\n      <td>739.490</td>\n      <td>73.949</td>\n      <td>73.949</td>\n      <td>73.949</td>\n      <td>73.989</td>\n      <td>73.989</td>\n      <td>73.989</td>\n      <td>73.989</td>\n    </tr>\n    <tr>\n      <th>23</th>\n      <td>2021-12-01 09:00:10</td>\n      <td>739.450</td>\n      <td>73.945</td>\n      <td>73.945</td>\n      <td>73.945</td>\n      <td>73.990</td>\n      <td>73.990</td>\n      <td>73.990</td>\n      <td>73.990</td>\n    </tr>\n    <tr>\n      <th>24</th>\n      <td>2021-12-01 09:00:11</td>\n      <td>739.460</td>\n      <td>73.946</td>\n      <td>73.946</td>\n      <td>73.946</td>\n      <td>73.988</td>\n      <td>73.988</td>\n      <td>73.988</td>\n      <td>73.988</td>\n    </tr>\n  </tbody>\n</table>\n</div>"
     },
     "execution_count": 59,
     "metadata": {},
     "output_type": "execute_result"
    }
   ],
   "source": [
    "df"
   ],
   "metadata": {
    "collapsed": false,
    "pycharm": {
     "name": "#%%\n"
    }
   }
  },
  {
   "cell_type": "code",
   "execution_count": null,
   "outputs": [],
   "source": [],
   "metadata": {
    "collapsed": false,
    "pycharm": {
     "name": "#%%\n"
    }
   }
  },
  {
   "cell_type": "code",
   "execution_count": 9,
   "outputs": [],
   "source": [
    "connection = psycopg2.connect(\n",
    "                host='127.0.0.1',\n",
    "                user='postgres',\n",
    "                password='11',\n",
    "                database='test2'\n",
    "            )\n",
    "connection.autocommit = True\n",
    "\n",
    "cursor = connection.cursor()"
   ],
   "metadata": {
    "collapsed": false,
    "pycharm": {
     "name": "#%%\n"
    }
   }
  },
  {
   "cell_type": "code",
   "execution_count": 14,
   "outputs": [],
   "source": [
    "cursor.execute(f'''SELECT * FROM public.profile_app_appuser''')"
   ],
   "metadata": {
    "collapsed": false,
    "pycharm": {
     "name": "#%%\n"
    }
   }
  },
  {
   "cell_type": "code",
   "execution_count": 15,
   "outputs": [],
   "source": [
    "date_select = cursor.fetchall()"
   ],
   "metadata": {
    "collapsed": false,
    "pycharm": {
     "name": "#%%\n"
    }
   }
  },
  {
   "cell_type": "code",
   "execution_count": 16,
   "outputs": [],
   "source": [
    "my_array = np.asarray(date_select)"
   ],
   "metadata": {
    "collapsed": false,
    "pycharm": {
     "name": "#%%\n"
    }
   }
  },
  {
   "cell_type": "code",
   "execution_count": 18,
   "outputs": [
    {
     "data": {
      "text/plain": "   0                                                  1   \\\n0   4  pbkdf2_sha256$216000$MUPwu3T6EwEH$9iwq+MJdxKTM...   \n1   5                                         vvvv032969   \n2   1  pbkdf2_sha256$216000$Q65DprpVn1il$4Sjfv3TrdTA8...   \n3  22  pbkdf2_sha256$216000$lAuZKatvyKs2$JfzSmGlDHMUg...   \n4  21  pbkdf2_sha256$216000$gxe9bTfliRwA$sfpuliudmICY...   \n5   3  pbkdf2_sha256$216000$HN2uvp4bqbRB$JE9qKcN4m5Xe...   \n\n                                2      3                      4   \\\n0 2022-12-29 20:09:22.881553+03:00  False       mirina83@list.ru   \n1                              NaT   True                 admin1   \n2 2023-01-16 16:48:44.716429+03:00   True                  admin   \n3 2023-02-02 22:37:59.134711+03:00   True   mirina1783@gmail.com   \n4                              NaT  False  alermar6917@gmail.com   \n5 2023-01-03 00:01:38.015501+03:00   True                   alex   \n\n              5             6                      7      8     9   \\\n0          Новый  Пользователь       mirina83@list.ru  False  True   \n1  Администратор       Майоров    alermar96@yandex.ru  False  True   \n2          Новый  Пользователь      alermar69@mail.ru   True  True   \n3          Новый  Пользователь   mirina1783@gmail.com   True  True   \n4          Новый  Пользователь  alermar6917@gmail.com  False  True   \n5          Новый  Пользователь    alermar17@gmail.com   True  True   \n\n                         10 11 12            13 14        15  \\\n0 2022-01-18 12:48:00+03:00     0  +79234567890     customer   \n1 2022-01-20 11:08:51+03:00     0                      admin   \n2 2021-10-28 18:09:54+03:00     0                   designer   \n3 2023-01-12 21:33:04+03:00     0                      admin   \n4 2023-01-12 21:28:49+03:00     0                   designer   \n5 2021-11-10 16:49:30+03:00     0                      admin   \n\n                                16           17  \n0 2022-12-29 20:15:07.054717+03:00  10737418240  \n1                              NaT  10737418240  \n2 2023-01-17 23:17:16.900045+03:00  10737418240  \n3 2023-02-12 19:23:59.066624+03:00  10737418240  \n4                              NaT  10737418240  \n5 2023-01-14 00:50:00.867003+03:00  10737418240  ",
      "text/html": "<div>\n<style scoped>\n    .dataframe tbody tr th:only-of-type {\n        vertical-align: middle;\n    }\n\n    .dataframe tbody tr th {\n        vertical-align: top;\n    }\n\n    .dataframe thead th {\n        text-align: right;\n    }\n</style>\n<table border=\"1\" class=\"dataframe\">\n  <thead>\n    <tr style=\"text-align: right;\">\n      <th></th>\n      <th>0</th>\n      <th>1</th>\n      <th>2</th>\n      <th>3</th>\n      <th>4</th>\n      <th>5</th>\n      <th>6</th>\n      <th>7</th>\n      <th>8</th>\n      <th>9</th>\n      <th>10</th>\n      <th>11</th>\n      <th>12</th>\n      <th>13</th>\n      <th>14</th>\n      <th>15</th>\n      <th>16</th>\n      <th>17</th>\n    </tr>\n  </thead>\n  <tbody>\n    <tr>\n      <th>0</th>\n      <td>4</td>\n      <td>pbkdf2_sha256$216000$MUPwu3T6EwEH$9iwq+MJdxKTM...</td>\n      <td>2022-12-29 20:09:22.881553+03:00</td>\n      <td>False</td>\n      <td>mirina83@list.ru</td>\n      <td>Новый</td>\n      <td>Пользователь</td>\n      <td>mirina83@list.ru</td>\n      <td>False</td>\n      <td>True</td>\n      <td>2022-01-18 12:48:00+03:00</td>\n      <td></td>\n      <td>0</td>\n      <td>+79234567890</td>\n      <td></td>\n      <td>customer</td>\n      <td>2022-12-29 20:15:07.054717+03:00</td>\n      <td>10737418240</td>\n    </tr>\n    <tr>\n      <th>1</th>\n      <td>5</td>\n      <td>vvvv032969</td>\n      <td>NaT</td>\n      <td>True</td>\n      <td>admin1</td>\n      <td>Администратор</td>\n      <td>Майоров</td>\n      <td>alermar96@yandex.ru</td>\n      <td>False</td>\n      <td>True</td>\n      <td>2022-01-20 11:08:51+03:00</td>\n      <td></td>\n      <td>0</td>\n      <td></td>\n      <td></td>\n      <td>admin</td>\n      <td>NaT</td>\n      <td>10737418240</td>\n    </tr>\n    <tr>\n      <th>2</th>\n      <td>1</td>\n      <td>pbkdf2_sha256$216000$Q65DprpVn1il$4Sjfv3TrdTA8...</td>\n      <td>2023-01-16 16:48:44.716429+03:00</td>\n      <td>True</td>\n      <td>admin</td>\n      <td>Новый</td>\n      <td>Пользователь</td>\n      <td>alermar69@mail.ru</td>\n      <td>True</td>\n      <td>True</td>\n      <td>2021-10-28 18:09:54+03:00</td>\n      <td></td>\n      <td>0</td>\n      <td></td>\n      <td></td>\n      <td>designer</td>\n      <td>2023-01-17 23:17:16.900045+03:00</td>\n      <td>10737418240</td>\n    </tr>\n    <tr>\n      <th>3</th>\n      <td>22</td>\n      <td>pbkdf2_sha256$216000$lAuZKatvyKs2$JfzSmGlDHMUg...</td>\n      <td>2023-02-02 22:37:59.134711+03:00</td>\n      <td>True</td>\n      <td>mirina1783@gmail.com</td>\n      <td>Новый</td>\n      <td>Пользователь</td>\n      <td>mirina1783@gmail.com</td>\n      <td>True</td>\n      <td>True</td>\n      <td>2023-01-12 21:33:04+03:00</td>\n      <td></td>\n      <td>0</td>\n      <td></td>\n      <td></td>\n      <td>admin</td>\n      <td>2023-02-12 19:23:59.066624+03:00</td>\n      <td>10737418240</td>\n    </tr>\n    <tr>\n      <th>4</th>\n      <td>21</td>\n      <td>pbkdf2_sha256$216000$gxe9bTfliRwA$sfpuliudmICY...</td>\n      <td>NaT</td>\n      <td>False</td>\n      <td>alermar6917@gmail.com</td>\n      <td>Новый</td>\n      <td>Пользователь</td>\n      <td>alermar6917@gmail.com</td>\n      <td>False</td>\n      <td>True</td>\n      <td>2023-01-12 21:28:49+03:00</td>\n      <td></td>\n      <td>0</td>\n      <td></td>\n      <td></td>\n      <td>designer</td>\n      <td>NaT</td>\n      <td>10737418240</td>\n    </tr>\n    <tr>\n      <th>5</th>\n      <td>3</td>\n      <td>pbkdf2_sha256$216000$HN2uvp4bqbRB$JE9qKcN4m5Xe...</td>\n      <td>2023-01-03 00:01:38.015501+03:00</td>\n      <td>True</td>\n      <td>alex</td>\n      <td>Новый</td>\n      <td>Пользователь</td>\n      <td>alermar17@gmail.com</td>\n      <td>True</td>\n      <td>True</td>\n      <td>2021-11-10 16:49:30+03:00</td>\n      <td></td>\n      <td>0</td>\n      <td></td>\n      <td></td>\n      <td>admin</td>\n      <td>2023-01-14 00:50:00.867003+03:00</td>\n      <td>10737418240</td>\n    </tr>\n  </tbody>\n</table>\n</div>"
     },
     "execution_count": 18,
     "metadata": {},
     "output_type": "execute_result"
    }
   ],
   "source": [
    "df = pd.DataFrame(my_array)\n",
    "df"
   ],
   "metadata": {
    "collapsed": false,
    "pycharm": {
     "name": "#%%\n"
    }
   }
  },
  {
   "cell_type": "code",
   "execution_count": null,
   "outputs": [],
   "source": [],
   "metadata": {
    "collapsed": false,
    "pycharm": {
     "name": "#%%\n"
    }
   }
  },
  {
   "cell_type": "code",
   "execution_count": 55,
   "outputs": [],
   "source": [
    "import time"
   ],
   "metadata": {
    "collapsed": false,
    "pycharm": {
     "name": "#%%\n"
    }
   }
  },
  {
   "cell_type": "code",
   "execution_count": 56,
   "outputs": [
    {
     "data": {
      "text/plain": "('2023', '01', '23')"
     },
     "execution_count": 56,
     "metadata": {},
     "output_type": "execute_result"
    }
   ],
   "source": [
    "# текущий год месяц день\n",
    "year = time.strftime(\"%Y\")\n",
    "month = time.strftime(\"%m\")\n",
    "day = time.strftime(\"%d\")\n",
    "year, month, day"
   ],
   "metadata": {
    "collapsed": false,
    "pycharm": {
     "name": "#%%\n"
    }
   }
  },
  {
   "cell_type": "code",
   "execution_count": 58,
   "outputs": [
    {
     "data": {
      "text/plain": "(2023, 1, 23)"
     },
     "execution_count": 58,
     "metadata": {},
     "output_type": "execute_result"
    }
   ],
   "source": [
    "year_month_day = time.localtime(time.time())\n",
    "year = year_month_day[0]\n",
    "month = year_month_day[1]\n",
    "day = year_month_day[2]\n",
    "year, month, day"
   ],
   "metadata": {
    "collapsed": false,
    "pycharm": {
     "name": "#%%\n"
    }
   }
  },
  {
   "cell_type": "code",
   "execution_count": 57,
   "outputs": [],
   "source": [
    "time.sleep(5)"
   ],
   "metadata": {
    "collapsed": false,
    "pycharm": {
     "name": "#%%\n"
    }
   }
  },
  {
   "cell_type": "code",
   "execution_count": 8,
   "outputs": [
    {
     "ename": "OperationalError",
     "evalue": "connection to server at \"35.184.100.252\", port 5432 failed: Connection timed out (0x0000274C/10060)\n\tIs the server running on that host and accepting TCP/IP connections?\n",
     "output_type": "error",
     "traceback": [
      "\u001B[1;31m---------------------------------------------------------------------------\u001B[0m",
      "\u001B[1;31mOperationalError\u001B[0m                          Traceback (most recent call last)",
      "\u001B[1;32m~\\AppData\\Local\\Temp/ipykernel_11568/2166669207.py\u001B[0m in \u001B[0;36m<module>\u001B[1;34m\u001B[0m\n\u001B[1;32m----> 1\u001B[1;33m connection = psycopg2.connect(\n\u001B[0m\u001B[0;32m      2\u001B[0m             \u001B[0mhost\u001B[0m\u001B[1;33m=\u001B[0m\u001B[1;34m'35.184.100.252'\u001B[0m\u001B[1;33m,\u001B[0m\u001B[1;33m\u001B[0m\u001B[1;33m\u001B[0m\u001B[0m\n\u001B[0;32m      3\u001B[0m             \u001B[0muser\u001B[0m\u001B[1;33m=\u001B[0m\u001B[1;34m'postgres'\u001B[0m\u001B[1;33m,\u001B[0m\u001B[1;33m\u001B[0m\u001B[1;33m\u001B[0m\u001B[0m\n\u001B[0;32m      4\u001B[0m             \u001B[0mpassword\u001B[0m\u001B[1;33m=\u001B[0m\u001B[1;34m'jmgXK4xPXukY'\u001B[0m\u001B[1;33m,\u001B[0m\u001B[1;33m\u001B[0m\u001B[1;33m\u001B[0m\u001B[0m\n\u001B[0;32m      5\u001B[0m             \u001B[0mdatabase\u001B[0m\u001B[1;33m=\u001B[0m\u001B[1;34m'data_db'\u001B[0m\u001B[1;33m\u001B[0m\u001B[1;33m\u001B[0m\u001B[0m\n",
      "\u001B[1;32md:\\it\\pr\\mypython\\venv\\lib\\site-packages\\psycopg2\\__init__.py\u001B[0m in \u001B[0;36mconnect\u001B[1;34m(dsn, connection_factory, cursor_factory, **kwargs)\u001B[0m\n\u001B[0;32m    120\u001B[0m \u001B[1;33m\u001B[0m\u001B[0m\n\u001B[0;32m    121\u001B[0m     \u001B[0mdsn\u001B[0m \u001B[1;33m=\u001B[0m \u001B[0m_ext\u001B[0m\u001B[1;33m.\u001B[0m\u001B[0mmake_dsn\u001B[0m\u001B[1;33m(\u001B[0m\u001B[0mdsn\u001B[0m\u001B[1;33m,\u001B[0m \u001B[1;33m**\u001B[0m\u001B[0mkwargs\u001B[0m\u001B[1;33m)\u001B[0m\u001B[1;33m\u001B[0m\u001B[1;33m\u001B[0m\u001B[0m\n\u001B[1;32m--> 122\u001B[1;33m     \u001B[0mconn\u001B[0m \u001B[1;33m=\u001B[0m \u001B[0m_connect\u001B[0m\u001B[1;33m(\u001B[0m\u001B[0mdsn\u001B[0m\u001B[1;33m,\u001B[0m \u001B[0mconnection_factory\u001B[0m\u001B[1;33m=\u001B[0m\u001B[0mconnection_factory\u001B[0m\u001B[1;33m,\u001B[0m \u001B[1;33m**\u001B[0m\u001B[0mkwasync\u001B[0m\u001B[1;33m)\u001B[0m\u001B[1;33m\u001B[0m\u001B[1;33m\u001B[0m\u001B[0m\n\u001B[0m\u001B[0;32m    123\u001B[0m     \u001B[1;32mif\u001B[0m \u001B[0mcursor_factory\u001B[0m \u001B[1;32mis\u001B[0m \u001B[1;32mnot\u001B[0m \u001B[1;32mNone\u001B[0m\u001B[1;33m:\u001B[0m\u001B[1;33m\u001B[0m\u001B[1;33m\u001B[0m\u001B[0m\n\u001B[0;32m    124\u001B[0m         \u001B[0mconn\u001B[0m\u001B[1;33m.\u001B[0m\u001B[0mcursor_factory\u001B[0m \u001B[1;33m=\u001B[0m \u001B[0mcursor_factory\u001B[0m\u001B[1;33m\u001B[0m\u001B[1;33m\u001B[0m\u001B[0m\n",
      "\u001B[1;31mOperationalError\u001B[0m: connection to server at \"35.184.100.252\", port 5432 failed: Connection timed out (0x0000274C/10060)\n\tIs the server running on that host and accepting TCP/IP connections?\n"
     ]
    }
   ],
   "source": [
    "connection = psycopg2.connect(\n",
    "            host='35.184.100.252',\n",
    "            user='postgres',\n",
    "            password='jmgXK4xPXukY',\n",
    "            database='data_db'\n",
    "        )\n",
    "connection.autocommit = True\n",
    "\n",
    "cursor = connection.cursor()"
   ],
   "metadata": {
    "collapsed": false,
    "pycharm": {
     "name": "#%%\n"
    }
   }
  },
  {
   "cell_type": "code",
   "execution_count": null,
   "outputs": [],
   "source": [
    "year=2021\n",
    "month=12\n",
    "#day=7\n",
    "symbol_num=1\n",
    "\n",
    "katalog=f'{year}_{list_month[month]}'\n",
    "path = fr\"G:\\Общие диски\\Ci\\data_db_csv\\{katalog}\"\n",
    "# путь относительно текущего скрипта\n",
    "#os.mkdir(\"hello\")\n",
    "# абсолютный путь\n",
    "try:\n",
    "    os.mkdir(path)\n",
    "except:\n",
    "    pass\n",
    "#os.mkdir(\"c://somedir/hello\")\n",
    "\n",
    "while symbol_num<100:\n",
    "    try:\n",
    "            # connect to exist database\n",
    "        connection = psycopg2.connect(\n",
    "            host='35.184.100.252',\n",
    "            user='postgres',\n",
    "            password='jmgXK4xPXukY',\n",
    "            database='data_db'\n",
    "        )\n",
    "        connection.autocommit = True\n",
    "\n",
    "        cursor = connection.cursor()\n",
    "\n",
    "        cursor.execute(f'''SELECT datetimesecond, symbolnum, open_bid, high_bid, low_bid, close_bid, open_ask, high_ask, low_ask, close_ask\n",
    "        FROM mt_input_history.inputints1\n",
    "        where symbolnum={symbol_num}\n",
    "        and EXTRACT(YEAR FROM datetimesecond)={year}\n",
    "        and EXTRACT(month FROM datetimesecond)={month}\n",
    "        order by id asc''')\n",
    "\n",
    "        date_select = cursor.fetchall()\n",
    "        my_array = np.asarray (date_select)\n",
    "        df = pd.DataFrame(my_array, columns = ['datetimesecond','symbolnum','open_bid', 'high_bid', 'low_bid', 'close_bid',\n",
    "                                               'open_ask', 'high_ask', 'low_ask', 'close_ask'])\n",
    "        df = df.drop('symbolnum', axis=1)\n",
    "\n",
    "\n",
    "\n",
    "        save_as(df, symbol_num, year, month)\n",
    "    except Exception as _ex:\n",
    "        print(\"[INFO] Error while working with PostgreSQL\", _ex)\n",
    "    finally:\n",
    "        if connection:\n",
    "            # cursor.close()\n",
    "            connection.close()\n",
    "            print(\"[INFO] PostgreSQL connection closed\")\n",
    "\n",
    "    symbol_num=symbol_num+1"
   ],
   "metadata": {
    "collapsed": false,
    "pycharm": {
     "name": "#%%\n"
    }
   }
  },
  {
   "cell_type": "code",
   "execution_count": null,
   "outputs": [],
   "source": [],
   "metadata": {
    "collapsed": false,
    "pycharm": {
     "name": "#%%\n"
    }
   }
  }
 ],
 "metadata": {
  "kernelspec": {
   "display_name": "Python 3",
   "language": "python",
   "name": "python3"
  },
  "language_info": {
   "codemirror_mode": {
    "name": "ipython",
    "version": 2
   },
   "file_extension": ".py",
   "mimetype": "text/x-python",
   "name": "python",
   "nbconvert_exporter": "python",
   "pygments_lexer": "ipython2",
   "version": "2.7.6"
  }
 },
 "nbformat": 4,
 "nbformat_minor": 0
}